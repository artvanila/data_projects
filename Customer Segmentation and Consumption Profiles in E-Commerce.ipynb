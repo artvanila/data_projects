{
 "cells": [
  {
   "cell_type": "markdown",
   "metadata": {},
   "source": [
    "#  Identifying Consumer Profiles in E-commerce: Customer Segmentation for the Online Store \"Still Here for Now\""
   ]
  },
  {
   "cell_type": "markdown",
   "metadata": {},
   "source": [
    "## Introduction"
   ]
  },
  {
   "cell_type": "markdown",
   "metadata": {},
   "source": [
    "Segmentation of the audience is a key tool in the arsenal of marketers and data analytics specialists, enabling more precise adaptation of offerings to the needs and preferences of various consumer groups.\n",
    "\n",
    "In the context of growing competition and the rapid development of e-commerce, personalized offers have become a necessary condition for attracting and retaining customers. Proper segmentation allows businesses to provide their clients with more tailored products, services, or marketing messages, directly impacting conversion rates.\n",
    "\n",
    "This is particularly important in the digital space, where users expect a personalized approach, and customized offers increase their loyalty and purchase frequency."
   ]
  },
  {
   "cell_type": "markdown",
   "metadata": {},
   "source": [
    "The primary objective of this research is to provide a comprehensive analysis and recommendations to increase sales and customer loyalty for the \"Still Here for Now\" platform through segmented marketing.\n",
    "\n",
    "The outcome of our study will be a ready-to-use informational platform for creating targeted advertising campaigns, helping to boost sales, retain customers, and improve key business metrics. To achieve this, we will take the following steps:\n",
    "\n",
    "  - Conduct exploratory data analysis to identify patterns in customer purchases.\n",
    "  - Define customer segments based on their purchase history, focusing on product categories.\n",
    "  - Formulate and test statistical hypotheses about differences between the identified segments.\n",
    "  - Develop recommendations for:\n",
    "    - A more effective marketing strategy. Based on the analysis of customer segments, we will provide recommendations on which customers to target, when to send promotional offers, and which product categories to focus on.\n",
    "    - A sales growth strategy. We will propose ways to increase the volume of products sold within each segment.\n",
    "    - A loyalty enhancement strategy. We will suggest methods to improve customer retention for different segments."
   ]
  },
  {
   "cell_type": "markdown",
   "metadata": {},
   "source": [
    "To achieve the stated objectives, we have the dataset ecom_dataset_upd.csv at our disposal, which describes transactions for the home goods online store \"Still Here for Now.\" The dataset includes the following columns:\n",
    "\n",
    "    - date — the date of the order;\n",
    "    - customer_id — the customer identifier;\n",
    "    - order_id — the order identifier;\n",
    "    - product — the product name;\n",
    "    - quantity — the quantity of the product in the order;\n",
    "    - price — the price of the product."
   ]
  },
  {
   "cell_type": "markdown",
   "metadata": {},
   "source": [
    "Before starting the research, we will import the necessary libraries and create functions to be used in the project."
   ]
  },
  {
   "cell_type": "code",
   "execution_count": 2,
   "metadata": {},
   "outputs": [
    {
     "name": "stderr",
     "output_type": "stream",
     "text": [
      "[nltk_data] Downloading package stopwords to C:\\Users\\Артемий\n",
      "[nltk_data]     Иванилов\\AppData\\Roaming\\nltk_data...\n",
      "[nltk_data]   Package stopwords is already up-to-date!\n"
     ]
    }
   ],
   "source": [
    "import pandas as pd\n",
    "import numpy as np\n",
    "\n",
    "import nltk\n",
    "from nltk.corpus import stopwords\n",
    "nltk.download('stopwords')\n",
    "\n",
    "import re\n",
    "import pymorphy2\n",
    "\n",
    "import matplotlib.pyplot as plt\n",
    "import seaborn as sns\n",
    "\n",
    "from scipy import stats\n",
    "from statsmodels.stats.multitest import multipletests"
   ]
  },
  {
   "cell_type": "code",
   "execution_count": 3,
   "metadata": {},
   "outputs": [],
   "source": [
    "def primary_analysis(df):\n",
    "    \n",
    "    display(\"Information about the dataframe:\")\n",
    "    display(df.info())\n",
    "    \n",
    "    display(\"\\nFirst 5 rows of the dataframe:\")\n",
    "    display(df.head())\n",
    "    \n",
    "    display(\"\\nDescription of numerical columns:\")\n",
    "    display(df.describe())\n",
    "    \n",
    "    display(\"\\nNumber of duplicate entries in the dataset:\")\n",
    "    display(df.duplicated().sum())\n",
    "\n",
    "    display(\"\\nNumber of missing values in the dataset:\")\n",
    "    display(df.isna().sum())\n",
    "    \n",
    "    display(\"\\nFrequency distributions for categorical columns:\")\n",
    "   \n",
    "    for column in df.select_dtypes(include=['object', 'category']).columns:\n",
    "        display(f\"\\nColumn '{column}':\")\n",
    "        display(df[column].value_counts())"
   ]
  },
  {
   "cell_type": "code",
   "execution_count": 4,
   "metadata": {},
   "outputs": [],
   "source": [
    "def data_loss(df, df_raw, column_name='name'):\n",
    "    # Absolute loss\n",
    "    loss_absolute = df_raw[column_name].count() - df[column_name].count()\n",
    "\n",
    "    # Relative loss percentage\n",
    "    loss_relative = 100 - (df[column_name].count() / df_raw[column_name].count() * 100)\n",
    "    loss_relative = round(loss_relative, 2)\n",
    "\n",
    "    # Convert to string and add '%' symbol\n",
    "    loss_relative = str(loss_relative) + '%'\n",
    "\n",
    "    display(f'Absolute data loss in column {column_name}: {loss_absolute}')\n",
    "    display(f'Relative data loss in column {column_name}: {loss_relative}')"
   ]
  },
  {
   "cell_type": "code",
   "execution_count": 5,
   "metadata": {},
   "outputs": [],
   "source": [
    "def aggregate_weekly_data(df):\n",
    "    aggregated_data = df.groupby(['date', 'category']).agg(\n",
    "        purchases=('order_id', 'nunique'), \n",
    "        sales=('sales', 'sum')\n",
    "    ).reset_index()\n",
    "    \n",
    "    aggregated_data['week'] = aggregated_data['date'].dt.to_period('W').apply(lambda r: r.start_time)\n",
    "    \n",
    "    weekly_data = aggregated_data.groupby(['week', 'category']).sum().reset_index()\n",
    "    \n",
    "    return weekly_data"
   ]
  },
  {
   "cell_type": "markdown",
   "metadata": {},
   "source": [
    "## Data Preprocessing"
   ]
  },
  {
   "cell_type": "markdown",
   "metadata": {},
   "source": [
    "In data preprocessing, we will prepare the data for further analysis."
   ]
  },
  {
   "cell_type": "markdown",
   "metadata": {},
   "source": [
    "### Introduction to Data"
   ]
  },
  {
   "cell_type": "markdown",
   "metadata": {},
   "source": [
    "First, let's load the data."
   ]
  },
  {
   "cell_type": "code",
   "execution_count": 6,
   "metadata": {},
   "outputs": [],
   "source": [
    "try:\n",
    "    df = pd.read_csv('/datasets/ecom_dataset_upd.csv')\n",
    "except:\n",
    "    df = pd.read_csv('https://code.s3.yandex.net/datasets/ecom_dataset_upd.csv')"
   ]
  },
  {
   "cell_type": "code",
   "execution_count": 7,
   "metadata": {},
   "outputs": [],
   "source": [
    "# We will also define a variable to calculate the data loss indicator\n",
    "\n",
    "try:\n",
    "    df_raw = pd.read_csv('/datasets/ecom_dataset_upd.csv')\n",
    "except:\n",
    "    df_raw = pd.read_csv('https://code.s3.yandex.net/datasets/ecom_dataset_upd.csv')"
   ]
  },
  {
   "cell_type": "markdown",
   "metadata": {},
   "source": [
    "Let's get acquainted with the main characteristics of the data using the primary_analysis() function."
   ]
  },
  {
   "cell_type": "markdown",
   "metadata": {},
   "source": [
    "We will immediately introduce a new column — 'sales', where we multiply the price by the quantity of products sold. This variable will be used for analyzing outliers in the purchase receipt."
   ]
  },
  {
   "cell_type": "code",
   "execution_count": 8,
   "metadata": {},
   "outputs": [],
   "source": [
    "df['sales'] = df['quantity'] * df['price']"
   ]
  },
  {
   "cell_type": "code",
   "execution_count": 9,
   "metadata": {},
   "outputs": [
    {
     "data": {
      "text/plain": [
       "'Information about the dataframe:'"
      ]
     },
     "metadata": {},
     "output_type": "display_data"
    },
    {
     "name": "stdout",
     "output_type": "stream",
     "text": [
      "<class 'pandas.core.frame.DataFrame'>\n",
      "RangeIndex: 7474 entries, 0 to 7473\n",
      "Data columns (total 7 columns):\n",
      " #   Column       Non-Null Count  Dtype  \n",
      "---  ------       --------------  -----  \n",
      " 0   date         7474 non-null   int64  \n",
      " 1   customer_id  7474 non-null   object \n",
      " 2   order_id     7474 non-null   int64  \n",
      " 3   product      7474 non-null   object \n",
      " 4   quantity     7474 non-null   int64  \n",
      " 5   price        7474 non-null   float64\n",
      " 6   sales        7474 non-null   float64\n",
      "dtypes: float64(2), int64(3), object(2)\n",
      "memory usage: 408.9+ KB\n"
     ]
    },
    {
     "data": {
      "text/plain": [
       "None"
      ]
     },
     "metadata": {},
     "output_type": "display_data"
    },
    {
     "data": {
      "text/plain": [
       "'\\nFirst 5 rows of the dataframe:'"
      ]
     },
     "metadata": {},
     "output_type": "display_data"
    },
    {
     "data": {
      "text/html": [
       "<div>\n",
       "<style scoped>\n",
       "    .dataframe tbody tr th:only-of-type {\n",
       "        vertical-align: middle;\n",
       "    }\n",
       "\n",
       "    .dataframe tbody tr th {\n",
       "        vertical-align: top;\n",
       "    }\n",
       "\n",
       "    .dataframe thead th {\n",
       "        text-align: right;\n",
       "    }\n",
       "</style>\n",
       "<table border=\"1\" class=\"dataframe\">\n",
       "  <thead>\n",
       "    <tr style=\"text-align: right;\">\n",
       "      <th></th>\n",
       "      <th>date</th>\n",
       "      <th>customer_id</th>\n",
       "      <th>order_id</th>\n",
       "      <th>product</th>\n",
       "      <th>quantity</th>\n",
       "      <th>price</th>\n",
       "      <th>sales</th>\n",
       "    </tr>\n",
       "  </thead>\n",
       "  <tbody>\n",
       "    <tr>\n",
       "      <th>0</th>\n",
       "      <td>2018100100</td>\n",
       "      <td>ee47d746-6d2f-4d3c-9622-c31412542920</td>\n",
       "      <td>68477</td>\n",
       "      <td>Комнатное растение в горшке Алое Вера, d12, h30</td>\n",
       "      <td>1</td>\n",
       "      <td>142.0</td>\n",
       "      <td>142.0</td>\n",
       "    </tr>\n",
       "    <tr>\n",
       "      <th>1</th>\n",
       "      <td>2018100100</td>\n",
       "      <td>ee47d746-6d2f-4d3c-9622-c31412542920</td>\n",
       "      <td>68477</td>\n",
       "      <td>Комнатное растение в горшке Кофе Арабика, d12,...</td>\n",
       "      <td>1</td>\n",
       "      <td>194.0</td>\n",
       "      <td>194.0</td>\n",
       "    </tr>\n",
       "    <tr>\n",
       "      <th>2</th>\n",
       "      <td>2018100100</td>\n",
       "      <td>ee47d746-6d2f-4d3c-9622-c31412542920</td>\n",
       "      <td>68477</td>\n",
       "      <td>Радермахера d-12 см h-20 см</td>\n",
       "      <td>1</td>\n",
       "      <td>112.0</td>\n",
       "      <td>112.0</td>\n",
       "    </tr>\n",
       "    <tr>\n",
       "      <th>3</th>\n",
       "      <td>2018100100</td>\n",
       "      <td>ee47d746-6d2f-4d3c-9622-c31412542920</td>\n",
       "      <td>68477</td>\n",
       "      <td>Хризолидокарпус Лутесценс d-9 см</td>\n",
       "      <td>1</td>\n",
       "      <td>179.0</td>\n",
       "      <td>179.0</td>\n",
       "    </tr>\n",
       "    <tr>\n",
       "      <th>4</th>\n",
       "      <td>2018100100</td>\n",
       "      <td>ee47d746-6d2f-4d3c-9622-c31412542920</td>\n",
       "      <td>68477</td>\n",
       "      <td>Циперус Зумула d-12 см h-25 см</td>\n",
       "      <td>1</td>\n",
       "      <td>112.0</td>\n",
       "      <td>112.0</td>\n",
       "    </tr>\n",
       "  </tbody>\n",
       "</table>\n",
       "</div>"
      ],
      "text/plain": [
       "         date                           customer_id  order_id  \\\n",
       "0  2018100100  ee47d746-6d2f-4d3c-9622-c31412542920     68477   \n",
       "1  2018100100  ee47d746-6d2f-4d3c-9622-c31412542920     68477   \n",
       "2  2018100100  ee47d746-6d2f-4d3c-9622-c31412542920     68477   \n",
       "3  2018100100  ee47d746-6d2f-4d3c-9622-c31412542920     68477   \n",
       "4  2018100100  ee47d746-6d2f-4d3c-9622-c31412542920     68477   \n",
       "\n",
       "                                             product  quantity  price  sales  \n",
       "0    Комнатное растение в горшке Алое Вера, d12, h30         1  142.0  142.0  \n",
       "1  Комнатное растение в горшке Кофе Арабика, d12,...         1  194.0  194.0  \n",
       "2                        Радермахера d-12 см h-20 см         1  112.0  112.0  \n",
       "3                   Хризолидокарпус Лутесценс d-9 см         1  179.0  179.0  \n",
       "4                     Циперус Зумула d-12 см h-25 см         1  112.0  112.0  "
      ]
     },
     "metadata": {},
     "output_type": "display_data"
    },
    {
     "data": {
      "text/plain": [
       "'\\nDescription of numerical columns:'"
      ]
     },
     "metadata": {},
     "output_type": "display_data"
    },
    {
     "data": {
      "text/html": [
       "<div>\n",
       "<style scoped>\n",
       "    .dataframe tbody tr th:only-of-type {\n",
       "        vertical-align: middle;\n",
       "    }\n",
       "\n",
       "    .dataframe tbody tr th {\n",
       "        vertical-align: top;\n",
       "    }\n",
       "\n",
       "    .dataframe thead th {\n",
       "        text-align: right;\n",
       "    }\n",
       "</style>\n",
       "<table border=\"1\" class=\"dataframe\">\n",
       "  <thead>\n",
       "    <tr style=\"text-align: right;\">\n",
       "      <th></th>\n",
       "      <th>date</th>\n",
       "      <th>order_id</th>\n",
       "      <th>quantity</th>\n",
       "      <th>price</th>\n",
       "      <th>sales</th>\n",
       "    </tr>\n",
       "  </thead>\n",
       "  <tbody>\n",
       "    <tr>\n",
       "      <th>count</th>\n",
       "      <td>7.474000e+03</td>\n",
       "      <td>7474.000000</td>\n",
       "      <td>7474.000000</td>\n",
       "      <td>7474.000000</td>\n",
       "      <td>7474.000000</td>\n",
       "    </tr>\n",
       "    <tr>\n",
       "      <th>mean</th>\n",
       "      <td>2.018913e+09</td>\n",
       "      <td>49449.884265</td>\n",
       "      <td>2.362858</td>\n",
       "      <td>478.737501</td>\n",
       "      <td>716.877765</td>\n",
       "    </tr>\n",
       "    <tr>\n",
       "      <th>std</th>\n",
       "      <td>4.278878e+05</td>\n",
       "      <td>32679.642404</td>\n",
       "      <td>14.500497</td>\n",
       "      <td>901.615895</td>\n",
       "      <td>7939.831129</td>\n",
       "    </tr>\n",
       "    <tr>\n",
       "      <th>min</th>\n",
       "      <td>2.018100e+09</td>\n",
       "      <td>12624.000000</td>\n",
       "      <td>1.000000</td>\n",
       "      <td>9.000000</td>\n",
       "      <td>9.000000</td>\n",
       "    </tr>\n",
       "    <tr>\n",
       "      <th>25%</th>\n",
       "      <td>2.019022e+09</td>\n",
       "      <td>14833.000000</td>\n",
       "      <td>1.000000</td>\n",
       "      <td>97.000000</td>\n",
       "      <td>120.000000</td>\n",
       "    </tr>\n",
       "    <tr>\n",
       "      <th>50%</th>\n",
       "      <td>2.019051e+09</td>\n",
       "      <td>68768.000000</td>\n",
       "      <td>1.000000</td>\n",
       "      <td>135.000000</td>\n",
       "      <td>164.000000</td>\n",
       "    </tr>\n",
       "    <tr>\n",
       "      <th>75%</th>\n",
       "      <td>2.019063e+09</td>\n",
       "      <td>71257.750000</td>\n",
       "      <td>1.000000</td>\n",
       "      <td>439.000000</td>\n",
       "      <td>614.000000</td>\n",
       "    </tr>\n",
       "    <tr>\n",
       "      <th>max</th>\n",
       "      <td>2.020013e+09</td>\n",
       "      <td>112789.000000</td>\n",
       "      <td>1000.000000</td>\n",
       "      <td>14917.000000</td>\n",
       "      <td>675000.000000</td>\n",
       "    </tr>\n",
       "  </tbody>\n",
       "</table>\n",
       "</div>"
      ],
      "text/plain": [
       "               date       order_id     quantity         price          sales\n",
       "count  7.474000e+03    7474.000000  7474.000000   7474.000000    7474.000000\n",
       "mean   2.018913e+09   49449.884265     2.362858    478.737501     716.877765\n",
       "std    4.278878e+05   32679.642404    14.500497    901.615895    7939.831129\n",
       "min    2.018100e+09   12624.000000     1.000000      9.000000       9.000000\n",
       "25%    2.019022e+09   14833.000000     1.000000     97.000000     120.000000\n",
       "50%    2.019051e+09   68768.000000     1.000000    135.000000     164.000000\n",
       "75%    2.019063e+09   71257.750000     1.000000    439.000000     614.000000\n",
       "max    2.020013e+09  112789.000000  1000.000000  14917.000000  675000.000000"
      ]
     },
     "metadata": {},
     "output_type": "display_data"
    },
    {
     "data": {
      "text/plain": [
       "'\\nNumber of duplicate entries in the dataset:'"
      ]
     },
     "metadata": {},
     "output_type": "display_data"
    },
    {
     "data": {
      "text/plain": [
       "np.int64(0)"
      ]
     },
     "metadata": {},
     "output_type": "display_data"
    },
    {
     "data": {
      "text/plain": [
       "'\\nNumber of missing values in the dataset:'"
      ]
     },
     "metadata": {},
     "output_type": "display_data"
    },
    {
     "data": {
      "text/plain": [
       "date           0\n",
       "customer_id    0\n",
       "order_id       0\n",
       "product        0\n",
       "quantity       0\n",
       "price          0\n",
       "sales          0\n",
       "dtype: int64"
      ]
     },
     "metadata": {},
     "output_type": "display_data"
    },
    {
     "data": {
      "text/plain": [
       "'\\nFrequency distributions for categorical columns:'"
      ]
     },
     "metadata": {},
     "output_type": "display_data"
    },
    {
     "data": {
      "text/plain": [
       "\"\\nColumn 'customer_id':\""
      ]
     },
     "metadata": {},
     "output_type": "display_data"
    },
    {
     "data": {
      "text/plain": [
       "customer_id\n",
       "1d6c8c1f-a799-4418-9af2-1ded47d7a85c    888\n",
       "db77c238-3c80-4032-9e3c-c30a43f4a650    203\n",
       "c971fb21-d54c-4134-938f-16b62ee86d3b    144\n",
       "3d5fef90-4a65-4a7e-84cf-010eba7b038d     90\n",
       "42d3cb27-6519-4627-9b4a-5aa8ee600203     63\n",
       "                                       ... \n",
       "dea8ce52-7121-4451-8f88-e9ca2f947a5c      1\n",
       "721c933c-ef2d-4ee4-91d1-424e8849a332      1\n",
       "14cc96d3-7d14-4e84-9c15-76e57b642c72      1\n",
       "c4575235-22e1-4552-8282-34ef61607d92      1\n",
       "1bbf772b-3027-44ea-af8a-e66c17c08c2e      1\n",
       "Name: count, Length: 2451, dtype: int64"
      ]
     },
     "metadata": {},
     "output_type": "display_data"
    },
    {
     "data": {
      "text/plain": [
       "\"\\nColumn 'product':\""
      ]
     },
     "metadata": {},
     "output_type": "display_data"
    },
    {
     "data": {
      "text/plain": [
       "product\n",
       "Рассада Кабачка сорт Зебра кассета 6 шт E6                                                79\n",
       "Рассада Кабачка сорт Золотинка кассета 6 шт E6                                            78\n",
       "Рассада Кабачка сорт Белогор кассета 6 шт E6                                              77\n",
       "Пеларгония розебудная Red Pandora укорененный черенок                                     77\n",
       "Рассада Кабачка сорт Аэронавт, кассета по 6шт                                             76\n",
       "                                                                                          ..\n",
       "Муляж Лимон мини на магните                                                                1\n",
       "Стремянка 7 ступенчатая Hailo 8040-707 XXL 13 см алюминиевая с лотком для инструментов     1\n",
       "Контейнер для мусора FLIP BIN CURVER 25 л графитовый 02171-686-00                          1\n",
       "Муляж Лимон, желтый, 9 см, полиуретан, Fancy Fair/ff NM90                                  1\n",
       "Муляж Перец, красный, 10 см, полиуретан, Fancy Fair/ff RP8                                 1\n",
       "Name: count, Length: 2343, dtype: int64"
      ]
     },
     "metadata": {},
     "output_type": "display_data"
    }
   ],
   "source": [
    "primary_analysis(df)"
   ]
  },
  {
   "cell_type": "markdown",
   "metadata": {},
   "source": [
    "\n",
    "The study involves data from 7,474 transactions of an online store. At first glance, the dataframe does not contain any rows with missing values, and the column names are correct.\n",
    "\n",
    "The date column contains 7,474 non-null values in the int64 format. However, given the nature of the data, it is recommended to convert it to the datetime64 format. This change will be made in the next step of the analysis.\n",
    "\n",
    "It would be incorrect to trim outliers in the quantity and price columns, as this would result in the loss of the most expensive items from the analysis and reduce the number of transactions. Outliers should be examined based on the total purchase amount, with their boundaries calculated using the interquartile range (1.5 * IQR). Work with anomalous values will continue in the following sections of data preprocessing.\n",
    "\n",
    "There are no exact duplicates in the dataset, but partial or implicit duplicates cannot be ruled out. This issue will be addressed in the later stages of data preprocessing.\n",
    "\n",
    "As for the categorical columns, there are already some interesting observations that will be further explored in the exploratory data analysis. For example:\n",
    "\n",
    "- The top-5 customers account for 18.5% of all transactions. Notably, customer 1d6c8c1f-a799-4418-9af2-1ded47d7a85c alone accounts for nearly 12% of all purchases.\n",
    "- The top-5 products include 4 different types of seedlings, 3 of which are zucchini seedlings of various varieties.\n",
    "\n",
    "In other respects, the data appears normal. Let's take these observations and move on to the data preprocessing phase, where we will:\n",
    "\n",
    "- Examine missing values in more detail\n",
    "- Change the data types to the appropriate ones\n",
    "- Analyze duplicates further\n",
    "- Handle outliers\n",
    "- Add a column for product categories\n",
    "- Assess data loss in case rows need to be deleted from the dataframe"
   ]
  },
  {
   "cell_type": "markdown",
   "metadata": {},
   "source": [
    "### Missing Values"
   ]
  },
  {
   "cell_type": "markdown",
   "metadata": {},
   "source": [
    "A superficial check using the df.isna().sum() method showed that there are no missing values in the data. The description of numerical and categorical columns also confirms the absence of gaps in the data. As a final check, let's verify if there are any special characters such as \"N/A\", \"NULL\", \"NA\", etc., that may represent missing values in our dataset."
   ]
  },
  {
   "cell_type": "code",
   "execution_count": 10,
   "metadata": {},
   "outputs": [
    {
     "data": {
      "text/plain": [
       "date           0.0\n",
       "customer_id      0\n",
       "order_id       0.0\n",
       "product          0\n",
       "quantity       0.0\n",
       "price          0.0\n",
       "sales          0.0\n",
       "dtype: object"
      ]
     },
     "execution_count": 10,
     "metadata": {},
     "output_type": "execute_result"
    }
   ],
   "source": [
    "df[df.isin(['N/A', 'NA', 'null', 'NULL', 'none', 'None'])].sum()"
   ]
  },
  {
   "cell_type": "markdown",
   "metadata": {},
   "source": [
    "There are no such values, meaning we have the complete data."
   ]
  },
  {
   "cell_type": "markdown",
   "metadata": {},
   "source": [
    "### Data Type Alignment"
   ]
  },
  {
   "cell_type": "markdown",
   "metadata": {},
   "source": [
    "We will change the data type of the date column from int64 to datetime64."
   ]
  },
  {
   "cell_type": "code",
   "execution_count": 11,
   "metadata": {},
   "outputs": [],
   "source": [
    "df['date'] = pd.to_datetime(df['date'], format='%Y%m%d%H')"
   ]
  },
  {
   "cell_type": "code",
   "execution_count": 12,
   "metadata": {},
   "outputs": [
    {
     "name": "stdout",
     "output_type": "stream",
     "text": [
      "<class 'pandas.core.frame.DataFrame'>\n",
      "RangeIndex: 7474 entries, 0 to 7473\n",
      "Data columns (total 7 columns):\n",
      " #   Column       Non-Null Count  Dtype         \n",
      "---  ------       --------------  -----         \n",
      " 0   date         7474 non-null   datetime64[ns]\n",
      " 1   customer_id  7474 non-null   object        \n",
      " 2   order_id     7474 non-null   int64         \n",
      " 3   product      7474 non-null   object        \n",
      " 4   quantity     7474 non-null   int64         \n",
      " 5   price        7474 non-null   float64       \n",
      " 6   sales        7474 non-null   float64       \n",
      "dtypes: datetime64[ns](1), float64(2), int64(2), object(2)\n",
      "memory usage: 408.9+ KB\n"
     ]
    }
   ],
   "source": [
    "df.info()"
   ]
  },
  {
   "cell_type": "code",
   "execution_count": 13,
   "metadata": {},
   "outputs": [
    {
     "data": {
      "text/html": [
       "<div>\n",
       "<style scoped>\n",
       "    .dataframe tbody tr th:only-of-type {\n",
       "        vertical-align: middle;\n",
       "    }\n",
       "\n",
       "    .dataframe tbody tr th {\n",
       "        vertical-align: top;\n",
       "    }\n",
       "\n",
       "    .dataframe thead th {\n",
       "        text-align: right;\n",
       "    }\n",
       "</style>\n",
       "<table border=\"1\" class=\"dataframe\">\n",
       "  <thead>\n",
       "    <tr style=\"text-align: right;\">\n",
       "      <th></th>\n",
       "      <th>date</th>\n",
       "      <th>customer_id</th>\n",
       "      <th>order_id</th>\n",
       "      <th>product</th>\n",
       "      <th>quantity</th>\n",
       "      <th>price</th>\n",
       "      <th>sales</th>\n",
       "    </tr>\n",
       "  </thead>\n",
       "  <tbody>\n",
       "    <tr>\n",
       "      <th>0</th>\n",
       "      <td>2018-10-01</td>\n",
       "      <td>ee47d746-6d2f-4d3c-9622-c31412542920</td>\n",
       "      <td>68477</td>\n",
       "      <td>Комнатное растение в горшке Алое Вера, d12, h30</td>\n",
       "      <td>1</td>\n",
       "      <td>142.0</td>\n",
       "      <td>142.0</td>\n",
       "    </tr>\n",
       "    <tr>\n",
       "      <th>1</th>\n",
       "      <td>2018-10-01</td>\n",
       "      <td>ee47d746-6d2f-4d3c-9622-c31412542920</td>\n",
       "      <td>68477</td>\n",
       "      <td>Комнатное растение в горшке Кофе Арабика, d12,...</td>\n",
       "      <td>1</td>\n",
       "      <td>194.0</td>\n",
       "      <td>194.0</td>\n",
       "    </tr>\n",
       "    <tr>\n",
       "      <th>2</th>\n",
       "      <td>2018-10-01</td>\n",
       "      <td>ee47d746-6d2f-4d3c-9622-c31412542920</td>\n",
       "      <td>68477</td>\n",
       "      <td>Радермахера d-12 см h-20 см</td>\n",
       "      <td>1</td>\n",
       "      <td>112.0</td>\n",
       "      <td>112.0</td>\n",
       "    </tr>\n",
       "    <tr>\n",
       "      <th>3</th>\n",
       "      <td>2018-10-01</td>\n",
       "      <td>ee47d746-6d2f-4d3c-9622-c31412542920</td>\n",
       "      <td>68477</td>\n",
       "      <td>Хризолидокарпус Лутесценс d-9 см</td>\n",
       "      <td>1</td>\n",
       "      <td>179.0</td>\n",
       "      <td>179.0</td>\n",
       "    </tr>\n",
       "    <tr>\n",
       "      <th>4</th>\n",
       "      <td>2018-10-01</td>\n",
       "      <td>ee47d746-6d2f-4d3c-9622-c31412542920</td>\n",
       "      <td>68477</td>\n",
       "      <td>Циперус Зумула d-12 см h-25 см</td>\n",
       "      <td>1</td>\n",
       "      <td>112.0</td>\n",
       "      <td>112.0</td>\n",
       "    </tr>\n",
       "  </tbody>\n",
       "</table>\n",
       "</div>"
      ],
      "text/plain": [
       "        date                           customer_id  order_id  \\\n",
       "0 2018-10-01  ee47d746-6d2f-4d3c-9622-c31412542920     68477   \n",
       "1 2018-10-01  ee47d746-6d2f-4d3c-9622-c31412542920     68477   \n",
       "2 2018-10-01  ee47d746-6d2f-4d3c-9622-c31412542920     68477   \n",
       "3 2018-10-01  ee47d746-6d2f-4d3c-9622-c31412542920     68477   \n",
       "4 2018-10-01  ee47d746-6d2f-4d3c-9622-c31412542920     68477   \n",
       "\n",
       "                                             product  quantity  price  sales  \n",
       "0    Комнатное растение в горшке Алое Вера, d12, h30         1  142.0  142.0  \n",
       "1  Комнатное растение в горшке Кофе Арабика, d12,...         1  194.0  194.0  \n",
       "2                        Радермахера d-12 см h-20 см         1  112.0  112.0  \n",
       "3                   Хризолидокарпус Лутесценс d-9 см         1  179.0  179.0  \n",
       "4                     Циперус Зумула d-12 см h-25 см         1  112.0  112.0  "
      ]
     },
     "execution_count": 13,
     "metadata": {},
     "output_type": "execute_result"
    }
   ],
   "source": [
    "df.head()"
   ]
  },
  {
   "cell_type": "markdown",
   "metadata": {},
   "source": [
    "All the other data types are in place, so we can move on. "
   ]
  },
  {
   "cell_type": "markdown",
   "metadata": {},
   "source": [
    "### Duplicates"
   ]
  },
  {
   "cell_type": "markdown",
   "metadata": {},
   "source": [
    "Based on the analysis above, we can conclude that there are no exact duplicates in the data. However, let's check for partial duplicates by trying to find matches based on the fields 'customer_id', 'order_id', and 'product'."
   ]
  },
  {
   "cell_type": "code",
   "execution_count": 14,
   "metadata": {},
   "outputs": [
    {
     "data": {
      "text/html": [
       "<div>\n",
       "<style scoped>\n",
       "    .dataframe tbody tr th:only-of-type {\n",
       "        vertical-align: middle;\n",
       "    }\n",
       "\n",
       "    .dataframe tbody tr th {\n",
       "        vertical-align: top;\n",
       "    }\n",
       "\n",
       "    .dataframe thead th {\n",
       "        text-align: right;\n",
       "    }\n",
       "</style>\n",
       "<table border=\"1\" class=\"dataframe\">\n",
       "  <thead>\n",
       "    <tr style=\"text-align: right;\">\n",
       "      <th></th>\n",
       "      <th>date</th>\n",
       "      <th>customer_id</th>\n",
       "      <th>order_id</th>\n",
       "      <th>product</th>\n",
       "      <th>quantity</th>\n",
       "      <th>price</th>\n",
       "      <th>sales</th>\n",
       "    </tr>\n",
       "  </thead>\n",
       "  <tbody>\n",
       "    <tr>\n",
       "      <th>58</th>\n",
       "      <td>2018-10-02 18:00:00</td>\n",
       "      <td>b731df05-98fa-4610-8496-716ec530a02c</td>\n",
       "      <td>68474</td>\n",
       "      <td>Доска гладильная Eurogold Professional 130х48 ...</td>\n",
       "      <td>1</td>\n",
       "      <td>3299.0</td>\n",
       "      <td>3299.0</td>\n",
       "    </tr>\n",
       "    <tr>\n",
       "      <th>59</th>\n",
       "      <td>2018-10-02 19:00:00</td>\n",
       "      <td>b731df05-98fa-4610-8496-716ec530a02c</td>\n",
       "      <td>68474</td>\n",
       "      <td>Доска гладильная Eurogold Professional 130х48 ...</td>\n",
       "      <td>1</td>\n",
       "      <td>3299.0</td>\n",
       "      <td>3299.0</td>\n",
       "    </tr>\n",
       "    <tr>\n",
       "      <th>60</th>\n",
       "      <td>2018-10-02 20:00:00</td>\n",
       "      <td>b731df05-98fa-4610-8496-716ec530a02c</td>\n",
       "      <td>68474</td>\n",
       "      <td>Доска гладильная Eurogold Professional 130х48 ...</td>\n",
       "      <td>1</td>\n",
       "      <td>3299.0</td>\n",
       "      <td>3299.0</td>\n",
       "    </tr>\n",
       "    <tr>\n",
       "      <th>63</th>\n",
       "      <td>2018-10-03 04:00:00</td>\n",
       "      <td>b731df05-98fa-4610-8496-716ec530a02c</td>\n",
       "      <td>68474</td>\n",
       "      <td>Доска гладильная Eurogold Professional 130х48 ...</td>\n",
       "      <td>1</td>\n",
       "      <td>3299.0</td>\n",
       "      <td>3299.0</td>\n",
       "    </tr>\n",
       "    <tr>\n",
       "      <th>94</th>\n",
       "      <td>2018-10-04 13:00:00</td>\n",
       "      <td>32de7df8-8d4f-4c84-a7b9-c41d00dd83ba</td>\n",
       "      <td>68522</td>\n",
       "      <td>Эвкалипт Гунни d-17 см h-60 см</td>\n",
       "      <td>1</td>\n",
       "      <td>1409.0</td>\n",
       "      <td>1409.0</td>\n",
       "    </tr>\n",
       "    <tr>\n",
       "      <th>126</th>\n",
       "      <td>2018-10-07 17:00:00</td>\n",
       "      <td>ce0e0c29-8c8b-4714-84bd-80957224d4cf</td>\n",
       "      <td>68557</td>\n",
       "      <td>Сумка-тележка хозяйственная Gimi Market синяя</td>\n",
       "      <td>1</td>\n",
       "      <td>1874.0</td>\n",
       "      <td>1874.0</td>\n",
       "    </tr>\n",
       "    <tr>\n",
       "      <th>147</th>\n",
       "      <td>2018-10-08 19:00:00</td>\n",
       "      <td>3de09660-90bc-4a28-aaf1-34c8435fe59c</td>\n",
       "      <td>68574</td>\n",
       "      <td>Таз пластмассовый 15,0 л пищевой овальный \"Ekk...</td>\n",
       "      <td>1</td>\n",
       "      <td>209.0</td>\n",
       "      <td>209.0</td>\n",
       "    </tr>\n",
       "    <tr>\n",
       "      <th>148</th>\n",
       "      <td>2018-10-08 19:00:00</td>\n",
       "      <td>3de09660-90bc-4a28-aaf1-34c8435fe59c</td>\n",
       "      <td>68574</td>\n",
       "      <td>Таз пластмассовый 18,0 л пищевой (Иж), 1404047</td>\n",
       "      <td>1</td>\n",
       "      <td>194.0</td>\n",
       "      <td>194.0</td>\n",
       "    </tr>\n",
       "    <tr>\n",
       "      <th>149</th>\n",
       "      <td>2018-10-08 19:00:00</td>\n",
       "      <td>3de09660-90bc-4a28-aaf1-34c8435fe59c</td>\n",
       "      <td>68574</td>\n",
       "      <td>Таз пластмассовый 20,0 л пищевой (Минеральные ...</td>\n",
       "      <td>1</td>\n",
       "      <td>277.0</td>\n",
       "      <td>277.0</td>\n",
       "    </tr>\n",
       "    <tr>\n",
       "      <th>150</th>\n",
       "      <td>2018-10-08 19:00:00</td>\n",
       "      <td>3de09660-90bc-4a28-aaf1-34c8435fe59c</td>\n",
       "      <td>68574</td>\n",
       "      <td>Таз пластмассовый 24,0 л пищевой круглый (Иж),...</td>\n",
       "      <td>1</td>\n",
       "      <td>239.0</td>\n",
       "      <td>239.0</td>\n",
       "    </tr>\n",
       "    <tr>\n",
       "      <th>152</th>\n",
       "      <td>2018-10-09 06:00:00</td>\n",
       "      <td>3de09660-90bc-4a28-aaf1-34c8435fe59c</td>\n",
       "      <td>68574</td>\n",
       "      <td>Таз пластмассовый 15,0 л пищевой овальный \"Ekk...</td>\n",
       "      <td>1</td>\n",
       "      <td>209.0</td>\n",
       "      <td>209.0</td>\n",
       "    </tr>\n",
       "    <tr>\n",
       "      <th>153</th>\n",
       "      <td>2018-10-09 06:00:00</td>\n",
       "      <td>3de09660-90bc-4a28-aaf1-34c8435fe59c</td>\n",
       "      <td>68574</td>\n",
       "      <td>Таз пластмассовый 18,0 л пищевой (Иж), 1404047</td>\n",
       "      <td>1</td>\n",
       "      <td>194.0</td>\n",
       "      <td>194.0</td>\n",
       "    </tr>\n",
       "    <tr>\n",
       "      <th>154</th>\n",
       "      <td>2018-10-09 06:00:00</td>\n",
       "      <td>3de09660-90bc-4a28-aaf1-34c8435fe59c</td>\n",
       "      <td>68574</td>\n",
       "      <td>Таз пластмассовый 20,0 л пищевой (Минеральные ...</td>\n",
       "      <td>1</td>\n",
       "      <td>277.0</td>\n",
       "      <td>277.0</td>\n",
       "    </tr>\n",
       "    <tr>\n",
       "      <th>155</th>\n",
       "      <td>2018-10-09 06:00:00</td>\n",
       "      <td>3de09660-90bc-4a28-aaf1-34c8435fe59c</td>\n",
       "      <td>68574</td>\n",
       "      <td>Таз пластмассовый 24,0 л пищевой круглый (Иж),...</td>\n",
       "      <td>1</td>\n",
       "      <td>239.0</td>\n",
       "      <td>239.0</td>\n",
       "    </tr>\n",
       "    <tr>\n",
       "      <th>266</th>\n",
       "      <td>2018-10-16 08:00:00</td>\n",
       "      <td>cd09ea73-d9ce-48c3-b4c5-018113735e80</td>\n",
       "      <td>68611</td>\n",
       "      <td>Крепеж для пружины дверной, 1107055</td>\n",
       "      <td>150</td>\n",
       "      <td>19.0</td>\n",
       "      <td>2850.0</td>\n",
       "    </tr>\n",
       "    <tr>\n",
       "      <th>267</th>\n",
       "      <td>2018-10-16 08:00:00</td>\n",
       "      <td>cd09ea73-d9ce-48c3-b4c5-018113735e80</td>\n",
       "      <td>68611</td>\n",
       "      <td>Пружина дверная 240 мм оцинкованная (Д-19 мм) ...</td>\n",
       "      <td>150</td>\n",
       "      <td>38.0</td>\n",
       "      <td>5700.0</td>\n",
       "    </tr>\n",
       "    <tr>\n",
       "      <th>270</th>\n",
       "      <td>2018-10-16 13:00:00</td>\n",
       "      <td>fe2c35d8-a51a-45f3-bd85-27490d1d947a</td>\n",
       "      <td>68647</td>\n",
       "      <td>Сушилка для белья потолочно-настенная Gimi Lif...</td>\n",
       "      <td>1</td>\n",
       "      <td>2174.0</td>\n",
       "      <td>2174.0</td>\n",
       "    </tr>\n",
       "    <tr>\n",
       "      <th>271</th>\n",
       "      <td>2018-10-16 13:00:00</td>\n",
       "      <td>fe2c35d8-a51a-45f3-bd85-27490d1d947a</td>\n",
       "      <td>68647</td>\n",
       "      <td>Сушилка для белья Gimi Lampo</td>\n",
       "      <td>1</td>\n",
       "      <td>224.0</td>\n",
       "      <td>224.0</td>\n",
       "    </tr>\n",
       "    <tr>\n",
       "      <th>273</th>\n",
       "      <td>2018-10-16 17:00:00</td>\n",
       "      <td>17213b88-1514-47a4-b8aa-ce51378ab34e</td>\n",
       "      <td>68476</td>\n",
       "      <td>Мини-сковорода Marmiton \"Сердце\" с антипригарн...</td>\n",
       "      <td>1</td>\n",
       "      <td>239.0</td>\n",
       "      <td>239.0</td>\n",
       "    </tr>\n",
       "    <tr>\n",
       "      <th>274</th>\n",
       "      <td>2018-10-16 17:00:00</td>\n",
       "      <td>17213b88-1514-47a4-b8aa-ce51378ab34e</td>\n",
       "      <td>68476</td>\n",
       "      <td>Сковорода алюминиевая с антипригарным покрытие...</td>\n",
       "      <td>1</td>\n",
       "      <td>824.0</td>\n",
       "      <td>824.0</td>\n",
       "    </tr>\n",
       "    <tr>\n",
       "      <th>275</th>\n",
       "      <td>2018-10-16 17:00:00</td>\n",
       "      <td>17213b88-1514-47a4-b8aa-ce51378ab34e</td>\n",
       "      <td>68476</td>\n",
       "      <td>Стеклянная крышка для сковороды ALPENKOK 26 см...</td>\n",
       "      <td>1</td>\n",
       "      <td>262.0</td>\n",
       "      <td>262.0</td>\n",
       "    </tr>\n",
       "    <tr>\n",
       "      <th>276</th>\n",
       "      <td>2018-10-16 17:00:00</td>\n",
       "      <td>17213b88-1514-47a4-b8aa-ce51378ab34e</td>\n",
       "      <td>68476</td>\n",
       "      <td>Сушилка для белья напольная Colombo Star 18, 3679</td>\n",
       "      <td>1</td>\n",
       "      <td>1049.0</td>\n",
       "      <td>1049.0</td>\n",
       "    </tr>\n",
       "    <tr>\n",
       "      <th>281</th>\n",
       "      <td>2018-10-17 13:00:00</td>\n",
       "      <td>4d93d3f6-8b24-403b-a74b-f5173e40d7db</td>\n",
       "      <td>68668</td>\n",
       "      <td>Щетка для посуды *Мила* SV3182 1807009</td>\n",
       "      <td>50</td>\n",
       "      <td>27.0</td>\n",
       "      <td>1350.0</td>\n",
       "    </tr>\n",
       "    <tr>\n",
       "      <th>282</th>\n",
       "      <td>2018-10-17 13:00:00</td>\n",
       "      <td>4d93d3f6-8b24-403b-a74b-f5173e40d7db</td>\n",
       "      <td>68668</td>\n",
       "      <td>Щетка-утюжок с ручкой Миди, Standart, York, G1126</td>\n",
       "      <td>50</td>\n",
       "      <td>44.0</td>\n",
       "      <td>2200.0</td>\n",
       "    </tr>\n",
       "    <tr>\n",
       "      <th>376</th>\n",
       "      <td>2018-10-23 13:00:00</td>\n",
       "      <td>b80e4826-7218-4bf9-ac08-eb2c81ab3f62</td>\n",
       "      <td>13547</td>\n",
       "      <td>Рассада зелени для кухни Лаванды в кассете по ...</td>\n",
       "      <td>1</td>\n",
       "      <td>315.0</td>\n",
       "      <td>315.0</td>\n",
       "    </tr>\n",
       "    <tr>\n",
       "      <th>377</th>\n",
       "      <td>2018-10-23 13:00:00</td>\n",
       "      <td>b80e4826-7218-4bf9-ac08-eb2c81ab3f62</td>\n",
       "      <td>13547</td>\n",
       "      <td>Рассада зелени для кухни Розмарина в кассете п...</td>\n",
       "      <td>1</td>\n",
       "      <td>207.0</td>\n",
       "      <td>207.0</td>\n",
       "    </tr>\n",
       "    <tr>\n",
       "      <th>378</th>\n",
       "      <td>2018-10-23 13:00:00</td>\n",
       "      <td>b80e4826-7218-4bf9-ac08-eb2c81ab3f62</td>\n",
       "      <td>13547</td>\n",
       "      <td>Рассада зелени для кухни Тимьяна в кассете по ...</td>\n",
       "      <td>1</td>\n",
       "      <td>162.0</td>\n",
       "      <td>162.0</td>\n",
       "    </tr>\n",
       "    <tr>\n",
       "      <th>462</th>\n",
       "      <td>2018-10-27 23:00:00</td>\n",
       "      <td>9f1e7d7d-ff10-4eb1-b596-1cbf8075aa3f</td>\n",
       "      <td>68760</td>\n",
       "      <td>Вешалка для блузок 41 см черный Attribute AHM791</td>\n",
       "      <td>9</td>\n",
       "      <td>50.0</td>\n",
       "      <td>450.0</td>\n",
       "    </tr>\n",
       "    <tr>\n",
       "      <th>463</th>\n",
       "      <td>2018-10-27 23:00:00</td>\n",
       "      <td>9f1e7d7d-ff10-4eb1-b596-1cbf8075aa3f</td>\n",
       "      <td>68760</td>\n",
       "      <td>Гладильная доска Sarayli Tamara 125x42 см</td>\n",
       "      <td>1</td>\n",
       "      <td>3074.0</td>\n",
       "      <td>3074.0</td>\n",
       "    </tr>\n",
       "    <tr>\n",
       "      <th>464</th>\n",
       "      <td>2018-10-27 23:00:00</td>\n",
       "      <td>9f1e7d7d-ff10-4eb1-b596-1cbf8075aa3f</td>\n",
       "      <td>68760</td>\n",
       "      <td>Коврик влаговпитывающий ребристый 50х80 см Ста...</td>\n",
       "      <td>1</td>\n",
       "      <td>299.0</td>\n",
       "      <td>299.0</td>\n",
       "    </tr>\n",
       "    <tr>\n",
       "      <th>465</th>\n",
       "      <td>2018-10-27 23:00:00</td>\n",
       "      <td>9f1e7d7d-ff10-4eb1-b596-1cbf8075aa3f</td>\n",
       "      <td>68760</td>\n",
       "      <td>Коврик влаговпитывающий ребристый 60х90 см Ста...</td>\n",
       "      <td>1</td>\n",
       "      <td>412.0</td>\n",
       "      <td>412.0</td>\n",
       "    </tr>\n",
       "    <tr>\n",
       "      <th>466</th>\n",
       "      <td>2018-10-27 23:00:00</td>\n",
       "      <td>9f1e7d7d-ff10-4eb1-b596-1cbf8075aa3f</td>\n",
       "      <td>68760</td>\n",
       "      <td>Коврик придверный грязеулавливающий резиновый ...</td>\n",
       "      <td>1</td>\n",
       "      <td>284.0</td>\n",
       "      <td>284.0</td>\n",
       "    </tr>\n",
       "    <tr>\n",
       "      <th>467</th>\n",
       "      <td>2018-10-27 23:00:00</td>\n",
       "      <td>9f1e7d7d-ff10-4eb1-b596-1cbf8075aa3f</td>\n",
       "      <td>68760</td>\n",
       "      <td>Коробка для хранения на молнии из синтетическо...</td>\n",
       "      <td>1</td>\n",
       "      <td>749.0</td>\n",
       "      <td>749.0</td>\n",
       "    </tr>\n",
       "    <tr>\n",
       "      <th>468</th>\n",
       "      <td>2018-10-27 23:00:00</td>\n",
       "      <td>9f1e7d7d-ff10-4eb1-b596-1cbf8075aa3f</td>\n",
       "      <td>68760</td>\n",
       "      <td>Кофр для хранения медикаментов Hausmann 9 отде...</td>\n",
       "      <td>2</td>\n",
       "      <td>674.0</td>\n",
       "      <td>1348.0</td>\n",
       "    </tr>\n",
       "    <tr>\n",
       "      <th>469</th>\n",
       "      <td>2018-10-27 23:00:00</td>\n",
       "      <td>9f1e7d7d-ff10-4eb1-b596-1cbf8075aa3f</td>\n",
       "      <td>68760</td>\n",
       "      <td>Наматрасник Wellness WM180, 100% хлопок, 180х2...</td>\n",
       "      <td>1</td>\n",
       "      <td>3074.0</td>\n",
       "      <td>3074.0</td>\n",
       "    </tr>\n",
       "    <tr>\n",
       "      <th>470</th>\n",
       "      <td>2018-10-27 23:00:00</td>\n",
       "      <td>9f1e7d7d-ff10-4eb1-b596-1cbf8075aa3f</td>\n",
       "      <td>68760</td>\n",
       "      <td>Наматрицник-чехол Natures Стебель бамбука СБ-Н...</td>\n",
       "      <td>1</td>\n",
       "      <td>1739.0</td>\n",
       "      <td>1739.0</td>\n",
       "    </tr>\n",
       "    <tr>\n",
       "      <th>471</th>\n",
       "      <td>2018-10-27 23:00:00</td>\n",
       "      <td>9f1e7d7d-ff10-4eb1-b596-1cbf8075aa3f</td>\n",
       "      <td>68760</td>\n",
       "      <td>Насадка для швабры многофункциональной из микр...</td>\n",
       "      <td>1</td>\n",
       "      <td>262.0</td>\n",
       "      <td>262.0</td>\n",
       "    </tr>\n",
       "    <tr>\n",
       "      <th>472</th>\n",
       "      <td>2018-10-27 23:00:00</td>\n",
       "      <td>9f1e7d7d-ff10-4eb1-b596-1cbf8075aa3f</td>\n",
       "      <td>68760</td>\n",
       "      <td>Перчатки латексные 10 шт размер S, R105816, RO...</td>\n",
       "      <td>1</td>\n",
       "      <td>104.0</td>\n",
       "      <td>104.0</td>\n",
       "    </tr>\n",
       "    <tr>\n",
       "      <th>473</th>\n",
       "      <td>2018-10-27 23:00:00</td>\n",
       "      <td>9f1e7d7d-ff10-4eb1-b596-1cbf8075aa3f</td>\n",
       "      <td>68760</td>\n",
       "      <td>Сушилка для белья напольная Gimi Tempo Super</td>\n",
       "      <td>1</td>\n",
       "      <td>2849.0</td>\n",
       "      <td>2849.0</td>\n",
       "    </tr>\n",
       "    <tr>\n",
       "      <th>474</th>\n",
       "      <td>2018-10-27 23:00:00</td>\n",
       "      <td>9f1e7d7d-ff10-4eb1-b596-1cbf8075aa3f</td>\n",
       "      <td>68760</td>\n",
       "      <td>Таз пластмассовый 6,0 л пищевой квадратный \"Тю...</td>\n",
       "      <td>1</td>\n",
       "      <td>97.0</td>\n",
       "      <td>97.0</td>\n",
       "    </tr>\n",
       "    <tr>\n",
       "      <th>475</th>\n",
       "      <td>2018-10-27 23:00:00</td>\n",
       "      <td>9f1e7d7d-ff10-4eb1-b596-1cbf8075aa3f</td>\n",
       "      <td>68760</td>\n",
       "      <td>Швабра многофункциональная ROZENBAL R212522-1</td>\n",
       "      <td>1</td>\n",
       "      <td>899.0</td>\n",
       "      <td>899.0</td>\n",
       "    </tr>\n",
       "    <tr>\n",
       "      <th>476</th>\n",
       "      <td>2018-10-27 23:00:00</td>\n",
       "      <td>9f1e7d7d-ff10-4eb1-b596-1cbf8075aa3f</td>\n",
       "      <td>68760</td>\n",
       "      <td>Щетка для посуды из искусственного волокна и п...</td>\n",
       "      <td>2</td>\n",
       "      <td>127.0</td>\n",
       "      <td>254.0</td>\n",
       "    </tr>\n",
       "    <tr>\n",
       "      <th>491</th>\n",
       "      <td>2018-10-28 09:00:00</td>\n",
       "      <td>3ee43256-af7d-4036-90d4-eeefa1afc767</td>\n",
       "      <td>14500</td>\n",
       "      <td>Многолетнее растение Душица-орегано розовый об...</td>\n",
       "      <td>1</td>\n",
       "      <td>89.0</td>\n",
       "      <td>89.0</td>\n",
       "    </tr>\n",
       "    <tr>\n",
       "      <th>492</th>\n",
       "      <td>2018-10-28 09:00:00</td>\n",
       "      <td>3ee43256-af7d-4036-90d4-eeefa1afc767</td>\n",
       "      <td>14500</td>\n",
       "      <td>Многолетнее растение Тимьян-чабрец розовый объ...</td>\n",
       "      <td>1</td>\n",
       "      <td>89.0</td>\n",
       "      <td>89.0</td>\n",
       "    </tr>\n",
       "    <tr>\n",
       "      <th>493</th>\n",
       "      <td>2018-10-28 09:00:00</td>\n",
       "      <td>3ee43256-af7d-4036-90d4-eeefa1afc767</td>\n",
       "      <td>14500</td>\n",
       "      <td>Пеларгония зональная диам. 12 см белая полумах...</td>\n",
       "      <td>1</td>\n",
       "      <td>188.0</td>\n",
       "      <td>188.0</td>\n",
       "    </tr>\n",
       "    <tr>\n",
       "      <th>494</th>\n",
       "      <td>2018-10-28 09:00:00</td>\n",
       "      <td>3ee43256-af7d-4036-90d4-eeefa1afc767</td>\n",
       "      <td>14500</td>\n",
       "      <td>Пеларгония зональная диам. 12 см розовая с мал...</td>\n",
       "      <td>1</td>\n",
       "      <td>188.0</td>\n",
       "      <td>188.0</td>\n",
       "    </tr>\n",
       "    <tr>\n",
       "      <th>495</th>\n",
       "      <td>2018-10-28 09:00:00</td>\n",
       "      <td>3ee43256-af7d-4036-90d4-eeefa1afc767</td>\n",
       "      <td>14500</td>\n",
       "      <td>Пеларгония зональная диам. 12 см сиреневый пол...</td>\n",
       "      <td>1</td>\n",
       "      <td>188.0</td>\n",
       "      <td>188.0</td>\n",
       "    </tr>\n",
       "    <tr>\n",
       "      <th>496</th>\n",
       "      <td>2018-10-28 09:00:00</td>\n",
       "      <td>3ee43256-af7d-4036-90d4-eeefa1afc767</td>\n",
       "      <td>14500</td>\n",
       "      <td>Пеларгония зональная диам. 12 см ярко красная ...</td>\n",
       "      <td>1</td>\n",
       "      <td>188.0</td>\n",
       "      <td>188.0</td>\n",
       "    </tr>\n",
       "    <tr>\n",
       "      <th>497</th>\n",
       "      <td>2018-10-28 09:00:00</td>\n",
       "      <td>3ee43256-af7d-4036-90d4-eeefa1afc767</td>\n",
       "      <td>14500</td>\n",
       "      <td>Рассада зелени для кухни Базилик Арарат, кассе...</td>\n",
       "      <td>1</td>\n",
       "      <td>169.0</td>\n",
       "      <td>169.0</td>\n",
       "    </tr>\n",
       "    <tr>\n",
       "      <th>498</th>\n",
       "      <td>2018-10-28 09:00:00</td>\n",
       "      <td>3ee43256-af7d-4036-90d4-eeefa1afc767</td>\n",
       "      <td>14500</td>\n",
       "      <td>Рассада зелени для кухни Лаванды в горшке диам...</td>\n",
       "      <td>1</td>\n",
       "      <td>101.0</td>\n",
       "      <td>101.0</td>\n",
       "    </tr>\n",
       "    <tr>\n",
       "      <th>499</th>\n",
       "      <td>2018-10-28 09:00:00</td>\n",
       "      <td>3ee43256-af7d-4036-90d4-eeefa1afc767</td>\n",
       "      <td>14500</td>\n",
       "      <td>Рассада зелени для кухни Розмарина в кассете п...</td>\n",
       "      <td>1</td>\n",
       "      <td>210.0</td>\n",
       "      <td>210.0</td>\n",
       "    </tr>\n",
       "    <tr>\n",
       "      <th>509</th>\n",
       "      <td>2018-10-28 19:00:00</td>\n",
       "      <td>b80e4826-7218-4bf9-ac08-eb2c81ab3f62</td>\n",
       "      <td>13547</td>\n",
       "      <td>Рассада зелени для кухни Лаванды в кассете по ...</td>\n",
       "      <td>1</td>\n",
       "      <td>315.0</td>\n",
       "      <td>315.0</td>\n",
       "    </tr>\n",
       "    <tr>\n",
       "      <th>510</th>\n",
       "      <td>2018-10-28 19:00:00</td>\n",
       "      <td>b80e4826-7218-4bf9-ac08-eb2c81ab3f62</td>\n",
       "      <td>13547</td>\n",
       "      <td>Рассада зелени для кухни Розмарина в кассете п...</td>\n",
       "      <td>1</td>\n",
       "      <td>207.0</td>\n",
       "      <td>207.0</td>\n",
       "    </tr>\n",
       "    <tr>\n",
       "      <th>511</th>\n",
       "      <td>2018-10-28 19:00:00</td>\n",
       "      <td>b80e4826-7218-4bf9-ac08-eb2c81ab3f62</td>\n",
       "      <td>13547</td>\n",
       "      <td>Рассада зелени для кухни Тимьяна в кассете по ...</td>\n",
       "      <td>1</td>\n",
       "      <td>162.0</td>\n",
       "      <td>162.0</td>\n",
       "    </tr>\n",
       "    <tr>\n",
       "      <th>515</th>\n",
       "      <td>2018-10-29 17:00:00</td>\n",
       "      <td>9f1e7d7d-ff10-4eb1-b596-1cbf8075aa3f</td>\n",
       "      <td>68760</td>\n",
       "      <td>Вешалка для блузок 41 см черный Attribute AHM791</td>\n",
       "      <td>9</td>\n",
       "      <td>50.0</td>\n",
       "      <td>450.0</td>\n",
       "    </tr>\n",
       "    <tr>\n",
       "      <th>516</th>\n",
       "      <td>2018-10-29 17:00:00</td>\n",
       "      <td>9f1e7d7d-ff10-4eb1-b596-1cbf8075aa3f</td>\n",
       "      <td>68760</td>\n",
       "      <td>Коврик влаговпитывающий ребристый 50х80 см Ста...</td>\n",
       "      <td>1</td>\n",
       "      <td>299.0</td>\n",
       "      <td>299.0</td>\n",
       "    </tr>\n",
       "    <tr>\n",
       "      <th>517</th>\n",
       "      <td>2018-10-29 17:00:00</td>\n",
       "      <td>9f1e7d7d-ff10-4eb1-b596-1cbf8075aa3f</td>\n",
       "      <td>68760</td>\n",
       "      <td>Коврик влаговпитывающий ребристый 60х90 см Ста...</td>\n",
       "      <td>1</td>\n",
       "      <td>412.0</td>\n",
       "      <td>412.0</td>\n",
       "    </tr>\n",
       "    <tr>\n",
       "      <th>518</th>\n",
       "      <td>2018-10-29 17:00:00</td>\n",
       "      <td>9f1e7d7d-ff10-4eb1-b596-1cbf8075aa3f</td>\n",
       "      <td>68760</td>\n",
       "      <td>Коврик придверный грязеулавливающий резиновый ...</td>\n",
       "      <td>1</td>\n",
       "      <td>284.0</td>\n",
       "      <td>284.0</td>\n",
       "    </tr>\n",
       "    <tr>\n",
       "      <th>519</th>\n",
       "      <td>2018-10-29 17:00:00</td>\n",
       "      <td>9f1e7d7d-ff10-4eb1-b596-1cbf8075aa3f</td>\n",
       "      <td>68760</td>\n",
       "      <td>Коробка для хранения на молнии из синтетическо...</td>\n",
       "      <td>1</td>\n",
       "      <td>749.0</td>\n",
       "      <td>749.0</td>\n",
       "    </tr>\n",
       "    <tr>\n",
       "      <th>520</th>\n",
       "      <td>2018-10-29 17:00:00</td>\n",
       "      <td>9f1e7d7d-ff10-4eb1-b596-1cbf8075aa3f</td>\n",
       "      <td>68760</td>\n",
       "      <td>Кофр для хранения медикаментов Hausmann 9 отде...</td>\n",
       "      <td>2</td>\n",
       "      <td>674.0</td>\n",
       "      <td>1348.0</td>\n",
       "    </tr>\n",
       "  </tbody>\n",
       "</table>\n",
       "</div>"
      ],
      "text/plain": [
       "                   date                           customer_id  order_id  \\\n",
       "58  2018-10-02 18:00:00  b731df05-98fa-4610-8496-716ec530a02c     68474   \n",
       "59  2018-10-02 19:00:00  b731df05-98fa-4610-8496-716ec530a02c     68474   \n",
       "60  2018-10-02 20:00:00  b731df05-98fa-4610-8496-716ec530a02c     68474   \n",
       "63  2018-10-03 04:00:00  b731df05-98fa-4610-8496-716ec530a02c     68474   \n",
       "94  2018-10-04 13:00:00  32de7df8-8d4f-4c84-a7b9-c41d00dd83ba     68522   \n",
       "126 2018-10-07 17:00:00  ce0e0c29-8c8b-4714-84bd-80957224d4cf     68557   \n",
       "147 2018-10-08 19:00:00  3de09660-90bc-4a28-aaf1-34c8435fe59c     68574   \n",
       "148 2018-10-08 19:00:00  3de09660-90bc-4a28-aaf1-34c8435fe59c     68574   \n",
       "149 2018-10-08 19:00:00  3de09660-90bc-4a28-aaf1-34c8435fe59c     68574   \n",
       "150 2018-10-08 19:00:00  3de09660-90bc-4a28-aaf1-34c8435fe59c     68574   \n",
       "152 2018-10-09 06:00:00  3de09660-90bc-4a28-aaf1-34c8435fe59c     68574   \n",
       "153 2018-10-09 06:00:00  3de09660-90bc-4a28-aaf1-34c8435fe59c     68574   \n",
       "154 2018-10-09 06:00:00  3de09660-90bc-4a28-aaf1-34c8435fe59c     68574   \n",
       "155 2018-10-09 06:00:00  3de09660-90bc-4a28-aaf1-34c8435fe59c     68574   \n",
       "266 2018-10-16 08:00:00  cd09ea73-d9ce-48c3-b4c5-018113735e80     68611   \n",
       "267 2018-10-16 08:00:00  cd09ea73-d9ce-48c3-b4c5-018113735e80     68611   \n",
       "270 2018-10-16 13:00:00  fe2c35d8-a51a-45f3-bd85-27490d1d947a     68647   \n",
       "271 2018-10-16 13:00:00  fe2c35d8-a51a-45f3-bd85-27490d1d947a     68647   \n",
       "273 2018-10-16 17:00:00  17213b88-1514-47a4-b8aa-ce51378ab34e     68476   \n",
       "274 2018-10-16 17:00:00  17213b88-1514-47a4-b8aa-ce51378ab34e     68476   \n",
       "275 2018-10-16 17:00:00  17213b88-1514-47a4-b8aa-ce51378ab34e     68476   \n",
       "276 2018-10-16 17:00:00  17213b88-1514-47a4-b8aa-ce51378ab34e     68476   \n",
       "281 2018-10-17 13:00:00  4d93d3f6-8b24-403b-a74b-f5173e40d7db     68668   \n",
       "282 2018-10-17 13:00:00  4d93d3f6-8b24-403b-a74b-f5173e40d7db     68668   \n",
       "376 2018-10-23 13:00:00  b80e4826-7218-4bf9-ac08-eb2c81ab3f62     13547   \n",
       "377 2018-10-23 13:00:00  b80e4826-7218-4bf9-ac08-eb2c81ab3f62     13547   \n",
       "378 2018-10-23 13:00:00  b80e4826-7218-4bf9-ac08-eb2c81ab3f62     13547   \n",
       "462 2018-10-27 23:00:00  9f1e7d7d-ff10-4eb1-b596-1cbf8075aa3f     68760   \n",
       "463 2018-10-27 23:00:00  9f1e7d7d-ff10-4eb1-b596-1cbf8075aa3f     68760   \n",
       "464 2018-10-27 23:00:00  9f1e7d7d-ff10-4eb1-b596-1cbf8075aa3f     68760   \n",
       "465 2018-10-27 23:00:00  9f1e7d7d-ff10-4eb1-b596-1cbf8075aa3f     68760   \n",
       "466 2018-10-27 23:00:00  9f1e7d7d-ff10-4eb1-b596-1cbf8075aa3f     68760   \n",
       "467 2018-10-27 23:00:00  9f1e7d7d-ff10-4eb1-b596-1cbf8075aa3f     68760   \n",
       "468 2018-10-27 23:00:00  9f1e7d7d-ff10-4eb1-b596-1cbf8075aa3f     68760   \n",
       "469 2018-10-27 23:00:00  9f1e7d7d-ff10-4eb1-b596-1cbf8075aa3f     68760   \n",
       "470 2018-10-27 23:00:00  9f1e7d7d-ff10-4eb1-b596-1cbf8075aa3f     68760   \n",
       "471 2018-10-27 23:00:00  9f1e7d7d-ff10-4eb1-b596-1cbf8075aa3f     68760   \n",
       "472 2018-10-27 23:00:00  9f1e7d7d-ff10-4eb1-b596-1cbf8075aa3f     68760   \n",
       "473 2018-10-27 23:00:00  9f1e7d7d-ff10-4eb1-b596-1cbf8075aa3f     68760   \n",
       "474 2018-10-27 23:00:00  9f1e7d7d-ff10-4eb1-b596-1cbf8075aa3f     68760   \n",
       "475 2018-10-27 23:00:00  9f1e7d7d-ff10-4eb1-b596-1cbf8075aa3f     68760   \n",
       "476 2018-10-27 23:00:00  9f1e7d7d-ff10-4eb1-b596-1cbf8075aa3f     68760   \n",
       "491 2018-10-28 09:00:00  3ee43256-af7d-4036-90d4-eeefa1afc767     14500   \n",
       "492 2018-10-28 09:00:00  3ee43256-af7d-4036-90d4-eeefa1afc767     14500   \n",
       "493 2018-10-28 09:00:00  3ee43256-af7d-4036-90d4-eeefa1afc767     14500   \n",
       "494 2018-10-28 09:00:00  3ee43256-af7d-4036-90d4-eeefa1afc767     14500   \n",
       "495 2018-10-28 09:00:00  3ee43256-af7d-4036-90d4-eeefa1afc767     14500   \n",
       "496 2018-10-28 09:00:00  3ee43256-af7d-4036-90d4-eeefa1afc767     14500   \n",
       "497 2018-10-28 09:00:00  3ee43256-af7d-4036-90d4-eeefa1afc767     14500   \n",
       "498 2018-10-28 09:00:00  3ee43256-af7d-4036-90d4-eeefa1afc767     14500   \n",
       "499 2018-10-28 09:00:00  3ee43256-af7d-4036-90d4-eeefa1afc767     14500   \n",
       "509 2018-10-28 19:00:00  b80e4826-7218-4bf9-ac08-eb2c81ab3f62     13547   \n",
       "510 2018-10-28 19:00:00  b80e4826-7218-4bf9-ac08-eb2c81ab3f62     13547   \n",
       "511 2018-10-28 19:00:00  b80e4826-7218-4bf9-ac08-eb2c81ab3f62     13547   \n",
       "515 2018-10-29 17:00:00  9f1e7d7d-ff10-4eb1-b596-1cbf8075aa3f     68760   \n",
       "516 2018-10-29 17:00:00  9f1e7d7d-ff10-4eb1-b596-1cbf8075aa3f     68760   \n",
       "517 2018-10-29 17:00:00  9f1e7d7d-ff10-4eb1-b596-1cbf8075aa3f     68760   \n",
       "518 2018-10-29 17:00:00  9f1e7d7d-ff10-4eb1-b596-1cbf8075aa3f     68760   \n",
       "519 2018-10-29 17:00:00  9f1e7d7d-ff10-4eb1-b596-1cbf8075aa3f     68760   \n",
       "520 2018-10-29 17:00:00  9f1e7d7d-ff10-4eb1-b596-1cbf8075aa3f     68760   \n",
       "\n",
       "                                               product  quantity   price  \\\n",
       "58   Доска гладильная Eurogold Professional 130х48 ...         1  3299.0   \n",
       "59   Доска гладильная Eurogold Professional 130х48 ...         1  3299.0   \n",
       "60   Доска гладильная Eurogold Professional 130х48 ...         1  3299.0   \n",
       "63   Доска гладильная Eurogold Professional 130х48 ...         1  3299.0   \n",
       "94                      Эвкалипт Гунни d-17 см h-60 см         1  1409.0   \n",
       "126      Сумка-тележка хозяйственная Gimi Market синяя         1  1874.0   \n",
       "147  Таз пластмассовый 15,0 л пищевой овальный \"Ekk...         1   209.0   \n",
       "148     Таз пластмассовый 18,0 л пищевой (Иж), 1404047         1   194.0   \n",
       "149  Таз пластмассовый 20,0 л пищевой (Минеральные ...         1   277.0   \n",
       "150  Таз пластмассовый 24,0 л пищевой круглый (Иж),...         1   239.0   \n",
       "152  Таз пластмассовый 15,0 л пищевой овальный \"Ekk...         1   209.0   \n",
       "153     Таз пластмассовый 18,0 л пищевой (Иж), 1404047         1   194.0   \n",
       "154  Таз пластмассовый 20,0 л пищевой (Минеральные ...         1   277.0   \n",
       "155  Таз пластмассовый 24,0 л пищевой круглый (Иж),...         1   239.0   \n",
       "266                Крепеж для пружины дверной, 1107055       150    19.0   \n",
       "267  Пружина дверная 240 мм оцинкованная (Д-19 мм) ...       150    38.0   \n",
       "270  Сушилка для белья потолочно-настенная Gimi Lif...         1  2174.0   \n",
       "271                       Сушилка для белья Gimi Lampo         1   224.0   \n",
       "273  Мини-сковорода Marmiton \"Сердце\" с антипригарн...         1   239.0   \n",
       "274  Сковорода алюминиевая с антипригарным покрытие...         1   824.0   \n",
       "275  Стеклянная крышка для сковороды ALPENKOK 26 см...         1   262.0   \n",
       "276  Сушилка для белья напольная Colombo Star 18, 3679         1  1049.0   \n",
       "281             Щетка для посуды *Мила* SV3182 1807009        50    27.0   \n",
       "282  Щетка-утюжок с ручкой Миди, Standart, York, G1126        50    44.0   \n",
       "376  Рассада зелени для кухни Лаванды в кассете по ...         1   315.0   \n",
       "377  Рассада зелени для кухни Розмарина в кассете п...         1   207.0   \n",
       "378  Рассада зелени для кухни Тимьяна в кассете по ...         1   162.0   \n",
       "462   Вешалка для блузок 41 см черный Attribute AHM791         9    50.0   \n",
       "463          Гладильная доска Sarayli Tamara 125x42 см         1  3074.0   \n",
       "464  Коврик влаговпитывающий ребристый 50х80 см Ста...         1   299.0   \n",
       "465  Коврик влаговпитывающий ребристый 60х90 см Ста...         1   412.0   \n",
       "466  Коврик придверный грязеулавливающий резиновый ...         1   284.0   \n",
       "467  Коробка для хранения на молнии из синтетическо...         1   749.0   \n",
       "468  Кофр для хранения медикаментов Hausmann 9 отде...         2   674.0   \n",
       "469  Наматрасник Wellness WM180, 100% хлопок, 180х2...         1  3074.0   \n",
       "470  Наматрицник-чехол Natures Стебель бамбука СБ-Н...         1  1739.0   \n",
       "471  Насадка для швабры многофункциональной из микр...         1   262.0   \n",
       "472  Перчатки латексные 10 шт размер S, R105816, RO...         1   104.0   \n",
       "473       Сушилка для белья напольная Gimi Tempo Super         1  2849.0   \n",
       "474  Таз пластмассовый 6,0 л пищевой квадратный \"Тю...         1    97.0   \n",
       "475      Швабра многофункциональная ROZENBAL R212522-1         1   899.0   \n",
       "476  Щетка для посуды из искусственного волокна и п...         2   127.0   \n",
       "491  Многолетнее растение Душица-орегано розовый об...         1    89.0   \n",
       "492  Многолетнее растение Тимьян-чабрец розовый объ...         1    89.0   \n",
       "493  Пеларгония зональная диам. 12 см белая полумах...         1   188.0   \n",
       "494  Пеларгония зональная диам. 12 см розовая с мал...         1   188.0   \n",
       "495  Пеларгония зональная диам. 12 см сиреневый пол...         1   188.0   \n",
       "496  Пеларгония зональная диам. 12 см ярко красная ...         1   188.0   \n",
       "497  Рассада зелени для кухни Базилик Арарат, кассе...         1   169.0   \n",
       "498  Рассада зелени для кухни Лаванды в горшке диам...         1   101.0   \n",
       "499  Рассада зелени для кухни Розмарина в кассете п...         1   210.0   \n",
       "509  Рассада зелени для кухни Лаванды в кассете по ...         1   315.0   \n",
       "510  Рассада зелени для кухни Розмарина в кассете п...         1   207.0   \n",
       "511  Рассада зелени для кухни Тимьяна в кассете по ...         1   162.0   \n",
       "515   Вешалка для блузок 41 см черный Attribute AHM791         9    50.0   \n",
       "516  Коврик влаговпитывающий ребристый 50х80 см Ста...         1   299.0   \n",
       "517  Коврик влаговпитывающий ребристый 60х90 см Ста...         1   412.0   \n",
       "518  Коврик придверный грязеулавливающий резиновый ...         1   284.0   \n",
       "519  Коробка для хранения на молнии из синтетическо...         1   749.0   \n",
       "520  Кофр для хранения медикаментов Hausmann 9 отде...         2   674.0   \n",
       "\n",
       "      sales  \n",
       "58   3299.0  \n",
       "59   3299.0  \n",
       "60   3299.0  \n",
       "63   3299.0  \n",
       "94   1409.0  \n",
       "126  1874.0  \n",
       "147   209.0  \n",
       "148   194.0  \n",
       "149   277.0  \n",
       "150   239.0  \n",
       "152   209.0  \n",
       "153   194.0  \n",
       "154   277.0  \n",
       "155   239.0  \n",
       "266  2850.0  \n",
       "267  5700.0  \n",
       "270  2174.0  \n",
       "271   224.0  \n",
       "273   239.0  \n",
       "274   824.0  \n",
       "275   262.0  \n",
       "276  1049.0  \n",
       "281  1350.0  \n",
       "282  2200.0  \n",
       "376   315.0  \n",
       "377   207.0  \n",
       "378   162.0  \n",
       "462   450.0  \n",
       "463  3074.0  \n",
       "464   299.0  \n",
       "465   412.0  \n",
       "466   284.0  \n",
       "467   749.0  \n",
       "468  1348.0  \n",
       "469  3074.0  \n",
       "470  1739.0  \n",
       "471   262.0  \n",
       "472   104.0  \n",
       "473  2849.0  \n",
       "474    97.0  \n",
       "475   899.0  \n",
       "476   254.0  \n",
       "491    89.0  \n",
       "492    89.0  \n",
       "493   188.0  \n",
       "494   188.0  \n",
       "495   188.0  \n",
       "496   188.0  \n",
       "497   169.0  \n",
       "498   101.0  \n",
       "499   210.0  \n",
       "509   315.0  \n",
       "510   207.0  \n",
       "511   162.0  \n",
       "515   450.0  \n",
       "516   299.0  \n",
       "517   412.0  \n",
       "518   284.0  \n",
       "519   749.0  \n",
       "520  1348.0  "
      ]
     },
     "execution_count": 14,
     "metadata": {},
     "output_type": "execute_result"
    }
   ],
   "source": [
    "df[df.duplicated(subset=['customer_id', 'order_id', 'product'], keep='first')].head(60)"
   ]
  },
  {
   "cell_type": "markdown",
   "metadata": {},
   "source": [
    "An interesting pattern can be found — the customer with ID ffaeab76-3a8d-49ee-860f-17273b2fc8a2 bought the same basin at different times, but the same order_id was assigned. Clearly, there is an error here — it can be assumed that when a new product is added, the old one might get duplicated. This is confirmed not only by the matching order_id, but also by the fact that the product quantity and price are identical. We will remove the duplicate rows."
   ]
  },
  {
   "cell_type": "code",
   "execution_count": 15,
   "metadata": {},
   "outputs": [],
   "source": [
    "df = df.drop_duplicates(subset=['order_id', 'customer_id', 'product'])"
   ]
  },
  {
   "cell_type": "code",
   "execution_count": 16,
   "metadata": {},
   "outputs": [
    {
     "data": {
      "text/plain": [
       "'Absolute data loss in column date: 1886'"
      ]
     },
     "metadata": {},
     "output_type": "display_data"
    },
    {
     "data": {
      "text/plain": [
       "'Relative data loss in column date: 25.23%'"
      ]
     },
     "metadata": {},
     "output_type": "display_data"
    }
   ],
   "source": [
    "data_loss(df, df_raw, column_name='date')"
   ]
  },
  {
   "cell_type": "markdown",
   "metadata": {},
   "source": [
    "Duplicate transactions accounted for 25% of the total data. We can move on — let's take a look at the outliers."
   ]
  },
  {
   "cell_type": "markdown",
   "metadata": {},
   "source": [
    "###  Outliers and Anomalous Values"
   ]
  },
  {
   "cell_type": "markdown",
   "metadata": {},
   "source": [
    "It would be incorrect to trim outliers in quantity and price, as this would result in losing the most expensive items and larger transactions from the analysis. Outliers should be evaluated based on the total purchase amount. Their boundaries are calculated using the interquartile range (1.5 * IQR)."
   ]
  },
  {
   "cell_type": "code",
   "execution_count": 17,
   "metadata": {},
   "outputs": [
    {
     "data": {
      "text/html": [
       "<div>\n",
       "<style scoped>\n",
       "    .dataframe tbody tr th:only-of-type {\n",
       "        vertical-align: middle;\n",
       "    }\n",
       "\n",
       "    .dataframe tbody tr th {\n",
       "        vertical-align: top;\n",
       "    }\n",
       "\n",
       "    .dataframe thead th {\n",
       "        text-align: right;\n",
       "    }\n",
       "</style>\n",
       "<table border=\"1\" class=\"dataframe\">\n",
       "  <thead>\n",
       "    <tr style=\"text-align: right;\">\n",
       "      <th></th>\n",
       "      <th>date</th>\n",
       "      <th>customer_id</th>\n",
       "      <th>order_id</th>\n",
       "      <th>product</th>\n",
       "      <th>quantity</th>\n",
       "      <th>price</th>\n",
       "      <th>sales</th>\n",
       "      <th>bill</th>\n",
       "    </tr>\n",
       "  </thead>\n",
       "  <tbody>\n",
       "    <tr>\n",
       "      <th>0</th>\n",
       "      <td>2018-10-01 00:00:00</td>\n",
       "      <td>ee47d746-6d2f-4d3c-9622-c31412542920</td>\n",
       "      <td>68477</td>\n",
       "      <td>Комнатное растение в горшке Алое Вера, d12, h30</td>\n",
       "      <td>1</td>\n",
       "      <td>142.0</td>\n",
       "      <td>142.0</td>\n",
       "      <td>1037.0</td>\n",
       "    </tr>\n",
       "    <tr>\n",
       "      <th>1</th>\n",
       "      <td>2018-10-01 00:00:00</td>\n",
       "      <td>ee47d746-6d2f-4d3c-9622-c31412542920</td>\n",
       "      <td>68477</td>\n",
       "      <td>Комнатное растение в горшке Кофе Арабика, d12,...</td>\n",
       "      <td>1</td>\n",
       "      <td>194.0</td>\n",
       "      <td>194.0</td>\n",
       "      <td>1037.0</td>\n",
       "    </tr>\n",
       "    <tr>\n",
       "      <th>2</th>\n",
       "      <td>2018-10-01 00:00:00</td>\n",
       "      <td>ee47d746-6d2f-4d3c-9622-c31412542920</td>\n",
       "      <td>68477</td>\n",
       "      <td>Радермахера d-12 см h-20 см</td>\n",
       "      <td>1</td>\n",
       "      <td>112.0</td>\n",
       "      <td>112.0</td>\n",
       "      <td>1037.0</td>\n",
       "    </tr>\n",
       "    <tr>\n",
       "      <th>3</th>\n",
       "      <td>2018-10-01 00:00:00</td>\n",
       "      <td>ee47d746-6d2f-4d3c-9622-c31412542920</td>\n",
       "      <td>68477</td>\n",
       "      <td>Хризолидокарпус Лутесценс d-9 см</td>\n",
       "      <td>1</td>\n",
       "      <td>179.0</td>\n",
       "      <td>179.0</td>\n",
       "      <td>1037.0</td>\n",
       "    </tr>\n",
       "    <tr>\n",
       "      <th>4</th>\n",
       "      <td>2018-10-01 00:00:00</td>\n",
       "      <td>ee47d746-6d2f-4d3c-9622-c31412542920</td>\n",
       "      <td>68477</td>\n",
       "      <td>Циперус Зумула d-12 см h-25 см</td>\n",
       "      <td>1</td>\n",
       "      <td>112.0</td>\n",
       "      <td>112.0</td>\n",
       "      <td>1037.0</td>\n",
       "    </tr>\n",
       "    <tr>\n",
       "      <th>...</th>\n",
       "      <td>...</td>\n",
       "      <td>...</td>\n",
       "      <td>...</td>\n",
       "      <td>...</td>\n",
       "      <td>...</td>\n",
       "      <td>...</td>\n",
       "      <td>...</td>\n",
       "      <td>...</td>\n",
       "    </tr>\n",
       "    <tr>\n",
       "      <th>7469</th>\n",
       "      <td>2020-01-30 21:00:00</td>\n",
       "      <td>63208953-a8e4-4f77-9b47-3a46e7b72eee</td>\n",
       "      <td>104002</td>\n",
       "      <td>томата (помидор) Черниченский черри № 116 сорт...</td>\n",
       "      <td>2</td>\n",
       "      <td>38.0</td>\n",
       "      <td>76.0</td>\n",
       "      <td>76.0</td>\n",
       "    </tr>\n",
       "    <tr>\n",
       "      <th>7470</th>\n",
       "      <td>2020-01-30 22:00:00</td>\n",
       "      <td>d99d25f1-4017-4fcd-8d29-c580cc695a1a</td>\n",
       "      <td>107336</td>\n",
       "      <td>Дендробиум Санок Анна Грин 1 ствол d-12 см</td>\n",
       "      <td>1</td>\n",
       "      <td>869.0</td>\n",
       "      <td>869.0</td>\n",
       "      <td>869.0</td>\n",
       "    </tr>\n",
       "    <tr>\n",
       "      <th>7471</th>\n",
       "      <td>2020-01-31 02:00:00</td>\n",
       "      <td>2c9bd08d-8c55-4e7a-9bfb-8c56ba42c6d6</td>\n",
       "      <td>106336</td>\n",
       "      <td>Подставка для обуви резиновая Attribute 80x40 ...</td>\n",
       "      <td>1</td>\n",
       "      <td>354.0</td>\n",
       "      <td>354.0</td>\n",
       "      <td>354.0</td>\n",
       "    </tr>\n",
       "    <tr>\n",
       "      <th>7472</th>\n",
       "      <td>2020-01-31 12:00:00</td>\n",
       "      <td>cdd17932-623e-415f-a577-3b31312fd0e2</td>\n",
       "      <td>102002</td>\n",
       "      <td>Тагетис крупноцветковый рассада однолетних цве...</td>\n",
       "      <td>1</td>\n",
       "      <td>128.0</td>\n",
       "      <td>128.0</td>\n",
       "      <td>128.0</td>\n",
       "    </tr>\n",
       "    <tr>\n",
       "      <th>7473</th>\n",
       "      <td>2020-01-31 15:00:00</td>\n",
       "      <td>2e460a26-35af-453d-a369-a036e95a40e0</td>\n",
       "      <td>103225</td>\n",
       "      <td>Вешалка для блузок 41 см красный Attribute AHM781</td>\n",
       "      <td>1</td>\n",
       "      <td>104.0</td>\n",
       "      <td>104.0</td>\n",
       "      <td>104.0</td>\n",
       "    </tr>\n",
       "  </tbody>\n",
       "</table>\n",
       "<p>5588 rows × 8 columns</p>\n",
       "</div>"
      ],
      "text/plain": [
       "                    date                           customer_id  order_id  \\\n",
       "0    2018-10-01 00:00:00  ee47d746-6d2f-4d3c-9622-c31412542920     68477   \n",
       "1    2018-10-01 00:00:00  ee47d746-6d2f-4d3c-9622-c31412542920     68477   \n",
       "2    2018-10-01 00:00:00  ee47d746-6d2f-4d3c-9622-c31412542920     68477   \n",
       "3    2018-10-01 00:00:00  ee47d746-6d2f-4d3c-9622-c31412542920     68477   \n",
       "4    2018-10-01 00:00:00  ee47d746-6d2f-4d3c-9622-c31412542920     68477   \n",
       "...                  ...                                   ...       ...   \n",
       "7469 2020-01-30 21:00:00  63208953-a8e4-4f77-9b47-3a46e7b72eee    104002   \n",
       "7470 2020-01-30 22:00:00  d99d25f1-4017-4fcd-8d29-c580cc695a1a    107336   \n",
       "7471 2020-01-31 02:00:00  2c9bd08d-8c55-4e7a-9bfb-8c56ba42c6d6    106336   \n",
       "7472 2020-01-31 12:00:00  cdd17932-623e-415f-a577-3b31312fd0e2    102002   \n",
       "7473 2020-01-31 15:00:00  2e460a26-35af-453d-a369-a036e95a40e0    103225   \n",
       "\n",
       "                                                product  quantity  price  \\\n",
       "0       Комнатное растение в горшке Алое Вера, d12, h30         1  142.0   \n",
       "1     Комнатное растение в горшке Кофе Арабика, d12,...         1  194.0   \n",
       "2                           Радермахера d-12 см h-20 см         1  112.0   \n",
       "3                      Хризолидокарпус Лутесценс d-9 см         1  179.0   \n",
       "4                        Циперус Зумула d-12 см h-25 см         1  112.0   \n",
       "...                                                 ...       ...    ...   \n",
       "7469  томата (помидор) Черниченский черри № 116 сорт...         2   38.0   \n",
       "7470         Дендробиум Санок Анна Грин 1 ствол d-12 см         1  869.0   \n",
       "7471  Подставка для обуви резиновая Attribute 80x40 ...         1  354.0   \n",
       "7472  Тагетис крупноцветковый рассада однолетних цве...         1  128.0   \n",
       "7473  Вешалка для блузок 41 см красный Attribute AHM781         1  104.0   \n",
       "\n",
       "      sales    bill  \n",
       "0     142.0  1037.0  \n",
       "1     194.0  1037.0  \n",
       "2     112.0  1037.0  \n",
       "3     179.0  1037.0  \n",
       "4     112.0  1037.0  \n",
       "...     ...     ...  \n",
       "7469   76.0    76.0  \n",
       "7470  869.0   869.0  \n",
       "7471  354.0   354.0  \n",
       "7472  128.0   128.0  \n",
       "7473  104.0   104.0  \n",
       "\n",
       "[5588 rows x 8 columns]"
      ]
     },
     "execution_count": 17,
     "metadata": {},
     "output_type": "execute_result"
    }
   ],
   "source": [
    "df['bill'] = df.groupby('order_id')['sales'].transform('sum')\n",
    "df"
   ]
  },
  {
   "cell_type": "code",
   "execution_count": 18,
   "metadata": {},
   "outputs": [
    {
     "data": {
      "text/html": [
       "<div>\n",
       "<style scoped>\n",
       "    .dataframe tbody tr th:only-of-type {\n",
       "        vertical-align: middle;\n",
       "    }\n",
       "\n",
       "    .dataframe tbody tr th {\n",
       "        vertical-align: top;\n",
       "    }\n",
       "\n",
       "    .dataframe thead th {\n",
       "        text-align: right;\n",
       "    }\n",
       "</style>\n",
       "<table border=\"1\" class=\"dataframe\">\n",
       "  <thead>\n",
       "    <tr style=\"text-align: right;\">\n",
       "      <th></th>\n",
       "      <th>order_id</th>\n",
       "      <th>bill</th>\n",
       "    </tr>\n",
       "  </thead>\n",
       "  <tbody>\n",
       "    <tr>\n",
       "      <th>0</th>\n",
       "      <td>68477</td>\n",
       "      <td>1037.0</td>\n",
       "    </tr>\n",
       "    <tr>\n",
       "      <th>7</th>\n",
       "      <td>68479</td>\n",
       "      <td>824.0</td>\n",
       "    </tr>\n",
       "    <tr>\n",
       "      <th>8</th>\n",
       "      <td>68478</td>\n",
       "      <td>269.0</td>\n",
       "    </tr>\n",
       "    <tr>\n",
       "      <th>9</th>\n",
       "      <td>68480</td>\n",
       "      <td>674.0</td>\n",
       "    </tr>\n",
       "    <tr>\n",
       "      <th>10</th>\n",
       "      <td>68483</td>\n",
       "      <td>820.0</td>\n",
       "    </tr>\n",
       "    <tr>\n",
       "      <th>...</th>\n",
       "      <td>...</td>\n",
       "      <td>...</td>\n",
       "    </tr>\n",
       "    <tr>\n",
       "      <th>7469</th>\n",
       "      <td>104002</td>\n",
       "      <td>76.0</td>\n",
       "    </tr>\n",
       "    <tr>\n",
       "      <th>7470</th>\n",
       "      <td>107336</td>\n",
       "      <td>869.0</td>\n",
       "    </tr>\n",
       "    <tr>\n",
       "      <th>7471</th>\n",
       "      <td>106336</td>\n",
       "      <td>354.0</td>\n",
       "    </tr>\n",
       "    <tr>\n",
       "      <th>7472</th>\n",
       "      <td>102002</td>\n",
       "      <td>128.0</td>\n",
       "    </tr>\n",
       "    <tr>\n",
       "      <th>7473</th>\n",
       "      <td>103225</td>\n",
       "      <td>104.0</td>\n",
       "    </tr>\n",
       "  </tbody>\n",
       "</table>\n",
       "<p>3521 rows × 2 columns</p>\n",
       "</div>"
      ],
      "text/plain": [
       "      order_id    bill\n",
       "0        68477  1037.0\n",
       "7        68479   824.0\n",
       "8        68478   269.0\n",
       "9        68480   674.0\n",
       "10       68483   820.0\n",
       "...        ...     ...\n",
       "7469    104002    76.0\n",
       "7470    107336   869.0\n",
       "7471    106336   354.0\n",
       "7472    102002   128.0\n",
       "7473    103225   104.0\n",
       "\n",
       "[3521 rows x 2 columns]"
      ]
     },
     "execution_count": 18,
     "metadata": {},
     "output_type": "execute_result"
    }
   ],
   "source": [
    "unique_orders = df[['order_id', 'bill']].drop_duplicates()\n",
    "unique_orders"
   ]
  },
  {
   "cell_type": "code",
   "execution_count": 19,
   "metadata": {},
   "outputs": [],
   "source": [
    "min_val = unique_orders['bill'].min()\n",
    "q1 = unique_orders['bill'].quantile(0.25)\n",
    "median = unique_orders['bill'].mean()\n",
    "q3 = unique_orders['bill'].quantile(0.75)\n",
    "max_val = unique_orders['bill'].max()"
   ]
  },
  {
   "cell_type": "code",
   "execution_count": 20,
   "metadata": {},
   "outputs": [],
   "source": [
    "iqr = q3 - q1\n",
    "lower = q1 - 1.5 * iqr\n",
    "upper = q3 + 1.5 * iqr"
   ]
  },
  {
   "cell_type": "code",
   "execution_count": 21,
   "metadata": {},
   "outputs": [
    {
     "data": {
      "text/plain": [
       "'Minimum value (min): 9.0'"
      ]
     },
     "metadata": {},
     "output_type": "display_data"
    },
    {
     "data": {
      "text/plain": [
       "'25th percentile (Q1): 194.0'"
      ]
     },
     "metadata": {},
     "output_type": "display_data"
    },
    {
     "data": {
      "text/plain": [
       "'Median (50%): 1317.0336315440688'"
      ]
     },
     "metadata": {},
     "output_type": "display_data"
    },
    {
     "data": {
      "text/plain": [
       "'75th percentile (Q3): 1274.0'"
      ]
     },
     "metadata": {},
     "output_type": "display_data"
    },
    {
     "data": {
      "text/plain": [
       "'Maximum value (max): 675000.0'"
      ]
     },
     "metadata": {},
     "output_type": "display_data"
    },
    {
     "data": {
      "text/plain": [
       "'IQR: 1080.0'"
      ]
     },
     "metadata": {},
     "output_type": "display_data"
    },
    {
     "data": {
      "text/plain": [
       "'Lower bound for outliers: -1426.0'"
      ]
     },
     "metadata": {},
     "output_type": "display_data"
    },
    {
     "data": {
      "text/plain": [
       "'Upper bound for outliers: 2894.0'"
      ]
     },
     "metadata": {},
     "output_type": "display_data"
    }
   ],
   "source": [
    "display(f\"Minimum value (min): {min_val}\")\n",
    "display(f\"25th percentile (Q1): {q1}\")\n",
    "display(f\"Median (50%): {median}\")\n",
    "display(f\"75th percentile (Q3): {q3}\")\n",
    "display(f\"Maximum value (max): {max_val}\")\n",
    "display(f\"IQR: {iqr}\")\n",
    "display(f\"Lower bound for outliers: {lower}\")\n",
    "display(f\"Upper bound for outliers: {upper}\")"
   ]
  },
  {
   "cell_type": "markdown",
   "metadata": {},
   "source": [
    "We will handle outliers in the bill column by removing values that fall outside the lower and upper bounds for outliers."
   ]
  },
  {
   "cell_type": "code",
   "execution_count": 22,
   "metadata": {},
   "outputs": [
    {
     "data": {
      "text/html": [
       "<div>\n",
       "<style scoped>\n",
       "    .dataframe tbody tr th:only-of-type {\n",
       "        vertical-align: middle;\n",
       "    }\n",
       "\n",
       "    .dataframe tbody tr th {\n",
       "        vertical-align: top;\n",
       "    }\n",
       "\n",
       "    .dataframe thead th {\n",
       "        text-align: right;\n",
       "    }\n",
       "</style>\n",
       "<table border=\"1\" class=\"dataframe\">\n",
       "  <thead>\n",
       "    <tr style=\"text-align: right;\">\n",
       "      <th></th>\n",
       "      <th>order_id</th>\n",
       "      <th>bill</th>\n",
       "    </tr>\n",
       "  </thead>\n",
       "  <tbody>\n",
       "    <tr>\n",
       "      <th>2308</th>\n",
       "      <td>70718</td>\n",
       "      <td>2915.0</td>\n",
       "    </tr>\n",
       "    <tr>\n",
       "      <th>3195</th>\n",
       "      <td>14698</td>\n",
       "      <td>2922.0</td>\n",
       "    </tr>\n",
       "    <tr>\n",
       "      <th>346</th>\n",
       "      <td>68709</td>\n",
       "      <td>2923.0</td>\n",
       "    </tr>\n",
       "    <tr>\n",
       "      <th>57</th>\n",
       "      <td>68508</td>\n",
       "      <td>2924.0</td>\n",
       "    </tr>\n",
       "    <tr>\n",
       "      <th>2125</th>\n",
       "      <td>70552</td>\n",
       "      <td>2924.0</td>\n",
       "    </tr>\n",
       "    <tr>\n",
       "      <th>...</th>\n",
       "      <td>...</td>\n",
       "      <td>...</td>\n",
       "    </tr>\n",
       "    <tr>\n",
       "      <th>1299</th>\n",
       "      <td>69504</td>\n",
       "      <td>32718.0</td>\n",
       "    </tr>\n",
       "    <tr>\n",
       "      <th>1022</th>\n",
       "      <td>69156</td>\n",
       "      <td>33680.0</td>\n",
       "    </tr>\n",
       "    <tr>\n",
       "      <th>1518</th>\n",
       "      <td>69830</td>\n",
       "      <td>47385.0</td>\n",
       "    </tr>\n",
       "    <tr>\n",
       "      <th>5071</th>\n",
       "      <td>71668</td>\n",
       "      <td>49432.0</td>\n",
       "    </tr>\n",
       "    <tr>\n",
       "      <th>5456</th>\n",
       "      <td>71743</td>\n",
       "      <td>675000.0</td>\n",
       "    </tr>\n",
       "  </tbody>\n",
       "</table>\n",
       "<p>300 rows × 2 columns</p>\n",
       "</div>"
      ],
      "text/plain": [
       "      order_id      bill\n",
       "2308     70718    2915.0\n",
       "3195     14698    2922.0\n",
       "346      68709    2923.0\n",
       "57       68508    2924.0\n",
       "2125     70552    2924.0\n",
       "...        ...       ...\n",
       "1299     69504   32718.0\n",
       "1022     69156   33680.0\n",
       "1518     69830   47385.0\n",
       "5071     71668   49432.0\n",
       "5456     71743  675000.0\n",
       "\n",
       "[300 rows x 2 columns]"
      ]
     },
     "execution_count": 22,
     "metadata": {},
     "output_type": "execute_result"
    }
   ],
   "source": [
    "unique_orders[unique_orders['bill'] >= upper].sort_values(by='bill')"
   ]
  },
  {
   "cell_type": "code",
   "execution_count": 23,
   "metadata": {},
   "outputs": [
    {
     "data": {
      "text/html": [
       "<div>\n",
       "<style scoped>\n",
       "    .dataframe tbody tr th:only-of-type {\n",
       "        vertical-align: middle;\n",
       "    }\n",
       "\n",
       "    .dataframe tbody tr th {\n",
       "        vertical-align: top;\n",
       "    }\n",
       "\n",
       "    .dataframe thead th {\n",
       "        text-align: right;\n",
       "    }\n",
       "</style>\n",
       "<table border=\"1\" class=\"dataframe\">\n",
       "  <thead>\n",
       "    <tr style=\"text-align: right;\">\n",
       "      <th></th>\n",
       "      <th>date</th>\n",
       "      <th>customer_id</th>\n",
       "      <th>order_id</th>\n",
       "      <th>product</th>\n",
       "      <th>quantity</th>\n",
       "      <th>price</th>\n",
       "      <th>sales</th>\n",
       "      <th>bill</th>\n",
       "    </tr>\n",
       "  </thead>\n",
       "  <tbody>\n",
       "    <tr>\n",
       "      <th>5071</th>\n",
       "      <td>2019-06-11 07:00:00</td>\n",
       "      <td>146cd9bf-a95c-4afb-915b-5f6684b17444</td>\n",
       "      <td>71668</td>\n",
       "      <td>Вешалки мягкие для деликатных вещей 3 шт шоколад</td>\n",
       "      <td>334</td>\n",
       "      <td>148.0</td>\n",
       "      <td>49432.0</td>\n",
       "      <td>49432.0</td>\n",
       "    </tr>\n",
       "    <tr>\n",
       "      <th>5456</th>\n",
       "      <td>2019-06-18 15:00:00</td>\n",
       "      <td>312e9a3e-5fca-43ff-a6a1-892d2b2d5ba6</td>\n",
       "      <td>71743</td>\n",
       "      <td>Вантуз с деревянной ручкой d14 см красный, Bur...</td>\n",
       "      <td>1000</td>\n",
       "      <td>675.0</td>\n",
       "      <td>675000.0</td>\n",
       "      <td>675000.0</td>\n",
       "    </tr>\n",
       "  </tbody>\n",
       "</table>\n",
       "</div>"
      ],
      "text/plain": [
       "                    date                           customer_id  order_id  \\\n",
       "5071 2019-06-11 07:00:00  146cd9bf-a95c-4afb-915b-5f6684b17444     71668   \n",
       "5456 2019-06-18 15:00:00  312e9a3e-5fca-43ff-a6a1-892d2b2d5ba6     71743   \n",
       "\n",
       "                                                product  quantity  price  \\\n",
       "5071   Вешалки мягкие для деликатных вещей 3 шт шоколад       334  148.0   \n",
       "5456  Вантуз с деревянной ручкой d14 см красный, Bur...      1000  675.0   \n",
       "\n",
       "         sales      bill  \n",
       "5071   49432.0   49432.0  \n",
       "5456  675000.0  675000.0  "
      ]
     },
     "execution_count": 23,
     "metadata": {},
     "output_type": "execute_result"
    }
   ],
   "source": [
    "df[df['order_id'].isin([71668, 71743])]"
   ]
  },
  {
   "cell_type": "markdown",
   "metadata": {},
   "source": [
    "All orders exceeding the upper bound for outliers appear normal — mostly large orders containing multiple product items in significant quantities. An example would be the order with order_id 69156. However, the two largest orders contain only one type of product, but in unusually large quantities: 334 hangers and 1000 plungers. This is highly atypical and even anomalous compared to other purchases, so these can be considered outliers and excluded from the dataset."
   ]
  },
  {
   "cell_type": "code",
   "execution_count": 24,
   "metadata": {},
   "outputs": [],
   "source": [
    "df = df[~df['order_id'].isin([71668, 71743])]"
   ]
  },
  {
   "cell_type": "markdown",
   "metadata": {},
   "source": [
    "It is also worth checking for orders placed by more than one customer — such orders are incorrect and should be deleted."
   ]
  },
  {
   "cell_type": "code",
   "execution_count": 25,
   "metadata": {},
   "outputs": [
    {
     "data": {
      "text/plain": [
       "Index([14872, 68785, 69283, 69310, 69345, 69410, 69485, 69531, 69833, 70114,\n",
       "       70542, 70631, 70726, 70808, 70903, 70946, 71054, 71226, 71461, 71480,\n",
       "       71542, 71571, 71648, 71663, 72188, 72778, 72790, 72845, 72950],\n",
       "      dtype='int64', name='order_id')"
      ]
     },
     "execution_count": 25,
     "metadata": {},
     "output_type": "execute_result"
    }
   ],
   "source": [
    "order_multiple_customers = df.groupby('order_id')['customer_id'].nunique()\n",
    "incorrect_oreder_id = order_multiple_customers[order_multiple_customers > 1].index\n",
    "incorrect_oreder_id"
   ]
  },
  {
   "cell_type": "code",
   "execution_count": 26,
   "metadata": {},
   "outputs": [],
   "source": [
    "df = df[~df['order_id'].isin(incorrect_oreder_id)]"
   ]
  },
  {
   "cell_type": "code",
   "execution_count": 27,
   "metadata": {},
   "outputs": [
    {
     "data": {
      "text/plain": [
       "'Absolute data loss in column date: 1954'"
      ]
     },
     "metadata": {},
     "output_type": "display_data"
    },
    {
     "data": {
      "text/plain": [
       "'Relative data loss in column date: 26.14%'"
      ]
     },
     "metadata": {},
     "output_type": "display_data"
    }
   ],
   "source": [
    "data_loss(df, df_raw, column_name='date')"
   ]
  },
  {
   "cell_type": "markdown",
   "metadata": {},
   "source": [
    "After all the manipulations, the total data loss is 26%."
   ]
  },
  {
   "cell_type": "markdown",
   "metadata": {},
   "source": [
    "### Adding Product Categories"
   ]
  },
  {
   "cell_type": "markdown",
   "metadata": {},
   "source": [
    "Data Preparation Steps:\n",
    "\n",
    "- Converting text to lowercase.\n",
    "- Tokenization (representation as a list of words) or removal of punctuation/numbers/stopwords (particles, conjunctions, prepositions)."
   ]
  },
  {
   "cell_type": "code",
   "execution_count": 28,
   "metadata": {},
   "outputs": [],
   "source": [
    "df['product'] = df['product'].str.lower()"
   ]
  },
  {
   "cell_type": "markdown",
   "metadata": {},
   "source": [
    "After analyzing the cleaned product names, we can identify 6 categories:\n",
    "\n",
    "- Flowers\n",
    "- Vegetables and Fruits\n",
    "- Garden Supplies\n",
    "- Textile and Decor\n",
    "- Household Goods\n",
    "- Kitchenware\n",
    "\n",
    "For each category, we will select key words, based on which each item will be categorized:"
   ]
  },
  {
   "cell_type": "code",
   "execution_count": 29,
   "metadata": {},
   "outputs": [],
   "source": [
    "categories = { \n",
    "    'Flowers': [\n",
    "        'радермахер', 'хризолидокарпус лутесценс', 'циперус зумул', 'шеффлера лузеана', 'хлорофитум',\n",
    "        'цикламен', 'глоксиния', 'азалия индик биколор', 'гортензия микс', 'хризантема космо микс', \n",
    "        'мирт', 'бегония', 'адиантум лиза', 'каланхий каландив', 'антуриум', 'фиалка', 'гербер', \n",
    "        'душица', 'лаванда', 'аспарагус', 'афеляндр', 'сантолина', 'иссол лекарственный', 'артифемизия',\n",
    "        'пеларгония', 'петуния', 'калибрахоа', 'роза', 'эвкалипт', 'кампанула', 'колокольчик карпатский', \n",
    "        'хризантема', 'бальзамин', 'фаленопсис', 'дендробиум', 'калла', 'георгин', 'гортензия',\n",
    "        'настурция орхидный пламя', 'гвоздик', 'шалфей', 'тюльпан', 'незабудка', 'флокс', \n",
    "        'алиссума', 'пуансеттия', 'вербена', 'соланум', 'спатифиллум', 'мединилла магнифика', \n",
    "        'виола', 'крассула', 'фиттония', 'примула', 'бархатцы', 'подсолнечник', 'годеция', \n",
    "        'эшшольция', 'анемон', 'камнеломка', 'георгин', 'астр альпийский', 'змееголовник', \n",
    "        'импатиенс', 'цинерария', 'камнеломка', 'лантан', 'аквилегия', 'вероника', 'вербейник', \n",
    "        'рудбекия', 'бадан', 'гаилардиа', 'монарда', 'завёртка', 'клён', 'нивянник ромашка', \n",
    "        'овсянница', 'гаилардиа крупноцветковый', 'рудбекия тайгера', 'вероника колосковый', \n",
    "        'камнеломка тенистый', 'солидаго', 'фикус', 'капроновый', 'хоста', 'сциндапсус', \n",
    "        'фиксатор', 'калатея микс', 'мимоза стыдливый', 'замиокулькас', 'диффенбахий камилла', \n",
    "        'фуксия', 'камнеломка тенистый', 'антуриум', 'мирт', 'гортензия', 'тюльпан', 'осина', \n",
    "        'нефролепис бостон', 'гиацинт луковица', 'гиацинт', 'платикодон', 'петуния', \n",
    "        'девичий виноград', 'декабрист', 'физостегия вергинский', 'папоротник', 'монарда гибридный', \n",
    "        'вербейник монетчатый', 'котовник', 'лилейникнуть', 'папоротник страусникнуть', \n",
    "        'смолёвка звёздный взрыв', 'астр альпийский микс', 'камнеломка арендс', 'буддлей', \n",
    "        'георгин', 'эпипремнум ауреум', 'алансон','комнатный','юкка нитчатый','многолетний тимьянчабрец',\n",
    "        'эхеверие перл нюрнберг','нолин цветной керамик','аптения','новогодний дерево сербский',\n",
    "        'пуансеттие','полка ньюйорк правый белыйголуба','бакоп','бакоп мегакрупный','базилик овощной арарат',\n",
    "        'колокольчик персиколистный','лобелия', 'лобелия регатта микс','однолетний табак душистый',\n",
    "        'карниз ванная виогод раздвижной кольцо','эхеверие микс','тимьян','чабёр','зверобой продырявить оптимист',\n",
    "        'базилик пурпурный звезда','базилик смесь зелёный','гардения','кофе арабика','алоэ вера',\n",
    "        'календула бронзовый красавица','полка белыйчрный','шеффлера голд капелла','фатсия японский',\n",
    "        'эхинокактус грузонь','полка токио чрный','цинния ацтек бургунди биколор',\n",
    "        'цинния хаага мехико','круглый водолей', 'суккулента микс', 'кориандр', 'круглый', 'иссоп лекарственный', \n",
    "        'набор свереть дерево','молодило микс', 'мелисса лекарственный', 'розмарин', 'альбук спиралиса фризлсизлый', \n",
    "        'артемизия полынь горький', 'петлястрела рыбинск','калоцефалус брауни крашеный осенний микс', \n",
    "        'каллуна гарден герлс трехцветной', 'капсикума сальса оранжевый', 'настурция драгоценность вишневорозовый', 'календула пинк сюрпрайза', 'кореопсис толл',\n",
    "        'лапчатка огненный пламя', 'гиностемма укоренить черенок', 'канадский коник нидерланды', 'кипарисовик лавсон элвудить нидерланды', 'новогодний дерево канадский коник', 'новогодний дерево канадский коник ведёрко',\n",
    "        'петлить рояльный оксид', 'скиммия японский рубелла', 'розмарин', 'полка лондон', 'овощ мясо', 'петлить рояльный цинк',\n",
    "        'азалия индик', 'полка берлин чрный', 'кодонант укоренить черенок', 'гимнокалициум микс', 'калатея крокат', 'полка мадрид белыйчрный штука штука',\n",
    "        'крокус луковица', 'седума почвопокровный смесь окраска', 'азалия индик', 'карниз ванная алюминий хром', 'полка барселона', 'тортница',\n",
    "        'базилик зелёный тонус', 'лавр', 'эхинацея микс', 'ясколка войлочный', 'розмарин', 'базилик зелёный тонус',\n",
    "        'энотера миссурийский золотой', 'урнапепельница стать хоббик', 'цитрофортунелла кумквата штамбовый', 'пеперомия', 'календула суприма', 'цинния коралловый красавица',\n",
    "        'цинния оранжевый король', 'базилик застольный', 'настурция лунный свет', 'однолетний астр', 'мускари луковица', 'однолетний тагетис мелкоцветковый',\n",
    "        'однолетний циния', 'муррайя', 'кореопсис золотой маяк', 'однолетний портулак', 'однолетний газаний', 'базилик зелёный тонус',\n",
    "        'кориандр стимул раннеспелый штука', 'однолетний циния', 'однолетний целозия метельчатый', 'джункус пенсила грасс', 'драцена фрагранс компакт', 'однолетний львиный',\n",
    "        'однолетний сальвия', 'седума почвопокровный смесь окраска', 'хост микс', 'однолетний астр', 'однолетний циния', 'гайлардия крупноцветковый желтокрасный',\n",
    "        'кореопсис золотой маяк', 'монард гибридный бергамо', 'однолетний астр', 'однолетний циния', 'полка мадрид белыйчрный штука штука', 'обувница квадро венга',\n",
    "        'лапчатка травянистый', 'седума очиток видный', 'барвинок', 'молодило', 'пряный трава микс', 'бузульник пржевальский кленолистный',\n",
    "        'седума почвопокровный смесь окраска', 'ясколка войлочный', 'лапчатка травянистый', 'небесный лазурь', 'ясколка войлочный', 'фатсия',\n",
    "        'однолетний львиный', 'лавр нобилиса', 'лаватер монт блан', 'ванна оцинковать магнитогорск', 'небесный лазурь', 'базилик овощной пурпурный звезда штука среднеспелый',\n",
    "        'базилик овощной тонус штука среднеспелый', 'валериан лекарственный кардиол штука', 'лавр', 'любисток удалец штука', 'монард', 'табак бордовый штука',\n",
    "        'табак курительный юбилейный новый штука среднеспелый', 'базилик зелёный тонус', 'лавр', 'хамедорей', 'полка берлин чрный', 'сахарница фарфоровый',\n",
    "        'полка барселона', 'полка торонто', 'розмарин', 'амариллис темнокрасный луковица', 'стейк', 'полка торонто',\n",
    "        'полка италия белыйсерый', 'круглый', 'базилик застольный', 'эхеверие лила чин', 'сахарница фарфоровый', 'зверобой продырявить',\n",
    "        'пахир акватик мультистем', 'полка торонто', 'подушка ассортимент', 'полка италия белыйсерый', 'полка пекин белыйчрный', 'лавр',\n",
    "        'полка италия белыйсерый', 'литопс микс', 'настурция драгоценность вишневорозовый', 'круглый', 'кипарисовик лавсон элвудить нидерланды', 'хамедорей',\n",
    "        'муррайя', 'базилик застольный', 'калатея крокат', 'азалия индик', 'калатея крокат', 'цитрофортунелла кумквата штамбовый',\n",
    "        'полка берлин чрный', 'кореопсис золотой маяк', 'полка лондон', 'гиностемма укоренить черенок', 'молодило', 'круглый',\n",
    "        'энотера миссурийский золотой', 'иссоп лекарственный', 'базилик овощной пурпурный звезда штука среднеспелый', 'базилик овощной тонус штука среднеспелый', 'азалия индик', 'базилик овощной тонус штука среднеспелый'    \n",
    "    ],\n",
    "    'Vegetables and Fruits': [\n",
    "        'дыня', 'огурец', 'морковь', 'картофель', 'кабачок', 'баклажан', 'клубника', \n",
    "        'капуста', 'укроп', 'арбуз', 'томат', 'петрушка', 'сельдерей', 'горох', 'земляника', \n",
    "        'патиссон диск раннеспелый', 'патиссон оранжевый', 'салат рукол дикий', 'салат рукол сицилия', \n",
    "        'тыква крупноплодный лечебный', 'порей победитель', 'импатиенс гвинея микс', 'вигна', \n",
    "        'порей победитель', 'тыква', 'томат', 'патиссон', 'порей', 'морковь', 'баклажан'\n",
    "    ],\n",
    "    'Garden Supplies': [\n",
    "        'сад', 'хранение', 'уборка', 'садовые принадлежности', 'секатор', 'лопата', 'грабли', \n",
    "        'опрыскиватель', 'рассада', 'почва', 'мульча', 'удобрение', 'практичный', 'долговечный', \n",
    "        'удобный', 'эффективный', 'сверлофреза', 'плечики', 'гаражный', 'крепёж', 'пружина', \n",
    "        'корыто', 'кашпо', 'скребок', 'тряпкодержатель', 'лопатка', 'инструменты', 'практичный', \n",
    "        'долговечный', 'удобный', 'эффективный', 'сверлофреза', 'садовые', 'сменный блок ролик', \n",
    "        'пьезозажигалка мультиискра', 'садовые принадлежности', 'секатор', 'инструменты', \n",
    "        'садовые принадлежности', 'гаражный', 'крепёж', 'секатор', 'сверлофреза', 'лопата', \n",
    "        'плечики', 'гаражный', 'удобрение', 'практичный', 'удобный', 'эффективный', 'лопата', \n",
    "        'удобный', 'практичный', 'гаражный', 'многофункциональный', 'удобный', 'удобрение', \n",
    "        'гаражный', 'практичный', 'практичный', 'удобный', 'эффективный', 'рассада', \n",
    "        'почва', 'удобрение', 'практичный', 'лопата', 'практичный', 'инструменты', \n",
    "        'удобный', 'секатор', 'удобный', 'удобрение', 'секатор', 'удобрение', \n",
    "        'лопата', 'эффективный', 'инструменты', 'практичный', 'секатор', 'удобный', \n",
    "        'удобный', 'удобрение', 'секатор', 'садовые принадлежности', 'опрыскиватель', \n",
    "        'практичный', 'сад', 'крепёж', 'практичный', 'лопата', 'лопата', 'удобный', \n",
    "        'удобный', 'удобрение', 'удобрение', 'лопата', 'лопата', 'практичный', 'удобрение', \n",
    "        'секатор', 'удобрение', 'удобрение', 'инструменты', 'удобрение', 'лопата', \n",
    "        'удобрение', 'лопата', 'садовые принадлежности', 'удобрение', 'удобрение', \n",
    "        'секатор', 'удобрение', 'удобрение', 'удобрение', 'лопата', 'удобрение', 'удобрение', \n",
    "        'удобрение', 'лопата', 'удобрение', 'удобрение', 'удобрение', 'лопата', \n",
    "        'удобрение', 'удобрение', 'удобрение', 'удобрение', 'лопата', 'удобрение'\n",
    "    ],\n",
    "    'Textile and Decor': [\n",
    "        'коврик', 'скатерть', 'плед', 'текстиль', 'хлопок', 'покрывало',\n",
    "        'наволочка', 'шторы', 'декор', 'уют', 'мягкий', 'стеганый',\n",
    "        'стильный', 'рисунок', 'красивый', 'оригинальный', 'ковровый', 'штора',\n",
    "        'ковёр', 'ковр', \"одеяло\",'халат','полотенце','сушилка', 'бельё', 'потолочный', 'напольный', 'настенный', \n",
    "        'складывающийся', 'переносной', 'компактный', 'быстрая сушка',\n",
    "        'место для сушки', 'стирка', 'хранилище', 'практичный', 'удобный', \n",
    "        'эффективный', 'стильный', \n",
    "        'стеллаж обувь светлый', 'стеллаж обувь венга','мятый','муляж', 'фрукты', 'овощи', \n",
    "        'полиуретан', 'искусственный', 'реалистичный',\n",
    "        'декор', 'интерьер', 'выставочный', 'витрина', 'кулинария', 'обучение',\n",
    "        'моделирование', 'декоративный', 'праздничный', 'стильный', \n",
    "        'искусственные фрукты', 'искусственные овощи'\n",
    "    ],\n",
    "    'Household Goods': [\n",
    "        'сумка', 'тележка', 'мусор', 'контейнер', 'корзина', 'организация',\n",
    "        'хранение', 'упаковка', 'ведро', 'многофункциональный',\n",
    "        'удобный', 'практичный', 'уход', 'чистота', 'стильный', 'эффективный',\n",
    "        'подставка', 'прищепка', 'швабра', 'крышка', 'пыль', 'способы',\n",
    "        'средство', 'бензин', 'гладильный', 'щётка', 'щеткаутюжок', 'штанга', \n",
    "        'щеткасмётка', 'мыло', 'зубной паста', 'унитазный', 'перчатка', \n",
    "        'стремянка', 'бутылка', 'стяжка', 'крем', 'подрукавник', 'пилообразный', \n",
    "        'подрукавник', 'бидон', 'хлебница', 'миска варение алюминиевый', \n",
    "        'ведро', 'ящик почтовый металлический ушко навесный замок домик', \n",
    "        'туалет', 'крем',\"весы\", \"шуруповерт\",\"сварка\",\"плита\",\"фоторамка\", 'косметь',\n",
    "        'кузьмич','сидение','вантуз','комод','ключница','ваза','складный детский пожарный машинка',\n",
    "        'ножи','овальный','пластик','полимербыт','ручка','короб','смётка','паста',\n",
    "        'тряпка','электрика','соль','штангенциркуль','пиретрум','насос','электрошнур',\n",
    "        'пробка','кисточка','ополаскиватель','электроштопор','орехоколка','маска','ткань',\n",
    "        'сверло','универсальный','ковш','лоток','лантан','шнур','батарейка','обувь','решётка',\n",
    "        'кипятильник'\n",
    "    ],\n",
    "    'Kitchenware': [\n",
    "        'кухонный', 'столовый', 'сталь', 'посуда', 'кухонные принадлежности',\n",
    "        'кастрюли', 'сковородки', 'столовые приборы', 'сервировка',\n",
    "        'утварь', 'принадлежности', 'аксессуары', 'гаджеты', 'дизайн',\n",
    "        'практичность', 'удобство', 'минисковорода', 'сковорода', 'чайник', \n",
    "        'противень', 'овощеварка', 'тарелка', 'кружка', 'чехол', \n",
    "        'фужер', 'кувшин', 'банка', 'маслёнка', 'салатник', 'салфетка', \n",
    "        'салфетница', 'стакан', 'ложка', 'лопатка', 'толкушка', 'веник', \n",
    "        'гладильный', 'удобный', 'вешалка', 'крючок', 'чистка', 'прищепка', \n",
    "        'влажный', 'чистящий', 'светильник', 'стиральный', 'пена', 'пищевой', \n",
    "        'подголовник', 'угольник', 'линейка', 'крепёж', 'пружина', 'лестница',\n",
    "        'строительный', 'губка', 'ножеточка', 'гладильный', 'щётка', \n",
    "        'щеткаутюжок', 'дорожный', 'хранилище', 'корыто', 'чистящее', \n",
    "        'антижир', 'банк', 'пластхозторг',\n",
    "        'сотейник алюминиевый керамический покрытие керамика',\n",
    "        'кастрюля эмалировать хозлэнд', 'кастрюля круглый серый чугунный',\n",
    "        'термос стеклянный колба темнозелёный', 'соковыжималка цитрусовый',\n",
    "        'термометр уличный оконный', 'тёрка', \"набор чайный\", \"миксер\", \"утюг\", \"мясорубка\", \"кастрюля\",\n",
    "        \"разделочная доска\", \"форма выпечки\", \"термос\", \"коробка\", \"кофр\", \"ящик\",\n",
    "        \"упаковка\",\"контейнер\", \"термометр\", \"мыльница\", \"венчик\", \"сито\",'вилка','бокал',\n",
    "        'форма','измельчитель','пресс чеснок','картофелемялка','сетка глажение',\n",
    "        'совка','разделочный доска','чайный набор','блюдце','разделочный',\n",
    "        'просеиватель','алюминиевый','нержавеющий','медь','полипропиленовый','керамика',\n",
    "        'бульонница','нож','ёмкость','миска','блюдо','соковарка','скалка','отделитель'\n",
    "    ]\n",
    "}      "
   ]
  },
  {
   "cell_type": "code",
   "execution_count": 30,
   "metadata": {},
   "outputs": [],
   "source": [
    "def assign_category(description):\n",
    "    for category, keywords in categories.items():\n",
    "        if any(keyword in description for keyword in keywords):\n",
    "            return category\n",
    "    return 'Not Defined'"
   ]
  },
  {
   "cell_type": "code",
   "execution_count": 31,
   "metadata": {},
   "outputs": [],
   "source": [
    "df['category'] = df['product'].apply(assign_category)"
   ]
  },
  {
   "cell_type": "markdown",
   "metadata": {},
   "source": [
    "Let's check how the categories are distributed and whether there are any items with a specific category:"
   ]
  },
  {
   "cell_type": "code",
   "execution_count": 32,
   "metadata": {},
   "outputs": [
    {
     "data": {
      "image/png": "[encoded data removed]",
      "text/plain": [
       "<Figure size 1600x600 with 1 Axes>"
      ]
     },
     "metadata": {},
     "output_type": "display_data"
    },
    {
     "data": {
      "text/plain": [
       "\"Products with category 'Not Defined':\""
      ]
     },
     "metadata": {},
     "output_type": "display_data"
    },
    {
     "data": {
      "text/html": [
       "<div>\n",
       "<style scoped>\n",
       "    .dataframe tbody tr th:only-of-type {\n",
       "        vertical-align: middle;\n",
       "    }\n",
       "\n",
       "    .dataframe tbody tr th {\n",
       "        vertical-align: top;\n",
       "    }\n",
       "\n",
       "    .dataframe thead th {\n",
       "        text-align: right;\n",
       "    }\n",
       "</style>\n",
       "<table border=\"1\" class=\"dataframe\">\n",
       "  <thead>\n",
       "    <tr style=\"text-align: right;\">\n",
       "      <th></th>\n",
       "      <th>date</th>\n",
       "      <th>customer_id</th>\n",
       "      <th>order_id</th>\n",
       "      <th>product</th>\n",
       "      <th>quantity</th>\n",
       "      <th>price</th>\n",
       "      <th>sales</th>\n",
       "      <th>bill</th>\n",
       "      <th>category</th>\n",
       "    </tr>\n",
       "  </thead>\n",
       "  <tbody>\n",
       "    <tr>\n",
       "      <th>0</th>\n",
       "      <td>2018-10-01 00:00:00</td>\n",
       "      <td>ee47d746-6d2f-4d3c-9622-c31412542920</td>\n",
       "      <td>68477</td>\n",
       "      <td>комнатное растение в горшке алое вера, d12, h30</td>\n",
       "      <td>1</td>\n",
       "      <td>142.0</td>\n",
       "      <td>142.0</td>\n",
       "      <td>1037.0</td>\n",
       "      <td>Not Defined</td>\n",
       "    </tr>\n",
       "    <tr>\n",
       "      <th>6</th>\n",
       "      <td>2018-10-01 00:00:00</td>\n",
       "      <td>ee47d746-6d2f-4d3c-9622-c31412542920</td>\n",
       "      <td>68477</td>\n",
       "      <td>юкка нитчатая d-12 см h-25-35 см</td>\n",
       "      <td>1</td>\n",
       "      <td>134.0</td>\n",
       "      <td>134.0</td>\n",
       "      <td>1037.0</td>\n",
       "      <td>Not Defined</td>\n",
       "    </tr>\n",
       "    <tr>\n",
       "      <th>19</th>\n",
       "      <td>2018-10-01 21:00:00</td>\n",
       "      <td>b731df05-98fa-4610-8496-716ec530a02c</td>\n",
       "      <td>68474</td>\n",
       "      <td>доска гладильная eurogold professional 130х48 ...</td>\n",
       "      <td>1</td>\n",
       "      <td>3299.0</td>\n",
       "      <td>3299.0</td>\n",
       "      <td>3299.0</td>\n",
       "      <td>Not Defined</td>\n",
       "    </tr>\n",
       "    <tr>\n",
       "      <th>61</th>\n",
       "      <td>2018-10-02 21:00:00</td>\n",
       "      <td>29a514f5-a27e-4939-85d5-874a0c3f7a2c</td>\n",
       "      <td>68510</td>\n",
       "      <td>суккулент микс d-5 см</td>\n",
       "      <td>1</td>\n",
       "      <td>74.0</td>\n",
       "      <td>74.0</td>\n",
       "      <td>193.0</td>\n",
       "      <td>Not Defined</td>\n",
       "    </tr>\n",
       "    <tr>\n",
       "      <th>62</th>\n",
       "      <td>2018-10-02 21:00:00</td>\n",
       "      <td>29a514f5-a27e-4939-85d5-874a0c3f7a2c</td>\n",
       "      <td>68510</td>\n",
       "      <td>эхеверия перл фон нюрнберг d-7 см</td>\n",
       "      <td>1</td>\n",
       "      <td>119.0</td>\n",
       "      <td>119.0</td>\n",
       "      <td>193.0</td>\n",
       "      <td>Not Defined</td>\n",
       "    </tr>\n",
       "    <tr>\n",
       "      <th>...</th>\n",
       "      <td>...</td>\n",
       "      <td>...</td>\n",
       "      <td>...</td>\n",
       "      <td>...</td>\n",
       "      <td>...</td>\n",
       "      <td>...</td>\n",
       "      <td>...</td>\n",
       "      <td>...</td>\n",
       "      <td>...</td>\n",
       "    </tr>\n",
       "    <tr>\n",
       "      <th>7429</th>\n",
       "      <td>2020-01-24 10:00:00</td>\n",
       "      <td>6716fe16-7871-47d5-a0d2-86691f8d46de</td>\n",
       "      <td>109302</td>\n",
       "      <td>гладильная доска sarayli new elegant 125x45 см</td>\n",
       "      <td>1</td>\n",
       "      <td>2549.0</td>\n",
       "      <td>2549.0</td>\n",
       "      <td>2549.0</td>\n",
       "      <td>Not Defined</td>\n",
       "    </tr>\n",
       "    <tr>\n",
       "      <th>7430</th>\n",
       "      <td>2020-01-24 16:00:00</td>\n",
       "      <td>1f502315-d58f-401c-8ba2-88b16e53d0b3</td>\n",
       "      <td>110414</td>\n",
       "      <td>гладильная доска hausmann classic mono 120x38 ...</td>\n",
       "      <td>1</td>\n",
       "      <td>2399.0</td>\n",
       "      <td>2399.0</td>\n",
       "      <td>2399.0</td>\n",
       "      <td>Not Defined</td>\n",
       "    </tr>\n",
       "    <tr>\n",
       "      <th>7450</th>\n",
       "      <td>2020-01-27 14:00:00</td>\n",
       "      <td>ae036d1b-b1d5-41e4-8c85-d2bd1b0b4e18</td>\n",
       "      <td>101880</td>\n",
       "      <td>настурция орхидное пламя 5 шт 4650091480692</td>\n",
       "      <td>1</td>\n",
       "      <td>14.0</td>\n",
       "      <td>14.0</td>\n",
       "      <td>14.0</td>\n",
       "      <td>Not Defined</td>\n",
       "    </tr>\n",
       "    <tr>\n",
       "      <th>7454</th>\n",
       "      <td>2020-01-28 11:00:00</td>\n",
       "      <td>ea0d1348-249e-4aff-9149-599eb6d98dec</td>\n",
       "      <td>106547</td>\n",
       "      <td>настурция орхидное пламя 5 шт 4650091480692</td>\n",
       "      <td>1</td>\n",
       "      <td>14.0</td>\n",
       "      <td>14.0</td>\n",
       "      <td>14.0</td>\n",
       "      <td>Not Defined</td>\n",
       "    </tr>\n",
       "    <tr>\n",
       "      <th>7464</th>\n",
       "      <td>2020-01-29 13:00:00</td>\n",
       "      <td>28437f82-c2a8-41ea-a7c1-bcedece59d8b</td>\n",
       "      <td>102658</td>\n",
       "      <td>гладильная доска ника 3+ 122х34,5 см н3+</td>\n",
       "      <td>1</td>\n",
       "      <td>1124.0</td>\n",
       "      <td>1124.0</td>\n",
       "      <td>1124.0</td>\n",
       "      <td>Not Defined</td>\n",
       "    </tr>\n",
       "  </tbody>\n",
       "</table>\n",
       "<p>576 rows × 9 columns</p>\n",
       "</div>"
      ],
      "text/plain": [
       "                    date                           customer_id  order_id  \\\n",
       "0    2018-10-01 00:00:00  ee47d746-6d2f-4d3c-9622-c31412542920     68477   \n",
       "6    2018-10-01 00:00:00  ee47d746-6d2f-4d3c-9622-c31412542920     68477   \n",
       "19   2018-10-01 21:00:00  b731df05-98fa-4610-8496-716ec530a02c     68474   \n",
       "61   2018-10-02 21:00:00  29a514f5-a27e-4939-85d5-874a0c3f7a2c     68510   \n",
       "62   2018-10-02 21:00:00  29a514f5-a27e-4939-85d5-874a0c3f7a2c     68510   \n",
       "...                  ...                                   ...       ...   \n",
       "7429 2020-01-24 10:00:00  6716fe16-7871-47d5-a0d2-86691f8d46de    109302   \n",
       "7430 2020-01-24 16:00:00  1f502315-d58f-401c-8ba2-88b16e53d0b3    110414   \n",
       "7450 2020-01-27 14:00:00  ae036d1b-b1d5-41e4-8c85-d2bd1b0b4e18    101880   \n",
       "7454 2020-01-28 11:00:00  ea0d1348-249e-4aff-9149-599eb6d98dec    106547   \n",
       "7464 2020-01-29 13:00:00  28437f82-c2a8-41ea-a7c1-bcedece59d8b    102658   \n",
       "\n",
       "                                                product  quantity   price  \\\n",
       "0       комнатное растение в горшке алое вера, d12, h30         1   142.0   \n",
       "6                      юкка нитчатая d-12 см h-25-35 см         1   134.0   \n",
       "19    доска гладильная eurogold professional 130х48 ...         1  3299.0   \n",
       "61                                суккулент микс d-5 см         1    74.0   \n",
       "62                    эхеверия перл фон нюрнберг d-7 см         1   119.0   \n",
       "...                                                 ...       ...     ...   \n",
       "7429     гладильная доска sarayli new elegant 125x45 см         1  2549.0   \n",
       "7430  гладильная доска hausmann classic mono 120x38 ...         1  2399.0   \n",
       "7450        настурция орхидное пламя 5 шт 4650091480692         1    14.0   \n",
       "7454        настурция орхидное пламя 5 шт 4650091480692         1    14.0   \n",
       "7464           гладильная доска ника 3+ 122х34,5 см н3+         1  1124.0   \n",
       "\n",
       "       sales    bill     category  \n",
       "0      142.0  1037.0  Not Defined  \n",
       "6      134.0  1037.0  Not Defined  \n",
       "19    3299.0  3299.0  Not Defined  \n",
       "61      74.0   193.0  Not Defined  \n",
       "62     119.0   193.0  Not Defined  \n",
       "...      ...     ...          ...  \n",
       "7429  2549.0  2549.0  Not Defined  \n",
       "7430  2399.0  2399.0  Not Defined  \n",
       "7450    14.0    14.0  Not Defined  \n",
       "7454    14.0    14.0  Not Defined  \n",
       "7464  1124.0  1124.0  Not Defined  \n",
       "\n",
       "[576 rows x 9 columns]"
      ]
     },
     "metadata": {},
     "output_type": "display_data"
    }
   ],
   "source": [
    "category_counts = df['category'].value_counts()\n",
    "\n",
    "plt.figure(figsize=(16, 6))\n",
    "category_counts.plot(kind='bar', color='skyblue')\n",
    "plt.title('Number of products in each category')\n",
    "plt.xlabel('Category')\n",
    "plt.ylabel('Number of items')\n",
    "plt.xticks(rotation=45)\n",
    "plt.show()\n",
    "\n",
    "uncategorized_items = df[df['category'] == 'Not Defined']\n",
    "display(\"Products with category 'Not Defined':\")\n",
    "display(uncategorized_items)"
   ]
  },
  {
   "cell_type": "code",
   "execution_count": 33,
   "metadata": {},
   "outputs": [
    {
     "data": {
      "text/plain": [
       "['комнатное растение в горшке алое вера, d12, h30',\n",
       " 'юкка нитчатая d-12 см h-25-35 см',\n",
       " 'доска гладильная eurogold professional 130х48 см металлическая сетка 35748w',\n",
       " 'суккулент микс d-5 см',\n",
       " 'эхеверия перл фон нюрнберг d-7 см',\n",
       " 'набор кружек для пива гамбург 2шт 500мл, h5072, luminarc, россия',\n",
       " 'дозатор для мыла hausmann белый hm-b0194r-2',\n",
       " 'ковер придверный \"multy rus\" 120х180см., коричневый, рр214/07034',\n",
       " 'перчатки латексные № 3 для дома утолщенные, rozenbal, r105628',\n",
       " 'гладильная доска gimi jean green line 107х30 см',\n",
       " 'комнатное растение в горшке алое вера, d12, h30',\n",
       " 'нолина в цветной керамике d-7 см',\n",
       " 'крепеж для пружины дверной, 1107055',\n",
       " 'петля приварная гаражная d 14х90 мм с шаром, 1103003',\n",
       " 'вкладыши для хранения посуды 2 шт d-38 cm marmiton, lg17056',\n",
       " 'щетка для смахивания пыли 60 см разноцветная, burstenmann, 0528/0000',\n",
       " 'стремянки colombo leonardo 3 ступени g300a03w черая 3649',\n",
       " 'таз пластмассовый со стиральной доской (иж), 1404021',\n",
       " 'щетка для посуды *мила* sv3182 1807009',\n",
       " 'щетка-утюжок с ручкой миди, standart, york, g1126',\n",
       " 'комнатное растение в горшке алое вера, d12, h30',\n",
       " 'гладильная доска ника haushalt m hm 122х40 см',\n",
       " 'набор сверел по дереву из 8 шт, 3-10 мм *888* 6867540, 0512261',\n",
       " 'гладильная доска дсп \"бэлль-юниор2\", 112*34,5, бю2, ника',\n",
       " 'гладильная доска sarayli orion 130x44 см',\n",
       " 'гладильная доска перф металл \"ника 10+\", 122*40, н10+, ника',\n",
       " 'мелисса лекарственная d-9 см',\n",
       " 'гладильная доска sarayli new elegant 125x45 см',\n",
       " 'ерш для унитаза spirella venise с подставкой керамический 4007036',\n",
       " 'щетка палубная 215х80х20 мм 6-рядная без черенка угловой держатель 58 1801088',\n",
       " 'гладильная доска перф металл \"эльза премиум\", 122*40, элп, ника',\n",
       " 'гладильная доска фанера \"стелла премиум 2\", 122*38, стп2, ника',\n",
       " 'гладильная доска sarayli tamara 125x42 см',\n",
       " 'набор вешалок мягких тканевых с перекладиной 38х15 см 2 шт валиант / valiant val 7054sb',\n",
       " 'перчатки латексные 10 шт размер s, r105816, rozenbal',\n",
       " 'щетка для посуды из искусственного волокна и пластмассы 20 см белая, burstenmann, 0703/0065',\n",
       " 'гладильная доска colombo avantgard 120х40 см',\n",
       " 'настольная гладильная доска фанера, 85*30, нд, ника',\n",
       " 'масленка коровка с крышкой 17см, 73115, luminarc, франция',\n",
       " 'гладильная доска attribute хоми топ 124х40 см синяя abh010',\n",
       " 'гладильная доска ника бэлль 106,5х29 см б',\n",
       " 'гладильная доска ника стелла классик 1 122х34,5 см стк1',\n",
       " 'гладильная доска ника sophy корица hsk 123х46 см',\n",
       " 'набор вешалок мягких тканевых с перекладиной и клипсами 48х23 см 2 шт валиант / valiant val 7057gc',\n",
       " 'сиденье для унитаза росспласт ажур белое рп-813',\n",
       " 'сметка с совком престиж, york, g6207',\n",
       " 'терка webber из нержавеющей стали ве-048 4 грани 20 см с красной ручкой',\n",
       " 'терка webber из нержавеющей стали ве-054 6 граней 21 см',\n",
       " 'ковер придверный имитация травы 60х90см , цвет серый',\n",
       " 'гладильная доска attribute teflonix 130х46 см abt142',\n",
       " 'альбука спиралис фризл-сизл d-12 см',\n",
       " 'гладильная доска ника bruna m hbm 122х40 см',\n",
       " 'артемизия (полынь горькая) d-9 см',\n",
       " 'гладильная доска ника дсп эконом 106,5х29 эк1',\n",
       " 'петля-стрела пс-286 мм (рыбинск), 1104019',\n",
       " 'мята d-9 см',\n",
       " 'каланхое каландива белое d-7 см',\n",
       " 'таз пластмассовый со стиральной доской (иж), 1404021',\n",
       " 'вешалки мягкие для деликатных вещей 3 шт желтые',\n",
       " 'перчатки латексные 10 шт, р-р м, r105817, rozenbal',\n",
       " 'перчатки резиновые универсальные centi, р-р m, york, g9212',\n",
       " 'каллуна гарден герлс трехцветная d-12 см h-27 см',\n",
       " 'капсикум сальса оранжевый d-10 см',\n",
       " 'мимоза стыдливая d-9 см',\n",
       " 'мантоварка алюминиевая 6,0 л 3 сетки белая калитва, хозлэнд, 1502074',\n",
       " 'гладильная доска ника lora fashion hlf 123х46 см',\n",
       " 'гладильная доска ника blues 124х46 см 5757',\n",
       " 'перчатки резиновые универсальные centi, р-р m, york, g9212',\n",
       " 'ролик для чистки одежды *clear line* (20 слоев), 1205060',\n",
       " 'сменный блок для ролика 2 шт (r160071), rozenbal, r510100',\n",
       " 'космея очаровашка 0,05 г 4660010779578',\n",
       " 'настурция драгоценность вишнево-розовая 1 г 4660010773316',\n",
       " 'шило с пластмассовой ручкой утолщенное с крючком, 1205083',\n",
       " 'гладильная доска ника бэлль 106,5х29 см б',\n",
       " 'набор вешалок универсальных attribute siluet cream 45 см 4 шт ahp224',\n",
       " 'гладильная доска ника sophy корица hsk 123х46 см',\n",
       " 'гладильная доска colombo avantgard 120х40 см',\n",
       " 'гладильная доска ника стелла классик 2 122х34,5 см стк2',\n",
       " 'гладильная доска ника николь 9 122х40 см',\n",
       " 'бальзам для мытья посуды mama ultimate ecosoda 1000 мл россия 044684',\n",
       " 'алиссум (лобулярия) снежные одежды 0,2 г 4650091480302',\n",
       " 'календула пинк сюрпрайз 0,5 г 4650091480203',\n",
       " 'космея клюквенный клик 0,1 г 4660010770421',\n",
       " 'космея кэнди страйп 0,3 г 4650091480272',\n",
       " 'лапчатка огненное пламя 0,02 г 4650091480616',\n",
       " 'львиный зев волшебный ковер 0,05 г 4660010779639',\n",
       " 'гладильная доска scab stiro lux 122х38 см',\n",
       " 'рассекатель пламени на газовую плиту с ручкой, an8032',\n",
       " 'сетка для глажения ява ртк26 45х65 см, 1200023',\n",
       " 'щетка для посуды *оля*, мультипласт 1807010',\n",
       " 'ковер придверный ekspo 90х150 см черный рр114/01019',\n",
       " 'набор форм для кексов webber из нержавеющей стали 6 шт 7,5*3,4 см be-4343/6',\n",
       " 'диффенбахия d-12 см с топпером на день учителя в подарочной упаковке',\n",
       " 'комплект постельного белья wellness platinum r185-авеню пододеяльник 180х214 см простыня 200х214 см 2 наволочки 50х70 см',\n",
       " 'гладильная доска sarayli new elegant 125x45 см',\n",
       " 'гладильная доска ника белль классик 1 122х34,5 см бк1',\n",
       " 'пуансетия d-12 см с топпером на день учителя в подарочной упаковке',\n",
       " 'гладильная доска eurogold professional 130х48 см 35748w',\n",
       " 'пресс для чеснока attribute western agw050',\n",
       " 'гиностемма укорененный черенок 1 шт',\n",
       " 'ель канадская коника ртк 303 горшок 9 л нидерланды',\n",
       " 'кипарисовик лавсона элвуди ртк 106 горшок 9 л нидерланды',\n",
       " 'ковер придверный ekspo 90х150 см коричневый рр120/1',\n",
       " 'новогоднее дерево ель канадская коника ртк 343 d-9 см',\n",
       " 'гладильная доска ника эльза премиум 122х40 см элп',\n",
       " 'гладильная доска ника sophy корица hsk 123х46 см',\n",
       " 'новогоднее дерево ель сербская d-21 см h-60 см',\n",
       " 'новогоднее дерево ель канадская коника в красном ведерке 3 л h-40 см',\n",
       " 'гладильная доска leifheit airboard compact m plus 120х38 см малиновый 71630',\n",
       " 'гладильная доска ника бэлль-юниор1 112х34,5 см бю1',\n",
       " 'новогоднее дерево ель сербская d-21 см h-60 см',\n",
       " 'новогоднее дерево ель сербская d-21 см h-60 см',\n",
       " 'новогоднее дерево ель сербская d-21 см h-60 см',\n",
       " 'петля рояльная оксид 545 мм, 1103066',\n",
       " 'новогоднее дерево ель сербская d-27 см h-200 см',\n",
       " 'набор столовых приборов 24 предмета oasis domenik dm9634',\n",
       " 'новогоднее дерево ель сербская d-21 см h-60 см',\n",
       " 'новогоднее дерево ель сербская d-21 см h-60 см',\n",
       " 'гладильная доска ника loreta golf hl 123х46 см',\n",
       " 'этажерка 2 для обуви узкая 4 полки, медный, эт2, ника',\n",
       " 'гладильная доска attribute teflonix 135х46 см оранжевая abt044',\n",
       " 'скиммия японская рубелла d-19 см h-40 см',\n",
       " 'доска разделочная alparaisa стеклянная завтрак 20х30 см rd0030-st',\n",
       " 'гладильная доска ника lora fashion hlf 123х46 см',\n",
       " 'гладильная доска ника bruna m hbm 122х40 см',\n",
       " 'гладильная доска ника бест 122х40 см нб',\n",
       " 'гладильная доска dogrular домина 125х42 см 223708',\n",
       " 'новогоднее дерево ель сербская d-21 см h-60 см',\n",
       " 'гладильная доска ника haushalt m hm 122х40 см',\n",
       " 'гладильная доска sarayli new elegant 125x45 см',\n",
       " 'кондиционер для белья sandokkaebi soft aroma aqua blue свежесть океана флакон 2100 мл корея 8801353-003494',\n",
       " 'новогоднее дерево ель сербская d-21 см h-60 см',\n",
       " 'набор вешалок деревянных 3 шт с перекладиной 44,5х23х1,2 см лиловый romantic valiant rm-16601s',\n",
       " 'гладильная доска ника lora fashion hlf 123х46 см',\n",
       " 'гладильная доска ника lora fashion hlf 123х46 см',\n",
       " 'гладильная доска dogrular томрис 120x38 см',\n",
       " 'гладильная доска ника бэлль-юниор2 112х34,5 см бю2',\n",
       " 'полки qwerty лондон белый 27х27х10 см и 23х23х10 см 72000',\n",
       " 'гладильная доска nika haushalt тефлон золотой 122х40 см hp1t/g',\n",
       " 'щетка для мытья посуды колибри м5202 большая',\n",
       " 'эхеверия перл фон нюрнберг d-7 см',\n",
       " 'набор вешалок пластмассовых rozenbal r181900',\n",
       " 'емкость для соуса с ложкой pasabahce 200 мл ots131505-000',\n",
       " 'гипоаллергенный концентрированный гель для стирки белья vpk для деликатных тканей 2,5 л корея 8809473130144',\n",
       " 'гладильная доска ника бест 122х40 см нб',\n",
       " 'сиденье для ванны пластмассовое м1552 1714003',\n",
       " 'гладильная доска ника дсп эконом 106,5х29 эк1',\n",
       " 'гладильная доска ника blues 124х46 см 5757',\n",
       " 'перчатки fabrikators для чистки овощей детские оранжевый ko2pu',\n",
       " 'петля рояльная цинк 960 мм, 1103055',\n",
       " 'карниз для ванной комнаты виолет раздвижной 210 см с кольцами белый 2110/6',\n",
       " 'полки qwerty берлин чёрный 44х24х10 см 40х20х10 см 36х16х10 см 72008',\n",
       " 'гладильная доска ника haushalt m hm 122х40 см',\n",
       " 'сиденье для гладильной доски leifheit niveau, 71325',\n",
       " 'искусственная лиана плющ 2,4 м',\n",
       " 'кодонанта укорененный черенок 1 шт',\n",
       " 'гладильная доска белль-юниор1 34,5х112см дсп 1200006',\n",
       " 'гладильная доска ника лина 1 112х34,5 см дл1',\n",
       " 'гладильная доска dogrular эко инжи 110х33 см 224414',\n",
       " 'гладильная доска sarayli grown lux 45х125 см',\n",
       " 'гладильная доска dogrular сити 110х33 см 223712',\n",
       " 'гладильная доска ника lora fashion hlf 123х46 см',\n",
       " 'гладильная доска eurogold europa paris 120х38 см 21738f6ec',\n",
       " 'эхеверия перл фон нюрнберг d-7 см',\n",
       " 'комнатное растение в горшке алое вера, d12, h30',\n",
       " 'гладильная доска ника лина 2 106,5х29 см дл2',\n",
       " 'ковер придверный ekspo 40x60 см серый рр105/01001',\n",
       " 'гладильная доска ника эльза де люкс 122х40 см эл',\n",
       " 'гладильная доска dogrular домина 125х42 см 223708',\n",
       " 'сиденье в ванну раздвижное, белый, св5, ника',\n",
       " 'гладильная доска ника бест 122х40 см нб',\n",
       " 'искусственная лиана плющ 2,4 м',\n",
       " 'крепеж для пружины дверной, 1107055',\n",
       " 'гладильная доска eurogold delux 130х48 см 35348r',\n",
       " 'емкость для свч lux 4.4 л прямоугольная, curver, 15537',\n",
       " 'нетканые салфетки в рулоне 70 шт eurohouse eh4967',\n",
       " 'гладильная доска ника белль классик 2 122х34,5 см бк2',\n",
       " 'пылесос delta dl-0835 синий 1600 вт мешок для сбора пыли 1 в подарок мощность всасывания 300 вт',\n",
       " 'гладильная доска ника бэлль 106,5х29 см б',\n",
       " 'гладильная доска dogrular домина 125х42 см 223708',\n",
       " 'эхинокактус грузони d-5 см',\n",
       " 'гладильная доска белль-юниор1 34,5х112см дсп 1200006',\n",
       " 'полки qwerty мадрид белый/чёрный 50х30х12 см 2 штуки и 30х24х12 см 2 штуки 72019',\n",
       " 'гладильная доска ника дсп эконом 106,5х29 эк1',\n",
       " 'гладильная доска hausmann classic mono 120x38 cм hm-2122',\n",
       " 'эхеверия микс d-5 см',\n",
       " 'крокусы pickwick голубой в горшке d-21 см 19 луковиц',\n",
       " 'сетка для стирки белья на 5 кг 90x60 см белая, burstenmann, 1800/0000',\n",
       " 'гипсофила аврора 80 см израиль 25 штук в упаковке',\n",
       " 'гипсофила аврора 80 см израиль 25 штук в упаковке',\n",
       " 'полки qwerty токио чёрный 30х30х10 см 25х25х10 см 20х20х10 см 15х15х10 см 72007',\n",
       " 'гладильная доска gimi roma 122х38 см',\n",
       " 'дозатор для мыла hausmann оранжевый hm-b0058r-2',\n",
       " 'таз пластмассовый со стиральной доской (иж), 1404021',\n",
       " 'базилик смесь зеленого и фиолетового 0,4 г 4660010775433',\n",
       " 'седум почвопокровный смесь окрасок объем 1 л',\n",
       " 'гладильная доска ника дсп эконом 106,5х29 эк1',\n",
       " 'гладильная доска ника retro 122х42 см 5758',\n",
       " 'гладильная доска ника lora fashion hlf 123х46 см',\n",
       " 'гладильная доска ника бэлль-юниор1 112х34,5 см бю1',\n",
       " 'мята перечная тач tachi d-7 см h-10 см мандариновая мята укорененный черенок',\n",
       " 'мята перечная тач tachi d-7 см h-10 см мандариновая мята укорененный черенок',\n",
       " 'гладильная доска ника валенсия fashion valensia 123х45 см нв1/2',\n",
       " 'однолетнее растение табак душистый в кассете по 4 шт, россия',\n",
       " 'гладильная доска zalger perfo midi 500-702 120х38 см',\n",
       " 'таз пластмассовый со стиральной доской (иж), 1404021',\n",
       " 'рукав для гладильной доски zalger дсп 500603 48х8 см',\n",
       " 'емкость для свч lux 3.2 л прямоугольная, curver, 15552',\n",
       " 'чабер bolero d-7 см',\n",
       " 'карниз для ванной комнаты алюминий хром, spirella, 1014625',\n",
       " 'ранункулус клуни ханои 45 см нидерланды 10 штук в упаковке',\n",
       " 'гладильная доска ника 3+ 122х34,5 см н3+',\n",
       " 'полки qwerty нью-йорк правый белый/голубой 44х24х10 см 40х20х10 см 36х16х10 см 72012',\n",
       " 'карниз для ванной комнаты виолет раздвижной 210 см с кольцами голубой 2110/3',\n",
       " 'щетка для труднодоступных мест со скребком rozenbal r510075',\n",
       " 'гладильная доска ника лина 1 112х34,5 см дл1',\n",
       " 'гладильная доска ника дсп эконом 106,5х29 эк1',\n",
       " 'полки qwerty барселона белый 28х28х15 см 23х23х15 см 17х17х15 см 72009',\n",
       " 'гладильная доска ника 11 тефлон 122х40 см нт11',\n",
       " 'гладильная доска attribute teflonix 130х46 см abt142',\n",
       " 'концентрат для мытья посуды mama ultimate зеленый чай 1000 мл россиякорея 049320',\n",
       " 'набор вешалок универсальных attribute neo blue 42 см 5 шт ahs725',\n",
       " 'календула бронзовая красавица 10 шт 4650091480746',\n",
       " 'космея лимонад 10 шт 4650091480500',\n",
       " 'космея попсокс белая 10 шт 4650091480562',\n",
       " 'космея попсокс розовая 10 шт 4650091480555',\n",
       " 'космея снежный клик 0,1 г 4660010770414',\n",
       " 'смолевка звездный взрыв 0,02 г 4650091480630',\n",
       " 'цинния хаага олд мехико 0,5 г 4650091480456',\n",
       " 'базилик зеленый тонус d-7 см',\n",
       " 'базилик пурпурные звезды d-7 см',\n",
       " 'мята колосистая almira d-7 см',\n",
       " 'мята колосистая crispa d-7 см',\n",
       " 'мята aura d-7 см',\n",
       " 'ясколка войлочная белая объем 0,5 л',\n",
       " 'полка для обуви hausmann 70х27х40 см коричневый hm-3011',\n",
       " 'полки qwerty рио белый/чёрный 42,5х21х10 см 17х17х10 см 17х17х10 см 72005',\n",
       " 'дозатор для мыла hausmann белый hm-b0194r-2',\n",
       " 'мята махито japanosche mojito minze d-7 см h-10 см укорененный черенок',\n",
       " 'окномойка с алюминиевой телескопической ручкой 120 см, щетка 25 см, 57572 1804047',\n",
       " 'урна-пепельница из нержавеющей стали, hobbyka/хоббика, 83*38см, па022',\n",
       " 'базилик зеленый тонус d-7 см',\n",
       " 'гладильная доска ника дсп эконом 106,5х29 эк1',\n",
       " 'лилейник высокорослый смесь окрасок объем 1 л',\n",
       " 'энотера миссурийская золотая желтый объем 1 л',\n",
       " 'пылесос delta dl-0831 красный 1300 вт мешок для сбора пыли 1 в подарок мощность всасывания 200 вт',\n",
       " 'гладильная доска ника дсп эконом 106,5х29 эк1',\n",
       " 'мята перечная тач tachi d-7 см h-10 см мандариновая мята укорененный черенок',\n",
       " 'искусственная лиана плющ 2,4 м',\n",
       " 'гладильная доска ника бэлль 106,5х29 см б',\n",
       " 'стремянки colombo leonardo 2 ступени g300a02w серая 3646',\n",
       " 'урна-пепельница из стали, hobbyka/хоббика, 72*30см, 112',\n",
       " 'цитрофортунелла кумкват штамбовая d-21 см h-75 см',\n",
       " 'карниз для ванной комнаты виолет раздвижной 280 см с кольцами голубой 2810/3',\n",
       " 'гладильная доска ника гранд 122х42 см нг',\n",
       " 'таз пластмассовый со стиральной доской (иж), 1404021',\n",
       " 'щетка для мытья окон 2 в 1 с телескопической ручкой и поворотным шарниром синяя, hausmann, adf1768',\n",
       " 'щетка для мытья окон 2 в 1 с телескопической ручкой и поворотным шарниром синяя, hausmann, adf1768',\n",
       " 'календула суприм 0,5 г 4650091480227',\n",
       " 'цинния коралловая красавица 0,2 г 4660010773323',\n",
       " 'настурция орхидное пламя 5 шт 4650091480692',\n",
       " 'гладильная доска hausmann solo light 35х115 см hm-2151',\n",
       " 'бельевые прищепки york классик 20 шт g96010',\n",
       " 'базилик пурпурные звезды d-7 см',\n",
       " 'окномойка с алюминиевой телескопической ручкой 120 см, щетка 25 см, 57572 1804047',\n",
       " 'гладильная доска ника 8+ 122х38 см',\n",
       " 'однолетнее растение астра в кассете по 4 шт, россия',\n",
       " 'однолетнее растение табак душистый в кассете по 4 шт, россия',\n",
       " 'сиденье в ванну раздвижное, белый, св5, ника',\n",
       " 'окномойка с пластмассовой ручкой 42 см щетка 21 см разборная 57575 1804050',\n",
       " 'мускари white magic в горшке d-10 см 7 луковиц',\n",
       " 'однолетнее растение алиссум в кассете по 4 шт, россия',\n",
       " 'однолетнее растение табак душистый в кассете по 4 шт, россия',\n",
       " 'однолетнее растение тагетис мелкоцветковый в кассете по 4 шт, россия',\n",
       " 'однолетнее растение циния в кассете 4 шт, россия',\n",
       " 'гладильная доска ника эльза премиум 122х40 см элп',\n",
       " 'карниз для ванной комнаты виолет раздвижной 210 см с кольцами серый 2110/8',\n",
       " 'карниз для ванной комнаты виолет раздвижной 280 см с кольцами бежевый 2810/2',\n",
       " 'карниз для ванной комнаты виолет раздвижной 280 см с кольцами бежевый 2810/2',\n",
       " 'ёрш радиаторный без ручки 1807007',\n",
       " 'набор посуды из нержавеющей стали 12 предметов россия 5512-12',\n",
       " 'стремянки colombo leonardo 2 ступени g300a02w серая 3646',\n",
       " 'гладильная доска ника стелла классик 1 122х34,5 см стк1',\n",
       " 'однолетнее растение портулак в кассете по 4 шт, россия',\n",
       " 'гладильная доска hausmann hm-3170 home art 122х42 см',\n",
       " 'ковер придверный tango rus 60х90 см белый рв322',\n",
       " 'однолетнее растение газания в кассете по 4 шт, россия',\n",
       " 'базилик зеленый тонус d-7 см',\n",
       " 'базилик пурпурные звезды d-7 см',\n",
       " 'однолетнее растение табак душистый в кассете по 4 шт, россия',\n",
       " 'однолетнее растение алиссум в кассете по 4 шт, россия',\n",
       " 'однолетнее растение циния в кассете 4 шт, россия',\n",
       " 'гладильная доска ника 10+ 122х40 см н10+',\n",
       " 'гладильная доска ника 11 122х40 см н11',\n",
       " 'карниз для ванной комнаты виолет раздвижной 280 см с кольцами бежевый 2810/2',\n",
       " 'однолетнее растение табак душистый в кассете по 4 шт, россия',\n",
       " 'однолетнее растение целозия метельчатая в кассете 4 шт, россия',\n",
       " 'джункус пенсил грасс d-12 см',\n",
       " 'однолетнее растение львиный зев в кассете по 4 шт, россия',\n",
       " 'однолетнее растение сальвия в кассете по 4 шт, россия',\n",
       " 'однолетнее растение табак душистый в кассете по 4 шт, россия',\n",
       " 'седум почвопокровный смесь окрасок объем 1 л',\n",
       " 'карниз для ванной комнаты виолет раздвижной 210 см с кольцами голубой 2110/3',\n",
       " 'однолетнее растение астра в кассете по 4 шт, россия',\n",
       " 'однолетнее растение циния в кассете 4 шт, россия',\n",
       " 'мята перечная шоколадная chocolate d-7 см h-10 см укорененный черенок',\n",
       " 'гайлардия крупноцветковая желто-красный объем 0,75 л',\n",
       " 'нивянник (ромашка) крупноцветковый белый объем 1 л',\n",
       " 'окномойка с алюминиевой телескопической ручкой 120 см, щетка 25 см, 57572 1804047',\n",
       " 'однолетнее растение астра в кассете по 4 шт, россия',\n",
       " 'однолетнее растение циния в кассете 4 шт, россия',\n",
       " 'таз пластмассовый со стиральной доской (иж), 1404021',\n",
       " 'полки qwerty мадрид белый/чёрный 50х30х12 см 2 штуки и 30х24х12 см 2 штуки 72019',\n",
       " 'окномойка с пластмассовой ручкой 42 см щетка 21 см разборная 57575 1804050',\n",
       " 'обувница-3 квадро цвет венге 70000001в',\n",
       " 'лапчатка травянистая желтый объем 0,5 л',\n",
       " 'седум (очиток) видный красный объем 1 л',\n",
       " 'окномойка с пластмассовой ручкой 42 см щетка 21 см разборная 57575 1804050',\n",
       " 'карниз для ванной комнаты виолет раздвижной 280 см с кольцами бежевый 2810/2',\n",
       " 'отжим для ведра синий, rozenbal, r211985',\n",
       " 'пряные травы микс d-15 см',\n",
       " 'алиссум скальный желтый объем 1 л',\n",
       " 'астра альпийская микс объем 1 л',\n",
       " 'бузульник пржевальского кленолистный желтый объем 1 л',\n",
       " 'седум почвопокровный смесь окрасок объем 1 л',\n",
       " 'физостегия вергинская белый объем 0,5 л',\n",
       " 'ясколка войлочная белая объем 0,5 л',\n",
       " 'алиссум скальный желтый объем 1 л',\n",
       " 'лапчатка травянистая желтый объем 0,5 л',\n",
       " 'лен небесная лазурь голубой объем 0,5 л',\n",
       " 'ясколка войлочная белая объем 0,5 л',\n",
       " 'мята махито japanosche mojito minze d-7 см h-10 см укорененный черенок',\n",
       " 'рукав для гладильной доски colombo stiramaniche 53х13 см b138lgpw',\n",
       " 'гладильная доска ника blues 124х46 см 5757',\n",
       " 'гладильная доска colombo avantgard 120х40 см',\n",
       " 'вешалки мягкие для деликатных вещей 3 шт шоколад',\n",
       " 'гладильная доска ника bruna m hbm 122х40 см',\n",
       " 'гладильная доска ника бест 122х40 см нб',\n",
       " 'нивянник (ромашка) крупноцветковый белый объем 1 л',\n",
       " 'стремянки colombo leonardo 3 ступени g300a03w черая 3649',\n",
       " 'однолетнее растение львиный зев в кассете по 4 шт, россия',\n",
       " 'гладильная доска ника 9 122х40 см н9',\n",
       " 'искусственная лиана плющ 2,4 м',\n",
       " 'мята перечная тач tachi d-7 см h-10 см мандариновая мята укорененный черенок',\n",
       " 'петля приварная гаражная d 36х140 мм с шариком, 1103068',\n",
       " 'петля приварная гаражная d 14х90 мм с шаром, 1103003',\n",
       " 'сиденье в ванну раздвижное, белый, св5, ника',\n",
       " 'стеллаж для обуви светлый telio-350 opt-350s',\n",
       " 'складной детский пуф hausmann пожарная машинка 55х26х31 см красный hm-ot00285',\n",
       " 'алиссум (лобулярия) снежные одежды 0,2 г 4650091480302',\n",
       " 'лаватера монт блан 0,3 г 4660010778588',\n",
       " 'гладильная доска ника blues 124х46 см 5757',\n",
       " 'ванна 70 л оцинкованная г.магнитогорск, 1301016',\n",
       " 'лен небесная лазурь голубой объем 0,5 л',\n",
       " 'нивянник (ромашка) крупноцветковый белый объем 1 л',\n",
       " 'базилик овощной пурпурные звезды в кассете 4 штуки среднеспелый',\n",
       " 'базилик овощной тонус в кассете 4 штуки среднеспелый',\n",
       " 'буддлея вейера в горшке d-12',\n",
       " 'валериана лекарственная кардиола в кассете 4 штуки',\n",
       " 'любисток удалец в кассете 6 штук',\n",
       " 'табак бордовый в кассете 10 штук',\n",
       " 'табак курительный юбилейный новый 142 в кассете 6 штук среднеспелый',\n",
       " 'мята перечная шоколадная chocolate d-7 см h-10 см укорененный черенок',\n",
       " 'гладильная доска ника blues 124х46 см 5757',\n",
       " 'гладильная доска zalger amelia 400-401 дсп 115х30 см',\n",
       " 'мимоза стыдливая d-9 см',\n",
       " 'базилик зеленый тонус d-7 см',\n",
       " 'хамедорея d-12 см h-25-35 см',\n",
       " 'гладильная доска ника эльза классик 122х34 см элк',\n",
       " 'эхеверия микс d-5 см',\n",
       " 'щетка для мытья окон 2 в 1 с телескопической ручкой и поворотным шарниром синяя, hausmann, adf1768',\n",
       " 'гладильная доска gimi roma 122х38 см',\n",
       " 'терка webber из нержавеющей стали ве-054 6 граней 21 см',\n",
       " 'зверобой продырявленный оптимист d- 12-13 см',\n",
       " 'гладильная доска sarayli new favori 130x44 см',\n",
       " 'перчатки латексные № 3 для дома утолщенные, rozenbal, r105628',\n",
       " 'прищепки для белья york spring prestige, 9603/z027',\n",
       " 'гладильная доска ника blues 124х46 см 5757',\n",
       " 'полки qwerty берлин чёрный 44х24х10 см 40х20х10 см 36х16х10 см 72008',\n",
       " 'бельевые прищепки york азур эко деревянные 20 шт z029 g1529',\n",
       " 'базилик пурпурные звезды d-7 см',\n",
       " 'мята махито japanosche mojito minze d-7 см h-10 см укорененный черенок',\n",
       " 'гладильная доска ника blues 124х46 см 5757',\n",
       " 'мята перечная шоколадная chocolate d-7 см h-10 см укорененный черенок',\n",
       " 'покрытие для гладильной доски airboard m premium speed , 125х40 см, leifneit, арт. 72373',\n",
       " 'клен ложноплатановый леопольди в горшке 3,5 л',\n",
       " 'гладильная доска ника бест 122х40 см нб',\n",
       " 'полка для обуви hausmann 3 яруса 60х24,3х60 см сосна hm-3013',\n",
       " 'веревка полипропиленовая (фал) d-4 мм, l-20 м, 1201031',\n",
       " 'каланхое каландива желтое d-7 см',\n",
       " 'сахарница фарфоровая lavender blade 10 см, domenik, dm9247',\n",
       " 'таз пластмассовый со стиральной доской (иж), 1404021',\n",
       " 'полки qwerty барселона белый 28х28х15 см 23х23х15 см 17х17х15 см 72009',\n",
       " 'мешок для деликатной стирки 50х70см, attribute, alb257',\n",
       " 'сиденье в ванну раздвижное, белый, св5, ника',\n",
       " 'гладильная доска ника эльза-юниор 122х34 см элю',\n",
       " 'покрытие для гладильной доски leifheit reflecta speed universal, 140х45 см. 72382',\n",
       " 'комнатное растение в горшке плектрантус подвесной горшок, d16, h30',\n",
       " 'завертка форточная белая/антик с полимерным покрытием *тонар*, 1108287',\n",
       " 'полки qwerty торонто белый 40х10 см 35х10 см 30х10 см 25х10 см 72015',\n",
       " 'перчатки latex free l из латекса с защитой для рук и от аллергии, leifheit, 40039',\n",
       " 'полки qwerty рио белый/чёрный 42,5х21х10 см 17х17х10 см 17х17х10 см 72005',\n",
       " 'чабер bolero d-7 см',\n",
       " 'рукав для гладильной доски colombo stiramaniche 53х13 см b138lgpw',\n",
       " 'амариллис red lion темно-красный в горшке d-12 см 1 луковица',\n",
       " 'щетка универсальная с телескопической ручкой dusty, leifheit, 41510',\n",
       " 'гладильная доска ника retro 122х42 см 5758',\n",
       " 'пьезозажигалка с мультиискрой на батарейке тд1-005в',\n",
       " 'полки qwerty торонто белый 40х10 см 35х10 см 30х10 см 25х10 см 72015',\n",
       " 'таз пластмассовый со стиральной доской (иж), 1404021',\n",
       " 'рукав для гладильной доски colombo stiramaniche 53х13 см b138lgpw',\n",
       " 'мята махито japanosche mojito minze d-7 см h-10 см укорененный черенок',\n",
       " 'полки qwerty италия белый/серый 40х14х10 см 35х10х10 см 30х7х10 см 72006',\n",
       " 'этажерка для обуви виолет э2п 2 яруса медный антик',\n",
       " 'соковыжималка для цитрусовых pasabahce ots131421-500',\n",
       " 'гладильная доска eurogold basic reflector 110х30 см r20030a',\n",
       " 'решетка вентиляционная металлическая золото 17х17 см 1710035',\n",
       " 'гладильная доска ника бэлль 106,5х29 см б',\n",
       " 'покрытие для гладильной доски dressfix xl 140х40 см на веревке жасмин, leifheit, 72328',\n",
       " 'мята перечная шоколадная chocolate d-7 см h-10 см укорененный черенок',\n",
       " 'полки qwerty нью-йорк правый белый/голубой 44х24х10 см 40х20х10 см 36х16х10 см 72012',\n",
       " 'мята перечная тач tachi d-7 см h-10 см мандариновая мята укорененный черенок',\n",
       " 'диффенбахия камилла d-12 см',\n",
       " 'полки qwerty нью-йорк правый белый/голубой 44х24х10 см 40х20х10 см 36х16х10 см 72012',\n",
       " 'перчатки extra fine s специальная защита для рук, leifheit, 40026',\n",
       " 'базилик смесь зеленого и фиолетового 0,4 г 4660010775433',\n",
       " 'салат рукола дикая оливетта 0,3 г 4660010776898',\n",
       " 'салат рукола сицилия 1 г 4660010772852',\n",
       " 'вакуумный пакет eva для хранения вещей 50х85 см evec0085',\n",
       " 'карниз для ванной комнаты виолет раздвижной 280 см с кольцами белый 2810/6',\n",
       " 'чабер bolero d-7 см',\n",
       " 'эхеверия лила чина d-10 см',\n",
       " 'комнатное растение в горшке плющ, хедера салатовая листва подвесной горшок, d16, h30',\n",
       " 'мята перечная шоколадная chocolate d-7 см h-10 см укорененный черенок',\n",
       " 'стеллаж для обуви telio-370 венге opt-370v',\n",
       " 'карниз для ванной комнаты виолет раздвижной 210 см с кольцами белый 2110/6',\n",
       " 'совок металический серый, burstenmann, 1428/0000',\n",
       " 'совок для золы металлический с длинной металлической ручкой черный 1805003',\n",
       " 'гладильная доска gimi junior 110х33 см',\n",
       " 'карниз для ванной комнаты виолет раздвижной 280 см с кольцами белый 2810/6',\n",
       " 'стеллаж для обуви светлый telio-350 opt-350s',\n",
       " 'сахарница фарфоровая lavender blade 10 см, domenik, dm9247',\n",
       " 'сиденье в ванну раздвижное, белый, св5, ника',\n",
       " 'зверобой продырявленный d-9 см',\n",
       " 'мимоза стыдливая d-9 см',\n",
       " 'крепеж для пружины дверной оцинкованный, 1107054',\n",
       " 'стремянки colombo leonardo 2 ступени g300a02w белая 4096',\n",
       " 'вешалки мягкие для деликатных вещей 3 шт голубые',\n",
       " 'пахира акватика мультистем d-17 см h-45 см',\n",
       " 'полки qwerty токио чёрный 30х30х10 см 25х25х10 см 20х20х10 см 15х15х10 см 72007',\n",
       " 'эхинокактус грузони красный d-10 см',\n",
       " 'гладильная доска gimi pollicino 73x32 см',\n",
       " 'зверобой продырявленный оптимист d- 9 см',\n",
       " 'рукав для гладильной доски colombo stiramaniche 53х13 см b138lgpw',\n",
       " 'комнатное растение в горшке традесканция красная с белым подвесной горшок , d16, h30',\n",
       " 'полки qwerty торонто белый 40х10 см 35х10 см 30х10 см 25х10 см 72015',\n",
       " 'мята перечная шоколадная chocolate d-7 см h-10 см укорененный черенок',\n",
       " 'подушка 40х40 см wellness platinum wr44t цвет в ассортименте',\n",
       " 'полки qwerty италия белый/серый 40х14х10 см 35х10х10 см 30х7х10 см 72006',\n",
       " 'гладильная доска березка 115х35 см',\n",
       " 'ёрш бутылочный с металлической ручкой малый y64 1807002',\n",
       " 'покрытие для гладильной доски dressfix xl 140х40 см на веревке жасмин, leifheit, 72328',\n",
       " 'основание для пробки электрический 25 а, 1601164',\n",
       " 'полки qwerty пекин белый/чёрный 95х17,5х16 см 40х13х16 см 40х13х16 см 72017',\n",
       " 'стяжки для чехла гладильной доски 3 шт, 25 см и 12 см, 108266, brabantia',\n",
       " 'гладильная доска hausmann classic mono 120x38 cм hm-2122',\n",
       " 'гладильная доска березка 115х35 см',\n",
       " 'шпингалет 80 мм белый с пружиной, 1102188',\n",
       " 'таз пластмассовый со стиральной доской (иж), 1404021',\n",
       " 'полки qwerty италия белый/серый 40х14х10 см 35х10х10 см 30х7х10 см 72006',\n",
       " 'каланхое каландива малиновое d-7 см',\n",
       " 'мимоза стыдливая d-9 см',\n",
       " 'таз пластмассовый со стиральной доской (иж), 1404021',\n",
       " 'гладильная доска ника стелла классик 1 122х34,5 см стк1',\n",
       " 'вакуумный пакет eva для хранения вещей 50х85 см evec0085',\n",
       " 'настурция драгоценность вишнево-розовая 1 г 4660010773316',\n",
       " 'пьезозажигалка с мультиискрой на батарейке тд1-005в',\n",
       " 'набор вешалок деревянных 3 шт с перекладиной 44,5х23х1,2 см лиловый romantic valiant rm-16601s',\n",
       " 'прищепки для белья york spring prestige, 9603/z027',\n",
       " 'космея снежный клик 0,1 г 4660010770414',\n",
       " 'гладильная доска sarayli new elegant 125x45 см',\n",
       " 'эхинокактус грузони d-5 см',\n",
       " 'кипарисовик лавсона элвуди ртк 106 горшок 9 л нидерланды',\n",
       " 'совок металический серый, burstenmann, 1428/0000',\n",
       " 'сиденье для унитаза росспласт ажур белое рп-813',\n",
       " 'гладильная доска ника бэлль-юниор2 112х34,5 см бю2',\n",
       " 'доска разделочная alparaisa стеклянная завтрак 20х30 см rd0030-st',\n",
       " 'щетка для посуды из искусственного волокна и пластмассы 20 см белая, burstenmann, 0703/0065',\n",
       " 'вкладыши для хранения посуды 2 шт d-38 cm marmiton, lg17056',\n",
       " 'набор форм для кексов webber из нержавеющей стали 6 шт 7,5*3,4 см be-4343/6',\n",
       " 'хамедорея d-12 см h-25-35 см',\n",
       " 'физостегия вергинская белый объем 0,5 л',\n",
       " 'гладильная доска zalger perfo midi 500-702 120х38 см',\n",
       " 'базилик смесь зеленого и фиолетового 0,4 г 4660010775433',\n",
       " 'соковыжималка для цитрусовых pasabahce ots131421-500',\n",
       " 'покрытие для гладильной доски airboard m premium speed , 125х40 см, leifneit, арт. 72373',\n",
       " 'сетка для глажения ява ртк26 45х65 см, 1200023',\n",
       " 'гипоаллергенный концентрированный гель для стирки белья vpk для деликатных тканей 2,5 л корея 8809473130144',\n",
       " 'набор вешалок мягких тканевых с перекладиной 38х15 см 2 шт валиант / valiant val 7054sb',\n",
       " 'гладильная доска leifheit airboard compact m plus 120х38 см малиновый 71630',\n",
       " 'перчатки латексные 10 шт, р-р м, r105817, rozenbal',\n",
       " 'гладильная доска eurogold delux 130х48 см 35348r',\n",
       " 'ёрш радиаторный без ручки 1807007',\n",
       " 'клен ложноплатановый леопольди в горшке 3,5 л',\n",
       " 'полки qwerty рио белый/чёрный 42,5х21х10 см 17х17х10 см 17х17х10 см 72005',\n",
       " 'цитрофортунелла кумкват штамбовая d-21 см h-75 см',\n",
       " 'гладильная доска sarayli new elegant 125x45 см',\n",
       " 'полки qwerty берлин чёрный 44х24х10 см 40х20х10 см 36х16х10 см 72008',\n",
       " 'гладильная доска sarayli grown lux 45х125 см',\n",
       " 'щетка для посуды *оля*, мультипласт 1807010',\n",
       " 'сетка для стирки белья на 5 кг 90x60 см белая, burstenmann, 1800/0000',\n",
       " 'гладильная доска ника лина 2 106,5х29 см дл2',\n",
       " 'полки qwerty лондон белый 27х27х10 см и 23х23х10 см 72000',\n",
       " 'ковер придверный ekspo 40x60 см серый рр105/01001',\n",
       " 'базилик пурпурные звезды d-7 см',\n",
       " 'комплект постельного белья wellness platinum r185-авеню пододеяльник 180х214 см простыня 200х214 см 2 наволочки 50х70 см',\n",
       " 'гладильная доска attribute хоми топ 124х40 см синяя abh010',\n",
       " 'гладильная доска ника лина 2 106,5х29 см дл2',\n",
       " 'пуансетия d-12 см с топпером на день учителя в подарочной упаковке',\n",
       " 'карниз для ванной комнаты виолет раздвижной 210 см с кольцами белый 2110/6',\n",
       " 'полки qwerty нью-йорк правый белый/голубой 44х24х10 см 40х20х10 см 36х16х10 см 72012',\n",
       " 'львиный зев волшебный ковер 0,05 г 4660010779639',\n",
       " 'набор вешалок универсальных attribute neo blue 42 см 5 шт ahs725',\n",
       " 'гладильная доска ника 3+ 122х34,5 см н3+',\n",
       " 'календула бронзовая красавица 10 шт 4650091480746',\n",
       " 'щетка для мытья окон 2 в 1 с телескопической ручкой и поворотным шарниром синяя, hausmann, adf1768',\n",
       " 'гипсофила аврора 80 см израиль 25 штук в упаковке',\n",
       " 'полки qwerty токио чёрный 30х30х10 см 25х25х10 см 20х20х10 см 15х15х10 см 72007',\n",
       " 'зверобой продырявленный оптимист d- 12-13 см',\n",
       " 'гиностемма укорененный черенок 1 шт',\n",
       " 'однолетнее растение табак душистый в кассете по 4 шт, россия',\n",
       " 'стремянки colombo leonardo 2 ступени g300a02w серая 3646',\n",
       " 'мята колосистая crispa d-7 см',\n",
       " 'ковер придверный ekspo 90х150 см черный рр114/01019',\n",
       " 'однолетнее растение табак душистый в кассете по 4 шт, россия',\n",
       " 'ковер придверный ekspo 90х150 см черный рр114/01019',\n",
       " 'сиденье для гладильной доски leifheit niveau, 71325',\n",
       " 'космея попсокс белая 10 шт 4650091480562',\n",
       " 'вешалки мягкие для деликатных вещей 3 шт голубые',\n",
       " 'набор вешалок пластмассовых rozenbal r181900',\n",
       " 'эхинокактус грузони d-5 см',\n",
       " 'гладильная доска ника бэлль-юниор1 112х34,5 см бю1',\n",
       " 'клен ложноплатановый леопольди в горшке 3,5 л',\n",
       " 'зверобой продырявленный оптимист d- 9 см',\n",
       " 'терка webber из нержавеющей стали ве-054 6 граней 21 см',\n",
       " 'терка webber из нержавеющей стали ве-048 4 грани 20 см с красной ручкой',\n",
       " 'настурция орхидное пламя 5 шт 4650091480692',\n",
       " 'эхеверия микс d-5 см',\n",
       " 'энотера миссурийская золотая желтый объем 1 л',\n",
       " 'рукав для гладильной доски colombo stiramaniche 53х13 см b138lgpw',\n",
       " 'нетканые салфетки в рулоне 70 шт eurohouse eh4967',\n",
       " 'масленка коровка с крышкой 17см, 73115, luminarc, франция',\n",
       " 'базилик овощной пурпурные звезды в кассете 4 штуки среднеспелый',\n",
       " 'базилик овощной тонус в кассете 4 штуки среднеспелый',\n",
       " 'гладильная доска sarayli new elegant 125x45 см',\n",
       " 'космея лимонад 10 шт 4650091480500',\n",
       " 'цинния хаага олд мехико 0,5 г 4650091480456',\n",
       " 'ранункулус клуни ханои 45 см нидерланды 10 штук в упаковке',\n",
       " 'физостегия вергинская белый объем 0,5 л',\n",
       " 'гладильная доска ника 10+ 122х40 см н10+',\n",
       " 'полки qwerty рио белый/чёрный 42,5х21х10 см 17х17х10 см 17х17х10 см 72005',\n",
       " 'гладильная доска scab stiro lux 122х38 см',\n",
       " 'окномойка с пластмассовой ручкой 42 см щетка 21 см разборная 57575 1804050',\n",
       " 'настурция орхидное пламя 5 шт 4650091480692',\n",
       " 'окномойка с алюминиевой телескопической ручкой 120 см, щетка 25 см, 57572 1804047',\n",
       " 'диффенбахия камилла d-12 см',\n",
       " 'сиденье для унитаза росспласт ажур белое рп-813',\n",
       " 'базилик овощной тонус в кассете 4 штуки среднеспелый',\n",
       " 'стремянки colombo leonardo 2 ступени g300a02w белая 4096',\n",
       " 'гладильная доска ника lora fashion hlf 123х46 см',\n",
       " 'нолина в цветной керамике d-7 см',\n",
       " 'гладильная доска sarayli new elegant 125x45 см',\n",
       " 'гладильная доска hausmann classic mono 120x38 cм hm-2122',\n",
       " 'настурция орхидное пламя 5 шт 4650091480692',\n",
       " 'настурция орхидное пламя 5 шт 4650091480692',\n",
       " 'гладильная доска ника 3+ 122х34,5 см н3+']"
      ]
     },
     "execution_count": 33,
     "metadata": {},
     "output_type": "execute_result"
    }
   ],
   "source": [
    "uncategorized_items['product'].tolist()"
   ]
  },
  {
   "cell_type": "code",
   "execution_count": 37,
   "metadata": {},
   "outputs": [],
   "source": [
    "df = df[df['category'] != 'Not Defined']"
   ]
  },
  {
   "cell_type": "markdown",
   "metadata": {},
   "source": [
    "According to the chart, the categorization has been successful — there are no items without a category. It can also be noted that the highest number of purchases was made in the \"Flowers\" category, with just over 2000 transactions. The next most popular categories were Household Goods, Textile and Decor, with 1000 transactions. Rounding out the top categories are \"Vegetables and Fruits\", \"Kitchenware\", and \"Garden Supplies\", each with about 500 transactions. In the next part of our study, we will dive deeper into the data analysis to better understand these trends."
   ]
  },
  {
   "cell_type": "markdown",
   "metadata": {},
   "source": [
    "## Exploratory Data Analysis"
   ]
  },
  {
   "cell_type": "markdown",
   "metadata": {},
   "source": [
    "In the exploratory analysis, we will analyze the key metrics of the online store."
   ]
  },
  {
   "cell_type": "markdown",
   "metadata": {},
   "source": [
    "### Analysis of Purchase Distribution by Product Categories"
   ]
  },
  {
   "cell_type": "markdown",
   "metadata": {},
   "source": [
    "Let's calculate the total number of purchases for each product category and use a bar chart for a clear comparison of the number of purchases by category."
   ]
  },
  {
   "cell_type": "markdown",
   "metadata": {},
   "source": [
    "Let's start by creating a color dictionary so that the categories have the same color throughout the project."
   ]
  },
  {
   "cell_type": "code",
   "execution_count": 38,
   "metadata": {},
   "outputs": [],
   "source": [
    "category_colors = {\n",
    "    'Flowers': '#4CAF50',\n",
    "    'Household Goods': '#303F9F',\n",
    "    'Textile and Decor': '#FFD54F',\n",
    "    'Vegetables and Fruits': '#E64A19',\n",
    "    'Kitchenware': '#ff0ecf',\n",
    "    'Garden Supplies': '#9C27B0'\n",
    "}"
   ]
  },
  {
   "cell_type": "code",
   "execution_count": 39,
   "metadata": {},
   "outputs": [
    {
     "data": {
      "text/html": [
       "<div>\n",
       "<style scoped>\n",
       "    .dataframe tbody tr th:only-of-type {\n",
       "        vertical-align: middle;\n",
       "    }\n",
       "\n",
       "    .dataframe tbody tr th {\n",
       "        vertical-align: top;\n",
       "    }\n",
       "\n",
       "    .dataframe thead th {\n",
       "        text-align: right;\n",
       "    }\n",
       "</style>\n",
       "<table border=\"1\" class=\"dataframe\">\n",
       "  <thead>\n",
       "    <tr style=\"text-align: right;\">\n",
       "      <th></th>\n",
       "      <th>category</th>\n",
       "      <th>count</th>\n",
       "    </tr>\n",
       "  </thead>\n",
       "  <tbody>\n",
       "    <tr>\n",
       "      <th>0</th>\n",
       "      <td>Flowers</td>\n",
       "      <td>1953</td>\n",
       "    </tr>\n",
       "    <tr>\n",
       "      <th>1</th>\n",
       "      <td>Textile and Decor</td>\n",
       "      <td>845</td>\n",
       "    </tr>\n",
       "    <tr>\n",
       "      <th>2</th>\n",
       "      <td>Household Goods</td>\n",
       "      <td>788</td>\n",
       "    </tr>\n",
       "    <tr>\n",
       "      <th>3</th>\n",
       "      <td>Kitchenware</td>\n",
       "      <td>571</td>\n",
       "    </tr>\n",
       "    <tr>\n",
       "      <th>4</th>\n",
       "      <td>Garden Supplies</td>\n",
       "      <td>398</td>\n",
       "    </tr>\n",
       "    <tr>\n",
       "      <th>5</th>\n",
       "      <td>Vegetables and Fruits</td>\n",
       "      <td>389</td>\n",
       "    </tr>\n",
       "  </tbody>\n",
       "</table>\n",
       "</div>"
      ],
      "text/plain": [
       "                category  count\n",
       "0                Flowers   1953\n",
       "1      Textile and Decor    845\n",
       "2        Household Goods    788\n",
       "3            Kitchenware    571\n",
       "4        Garden Supplies    398\n",
       "5  Vegetables and Fruits    389"
      ]
     },
     "execution_count": 39,
     "metadata": {},
     "output_type": "execute_result"
    }
   ],
   "source": [
    "category_counts = df['category'].value_counts().reset_index()\n",
    "category_counts.columns = ['category', 'count']\n",
    "category_counts"
   ]
  },
  {
   "cell_type": "code",
   "execution_count": 40,
   "metadata": {},
   "outputs": [],
   "source": [
    "colors = [category_colors[category] for category in category_counts['category']]"
   ]
  },
  {
   "cell_type": "code",
   "execution_count": 41,
   "metadata": {},
   "outputs": [
    {
     "name": "stderr",
     "output_type": "stream",
     "text": [
      "C:\\Users\\Артемий Иванилов\\AppData\\Local\\Temp\\ipykernel_23240\\3635942504.py:4: FutureWarning: \n",
      "\n",
      "Passing `palette` without assigning `hue` is deprecated and will be removed in v0.14.0. Assign the `x` variable to `hue` and set `legend=False` for the same effect.\n",
      "\n",
      "  sns.barplot(x='category', y='count', data=category_counts, ax=axs, palette=colors)\n"
     ]
    },
    {
     "data": {
      "image/png": "[encoded data removed]",
      "text/plain": [
       "<Figure size 1400x800 with 1 Axes>"
      ]
     },
     "metadata": {},
     "output_type": "display_data"
    }
   ],
   "source": [
    "fig, axs = plt.subplots(figsize=(14, 8))\n",
    "sns.set_palette('pastel')\n",
    "sns.set_style('white')\n",
    "sns.barplot(x='category', y='count', data=category_counts, ax=axs, palette=colors)\n",
    "\n",
    "axs.set_title(\"Distribution of Products by Category\", fontsize=16)\n",
    "axs.set_xlabel(\"Product Categories\", fontsize=14)\n",
    "axs.set_ylabel(\"Number of Products in Category\", fontsize=14)\n",
    "\n",
    "plt.tight_layout()\n",
    "plt.show()"
   ]
  },
  {
   "cell_type": "code",
   "execution_count": null,
   "metadata": {},
   "outputs": [],
   "source": []
  },
  {
   "cell_type": "markdown",
   "metadata": {},
   "source": [
    "The highest number of purchases was made in the \"Flowers\" category, with just 2256 transactions. The next most popular categories were Household Goods, Textile and Decor, with 1017 and 997 transactions, respectively. Closing the top categories are \"Vegetables and Fruits\" and \"Kitchen Utensils\" with 564 and 512 transactions. The category with the fewest purchases is \"Garden Accessories\" with 240 transactions."
   ]
  },
  {
   "cell_type": "markdown",
   "metadata": {},
   "source": [
    "### Seasonality for Product Сategories"
   ]
  },
  {
   "cell_type": "markdown",
   "metadata": {},
   "source": [
    "Let's explore how the number of purchases and revenue for different product categories change over time. We will try to visualize this using a line chart. "
   ]
  },
  {
   "cell_type": "markdown",
   "metadata": {},
   "source": [
    "We will group the data by date and apply aggregation functions that will help us when building the charts."
   ]
  },
  {
   "cell_type": "code",
   "execution_count": 41,
   "metadata": {},
   "outputs": [],
   "source": [
    "aggregated_data = df.groupby(['date', 'category']).agg(\n",
    "    purchases=('order_id', 'nunique'), \n",
    "    sales=('sales', 'sum') ).reset_index()"
   ]
  },
  {
   "cell_type": "markdown",
   "metadata": {},
   "source": [
    "We will group the data by date and apply aggregation functions that will help us when building the charts."
   ]
  },
  {
   "cell_type": "code",
   "execution_count": 42,
   "metadata": {},
   "outputs": [],
   "source": [
    "aggregated_data['week'] = aggregated_data['date'].dt.to_period('W').apply(lambda r: r.start_time)\n",
    "weekly_data = aggregated_data.groupby(['week', 'category']).sum().reset_index()"
   ]
  },
  {
   "cell_type": "markdown",
   "metadata": {},
   "source": [
    "Finally, we build the line charts."
   ]
  },
  {
   "cell_type": "code",
   "execution_count": null,
   "metadata": {},
   "outputs": [],
   "source": [
    "plt.figure(figsize=(14, 8))\n",
    "\n",
    "# Purchase Count Chart\n",
    "\n",
    "plt.subplot(2, 1, 1)\n",
    "for category in weekly_data['category'].unique():\n",
    "    category_data = weekly_data[weekly_data['category'] == category]\n",
    "    plt.plot(category_data['week'], category_data['purchases'], label=category,color=category_colors[category])\n",
    "plt.title('Количество покупок по категориям')\n",
    "plt.xlabel('Дата')\n",
    "plt.ylabel('Количество покупок')\n",
    "plt.legend(loc='upper left')\n",
    "plt.grid(True)\n",
    "\n",
    "# Revenue Chart\n",
    "\n",
    "plt.subplot(2, 1, 2)\n",
    "for category in weekly_data['category'].unique():\n",
    "    category_data = weekly_data[weekly_data['category'] == category]\n",
    "    plt.plot(category_data['week'], category_data['sales'], label=category,color=category_colors[category])\n",
    "plt.title('Выручка по категориям')\n",
    "plt.xlabel('Дата')\n",
    "plt.ylabel('Выручка')\n",
    "plt.legend(loc='upper left')\n",
    "plt.grid(True)\n",
    "\n",
    "plt.tight_layout()\n",
    "plt.show()"
   ]
  },
  {
   "cell_type": "markdown",
   "metadata": {},
   "source": [
    "\n",
    "We will analyze the charts for different categories:\n",
    "\n",
    "- Kitchenware: The number of purchases and revenue show no distinct peaks in specific seasons. Kitchen items are purchased evenly throughout the year without a strong seasonal tie.\n",
    "\n",
    "- Vegetables and Fruits: Revenue and the number of purchases rise sharply in March and May, likely linked to the beginning of planting seasons for various crops. There is also an increase in autumn (September-October), which may be associated with harvest season.\n",
    "\n",
    "- Garden Supplies: There is a very pronounced seasonality—peaks are observed in spring (March-May), which is logical as it marks the start of the gardening season. There is also a slight increase in autumn, likely related to the end of the gardening season and preparation for winter, but it is much smaller than the spring peak.\n",
    "\n",
    "- Textiles and Decor: The trend is less pronounced, but there are small rises in the winter period (December). This might be because textiles and decor are purchased for holiday preparation or as gifts for New Year celebrations.\n",
    "\n",
    "- Household Goods: These items do not have distinct seasonality—similar to kitchenware, they are needed year-round.\n",
    "\n",
    "- Flowers: There is a clear spike in purchases and revenue in early March, likely related to the start of the gardening season, along with slight increases in May and September, which may also be related to planting different crops. Summer and autumn show a decrease in buyer activity.\n",
    "\n",
    "Now, let's highlight the specific seasons:\n",
    "\n",
    "- March-May and September-October: \"Vegetables and Fruits\", \"Garden Supplies\", \"Flowers\"\n",
    "- December: \"Textiles and Decor\""
   ]
  },
  {
   "cell_type": "markdown",
   "metadata": {},
   "source": [
    "### Analysis of the Dynamics of the Overall Average Check."
   ]
  },
  {
   "cell_type": "markdown",
   "metadata": {},
   "source": [
    "We will explore how the average check changes over time, both overall and for different product categories. We will calculate it by order_id on a weekly basis. For visualization, we will use a line chart."
   ]
  },
  {
   "cell_type": "markdown",
   "metadata": {},
   "source": [
    "Let's calculate the overall average check."
   ]
  },
  {
   "cell_type": "code",
   "execution_count": 44,
   "metadata": {},
   "outputs": [],
   "source": [
    "df['week'] = df['date'].dt.to_period('W').apply(lambda r: r.start_time)\n",
    "overall_average_bill = df.groupby('week')['bill'].mean().reset_index()\n",
    "overall_average_bill = overall_average_bill.rename(columns={'bill': 'average_bill'})"
   ]
  },
  {
   "cell_type": "code",
   "execution_count": null,
   "metadata": {},
   "outputs": [],
   "source": [
    "plt.figure(figsize=(14, 8))\n",
    "\n",
    "# Graph of the overall average check dynamics\n",
    "\n",
    "plt.plot(overall_average_bill['week'], overall_average_bill['average_bill'], label='Общий средний чек', color='orange')\n",
    "plt.title('Общий средний чек')\n",
    "plt.xlabel('Дата')\n",
    "plt.ylabel('Средний чек')\n",
    "plt.legend(loc='upper left')\n",
    "plt.grid(True)\n",
    "\n",
    "plt.tight_layout()\n",
    "plt.show()"
   ]
  },
  {
   "cell_type": "markdown",
   "metadata": {},
   "source": [
    "Let's take a look at the overall average check:\n",
    "\n",
    "- The average check shows significant fluctuations, reaching peaks at the beginning and middle of the observed period. These fluctuations may be related to the seasonality of the products sold, such as \"Vegetables and Fruits,\" \"Flowers,\" and \"Garden Supplies\" in May-June 2019, and Christmas and New Year's purchases in November-December 2018."
   ]
  },
  {
   "cell_type": "markdown",
   "metadata": {},
   "source": [
    "### Analysis of Revenue for Product Categories and its Growth Dynamics."
   ]
  },
  {
   "cell_type": "markdown",
   "metadata": {},
   "source": [
    "We will examine how the total revenue of the online store changes over time, both overall and for different product categories. For visualization, we will use a cumulative chart."
   ]
  },
  {
   "cell_type": "code",
   "execution_count": null,
   "metadata": {},
   "outputs": [],
   "source": [
    "overall_sales = weekly_data.groupby('week')['sales'].sum().reset_index()\n",
    "overall_sales['cumulative_sales'] = overall_sales['sales'].cumsum()\n",
    "overall_sales"
   ]
  },
  {
   "cell_type": "code",
   "execution_count": null,
   "metadata": {},
   "outputs": [],
   "source": [
    "plt.figure(figsize=(14, 8))\n",
    "\n",
    "# Chart of the total cumulative revenue growth dynamics\n",
    "\n",
    "plt.subplot(2, 1, 1)\n",
    "plt.plot(overall_sales['week'], overall_sales['cumulative_sales'], label='Роста общей кумулятивной выручки', color='orange')\n",
    "plt.title('Роста общей кумулятивной выручки')\n",
    "plt.xlabel('Дата')\n",
    "plt.ylabel('Кумулятивная выручка в миллионах')\n",
    "plt.legend(loc='upper left')\n",
    "plt.grid(True)\n",
    "\n",
    "# Chart of the cumulative revenue growth dynamics for each category\n",
    "\n",
    "plt.subplot(2, 1, 2)\n",
    "for category in weekly_data['category'].unique():\n",
    "    category_data = weekly_data[weekly_data['category'] == category]\n",
    "    plt.plot(category_data['week'], category_data['sales'].cumsum(), label=category,color=category_colors[category])\n",
    "plt.title('Роста кумулятивной выручки каждой категории')\n",
    "plt.xlabel('Дата')\n",
    "plt.ylabel('Кумулятивная выручка в миллионах')\n",
    "plt.legend(loc='upper left')\n",
    "plt.grid(True)\n",
    "\n",
    "plt.tight_layout()\n",
    "plt.show()"
   ]
  },
  {
   "cell_type": "code",
   "execution_count": 48,
   "metadata": {},
   "outputs": [],
   "source": [
    "overall_sales_category = weekly_data.pivot_table(index='category', values='sales', aggfunc='sum').fillna(0)"
   ]
  },
  {
   "cell_type": "code",
   "execution_count": null,
   "metadata": {},
   "outputs": [],
   "source": [
    "plt.figure(figsize=(14, 8))\n",
    "colors = [category_colors[category] for category in overall_sales_category.index]\n",
    "plt.pie(overall_sales_category['sales'], \n",
    "        labels=overall_sales_category.index, \n",
    "        autopct='%1.1f%%', \n",
    "        startangle=140,\n",
    "        colors=colors\n",
    ")\n",
    "plt.title(\"Общая выручка по категориям (в процентах)\")\n",
    "plt.show()"
   ]
  },
  {
   "cell_type": "markdown",
   "metadata": {},
   "source": [
    "First, let's examine the overall cumulative revenue growth:\n",
    "\n",
    "- There is a consistent and linear revenue growth, with an increase of half a million every two months. By the end of the analyzed period, at the beginning of 2020, the total revenue reaches 4 million rubles.\n",
    "\n",
    "Now, let's look at the dynamics of cumulative revenue growth by category:\n",
    "\n",
    "- Household goods show the most active and stable (linear) growth, increasing revenue by 250,000 rubles every two months. By the end of the period, the revenue of this category exceeds 1.5 million rubles, which accounts for 42% of the total revenue.\n",
    "- Textiles and decor also show steady growth, though less pronounced compared to \"Household goods\". Ultimately, the revenue of this category reaches 1 million rubles, which accounts for 27% of the total revenue. The dynamics of this category are characterized by spikes in June and January, which correlate with changes in the average check.\n",
    "- Flowers show steady, but less active growth, just shy of 750,000 rubles, which accounts for 16% of the total revenue. In the first half of 2019, growth rates were especially high, but by the end of the summer of 2019, growth slowed down, indicating the seasonal nature of this category.\n",
    "- Kitchenware reaches nearly 500,000 rubles in revenue, accounting for 10% of the total revenue. The main growth occurs in the first half of 2019.\n",
    "- Garden supplies show stable but weak growth, not reaching the 100,000 ruble mark, accounting for 3% of the total revenue.\n",
    "- Vegetables and fruits round out the list. This category generates no revenue until April 2019, after which there is a brief growth until July 2019, then it levels off, generating no significant sales. The share of this category in total revenue is 2%, further emphasizing its seasonal nature."
   ]
  },
  {
   "cell_type": "markdown",
   "metadata": {},
   "source": [
    "### Analysis of Monthly Dynamics of Average Revenue per Customer \n"
   ]
  },
  {
   "cell_type": "markdown",
   "metadata": {},
   "source": [
    "In this section, we need to examine how the average revenue per customer changes over the weeks. This will allow us to assess customer loyalty and their activity during different periods. For visualization, we will use a line chart. "
   ]
  },
  {
   "cell_type": "markdown",
   "metadata": {},
   "source": [
    "To begin, let's update the weekly_data variable by adding customer_id and removing category."
   ]
  },
  {
   "cell_type": "code",
   "execution_count": 50,
   "metadata": {},
   "outputs": [],
   "source": [
    "aggregated_data = df.groupby(['date', 'category','customer_id']).agg(\n",
    "    purchases=('order_id', 'count'), \n",
    "    sales=('sales', 'sum') ).reset_index()"
   ]
  },
  {
   "cell_type": "code",
   "execution_count": 51,
   "metadata": {},
   "outputs": [],
   "source": [
    "aggregated_data['week'] = aggregated_data['date'].dt.to_period('W').apply(lambda r: r.start_time)"
   ]
  },
  {
   "cell_type": "code",
   "execution_count": null,
   "metadata": {},
   "outputs": [],
   "source": [
    "weekly_data = aggregated_data.groupby(['week','customer_id']).sum().reset_index()\n",
    "weekly_data"
   ]
  },
  {
   "cell_type": "markdown",
   "metadata": {},
   "source": [
    "Let's group the data by weeks and count the number of unique users."
   ]
  },
  {
   "cell_type": "code",
   "execution_count": null,
   "metadata": {},
   "outputs": [],
   "source": [
    "weekly_customers = weekly_data.groupby('week')['customer_id'].nunique().reset_index(name='unique_customers')\n",
    "weekly_customers"
   ]
  },
  {
   "cell_type": "markdown",
   "metadata": {},
   "source": [
    "We will also group the data by weeks, but now by total sales."
   ]
  },
  {
   "cell_type": "code",
   "execution_count": null,
   "metadata": {},
   "outputs": [],
   "source": [
    "weekly_sales = weekly_data.groupby('week')['sales'].sum().reset_index()\n",
    "weekly_sales"
   ]
  },
  {
   "cell_type": "markdown",
   "metadata": {},
   "source": [
    "Let's join the two tables."
   ]
  },
  {
   "cell_type": "code",
   "execution_count": null,
   "metadata": {},
   "outputs": [],
   "source": [
    "weekly_summary = pd.merge(weekly_sales, weekly_customers, on='week')\n",
    "weekly_summary['avg_sales_per_customer'] = weekly_summary['sales'] / weekly_summary['unique_customers']\n",
    "weekly_summary"
   ]
  },
  {
   "cell_type": "markdown",
   "metadata": {},
   "source": [
    "Now, let's build a line chart for the average revenue per customer per week."
   ]
  },
  {
   "cell_type": "code",
   "execution_count": null,
   "metadata": {},
   "outputs": [],
   "source": [
    "plt.figure(figsize=(14, 8))\n",
    "plt.plot(weekly_summary['week'], weekly_summary['avg_sales_per_customer'], color='orange', marker='o', linestyle='-')\n",
    "plt.title(\"Средняя выручка на одного покупателя по неделям\")\n",
    "plt.xlabel(\"Неделя\")\n",
    "plt.ylabel(\"Средняя выручка на покупателя\")\n",
    "plt.xticks(rotation=45)\n",
    "plt.grid()\n",
    "plt.tight_layout()\n",
    "plt.show()"
   ]
  },
  {
   "cell_type": "markdown",
   "metadata": {},
   "source": [
    "Let's analyze the graph:\n",
    "\n",
    "- The overall trend appears to be downward, accompanied by fluctuations of varying amplitudes. The period from November 2018 to February 2019 is marked by significant changes: values drop to 1000 and rise to 2500 within a month. Similar fluctuations are observed from April to June 2019. Subsequently, the amplitude of the fluctuations becomes less pronounced, but in October 2019, there is a sharp drop to 500, and this level is maintained until the end of the observation period. The causes of such fluctuations may include holidays (Christmas and New Year), seasonal factors (start of the gardening season), and the impact of promotional campaigns."
   ]
  },
  {
   "cell_type": "markdown",
   "metadata": {},
   "source": [
    "### Analysis of Purchase Frequency"
   ]
  },
  {
   "cell_type": "markdown",
   "metadata": {},
   "source": [
    "The analysis of purchase frequency helps to determine how often customers return for purchases. A histogram would be the best visualization for this."
   ]
  },
  {
   "cell_type": "code",
   "execution_count": null,
   "metadata": {},
   "outputs": [],
   "source": [
    "purchase_frequency = df.groupby('customer_id')['order_id'].nunique()\n",
    "purchase_frequency.sort_values()"
   ]
  },
  {
   "cell_type": "code",
   "execution_count": null,
   "metadata": {},
   "outputs": [],
   "source": [
    "plt.figure(figsize=(14, 6))\n",
    "plt.hist(purchase_frequency, bins=50, color='skyblue', edgecolor='black')\n",
    "plt.title(\"Частота покупок клиентов\")\n",
    "plt.xlabel(\"Количество покупок\")\n",
    "plt.ylabel(\"Число клиентов\")\n",
    "plt.grid(axis='y', linestyle='--', alpha=0.7)\n",
    "plt.tight_layout()\n",
    "plt.show()"
   ]
  },
  {
   "cell_type": "code",
   "execution_count": null,
   "metadata": {},
   "outputs": [],
   "source": [
    "plt.figure(figsize=(14, 6))\n",
    "plt.boxplot(purchase_frequency, vert=False, patch_artist=True)\n",
    "plt.title(\"Распределение частоты покупок клиентов\")\n",
    "plt.xlabel(\"Количество покупок\")\n",
    "plt.grid(axis='x', linestyle='--', alpha=0.7)\n",
    "plt.show()"
   ]
  },
  {
   "cell_type": "markdown",
   "metadata": {},
   "source": [
    "Let's analyze the graph:\n",
    "\n",
    "- Distribution of values: Most of the values are concentrated around 1. This suggests that the majority of users made purchases only a minimal number of times, for example, 1-2 times.\n",
    "\n",
    "- Anomalous data: Despite the prevalence of low values, there is a group of users who return much more frequently. For instance, a user with the identifier c971fb21-d54c-4134-938f-16b62ee86d3b returned 126 times. This indicates the presence of loyal customers or active participants who make frequent purchases."
   ]
  },
  {
   "cell_type": "markdown",
   "metadata": {},
   "source": [
    "## The main research questions"
   ]
  },
  {
   "cell_type": "markdown",
   "metadata": {},
   "source": [
    "In this chapter, we will perform customer segmentation. The goal is to create three distinct groups of customers based on their behavior."
   ]
  },
  {
   "cell_type": "markdown",
   "metadata": {},
   "source": [
    "### Customer Segmentation using RFM analysis."
   ]
  },
  {
   "cell_type": "markdown",
   "metadata": {},
   "source": [
    "Customer segmentation will be conducted using the RFM method based on their purchase history. Three groups of customers will be identified: lost customers, inactive customers, and loyal customers. The method will be implemented through filtering, creating auxiliary columns, and assigning ranks."
   ]
  },
  {
   "cell_type": "markdown",
   "metadata": {},
   "source": [
    "First, let's define the last transaction date."
   ]
  },
  {
   "cell_type": "code",
   "execution_count": null,
   "metadata": {},
   "outputs": [],
   "source": [
    "df['date'].sort_values()"
   ]
  },
  {
   "cell_type": "code",
   "execution_count": 61,
   "metadata": {},
   "outputs": [],
   "source": [
    "current_date = pd.to_datetime('2020-02-01')"
   ]
  },
  {
   "cell_type": "markdown",
   "metadata": {},
   "source": [
    "\n",
    "We will re-group the data based on the three parameters that we will use for the RFM analysis:\n",
    "\n",
    "- R (from recency) – determines how recent the transaction was. It shows how much time has passed since the last purchase. To calculate this, we will subtract the transaction date from the current_date.\n",
    "- F (from frequency) – shows how often a customer makes a purchase. We will calculate this using the count function on the customer_id column.\n",
    "- M (from monetary) – represents the total amount spent on the product. We will use the sum function on the sales column."
   ]
  },
  {
   "cell_type": "code",
   "execution_count": 62,
   "metadata": {},
   "outputs": [],
   "source": [
    "df_rfm = df.groupby('customer_id').agg({\n",
    "    'date': lambda x: (current_date - x.max()).days, \n",
    "    'customer_id': 'count',  \n",
    "    'sales': 'sum'  \n",
    "}).rename(columns={'date': 'recency', 'customer_id': 'frequency', 'sales': 'monetary'})"
   ]
  },
  {
   "cell_type": "code",
   "execution_count": null,
   "metadata": {},
   "outputs": [],
   "source": [
    "df_rfm"
   ]
  },
  {
   "cell_type": "markdown",
   "metadata": {},
   "source": [
    "We use the rank method to assign ranks."
   ]
  },
  {
   "cell_type": "code",
   "execution_count": 64,
   "metadata": {},
   "outputs": [],
   "source": [
    "df_rfm['r_rank'] = df_rfm['recency'].rank(ascending=False, method='max').astype(int)\n",
    "df_rfm['f_rank'] = df_rfm['frequency'].rank(ascending=True, method='min').astype(int)\n",
    "df_rfm['m_rank'] = df_rfm['monetary'].rank(ascending=True, method='min').astype(int)"
   ]
  },
  {
   "cell_type": "markdown",
   "metadata": {},
   "source": [
    "After ranking, we use pd.cut to divide the rank values into 3 categories, ranging from 0 to 2."
   ]
  },
  {
   "cell_type": "code",
   "execution_count": 65,
   "metadata": {},
   "outputs": [],
   "source": [
    "df_rfm['r_rank'] = pd.cut(df_rfm['r_rank'], bins=3, labels=[1, 2, 3]).astype(int)\n",
    "df_rfm['f_rank'] = pd.cut(df_rfm['f_rank'], bins=3, labels=[1, 2, 3]).astype(int)\n",
    "df_rfm['m_rank'] = pd.cut(df_rfm['m_rank'], bins=3, labels=[1, 2, 3]).astype(int)"
   ]
  },
  {
   "cell_type": "code",
   "execution_count": null,
   "metadata": {},
   "outputs": [],
   "source": [
    "df_rfm"
   ]
  },
  {
   "cell_type": "markdown",
   "metadata": {},
   "source": [
    "By summing all the ranks, we obtain the overall RFM_Score."
   ]
  },
  {
   "cell_type": "code",
   "execution_count": null,
   "metadata": {},
   "outputs": [],
   "source": [
    "df_rfm['rfm_score'] = 0.15 * df_rfm['r_rank'] + 0.28 * df_rfm['f_rank'] + 0.57 * df_rfm['m_rank']\n",
    "df_rfm"
   ]
  },
  {
   "cell_type": "markdown",
   "metadata": {},
   "source": [
    "We will use the distribution of customers into churned, inactive, and active based on the following source: https://timeweb.com/ru/community/articles/chto-takoe-rfm-analiz."
   ]
  },
  {
   "cell_type": "code",
   "execution_count": 68,
   "metadata": {},
   "outputs": [],
   "source": [
    "def segment_customer(score):\n",
    "    if 2.5 < score <= 3:\n",
    "        return 'Постоянные клиенты'\n",
    "    elif 2 < score <= 2.5:\n",
    "        return 'Неактивные клиенты'\n",
    "    else:\n",
    "        return 'Ушедшие клиенты'"
   ]
  },
  {
   "cell_type": "code",
   "execution_count": 69,
   "metadata": {},
   "outputs": [],
   "source": [
    "df_rfm['rfm_segment'] = df_rfm['rfm_score'].apply(segment_customer)"
   ]
  },
  {
   "cell_type": "code",
   "execution_count": null,
   "metadata": {},
   "outputs": [],
   "source": [
    "df_rfm"
   ]
  },
  {
   "cell_type": "markdown",
   "metadata": {},
   "source": [
    "Now, let's transfer the segment information from the df_rfm dataset to the main dataset df."
   ]
  },
  {
   "cell_type": "code",
   "execution_count": 71,
   "metadata": {},
   "outputs": [],
   "source": [
    "df_rfm.drop(columns=['recency', 'frequency','monetary','r_rank','f_rank','m_rank','rfm_score'], inplace=True)"
   ]
  },
  {
   "cell_type": "code",
   "execution_count": 72,
   "metadata": {},
   "outputs": [],
   "source": [
    "df = df.merge(df_rfm[['rfm_segment']], on='customer_id', how='left')"
   ]
  },
  {
   "cell_type": "code",
   "execution_count": null,
   "metadata": {},
   "outputs": [],
   "source": [
    "df"
   ]
  },
  {
   "cell_type": "markdown",
   "metadata": {},
   "source": [
    "### Description of the Obtained Segments."
   ]
  },
  {
   "cell_type": "markdown",
   "metadata": {},
   "source": [
    "Let's describe and compare the size of the segments, main product categories, average check, revenue, number and frequency of purchases, and customer loyalty (how often they return for new purchases)."
   ]
  },
  {
   "cell_type": "markdown",
   "metadata": {},
   "source": [
    "For convenience, we will also create a color dictionary."
   ]
  },
  {
   "cell_type": "code",
   "execution_count": 74,
   "metadata": {},
   "outputs": [],
   "source": [
    "rfm_colors = {\n",
    "    'Постоянные клиенты': '#77b41f',\n",
    "    'Неактивные клиенты': '#101029',\n",
    "    'Ушедшие клиенты': '#e34234',\n",
    "}"
   ]
  },
  {
   "cell_type": "markdown",
   "metadata": {},
   "source": [
    "#### Sizes of the Segments.\n"
   ]
  },
  {
   "cell_type": "markdown",
   "metadata": {},
   "source": [
    "Let's start with the segment sizes."
   ]
  },
  {
   "cell_type": "code",
   "execution_count": null,
   "metadata": {},
   "outputs": [],
   "source": [
    "rfm_counts = df.groupby('rfm_segment')['customer_id'].nunique().reset_index()\n",
    "rfm_counts.columns = ['rfm_segment', 'count']\n",
    "rfm_counts"
   ]
  },
  {
   "cell_type": "code",
   "execution_count": null,
   "metadata": {},
   "outputs": [],
   "source": [
    "colors = [rfm_colors[rfm_segment] for rfm_segment in rfm_counts['rfm_segment']]\n",
    "\n",
    "fig, axs = plt.subplots(figsize=(18, 6))\n",
    "sns.set_palette('pastel')\n",
    "sns.set_style('white')\n",
    "sns.barplot(x='rfm_segment', y='count', data=rfm_counts, ax=axs, palette=colors)\n",
    "\n",
    "axs.set_title(\"Распределение клиентов по сегментам\", fontsize=16)\n",
    "axs.set_xlabel(\"Сегменты\", fontsize=14)\n",
    "axs.set_ylabel(\"Количество клиентов в сегметнах\", fontsize=14)\n",
    "\n",
    "plt.tight_layout()\n",
    "plt.show()"
   ]
  },
  {
   "cell_type": "markdown",
   "metadata": {},
   "source": [
    "- The largest segment is the churned customers - 1230.\n",
    "- Next, we have inactive customers - 726.\n",
    "- We also have loyal customers, totaling 456."
   ]
  },
  {
   "cell_type": "markdown",
   "metadata": {},
   "source": [
    "#### Main Product Сategories."
   ]
  },
  {
   "cell_type": "markdown",
   "metadata": {},
   "source": [
    "Now let's take a look at how product categories are distributed across different segments."
   ]
  },
  {
   "cell_type": "code",
   "execution_count": null,
   "metadata": {},
   "outputs": [],
   "source": [
    "segment_category_df = df.pivot_table(index='rfm_segment', columns='category', values='order_id', aggfunc='count').fillna(0)\n",
    "segment_category_df = segment_category_df.sort_values(by='Цветы', ascending=True)\n",
    "segment_category_df"
   ]
  },
  {
   "cell_type": "code",
   "execution_count": null,
   "metadata": {},
   "outputs": [],
   "source": [
    "colors = [category_colors[category] for category in segment_category_df.columns]\n",
    "\n",
    "sns.set_style('white')\n",
    "sns.set_palette('pastel')\n",
    "\n",
    "segment_category_df.plot(kind='barh', stacked=True, figsize=(18, 10), color=colors)\n",
    "\n",
    "plt.title('Количество транзакций совершенных в ранзных категорий разными сегментами', fontsize=16)\n",
    "plt.xlabel('Количество', fontsize=14)\n",
    "plt.ylabel('Сегменты', fontsize=14)\n",
    "plt.legend(title='Категория', fontsize=12)\n",
    "plt.xticks(rotation=45, fontsize=12, ha='right')\n",
    "plt.grid(axis='x', linestyle='--', alpha=0.7) \n",
    "\n",
    "plt.tight_layout()\n",
    "plt.show()"
   ]
  },
  {
   "cell_type": "markdown",
   "metadata": {},
   "source": [
    "- Churned customers: The majority of transactions are in the \"Flowers\", \"Textiles and Décor\", and \"Household Goods\" categories. \"Kitchenware\" comes last. There are also small numbers of purchases in the \"Vegetables and Fruits\" and \"Garden Supplies\" categories.\n",
    "\n",
    "- Inactive customers: These customers also made many purchases in the \"Flowers\" and \"Household Goods\" categories, but in different proportions—more flowers and fewer household goods, as well as in the \"Textiles and Décor\" category. A significant number of items were bought from the \"Vegetables and Fruits\" category, followed by \"Kitchenware\". \"Garden Supplies\" had the fewest purchases.\n",
    "\n",
    "- Loyal customers: In general, loyal customers bought more items, and the proportions follow a similar trend to churned and inactive customers. The \"Flowers\" category stands out with significantly more purchases than the others. Next, \"Household Goods\", \"Textiles and Décor\", and \"Vegetables and Fruits\" are bought in roughly equal amounts. \"Kitchenware\" and \"Garden Supplies\" are at the bottom of the list.\n",
    "\n",
    "To improve retention and engagement, efforts should focus on promoting the \"Flowers\", \"Textiles and Décor\", and \"Household Goods\" categories. These categories attract attention from churned and inactive customers and also generate interest from loyal buyers."
   ]
  },
  {
   "cell_type": "markdown",
   "metadata": {},
   "source": [
    "#### Average Сheck"
   ]
  },
  {
   "cell_type": "markdown",
   "metadata": {},
   "source": [
    "Now let's take a look at the average check dynamics across different segments."
   ]
  },
  {
   "cell_type": "code",
   "execution_count": null,
   "metadata": {},
   "outputs": [],
   "source": [
    "aggregated_data = df.groupby(['date', 'rfm_segment']).agg(\n",
    "    purchases=('order_id', 'nunique'), \n",
    "    sales=('sales', 'sum') ).reset_index()\n",
    "aggregated_data"
   ]
  },
  {
   "cell_type": "code",
   "execution_count": null,
   "metadata": {},
   "outputs": [],
   "source": [
    "aggregated_data['week'] = aggregated_data['date'].dt.to_period('W').apply(lambda r: r.start_time)\n",
    "aggregated_data"
   ]
  },
  {
   "cell_type": "code",
   "execution_count": null,
   "metadata": {},
   "outputs": [],
   "source": [
    "weekly_data = aggregated_data.groupby(['week', 'rfm_segment']).sum().reset_index()\n",
    "weekly_data"
   ]
  },
  {
   "cell_type": "code",
   "execution_count": null,
   "metadata": {},
   "outputs": [],
   "source": [
    "weekly_data['average_bill'] = weekly_data['sales']/weekly_data['purchases']\n",
    "weekly_data"
   ]
  },
  {
   "cell_type": "code",
   "execution_count": null,
   "metadata": {},
   "outputs": [],
   "source": [
    "plt.figure(figsize=(14, 8))\n",
    "\n",
    "for rfm_segment in weekly_data['rfm_segment'].unique():\n",
    "    rfm_segment_data = weekly_data[weekly_data['rfm_segment'] == rfm_segment]\n",
    "    plt.plot(rfm_segment_data['week'], rfm_segment_data['average_bill'], label=rfm_segment, color=rfm_colors[rfm_segment])\n",
    "plt.title('Динамика среднего чека для разнвых сегментов')\n",
    "plt.xlabel('Дата')\n",
    "plt.ylabel('Средний чек')\n",
    "plt.legend(loc='upper left')\n",
    "plt.grid(True)\n",
    "\n",
    "plt.tight_layout()\n",
    "plt.show()"
   ]
  },
  {
   "cell_type": "markdown",
   "metadata": {},
   "source": [
    "- Loyal customers generally maintain higher average check values over time, although there are noticeable fluctuations, especially with a peak in early 2019 and another increase in mid-2019. After these peaks, the average check stabilizes but remains lower than before.\n",
    "\n",
    "- Lost customers show a stable low average check, which also has a downward trend.\n",
    "\n",
    "- Inactive customers demonstrate significant jumps in the average check dynamics, indicating the inconsistency of this segment. These fluctuations may be caused by spontaneous purchases related to promotions and discounts, as well as changes in the assortment and prices, suggesting that such customers do not have regular behavior and actively respond to temporary offers. It's also worth noting that the average check values don't stray too far from those of loyal customers, highlighting the importance of this segment.\n",
    "\n",
    "Loyal customers provide the highest revenue, despite fluctuations in their average check, making them a valuable segment for the business. Lost customers show a decrease in spending before fully churning, which may indicate issues. Inactive customers have a low average check, indicating the need for targeted strategies for their re-engagement or their lower value. Specifically, loyal customers demonstrate higher average check values with noticeable fluctuations, including peaks in early and mid-2019. Lost customers maintain a stable low average check with a downward trend, while inactive customers exhibit significant jumps, indicating irregular purchasing behavior, but their average check is close to that of loyal customers, emphasizing the importance of this segment."
   ]
  },
  {
   "cell_type": "markdown",
   "metadata": {},
   "source": [
    "#### Revenue"
   ]
  },
  {
   "cell_type": "markdown",
   "metadata": {},
   "source": [
    "In the same vein, let's look at the revenue."
   ]
  },
  {
   "cell_type": "code",
   "execution_count": null,
   "metadata": {},
   "outputs": [],
   "source": [
    "plt.figure(figsize=(14, 8))\n",
    "\n",
    "for rfm_segment in weekly_data['rfm_segment'].unique():\n",
    "    rfm_segment_data = weekly_data[weekly_data['rfm_segment'] == rfm_segment]\n",
    "    plt.plot(rfm_segment_data['week'], rfm_segment_data['sales'].cumsum(), label=rfm_segment,color=rfm_colors[rfm_segment])\n",
    "plt.title('Роста кумулятивной выручки каждой сегмента')\n",
    "plt.xlabel('Дата')\n",
    "plt.ylabel('Кумулятивная выручка в миллионах')\n",
    "plt.legend(loc='upper left')\n",
    "plt.grid(True)\n",
    "\n",
    "plt.tight_layout()\n",
    "plt.show()"
   ]
  },
  {
   "cell_type": "markdown",
   "metadata": {},
   "source": [
    "- Loyal customers show steady growth in cumulative revenue throughout the period, with an increase of 250,000 every 2 months.\n",
    "\n",
    "- Inactive customers follow the same trend as loyal customers, but their activity declines after the end of 2019 and stabilizes at a plateau. This suggests a need for re-engagement strategies for this segment.\n",
    "\n",
    "- Churned customers have stable low revenue until the end of 2019, showing an increase of 250,000 every 6 months. After this period, this segment reduces its activity and reaches a plateau.\n",
    "\n",
    "Loyal customers demonstrate consistent growth in cumulative revenue throughout the period, increasing by 250,000 every two months, confirming their value to the business. In contrast, inactive customers follow a similar trend but their activity begins to decline after the end of 2019 and stabilizes at a low level, highlighting the need for strategies to re-engage them. Churned customers show stable low revenue until the end of 2019 with an increase of 250,000 every six months, but their activity also decreases and reaches a plateau, indicating the need to address the causes of their churn."
   ]
  },
  {
   "cell_type": "markdown",
   "metadata": {},
   "source": [
    "#### Amount and Frequency of Purchases"
   ]
  },
  {
   "cell_type": "markdown",
   "metadata": {},
   "source": [
    "Let's take a look at the number of purchases in each segment."
   ]
  },
  {
   "cell_type": "code",
   "execution_count": null,
   "metadata": {},
   "outputs": [],
   "source": [
    "purchase_counts = df.groupby('rfm_segment')['order_id'].nunique().reset_index()\n",
    "purchase_counts.columns = ['rfm_segment', 'purchase_count']\n",
    "purchase_counts"
   ]
  },
  {
   "cell_type": "code",
   "execution_count": null,
   "metadata": {},
   "outputs": [],
   "source": [
    "colors = [rfm_colors[rfm_segment] for rfm_segment in rfm_counts['rfm_segment']]\n",
    "\n",
    "fig, axs = plt.subplots(figsize=(18, 6))\n",
    "sns.set_palette('pastel')\n",
    "sns.set_style('white')\n",
    "sns.barplot(x='rfm_segment', y='purchase_count', data=purchase_counts, ax=axs, palette=colors)\n",
    "\n",
    "axs.set_title(\"Распределение транзакций по сегментам\", fontsize=16)\n",
    "axs.set_xlabel(\"Сегменты\", fontsize=14)\n",
    "axs.set_ylabel(\"Количество транзакций в сегметнах\", fontsize=14)\n",
    "\n",
    "plt.tight_layout()\n",
    "plt.show()"
   ]
  },
  {
   "cell_type": "markdown",
   "metadata": {},
   "source": [
    "- The largest number of purchases is with the churned customers, around 1400.\n",
    "- Both inactive and loyal customers have the same number of purchases, around 1000."
   ]
  },
  {
   "cell_type": "markdown",
   "metadata": {},
   "source": [
    "Let's calculate the purchase frequency for each segment."
   ]
  },
  {
   "cell_type": "code",
   "execution_count": null,
   "metadata": {},
   "outputs": [],
   "source": [
    "frequency_data = purchase_counts.merge(rfm_counts, on='rfm_segment')\n",
    "frequency_data['purchase_frequency'] = frequency_data['purchase_count'] / frequency_data['count']\n",
    "frequency_data"
   ]
  },
  {
   "cell_type": "code",
   "execution_count": null,
   "metadata": {},
   "outputs": [],
   "source": [
    "colors = [rfm_colors[rfm_segment] for rfm_segment in rfm_counts['rfm_segment']]\n",
    "\n",
    "fig, axs = plt.subplots(figsize=(18, 6))\n",
    "sns.set_palette('pastel')\n",
    "sns.set_style('white')\n",
    "sns.barplot(x='rfm_segment', y='purchase_frequency', data=frequency_data, ax=axs, palette=colors)\n",
    "\n",
    "axs.set_title(\"Частота покупок по сегментам\", fontsize=16)\n",
    "axs.set_xlabel(\"Сегменты\", fontsize=14)\n",
    "axs.set_ylabel(\"Среднее количество покупок на одного клиента в каждом сегменте\", fontsize=14)\n",
    "\n",
    "plt.tight_layout()\n",
    "plt.show()"
   ]
  },
  {
   "cell_type": "markdown",
   "metadata": {},
   "source": [
    "- As expected, the highest purchase frequency is among loyal customers, with an average of 2.3 purchases per customer.\n",
    "- Next are the lost customers, with an average of 1.2 purchases per customer."
   ]
  },
  {
   "cell_type": "markdown",
   "metadata": {},
   "source": [
    "#### Customer Loyalty"
   ]
  },
  {
   "cell_type": "markdown",
   "metadata": {},
   "source": [
    "Finally, let's look at the loyalty of different segments. We will express it using the Retention Rate."
   ]
  },
  {
   "cell_type": "code",
   "execution_count": 89,
   "metadata": {},
   "outputs": [],
   "source": [
    "df['first_purchase_date'] = df.groupby('customer_id')['date'].transform('min')"
   ]
  },
  {
   "cell_type": "code",
   "execution_count": 90,
   "metadata": {},
   "outputs": [],
   "source": [
    "df['month'] = df['date'].dt.to_period('M')\n",
    "df['first_purchase_month'] = df['first_purchase_date'].dt.to_period('M')\n",
    "df['is_returning'] = df['month'] > df['first_purchase_month']"
   ]
  },
  {
   "cell_type": "code",
   "execution_count": null,
   "metadata": {},
   "outputs": [],
   "source": [
    "retention_rate = df[df['is_returning']].groupby('rfm_segment')['customer_id'].nunique()/df.groupby('rfm_segment')['customer_id'].nunique()\n",
    "retention_rate = retention_rate.reset_index()\n",
    "retention_rate.columns = ['rfm_segment', 'retention_rate']\n",
    "retention_rate"
   ]
  },
  {
   "cell_type": "markdown",
   "metadata": {},
   "source": [
    "The conclusion confirms the correctness of the segmentation — constant customers have the highest Retention Rate. From this table, two simple conclusions follow:\n",
    "\n",
    "- Constant customers are the key segment with high loyalty, and it is important to continue supporting their activity.\n",
    "- Inactive and lost customers have a low retention rate, so it is necessary to consider measures for re-engaging them, if possible, or focus on more actively retaining constant customers."
   ]
  },
  {
   "cell_type": "markdown",
   "metadata": {},
   "source": [
    "### Analysis of Product Categories and their Seasonality across the identified Customer Segments."
   ]
  },
  {
   "cell_type": "markdown",
   "metadata": {},
   "source": [
    "Let us analyze the purchasing behavior and patterns within this segment in terms of seasonality, focusing on whether customers in this segment tend to make purchases during seasonal promotions."
   ]
  },
  {
   "cell_type": "markdown",
   "metadata": {},
   "source": [
    "Let us consider four product categories where seasonality was identified: Flowers, Fruits and Vegetables, Gardening Supplies, and Textiles and Decor. We will create graphs of total sales and compare them with the sales graphs for different segments."
   ]
  },
  {
   "cell_type": "code",
   "execution_count": 92,
   "metadata": {},
   "outputs": [],
   "source": [
    "df_lived_flowers_customers = df[(df['rfm_segment'] == 'Ушедшие клиенты') & (df['category'] == 'Цветы')]\n",
    "df_regular_flowers_customers = df[(df['rfm_segment'] == 'Постоянные клиенты') & (df['category'] == 'Цветы')]\n",
    "df_unactive_flowers_customers = df[(df['rfm_segment'] == 'Неактивные клиенты') & (df['category'] == 'Цветы')]\n",
    "df_flowers_overall = df[(df['category'] == 'Цветы')]"
   ]
  },
  {
   "cell_type": "code",
   "execution_count": 93,
   "metadata": {},
   "outputs": [],
   "source": [
    "weekly_data_flowers_lived = aggregate_weekly_data(df_lived_flowers_customers)\n",
    "weekly_data_flowers_regular = aggregate_weekly_data(df_regular_flowers_customers)\n",
    "weekly_data_flowers_unactive = aggregate_weekly_data(df_unactive_flowers_customers)\n",
    "weekly_data_overall = aggregate_weekly_data(df_flowers_overall)"
   ]
  },
  {
   "cell_type": "code",
   "execution_count": null,
   "metadata": {},
   "outputs": [],
   "source": [
    "plt.figure(figsize=(14, 10))\n",
    "plt.plot(weekly_data_overall['week'], \n",
    "         weekly_data_overall['purchases'], \n",
    "         label='Общие продажи Цветы',\n",
    "         color='blue')\n",
    "plt.plot(weekly_data_flowers_lived['week'], \n",
    "         weekly_data_flowers_lived['purchases'], \n",
    "         label='Продажи цветов для ушедших клиентов',\n",
    "         color=rfm_colors['Ушедшие клиенты'])\n",
    "plt.plot(weekly_data_flowers_regular['week'], \n",
    "         weekly_data_flowers_regular['purchases'], \n",
    "         label='Продажи цветов для постоянных клиентов',\n",
    "         color=rfm_colors['Постоянные клиенты'])\n",
    "plt.plot(weekly_data_flowers_unactive['week'], \n",
    "         weekly_data_flowers_unactive['purchases'], \n",
    "         label='Продажи цветов для неактивных клиентов',\n",
    "         color=rfm_colors['Неактивные клиенты'])\n",
    "plt.title('Количество покупок по категории \"Цветы\"')\n",
    "plt.xlabel('Дата')\n",
    "plt.ylabel('Количество покупок')\n",
    "plt.legend(loc='upper left')\n",
    "plt.grid(True)"
   ]
  },
  {
   "cell_type": "markdown",
   "metadata": {},
   "source": [
    "It can be said that churned and inactive customers purchase items from the \"Flowers\" category during its seasonal period. This suggests that these segments can be targeted for re-engagement to increase their spending and potentially convert them into loyal customers."
   ]
  },
  {
   "cell_type": "code",
   "execution_count": 95,
   "metadata": {},
   "outputs": [],
   "source": [
    "df_lived_vegfrut_customers = df[(df['rfm_segment'] == 'Ушедшие клиенты') & (df['category'] == 'Овощи и фрукты')]\n",
    "df_regular_vegfrut_customers = df[(df['rfm_segment'] == 'Постоянные клиенты') & (df['category'] == 'Овощи и фрукты')]\n",
    "df_unactive_vegfrut_customers = df[(df['rfm_segment'] == 'Неактивные клиенты') & (df['category'] == 'Овощи и фрукты')]\n",
    "df_vegfrut_overall = df[(df['category'] == 'Овощи и фрукты')]"
   ]
  },
  {
   "cell_type": "code",
   "execution_count": 96,
   "metadata": {},
   "outputs": [],
   "source": [
    "weekly_data_vegfrut_lived = aggregate_weekly_data(df_lived_vegfrut_customers)\n",
    "weekly_data_vegfrut_regular = aggregate_weekly_data(df_regular_vegfrut_customers)\n",
    "weekly_data_vegfrut_unactive = aggregate_weekly_data(df_unactive_vegfrut_customers)\n",
    "weekly_data_overall = aggregate_weekly_data(df_vegfrut_overall)"
   ]
  },
  {
   "cell_type": "code",
   "execution_count": null,
   "metadata": {},
   "outputs": [],
   "source": [
    "plt.figure(figsize=(14, 10))\n",
    "plt.plot(weekly_data_overall['week'], \n",
    "         weekly_data_overall['purchases'], \n",
    "         label='Общие продажи Овощи и фрукты',\n",
    "         color='blue')\n",
    "plt.plot(weekly_data_vegfrut_lived['week'], \n",
    "         weekly_data_vegfrut_lived['purchases'], \n",
    "         label='Продажи Овощи и фрукты для ушедших клиентов',\n",
    "         color=rfm_colors['Ушедшие клиенты'])\n",
    "plt.plot(weekly_data_vegfrut_regular['week'], \n",
    "         weekly_data_vegfrut_regular['purchases'], \n",
    "         label='Продажи Овощи и фрукты для постоянных клиентов',\n",
    "         color=rfm_colors['Постоянные клиенты'])\n",
    "plt.plot(weekly_data_vegfrut_unactive['week'], \n",
    "         weekly_data_vegfrut_unactive['purchases'], \n",
    "         label='Продажи Овощи и фрукты для неактивных клиентов',\n",
    "         color=rfm_colors['Неактивные клиенты'])\n",
    "plt.title('Количество покупок по категории \"Овощи и фрукты\"')\n",
    "plt.xlabel('Дата')\n",
    "plt.ylabel('Количество покупок')\n",
    "plt.legend(loc='upper left')\n",
    "plt.grid(True)"
   ]
  },
  {
   "cell_type": "markdown",
   "metadata": {},
   "source": [
    "We can observe a similar situation—inactive and churned customers made their purchases during the seasonal period for the \"Fruits and Vegetables\" category. Regular customers did not follow this seasonality. Once again, this highlights the effectiveness of targeted advertising."
   ]
  },
  {
   "cell_type": "code",
   "execution_count": 98,
   "metadata": {},
   "outputs": [],
   "source": [
    "df_lived_garden_customers = df[(df['rfm_segment'] == 'Ушедшие клиенты') & (df['category'] == 'Садовые принадлежности')]\n",
    "df_regular_garden_customers = df[(df['rfm_segment'] == 'Постоянные клиенты') & (df['category'] == 'Садовые принадлежности')]\n",
    "df_unactive_garden_customers = df[(df['rfm_segment'] == 'Неактивные клиенты') & (df['category'] == 'Садовые принадлежности')]\n",
    "df_garden_overall = df[(df['category'] == 'Садовые принадлежности')]"
   ]
  },
  {
   "cell_type": "code",
   "execution_count": 99,
   "metadata": {},
   "outputs": [],
   "source": [
    "weekly_data_garden_lived = aggregate_weekly_data(df_lived_garden_customers)\n",
    "weekly_data_garden_regular = aggregate_weekly_data(df_regular_garden_customers)\n",
    "weekly_data_garden_unactive = aggregate_weekly_data(df_unactive_garden_customers)\n",
    "weekly_data_overall = aggregate_weekly_data(df_garden_overall)"
   ]
  },
  {
   "cell_type": "code",
   "execution_count": null,
   "metadata": {},
   "outputs": [],
   "source": [
    "plt.figure(figsize=(14, 10))\n",
    "plt.plot(weekly_data_overall['week'], \n",
    "         weekly_data_overall['purchases'], \n",
    "         label='Общие продажи Садовые принадлежности',\n",
    "         color='blue')\n",
    "plt.plot(weekly_data_garden_lived['week'], \n",
    "         weekly_data_garden_lived['purchases'], \n",
    "         label='Продажи Садовые принадлежности для ушедших клиентов',\n",
    "         color=rfm_colors['Ушедшие клиенты'])\n",
    "plt.plot(weekly_data_garden_regular['week'], \n",
    "         weekly_data_garden_regular['purchases'], \n",
    "         label='Продажи Садовые принадлежности для постоянных клиентов',\n",
    "         color=rfm_colors['Постоянные клиенты'])\n",
    "plt.plot(weekly_data_garden_unactive['week'], \n",
    "         weekly_data_garden_unactive['purchases'], \n",
    "         label='Продажи Садовые принадлежности для неактивных клиентов',\n",
    "         color=rfm_colors['Неактивные клиенты'])\n",
    "plt.title('Количество покупок по категории \"Садовые принадлежности\"')\n",
    "plt.xlabel('Дата')\n",
    "plt.ylabel('Количество покупок')\n",
    "plt.legend(loc='upper left')\n",
    "plt.grid(True)"
   ]
  },
  {
   "cell_type": "markdown",
   "metadata": {},
   "source": [
    "We can observe a similar situation—inactive and churned customers made their purchases during the seasonal period for the \"Gardening Supplies\" category. Regular customers did not follow this seasonality. Once again, this highlights the effectiveness of targeted advertising."
   ]
  },
  {
   "cell_type": "code",
   "execution_count": 101,
   "metadata": {},
   "outputs": [],
   "source": [
    "df_lived_textiles_customers = df[(df['rfm_segment'] == 'Ушедшие клиенты') & (df['category'] == 'Текстиль и декор')]\n",
    "df_regular_textiles_customers = df[(df['rfm_segment'] == 'Постоянные клиенты') & (df['category'] == 'Текстиль и декор')]\n",
    "df_unactive_textiles_customers = df[(df['rfm_segment'] == 'Неактивные клиенты') & (df['category'] == 'Текстиль и декор')]\n",
    "df_textiles_overall = df[(df['category'] == 'Текстиль и декор')]"
   ]
  },
  {
   "cell_type": "code",
   "execution_count": 102,
   "metadata": {},
   "outputs": [],
   "source": [
    "weekly_data_textiles_lived = aggregate_weekly_data(df_lived_textiles_customers)\n",
    "weekly_data_textiles_regular = aggregate_weekly_data(df_regular_textiles_customers)\n",
    "weekly_data_textiles_unactive = aggregate_weekly_data(df_unactive_textiles_customers)\n",
    "weekly_data_overall = aggregate_weekly_data(df_textiles_overall)"
   ]
  },
  {
   "cell_type": "code",
   "execution_count": null,
   "metadata": {},
   "outputs": [],
   "source": [
    "plt.figure(figsize=(14, 10))\n",
    "plt.plot(weekly_data_overall['week'], \n",
    "         weekly_data_overall['purchases'], \n",
    "         label='Общие продажи Текстиль и декор',\n",
    "         color='blue')\n",
    "plt.plot(weekly_data_textiles_lived['week'], \n",
    "         weekly_data_textiles_lived['purchases'], \n",
    "         label='Продажи Текстиль и декор для ушедших клиентов',\n",
    "         color=rfm_colors['Ушедшие клиенты'])\n",
    "plt.plot(weekly_data_textiles_regular['week'], \n",
    "         weekly_data_textiles_regular['purchases'], \n",
    "         label='Продажи Текстиль и декор для постоянных клиентов',\n",
    "         color=rfm_colors['Постоянные клиенты'])\n",
    "plt.plot(weekly_data_textiles_unactive['week'], \n",
    "         weekly_data_textiles_unactive['purchases'], \n",
    "         label='Продажи Текстиль и декор для неактивных клиентов',\n",
    "         color=rfm_colors['Неактивные клиенты'])\n",
    "plt.title('Количество покупок по категории \"Текстиль и декор\"')\n",
    "plt.xlabel('Дата')\n",
    "plt.ylabel('Количество покупок')\n",
    "plt.legend(loc='upper left')\n",
    "plt.grid(True)"
   ]
  },
  {
   "cell_type": "markdown",
   "metadata": {},
   "source": [
    "It cannot be definitively stated that purchases of items from the \"Textiles and Decor\" category by different segments align with the seasonality of these products."
   ]
  },
  {
   "cell_type": "markdown",
   "metadata": {},
   "source": [
    "### Identifying Segments with High Potential for Personalized Offers"
   ]
  },
  {
   "cell_type": "markdown",
   "metadata": {},
   "source": [
    "During the study, three key customer segments were identified: regular customers, churned customers, and inactive customers. Personalized marketing strategies can be developed for each of these segments:\n",
    "\n",
    "- Regular Customers: This segment demonstrates high loyalty and stable average spending. It is recommended to use personalized email campaigns and special offers in categories such as \"Flowers,\" \"Textiles and Decor,\" and \"Household Goods,\" which already attract their attention. Additionally, introducing a loyalty program could further enhance retention.\n",
    "\n",
    "- Churned Customers: This segment shows interest in categories such as \"Flowers,\" \"Textiles and Decor,\" and \"Kitchenware.\" Targeted advertising campaigns focusing on seasonal promotions in these categories should be launched to win back these customers. Offering discounts on previously purchased products could also encourage re-engagement.\n",
    "\n",
    "- Inactive Customers: Although this segment has the lowest average spending, they can be re-engaged through special offers and discounts on products that previously caught their interest, such as \"Fruits and Vegetables\" and \"Garden Supplies.\" Creating attractive promotions and improving the assortment in these categories could help increase their activity. Targeted advertising campaigns emphasizing seasonal offers in these categories are also essential.\n",
    "\n",
    "The overall trend indicates that inactive and churned customers often make purchases during periods of seasonal demand. This presents an opportunity for marketing campaigns aimed at re-engaging these customers. It is crucial to focus on personalized offers that can spark interest and bring customers back, while regular customers should remain a priority for growth and retention."
   ]
  },
  {
   "cell_type": "markdown",
   "metadata": {},
   "source": [
    "## Hypothesis Testing"
   ]
  },
  {
   "cell_type": "markdown",
   "metadata": {},
   "source": [
    "Statistical hypothesis testing will allow us to evaluate the quality of the segmentation conducted, as it will demonstrate the extent to which user behavior differs across segments. This will help confirm that the identified segments are indeed distinct in terms of key characteristics, which is crucial for further personalization of offers."
   ]
  },
  {
   "cell_type": "markdown",
   "metadata": {},
   "source": [
    "### Formulation of Hypotheses"
   ]
  },
  {
   "cell_type": "markdown",
   "metadata": {},
   "source": [
    "- Null hypothesis (H0): The average purchase amounts of customers in different segments are the same.\n",
    "- Alternative hypothesis (H1): The average purchase amounts differ in at least one segment."
   ]
  },
  {
   "cell_type": "markdown",
   "metadata": {},
   "source": [
    "- Null hypothesis (H0): The average purchase frequency is the same across different segments.\n",
    "- Alternative hypothesis (H1): The average purchase frequency differs in at least one segment."
   ]
  },
  {
   "cell_type": "markdown",
   "metadata": {},
   "source": [
    "### Statistical Hypothesis Testing"
   ]
  },
  {
   "cell_type": "markdown",
   "metadata": {},
   "source": [
    "Hypothesis testing will be conducted pairwise — 1/2, 1/3, 2/3. To test the hypotheses, we will use a t-test for the equality of means of two populations. To avoid false positive results, a Bonferroni correction will be applied to the significance level."
   ]
  },
  {
   "cell_type": "code",
   "execution_count": 104,
   "metadata": {},
   "outputs": [],
   "source": [
    "alpha = 0.05\n",
    "\n",
    "n_tests = 3 \n",
    "\n",
    "alpha_bonferroni = alpha / n_tests"
   ]
  },
  {
   "cell_type": "code",
   "execution_count": 105,
   "metadata": {},
   "outputs": [],
   "source": [
    "aggregated_data = df.groupby(['date', 'rfm_segment']).agg(\n",
    "    purchases=('order_id', 'nunique'), \n",
    "    sales=('sales', 'sum') ).reset_index()"
   ]
  },
  {
   "cell_type": "code",
   "execution_count": 106,
   "metadata": {},
   "outputs": [],
   "source": [
    "aggregated_data_rfm_segment = aggregated_data.groupby(['date', 'rfm_segment']).sum().reset_index()"
   ]
  },
  {
   "cell_type": "code",
   "execution_count": null,
   "metadata": {},
   "outputs": [],
   "source": [
    "aggregated_data_rfm_segment['average_bill'] = aggregated_data_rfm_segment['sales']/aggregated_data_rfm_segment['purchases']\n",
    "aggregated_data_rfm_segment"
   ]
  },
  {
   "cell_type": "code",
   "execution_count": null,
   "metadata": {},
   "outputs": [],
   "source": [
    "segment_1 = aggregated_data_rfm_segment[aggregated_data_rfm_segment['rfm_segment'] == 'Loyal Customers']['average_bill']\n",
    "segment_2 = aggregated_data_rfm_segment[aggregated_data_rfm_segment['rfm_segment'] == 'Churned Customers']['average_bill']\n",
    "segment_3 = aggregated_data_rfm_segment[aggregated_data_rfm_segment['rfm_segment'] == 'Inactive Customers']['average_bill']\n",
    "\n",
    "# Conducting t-test for \"Loyal Customers\" and \"Churned Customers\"\n",
    "results1 = stats.ttest_ind(segment_1, segment_2, alternative='greater')\n",
    "display(f'Comparison \"Loyal Customers\" and \"Churned Customers\" - p-value: {results1.pvalue:.4f}')\n",
    "if results1.pvalue < alpha_bonferroni:\n",
    "    display('Reject the null hypothesis\\n')\n",
    "else:\n",
    "    display('No grounds to reject the null hypothesis\\n')\n",
    "\n",
    "# Conducting t-test for \"Loyal Customers\" and \"Inactive Customers\"\n",
    "results2 = stats.ttest_ind(segment_1, segment_3, alternative='greater')\n",
    "display(f'Comparison \"Loyal Customers\" and \"Inactive Customers\" - p-value: {results2.pvalue:.4f}')\n",
    "if results2.pvalue < alpha_bonferroni:\n",
    "    display('Reject the null hypothesis\\n')\n",
    "else:\n",
    "    display('No grounds to reject the null hypothesis\\n')\n",
    "\n",
    "# Conducting t-test for \"Churned Customers\" and \"Inactive Customers\"\n",
    "results3 = stats.ttest_ind(segment_2, segment_3, alternative='greater')\n",
    "display(f'Comparison \"Churned Customers\" and \"Inactive Customers\" - p-value: {results3.pvalue:.4f}')\n",
    "if results3.pvalue < alpha_bonferroni:\n",
    "    display('Reject the null hypothesis\\n')\n",
    "else:\n",
    "    display('No grounds to reject the null hypothesis\\n')\n"
   ]
  },
  {
   "cell_type": "code",
   "execution_count": null,
   "metadata": {},
   "outputs": [],
   "source": [
    "purchase_frequency = df.groupby('customer_id')['order_id'].nunique().reset_index()\n",
    "purchase_frequency.rename(columns={'order_id': 'purchase_frequency'}, inplace=True)\n",
    "purchase_frequency"
   ]
  },
  {
   "cell_type": "code",
   "execution_count": null,
   "metadata": {},
   "outputs": [],
   "source": [
    "df = pd.merge(df, purchase_frequency, on='customer_id')\n",
    "df"
   ]
  },
  {
   "cell_type": "code",
   "execution_count": 111,
   "metadata": {},
   "outputs": [],
   "source": [
    "average_frequency_by_segment = df.groupby(['rfm_segment', 'date'])['purchase_frequency'].mean().reset_index()"
   ]
  },
  {
   "cell_type": "code",
   "execution_count": null,
   "metadata": {},
   "outputs": [],
   "source": [
    "average_frequency_by_segment"
   ]
  },
  {
   "cell_type": "code",
   "execution_count": null,
   "metadata": {},
   "outputs": [],
   "source": [
    "segment_1 = average_frequency_by_segment[average_frequency_by_segment['rfm_segment'] == 'Loyal Customers']['purchase_frequency']\n",
    "segment_2 = average_frequency_by_segment[average_frequency_by_segment['rfm_segment'] == 'Churned Customers']['purchase_frequency']\n",
    "segment_3 = average_frequency_by_segment[average_frequency_by_segment['rfm_segment'] == 'Inactive Customers']['purchase_frequency']\n",
    "\n",
    "# Conducting t-test for purchase frequency between \"Loyal Customers\" and \"Churned Customers\"\n",
    "results1_freq = stats.ttest_ind(segment_1, segment_2, alternative='greater')\n",
    "display(f'Comparison \"Loyal Customers\" and \"Churned Customers\" by purchase frequency - p-value: {results1_freq.pvalue:.4f}')\n",
    "if results1_freq.pvalue < alpha_bonferroni:\n",
    "    display('Reject the null hypothesis\\n')\n",
    "else:\n",
    "    display('No grounds to reject the null hypothesis\\n')\n",
    "\n",
    "# Conducting t-test for purchase frequency between \"Loyal Customers\" and \"Inactive Customers\"\n",
    "results2_freq = stats.ttest_ind(segment_1, segment_3, alternative='greater')\n",
    "display(f'Comparison \"Loyal Customers\" and \"Inactive Customers\" by purchase frequency - p-value: {results2_freq.pvalue:.4f}')\n",
    "if results2_freq.pvalue < alpha_bonferroni:\n",
    "    display('Reject the null hypothesis\\n')\n",
    "else:\n",
    "    display('No grounds to reject the null hypothesis\\n')\n",
    "\n",
    "# Conducting t-test for purchase frequency between \"Churned Customers\" and \"Inactive Customers\"\n",
    "results3_freq = stats.ttest_ind(segment_2, segment_3, alternative='greater')\n",
    "display(f'Comparison \"Churned Customers\" and \"Inactive Customers\" by purchase frequency - p-value: {results3_freq.pvalue:.4f}')\n",
    "if results3_freq.pvalue < alpha_bonferroni:\n",
    "    display('Reject the null hypothesis\\n')\n",
    "else:\n",
    "    display('No grounds to reject the null hypothesis\\n')"
   ]
  },
  {
   "cell_type": "markdown",
   "metadata": {},
   "source": [
    "In the tests comparing \"Loyal Customers\" and \"Churned Customers\" for average bill and average purchase frequency, we obtained results that led to the rejection of the null hypothesis. This indicates that there is a statistically significant difference between the segments, which, in turn, confirms that the segmentation was done correctly."
   ]
  },
  {
   "cell_type": "markdown",
   "metadata": {},
   "source": [
    "## Recommendations"
   ]
  },
  {
   "cell_type": "markdown",
   "metadata": {},
   "source": [
    "Based on the analysis results, we will propose further steps for implementation in business processes."
   ]
  },
  {
   "cell_type": "markdown",
   "metadata": {},
   "source": [
    "### Marketing Strategy"
   ]
  },
  {
   "cell_type": "markdown",
   "metadata": {},
   "source": [
    "During the study, three key customer segments were identified: loyal customers, churned customers, and inactive customers. Based on RFM segmentation and the analysis of purchasing behavior, personalized marketing campaigns are proposed for each segment.\n",
    "\n",
    "- Loyal customers: To maintain loyalty, it is recommended to offer exclusive discounts and bonuses for repeat purchases, especially on products from the categories \"Textiles and Décor,\" \"Kitchenware,\" and \"Household goods,\" which generate the most revenue and are relevant year-round. Exclusive discounts and bonuses will increase revenue and strengthen the loyalty of this segment.\n",
    "\n",
    "- Inactive and churned customers: These customers are influenced by seasonality, so targeting them at specific times makes sense:\n",
    "     - When: March, April, May, September, October\n",
    "     - Product categories: \"Flowers,\" \"Fruits and Vegetables,\" \"Garden Supplies\"\n",
    "     - How: email marketing campaigns with promotional offers before the start of product seasonality.\n",
    "\n",
    "The overall trend shows that inactive and churned customers often purchase items during periods of seasonal demand. This presents an opportunity for marketing campaigns focused on re-engaging these customers. It is important to focus on personalized offers that can spark interest and bring customers back, while loyal customers should remain the focus for further growth and retention."
   ]
  },
  {
   "cell_type": "markdown",
   "metadata": {},
   "source": [
    "### Sales Growth Strategy"
   ]
  },
  {
   "cell_type": "markdown",
   "metadata": {},
   "source": [
    "Since the highest revenue and purchase frequency come from products in the categories of \"Flowers,\" \"Textiles and Decor,\" and \"Household Goods,\" it is advisable to focus on expanding the assortment and implementing promotional offers in these categories.\n",
    "\n",
    "For categories with strong seasonality (flowers, vegetables and fruits, gardening supplies), seasonal campaigns are effective. Implementing promotions that align with the seasons (such as gardening and summer seasons) will attract additional customers and increase sales."
   ]
  },
  {
   "cell_type": "markdown",
   "metadata": {},
   "source": [
    "### Loyalty Enhancement Strategy"
   ]
  },
  {
   "cell_type": "markdown",
   "metadata": {},
   "source": [
    "Loyal customers are a key source of revenue, and retaining them is a priority. Implementing loyalty programs with bonuses for purchase frequency and exclusive discounts will encourage them to place more frequent orders.\n",
    "\n",
    "To improve the return rate of lost customers, it is useful to target them with retargeting and offers based on their previous purchases, in order to regain their attention. Focus should be placed on products with clear seasonality (such as for the gardening and outdoor seasons). It is crucial to convert these customers into loyal ones and then retain them with various loyalty programs."
   ]
  },
  {
   "cell_type": "markdown",
   "metadata": {},
   "source": [
    "## Conclusion"
   ]
  },
  {
   "cell_type": "markdown",
   "metadata": {},
   "source": [
    "We conducted a study confirming that audience segmentation is an effective tool for creating targeted marketing strategies that increase sales and strengthen customer loyalty. We identified three main groups: loyal, inactive, and lost customers, and developed unique approaches to increase their activity. For loyal customers, as the main revenue source, we proposed loyalty programs and exclusive discounts. For inactive and lost customers, we suggested seasonal promotions and targeted advertising campaigns focusing on the product categories they are interested in. Implementing these recommendations will help the platform \"Poka vsyo yeshchyo tut\" increase revenue, improve customer satisfaction, and ensure long-term business sustainability."
   ]
  }
 ],
 "metadata": {
  "ExecuteTimeLog": [
   {
    "duration": 1795,
    "start_time": "2024-10-28T22:21:19.206Z"
   },
   {
    "duration": 4,
    "start_time": "2024-10-28T22:21:27.343Z"
   },
   {
    "duration": 4,
    "start_time": "2024-10-28T22:21:40.879Z"
   },
   {
    "duration": 3,
    "start_time": "2024-10-28T22:21:45.782Z"
   },
   {
    "duration": 49,
    "start_time": "2024-10-28T22:22:32.383Z"
   },
   {
    "duration": 48,
    "start_time": "2024-10-28T22:22:36.921Z"
   },
   {
    "duration": 41,
    "start_time": "2024-10-28T22:22:50.318Z"
   },
   {
    "duration": 18,
    "start_time": "2024-10-28T22:23:47.900Z"
   },
   {
    "duration": 13,
    "start_time": "2024-10-28T22:24:18.458Z"
   },
   {
    "duration": 11,
    "start_time": "2024-10-28T22:24:26.001Z"
   },
   {
    "duration": 11,
    "start_time": "2024-10-28T22:24:44.455Z"
   },
   {
    "duration": 23,
    "start_time": "2024-10-28T22:25:22.454Z"
   },
   {
    "duration": 8,
    "start_time": "2024-10-28T22:25:41.155Z"
   },
   {
    "duration": 5,
    "start_time": "2024-10-28T22:25:45.788Z"
   },
   {
    "duration": 5,
    "start_time": "2024-10-28T22:26:36.427Z"
   },
   {
    "duration": 5,
    "start_time": "2024-10-28T22:26:50.751Z"
   },
   {
    "duration": 5,
    "start_time": "2024-10-28T22:26:54.854Z"
   },
   {
    "duration": 8,
    "start_time": "2024-10-28T22:27:34.070Z"
   },
   {
    "duration": 110,
    "start_time": "2024-10-28T22:27:38.221Z"
   },
   {
    "duration": 6,
    "start_time": "2024-10-28T22:27:42.964Z"
   },
   {
    "duration": 1694,
    "start_time": "2024-10-28T22:27:46.934Z"
   },
   {
    "duration": 6,
    "start_time": "2024-10-28T22:27:57.895Z"
   },
   {
    "duration": 3117,
    "start_time": "2024-10-28T22:28:03.311Z"
   },
   {
    "duration": 23,
    "start_time": "2024-10-28T22:28:56.059Z"
   },
   {
    "duration": 2,
    "start_time": "2024-10-28T22:29:04.947Z"
   },
   {
    "duration": 178,
    "start_time": "2024-10-28T22:29:09.041Z"
   },
   {
    "duration": 186,
    "start_time": "2024-10-28T22:29:22.311Z"
   },
   {
    "duration": 3,
    "start_time": "2024-10-28T22:29:29.625Z"
   },
   {
    "duration": 3,
    "start_time": "2024-10-28T22:30:28.202Z"
   },
   {
    "duration": 9,
    "start_time": "2024-10-28T22:30:33.549Z"
   },
   {
    "duration": 321,
    "start_time": "2024-10-28T22:30:39.029Z"
   },
   {
    "duration": 335,
    "start_time": "2024-10-28T22:30:48.036Z"
   },
   {
    "duration": 3,
    "start_time": "2024-10-28T22:31:26.730Z"
   },
   {
    "duration": 18,
    "start_time": "2024-10-28T22:31:39.258Z"
   },
   {
    "duration": 11,
    "start_time": "2024-10-28T22:31:53.272Z"
   },
   {
    "duration": 915,
    "start_time": "2024-10-28T22:32:06.761Z"
   },
   {
    "duration": 895,
    "start_time": "2024-10-28T22:32:15.710Z"
   },
   {
    "duration": 4,
    "start_time": "2024-10-28T22:33:09.236Z"
   },
   {
    "duration": 5,
    "start_time": "2024-10-28T22:33:35.073Z"
   },
   {
    "duration": 787,
    "start_time": "2024-10-28T22:33:48.421Z"
   },
   {
    "duration": 16,
    "start_time": "2024-10-28T22:34:30.346Z"
   },
   {
    "duration": 804,
    "start_time": "2024-10-28T22:34:43.285Z"
   },
   {
    "duration": 9,
    "start_time": "2024-10-28T22:34:51.025Z"
   },
   {
    "duration": 130,
    "start_time": "2024-10-28T22:34:55.790Z"
   },
   {
    "duration": 18,
    "start_time": "2024-10-28T22:35:49.985Z"
   },
   {
    "duration": 10,
    "start_time": "2024-10-28T22:36:04.663Z"
   },
   {
    "duration": 12,
    "start_time": "2024-10-28T22:36:19.600Z"
   },
   {
    "duration": 17,
    "start_time": "2024-10-28T22:36:39.394Z"
   },
   {
    "duration": 436,
    "start_time": "2024-10-28T22:36:55.179Z"
   },
   {
    "duration": 452,
    "start_time": "2024-10-28T22:37:03.837Z"
   },
   {
    "duration": 8,
    "start_time": "2024-10-28T22:37:37.210Z"
   },
   {
    "duration": 428,
    "start_time": "2024-10-28T22:37:42.384Z"
   },
   {
    "duration": 155,
    "start_time": "2024-10-28T22:37:49.228Z"
   },
   {
    "duration": 6,
    "start_time": "2024-10-28T22:38:48.395Z"
   },
   {
    "duration": 4,
    "start_time": "2024-10-28T22:38:52.894Z"
   },
   {
    "duration": 182,
    "start_time": "2024-10-28T22:39:08.467Z"
   },
   {
    "duration": 9,
    "start_time": "2024-10-28T22:39:12.927Z"
   },
   {
    "duration": 7,
    "start_time": "2024-10-28T22:39:32.332Z"
   },
   {
    "duration": 7,
    "start_time": "2024-10-28T22:39:47.505Z"
   },
   {
    "duration": 12,
    "start_time": "2024-10-28T22:39:51.571Z"
   },
   {
    "duration": 24,
    "start_time": "2024-10-28T22:40:05.763Z"
   },
   {
    "duration": 4,
    "start_time": "2024-10-28T22:40:19.844Z"
   },
   {
    "duration": 5,
    "start_time": "2024-10-28T22:40:24.701Z"
   },
   {
    "duration": 15,
    "start_time": "2024-10-28T22:40:29.072Z"
   },
   {
    "duration": 4,
    "start_time": "2024-10-28T22:40:47.291Z"
   },
   {
    "duration": 9,
    "start_time": "2024-10-28T22:40:51.312Z"
   },
   {
    "duration": 20,
    "start_time": "2024-10-28T22:40:53.123Z"
   },
   {
    "duration": 3,
    "start_time": "2024-10-28T22:41:27.991Z"
   },
   {
    "duration": 10,
    "start_time": "2024-10-28T22:41:54.937Z"
   },
   {
    "duration": 291,
    "start_time": "2024-10-28T22:42:02.792Z"
   },
   {
    "duration": 18,
    "start_time": "2024-10-28T22:42:37.122Z"
   },
   {
    "duration": 436,
    "start_time": "2024-10-28T22:42:42.659Z"
   },
   {
    "duration": 23,
    "start_time": "2024-10-28T22:43:21.961Z"
   },
   {
    "duration": 17,
    "start_time": "2024-10-28T22:44:15.850Z"
   },
   {
    "duration": 15,
    "start_time": "2024-10-28T22:44:21.903Z"
   },
   {
    "duration": 15,
    "start_time": "2024-10-28T22:44:28.721Z"
   },
   {
    "duration": 508,
    "start_time": "2024-10-28T22:44:35.900Z"
   },
   {
    "duration": 566,
    "start_time": "2024-10-28T22:45:10.351Z"
   },
   {
    "duration": 10,
    "start_time": "2024-10-28T22:45:47.944Z"
   },
   {
    "duration": 267,
    "start_time": "2024-10-28T22:45:56.091Z"
   },
   {
    "duration": 11,
    "start_time": "2024-10-28T22:46:17.052Z"
   },
   {
    "duration": 302,
    "start_time": "2024-10-28T22:46:22.195Z"
   },
   {
    "duration": 6,
    "start_time": "2024-10-28T22:46:54.689Z"
   },
   {
    "duration": 7,
    "start_time": "2024-10-28T22:46:59.187Z"
   },
   {
    "duration": 14,
    "start_time": "2024-10-28T22:47:03.007Z"
   },
   {
    "duration": 11,
    "start_time": "2024-10-28T22:47:45.091Z"
   },
   {
    "duration": 61,
    "start_time": "2024-10-28T22:47:50.820Z"
   },
   {
    "duration": 331,
    "start_time": "2024-10-28T22:47:55.443Z"
   },
   {
    "duration": 10,
    "start_time": "2024-10-28T22:48:13.232Z"
   },
   {
    "duration": 57,
    "start_time": "2024-10-28T22:48:18.531Z"
   },
   {
    "duration": 358,
    "start_time": "2024-10-28T22:48:22.584Z"
   },
   {
    "duration": 10,
    "start_time": "2024-10-28T22:48:36.924Z"
   },
   {
    "duration": 60,
    "start_time": "2024-10-28T22:48:41.443Z"
   },
   {
    "duration": 334,
    "start_time": "2024-10-28T22:48:45.946Z"
   },
   {
    "duration": 10,
    "start_time": "2024-10-28T22:48:58.942Z"
   },
   {
    "duration": 61,
    "start_time": "2024-10-28T22:49:03.788Z"
   },
   {
    "duration": 333,
    "start_time": "2024-10-28T22:49:09.653Z"
   },
   {
    "duration": 2,
    "start_time": "2024-10-28T22:50:43.120Z"
   },
   {
    "duration": 15,
    "start_time": "2024-10-28T22:50:46.433Z"
   },
   {
    "duration": 17,
    "start_time": "2024-10-28T22:50:53.582Z"
   },
   {
    "duration": 15,
    "start_time": "2024-10-28T22:50:58.664Z"
   },
   {
    "duration": 15,
    "start_time": "2024-10-28T22:51:07.589Z"
   },
   {
    "duration": 1811,
    "start_time": "2024-10-28T22:53:08.904Z"
   },
   {
    "duration": 4,
    "start_time": "2024-10-28T22:53:10.717Z"
   },
   {
    "duration": 5,
    "start_time": "2024-10-28T22:53:10.722Z"
   },
   {
    "duration": 6,
    "start_time": "2024-10-28T22:53:10.728Z"
   },
   {
    "duration": 51,
    "start_time": "2024-10-28T22:53:10.735Z"
   },
   {
    "duration": 27,
    "start_time": "2024-10-28T22:53:10.788Z"
   },
   {
    "duration": 44,
    "start_time": "2024-10-28T22:53:10.816Z"
   },
   {
    "duration": 17,
    "start_time": "2024-10-28T22:53:10.861Z"
   },
   {
    "duration": 12,
    "start_time": "2024-10-28T22:53:10.895Z"
   },
   {
    "duration": 13,
    "start_time": "2024-10-28T22:53:10.909Z"
   },
   {
    "duration": 10,
    "start_time": "2024-10-28T22:53:10.923Z"
   },
   {
    "duration": 21,
    "start_time": "2024-10-28T22:53:10.934Z"
   },
   {
    "duration": 7,
    "start_time": "2024-10-28T22:53:10.956Z"
   },
   {
    "duration": 34,
    "start_time": "2024-10-28T22:53:10.964Z"
   },
   {
    "duration": 4,
    "start_time": "2024-10-28T22:53:10.999Z"
   },
   {
    "duration": 16,
    "start_time": "2024-10-28T22:53:11.005Z"
   },
   {
    "duration": 6,
    "start_time": "2024-10-28T22:53:11.023Z"
   },
   {
    "duration": 9,
    "start_time": "2024-10-28T22:53:11.030Z"
   },
   {
    "duration": 112,
    "start_time": "2024-10-28T22:53:11.040Z"
   },
   {
    "duration": 6,
    "start_time": "2024-10-28T22:53:11.154Z"
   },
   {
    "duration": 1743,
    "start_time": "2024-10-28T22:53:11.161Z"
   },
   {
    "duration": 5,
    "start_time": "2024-10-28T22:53:12.906Z"
   },
   {
    "duration": 3123,
    "start_time": "2024-10-28T22:53:12.912Z"
   },
   {
    "duration": 24,
    "start_time": "2024-10-28T22:53:16.037Z"
   },
   {
    "duration": 21,
    "start_time": "2024-10-28T22:53:16.062Z"
   },
   {
    "duration": 177,
    "start_time": "2024-10-28T22:53:16.085Z"
   },
   {
    "duration": 195,
    "start_time": "2024-10-28T22:53:16.264Z"
   },
   {
    "duration": 3,
    "start_time": "2024-10-28T22:53:16.463Z"
   },
   {
    "duration": 10,
    "start_time": "2024-10-28T22:53:16.468Z"
   },
   {
    "duration": 18,
    "start_time": "2024-10-28T22:53:16.479Z"
   },
   {
    "duration": 304,
    "start_time": "2024-10-28T22:53:16.498Z"
   },
   {
    "duration": 4,
    "start_time": "2024-10-28T22:53:16.803Z"
   },
   {
    "duration": 22,
    "start_time": "2024-10-28T22:53:16.808Z"
   },
   {
    "duration": 11,
    "start_time": "2024-10-28T22:53:16.832Z"
   },
   {
    "duration": 908,
    "start_time": "2024-10-28T22:53:16.844Z"
   },
   {
    "duration": 5,
    "start_time": "2024-10-28T22:53:17.754Z"
   },
   {
    "duration": 7,
    "start_time": "2024-10-28T22:53:17.761Z"
   },
   {
    "duration": 919,
    "start_time": "2024-10-28T22:53:17.769Z"
   },
   {
    "duration": 19,
    "start_time": "2024-10-28T22:53:18.690Z"
   },
   {
    "duration": 814,
    "start_time": "2024-10-28T22:53:18.711Z"
   },
   {
    "duration": 10,
    "start_time": "2024-10-28T22:53:19.527Z"
   },
   {
    "duration": 156,
    "start_time": "2024-10-28T22:53:19.539Z"
   },
   {
    "duration": 19,
    "start_time": "2024-10-28T22:53:19.697Z"
   },
   {
    "duration": 13,
    "start_time": "2024-10-28T22:53:19.718Z"
   },
   {
    "duration": 12,
    "start_time": "2024-10-28T22:53:19.733Z"
   },
   {
    "duration": 49,
    "start_time": "2024-10-28T22:53:19.747Z"
   },
   {
    "duration": 488,
    "start_time": "2024-10-28T22:53:19.798Z"
   },
   {
    "duration": 8,
    "start_time": "2024-10-28T22:53:20.295Z"
   },
   {
    "duration": 436,
    "start_time": "2024-10-28T22:53:20.305Z"
   },
   {
    "duration": 163,
    "start_time": "2024-10-28T22:53:20.743Z"
   },
   {
    "duration": 7,
    "start_time": "2024-10-28T22:53:20.908Z"
   },
   {
    "duration": 5,
    "start_time": "2024-10-28T22:53:20.917Z"
   },
   {
    "duration": 200,
    "start_time": "2024-10-28T22:53:20.924Z"
   },
   {
    "duration": 10,
    "start_time": "2024-10-28T22:53:21.126Z"
   },
   {
    "duration": 7,
    "start_time": "2024-10-28T22:53:21.138Z"
   },
   {
    "duration": 8,
    "start_time": "2024-10-28T22:53:21.147Z"
   },
   {
    "duration": 40,
    "start_time": "2024-10-28T22:53:21.156Z"
   },
   {
    "duration": 25,
    "start_time": "2024-10-28T22:53:21.198Z"
   },
   {
    "duration": 4,
    "start_time": "2024-10-28T22:53:21.224Z"
   },
   {
    "duration": 8,
    "start_time": "2024-10-28T22:53:21.229Z"
   },
   {
    "duration": 17,
    "start_time": "2024-10-28T22:53:21.238Z"
   },
   {
    "duration": 4,
    "start_time": "2024-10-28T22:53:21.256Z"
   },
   {
    "duration": 38,
    "start_time": "2024-10-28T22:53:21.262Z"
   },
   {
    "duration": 19,
    "start_time": "2024-10-28T22:53:21.301Z"
   },
   {
    "duration": 3,
    "start_time": "2024-10-28T22:53:21.321Z"
   },
   {
    "duration": 19,
    "start_time": "2024-10-28T22:53:21.325Z"
   },
   {
    "duration": 323,
    "start_time": "2024-10-28T22:53:21.345Z"
   },
   {
    "duration": 27,
    "start_time": "2024-10-28T22:53:21.669Z"
   },
   {
    "duration": 450,
    "start_time": "2024-10-28T22:53:21.697Z"
   },
   {
    "duration": 23,
    "start_time": "2024-10-28T22:53:22.149Z"
   },
   {
    "duration": 31,
    "start_time": "2024-10-28T22:53:22.174Z"
   },
   {
    "duration": 15,
    "start_time": "2024-10-28T22:53:22.207Z"
   },
   {
    "duration": 14,
    "start_time": "2024-10-28T22:53:22.224Z"
   },
   {
    "duration": 523,
    "start_time": "2024-10-28T22:53:22.240Z"
   },
   {
    "duration": 494,
    "start_time": "2024-10-28T22:53:22.764Z"
   },
   {
    "duration": 9,
    "start_time": "2024-10-28T22:53:23.260Z"
   },
   {
    "duration": 296,
    "start_time": "2024-10-28T22:53:23.270Z"
   },
   {
    "duration": 12,
    "start_time": "2024-10-28T22:53:23.567Z"
   },
   {
    "duration": 320,
    "start_time": "2024-10-28T22:53:23.580Z"
   },
   {
    "duration": 8,
    "start_time": "2024-10-28T22:53:23.901Z"
   },
   {
    "duration": 7,
    "start_time": "2024-10-28T22:53:23.910Z"
   },
   {
    "duration": 15,
    "start_time": "2024-10-28T22:53:23.923Z"
   },
   {
    "duration": 12,
    "start_time": "2024-10-28T22:53:23.940Z"
   },
   {
    "duration": 94,
    "start_time": "2024-10-28T22:53:23.954Z"
   },
   {
    "duration": 364,
    "start_time": "2024-10-28T22:53:24.050Z"
   },
   {
    "duration": 11,
    "start_time": "2024-10-28T22:53:24.416Z"
   },
   {
    "duration": 192,
    "start_time": "2024-10-28T22:53:24.428Z"
   },
   {
    "duration": 349,
    "start_time": "2024-10-28T22:53:24.622Z"
   },
   {
    "duration": 11,
    "start_time": "2024-10-28T22:53:24.972Z"
   },
   {
    "duration": 59,
    "start_time": "2024-10-28T22:53:24.996Z"
   },
   {
    "duration": 353,
    "start_time": "2024-10-28T22:53:25.056Z"
   },
   {
    "duration": 10,
    "start_time": "2024-10-28T22:53:25.411Z"
   },
   {
    "duration": 76,
    "start_time": "2024-10-28T22:53:25.423Z"
   },
   {
    "duration": 351,
    "start_time": "2024-10-28T22:53:25.500Z"
   },
   {
    "duration": 3,
    "start_time": "2024-10-28T22:53:25.852Z"
   },
   {
    "duration": 18,
    "start_time": "2024-10-28T22:53:25.856Z"
   },
   {
    "duration": 17,
    "start_time": "2024-10-28T22:53:25.895Z"
   },
   {
    "duration": 23,
    "start_time": "2024-10-28T22:53:25.913Z"
   },
   {
    "duration": 15,
    "start_time": "2024-10-28T22:53:25.938Z"
   },
   {
    "duration": 3249,
    "start_time": "2024-10-29T11:42:42.692Z"
   },
   {
    "duration": 4,
    "start_time": "2024-10-29T11:42:45.942Z"
   },
   {
    "duration": 6,
    "start_time": "2024-10-29T11:42:45.947Z"
   },
   {
    "duration": 4,
    "start_time": "2024-10-29T11:42:45.956Z"
   },
   {
    "duration": 52,
    "start_time": "2024-10-29T11:42:45.961Z"
   },
   {
    "duration": 25,
    "start_time": "2024-10-29T11:42:46.014Z"
   },
   {
    "duration": 36,
    "start_time": "2024-10-29T11:42:46.041Z"
   },
   {
    "duration": 15,
    "start_time": "2024-10-29T11:42:46.078Z"
   },
   {
    "duration": 12,
    "start_time": "2024-10-29T11:42:46.095Z"
   },
   {
    "duration": 10,
    "start_time": "2024-10-29T11:42:46.109Z"
   },
   {
    "duration": 13,
    "start_time": "2024-10-29T11:42:46.120Z"
   },
   {
    "duration": 39,
    "start_time": "2024-10-29T11:42:46.134Z"
   },
   {
    "duration": 6,
    "start_time": "2024-10-29T11:42:46.174Z"
   },
   {
    "duration": 5,
    "start_time": "2024-10-29T11:42:46.182Z"
   },
   {
    "duration": 4,
    "start_time": "2024-10-29T11:42:46.188Z"
   },
   {
    "duration": 13,
    "start_time": "2024-10-29T11:42:46.193Z"
   },
   {
    "duration": 5,
    "start_time": "2024-10-29T11:42:46.207Z"
   },
   {
    "duration": 7,
    "start_time": "2024-10-29T11:42:46.213Z"
   },
   {
    "duration": 1032,
    "start_time": "2024-10-29T11:42:46.221Z"
   },
   {
    "duration": 5,
    "start_time": "2024-10-29T11:42:47.255Z"
   },
   {
    "duration": 1751,
    "start_time": "2024-10-29T11:42:47.262Z"
   },
   {
    "duration": 5,
    "start_time": "2024-10-29T11:42:49.015Z"
   },
   {
    "duration": 3053,
    "start_time": "2024-10-29T11:42:49.021Z"
   },
   {
    "duration": 21,
    "start_time": "2024-10-29T11:42:52.076Z"
   },
   {
    "duration": 29,
    "start_time": "2024-10-29T11:42:52.099Z"
   },
   {
    "duration": 182,
    "start_time": "2024-10-29T11:42:52.130Z"
   },
   {
    "duration": 180,
    "start_time": "2024-10-29T11:42:52.313Z"
   },
   {
    "duration": 3,
    "start_time": "2024-10-29T11:42:52.497Z"
   },
   {
    "duration": 17,
    "start_time": "2024-10-29T11:42:52.502Z"
   },
   {
    "duration": 9,
    "start_time": "2024-10-29T11:42:52.520Z"
   },
   {
    "duration": 301,
    "start_time": "2024-10-29T11:42:52.530Z"
   },
   {
    "duration": 4,
    "start_time": "2024-10-29T11:42:52.832Z"
   },
   {
    "duration": 31,
    "start_time": "2024-10-29T11:42:52.838Z"
   },
   {
    "duration": 9,
    "start_time": "2024-10-29T11:42:52.870Z"
   },
   {
    "duration": 829,
    "start_time": "2024-10-29T11:42:52.881Z"
   },
   {
    "duration": 3,
    "start_time": "2024-10-29T11:42:53.711Z"
   },
   {
    "duration": 6,
    "start_time": "2024-10-29T11:42:53.716Z"
   },
   {
    "duration": 705,
    "start_time": "2024-10-29T11:42:53.723Z"
   },
   {
    "duration": 12,
    "start_time": "2024-10-29T11:42:54.430Z"
   },
   {
    "duration": 759,
    "start_time": "2024-10-29T11:42:54.443Z"
   },
   {
    "duration": 8,
    "start_time": "2024-10-29T11:42:55.203Z"
   },
   {
    "duration": 140,
    "start_time": "2024-10-29T11:42:55.212Z"
   },
   {
    "duration": 16,
    "start_time": "2024-10-29T11:42:55.357Z"
   },
   {
    "duration": 63,
    "start_time": "2024-10-29T11:42:55.374Z"
   },
   {
    "duration": 18,
    "start_time": "2024-10-29T11:42:55.439Z"
   },
   {
    "duration": 14,
    "start_time": "2024-10-29T11:42:55.458Z"
   },
   {
    "duration": 426,
    "start_time": "2024-10-29T11:42:55.473Z"
   },
   {
    "duration": 7,
    "start_time": "2024-10-29T11:42:55.900Z"
   },
   {
    "duration": 373,
    "start_time": "2024-10-29T11:42:55.908Z"
   },
   {
    "duration": 162,
    "start_time": "2024-10-29T11:42:56.283Z"
   },
   {
    "duration": 15,
    "start_time": "2024-10-29T11:42:56.446Z"
   },
   {
    "duration": 31,
    "start_time": "2024-10-29T11:42:56.462Z"
   },
   {
    "duration": 190,
    "start_time": "2024-10-29T11:42:56.495Z"
   },
   {
    "duration": 8,
    "start_time": "2024-10-29T11:42:56.687Z"
   },
   {
    "duration": 58,
    "start_time": "2024-10-29T11:42:56.696Z"
   },
   {
    "duration": 6,
    "start_time": "2024-10-29T11:42:56.756Z"
   },
   {
    "duration": 14,
    "start_time": "2024-10-29T11:42:56.763Z"
   },
   {
    "duration": 27,
    "start_time": "2024-10-29T11:42:56.778Z"
   },
   {
    "duration": 3,
    "start_time": "2024-10-29T11:42:56.806Z"
   },
   {
    "duration": 5,
    "start_time": "2024-10-29T11:42:56.810Z"
   },
   {
    "duration": 17,
    "start_time": "2024-10-29T11:42:56.817Z"
   },
   {
    "duration": 12,
    "start_time": "2024-10-29T11:42:56.835Z"
   },
   {
    "duration": 13,
    "start_time": "2024-10-29T11:42:56.848Z"
   },
   {
    "duration": 16,
    "start_time": "2024-10-29T11:42:56.863Z"
   },
   {
    "duration": 3,
    "start_time": "2024-10-29T11:42:56.880Z"
   },
   {
    "duration": 94,
    "start_time": "2024-10-29T11:42:56.884Z"
   },
   {
    "duration": 252,
    "start_time": "2024-10-29T11:42:56.979Z"
   },
   {
    "duration": 37,
    "start_time": "2024-10-29T11:42:57.233Z"
   },
   {
    "duration": 430,
    "start_time": "2024-10-29T11:42:57.271Z"
   },
   {
    "duration": 20,
    "start_time": "2024-10-29T11:42:57.702Z"
   },
   {
    "duration": 14,
    "start_time": "2024-10-29T11:42:57.723Z"
   },
   {
    "duration": 29,
    "start_time": "2024-10-29T11:42:57.738Z"
   },
   {
    "duration": 11,
    "start_time": "2024-10-29T11:42:57.768Z"
   },
   {
    "duration": 471,
    "start_time": "2024-10-29T11:42:57.780Z"
   },
   {
    "duration": 477,
    "start_time": "2024-10-29T11:42:58.252Z"
   },
   {
    "duration": 9,
    "start_time": "2024-10-29T11:42:58.730Z"
   },
   {
    "duration": 273,
    "start_time": "2024-10-29T11:42:58.747Z"
   },
   {
    "duration": 9,
    "start_time": "2024-10-29T11:42:59.022Z"
   },
   {
    "duration": 308,
    "start_time": "2024-10-29T11:42:59.032Z"
   },
   {
    "duration": 6,
    "start_time": "2024-10-29T11:42:59.341Z"
   },
   {
    "duration": 9,
    "start_time": "2024-10-29T11:42:59.356Z"
   },
   {
    "duration": 11,
    "start_time": "2024-10-29T11:42:59.371Z"
   },
   {
    "duration": 14,
    "start_time": "2024-10-29T11:42:59.383Z"
   },
   {
    "duration": 142,
    "start_time": "2024-10-29T11:42:59.398Z"
   },
   {
    "duration": 318,
    "start_time": "2024-10-29T11:42:59.542Z"
   },
   {
    "duration": 11,
    "start_time": "2024-10-29T11:42:59.862Z"
   },
   {
    "duration": 72,
    "start_time": "2024-10-29T11:42:59.875Z"
   },
   {
    "duration": 321,
    "start_time": "2024-10-29T11:42:59.948Z"
   },
   {
    "duration": 9,
    "start_time": "2024-10-29T11:43:00.271Z"
   },
   {
    "duration": 101,
    "start_time": "2024-10-29T11:43:00.281Z"
   },
   {
    "duration": 324,
    "start_time": "2024-10-29T11:43:00.384Z"
   },
   {
    "duration": 9,
    "start_time": "2024-10-29T11:43:00.709Z"
   },
   {
    "duration": 120,
    "start_time": "2024-10-29T11:43:00.719Z"
   },
   {
    "duration": 314,
    "start_time": "2024-10-29T11:43:00.840Z"
   },
   {
    "duration": 2,
    "start_time": "2024-10-29T11:43:01.157Z"
   },
   {
    "duration": 30,
    "start_time": "2024-10-29T11:43:01.160Z"
   },
   {
    "duration": 29,
    "start_time": "2024-10-29T11:43:01.192Z"
   },
   {
    "duration": 17,
    "start_time": "2024-10-29T11:43:01.223Z"
   },
   {
    "duration": 14,
    "start_time": "2024-10-29T11:43:01.242Z"
   },
   {
    "duration": 3317,
    "start_time": "2024-10-29T16:40:25.820Z"
   },
   {
    "duration": 5,
    "start_time": "2024-10-29T16:40:29.139Z"
   },
   {
    "duration": 9,
    "start_time": "2024-10-29T16:40:29.145Z"
   },
   {
    "duration": 5,
    "start_time": "2024-10-29T16:40:29.157Z"
   },
   {
    "duration": 50,
    "start_time": "2024-10-29T16:40:29.164Z"
   },
   {
    "duration": 25,
    "start_time": "2024-10-29T16:40:29.215Z"
   },
   {
    "duration": 38,
    "start_time": "2024-10-29T16:40:29.242Z"
   },
   {
    "duration": 15,
    "start_time": "2024-10-29T16:40:29.282Z"
   },
   {
    "duration": 13,
    "start_time": "2024-10-29T16:40:29.299Z"
   },
   {
    "duration": 23,
    "start_time": "2024-10-29T16:40:29.314Z"
   },
   {
    "duration": 20,
    "start_time": "2024-10-29T16:40:29.339Z"
   },
   {
    "duration": 37,
    "start_time": "2024-10-29T16:40:29.360Z"
   },
   {
    "duration": 8,
    "start_time": "2024-10-29T16:40:29.399Z"
   },
   {
    "duration": 34,
    "start_time": "2024-10-29T16:40:29.409Z"
   },
   {
    "duration": 5,
    "start_time": "2024-10-29T16:40:29.445Z"
   },
   {
    "duration": 22,
    "start_time": "2024-10-29T16:40:29.452Z"
   },
   {
    "duration": 24,
    "start_time": "2024-10-29T16:40:29.475Z"
   },
   {
    "duration": 8,
    "start_time": "2024-10-29T16:40:29.501Z"
   },
   {
    "duration": 867,
    "start_time": "2024-10-29T16:40:29.510Z"
   },
   {
    "duration": 5,
    "start_time": "2024-10-29T16:40:30.379Z"
   },
   {
    "duration": 1779,
    "start_time": "2024-10-29T16:40:30.385Z"
   },
   {
    "duration": 5,
    "start_time": "2024-10-29T16:40:32.165Z"
   },
   {
    "duration": 3105,
    "start_time": "2024-10-29T16:40:32.171Z"
   },
   {
    "duration": 23,
    "start_time": "2024-10-29T16:40:35.278Z"
   },
   {
    "duration": 40,
    "start_time": "2024-10-29T16:40:35.302Z"
   },
   {
    "duration": 171,
    "start_time": "2024-10-29T16:40:35.344Z"
   },
   {
    "duration": 181,
    "start_time": "2024-10-29T16:40:35.517Z"
   },
   {
    "duration": 3,
    "start_time": "2024-10-29T16:40:35.701Z"
   },
   {
    "duration": 76,
    "start_time": "2024-10-29T16:40:35.705Z"
   },
   {
    "duration": 87,
    "start_time": "2024-10-29T16:40:35.782Z"
   },
   {
    "duration": 369,
    "start_time": "2024-10-29T16:40:35.870Z"
   },
   {
    "duration": 16,
    "start_time": "2024-10-29T16:40:36.241Z"
   },
   {
    "duration": 16,
    "start_time": "2024-10-29T16:40:36.258Z"
   },
   {
    "duration": 11,
    "start_time": "2024-10-29T16:40:36.276Z"
   },
   {
    "duration": 833,
    "start_time": "2024-10-29T16:40:36.288Z"
   },
   {
    "duration": 3,
    "start_time": "2024-10-29T16:40:37.123Z"
   },
   {
    "duration": 12,
    "start_time": "2024-10-29T16:40:37.127Z"
   },
   {
    "duration": 779,
    "start_time": "2024-10-29T16:40:37.140Z"
   },
   {
    "duration": 13,
    "start_time": "2024-10-29T16:40:37.921Z"
   },
   {
    "duration": 759,
    "start_time": "2024-10-29T16:40:37.935Z"
   },
   {
    "duration": 9,
    "start_time": "2024-10-29T16:40:38.695Z"
   },
   {
    "duration": 135,
    "start_time": "2024-10-29T16:40:38.705Z"
   },
   {
    "duration": 23,
    "start_time": "2024-10-29T16:40:38.841Z"
   },
   {
    "duration": 28,
    "start_time": "2024-10-29T16:40:38.865Z"
   },
   {
    "duration": 79,
    "start_time": "2024-10-29T16:40:38.894Z"
   },
   {
    "duration": 12,
    "start_time": "2024-10-29T16:40:38.975Z"
   },
   {
    "duration": 434,
    "start_time": "2024-10-29T16:40:38.989Z"
   },
   {
    "duration": 6,
    "start_time": "2024-10-29T16:40:39.424Z"
   },
   {
    "duration": 364,
    "start_time": "2024-10-29T16:40:39.431Z"
   },
   {
    "duration": 160,
    "start_time": "2024-10-29T16:40:39.796Z"
   },
   {
    "duration": 6,
    "start_time": "2024-10-29T16:40:39.957Z"
   },
   {
    "duration": 3,
    "start_time": "2024-10-29T16:40:39.964Z"
   },
   {
    "duration": 202,
    "start_time": "2024-10-29T16:40:39.968Z"
   },
   {
    "duration": 9,
    "start_time": "2024-10-29T16:40:40.171Z"
   },
   {
    "duration": 13,
    "start_time": "2024-10-29T16:40:40.181Z"
   },
   {
    "duration": 6,
    "start_time": "2024-10-29T16:40:40.195Z"
   },
   {
    "duration": 14,
    "start_time": "2024-10-29T16:40:40.202Z"
   },
   {
    "duration": 22,
    "start_time": "2024-10-29T16:40:40.217Z"
   },
   {
    "duration": 17,
    "start_time": "2024-10-29T16:40:40.241Z"
   },
   {
    "duration": 6,
    "start_time": "2024-10-29T16:40:40.259Z"
   },
   {
    "duration": 23,
    "start_time": "2024-10-29T16:40:40.266Z"
   },
   {
    "duration": 3,
    "start_time": "2024-10-29T16:40:40.290Z"
   },
   {
    "duration": 8,
    "start_time": "2024-10-29T16:40:40.294Z"
   },
   {
    "duration": 17,
    "start_time": "2024-10-29T16:40:40.303Z"
   },
   {
    "duration": 3,
    "start_time": "2024-10-29T16:40:40.321Z"
   },
   {
    "duration": 20,
    "start_time": "2024-10-29T16:40:40.325Z"
   },
   {
    "duration": 290,
    "start_time": "2024-10-29T16:40:40.357Z"
   },
   {
    "duration": 23,
    "start_time": "2024-10-29T16:40:40.648Z"
   },
   {
    "duration": 437,
    "start_time": "2024-10-29T16:40:40.673Z"
   },
   {
    "duration": 20,
    "start_time": "2024-10-29T16:40:41.112Z"
   },
   {
    "duration": 28,
    "start_time": "2024-10-29T16:40:41.134Z"
   },
   {
    "duration": 14,
    "start_time": "2024-10-29T16:40:41.163Z"
   },
   {
    "duration": 11,
    "start_time": "2024-10-29T16:40:41.178Z"
   },
   {
    "duration": 474,
    "start_time": "2024-10-29T16:40:41.190Z"
   },
   {
    "duration": 478,
    "start_time": "2024-10-29T16:40:41.666Z"
   },
   {
    "duration": 20,
    "start_time": "2024-10-29T16:40:42.145Z"
   },
   {
    "duration": 269,
    "start_time": "2024-10-29T16:40:42.166Z"
   },
   {
    "duration": 10,
    "start_time": "2024-10-29T16:40:42.436Z"
   },
   {
    "duration": 287,
    "start_time": "2024-10-29T16:40:42.457Z"
   },
   {
    "duration": 14,
    "start_time": "2024-10-29T16:40:42.746Z"
   },
   {
    "duration": 20,
    "start_time": "2024-10-29T16:40:42.762Z"
   },
   {
    "duration": 21,
    "start_time": "2024-10-29T16:40:42.788Z"
   },
   {
    "duration": 10,
    "start_time": "2024-10-29T16:40:42.810Z"
   },
   {
    "duration": 56,
    "start_time": "2024-10-29T16:40:42.822Z"
   },
   {
    "duration": 313,
    "start_time": "2024-10-29T16:40:42.880Z"
   },
   {
    "duration": 9,
    "start_time": "2024-10-29T16:40:43.194Z"
   },
   {
    "duration": 159,
    "start_time": "2024-10-29T16:40:43.205Z"
   },
   {
    "duration": 307,
    "start_time": "2024-10-29T16:40:43.365Z"
   },
   {
    "duration": 10,
    "start_time": "2024-10-29T16:40:43.674Z"
   },
   {
    "duration": 54,
    "start_time": "2024-10-29T16:40:43.685Z"
   },
   {
    "duration": 342,
    "start_time": "2024-10-29T16:40:43.740Z"
   },
   {
    "duration": 10,
    "start_time": "2024-10-29T16:40:44.084Z"
   },
   {
    "duration": 62,
    "start_time": "2024-10-29T16:40:44.096Z"
   },
   {
    "duration": 330,
    "start_time": "2024-10-29T16:40:44.160Z"
   },
   {
    "duration": 2,
    "start_time": "2024-10-29T16:40:44.492Z"
   },
   {
    "duration": 21,
    "start_time": "2024-10-29T16:40:44.495Z"
   },
   {
    "duration": 15,
    "start_time": "2024-10-29T16:40:44.517Z"
   },
   {
    "duration": 33,
    "start_time": "2024-10-29T16:40:44.533Z"
   },
   {
    "duration": 15,
    "start_time": "2024-10-29T16:40:44.567Z"
   },
   {
    "duration": 1815,
    "start_time": "2024-10-29T20:29:07.849Z"
   },
   {
    "duration": 4,
    "start_time": "2024-10-29T20:29:09.666Z"
   },
   {
    "duration": 32,
    "start_time": "2024-10-29T20:29:09.671Z"
   },
   {
    "duration": 4,
    "start_time": "2024-10-29T20:29:09.704Z"
   },
   {
    "duration": 178,
    "start_time": "2024-10-29T20:29:09.709Z"
   },
   {
    "duration": 25,
    "start_time": "2024-10-29T20:29:09.888Z"
   },
   {
    "duration": 55,
    "start_time": "2024-10-29T20:29:09.915Z"
   },
   {
    "duration": 13,
    "start_time": "2024-10-29T20:29:09.971Z"
   },
   {
    "duration": 16,
    "start_time": "2024-10-29T20:29:09.985Z"
   },
   {
    "duration": 11,
    "start_time": "2024-10-29T20:29:10.004Z"
   },
   {
    "duration": 41,
    "start_time": "2024-10-29T20:29:10.016Z"
   },
   {
    "duration": 21,
    "start_time": "2024-10-29T20:29:10.058Z"
   },
   {
    "duration": 11,
    "start_time": "2024-10-29T20:29:10.081Z"
   },
   {
    "duration": 6,
    "start_time": "2024-10-29T20:29:10.093Z"
   },
   {
    "duration": 5,
    "start_time": "2024-10-29T20:29:10.100Z"
   },
   {
    "duration": 4,
    "start_time": "2024-10-29T20:29:10.107Z"
   },
   {
    "duration": 6,
    "start_time": "2024-10-29T20:29:10.113Z"
   },
   {
    "duration": 43,
    "start_time": "2024-10-29T20:29:10.120Z"
   },
   {
    "duration": 102,
    "start_time": "2024-10-29T20:29:10.165Z"
   },
   {
    "duration": 6,
    "start_time": "2024-10-29T20:29:10.268Z"
   },
   {
    "duration": 1694,
    "start_time": "2024-10-29T20:29:10.275Z"
   },
   {
    "duration": 6,
    "start_time": "2024-10-29T20:29:11.971Z"
   },
   {
    "duration": 2987,
    "start_time": "2024-10-29T20:29:11.978Z"
   },
   {
    "duration": 21,
    "start_time": "2024-10-29T20:29:14.967Z"
   },
   {
    "duration": 10,
    "start_time": "2024-10-29T20:29:14.990Z"
   },
   {
    "duration": 205,
    "start_time": "2024-10-29T20:29:15.002Z"
   },
   {
    "duration": 185,
    "start_time": "2024-10-29T20:29:15.208Z"
   },
   {
    "duration": 3,
    "start_time": "2024-10-29T20:29:15.396Z"
   },
   {
    "duration": 8,
    "start_time": "2024-10-29T20:29:15.401Z"
   },
   {
    "duration": 16,
    "start_time": "2024-10-29T20:29:15.410Z"
   },
   {
    "duration": 354,
    "start_time": "2024-10-29T20:29:15.427Z"
   },
   {
    "duration": 3,
    "start_time": "2024-10-29T20:29:15.783Z"
   },
   {
    "duration": 84,
    "start_time": "2024-10-29T20:29:15.787Z"
   },
   {
    "duration": 11,
    "start_time": "2024-10-29T20:29:15.872Z"
   },
   {
    "duration": 875,
    "start_time": "2024-10-29T20:29:15.885Z"
   },
   {
    "duration": 4,
    "start_time": "2024-10-29T20:29:16.761Z"
   },
   {
    "duration": 9,
    "start_time": "2024-10-29T20:29:16.766Z"
   },
   {
    "duration": 775,
    "start_time": "2024-10-29T20:29:16.776Z"
   },
   {
    "duration": 16,
    "start_time": "2024-10-29T20:29:17.552Z"
   },
   {
    "duration": 730,
    "start_time": "2024-10-29T20:29:17.569Z"
   },
   {
    "duration": 8,
    "start_time": "2024-10-29T20:29:18.300Z"
   },
   {
    "duration": 162,
    "start_time": "2024-10-29T20:29:18.310Z"
   },
   {
    "duration": 18,
    "start_time": "2024-10-29T20:29:18.473Z"
   },
   {
    "duration": 63,
    "start_time": "2024-10-29T20:29:18.493Z"
   },
   {
    "duration": 17,
    "start_time": "2024-10-29T20:29:18.558Z"
   },
   {
    "duration": 18,
    "start_time": "2024-10-29T20:29:18.576Z"
   },
   {
    "duration": 429,
    "start_time": "2024-10-29T20:29:18.595Z"
   },
   {
    "duration": 8,
    "start_time": "2024-10-29T20:29:19.025Z"
   },
   {
    "duration": 374,
    "start_time": "2024-10-29T20:29:19.035Z"
   },
   {
    "duration": 159,
    "start_time": "2024-10-29T20:29:19.411Z"
   },
   {
    "duration": 6,
    "start_time": "2024-10-29T20:29:19.572Z"
   },
   {
    "duration": 3,
    "start_time": "2024-10-29T20:29:19.580Z"
   },
   {
    "duration": 201,
    "start_time": "2024-10-29T20:29:19.585Z"
   },
   {
    "duration": 9,
    "start_time": "2024-10-29T20:29:19.787Z"
   },
   {
    "duration": 69,
    "start_time": "2024-10-29T20:29:19.798Z"
   },
   {
    "duration": 8,
    "start_time": "2024-10-29T20:29:19.868Z"
   },
   {
    "duration": 15,
    "start_time": "2024-10-29T20:29:19.877Z"
   },
   {
    "duration": 21,
    "start_time": "2024-10-29T20:29:19.894Z"
   },
   {
    "duration": 4,
    "start_time": "2024-10-29T20:29:19.917Z"
   },
   {
    "duration": 10,
    "start_time": "2024-10-29T20:29:19.922Z"
   },
   {
    "duration": 26,
    "start_time": "2024-10-29T20:29:19.933Z"
   },
   {
    "duration": 3,
    "start_time": "2024-10-29T20:29:19.961Z"
   },
   {
    "duration": 7,
    "start_time": "2024-10-29T20:29:19.965Z"
   },
   {
    "duration": 16,
    "start_time": "2024-10-29T20:29:19.974Z"
   },
   {
    "duration": 2,
    "start_time": "2024-10-29T20:29:19.992Z"
   },
   {
    "duration": 43,
    "start_time": "2024-10-29T20:29:19.995Z"
   },
   {
    "duration": 281,
    "start_time": "2024-10-29T20:29:20.040Z"
   },
   {
    "duration": 17,
    "start_time": "2024-10-29T20:29:20.323Z"
   },
   {
    "duration": 425,
    "start_time": "2024-10-29T20:29:20.342Z"
   },
   {
    "duration": 21,
    "start_time": "2024-10-29T20:29:20.768Z"
   },
   {
    "duration": 28,
    "start_time": "2024-10-29T20:29:20.790Z"
   },
   {
    "duration": 13,
    "start_time": "2024-10-29T20:29:20.819Z"
   },
   {
    "duration": 14,
    "start_time": "2024-10-29T20:29:20.833Z"
   },
   {
    "duration": 473,
    "start_time": "2024-10-29T20:29:20.848Z"
   },
   {
    "duration": 461,
    "start_time": "2024-10-29T20:29:21.322Z"
   },
   {
    "duration": 8,
    "start_time": "2024-10-29T20:29:21.784Z"
   },
   {
    "duration": 322,
    "start_time": "2024-10-29T20:29:21.794Z"
   },
   {
    "duration": 10,
    "start_time": "2024-10-29T20:29:22.117Z"
   },
   {
    "duration": 320,
    "start_time": "2024-10-29T20:29:22.128Z"
   },
   {
    "duration": 5,
    "start_time": "2024-10-29T20:29:22.457Z"
   },
   {
    "duration": 10,
    "start_time": "2024-10-29T20:29:22.463Z"
   },
   {
    "duration": 11,
    "start_time": "2024-10-29T20:29:22.478Z"
   },
   {
    "duration": 56,
    "start_time": "2024-10-29T20:29:22.491Z"
   },
   {
    "duration": 59,
    "start_time": "2024-10-29T20:29:22.549Z"
   },
   {
    "duration": 313,
    "start_time": "2024-10-29T20:29:22.609Z"
   },
   {
    "duration": 11,
    "start_time": "2024-10-29T20:29:22.924Z"
   },
   {
    "duration": 152,
    "start_time": "2024-10-29T20:29:22.936Z"
   },
   {
    "duration": 301,
    "start_time": "2024-10-29T20:29:23.089Z"
   },
   {
    "duration": 9,
    "start_time": "2024-10-29T20:29:23.392Z"
   },
   {
    "duration": 65,
    "start_time": "2024-10-29T20:29:23.402Z"
   },
   {
    "duration": 308,
    "start_time": "2024-10-29T20:29:23.468Z"
   },
   {
    "duration": 9,
    "start_time": "2024-10-29T20:29:23.777Z"
   },
   {
    "duration": 127,
    "start_time": "2024-10-29T20:29:23.787Z"
   },
   {
    "duration": 308,
    "start_time": "2024-10-29T20:29:23.916Z"
   },
   {
    "duration": 3,
    "start_time": "2024-10-29T20:29:24.226Z"
   },
   {
    "duration": 28,
    "start_time": "2024-10-29T20:29:24.230Z"
   },
   {
    "duration": 17,
    "start_time": "2024-10-29T20:29:24.260Z"
   },
   {
    "duration": 15,
    "start_time": "2024-10-29T20:29:24.278Z"
   },
   {
    "duration": 16,
    "start_time": "2024-10-29T20:29:24.295Z"
   },
   {
    "duration": 1685,
    "start_time": "2024-10-29T20:47:39.575Z"
   },
   {
    "duration": 4,
    "start_time": "2024-10-29T20:47:41.262Z"
   },
   {
    "duration": 8,
    "start_time": "2024-10-29T20:47:41.268Z"
   },
   {
    "duration": 21,
    "start_time": "2024-10-29T20:47:41.278Z"
   },
   {
    "duration": 65,
    "start_time": "2024-10-29T20:47:41.300Z"
   },
   {
    "duration": 26,
    "start_time": "2024-10-29T20:47:41.366Z"
   },
   {
    "duration": 5,
    "start_time": "2024-10-29T20:47:41.393Z"
   },
   {
    "duration": 86,
    "start_time": "2024-10-29T20:47:41.399Z"
   },
   {
    "duration": 14,
    "start_time": "2024-10-29T20:47:41.486Z"
   },
   {
    "duration": 11,
    "start_time": "2024-10-29T20:47:41.502Z"
   },
   {
    "duration": 8,
    "start_time": "2024-10-29T20:47:41.515Z"
   },
   {
    "duration": 50,
    "start_time": "2024-10-29T20:47:41.524Z"
   },
   {
    "duration": 23,
    "start_time": "2024-10-29T20:47:41.576Z"
   },
   {
    "duration": 6,
    "start_time": "2024-10-29T20:47:41.600Z"
   },
   {
    "duration": 44,
    "start_time": "2024-10-29T20:47:41.607Z"
   },
   {
    "duration": 22,
    "start_time": "2024-10-29T20:47:41.652Z"
   },
   {
    "duration": 8,
    "start_time": "2024-10-29T20:47:41.675Z"
   },
   {
    "duration": 26,
    "start_time": "2024-10-29T20:47:41.684Z"
   },
   {
    "duration": 15,
    "start_time": "2024-10-29T20:47:41.711Z"
   },
   {
    "duration": 116,
    "start_time": "2024-10-29T20:47:41.727Z"
   },
   {
    "duration": 6,
    "start_time": "2024-10-29T20:47:41.844Z"
   },
   {
    "duration": 1733,
    "start_time": "2024-10-29T20:47:41.851Z"
   },
   {
    "duration": 5,
    "start_time": "2024-10-29T20:47:43.585Z"
   },
   {
    "duration": 3083,
    "start_time": "2024-10-29T20:47:43.591Z"
   },
   {
    "duration": 22,
    "start_time": "2024-10-29T20:47:46.675Z"
   },
   {
    "duration": 60,
    "start_time": "2024-10-29T20:47:46.699Z"
   },
   {
    "duration": 169,
    "start_time": "2024-10-29T20:47:46.760Z"
   },
   {
    "duration": 187,
    "start_time": "2024-10-29T20:47:46.933Z"
   },
   {
    "duration": 4,
    "start_time": "2024-10-29T20:47:47.122Z"
   },
   {
    "duration": 4,
    "start_time": "2024-10-29T20:47:47.127Z"
   },
   {
    "duration": 28,
    "start_time": "2024-10-29T20:47:47.132Z"
   },
   {
    "duration": 292,
    "start_time": "2024-10-29T20:47:47.161Z"
   },
   {
    "duration": 17,
    "start_time": "2024-10-29T20:47:47.457Z"
   },
   {
    "duration": 11,
    "start_time": "2024-10-29T20:47:47.475Z"
   },
   {
    "duration": 877,
    "start_time": "2024-10-29T20:47:47.487Z"
   },
   {
    "duration": 4,
    "start_time": "2024-10-29T20:47:48.365Z"
   },
   {
    "duration": 6,
    "start_time": "2024-10-29T20:47:48.371Z"
   },
   {
    "duration": 767,
    "start_time": "2024-10-29T20:47:48.378Z"
   },
   {
    "duration": 20,
    "start_time": "2024-10-29T20:47:49.146Z"
   },
   {
    "duration": 724,
    "start_time": "2024-10-29T20:47:49.167Z"
   },
   {
    "duration": 8,
    "start_time": "2024-10-29T20:47:49.892Z"
   },
   {
    "duration": 148,
    "start_time": "2024-10-29T20:47:49.901Z"
   },
   {
    "duration": 17,
    "start_time": "2024-10-29T20:47:50.050Z"
   },
   {
    "duration": 9,
    "start_time": "2024-10-29T20:47:50.069Z"
   },
   {
    "duration": 10,
    "start_time": "2024-10-29T20:47:50.079Z"
   },
   {
    "duration": 24,
    "start_time": "2024-10-29T20:47:50.091Z"
   },
   {
    "duration": 421,
    "start_time": "2024-10-29T20:47:50.116Z"
   },
   {
    "duration": 21,
    "start_time": "2024-10-29T20:47:50.538Z"
   },
   {
    "duration": 424,
    "start_time": "2024-10-29T20:47:50.561Z"
   },
   {
    "duration": 154,
    "start_time": "2024-10-29T20:47:50.986Z"
   },
   {
    "duration": 6,
    "start_time": "2024-10-29T20:47:51.141Z"
   },
   {
    "duration": 9,
    "start_time": "2024-10-29T20:47:51.148Z"
   },
   {
    "duration": 198,
    "start_time": "2024-10-29T20:47:51.159Z"
   },
   {
    "duration": 9,
    "start_time": "2024-10-29T20:47:51.359Z"
   },
   {
    "duration": 19,
    "start_time": "2024-10-29T20:47:51.369Z"
   },
   {
    "duration": 7,
    "start_time": "2024-10-29T20:47:51.389Z"
   },
   {
    "duration": 12,
    "start_time": "2024-10-29T20:47:51.397Z"
   },
   {
    "duration": 21,
    "start_time": "2024-10-29T20:47:51.411Z"
   },
   {
    "duration": 31,
    "start_time": "2024-10-29T20:47:51.433Z"
   },
   {
    "duration": 148,
    "start_time": "2024-10-29T20:47:51.465Z"
   },
   {
    "duration": 40,
    "start_time": "2024-10-29T20:47:51.615Z"
   },
   {
    "duration": 4,
    "start_time": "2024-10-29T20:47:51.656Z"
   },
   {
    "duration": 10,
    "start_time": "2024-10-29T20:47:51.661Z"
   },
   {
    "duration": 16,
    "start_time": "2024-10-29T20:47:51.673Z"
   },
   {
    "duration": 22,
    "start_time": "2024-10-29T20:47:51.690Z"
   },
   {
    "duration": 16,
    "start_time": "2024-10-29T20:47:51.713Z"
   },
   {
    "duration": 295,
    "start_time": "2024-10-29T20:47:51.730Z"
   },
   {
    "duration": 16,
    "start_time": "2024-10-29T20:47:52.026Z"
   },
   {
    "duration": 420,
    "start_time": "2024-10-29T20:47:52.057Z"
   },
   {
    "duration": 20,
    "start_time": "2024-10-29T20:47:52.479Z"
   },
   {
    "duration": 14,
    "start_time": "2024-10-29T20:47:52.500Z"
   },
   {
    "duration": 13,
    "start_time": "2024-10-29T20:47:52.516Z"
   },
   {
    "duration": 37,
    "start_time": "2024-10-29T20:47:52.530Z"
   },
   {
    "duration": 511,
    "start_time": "2024-10-29T20:47:52.568Z"
   },
   {
    "duration": 466,
    "start_time": "2024-10-29T20:47:53.080Z"
   },
   {
    "duration": 16,
    "start_time": "2024-10-29T20:47:53.547Z"
   },
   {
    "duration": 263,
    "start_time": "2024-10-29T20:47:53.564Z"
   },
   {
    "duration": 10,
    "start_time": "2024-10-29T20:47:53.828Z"
   },
   {
    "duration": 402,
    "start_time": "2024-10-29T20:47:53.839Z"
   },
   {
    "duration": 15,
    "start_time": "2024-10-29T20:47:54.242Z"
   },
   {
    "duration": 5,
    "start_time": "2024-10-29T20:47:54.259Z"
   },
   {
    "duration": 11,
    "start_time": "2024-10-29T20:47:54.269Z"
   },
   {
    "duration": 11,
    "start_time": "2024-10-29T20:47:54.281Z"
   },
   {
    "duration": 79,
    "start_time": "2024-10-29T20:47:54.293Z"
   },
   {
    "duration": 313,
    "start_time": "2024-10-29T20:47:54.373Z"
   },
   {
    "duration": 9,
    "start_time": "2024-10-29T20:47:54.687Z"
   },
   {
    "duration": 182,
    "start_time": "2024-10-29T20:47:54.697Z"
   },
   {
    "duration": 310,
    "start_time": "2024-10-29T20:47:54.881Z"
   },
   {
    "duration": 12,
    "start_time": "2024-10-29T20:47:55.193Z"
   },
   {
    "duration": 66,
    "start_time": "2024-10-29T20:47:55.206Z"
   },
   {
    "duration": 320,
    "start_time": "2024-10-29T20:47:55.274Z"
   },
   {
    "duration": 10,
    "start_time": "2024-10-29T20:47:55.595Z"
   },
   {
    "duration": 67,
    "start_time": "2024-10-29T20:47:55.606Z"
   },
   {
    "duration": 308,
    "start_time": "2024-10-29T20:47:55.675Z"
   },
   {
    "duration": 2,
    "start_time": "2024-10-29T20:47:55.984Z"
   },
   {
    "duration": 14,
    "start_time": "2024-10-29T20:47:55.988Z"
   },
   {
    "duration": 15,
    "start_time": "2024-10-29T20:47:56.003Z"
   },
   {
    "duration": 42,
    "start_time": "2024-10-29T20:47:56.019Z"
   },
   {
    "duration": 14,
    "start_time": "2024-10-29T20:47:56.062Z"
   },
   {
    "duration": 124,
    "start_time": "2024-10-29T20:58:07.465Z"
   },
   {
    "duration": 1646,
    "start_time": "2024-10-29T20:58:27.169Z"
   },
   {
    "duration": 4,
    "start_time": "2024-10-29T20:58:28.817Z"
   },
   {
    "duration": 6,
    "start_time": "2024-10-29T20:58:28.822Z"
   },
   {
    "duration": 4,
    "start_time": "2024-10-29T20:58:28.829Z"
   },
   {
    "duration": 49,
    "start_time": "2024-10-29T20:58:28.834Z"
   },
   {
    "duration": 25,
    "start_time": "2024-10-29T20:58:28.884Z"
   },
   {
    "duration": 19,
    "start_time": "2024-10-29T20:58:28.910Z"
   },
   {
    "duration": 60,
    "start_time": "2024-10-29T20:58:28.930Z"
   },
   {
    "duration": 13,
    "start_time": "2024-10-29T20:58:28.992Z"
   },
   {
    "duration": 11,
    "start_time": "2024-10-29T20:58:29.009Z"
   },
   {
    "duration": 38,
    "start_time": "2024-10-29T20:58:29.022Z"
   },
   {
    "duration": 12,
    "start_time": "2024-10-29T20:58:29.061Z"
   },
   {
    "duration": 58,
    "start_time": "2024-10-29T20:58:29.075Z"
   },
   {
    "duration": 6,
    "start_time": "2024-10-29T20:58:29.134Z"
   },
   {
    "duration": 5,
    "start_time": "2024-10-29T20:58:29.142Z"
   },
   {
    "duration": 132,
    "start_time": "2024-10-29T20:58:29.149Z"
   },
   {
    "duration": 0,
    "start_time": "2024-10-29T20:58:29.286Z"
   },
   {
    "duration": 0,
    "start_time": "2024-10-29T20:58:29.287Z"
   },
   {
    "duration": 0,
    "start_time": "2024-10-29T20:58:29.288Z"
   },
   {
    "duration": 0,
    "start_time": "2024-10-29T20:58:29.289Z"
   },
   {
    "duration": 1,
    "start_time": "2024-10-29T20:58:29.289Z"
   },
   {
    "duration": 0,
    "start_time": "2024-10-29T20:58:29.290Z"
   },
   {
    "duration": 0,
    "start_time": "2024-10-29T20:58:29.291Z"
   },
   {
    "duration": 0,
    "start_time": "2024-10-29T20:58:29.292Z"
   },
   {
    "duration": 0,
    "start_time": "2024-10-29T20:58:29.293Z"
   },
   {
    "duration": 0,
    "start_time": "2024-10-29T20:58:29.294Z"
   },
   {
    "duration": 0,
    "start_time": "2024-10-29T20:58:29.295Z"
   },
   {
    "duration": 0,
    "start_time": "2024-10-29T20:58:29.296Z"
   },
   {
    "duration": 0,
    "start_time": "2024-10-29T20:58:29.297Z"
   },
   {
    "duration": 0,
    "start_time": "2024-10-29T20:58:29.297Z"
   },
   {
    "duration": 0,
    "start_time": "2024-10-29T20:58:29.298Z"
   },
   {
    "duration": 0,
    "start_time": "2024-10-29T20:58:29.299Z"
   },
   {
    "duration": 0,
    "start_time": "2024-10-29T20:58:29.300Z"
   },
   {
    "duration": 0,
    "start_time": "2024-10-29T20:58:29.301Z"
   },
   {
    "duration": 0,
    "start_time": "2024-10-29T20:58:29.302Z"
   },
   {
    "duration": 0,
    "start_time": "2024-10-29T20:58:29.303Z"
   },
   {
    "duration": 0,
    "start_time": "2024-10-29T20:58:29.304Z"
   },
   {
    "duration": 0,
    "start_time": "2024-10-29T20:58:29.305Z"
   },
   {
    "duration": 0,
    "start_time": "2024-10-29T20:58:29.306Z"
   },
   {
    "duration": 0,
    "start_time": "2024-10-29T20:58:29.307Z"
   },
   {
    "duration": 0,
    "start_time": "2024-10-29T20:58:29.308Z"
   },
   {
    "duration": 0,
    "start_time": "2024-10-29T20:58:29.308Z"
   },
   {
    "duration": 0,
    "start_time": "2024-10-29T20:58:29.309Z"
   },
   {
    "duration": 0,
    "start_time": "2024-10-29T20:58:29.310Z"
   },
   {
    "duration": 0,
    "start_time": "2024-10-29T20:58:29.311Z"
   },
   {
    "duration": 0,
    "start_time": "2024-10-29T20:58:29.356Z"
   },
   {
    "duration": 0,
    "start_time": "2024-10-29T20:58:29.358Z"
   },
   {
    "duration": 0,
    "start_time": "2024-10-29T20:58:29.359Z"
   },
   {
    "duration": 0,
    "start_time": "2024-10-29T20:58:29.360Z"
   },
   {
    "duration": 0,
    "start_time": "2024-10-29T20:58:29.361Z"
   },
   {
    "duration": 0,
    "start_time": "2024-10-29T20:58:29.362Z"
   },
   {
    "duration": 0,
    "start_time": "2024-10-29T20:58:29.363Z"
   },
   {
    "duration": 0,
    "start_time": "2024-10-29T20:58:29.364Z"
   },
   {
    "duration": 0,
    "start_time": "2024-10-29T20:58:29.365Z"
   },
   {
    "duration": 0,
    "start_time": "2024-10-29T20:58:29.366Z"
   },
   {
    "duration": 0,
    "start_time": "2024-10-29T20:58:29.367Z"
   },
   {
    "duration": 0,
    "start_time": "2024-10-29T20:58:29.368Z"
   },
   {
    "duration": 0,
    "start_time": "2024-10-29T20:58:29.369Z"
   },
   {
    "duration": 0,
    "start_time": "2024-10-29T20:58:29.370Z"
   },
   {
    "duration": 0,
    "start_time": "2024-10-29T20:58:29.371Z"
   },
   {
    "duration": 0,
    "start_time": "2024-10-29T20:58:29.372Z"
   },
   {
    "duration": 0,
    "start_time": "2024-10-29T20:58:29.373Z"
   },
   {
    "duration": 0,
    "start_time": "2024-10-29T20:58:29.374Z"
   },
   {
    "duration": 0,
    "start_time": "2024-10-29T20:58:29.375Z"
   },
   {
    "duration": 0,
    "start_time": "2024-10-29T20:58:29.376Z"
   },
   {
    "duration": 0,
    "start_time": "2024-10-29T20:58:29.377Z"
   },
   {
    "duration": 0,
    "start_time": "2024-10-29T20:58:29.378Z"
   },
   {
    "duration": 0,
    "start_time": "2024-10-29T20:58:29.379Z"
   },
   {
    "duration": 0,
    "start_time": "2024-10-29T20:58:29.380Z"
   },
   {
    "duration": 0,
    "start_time": "2024-10-29T20:58:29.381Z"
   },
   {
    "duration": 0,
    "start_time": "2024-10-29T20:58:29.382Z"
   },
   {
    "duration": 0,
    "start_time": "2024-10-29T20:58:29.382Z"
   },
   {
    "duration": 0,
    "start_time": "2024-10-29T20:58:29.383Z"
   },
   {
    "duration": 0,
    "start_time": "2024-10-29T20:58:29.384Z"
   },
   {
    "duration": 0,
    "start_time": "2024-10-29T20:58:29.385Z"
   },
   {
    "duration": 0,
    "start_time": "2024-10-29T20:58:29.386Z"
   },
   {
    "duration": 0,
    "start_time": "2024-10-29T20:58:29.387Z"
   },
   {
    "duration": 0,
    "start_time": "2024-10-29T20:58:29.388Z"
   },
   {
    "duration": 0,
    "start_time": "2024-10-29T20:58:29.389Z"
   },
   {
    "duration": 0,
    "start_time": "2024-10-29T20:58:29.389Z"
   },
   {
    "duration": 0,
    "start_time": "2024-10-29T20:58:29.390Z"
   },
   {
    "duration": 0,
    "start_time": "2024-10-29T20:58:29.392Z"
   },
   {
    "duration": 0,
    "start_time": "2024-10-29T20:58:29.392Z"
   },
   {
    "duration": 0,
    "start_time": "2024-10-29T20:58:29.393Z"
   },
   {
    "duration": 0,
    "start_time": "2024-10-29T20:58:29.395Z"
   },
   {
    "duration": 0,
    "start_time": "2024-10-29T20:58:29.457Z"
   },
   {
    "duration": 0,
    "start_time": "2024-10-29T20:58:29.458Z"
   },
   {
    "duration": 0,
    "start_time": "2024-10-29T20:58:29.459Z"
   },
   {
    "duration": 0,
    "start_time": "2024-10-29T20:58:29.460Z"
   },
   {
    "duration": 0,
    "start_time": "2024-10-29T20:58:29.461Z"
   },
   {
    "duration": 0,
    "start_time": "2024-10-29T20:58:29.462Z"
   },
   {
    "duration": 0,
    "start_time": "2024-10-29T20:58:29.463Z"
   },
   {
    "duration": 0,
    "start_time": "2024-10-29T20:58:29.464Z"
   },
   {
    "duration": 0,
    "start_time": "2024-10-29T20:58:29.464Z"
   },
   {
    "duration": 0,
    "start_time": "2024-10-29T20:58:29.465Z"
   },
   {
    "duration": 0,
    "start_time": "2024-10-29T20:58:29.466Z"
   },
   {
    "duration": 0,
    "start_time": "2024-10-29T20:58:29.467Z"
   },
   {
    "duration": 0,
    "start_time": "2024-10-29T20:58:29.468Z"
   },
   {
    "duration": 0,
    "start_time": "2024-10-29T20:58:29.469Z"
   },
   {
    "duration": 0,
    "start_time": "2024-10-29T20:58:29.470Z"
   },
   {
    "duration": 15,
    "start_time": "2024-10-29T20:58:59.600Z"
   },
   {
    "duration": 14,
    "start_time": "2024-10-29T20:59:15.165Z"
   },
   {
    "duration": 14,
    "start_time": "2024-10-29T20:59:29.680Z"
   },
   {
    "duration": 15,
    "start_time": "2024-10-29T20:59:33.180Z"
   },
   {
    "duration": 15,
    "start_time": "2024-10-29T20:59:37.304Z"
   },
   {
    "duration": 15,
    "start_time": "2024-10-29T20:59:42.696Z"
   },
   {
    "duration": 7,
    "start_time": "2024-10-29T21:00:16.011Z"
   },
   {
    "duration": 9,
    "start_time": "2024-10-29T21:00:20.095Z"
   },
   {
    "duration": 9,
    "start_time": "2024-10-29T21:01:10.225Z"
   },
   {
    "duration": 9,
    "start_time": "2024-10-29T21:01:13.991Z"
   },
   {
    "duration": 9,
    "start_time": "2024-10-29T21:01:17.631Z"
   },
   {
    "duration": 9,
    "start_time": "2024-10-29T21:01:21.375Z"
   },
   {
    "duration": 17,
    "start_time": "2024-10-29T21:01:39.140Z"
   },
   {
    "duration": 14,
    "start_time": "2024-10-29T21:02:58.240Z"
   },
   {
    "duration": 15,
    "start_time": "2024-10-29T21:03:12.905Z"
   },
   {
    "duration": 14,
    "start_time": "2024-10-29T21:03:15.830Z"
   },
   {
    "duration": 14,
    "start_time": "2024-10-29T21:03:18.125Z"
   },
   {
    "duration": 20,
    "start_time": "2024-10-29T21:03:23.306Z"
   },
   {
    "duration": 4,
    "start_time": "2024-10-29T21:04:57.601Z"
   },
   {
    "duration": 5,
    "start_time": "2024-10-29T21:06:04.500Z"
   },
   {
    "duration": 5,
    "start_time": "2024-10-29T21:06:20.645Z"
   },
   {
    "duration": 5,
    "start_time": "2024-10-29T21:06:34.430Z"
   },
   {
    "duration": 4,
    "start_time": "2024-10-29T21:06:36.150Z"
   },
   {
    "duration": 5,
    "start_time": "2024-10-29T21:06:51.460Z"
   },
   {
    "duration": 4,
    "start_time": "2024-10-29T21:06:52.860Z"
   },
   {
    "duration": 1827,
    "start_time": "2024-10-29T21:07:05.950Z"
   },
   {
    "duration": 4,
    "start_time": "2024-10-29T21:07:07.779Z"
   },
   {
    "duration": 24,
    "start_time": "2024-10-29T21:07:07.784Z"
   },
   {
    "duration": 17,
    "start_time": "2024-10-29T21:07:07.810Z"
   },
   {
    "duration": 61,
    "start_time": "2024-10-29T21:07:07.828Z"
   },
   {
    "duration": 24,
    "start_time": "2024-10-29T21:07:07.891Z"
   },
   {
    "duration": 106,
    "start_time": "2024-10-29T21:07:07.916Z"
   },
   {
    "duration": 73,
    "start_time": "2024-10-29T21:07:08.023Z"
   },
   {
    "duration": 13,
    "start_time": "2024-10-29T21:07:08.098Z"
   },
   {
    "duration": 12,
    "start_time": "2024-10-29T21:07:08.114Z"
   },
   {
    "duration": 44,
    "start_time": "2024-10-29T21:07:08.128Z"
   },
   {
    "duration": 9,
    "start_time": "2024-10-29T21:07:08.174Z"
   },
   {
    "duration": 27,
    "start_time": "2024-10-29T21:07:08.185Z"
   },
   {
    "duration": 8,
    "start_time": "2024-10-29T21:07:08.214Z"
   },
   {
    "duration": 21,
    "start_time": "2024-10-29T21:07:08.223Z"
   },
   {
    "duration": 14,
    "start_time": "2024-10-29T21:07:08.246Z"
   },
   {
    "duration": 7,
    "start_time": "2024-10-29T21:07:08.261Z"
   },
   {
    "duration": 11,
    "start_time": "2024-10-29T21:07:08.269Z"
   },
   {
    "duration": 28,
    "start_time": "2024-10-29T21:07:08.282Z"
   },
   {
    "duration": 135,
    "start_time": "2024-10-29T21:07:08.312Z"
   },
   {
    "duration": 7,
    "start_time": "2024-10-29T21:07:08.449Z"
   },
   {
    "duration": 1715,
    "start_time": "2024-10-29T21:07:08.458Z"
   },
   {
    "duration": 5,
    "start_time": "2024-10-29T21:07:10.174Z"
   },
   {
    "duration": 3012,
    "start_time": "2024-10-29T21:07:10.180Z"
   },
   {
    "duration": 21,
    "start_time": "2024-10-29T21:07:13.194Z"
   },
   {
    "duration": 8,
    "start_time": "2024-10-29T21:07:13.216Z"
   },
   {
    "duration": 179,
    "start_time": "2024-10-29T21:07:13.225Z"
   },
   {
    "duration": 181,
    "start_time": "2024-10-29T21:07:13.408Z"
   },
   {
    "duration": 3,
    "start_time": "2024-10-29T21:07:13.591Z"
   },
   {
    "duration": 3,
    "start_time": "2024-10-29T21:07:13.596Z"
   },
   {
    "duration": 9,
    "start_time": "2024-10-29T21:07:13.600Z"
   },
   {
    "duration": 319,
    "start_time": "2024-10-29T21:07:13.611Z"
   },
   {
    "duration": 27,
    "start_time": "2024-10-29T21:07:13.932Z"
   },
   {
    "duration": 32,
    "start_time": "2024-10-29T21:07:13.961Z"
   },
   {
    "duration": 850,
    "start_time": "2024-10-29T21:07:13.994Z"
   },
   {
    "duration": 4,
    "start_time": "2024-10-29T21:07:14.846Z"
   },
   {
    "duration": 26,
    "start_time": "2024-10-29T21:07:14.851Z"
   },
   {
    "duration": 771,
    "start_time": "2024-10-29T21:07:14.878Z"
   },
   {
    "duration": 18,
    "start_time": "2024-10-29T21:07:15.651Z"
   },
   {
    "duration": 721,
    "start_time": "2024-10-29T21:07:15.671Z"
   },
   {
    "duration": 8,
    "start_time": "2024-10-29T21:07:16.393Z"
   },
   {
    "duration": 134,
    "start_time": "2024-10-29T21:07:16.402Z"
   },
   {
    "duration": 22,
    "start_time": "2024-10-29T21:07:16.538Z"
   },
   {
    "duration": 10,
    "start_time": "2024-10-29T21:07:16.561Z"
   },
   {
    "duration": 10,
    "start_time": "2024-10-29T21:07:16.572Z"
   },
   {
    "duration": 14,
    "start_time": "2024-10-29T21:07:16.583Z"
   },
   {
    "duration": 450,
    "start_time": "2024-10-29T21:07:16.598Z"
   },
   {
    "duration": 10,
    "start_time": "2024-10-29T21:07:17.050Z"
   },
   {
    "duration": 371,
    "start_time": "2024-10-29T21:07:17.062Z"
   },
   {
    "duration": 142,
    "start_time": "2024-10-29T21:07:17.435Z"
   },
   {
    "duration": 5,
    "start_time": "2024-10-29T21:07:17.579Z"
   },
   {
    "duration": 3,
    "start_time": "2024-10-29T21:07:17.585Z"
   },
   {
    "duration": 194,
    "start_time": "2024-10-29T21:07:17.590Z"
   },
   {
    "duration": 9,
    "start_time": "2024-10-29T21:07:17.785Z"
   },
   {
    "duration": 10,
    "start_time": "2024-10-29T21:07:17.795Z"
   },
   {
    "duration": 7,
    "start_time": "2024-10-29T21:07:17.807Z"
   },
   {
    "duration": 17,
    "start_time": "2024-10-29T21:07:17.815Z"
   },
   {
    "duration": 67,
    "start_time": "2024-10-29T21:07:17.833Z"
   },
   {
    "duration": 4,
    "start_time": "2024-10-29T21:07:17.901Z"
   },
   {
    "duration": 95,
    "start_time": "2024-10-29T21:07:17.907Z"
   },
   {
    "duration": 27,
    "start_time": "2024-10-29T21:07:18.003Z"
   },
   {
    "duration": 4,
    "start_time": "2024-10-29T21:07:18.031Z"
   },
   {
    "duration": 10,
    "start_time": "2024-10-29T21:07:18.036Z"
   },
   {
    "duration": 15,
    "start_time": "2024-10-29T21:07:18.047Z"
   },
   {
    "duration": 2,
    "start_time": "2024-10-29T21:07:18.064Z"
   },
   {
    "duration": 9,
    "start_time": "2024-10-29T21:07:18.068Z"
   },
   {
    "duration": 287,
    "start_time": "2024-10-29T21:07:18.079Z"
   },
   {
    "duration": 18,
    "start_time": "2024-10-29T21:07:18.368Z"
   },
   {
    "duration": 450,
    "start_time": "2024-10-29T21:07:18.387Z"
   },
   {
    "duration": 27,
    "start_time": "2024-10-29T21:07:18.838Z"
   },
   {
    "duration": 14,
    "start_time": "2024-10-29T21:07:18.866Z"
   },
   {
    "duration": 14,
    "start_time": "2024-10-29T21:07:18.881Z"
   },
   {
    "duration": 65,
    "start_time": "2024-10-29T21:07:18.896Z"
   },
   {
    "duration": 458,
    "start_time": "2024-10-29T21:07:18.962Z"
   },
   {
    "duration": 440,
    "start_time": "2024-10-29T21:07:19.422Z"
   },
   {
    "duration": 8,
    "start_time": "2024-10-29T21:07:19.864Z"
   },
   {
    "duration": 262,
    "start_time": "2024-10-29T21:07:19.873Z"
   },
   {
    "duration": 10,
    "start_time": "2024-10-29T21:07:20.137Z"
   },
   {
    "duration": 295,
    "start_time": "2024-10-29T21:07:20.157Z"
   },
   {
    "duration": 6,
    "start_time": "2024-10-29T21:07:20.457Z"
   },
   {
    "duration": 9,
    "start_time": "2024-10-29T21:07:20.464Z"
   },
   {
    "duration": 11,
    "start_time": "2024-10-29T21:07:20.478Z"
   },
   {
    "duration": 10,
    "start_time": "2024-10-29T21:07:20.490Z"
   },
   {
    "duration": 80,
    "start_time": "2024-10-29T21:07:20.501Z"
   },
   {
    "duration": 313,
    "start_time": "2024-10-29T21:07:20.582Z"
   },
   {
    "duration": 9,
    "start_time": "2024-10-29T21:07:20.897Z"
   },
   {
    "duration": 218,
    "start_time": "2024-10-29T21:07:20.908Z"
   },
   {
    "duration": 316,
    "start_time": "2024-10-29T21:07:21.127Z"
   },
   {
    "duration": 19,
    "start_time": "2024-10-29T21:07:21.445Z"
   },
   {
    "duration": 59,
    "start_time": "2024-10-29T21:07:21.465Z"
   },
   {
    "duration": 315,
    "start_time": "2024-10-29T21:07:21.525Z"
   },
   {
    "duration": 17,
    "start_time": "2024-10-29T21:07:21.841Z"
   },
   {
    "duration": 82,
    "start_time": "2024-10-29T21:07:21.859Z"
   },
   {
    "duration": 353,
    "start_time": "2024-10-29T21:07:21.942Z"
   },
   {
    "duration": 2,
    "start_time": "2024-10-29T21:07:22.297Z"
   },
   {
    "duration": 18,
    "start_time": "2024-10-29T21:07:22.301Z"
   },
   {
    "duration": 38,
    "start_time": "2024-10-29T21:07:22.320Z"
   },
   {
    "duration": 13,
    "start_time": "2024-10-29T21:07:22.359Z"
   },
   {
    "duration": 26,
    "start_time": "2024-10-29T21:07:22.373Z"
   },
   {
    "duration": 4,
    "start_time": "2024-10-29T21:07:48.599Z"
   },
   {
    "duration": 5,
    "start_time": "2024-10-29T21:11:40.099Z"
   },
   {
    "duration": 7,
    "start_time": "2024-10-29T21:11:44.580Z"
   },
   {
    "duration": 6,
    "start_time": "2024-10-29T21:11:58.324Z"
   },
   {
    "duration": 5,
    "start_time": "2024-10-29T21:12:49.205Z"
   },
   {
    "duration": 5,
    "start_time": "2024-10-29T21:13:02.915Z"
   },
   {
    "duration": 7,
    "start_time": "2024-10-29T21:13:14.330Z"
   },
   {
    "duration": 7,
    "start_time": "2024-10-29T21:14:42.530Z"
   },
   {
    "duration": 121,
    "start_time": "2024-10-29T21:14:49.085Z"
   },
   {
    "duration": 8,
    "start_time": "2024-10-29T21:15:21.730Z"
   },
   {
    "duration": 6,
    "start_time": "2024-10-29T21:15:24.120Z"
   },
   {
    "duration": 4,
    "start_time": "2024-10-29T21:15:25.820Z"
   },
   {
    "duration": 7,
    "start_time": "2024-10-29T21:15:42.575Z"
   },
   {
    "duration": 1710,
    "start_time": "2024-10-29T21:15:50.189Z"
   },
   {
    "duration": 4,
    "start_time": "2024-10-29T21:15:51.901Z"
   },
   {
    "duration": 115,
    "start_time": "2024-10-29T21:15:51.906Z"
   },
   {
    "duration": 9,
    "start_time": "2024-10-29T21:15:52.023Z"
   },
   {
    "duration": 59,
    "start_time": "2024-10-29T21:15:52.034Z"
   },
   {
    "duration": 25,
    "start_time": "2024-10-29T21:15:52.095Z"
   },
   {
    "duration": 5,
    "start_time": "2024-10-29T21:15:52.121Z"
   },
   {
    "duration": 84,
    "start_time": "2024-10-29T21:15:52.127Z"
   },
   {
    "duration": 13,
    "start_time": "2024-10-29T21:15:52.212Z"
   },
   {
    "duration": 38,
    "start_time": "2024-10-29T21:15:52.227Z"
   },
   {
    "duration": 11,
    "start_time": "2024-10-29T21:15:52.266Z"
   },
   {
    "duration": 10,
    "start_time": "2024-10-29T21:15:52.278Z"
   },
   {
    "duration": 26,
    "start_time": "2024-10-29T21:15:52.289Z"
   },
   {
    "duration": 6,
    "start_time": "2024-10-29T21:15:52.316Z"
   },
   {
    "duration": 34,
    "start_time": "2024-10-29T21:15:52.323Z"
   },
   {
    "duration": 4,
    "start_time": "2024-10-29T21:15:52.359Z"
   },
   {
    "duration": 15,
    "start_time": "2024-10-29T21:15:52.364Z"
   },
   {
    "duration": 3,
    "start_time": "2024-10-29T21:15:52.380Z"
   },
   {
    "duration": 8,
    "start_time": "2024-10-29T21:15:52.384Z"
   },
   {
    "duration": 12,
    "start_time": "2024-10-29T21:15:52.393Z"
   },
   {
    "duration": 111,
    "start_time": "2024-10-29T21:15:52.406Z"
   },
   {
    "duration": 6,
    "start_time": "2024-10-29T21:15:52.518Z"
   },
   {
    "duration": 1685,
    "start_time": "2024-10-29T21:15:52.525Z"
   },
   {
    "duration": 5,
    "start_time": "2024-10-29T21:15:54.211Z"
   },
   {
    "duration": 3035,
    "start_time": "2024-10-29T21:15:54.217Z"
   },
   {
    "duration": 22,
    "start_time": "2024-10-29T21:15:57.253Z"
   },
   {
    "duration": 30,
    "start_time": "2024-10-29T21:15:57.276Z"
   },
   {
    "duration": 175,
    "start_time": "2024-10-29T21:15:57.309Z"
   },
   {
    "duration": 179,
    "start_time": "2024-10-29T21:15:57.486Z"
   },
   {
    "duration": 3,
    "start_time": "2024-10-29T21:15:57.666Z"
   },
   {
    "duration": 5,
    "start_time": "2024-10-29T21:15:57.670Z"
   },
   {
    "duration": 9,
    "start_time": "2024-10-29T21:15:57.676Z"
   },
   {
    "duration": 313,
    "start_time": "2024-10-29T21:15:57.686Z"
   },
   {
    "duration": 16,
    "start_time": "2024-10-29T21:15:58.000Z"
   },
   {
    "duration": 10,
    "start_time": "2024-10-29T21:15:58.017Z"
   },
   {
    "duration": 832,
    "start_time": "2024-10-29T21:15:58.028Z"
   },
   {
    "duration": 3,
    "start_time": "2024-10-29T21:15:58.862Z"
   },
   {
    "duration": 10,
    "start_time": "2024-10-29T21:15:58.867Z"
   },
   {
    "duration": 767,
    "start_time": "2024-10-29T21:15:58.879Z"
   },
   {
    "duration": 21,
    "start_time": "2024-10-29T21:15:59.647Z"
   },
   {
    "duration": 723,
    "start_time": "2024-10-29T21:15:59.670Z"
   },
   {
    "duration": 9,
    "start_time": "2024-10-29T21:16:00.395Z"
   },
   {
    "duration": 171,
    "start_time": "2024-10-29T21:16:00.406Z"
   },
   {
    "duration": 18,
    "start_time": "2024-10-29T21:16:00.578Z"
   },
   {
    "duration": 28,
    "start_time": "2024-10-29T21:16:00.598Z"
   },
   {
    "duration": 42,
    "start_time": "2024-10-29T21:16:00.627Z"
   },
   {
    "duration": 170,
    "start_time": "2024-10-29T21:16:00.670Z"
   },
   {
    "duration": 472,
    "start_time": "2024-10-29T21:16:00.842Z"
   },
   {
    "duration": 6,
    "start_time": "2024-10-29T21:16:01.316Z"
   },
   {
    "duration": 368,
    "start_time": "2024-10-29T21:16:01.323Z"
   },
   {
    "duration": 159,
    "start_time": "2024-10-29T21:16:01.692Z"
   },
   {
    "duration": 8,
    "start_time": "2024-10-29T21:16:01.852Z"
   },
   {
    "duration": 42,
    "start_time": "2024-10-29T21:16:01.862Z"
   },
   {
    "duration": 196,
    "start_time": "2024-10-29T21:16:01.905Z"
   },
   {
    "duration": 8,
    "start_time": "2024-10-29T21:16:02.103Z"
   },
   {
    "duration": 32,
    "start_time": "2024-10-29T21:16:02.112Z"
   },
   {
    "duration": 25,
    "start_time": "2024-10-29T21:16:02.145Z"
   },
   {
    "duration": 36,
    "start_time": "2024-10-29T21:16:02.171Z"
   },
   {
    "duration": 46,
    "start_time": "2024-10-29T21:16:02.209Z"
   },
   {
    "duration": 3,
    "start_time": "2024-10-29T21:16:02.256Z"
   },
   {
    "duration": 15,
    "start_time": "2024-10-29T21:16:02.260Z"
   },
   {
    "duration": 49,
    "start_time": "2024-10-29T21:16:02.276Z"
   },
   {
    "duration": 19,
    "start_time": "2024-10-29T21:16:02.327Z"
   },
   {
    "duration": 60,
    "start_time": "2024-10-29T21:16:02.347Z"
   },
   {
    "duration": 49,
    "start_time": "2024-10-29T21:16:02.408Z"
   },
   {
    "duration": 16,
    "start_time": "2024-10-29T21:16:02.459Z"
   },
   {
    "duration": 32,
    "start_time": "2024-10-29T21:16:02.476Z"
   },
   {
    "duration": 298,
    "start_time": "2024-10-29T21:16:02.510Z"
   },
   {
    "duration": 16,
    "start_time": "2024-10-29T21:16:02.810Z"
   },
   {
    "duration": 423,
    "start_time": "2024-10-29T21:16:02.828Z"
   },
   {
    "duration": 21,
    "start_time": "2024-10-29T21:16:03.258Z"
   },
   {
    "duration": 14,
    "start_time": "2024-10-29T21:16:03.280Z"
   },
   {
    "duration": 29,
    "start_time": "2024-10-29T21:16:03.296Z"
   },
   {
    "duration": 14,
    "start_time": "2024-10-29T21:16:03.326Z"
   },
   {
    "duration": 454,
    "start_time": "2024-10-29T21:16:03.341Z"
   },
   {
    "duration": 457,
    "start_time": "2024-10-29T21:16:03.796Z"
   },
   {
    "duration": 10,
    "start_time": "2024-10-29T21:16:04.254Z"
   },
   {
    "duration": 264,
    "start_time": "2024-10-29T21:16:04.266Z"
   },
   {
    "duration": 10,
    "start_time": "2024-10-29T21:16:04.531Z"
   },
   {
    "duration": 318,
    "start_time": "2024-10-29T21:16:04.542Z"
   },
   {
    "duration": 6,
    "start_time": "2024-10-29T21:16:04.861Z"
   },
   {
    "duration": 34,
    "start_time": "2024-10-29T21:16:04.872Z"
   },
   {
    "duration": 99,
    "start_time": "2024-10-29T21:16:04.907Z"
   },
   {
    "duration": 11,
    "start_time": "2024-10-29T21:16:05.008Z"
   },
   {
    "duration": 69,
    "start_time": "2024-10-29T21:16:05.020Z"
   },
   {
    "duration": 321,
    "start_time": "2024-10-29T21:16:05.091Z"
   },
   {
    "duration": 9,
    "start_time": "2024-10-29T21:16:05.414Z"
   },
   {
    "duration": 162,
    "start_time": "2024-10-29T21:16:05.424Z"
   },
   {
    "duration": 297,
    "start_time": "2024-10-29T21:16:05.587Z"
   },
   {
    "duration": 9,
    "start_time": "2024-10-29T21:16:05.886Z"
   },
   {
    "duration": 67,
    "start_time": "2024-10-29T21:16:05.896Z"
   },
   {
    "duration": 364,
    "start_time": "2024-10-29T21:16:05.965Z"
   },
   {
    "duration": 9,
    "start_time": "2024-10-29T21:16:06.331Z"
   },
   {
    "duration": 83,
    "start_time": "2024-10-29T21:16:06.341Z"
   },
   {
    "duration": 310,
    "start_time": "2024-10-29T21:16:06.426Z"
   },
   {
    "duration": 2,
    "start_time": "2024-10-29T21:16:06.738Z"
   },
   {
    "duration": 92,
    "start_time": "2024-10-29T21:16:06.742Z"
   },
   {
    "duration": 15,
    "start_time": "2024-10-29T21:16:06.835Z"
   },
   {
    "duration": 15,
    "start_time": "2024-10-29T21:16:06.851Z"
   },
   {
    "duration": 40,
    "start_time": "2024-10-29T21:16:06.868Z"
   },
   {
    "duration": 1721,
    "start_time": "2024-10-29T21:20:03.336Z"
   },
   {
    "duration": 4,
    "start_time": "2024-10-29T21:20:05.059Z"
   },
   {
    "duration": 6,
    "start_time": "2024-10-29T21:20:05.064Z"
   },
   {
    "duration": 30,
    "start_time": "2024-10-29T21:20:05.072Z"
   },
   {
    "duration": 71,
    "start_time": "2024-10-29T21:20:05.103Z"
   },
   {
    "duration": 25,
    "start_time": "2024-10-29T21:20:05.175Z"
   },
   {
    "duration": 6,
    "start_time": "2024-10-29T21:20:05.201Z"
   },
   {
    "duration": 77,
    "start_time": "2024-10-29T21:20:05.208Z"
   },
   {
    "duration": 13,
    "start_time": "2024-10-29T21:20:05.286Z"
   },
   {
    "duration": 22,
    "start_time": "2024-10-29T21:20:05.301Z"
   },
   {
    "duration": 27,
    "start_time": "2024-10-29T21:20:05.324Z"
   },
   {
    "duration": 11,
    "start_time": "2024-10-29T21:20:05.352Z"
   },
   {
    "duration": 52,
    "start_time": "2024-10-29T21:20:05.365Z"
   },
   {
    "duration": 7,
    "start_time": "2024-10-29T21:20:05.418Z"
   },
   {
    "duration": 39,
    "start_time": "2024-10-29T21:20:05.426Z"
   },
   {
    "duration": 9,
    "start_time": "2024-10-29T21:20:05.466Z"
   },
   {
    "duration": 39,
    "start_time": "2024-10-29T21:20:05.476Z"
   },
   {
    "duration": 9,
    "start_time": "2024-10-29T21:20:05.517Z"
   },
   {
    "duration": 19,
    "start_time": "2024-10-29T21:20:05.527Z"
   },
   {
    "duration": 49,
    "start_time": "2024-10-29T21:20:05.548Z"
   },
   {
    "duration": 128,
    "start_time": "2024-10-29T21:20:05.598Z"
   },
   {
    "duration": 6,
    "start_time": "2024-10-29T21:20:05.727Z"
   },
   {
    "duration": 1724,
    "start_time": "2024-10-29T21:20:05.734Z"
   },
   {
    "duration": 5,
    "start_time": "2024-10-29T21:20:07.460Z"
   },
   {
    "duration": 3074,
    "start_time": "2024-10-29T21:20:07.466Z"
   },
   {
    "duration": 26,
    "start_time": "2024-10-29T21:20:10.541Z"
   },
   {
    "duration": 26,
    "start_time": "2024-10-29T21:20:10.569Z"
   },
   {
    "duration": 170,
    "start_time": "2024-10-29T21:20:10.598Z"
   },
   {
    "duration": 188,
    "start_time": "2024-10-29T21:20:10.770Z"
   },
   {
    "duration": 3,
    "start_time": "2024-10-29T21:20:10.960Z"
   },
   {
    "duration": 43,
    "start_time": "2024-10-29T21:20:10.965Z"
   },
   {
    "duration": 9,
    "start_time": "2024-10-29T21:20:11.009Z"
   },
   {
    "duration": 309,
    "start_time": "2024-10-29T21:20:11.020Z"
   },
   {
    "duration": 28,
    "start_time": "2024-10-29T21:20:11.331Z"
   },
   {
    "duration": 11,
    "start_time": "2024-10-29T21:20:11.360Z"
   },
   {
    "duration": 864,
    "start_time": "2024-10-29T21:20:11.372Z"
   },
   {
    "duration": 4,
    "start_time": "2024-10-29T21:20:12.237Z"
   },
   {
    "duration": 15,
    "start_time": "2024-10-29T21:20:12.242Z"
   },
   {
    "duration": 810,
    "start_time": "2024-10-29T21:20:12.258Z"
   },
   {
    "duration": 15,
    "start_time": "2024-10-29T21:20:13.070Z"
   },
   {
    "duration": 715,
    "start_time": "2024-10-29T21:20:13.087Z"
   },
   {
    "duration": 8,
    "start_time": "2024-10-29T21:20:13.804Z"
   },
   {
    "duration": 154,
    "start_time": "2024-10-29T21:20:13.813Z"
   },
   {
    "duration": 17,
    "start_time": "2024-10-29T21:20:13.969Z"
   },
   {
    "duration": 61,
    "start_time": "2024-10-29T21:20:13.988Z"
   },
   {
    "duration": 11,
    "start_time": "2024-10-29T21:20:14.050Z"
   },
   {
    "duration": 15,
    "start_time": "2024-10-29T21:20:14.063Z"
   },
   {
    "duration": 453,
    "start_time": "2024-10-29T21:20:14.079Z"
   },
   {
    "duration": 8,
    "start_time": "2024-10-29T21:20:14.534Z"
   },
   {
    "duration": 374,
    "start_time": "2024-10-29T21:20:14.544Z"
   },
   {
    "duration": 181,
    "start_time": "2024-10-29T21:20:14.920Z"
   },
   {
    "duration": 5,
    "start_time": "2024-10-29T21:20:15.103Z"
   },
   {
    "duration": 39,
    "start_time": "2024-10-29T21:20:15.109Z"
   },
   {
    "duration": 207,
    "start_time": "2024-10-29T21:20:15.150Z"
   },
   {
    "duration": 9,
    "start_time": "2024-10-29T21:20:15.359Z"
   },
   {
    "duration": 31,
    "start_time": "2024-10-29T21:20:15.369Z"
   },
   {
    "duration": 14,
    "start_time": "2024-10-29T21:20:15.401Z"
   },
   {
    "duration": 47,
    "start_time": "2024-10-29T21:20:15.416Z"
   },
   {
    "duration": 24,
    "start_time": "2024-10-29T21:20:15.464Z"
   },
   {
    "duration": 5,
    "start_time": "2024-10-29T21:20:15.490Z"
   },
   {
    "duration": 5,
    "start_time": "2024-10-29T21:20:15.496Z"
   },
   {
    "duration": 14,
    "start_time": "2024-10-29T21:20:15.503Z"
   },
   {
    "duration": 8,
    "start_time": "2024-10-29T21:20:15.518Z"
   },
   {
    "duration": 8,
    "start_time": "2024-10-29T21:20:15.527Z"
   },
   {
    "duration": 29,
    "start_time": "2024-10-29T21:20:15.536Z"
   },
   {
    "duration": 12,
    "start_time": "2024-10-29T21:20:15.566Z"
   },
   {
    "duration": 11,
    "start_time": "2024-10-29T21:20:15.579Z"
   },
   {
    "duration": 312,
    "start_time": "2024-10-29T21:20:15.592Z"
   },
   {
    "duration": 16,
    "start_time": "2024-10-29T21:20:15.905Z"
   },
   {
    "duration": 443,
    "start_time": "2024-10-29T21:20:15.923Z"
   },
   {
    "duration": 22,
    "start_time": "2024-10-29T21:20:16.368Z"
   },
   {
    "duration": 15,
    "start_time": "2024-10-29T21:20:16.391Z"
   },
   {
    "duration": 15,
    "start_time": "2024-10-29T21:20:16.407Z"
   },
   {
    "duration": 39,
    "start_time": "2024-10-29T21:20:16.423Z"
   },
   {
    "duration": 495,
    "start_time": "2024-10-29T21:20:16.464Z"
   },
   {
    "duration": 470,
    "start_time": "2024-10-29T21:20:16.960Z"
   },
   {
    "duration": 8,
    "start_time": "2024-10-29T21:20:17.431Z"
   },
   {
    "duration": 283,
    "start_time": "2024-10-29T21:20:17.441Z"
   },
   {
    "duration": 10,
    "start_time": "2024-10-29T21:20:17.725Z"
   },
   {
    "duration": 314,
    "start_time": "2024-10-29T21:20:17.736Z"
   },
   {
    "duration": 10,
    "start_time": "2024-10-29T21:20:18.051Z"
   },
   {
    "duration": 6,
    "start_time": "2024-10-29T21:20:18.066Z"
   },
   {
    "duration": 16,
    "start_time": "2024-10-29T21:20:18.073Z"
   },
   {
    "duration": 9,
    "start_time": "2024-10-29T21:20:18.090Z"
   },
   {
    "duration": 76,
    "start_time": "2024-10-29T21:20:18.100Z"
   },
   {
    "duration": 362,
    "start_time": "2024-10-29T21:20:18.177Z"
   },
   {
    "duration": 19,
    "start_time": "2024-10-29T21:20:18.541Z"
   },
   {
    "duration": 147,
    "start_time": "2024-10-29T21:20:18.561Z"
   },
   {
    "duration": 304,
    "start_time": "2024-10-29T21:20:18.710Z"
   },
   {
    "duration": 10,
    "start_time": "2024-10-29T21:20:19.015Z"
   },
   {
    "duration": 67,
    "start_time": "2024-10-29T21:20:19.026Z"
   },
   {
    "duration": 315,
    "start_time": "2024-10-29T21:20:19.095Z"
   },
   {
    "duration": 9,
    "start_time": "2024-10-29T21:20:19.412Z"
   },
   {
    "duration": 66,
    "start_time": "2024-10-29T21:20:19.423Z"
   },
   {
    "duration": 331,
    "start_time": "2024-10-29T21:20:19.491Z"
   },
   {
    "duration": 3,
    "start_time": "2024-10-29T21:20:19.823Z"
   },
   {
    "duration": 36,
    "start_time": "2024-10-29T21:20:19.827Z"
   },
   {
    "duration": 14,
    "start_time": "2024-10-29T21:20:19.864Z"
   },
   {
    "duration": 29,
    "start_time": "2024-10-29T21:20:19.879Z"
   },
   {
    "duration": 53,
    "start_time": "2024-10-29T21:20:19.910Z"
   },
   {
    "duration": 292,
    "start_time": "2024-10-29T21:21:49.551Z"
   },
   {
    "duration": 14,
    "start_time": "2024-10-29T21:25:07.340Z"
   },
   {
    "duration": 1741,
    "start_time": "2024-10-29T21:25:13.135Z"
   },
   {
    "duration": 4,
    "start_time": "2024-10-29T21:25:14.878Z"
   },
   {
    "duration": 11,
    "start_time": "2024-10-29T21:25:14.883Z"
   },
   {
    "duration": 6,
    "start_time": "2024-10-29T21:25:14.896Z"
   },
   {
    "duration": 67,
    "start_time": "2024-10-29T21:25:14.903Z"
   },
   {
    "duration": 26,
    "start_time": "2024-10-29T21:25:14.971Z"
   },
   {
    "duration": 41,
    "start_time": "2024-10-29T21:25:15.000Z"
   },
   {
    "duration": 90,
    "start_time": "2024-10-29T21:25:15.042Z"
   },
   {
    "duration": 13,
    "start_time": "2024-10-29T21:25:15.133Z"
   },
   {
    "duration": 44,
    "start_time": "2024-10-29T21:25:15.156Z"
   },
   {
    "duration": 66,
    "start_time": "2024-10-29T21:25:15.202Z"
   },
   {
    "duration": 51,
    "start_time": "2024-10-29T21:25:15.270Z"
   },
   {
    "duration": 38,
    "start_time": "2024-10-29T21:25:15.323Z"
   },
   {
    "duration": 6,
    "start_time": "2024-10-29T21:25:15.363Z"
   },
   {
    "duration": 33,
    "start_time": "2024-10-29T21:25:15.370Z"
   },
   {
    "duration": 7,
    "start_time": "2024-10-29T21:25:15.405Z"
   },
   {
    "duration": 10,
    "start_time": "2024-10-29T21:25:15.413Z"
   },
   {
    "duration": 5,
    "start_time": "2024-10-29T21:25:15.424Z"
   },
   {
    "duration": 6,
    "start_time": "2024-10-29T21:25:15.430Z"
   },
   {
    "duration": 8,
    "start_time": "2024-10-29T21:25:15.437Z"
   },
   {
    "duration": 148,
    "start_time": "2024-10-29T21:25:15.446Z"
   },
   {
    "duration": 5,
    "start_time": "2024-10-29T21:25:15.595Z"
   },
   {
    "duration": 1714,
    "start_time": "2024-10-29T21:25:15.601Z"
   },
   {
    "duration": 5,
    "start_time": "2024-10-29T21:25:17.316Z"
   },
   {
    "duration": 2987,
    "start_time": "2024-10-29T21:25:17.356Z"
   },
   {
    "duration": 24,
    "start_time": "2024-10-29T21:25:20.345Z"
   },
   {
    "duration": 26,
    "start_time": "2024-10-29T21:25:20.371Z"
   },
   {
    "duration": 173,
    "start_time": "2024-10-29T21:25:20.401Z"
   },
   {
    "duration": 191,
    "start_time": "2024-10-29T21:25:20.576Z"
   },
   {
    "duration": 3,
    "start_time": "2024-10-29T21:25:20.768Z"
   },
   {
    "duration": 92,
    "start_time": "2024-10-29T21:25:20.773Z"
   },
   {
    "duration": 9,
    "start_time": "2024-10-29T21:25:20.866Z"
   },
   {
    "duration": 286,
    "start_time": "2024-10-29T21:25:20.876Z"
   },
   {
    "duration": 14,
    "start_time": "2024-10-29T21:25:21.163Z"
   },
   {
    "duration": 11,
    "start_time": "2024-10-29T21:25:21.178Z"
   },
   {
    "duration": 866,
    "start_time": "2024-10-29T21:25:21.190Z"
   },
   {
    "duration": 3,
    "start_time": "2024-10-29T21:25:22.057Z"
   },
   {
    "duration": 5,
    "start_time": "2024-10-29T21:25:22.062Z"
   },
   {
    "duration": 764,
    "start_time": "2024-10-29T21:25:22.068Z"
   },
   {
    "duration": 13,
    "start_time": "2024-10-29T21:25:22.833Z"
   },
   {
    "duration": 733,
    "start_time": "2024-10-29T21:25:22.858Z"
   },
   {
    "duration": 8,
    "start_time": "2024-10-29T21:25:23.592Z"
   },
   {
    "duration": 134,
    "start_time": "2024-10-29T21:25:23.601Z"
   },
   {
    "duration": 134,
    "start_time": "2024-10-29T21:25:23.737Z"
   },
   {
    "duration": 0,
    "start_time": "2024-10-29T21:25:23.873Z"
   },
   {
    "duration": 0,
    "start_time": "2024-10-29T21:25:23.874Z"
   },
   {
    "duration": 0,
    "start_time": "2024-10-29T21:25:23.875Z"
   },
   {
    "duration": 0,
    "start_time": "2024-10-29T21:25:23.876Z"
   },
   {
    "duration": 0,
    "start_time": "2024-10-29T21:25:23.876Z"
   },
   {
    "duration": 0,
    "start_time": "2024-10-29T21:25:23.877Z"
   },
   {
    "duration": 0,
    "start_time": "2024-10-29T21:25:23.878Z"
   },
   {
    "duration": 0,
    "start_time": "2024-10-29T21:25:23.879Z"
   },
   {
    "duration": 0,
    "start_time": "2024-10-29T21:25:23.880Z"
   },
   {
    "duration": 0,
    "start_time": "2024-10-29T21:25:23.881Z"
   },
   {
    "duration": 0,
    "start_time": "2024-10-29T21:25:23.882Z"
   },
   {
    "duration": 0,
    "start_time": "2024-10-29T21:25:23.883Z"
   },
   {
    "duration": 0,
    "start_time": "2024-10-29T21:25:23.884Z"
   },
   {
    "duration": 0,
    "start_time": "2024-10-29T21:25:23.885Z"
   },
   {
    "duration": 0,
    "start_time": "2024-10-29T21:25:23.886Z"
   },
   {
    "duration": 0,
    "start_time": "2024-10-29T21:25:23.887Z"
   },
   {
    "duration": 0,
    "start_time": "2024-10-29T21:25:23.888Z"
   },
   {
    "duration": 0,
    "start_time": "2024-10-29T21:25:23.889Z"
   },
   {
    "duration": 0,
    "start_time": "2024-10-29T21:25:23.890Z"
   },
   {
    "duration": 0,
    "start_time": "2024-10-29T21:25:23.891Z"
   },
   {
    "duration": 0,
    "start_time": "2024-10-29T21:25:23.891Z"
   },
   {
    "duration": 0,
    "start_time": "2024-10-29T21:25:23.892Z"
   },
   {
    "duration": 0,
    "start_time": "2024-10-29T21:25:23.893Z"
   },
   {
    "duration": 0,
    "start_time": "2024-10-29T21:25:23.894Z"
   },
   {
    "duration": 0,
    "start_time": "2024-10-29T21:25:23.895Z"
   },
   {
    "duration": 0,
    "start_time": "2024-10-29T21:25:23.896Z"
   },
   {
    "duration": 0,
    "start_time": "2024-10-29T21:25:23.897Z"
   },
   {
    "duration": 0,
    "start_time": "2024-10-29T21:25:23.898Z"
   },
   {
    "duration": 0,
    "start_time": "2024-10-29T21:25:23.898Z"
   },
   {
    "duration": 0,
    "start_time": "2024-10-29T21:25:23.899Z"
   },
   {
    "duration": 0,
    "start_time": "2024-10-29T21:25:23.900Z"
   },
   {
    "duration": 0,
    "start_time": "2024-10-29T21:25:23.901Z"
   },
   {
    "duration": 0,
    "start_time": "2024-10-29T21:25:23.902Z"
   },
   {
    "duration": 0,
    "start_time": "2024-10-29T21:25:23.903Z"
   },
   {
    "duration": 0,
    "start_time": "2024-10-29T21:25:23.903Z"
   },
   {
    "duration": 0,
    "start_time": "2024-10-29T21:25:23.904Z"
   },
   {
    "duration": 0,
    "start_time": "2024-10-29T21:25:23.905Z"
   },
   {
    "duration": 0,
    "start_time": "2024-10-29T21:25:23.906Z"
   },
   {
    "duration": 0,
    "start_time": "2024-10-29T21:25:23.958Z"
   },
   {
    "duration": 0,
    "start_time": "2024-10-29T21:25:23.959Z"
   },
   {
    "duration": 0,
    "start_time": "2024-10-29T21:25:23.960Z"
   },
   {
    "duration": 0,
    "start_time": "2024-10-29T21:25:23.961Z"
   },
   {
    "duration": 0,
    "start_time": "2024-10-29T21:25:23.961Z"
   },
   {
    "duration": 0,
    "start_time": "2024-10-29T21:25:23.962Z"
   },
   {
    "duration": 0,
    "start_time": "2024-10-29T21:25:23.963Z"
   },
   {
    "duration": 0,
    "start_time": "2024-10-29T21:25:23.964Z"
   },
   {
    "duration": 0,
    "start_time": "2024-10-29T21:25:23.964Z"
   },
   {
    "duration": 0,
    "start_time": "2024-10-29T21:25:23.965Z"
   },
   {
    "duration": 0,
    "start_time": "2024-10-29T21:25:23.966Z"
   },
   {
    "duration": 0,
    "start_time": "2024-10-29T21:25:23.967Z"
   },
   {
    "duration": 0,
    "start_time": "2024-10-29T21:25:23.968Z"
   },
   {
    "duration": 0,
    "start_time": "2024-10-29T21:25:23.969Z"
   },
   {
    "duration": 0,
    "start_time": "2024-10-29T21:25:23.971Z"
   },
   {
    "duration": 0,
    "start_time": "2024-10-29T21:25:23.971Z"
   },
   {
    "duration": 0,
    "start_time": "2024-10-29T21:25:23.973Z"
   },
   {
    "duration": 0,
    "start_time": "2024-10-29T21:25:23.974Z"
   },
   {
    "duration": 1574,
    "start_time": "2024-10-29T21:25:41.200Z"
   },
   {
    "duration": 4,
    "start_time": "2024-10-29T21:25:42.776Z"
   },
   {
    "duration": 71,
    "start_time": "2024-10-29T21:25:42.781Z"
   },
   {
    "duration": 4,
    "start_time": "2024-10-29T21:25:42.854Z"
   },
   {
    "duration": 53,
    "start_time": "2024-10-29T21:25:42.860Z"
   },
   {
    "duration": 24,
    "start_time": "2024-10-29T21:25:42.915Z"
   },
   {
    "duration": 5,
    "start_time": "2024-10-29T21:25:42.940Z"
   },
   {
    "duration": 152,
    "start_time": "2024-10-29T21:25:42.946Z"
   },
   {
    "duration": 13,
    "start_time": "2024-10-29T21:25:43.100Z"
   },
   {
    "duration": 11,
    "start_time": "2024-10-29T21:25:43.116Z"
   },
   {
    "duration": 29,
    "start_time": "2024-10-29T21:25:43.128Z"
   },
   {
    "duration": 8,
    "start_time": "2024-10-29T21:25:43.159Z"
   },
   {
    "duration": 24,
    "start_time": "2024-10-29T21:25:43.168Z"
   },
   {
    "duration": 6,
    "start_time": "2024-10-29T21:25:43.193Z"
   },
   {
    "duration": 5,
    "start_time": "2024-10-29T21:25:43.200Z"
   },
   {
    "duration": 13,
    "start_time": "2024-10-29T21:25:43.206Z"
   },
   {
    "duration": 8,
    "start_time": "2024-10-29T21:25:43.220Z"
   },
   {
    "duration": 27,
    "start_time": "2024-10-29T21:25:43.230Z"
   },
   {
    "duration": 4,
    "start_time": "2024-10-29T21:25:43.259Z"
   },
   {
    "duration": 6,
    "start_time": "2024-10-29T21:25:43.264Z"
   },
   {
    "duration": 113,
    "start_time": "2024-10-29T21:25:43.272Z"
   },
   {
    "duration": 5,
    "start_time": "2024-10-29T21:25:43.387Z"
   },
   {
    "duration": 1707,
    "start_time": "2024-10-29T21:25:43.393Z"
   },
   {
    "duration": 6,
    "start_time": "2024-10-29T21:25:45.102Z"
   },
   {
    "duration": 3065,
    "start_time": "2024-10-29T21:25:45.109Z"
   },
   {
    "duration": 22,
    "start_time": "2024-10-29T21:25:48.175Z"
   },
   {
    "duration": 6,
    "start_time": "2024-10-29T21:25:48.198Z"
   },
   {
    "duration": 181,
    "start_time": "2024-10-29T21:25:48.207Z"
   },
   {
    "duration": 190,
    "start_time": "2024-10-29T21:25:48.390Z"
   },
   {
    "duration": 3,
    "start_time": "2024-10-29T21:25:48.582Z"
   },
   {
    "duration": 6,
    "start_time": "2024-10-29T21:25:48.586Z"
   },
   {
    "duration": 9,
    "start_time": "2024-10-29T21:25:48.593Z"
   },
   {
    "duration": 322,
    "start_time": "2024-10-29T21:25:48.603Z"
   },
   {
    "duration": 14,
    "start_time": "2024-10-29T21:25:48.926Z"
   },
   {
    "duration": 21,
    "start_time": "2024-10-29T21:25:48.941Z"
   },
   {
    "duration": 896,
    "start_time": "2024-10-29T21:25:48.964Z"
   },
   {
    "duration": 4,
    "start_time": "2024-10-29T21:25:49.862Z"
   },
   {
    "duration": 22,
    "start_time": "2024-10-29T21:25:49.867Z"
   },
   {
    "duration": 766,
    "start_time": "2024-10-29T21:25:49.891Z"
   },
   {
    "duration": 15,
    "start_time": "2024-10-29T21:25:50.659Z"
   },
   {
    "duration": 797,
    "start_time": "2024-10-29T21:25:50.675Z"
   },
   {
    "duration": 8,
    "start_time": "2024-10-29T21:25:51.474Z"
   },
   {
    "duration": 148,
    "start_time": "2024-10-29T21:25:51.483Z"
   },
   {
    "duration": 130,
    "start_time": "2024-10-29T21:25:51.632Z"
   },
   {
    "duration": 0,
    "start_time": "2024-10-29T21:25:51.764Z"
   },
   {
    "duration": 0,
    "start_time": "2024-10-29T21:25:51.764Z"
   },
   {
    "duration": 0,
    "start_time": "2024-10-29T21:25:51.765Z"
   },
   {
    "duration": 0,
    "start_time": "2024-10-29T21:25:51.766Z"
   },
   {
    "duration": 0,
    "start_time": "2024-10-29T21:25:51.767Z"
   },
   {
    "duration": 0,
    "start_time": "2024-10-29T21:25:51.767Z"
   },
   {
    "duration": 0,
    "start_time": "2024-10-29T21:25:51.768Z"
   },
   {
    "duration": 0,
    "start_time": "2024-10-29T21:25:51.769Z"
   },
   {
    "duration": 0,
    "start_time": "2024-10-29T21:25:51.769Z"
   },
   {
    "duration": 0,
    "start_time": "2024-10-29T21:25:51.770Z"
   },
   {
    "duration": 0,
    "start_time": "2024-10-29T21:25:51.771Z"
   },
   {
    "duration": 0,
    "start_time": "2024-10-29T21:25:51.772Z"
   },
   {
    "duration": 0,
    "start_time": "2024-10-29T21:25:51.773Z"
   },
   {
    "duration": 0,
    "start_time": "2024-10-29T21:25:51.774Z"
   },
   {
    "duration": 0,
    "start_time": "2024-10-29T21:25:51.775Z"
   },
   {
    "duration": 0,
    "start_time": "2024-10-29T21:25:51.776Z"
   },
   {
    "duration": 0,
    "start_time": "2024-10-29T21:25:51.777Z"
   },
   {
    "duration": 0,
    "start_time": "2024-10-29T21:25:51.777Z"
   },
   {
    "duration": 0,
    "start_time": "2024-10-29T21:25:51.778Z"
   },
   {
    "duration": 0,
    "start_time": "2024-10-29T21:25:51.779Z"
   },
   {
    "duration": 0,
    "start_time": "2024-10-29T21:25:51.780Z"
   },
   {
    "duration": 0,
    "start_time": "2024-10-29T21:25:51.781Z"
   },
   {
    "duration": 0,
    "start_time": "2024-10-29T21:25:51.782Z"
   },
   {
    "duration": 0,
    "start_time": "2024-10-29T21:25:51.783Z"
   },
   {
    "duration": 0,
    "start_time": "2024-10-29T21:25:51.784Z"
   },
   {
    "duration": 0,
    "start_time": "2024-10-29T21:25:51.785Z"
   },
   {
    "duration": 0,
    "start_time": "2024-10-29T21:25:51.786Z"
   },
   {
    "duration": 0,
    "start_time": "2024-10-29T21:25:51.787Z"
   },
   {
    "duration": 0,
    "start_time": "2024-10-29T21:25:51.788Z"
   },
   {
    "duration": 0,
    "start_time": "2024-10-29T21:25:51.789Z"
   },
   {
    "duration": 0,
    "start_time": "2024-10-29T21:25:51.790Z"
   },
   {
    "duration": 0,
    "start_time": "2024-10-29T21:25:51.791Z"
   },
   {
    "duration": 0,
    "start_time": "2024-10-29T21:25:51.792Z"
   },
   {
    "duration": 0,
    "start_time": "2024-10-29T21:25:51.793Z"
   },
   {
    "duration": 0,
    "start_time": "2024-10-29T21:25:51.793Z"
   },
   {
    "duration": 0,
    "start_time": "2024-10-29T21:25:51.794Z"
   },
   {
    "duration": 0,
    "start_time": "2024-10-29T21:25:51.795Z"
   },
   {
    "duration": 0,
    "start_time": "2024-10-29T21:25:51.796Z"
   },
   {
    "duration": 0,
    "start_time": "2024-10-29T21:25:51.797Z"
   },
   {
    "duration": 0,
    "start_time": "2024-10-29T21:25:51.798Z"
   },
   {
    "duration": 0,
    "start_time": "2024-10-29T21:25:51.799Z"
   },
   {
    "duration": 0,
    "start_time": "2024-10-29T21:25:51.858Z"
   },
   {
    "duration": 0,
    "start_time": "2024-10-29T21:25:51.859Z"
   },
   {
    "duration": 0,
    "start_time": "2024-10-29T21:25:51.860Z"
   },
   {
    "duration": 0,
    "start_time": "2024-10-29T21:25:51.861Z"
   },
   {
    "duration": 0,
    "start_time": "2024-10-29T21:25:51.862Z"
   },
   {
    "duration": 0,
    "start_time": "2024-10-29T21:25:51.862Z"
   },
   {
    "duration": 0,
    "start_time": "2024-10-29T21:25:51.863Z"
   },
   {
    "duration": 0,
    "start_time": "2024-10-29T21:25:51.864Z"
   },
   {
    "duration": 0,
    "start_time": "2024-10-29T21:25:51.865Z"
   },
   {
    "duration": 0,
    "start_time": "2024-10-29T21:25:51.866Z"
   },
   {
    "duration": 0,
    "start_time": "2024-10-29T21:25:51.867Z"
   },
   {
    "duration": 0,
    "start_time": "2024-10-29T21:25:51.868Z"
   },
   {
    "duration": 0,
    "start_time": "2024-10-29T21:25:51.869Z"
   },
   {
    "duration": 0,
    "start_time": "2024-10-29T21:25:51.870Z"
   },
   {
    "duration": 0,
    "start_time": "2024-10-29T21:25:51.871Z"
   },
   {
    "duration": 1621,
    "start_time": "2024-10-29T21:27:50.174Z"
   },
   {
    "duration": 5,
    "start_time": "2024-10-29T21:27:51.796Z"
   },
   {
    "duration": 33,
    "start_time": "2024-10-29T21:27:51.803Z"
   },
   {
    "duration": 21,
    "start_time": "2024-10-29T21:27:51.839Z"
   },
   {
    "duration": 53,
    "start_time": "2024-10-29T21:27:51.862Z"
   },
   {
    "duration": 25,
    "start_time": "2024-10-29T21:27:51.917Z"
   },
   {
    "duration": 5,
    "start_time": "2024-10-29T21:27:51.944Z"
   },
   {
    "duration": 79,
    "start_time": "2024-10-29T21:27:51.950Z"
   },
   {
    "duration": 35,
    "start_time": "2024-10-29T21:27:52.031Z"
   },
   {
    "duration": 28,
    "start_time": "2024-10-29T21:27:52.068Z"
   },
   {
    "duration": 11,
    "start_time": "2024-10-29T21:27:52.097Z"
   },
   {
    "duration": 8,
    "start_time": "2024-10-29T21:27:52.110Z"
   },
   {
    "duration": 25,
    "start_time": "2024-10-29T21:27:52.119Z"
   },
   {
    "duration": 5,
    "start_time": "2024-10-29T21:27:52.146Z"
   },
   {
    "duration": 12,
    "start_time": "2024-10-29T21:27:52.153Z"
   },
   {
    "duration": 10,
    "start_time": "2024-10-29T21:27:52.166Z"
   },
   {
    "duration": 23,
    "start_time": "2024-10-29T21:27:52.177Z"
   },
   {
    "duration": 8,
    "start_time": "2024-10-29T21:27:52.201Z"
   },
   {
    "duration": 8,
    "start_time": "2024-10-29T21:27:52.210Z"
   },
   {
    "duration": 11,
    "start_time": "2024-10-29T21:27:52.219Z"
   },
   {
    "duration": 120,
    "start_time": "2024-10-29T21:27:52.231Z"
   },
   {
    "duration": 5,
    "start_time": "2024-10-29T21:27:52.352Z"
   },
   {
    "duration": 1724,
    "start_time": "2024-10-29T21:27:52.359Z"
   },
   {
    "duration": 5,
    "start_time": "2024-10-29T21:27:54.084Z"
   },
   {
    "duration": 2990,
    "start_time": "2024-10-29T21:27:54.090Z"
   },
   {
    "duration": 20,
    "start_time": "2024-10-29T21:27:57.082Z"
   },
   {
    "duration": 11,
    "start_time": "2024-10-29T21:27:57.103Z"
   },
   {
    "duration": 170,
    "start_time": "2024-10-29T21:27:57.117Z"
   },
   {
    "duration": 182,
    "start_time": "2024-10-29T21:27:57.288Z"
   },
   {
    "duration": 3,
    "start_time": "2024-10-29T21:27:57.471Z"
   },
   {
    "duration": 8,
    "start_time": "2024-10-29T21:27:57.476Z"
   },
   {
    "duration": 8,
    "start_time": "2024-10-29T21:27:57.485Z"
   },
   {
    "duration": 319,
    "start_time": "2024-10-29T21:27:57.494Z"
   },
   {
    "duration": 14,
    "start_time": "2024-10-29T21:27:57.814Z"
   },
   {
    "duration": 12,
    "start_time": "2024-10-29T21:27:57.829Z"
   },
   {
    "duration": 894,
    "start_time": "2024-10-29T21:27:57.842Z"
   },
   {
    "duration": 3,
    "start_time": "2024-10-29T21:27:58.738Z"
   },
   {
    "duration": 11,
    "start_time": "2024-10-29T21:27:58.742Z"
   },
   {
    "duration": 784,
    "start_time": "2024-10-29T21:27:58.754Z"
   },
   {
    "duration": 22,
    "start_time": "2024-10-29T21:27:59.539Z"
   },
   {
    "duration": 740,
    "start_time": "2024-10-29T21:27:59.562Z"
   },
   {
    "duration": 8,
    "start_time": "2024-10-29T21:28:00.304Z"
   },
   {
    "duration": 144,
    "start_time": "2024-10-29T21:28:00.313Z"
   },
   {
    "duration": 126,
    "start_time": "2024-10-29T21:28:00.458Z"
   },
   {
    "duration": 0,
    "start_time": "2024-10-29T21:28:00.586Z"
   },
   {
    "duration": 0,
    "start_time": "2024-10-29T21:28:00.587Z"
   },
   {
    "duration": 0,
    "start_time": "2024-10-29T21:28:00.588Z"
   },
   {
    "duration": 0,
    "start_time": "2024-10-29T21:28:00.589Z"
   },
   {
    "duration": 0,
    "start_time": "2024-10-29T21:28:00.590Z"
   },
   {
    "duration": 0,
    "start_time": "2024-10-29T21:28:00.591Z"
   },
   {
    "duration": 0,
    "start_time": "2024-10-29T21:28:00.591Z"
   },
   {
    "duration": 0,
    "start_time": "2024-10-29T21:28:00.592Z"
   },
   {
    "duration": 0,
    "start_time": "2024-10-29T21:28:00.593Z"
   },
   {
    "duration": 0,
    "start_time": "2024-10-29T21:28:00.594Z"
   },
   {
    "duration": 0,
    "start_time": "2024-10-29T21:28:00.595Z"
   },
   {
    "duration": 0,
    "start_time": "2024-10-29T21:28:00.596Z"
   },
   {
    "duration": 0,
    "start_time": "2024-10-29T21:28:00.597Z"
   },
   {
    "duration": 0,
    "start_time": "2024-10-29T21:28:00.597Z"
   },
   {
    "duration": 0,
    "start_time": "2024-10-29T21:28:00.598Z"
   },
   {
    "duration": 0,
    "start_time": "2024-10-29T21:28:00.599Z"
   },
   {
    "duration": 0,
    "start_time": "2024-10-29T21:28:00.600Z"
   },
   {
    "duration": 0,
    "start_time": "2024-10-29T21:28:00.600Z"
   },
   {
    "duration": 0,
    "start_time": "2024-10-29T21:28:00.601Z"
   },
   {
    "duration": 0,
    "start_time": "2024-10-29T21:28:00.602Z"
   },
   {
    "duration": 0,
    "start_time": "2024-10-29T21:28:00.603Z"
   },
   {
    "duration": 0,
    "start_time": "2024-10-29T21:28:00.604Z"
   },
   {
    "duration": 0,
    "start_time": "2024-10-29T21:28:00.605Z"
   },
   {
    "duration": 0,
    "start_time": "2024-10-29T21:28:00.605Z"
   },
   {
    "duration": 0,
    "start_time": "2024-10-29T21:28:00.606Z"
   },
   {
    "duration": 0,
    "start_time": "2024-10-29T21:28:00.607Z"
   },
   {
    "duration": 0,
    "start_time": "2024-10-29T21:28:00.608Z"
   },
   {
    "duration": 0,
    "start_time": "2024-10-29T21:28:00.609Z"
   },
   {
    "duration": 0,
    "start_time": "2024-10-29T21:28:00.609Z"
   },
   {
    "duration": 0,
    "start_time": "2024-10-29T21:28:00.610Z"
   },
   {
    "duration": 0,
    "start_time": "2024-10-29T21:28:00.657Z"
   },
   {
    "duration": 0,
    "start_time": "2024-10-29T21:28:00.659Z"
   },
   {
    "duration": 0,
    "start_time": "2024-10-29T21:28:00.659Z"
   },
   {
    "duration": 0,
    "start_time": "2024-10-29T21:28:00.660Z"
   },
   {
    "duration": 0,
    "start_time": "2024-10-29T21:28:00.661Z"
   },
   {
    "duration": 0,
    "start_time": "2024-10-29T21:28:00.662Z"
   },
   {
    "duration": 0,
    "start_time": "2024-10-29T21:28:00.663Z"
   },
   {
    "duration": 0,
    "start_time": "2024-10-29T21:28:00.664Z"
   },
   {
    "duration": 0,
    "start_time": "2024-10-29T21:28:00.665Z"
   },
   {
    "duration": 0,
    "start_time": "2024-10-29T21:28:00.666Z"
   },
   {
    "duration": 0,
    "start_time": "2024-10-29T21:28:00.667Z"
   },
   {
    "duration": 0,
    "start_time": "2024-10-29T21:28:00.667Z"
   },
   {
    "duration": 0,
    "start_time": "2024-10-29T21:28:00.668Z"
   },
   {
    "duration": 0,
    "start_time": "2024-10-29T21:28:00.669Z"
   },
   {
    "duration": 0,
    "start_time": "2024-10-29T21:28:00.670Z"
   },
   {
    "duration": 0,
    "start_time": "2024-10-29T21:28:00.671Z"
   },
   {
    "duration": 0,
    "start_time": "2024-10-29T21:28:00.672Z"
   },
   {
    "duration": 0,
    "start_time": "2024-10-29T21:28:00.673Z"
   },
   {
    "duration": 0,
    "start_time": "2024-10-29T21:28:00.673Z"
   },
   {
    "duration": 0,
    "start_time": "2024-10-29T21:28:00.674Z"
   },
   {
    "duration": 0,
    "start_time": "2024-10-29T21:28:00.675Z"
   },
   {
    "duration": 0,
    "start_time": "2024-10-29T21:28:00.676Z"
   },
   {
    "duration": 0,
    "start_time": "2024-10-29T21:28:00.677Z"
   },
   {
    "duration": 0,
    "start_time": "2024-10-29T21:28:00.678Z"
   },
   {
    "duration": 0,
    "start_time": "2024-10-29T21:28:00.679Z"
   },
   {
    "duration": 0,
    "start_time": "2024-10-29T21:28:00.680Z"
   },
   {
    "duration": 17,
    "start_time": "2024-10-29T21:50:04.565Z"
   },
   {
    "duration": 12,
    "start_time": "2024-10-29T21:50:06.389Z"
   },
   {
    "duration": 5,
    "start_time": "2024-10-29T21:50:33.035Z"
   },
   {
    "duration": 17,
    "start_time": "2024-10-29T21:50:35.479Z"
   },
   {
    "duration": 10,
    "start_time": "2024-10-29T21:50:40.229Z"
   },
   {
    "duration": 12,
    "start_time": "2024-10-29T21:50:48.434Z"
   },
   {
    "duration": 17,
    "start_time": "2024-10-29T21:50:51.980Z"
   },
   {
    "duration": 431,
    "start_time": "2024-10-29T21:50:56.515Z"
   },
   {
    "duration": 1673,
    "start_time": "2024-10-29T21:51:18.711Z"
   },
   {
    "duration": 4,
    "start_time": "2024-10-29T21:51:20.386Z"
   },
   {
    "duration": 13,
    "start_time": "2024-10-29T21:51:20.392Z"
   },
   {
    "duration": 5,
    "start_time": "2024-10-29T21:51:20.407Z"
   },
   {
    "duration": 49,
    "start_time": "2024-10-29T21:51:20.414Z"
   },
   {
    "duration": 25,
    "start_time": "2024-10-29T21:51:20.465Z"
   },
   {
    "duration": 5,
    "start_time": "2024-10-29T21:51:20.491Z"
   },
   {
    "duration": 78,
    "start_time": "2024-10-29T21:51:20.497Z"
   },
   {
    "duration": 17,
    "start_time": "2024-10-29T21:51:20.577Z"
   },
   {
    "duration": 11,
    "start_time": "2024-10-29T21:51:20.595Z"
   },
   {
    "duration": 14,
    "start_time": "2024-10-29T21:51:20.608Z"
   },
   {
    "duration": 35,
    "start_time": "2024-10-29T21:51:20.623Z"
   },
   {
    "duration": 23,
    "start_time": "2024-10-29T21:51:20.659Z"
   },
   {
    "duration": 5,
    "start_time": "2024-10-29T21:51:20.685Z"
   },
   {
    "duration": 4,
    "start_time": "2024-10-29T21:51:20.692Z"
   },
   {
    "duration": 5,
    "start_time": "2024-10-29T21:51:20.697Z"
   },
   {
    "duration": 11,
    "start_time": "2024-10-29T21:51:20.703Z"
   },
   {
    "duration": 3,
    "start_time": "2024-10-29T21:51:20.715Z"
   },
   {
    "duration": 14,
    "start_time": "2024-10-29T21:51:20.720Z"
   },
   {
    "duration": 26,
    "start_time": "2024-10-29T21:51:20.736Z"
   },
   {
    "duration": 149,
    "start_time": "2024-10-29T21:51:20.763Z"
   },
   {
    "duration": 6,
    "start_time": "2024-10-29T21:51:20.913Z"
   },
   {
    "duration": 1686,
    "start_time": "2024-10-29T21:51:20.920Z"
   },
   {
    "duration": 4,
    "start_time": "2024-10-29T21:51:22.608Z"
   },
   {
    "duration": 2991,
    "start_time": "2024-10-29T21:51:22.614Z"
   },
   {
    "duration": 23,
    "start_time": "2024-10-29T21:51:25.606Z"
   },
   {
    "duration": 8,
    "start_time": "2024-10-29T21:51:25.630Z"
   },
   {
    "duration": 190,
    "start_time": "2024-10-29T21:51:25.640Z"
   },
   {
    "duration": 182,
    "start_time": "2024-10-29T21:51:25.831Z"
   },
   {
    "duration": 3,
    "start_time": "2024-10-29T21:51:26.015Z"
   },
   {
    "duration": 16,
    "start_time": "2024-10-29T21:51:26.019Z"
   },
   {
    "duration": 9,
    "start_time": "2024-10-29T21:51:26.036Z"
   },
   {
    "duration": 299,
    "start_time": "2024-10-29T21:51:26.047Z"
   },
   {
    "duration": 21,
    "start_time": "2024-10-29T21:51:26.348Z"
   },
   {
    "duration": 9,
    "start_time": "2024-10-29T21:51:26.370Z"
   },
   {
    "duration": 863,
    "start_time": "2024-10-29T21:51:26.381Z"
   },
   {
    "duration": 3,
    "start_time": "2024-10-29T21:51:27.245Z"
   },
   {
    "duration": 9,
    "start_time": "2024-10-29T21:51:27.249Z"
   },
   {
    "duration": 780,
    "start_time": "2024-10-29T21:51:27.259Z"
   },
   {
    "duration": 21,
    "start_time": "2024-10-29T21:51:28.040Z"
   },
   {
    "duration": 743,
    "start_time": "2024-10-29T21:51:28.065Z"
   },
   {
    "duration": 8,
    "start_time": "2024-10-29T21:51:28.809Z"
   },
   {
    "duration": 150,
    "start_time": "2024-10-29T21:51:28.818Z"
   },
   {
    "duration": 16,
    "start_time": "2024-10-29T21:51:28.969Z"
   },
   {
    "duration": 5,
    "start_time": "2024-10-29T21:51:28.986Z"
   },
   {
    "duration": 17,
    "start_time": "2024-10-29T21:51:28.992Z"
   },
   {
    "duration": 17,
    "start_time": "2024-10-29T21:51:29.010Z"
   },
   {
    "duration": 9,
    "start_time": "2024-10-29T21:51:29.028Z"
   },
   {
    "duration": 82,
    "start_time": "2024-10-29T21:51:29.038Z"
   },
   {
    "duration": 405,
    "start_time": "2024-10-29T21:51:29.122Z"
   },
   {
    "duration": 7,
    "start_time": "2024-10-29T21:51:29.529Z"
   },
   {
    "duration": 374,
    "start_time": "2024-10-29T21:51:29.537Z"
   },
   {
    "duration": 161,
    "start_time": "2024-10-29T21:51:29.912Z"
   },
   {
    "duration": 6,
    "start_time": "2024-10-29T21:51:30.074Z"
   },
   {
    "duration": 104,
    "start_time": "2024-10-29T21:51:30.081Z"
   },
   {
    "duration": 235,
    "start_time": "2024-10-29T21:51:30.186Z"
   },
   {
    "duration": 9,
    "start_time": "2024-10-29T21:51:30.422Z"
   },
   {
    "duration": 11,
    "start_time": "2024-10-29T21:51:30.432Z"
   },
   {
    "duration": 12,
    "start_time": "2024-10-29T21:51:30.445Z"
   },
   {
    "duration": 30,
    "start_time": "2024-10-29T21:51:30.459Z"
   },
   {
    "duration": 39,
    "start_time": "2024-10-29T21:51:30.491Z"
   },
   {
    "duration": 5,
    "start_time": "2024-10-29T21:51:30.532Z"
   },
   {
    "duration": 32,
    "start_time": "2024-10-29T21:51:30.538Z"
   },
   {
    "duration": 23,
    "start_time": "2024-10-29T21:51:30.571Z"
   },
   {
    "duration": 45,
    "start_time": "2024-10-29T21:51:30.595Z"
   },
   {
    "duration": 30,
    "start_time": "2024-10-29T21:51:30.642Z"
   },
   {
    "duration": 33,
    "start_time": "2024-10-29T21:51:30.673Z"
   },
   {
    "duration": 2,
    "start_time": "2024-10-29T21:51:30.707Z"
   },
   {
    "duration": 8,
    "start_time": "2024-10-29T21:51:30.711Z"
   },
   {
    "duration": 305,
    "start_time": "2024-10-29T21:51:30.720Z"
   },
   {
    "duration": 16,
    "start_time": "2024-10-29T21:51:31.026Z"
   },
   {
    "duration": 488,
    "start_time": "2024-10-29T21:51:31.044Z"
   },
   {
    "duration": 28,
    "start_time": "2024-10-29T21:51:31.534Z"
   },
   {
    "duration": 16,
    "start_time": "2024-10-29T21:51:31.563Z"
   },
   {
    "duration": 14,
    "start_time": "2024-10-29T21:51:31.580Z"
   },
   {
    "duration": 21,
    "start_time": "2024-10-29T21:51:31.595Z"
   },
   {
    "duration": 496,
    "start_time": "2024-10-29T21:51:31.618Z"
   },
   {
    "duration": 480,
    "start_time": "2024-10-29T21:51:32.115Z"
   },
   {
    "duration": 8,
    "start_time": "2024-10-29T21:51:32.596Z"
   },
   {
    "duration": 408,
    "start_time": "2024-10-29T21:51:32.657Z"
   },
   {
    "duration": 10,
    "start_time": "2024-10-29T21:51:33.067Z"
   },
   {
    "duration": 363,
    "start_time": "2024-10-29T21:51:33.078Z"
   },
   {
    "duration": 15,
    "start_time": "2024-10-29T21:51:33.442Z"
   },
   {
    "duration": 6,
    "start_time": "2024-10-29T21:51:33.458Z"
   },
   {
    "duration": 19,
    "start_time": "2024-10-29T21:51:33.465Z"
   },
   {
    "duration": 23,
    "start_time": "2024-10-29T21:51:33.485Z"
   },
   {
    "duration": 139,
    "start_time": "2024-10-29T21:51:33.509Z"
   },
   {
    "duration": 318,
    "start_time": "2024-10-29T21:51:33.649Z"
   },
   {
    "duration": 9,
    "start_time": "2024-10-29T21:51:33.968Z"
   },
   {
    "duration": 73,
    "start_time": "2024-10-29T21:51:33.978Z"
   },
   {
    "duration": 314,
    "start_time": "2024-10-29T21:51:34.052Z"
   },
   {
    "duration": 9,
    "start_time": "2024-10-29T21:51:34.367Z"
   },
   {
    "duration": 70,
    "start_time": "2024-10-29T21:51:34.378Z"
   },
   {
    "duration": 315,
    "start_time": "2024-10-29T21:51:34.450Z"
   },
   {
    "duration": 10,
    "start_time": "2024-10-29T21:51:34.767Z"
   },
   {
    "duration": 118,
    "start_time": "2024-10-29T21:51:34.778Z"
   },
   {
    "duration": 351,
    "start_time": "2024-10-29T21:51:34.898Z"
   },
   {
    "duration": 7,
    "start_time": "2024-10-29T21:51:35.251Z"
   },
   {
    "duration": 16,
    "start_time": "2024-10-29T21:51:35.260Z"
   },
   {
    "duration": 14,
    "start_time": "2024-10-29T21:51:35.278Z"
   },
   {
    "duration": 26,
    "start_time": "2024-10-29T21:51:35.294Z"
   },
   {
    "duration": 14,
    "start_time": "2024-10-29T21:51:35.321Z"
   },
   {
    "duration": 5,
    "start_time": "2024-10-29T21:53:21.325Z"
   },
   {
    "duration": 6,
    "start_time": "2024-10-29T21:54:03.344Z"
   },
   {
    "duration": 8,
    "start_time": "2024-10-29T21:54:06.859Z"
   },
   {
    "duration": 8,
    "start_time": "2024-10-29T21:54:17.394Z"
   },
   {
    "duration": 390,
    "start_time": "2024-10-29T21:54:23.490Z"
   },
   {
    "duration": 457,
    "start_time": "2024-10-29T21:54:32.439Z"
   },
   {
    "duration": 323,
    "start_time": "2024-10-29T21:54:42.314Z"
   },
   {
    "duration": 371,
    "start_time": "2024-10-29T21:54:50.300Z"
   },
   {
    "duration": 141,
    "start_time": "2024-10-29T21:54:53.950Z"
   },
   {
    "duration": 1083,
    "start_time": "2024-10-29T22:00:29.705Z"
   },
   {
    "duration": 1627,
    "start_time": "2024-10-29T22:00:36.165Z"
   },
   {
    "duration": 4,
    "start_time": "2024-10-29T22:00:37.794Z"
   },
   {
    "duration": 67,
    "start_time": "2024-10-29T22:00:37.800Z"
   },
   {
    "duration": 12,
    "start_time": "2024-10-29T22:00:37.869Z"
   },
   {
    "duration": 64,
    "start_time": "2024-10-29T22:00:37.883Z"
   },
   {
    "duration": 24,
    "start_time": "2024-10-29T22:00:37.949Z"
   },
   {
    "duration": 4,
    "start_time": "2024-10-29T22:00:37.975Z"
   },
   {
    "duration": 82,
    "start_time": "2024-10-29T22:00:37.980Z"
   },
   {
    "duration": 12,
    "start_time": "2024-10-29T22:00:38.063Z"
   },
   {
    "duration": 14,
    "start_time": "2024-10-29T22:00:38.078Z"
   },
   {
    "duration": 15,
    "start_time": "2024-10-29T22:00:38.094Z"
   },
   {
    "duration": 8,
    "start_time": "2024-10-29T22:00:38.110Z"
   },
   {
    "duration": 132,
    "start_time": "2024-10-29T22:00:38.119Z"
   },
   {
    "duration": 8,
    "start_time": "2024-10-29T22:00:38.253Z"
   },
   {
    "duration": 27,
    "start_time": "2024-10-29T22:00:38.262Z"
   },
   {
    "duration": 17,
    "start_time": "2024-10-29T22:00:38.291Z"
   },
   {
    "duration": 7,
    "start_time": "2024-10-29T22:00:38.310Z"
   },
   {
    "duration": 4,
    "start_time": "2024-10-29T22:00:38.318Z"
   },
   {
    "duration": 18,
    "start_time": "2024-10-29T22:00:38.324Z"
   },
   {
    "duration": 9,
    "start_time": "2024-10-29T22:00:38.344Z"
   },
   {
    "duration": 128,
    "start_time": "2024-10-29T22:00:38.354Z"
   },
   {
    "duration": 6,
    "start_time": "2024-10-29T22:00:38.484Z"
   },
   {
    "duration": 1697,
    "start_time": "2024-10-29T22:00:38.491Z"
   },
   {
    "duration": 5,
    "start_time": "2024-10-29T22:00:40.190Z"
   },
   {
    "duration": 2946,
    "start_time": "2024-10-29T22:00:40.196Z"
   },
   {
    "duration": 24,
    "start_time": "2024-10-29T22:00:43.144Z"
   },
   {
    "duration": 24,
    "start_time": "2024-10-29T22:00:43.170Z"
   },
   {
    "duration": 168,
    "start_time": "2024-10-29T22:00:43.197Z"
   },
   {
    "duration": 178,
    "start_time": "2024-10-29T22:00:43.366Z"
   },
   {
    "duration": 3,
    "start_time": "2024-10-29T22:00:43.545Z"
   },
   {
    "duration": 13,
    "start_time": "2024-10-29T22:00:43.549Z"
   },
   {
    "duration": 14,
    "start_time": "2024-10-29T22:00:43.563Z"
   },
   {
    "duration": 280,
    "start_time": "2024-10-29T22:00:43.579Z"
   },
   {
    "duration": 14,
    "start_time": "2024-10-29T22:00:43.861Z"
   },
   {
    "duration": 10,
    "start_time": "2024-10-29T22:00:43.877Z"
   },
   {
    "duration": 871,
    "start_time": "2024-10-29T22:00:43.889Z"
   },
   {
    "duration": 4,
    "start_time": "2024-10-29T22:00:44.761Z"
   },
   {
    "duration": 62,
    "start_time": "2024-10-29T22:00:44.767Z"
   },
   {
    "duration": 904,
    "start_time": "2024-10-29T22:00:44.831Z"
   },
   {
    "duration": 25,
    "start_time": "2024-10-29T22:00:45.737Z"
   },
   {
    "duration": 743,
    "start_time": "2024-10-29T22:00:45.763Z"
   },
   {
    "duration": 9,
    "start_time": "2024-10-29T22:00:46.508Z"
   },
   {
    "duration": 133,
    "start_time": "2024-10-29T22:00:46.518Z"
   },
   {
    "duration": 17,
    "start_time": "2024-10-29T22:00:46.653Z"
   },
   {
    "duration": 4,
    "start_time": "2024-10-29T22:00:46.672Z"
   },
   {
    "duration": 16,
    "start_time": "2024-10-29T22:00:46.677Z"
   },
   {
    "duration": 9,
    "start_time": "2024-10-29T22:00:46.695Z"
   },
   {
    "duration": 10,
    "start_time": "2024-10-29T22:00:46.705Z"
   },
   {
    "duration": 41,
    "start_time": "2024-10-29T22:00:46.716Z"
   },
   {
    "duration": 406,
    "start_time": "2024-10-29T22:00:46.758Z"
   },
   {
    "duration": 7,
    "start_time": "2024-10-29T22:00:47.166Z"
   },
   {
    "duration": 401,
    "start_time": "2024-10-29T22:00:47.174Z"
   },
   {
    "duration": 141,
    "start_time": "2024-10-29T22:00:47.576Z"
   },
   {
    "duration": 5,
    "start_time": "2024-10-29T22:00:47.718Z"
   },
   {
    "duration": 3,
    "start_time": "2024-10-29T22:00:47.724Z"
   },
   {
    "duration": 198,
    "start_time": "2024-10-29T22:00:47.728Z"
   },
   {
    "duration": 8,
    "start_time": "2024-10-29T22:00:47.928Z"
   },
   {
    "duration": 20,
    "start_time": "2024-10-29T22:00:47.937Z"
   },
   {
    "duration": 15,
    "start_time": "2024-10-29T22:00:47.958Z"
   },
   {
    "duration": 13,
    "start_time": "2024-10-29T22:00:47.974Z"
   },
   {
    "duration": 19,
    "start_time": "2024-10-29T22:00:47.989Z"
   },
   {
    "duration": 3,
    "start_time": "2024-10-29T22:00:48.009Z"
   },
   {
    "duration": 16,
    "start_time": "2024-10-29T22:00:48.013Z"
   },
   {
    "duration": 20,
    "start_time": "2024-10-29T22:00:48.030Z"
   },
   {
    "duration": 3,
    "start_time": "2024-10-29T22:00:48.051Z"
   },
   {
    "duration": 12,
    "start_time": "2024-10-29T22:00:48.057Z"
   },
   {
    "duration": 15,
    "start_time": "2024-10-29T22:00:48.070Z"
   },
   {
    "duration": 2,
    "start_time": "2024-10-29T22:00:48.086Z"
   },
   {
    "duration": 22,
    "start_time": "2024-10-29T22:00:48.089Z"
   },
   {
    "duration": 319,
    "start_time": "2024-10-29T22:00:48.112Z"
   },
   {
    "duration": 36,
    "start_time": "2024-10-29T22:00:48.433Z"
   },
   {
    "duration": 440,
    "start_time": "2024-10-29T22:00:48.471Z"
   },
   {
    "duration": 22,
    "start_time": "2024-10-29T22:00:48.913Z"
   },
   {
    "duration": 50,
    "start_time": "2024-10-29T22:00:48.937Z"
   },
   {
    "duration": 13,
    "start_time": "2024-10-29T22:00:48.988Z"
   },
   {
    "duration": 11,
    "start_time": "2024-10-29T22:00:49.003Z"
   },
   {
    "duration": 453,
    "start_time": "2024-10-29T22:00:49.015Z"
   },
   {
    "duration": 490,
    "start_time": "2024-10-29T22:00:49.469Z"
   },
   {
    "duration": 8,
    "start_time": "2024-10-29T22:00:49.960Z"
   },
   {
    "duration": 269,
    "start_time": "2024-10-29T22:00:49.969Z"
   },
   {
    "duration": 10,
    "start_time": "2024-10-29T22:00:50.239Z"
   },
   {
    "duration": 296,
    "start_time": "2024-10-29T22:00:50.261Z"
   },
   {
    "duration": 5,
    "start_time": "2024-10-29T22:00:50.559Z"
   },
   {
    "duration": 43,
    "start_time": "2024-10-29T22:00:50.566Z"
   },
   {
    "duration": 45,
    "start_time": "2024-10-29T22:00:50.610Z"
   },
   {
    "duration": 30,
    "start_time": "2024-10-29T22:00:50.656Z"
   },
   {
    "duration": 147,
    "start_time": "2024-10-29T22:00:50.688Z"
   },
   {
    "duration": 323,
    "start_time": "2024-10-29T22:00:50.836Z"
   },
   {
    "duration": 10,
    "start_time": "2024-10-29T22:00:51.160Z"
   },
   {
    "duration": 76,
    "start_time": "2024-10-29T22:00:51.171Z"
   },
   {
    "duration": 305,
    "start_time": "2024-10-29T22:00:51.249Z"
   },
   {
    "duration": 9,
    "start_time": "2024-10-29T22:00:51.557Z"
   },
   {
    "duration": 53,
    "start_time": "2024-10-29T22:00:51.568Z"
   },
   {
    "duration": 322,
    "start_time": "2024-10-29T22:00:51.622Z"
   },
   {
    "duration": 13,
    "start_time": "2024-10-29T22:00:51.945Z"
   },
   {
    "duration": 67,
    "start_time": "2024-10-29T22:00:51.959Z"
   },
   {
    "duration": 339,
    "start_time": "2024-10-29T22:00:52.027Z"
   },
   {
    "duration": 3,
    "start_time": "2024-10-29T22:00:52.367Z"
   },
   {
    "duration": 17,
    "start_time": "2024-10-29T22:00:52.372Z"
   },
   {
    "duration": 15,
    "start_time": "2024-10-29T22:00:52.391Z"
   },
   {
    "duration": 20,
    "start_time": "2024-10-29T22:00:52.408Z"
   },
   {
    "duration": 38,
    "start_time": "2024-10-29T22:00:52.429Z"
   },
   {
    "duration": 1069,
    "start_time": "2024-10-29T22:04:19.405Z"
   },
   {
    "duration": 1683,
    "start_time": "2024-10-29T22:05:30.136Z"
   },
   {
    "duration": 4,
    "start_time": "2024-10-29T22:05:31.820Z"
   },
   {
    "duration": 5,
    "start_time": "2024-10-29T22:05:31.825Z"
   },
   {
    "duration": 9,
    "start_time": "2024-10-29T22:05:31.831Z"
   },
   {
    "duration": 63,
    "start_time": "2024-10-29T22:05:31.842Z"
   },
   {
    "duration": 25,
    "start_time": "2024-10-29T22:05:31.906Z"
   },
   {
    "duration": 4,
    "start_time": "2024-10-29T22:05:31.932Z"
   },
   {
    "duration": 59,
    "start_time": "2024-10-29T22:05:31.938Z"
   },
   {
    "duration": 13,
    "start_time": "2024-10-29T22:05:31.998Z"
   },
   {
    "duration": 33,
    "start_time": "2024-10-29T22:05:32.012Z"
   },
   {
    "duration": 10,
    "start_time": "2024-10-29T22:05:32.047Z"
   },
   {
    "duration": 11,
    "start_time": "2024-10-29T22:05:32.058Z"
   },
   {
    "duration": 41,
    "start_time": "2024-10-29T22:05:32.070Z"
   },
   {
    "duration": 45,
    "start_time": "2024-10-29T22:05:32.114Z"
   },
   {
    "duration": 46,
    "start_time": "2024-10-29T22:05:32.160Z"
   },
   {
    "duration": 22,
    "start_time": "2024-10-29T22:05:32.208Z"
   },
   {
    "duration": 16,
    "start_time": "2024-10-29T22:05:32.257Z"
   },
   {
    "duration": 25,
    "start_time": "2024-10-29T22:05:32.274Z"
   },
   {
    "duration": 61,
    "start_time": "2024-10-29T22:05:32.301Z"
   },
   {
    "duration": 8,
    "start_time": "2024-10-29T22:05:32.363Z"
   },
   {
    "duration": 144,
    "start_time": "2024-10-29T22:05:32.372Z"
   },
   {
    "duration": 5,
    "start_time": "2024-10-29T22:05:32.518Z"
   },
   {
    "duration": 1808,
    "start_time": "2024-10-29T22:05:32.557Z"
   },
   {
    "duration": 5,
    "start_time": "2024-10-29T22:05:34.367Z"
   },
   {
    "duration": 2999,
    "start_time": "2024-10-29T22:05:34.373Z"
   },
   {
    "duration": 23,
    "start_time": "2024-10-29T22:05:37.374Z"
   },
   {
    "duration": 24,
    "start_time": "2024-10-29T22:05:37.398Z"
   },
   {
    "duration": 172,
    "start_time": "2024-10-29T22:05:37.424Z"
   },
   {
    "duration": 180,
    "start_time": "2024-10-29T22:05:37.597Z"
   },
   {
    "duration": 3,
    "start_time": "2024-10-29T22:05:37.778Z"
   },
   {
    "duration": 17,
    "start_time": "2024-10-29T22:05:37.783Z"
   },
   {
    "duration": 14,
    "start_time": "2024-10-29T22:05:37.801Z"
   },
   {
    "duration": 316,
    "start_time": "2024-10-29T22:05:37.817Z"
   },
   {
    "duration": 26,
    "start_time": "2024-10-29T22:05:38.134Z"
   },
   {
    "duration": 60,
    "start_time": "2024-10-29T22:05:38.161Z"
   },
   {
    "duration": 893,
    "start_time": "2024-10-29T22:05:38.223Z"
   },
   {
    "duration": 4,
    "start_time": "2024-10-29T22:05:39.117Z"
   },
   {
    "duration": 78,
    "start_time": "2024-10-29T22:05:39.122Z"
   },
   {
    "duration": 749,
    "start_time": "2024-10-29T22:05:39.202Z"
   },
   {
    "duration": 13,
    "start_time": "2024-10-29T22:05:39.956Z"
   },
   {
    "duration": 741,
    "start_time": "2024-10-29T22:05:39.973Z"
   },
   {
    "duration": 9,
    "start_time": "2024-10-29T22:05:40.716Z"
   },
   {
    "duration": 133,
    "start_time": "2024-10-29T22:05:40.726Z"
   },
   {
    "duration": 17,
    "start_time": "2024-10-29T22:05:40.860Z"
   },
   {
    "duration": 4,
    "start_time": "2024-10-29T22:05:40.878Z"
   },
   {
    "duration": 17,
    "start_time": "2024-10-29T22:05:40.884Z"
   },
   {
    "duration": 9,
    "start_time": "2024-10-29T22:05:40.903Z"
   },
   {
    "duration": 95,
    "start_time": "2024-10-29T22:05:40.913Z"
   },
   {
    "duration": 14,
    "start_time": "2024-10-29T22:05:41.009Z"
   },
   {
    "duration": 417,
    "start_time": "2024-10-29T22:05:41.025Z"
   },
   {
    "duration": 15,
    "start_time": "2024-10-29T22:05:41.443Z"
   },
   {
    "duration": 355,
    "start_time": "2024-10-29T22:05:41.459Z"
   },
   {
    "duration": 141,
    "start_time": "2024-10-29T22:05:41.816Z"
   },
   {
    "duration": 5,
    "start_time": "2024-10-29T22:05:41.959Z"
   },
   {
    "duration": 2,
    "start_time": "2024-10-29T22:05:41.965Z"
   },
   {
    "duration": 203,
    "start_time": "2024-10-29T22:05:41.969Z"
   },
   {
    "duration": 8,
    "start_time": "2024-10-29T22:05:42.174Z"
   },
   {
    "duration": 18,
    "start_time": "2024-10-29T22:05:42.184Z"
   },
   {
    "duration": 8,
    "start_time": "2024-10-29T22:05:42.203Z"
   },
   {
    "duration": 16,
    "start_time": "2024-10-29T22:05:42.212Z"
   },
   {
    "duration": 144,
    "start_time": "2024-10-29T22:05:42.229Z"
   },
   {
    "duration": 0,
    "start_time": "2024-10-29T22:05:42.374Z"
   },
   {
    "duration": 0,
    "start_time": "2024-10-29T22:05:42.375Z"
   },
   {
    "duration": 0,
    "start_time": "2024-10-29T22:05:42.376Z"
   },
   {
    "duration": 0,
    "start_time": "2024-10-29T22:05:42.377Z"
   },
   {
    "duration": 0,
    "start_time": "2024-10-29T22:05:42.378Z"
   },
   {
    "duration": 0,
    "start_time": "2024-10-29T22:05:42.379Z"
   },
   {
    "duration": 0,
    "start_time": "2024-10-29T22:05:42.380Z"
   },
   {
    "duration": 0,
    "start_time": "2024-10-29T22:05:42.381Z"
   },
   {
    "duration": 0,
    "start_time": "2024-10-29T22:05:42.381Z"
   },
   {
    "duration": 0,
    "start_time": "2024-10-29T22:05:42.382Z"
   },
   {
    "duration": 0,
    "start_time": "2024-10-29T22:05:42.383Z"
   },
   {
    "duration": 0,
    "start_time": "2024-10-29T22:05:42.384Z"
   },
   {
    "duration": 0,
    "start_time": "2024-10-29T22:05:42.385Z"
   },
   {
    "duration": 0,
    "start_time": "2024-10-29T22:05:42.386Z"
   },
   {
    "duration": 0,
    "start_time": "2024-10-29T22:05:42.387Z"
   },
   {
    "duration": 0,
    "start_time": "2024-10-29T22:05:42.388Z"
   },
   {
    "duration": 0,
    "start_time": "2024-10-29T22:05:42.388Z"
   },
   {
    "duration": 0,
    "start_time": "2024-10-29T22:05:42.389Z"
   },
   {
    "duration": 0,
    "start_time": "2024-10-29T22:05:42.390Z"
   },
   {
    "duration": 0,
    "start_time": "2024-10-29T22:05:42.391Z"
   },
   {
    "duration": 0,
    "start_time": "2024-10-29T22:05:42.392Z"
   },
   {
    "duration": 0,
    "start_time": "2024-10-29T22:05:42.393Z"
   },
   {
    "duration": 0,
    "start_time": "2024-10-29T22:05:42.393Z"
   },
   {
    "duration": 0,
    "start_time": "2024-10-29T22:05:42.394Z"
   },
   {
    "duration": 0,
    "start_time": "2024-10-29T22:05:42.395Z"
   },
   {
    "duration": 0,
    "start_time": "2024-10-29T22:05:42.396Z"
   },
   {
    "duration": 0,
    "start_time": "2024-10-29T22:05:42.397Z"
   },
   {
    "duration": 0,
    "start_time": "2024-10-29T22:05:42.398Z"
   },
   {
    "duration": 0,
    "start_time": "2024-10-29T22:05:42.398Z"
   },
   {
    "duration": 0,
    "start_time": "2024-10-29T22:05:42.399Z"
   },
   {
    "duration": 0,
    "start_time": "2024-10-29T22:05:42.400Z"
   },
   {
    "duration": 0,
    "start_time": "2024-10-29T22:05:42.401Z"
   },
   {
    "duration": 0,
    "start_time": "2024-10-29T22:05:42.402Z"
   },
   {
    "duration": 0,
    "start_time": "2024-10-29T22:05:42.402Z"
   },
   {
    "duration": 0,
    "start_time": "2024-10-29T22:05:42.403Z"
   },
   {
    "duration": 0,
    "start_time": "2024-10-29T22:05:42.404Z"
   },
   {
    "duration": 0,
    "start_time": "2024-10-29T22:05:42.405Z"
   },
   {
    "duration": 1,
    "start_time": "2024-10-29T22:05:42.457Z"
   },
   {
    "duration": 0,
    "start_time": "2024-10-29T22:05:42.458Z"
   },
   {
    "duration": 0,
    "start_time": "2024-10-29T22:05:42.459Z"
   },
   {
    "duration": 0,
    "start_time": "2024-10-29T22:05:42.460Z"
   },
   {
    "duration": 1692,
    "start_time": "2024-10-29T22:06:26.119Z"
   },
   {
    "duration": 4,
    "start_time": "2024-10-29T22:06:27.813Z"
   },
   {
    "duration": 7,
    "start_time": "2024-10-29T22:06:27.819Z"
   },
   {
    "duration": 7,
    "start_time": "2024-10-29T22:06:27.827Z"
   },
   {
    "duration": 54,
    "start_time": "2024-10-29T22:06:27.836Z"
   },
   {
    "duration": 25,
    "start_time": "2024-10-29T22:06:27.891Z"
   },
   {
    "duration": 5,
    "start_time": "2024-10-29T22:06:27.917Z"
   },
   {
    "duration": 68,
    "start_time": "2024-10-29T22:06:27.923Z"
   },
   {
    "duration": 12,
    "start_time": "2024-10-29T22:06:27.992Z"
   },
   {
    "duration": 11,
    "start_time": "2024-10-29T22:06:28.005Z"
   },
   {
    "duration": 9,
    "start_time": "2024-10-29T22:06:28.018Z"
   },
   {
    "duration": 34,
    "start_time": "2024-10-29T22:06:28.029Z"
   },
   {
    "duration": 22,
    "start_time": "2024-10-29T22:06:28.064Z"
   },
   {
    "duration": 6,
    "start_time": "2024-10-29T22:06:28.089Z"
   },
   {
    "duration": 11,
    "start_time": "2024-10-29T22:06:28.096Z"
   },
   {
    "duration": 4,
    "start_time": "2024-10-29T22:06:28.108Z"
   },
   {
    "duration": 7,
    "start_time": "2024-10-29T22:06:28.113Z"
   },
   {
    "duration": 78,
    "start_time": "2024-10-29T22:06:28.121Z"
   },
   {
    "duration": 14,
    "start_time": "2024-10-29T22:06:28.200Z"
   },
   {
    "duration": 7,
    "start_time": "2024-10-29T22:06:28.216Z"
   },
   {
    "duration": 118,
    "start_time": "2024-10-29T22:06:28.224Z"
   },
   {
    "duration": 6,
    "start_time": "2024-10-29T22:06:28.344Z"
   },
   {
    "duration": 1725,
    "start_time": "2024-10-29T22:06:28.351Z"
   },
   {
    "duration": 6,
    "start_time": "2024-10-29T22:06:30.077Z"
   },
   {
    "duration": 3118,
    "start_time": "2024-10-29T22:06:30.084Z"
   },
   {
    "duration": 22,
    "start_time": "2024-10-29T22:06:33.204Z"
   },
   {
    "duration": 16,
    "start_time": "2024-10-29T22:06:33.227Z"
   },
   {
    "duration": 182,
    "start_time": "2024-10-29T22:06:33.244Z"
   },
   {
    "duration": 178,
    "start_time": "2024-10-29T22:06:33.428Z"
   },
   {
    "duration": 3,
    "start_time": "2024-10-29T22:06:33.607Z"
   },
   {
    "duration": 22,
    "start_time": "2024-10-29T22:06:33.612Z"
   },
   {
    "duration": 12,
    "start_time": "2024-10-29T22:06:33.635Z"
   },
   {
    "duration": 291,
    "start_time": "2024-10-29T22:06:33.648Z"
   },
   {
    "duration": 24,
    "start_time": "2024-10-29T22:06:33.940Z"
   },
   {
    "duration": 9,
    "start_time": "2024-10-29T22:06:33.965Z"
   },
   {
    "duration": 892,
    "start_time": "2024-10-29T22:06:33.976Z"
   },
   {
    "duration": 4,
    "start_time": "2024-10-29T22:06:34.869Z"
   },
   {
    "duration": 21,
    "start_time": "2024-10-29T22:06:34.874Z"
   },
   {
    "duration": 865,
    "start_time": "2024-10-29T22:06:34.896Z"
   },
   {
    "duration": 14,
    "start_time": "2024-10-29T22:06:35.762Z"
   },
   {
    "duration": 735,
    "start_time": "2024-10-29T22:06:35.781Z"
   },
   {
    "duration": 9,
    "start_time": "2024-10-29T22:06:36.517Z"
   },
   {
    "duration": 132,
    "start_time": "2024-10-29T22:06:36.527Z"
   },
   {
    "duration": 15,
    "start_time": "2024-10-29T22:06:36.661Z"
   },
   {
    "duration": 4,
    "start_time": "2024-10-29T22:06:36.678Z"
   },
   {
    "duration": 37,
    "start_time": "2024-10-29T22:06:36.683Z"
   },
   {
    "duration": 9,
    "start_time": "2024-10-29T22:06:36.721Z"
   },
   {
    "duration": 14,
    "start_time": "2024-10-29T22:06:36.731Z"
   },
   {
    "duration": 15,
    "start_time": "2024-10-29T22:06:36.747Z"
   },
   {
    "duration": 457,
    "start_time": "2024-10-29T22:06:36.763Z"
   },
   {
    "duration": 8,
    "start_time": "2024-10-29T22:06:37.221Z"
   },
   {
    "duration": 363,
    "start_time": "2024-10-29T22:06:37.230Z"
   },
   {
    "duration": 150,
    "start_time": "2024-10-29T22:06:37.595Z"
   },
   {
    "duration": 5,
    "start_time": "2024-10-29T22:06:37.746Z"
   },
   {
    "duration": 16,
    "start_time": "2024-10-29T22:06:37.752Z"
   },
   {
    "duration": 179,
    "start_time": "2024-10-29T22:06:37.769Z"
   },
   {
    "duration": 8,
    "start_time": "2024-10-29T22:06:37.949Z"
   },
   {
    "duration": 8,
    "start_time": "2024-10-29T22:06:37.959Z"
   },
   {
    "duration": 8,
    "start_time": "2024-10-29T22:06:37.968Z"
   },
   {
    "duration": 12,
    "start_time": "2024-10-29T22:06:37.977Z"
   },
   {
    "duration": 14,
    "start_time": "2024-10-29T22:06:37.991Z"
   },
   {
    "duration": 3,
    "start_time": "2024-10-29T22:06:38.006Z"
   },
   {
    "duration": 1383,
    "start_time": "2024-10-29T22:06:38.010Z"
   },
   {
    "duration": 0,
    "start_time": "2024-10-29T22:06:39.394Z"
   },
   {
    "duration": 0,
    "start_time": "2024-10-29T22:06:39.395Z"
   },
   {
    "duration": 0,
    "start_time": "2024-10-29T22:06:39.396Z"
   },
   {
    "duration": 0,
    "start_time": "2024-10-29T22:06:39.397Z"
   },
   {
    "duration": 0,
    "start_time": "2024-10-29T22:06:39.398Z"
   },
   {
    "duration": 0,
    "start_time": "2024-10-29T22:06:39.399Z"
   },
   {
    "duration": 0,
    "start_time": "2024-10-29T22:06:39.400Z"
   },
   {
    "duration": 0,
    "start_time": "2024-10-29T22:06:39.401Z"
   },
   {
    "duration": 0,
    "start_time": "2024-10-29T22:06:39.401Z"
   },
   {
    "duration": 0,
    "start_time": "2024-10-29T22:06:39.402Z"
   },
   {
    "duration": 0,
    "start_time": "2024-10-29T22:06:39.403Z"
   },
   {
    "duration": 0,
    "start_time": "2024-10-29T22:06:39.404Z"
   },
   {
    "duration": 0,
    "start_time": "2024-10-29T22:06:39.405Z"
   },
   {
    "duration": 0,
    "start_time": "2024-10-29T22:06:39.406Z"
   },
   {
    "duration": 0,
    "start_time": "2024-10-29T22:06:39.407Z"
   },
   {
    "duration": 0,
    "start_time": "2024-10-29T22:06:39.408Z"
   },
   {
    "duration": 0,
    "start_time": "2024-10-29T22:06:39.409Z"
   },
   {
    "duration": 0,
    "start_time": "2024-10-29T22:06:39.411Z"
   },
   {
    "duration": 0,
    "start_time": "2024-10-29T22:06:39.411Z"
   },
   {
    "duration": 0,
    "start_time": "2024-10-29T22:06:39.412Z"
   },
   {
    "duration": 0,
    "start_time": "2024-10-29T22:06:39.413Z"
   },
   {
    "duration": 0,
    "start_time": "2024-10-29T22:06:39.414Z"
   },
   {
    "duration": 0,
    "start_time": "2024-10-29T22:06:39.415Z"
   },
   {
    "duration": 0,
    "start_time": "2024-10-29T22:06:39.416Z"
   },
   {
    "duration": 0,
    "start_time": "2024-10-29T22:06:39.417Z"
   },
   {
    "duration": 0,
    "start_time": "2024-10-29T22:06:39.418Z"
   },
   {
    "duration": 0,
    "start_time": "2024-10-29T22:06:39.419Z"
   },
   {
    "duration": 0,
    "start_time": "2024-10-29T22:06:39.420Z"
   },
   {
    "duration": 0,
    "start_time": "2024-10-29T22:06:39.421Z"
   },
   {
    "duration": 0,
    "start_time": "2024-10-29T22:06:39.421Z"
   },
   {
    "duration": 0,
    "start_time": "2024-10-29T22:06:39.422Z"
   },
   {
    "duration": 0,
    "start_time": "2024-10-29T22:06:39.423Z"
   },
   {
    "duration": 0,
    "start_time": "2024-10-29T22:06:39.424Z"
   },
   {
    "duration": 0,
    "start_time": "2024-10-29T22:06:39.425Z"
   },
   {
    "duration": 0,
    "start_time": "2024-10-29T22:06:39.426Z"
   },
   {
    "duration": 0,
    "start_time": "2024-10-29T22:06:39.426Z"
   },
   {
    "duration": 0,
    "start_time": "2024-10-29T22:06:39.428Z"
   },
   {
    "duration": 0,
    "start_time": "2024-10-29T22:06:39.429Z"
   },
   {
    "duration": 0,
    "start_time": "2024-10-29T22:06:39.430Z"
   },
   {
    "duration": 1756,
    "start_time": "2024-10-29T22:07:04.378Z"
   },
   {
    "duration": 4,
    "start_time": "2024-10-29T22:07:06.136Z"
   },
   {
    "duration": 29,
    "start_time": "2024-10-29T22:07:06.141Z"
   },
   {
    "duration": 4,
    "start_time": "2024-10-29T22:07:06.172Z"
   },
   {
    "duration": 74,
    "start_time": "2024-10-29T22:07:06.178Z"
   },
   {
    "duration": 27,
    "start_time": "2024-10-29T22:07:06.253Z"
   },
   {
    "duration": 5,
    "start_time": "2024-10-29T22:07:06.281Z"
   },
   {
    "duration": 81,
    "start_time": "2024-10-29T22:07:06.288Z"
   },
   {
    "duration": 13,
    "start_time": "2024-10-29T22:07:06.371Z"
   },
   {
    "duration": 33,
    "start_time": "2024-10-29T22:07:06.385Z"
   },
   {
    "duration": 27,
    "start_time": "2024-10-29T22:07:06.420Z"
   },
   {
    "duration": 9,
    "start_time": "2024-10-29T22:07:06.449Z"
   },
   {
    "duration": 46,
    "start_time": "2024-10-29T22:07:06.459Z"
   },
   {
    "duration": 7,
    "start_time": "2024-10-29T22:07:06.507Z"
   },
   {
    "duration": 10,
    "start_time": "2024-10-29T22:07:06.515Z"
   },
   {
    "duration": 9,
    "start_time": "2024-10-29T22:07:06.526Z"
   },
   {
    "duration": 7,
    "start_time": "2024-10-29T22:07:06.536Z"
   },
   {
    "duration": 5,
    "start_time": "2024-10-29T22:07:06.544Z"
   },
   {
    "duration": 9,
    "start_time": "2024-10-29T22:07:06.550Z"
   },
   {
    "duration": 43,
    "start_time": "2024-10-29T22:07:06.560Z"
   },
   {
    "duration": 129,
    "start_time": "2024-10-29T22:07:06.604Z"
   },
   {
    "duration": 6,
    "start_time": "2024-10-29T22:07:06.734Z"
   },
   {
    "duration": 1685,
    "start_time": "2024-10-29T22:07:06.741Z"
   },
   {
    "duration": 8,
    "start_time": "2024-10-29T22:07:08.458Z"
   },
   {
    "duration": 3014,
    "start_time": "2024-10-29T22:07:08.467Z"
   },
   {
    "duration": 22,
    "start_time": "2024-10-29T22:07:11.483Z"
   },
   {
    "duration": 30,
    "start_time": "2024-10-29T22:07:11.506Z"
   },
   {
    "duration": 168,
    "start_time": "2024-10-29T22:07:11.537Z"
   },
   {
    "duration": 181,
    "start_time": "2024-10-29T22:07:11.706Z"
   },
   {
    "duration": 3,
    "start_time": "2024-10-29T22:07:11.888Z"
   },
   {
    "duration": 5,
    "start_time": "2024-10-29T22:07:11.892Z"
   },
   {
    "duration": 11,
    "start_time": "2024-10-29T22:07:11.899Z"
   },
   {
    "duration": 317,
    "start_time": "2024-10-29T22:07:11.911Z"
   },
   {
    "duration": 13,
    "start_time": "2024-10-29T22:07:12.229Z"
   },
   {
    "duration": 19,
    "start_time": "2024-10-29T22:07:12.244Z"
   },
   {
    "duration": 864,
    "start_time": "2024-10-29T22:07:12.264Z"
   },
   {
    "duration": 4,
    "start_time": "2024-10-29T22:07:13.129Z"
   },
   {
    "duration": 73,
    "start_time": "2024-10-29T22:07:13.134Z"
   },
   {
    "duration": 736,
    "start_time": "2024-10-29T22:07:13.209Z"
   },
   {
    "duration": 19,
    "start_time": "2024-10-29T22:07:13.947Z"
   },
   {
    "duration": 729,
    "start_time": "2024-10-29T22:07:13.971Z"
   },
   {
    "duration": 8,
    "start_time": "2024-10-29T22:07:14.702Z"
   },
   {
    "duration": 134,
    "start_time": "2024-10-29T22:07:14.712Z"
   },
   {
    "duration": 22,
    "start_time": "2024-10-29T22:07:14.848Z"
   },
   {
    "duration": 13,
    "start_time": "2024-10-29T22:07:14.871Z"
   },
   {
    "duration": 25,
    "start_time": "2024-10-29T22:07:14.886Z"
   },
   {
    "duration": 80,
    "start_time": "2024-10-29T22:07:14.912Z"
   },
   {
    "duration": 16,
    "start_time": "2024-10-29T22:07:14.995Z"
   },
   {
    "duration": 45,
    "start_time": "2024-10-29T22:07:15.012Z"
   },
   {
    "duration": 495,
    "start_time": "2024-10-29T22:07:15.058Z"
   },
   {
    "duration": 8,
    "start_time": "2024-10-29T22:07:15.557Z"
   },
   {
    "duration": 374,
    "start_time": "2024-10-29T22:07:15.566Z"
   },
   {
    "duration": 136,
    "start_time": "2024-10-29T22:07:15.941Z"
   },
   {
    "duration": 5,
    "start_time": "2024-10-29T22:07:16.079Z"
   },
   {
    "duration": 7,
    "start_time": "2024-10-29T22:07:16.085Z"
   },
   {
    "duration": 201,
    "start_time": "2024-10-29T22:07:16.093Z"
   },
   {
    "duration": 8,
    "start_time": "2024-10-29T22:07:16.296Z"
   },
   {
    "duration": 7,
    "start_time": "2024-10-29T22:07:16.306Z"
   },
   {
    "duration": 10,
    "start_time": "2024-10-29T22:07:16.315Z"
   },
   {
    "duration": 20,
    "start_time": "2024-10-29T22:07:16.327Z"
   },
   {
    "duration": 18,
    "start_time": "2024-10-29T22:07:16.348Z"
   },
   {
    "duration": 6,
    "start_time": "2024-10-29T22:07:16.367Z"
   },
   {
    "duration": 5,
    "start_time": "2024-10-29T22:07:16.374Z"
   },
   {
    "duration": 14,
    "start_time": "2024-10-29T22:07:16.381Z"
   },
   {
    "duration": 4,
    "start_time": "2024-10-29T22:07:16.396Z"
   },
   {
    "duration": 8,
    "start_time": "2024-10-29T22:07:16.401Z"
   },
   {
    "duration": 15,
    "start_time": "2024-10-29T22:07:16.410Z"
   },
   {
    "duration": 3,
    "start_time": "2024-10-29T22:07:16.426Z"
   },
   {
    "duration": 9,
    "start_time": "2024-10-29T22:07:16.457Z"
   },
   {
    "duration": 269,
    "start_time": "2024-10-29T22:07:16.467Z"
   },
   {
    "duration": 26,
    "start_time": "2024-10-29T22:07:16.738Z"
   },
   {
    "duration": 413,
    "start_time": "2024-10-29T22:07:16.765Z"
   },
   {
    "duration": 22,
    "start_time": "2024-10-29T22:07:17.179Z"
   },
   {
    "duration": 14,
    "start_time": "2024-10-29T22:07:17.203Z"
   },
   {
    "duration": 16,
    "start_time": "2024-10-29T22:07:17.218Z"
   },
   {
    "duration": 31,
    "start_time": "2024-10-29T22:07:17.236Z"
   },
   {
    "duration": 450,
    "start_time": "2024-10-29T22:07:17.268Z"
   },
   {
    "duration": 437,
    "start_time": "2024-10-29T22:07:17.720Z"
   },
   {
    "duration": 9,
    "start_time": "2024-10-29T22:07:18.159Z"
   },
   {
    "duration": 359,
    "start_time": "2024-10-29T22:07:18.169Z"
   },
   {
    "duration": 11,
    "start_time": "2024-10-29T22:07:18.529Z"
   },
   {
    "duration": 320,
    "start_time": "2024-10-29T22:07:18.541Z"
   },
   {
    "duration": 6,
    "start_time": "2024-10-29T22:07:18.863Z"
   },
   {
    "duration": 17,
    "start_time": "2024-10-29T22:07:18.871Z"
   },
   {
    "duration": 13,
    "start_time": "2024-10-29T22:07:18.889Z"
   },
   {
    "duration": 54,
    "start_time": "2024-10-29T22:07:18.904Z"
   },
   {
    "duration": 149,
    "start_time": "2024-10-29T22:07:18.959Z"
   },
   {
    "duration": 320,
    "start_time": "2024-10-29T22:07:19.110Z"
   },
   {
    "duration": 10,
    "start_time": "2024-10-29T22:07:19.431Z"
   },
   {
    "duration": 63,
    "start_time": "2024-10-29T22:07:19.442Z"
   },
   {
    "duration": 316,
    "start_time": "2024-10-29T22:07:19.507Z"
   },
   {
    "duration": 9,
    "start_time": "2024-10-29T22:07:19.824Z"
   },
   {
    "duration": 63,
    "start_time": "2024-10-29T22:07:19.834Z"
   },
   {
    "duration": 321,
    "start_time": "2024-10-29T22:07:19.898Z"
   },
   {
    "duration": 10,
    "start_time": "2024-10-29T22:07:20.220Z"
   },
   {
    "duration": 66,
    "start_time": "2024-10-29T22:07:20.231Z"
   },
   {
    "duration": 319,
    "start_time": "2024-10-29T22:07:20.299Z"
   },
   {
    "duration": 2,
    "start_time": "2024-10-29T22:07:20.620Z"
   },
   {
    "duration": 26,
    "start_time": "2024-10-29T22:07:20.624Z"
   },
   {
    "duration": 18,
    "start_time": "2024-10-29T22:07:20.652Z"
   },
   {
    "duration": 22,
    "start_time": "2024-10-29T22:07:20.672Z"
   },
   {
    "duration": 17,
    "start_time": "2024-10-29T22:07:20.696Z"
   },
   {
    "duration": 20,
    "start_time": "2024-10-29T22:19:01.405Z"
   },
   {
    "duration": 16,
    "start_time": "2024-10-29T22:19:06.495Z"
   },
   {
    "duration": 14,
    "start_time": "2024-10-29T22:19:11.625Z"
   },
   {
    "duration": 12,
    "start_time": "2024-10-29T22:19:14.170Z"
   },
   {
    "duration": 455,
    "start_time": "2024-10-29T22:19:18.625Z"
   },
   {
    "duration": 8,
    "start_time": "2024-10-29T22:31:40.870Z"
   },
   {
    "duration": 296,
    "start_time": "2024-10-29T22:31:48.195Z"
   },
   {
    "duration": 11,
    "start_time": "2024-10-29T22:33:09.950Z"
   },
   {
    "duration": 293,
    "start_time": "2024-10-29T22:33:15.445Z"
   },
   {
    "duration": 321,
    "start_time": "2024-10-29T22:37:41.165Z"
   },
   {
    "duration": 323,
    "start_time": "2024-10-29T22:38:13.201Z"
   },
   {
    "duration": 10,
    "start_time": "2024-10-29T22:44:36.775Z"
   },
   {
    "duration": 55,
    "start_time": "2024-10-29T22:44:38.765Z"
   },
   {
    "duration": 320,
    "start_time": "2024-10-29T22:44:40.185Z"
   },
   {
    "duration": 10,
    "start_time": "2024-10-29T22:45:05.562Z"
   },
   {
    "duration": 51,
    "start_time": "2024-10-29T22:45:07.686Z"
   },
   {
    "duration": 308,
    "start_time": "2024-10-29T22:45:09.911Z"
   },
   {
    "duration": 9,
    "start_time": "2024-10-29T22:45:30.046Z"
   },
   {
    "duration": 54,
    "start_time": "2024-10-29T22:45:31.972Z"
   },
   {
    "duration": 300,
    "start_time": "2024-10-29T22:45:33.101Z"
   },
   {
    "duration": 66,
    "start_time": "2024-10-29T22:45:56.300Z"
   },
   {
    "duration": 398,
    "start_time": "2024-10-29T22:46:01.802Z"
   },
   {
    "duration": 9,
    "start_time": "2024-10-29T22:46:51.330Z"
   },
   {
    "duration": 56,
    "start_time": "2024-10-29T22:46:53.326Z"
   },
   {
    "duration": 10,
    "start_time": "2024-10-29T22:47:45.840Z"
   },
   {
    "duration": 52,
    "start_time": "2024-10-29T22:47:48.002Z"
   },
   {
    "duration": 316,
    "start_time": "2024-10-29T22:49:18.936Z"
   },
   {
    "duration": 2,
    "start_time": "2024-10-29T22:54:08.801Z"
   },
   {
    "duration": 17,
    "start_time": "2024-10-29T22:54:18.727Z"
   },
   {
    "duration": 16,
    "start_time": "2024-10-29T22:54:33.405Z"
   },
   {
    "duration": 17,
    "start_time": "2024-10-29T22:54:36.731Z"
   },
   {
    "duration": 12,
    "start_time": "2024-10-29T22:56:56.816Z"
   },
   {
    "duration": 125,
    "start_time": "2024-10-29T22:57:31.764Z"
   },
   {
    "duration": 8,
    "start_time": "2024-10-29T22:57:54.266Z"
   },
   {
    "duration": 4,
    "start_time": "2024-10-29T22:58:08.636Z"
   },
   {
    "duration": 25,
    "start_time": "2024-10-29T22:58:14.286Z"
   },
   {
    "duration": 6,
    "start_time": "2024-10-29T22:58:50.141Z"
   },
   {
    "duration": 10,
    "start_time": "2024-10-29T22:58:52.656Z"
   },
   {
    "duration": 16,
    "start_time": "2024-10-29T22:59:27.621Z"
   },
   {
    "duration": 12,
    "start_time": "2024-10-29T23:00:16.235Z"
   },
   {
    "duration": 27,
    "start_time": "2024-10-29T23:00:47.046Z"
   },
   {
    "duration": 7,
    "start_time": "2024-10-29T23:00:57.220Z"
   },
   {
    "duration": 11,
    "start_time": "2024-10-29T23:00:59.571Z"
   },
   {
    "duration": 15,
    "start_time": "2024-10-29T23:01:03.441Z"
   },
   {
    "duration": 1697,
    "start_time": "2024-10-29T23:01:09.351Z"
   },
   {
    "duration": 7,
    "start_time": "2024-10-29T23:01:11.050Z"
   },
   {
    "duration": 51,
    "start_time": "2024-10-29T23:01:11.058Z"
   },
   {
    "duration": 5,
    "start_time": "2024-10-29T23:01:11.111Z"
   },
   {
    "duration": 61,
    "start_time": "2024-10-29T23:01:11.117Z"
   },
   {
    "duration": 25,
    "start_time": "2024-10-29T23:01:11.179Z"
   },
   {
    "duration": 4,
    "start_time": "2024-10-29T23:01:11.205Z"
   },
   {
    "duration": 85,
    "start_time": "2024-10-29T23:01:11.211Z"
   },
   {
    "duration": 14,
    "start_time": "2024-10-29T23:01:11.297Z"
   },
   {
    "duration": 97,
    "start_time": "2024-10-29T23:01:11.312Z"
   },
   {
    "duration": 11,
    "start_time": "2024-10-29T23:01:11.410Z"
   },
   {
    "duration": 12,
    "start_time": "2024-10-29T23:01:11.423Z"
   },
   {
    "duration": 33,
    "start_time": "2024-10-29T23:01:11.437Z"
   },
   {
    "duration": 6,
    "start_time": "2024-10-29T23:01:11.474Z"
   },
   {
    "duration": 5,
    "start_time": "2024-10-29T23:01:11.481Z"
   },
   {
    "duration": 5,
    "start_time": "2024-10-29T23:01:11.487Z"
   },
   {
    "duration": 9,
    "start_time": "2024-10-29T23:01:11.493Z"
   },
   {
    "duration": 5,
    "start_time": "2024-10-29T23:01:11.504Z"
   },
   {
    "duration": 6,
    "start_time": "2024-10-29T23:01:11.510Z"
   },
   {
    "duration": 9,
    "start_time": "2024-10-29T23:01:11.517Z"
   },
   {
    "duration": 134,
    "start_time": "2024-10-29T23:01:11.527Z"
   },
   {
    "duration": 5,
    "start_time": "2024-10-29T23:01:11.663Z"
   },
   {
    "duration": 1708,
    "start_time": "2024-10-29T23:01:11.669Z"
   },
   {
    "duration": 5,
    "start_time": "2024-10-29T23:01:13.379Z"
   },
   {
    "duration": 3040,
    "start_time": "2024-10-29T23:01:13.385Z"
   },
   {
    "duration": 22,
    "start_time": "2024-10-29T23:01:16.427Z"
   },
   {
    "duration": 23,
    "start_time": "2024-10-29T23:01:16.457Z"
   },
   {
    "duration": 176,
    "start_time": "2024-10-29T23:01:16.481Z"
   },
   {
    "duration": 182,
    "start_time": "2024-10-29T23:01:16.658Z"
   },
   {
    "duration": 3,
    "start_time": "2024-10-29T23:01:16.841Z"
   },
   {
    "duration": 3,
    "start_time": "2024-10-29T23:01:16.857Z"
   },
   {
    "duration": 8,
    "start_time": "2024-10-29T23:01:16.861Z"
   },
   {
    "duration": 286,
    "start_time": "2024-10-29T23:01:16.871Z"
   },
   {
    "duration": 14,
    "start_time": "2024-10-29T23:01:17.159Z"
   },
   {
    "duration": 9,
    "start_time": "2024-10-29T23:01:17.174Z"
   },
   {
    "duration": 884,
    "start_time": "2024-10-29T23:01:17.184Z"
   },
   {
    "duration": 4,
    "start_time": "2024-10-29T23:01:18.069Z"
   },
   {
    "duration": 49,
    "start_time": "2024-10-29T23:01:18.075Z"
   },
   {
    "duration": 772,
    "start_time": "2024-10-29T23:01:18.126Z"
   },
   {
    "duration": 14,
    "start_time": "2024-10-29T23:01:18.899Z"
   },
   {
    "duration": 709,
    "start_time": "2024-10-29T23:01:18.918Z"
   },
   {
    "duration": 9,
    "start_time": "2024-10-29T23:01:19.628Z"
   },
   {
    "duration": 142,
    "start_time": "2024-10-29T23:01:19.639Z"
   },
   {
    "duration": 17,
    "start_time": "2024-10-29T23:01:19.783Z"
   },
   {
    "duration": 5,
    "start_time": "2024-10-29T23:01:19.802Z"
   },
   {
    "duration": 31,
    "start_time": "2024-10-29T23:01:19.808Z"
   },
   {
    "duration": 22,
    "start_time": "2024-10-29T23:01:19.840Z"
   },
   {
    "duration": 11,
    "start_time": "2024-10-29T23:01:19.863Z"
   },
   {
    "duration": 30,
    "start_time": "2024-10-29T23:01:19.875Z"
   },
   {
    "duration": 431,
    "start_time": "2024-10-29T23:01:19.906Z"
   },
   {
    "duration": 7,
    "start_time": "2024-10-29T23:01:20.339Z"
   },
   {
    "duration": 469,
    "start_time": "2024-10-29T23:01:20.357Z"
   },
   {
    "duration": 146,
    "start_time": "2024-10-29T23:01:20.827Z"
   },
   {
    "duration": 6,
    "start_time": "2024-10-29T23:01:20.974Z"
   },
   {
    "duration": 13,
    "start_time": "2024-10-29T23:01:20.981Z"
   },
   {
    "duration": 286,
    "start_time": "2024-10-29T23:01:20.995Z"
   },
   {
    "duration": 9,
    "start_time": "2024-10-29T23:01:21.282Z"
   },
   {
    "duration": 6,
    "start_time": "2024-10-29T23:01:21.292Z"
   },
   {
    "duration": 103,
    "start_time": "2024-10-29T23:01:21.300Z"
   },
   {
    "duration": 12,
    "start_time": "2024-10-29T23:01:21.404Z"
   },
   {
    "duration": 17,
    "start_time": "2024-10-29T23:01:21.417Z"
   },
   {
    "duration": 7,
    "start_time": "2024-10-29T23:01:21.436Z"
   },
   {
    "duration": 7,
    "start_time": "2024-10-29T23:01:21.444Z"
   },
   {
    "duration": 23,
    "start_time": "2024-10-29T23:01:21.452Z"
   },
   {
    "duration": 3,
    "start_time": "2024-10-29T23:01:21.477Z"
   },
   {
    "duration": 31,
    "start_time": "2024-10-29T23:01:21.481Z"
   },
   {
    "duration": 20,
    "start_time": "2024-10-29T23:01:21.514Z"
   },
   {
    "duration": 2,
    "start_time": "2024-10-29T23:01:21.535Z"
   },
   {
    "duration": 9,
    "start_time": "2024-10-29T23:01:21.539Z"
   },
   {
    "duration": 283,
    "start_time": "2024-10-29T23:01:21.550Z"
   },
   {
    "duration": 26,
    "start_time": "2024-10-29T23:01:21.835Z"
   },
   {
    "duration": 433,
    "start_time": "2024-10-29T23:01:21.862Z"
   },
   {
    "duration": 23,
    "start_time": "2024-10-29T23:01:22.297Z"
   },
   {
    "duration": 15,
    "start_time": "2024-10-29T23:01:22.321Z"
   },
   {
    "duration": 32,
    "start_time": "2024-10-29T23:01:22.337Z"
   },
   {
    "duration": 69,
    "start_time": "2024-10-29T23:01:22.370Z"
   },
   {
    "duration": 438,
    "start_time": "2024-10-29T23:01:22.440Z"
   },
   {
    "duration": 469,
    "start_time": "2024-10-29T23:01:22.879Z"
   },
   {
    "duration": 10,
    "start_time": "2024-10-29T23:01:23.350Z"
   },
   {
    "duration": 357,
    "start_time": "2024-10-29T23:01:23.362Z"
   },
   {
    "duration": 13,
    "start_time": "2024-10-29T23:01:23.721Z"
   },
   {
    "duration": 302,
    "start_time": "2024-10-29T23:01:23.736Z"
   },
   {
    "duration": 5,
    "start_time": "2024-10-29T23:01:24.040Z"
   },
   {
    "duration": 14,
    "start_time": "2024-10-29T23:01:24.047Z"
   },
   {
    "duration": 12,
    "start_time": "2024-10-29T23:01:24.062Z"
   },
   {
    "duration": 8,
    "start_time": "2024-10-29T23:01:24.076Z"
   },
   {
    "duration": 157,
    "start_time": "2024-10-29T23:01:24.086Z"
   },
   {
    "duration": 346,
    "start_time": "2024-10-29T23:01:24.244Z"
   },
   {
    "duration": 10,
    "start_time": "2024-10-29T23:01:24.591Z"
   },
   {
    "duration": 66,
    "start_time": "2024-10-29T23:01:24.602Z"
   },
   {
    "duration": 325,
    "start_time": "2024-10-29T23:01:24.669Z"
   },
   {
    "duration": 9,
    "start_time": "2024-10-29T23:01:24.995Z"
   },
   {
    "duration": 158,
    "start_time": "2024-10-29T23:01:25.005Z"
   },
   {
    "duration": 313,
    "start_time": "2024-10-29T23:01:25.164Z"
   },
   {
    "duration": 10,
    "start_time": "2024-10-29T23:01:25.478Z"
   },
   {
    "duration": 142,
    "start_time": "2024-10-29T23:01:25.489Z"
   },
   {
    "duration": 0,
    "start_time": "2024-10-29T23:01:25.633Z"
   },
   {
    "duration": 0,
    "start_time": "2024-10-29T23:01:25.634Z"
   },
   {
    "duration": 1,
    "start_time": "2024-10-29T23:01:25.634Z"
   },
   {
    "duration": 0,
    "start_time": "2024-10-29T23:01:25.635Z"
   },
   {
    "duration": 0,
    "start_time": "2024-10-29T23:01:25.636Z"
   },
   {
    "duration": 0,
    "start_time": "2024-10-29T23:01:25.637Z"
   },
   {
    "duration": 0,
    "start_time": "2024-10-29T23:01:25.638Z"
   },
   {
    "duration": 0,
    "start_time": "2024-10-29T23:01:25.639Z"
   },
   {
    "duration": 0,
    "start_time": "2024-10-29T23:01:25.640Z"
   },
   {
    "duration": 52,
    "start_time": "2024-10-29T23:01:59.416Z"
   },
   {
    "duration": 310,
    "start_time": "2024-10-29T23:02:01.841Z"
   },
   {
    "duration": 2,
    "start_time": "2024-10-29T23:02:12.540Z"
   },
   {
    "duration": 19,
    "start_time": "2024-10-29T23:02:14.986Z"
   },
   {
    "duration": 5,
    "start_time": "2024-10-29T23:02:46.010Z"
   },
   {
    "duration": 9,
    "start_time": "2024-10-29T23:02:46.815Z"
   },
   {
    "duration": 14,
    "start_time": "2024-10-29T23:03:18.471Z"
   },
   {
    "duration": 13,
    "start_time": "2024-10-29T23:03:54.441Z"
   },
   {
    "duration": 10,
    "start_time": "2024-10-29T23:03:59.655Z"
   },
   {
    "duration": 10,
    "start_time": "2024-10-29T23:04:35.086Z"
   },
   {
    "duration": 7,
    "start_time": "2024-10-29T23:05:05.260Z"
   },
   {
    "duration": 11,
    "start_time": "2024-10-29T23:05:08.240Z"
   },
   {
    "duration": 3,
    "start_time": "2024-10-29T23:05:51.115Z"
   },
   {
    "duration": 13,
    "start_time": "2024-10-29T23:05:55.100Z"
   },
   {
    "duration": 17,
    "start_time": "2024-10-29T23:06:33.191Z"
   },
   {
    "duration": 1640,
    "start_time": "2024-10-29T23:06:59.946Z"
   },
   {
    "duration": 4,
    "start_time": "2024-10-29T23:07:01.588Z"
   },
   {
    "duration": 17,
    "start_time": "2024-10-29T23:07:01.594Z"
   },
   {
    "duration": 20,
    "start_time": "2024-10-29T23:07:01.612Z"
   },
   {
    "duration": 49,
    "start_time": "2024-10-29T23:07:01.634Z"
   },
   {
    "duration": 25,
    "start_time": "2024-10-29T23:07:01.685Z"
   },
   {
    "duration": 5,
    "start_time": "2024-10-29T23:07:01.711Z"
   },
   {
    "duration": 84,
    "start_time": "2024-10-29T23:07:01.717Z"
   },
   {
    "duration": 12,
    "start_time": "2024-10-29T23:07:01.802Z"
   },
   {
    "duration": 42,
    "start_time": "2024-10-29T23:07:01.817Z"
   },
   {
    "duration": 30,
    "start_time": "2024-10-29T23:07:01.861Z"
   },
   {
    "duration": 24,
    "start_time": "2024-10-29T23:07:01.893Z"
   },
   {
    "duration": 34,
    "start_time": "2024-10-29T23:07:01.918Z"
   },
   {
    "duration": 6,
    "start_time": "2024-10-29T23:07:01.953Z"
   },
   {
    "duration": 55,
    "start_time": "2024-10-29T23:07:01.961Z"
   },
   {
    "duration": 90,
    "start_time": "2024-10-29T23:07:02.017Z"
   },
   {
    "duration": 32,
    "start_time": "2024-10-29T23:07:02.108Z"
   },
   {
    "duration": 19,
    "start_time": "2024-10-29T23:07:02.142Z"
   },
   {
    "duration": 31,
    "start_time": "2024-10-29T23:07:02.162Z"
   },
   {
    "duration": 38,
    "start_time": "2024-10-29T23:07:02.194Z"
   },
   {
    "duration": 108,
    "start_time": "2024-10-29T23:07:02.233Z"
   },
   {
    "duration": 7,
    "start_time": "2024-10-29T23:07:02.343Z"
   },
   {
    "duration": 1732,
    "start_time": "2024-10-29T23:07:02.351Z"
   },
   {
    "duration": 5,
    "start_time": "2024-10-29T23:07:04.084Z"
   },
   {
    "duration": 2938,
    "start_time": "2024-10-29T23:07:04.091Z"
   },
   {
    "duration": 28,
    "start_time": "2024-10-29T23:07:07.030Z"
   },
   {
    "duration": 88,
    "start_time": "2024-10-29T23:07:07.059Z"
   },
   {
    "duration": 167,
    "start_time": "2024-10-29T23:07:07.151Z"
   },
   {
    "duration": 185,
    "start_time": "2024-10-29T23:07:07.319Z"
   },
   {
    "duration": 4,
    "start_time": "2024-10-29T23:07:07.505Z"
   },
   {
    "duration": 4,
    "start_time": "2024-10-29T23:07:07.510Z"
   },
   {
    "duration": 15,
    "start_time": "2024-10-29T23:07:07.515Z"
   },
   {
    "duration": 298,
    "start_time": "2024-10-29T23:07:07.532Z"
   },
   {
    "duration": 13,
    "start_time": "2024-10-29T23:07:07.832Z"
   },
   {
    "duration": 19,
    "start_time": "2024-10-29T23:07:07.846Z"
   },
   {
    "duration": 894,
    "start_time": "2024-10-29T23:07:07.866Z"
   },
   {
    "duration": 4,
    "start_time": "2024-10-29T23:07:08.761Z"
   },
   {
    "duration": 14,
    "start_time": "2024-10-29T23:07:08.766Z"
   },
   {
    "duration": 770,
    "start_time": "2024-10-29T23:07:08.781Z"
   },
   {
    "duration": 14,
    "start_time": "2024-10-29T23:07:09.553Z"
   },
   {
    "duration": 721,
    "start_time": "2024-10-29T23:07:09.569Z"
   },
   {
    "duration": 8,
    "start_time": "2024-10-29T23:07:10.291Z"
   },
   {
    "duration": 146,
    "start_time": "2024-10-29T23:07:10.301Z"
   },
   {
    "duration": 20,
    "start_time": "2024-10-29T23:07:10.448Z"
   },
   {
    "duration": 5,
    "start_time": "2024-10-29T23:07:10.469Z"
   },
   {
    "duration": 17,
    "start_time": "2024-10-29T23:07:10.475Z"
   },
   {
    "duration": 10,
    "start_time": "2024-10-29T23:07:10.493Z"
   },
   {
    "duration": 10,
    "start_time": "2024-10-29T23:07:10.504Z"
   },
   {
    "duration": 14,
    "start_time": "2024-10-29T23:07:10.515Z"
   },
   {
    "duration": 426,
    "start_time": "2024-10-29T23:07:10.530Z"
   },
   {
    "duration": 8,
    "start_time": "2024-10-29T23:07:10.957Z"
   },
   {
    "duration": 382,
    "start_time": "2024-10-29T23:07:10.967Z"
   },
   {
    "duration": 139,
    "start_time": "2024-10-29T23:07:11.350Z"
   },
   {
    "duration": 6,
    "start_time": "2024-10-29T23:07:11.490Z"
   },
   {
    "duration": 2,
    "start_time": "2024-10-29T23:07:11.498Z"
   },
   {
    "duration": 198,
    "start_time": "2024-10-29T23:07:11.501Z"
   },
   {
    "duration": 8,
    "start_time": "2024-10-29T23:07:11.701Z"
   },
   {
    "duration": 6,
    "start_time": "2024-10-29T23:07:11.710Z"
   },
   {
    "duration": 8,
    "start_time": "2024-10-29T23:07:11.717Z"
   },
   {
    "duration": 15,
    "start_time": "2024-10-29T23:07:11.726Z"
   },
   {
    "duration": 27,
    "start_time": "2024-10-29T23:07:11.742Z"
   },
   {
    "duration": 3,
    "start_time": "2024-10-29T23:07:11.770Z"
   },
   {
    "duration": 4,
    "start_time": "2024-10-29T23:07:11.774Z"
   },
   {
    "duration": 16,
    "start_time": "2024-10-29T23:07:11.779Z"
   },
   {
    "duration": 13,
    "start_time": "2024-10-29T23:07:11.796Z"
   },
   {
    "duration": 10,
    "start_time": "2024-10-29T23:07:11.811Z"
   },
   {
    "duration": 15,
    "start_time": "2024-10-29T23:07:11.822Z"
   },
   {
    "duration": 2,
    "start_time": "2024-10-29T23:07:11.838Z"
   },
   {
    "duration": 9,
    "start_time": "2024-10-29T23:07:11.856Z"
   },
   {
    "duration": 265,
    "start_time": "2024-10-29T23:07:11.866Z"
   },
   {
    "duration": 26,
    "start_time": "2024-10-29T23:07:12.132Z"
   },
   {
    "duration": 409,
    "start_time": "2024-10-29T23:07:12.159Z"
   },
   {
    "duration": 21,
    "start_time": "2024-10-29T23:07:12.569Z"
   },
   {
    "duration": 14,
    "start_time": "2024-10-29T23:07:12.592Z"
   },
   {
    "duration": 15,
    "start_time": "2024-10-29T23:07:12.607Z"
   },
   {
    "duration": 35,
    "start_time": "2024-10-29T23:07:12.623Z"
   },
   {
    "duration": 447,
    "start_time": "2024-10-29T23:07:12.659Z"
   },
   {
    "duration": 439,
    "start_time": "2024-10-29T23:07:13.107Z"
   },
   {
    "duration": 16,
    "start_time": "2024-10-29T23:07:13.547Z"
   },
   {
    "duration": 265,
    "start_time": "2024-10-29T23:07:13.564Z"
   },
   {
    "duration": 9,
    "start_time": "2024-10-29T23:07:13.831Z"
   },
   {
    "duration": 280,
    "start_time": "2024-10-29T23:07:13.860Z"
   },
   {
    "duration": 16,
    "start_time": "2024-10-29T23:07:14.141Z"
   },
   {
    "duration": 5,
    "start_time": "2024-10-29T23:07:14.159Z"
   },
   {
    "duration": 11,
    "start_time": "2024-10-29T23:07:14.165Z"
   },
   {
    "duration": 8,
    "start_time": "2024-10-29T23:07:14.178Z"
   },
   {
    "duration": 148,
    "start_time": "2024-10-29T23:07:14.187Z"
   },
   {
    "duration": 324,
    "start_time": "2024-10-29T23:07:14.337Z"
   },
   {
    "duration": 9,
    "start_time": "2024-10-29T23:07:14.663Z"
   },
   {
    "duration": 51,
    "start_time": "2024-10-29T23:07:14.674Z"
   },
   {
    "duration": 329,
    "start_time": "2024-10-29T23:07:14.726Z"
   },
   {
    "duration": 9,
    "start_time": "2024-10-29T23:07:15.057Z"
   },
   {
    "duration": 104,
    "start_time": "2024-10-29T23:07:15.067Z"
   },
   {
    "duration": 310,
    "start_time": "2024-10-29T23:07:15.172Z"
   },
   {
    "duration": 9,
    "start_time": "2024-10-29T23:07:15.483Z"
   },
   {
    "duration": 66,
    "start_time": "2024-10-29T23:07:15.493Z"
   },
   {
    "duration": 327,
    "start_time": "2024-10-29T23:07:15.561Z"
   },
   {
    "duration": 2,
    "start_time": "2024-10-29T23:07:15.890Z"
   },
   {
    "duration": 26,
    "start_time": "2024-10-29T23:07:15.893Z"
   },
   {
    "duration": 7,
    "start_time": "2024-10-29T23:07:15.920Z"
   },
   {
    "duration": 12,
    "start_time": "2024-10-29T23:07:15.928Z"
   },
   {
    "duration": 26,
    "start_time": "2024-10-29T23:07:15.941Z"
   },
   {
    "duration": 10,
    "start_time": "2024-10-29T23:07:15.969Z"
   },
   {
    "duration": 24,
    "start_time": "2024-10-29T23:07:15.980Z"
   },
   {
    "duration": 141,
    "start_time": "2024-10-29T23:07:16.005Z"
   },
   {
    "duration": 0,
    "start_time": "2024-10-29T23:07:16.147Z"
   },
   {
    "duration": 0,
    "start_time": "2024-10-29T23:07:16.149Z"
   },
   {
    "duration": 7,
    "start_time": "2024-10-29T23:08:40.716Z"
   },
   {
    "duration": 10,
    "start_time": "2024-10-29T23:08:44.630Z"
   },
   {
    "duration": 1170,
    "start_time": "2024-10-29T23:08:47.436Z"
   },
   {
    "duration": 2,
    "start_time": "2024-10-29T23:09:44.440Z"
   },
   {
    "duration": 15,
    "start_time": "2024-10-29T23:09:48.066Z"
   },
   {
    "duration": 14,
    "start_time": "2024-10-29T23:09:54.246Z"
   },
   {
    "duration": 17,
    "start_time": "2024-10-29T23:10:02.245Z"
   },
   {
    "duration": 10,
    "start_time": "2024-10-29T23:10:56.876Z"
   },
   {
    "duration": 1618,
    "start_time": "2024-10-29T23:11:06.180Z"
   },
   {
    "duration": 5,
    "start_time": "2024-10-29T23:11:07.799Z"
   },
   {
    "duration": 15,
    "start_time": "2024-10-29T23:11:07.805Z"
   },
   {
    "duration": 9,
    "start_time": "2024-10-29T23:11:07.822Z"
   },
   {
    "duration": 56,
    "start_time": "2024-10-29T23:11:07.833Z"
   },
   {
    "duration": 26,
    "start_time": "2024-10-29T23:11:07.891Z"
   },
   {
    "duration": 4,
    "start_time": "2024-10-29T23:11:07.918Z"
   },
   {
    "duration": 83,
    "start_time": "2024-10-29T23:11:07.923Z"
   },
   {
    "duration": 13,
    "start_time": "2024-10-29T23:11:08.007Z"
   },
   {
    "duration": 38,
    "start_time": "2024-10-29T23:11:08.024Z"
   },
   {
    "duration": 23,
    "start_time": "2024-10-29T23:11:08.064Z"
   },
   {
    "duration": 9,
    "start_time": "2024-10-29T23:11:08.089Z"
   },
   {
    "duration": 44,
    "start_time": "2024-10-29T23:11:08.100Z"
   },
   {
    "duration": 8,
    "start_time": "2024-10-29T23:11:08.145Z"
   },
   {
    "duration": 5,
    "start_time": "2024-10-29T23:11:08.154Z"
   },
   {
    "duration": 4,
    "start_time": "2024-10-29T23:11:08.161Z"
   },
   {
    "duration": 21,
    "start_time": "2024-10-29T23:11:08.166Z"
   },
   {
    "duration": 4,
    "start_time": "2024-10-29T23:11:08.188Z"
   },
   {
    "duration": 12,
    "start_time": "2024-10-29T23:11:08.193Z"
   },
   {
    "duration": 17,
    "start_time": "2024-10-29T23:11:08.206Z"
   },
   {
    "duration": 128,
    "start_time": "2024-10-29T23:11:08.225Z"
   },
   {
    "duration": 5,
    "start_time": "2024-10-29T23:11:08.354Z"
   },
   {
    "duration": 1700,
    "start_time": "2024-10-29T23:11:08.360Z"
   },
   {
    "duration": 5,
    "start_time": "2024-10-29T23:11:10.062Z"
   },
   {
    "duration": 2971,
    "start_time": "2024-10-29T23:11:10.068Z"
   },
   {
    "duration": 23,
    "start_time": "2024-10-29T23:11:13.041Z"
   },
   {
    "duration": 65,
    "start_time": "2024-10-29T23:11:13.065Z"
   },
   {
    "duration": 163,
    "start_time": "2024-10-29T23:11:13.134Z"
   },
   {
    "duration": 174,
    "start_time": "2024-10-29T23:11:13.299Z"
   },
   {
    "duration": 3,
    "start_time": "2024-10-29T23:11:13.475Z"
   },
   {
    "duration": 3,
    "start_time": "2024-10-29T23:11:13.479Z"
   },
   {
    "duration": 9,
    "start_time": "2024-10-29T23:11:13.483Z"
   },
   {
    "duration": 327,
    "start_time": "2024-10-29T23:11:13.493Z"
   },
   {
    "duration": 14,
    "start_time": "2024-10-29T23:11:13.821Z"
   },
   {
    "duration": 21,
    "start_time": "2024-10-29T23:11:13.836Z"
   },
   {
    "duration": 850,
    "start_time": "2024-10-29T23:11:13.858Z"
   },
   {
    "duration": 4,
    "start_time": "2024-10-29T23:11:14.709Z"
   },
   {
    "duration": 6,
    "start_time": "2024-10-29T23:11:14.714Z"
   },
   {
    "duration": 754,
    "start_time": "2024-10-29T23:11:14.722Z"
   },
   {
    "duration": 14,
    "start_time": "2024-10-29T23:11:15.477Z"
   },
   {
    "duration": 716,
    "start_time": "2024-10-29T23:11:15.492Z"
   },
   {
    "duration": 8,
    "start_time": "2024-10-29T23:11:16.209Z"
   },
   {
    "duration": 133,
    "start_time": "2024-10-29T23:11:16.218Z"
   },
   {
    "duration": 19,
    "start_time": "2024-10-29T23:11:16.353Z"
   },
   {
    "duration": 5,
    "start_time": "2024-10-29T23:11:16.373Z"
   },
   {
    "duration": 78,
    "start_time": "2024-10-29T23:11:16.379Z"
   },
   {
    "duration": 9,
    "start_time": "2024-10-29T23:11:16.459Z"
   },
   {
    "duration": 10,
    "start_time": "2024-10-29T23:11:16.469Z"
   },
   {
    "duration": 13,
    "start_time": "2024-10-29T23:11:16.480Z"
   },
   {
    "duration": 438,
    "start_time": "2024-10-29T23:11:16.495Z"
   },
   {
    "duration": 8,
    "start_time": "2024-10-29T23:11:16.934Z"
   },
   {
    "duration": 392,
    "start_time": "2024-10-29T23:11:16.943Z"
   },
   {
    "duration": 142,
    "start_time": "2024-10-29T23:11:17.336Z"
   },
   {
    "duration": 5,
    "start_time": "2024-10-29T23:11:17.480Z"
   },
   {
    "duration": 7,
    "start_time": "2024-10-29T23:11:17.486Z"
   },
   {
    "duration": 188,
    "start_time": "2024-10-29T23:11:17.494Z"
   },
   {
    "duration": 9,
    "start_time": "2024-10-29T23:11:17.683Z"
   },
   {
    "duration": 6,
    "start_time": "2024-10-29T23:11:17.693Z"
   },
   {
    "duration": 8,
    "start_time": "2024-10-29T23:11:17.700Z"
   },
   {
    "duration": 11,
    "start_time": "2024-10-29T23:11:17.709Z"
   },
   {
    "duration": 41,
    "start_time": "2024-10-29T23:11:17.722Z"
   },
   {
    "duration": 2,
    "start_time": "2024-10-29T23:11:17.765Z"
   },
   {
    "duration": 9,
    "start_time": "2024-10-29T23:11:17.769Z"
   },
   {
    "duration": 16,
    "start_time": "2024-10-29T23:11:17.780Z"
   },
   {
    "duration": 3,
    "start_time": "2024-10-29T23:11:17.797Z"
   },
   {
    "duration": 7,
    "start_time": "2024-10-29T23:11:17.802Z"
   },
   {
    "duration": 19,
    "start_time": "2024-10-29T23:11:17.810Z"
   },
   {
    "duration": 2,
    "start_time": "2024-10-29T23:11:17.830Z"
   },
   {
    "duration": 29,
    "start_time": "2024-10-29T23:11:17.834Z"
   },
   {
    "duration": 269,
    "start_time": "2024-10-29T23:11:17.864Z"
   },
   {
    "duration": 26,
    "start_time": "2024-10-29T23:11:18.135Z"
   },
   {
    "duration": 437,
    "start_time": "2024-10-29T23:11:18.162Z"
   },
   {
    "duration": 22,
    "start_time": "2024-10-29T23:11:18.600Z"
   },
   {
    "duration": 14,
    "start_time": "2024-10-29T23:11:18.623Z"
   },
   {
    "duration": 30,
    "start_time": "2024-10-29T23:11:18.638Z"
   },
   {
    "duration": 11,
    "start_time": "2024-10-29T23:11:18.670Z"
   },
   {
    "duration": 476,
    "start_time": "2024-10-29T23:11:18.683Z"
   },
   {
    "duration": 446,
    "start_time": "2024-10-29T23:11:19.160Z"
   },
   {
    "duration": 8,
    "start_time": "2024-10-29T23:11:19.608Z"
   },
   {
    "duration": 298,
    "start_time": "2024-10-29T23:11:19.617Z"
   },
   {
    "duration": 11,
    "start_time": "2024-10-29T23:11:19.916Z"
   },
   {
    "duration": 307,
    "start_time": "2024-10-29T23:11:19.933Z"
   },
   {
    "duration": 15,
    "start_time": "2024-10-29T23:11:20.242Z"
   },
   {
    "duration": 9,
    "start_time": "2024-10-29T23:11:20.258Z"
   },
   {
    "duration": 21,
    "start_time": "2024-10-29T23:11:20.268Z"
   },
   {
    "duration": 10,
    "start_time": "2024-10-29T23:11:20.290Z"
   },
   {
    "duration": 144,
    "start_time": "2024-10-29T23:11:20.301Z"
   },
   {
    "duration": 312,
    "start_time": "2024-10-29T23:11:20.446Z"
   },
   {
    "duration": 10,
    "start_time": "2024-10-29T23:11:20.760Z"
   },
   {
    "duration": 52,
    "start_time": "2024-10-29T23:11:20.771Z"
   },
   {
    "duration": 329,
    "start_time": "2024-10-29T23:11:20.825Z"
   },
   {
    "duration": 9,
    "start_time": "2024-10-29T23:11:21.156Z"
   },
   {
    "duration": 52,
    "start_time": "2024-10-29T23:11:21.166Z"
   },
   {
    "duration": 319,
    "start_time": "2024-10-29T23:11:21.220Z"
   },
   {
    "duration": 9,
    "start_time": "2024-10-29T23:11:21.540Z"
   },
   {
    "duration": 69,
    "start_time": "2024-10-29T23:11:21.556Z"
   },
   {
    "duration": 319,
    "start_time": "2024-10-29T23:11:21.627Z"
   },
   {
    "duration": 2,
    "start_time": "2024-10-29T23:11:21.948Z"
   },
   {
    "duration": 18,
    "start_time": "2024-10-29T23:11:21.951Z"
   },
   {
    "duration": 7,
    "start_time": "2024-10-29T23:11:21.970Z"
   },
   {
    "duration": 12,
    "start_time": "2024-10-29T23:11:21.978Z"
   },
   {
    "duration": 14,
    "start_time": "2024-10-29T23:11:21.992Z"
   },
   {
    "duration": 12,
    "start_time": "2024-10-29T23:11:22.007Z"
   },
   {
    "duration": 60,
    "start_time": "2024-10-29T23:11:22.020Z"
   },
   {
    "duration": 7,
    "start_time": "2024-10-29T23:11:22.081Z"
   },
   {
    "duration": 9,
    "start_time": "2024-10-29T23:11:22.089Z"
   },
   {
    "duration": 26,
    "start_time": "2024-10-29T23:11:22.099Z"
   },
   {
    "duration": 3748,
    "start_time": "2024-10-30T15:57:38.746Z"
   },
   {
    "duration": 4,
    "start_time": "2024-10-30T15:57:42.496Z"
   },
   {
    "duration": 12,
    "start_time": "2024-10-30T15:57:42.502Z"
   },
   {
    "duration": 8,
    "start_time": "2024-10-30T15:57:42.516Z"
   },
   {
    "duration": 180,
    "start_time": "2024-10-30T15:57:42.526Z"
   },
   {
    "duration": 25,
    "start_time": "2024-10-30T15:57:42.707Z"
   },
   {
    "duration": 4,
    "start_time": "2024-10-30T15:57:42.734Z"
   },
   {
    "duration": 100,
    "start_time": "2024-10-30T15:57:42.739Z"
   },
   {
    "duration": 17,
    "start_time": "2024-10-30T15:57:42.840Z"
   },
   {
    "duration": 12,
    "start_time": "2024-10-30T15:57:42.859Z"
   },
   {
    "duration": 9,
    "start_time": "2024-10-30T15:57:42.872Z"
   },
   {
    "duration": 9,
    "start_time": "2024-10-30T15:57:42.882Z"
   },
   {
    "duration": 23,
    "start_time": "2024-10-30T15:57:42.892Z"
   },
   {
    "duration": 6,
    "start_time": "2024-10-30T15:57:42.916Z"
   },
   {
    "duration": 35,
    "start_time": "2024-10-30T15:57:42.924Z"
   },
   {
    "duration": 4,
    "start_time": "2024-10-30T15:57:42.960Z"
   },
   {
    "duration": 29,
    "start_time": "2024-10-30T15:57:42.966Z"
   },
   {
    "duration": 3,
    "start_time": "2024-10-30T15:57:42.996Z"
   },
   {
    "duration": 4,
    "start_time": "2024-10-30T15:57:43.001Z"
   },
   {
    "duration": 10,
    "start_time": "2024-10-30T15:57:43.006Z"
   },
   {
    "duration": 1058,
    "start_time": "2024-10-30T15:57:43.017Z"
   },
   {
    "duration": 6,
    "start_time": "2024-10-30T15:57:44.077Z"
   },
   {
    "duration": 1779,
    "start_time": "2024-10-30T15:57:44.084Z"
   },
   {
    "duration": 5,
    "start_time": "2024-10-30T15:57:45.865Z"
   },
   {
    "duration": 3126,
    "start_time": "2024-10-30T15:57:45.872Z"
   },
   {
    "duration": 22,
    "start_time": "2024-10-30T15:57:48.999Z"
   },
   {
    "duration": 9,
    "start_time": "2024-10-30T15:57:49.023Z"
   },
   {
    "duration": 183,
    "start_time": "2024-10-30T15:57:49.036Z"
   },
   {
    "duration": 221,
    "start_time": "2024-10-30T15:57:49.220Z"
   },
   {
    "duration": 5,
    "start_time": "2024-10-30T15:57:49.442Z"
   },
   {
    "duration": 2,
    "start_time": "2024-10-30T15:57:49.458Z"
   },
   {
    "duration": 14,
    "start_time": "2024-10-30T15:57:49.462Z"
   },
   {
    "duration": 373,
    "start_time": "2024-10-30T15:57:49.477Z"
   },
   {
    "duration": 13,
    "start_time": "2024-10-30T15:57:49.857Z"
   },
   {
    "duration": 21,
    "start_time": "2024-10-30T15:57:49.872Z"
   },
   {
    "duration": 874,
    "start_time": "2024-10-30T15:57:49.894Z"
   },
   {
    "duration": 4,
    "start_time": "2024-10-30T15:57:50.769Z"
   },
   {
    "duration": 7,
    "start_time": "2024-10-30T15:57:50.774Z"
   },
   {
    "duration": 800,
    "start_time": "2024-10-30T15:57:50.782Z"
   },
   {
    "duration": 14,
    "start_time": "2024-10-30T15:57:51.584Z"
   },
   {
    "duration": 726,
    "start_time": "2024-10-30T15:57:51.599Z"
   },
   {
    "duration": 7,
    "start_time": "2024-10-30T15:57:52.327Z"
   },
   {
    "duration": 169,
    "start_time": "2024-10-30T15:57:52.336Z"
   },
   {
    "duration": 16,
    "start_time": "2024-10-30T15:57:52.507Z"
   },
   {
    "duration": 7,
    "start_time": "2024-10-30T15:57:52.525Z"
   },
   {
    "duration": 58,
    "start_time": "2024-10-30T15:57:52.533Z"
   },
   {
    "duration": 17,
    "start_time": "2024-10-30T15:57:52.592Z"
   },
   {
    "duration": 17,
    "start_time": "2024-10-30T15:57:52.611Z"
   },
   {
    "duration": 18,
    "start_time": "2024-10-30T15:57:52.629Z"
   },
   {
    "duration": 412,
    "start_time": "2024-10-30T15:57:52.648Z"
   },
   {
    "duration": 8,
    "start_time": "2024-10-30T15:57:53.062Z"
   },
   {
    "duration": 412,
    "start_time": "2024-10-30T15:57:53.072Z"
   },
   {
    "duration": 150,
    "start_time": "2024-10-30T15:57:53.485Z"
   },
   {
    "duration": 6,
    "start_time": "2024-10-30T15:57:53.636Z"
   },
   {
    "duration": 2,
    "start_time": "2024-10-30T15:57:53.657Z"
   },
   {
    "duration": 186,
    "start_time": "2024-10-30T15:57:53.661Z"
   },
   {
    "duration": 12,
    "start_time": "2024-10-30T15:57:53.848Z"
   },
   {
    "duration": 8,
    "start_time": "2024-10-30T15:57:53.861Z"
   },
   {
    "duration": 11,
    "start_time": "2024-10-30T15:57:53.870Z"
   },
   {
    "duration": 20,
    "start_time": "2024-10-30T15:57:53.882Z"
   },
   {
    "duration": 15,
    "start_time": "2024-10-30T15:57:53.904Z"
   },
   {
    "duration": 3,
    "start_time": "2024-10-30T15:57:53.921Z"
   },
   {
    "duration": 5,
    "start_time": "2024-10-30T15:57:53.925Z"
   },
   {
    "duration": 33,
    "start_time": "2024-10-30T15:57:53.932Z"
   },
   {
    "duration": 5,
    "start_time": "2024-10-30T15:57:53.966Z"
   },
   {
    "duration": 16,
    "start_time": "2024-10-30T15:57:53.973Z"
   },
   {
    "duration": 25,
    "start_time": "2024-10-30T15:57:53.991Z"
   },
   {
    "duration": 5,
    "start_time": "2024-10-30T15:57:54.017Z"
   },
   {
    "duration": 23,
    "start_time": "2024-10-30T15:57:54.023Z"
   },
   {
    "duration": 298,
    "start_time": "2024-10-30T15:57:54.048Z"
   },
   {
    "duration": 16,
    "start_time": "2024-10-30T15:57:54.357Z"
   },
   {
    "duration": 457,
    "start_time": "2024-10-30T15:57:54.375Z"
   },
   {
    "duration": 32,
    "start_time": "2024-10-30T15:57:54.833Z"
   },
   {
    "duration": 15,
    "start_time": "2024-10-30T15:57:54.866Z"
   },
   {
    "duration": 29,
    "start_time": "2024-10-30T15:57:54.882Z"
   },
   {
    "duration": 11,
    "start_time": "2024-10-30T15:57:54.912Z"
   },
   {
    "duration": 452,
    "start_time": "2024-10-30T15:57:54.925Z"
   },
   {
    "duration": 471,
    "start_time": "2024-10-30T15:57:55.378Z"
   },
   {
    "duration": 12,
    "start_time": "2024-10-30T15:57:55.851Z"
   },
   {
    "duration": 268,
    "start_time": "2024-10-30T15:57:55.865Z"
   },
   {
    "duration": 10,
    "start_time": "2024-10-30T15:57:56.135Z"
   },
   {
    "duration": 299,
    "start_time": "2024-10-30T15:57:56.157Z"
   },
   {
    "duration": 6,
    "start_time": "2024-10-30T15:57:56.458Z"
   },
   {
    "duration": 5,
    "start_time": "2024-10-30T15:57:56.465Z"
   },
   {
    "duration": 14,
    "start_time": "2024-10-30T15:57:56.471Z"
   },
   {
    "duration": 9,
    "start_time": "2024-10-30T15:57:56.486Z"
   },
   {
    "duration": 170,
    "start_time": "2024-10-30T15:57:56.496Z"
   },
   {
    "duration": 320,
    "start_time": "2024-10-30T15:57:56.667Z"
   },
   {
    "duration": 9,
    "start_time": "2024-10-30T15:57:56.988Z"
   },
   {
    "duration": 73,
    "start_time": "2024-10-30T15:57:56.998Z"
   },
   {
    "duration": 324,
    "start_time": "2024-10-30T15:57:57.072Z"
   },
   {
    "duration": 13,
    "start_time": "2024-10-30T15:57:57.398Z"
   },
   {
    "duration": 65,
    "start_time": "2024-10-30T15:57:57.413Z"
   },
   {
    "duration": 342,
    "start_time": "2024-10-30T15:57:57.480Z"
   },
   {
    "duration": 10,
    "start_time": "2024-10-30T15:57:57.824Z"
   },
   {
    "duration": 65,
    "start_time": "2024-10-30T15:57:57.835Z"
   },
   {
    "duration": 325,
    "start_time": "2024-10-30T15:57:57.901Z"
   },
   {
    "duration": 2,
    "start_time": "2024-10-30T15:57:58.228Z"
   },
   {
    "duration": 26,
    "start_time": "2024-10-30T15:57:58.232Z"
   },
   {
    "duration": 7,
    "start_time": "2024-10-30T15:57:58.259Z"
   },
   {
    "duration": 19,
    "start_time": "2024-10-30T15:57:58.268Z"
   },
   {
    "duration": 15,
    "start_time": "2024-10-30T15:57:58.289Z"
   },
   {
    "duration": 14,
    "start_time": "2024-10-30T15:57:58.305Z"
   },
   {
    "duration": 127,
    "start_time": "2024-10-30T15:57:58.320Z"
   },
   {
    "duration": 6,
    "start_time": "2024-10-30T15:57:58.448Z"
   },
   {
    "duration": 16,
    "start_time": "2024-10-30T15:57:58.456Z"
   },
   {
    "duration": 15,
    "start_time": "2024-10-30T15:57:58.473Z"
   },
   {
    "duration": 4,
    "start_time": "2024-10-30T16:00:08.159Z"
   },
   {
    "duration": 4,
    "start_time": "2024-10-30T16:00:14.150Z"
   },
   {
    "duration": 3705,
    "start_time": "2024-10-30T16:02:41.503Z"
   },
   {
    "duration": 5,
    "start_time": "2024-10-30T16:02:45.210Z"
   },
   {
    "duration": 25,
    "start_time": "2024-10-30T16:02:45.216Z"
   },
   {
    "duration": 9,
    "start_time": "2024-10-30T16:02:45.242Z"
   },
   {
    "duration": 76,
    "start_time": "2024-10-30T16:02:45.252Z"
   },
   {
    "duration": 26,
    "start_time": "2024-10-30T16:02:45.329Z"
   },
   {
    "duration": 5,
    "start_time": "2024-10-30T16:02:45.356Z"
   },
   {
    "duration": 83,
    "start_time": "2024-10-30T16:02:45.363Z"
   },
   {
    "duration": 22,
    "start_time": "2024-10-30T16:02:45.447Z"
   },
   {
    "duration": 12,
    "start_time": "2024-10-30T16:02:45.471Z"
   },
   {
    "duration": 11,
    "start_time": "2024-10-30T16:02:45.484Z"
   },
   {
    "duration": 8,
    "start_time": "2024-10-30T16:02:45.497Z"
   },
   {
    "duration": 53,
    "start_time": "2024-10-30T16:02:45.506Z"
   },
   {
    "duration": 7,
    "start_time": "2024-10-30T16:02:45.560Z"
   },
   {
    "duration": 5,
    "start_time": "2024-10-30T16:02:45.569Z"
   },
   {
    "duration": 6,
    "start_time": "2024-10-30T16:02:45.576Z"
   },
   {
    "duration": 4,
    "start_time": "2024-10-30T16:02:45.584Z"
   },
   {
    "duration": 6,
    "start_time": "2024-10-30T16:02:45.589Z"
   },
   {
    "duration": 4,
    "start_time": "2024-10-30T16:02:45.596Z"
   },
   {
    "duration": 9,
    "start_time": "2024-10-30T16:02:45.601Z"
   },
   {
    "duration": 8,
    "start_time": "2024-10-30T16:02:45.611Z"
   },
   {
    "duration": 1254,
    "start_time": "2024-10-30T16:02:45.621Z"
   },
   {
    "duration": 6,
    "start_time": "2024-10-30T16:02:46.877Z"
   },
   {
    "duration": 1838,
    "start_time": "2024-10-30T16:02:46.884Z"
   },
   {
    "duration": 36,
    "start_time": "2024-10-30T16:02:48.724Z"
   },
   {
    "duration": 3298,
    "start_time": "2024-10-30T16:02:48.761Z"
   },
   {
    "duration": 27,
    "start_time": "2024-10-30T16:02:52.061Z"
   },
   {
    "duration": 38,
    "start_time": "2024-10-30T16:02:52.092Z"
   },
   {
    "duration": 184,
    "start_time": "2024-10-30T16:02:52.132Z"
   },
   {
    "duration": 185,
    "start_time": "2024-10-30T16:02:52.318Z"
   },
   {
    "duration": 3,
    "start_time": "2024-10-30T16:02:52.504Z"
   },
   {
    "duration": 6,
    "start_time": "2024-10-30T16:02:52.509Z"
   },
   {
    "duration": 34,
    "start_time": "2024-10-30T16:02:52.516Z"
   },
   {
    "duration": 291,
    "start_time": "2024-10-30T16:02:52.552Z"
   },
   {
    "duration": 25,
    "start_time": "2024-10-30T16:02:52.844Z"
   },
   {
    "duration": 11,
    "start_time": "2024-10-30T16:02:52.871Z"
   },
   {
    "duration": 889,
    "start_time": "2024-10-30T16:02:52.883Z"
   },
   {
    "duration": 5,
    "start_time": "2024-10-30T16:02:53.774Z"
   },
   {
    "duration": 27,
    "start_time": "2024-10-30T16:02:53.781Z"
   },
   {
    "duration": 812,
    "start_time": "2024-10-30T16:02:53.809Z"
   },
   {
    "duration": 15,
    "start_time": "2024-10-30T16:02:54.623Z"
   },
   {
    "duration": 791,
    "start_time": "2024-10-30T16:02:54.639Z"
   },
   {
    "duration": 8,
    "start_time": "2024-10-30T16:02:55.432Z"
   },
   {
    "duration": 136,
    "start_time": "2024-10-30T16:02:55.441Z"
   },
   {
    "duration": 18,
    "start_time": "2024-10-30T16:02:55.579Z"
   },
   {
    "duration": 6,
    "start_time": "2024-10-30T16:02:55.598Z"
   },
   {
    "duration": 17,
    "start_time": "2024-10-30T16:02:55.605Z"
   },
   {
    "duration": 10,
    "start_time": "2024-10-30T16:02:55.623Z"
   },
   {
    "duration": 31,
    "start_time": "2024-10-30T16:02:55.635Z"
   },
   {
    "duration": 15,
    "start_time": "2024-10-30T16:02:55.668Z"
   },
   {
    "duration": 454,
    "start_time": "2024-10-30T16:02:55.685Z"
   },
   {
    "duration": 19,
    "start_time": "2024-10-30T16:02:56.140Z"
   },
   {
    "duration": 409,
    "start_time": "2024-10-30T16:02:56.161Z"
   },
   {
    "duration": 150,
    "start_time": "2024-10-30T16:02:56.572Z"
   },
   {
    "duration": 5,
    "start_time": "2024-10-30T16:02:56.724Z"
   },
   {
    "duration": 2,
    "start_time": "2024-10-30T16:02:56.730Z"
   },
   {
    "duration": 220,
    "start_time": "2024-10-30T16:02:56.733Z"
   },
   {
    "duration": 13,
    "start_time": "2024-10-30T16:02:56.956Z"
   },
   {
    "duration": 17,
    "start_time": "2024-10-30T16:02:56.970Z"
   },
   {
    "duration": 28,
    "start_time": "2024-10-30T16:02:56.989Z"
   },
   {
    "duration": 12,
    "start_time": "2024-10-30T16:02:57.018Z"
   },
   {
    "duration": 21,
    "start_time": "2024-10-30T16:02:57.032Z"
   },
   {
    "duration": 4,
    "start_time": "2024-10-30T16:02:57.055Z"
   },
   {
    "duration": 6,
    "start_time": "2024-10-30T16:02:57.061Z"
   },
   {
    "duration": 37,
    "start_time": "2024-10-30T16:02:57.068Z"
   },
   {
    "duration": 5,
    "start_time": "2024-10-30T16:02:57.106Z"
   },
   {
    "duration": 10,
    "start_time": "2024-10-30T16:02:57.112Z"
   },
   {
    "duration": 19,
    "start_time": "2024-10-30T16:02:57.123Z"
   },
   {
    "duration": 2,
    "start_time": "2024-10-30T16:02:57.143Z"
   },
   {
    "duration": 12,
    "start_time": "2024-10-30T16:02:57.146Z"
   },
   {
    "duration": 300,
    "start_time": "2024-10-30T16:02:57.160Z"
   },
   {
    "duration": 30,
    "start_time": "2024-10-30T16:02:57.462Z"
   },
   {
    "duration": 464,
    "start_time": "2024-10-30T16:02:57.493Z"
   },
   {
    "duration": 25,
    "start_time": "2024-10-30T16:02:57.959Z"
   },
   {
    "duration": 14,
    "start_time": "2024-10-30T16:02:57.986Z"
   },
   {
    "duration": 14,
    "start_time": "2024-10-30T16:02:58.001Z"
   },
   {
    "duration": 13,
    "start_time": "2024-10-30T16:02:58.016Z"
   },
   {
    "duration": 519,
    "start_time": "2024-10-30T16:02:58.030Z"
   },
   {
    "duration": 458,
    "start_time": "2024-10-30T16:02:58.551Z"
   },
   {
    "duration": 10,
    "start_time": "2024-10-30T16:02:59.011Z"
   },
   {
    "duration": 325,
    "start_time": "2024-10-30T16:02:59.022Z"
   },
   {
    "duration": 15,
    "start_time": "2024-10-30T16:02:59.360Z"
   },
   {
    "duration": 334,
    "start_time": "2024-10-30T16:02:59.377Z"
   },
   {
    "duration": 5,
    "start_time": "2024-10-30T16:02:59.713Z"
   },
   {
    "duration": 97,
    "start_time": "2024-10-30T16:02:59.720Z"
   },
   {
    "duration": 13,
    "start_time": "2024-10-30T16:02:59.819Z"
   },
   {
    "duration": 14,
    "start_time": "2024-10-30T16:02:59.834Z"
   },
   {
    "duration": 171,
    "start_time": "2024-10-30T16:02:59.849Z"
   },
   {
    "duration": 369,
    "start_time": "2024-10-30T16:03:00.022Z"
   },
   {
    "duration": 10,
    "start_time": "2024-10-30T16:03:00.392Z"
   },
   {
    "duration": 87,
    "start_time": "2024-10-30T16:03:00.403Z"
   },
   {
    "duration": 329,
    "start_time": "2024-10-30T16:03:00.491Z"
   },
   {
    "duration": 10,
    "start_time": "2024-10-30T16:03:00.821Z"
   },
   {
    "duration": 64,
    "start_time": "2024-10-30T16:03:00.833Z"
   },
   {
    "duration": 344,
    "start_time": "2024-10-30T16:03:00.899Z"
   },
   {
    "duration": 17,
    "start_time": "2024-10-30T16:03:01.245Z"
   },
   {
    "duration": 206,
    "start_time": "2024-10-30T16:03:01.264Z"
   },
   {
    "duration": 353,
    "start_time": "2024-10-30T16:03:01.472Z"
   },
   {
    "duration": 2,
    "start_time": "2024-10-30T16:03:01.827Z"
   },
   {
    "duration": 27,
    "start_time": "2024-10-30T16:03:01.830Z"
   },
   {
    "duration": 9,
    "start_time": "2024-10-30T16:03:01.860Z"
   },
   {
    "duration": 16,
    "start_time": "2024-10-30T16:03:01.870Z"
   },
   {
    "duration": 38,
    "start_time": "2024-10-30T16:03:01.888Z"
   },
   {
    "duration": 12,
    "start_time": "2024-10-30T16:03:01.928Z"
   },
   {
    "duration": 37,
    "start_time": "2024-10-30T16:03:01.942Z"
   },
   {
    "duration": 8,
    "start_time": "2024-10-30T16:03:01.980Z"
   },
   {
    "duration": 26,
    "start_time": "2024-10-30T16:03:01.989Z"
   },
   {
    "duration": 16,
    "start_time": "2024-10-30T16:03:02.016Z"
   },
   {
    "duration": 21,
    "start_time": "2024-10-30T16:03:19.271Z"
   },
   {
    "duration": 4,
    "start_time": "2024-10-30T16:03:29.109Z"
   },
   {
    "duration": 3,
    "start_time": "2024-10-30T16:03:44.985Z"
   },
   {
    "duration": 3871,
    "start_time": "2024-10-30T16:03:50.030Z"
   },
   {
    "duration": 4,
    "start_time": "2024-10-30T16:03:53.902Z"
   },
   {
    "duration": 7,
    "start_time": "2024-10-30T16:03:53.908Z"
   },
   {
    "duration": 6,
    "start_time": "2024-10-30T16:03:53.917Z"
   },
   {
    "duration": 53,
    "start_time": "2024-10-30T16:03:53.924Z"
   },
   {
    "duration": 26,
    "start_time": "2024-10-30T16:03:53.978Z"
   },
   {
    "duration": 4,
    "start_time": "2024-10-30T16:03:54.005Z"
   },
   {
    "duration": 77,
    "start_time": "2024-10-30T16:03:54.010Z"
   },
   {
    "duration": 12,
    "start_time": "2024-10-30T16:03:54.089Z"
   },
   {
    "duration": 21,
    "start_time": "2024-10-30T16:03:54.104Z"
   },
   {
    "duration": 21,
    "start_time": "2024-10-30T16:03:54.127Z"
   },
   {
    "duration": 11,
    "start_time": "2024-10-30T16:03:54.149Z"
   },
   {
    "duration": 27,
    "start_time": "2024-10-30T16:03:54.161Z"
   },
   {
    "duration": 6,
    "start_time": "2024-10-30T16:03:54.189Z"
   },
   {
    "duration": 57,
    "start_time": "2024-10-30T16:03:54.197Z"
   },
   {
    "duration": 7,
    "start_time": "2024-10-30T16:03:54.256Z"
   },
   {
    "duration": 5,
    "start_time": "2024-10-30T16:03:54.264Z"
   },
   {
    "duration": 8,
    "start_time": "2024-10-30T16:03:54.270Z"
   },
   {
    "duration": 16,
    "start_time": "2024-10-30T16:03:54.279Z"
   },
   {
    "duration": 17,
    "start_time": "2024-10-30T16:03:54.297Z"
   },
   {
    "duration": 7,
    "start_time": "2024-10-30T16:03:54.315Z"
   },
   {
    "duration": 12,
    "start_time": "2024-10-30T16:03:54.323Z"
   },
   {
    "duration": 973,
    "start_time": "2024-10-30T16:03:54.336Z"
   },
   {
    "duration": 6,
    "start_time": "2024-10-30T16:03:55.310Z"
   },
   {
    "duration": 1743,
    "start_time": "2024-10-30T16:03:55.317Z"
   },
   {
    "duration": 5,
    "start_time": "2024-10-30T16:03:57.062Z"
   },
   {
    "duration": 3065,
    "start_time": "2024-10-30T16:03:57.068Z"
   },
   {
    "duration": 27,
    "start_time": "2024-10-30T16:04:00.137Z"
   },
   {
    "duration": 130,
    "start_time": "2024-10-30T16:04:00.165Z"
   },
   {
    "duration": 215,
    "start_time": "2024-10-30T16:04:00.296Z"
   },
   {
    "duration": 188,
    "start_time": "2024-10-30T16:04:00.513Z"
   },
   {
    "duration": 3,
    "start_time": "2024-10-30T16:04:00.702Z"
   },
   {
    "duration": 37,
    "start_time": "2024-10-30T16:04:00.707Z"
   },
   {
    "duration": 127,
    "start_time": "2024-10-30T16:04:00.745Z"
   },
   {
    "duration": 323,
    "start_time": "2024-10-30T16:04:00.874Z"
   },
   {
    "duration": 15,
    "start_time": "2024-10-30T16:04:01.198Z"
   },
   {
    "duration": 9,
    "start_time": "2024-10-30T16:04:01.214Z"
   },
   {
    "duration": 884,
    "start_time": "2024-10-30T16:04:01.224Z"
   },
   {
    "duration": 4,
    "start_time": "2024-10-30T16:04:02.109Z"
   },
   {
    "duration": 25,
    "start_time": "2024-10-30T16:04:02.114Z"
   },
   {
    "duration": 798,
    "start_time": "2024-10-30T16:04:02.140Z"
   },
   {
    "duration": 20,
    "start_time": "2024-10-30T16:04:02.939Z"
   },
   {
    "duration": 743,
    "start_time": "2024-10-30T16:04:02.960Z"
   },
   {
    "duration": 7,
    "start_time": "2024-10-30T16:04:03.704Z"
   },
   {
    "duration": 214,
    "start_time": "2024-10-30T16:04:03.713Z"
   },
   {
    "duration": 17,
    "start_time": "2024-10-30T16:04:03.928Z"
   },
   {
    "duration": 5,
    "start_time": "2024-10-30T16:04:03.946Z"
   },
   {
    "duration": 20,
    "start_time": "2024-10-30T16:04:03.957Z"
   },
   {
    "duration": 10,
    "start_time": "2024-10-30T16:04:03.978Z"
   },
   {
    "duration": 26,
    "start_time": "2024-10-30T16:04:03.989Z"
   },
   {
    "duration": 14,
    "start_time": "2024-10-30T16:04:04.016Z"
   },
   {
    "duration": 433,
    "start_time": "2024-10-30T16:04:04.032Z"
   },
   {
    "duration": 8,
    "start_time": "2024-10-30T16:04:04.467Z"
   },
   {
    "duration": 400,
    "start_time": "2024-10-30T16:04:04.476Z"
   },
   {
    "duration": 149,
    "start_time": "2024-10-30T16:04:04.878Z"
   },
   {
    "duration": 5,
    "start_time": "2024-10-30T16:04:05.028Z"
   },
   {
    "duration": 4,
    "start_time": "2024-10-30T16:04:05.035Z"
   },
   {
    "duration": 199,
    "start_time": "2024-10-30T16:04:05.040Z"
   },
   {
    "duration": 9,
    "start_time": "2024-10-30T16:04:05.240Z"
   },
   {
    "duration": 51,
    "start_time": "2024-10-30T16:04:05.257Z"
   },
   {
    "duration": 37,
    "start_time": "2024-10-30T16:04:05.309Z"
   },
   {
    "duration": 16,
    "start_time": "2024-10-30T16:04:05.347Z"
   },
   {
    "duration": 24,
    "start_time": "2024-10-30T16:04:05.365Z"
   },
   {
    "duration": 23,
    "start_time": "2024-10-30T16:04:05.390Z"
   },
   {
    "duration": 21,
    "start_time": "2024-10-30T16:04:05.414Z"
   },
   {
    "duration": 17,
    "start_time": "2024-10-30T16:04:05.436Z"
   },
   {
    "duration": 4,
    "start_time": "2024-10-30T16:04:05.454Z"
   },
   {
    "duration": 12,
    "start_time": "2024-10-30T16:04:05.460Z"
   },
   {
    "duration": 59,
    "start_time": "2024-10-30T16:04:05.474Z"
   },
   {
    "duration": 13,
    "start_time": "2024-10-30T16:04:05.535Z"
   },
   {
    "duration": 21,
    "start_time": "2024-10-30T16:04:05.550Z"
   },
   {
    "duration": 263,
    "start_time": "2024-10-30T16:04:05.573Z"
   },
   {
    "duration": 32,
    "start_time": "2024-10-30T16:04:05.838Z"
   },
   {
    "duration": 462,
    "start_time": "2024-10-30T16:04:05.872Z"
   },
   {
    "duration": 33,
    "start_time": "2024-10-30T16:04:06.335Z"
   },
   {
    "duration": 116,
    "start_time": "2024-10-30T16:04:06.370Z"
   },
   {
    "duration": 28,
    "start_time": "2024-10-30T16:04:06.488Z"
   },
   {
    "duration": 13,
    "start_time": "2024-10-30T16:04:06.518Z"
   },
   {
    "duration": 449,
    "start_time": "2024-10-30T16:04:06.532Z"
   },
   {
    "duration": 475,
    "start_time": "2024-10-30T16:04:06.983Z"
   },
   {
    "duration": 8,
    "start_time": "2024-10-30T16:04:07.459Z"
   },
   {
    "duration": 271,
    "start_time": "2024-10-30T16:04:07.472Z"
   },
   {
    "duration": 20,
    "start_time": "2024-10-30T16:04:07.744Z"
   },
   {
    "duration": 372,
    "start_time": "2024-10-30T16:04:07.765Z"
   },
   {
    "duration": 5,
    "start_time": "2024-10-30T16:04:08.139Z"
   },
   {
    "duration": 13,
    "start_time": "2024-10-30T16:04:08.145Z"
   },
   {
    "duration": 17,
    "start_time": "2024-10-30T16:04:08.159Z"
   },
   {
    "duration": 8,
    "start_time": "2024-10-30T16:04:08.177Z"
   },
   {
    "duration": 228,
    "start_time": "2024-10-30T16:04:08.186Z"
   },
   {
    "duration": 330,
    "start_time": "2024-10-30T16:04:08.416Z"
   },
   {
    "duration": 14,
    "start_time": "2024-10-30T16:04:08.747Z"
   },
   {
    "duration": 149,
    "start_time": "2024-10-30T16:04:08.762Z"
   },
   {
    "duration": 313,
    "start_time": "2024-10-30T16:04:08.913Z"
   },
   {
    "duration": 9,
    "start_time": "2024-10-30T16:04:09.227Z"
   },
   {
    "duration": 70,
    "start_time": "2024-10-30T16:04:09.237Z"
   },
   {
    "duration": 331,
    "start_time": "2024-10-30T16:04:09.308Z"
   },
   {
    "duration": 17,
    "start_time": "2024-10-30T16:04:09.641Z"
   },
   {
    "duration": 54,
    "start_time": "2024-10-30T16:04:09.660Z"
   },
   {
    "duration": 335,
    "start_time": "2024-10-30T16:04:09.715Z"
   },
   {
    "duration": 3,
    "start_time": "2024-10-30T16:04:10.051Z"
   },
   {
    "duration": 31,
    "start_time": "2024-10-30T16:04:10.058Z"
   },
   {
    "duration": 15,
    "start_time": "2024-10-30T16:04:10.091Z"
   },
   {
    "duration": 18,
    "start_time": "2024-10-30T16:04:10.107Z"
   },
   {
    "duration": 28,
    "start_time": "2024-10-30T16:04:10.127Z"
   },
   {
    "duration": 11,
    "start_time": "2024-10-30T16:04:10.156Z"
   },
   {
    "duration": 106,
    "start_time": "2024-10-30T16:04:10.168Z"
   },
   {
    "duration": 8,
    "start_time": "2024-10-30T16:04:10.275Z"
   },
   {
    "duration": 12,
    "start_time": "2024-10-30T16:04:10.284Z"
   },
   {
    "duration": 39,
    "start_time": "2024-10-30T16:04:10.298Z"
   },
   {
    "duration": 52,
    "start_time": "2024-10-30T18:47:39.567Z"
   },
   {
    "duration": 2452,
    "start_time": "2024-10-30T18:47:54.425Z"
   },
   {
    "duration": 8,
    "start_time": "2024-10-30T18:47:56.882Z"
   },
   {
    "duration": 66,
    "start_time": "2024-10-30T18:47:56.893Z"
   },
   {
    "duration": 7,
    "start_time": "2024-10-30T18:47:56.962Z"
   },
   {
    "duration": 162,
    "start_time": "2024-10-30T18:47:56.971Z"
   },
   {
    "duration": 33,
    "start_time": "2024-10-30T18:47:57.135Z"
   },
   {
    "duration": 7,
    "start_time": "2024-10-30T18:47:57.170Z"
   },
   {
    "duration": 118,
    "start_time": "2024-10-30T18:47:57.180Z"
   },
   {
    "duration": 21,
    "start_time": "2024-10-30T18:47:57.300Z"
   },
   {
    "duration": 35,
    "start_time": "2024-10-30T18:47:57.324Z"
   },
   {
    "duration": 78,
    "start_time": "2024-10-30T18:47:57.361Z"
   },
   {
    "duration": 19,
    "start_time": "2024-10-30T18:47:57.441Z"
   },
   {
    "duration": 44,
    "start_time": "2024-10-30T18:47:57.461Z"
   },
   {
    "duration": 7,
    "start_time": "2024-10-30T18:47:57.507Z"
   },
   {
    "duration": 22,
    "start_time": "2024-10-30T18:47:57.515Z"
   },
   {
    "duration": 133,
    "start_time": "2024-10-30T18:47:57.539Z"
   },
   {
    "duration": 0,
    "start_time": "2024-10-30T18:47:57.677Z"
   },
   {
    "duration": 0,
    "start_time": "2024-10-30T18:47:57.678Z"
   },
   {
    "duration": 0,
    "start_time": "2024-10-30T18:47:57.680Z"
   },
   {
    "duration": 0,
    "start_time": "2024-10-30T18:47:57.681Z"
   },
   {
    "duration": 0,
    "start_time": "2024-10-30T18:47:57.682Z"
   },
   {
    "duration": 0,
    "start_time": "2024-10-30T18:47:57.684Z"
   },
   {
    "duration": 0,
    "start_time": "2024-10-30T18:47:57.685Z"
   },
   {
    "duration": 0,
    "start_time": "2024-10-30T18:47:57.687Z"
   },
   {
    "duration": 0,
    "start_time": "2024-10-30T18:47:57.689Z"
   },
   {
    "duration": 0,
    "start_time": "2024-10-30T18:47:57.690Z"
   },
   {
    "duration": 0,
    "start_time": "2024-10-30T18:47:57.691Z"
   },
   {
    "duration": 0,
    "start_time": "2024-10-30T18:47:57.692Z"
   },
   {
    "duration": 0,
    "start_time": "2024-10-30T18:47:57.693Z"
   },
   {
    "duration": 0,
    "start_time": "2024-10-30T18:47:57.694Z"
   },
   {
    "duration": 0,
    "start_time": "2024-10-30T18:47:57.696Z"
   },
   {
    "duration": 0,
    "start_time": "2024-10-30T18:47:57.696Z"
   },
   {
    "duration": 0,
    "start_time": "2024-10-30T18:47:57.698Z"
   },
   {
    "duration": 0,
    "start_time": "2024-10-30T18:47:57.699Z"
   },
   {
    "duration": 0,
    "start_time": "2024-10-30T18:47:57.700Z"
   },
   {
    "duration": 0,
    "start_time": "2024-10-30T18:47:57.701Z"
   },
   {
    "duration": 0,
    "start_time": "2024-10-30T18:47:57.702Z"
   },
   {
    "duration": 0,
    "start_time": "2024-10-30T18:47:57.703Z"
   },
   {
    "duration": 0,
    "start_time": "2024-10-30T18:47:57.704Z"
   },
   {
    "duration": 0,
    "start_time": "2024-10-30T18:47:57.743Z"
   },
   {
    "duration": 0,
    "start_time": "2024-10-30T18:47:57.745Z"
   },
   {
    "duration": 0,
    "start_time": "2024-10-30T18:47:57.747Z"
   },
   {
    "duration": 0,
    "start_time": "2024-10-30T18:47:57.748Z"
   },
   {
    "duration": 0,
    "start_time": "2024-10-30T18:47:57.749Z"
   },
   {
    "duration": 0,
    "start_time": "2024-10-30T18:47:57.751Z"
   },
   {
    "duration": 0,
    "start_time": "2024-10-30T18:47:57.752Z"
   },
   {
    "duration": 0,
    "start_time": "2024-10-30T18:47:57.753Z"
   },
   {
    "duration": 0,
    "start_time": "2024-10-30T18:47:57.755Z"
   },
   {
    "duration": 0,
    "start_time": "2024-10-30T18:47:57.756Z"
   },
   {
    "duration": 0,
    "start_time": "2024-10-30T18:47:57.757Z"
   },
   {
    "duration": 0,
    "start_time": "2024-10-30T18:47:57.759Z"
   },
   {
    "duration": 0,
    "start_time": "2024-10-30T18:47:57.760Z"
   },
   {
    "duration": 0,
    "start_time": "2024-10-30T18:47:57.762Z"
   },
   {
    "duration": 0,
    "start_time": "2024-10-30T18:47:57.763Z"
   },
   {
    "duration": 0,
    "start_time": "2024-10-30T18:47:57.764Z"
   },
   {
    "duration": 0,
    "start_time": "2024-10-30T18:47:57.765Z"
   },
   {
    "duration": 0,
    "start_time": "2024-10-30T18:47:57.767Z"
   },
   {
    "duration": 0,
    "start_time": "2024-10-30T18:47:57.770Z"
   },
   {
    "duration": 0,
    "start_time": "2024-10-30T18:47:57.771Z"
   },
   {
    "duration": 0,
    "start_time": "2024-10-30T18:47:57.773Z"
   },
   {
    "duration": 0,
    "start_time": "2024-10-30T18:47:57.774Z"
   },
   {
    "duration": 0,
    "start_time": "2024-10-30T18:47:57.776Z"
   },
   {
    "duration": 0,
    "start_time": "2024-10-30T18:47:57.777Z"
   },
   {
    "duration": 1,
    "start_time": "2024-10-30T18:47:57.778Z"
   },
   {
    "duration": 0,
    "start_time": "2024-10-30T18:47:57.780Z"
   },
   {
    "duration": 0,
    "start_time": "2024-10-30T18:47:57.844Z"
   },
   {
    "duration": 0,
    "start_time": "2024-10-30T18:47:57.846Z"
   },
   {
    "duration": 0,
    "start_time": "2024-10-30T18:47:57.848Z"
   },
   {
    "duration": 0,
    "start_time": "2024-10-30T18:47:57.849Z"
   },
   {
    "duration": 0,
    "start_time": "2024-10-30T18:47:57.850Z"
   },
   {
    "duration": 0,
    "start_time": "2024-10-30T18:47:57.852Z"
   },
   {
    "duration": 0,
    "start_time": "2024-10-30T18:47:57.853Z"
   },
   {
    "duration": 0,
    "start_time": "2024-10-30T18:47:57.854Z"
   },
   {
    "duration": 0,
    "start_time": "2024-10-30T18:47:57.855Z"
   },
   {
    "duration": 0,
    "start_time": "2024-10-30T18:47:57.856Z"
   },
   {
    "duration": 0,
    "start_time": "2024-10-30T18:47:57.857Z"
   },
   {
    "duration": 0,
    "start_time": "2024-10-30T18:47:57.859Z"
   },
   {
    "duration": 0,
    "start_time": "2024-10-30T18:47:57.860Z"
   },
   {
    "duration": 0,
    "start_time": "2024-10-30T18:47:57.861Z"
   },
   {
    "duration": 0,
    "start_time": "2024-10-30T18:47:57.862Z"
   },
   {
    "duration": 0,
    "start_time": "2024-10-30T18:47:57.863Z"
   },
   {
    "duration": 0,
    "start_time": "2024-10-30T18:47:57.864Z"
   },
   {
    "duration": 0,
    "start_time": "2024-10-30T18:47:57.865Z"
   },
   {
    "duration": 0,
    "start_time": "2024-10-30T18:47:57.867Z"
   },
   {
    "duration": 0,
    "start_time": "2024-10-30T18:47:57.868Z"
   },
   {
    "duration": 0,
    "start_time": "2024-10-30T18:47:57.869Z"
   },
   {
    "duration": 0,
    "start_time": "2024-10-30T18:47:57.870Z"
   },
   {
    "duration": 0,
    "start_time": "2024-10-30T18:47:57.871Z"
   },
   {
    "duration": 0,
    "start_time": "2024-10-30T18:47:57.873Z"
   },
   {
    "duration": 0,
    "start_time": "2024-10-30T18:47:57.875Z"
   },
   {
    "duration": 0,
    "start_time": "2024-10-30T18:47:57.875Z"
   },
   {
    "duration": 0,
    "start_time": "2024-10-30T18:47:57.878Z"
   },
   {
    "duration": 0,
    "start_time": "2024-10-30T18:47:57.879Z"
   },
   {
    "duration": 0,
    "start_time": "2024-10-30T18:47:57.880Z"
   },
   {
    "duration": 0,
    "start_time": "2024-10-30T18:47:57.881Z"
   },
   {
    "duration": 0,
    "start_time": "2024-10-30T18:47:57.944Z"
   },
   {
    "duration": 0,
    "start_time": "2024-10-30T18:47:57.946Z"
   },
   {
    "duration": 0,
    "start_time": "2024-10-30T18:47:57.949Z"
   },
   {
    "duration": 0,
    "start_time": "2024-10-30T18:47:57.950Z"
   },
   {
    "duration": 0,
    "start_time": "2024-10-30T18:47:57.952Z"
   },
   {
    "duration": 0,
    "start_time": "2024-10-30T18:47:57.953Z"
   },
   {
    "duration": 0,
    "start_time": "2024-10-30T18:47:57.954Z"
   },
   {
    "duration": 0,
    "start_time": "2024-10-30T18:47:57.955Z"
   },
   {
    "duration": 0,
    "start_time": "2024-10-30T18:47:57.957Z"
   },
   {
    "duration": 0,
    "start_time": "2024-10-30T18:47:57.958Z"
   },
   {
    "duration": 0,
    "start_time": "2024-10-30T18:47:57.960Z"
   },
   {
    "duration": 1,
    "start_time": "2024-10-30T18:47:57.960Z"
   },
   {
    "duration": 0,
    "start_time": "2024-10-30T18:47:57.962Z"
   },
   {
    "duration": 0,
    "start_time": "2024-10-30T18:47:57.963Z"
   },
   {
    "duration": 5,
    "start_time": "2024-10-30T18:48:20.786Z"
   },
   {
    "duration": 18,
    "start_time": "2024-10-30T18:48:23.177Z"
   },
   {
    "duration": 20,
    "start_time": "2024-10-30T18:48:47.007Z"
   },
   {
    "duration": 13,
    "start_time": "2024-10-30T18:49:20.091Z"
   },
   {
    "duration": 9,
    "start_time": "2024-10-30T18:49:33.956Z"
   },
   {
    "duration": 10,
    "start_time": "2024-10-30T18:49:56.341Z"
   },
   {
    "duration": 3,
    "start_time": "2024-10-30T18:49:58.330Z"
   },
   {
    "duration": 4,
    "start_time": "2024-10-30T18:50:01.516Z"
   },
   {
    "duration": 4,
    "start_time": "2024-10-30T18:50:06.171Z"
   },
   {
    "duration": 3,
    "start_time": "2024-10-30T18:50:27.030Z"
   },
   {
    "duration": 4,
    "start_time": "2024-10-30T18:50:28.291Z"
   },
   {
    "duration": 4,
    "start_time": "2024-10-30T18:50:33.466Z"
   },
   {
    "duration": 19,
    "start_time": "2024-10-30T18:51:43.391Z"
   },
   {
    "duration": 21,
    "start_time": "2024-10-30T18:52:03.242Z"
   },
   {
    "duration": 1983,
    "start_time": "2024-10-30T18:53:37.799Z"
   },
   {
    "duration": 6,
    "start_time": "2024-10-30T18:53:39.784Z"
   },
   {
    "duration": 22,
    "start_time": "2024-10-30T18:53:39.792Z"
   },
   {
    "duration": 11,
    "start_time": "2024-10-30T18:53:39.816Z"
   },
   {
    "duration": 63,
    "start_time": "2024-10-30T18:53:39.828Z"
   },
   {
    "duration": 30,
    "start_time": "2024-10-30T18:53:39.893Z"
   },
   {
    "duration": 72,
    "start_time": "2024-10-30T18:53:39.925Z"
   },
   {
    "duration": 109,
    "start_time": "2024-10-30T18:53:39.999Z"
   },
   {
    "duration": 42,
    "start_time": "2024-10-30T18:53:40.110Z"
   },
   {
    "duration": 46,
    "start_time": "2024-10-30T18:53:40.155Z"
   },
   {
    "duration": 18,
    "start_time": "2024-10-30T18:53:40.203Z"
   },
   {
    "duration": 10,
    "start_time": "2024-10-30T18:53:40.223Z"
   },
   {
    "duration": 36,
    "start_time": "2024-10-30T18:53:40.234Z"
   },
   {
    "duration": 9,
    "start_time": "2024-10-30T18:53:40.272Z"
   },
   {
    "duration": 7,
    "start_time": "2024-10-30T18:53:40.283Z"
   },
   {
    "duration": 35,
    "start_time": "2024-10-30T18:53:40.291Z"
   },
   {
    "duration": 16,
    "start_time": "2024-10-30T18:53:40.327Z"
   },
   {
    "duration": 11,
    "start_time": "2024-10-30T18:53:40.344Z"
   },
   {
    "duration": 13,
    "start_time": "2024-10-30T18:53:40.356Z"
   },
   {
    "duration": 14,
    "start_time": "2024-10-30T18:53:40.370Z"
   },
   {
    "duration": 18,
    "start_time": "2024-10-30T18:53:40.385Z"
   },
   {
    "duration": 6,
    "start_time": "2024-10-30T18:53:40.404Z"
   },
   {
    "duration": 22,
    "start_time": "2024-10-30T18:53:40.411Z"
   },
   {
    "duration": 72,
    "start_time": "2024-10-30T18:53:40.435Z"
   },
   {
    "duration": 0,
    "start_time": "2024-10-30T18:53:40.511Z"
   },
   {
    "duration": 0,
    "start_time": "2024-10-30T18:53:40.512Z"
   },
   {
    "duration": 0,
    "start_time": "2024-10-30T18:53:40.513Z"
   },
   {
    "duration": 0,
    "start_time": "2024-10-30T18:53:40.514Z"
   },
   {
    "duration": 0,
    "start_time": "2024-10-30T18:53:40.515Z"
   },
   {
    "duration": 0,
    "start_time": "2024-10-30T18:53:40.516Z"
   },
   {
    "duration": 0,
    "start_time": "2024-10-30T18:53:40.517Z"
   },
   {
    "duration": 0,
    "start_time": "2024-10-30T18:53:40.518Z"
   },
   {
    "duration": 0,
    "start_time": "2024-10-30T18:53:40.520Z"
   },
   {
    "duration": 0,
    "start_time": "2024-10-30T18:53:40.521Z"
   },
   {
    "duration": 0,
    "start_time": "2024-10-30T18:53:40.522Z"
   },
   {
    "duration": 0,
    "start_time": "2024-10-30T18:53:40.523Z"
   },
   {
    "duration": 0,
    "start_time": "2024-10-30T18:53:40.524Z"
   },
   {
    "duration": 0,
    "start_time": "2024-10-30T18:53:40.525Z"
   },
   {
    "duration": 0,
    "start_time": "2024-10-30T18:53:40.527Z"
   },
   {
    "duration": 0,
    "start_time": "2024-10-30T18:53:40.528Z"
   },
   {
    "duration": 0,
    "start_time": "2024-10-30T18:53:40.528Z"
   },
   {
    "duration": 0,
    "start_time": "2024-10-30T18:53:40.530Z"
   },
   {
    "duration": 0,
    "start_time": "2024-10-30T18:53:40.531Z"
   },
   {
    "duration": 0,
    "start_time": "2024-10-30T18:53:40.532Z"
   },
   {
    "duration": 0,
    "start_time": "2024-10-30T18:53:40.533Z"
   },
   {
    "duration": 0,
    "start_time": "2024-10-30T18:53:40.533Z"
   },
   {
    "duration": 0,
    "start_time": "2024-10-30T18:53:40.535Z"
   },
   {
    "duration": 0,
    "start_time": "2024-10-30T18:53:40.536Z"
   },
   {
    "duration": 0,
    "start_time": "2024-10-30T18:53:40.537Z"
   },
   {
    "duration": 0,
    "start_time": "2024-10-30T18:53:40.538Z"
   },
   {
    "duration": 0,
    "start_time": "2024-10-30T18:53:40.539Z"
   },
   {
    "duration": 0,
    "start_time": "2024-10-30T18:53:40.540Z"
   },
   {
    "duration": 0,
    "start_time": "2024-10-30T18:53:40.541Z"
   },
   {
    "duration": 0,
    "start_time": "2024-10-30T18:53:40.543Z"
   },
   {
    "duration": 0,
    "start_time": "2024-10-30T18:53:40.544Z"
   },
   {
    "duration": 0,
    "start_time": "2024-10-30T18:53:40.545Z"
   },
   {
    "duration": 0,
    "start_time": "2024-10-30T18:53:40.546Z"
   },
   {
    "duration": 0,
    "start_time": "2024-10-30T18:53:40.548Z"
   },
   {
    "duration": 0,
    "start_time": "2024-10-30T18:53:40.549Z"
   },
   {
    "duration": 0,
    "start_time": "2024-10-30T18:53:40.550Z"
   },
   {
    "duration": 0,
    "start_time": "2024-10-30T18:53:40.552Z"
   },
   {
    "duration": 0,
    "start_time": "2024-10-30T18:53:40.553Z"
   },
   {
    "duration": 0,
    "start_time": "2024-10-30T18:53:40.554Z"
   },
   {
    "duration": 1,
    "start_time": "2024-10-30T18:53:40.555Z"
   },
   {
    "duration": 0,
    "start_time": "2024-10-30T18:53:40.557Z"
   },
   {
    "duration": 0,
    "start_time": "2024-10-30T18:53:40.558Z"
   },
   {
    "duration": 0,
    "start_time": "2024-10-30T18:53:40.559Z"
   },
   {
    "duration": 0,
    "start_time": "2024-10-30T18:53:40.560Z"
   },
   {
    "duration": 0,
    "start_time": "2024-10-30T18:53:40.561Z"
   },
   {
    "duration": 0,
    "start_time": "2024-10-30T18:53:40.562Z"
   },
   {
    "duration": 0,
    "start_time": "2024-10-30T18:53:40.563Z"
   },
   {
    "duration": 0,
    "start_time": "2024-10-30T18:53:40.564Z"
   },
   {
    "duration": 0,
    "start_time": "2024-10-30T18:53:40.565Z"
   },
   {
    "duration": 0,
    "start_time": "2024-10-30T18:53:40.566Z"
   },
   {
    "duration": 0,
    "start_time": "2024-10-30T18:53:40.567Z"
   },
   {
    "duration": 0,
    "start_time": "2024-10-30T18:53:40.569Z"
   },
   {
    "duration": 0,
    "start_time": "2024-10-30T18:53:40.570Z"
   },
   {
    "duration": 0,
    "start_time": "2024-10-30T18:53:40.572Z"
   },
   {
    "duration": 0,
    "start_time": "2024-10-30T18:53:40.573Z"
   },
   {
    "duration": 0,
    "start_time": "2024-10-30T18:53:40.574Z"
   },
   {
    "duration": 0,
    "start_time": "2024-10-30T18:53:40.575Z"
   },
   {
    "duration": 0,
    "start_time": "2024-10-30T18:53:40.577Z"
   },
   {
    "duration": 0,
    "start_time": "2024-10-30T18:53:40.578Z"
   },
   {
    "duration": 0,
    "start_time": "2024-10-30T18:53:40.579Z"
   },
   {
    "duration": 0,
    "start_time": "2024-10-30T18:53:40.580Z"
   },
   {
    "duration": 0,
    "start_time": "2024-10-30T18:53:40.581Z"
   },
   {
    "duration": 0,
    "start_time": "2024-10-30T18:53:40.582Z"
   },
   {
    "duration": 0,
    "start_time": "2024-10-30T18:53:40.583Z"
   },
   {
    "duration": 0,
    "start_time": "2024-10-30T18:53:40.642Z"
   },
   {
    "duration": 0,
    "start_time": "2024-10-30T18:53:40.644Z"
   },
   {
    "duration": 0,
    "start_time": "2024-10-30T18:53:40.645Z"
   },
   {
    "duration": 0,
    "start_time": "2024-10-30T18:53:40.646Z"
   },
   {
    "duration": 0,
    "start_time": "2024-10-30T18:53:40.647Z"
   },
   {
    "duration": 0,
    "start_time": "2024-10-30T18:53:40.648Z"
   },
   {
    "duration": 0,
    "start_time": "2024-10-30T18:53:40.649Z"
   },
   {
    "duration": 0,
    "start_time": "2024-10-30T18:53:40.650Z"
   },
   {
    "duration": 0,
    "start_time": "2024-10-30T18:53:40.651Z"
   },
   {
    "duration": 0,
    "start_time": "2024-10-30T18:53:40.652Z"
   },
   {
    "duration": 0,
    "start_time": "2024-10-30T18:53:40.654Z"
   },
   {
    "duration": 0,
    "start_time": "2024-10-30T18:53:40.655Z"
   },
   {
    "duration": 0,
    "start_time": "2024-10-30T18:53:40.656Z"
   },
   {
    "duration": 0,
    "start_time": "2024-10-30T18:53:40.657Z"
   },
   {
    "duration": 0,
    "start_time": "2024-10-30T18:53:40.658Z"
   },
   {
    "duration": 0,
    "start_time": "2024-10-30T18:53:40.659Z"
   },
   {
    "duration": 0,
    "start_time": "2024-10-30T18:53:40.660Z"
   },
   {
    "duration": 0,
    "start_time": "2024-10-30T18:53:40.662Z"
   },
   {
    "duration": 0,
    "start_time": "2024-10-30T18:53:40.663Z"
   },
   {
    "duration": 0,
    "start_time": "2024-10-30T18:53:40.664Z"
   },
   {
    "duration": 0,
    "start_time": "2024-10-30T18:53:40.665Z"
   },
   {
    "duration": 0,
    "start_time": "2024-10-30T18:53:40.667Z"
   },
   {
    "duration": 0,
    "start_time": "2024-10-30T18:53:40.667Z"
   },
   {
    "duration": 0,
    "start_time": "2024-10-30T18:53:40.668Z"
   },
   {
    "duration": 0,
    "start_time": "2024-10-30T18:53:40.669Z"
   },
   {
    "duration": 0,
    "start_time": "2024-10-30T18:53:40.671Z"
   },
   {
    "duration": 0,
    "start_time": "2024-10-30T18:53:40.672Z"
   },
   {
    "duration": 7,
    "start_time": "2024-10-30T18:54:02.880Z"
   },
   {
    "duration": 10,
    "start_time": "2024-10-30T18:54:07.790Z"
   },
   {
    "duration": 6,
    "start_time": "2024-10-30T18:54:09.759Z"
   },
   {
    "duration": 5,
    "start_time": "2024-10-30T18:54:11.235Z"
   },
   {
    "duration": 1990,
    "start_time": "2024-10-30T18:58:58.135Z"
   },
   {
    "duration": 5,
    "start_time": "2024-10-30T18:59:00.127Z"
   },
   {
    "duration": 112,
    "start_time": "2024-10-30T18:59:00.133Z"
   },
   {
    "duration": 56,
    "start_time": "2024-10-30T18:59:00.247Z"
   },
   {
    "duration": 73,
    "start_time": "2024-10-30T18:59:00.305Z"
   },
   {
    "duration": 36,
    "start_time": "2024-10-30T18:59:00.379Z"
   },
   {
    "duration": 24,
    "start_time": "2024-10-30T18:59:00.416Z"
   },
   {
    "duration": 103,
    "start_time": "2024-10-30T18:59:00.441Z"
   },
   {
    "duration": 16,
    "start_time": "2024-10-30T18:59:00.545Z"
   },
   {
    "duration": 40,
    "start_time": "2024-10-30T18:59:00.563Z"
   },
   {
    "duration": 17,
    "start_time": "2024-10-30T18:59:00.604Z"
   },
   {
    "duration": 19,
    "start_time": "2024-10-30T18:59:00.627Z"
   },
   {
    "duration": 25,
    "start_time": "2024-10-30T18:59:00.648Z"
   },
   {
    "duration": 7,
    "start_time": "2024-10-30T18:59:00.676Z"
   },
   {
    "duration": 29,
    "start_time": "2024-10-30T18:59:00.685Z"
   },
   {
    "duration": 33,
    "start_time": "2024-10-30T18:59:00.715Z"
   },
   {
    "duration": 14,
    "start_time": "2024-10-30T18:59:00.749Z"
   },
   {
    "duration": 47,
    "start_time": "2024-10-30T18:59:00.764Z"
   },
   {
    "duration": 157,
    "start_time": "2024-10-30T18:59:00.812Z"
   },
   {
    "duration": 0,
    "start_time": "2024-10-30T18:59:00.972Z"
   },
   {
    "duration": 0,
    "start_time": "2024-10-30T18:59:00.974Z"
   },
   {
    "duration": 0,
    "start_time": "2024-10-30T18:59:00.975Z"
   },
   {
    "duration": 0,
    "start_time": "2024-10-30T18:59:00.975Z"
   },
   {
    "duration": 0,
    "start_time": "2024-10-30T18:59:00.976Z"
   },
   {
    "duration": 0,
    "start_time": "2024-10-30T18:59:00.977Z"
   },
   {
    "duration": 0,
    "start_time": "2024-10-30T18:59:00.979Z"
   },
   {
    "duration": 0,
    "start_time": "2024-10-30T18:59:00.980Z"
   },
   {
    "duration": 0,
    "start_time": "2024-10-30T18:59:00.981Z"
   },
   {
    "duration": 0,
    "start_time": "2024-10-30T18:59:00.982Z"
   },
   {
    "duration": 0,
    "start_time": "2024-10-30T18:59:00.984Z"
   },
   {
    "duration": 0,
    "start_time": "2024-10-30T18:59:00.985Z"
   },
   {
    "duration": 0,
    "start_time": "2024-10-30T18:59:00.986Z"
   },
   {
    "duration": 0,
    "start_time": "2024-10-30T18:59:00.987Z"
   },
   {
    "duration": 0,
    "start_time": "2024-10-30T18:59:00.988Z"
   },
   {
    "duration": 0,
    "start_time": "2024-10-30T18:59:00.989Z"
   },
   {
    "duration": 0,
    "start_time": "2024-10-30T18:59:00.990Z"
   },
   {
    "duration": 0,
    "start_time": "2024-10-30T18:59:00.991Z"
   },
   {
    "duration": 0,
    "start_time": "2024-10-30T18:59:00.992Z"
   },
   {
    "duration": 0,
    "start_time": "2024-10-30T18:59:00.993Z"
   },
   {
    "duration": 0,
    "start_time": "2024-10-30T18:59:00.995Z"
   },
   {
    "duration": 0,
    "start_time": "2024-10-30T18:59:00.996Z"
   },
   {
    "duration": 0,
    "start_time": "2024-10-30T18:59:00.997Z"
   },
   {
    "duration": 0,
    "start_time": "2024-10-30T18:59:00.998Z"
   },
   {
    "duration": 0,
    "start_time": "2024-10-30T18:59:00.999Z"
   },
   {
    "duration": 0,
    "start_time": "2024-10-30T18:59:01.000Z"
   },
   {
    "duration": 0,
    "start_time": "2024-10-30T18:59:01.043Z"
   },
   {
    "duration": 0,
    "start_time": "2024-10-30T18:59:01.045Z"
   },
   {
    "duration": 0,
    "start_time": "2024-10-30T18:59:01.046Z"
   },
   {
    "duration": 0,
    "start_time": "2024-10-30T18:59:01.047Z"
   },
   {
    "duration": 0,
    "start_time": "2024-10-30T18:59:01.048Z"
   },
   {
    "duration": 0,
    "start_time": "2024-10-30T18:59:01.049Z"
   },
   {
    "duration": 0,
    "start_time": "2024-10-30T18:59:01.050Z"
   },
   {
    "duration": 0,
    "start_time": "2024-10-30T18:59:01.051Z"
   },
   {
    "duration": 0,
    "start_time": "2024-10-30T18:59:01.052Z"
   },
   {
    "duration": 0,
    "start_time": "2024-10-30T18:59:01.053Z"
   },
   {
    "duration": 0,
    "start_time": "2024-10-30T18:59:01.054Z"
   },
   {
    "duration": 0,
    "start_time": "2024-10-30T18:59:01.055Z"
   },
   {
    "duration": 0,
    "start_time": "2024-10-30T18:59:01.056Z"
   },
   {
    "duration": 0,
    "start_time": "2024-10-30T18:59:01.057Z"
   },
   {
    "duration": 0,
    "start_time": "2024-10-30T18:59:01.058Z"
   },
   {
    "duration": 0,
    "start_time": "2024-10-30T18:59:01.059Z"
   },
   {
    "duration": 0,
    "start_time": "2024-10-30T18:59:01.060Z"
   },
   {
    "duration": 0,
    "start_time": "2024-10-30T18:59:01.061Z"
   },
   {
    "duration": 0,
    "start_time": "2024-10-30T18:59:01.062Z"
   },
   {
    "duration": 0,
    "start_time": "2024-10-30T18:59:01.063Z"
   },
   {
    "duration": 0,
    "start_time": "2024-10-30T18:59:01.064Z"
   },
   {
    "duration": 0,
    "start_time": "2024-10-30T18:59:01.065Z"
   },
   {
    "duration": 0,
    "start_time": "2024-10-30T18:59:01.066Z"
   },
   {
    "duration": 0,
    "start_time": "2024-10-30T18:59:01.067Z"
   },
   {
    "duration": 0,
    "start_time": "2024-10-30T18:59:01.068Z"
   },
   {
    "duration": 0,
    "start_time": "2024-10-30T18:59:01.069Z"
   },
   {
    "duration": 0,
    "start_time": "2024-10-30T18:59:01.070Z"
   },
   {
    "duration": 0,
    "start_time": "2024-10-30T18:59:01.071Z"
   },
   {
    "duration": 0,
    "start_time": "2024-10-30T18:59:01.072Z"
   },
   {
    "duration": 0,
    "start_time": "2024-10-30T18:59:01.073Z"
   },
   {
    "duration": 0,
    "start_time": "2024-10-30T18:59:01.074Z"
   },
   {
    "duration": 0,
    "start_time": "2024-10-30T18:59:01.075Z"
   },
   {
    "duration": 0,
    "start_time": "2024-10-30T18:59:01.076Z"
   },
   {
    "duration": 0,
    "start_time": "2024-10-30T18:59:01.077Z"
   },
   {
    "duration": 0,
    "start_time": "2024-10-30T18:59:01.078Z"
   },
   {
    "duration": 0,
    "start_time": "2024-10-30T18:59:01.079Z"
   },
   {
    "duration": 0,
    "start_time": "2024-10-30T18:59:01.080Z"
   },
   {
    "duration": 0,
    "start_time": "2024-10-30T18:59:01.143Z"
   },
   {
    "duration": 0,
    "start_time": "2024-10-30T18:59:01.144Z"
   },
   {
    "duration": 0,
    "start_time": "2024-10-30T18:59:01.145Z"
   },
   {
    "duration": 0,
    "start_time": "2024-10-30T18:59:01.147Z"
   },
   {
    "duration": 0,
    "start_time": "2024-10-30T18:59:01.148Z"
   },
   {
    "duration": 0,
    "start_time": "2024-10-30T18:59:01.149Z"
   },
   {
    "duration": 0,
    "start_time": "2024-10-30T18:59:01.150Z"
   },
   {
    "duration": 0,
    "start_time": "2024-10-30T18:59:01.151Z"
   },
   {
    "duration": 0,
    "start_time": "2024-10-30T18:59:01.152Z"
   },
   {
    "duration": 0,
    "start_time": "2024-10-30T18:59:01.153Z"
   },
   {
    "duration": 0,
    "start_time": "2024-10-30T18:59:01.154Z"
   },
   {
    "duration": 0,
    "start_time": "2024-10-30T18:59:01.154Z"
   },
   {
    "duration": 0,
    "start_time": "2024-10-30T18:59:01.156Z"
   },
   {
    "duration": 0,
    "start_time": "2024-10-30T18:59:01.156Z"
   },
   {
    "duration": 0,
    "start_time": "2024-10-30T18:59:01.158Z"
   },
   {
    "duration": 0,
    "start_time": "2024-10-30T18:59:01.159Z"
   },
   {
    "duration": 0,
    "start_time": "2024-10-30T18:59:01.160Z"
   },
   {
    "duration": 0,
    "start_time": "2024-10-30T18:59:01.162Z"
   },
   {
    "duration": 0,
    "start_time": "2024-10-30T18:59:01.163Z"
   },
   {
    "duration": 0,
    "start_time": "2024-10-30T18:59:01.165Z"
   },
   {
    "duration": 0,
    "start_time": "2024-10-30T18:59:01.166Z"
   },
   {
    "duration": 0,
    "start_time": "2024-10-30T18:59:01.167Z"
   },
   {
    "duration": 0,
    "start_time": "2024-10-30T18:59:01.168Z"
   },
   {
    "duration": 0,
    "start_time": "2024-10-30T18:59:01.169Z"
   },
   {
    "duration": 0,
    "start_time": "2024-10-30T18:59:01.170Z"
   },
   {
    "duration": 0,
    "start_time": "2024-10-30T18:59:01.171Z"
   },
   {
    "duration": 0,
    "start_time": "2024-10-30T18:59:01.172Z"
   },
   {
    "duration": 0,
    "start_time": "2024-10-30T18:59:01.173Z"
   },
   {
    "duration": 0,
    "start_time": "2024-10-30T18:59:01.174Z"
   },
   {
    "duration": 14,
    "start_time": "2024-10-30T18:59:43.255Z"
   },
   {
    "duration": 7,
    "start_time": "2024-10-30T18:59:48.516Z"
   },
   {
    "duration": 3,
    "start_time": "2024-10-30T18:59:51.661Z"
   },
   {
    "duration": 13,
    "start_time": "2024-10-30T18:59:53.191Z"
   },
   {
    "duration": 6,
    "start_time": "2024-10-30T19:00:00.486Z"
   },
   {
    "duration": 3,
    "start_time": "2024-10-30T19:00:02.360Z"
   },
   {
    "duration": 14,
    "start_time": "2024-10-30T19:00:03.816Z"
   },
   {
    "duration": 1873,
    "start_time": "2024-10-30T19:00:34.906Z"
   },
   {
    "duration": 5,
    "start_time": "2024-10-30T19:00:36.781Z"
   },
   {
    "duration": 70,
    "start_time": "2024-10-30T19:00:36.788Z"
   },
   {
    "duration": 37,
    "start_time": "2024-10-30T19:00:36.860Z"
   },
   {
    "duration": 54,
    "start_time": "2024-10-30T19:00:36.898Z"
   },
   {
    "duration": 94,
    "start_time": "2024-10-30T19:00:36.954Z"
   },
   {
    "duration": 14,
    "start_time": "2024-10-30T19:00:37.050Z"
   },
   {
    "duration": 139,
    "start_time": "2024-10-30T19:00:37.065Z"
   },
   {
    "duration": 44,
    "start_time": "2024-10-30T19:00:37.205Z"
   },
   {
    "duration": 54,
    "start_time": "2024-10-30T19:00:37.251Z"
   },
   {
    "duration": 63,
    "start_time": "2024-10-30T19:00:37.307Z"
   },
   {
    "duration": 40,
    "start_time": "2024-10-30T19:00:37.372Z"
   },
   {
    "duration": 108,
    "start_time": "2024-10-30T19:00:37.414Z"
   },
   {
    "duration": 47,
    "start_time": "2024-10-30T19:00:37.524Z"
   },
   {
    "duration": 20,
    "start_time": "2024-10-30T19:00:37.573Z"
   },
   {
    "duration": 24,
    "start_time": "2024-10-30T19:00:37.595Z"
   },
   {
    "duration": 6,
    "start_time": "2024-10-30T19:00:37.621Z"
   },
   {
    "duration": 21,
    "start_time": "2024-10-30T19:00:37.628Z"
   },
   {
    "duration": 40,
    "start_time": "2024-10-30T19:00:37.651Z"
   },
   {
    "duration": 160,
    "start_time": "2024-10-30T19:00:37.693Z"
   },
   {
    "duration": 0,
    "start_time": "2024-10-30T19:00:37.863Z"
   },
   {
    "duration": 0,
    "start_time": "2024-10-30T19:00:37.869Z"
   },
   {
    "duration": 0,
    "start_time": "2024-10-30T19:00:37.871Z"
   },
   {
    "duration": 0,
    "start_time": "2024-10-30T19:00:37.873Z"
   },
   {
    "duration": 0,
    "start_time": "2024-10-30T19:00:37.874Z"
   },
   {
    "duration": 0,
    "start_time": "2024-10-30T19:00:37.876Z"
   },
   {
    "duration": 0,
    "start_time": "2024-10-30T19:00:37.877Z"
   },
   {
    "duration": 0,
    "start_time": "2024-10-30T19:00:37.879Z"
   },
   {
    "duration": 0,
    "start_time": "2024-10-30T19:00:37.880Z"
   },
   {
    "duration": 0,
    "start_time": "2024-10-30T19:00:37.882Z"
   },
   {
    "duration": 0,
    "start_time": "2024-10-30T19:00:37.883Z"
   },
   {
    "duration": 0,
    "start_time": "2024-10-30T19:00:37.885Z"
   },
   {
    "duration": 0,
    "start_time": "2024-10-30T19:00:37.886Z"
   },
   {
    "duration": 0,
    "start_time": "2024-10-30T19:00:37.887Z"
   },
   {
    "duration": 0,
    "start_time": "2024-10-30T19:00:37.888Z"
   },
   {
    "duration": 0,
    "start_time": "2024-10-30T19:00:37.889Z"
   },
   {
    "duration": 0,
    "start_time": "2024-10-30T19:00:37.890Z"
   },
   {
    "duration": 0,
    "start_time": "2024-10-30T19:00:37.891Z"
   },
   {
    "duration": 0,
    "start_time": "2024-10-30T19:00:37.892Z"
   },
   {
    "duration": 0,
    "start_time": "2024-10-30T19:00:37.893Z"
   },
   {
    "duration": 0,
    "start_time": "2024-10-30T19:00:37.894Z"
   },
   {
    "duration": 0,
    "start_time": "2024-10-30T19:00:37.895Z"
   },
   {
    "duration": 0,
    "start_time": "2024-10-30T19:00:37.896Z"
   },
   {
    "duration": 0,
    "start_time": "2024-10-30T19:00:37.897Z"
   },
   {
    "duration": 0,
    "start_time": "2024-10-30T19:00:37.898Z"
   },
   {
    "duration": 0,
    "start_time": "2024-10-30T19:00:37.899Z"
   },
   {
    "duration": 0,
    "start_time": "2024-10-30T19:00:37.943Z"
   },
   {
    "duration": 0,
    "start_time": "2024-10-30T19:00:37.944Z"
   },
   {
    "duration": 0,
    "start_time": "2024-10-30T19:00:37.945Z"
   },
   {
    "duration": 0,
    "start_time": "2024-10-30T19:00:37.946Z"
   },
   {
    "duration": 0,
    "start_time": "2024-10-30T19:00:37.948Z"
   },
   {
    "duration": 0,
    "start_time": "2024-10-30T19:00:37.949Z"
   },
   {
    "duration": 0,
    "start_time": "2024-10-30T19:00:37.950Z"
   },
   {
    "duration": 0,
    "start_time": "2024-10-30T19:00:37.951Z"
   },
   {
    "duration": 0,
    "start_time": "2024-10-30T19:00:37.952Z"
   },
   {
    "duration": 0,
    "start_time": "2024-10-30T19:00:37.953Z"
   },
   {
    "duration": 0,
    "start_time": "2024-10-30T19:00:37.954Z"
   },
   {
    "duration": 0,
    "start_time": "2024-10-30T19:00:37.955Z"
   },
   {
    "duration": 0,
    "start_time": "2024-10-30T19:00:37.956Z"
   },
   {
    "duration": 0,
    "start_time": "2024-10-30T19:00:37.957Z"
   },
   {
    "duration": 0,
    "start_time": "2024-10-30T19:00:37.958Z"
   },
   {
    "duration": 0,
    "start_time": "2024-10-30T19:00:37.960Z"
   },
   {
    "duration": 0,
    "start_time": "2024-10-30T19:00:37.961Z"
   },
   {
    "duration": 0,
    "start_time": "2024-10-30T19:00:37.962Z"
   },
   {
    "duration": 0,
    "start_time": "2024-10-30T19:00:37.963Z"
   },
   {
    "duration": 0,
    "start_time": "2024-10-30T19:00:37.964Z"
   },
   {
    "duration": 0,
    "start_time": "2024-10-30T19:00:37.966Z"
   },
   {
    "duration": 0,
    "start_time": "2024-10-30T19:00:37.966Z"
   },
   {
    "duration": 0,
    "start_time": "2024-10-30T19:00:37.967Z"
   },
   {
    "duration": 0,
    "start_time": "2024-10-30T19:00:37.969Z"
   },
   {
    "duration": 0,
    "start_time": "2024-10-30T19:00:37.970Z"
   },
   {
    "duration": 0,
    "start_time": "2024-10-30T19:00:37.971Z"
   },
   {
    "duration": 0,
    "start_time": "2024-10-30T19:00:37.972Z"
   },
   {
    "duration": 0,
    "start_time": "2024-10-30T19:00:37.973Z"
   },
   {
    "duration": 0,
    "start_time": "2024-10-30T19:00:37.974Z"
   },
   {
    "duration": 0,
    "start_time": "2024-10-30T19:00:37.975Z"
   },
   {
    "duration": 0,
    "start_time": "2024-10-30T19:00:37.976Z"
   },
   {
    "duration": 0,
    "start_time": "2024-10-30T19:00:37.977Z"
   },
   {
    "duration": 0,
    "start_time": "2024-10-30T19:00:37.978Z"
   },
   {
    "duration": 0,
    "start_time": "2024-10-30T19:00:38.043Z"
   },
   {
    "duration": 0,
    "start_time": "2024-10-30T19:00:38.044Z"
   },
   {
    "duration": 0,
    "start_time": "2024-10-30T19:00:38.045Z"
   },
   {
    "duration": 0,
    "start_time": "2024-10-30T19:00:38.046Z"
   },
   {
    "duration": 0,
    "start_time": "2024-10-30T19:00:38.047Z"
   },
   {
    "duration": 0,
    "start_time": "2024-10-30T19:00:38.048Z"
   },
   {
    "duration": 0,
    "start_time": "2024-10-30T19:00:38.049Z"
   },
   {
    "duration": 0,
    "start_time": "2024-10-30T19:00:38.050Z"
   },
   {
    "duration": 0,
    "start_time": "2024-10-30T19:00:38.051Z"
   },
   {
    "duration": 0,
    "start_time": "2024-10-30T19:00:38.052Z"
   },
   {
    "duration": 0,
    "start_time": "2024-10-30T19:00:38.053Z"
   },
   {
    "duration": 0,
    "start_time": "2024-10-30T19:00:38.055Z"
   },
   {
    "duration": 0,
    "start_time": "2024-10-30T19:00:38.056Z"
   },
   {
    "duration": 0,
    "start_time": "2024-10-30T19:00:38.056Z"
   },
   {
    "duration": 0,
    "start_time": "2024-10-30T19:00:38.058Z"
   },
   {
    "duration": 0,
    "start_time": "2024-10-30T19:00:38.059Z"
   },
   {
    "duration": 0,
    "start_time": "2024-10-30T19:00:38.060Z"
   },
   {
    "duration": 0,
    "start_time": "2024-10-30T19:00:38.061Z"
   },
   {
    "duration": 0,
    "start_time": "2024-10-30T19:00:38.062Z"
   },
   {
    "duration": 0,
    "start_time": "2024-10-30T19:00:38.063Z"
   },
   {
    "duration": 0,
    "start_time": "2024-10-30T19:00:38.063Z"
   },
   {
    "duration": 0,
    "start_time": "2024-10-30T19:00:38.064Z"
   },
   {
    "duration": 0,
    "start_time": "2024-10-30T19:00:38.065Z"
   },
   {
    "duration": 0,
    "start_time": "2024-10-30T19:00:38.066Z"
   },
   {
    "duration": 0,
    "start_time": "2024-10-30T19:00:38.067Z"
   },
   {
    "duration": 0,
    "start_time": "2024-10-30T19:00:38.068Z"
   },
   {
    "duration": 0,
    "start_time": "2024-10-30T19:00:38.069Z"
   },
   {
    "duration": 0,
    "start_time": "2024-10-30T19:00:38.070Z"
   },
   {
    "duration": 0,
    "start_time": "2024-10-30T19:00:38.071Z"
   },
   {
    "duration": 0,
    "start_time": "2024-10-30T19:00:38.072Z"
   },
   {
    "duration": 0,
    "start_time": "2024-10-30T19:00:38.073Z"
   },
   {
    "duration": 0,
    "start_time": "2024-10-30T19:00:38.074Z"
   },
   {
    "duration": 1902,
    "start_time": "2024-10-30T19:01:21.051Z"
   },
   {
    "duration": 5,
    "start_time": "2024-10-30T19:01:22.955Z"
   },
   {
    "duration": 43,
    "start_time": "2024-10-30T19:01:22.962Z"
   },
   {
    "duration": 14,
    "start_time": "2024-10-30T19:01:23.007Z"
   },
   {
    "duration": 79,
    "start_time": "2024-10-30T19:01:23.022Z"
   },
   {
    "duration": 29,
    "start_time": "2024-10-30T19:01:23.103Z"
   },
   {
    "duration": 48,
    "start_time": "2024-10-30T19:01:23.134Z"
   },
   {
    "duration": 97,
    "start_time": "2024-10-30T19:01:23.184Z"
   },
   {
    "duration": 15,
    "start_time": "2024-10-30T19:01:23.282Z"
   },
   {
    "duration": 15,
    "start_time": "2024-10-30T19:01:23.299Z"
   },
   {
    "duration": 36,
    "start_time": "2024-10-30T19:01:23.315Z"
   },
   {
    "duration": 16,
    "start_time": "2024-10-30T19:01:23.352Z"
   },
   {
    "duration": 43,
    "start_time": "2024-10-30T19:01:23.370Z"
   },
   {
    "duration": 77,
    "start_time": "2024-10-30T19:01:23.415Z"
   },
   {
    "duration": 20,
    "start_time": "2024-10-30T19:01:23.494Z"
   },
   {
    "duration": 29,
    "start_time": "2024-10-30T19:01:23.516Z"
   },
   {
    "duration": 6,
    "start_time": "2024-10-30T19:01:23.546Z"
   },
   {
    "duration": 22,
    "start_time": "2024-10-30T19:01:23.554Z"
   },
   {
    "duration": 15,
    "start_time": "2024-10-30T19:01:23.578Z"
   },
   {
    "duration": 10,
    "start_time": "2024-10-30T19:01:23.595Z"
   },
   {
    "duration": 19,
    "start_time": "2024-10-30T19:01:23.606Z"
   },
   {
    "duration": 7,
    "start_time": "2024-10-30T19:01:23.626Z"
   },
   {
    "duration": 13,
    "start_time": "2024-10-30T19:01:23.635Z"
   },
   {
    "duration": 43,
    "start_time": "2024-10-30T19:01:23.649Z"
   },
   {
    "duration": 222,
    "start_time": "2024-10-30T19:01:23.693Z"
   },
   {
    "duration": 6,
    "start_time": "2024-10-30T19:01:23.917Z"
   },
   {
    "duration": 1660,
    "start_time": "2024-10-30T19:01:23.925Z"
   },
   {
    "duration": 6,
    "start_time": "2024-10-30T19:01:25.590Z"
   },
   {
    "duration": 2969,
    "start_time": "2024-10-30T19:01:25.597Z"
   },
   {
    "duration": 23,
    "start_time": "2024-10-30T19:01:28.568Z"
   },
   {
    "duration": 35,
    "start_time": "2024-10-30T19:01:28.593Z"
   },
   {
    "duration": 173,
    "start_time": "2024-10-30T19:01:28.629Z"
   },
   {
    "duration": 242,
    "start_time": "2024-10-30T19:01:28.804Z"
   },
   {
    "duration": 4,
    "start_time": "2024-10-30T19:01:29.047Z"
   },
   {
    "duration": 13,
    "start_time": "2024-10-30T19:01:29.052Z"
   },
   {
    "duration": 12,
    "start_time": "2024-10-30T19:01:29.067Z"
   },
   {
    "duration": 351,
    "start_time": "2024-10-30T19:01:29.080Z"
   },
   {
    "duration": 23,
    "start_time": "2024-10-30T19:01:29.433Z"
   },
   {
    "duration": 39,
    "start_time": "2024-10-30T19:01:29.458Z"
   },
   {
    "duration": 944,
    "start_time": "2024-10-30T19:01:29.499Z"
   },
   {
    "duration": 4,
    "start_time": "2024-10-30T19:01:30.445Z"
   },
   {
    "duration": 54,
    "start_time": "2024-10-30T19:01:30.450Z"
   },
   {
    "duration": 865,
    "start_time": "2024-10-30T19:01:30.506Z"
   },
   {
    "duration": 17,
    "start_time": "2024-10-30T19:01:31.374Z"
   },
   {
    "duration": 865,
    "start_time": "2024-10-30T19:01:31.392Z"
   },
   {
    "duration": 9,
    "start_time": "2024-10-30T19:01:32.258Z"
   },
   {
    "duration": 160,
    "start_time": "2024-10-30T19:01:32.269Z"
   },
   {
    "duration": 20,
    "start_time": "2024-10-30T19:01:32.430Z"
   },
   {
    "duration": 30,
    "start_time": "2024-10-30T19:01:32.452Z"
   },
   {
    "duration": 32,
    "start_time": "2024-10-30T19:01:32.484Z"
   },
   {
    "duration": 99,
    "start_time": "2024-10-30T19:01:32.518Z"
   },
   {
    "duration": 39,
    "start_time": "2024-10-30T19:01:32.619Z"
   },
   {
    "duration": 36,
    "start_time": "2024-10-30T19:01:32.660Z"
   },
   {
    "duration": 507,
    "start_time": "2024-10-30T19:01:32.698Z"
   },
   {
    "duration": 9,
    "start_time": "2024-10-30T19:01:33.207Z"
   },
   {
    "duration": 444,
    "start_time": "2024-10-30T19:01:33.217Z"
   },
   {
    "duration": 164,
    "start_time": "2024-10-30T19:01:33.663Z"
   },
   {
    "duration": 16,
    "start_time": "2024-10-30T19:01:33.828Z"
   },
   {
    "duration": 25,
    "start_time": "2024-10-30T19:01:33.846Z"
   },
   {
    "duration": 379,
    "start_time": "2024-10-30T19:01:33.873Z"
   },
   {
    "duration": 9,
    "start_time": "2024-10-30T19:01:34.254Z"
   },
   {
    "duration": 78,
    "start_time": "2024-10-30T19:01:34.265Z"
   },
   {
    "duration": 37,
    "start_time": "2024-10-30T19:01:34.344Z"
   },
   {
    "duration": 22,
    "start_time": "2024-10-30T19:01:34.383Z"
   },
   {
    "duration": 60,
    "start_time": "2024-10-30T19:01:34.407Z"
   },
   {
    "duration": 37,
    "start_time": "2024-10-30T19:01:34.469Z"
   },
   {
    "duration": 69,
    "start_time": "2024-10-30T19:01:34.508Z"
   },
   {
    "duration": 69,
    "start_time": "2024-10-30T19:01:34.579Z"
   },
   {
    "duration": 34,
    "start_time": "2024-10-30T19:01:34.649Z"
   },
   {
    "duration": 17,
    "start_time": "2024-10-30T19:01:34.684Z"
   },
   {
    "duration": 54,
    "start_time": "2024-10-30T19:01:34.703Z"
   },
   {
    "duration": 28,
    "start_time": "2024-10-30T19:01:34.758Z"
   },
   {
    "duration": 62,
    "start_time": "2024-10-30T19:01:34.788Z"
   },
   {
    "duration": 600,
    "start_time": "2024-10-30T19:01:34.852Z"
   },
   {
    "duration": 18,
    "start_time": "2024-10-30T19:01:35.453Z"
   },
   {
    "duration": 797,
    "start_time": "2024-10-30T19:01:35.472Z"
   },
   {
    "duration": 78,
    "start_time": "2024-10-30T19:01:36.270Z"
   },
   {
    "duration": 20,
    "start_time": "2024-10-30T19:01:36.349Z"
   },
   {
    "duration": 63,
    "start_time": "2024-10-30T19:01:36.371Z"
   },
   {
    "duration": 60,
    "start_time": "2024-10-30T19:01:36.435Z"
   },
   {
    "duration": 590,
    "start_time": "2024-10-30T19:01:36.496Z"
   },
   {
    "duration": 480,
    "start_time": "2024-10-30T19:01:37.091Z"
   },
   {
    "duration": 8,
    "start_time": "2024-10-30T19:01:37.573Z"
   },
   {
    "duration": 323,
    "start_time": "2024-10-30T19:01:37.583Z"
   },
   {
    "duration": 12,
    "start_time": "2024-10-30T19:01:37.908Z"
   },
   {
    "duration": 422,
    "start_time": "2024-10-30T19:01:37.942Z"
   },
   {
    "duration": 7,
    "start_time": "2024-10-30T19:01:38.366Z"
   },
   {
    "duration": 22,
    "start_time": "2024-10-30T19:01:38.374Z"
   },
   {
    "duration": 32,
    "start_time": "2024-10-30T19:01:38.398Z"
   },
   {
    "duration": 51,
    "start_time": "2024-10-30T19:01:38.432Z"
   },
   {
    "duration": 185,
    "start_time": "2024-10-30T19:01:38.485Z"
   },
   {
    "duration": 360,
    "start_time": "2024-10-30T19:01:38.672Z"
   },
   {
    "duration": 12,
    "start_time": "2024-10-30T19:01:39.033Z"
   },
   {
    "duration": 79,
    "start_time": "2024-10-30T19:01:39.047Z"
   },
   {
    "duration": 356,
    "start_time": "2024-10-30T19:01:39.128Z"
   },
   {
    "duration": 10,
    "start_time": "2024-10-30T19:01:39.486Z"
   },
   {
    "duration": 83,
    "start_time": "2024-10-30T19:01:39.498Z"
   },
   {
    "duration": 359,
    "start_time": "2024-10-30T19:01:39.583Z"
   },
   {
    "duration": 12,
    "start_time": "2024-10-30T19:01:39.944Z"
   },
   {
    "duration": 166,
    "start_time": "2024-10-30T19:01:39.959Z"
   },
   {
    "duration": 368,
    "start_time": "2024-10-30T19:01:40.127Z"
   },
   {
    "duration": 3,
    "start_time": "2024-10-30T19:01:40.497Z"
   },
   {
    "duration": 108,
    "start_time": "2024-10-30T19:01:40.501Z"
   },
   {
    "duration": 11,
    "start_time": "2024-10-30T19:01:40.611Z"
   },
   {
    "duration": 46,
    "start_time": "2024-10-30T19:01:40.624Z"
   },
   {
    "duration": 36,
    "start_time": "2024-10-30T19:01:40.672Z"
   },
   {
    "duration": 13,
    "start_time": "2024-10-30T19:01:40.710Z"
   },
   {
    "duration": 39,
    "start_time": "2024-10-30T19:01:40.724Z"
   },
   {
    "duration": 8,
    "start_time": "2024-10-30T19:01:40.765Z"
   },
   {
    "duration": 28,
    "start_time": "2024-10-30T19:01:40.774Z"
   },
   {
    "duration": 65,
    "start_time": "2024-10-30T19:01:40.804Z"
   },
   {
    "duration": 1955,
    "start_time": "2024-10-30T19:03:45.450Z"
   },
   {
    "duration": 4,
    "start_time": "2024-10-30T19:03:47.407Z"
   },
   {
    "duration": 57,
    "start_time": "2024-10-30T19:03:47.413Z"
   },
   {
    "duration": 16,
    "start_time": "2024-10-30T19:03:47.472Z"
   },
   {
    "duration": 58,
    "start_time": "2024-10-30T19:03:47.490Z"
   },
   {
    "duration": 29,
    "start_time": "2024-10-30T19:03:47.550Z"
   },
   {
    "duration": 6,
    "start_time": "2024-10-30T19:03:47.580Z"
   },
   {
    "duration": 90,
    "start_time": "2024-10-30T19:03:47.587Z"
   },
   {
    "duration": 15,
    "start_time": "2024-10-30T19:03:47.679Z"
   },
   {
    "duration": 48,
    "start_time": "2024-10-30T19:03:47.695Z"
   },
   {
    "duration": 12,
    "start_time": "2024-10-30T19:03:47.744Z"
   },
   {
    "duration": 18,
    "start_time": "2024-10-30T19:03:47.757Z"
   },
   {
    "duration": 28,
    "start_time": "2024-10-30T19:03:47.777Z"
   },
   {
    "duration": 7,
    "start_time": "2024-10-30T19:03:47.808Z"
   },
   {
    "duration": 10,
    "start_time": "2024-10-30T19:03:47.842Z"
   },
   {
    "duration": 32,
    "start_time": "2024-10-30T19:03:47.853Z"
   },
   {
    "duration": 7,
    "start_time": "2024-10-30T19:03:47.887Z"
   },
   {
    "duration": 11,
    "start_time": "2024-10-30T19:03:47.896Z"
   },
   {
    "duration": 23,
    "start_time": "2024-10-30T19:03:47.909Z"
   },
   {
    "duration": 5,
    "start_time": "2024-10-30T19:03:47.943Z"
   },
   {
    "duration": 96,
    "start_time": "2024-10-30T19:03:47.950Z"
   },
   {
    "duration": 5,
    "start_time": "2024-10-30T19:03:48.049Z"
   },
   {
    "duration": 8,
    "start_time": "2024-10-30T19:03:48.056Z"
   },
   {
    "duration": 9,
    "start_time": "2024-10-30T19:03:48.065Z"
   },
   {
    "duration": 127,
    "start_time": "2024-10-30T19:03:48.076Z"
   },
   {
    "duration": 6,
    "start_time": "2024-10-30T19:03:48.205Z"
   },
   {
    "duration": 1580,
    "start_time": "2024-10-30T19:03:48.212Z"
   },
   {
    "duration": 7,
    "start_time": "2024-10-30T19:03:49.794Z"
   },
   {
    "duration": 3027,
    "start_time": "2024-10-30T19:03:49.803Z"
   },
   {
    "duration": 26,
    "start_time": "2024-10-30T19:03:52.832Z"
   },
   {
    "duration": 27,
    "start_time": "2024-10-30T19:03:52.860Z"
   },
   {
    "duration": 174,
    "start_time": "2024-10-30T19:03:52.888Z"
   },
   {
    "duration": 208,
    "start_time": "2024-10-30T19:03:53.064Z"
   },
   {
    "duration": 4,
    "start_time": "2024-10-30T19:03:53.273Z"
   },
   {
    "duration": 25,
    "start_time": "2024-10-30T19:03:53.278Z"
   },
   {
    "duration": 18,
    "start_time": "2024-10-30T19:03:53.305Z"
   },
   {
    "duration": 331,
    "start_time": "2024-10-30T19:03:53.325Z"
   },
   {
    "duration": 15,
    "start_time": "2024-10-30T19:03:53.658Z"
   },
   {
    "duration": 12,
    "start_time": "2024-10-30T19:03:53.674Z"
   },
   {
    "duration": 935,
    "start_time": "2024-10-30T19:03:53.688Z"
   },
   {
    "duration": 4,
    "start_time": "2024-10-30T19:03:54.629Z"
   },
   {
    "duration": 28,
    "start_time": "2024-10-30T19:03:54.635Z"
   },
   {
    "duration": 802,
    "start_time": "2024-10-30T19:03:54.665Z"
   },
   {
    "duration": 16,
    "start_time": "2024-10-30T19:03:55.469Z"
   },
   {
    "duration": 874,
    "start_time": "2024-10-30T19:03:55.486Z"
   },
   {
    "duration": 9,
    "start_time": "2024-10-30T19:03:56.362Z"
   },
   {
    "duration": 147,
    "start_time": "2024-10-30T19:03:56.373Z"
   },
   {
    "duration": 22,
    "start_time": "2024-10-30T19:03:56.522Z"
   },
   {
    "duration": 61,
    "start_time": "2024-10-30T19:03:56.546Z"
   },
   {
    "duration": 31,
    "start_time": "2024-10-30T19:03:56.609Z"
   },
   {
    "duration": 12,
    "start_time": "2024-10-30T19:03:56.641Z"
   },
   {
    "duration": 11,
    "start_time": "2024-10-30T19:03:56.654Z"
   },
   {
    "duration": 22,
    "start_time": "2024-10-30T19:03:56.666Z"
   },
   {
    "duration": 472,
    "start_time": "2024-10-30T19:03:56.689Z"
   },
   {
    "duration": 10,
    "start_time": "2024-10-30T19:03:57.163Z"
   },
   {
    "duration": 416,
    "start_time": "2024-10-30T19:03:57.174Z"
   },
   {
    "duration": 156,
    "start_time": "2024-10-30T19:03:57.591Z"
   },
   {
    "duration": 6,
    "start_time": "2024-10-30T19:03:57.748Z"
   },
   {
    "duration": 13,
    "start_time": "2024-10-30T19:03:57.755Z"
   },
   {
    "duration": 192,
    "start_time": "2024-10-30T19:03:57.769Z"
   },
   {
    "duration": 9,
    "start_time": "2024-10-30T19:03:57.963Z"
   },
   {
    "duration": 77,
    "start_time": "2024-10-30T19:03:57.974Z"
   },
   {
    "duration": 11,
    "start_time": "2024-10-30T19:03:58.052Z"
   },
   {
    "duration": 20,
    "start_time": "2024-10-30T19:03:58.065Z"
   },
   {
    "duration": 28,
    "start_time": "2024-10-30T19:03:58.087Z"
   },
   {
    "duration": 83,
    "start_time": "2024-10-30T19:03:58.116Z"
   },
   {
    "duration": 16,
    "start_time": "2024-10-30T19:03:58.200Z"
   },
   {
    "duration": 19,
    "start_time": "2024-10-30T19:03:58.218Z"
   },
   {
    "duration": 7,
    "start_time": "2024-10-30T19:03:58.238Z"
   },
   {
    "duration": 11,
    "start_time": "2024-10-30T19:03:58.247Z"
   },
   {
    "duration": 20,
    "start_time": "2024-10-30T19:03:58.259Z"
   },
   {
    "duration": 29,
    "start_time": "2024-10-30T19:03:58.280Z"
   },
   {
    "duration": 22,
    "start_time": "2024-10-30T19:03:58.311Z"
   },
   {
    "duration": 285,
    "start_time": "2024-10-30T19:03:58.335Z"
   },
   {
    "duration": 28,
    "start_time": "2024-10-30T19:03:58.622Z"
   },
   {
    "duration": 494,
    "start_time": "2024-10-30T19:03:58.651Z"
   },
   {
    "duration": 24,
    "start_time": "2024-10-30T19:03:59.147Z"
   },
   {
    "duration": 17,
    "start_time": "2024-10-30T19:03:59.173Z"
   },
   {
    "duration": 17,
    "start_time": "2024-10-30T19:03:59.191Z"
   },
   {
    "duration": 40,
    "start_time": "2024-10-30T19:03:59.210Z"
   },
   {
    "duration": 523,
    "start_time": "2024-10-30T19:03:59.251Z"
   },
   {
    "duration": 522,
    "start_time": "2024-10-30T19:03:59.776Z"
   },
   {
    "duration": 10,
    "start_time": "2024-10-30T19:04:00.299Z"
   },
   {
    "duration": 334,
    "start_time": "2024-10-30T19:04:00.311Z"
   },
   {
    "duration": 11,
    "start_time": "2024-10-30T19:04:00.647Z"
   },
   {
    "duration": 285,
    "start_time": "2024-10-30T19:04:00.659Z"
   },
   {
    "duration": 7,
    "start_time": "2024-10-30T19:04:00.945Z"
   },
   {
    "duration": 84,
    "start_time": "2024-10-30T19:04:00.953Z"
   },
   {
    "duration": 59,
    "start_time": "2024-10-30T19:04:01.039Z"
   },
   {
    "duration": 10,
    "start_time": "2024-10-30T19:04:01.100Z"
   },
   {
    "duration": 109,
    "start_time": "2024-10-30T19:04:01.112Z"
   },
   {
    "duration": 345,
    "start_time": "2024-10-30T19:04:01.223Z"
   },
   {
    "duration": 10,
    "start_time": "2024-10-30T19:04:01.570Z"
   },
   {
    "duration": 249,
    "start_time": "2024-10-30T19:04:01.582Z"
   },
   {
    "duration": 368,
    "start_time": "2024-10-30T19:04:01.833Z"
   },
   {
    "duration": 11,
    "start_time": "2024-10-30T19:04:02.203Z"
   },
   {
    "duration": 87,
    "start_time": "2024-10-30T19:04:02.215Z"
   },
   {
    "duration": 353,
    "start_time": "2024-10-30T19:04:02.303Z"
   },
   {
    "duration": 10,
    "start_time": "2024-10-30T19:04:02.657Z"
   },
   {
    "duration": 127,
    "start_time": "2024-10-30T19:04:02.669Z"
   },
   {
    "duration": 383,
    "start_time": "2024-10-30T19:04:02.798Z"
   },
   {
    "duration": 3,
    "start_time": "2024-10-30T19:04:03.183Z"
   },
   {
    "duration": 54,
    "start_time": "2024-10-30T19:04:03.188Z"
   },
   {
    "duration": 37,
    "start_time": "2024-10-30T19:04:03.244Z"
   },
   {
    "duration": 55,
    "start_time": "2024-10-30T19:04:03.283Z"
   },
   {
    "duration": 26,
    "start_time": "2024-10-30T19:04:03.340Z"
   },
   {
    "duration": 36,
    "start_time": "2024-10-30T19:04:03.368Z"
   },
   {
    "duration": 119,
    "start_time": "2024-10-30T19:04:03.406Z"
   },
   {
    "duration": 15,
    "start_time": "2024-10-30T19:04:03.527Z"
   },
   {
    "duration": 35,
    "start_time": "2024-10-30T19:04:03.544Z"
   },
   {
    "duration": 52,
    "start_time": "2024-10-30T19:04:03.580Z"
   },
   {
    "duration": 1849,
    "start_time": "2024-10-30T19:09:16.917Z"
   },
   {
    "duration": 4,
    "start_time": "2024-10-30T19:09:18.768Z"
   },
   {
    "duration": 7,
    "start_time": "2024-10-30T19:09:18.774Z"
   },
   {
    "duration": 22,
    "start_time": "2024-10-30T19:09:18.783Z"
   },
   {
    "duration": 61,
    "start_time": "2024-10-30T19:09:18.806Z"
   },
   {
    "duration": 28,
    "start_time": "2024-10-30T19:09:18.869Z"
   },
   {
    "duration": 5,
    "start_time": "2024-10-30T19:09:18.899Z"
   },
   {
    "duration": 89,
    "start_time": "2024-10-30T19:09:18.906Z"
   },
   {
    "duration": 16,
    "start_time": "2024-10-30T19:09:18.996Z"
   },
   {
    "duration": 20,
    "start_time": "2024-10-30T19:09:19.042Z"
   },
   {
    "duration": 14,
    "start_time": "2024-10-30T19:09:19.064Z"
   },
   {
    "duration": 9,
    "start_time": "2024-10-30T19:09:19.079Z"
   },
   {
    "duration": 32,
    "start_time": "2024-10-30T19:09:19.090Z"
   },
   {
    "duration": 8,
    "start_time": "2024-10-30T19:09:19.142Z"
   },
   {
    "duration": 9,
    "start_time": "2024-10-30T19:09:19.151Z"
   },
   {
    "duration": 144,
    "start_time": "2024-10-30T19:09:19.161Z"
   },
   {
    "duration": 0,
    "start_time": "2024-10-30T19:09:19.310Z"
   },
   {
    "duration": 0,
    "start_time": "2024-10-30T19:09:19.311Z"
   },
   {
    "duration": 0,
    "start_time": "2024-10-30T19:09:19.312Z"
   },
   {
    "duration": 0,
    "start_time": "2024-10-30T19:09:19.313Z"
   },
   {
    "duration": 0,
    "start_time": "2024-10-30T19:09:19.314Z"
   },
   {
    "duration": 0,
    "start_time": "2024-10-30T19:09:19.315Z"
   },
   {
    "duration": 0,
    "start_time": "2024-10-30T19:09:19.316Z"
   },
   {
    "duration": 0,
    "start_time": "2024-10-30T19:09:19.317Z"
   },
   {
    "duration": 0,
    "start_time": "2024-10-30T19:09:19.318Z"
   },
   {
    "duration": 0,
    "start_time": "2024-10-30T19:09:19.319Z"
   },
   {
    "duration": 0,
    "start_time": "2024-10-30T19:09:19.320Z"
   },
   {
    "duration": 0,
    "start_time": "2024-10-30T19:09:19.321Z"
   },
   {
    "duration": 0,
    "start_time": "2024-10-30T19:09:19.322Z"
   },
   {
    "duration": 0,
    "start_time": "2024-10-30T19:09:19.344Z"
   },
   {
    "duration": 0,
    "start_time": "2024-10-30T19:09:19.344Z"
   },
   {
    "duration": 0,
    "start_time": "2024-10-30T19:09:19.345Z"
   },
   {
    "duration": 0,
    "start_time": "2024-10-30T19:09:19.347Z"
   },
   {
    "duration": 0,
    "start_time": "2024-10-30T19:09:19.348Z"
   },
   {
    "duration": 0,
    "start_time": "2024-10-30T19:09:19.349Z"
   },
   {
    "duration": 0,
    "start_time": "2024-10-30T19:09:19.350Z"
   },
   {
    "duration": 0,
    "start_time": "2024-10-30T19:09:19.351Z"
   },
   {
    "duration": 0,
    "start_time": "2024-10-30T19:09:19.352Z"
   },
   {
    "duration": 0,
    "start_time": "2024-10-30T19:09:19.353Z"
   },
   {
    "duration": 0,
    "start_time": "2024-10-30T19:09:19.354Z"
   },
   {
    "duration": 0,
    "start_time": "2024-10-30T19:09:19.355Z"
   },
   {
    "duration": 0,
    "start_time": "2024-10-30T19:09:19.356Z"
   },
   {
    "duration": 0,
    "start_time": "2024-10-30T19:09:19.357Z"
   },
   {
    "duration": 0,
    "start_time": "2024-10-30T19:09:19.358Z"
   },
   {
    "duration": 0,
    "start_time": "2024-10-30T19:09:19.360Z"
   },
   {
    "duration": 0,
    "start_time": "2024-10-30T19:09:19.360Z"
   },
   {
    "duration": 0,
    "start_time": "2024-10-30T19:09:19.362Z"
   },
   {
    "duration": 0,
    "start_time": "2024-10-30T19:09:19.363Z"
   },
   {
    "duration": 0,
    "start_time": "2024-10-30T19:09:19.364Z"
   },
   {
    "duration": 0,
    "start_time": "2024-10-30T19:09:19.365Z"
   },
   {
    "duration": 0,
    "start_time": "2024-10-30T19:09:19.366Z"
   },
   {
    "duration": 0,
    "start_time": "2024-10-30T19:09:19.367Z"
   },
   {
    "duration": 0,
    "start_time": "2024-10-30T19:09:19.368Z"
   },
   {
    "duration": 0,
    "start_time": "2024-10-30T19:09:19.369Z"
   },
   {
    "duration": 0,
    "start_time": "2024-10-30T19:09:19.370Z"
   },
   {
    "duration": 0,
    "start_time": "2024-10-30T19:09:19.371Z"
   },
   {
    "duration": 0,
    "start_time": "2024-10-30T19:09:19.372Z"
   },
   {
    "duration": 0,
    "start_time": "2024-10-30T19:09:19.373Z"
   },
   {
    "duration": 0,
    "start_time": "2024-10-30T19:09:19.374Z"
   },
   {
    "duration": 0,
    "start_time": "2024-10-30T19:09:19.375Z"
   },
   {
    "duration": 0,
    "start_time": "2024-10-30T19:09:19.377Z"
   },
   {
    "duration": 0,
    "start_time": "2024-10-30T19:09:19.378Z"
   },
   {
    "duration": 0,
    "start_time": "2024-10-30T19:09:19.379Z"
   },
   {
    "duration": 0,
    "start_time": "2024-10-30T19:09:19.444Z"
   },
   {
    "duration": 0,
    "start_time": "2024-10-30T19:09:19.445Z"
   },
   {
    "duration": 0,
    "start_time": "2024-10-30T19:09:19.446Z"
   },
   {
    "duration": 0,
    "start_time": "2024-10-30T19:09:19.447Z"
   },
   {
    "duration": 0,
    "start_time": "2024-10-30T19:09:19.448Z"
   },
   {
    "duration": 0,
    "start_time": "2024-10-30T19:09:19.449Z"
   },
   {
    "duration": 0,
    "start_time": "2024-10-30T19:09:19.450Z"
   },
   {
    "duration": 0,
    "start_time": "2024-10-30T19:09:19.451Z"
   },
   {
    "duration": 0,
    "start_time": "2024-10-30T19:09:19.452Z"
   },
   {
    "duration": 0,
    "start_time": "2024-10-30T19:09:19.453Z"
   },
   {
    "duration": 0,
    "start_time": "2024-10-30T19:09:19.453Z"
   },
   {
    "duration": 0,
    "start_time": "2024-10-30T19:09:19.454Z"
   },
   {
    "duration": 0,
    "start_time": "2024-10-30T19:09:19.455Z"
   },
   {
    "duration": 0,
    "start_time": "2024-10-30T19:09:19.456Z"
   },
   {
    "duration": 0,
    "start_time": "2024-10-30T19:09:19.457Z"
   },
   {
    "duration": 0,
    "start_time": "2024-10-30T19:09:19.458Z"
   },
   {
    "duration": 0,
    "start_time": "2024-10-30T19:09:19.459Z"
   },
   {
    "duration": 0,
    "start_time": "2024-10-30T19:09:19.460Z"
   },
   {
    "duration": 0,
    "start_time": "2024-10-30T19:09:19.462Z"
   },
   {
    "duration": 0,
    "start_time": "2024-10-30T19:09:19.462Z"
   },
   {
    "duration": 0,
    "start_time": "2024-10-30T19:09:19.463Z"
   },
   {
    "duration": 0,
    "start_time": "2024-10-30T19:09:19.464Z"
   },
   {
    "duration": 0,
    "start_time": "2024-10-30T19:09:19.465Z"
   },
   {
    "duration": 0,
    "start_time": "2024-10-30T19:09:19.466Z"
   },
   {
    "duration": 0,
    "start_time": "2024-10-30T19:09:19.467Z"
   },
   {
    "duration": 0,
    "start_time": "2024-10-30T19:09:19.468Z"
   },
   {
    "duration": 0,
    "start_time": "2024-10-30T19:09:19.470Z"
   },
   {
    "duration": 0,
    "start_time": "2024-10-30T19:09:19.471Z"
   },
   {
    "duration": 0,
    "start_time": "2024-10-30T19:09:19.472Z"
   },
   {
    "duration": 0,
    "start_time": "2024-10-30T19:09:19.474Z"
   },
   {
    "duration": 0,
    "start_time": "2024-10-30T19:09:19.475Z"
   },
   {
    "duration": 0,
    "start_time": "2024-10-30T19:09:19.476Z"
   },
   {
    "duration": 0,
    "start_time": "2024-10-30T19:09:19.477Z"
   },
   {
    "duration": 0,
    "start_time": "2024-10-30T19:09:19.542Z"
   },
   {
    "duration": 0,
    "start_time": "2024-10-30T19:09:19.544Z"
   },
   {
    "duration": 0,
    "start_time": "2024-10-30T19:09:19.546Z"
   },
   {
    "duration": 0,
    "start_time": "2024-10-30T19:09:19.547Z"
   },
   {
    "duration": 0,
    "start_time": "2024-10-30T19:09:19.548Z"
   },
   {
    "duration": 0,
    "start_time": "2024-10-30T19:09:19.550Z"
   },
   {
    "duration": 0,
    "start_time": "2024-10-30T19:09:19.551Z"
   },
   {
    "duration": 0,
    "start_time": "2024-10-30T19:09:19.552Z"
   },
   {
    "duration": 0,
    "start_time": "2024-10-30T19:09:19.553Z"
   },
   {
    "duration": 0,
    "start_time": "2024-10-30T19:09:19.554Z"
   },
   {
    "duration": 0,
    "start_time": "2024-10-30T19:09:19.555Z"
   },
   {
    "duration": 0,
    "start_time": "2024-10-30T19:09:19.556Z"
   },
   {
    "duration": 0,
    "start_time": "2024-10-30T19:09:19.558Z"
   },
   {
    "duration": 0,
    "start_time": "2024-10-30T19:09:19.559Z"
   },
   {
    "duration": 0,
    "start_time": "2024-10-30T19:09:19.560Z"
   },
   {
    "duration": 10,
    "start_time": "2024-10-30T19:09:58.220Z"
   },
   {
    "duration": 19,
    "start_time": "2024-10-30T19:10:01.590Z"
   },
   {
    "duration": 14,
    "start_time": "2024-10-30T19:10:30.795Z"
   },
   {
    "duration": 6,
    "start_time": "2024-10-30T19:11:05.151Z"
   },
   {
    "duration": 3,
    "start_time": "2024-10-30T19:11:07.590Z"
   },
   {
    "duration": 12,
    "start_time": "2024-10-30T19:11:09.129Z"
   },
   {
    "duration": 5,
    "start_time": "2024-10-30T19:11:16.005Z"
   },
   {
    "duration": 13,
    "start_time": "2024-10-30T19:11:21.735Z"
   },
   {
    "duration": 1884,
    "start_time": "2024-10-30T19:11:39.260Z"
   },
   {
    "duration": 4,
    "start_time": "2024-10-30T19:11:41.146Z"
   },
   {
    "duration": 15,
    "start_time": "2024-10-30T19:11:41.152Z"
   },
   {
    "duration": 27,
    "start_time": "2024-10-30T19:11:41.168Z"
   },
   {
    "duration": 67,
    "start_time": "2024-10-30T19:11:41.197Z"
   },
   {
    "duration": 27,
    "start_time": "2024-10-30T19:11:41.266Z"
   },
   {
    "duration": 6,
    "start_time": "2024-10-30T19:11:41.295Z"
   },
   {
    "duration": 90,
    "start_time": "2024-10-30T19:11:41.302Z"
   },
   {
    "duration": 15,
    "start_time": "2024-10-30T19:11:41.394Z"
   },
   {
    "duration": 12,
    "start_time": "2024-10-30T19:11:41.444Z"
   },
   {
    "duration": 44,
    "start_time": "2024-10-30T19:11:41.458Z"
   },
   {
    "duration": 12,
    "start_time": "2024-10-30T19:11:41.503Z"
   },
   {
    "duration": 31,
    "start_time": "2024-10-30T19:11:41.516Z"
   },
   {
    "duration": 7,
    "start_time": "2024-10-30T19:11:41.548Z"
   },
   {
    "duration": 18,
    "start_time": "2024-10-30T19:11:41.556Z"
   },
   {
    "duration": 43,
    "start_time": "2024-10-30T19:11:41.575Z"
   },
   {
    "duration": 5,
    "start_time": "2024-10-30T19:11:41.620Z"
   },
   {
    "duration": 12,
    "start_time": "2024-10-30T19:11:41.627Z"
   },
   {
    "duration": 18,
    "start_time": "2024-10-30T19:11:41.640Z"
   },
   {
    "duration": 18,
    "start_time": "2024-10-30T19:11:41.659Z"
   },
   {
    "duration": 34,
    "start_time": "2024-10-30T19:11:41.679Z"
   },
   {
    "duration": 15,
    "start_time": "2024-10-30T19:11:41.714Z"
   },
   {
    "duration": 9,
    "start_time": "2024-10-30T19:11:41.731Z"
   },
   {
    "duration": 15,
    "start_time": "2024-10-30T19:11:41.741Z"
   },
   {
    "duration": 118,
    "start_time": "2024-10-30T19:11:41.757Z"
   },
   {
    "duration": 6,
    "start_time": "2024-10-30T19:11:41.877Z"
   },
   {
    "duration": 1579,
    "start_time": "2024-10-30T19:11:41.884Z"
   },
   {
    "duration": 5,
    "start_time": "2024-10-30T19:11:43.467Z"
   },
   {
    "duration": 2943,
    "start_time": "2024-10-30T19:11:43.474Z"
   },
   {
    "duration": 29,
    "start_time": "2024-10-30T19:11:46.419Z"
   },
   {
    "duration": 28,
    "start_time": "2024-10-30T19:11:46.450Z"
   },
   {
    "duration": 183,
    "start_time": "2024-10-30T19:11:46.480Z"
   },
   {
    "duration": 233,
    "start_time": "2024-10-30T19:11:46.665Z"
   },
   {
    "duration": 4,
    "start_time": "2024-10-30T19:11:46.900Z"
   },
   {
    "duration": 16,
    "start_time": "2024-10-30T19:11:46.906Z"
   },
   {
    "duration": 9,
    "start_time": "2024-10-30T19:11:46.924Z"
   },
   {
    "duration": 335,
    "start_time": "2024-10-30T19:11:46.943Z"
   },
   {
    "duration": 15,
    "start_time": "2024-10-30T19:11:47.279Z"
   },
   {
    "duration": 16,
    "start_time": "2024-10-30T19:11:47.296Z"
   },
   {
    "duration": 1001,
    "start_time": "2024-10-30T19:11:47.314Z"
   },
   {
    "duration": 5,
    "start_time": "2024-10-30T19:11:48.317Z"
   },
   {
    "duration": 8,
    "start_time": "2024-10-30T19:11:48.325Z"
   },
   {
    "duration": 879,
    "start_time": "2024-10-30T19:11:48.334Z"
   },
   {
    "duration": 29,
    "start_time": "2024-10-30T19:11:49.215Z"
   },
   {
    "duration": 912,
    "start_time": "2024-10-30T19:11:49.246Z"
   },
   {
    "duration": 9,
    "start_time": "2024-10-30T19:11:50.160Z"
   },
   {
    "duration": 167,
    "start_time": "2024-10-30T19:11:50.171Z"
   },
   {
    "duration": 20,
    "start_time": "2024-10-30T19:11:50.340Z"
   },
   {
    "duration": 5,
    "start_time": "2024-10-30T19:11:50.362Z"
   },
   {
    "duration": 23,
    "start_time": "2024-10-30T19:11:50.369Z"
   },
   {
    "duration": 13,
    "start_time": "2024-10-30T19:11:50.393Z"
   },
   {
    "duration": 38,
    "start_time": "2024-10-30T19:11:50.407Z"
   },
   {
    "duration": 16,
    "start_time": "2024-10-30T19:11:50.446Z"
   },
   {
    "duration": 485,
    "start_time": "2024-10-30T19:11:50.464Z"
   },
   {
    "duration": 10,
    "start_time": "2024-10-30T19:11:50.951Z"
   },
   {
    "duration": 441,
    "start_time": "2024-10-30T19:11:50.963Z"
   },
   {
    "duration": 162,
    "start_time": "2024-10-30T19:11:51.405Z"
   },
   {
    "duration": 6,
    "start_time": "2024-10-30T19:11:51.569Z"
   },
   {
    "duration": 10,
    "start_time": "2024-10-30T19:11:51.576Z"
   },
   {
    "duration": 185,
    "start_time": "2024-10-30T19:11:51.587Z"
   },
   {
    "duration": 9,
    "start_time": "2024-10-30T19:11:51.774Z"
   },
   {
    "duration": 8,
    "start_time": "2024-10-30T19:11:51.785Z"
   },
   {
    "duration": 8,
    "start_time": "2024-10-30T19:11:51.795Z"
   },
   {
    "duration": 14,
    "start_time": "2024-10-30T19:11:51.804Z"
   },
   {
    "duration": 42,
    "start_time": "2024-10-30T19:11:51.819Z"
   },
   {
    "duration": 16,
    "start_time": "2024-10-30T19:11:51.863Z"
   },
   {
    "duration": 20,
    "start_time": "2024-10-30T19:11:51.881Z"
   },
   {
    "duration": 53,
    "start_time": "2024-10-30T19:11:51.903Z"
   },
   {
    "duration": 14,
    "start_time": "2024-10-30T19:11:51.958Z"
   },
   {
    "duration": 20,
    "start_time": "2024-10-30T19:11:51.974Z"
   },
   {
    "duration": 82,
    "start_time": "2024-10-30T19:11:51.996Z"
   },
   {
    "duration": 37,
    "start_time": "2024-10-30T19:11:52.080Z"
   },
   {
    "duration": 98,
    "start_time": "2024-10-30T19:11:52.120Z"
   },
   {
    "duration": 302,
    "start_time": "2024-10-30T19:11:52.222Z"
   },
   {
    "duration": 27,
    "start_time": "2024-10-30T19:11:52.526Z"
   },
   {
    "duration": 531,
    "start_time": "2024-10-30T19:11:52.554Z"
   },
   {
    "duration": 24,
    "start_time": "2024-10-30T19:11:53.086Z"
   },
   {
    "duration": 32,
    "start_time": "2024-10-30T19:11:53.112Z"
   },
   {
    "duration": 31,
    "start_time": "2024-10-30T19:11:53.145Z"
   },
   {
    "duration": 14,
    "start_time": "2024-10-30T19:11:53.177Z"
   },
   {
    "duration": 492,
    "start_time": "2024-10-30T19:11:53.192Z"
   },
   {
    "duration": 502,
    "start_time": "2024-10-30T19:11:53.690Z"
   },
   {
    "duration": 10,
    "start_time": "2024-10-30T19:11:54.194Z"
   },
   {
    "duration": 326,
    "start_time": "2024-10-30T19:11:54.206Z"
   },
   {
    "duration": 18,
    "start_time": "2024-10-30T19:11:54.533Z"
   },
   {
    "duration": 405,
    "start_time": "2024-10-30T19:11:54.552Z"
   },
   {
    "duration": 7,
    "start_time": "2024-10-30T19:11:54.958Z"
   },
   {
    "duration": 80,
    "start_time": "2024-10-30T19:11:54.966Z"
   },
   {
    "duration": 64,
    "start_time": "2024-10-30T19:11:55.047Z"
   },
   {
    "duration": 22,
    "start_time": "2024-10-30T19:11:55.112Z"
   },
   {
    "duration": 182,
    "start_time": "2024-10-30T19:11:55.135Z"
   },
   {
    "duration": 369,
    "start_time": "2024-10-30T19:11:55.319Z"
   },
   {
    "duration": 12,
    "start_time": "2024-10-30T19:11:55.689Z"
   },
   {
    "duration": 73,
    "start_time": "2024-10-30T19:11:55.702Z"
   },
   {
    "duration": 341,
    "start_time": "2024-10-30T19:11:55.776Z"
   },
   {
    "duration": 10,
    "start_time": "2024-10-30T19:11:56.119Z"
   },
   {
    "duration": 148,
    "start_time": "2024-10-30T19:11:56.130Z"
   },
   {
    "duration": 340,
    "start_time": "2024-10-30T19:11:56.280Z"
   },
   {
    "duration": 21,
    "start_time": "2024-10-30T19:11:56.622Z"
   },
   {
    "duration": 65,
    "start_time": "2024-10-30T19:11:56.645Z"
   },
   {
    "duration": 384,
    "start_time": "2024-10-30T19:11:56.712Z"
   },
   {
    "duration": 3,
    "start_time": "2024-10-30T19:11:57.098Z"
   },
   {
    "duration": 25,
    "start_time": "2024-10-30T19:11:57.103Z"
   },
   {
    "duration": 18,
    "start_time": "2024-10-30T19:11:57.129Z"
   },
   {
    "duration": 18,
    "start_time": "2024-10-30T19:11:57.149Z"
   },
   {
    "duration": 18,
    "start_time": "2024-10-30T19:11:57.169Z"
   },
   {
    "duration": 20,
    "start_time": "2024-10-30T19:11:57.189Z"
   },
   {
    "duration": 54,
    "start_time": "2024-10-30T19:11:57.211Z"
   },
   {
    "duration": 7,
    "start_time": "2024-10-30T19:11:57.267Z"
   },
   {
    "duration": 16,
    "start_time": "2024-10-30T19:11:57.276Z"
   },
   {
    "duration": 19,
    "start_time": "2024-10-30T19:11:57.294Z"
   },
   {
    "duration": 1823,
    "start_time": "2024-10-30T19:15:10.717Z"
   },
   {
    "duration": 5,
    "start_time": "2024-10-30T19:15:12.542Z"
   },
   {
    "duration": 81,
    "start_time": "2024-10-30T19:15:12.548Z"
   },
   {
    "duration": 37,
    "start_time": "2024-10-30T19:15:12.631Z"
   },
   {
    "duration": 94,
    "start_time": "2024-10-30T19:15:12.670Z"
   },
   {
    "duration": 37,
    "start_time": "2024-10-30T19:15:12.766Z"
   },
   {
    "duration": 7,
    "start_time": "2024-10-30T19:15:12.805Z"
   },
   {
    "duration": 88,
    "start_time": "2024-10-30T19:15:12.814Z"
   },
   {
    "duration": 40,
    "start_time": "2024-10-30T19:15:12.903Z"
   },
   {
    "duration": 12,
    "start_time": "2024-10-30T19:15:12.945Z"
   },
   {
    "duration": 112,
    "start_time": "2024-10-30T19:15:12.958Z"
   },
   {
    "duration": 20,
    "start_time": "2024-10-30T19:15:13.071Z"
   },
   {
    "duration": 42,
    "start_time": "2024-10-30T19:15:13.092Z"
   },
   {
    "duration": 7,
    "start_time": "2024-10-30T19:15:13.137Z"
   },
   {
    "duration": 31,
    "start_time": "2024-10-30T19:15:13.145Z"
   },
   {
    "duration": 57,
    "start_time": "2024-10-30T19:15:13.177Z"
   },
   {
    "duration": 9,
    "start_time": "2024-10-30T19:15:13.235Z"
   },
   {
    "duration": 12,
    "start_time": "2024-10-30T19:15:13.246Z"
   },
   {
    "duration": 25,
    "start_time": "2024-10-30T19:15:13.260Z"
   },
   {
    "duration": 12,
    "start_time": "2024-10-30T19:15:13.286Z"
   },
   {
    "duration": 20,
    "start_time": "2024-10-30T19:15:13.300Z"
   },
   {
    "duration": 35,
    "start_time": "2024-10-30T19:15:13.322Z"
   },
   {
    "duration": 19,
    "start_time": "2024-10-30T19:15:13.359Z"
   },
   {
    "duration": 44,
    "start_time": "2024-10-30T19:15:13.379Z"
   },
   {
    "duration": 221,
    "start_time": "2024-10-30T19:15:13.425Z"
   },
   {
    "duration": 6,
    "start_time": "2024-10-30T19:15:13.649Z"
   },
   {
    "duration": 1590,
    "start_time": "2024-10-30T19:15:13.657Z"
   },
   {
    "duration": 5,
    "start_time": "2024-10-30T19:15:15.250Z"
   },
   {
    "duration": 3598,
    "start_time": "2024-10-30T19:15:15.257Z"
   },
   {
    "duration": 24,
    "start_time": "2024-10-30T19:15:18.857Z"
   },
   {
    "duration": 8,
    "start_time": "2024-10-30T19:15:18.883Z"
   },
   {
    "duration": 170,
    "start_time": "2024-10-30T19:15:18.892Z"
   },
   {
    "duration": 208,
    "start_time": "2024-10-30T19:15:19.063Z"
   },
   {
    "duration": 3,
    "start_time": "2024-10-30T19:15:19.273Z"
   },
   {
    "duration": 7,
    "start_time": "2024-10-30T19:15:19.278Z"
   },
   {
    "duration": 20,
    "start_time": "2024-10-30T19:15:19.286Z"
   },
   {
    "duration": 315,
    "start_time": "2024-10-30T19:15:19.308Z"
   },
   {
    "duration": 24,
    "start_time": "2024-10-30T19:15:19.625Z"
   },
   {
    "duration": 10,
    "start_time": "2024-10-30T19:15:19.651Z"
   },
   {
    "duration": 928,
    "start_time": "2024-10-30T19:15:19.663Z"
   },
   {
    "duration": 119,
    "start_time": "2024-10-30T19:15:20.596Z"
   },
   {
    "duration": 0,
    "start_time": "2024-10-30T19:15:20.717Z"
   },
   {
    "duration": 0,
    "start_time": "2024-10-30T19:15:20.718Z"
   },
   {
    "duration": 0,
    "start_time": "2024-10-30T19:15:20.719Z"
   },
   {
    "duration": 0,
    "start_time": "2024-10-30T19:15:20.720Z"
   },
   {
    "duration": 0,
    "start_time": "2024-10-30T19:15:20.721Z"
   },
   {
    "duration": 0,
    "start_time": "2024-10-30T19:15:20.722Z"
   },
   {
    "duration": 0,
    "start_time": "2024-10-30T19:15:20.723Z"
   },
   {
    "duration": 0,
    "start_time": "2024-10-30T19:15:20.724Z"
   },
   {
    "duration": 0,
    "start_time": "2024-10-30T19:15:20.725Z"
   },
   {
    "duration": 0,
    "start_time": "2024-10-30T19:15:20.726Z"
   },
   {
    "duration": 0,
    "start_time": "2024-10-30T19:15:20.743Z"
   },
   {
    "duration": 0,
    "start_time": "2024-10-30T19:15:20.744Z"
   },
   {
    "duration": 0,
    "start_time": "2024-10-30T19:15:20.745Z"
   },
   {
    "duration": 0,
    "start_time": "2024-10-30T19:15:20.746Z"
   },
   {
    "duration": 0,
    "start_time": "2024-10-30T19:15:20.747Z"
   },
   {
    "duration": 0,
    "start_time": "2024-10-30T19:15:20.748Z"
   },
   {
    "duration": 0,
    "start_time": "2024-10-30T19:15:20.749Z"
   },
   {
    "duration": 0,
    "start_time": "2024-10-30T19:15:20.750Z"
   },
   {
    "duration": 0,
    "start_time": "2024-10-30T19:15:20.751Z"
   },
   {
    "duration": 0,
    "start_time": "2024-10-30T19:15:20.752Z"
   },
   {
    "duration": 0,
    "start_time": "2024-10-30T19:15:20.753Z"
   },
   {
    "duration": 0,
    "start_time": "2024-10-30T19:15:20.755Z"
   },
   {
    "duration": 0,
    "start_time": "2024-10-30T19:15:20.756Z"
   },
   {
    "duration": 0,
    "start_time": "2024-10-30T19:15:20.757Z"
   },
   {
    "duration": 0,
    "start_time": "2024-10-30T19:15:20.758Z"
   },
   {
    "duration": 0,
    "start_time": "2024-10-30T19:15:20.759Z"
   },
   {
    "duration": 0,
    "start_time": "2024-10-30T19:15:20.760Z"
   },
   {
    "duration": 0,
    "start_time": "2024-10-30T19:15:20.761Z"
   },
   {
    "duration": 0,
    "start_time": "2024-10-30T19:15:20.762Z"
   },
   {
    "duration": 0,
    "start_time": "2024-10-30T19:15:20.764Z"
   },
   {
    "duration": 0,
    "start_time": "2024-10-30T19:15:20.764Z"
   },
   {
    "duration": 0,
    "start_time": "2024-10-30T19:15:20.765Z"
   },
   {
    "duration": 0,
    "start_time": "2024-10-30T19:15:20.766Z"
   },
   {
    "duration": 0,
    "start_time": "2024-10-30T19:15:20.767Z"
   },
   {
    "duration": 0,
    "start_time": "2024-10-30T19:15:20.768Z"
   },
   {
    "duration": 0,
    "start_time": "2024-10-30T19:15:20.770Z"
   },
   {
    "duration": 0,
    "start_time": "2024-10-30T19:15:20.771Z"
   },
   {
    "duration": 0,
    "start_time": "2024-10-30T19:15:20.771Z"
   },
   {
    "duration": 0,
    "start_time": "2024-10-30T19:15:20.773Z"
   },
   {
    "duration": 0,
    "start_time": "2024-10-30T19:15:20.773Z"
   },
   {
    "duration": 0,
    "start_time": "2024-10-30T19:15:20.774Z"
   },
   {
    "duration": 0,
    "start_time": "2024-10-30T19:15:20.776Z"
   },
   {
    "duration": 0,
    "start_time": "2024-10-30T19:15:20.777Z"
   },
   {
    "duration": 0,
    "start_time": "2024-10-30T19:15:20.779Z"
   },
   {
    "duration": 0,
    "start_time": "2024-10-30T19:15:20.780Z"
   },
   {
    "duration": 0,
    "start_time": "2024-10-30T19:15:20.843Z"
   },
   {
    "duration": 0,
    "start_time": "2024-10-30T19:15:20.844Z"
   },
   {
    "duration": 0,
    "start_time": "2024-10-30T19:15:20.845Z"
   },
   {
    "duration": 0,
    "start_time": "2024-10-30T19:15:20.846Z"
   },
   {
    "duration": 0,
    "start_time": "2024-10-30T19:15:20.846Z"
   },
   {
    "duration": 0,
    "start_time": "2024-10-30T19:15:20.847Z"
   },
   {
    "duration": 0,
    "start_time": "2024-10-30T19:15:20.848Z"
   },
   {
    "duration": 0,
    "start_time": "2024-10-30T19:15:20.849Z"
   },
   {
    "duration": 0,
    "start_time": "2024-10-30T19:15:20.850Z"
   },
   {
    "duration": 0,
    "start_time": "2024-10-30T19:15:20.851Z"
   },
   {
    "duration": 0,
    "start_time": "2024-10-30T19:15:20.852Z"
   },
   {
    "duration": 0,
    "start_time": "2024-10-30T19:15:20.853Z"
   },
   {
    "duration": 0,
    "start_time": "2024-10-30T19:15:20.854Z"
   },
   {
    "duration": 0,
    "start_time": "2024-10-30T19:15:20.855Z"
   },
   {
    "duration": 0,
    "start_time": "2024-10-30T19:15:20.856Z"
   },
   {
    "duration": 0,
    "start_time": "2024-10-30T19:15:20.856Z"
   },
   {
    "duration": 0,
    "start_time": "2024-10-30T19:15:20.857Z"
   },
   {
    "duration": 0,
    "start_time": "2024-10-30T19:15:20.858Z"
   },
   {
    "duration": 0,
    "start_time": "2024-10-30T19:15:20.859Z"
   },
   {
    "duration": 0,
    "start_time": "2024-10-30T19:15:20.860Z"
   },
   {
    "duration": 0,
    "start_time": "2024-10-30T19:15:20.861Z"
   },
   {
    "duration": 0,
    "start_time": "2024-10-30T19:15:20.862Z"
   },
   {
    "duration": 0,
    "start_time": "2024-10-30T19:15:20.862Z"
   },
   {
    "duration": 0,
    "start_time": "2024-10-30T19:15:20.863Z"
   },
   {
    "duration": 14,
    "start_time": "2024-10-30T19:15:35.690Z"
   },
   {
    "duration": 12,
    "start_time": "2024-10-30T19:15:39.326Z"
   },
   {
    "duration": 19,
    "start_time": "2024-10-30T19:15:53.951Z"
   },
   {
    "duration": 14,
    "start_time": "2024-10-30T19:17:24.141Z"
   },
   {
    "duration": 1633,
    "start_time": "2024-10-30T19:17:29.431Z"
   },
   {
    "duration": 1517,
    "start_time": "2024-10-30T19:18:12.935Z"
   },
   {
    "duration": 16,
    "start_time": "2024-10-30T19:18:22.525Z"
   },
   {
    "duration": 19,
    "start_time": "2024-10-30T19:18:40.520Z"
   },
   {
    "duration": 19,
    "start_time": "2024-10-30T19:18:50.251Z"
   },
   {
    "duration": 1535,
    "start_time": "2024-10-30T19:18:56.246Z"
   },
   {
    "duration": 745,
    "start_time": "2024-10-30T19:19:12.609Z"
   },
   {
    "duration": 387,
    "start_time": "2024-10-30T19:20:56.056Z"
   },
   {
    "duration": 13,
    "start_time": "2024-10-30T19:20:59.808Z"
   },
   {
    "duration": 817,
    "start_time": "2024-10-30T19:21:02.226Z"
   },
   {
    "duration": 1877,
    "start_time": "2024-10-30T19:32:49.863Z"
   },
   {
    "duration": 4,
    "start_time": "2024-10-30T19:32:51.743Z"
   },
   {
    "duration": 25,
    "start_time": "2024-10-30T19:32:51.749Z"
   },
   {
    "duration": 12,
    "start_time": "2024-10-30T19:32:51.776Z"
   },
   {
    "duration": 73,
    "start_time": "2024-10-30T19:32:51.789Z"
   },
   {
    "duration": 28,
    "start_time": "2024-10-30T19:32:51.863Z"
   },
   {
    "duration": 6,
    "start_time": "2024-10-30T19:32:51.892Z"
   },
   {
    "duration": 85,
    "start_time": "2024-10-30T19:32:51.899Z"
   },
   {
    "duration": 14,
    "start_time": "2024-10-30T19:32:51.986Z"
   },
   {
    "duration": 22,
    "start_time": "2024-10-30T19:32:52.003Z"
   },
   {
    "duration": 19,
    "start_time": "2024-10-30T19:32:52.042Z"
   },
   {
    "duration": 9,
    "start_time": "2024-10-30T19:32:52.063Z"
   },
   {
    "duration": 76,
    "start_time": "2024-10-30T19:32:52.074Z"
   },
   {
    "duration": 52,
    "start_time": "2024-10-30T19:32:52.152Z"
   },
   {
    "duration": 5,
    "start_time": "2024-10-30T19:32:52.206Z"
   },
   {
    "duration": 21,
    "start_time": "2024-10-30T19:32:52.213Z"
   },
   {
    "duration": 48,
    "start_time": "2024-10-30T19:32:52.235Z"
   },
   {
    "duration": 41,
    "start_time": "2024-10-30T19:32:52.285Z"
   },
   {
    "duration": 18,
    "start_time": "2024-10-30T19:32:52.327Z"
   },
   {
    "duration": 8,
    "start_time": "2024-10-30T19:32:52.346Z"
   },
   {
    "duration": 24,
    "start_time": "2024-10-30T19:32:52.355Z"
   },
   {
    "duration": 14,
    "start_time": "2024-10-30T19:32:52.381Z"
   },
   {
    "duration": 15,
    "start_time": "2024-10-30T19:32:52.396Z"
   },
   {
    "duration": 16,
    "start_time": "2024-10-30T19:32:52.412Z"
   },
   {
    "duration": 119,
    "start_time": "2024-10-30T19:32:52.429Z"
   },
   {
    "duration": 6,
    "start_time": "2024-10-30T19:32:52.549Z"
   },
   {
    "duration": 1552,
    "start_time": "2024-10-30T19:32:52.556Z"
   },
   {
    "duration": 36,
    "start_time": "2024-10-30T19:32:54.112Z"
   },
   {
    "duration": 2948,
    "start_time": "2024-10-30T19:32:54.149Z"
   },
   {
    "duration": 23,
    "start_time": "2024-10-30T19:32:57.099Z"
   },
   {
    "duration": 25,
    "start_time": "2024-10-30T19:32:57.123Z"
   },
   {
    "duration": 183,
    "start_time": "2024-10-30T19:32:57.149Z"
   },
   {
    "duration": 208,
    "start_time": "2024-10-30T19:32:57.334Z"
   },
   {
    "duration": 4,
    "start_time": "2024-10-30T19:32:57.544Z"
   },
   {
    "duration": 6,
    "start_time": "2024-10-30T19:32:57.550Z"
   },
   {
    "duration": 12,
    "start_time": "2024-10-30T19:32:57.557Z"
   },
   {
    "duration": 366,
    "start_time": "2024-10-30T19:32:57.570Z"
   },
   {
    "duration": 16,
    "start_time": "2024-10-30T19:32:57.937Z"
   },
   {
    "duration": 11,
    "start_time": "2024-10-30T19:32:57.955Z"
   },
   {
    "duration": 944,
    "start_time": "2024-10-30T19:32:57.967Z"
   },
   {
    "duration": 14,
    "start_time": "2024-10-30T19:32:58.913Z"
   },
   {
    "duration": 798,
    "start_time": "2024-10-30T19:32:58.929Z"
   },
   {
    "duration": 25,
    "start_time": "2024-10-30T19:32:59.729Z"
   },
   {
    "duration": 921,
    "start_time": "2024-10-30T19:32:59.756Z"
   },
   {
    "duration": 11,
    "start_time": "2024-10-30T19:33:00.679Z"
   },
   {
    "duration": 205,
    "start_time": "2024-10-30T19:33:00.691Z"
   },
   {
    "duration": 18,
    "start_time": "2024-10-30T19:33:00.897Z"
   },
   {
    "duration": 5,
    "start_time": "2024-10-30T19:33:00.917Z"
   },
   {
    "duration": 58,
    "start_time": "2024-10-30T19:33:00.923Z"
   },
   {
    "duration": 11,
    "start_time": "2024-10-30T19:33:00.983Z"
   },
   {
    "duration": 37,
    "start_time": "2024-10-30T19:33:00.995Z"
   },
   {
    "duration": 21,
    "start_time": "2024-10-30T19:33:01.034Z"
   },
   {
    "duration": 482,
    "start_time": "2024-10-30T19:33:01.057Z"
   },
   {
    "duration": 9,
    "start_time": "2024-10-30T19:33:01.543Z"
   },
   {
    "duration": 435,
    "start_time": "2024-10-30T19:33:01.553Z"
   },
   {
    "duration": 175,
    "start_time": "2024-10-30T19:33:01.990Z"
   },
   {
    "duration": 6,
    "start_time": "2024-10-30T19:33:02.167Z"
   },
   {
    "duration": 52,
    "start_time": "2024-10-30T19:33:02.174Z"
   },
   {
    "duration": 280,
    "start_time": "2024-10-30T19:33:02.228Z"
   },
   {
    "duration": 10,
    "start_time": "2024-10-30T19:33:02.509Z"
   },
   {
    "duration": 34,
    "start_time": "2024-10-30T19:33:02.521Z"
   },
   {
    "duration": 32,
    "start_time": "2024-10-30T19:33:02.557Z"
   },
   {
    "duration": 35,
    "start_time": "2024-10-30T19:33:02.590Z"
   },
   {
    "duration": 191,
    "start_time": "2024-10-30T19:33:02.627Z"
   },
   {
    "duration": 11,
    "start_time": "2024-10-30T19:33:02.820Z"
   },
   {
    "duration": 40,
    "start_time": "2024-10-30T19:33:02.833Z"
   },
   {
    "duration": 59,
    "start_time": "2024-10-30T19:33:02.875Z"
   },
   {
    "duration": 8,
    "start_time": "2024-10-30T19:33:02.936Z"
   },
   {
    "duration": 21,
    "start_time": "2024-10-30T19:33:02.946Z"
   },
   {
    "duration": 70,
    "start_time": "2024-10-30T19:33:02.969Z"
   },
   {
    "duration": 84,
    "start_time": "2024-10-30T19:33:03.040Z"
   },
   {
    "duration": 21,
    "start_time": "2024-10-30T19:33:03.126Z"
   },
   {
    "duration": 317,
    "start_time": "2024-10-30T19:33:03.149Z"
   },
   {
    "duration": 17,
    "start_time": "2024-10-30T19:33:03.468Z"
   },
   {
    "duration": 568,
    "start_time": "2024-10-30T19:33:03.487Z"
   },
   {
    "duration": 25,
    "start_time": "2024-10-30T19:33:04.056Z"
   },
   {
    "duration": 30,
    "start_time": "2024-10-30T19:33:04.082Z"
   },
   {
    "duration": 110,
    "start_time": "2024-10-30T19:33:04.114Z"
   },
   {
    "duration": 93,
    "start_time": "2024-10-30T19:33:04.226Z"
   },
   {
    "duration": 466,
    "start_time": "2024-10-30T19:33:04.320Z"
   },
   {
    "duration": 506,
    "start_time": "2024-10-30T19:33:04.787Z"
   },
   {
    "duration": 10,
    "start_time": "2024-10-30T19:33:05.298Z"
   },
   {
    "duration": 332,
    "start_time": "2024-10-30T19:33:05.311Z"
   },
   {
    "duration": 14,
    "start_time": "2024-10-30T19:33:05.644Z"
   },
   {
    "duration": 338,
    "start_time": "2024-10-30T19:33:05.659Z"
   },
   {
    "duration": 6,
    "start_time": "2024-10-30T19:33:05.999Z"
   },
   {
    "duration": 48,
    "start_time": "2024-10-30T19:33:06.006Z"
   },
   {
    "duration": 13,
    "start_time": "2024-10-30T19:33:06.056Z"
   },
   {
    "duration": 24,
    "start_time": "2024-10-30T19:33:06.071Z"
   },
   {
    "duration": 207,
    "start_time": "2024-10-30T19:33:06.097Z"
   },
   {
    "duration": 366,
    "start_time": "2024-10-30T19:33:06.305Z"
   },
   {
    "duration": 11,
    "start_time": "2024-10-30T19:33:06.672Z"
   },
   {
    "duration": 141,
    "start_time": "2024-10-30T19:33:06.685Z"
   },
   {
    "duration": 355,
    "start_time": "2024-10-30T19:33:06.827Z"
   },
   {
    "duration": 12,
    "start_time": "2024-10-30T19:33:07.184Z"
   },
   {
    "duration": 84,
    "start_time": "2024-10-30T19:33:07.198Z"
   },
   {
    "duration": 336,
    "start_time": "2024-10-30T19:33:07.284Z"
   },
   {
    "duration": 23,
    "start_time": "2024-10-30T19:33:07.622Z"
   },
   {
    "duration": 60,
    "start_time": "2024-10-30T19:33:07.647Z"
   },
   {
    "duration": 369,
    "start_time": "2024-10-30T19:33:07.709Z"
   },
   {
    "duration": 3,
    "start_time": "2024-10-30T19:33:08.080Z"
   },
   {
    "duration": 42,
    "start_time": "2024-10-30T19:33:08.085Z"
   },
   {
    "duration": 95,
    "start_time": "2024-10-30T19:33:08.128Z"
   },
   {
    "duration": 34,
    "start_time": "2024-10-30T19:33:08.224Z"
   },
   {
    "duration": 93,
    "start_time": "2024-10-30T19:33:08.260Z"
   },
   {
    "duration": 21,
    "start_time": "2024-10-30T19:33:08.355Z"
   },
   {
    "duration": 50,
    "start_time": "2024-10-30T19:33:08.378Z"
   },
   {
    "duration": 8,
    "start_time": "2024-10-30T19:33:08.430Z"
   },
   {
    "duration": 13,
    "start_time": "2024-10-30T19:33:08.440Z"
   },
   {
    "duration": 18,
    "start_time": "2024-10-30T19:33:08.455Z"
   },
   {
    "duration": 141,
    "start_time": "2024-10-30T21:05:36.483Z"
   },
   {
    "duration": 3721,
    "start_time": "2024-10-31T05:32:57.515Z"
   },
   {
    "duration": 4,
    "start_time": "2024-10-31T05:33:01.240Z"
   },
   {
    "duration": 21,
    "start_time": "2024-10-31T05:33:01.245Z"
   },
   {
    "duration": 22,
    "start_time": "2024-10-31T05:33:01.268Z"
   },
   {
    "duration": 79,
    "start_time": "2024-10-31T05:33:01.292Z"
   },
   {
    "duration": 27,
    "start_time": "2024-10-31T05:33:01.373Z"
   },
   {
    "duration": 15,
    "start_time": "2024-10-31T05:33:01.402Z"
   },
   {
    "duration": 77,
    "start_time": "2024-10-31T05:33:01.419Z"
   },
   {
    "duration": 16,
    "start_time": "2024-10-31T05:33:01.498Z"
   },
   {
    "duration": 114,
    "start_time": "2024-10-31T05:33:01.516Z"
   },
   {
    "duration": 26,
    "start_time": "2024-10-31T05:33:01.632Z"
   },
   {
    "duration": 30,
    "start_time": "2024-10-31T05:33:01.660Z"
   },
   {
    "duration": 34,
    "start_time": "2024-10-31T05:33:01.692Z"
   },
   {
    "duration": 7,
    "start_time": "2024-10-31T05:33:01.727Z"
   },
   {
    "duration": 7,
    "start_time": "2024-10-31T05:33:01.735Z"
   },
   {
    "duration": 36,
    "start_time": "2024-10-31T05:33:01.743Z"
   },
   {
    "duration": 12,
    "start_time": "2024-10-31T05:33:01.781Z"
   },
   {
    "duration": 6,
    "start_time": "2024-10-31T05:33:01.794Z"
   },
   {
    "duration": 33,
    "start_time": "2024-10-31T05:33:01.802Z"
   },
   {
    "duration": 5,
    "start_time": "2024-10-31T05:33:01.837Z"
   },
   {
    "duration": 14,
    "start_time": "2024-10-31T05:33:01.843Z"
   },
   {
    "duration": 15,
    "start_time": "2024-10-31T05:33:01.859Z"
   },
   {
    "duration": 64,
    "start_time": "2024-10-31T05:33:01.876Z"
   },
   {
    "duration": 37,
    "start_time": "2024-10-31T05:33:01.941Z"
   },
   {
    "duration": 835,
    "start_time": "2024-10-31T05:33:01.980Z"
   },
   {
    "duration": 7,
    "start_time": "2024-10-31T05:33:02.817Z"
   },
   {
    "duration": 1612,
    "start_time": "2024-10-31T05:33:02.825Z"
   },
   {
    "duration": 35,
    "start_time": "2024-10-31T05:33:04.442Z"
   },
   {
    "duration": 3037,
    "start_time": "2024-10-31T05:33:04.478Z"
   },
   {
    "duration": 25,
    "start_time": "2024-10-31T05:33:07.516Z"
   },
   {
    "duration": 87,
    "start_time": "2024-10-31T05:33:07.542Z"
   },
   {
    "duration": 191,
    "start_time": "2024-10-31T05:33:07.631Z"
   },
   {
    "duration": 221,
    "start_time": "2024-10-31T05:33:07.824Z"
   },
   {
    "duration": 3,
    "start_time": "2024-10-31T05:33:08.047Z"
   },
   {
    "duration": 66,
    "start_time": "2024-10-31T05:33:08.052Z"
   },
   {
    "duration": 15,
    "start_time": "2024-10-31T05:33:08.119Z"
   },
   {
    "duration": 421,
    "start_time": "2024-10-31T05:33:08.136Z"
   },
   {
    "duration": 28,
    "start_time": "2024-10-31T05:33:08.559Z"
   },
   {
    "duration": 11,
    "start_time": "2024-10-31T05:33:08.589Z"
   },
   {
    "duration": 944,
    "start_time": "2024-10-31T05:33:08.602Z"
   },
   {
    "duration": 30,
    "start_time": "2024-10-31T05:33:09.547Z"
   },
   {
    "duration": 833,
    "start_time": "2024-10-31T05:33:09.579Z"
   },
   {
    "duration": 16,
    "start_time": "2024-10-31T05:33:10.414Z"
   },
   {
    "duration": 954,
    "start_time": "2024-10-31T05:33:10.431Z"
   },
   {
    "duration": 10,
    "start_time": "2024-10-31T05:33:11.386Z"
   },
   {
    "duration": 156,
    "start_time": "2024-10-31T05:33:11.398Z"
   },
   {
    "duration": 26,
    "start_time": "2024-10-31T05:33:11.556Z"
   },
   {
    "duration": 46,
    "start_time": "2024-10-31T05:33:11.584Z"
   },
   {
    "duration": 19,
    "start_time": "2024-10-31T05:33:11.632Z"
   },
   {
    "duration": 12,
    "start_time": "2024-10-31T05:33:11.653Z"
   },
   {
    "duration": 13,
    "start_time": "2024-10-31T05:33:11.666Z"
   },
   {
    "duration": 18,
    "start_time": "2024-10-31T05:33:11.680Z"
   },
   {
    "duration": 515,
    "start_time": "2024-10-31T05:33:11.700Z"
   },
   {
    "duration": 10,
    "start_time": "2024-10-31T05:33:12.216Z"
   },
   {
    "duration": 412,
    "start_time": "2024-10-31T05:33:12.227Z"
   },
   {
    "duration": 167,
    "start_time": "2024-10-31T05:33:12.641Z"
   },
   {
    "duration": 7,
    "start_time": "2024-10-31T05:33:12.809Z"
   },
   {
    "duration": 3,
    "start_time": "2024-10-31T05:33:12.817Z"
   },
   {
    "duration": 212,
    "start_time": "2024-10-31T05:33:12.822Z"
   },
   {
    "duration": 11,
    "start_time": "2024-10-31T05:33:13.036Z"
   },
   {
    "duration": 21,
    "start_time": "2024-10-31T05:33:13.048Z"
   },
   {
    "duration": 17,
    "start_time": "2024-10-31T05:33:13.071Z"
   },
   {
    "duration": 59,
    "start_time": "2024-10-31T05:33:13.089Z"
   },
   {
    "duration": 17,
    "start_time": "2024-10-31T05:33:13.150Z"
   },
   {
    "duration": 3,
    "start_time": "2024-10-31T05:33:13.169Z"
   },
   {
    "duration": 10,
    "start_time": "2024-10-31T05:33:13.174Z"
   },
   {
    "duration": 19,
    "start_time": "2024-10-31T05:33:13.185Z"
   },
   {
    "duration": 5,
    "start_time": "2024-10-31T05:33:13.205Z"
   },
   {
    "duration": 12,
    "start_time": "2024-10-31T05:33:13.212Z"
   },
   {
    "duration": 22,
    "start_time": "2024-10-31T05:33:13.226Z"
   },
   {
    "duration": 3,
    "start_time": "2024-10-31T05:33:13.250Z"
   },
   {
    "duration": 10,
    "start_time": "2024-10-31T05:33:13.276Z"
   },
   {
    "duration": 296,
    "start_time": "2024-10-31T05:33:13.288Z"
   },
   {
    "duration": 19,
    "start_time": "2024-10-31T05:33:13.586Z"
   },
   {
    "duration": 475,
    "start_time": "2024-10-31T05:33:13.606Z"
   },
   {
    "duration": 24,
    "start_time": "2024-10-31T05:33:14.082Z"
   },
   {
    "duration": 18,
    "start_time": "2024-10-31T05:33:14.107Z"
   },
   {
    "duration": 15,
    "start_time": "2024-10-31T05:33:14.127Z"
   },
   {
    "duration": 38,
    "start_time": "2024-10-31T05:33:14.144Z"
   },
   {
    "duration": 523,
    "start_time": "2024-10-31T05:33:14.184Z"
   },
   {
    "duration": 513,
    "start_time": "2024-10-31T05:33:14.709Z"
   },
   {
    "duration": 10,
    "start_time": "2024-10-31T05:33:15.228Z"
   },
   {
    "duration": 318,
    "start_time": "2024-10-31T05:33:15.239Z"
   },
   {
    "duration": 22,
    "start_time": "2024-10-31T05:33:15.559Z"
   },
   {
    "duration": 364,
    "start_time": "2024-10-31T05:33:15.583Z"
   },
   {
    "duration": 6,
    "start_time": "2024-10-31T05:33:15.949Z"
   },
   {
    "duration": 19,
    "start_time": "2024-10-31T05:33:15.957Z"
   },
   {
    "duration": 15,
    "start_time": "2024-10-31T05:33:15.978Z"
   },
   {
    "duration": 12,
    "start_time": "2024-10-31T05:33:15.994Z"
   },
   {
    "duration": 190,
    "start_time": "2024-10-31T05:33:16.007Z"
   },
   {
    "duration": 367,
    "start_time": "2024-10-31T05:33:16.199Z"
   },
   {
    "duration": 15,
    "start_time": "2024-10-31T05:33:16.568Z"
   },
   {
    "duration": 59,
    "start_time": "2024-10-31T05:33:16.584Z"
   },
   {
    "duration": 377,
    "start_time": "2024-10-31T05:33:16.645Z"
   },
   {
    "duration": 11,
    "start_time": "2024-10-31T05:33:17.023Z"
   },
   {
    "duration": 75,
    "start_time": "2024-10-31T05:33:17.035Z"
   },
   {
    "duration": 364,
    "start_time": "2024-10-31T05:33:17.112Z"
   },
   {
    "duration": 12,
    "start_time": "2024-10-31T05:33:17.477Z"
   },
   {
    "duration": 65,
    "start_time": "2024-10-31T05:33:17.491Z"
   },
   {
    "duration": 383,
    "start_time": "2024-10-31T05:33:17.558Z"
   },
   {
    "duration": 2,
    "start_time": "2024-10-31T05:33:17.943Z"
   },
   {
    "duration": 32,
    "start_time": "2024-10-31T05:33:17.947Z"
   },
   {
    "duration": 8,
    "start_time": "2024-10-31T05:33:17.981Z"
   },
   {
    "duration": 16,
    "start_time": "2024-10-31T05:33:17.990Z"
   },
   {
    "duration": 17,
    "start_time": "2024-10-31T05:33:18.007Z"
   },
   {
    "duration": 13,
    "start_time": "2024-10-31T05:33:18.026Z"
   },
   {
    "duration": 95,
    "start_time": "2024-10-31T05:33:18.040Z"
   },
   {
    "duration": 8,
    "start_time": "2024-10-31T05:33:18.136Z"
   },
   {
    "duration": 74,
    "start_time": "2024-10-31T05:33:18.145Z"
   },
   {
    "duration": 24,
    "start_time": "2024-10-31T05:33:18.221Z"
   },
   {
    "duration": 2219,
    "start_time": "2024-10-31T09:02:31.113Z"
   },
   {
    "duration": 5,
    "start_time": "2024-10-31T09:02:33.334Z"
   },
   {
    "duration": 14,
    "start_time": "2024-10-31T09:02:33.341Z"
   },
   {
    "duration": 13,
    "start_time": "2024-10-31T09:02:33.357Z"
   },
   {
    "duration": 175,
    "start_time": "2024-10-31T09:02:33.372Z"
   },
   {
    "duration": 37,
    "start_time": "2024-10-31T09:02:33.549Z"
   },
   {
    "duration": 8,
    "start_time": "2024-10-31T09:02:33.588Z"
   },
   {
    "duration": 88,
    "start_time": "2024-10-31T09:02:33.598Z"
   },
   {
    "duration": 44,
    "start_time": "2024-10-31T09:02:33.688Z"
   },
   {
    "duration": 30,
    "start_time": "2024-10-31T09:02:33.735Z"
   },
   {
    "duration": 21,
    "start_time": "2024-10-31T09:02:33.766Z"
   },
   {
    "duration": 12,
    "start_time": "2024-10-31T09:02:33.789Z"
   },
   {
    "duration": 31,
    "start_time": "2024-10-31T09:02:33.803Z"
   },
   {
    "duration": 7,
    "start_time": "2024-10-31T09:02:33.835Z"
   },
   {
    "duration": 12,
    "start_time": "2024-10-31T09:02:33.843Z"
   },
   {
    "duration": 22,
    "start_time": "2024-10-31T09:02:33.857Z"
   },
   {
    "duration": 139,
    "start_time": "2024-10-31T09:02:33.881Z"
   },
   {
    "duration": 0,
    "start_time": "2024-10-31T09:02:34.025Z"
   },
   {
    "duration": 0,
    "start_time": "2024-10-31T09:02:34.026Z"
   },
   {
    "duration": 0,
    "start_time": "2024-10-31T09:02:34.027Z"
   },
   {
    "duration": 0,
    "start_time": "2024-10-31T09:02:34.028Z"
   },
   {
    "duration": 0,
    "start_time": "2024-10-31T09:02:34.029Z"
   },
   {
    "duration": 0,
    "start_time": "2024-10-31T09:02:34.031Z"
   },
   {
    "duration": 0,
    "start_time": "2024-10-31T09:02:34.032Z"
   },
   {
    "duration": 0,
    "start_time": "2024-10-31T09:02:34.033Z"
   },
   {
    "duration": 0,
    "start_time": "2024-10-31T09:02:34.034Z"
   },
   {
    "duration": 0,
    "start_time": "2024-10-31T09:02:34.035Z"
   },
   {
    "duration": 0,
    "start_time": "2024-10-31T09:02:34.036Z"
   },
   {
    "duration": 0,
    "start_time": "2024-10-31T09:02:34.038Z"
   },
   {
    "duration": 0,
    "start_time": "2024-10-31T09:02:34.039Z"
   },
   {
    "duration": 0,
    "start_time": "2024-10-31T09:02:34.040Z"
   },
   {
    "duration": 0,
    "start_time": "2024-10-31T09:02:34.041Z"
   },
   {
    "duration": 0,
    "start_time": "2024-10-31T09:02:34.042Z"
   },
   {
    "duration": 0,
    "start_time": "2024-10-31T09:02:34.043Z"
   },
   {
    "duration": 0,
    "start_time": "2024-10-31T09:02:34.044Z"
   },
   {
    "duration": 0,
    "start_time": "2024-10-31T09:02:34.045Z"
   },
   {
    "duration": 0,
    "start_time": "2024-10-31T09:02:34.047Z"
   },
   {
    "duration": 0,
    "start_time": "2024-10-31T09:02:34.047Z"
   },
   {
    "duration": 0,
    "start_time": "2024-10-31T09:02:34.048Z"
   },
   {
    "duration": 0,
    "start_time": "2024-10-31T09:02:34.050Z"
   },
   {
    "duration": 0,
    "start_time": "2024-10-31T09:02:34.051Z"
   },
   {
    "duration": 0,
    "start_time": "2024-10-31T09:02:34.052Z"
   },
   {
    "duration": 0,
    "start_time": "2024-10-31T09:02:34.053Z"
   },
   {
    "duration": 0,
    "start_time": "2024-10-31T09:02:34.054Z"
   },
   {
    "duration": 1,
    "start_time": "2024-10-31T09:02:34.055Z"
   },
   {
    "duration": 0,
    "start_time": "2024-10-31T09:02:34.056Z"
   },
   {
    "duration": 0,
    "start_time": "2024-10-31T09:02:34.057Z"
   },
   {
    "duration": 0,
    "start_time": "2024-10-31T09:02:34.058Z"
   },
   {
    "duration": 0,
    "start_time": "2024-10-31T09:02:34.118Z"
   },
   {
    "duration": 0,
    "start_time": "2024-10-31T09:02:34.119Z"
   },
   {
    "duration": 0,
    "start_time": "2024-10-31T09:02:34.120Z"
   },
   {
    "duration": 0,
    "start_time": "2024-10-31T09:02:34.121Z"
   },
   {
    "duration": 0,
    "start_time": "2024-10-31T09:02:34.122Z"
   },
   {
    "duration": 0,
    "start_time": "2024-10-31T09:02:34.123Z"
   },
   {
    "duration": 0,
    "start_time": "2024-10-31T09:02:34.124Z"
   },
   {
    "duration": 0,
    "start_time": "2024-10-31T09:02:34.125Z"
   },
   {
    "duration": 0,
    "start_time": "2024-10-31T09:02:34.126Z"
   },
   {
    "duration": 0,
    "start_time": "2024-10-31T09:02:34.127Z"
   },
   {
    "duration": 0,
    "start_time": "2024-10-31T09:02:34.128Z"
   },
   {
    "duration": 0,
    "start_time": "2024-10-31T09:02:34.129Z"
   },
   {
    "duration": 0,
    "start_time": "2024-10-31T09:02:34.130Z"
   },
   {
    "duration": 0,
    "start_time": "2024-10-31T09:02:34.131Z"
   },
   {
    "duration": 0,
    "start_time": "2024-10-31T09:02:34.132Z"
   },
   {
    "duration": 0,
    "start_time": "2024-10-31T09:02:34.133Z"
   },
   {
    "duration": 0,
    "start_time": "2024-10-31T09:02:34.134Z"
   },
   {
    "duration": 0,
    "start_time": "2024-10-31T09:02:34.135Z"
   },
   {
    "duration": 0,
    "start_time": "2024-10-31T09:02:34.136Z"
   },
   {
    "duration": 0,
    "start_time": "2024-10-31T09:02:34.136Z"
   },
   {
    "duration": 0,
    "start_time": "2024-10-31T09:02:34.138Z"
   },
   {
    "duration": 0,
    "start_time": "2024-10-31T09:02:34.138Z"
   },
   {
    "duration": 0,
    "start_time": "2024-10-31T09:02:34.140Z"
   },
   {
    "duration": 0,
    "start_time": "2024-10-31T09:02:34.140Z"
   },
   {
    "duration": 0,
    "start_time": "2024-10-31T09:02:34.142Z"
   },
   {
    "duration": 0,
    "start_time": "2024-10-31T09:02:34.143Z"
   },
   {
    "duration": 0,
    "start_time": "2024-10-31T09:02:34.143Z"
   },
   {
    "duration": 0,
    "start_time": "2024-10-31T09:02:34.144Z"
   },
   {
    "duration": 0,
    "start_time": "2024-10-31T09:02:34.145Z"
   },
   {
    "duration": 0,
    "start_time": "2024-10-31T09:02:34.146Z"
   },
   {
    "duration": 0,
    "start_time": "2024-10-31T09:02:34.147Z"
   },
   {
    "duration": 0,
    "start_time": "2024-10-31T09:02:34.148Z"
   },
   {
    "duration": 0,
    "start_time": "2024-10-31T09:02:34.150Z"
   },
   {
    "duration": 0,
    "start_time": "2024-10-31T09:02:34.151Z"
   },
   {
    "duration": 0,
    "start_time": "2024-10-31T09:02:34.151Z"
   },
   {
    "duration": 0,
    "start_time": "2024-10-31T09:02:34.152Z"
   },
   {
    "duration": 0,
    "start_time": "2024-10-31T09:02:34.153Z"
   },
   {
    "duration": 0,
    "start_time": "2024-10-31T09:02:34.154Z"
   },
   {
    "duration": 0,
    "start_time": "2024-10-31T09:02:34.218Z"
   },
   {
    "duration": 0,
    "start_time": "2024-10-31T09:02:34.219Z"
   },
   {
    "duration": 0,
    "start_time": "2024-10-31T09:02:34.220Z"
   },
   {
    "duration": 1,
    "start_time": "2024-10-31T09:02:34.221Z"
   },
   {
    "duration": 0,
    "start_time": "2024-10-31T09:02:34.223Z"
   },
   {
    "duration": 0,
    "start_time": "2024-10-31T09:02:34.224Z"
   },
   {
    "duration": 0,
    "start_time": "2024-10-31T09:02:34.225Z"
   },
   {
    "duration": 0,
    "start_time": "2024-10-31T09:02:34.226Z"
   },
   {
    "duration": 0,
    "start_time": "2024-10-31T09:02:34.227Z"
   },
   {
    "duration": 0,
    "start_time": "2024-10-31T09:02:34.228Z"
   },
   {
    "duration": 0,
    "start_time": "2024-10-31T09:02:34.229Z"
   },
   {
    "duration": 0,
    "start_time": "2024-10-31T09:02:34.230Z"
   },
   {
    "duration": 0,
    "start_time": "2024-10-31T09:02:34.231Z"
   },
   {
    "duration": 0,
    "start_time": "2024-10-31T09:02:34.232Z"
   },
   {
    "duration": 0,
    "start_time": "2024-10-31T09:02:34.233Z"
   },
   {
    "duration": 0,
    "start_time": "2024-10-31T09:02:34.235Z"
   },
   {
    "duration": 0,
    "start_time": "2024-10-31T09:02:34.235Z"
   },
   {
    "duration": 0,
    "start_time": "2024-10-31T09:02:34.236Z"
   },
   {
    "duration": 0,
    "start_time": "2024-10-31T09:02:34.237Z"
   },
   {
    "duration": 0,
    "start_time": "2024-10-31T09:02:34.239Z"
   },
   {
    "duration": 0,
    "start_time": "2024-10-31T09:02:34.239Z"
   },
   {
    "duration": 0,
    "start_time": "2024-10-31T09:02:34.240Z"
   },
   {
    "duration": 0,
    "start_time": "2024-10-31T09:02:34.241Z"
   },
   {
    "duration": 0,
    "start_time": "2024-10-31T09:02:34.242Z"
   },
   {
    "duration": 0,
    "start_time": "2024-10-31T09:02:34.244Z"
   },
   {
    "duration": 20,
    "start_time": "2024-10-31T09:04:53.017Z"
   },
   {
    "duration": 13,
    "start_time": "2024-10-31T09:05:02.021Z"
   },
   {
    "duration": 6,
    "start_time": "2024-10-31T09:05:35.039Z"
   },
   {
    "duration": 2,
    "start_time": "2024-10-31T09:05:39.205Z"
   },
   {
    "duration": 12,
    "start_time": "2024-10-31T09:05:42.311Z"
   },
   {
    "duration": 11,
    "start_time": "2024-10-31T09:07:47.118Z"
   },
   {
    "duration": 11,
    "start_time": "2024-10-31T09:08:46.733Z"
   },
   {
    "duration": 9,
    "start_time": "2024-10-31T09:09:00.979Z"
   },
   {
    "duration": 10,
    "start_time": "2024-10-31T09:09:17.722Z"
   },
   {
    "duration": 12,
    "start_time": "2024-10-31T09:12:20.179Z"
   },
   {
    "duration": 13,
    "start_time": "2024-10-31T09:12:51.473Z"
   },
   {
    "duration": 12,
    "start_time": "2024-10-31T09:13:00.009Z"
   },
   {
    "duration": 6,
    "start_time": "2024-10-31T09:13:01.929Z"
   },
   {
    "duration": 3,
    "start_time": "2024-10-31T09:13:04.442Z"
   },
   {
    "duration": 10,
    "start_time": "2024-10-31T09:13:06.242Z"
   },
   {
    "duration": 9,
    "start_time": "2024-10-31T09:13:09.251Z"
   },
   {
    "duration": 16,
    "start_time": "2024-10-31T09:13:17.468Z"
   },
   {
    "duration": 17,
    "start_time": "2024-10-31T09:13:41.667Z"
   },
   {
    "duration": 10,
    "start_time": "2024-10-31T09:14:18.456Z"
   },
   {
    "duration": 11,
    "start_time": "2024-10-31T09:14:59.762Z"
   },
   {
    "duration": 8,
    "start_time": "2024-10-31T09:15:18.564Z"
   },
   {
    "duration": 12,
    "start_time": "2024-10-31T09:16:59.066Z"
   },
   {
    "duration": 11,
    "start_time": "2024-10-31T09:17:03.915Z"
   },
   {
    "duration": 11,
    "start_time": "2024-10-31T09:17:23.908Z"
   },
   {
    "duration": 11,
    "start_time": "2024-10-31T09:17:31.638Z"
   },
   {
    "duration": 12,
    "start_time": "2024-10-31T09:17:41.270Z"
   },
   {
    "duration": 13,
    "start_time": "2024-10-31T09:17:44.867Z"
   },
   {
    "duration": 14,
    "start_time": "2024-10-31T09:18:45.566Z"
   },
   {
    "duration": 571,
    "start_time": "2024-10-31T09:18:57.212Z"
   },
   {
    "duration": 13,
    "start_time": "2024-10-31T09:19:22.049Z"
   },
   {
    "duration": 10,
    "start_time": "2024-10-31T09:19:34.527Z"
   },
   {
    "duration": 15,
    "start_time": "2024-10-31T09:19:46.201Z"
   },
   {
    "duration": 12,
    "start_time": "2024-10-31T09:20:08.431Z"
   },
   {
    "duration": 13,
    "start_time": "2024-10-31T09:21:01.361Z"
   },
   {
    "duration": 2057,
    "start_time": "2024-10-31T09:24:17.634Z"
   },
   {
    "duration": 5,
    "start_time": "2024-10-31T09:24:19.693Z"
   },
   {
    "duration": 14,
    "start_time": "2024-10-31T09:24:19.700Z"
   },
   {
    "duration": 23,
    "start_time": "2024-10-31T09:24:19.717Z"
   },
   {
    "duration": 76,
    "start_time": "2024-10-31T09:24:19.741Z"
   },
   {
    "duration": 29,
    "start_time": "2024-10-31T09:24:19.819Z"
   },
   {
    "duration": 5,
    "start_time": "2024-10-31T09:24:19.850Z"
   },
   {
    "duration": 91,
    "start_time": "2024-10-31T09:24:19.857Z"
   },
   {
    "duration": 14,
    "start_time": "2024-10-31T09:24:19.950Z"
   },
   {
    "duration": 39,
    "start_time": "2024-10-31T09:24:19.966Z"
   },
   {
    "duration": 37,
    "start_time": "2024-10-31T09:24:20.007Z"
   },
   {
    "duration": 52,
    "start_time": "2024-10-31T09:24:20.045Z"
   },
   {
    "duration": 79,
    "start_time": "2024-10-31T09:24:20.098Z"
   },
   {
    "duration": 38,
    "start_time": "2024-10-31T09:24:20.179Z"
   },
   {
    "duration": 33,
    "start_time": "2024-10-31T09:24:20.218Z"
   },
   {
    "duration": 70,
    "start_time": "2024-10-31T09:24:20.252Z"
   },
   {
    "duration": 23,
    "start_time": "2024-10-31T09:24:20.323Z"
   },
   {
    "duration": 149,
    "start_time": "2024-10-31T09:24:20.347Z"
   },
   {
    "duration": 0,
    "start_time": "2024-10-31T09:24:20.502Z"
   },
   {
    "duration": 0,
    "start_time": "2024-10-31T09:24:20.503Z"
   },
   {
    "duration": 0,
    "start_time": "2024-10-31T09:24:20.504Z"
   },
   {
    "duration": 0,
    "start_time": "2024-10-31T09:24:20.504Z"
   },
   {
    "duration": 0,
    "start_time": "2024-10-31T09:24:20.505Z"
   },
   {
    "duration": 0,
    "start_time": "2024-10-31T09:24:20.518Z"
   },
   {
    "duration": 0,
    "start_time": "2024-10-31T09:24:20.519Z"
   },
   {
    "duration": 0,
    "start_time": "2024-10-31T09:24:20.520Z"
   },
   {
    "duration": 0,
    "start_time": "2024-10-31T09:24:20.521Z"
   },
   {
    "duration": 0,
    "start_time": "2024-10-31T09:24:20.523Z"
   },
   {
    "duration": 0,
    "start_time": "2024-10-31T09:24:20.524Z"
   },
   {
    "duration": 0,
    "start_time": "2024-10-31T09:24:20.526Z"
   },
   {
    "duration": 0,
    "start_time": "2024-10-31T09:24:20.527Z"
   },
   {
    "duration": 0,
    "start_time": "2024-10-31T09:24:20.528Z"
   },
   {
    "duration": 0,
    "start_time": "2024-10-31T09:24:20.530Z"
   },
   {
    "duration": 0,
    "start_time": "2024-10-31T09:24:20.530Z"
   },
   {
    "duration": 0,
    "start_time": "2024-10-31T09:24:20.532Z"
   },
   {
    "duration": 0,
    "start_time": "2024-10-31T09:24:20.533Z"
   },
   {
    "duration": 0,
    "start_time": "2024-10-31T09:24:20.534Z"
   },
   {
    "duration": 1,
    "start_time": "2024-10-31T09:24:20.534Z"
   },
   {
    "duration": 0,
    "start_time": "2024-10-31T09:24:20.536Z"
   },
   {
    "duration": 0,
    "start_time": "2024-10-31T09:24:20.537Z"
   },
   {
    "duration": 0,
    "start_time": "2024-10-31T09:24:20.538Z"
   },
   {
    "duration": 0,
    "start_time": "2024-10-31T09:24:20.539Z"
   },
   {
    "duration": 0,
    "start_time": "2024-10-31T09:24:20.540Z"
   },
   {
    "duration": 0,
    "start_time": "2024-10-31T09:24:20.541Z"
   },
   {
    "duration": 0,
    "start_time": "2024-10-31T09:24:20.542Z"
   },
   {
    "duration": 0,
    "start_time": "2024-10-31T09:24:20.543Z"
   },
   {
    "duration": 0,
    "start_time": "2024-10-31T09:24:20.544Z"
   },
   {
    "duration": 0,
    "start_time": "2024-10-31T09:24:20.544Z"
   },
   {
    "duration": 0,
    "start_time": "2024-10-31T09:24:20.545Z"
   },
   {
    "duration": 0,
    "start_time": "2024-10-31T09:24:20.546Z"
   },
   {
    "duration": 0,
    "start_time": "2024-10-31T09:24:20.547Z"
   },
   {
    "duration": 0,
    "start_time": "2024-10-31T09:24:20.548Z"
   },
   {
    "duration": 0,
    "start_time": "2024-10-31T09:24:20.549Z"
   },
   {
    "duration": 0,
    "start_time": "2024-10-31T09:24:20.550Z"
   },
   {
    "duration": 0,
    "start_time": "2024-10-31T09:24:20.551Z"
   },
   {
    "duration": 0,
    "start_time": "2024-10-31T09:24:20.552Z"
   },
   {
    "duration": 0,
    "start_time": "2024-10-31T09:24:20.553Z"
   },
   {
    "duration": 0,
    "start_time": "2024-10-31T09:24:20.554Z"
   },
   {
    "duration": 0,
    "start_time": "2024-10-31T09:24:20.556Z"
   },
   {
    "duration": 0,
    "start_time": "2024-10-31T09:24:20.556Z"
   },
   {
    "duration": 0,
    "start_time": "2024-10-31T09:24:20.618Z"
   },
   {
    "duration": 0,
    "start_time": "2024-10-31T09:24:20.619Z"
   },
   {
    "duration": 0,
    "start_time": "2024-10-31T09:24:20.620Z"
   },
   {
    "duration": 0,
    "start_time": "2024-10-31T09:24:20.621Z"
   },
   {
    "duration": 0,
    "start_time": "2024-10-31T09:24:20.622Z"
   },
   {
    "duration": 0,
    "start_time": "2024-10-31T09:24:20.623Z"
   },
   {
    "duration": 0,
    "start_time": "2024-10-31T09:24:20.625Z"
   },
   {
    "duration": 0,
    "start_time": "2024-10-31T09:24:20.625Z"
   },
   {
    "duration": 0,
    "start_time": "2024-10-31T09:24:20.627Z"
   },
   {
    "duration": 0,
    "start_time": "2024-10-31T09:24:20.627Z"
   },
   {
    "duration": 0,
    "start_time": "2024-10-31T09:24:20.629Z"
   },
   {
    "duration": 0,
    "start_time": "2024-10-31T09:24:20.630Z"
   },
   {
    "duration": 0,
    "start_time": "2024-10-31T09:24:20.631Z"
   },
   {
    "duration": 0,
    "start_time": "2024-10-31T09:24:20.632Z"
   },
   {
    "duration": 0,
    "start_time": "2024-10-31T09:24:20.633Z"
   },
   {
    "duration": 0,
    "start_time": "2024-10-31T09:24:20.634Z"
   },
   {
    "duration": 0,
    "start_time": "2024-10-31T09:24:20.635Z"
   },
   {
    "duration": 0,
    "start_time": "2024-10-31T09:24:20.636Z"
   },
   {
    "duration": 0,
    "start_time": "2024-10-31T09:24:20.637Z"
   },
   {
    "duration": 0,
    "start_time": "2024-10-31T09:24:20.639Z"
   },
   {
    "duration": 0,
    "start_time": "2024-10-31T09:24:20.640Z"
   },
   {
    "duration": 0,
    "start_time": "2024-10-31T09:24:20.641Z"
   },
   {
    "duration": 0,
    "start_time": "2024-10-31T09:24:20.642Z"
   },
   {
    "duration": 0,
    "start_time": "2024-10-31T09:24:20.643Z"
   },
   {
    "duration": 0,
    "start_time": "2024-10-31T09:24:20.644Z"
   },
   {
    "duration": 0,
    "start_time": "2024-10-31T09:24:20.645Z"
   },
   {
    "duration": 0,
    "start_time": "2024-10-31T09:24:20.647Z"
   },
   {
    "duration": 0,
    "start_time": "2024-10-31T09:24:20.648Z"
   },
   {
    "duration": 0,
    "start_time": "2024-10-31T09:24:20.649Z"
   },
   {
    "duration": 0,
    "start_time": "2024-10-31T09:24:20.650Z"
   },
   {
    "duration": 0,
    "start_time": "2024-10-31T09:24:20.651Z"
   },
   {
    "duration": 0,
    "start_time": "2024-10-31T09:24:20.652Z"
   },
   {
    "duration": 0,
    "start_time": "2024-10-31T09:24:20.653Z"
   },
   {
    "duration": 0,
    "start_time": "2024-10-31T09:24:20.718Z"
   },
   {
    "duration": 0,
    "start_time": "2024-10-31T09:24:20.720Z"
   },
   {
    "duration": 0,
    "start_time": "2024-10-31T09:24:20.721Z"
   },
   {
    "duration": 0,
    "start_time": "2024-10-31T09:24:20.722Z"
   },
   {
    "duration": 0,
    "start_time": "2024-10-31T09:24:20.723Z"
   },
   {
    "duration": 0,
    "start_time": "2024-10-31T09:24:20.724Z"
   },
   {
    "duration": 0,
    "start_time": "2024-10-31T09:24:20.725Z"
   },
   {
    "duration": 0,
    "start_time": "2024-10-31T09:24:20.727Z"
   },
   {
    "duration": 0,
    "start_time": "2024-10-31T09:24:20.728Z"
   },
   {
    "duration": 0,
    "start_time": "2024-10-31T09:24:20.729Z"
   },
   {
    "duration": 0,
    "start_time": "2024-10-31T09:24:20.730Z"
   },
   {
    "duration": 0,
    "start_time": "2024-10-31T09:24:20.731Z"
   },
   {
    "duration": 0,
    "start_time": "2024-10-31T09:24:20.732Z"
   },
   {
    "duration": 0,
    "start_time": "2024-10-31T09:24:20.733Z"
   },
   {
    "duration": 1,
    "start_time": "2024-10-31T09:24:20.734Z"
   },
   {
    "duration": 0,
    "start_time": "2024-10-31T09:24:20.736Z"
   },
   {
    "duration": 0,
    "start_time": "2024-10-31T09:24:20.737Z"
   },
   {
    "duration": 0,
    "start_time": "2024-10-31T09:24:20.738Z"
   },
   {
    "duration": 0,
    "start_time": "2024-10-31T09:24:20.739Z"
   },
   {
    "duration": 0,
    "start_time": "2024-10-31T09:24:20.740Z"
   },
   {
    "duration": 1966,
    "start_time": "2024-10-31T09:24:46.298Z"
   },
   {
    "duration": 4,
    "start_time": "2024-10-31T09:24:48.266Z"
   },
   {
    "duration": 12,
    "start_time": "2024-10-31T09:24:48.272Z"
   },
   {
    "duration": 10,
    "start_time": "2024-10-31T09:24:48.286Z"
   },
   {
    "duration": 52,
    "start_time": "2024-10-31T09:24:48.298Z"
   },
   {
    "duration": 28,
    "start_time": "2024-10-31T09:24:48.352Z"
   },
   {
    "duration": 5,
    "start_time": "2024-10-31T09:24:48.382Z"
   },
   {
    "duration": 79,
    "start_time": "2024-10-31T09:24:48.389Z"
   },
   {
    "duration": 15,
    "start_time": "2024-10-31T09:24:48.469Z"
   },
   {
    "duration": 41,
    "start_time": "2024-10-31T09:24:48.486Z"
   },
   {
    "duration": 16,
    "start_time": "2024-10-31T09:24:48.528Z"
   },
   {
    "duration": 26,
    "start_time": "2024-10-31T09:24:48.545Z"
   },
   {
    "duration": 42,
    "start_time": "2024-10-31T09:24:48.572Z"
   },
   {
    "duration": 7,
    "start_time": "2024-10-31T09:24:48.616Z"
   },
   {
    "duration": 5,
    "start_time": "2024-10-31T09:24:48.624Z"
   },
   {
    "duration": 19,
    "start_time": "2024-10-31T09:24:48.630Z"
   },
   {
    "duration": 11,
    "start_time": "2024-10-31T09:24:48.651Z"
   },
   {
    "duration": 6,
    "start_time": "2024-10-31T09:24:48.663Z"
   },
   {
    "duration": 7,
    "start_time": "2024-10-31T09:24:48.670Z"
   },
   {
    "duration": 46,
    "start_time": "2024-10-31T09:24:48.678Z"
   },
   {
    "duration": 10,
    "start_time": "2024-10-31T09:24:48.726Z"
   },
   {
    "duration": 31,
    "start_time": "2024-10-31T09:24:48.738Z"
   },
   {
    "duration": 15,
    "start_time": "2024-10-31T09:24:48.771Z"
   },
   {
    "duration": 10,
    "start_time": "2024-10-31T09:24:48.787Z"
   },
   {
    "duration": 8,
    "start_time": "2024-10-31T09:24:48.799Z"
   },
   {
    "duration": 12,
    "start_time": "2024-10-31T09:24:48.808Z"
   },
   {
    "duration": 9,
    "start_time": "2024-10-31T09:24:48.822Z"
   },
   {
    "duration": 172,
    "start_time": "2024-10-31T09:24:48.835Z"
   },
   {
    "duration": 12,
    "start_time": "2024-10-31T09:24:49.009Z"
   },
   {
    "duration": 1763,
    "start_time": "2024-10-31T09:24:49.023Z"
   },
   {
    "duration": 35,
    "start_time": "2024-10-31T09:24:50.788Z"
   },
   {
    "duration": 3368,
    "start_time": "2024-10-31T09:24:50.824Z"
   },
   {
    "duration": 25,
    "start_time": "2024-10-31T09:24:54.194Z"
   },
   {
    "duration": 89,
    "start_time": "2024-10-31T09:24:54.220Z"
   },
   {
    "duration": 184,
    "start_time": "2024-10-31T09:24:54.310Z"
   },
   {
    "duration": 216,
    "start_time": "2024-10-31T09:24:54.496Z"
   },
   {
    "duration": 4,
    "start_time": "2024-10-31T09:24:54.717Z"
   },
   {
    "duration": 4,
    "start_time": "2024-10-31T09:24:54.722Z"
   },
   {
    "duration": 11,
    "start_time": "2024-10-31T09:24:54.727Z"
   },
   {
    "duration": 352,
    "start_time": "2024-10-31T09:24:54.739Z"
   },
   {
    "duration": 26,
    "start_time": "2024-10-31T09:24:55.092Z"
   },
   {
    "duration": 13,
    "start_time": "2024-10-31T09:24:55.119Z"
   },
   {
    "duration": 1018,
    "start_time": "2024-10-31T09:24:55.133Z"
   },
   {
    "duration": 13,
    "start_time": "2024-10-31T09:24:56.152Z"
   },
   {
    "duration": 885,
    "start_time": "2024-10-31T09:24:56.167Z"
   },
   {
    "duration": 16,
    "start_time": "2024-10-31T09:24:57.054Z"
   },
   {
    "duration": 862,
    "start_time": "2024-10-31T09:24:57.072Z"
   },
   {
    "duration": 10,
    "start_time": "2024-10-31T09:24:57.935Z"
   },
   {
    "duration": 155,
    "start_time": "2024-10-31T09:24:57.947Z"
   },
   {
    "duration": 28,
    "start_time": "2024-10-31T09:24:58.104Z"
   },
   {
    "duration": 6,
    "start_time": "2024-10-31T09:24:58.134Z"
   },
   {
    "duration": 21,
    "start_time": "2024-10-31T09:24:58.142Z"
   },
   {
    "duration": 24,
    "start_time": "2024-10-31T09:24:58.164Z"
   },
   {
    "duration": 11,
    "start_time": "2024-10-31T09:24:58.190Z"
   },
   {
    "duration": 17,
    "start_time": "2024-10-31T09:24:58.218Z"
   },
   {
    "duration": 485,
    "start_time": "2024-10-31T09:24:58.237Z"
   },
   {
    "duration": 14,
    "start_time": "2024-10-31T09:24:58.729Z"
   },
   {
    "duration": 429,
    "start_time": "2024-10-31T09:24:58.746Z"
   },
   {
    "duration": 163,
    "start_time": "2024-10-31T09:24:59.177Z"
   },
   {
    "duration": 7,
    "start_time": "2024-10-31T09:24:59.342Z"
   },
   {
    "duration": 12,
    "start_time": "2024-10-31T09:24:59.351Z"
   },
   {
    "duration": 199,
    "start_time": "2024-10-31T09:24:59.364Z"
   },
   {
    "duration": 11,
    "start_time": "2024-10-31T09:24:59.564Z"
   },
   {
    "duration": 19,
    "start_time": "2024-10-31T09:24:59.577Z"
   },
   {
    "duration": 20,
    "start_time": "2024-10-31T09:24:59.598Z"
   },
   {
    "duration": 14,
    "start_time": "2024-10-31T09:24:59.619Z"
   },
   {
    "duration": 17,
    "start_time": "2024-10-31T09:24:59.635Z"
   },
   {
    "duration": 4,
    "start_time": "2024-10-31T09:24:59.654Z"
   },
   {
    "duration": 25,
    "start_time": "2024-10-31T09:24:59.660Z"
   },
   {
    "duration": 19,
    "start_time": "2024-10-31T09:24:59.687Z"
   },
   {
    "duration": 17,
    "start_time": "2024-10-31T09:24:59.707Z"
   },
   {
    "duration": 12,
    "start_time": "2024-10-31T09:24:59.726Z"
   },
   {
    "duration": 29,
    "start_time": "2024-10-31T09:24:59.740Z"
   },
   {
    "duration": 31,
    "start_time": "2024-10-31T09:24:59.771Z"
   },
   {
    "duration": 14,
    "start_time": "2024-10-31T09:24:59.804Z"
   },
   {
    "duration": 317,
    "start_time": "2024-10-31T09:24:59.819Z"
   },
   {
    "duration": 21,
    "start_time": "2024-10-31T09:25:00.137Z"
   },
   {
    "duration": 485,
    "start_time": "2024-10-31T09:25:00.159Z"
   },
   {
    "duration": 24,
    "start_time": "2024-10-31T09:25:00.646Z"
   },
   {
    "duration": 62,
    "start_time": "2024-10-31T09:25:00.671Z"
   },
   {
    "duration": 38,
    "start_time": "2024-10-31T09:25:00.735Z"
   },
   {
    "duration": 25,
    "start_time": "2024-10-31T09:25:00.780Z"
   },
   {
    "duration": 675,
    "start_time": "2024-10-31T09:25:00.807Z"
   },
   {
    "duration": 569,
    "start_time": "2024-10-31T09:25:01.484Z"
   },
   {
    "duration": 11,
    "start_time": "2024-10-31T09:25:02.054Z"
   },
   {
    "duration": 352,
    "start_time": "2024-10-31T09:25:02.066Z"
   },
   {
    "duration": 11,
    "start_time": "2024-10-31T09:25:02.419Z"
   },
   {
    "duration": 332,
    "start_time": "2024-10-31T09:25:02.432Z"
   },
   {
    "duration": 8,
    "start_time": "2024-10-31T09:25:02.766Z"
   },
   {
    "duration": 45,
    "start_time": "2024-10-31T09:25:02.775Z"
   },
   {
    "duration": 26,
    "start_time": "2024-10-31T09:25:02.821Z"
   },
   {
    "duration": 56,
    "start_time": "2024-10-31T09:25:02.848Z"
   },
   {
    "duration": 212,
    "start_time": "2024-10-31T09:25:02.906Z"
   },
   {
    "duration": 380,
    "start_time": "2024-10-31T09:25:03.120Z"
   },
   {
    "duration": 22,
    "start_time": "2024-10-31T09:25:03.502Z"
   },
   {
    "duration": 89,
    "start_time": "2024-10-31T09:25:03.526Z"
   },
   {
    "duration": 378,
    "start_time": "2024-10-31T09:25:03.617Z"
   },
   {
    "duration": 24,
    "start_time": "2024-10-31T09:25:03.997Z"
   },
   {
    "duration": 77,
    "start_time": "2024-10-31T09:25:04.023Z"
   },
   {
    "duration": 338,
    "start_time": "2024-10-31T09:25:04.102Z"
   },
   {
    "duration": 11,
    "start_time": "2024-10-31T09:25:04.442Z"
   },
   {
    "duration": 73,
    "start_time": "2024-10-31T09:25:04.454Z"
   },
   {
    "duration": 378,
    "start_time": "2024-10-31T09:25:04.529Z"
   },
   {
    "duration": 4,
    "start_time": "2024-10-31T09:25:04.917Z"
   },
   {
    "duration": 27,
    "start_time": "2024-10-31T09:25:04.922Z"
   },
   {
    "duration": 16,
    "start_time": "2024-10-31T09:25:04.950Z"
   },
   {
    "duration": 37,
    "start_time": "2024-10-31T09:25:04.968Z"
   },
   {
    "duration": 43,
    "start_time": "2024-10-31T09:25:05.007Z"
   },
   {
    "duration": 34,
    "start_time": "2024-10-31T09:25:05.052Z"
   },
   {
    "duration": 52,
    "start_time": "2024-10-31T09:25:05.087Z"
   },
   {
    "duration": 7,
    "start_time": "2024-10-31T09:25:05.141Z"
   },
   {
    "duration": 12,
    "start_time": "2024-10-31T09:25:05.150Z"
   },
   {
    "duration": 38,
    "start_time": "2024-10-31T09:25:05.163Z"
   },
   {
    "duration": 2017,
    "start_time": "2024-10-31T09:27:50.087Z"
   },
   {
    "duration": 5,
    "start_time": "2024-10-31T09:27:52.106Z"
   },
   {
    "duration": 18,
    "start_time": "2024-10-31T09:27:52.118Z"
   },
   {
    "duration": 15,
    "start_time": "2024-10-31T09:27:52.139Z"
   },
   {
    "duration": 60,
    "start_time": "2024-10-31T09:27:52.157Z"
   },
   {
    "duration": 29,
    "start_time": "2024-10-31T09:27:52.219Z"
   },
   {
    "duration": 5,
    "start_time": "2024-10-31T09:27:52.250Z"
   },
   {
    "duration": 106,
    "start_time": "2024-10-31T09:27:52.257Z"
   },
   {
    "duration": 17,
    "start_time": "2024-10-31T09:27:52.365Z"
   },
   {
    "duration": 38,
    "start_time": "2024-10-31T09:27:52.386Z"
   },
   {
    "duration": 25,
    "start_time": "2024-10-31T09:27:52.426Z"
   },
   {
    "duration": 20,
    "start_time": "2024-10-31T09:27:52.452Z"
   },
   {
    "duration": 43,
    "start_time": "2024-10-31T09:27:52.473Z"
   },
   {
    "duration": 9,
    "start_time": "2024-10-31T09:27:52.518Z"
   },
   {
    "duration": 10,
    "start_time": "2024-10-31T09:27:52.528Z"
   },
   {
    "duration": 53,
    "start_time": "2024-10-31T09:27:52.540Z"
   },
   {
    "duration": 11,
    "start_time": "2024-10-31T09:27:52.595Z"
   },
   {
    "duration": 8,
    "start_time": "2024-10-31T09:27:52.607Z"
   },
   {
    "duration": 18,
    "start_time": "2024-10-31T09:27:52.617Z"
   },
   {
    "duration": 18,
    "start_time": "2024-10-31T09:27:52.637Z"
   },
   {
    "duration": 18,
    "start_time": "2024-10-31T09:27:52.656Z"
   },
   {
    "duration": 12,
    "start_time": "2024-10-31T09:27:52.675Z"
   },
   {
    "duration": 18,
    "start_time": "2024-10-31T09:27:52.689Z"
   },
   {
    "duration": 36,
    "start_time": "2024-10-31T09:27:52.709Z"
   },
   {
    "duration": 33,
    "start_time": "2024-10-31T09:27:52.746Z"
   },
   {
    "duration": 18,
    "start_time": "2024-10-31T09:27:52.781Z"
   },
   {
    "duration": 20,
    "start_time": "2024-10-31T09:27:52.801Z"
   },
   {
    "duration": 168,
    "start_time": "2024-10-31T09:27:52.825Z"
   },
   {
    "duration": 7,
    "start_time": "2024-10-31T09:27:52.995Z"
   },
   {
    "duration": 1772,
    "start_time": "2024-10-31T09:27:53.003Z"
   },
   {
    "duration": 6,
    "start_time": "2024-10-31T09:27:54.777Z"
   },
   {
    "duration": 3239,
    "start_time": "2024-10-31T09:27:54.818Z"
   },
   {
    "duration": 25,
    "start_time": "2024-10-31T09:27:58.059Z"
   },
   {
    "duration": 11,
    "start_time": "2024-10-31T09:27:58.085Z"
   },
   {
    "duration": 189,
    "start_time": "2024-10-31T09:27:58.098Z"
   },
   {
    "duration": 208,
    "start_time": "2024-10-31T09:27:58.289Z"
   },
   {
    "duration": 4,
    "start_time": "2024-10-31T09:27:58.498Z"
   },
   {
    "duration": 16,
    "start_time": "2024-10-31T09:27:58.503Z"
   },
   {
    "duration": 12,
    "start_time": "2024-10-31T09:27:58.520Z"
   },
   {
    "duration": 385,
    "start_time": "2024-10-31T09:27:58.533Z"
   },
   {
    "duration": 17,
    "start_time": "2024-10-31T09:27:58.919Z"
   },
   {
    "duration": 10,
    "start_time": "2024-10-31T09:27:58.937Z"
   },
   {
    "duration": 978,
    "start_time": "2024-10-31T09:27:58.949Z"
   },
   {
    "duration": 10,
    "start_time": "2024-10-31T09:27:59.928Z"
   },
   {
    "duration": 520,
    "start_time": "2024-10-31T09:27:59.939Z"
   },
   {
    "duration": 16,
    "start_time": "2024-10-31T09:28:00.461Z"
   },
   {
    "duration": 945,
    "start_time": "2024-10-31T09:28:00.479Z"
   },
   {
    "duration": 10,
    "start_time": "2024-10-31T09:28:01.425Z"
   },
   {
    "duration": 162,
    "start_time": "2024-10-31T09:28:01.436Z"
   },
   {
    "duration": 31,
    "start_time": "2024-10-31T09:28:01.600Z"
   },
   {
    "duration": 8,
    "start_time": "2024-10-31T09:28:01.633Z"
   },
   {
    "duration": 50,
    "start_time": "2024-10-31T09:28:01.646Z"
   },
   {
    "duration": 37,
    "start_time": "2024-10-31T09:28:01.698Z"
   },
   {
    "duration": 32,
    "start_time": "2024-10-31T09:28:01.737Z"
   },
   {
    "duration": 32,
    "start_time": "2024-10-31T09:28:01.771Z"
   },
   {
    "duration": 525,
    "start_time": "2024-10-31T09:28:01.805Z"
   },
   {
    "duration": 9,
    "start_time": "2024-10-31T09:28:02.331Z"
   },
   {
    "duration": 452,
    "start_time": "2024-10-31T09:28:02.342Z"
   },
   {
    "duration": 175,
    "start_time": "2024-10-31T09:28:02.795Z"
   },
   {
    "duration": 7,
    "start_time": "2024-10-31T09:28:02.972Z"
   },
   {
    "duration": 17,
    "start_time": "2024-10-31T09:28:02.981Z"
   },
   {
    "duration": 237,
    "start_time": "2024-10-31T09:28:03.000Z"
   },
   {
    "duration": 11,
    "start_time": "2024-10-31T09:28:03.238Z"
   },
   {
    "duration": 21,
    "start_time": "2024-10-31T09:28:03.251Z"
   },
   {
    "duration": 32,
    "start_time": "2024-10-31T09:28:03.274Z"
   },
   {
    "duration": 27,
    "start_time": "2024-10-31T09:28:03.308Z"
   },
   {
    "duration": 38,
    "start_time": "2024-10-31T09:28:03.337Z"
   },
   {
    "duration": 25,
    "start_time": "2024-10-31T09:28:03.376Z"
   },
   {
    "duration": 15,
    "start_time": "2024-10-31T09:28:03.404Z"
   },
   {
    "duration": 23,
    "start_time": "2024-10-31T09:28:03.420Z"
   },
   {
    "duration": 4,
    "start_time": "2024-10-31T09:28:03.445Z"
   },
   {
    "duration": 22,
    "start_time": "2024-10-31T09:28:03.451Z"
   },
   {
    "duration": 39,
    "start_time": "2024-10-31T09:28:03.474Z"
   },
   {
    "duration": 10,
    "start_time": "2024-10-31T09:28:03.514Z"
   },
   {
    "duration": 20,
    "start_time": "2024-10-31T09:28:03.525Z"
   },
   {
    "duration": 330,
    "start_time": "2024-10-31T09:28:03.546Z"
   },
   {
    "duration": 19,
    "start_time": "2024-10-31T09:28:03.879Z"
   },
   {
    "duration": 512,
    "start_time": "2024-10-31T09:28:03.900Z"
   },
   {
    "duration": 25,
    "start_time": "2024-10-31T09:28:04.414Z"
   },
   {
    "duration": 20,
    "start_time": "2024-10-31T09:28:04.441Z"
   },
   {
    "duration": 49,
    "start_time": "2024-10-31T09:28:04.463Z"
   },
   {
    "duration": 29,
    "start_time": "2024-10-31T09:28:04.518Z"
   },
   {
    "duration": 521,
    "start_time": "2024-10-31T09:28:04.548Z"
   },
   {
    "duration": 506,
    "start_time": "2024-10-31T09:28:05.071Z"
   },
   {
    "duration": 9,
    "start_time": "2024-10-31T09:28:05.579Z"
   },
   {
    "duration": 338,
    "start_time": "2024-10-31T09:28:05.590Z"
   },
   {
    "duration": 11,
    "start_time": "2024-10-31T09:28:05.930Z"
   },
   {
    "duration": 318,
    "start_time": "2024-10-31T09:28:05.943Z"
   },
   {
    "duration": 9,
    "start_time": "2024-10-31T09:28:06.264Z"
   },
   {
    "duration": 22,
    "start_time": "2024-10-31T09:28:06.275Z"
   },
   {
    "duration": 26,
    "start_time": "2024-10-31T09:28:06.299Z"
   },
   {
    "duration": 10,
    "start_time": "2024-10-31T09:28:06.327Z"
   },
   {
    "duration": 72,
    "start_time": "2024-10-31T09:28:06.339Z"
   },
   {
    "duration": 425,
    "start_time": "2024-10-31T09:28:06.413Z"
   },
   {
    "duration": 13,
    "start_time": "2024-10-31T09:28:06.841Z"
   },
   {
    "duration": 140,
    "start_time": "2024-10-31T09:28:06.855Z"
   },
   {
    "duration": 359,
    "start_time": "2024-10-31T09:28:06.996Z"
   },
   {
    "duration": 11,
    "start_time": "2024-10-31T09:28:07.356Z"
   },
   {
    "duration": 191,
    "start_time": "2024-10-31T09:28:07.369Z"
   },
   {
    "duration": 373,
    "start_time": "2024-10-31T09:28:07.562Z"
   },
   {
    "duration": 12,
    "start_time": "2024-10-31T09:28:07.936Z"
   },
   {
    "duration": 75,
    "start_time": "2024-10-31T09:28:07.949Z"
   },
   {
    "duration": 382,
    "start_time": "2024-10-31T09:28:08.026Z"
   },
   {
    "duration": 3,
    "start_time": "2024-10-31T09:28:08.417Z"
   },
   {
    "duration": 17,
    "start_time": "2024-10-31T09:28:08.422Z"
   },
   {
    "duration": 18,
    "start_time": "2024-10-31T09:28:08.441Z"
   },
   {
    "duration": 34,
    "start_time": "2024-10-31T09:28:08.461Z"
   },
   {
    "duration": 20,
    "start_time": "2024-10-31T09:28:08.496Z"
   },
   {
    "duration": 13,
    "start_time": "2024-10-31T09:28:08.517Z"
   },
   {
    "duration": 38,
    "start_time": "2024-10-31T09:28:08.532Z"
   },
   {
    "duration": 7,
    "start_time": "2024-10-31T09:28:08.572Z"
   },
   {
    "duration": 17,
    "start_time": "2024-10-31T09:28:08.581Z"
   },
   {
    "duration": 32,
    "start_time": "2024-10-31T09:28:08.600Z"
   },
   {
    "duration": 1918,
    "start_time": "2024-10-31T09:30:34.168Z"
   },
   {
    "duration": 4,
    "start_time": "2024-10-31T09:30:36.088Z"
   },
   {
    "duration": 37,
    "start_time": "2024-10-31T09:30:36.094Z"
   },
   {
    "duration": 39,
    "start_time": "2024-10-31T09:30:36.134Z"
   },
   {
    "duration": 70,
    "start_time": "2024-10-31T09:30:36.175Z"
   },
   {
    "duration": 42,
    "start_time": "2024-10-31T09:30:36.246Z"
   },
   {
    "duration": 6,
    "start_time": "2024-10-31T09:30:36.291Z"
   },
   {
    "duration": 132,
    "start_time": "2024-10-31T09:30:36.298Z"
   },
   {
    "duration": 22,
    "start_time": "2024-10-31T09:30:36.432Z"
   },
   {
    "duration": 14,
    "start_time": "2024-10-31T09:30:36.458Z"
   },
   {
    "duration": 33,
    "start_time": "2024-10-31T09:30:36.473Z"
   },
   {
    "duration": 38,
    "start_time": "2024-10-31T09:30:36.508Z"
   },
   {
    "duration": 72,
    "start_time": "2024-10-31T09:30:36.548Z"
   },
   {
    "duration": 8,
    "start_time": "2024-10-31T09:30:36.622Z"
   },
   {
    "duration": 35,
    "start_time": "2024-10-31T09:30:36.632Z"
   },
   {
    "duration": 79,
    "start_time": "2024-10-31T09:30:36.669Z"
   },
   {
    "duration": 23,
    "start_time": "2024-10-31T09:30:36.750Z"
   },
   {
    "duration": 15,
    "start_time": "2024-10-31T09:30:36.775Z"
   },
   {
    "duration": 20,
    "start_time": "2024-10-31T09:30:36.792Z"
   },
   {
    "duration": 27,
    "start_time": "2024-10-31T09:30:36.814Z"
   },
   {
    "duration": 73,
    "start_time": "2024-10-31T09:30:36.842Z"
   },
   {
    "duration": 89,
    "start_time": "2024-10-31T09:30:36.917Z"
   },
   {
    "duration": 28,
    "start_time": "2024-10-31T09:30:37.008Z"
   },
   {
    "duration": 30,
    "start_time": "2024-10-31T09:30:37.037Z"
   },
   {
    "duration": 18,
    "start_time": "2024-10-31T09:30:37.068Z"
   },
   {
    "duration": 26,
    "start_time": "2024-10-31T09:30:37.088Z"
   },
   {
    "duration": 51,
    "start_time": "2024-10-31T09:30:37.115Z"
   },
   {
    "duration": 155,
    "start_time": "2024-10-31T09:30:37.170Z"
   },
   {
    "duration": 6,
    "start_time": "2024-10-31T09:30:37.327Z"
   },
   {
    "duration": 1814,
    "start_time": "2024-10-31T09:30:37.334Z"
   },
   {
    "duration": 6,
    "start_time": "2024-10-31T09:30:39.150Z"
   },
   {
    "duration": 3359,
    "start_time": "2024-10-31T09:30:39.158Z"
   },
   {
    "duration": 26,
    "start_time": "2024-10-31T09:30:42.519Z"
   },
   {
    "duration": 18,
    "start_time": "2024-10-31T09:30:42.547Z"
   },
   {
    "duration": 209,
    "start_time": "2024-10-31T09:30:42.567Z"
   },
   {
    "duration": 231,
    "start_time": "2024-10-31T09:30:42.777Z"
   },
   {
    "duration": 5,
    "start_time": "2024-10-31T09:30:43.018Z"
   },
   {
    "duration": 5,
    "start_time": "2024-10-31T09:30:43.025Z"
   },
   {
    "duration": 24,
    "start_time": "2024-10-31T09:30:43.032Z"
   },
   {
    "duration": 338,
    "start_time": "2024-10-31T09:30:43.058Z"
   },
   {
    "duration": 29,
    "start_time": "2024-10-31T09:30:43.397Z"
   },
   {
    "duration": 11,
    "start_time": "2024-10-31T09:30:43.428Z"
   },
   {
    "duration": 982,
    "start_time": "2024-10-31T09:30:43.441Z"
   },
   {
    "duration": 9,
    "start_time": "2024-10-31T09:30:44.425Z"
   },
   {
    "duration": 511,
    "start_time": "2024-10-31T09:30:44.435Z"
   },
   {
    "duration": 16,
    "start_time": "2024-10-31T09:30:44.947Z"
   },
   {
    "duration": 964,
    "start_time": "2024-10-31T09:30:44.964Z"
   },
   {
    "duration": 10,
    "start_time": "2024-10-31T09:30:45.929Z"
   },
   {
    "duration": 161,
    "start_time": "2024-10-31T09:30:45.941Z"
   },
   {
    "duration": 23,
    "start_time": "2024-10-31T09:30:46.103Z"
   },
   {
    "duration": 35,
    "start_time": "2024-10-31T09:30:46.128Z"
   },
   {
    "duration": 19,
    "start_time": "2024-10-31T09:30:46.165Z"
   },
   {
    "duration": 26,
    "start_time": "2024-10-31T09:30:46.185Z"
   },
   {
    "duration": 50,
    "start_time": "2024-10-31T09:30:46.212Z"
   },
   {
    "duration": 18,
    "start_time": "2024-10-31T09:30:46.264Z"
   },
   {
    "duration": 459,
    "start_time": "2024-10-31T09:30:46.283Z"
   },
   {
    "duration": 9,
    "start_time": "2024-10-31T09:30:46.743Z"
   },
   {
    "duration": 433,
    "start_time": "2024-10-31T09:30:46.754Z"
   },
   {
    "duration": 166,
    "start_time": "2024-10-31T09:30:47.189Z"
   },
   {
    "duration": 6,
    "start_time": "2024-10-31T09:30:47.357Z"
   },
   {
    "duration": 6,
    "start_time": "2024-10-31T09:30:47.365Z"
   },
   {
    "duration": 223,
    "start_time": "2024-10-31T09:30:47.372Z"
   },
   {
    "duration": 21,
    "start_time": "2024-10-31T09:30:47.597Z"
   },
   {
    "duration": 11,
    "start_time": "2024-10-31T09:30:47.621Z"
   },
   {
    "duration": 16,
    "start_time": "2024-10-31T09:30:47.634Z"
   },
   {
    "duration": 17,
    "start_time": "2024-10-31T09:30:47.652Z"
   },
   {
    "duration": 28,
    "start_time": "2024-10-31T09:30:47.671Z"
   },
   {
    "duration": 7,
    "start_time": "2024-10-31T09:30:47.701Z"
   },
   {
    "duration": 4,
    "start_time": "2024-10-31T09:30:47.718Z"
   },
   {
    "duration": 17,
    "start_time": "2024-10-31T09:30:47.724Z"
   },
   {
    "duration": 5,
    "start_time": "2024-10-31T09:30:47.742Z"
   },
   {
    "duration": 15,
    "start_time": "2024-10-31T09:30:47.748Z"
   },
   {
    "duration": 22,
    "start_time": "2024-10-31T09:30:47.764Z"
   },
   {
    "duration": 3,
    "start_time": "2024-10-31T09:30:47.787Z"
   },
   {
    "duration": 34,
    "start_time": "2024-10-31T09:30:47.792Z"
   },
   {
    "duration": 297,
    "start_time": "2024-10-31T09:30:47.828Z"
   },
   {
    "duration": 19,
    "start_time": "2024-10-31T09:30:48.127Z"
   },
   {
    "duration": 485,
    "start_time": "2024-10-31T09:30:48.148Z"
   },
   {
    "duration": 26,
    "start_time": "2024-10-31T09:30:48.635Z"
   },
   {
    "duration": 17,
    "start_time": "2024-10-31T09:30:48.662Z"
   },
   {
    "duration": 42,
    "start_time": "2024-10-31T09:30:48.681Z"
   },
   {
    "duration": 15,
    "start_time": "2024-10-31T09:30:48.729Z"
   },
   {
    "duration": 549,
    "start_time": "2024-10-31T09:30:48.745Z"
   },
   {
    "duration": 525,
    "start_time": "2024-10-31T09:30:49.296Z"
   },
   {
    "duration": 11,
    "start_time": "2024-10-31T09:30:49.822Z"
   },
   {
    "duration": 299,
    "start_time": "2024-10-31T09:30:49.835Z"
   },
   {
    "duration": 12,
    "start_time": "2024-10-31T09:30:50.136Z"
   },
   {
    "duration": 344,
    "start_time": "2024-10-31T09:30:50.149Z"
   },
   {
    "duration": 8,
    "start_time": "2024-10-31T09:30:50.494Z"
   },
   {
    "duration": 19,
    "start_time": "2024-10-31T09:30:50.504Z"
   },
   {
    "duration": 15,
    "start_time": "2024-10-31T09:30:50.524Z"
   },
   {
    "duration": 11,
    "start_time": "2024-10-31T09:30:50.541Z"
   },
   {
    "duration": 81,
    "start_time": "2024-10-31T09:30:50.554Z"
   },
   {
    "duration": 422,
    "start_time": "2024-10-31T09:30:50.637Z"
   },
   {
    "duration": 13,
    "start_time": "2024-10-31T09:30:51.061Z"
   },
   {
    "duration": 77,
    "start_time": "2024-10-31T09:30:51.075Z"
   },
   {
    "duration": 388,
    "start_time": "2024-10-31T09:30:51.154Z"
   },
   {
    "duration": 11,
    "start_time": "2024-10-31T09:30:51.544Z"
   },
   {
    "duration": 214,
    "start_time": "2024-10-31T09:30:51.557Z"
   },
   {
    "duration": 382,
    "start_time": "2024-10-31T09:30:51.773Z"
   },
   {
    "duration": 12,
    "start_time": "2024-10-31T09:30:52.157Z"
   },
   {
    "duration": 105,
    "start_time": "2024-10-31T09:30:52.170Z"
   },
   {
    "duration": 403,
    "start_time": "2024-10-31T09:30:52.277Z"
   },
   {
    "duration": 3,
    "start_time": "2024-10-31T09:30:52.682Z"
   },
   {
    "duration": 33,
    "start_time": "2024-10-31T09:30:52.687Z"
   },
   {
    "duration": 9,
    "start_time": "2024-10-31T09:30:52.722Z"
   },
   {
    "duration": 15,
    "start_time": "2024-10-31T09:30:52.733Z"
   },
   {
    "duration": 17,
    "start_time": "2024-10-31T09:30:52.750Z"
   },
   {
    "duration": 12,
    "start_time": "2024-10-31T09:30:52.768Z"
   },
   {
    "duration": 38,
    "start_time": "2024-10-31T09:30:52.817Z"
   },
   {
    "duration": 8,
    "start_time": "2024-10-31T09:30:52.857Z"
   },
   {
    "duration": 80,
    "start_time": "2024-10-31T09:30:52.866Z"
   },
   {
    "duration": 20,
    "start_time": "2024-10-31T09:30:52.948Z"
   },
   {
    "duration": 1932,
    "start_time": "2024-10-31T09:39:45.995Z"
   },
   {
    "duration": 6,
    "start_time": "2024-10-31T09:39:47.928Z"
   },
   {
    "duration": 22,
    "start_time": "2024-10-31T09:39:47.936Z"
   },
   {
    "duration": 11,
    "start_time": "2024-10-31T09:39:47.960Z"
   },
   {
    "duration": 65,
    "start_time": "2024-10-31T09:39:47.973Z"
   },
   {
    "duration": 30,
    "start_time": "2024-10-31T09:39:48.040Z"
   },
   {
    "duration": 6,
    "start_time": "2024-10-31T09:39:48.071Z"
   },
   {
    "duration": 92,
    "start_time": "2024-10-31T09:39:48.079Z"
   },
   {
    "duration": 46,
    "start_time": "2024-10-31T09:39:48.173Z"
   },
   {
    "duration": 14,
    "start_time": "2024-10-31T09:39:48.220Z"
   },
   {
    "duration": 31,
    "start_time": "2024-10-31T09:39:48.236Z"
   },
   {
    "duration": 19,
    "start_time": "2024-10-31T09:39:48.269Z"
   },
   {
    "duration": 46,
    "start_time": "2024-10-31T09:39:48.290Z"
   },
   {
    "duration": 6,
    "start_time": "2024-10-31T09:39:48.339Z"
   },
   {
    "duration": 5,
    "start_time": "2024-10-31T09:39:48.347Z"
   },
   {
    "duration": 49,
    "start_time": "2024-10-31T09:39:48.354Z"
   },
   {
    "duration": 11,
    "start_time": "2024-10-31T09:39:48.405Z"
   },
   {
    "duration": 9,
    "start_time": "2024-10-31T09:39:48.418Z"
   },
   {
    "duration": 2,
    "start_time": "2024-10-31T09:39:48.429Z"
   },
   {
    "duration": 12,
    "start_time": "2024-10-31T09:39:48.433Z"
   },
   {
    "duration": 14,
    "start_time": "2024-10-31T09:39:48.446Z"
   },
   {
    "duration": 10,
    "start_time": "2024-10-31T09:39:48.462Z"
   },
   {
    "duration": 31,
    "start_time": "2024-10-31T09:39:48.474Z"
   },
   {
    "duration": 16,
    "start_time": "2024-10-31T09:39:48.507Z"
   },
   {
    "duration": 16,
    "start_time": "2024-10-31T09:39:48.524Z"
   },
   {
    "duration": 5,
    "start_time": "2024-10-31T09:39:48.541Z"
   },
   {
    "duration": 8,
    "start_time": "2024-10-31T09:39:48.548Z"
   },
   {
    "duration": 116,
    "start_time": "2024-10-31T09:39:48.558Z"
   },
   {
    "duration": 6,
    "start_time": "2024-10-31T09:39:48.676Z"
   },
   {
    "duration": 1882,
    "start_time": "2024-10-31T09:39:48.683Z"
   },
   {
    "duration": 6,
    "start_time": "2024-10-31T09:39:50.566Z"
   },
   {
    "duration": 3389,
    "start_time": "2024-10-31T09:39:50.573Z"
   },
   {
    "duration": 24,
    "start_time": "2024-10-31T09:39:53.964Z"
   },
   {
    "duration": 21,
    "start_time": "2024-10-31T09:39:53.989Z"
   },
   {
    "duration": 190,
    "start_time": "2024-10-31T09:39:54.011Z"
   },
   {
    "duration": 202,
    "start_time": "2024-10-31T09:39:54.203Z"
   },
   {
    "duration": 4,
    "start_time": "2024-10-31T09:39:54.418Z"
   },
   {
    "duration": 3,
    "start_time": "2024-10-31T09:39:54.423Z"
   },
   {
    "duration": 31,
    "start_time": "2024-10-31T09:39:54.427Z"
   },
   {
    "duration": 335,
    "start_time": "2024-10-31T09:39:54.460Z"
   },
   {
    "duration": 24,
    "start_time": "2024-10-31T09:39:54.801Z"
   },
   {
    "duration": 11,
    "start_time": "2024-10-31T09:39:54.827Z"
   },
   {
    "duration": 1319,
    "start_time": "2024-10-31T09:39:54.840Z"
   },
   {
    "duration": 9,
    "start_time": "2024-10-31T09:39:56.161Z"
   },
   {
    "duration": 857,
    "start_time": "2024-10-31T09:39:56.172Z"
   },
   {
    "duration": 16,
    "start_time": "2024-10-31T09:39:57.031Z"
   },
   {
    "duration": 958,
    "start_time": "2024-10-31T09:39:57.048Z"
   },
   {
    "duration": 17,
    "start_time": "2024-10-31T09:39:58.008Z"
   },
   {
    "duration": 165,
    "start_time": "2024-10-31T09:39:58.027Z"
   },
   {
    "duration": 27,
    "start_time": "2024-10-31T09:39:58.194Z"
   },
   {
    "duration": 7,
    "start_time": "2024-10-31T09:39:58.223Z"
   },
   {
    "duration": 43,
    "start_time": "2024-10-31T09:39:58.231Z"
   },
   {
    "duration": 12,
    "start_time": "2024-10-31T09:39:58.276Z"
   },
   {
    "duration": 13,
    "start_time": "2024-10-31T09:39:58.290Z"
   },
   {
    "duration": 18,
    "start_time": "2024-10-31T09:39:58.317Z"
   },
   {
    "duration": 488,
    "start_time": "2024-10-31T09:39:58.337Z"
   },
   {
    "duration": 11,
    "start_time": "2024-10-31T09:39:58.827Z"
   },
   {
    "duration": 450,
    "start_time": "2024-10-31T09:39:58.840Z"
   },
   {
    "duration": 181,
    "start_time": "2024-10-31T09:39:59.291Z"
   },
   {
    "duration": 7,
    "start_time": "2024-10-31T09:39:59.474Z"
   },
   {
    "duration": 19,
    "start_time": "2024-10-31T09:39:59.482Z"
   },
   {
    "duration": 198,
    "start_time": "2024-10-31T09:39:59.502Z"
   },
   {
    "duration": 9,
    "start_time": "2024-10-31T09:39:59.702Z"
   },
   {
    "duration": 33,
    "start_time": "2024-10-31T09:39:59.713Z"
   },
   {
    "duration": 23,
    "start_time": "2024-10-31T09:39:59.747Z"
   },
   {
    "duration": 21,
    "start_time": "2024-10-31T09:39:59.771Z"
   },
   {
    "duration": 23,
    "start_time": "2024-10-31T09:39:59.793Z"
   },
   {
    "duration": 8,
    "start_time": "2024-10-31T09:39:59.818Z"
   },
   {
    "duration": 21,
    "start_time": "2024-10-31T09:39:59.827Z"
   },
   {
    "duration": 21,
    "start_time": "2024-10-31T09:39:59.850Z"
   },
   {
    "duration": 15,
    "start_time": "2024-10-31T09:39:59.873Z"
   },
   {
    "duration": 40,
    "start_time": "2024-10-31T09:39:59.889Z"
   },
   {
    "duration": 23,
    "start_time": "2024-10-31T09:39:59.931Z"
   },
   {
    "duration": 2,
    "start_time": "2024-10-31T09:39:59.956Z"
   },
   {
    "duration": 14,
    "start_time": "2024-10-31T09:39:59.959Z"
   },
   {
    "duration": 320,
    "start_time": "2024-10-31T09:39:59.974Z"
   },
   {
    "duration": 26,
    "start_time": "2024-10-31T09:40:00.295Z"
   },
   {
    "duration": 511,
    "start_time": "2024-10-31T09:40:00.323Z"
   },
   {
    "duration": 29,
    "start_time": "2024-10-31T09:40:00.836Z"
   },
   {
    "duration": 20,
    "start_time": "2024-10-31T09:40:00.867Z"
   },
   {
    "duration": 92,
    "start_time": "2024-10-31T09:40:00.889Z"
   },
   {
    "duration": 53,
    "start_time": "2024-10-31T09:40:00.983Z"
   },
   {
    "duration": 680,
    "start_time": "2024-10-31T09:40:01.038Z"
   },
   {
    "duration": 941,
    "start_time": "2024-10-31T09:40:01.721Z"
   },
   {
    "duration": 62,
    "start_time": "2024-10-31T09:40:02.664Z"
   },
   {
    "duration": 518,
    "start_time": "2024-10-31T09:40:02.727Z"
   },
   {
    "duration": 12,
    "start_time": "2024-10-31T09:40:03.246Z"
   },
   {
    "duration": 348,
    "start_time": "2024-10-31T09:40:03.259Z"
   },
   {
    "duration": 12,
    "start_time": "2024-10-31T09:40:03.609Z"
   },
   {
    "duration": 41,
    "start_time": "2024-10-31T09:40:03.622Z"
   },
   {
    "duration": 42,
    "start_time": "2024-10-31T09:40:03.665Z"
   },
   {
    "duration": 38,
    "start_time": "2024-10-31T09:40:03.708Z"
   },
   {
    "duration": 93,
    "start_time": "2024-10-31T09:40:03.748Z"
   },
   {
    "duration": 400,
    "start_time": "2024-10-31T09:40:03.843Z"
   },
   {
    "duration": 11,
    "start_time": "2024-10-31T09:40:04.244Z"
   },
   {
    "duration": 76,
    "start_time": "2024-10-31T09:40:04.257Z"
   },
   {
    "duration": 372,
    "start_time": "2024-10-31T09:40:04.334Z"
   },
   {
    "duration": 15,
    "start_time": "2024-10-31T09:40:04.708Z"
   },
   {
    "duration": 183,
    "start_time": "2024-10-31T09:40:04.724Z"
   },
   {
    "duration": 376,
    "start_time": "2024-10-31T09:40:04.909Z"
   },
   {
    "duration": 12,
    "start_time": "2024-10-31T09:40:05.286Z"
   },
   {
    "duration": 82,
    "start_time": "2024-10-31T09:40:05.299Z"
   },
   {
    "duration": 397,
    "start_time": "2024-10-31T09:40:05.383Z"
   },
   {
    "duration": 3,
    "start_time": "2024-10-31T09:40:05.782Z"
   },
   {
    "duration": 62,
    "start_time": "2024-10-31T09:40:05.786Z"
   },
   {
    "duration": 28,
    "start_time": "2024-10-31T09:40:05.850Z"
   },
   {
    "duration": 38,
    "start_time": "2024-10-31T09:40:05.880Z"
   },
   {
    "duration": 32,
    "start_time": "2024-10-31T09:40:05.920Z"
   },
   {
    "duration": 15,
    "start_time": "2024-10-31T09:40:05.953Z"
   },
   {
    "duration": 58,
    "start_time": "2024-10-31T09:40:05.969Z"
   },
   {
    "duration": 8,
    "start_time": "2024-10-31T09:40:06.028Z"
   },
   {
    "duration": 27,
    "start_time": "2024-10-31T09:40:06.037Z"
   },
   {
    "duration": 18,
    "start_time": "2024-10-31T09:40:06.066Z"
   }
  ],
  "kernelspec": {
   "display_name": "Python 3",
   "language": "python",
   "name": "python3"
  },
  "language_info": {
   "codemirror_mode": {
    "name": "ipython",
    "version": 3
   },
   "file_extension": ".py",
   "mimetype": "text/x-python",
   "name": "python",
   "nbconvert_exporter": "python",
   "pygments_lexer": "ipython3",
   "version": "3.13.1"
  },
  "toc": {
   "base_numbering": 1,
   "nav_menu": {},
   "number_sections": true,
   "sideBar": true,
   "skip_h1_title": true,
   "title_cell": "Table of Contents",
   "title_sidebar": "Contents",
   "toc_cell": false,
   "toc_position": {
    "height": "calc(100% - 180px)",
    "left": "10px",
    "top": "150px",
    "width": "165px"
   },
   "toc_section_display": true,
   "toc_window_display": true
  }
 },
 "nbformat": 4,
 "nbformat_minor": 2
}
