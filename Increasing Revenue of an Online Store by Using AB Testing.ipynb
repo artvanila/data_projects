{
 "cells": [
  {
   "cell_type": "markdown",
   "metadata": {},
   "source": [
    "# Analysis of hypotheses and A/B-testing for increasing revenue of an online store"
   ]
  },
  {
   "cell_type": "markdown",
   "metadata": {},
   "source": [
    "This research focuses on prioritizing and testing hypotheses aimed at increasing the revenue of an online store. The work will involve close collaboration with the marketing department, resulting in a list of hypotheses, each with the potential to contribute to revenue growth. After prioritizing the hypotheses using various methods, A/B testing will be conducted on the most promising ideas. The goal of the research is to identify which proposed changes lead to positive user behavior changes and revenue growth and can therefore be implemented on a permanent basis. The research will utilize two datasets."
   ]
  },
  {
   "cell_type": "markdown",
   "metadata": {},
   "source": [
    "For prioritizing the hypotheses, we will use the dataset located at `/datasets/hypothesis.csv`."
   ]
  },
  {
   "cell_type": "markdown",
   "metadata": {},
   "source": [
    "- `Hypothesis` — a brief description of the hypothesis;\n",
    "- `Reach` — user reach on a 10-point scale;\n",
    "- `Impact` — impact on users on a 10-point scale;\n",
    "- `Confidence` — confidence in the hypothesis on a 10-point scale;\n",
    "- `Efforts` — resource expenditure to test the hypothesis on a 10-point scale. The higher the value of 'Efforts', the more expensive it is to test the hypothesis."
   ]
  },
  {
   "cell_type": "markdown",
   "metadata": {},
   "source": [
    "For conducting A/B testing, we will use two datasets: `/datasets/orders.csv` and `/datasets/visitors.csv.`"
   ]
  },
  {
   "cell_type": "markdown",
   "metadata": {},
   "source": [
    "File `/datasets/orders.csv`:\n",
    "\n",
    "- `transactionId` — order identifier;\n",
    "- `visitorId` — user identifier for the person who placed the order;\n",
    "- `date` — date when the order was placed;\n",
    "- `revenue` — revenue from the order;\n",
    "- `group` — A/B test group the order belongs to.\n",
    "\n",
    "File `/datasets/visitors.csv`:\n",
    "\n",
    "- `date` — date;\n",
    "- `group` — A/B test group;\n",
    "- `visitors` — number of users in the specified A/B test group on the given date."
   ]
  },
  {
   "cell_type": "markdown",
   "metadata": {},
   "source": [
    "To start the research, let's import the necessary libraries and define useful functions."
   ]
  },
  {
   "cell_type": "code",
   "execution_count": 37,
   "metadata": {},
   "outputs": [],
   "source": [
    "import pandas as pd\n",
    "import scipy.stats as stats\n",
    "import datetime as dt\n",
    "import numpy as np\n",
    "import matplotlib.pyplot as plt\n",
    "import seaborn as sns"
   ]
  },
  {
   "cell_type": "code",
   "execution_count": 38,
   "metadata": {},
   "outputs": [],
   "source": [
    "def primary_analysis(df):\n",
    "\n",
    "    print(\"Dataframe information:\")\n",
    "    print(df.info())\n",
    "    \n",
    "    print(\"\\nFirst 5 rows of the dataframe:\")\n",
    "    print(df.head())\n",
    "    \n",
    "    print(\"\\nDescription of numerical columns:\")\n",
    "    print(df.describe())\n",
    "    \n",
    "    print(\"\\nNumber of explicit duplicates in the dataset:\")\n",
    "    print(df.duplicated().sum())\n",
    "    \n",
    "    print(\"\\nDistribution frequency for categorical columns:\")\n",
    "    for column in df.select_dtypes(include=['object', 'category']).columns:\n",
    "        print(f\"\\nColumn '{column}':\")\n",
    "        print(df[column].value_counts())"
   ]
  },
  {
   "cell_type": "markdown",
   "metadata": {},
   "source": [
    "## Hypotheses prioritization"
   ]
  },
  {
   "cell_type": "markdown",
   "metadata": {},
   "source": [
    "The file `hypothesis.csv` contains 9 hypotheses aimed at increasing the revenue of an online store. Each hypothesis is accompanied by an evaluation of parameters such as `Reach`, `Impact`, `Confidence`, and `Effort`. Let's first take a look at the structure of the proposed data:"
   ]
  },
  {
   "cell_type": "code",
   "execution_count": 39,
   "metadata": {},
   "outputs": [],
   "source": [
    "pd.set_option('display.max_colwidth', None)"
   ]
  },
  {
   "cell_type": "code",
   "execution_count": 40,
   "metadata": {},
   "outputs": [],
   "source": [
    "try:\n",
    "    data_hyp = pd.read_csv('/datasets/hypothesis.csv')\n",
    "except:\n",
    "    data_hyp = pd.read_csv('https://code.s3.yandex.net/datasets/hypothesis.csv')"
   ]
  },
  {
   "cell_type": "code",
   "execution_count": 41,
   "metadata": {},
   "outputs": [
    {
     "name": "stdout",
     "output_type": "stream",
     "text": [
      "Dataframe information:\n",
      "<class 'pandas.core.frame.DataFrame'>\n",
      "RangeIndex: 9 entries, 0 to 8\n",
      "Data columns (total 5 columns):\n",
      " #   Column      Non-Null Count  Dtype \n",
      "---  ------      --------------  ----- \n",
      " 0   Hypothesis  9 non-null      object\n",
      " 1   Reach       9 non-null      int64 \n",
      " 2   Impact      9 non-null      int64 \n",
      " 3   Confidence  9 non-null      int64 \n",
      " 4   Efforts     9 non-null      int64 \n",
      "dtypes: int64(4), object(1)\n",
      "memory usage: 492.0+ bytes\n",
      "None\n",
      "\n",
      "First 5 rows of the dataframe:\n",
      "                                                                                                     Hypothesis  \\\n",
      "0            Добавить два новых канала привлечения трафика, что позволит привлекать на 30% больше пользователей   \n",
      "1                                     Запустить собственную службу доставки, что сократит срок доставки заказов   \n",
      "2  Добавить блоки рекомендаций товаров на сайт интернет магазина, чтобы повысить конверсию и средний чек заказа   \n",
      "3           Изменить структура категорий, что увеличит конверсию, т.к. пользователи быстрее найдут нужный товар   \n",
      "4                              Изменить цвет фона главной страницы, чтобы увеличить вовлеченность пользователей   \n",
      "\n",
      "   Reach  Impact  Confidence  Efforts  \n",
      "0      3      10           8        6  \n",
      "1      2       5           4       10  \n",
      "2      8       3           7        3  \n",
      "3      8       3           3        8  \n",
      "4      3       1           1        1  \n",
      "\n",
      "Description of numerical columns:\n",
      "           Reach     Impact  Confidence    Efforts\n",
      "count   9.000000   9.000000    9.000000   9.000000\n",
      "mean    4.777778   4.777778    5.555556   4.888889\n",
      "std     3.153481   3.192874    3.045944   2.803767\n",
      "min     1.000000   1.000000    1.000000   1.000000\n",
      "25%     3.000000   3.000000    3.000000   3.000000\n",
      "50%     3.000000   3.000000    7.000000   5.000000\n",
      "75%     8.000000   7.000000    8.000000   6.000000\n",
      "max    10.000000  10.000000    9.000000  10.000000\n",
      "\n",
      "Number of explicit duplicates in the dataset:\n",
      "0\n",
      "\n",
      "Distribution frequency for categorical columns:\n",
      "\n",
      "Column 'Hypothesis':\n",
      "Hypothesis\n",
      "Добавить два новых канала привлечения трафика, что позволит привлекать на 30% больше пользователей              1\n",
      "Запустить собственную службу доставки, что сократит срок доставки заказов                                       1\n",
      "Добавить блоки рекомендаций товаров на сайт интернет магазина, чтобы повысить конверсию и средний чек заказа    1\n",
      "Изменить структура категорий, что увеличит конверсию, т.к. пользователи быстрее найдут нужный товар             1\n",
      "Изменить цвет фона главной страницы, чтобы увеличить вовлеченность пользователей                                1\n",
      "Добавить страницу отзывов клиентов о магазине, что позволит увеличить количество заказов                        1\n",
      "Показать на главной странице баннеры с актуальными акциями и распродажами, чтобы увеличить конверсию            1\n",
      "Добавить форму подписки на все основные страницы, чтобы собрать базу клиентов для email-рассылок                1\n",
      "Запустить акцию, дающую скидку на товар в день рождения                                                         1\n",
      "Name: count, dtype: int64\n"
     ]
    }
   ],
   "source": [
    "primary_analysis(data_hyp)"
   ]
  },
  {
   "cell_type": "code",
   "execution_count": 42,
   "metadata": {},
   "outputs": [],
   "source": [
    "data_hyp.columns = [x.lower() for x in data_hyp.columns]"
   ]
  },
  {
   "cell_type": "markdown",
   "metadata": {},
   "source": [
    "The data is correct, there are no duplicates, and the formatting meets the requirements. The hypotheses are formulated correctly, and at first glance, the gradation of parameters appears to be well-founded. We can proceed to the prioritization of the proposed hypotheses."
   ]
  },
  {
   "cell_type": "markdown",
   "metadata": {},
   "source": [
    "To begin, let's apply the ICE framework for hypothesis prioritization and sort them in descending order of priority. "
   ]
  },
  {
   "cell_type": "code",
   "execution_count": 43,
   "metadata": {},
   "outputs": [
    {
     "data": {
      "text/html": [
       "<div>\n",
       "<style scoped>\n",
       "    .dataframe tbody tr th:only-of-type {\n",
       "        vertical-align: middle;\n",
       "    }\n",
       "\n",
       "    .dataframe tbody tr th {\n",
       "        vertical-align: top;\n",
       "    }\n",
       "\n",
       "    .dataframe thead th {\n",
       "        text-align: right;\n",
       "    }\n",
       "</style>\n",
       "<table border=\"1\" class=\"dataframe\">\n",
       "  <thead>\n",
       "    <tr style=\"text-align: right;\">\n",
       "      <th></th>\n",
       "      <th>hypothesis</th>\n",
       "      <th>ICE</th>\n",
       "    </tr>\n",
       "  </thead>\n",
       "  <tbody>\n",
       "    <tr>\n",
       "      <th>8</th>\n",
       "      <td>Запустить акцию, дающую скидку на товар в день рождения</td>\n",
       "      <td>16.200</td>\n",
       "    </tr>\n",
       "    <tr>\n",
       "      <th>0</th>\n",
       "      <td>Добавить два новых канала привлечения трафика, что позволит привлекать на 30% больше пользователей</td>\n",
       "      <td>13.333</td>\n",
       "    </tr>\n",
       "    <tr>\n",
       "      <th>7</th>\n",
       "      <td>Добавить форму подписки на все основные страницы, чтобы собрать базу клиентов для email-рассылок</td>\n",
       "      <td>11.200</td>\n",
       "    </tr>\n",
       "    <tr>\n",
       "      <th>6</th>\n",
       "      <td>Показать на главной странице баннеры с актуальными акциями и распродажами, чтобы увеличить конверсию</td>\n",
       "      <td>8.000</td>\n",
       "    </tr>\n",
       "    <tr>\n",
       "      <th>2</th>\n",
       "      <td>Добавить блоки рекомендаций товаров на сайт интернет магазина, чтобы повысить конверсию и средний чек заказа</td>\n",
       "      <td>7.000</td>\n",
       "    </tr>\n",
       "    <tr>\n",
       "      <th>1</th>\n",
       "      <td>Запустить собственную службу доставки, что сократит срок доставки заказов</td>\n",
       "      <td>2.000</td>\n",
       "    </tr>\n",
       "    <tr>\n",
       "      <th>5</th>\n",
       "      <td>Добавить страницу отзывов клиентов о магазине, что позволит увеличить количество заказов</td>\n",
       "      <td>1.333</td>\n",
       "    </tr>\n",
       "    <tr>\n",
       "      <th>3</th>\n",
       "      <td>Изменить структура категорий, что увеличит конверсию, т.к. пользователи быстрее найдут нужный товар</td>\n",
       "      <td>1.125</td>\n",
       "    </tr>\n",
       "    <tr>\n",
       "      <th>4</th>\n",
       "      <td>Изменить цвет фона главной страницы, чтобы увеличить вовлеченность пользователей</td>\n",
       "      <td>1.000</td>\n",
       "    </tr>\n",
       "  </tbody>\n",
       "</table>\n",
       "</div>"
      ],
      "text/plain": [
       "                                                                                                     hypothesis  \\\n",
       "8                                                       Запустить акцию, дающую скидку на товар в день рождения   \n",
       "0            Добавить два новых канала привлечения трафика, что позволит привлекать на 30% больше пользователей   \n",
       "7              Добавить форму подписки на все основные страницы, чтобы собрать базу клиентов для email-рассылок   \n",
       "6          Показать на главной странице баннеры с актуальными акциями и распродажами, чтобы увеличить конверсию   \n",
       "2  Добавить блоки рекомендаций товаров на сайт интернет магазина, чтобы повысить конверсию и средний чек заказа   \n",
       "1                                     Запустить собственную службу доставки, что сократит срок доставки заказов   \n",
       "5                      Добавить страницу отзывов клиентов о магазине, что позволит увеличить количество заказов   \n",
       "3           Изменить структура категорий, что увеличит конверсию, т.к. пользователи быстрее найдут нужный товар   \n",
       "4                              Изменить цвет фона главной страницы, чтобы увеличить вовлеченность пользователей   \n",
       "\n",
       "      ICE  \n",
       "8  16.200  \n",
       "0  13.333  \n",
       "7  11.200  \n",
       "6   8.000  \n",
       "2   7.000  \n",
       "1   2.000  \n",
       "5   1.333  \n",
       "3   1.125  \n",
       "4   1.000  "
      ]
     },
     "metadata": {},
     "output_type": "display_data"
    }
   ],
   "source": [
    "data_hyp['ICE'] = (data_hyp['impact'] * data_hyp['confidence'])/data_hyp['efforts'] \n",
    "sorted_data_hyp_ice = data_hyp[['hypothesis', 'ICE']].sort_values(by='ICE', ascending=False)\n",
    "sorted_data_hyp_ice['ICE'] = sorted_data_hyp_ice['ICE'].round(3)\n",
    "display(sorted_data_hyp_ice)"
   ]
  },
  {
   "cell_type": "markdown",
   "metadata": {},
   "source": [
    "Following the ICE framework, the hypothesis regarding the launch of a promotion offering a discount on a customer's birthday should be considered first. The second priority is the hypothesis that adding two new channels for traffic acquisition could increase the number of users by 30%. The third most important hypothesis is implementing a subscription form on all key pages to build an email marketing list. The lowest priority hypothesis is the one suggesting changing the background color of the homepage to increase user engagement."
   ]
  },
  {
   "cell_type": "markdown",
   "metadata": {},
   "source": [
    "Let's try applying the RICE framework and see how the prioritization has changed."
   ]
  },
  {
   "cell_type": "code",
   "execution_count": 44,
   "metadata": {},
   "outputs": [
    {
     "data": {
      "text/html": [
       "<div>\n",
       "<style scoped>\n",
       "    .dataframe tbody tr th:only-of-type {\n",
       "        vertical-align: middle;\n",
       "    }\n",
       "\n",
       "    .dataframe tbody tr th {\n",
       "        vertical-align: top;\n",
       "    }\n",
       "\n",
       "    .dataframe thead th {\n",
       "        text-align: right;\n",
       "    }\n",
       "</style>\n",
       "<table border=\"1\" class=\"dataframe\">\n",
       "  <thead>\n",
       "    <tr style=\"text-align: right;\">\n",
       "      <th></th>\n",
       "      <th>hypothesis</th>\n",
       "      <th>RICE</th>\n",
       "    </tr>\n",
       "  </thead>\n",
       "  <tbody>\n",
       "    <tr>\n",
       "      <th>7</th>\n",
       "      <td>Добавить форму подписки на все основные страницы, чтобы собрать базу клиентов для email-рассылок</td>\n",
       "      <td>112.0</td>\n",
       "    </tr>\n",
       "    <tr>\n",
       "      <th>2</th>\n",
       "      <td>Добавить блоки рекомендаций товаров на сайт интернет магазина, чтобы повысить конверсию и средний чек заказа</td>\n",
       "      <td>56.0</td>\n",
       "    </tr>\n",
       "    <tr>\n",
       "      <th>0</th>\n",
       "      <td>Добавить два новых канала привлечения трафика, что позволит привлекать на 30% больше пользователей</td>\n",
       "      <td>40.0</td>\n",
       "    </tr>\n",
       "    <tr>\n",
       "      <th>6</th>\n",
       "      <td>Показать на главной странице баннеры с актуальными акциями и распродажами, чтобы увеличить конверсию</td>\n",
       "      <td>40.0</td>\n",
       "    </tr>\n",
       "    <tr>\n",
       "      <th>8</th>\n",
       "      <td>Запустить акцию, дающую скидку на товар в день рождения</td>\n",
       "      <td>16.2</td>\n",
       "    </tr>\n",
       "    <tr>\n",
       "      <th>3</th>\n",
       "      <td>Изменить структура категорий, что увеличит конверсию, т.к. пользователи быстрее найдут нужный товар</td>\n",
       "      <td>9.0</td>\n",
       "    </tr>\n",
       "    <tr>\n",
       "      <th>1</th>\n",
       "      <td>Запустить собственную службу доставки, что сократит срок доставки заказов</td>\n",
       "      <td>4.0</td>\n",
       "    </tr>\n",
       "    <tr>\n",
       "      <th>5</th>\n",
       "      <td>Добавить страницу отзывов клиентов о магазине, что позволит увеличить количество заказов</td>\n",
       "      <td>4.0</td>\n",
       "    </tr>\n",
       "    <tr>\n",
       "      <th>4</th>\n",
       "      <td>Изменить цвет фона главной страницы, чтобы увеличить вовлеченность пользователей</td>\n",
       "      <td>3.0</td>\n",
       "    </tr>\n",
       "  </tbody>\n",
       "</table>\n",
       "</div>"
      ],
      "text/plain": [
       "                                                                                                     hypothesis  \\\n",
       "7              Добавить форму подписки на все основные страницы, чтобы собрать базу клиентов для email-рассылок   \n",
       "2  Добавить блоки рекомендаций товаров на сайт интернет магазина, чтобы повысить конверсию и средний чек заказа   \n",
       "0            Добавить два новых канала привлечения трафика, что позволит привлекать на 30% больше пользователей   \n",
       "6          Показать на главной странице баннеры с актуальными акциями и распродажами, чтобы увеличить конверсию   \n",
       "8                                                       Запустить акцию, дающую скидку на товар в день рождения   \n",
       "3           Изменить структура категорий, что увеличит конверсию, т.к. пользователи быстрее найдут нужный товар   \n",
       "1                                     Запустить собственную службу доставки, что сократит срок доставки заказов   \n",
       "5                      Добавить страницу отзывов клиентов о магазине, что позволит увеличить количество заказов   \n",
       "4                              Изменить цвет фона главной страницы, чтобы увеличить вовлеченность пользователей   \n",
       "\n",
       "    RICE  \n",
       "7  112.0  \n",
       "2   56.0  \n",
       "0   40.0  \n",
       "6   40.0  \n",
       "8   16.2  \n",
       "3    9.0  \n",
       "1    4.0  \n",
       "5    4.0  \n",
       "4    3.0  "
      ]
     },
     "metadata": {},
     "output_type": "display_data"
    }
   ],
   "source": [
    "data_hyp['RICE'] = (data_hyp['reach'] * data_hyp['impact'] * data_hyp['confidence'])/data_hyp['efforts'] \n",
    "sorted_data_hyp_rice = data_hyp[['hypothesis', 'RICE']].sort_values(by='RICE', ascending=False)\n",
    "sorted_data_hyp_rice['RICE'] = sorted_data_hyp_rice['RICE'].round(3)\n",
    "display(sorted_data_hyp_rice)"
   ]
  },
  {
   "cell_type": "markdown",
   "metadata": {},
   "source": [
    "The situation has changed somewhat, but hypotheses number 7 and 2 remain among the leaders. The hypothesis about adding a subscription form to all key pages, aimed at building an email marketing list, has moved to the first place with a clear advantage. This is explained by the fact that the reach parameter for this hypothesis, which defines user reach, is at its maximum value of 10. The hypothesis about adding product recommendation blocks on the online store's website to increase conversion and average order value has moved to second place, also with a high reach value of 10. The hypothesis about adding two new channels to attract traffic, which would increase the number of users by 30%, shifted from second to third place. The previous leader, the hypothesis about launching a promotion offering a discount on a customer's birthday, has dropped to the middle of the list due to its minimal reach, which is 1. At the last place remains the hypothesis about changing the background color of the homepage to increase user engagement."
   ]
  },
  {
   "cell_type": "markdown",
   "metadata": {},
   "source": [
    "The change in hypothesis prioritization when applying RICE instead of ICE occurred mainly due to the emphasis on Reach in the RICE framework. This parameter reflects the number of users who will be affected by the change and significantly influences the priority of the hypotheses. This is clearly demonstrated by hypothesis 8, which, despite having relatively high confidence and impact parameters and an average effort level, ranked first in the ICE framework. However, when converting this list to the RICE framework, the situation for this hypothesis changes, and it falls to the middle of the list due to its reach parameter being only 1, compared to hypothesis 7, which has the maximum reach of 10.\n",
    "\n",
    "In any case, two hypotheses have remained in the top 3 in both frameworks:\n",
    "\n",
    "- Add a subscription form to all key pages to build an email marketing list.\n",
    "- Add two new traffic acquisition channels, which will increase the number of users by 30%."
   ]
  },
  {
   "cell_type": "markdown",
   "metadata": {},
   "source": [
    "## A/B testing analysis"
   ]
  },
  {
   "cell_type": "markdown",
   "metadata": {},
   "source": [
    "We conducted an A/B test and obtained results, which are described in the files `orders.csv` and `visitors.csv`. Let's first take a look at the structure of the provided data:"
   ]
  },
  {
   "cell_type": "code",
   "execution_count": 45,
   "metadata": {},
   "outputs": [],
   "source": [
    "try:\n",
    "    visitors = pd.read_csv('/datasets/visitors.csv')\n",
    "except:\n",
    "    visitors = pd.read_csv('https://code.s3.yandex.net/datasets/visitors.csv')"
   ]
  },
  {
   "cell_type": "code",
   "execution_count": 46,
   "metadata": {},
   "outputs": [
    {
     "name": "stdout",
     "output_type": "stream",
     "text": [
      "Dataframe information:\n",
      "<class 'pandas.core.frame.DataFrame'>\n",
      "RangeIndex: 62 entries, 0 to 61\n",
      "Data columns (total 3 columns):\n",
      " #   Column    Non-Null Count  Dtype \n",
      "---  ------    --------------  ----- \n",
      " 0   date      62 non-null     object\n",
      " 1   group     62 non-null     object\n",
      " 2   visitors  62 non-null     int64 \n",
      "dtypes: int64(1), object(2)\n",
      "memory usage: 1.6+ KB\n",
      "None\n",
      "\n",
      "First 5 rows of the dataframe:\n",
      "         date group  visitors\n",
      "0  2019-08-01     A       719\n",
      "1  2019-08-02     A       619\n",
      "2  2019-08-03     A       507\n",
      "3  2019-08-04     A       717\n",
      "4  2019-08-05     A       756\n",
      "\n",
      "Description of numerical columns:\n",
      "         visitors\n",
      "count   62.000000\n",
      "mean   607.290323\n",
      "std    114.400560\n",
      "min    361.000000\n",
      "25%    534.000000\n",
      "50%    624.500000\n",
      "75%    710.500000\n",
      "max    770.000000\n",
      "\n",
      "Number of explicit duplicates in the dataset:\n",
      "0\n",
      "\n",
      "Distribution frequency for categorical columns:\n",
      "\n",
      "Column 'date':\n",
      "date\n",
      "2019-08-01    2\n",
      "2019-08-02    2\n",
      "2019-08-03    2\n",
      "2019-08-04    2\n",
      "2019-08-05    2\n",
      "2019-08-06    2\n",
      "2019-08-07    2\n",
      "2019-08-08    2\n",
      "2019-08-09    2\n",
      "2019-08-10    2\n",
      "2019-08-11    2\n",
      "2019-08-12    2\n",
      "2019-08-13    2\n",
      "2019-08-14    2\n",
      "2019-08-15    2\n",
      "2019-08-16    2\n",
      "2019-08-17    2\n",
      "2019-08-18    2\n",
      "2019-08-19    2\n",
      "2019-08-20    2\n",
      "2019-08-21    2\n",
      "2019-08-22    2\n",
      "2019-08-23    2\n",
      "2019-08-24    2\n",
      "2019-08-25    2\n",
      "2019-08-26    2\n",
      "2019-08-27    2\n",
      "2019-08-28    2\n",
      "2019-08-29    2\n",
      "2019-08-30    2\n",
      "2019-08-31    2\n",
      "Name: count, dtype: int64\n",
      "\n",
      "Column 'group':\n",
      "group\n",
      "A    31\n",
      "B    31\n",
      "Name: count, dtype: int64\n"
     ]
    }
   ],
   "source": [
    "primary_analysis(visitors)"
   ]
  },
  {
   "cell_type": "markdown",
   "metadata": {},
   "source": [
    "There are no duplicates or missing values in the dataframe. The mean and median values are relatively close to each other, indicating the absence of significant outliers in the data. The traffic distribution between the test groups appears to be correct. However, the format of the date column, represented as an object, could potentially lead to issues in data processing. To ensure proper handling of dates, the column should be converted to the `datetime64` type."
   ]
  },
  {
   "cell_type": "code",
   "execution_count": 47,
   "metadata": {},
   "outputs": [
    {
     "name": "stdout",
     "output_type": "stream",
     "text": [
      "<class 'pandas.core.frame.DataFrame'>\n",
      "RangeIndex: 62 entries, 0 to 61\n",
      "Data columns (total 3 columns):\n",
      " #   Column    Non-Null Count  Dtype         \n",
      "---  ------    --------------  -----         \n",
      " 0   date      62 non-null     datetime64[ns]\n",
      " 1   group     62 non-null     object        \n",
      " 2   visitors  62 non-null     int64         \n",
      "dtypes: datetime64[ns](1), int64(1), object(1)\n",
      "memory usage: 1.6+ KB\n"
     ]
    }
   ],
   "source": [
    "visitors['date'] = pd.to_datetime(visitors['date'])\n",
    "visitors.info()"
   ]
  },
  {
   "cell_type": "code",
   "execution_count": 48,
   "metadata": {},
   "outputs": [],
   "source": [
    "try:\n",
    "    orders = pd.read_csv('/datasets/orders.csv')\n",
    "except:\n",
    "    orders = pd.read_csv('https://code.s3.yandex.net/datasets/orders.csv')\n"
   ]
  },
  {
   "cell_type": "code",
   "execution_count": 49,
   "metadata": {},
   "outputs": [
    {
     "name": "stdout",
     "output_type": "stream",
     "text": [
      "Dataframe information:\n",
      "<class 'pandas.core.frame.DataFrame'>\n",
      "RangeIndex: 1197 entries, 0 to 1196\n",
      "Data columns (total 5 columns):\n",
      " #   Column         Non-Null Count  Dtype \n",
      "---  ------         --------------  ----- \n",
      " 0   transactionId  1197 non-null   int64 \n",
      " 1   visitorId      1197 non-null   int64 \n",
      " 2   date           1197 non-null   object\n",
      " 3   revenue        1197 non-null   int64 \n",
      " 4   group          1197 non-null   object\n",
      "dtypes: int64(3), object(2)\n",
      "memory usage: 46.9+ KB\n",
      "None\n",
      "\n",
      "First 5 rows of the dataframe:\n",
      "   transactionId   visitorId        date  revenue group\n",
      "0     3667963787  3312258926  2019-08-15     1650     B\n",
      "1     2804400009  3642806036  2019-08-15      730     B\n",
      "2     2961555356  4069496402  2019-08-15      400     A\n",
      "3     3797467345  1196621759  2019-08-15     9759     B\n",
      "4     2282983706  2322279887  2019-08-15     2308     B\n",
      "\n",
      "Description of numerical columns:\n",
      "       transactionId     visitorId       revenue\n",
      "count   1.197000e+03  1.197000e+03  1.197000e+03\n",
      "mean    2.155621e+09  2.165960e+09  8.348006e+03\n",
      "std     1.229085e+09  1.236014e+09  3.919113e+04\n",
      "min     1.062393e+06  5.114589e+06  5.000000e+01\n",
      "25%     1.166776e+09  1.111826e+09  1.220000e+03\n",
      "50%     2.145194e+09  2.217985e+09  2.978000e+03\n",
      "75%     3.237740e+09  3.177606e+09  8.290000e+03\n",
      "max     4.293856e+09  4.283872e+09  1.294500e+06\n",
      "\n",
      "Number of explicit duplicates in the dataset:\n",
      "0\n",
      "\n",
      "Distribution frequency for categorical columns:\n",
      "\n",
      "Column 'date':\n",
      "date\n",
      "2019-08-05    48\n",
      "2019-08-14    47\n",
      "2019-08-12    47\n",
      "2019-08-06    46\n",
      "2019-08-15    46\n",
      "2019-08-28    45\n",
      "2019-08-01    45\n",
      "2019-08-27    44\n",
      "2019-08-02    44\n",
      "2019-08-19    43\n",
      "2019-08-08    43\n",
      "2019-08-29    42\n",
      "2019-08-07    42\n",
      "2019-08-26    41\n",
      "2019-08-22    41\n",
      "2019-08-09    41\n",
      "2019-08-03    40\n",
      "2019-08-23    40\n",
      "2019-08-10    39\n",
      "2019-08-16    38\n",
      "2019-08-21    37\n",
      "2019-08-30    35\n",
      "2019-08-13    35\n",
      "2019-08-04    33\n",
      "2019-08-20    32\n",
      "2019-08-31    32\n",
      "2019-08-24    31\n",
      "2019-08-18    26\n",
      "2019-08-11    26\n",
      "2019-08-25    24\n",
      "2019-08-17    24\n",
      "Name: count, dtype: int64\n",
      "\n",
      "Column 'group':\n",
      "group\n",
      "B    640\n",
      "A    557\n",
      "Name: count, dtype: int64\n"
     ]
    }
   ],
   "source": [
    "primary_analysis(orders)"
   ]
  },
  {
   "cell_type": "markdown",
   "metadata": {},
   "source": [
    "As in the previous dataframe, there are no duplicates or missing values here, but the significant difference between the median (2978) and the mean (8348) indicates that there are serious outliers in the data. We will take a closer look at these anomalies later. Additionally, we can observe that users are unevenly distributed between segments, which poses a risk of obtaining completely incorrect A/B test analysis results. Also, the date column is in the `object` format. Let's start by fixing this last issue."
   ]
  },
  {
   "cell_type": "code",
   "execution_count": 50,
   "metadata": {},
   "outputs": [
    {
     "name": "stdout",
     "output_type": "stream",
     "text": [
      "<class 'pandas.core.frame.DataFrame'>\n",
      "RangeIndex: 1197 entries, 0 to 1196\n",
      "Data columns (total 5 columns):\n",
      " #   Column         Non-Null Count  Dtype         \n",
      "---  ------         --------------  -----         \n",
      " 0   transactionId  1197 non-null   int64         \n",
      " 1   visitorId      1197 non-null   int64         \n",
      " 2   date           1197 non-null   datetime64[ns]\n",
      " 3   revenue        1197 non-null   int64         \n",
      " 4   group          1197 non-null   object        \n",
      "dtypes: datetime64[ns](1), int64(3), object(1)\n",
      "memory usage: 46.9+ KB\n"
     ]
    }
   ],
   "source": [
    "orders['date'] = pd.to_datetime(orders['date'])\n",
    "orders.info()"
   ]
  },
  {
   "cell_type": "markdown",
   "metadata": {},
   "source": [
    "Success! Now let's check if there are any users in the `orders` table who are assigned to two groups simultaneously."
   ]
  },
  {
   "cell_type": "code",
   "execution_count": 51,
   "metadata": {},
   "outputs": [
    {
     "data": {
      "text/plain": [
       "visitorId\n",
       "8300375       2\n",
       "199603092     2\n",
       "232979603     2\n",
       "237748145     2\n",
       "276558944     2\n",
       "351125977     2\n",
       "393266494     2\n",
       "457167155     2\n",
       "471551937     2\n",
       "477780734     2\n",
       "818047933     2\n",
       "963407295     2\n",
       "1230306981    2\n",
       "1294878855    2\n",
       "1316129916    2\n",
       "1333886533    2\n",
       "1404934699    2\n",
       "1602967004    2\n",
       "1614305549    2\n",
       "1648269707    2\n",
       "1668030113    2\n",
       "1738359350    2\n",
       "1801183820    2\n",
       "1959144690    2\n",
       "2038680547    2\n",
       "2044997962    2\n",
       "2378935119    2\n",
       "2458001652    2\n",
       "2579882178    2\n",
       "2587333274    2\n",
       "2600415354    2\n",
       "2654030115    2\n",
       "2686716486    2\n",
       "2712142231    2\n",
       "2716752286    2\n",
       "2780786433    2\n",
       "2927087541    2\n",
       "2949041841    2\n",
       "2954449915    2\n",
       "3062433592    2\n",
       "3202540741    2\n",
       "3234906277    2\n",
       "3656415546    2\n",
       "3717692402    2\n",
       "3766097110    2\n",
       "3803269165    2\n",
       "3891541246    2\n",
       "3941795274    2\n",
       "3951559397    2\n",
       "3957174400    2\n",
       "3963646447    2\n",
       "3972127743    2\n",
       "3984495233    2\n",
       "4069496402    2\n",
       "4120364173    2\n",
       "4186807279    2\n",
       "4256040402    2\n",
       "4266935830    2\n",
       "Name: group, dtype: int64"
      ]
     },
     "metadata": {},
     "output_type": "display_data"
    },
    {
     "data": {
      "text/plain": [
       "58"
      ]
     },
     "metadata": {},
     "output_type": "display_data"
    }
   ],
   "source": [
    "group_counts = orders.groupby('visitorId')['group'].nunique()\n",
    "multi_group_users = group_counts[group_counts > 1]\n",
    "display(multi_group_users)\n",
    "display(multi_group_users.shape[0]) "
   ]
  },
  {
   "cell_type": "markdown",
   "metadata": {},
   "source": [
    "We can observe that the traffic is divided incorrectly — 58 users are assigned to both groups simultaneously. This indicates that users are unevenly distributed between the segments. Ideally, these overlapping users should be removed, but to do this correctly, they would need to be removed from both datasets. However, the visitors table already contains aggregated data, and effectively cleaning both tables is not possible. Therefore, we will keep the overlapping users in the test, which unfortunately could lead to distortion of the test results."
   ]
  },
  {
   "cell_type": "markdown",
   "metadata": {},
   "source": [
    "Let's build and take a look at the cumulative revenue chart by groups."
   ]
  },
  {
   "cell_type": "code",
   "execution_count": 52,
   "metadata": {},
   "outputs": [],
   "source": [
    "# create an array of unique pairs of date and test group values\n",
    "datesGroups = orders[['date','group']].drop_duplicates() "
   ]
  },
  {
   "cell_type": "code",
   "execution_count": 53,
   "metadata": {},
   "outputs": [],
   "source": [
    "# collect aggregated daily cumulative order data\n",
    "ordersAggregated = datesGroups.apply(lambda x: orders[np.logical_and(orders['date'] <= x['date'], orders['group'] == x['group'])]\\\n",
    ".agg({'date' : 'max', 'group' : 'max', 'transactionId' : 'nunique', 'visitorId' : 'nunique', 'revenue' : 'sum'}), axis=1).sort_values(by=['date','group'])"
   ]
  },
  {
   "cell_type": "code",
   "execution_count": 54,
   "metadata": {},
   "outputs": [],
   "source": [
    "# collect aggregated daily cumulative visitor data for the online store\n",
    "visitorsAggregated = datesGroups.apply(lambda x: visitors[np.logical_and(visitors['date'] <= x['date'], visitors['group'] == x['group'])]\n",
    ".agg({'date' : 'max', 'group' : 'max', 'visitors' : 'sum'}), axis=1).sort_values(by=['date','group'])"
   ]
  },
  {
   "cell_type": "code",
   "execution_count": 55,
   "metadata": {},
   "outputs": [
    {
     "data": {
      "text/html": [
       "<div>\n",
       "<style scoped>\n",
       "    .dataframe tbody tr th:only-of-type {\n",
       "        vertical-align: middle;\n",
       "    }\n",
       "\n",
       "    .dataframe tbody tr th {\n",
       "        vertical-align: top;\n",
       "    }\n",
       "\n",
       "    .dataframe thead th {\n",
       "        text-align: right;\n",
       "    }\n",
       "</style>\n",
       "<table border=\"1\" class=\"dataframe\">\n",
       "  <thead>\n",
       "    <tr style=\"text-align: right;\">\n",
       "      <th></th>\n",
       "      <th>date</th>\n",
       "      <th>group</th>\n",
       "      <th>orders</th>\n",
       "      <th>buyers</th>\n",
       "      <th>revenue</th>\n",
       "      <th>visitors</th>\n",
       "    </tr>\n",
       "  </thead>\n",
       "  <tbody>\n",
       "    <tr>\n",
       "      <th>0</th>\n",
       "      <td>2019-08-01</td>\n",
       "      <td>A</td>\n",
       "      <td>24</td>\n",
       "      <td>20</td>\n",
       "      <td>148579</td>\n",
       "      <td>719</td>\n",
       "    </tr>\n",
       "    <tr>\n",
       "      <th>1</th>\n",
       "      <td>2019-08-01</td>\n",
       "      <td>B</td>\n",
       "      <td>21</td>\n",
       "      <td>20</td>\n",
       "      <td>101217</td>\n",
       "      <td>713</td>\n",
       "    </tr>\n",
       "    <tr>\n",
       "      <th>2</th>\n",
       "      <td>2019-08-02</td>\n",
       "      <td>A</td>\n",
       "      <td>44</td>\n",
       "      <td>38</td>\n",
       "      <td>242401</td>\n",
       "      <td>1338</td>\n",
       "    </tr>\n",
       "    <tr>\n",
       "      <th>3</th>\n",
       "      <td>2019-08-02</td>\n",
       "      <td>B</td>\n",
       "      <td>45</td>\n",
       "      <td>43</td>\n",
       "      <td>266748</td>\n",
       "      <td>1294</td>\n",
       "    </tr>\n",
       "    <tr>\n",
       "      <th>4</th>\n",
       "      <td>2019-08-03</td>\n",
       "      <td>A</td>\n",
       "      <td>68</td>\n",
       "      <td>62</td>\n",
       "      <td>354874</td>\n",
       "      <td>1845</td>\n",
       "    </tr>\n",
       "  </tbody>\n",
       "</table>\n",
       "</div>"
      ],
      "text/plain": [
       "        date group  orders  buyers  revenue  visitors\n",
       "0 2019-08-01     A      24      20   148579       719\n",
       "1 2019-08-01     B      21      20   101217       713\n",
       "2 2019-08-02     A      44      38   242401      1338\n",
       "3 2019-08-02     B      45      43   266748      1294\n",
       "4 2019-08-03     A      68      62   354874      1845"
      ]
     },
     "execution_count": 55,
     "metadata": {},
     "output_type": "execute_result"
    }
   ],
   "source": [
    "# merge both tables into one with clear column names\n",
    "cumulativeData = ordersAggregated.merge(visitorsAggregated, left_on=['date', 'group'], right_on=['date', 'group'])\n",
    "cumulativeData.columns = ['date', 'group', 'orders', 'buyers', 'revenue', 'visitors']\n",
    "cumulativeData.head(5)"
   ]
  },
  {
   "cell_type": "code",
   "execution_count": 56,
   "metadata": {},
   "outputs": [
    {
     "data": {
      "image/png": "[encoded data removed]",
      "text/plain": [
       "<Figure size 1500x500 with 1 Axes>"
      ]
     },
     "metadata": {},
     "output_type": "display_data"
    }
   ],
   "source": [
    "# plot cumulative revenue charts by days and A/B test groups\n",
    "# dataframe with cumulative number of orders and cumulative revenue by day in group A\n",
    "cumulativeRevenueA = cumulativeData[cumulativeData['group']=='A'][['date','revenue', 'orders']]\n",
    "# dataframe with cumulative number of orders and cumulative revenue by day in group B\n",
    "cumulativeRevenueB = cumulativeData[cumulativeData['group']=='B'][['date','revenue', 'orders']]\n",
    "# plotting revenue for group A\n",
    "plt.figure(figsize=(15, 5))\n",
    "plt.plot(cumulativeRevenueA['date'], cumulativeRevenueA['revenue'], label='A')\n",
    "# plotting revenue for group B\n",
    "plt.plot(cumulativeRevenueB['date'], cumulativeRevenueB['revenue'], label='B')\n",
    "plt.xlabel('Testing Days')\n",
    "plt.ylabel('Cumulative Revenue')\n",
    "plt.title('Cumulative Revenue by Days and A/B Test Groups')\n",
    "plt.legend() \n",
    "plt.show()"
   ]
  },
  {
   "cell_type": "markdown",
   "metadata": {},
   "source": [
    "Revenue increases steadily throughout the test. In the first week, groups A and B show similar results, but then group B pulls ahead and, after a significant jump, continues a steady growth. This jump is likely caused by a large purchase—an anomaly that we will address later. Revenue for group A also continues to grow, but more steadily without fluctuations."
   ]
  },
  {
   "cell_type": "markdown",
   "metadata": {},
   "source": [
    "Let's build and take a look at the cumulative average check by groups — dividing cumulative revenue by cumulative number of orders"
   ]
  },
  {
   "cell_type": "code",
   "execution_count": 57,
   "metadata": {},
   "outputs": [
    {
     "data": {
      "image/png": "[encoded data removed]",
      "text/plain": [
       "<Figure size 1500x500 with 1 Axes>"
      ]
     },
     "metadata": {},
     "output_type": "display_data"
    }
   ],
   "source": [
    "plt.figure(figsize=(15, 5))\n",
    "plt.plot(cumulativeRevenueA['date'], cumulativeRevenueA['revenue']/cumulativeRevenueA['orders'], label='A')\n",
    "plt.plot(cumulativeRevenueB['date'], cumulativeRevenueB['revenue']/cumulativeRevenueB['orders'], label='B')\n",
    "plt.xlabel('Testing Days')\n",
    "plt.ylabel('Cumulative Average Check')\n",
    "plt.title('Cumulative Average Check by Groups')\n",
    "plt.legend() \n",
    "plt.show()"
   ]
  },
  {
   "cell_type": "markdown",
   "metadata": {},
   "source": [
    "The cumulative average check in the first half of the test shows fluctuations across segments. In group A, the value decreases from 6200 to 4800 during the first few days, while in group B, it increases from 4800 to 6200, which we also observed in the first graph. Later, group B's value spikes sharply due to an unusually large purchase. In the second half of the test, the average check values stabilize and demonstrate steady growth, with group B showing a more pronounced increase than group A."
   ]
  },
  {
   "cell_type": "markdown",
   "metadata": {},
   "source": [
    "Let's plot the graph of the relative change in the cumulative average check of group B to group A."
   ]
  },
  {
   "cell_type": "code",
   "execution_count": 58,
   "metadata": {},
   "outputs": [
    {
     "data": {
      "image/png": "[encoded data removed]",
      "text/plain": [
       "<Figure size 1500x500 with 1 Axes>"
      ]
     },
     "metadata": {},
     "output_type": "display_data"
    }
   ],
   "source": [
    "# Merging data into one dataframe\n",
    "mergedCumulativeRevenue = cumulativeRevenueA.merge(cumulativeRevenueB, left_on='date', right_on='date', how='left', suffixes=['A', 'B'])\n",
    "\n",
    "# Plotting the ratio of average checks\n",
    "plt.figure(figsize=(15, 5))\n",
    "plt.plot(mergedCumulativeRevenue['date'], (mergedCumulativeRevenue['revenueB']/mergedCumulativeRevenue['ordersB'])/(mergedCumulativeRevenue['revenueA']/mergedCumulativeRevenue['ordersA'])-1)\n",
    "\n",
    "# Adding the X-axis\n",
    "plt.axhline(y=0, color='black', linestyle='--')\n",
    "plt.xlabel('Testing Days')\n",
    "plt.ylabel('Relative Change in Cumulative Average Check: Group B to Group A')  \n",
    "plt.title('Graph of Relative Change in Cumulative Average Check: Group B to Group A')\n",
    "plt.show()"
   ]
  },
  {
   "cell_type": "markdown",
   "metadata": {},
   "source": [
    "As with the previous two graphs, significant fluctuations are observed in the first half of the test, while in the second half, the values stabilize relatively."
   ]
  },
  {
   "cell_type": "markdown",
   "metadata": {},
   "source": [
    "Let's plot a graph of the cumulative average number of orders per visitor by group over the days."
   ]
  },
  {
   "cell_type": "code",
   "execution_count": 59,
   "metadata": {},
   "outputs": [
    {
     "data": {
      "image/png": "[encoded data removed]",
      "text/plain": [
       "<Figure size 1500x500 with 1 Axes>"
      ]
     },
     "metadata": {},
     "output_type": "display_data"
    }
   ],
   "source": [
    "# calculate the average number of orders per visitor\n",
    "cumulativeData['conversion'] = cumulativeData['orders']/cumulativeData['visitors']\n",
    "# separate data for group A\n",
    "plt.figure(figsize=(15, 5))\n",
    "cumulativeDataA = cumulativeData[cumulativeData['group']=='A']\n",
    "# separate data for group B\n",
    "cumulativeDataB = cumulativeData[cumulativeData['group']=='B']\n",
    "# plot the graphs\n",
    "plt.plot(cumulativeDataA['date'], cumulativeDataA['conversion'], label='A')\n",
    "plt.plot(cumulativeDataB['date'], cumulativeDataB['conversion'], label='B')\n",
    "# set axis scale\n",
    "plt.axis([dt.datetime(2019, 8, 1), dt.datetime(2019, 8, 31), 0.025,0.04])\n",
    "plt.xlabel('Testing Days')\n",
    "plt.ylabel('Average Number of Orders per Visitor')  \n",
    "plt.title('Graph of Cumulative Average Number of Orders per Visitor by Group over Days')\n",
    "plt.legend()\n",
    "plt.show()"
   ]
  },
  {
   "cell_type": "markdown",
   "metadata": {},
   "source": [
    "At the beginning of the test, the values in both groups change unstably, with strong fluctuations. After the first period of fluctuations, group B consistently outperforms group A, and overall, group B shows better results compared to group A."
   ]
  },
  {
   "cell_type": "markdown",
   "metadata": {},
   "source": [
    "Let's plot the graph of the relative change in the cumulative average number of orders per visitor of group B compared to group A."
   ]
  },
  {
   "cell_type": "markdown",
   "metadata": {},
   "source": []
  },
  {
   "cell_type": "code",
   "execution_count": 60,
   "metadata": {},
   "outputs": [
    {
     "data": {
      "image/png": "[encoded data removed]",
      "text/plain": [
       "<Figure size 1500x500 with 1 Axes>"
      ]
     },
     "metadata": {},
     "output_type": "display_data"
    }
   ],
   "source": [
    "# Merging the data into one dataframe\n",
    "mergedCumulativeConversions = cumulativeDataA[['date','conversion']].merge(cumulativeDataB[['date','conversion']], left_on='date', right_on='date', how='left', suffixes=['A', 'B'])\n",
    "# Plotting the ratio of average number of orders\n",
    "plt.figure(figsize=(15, 5))\n",
    "plt.plot(mergedCumulativeConversions['date'], mergedCumulativeConversions['conversionB']/mergedCumulativeConversions['conversionA']-1, label=\"Relative increase in cumulative average number of orders per visitor in group B compared to group A\")\n",
    "plt.axhline(y=0, color='black', linestyle='--')\n",
    "plt.axhline(y=0.2, color='grey', linestyle='--')\n",
    "plt.xlabel('Test days')\n",
    "plt.ylabel('Relative change in cumulative average number of orders')  \n",
    "plt.title('Graph of relative change in cumulative average number of orders per visitor in group B compared to group A')\n",
    "plt.legend()\n",
    "plt.show()"
   ]
  },
  {
   "cell_type": "markdown",
   "metadata": {},
   "source": [
    "After fluctuations in the first week of the test, group B leads in the metric: it improves over time and then stabilizes around a 20% increase compared to group A."
   ]
  },
  {
   "cell_type": "markdown",
   "metadata": {},
   "source": [
    "Let's create a scatter plot of the number of orders per user."
   ]
  },
  {
   "cell_type": "code",
   "execution_count": 61,
   "metadata": {},
   "outputs": [
    {
     "data": {
      "image/png": "[encoded data removed]",
      "text/plain": [
       "<Figure size 1500x500 with 1 Axes>"
      ]
     },
     "metadata": {},
     "output_type": "display_data"
    }
   ],
   "source": [
    "# count the number of orders per user\n",
    "ordersByUsers = (\n",
    "    orders.groupby('visitorId', as_index=False)\n",
    "    .agg({'transactionId': 'nunique'})\n",
    ")\n",
    "ordersByUsers.columns = ['visitorId', 'orders']\n",
    "# create a scatter plot of the number of orders per user\n",
    "plt.figure(figsize=(15, 5))\n",
    "x_values = pd.Series(range(0, len(ordersByUsers)))\n",
    "plt.scatter(x_values, ordersByUsers['orders'])\n",
    "plt.xlabel('Users')\n",
    "plt.ylabel('Number of orders')  \n",
    "plt.title('Scatter plot of the number of orders per user')\n",
    "plt.show()"
   ]
  },
  {
   "cell_type": "markdown",
   "metadata": {},
   "source": [
    "The majority of users have between 0 and 2 orders. There are also many users with 2 to 4 orders. Their exact proportion is unclear — it's uncertain whether they should be considered anomalies or not. Users with more than 4 orders can also be found."
   ]
  },
  {
   "cell_type": "markdown",
   "metadata": {},
   "source": [
    "Let's calculate the 95th and 99th percentiles of the number of orders per user and try to choose a boundary for identifying anomalous users."
   ]
  },
  {
   "cell_type": "code",
   "execution_count": 62,
   "metadata": {},
   "outputs": [
    {
     "data": {
      "text/plain": [
       "array([1., 2., 4.])"
      ]
     },
     "metadata": {},
     "output_type": "display_data"
    }
   ],
   "source": [
    "display(np.percentile(ordersByUsers['orders'], [90, 95, 99]))"
   ]
  },
  {
   "cell_type": "markdown",
   "metadata": {},
   "source": [
    "No more than 5% of users placed more than 2 orders, and 10% of users ordered more than once. It is reasonable to set the upper limit for the number of orders per user at 2 orders and filter out anomalous users based on this threshold."
   ]
  },
  {
   "cell_type": "markdown",
   "metadata": {},
   "source": [
    "Let's calculate the 95th and 99th percentiles of order value and try to set a threshold for identifying anomalous users."
   ]
  },
  {
   "cell_type": "code",
   "execution_count": 63,
   "metadata": {},
   "outputs": [
    {
     "data": {
      "text/plain": [
       "array([18168. , 28000. , 58233.2])"
      ]
     },
     "metadata": {},
     "output_type": "display_data"
    }
   ],
   "source": [
    "display(np.percentile(orders['revenue'], [90, 95, 99]))"
   ]
  },
  {
   "cell_type": "markdown",
   "metadata": {},
   "source": [
    "No more than 5% of orders exceed 28,000 rubles, and no more than 1% exceed 58,233 rubles. It makes sense to set 28,000 rubles per order as the upper threshold and exclude anomalous users based on that. "
   ]
  },
  {
   "cell_type": "markdown",
   "metadata": {},
   "source": [
    "Let's calculate the statistical significance of the difference in the average number of orders per visitor between the groups based on the \"raw\" data. The significance level is the probability of obtaining a value that is far from the expected value under the null hypothesis in a real observation. Since the metric is quantitative and there are outliers, we will use the Mann-Whitney test to calculate the statistical significance.\n",
    "\n",
    "- H0 = The average number of orders per visitor is the same in both groups.\n",
    "- H1 = The average number of orders per visitor differs between the groups.\n",
    "- Significance level 𝛼 = 0.05"
   ]
  },
  {
   "cell_type": "markdown",
   "metadata": {},
   "source": [
    "Let's prepare the data for calculating the statistical significance."
   ]
  },
  {
   "cell_type": "code",
   "execution_count": 64,
   "metadata": {
    "scrolled": false
   },
   "outputs": [
    {
     "data": {
      "text/html": [
       "<div>\n",
       "<style scoped>\n",
       "    .dataframe tbody tr th:only-of-type {\n",
       "        vertical-align: middle;\n",
       "    }\n",
       "\n",
       "    .dataframe tbody tr th {\n",
       "        vertical-align: top;\n",
       "    }\n",
       "\n",
       "    .dataframe thead th {\n",
       "        text-align: right;\n",
       "    }\n",
       "</style>\n",
       "<table border=\"1\" class=\"dataframe\">\n",
       "  <thead>\n",
       "    <tr style=\"text-align: right;\">\n",
       "      <th></th>\n",
       "      <th>date</th>\n",
       "      <th>ordersPerDateA</th>\n",
       "      <th>revenuePerDateA</th>\n",
       "      <th>ordersPerDateB</th>\n",
       "      <th>revenuePerDateB</th>\n",
       "      <th>ordersCummulativeA</th>\n",
       "      <th>revenueCummulativeA</th>\n",
       "      <th>ordersCummulativeB</th>\n",
       "      <th>revenueCummulativeB</th>\n",
       "      <th>visitorsPerDateA</th>\n",
       "      <th>visitorsPerDateB</th>\n",
       "      <th>visitorsCummulativeA</th>\n",
       "      <th>visitorsCummulativeB</th>\n",
       "    </tr>\n",
       "  </thead>\n",
       "  <tbody>\n",
       "    <tr>\n",
       "      <th>0</th>\n",
       "      <td>2019-08-01</td>\n",
       "      <td>24</td>\n",
       "      <td>148579</td>\n",
       "      <td>21</td>\n",
       "      <td>101217</td>\n",
       "      <td>24</td>\n",
       "      <td>148579</td>\n",
       "      <td>21</td>\n",
       "      <td>101217</td>\n",
       "      <td>719</td>\n",
       "      <td>713</td>\n",
       "      <td>719</td>\n",
       "      <td>713</td>\n",
       "    </tr>\n",
       "    <tr>\n",
       "      <th>1</th>\n",
       "      <td>2019-08-02</td>\n",
       "      <td>20</td>\n",
       "      <td>93822</td>\n",
       "      <td>24</td>\n",
       "      <td>165531</td>\n",
       "      <td>44</td>\n",
       "      <td>242401</td>\n",
       "      <td>45</td>\n",
       "      <td>266748</td>\n",
       "      <td>619</td>\n",
       "      <td>581</td>\n",
       "      <td>1338</td>\n",
       "      <td>1294</td>\n",
       "    </tr>\n",
       "    <tr>\n",
       "      <th>2</th>\n",
       "      <td>2019-08-03</td>\n",
       "      <td>24</td>\n",
       "      <td>112473</td>\n",
       "      <td>16</td>\n",
       "      <td>114248</td>\n",
       "      <td>68</td>\n",
       "      <td>354874</td>\n",
       "      <td>61</td>\n",
       "      <td>380996</td>\n",
       "      <td>507</td>\n",
       "      <td>509</td>\n",
       "      <td>1845</td>\n",
       "      <td>1803</td>\n",
       "    </tr>\n",
       "    <tr>\n",
       "      <th>3</th>\n",
       "      <td>2019-08-04</td>\n",
       "      <td>16</td>\n",
       "      <td>70825</td>\n",
       "      <td>17</td>\n",
       "      <td>108571</td>\n",
       "      <td>84</td>\n",
       "      <td>425699</td>\n",
       "      <td>78</td>\n",
       "      <td>489567</td>\n",
       "      <td>717</td>\n",
       "      <td>770</td>\n",
       "      <td>2562</td>\n",
       "      <td>2573</td>\n",
       "    </tr>\n",
       "    <tr>\n",
       "      <th>4</th>\n",
       "      <td>2019-08-05</td>\n",
       "      <td>25</td>\n",
       "      <td>124218</td>\n",
       "      <td>23</td>\n",
       "      <td>92428</td>\n",
       "      <td>109</td>\n",
       "      <td>549917</td>\n",
       "      <td>101</td>\n",
       "      <td>581995</td>\n",
       "      <td>756</td>\n",
       "      <td>707</td>\n",
       "      <td>3318</td>\n",
       "      <td>3280</td>\n",
       "    </tr>\n",
       "  </tbody>\n",
       "</table>\n",
       "</div>"
      ],
      "text/plain": [
       "        date  ordersPerDateA  revenuePerDateA  ordersPerDateB  \\\n",
       "0 2019-08-01              24           148579              21   \n",
       "1 2019-08-02              20            93822              24   \n",
       "2 2019-08-03              24           112473              16   \n",
       "3 2019-08-04              16            70825              17   \n",
       "4 2019-08-05              25           124218              23   \n",
       "\n",
       "   revenuePerDateB  ordersCummulativeA  revenueCummulativeA  \\\n",
       "0           101217                  24               148579   \n",
       "1           165531                  44               242401   \n",
       "2           114248                  68               354874   \n",
       "3           108571                  84               425699   \n",
       "4            92428                 109               549917   \n",
       "\n",
       "   ordersCummulativeB  revenueCummulativeB  visitorsPerDateA  \\\n",
       "0                  21               101217               719   \n",
       "1                  45               266748               619   \n",
       "2                  61               380996               507   \n",
       "3                  78               489567               717   \n",
       "4                 101               581995               756   \n",
       "\n",
       "   visitorsPerDateB  visitorsCummulativeA  visitorsCummulativeB  \n",
       "0               713                   719                   713  \n",
       "1               581                  1338                  1294  \n",
       "2               509                  1845                  1803  \n",
       "3               770                  2562                  2573  \n",
       "4               707                  3318                  3280  "
      ]
     },
     "execution_count": 64,
     "metadata": {},
     "output_type": "execute_result"
    }
   ],
   "source": [
    "# Calculate the number of users on the selected date in group A\n",
    "visitorsADaily = visitors[visitors['group'] == 'A'][['date', 'visitors']]\n",
    "visitorsADaily.columns = ['date', 'visitorsPerDateA']\n",
    "\n",
    "# Calculate the cumulative number of users up to and including the selected date in group A\n",
    "visitorsACummulative = visitorsADaily.apply(\n",
    "    lambda x: visitorsADaily[visitorsADaily['date'] <= x['date']].agg(\n",
    "        {'date': 'max', 'visitorsPerDateA': 'sum'}\n",
    "    ),\n",
    "    axis=1,\n",
    ")\n",
    "visitorsACummulative.columns = ['date', 'visitorsCummulativeA']\n",
    "\n",
    "# The same for group B\n",
    "visitorsBDaily = visitors[visitors['group'] == 'B'][['date', 'visitors']]\n",
    "visitorsBDaily.columns = ['date', 'visitorsPerDateB']\n",
    "\n",
    "visitorsBCummulative = visitorsBDaily.apply(\n",
    "    lambda x: visitorsBDaily[visitorsBDaily['date'] <= x['date']].agg(\n",
    "        {'date': 'max', 'visitorsPerDateB': 'sum'}\n",
    "    ),\n",
    "    axis=1,\n",
    ")\n",
    "visitorsBCummulative.columns = ['date', 'visitorsCummulativeB']\n",
    "\n",
    "# Calculate the number of orders and total revenue on the selected date in group A\n",
    "ordersADaily = (\n",
    "    orders[orders['group'] == 'A'][['date', 'transactionId', 'visitorId', 'revenue']]\n",
    "    .groupby('date', as_index=False)\n",
    "    .agg({'transactionId': pd.Series.nunique, 'revenue': 'sum'})\n",
    ")\n",
    "ordersADaily.columns = ['date', 'ordersPerDateA', 'revenuePerDateA']\n",
    "\n",
    "# Calculate the cumulative number of orders and total revenue up to and including the selected date in group A\n",
    "ordersACummulative = ordersADaily.apply(\n",
    "    lambda x: ordersADaily[ordersADaily['date'] <= x['date']].agg(\n",
    "        {'date': 'max', 'ordersPerDateA': 'sum', 'revenuePerDateA': 'sum'}\n",
    "    ),\n",
    "    axis=1,\n",
    ").sort_values(by=['date'])\n",
    "ordersACummulative.columns = [\n",
    "    'date',\n",
    "    'ordersCummulativeA',\n",
    "    'revenueCummulativeA',\n",
    "]\n",
    "\n",
    "# The same for group B\n",
    "ordersBDaily = (\n",
    "    orders[orders['group'] == 'B'][['date', 'transactionId', 'visitorId', 'revenue']]\n",
    "    .groupby('date', as_index=False)\n",
    "    .agg({'transactionId': pd.Series.nunique, 'revenue': 'sum'})\n",
    ")\n",
    "ordersBDaily.columns = ['date', 'ordersPerDateB', 'revenuePerDateB']\n",
    "\n",
    "ordersBCummulative = ordersBDaily.apply(\n",
    "    lambda x: ordersBDaily[ordersBDaily['date'] <= x['date']].agg(\n",
    "        {'date': 'max', 'ordersPerDateB': 'sum', 'revenuePerDateB': 'sum'}\n",
    "    ),\n",
    "    axis=1,\n",
    ").sort_values(by=['date'])\n",
    "ordersBCummulative.columns = [\n",
    "    'date',\n",
    "    'ordersCummulativeB',\n",
    "    'revenueCummulativeB',\n",
    "]\n",
    "\n",
    "# Merge all the 8 new datasets into one\n",
    "data = (\n",
    "    ordersADaily.merge(\n",
    "        ordersBDaily, left_on='date', right_on='date', how='left'\n",
    "    )\n",
    "    .merge(ordersACummulative, left_on='date', right_on='date', how='left')\n",
    "    .merge(ordersBCummulative, left_on='date', right_on='date', how='left')\n",
    "    .merge(visitorsADaily, left_on='date', right_on='date', how='left')\n",
    "    .merge(visitorsBDaily, left_on='date', right_on='date', how='left')\n",
    "    .merge(visitorsACummulative, left_on='date', right_on='date', how='left')\n",
    "    .merge(visitorsBCummulative, left_on='date', right_on='date', how='left')\n",
    ")\n",
    "\n",
    "data.head(5)"
   ]
  },
  {
   "cell_type": "markdown",
   "metadata": {},
   "source": [
    "Let's create variables in which we will specify the number of orders made for users who have placed at least one order."
   ]
  },
  {
   "cell_type": "code",
   "execution_count": 65,
   "metadata": {},
   "outputs": [],
   "source": [
    "ordersByUsersA = (\n",
    "    orders[orders['group'] == 'A']\n",
    "    .groupby('visitorId', as_index=False)\n",
    "    .agg({'transactionId': pd.Series.nunique})\n",
    ")\n",
    "ordersByUsersA.columns = ['visitorId', 'orders']\n",
    "\n",
    "ordersByUsersB = (\n",
    "    orders[orders['group'] == 'B']\n",
    "    .groupby('visitorId', as_index=False)\n",
    "    .agg({'transactionId': pd.Series.nunique})\n",
    ")\n",
    "ordersByUsersB.columns = ['visitorId', 'orders'] "
   ]
  },
  {
   "cell_type": "markdown",
   "metadata": {},
   "source": [
    "Let's create variables where users from different groups will correspond to the number of orders. Those who did not place any orders will correspond to zeros."
   ]
  },
  {
   "cell_type": "code",
   "execution_count": 66,
   "metadata": {},
   "outputs": [],
   "source": [
    "sampleA = pd.concat([ordersByUsersA['orders'],pd.Series(0, index=np.arange(data['visitorsPerDateA'].sum() - len(ordersByUsersA['orders'])), name='orders')],axis=0)\n",
    "sampleB = pd.concat([ordersByUsersB['orders'],pd.Series(0, index=np.arange(data['visitorsPerDateB'].sum() - len(ordersByUsersB['orders'])), name='orders')],axis=0)"
   ]
  },
  {
   "cell_type": "markdown",
   "metadata": {},
   "source": [
    "Let's apply the test criterion and format the p-value, rounding it to three decimal places. We will also calculate and display the relative growth of the average number of orders for group B."
   ]
  },
  {
   "cell_type": "code",
   "execution_count": 67,
   "metadata": {},
   "outputs": [
    {
     "data": {
      "text/plain": [
       "'Mann-Whitney p-value: 0.017'"
      ]
     },
     "metadata": {},
     "output_type": "display_data"
    },
    {
     "data": {
      "text/plain": [
       "'Relative growth of the average number of orders for group B to group A: 0.138'"
      ]
     },
     "metadata": {},
     "output_type": "display_data"
    }
   ],
   "source": [
    "display(\"Mann-Whitney p-value: {0:.3f}\".format(stats.mannwhitneyu(sampleA, sampleB)[1]))  # p-value\n",
    "display(\"Relative growth of the average number of orders for group B to group A: {0:.3f}\".format(sampleB.mean() / sampleA.mean() - 1))  # relative growth"
   ]
  },
  {
   "cell_type": "markdown",
   "metadata": {},
   "source": [
    "Based on the \"raw\" data, the null hypothesis of equality in the average number of orders can be rejected, as the p-value is 0.017, which is less than the significance level of 0.05. The relative increase amounts to 13.8%."
   ]
  },
  {
   "cell_type": "markdown",
   "metadata": {},
   "source": [
    "Let us calculate the statistical significance of differences in the average order value between groups based on the \"raw\" data. We will use the same algorithm as before.\n",
    "\n",
    "- H0 = The average order value is the same in both groups.\n",
    "- H1 = The average order value differs between groups.\n",
    "- Significance level 𝛼 = 0.05"
   ]
  },
  {
   "cell_type": "code",
   "execution_count": 68,
   "metadata": {
    "scrolled": true
   },
   "outputs": [
    {
     "data": {
      "text/plain": [
       "'p-value for the Mann-Whitney test: 0.729'"
      ]
     },
     "metadata": {},
     "output_type": "display_data"
    },
    {
     "data": {
      "text/plain": [
       "'Relative increase in the average order value of group B compared to group A: 0.259'"
      ]
     },
     "metadata": {},
     "output_type": "display_data"
    }
   ],
   "source": [
    "display(\"p-value for the Mann-Whitney test: {0:.3f}\".format(stats.mannwhitneyu(orders[orders['group']=='A']['revenue'], orders[orders['group']=='B']['revenue'])[1]))\n",
    "display(\"Relative increase in the average order value of group B compared to group A: {0:.3f}\".format(orders[orders['group']=='B']['revenue'].mean()/orders[orders['group']=='A']['revenue'].mean()-1))"
   ]
  },
  {
   "cell_type": "markdown",
   "metadata": {},
   "source": [
    "The p-value is significantly greater than 0.05. Therefore, there is no reason to reject the null hypothesis and conclude that there are differences in the average order value. However, the average order value of group B is significantly higher than that of group A – by 25.9%."
   ]
  },
  {
   "cell_type": "markdown",
   "metadata": {},
   "source": [
    "Let us calculate the statistical significance of differences in the average number of orders per visitor between groups based on the \"cleaned\" data. We will use the same algorithm as before, but first, we will correct the data."
   ]
  },
  {
   "cell_type": "markdown",
   "metadata": {},
   "source": [
    "We will consider users as anomalous if they made more than 2 orders or placed an order costing more than 25,000 rubles. This way, we will remove 5% of users with the highest number of orders and 1% to 5% of users with expensive orders. We will create slices of users with more than 2 orders — usersWithManyOrders and users who made orders costing more than 25,000 rubles — usersWithExpensiveOrders. Then, we will combine them in the abnormalUsers table."
   ]
  },
  {
   "cell_type": "code",
   "execution_count": 69,
   "metadata": {},
   "outputs": [
    {
     "name": "stderr",
     "output_type": "stream",
     "text": [
      "C:\\Users\\Артемий Иванилов\\AppData\\Local\\Temp\\ipykernel_23500\\1691492580.py:3: DeprecationWarning: Conversion of an array with ndim > 0 to a scalar is deprecated, and will error in future. Ensure you extract a single element from your array before performing this operation. (Deprecated NumPy 1.25.)\n",
      "  ordersByUsersA[ordersByUsersA['orders'] > int(np.percentile(ordersByUsers['orders'], [95]))]['visitorId'],\n",
      "C:\\Users\\Артемий Иванилов\\AppData\\Local\\Temp\\ipykernel_23500\\1691492580.py:4: DeprecationWarning: Conversion of an array with ndim > 0 to a scalar is deprecated, and will error in future. Ensure you extract a single element from your array before performing this operation. (Deprecated NumPy 1.25.)\n",
      "  ordersByUsersB[ordersByUsersB['orders'] > int(np.percentile(ordersByUsers['orders'], [95]))]['visitorId'],\n",
      "C:\\Users\\Артемий Иванилов\\AppData\\Local\\Temp\\ipykernel_23500\\1691492580.py:8: DeprecationWarning: Conversion of an array with ndim > 0 to a scalar is deprecated, and will error in future. Ensure you extract a single element from your array before performing this operation. (Deprecated NumPy 1.25.)\n",
      "  usersWithExpensiveOrders = orders[orders['revenue'] > int(np.percentile(orders['revenue'], [95]))]['visitorId']\n"
     ]
    },
    {
     "data": {
      "text/plain": [
       "1099    148427295\n",
       "18      199603092\n",
       "928     204675465\n",
       "23      237748145\n",
       "37      249864742\n",
       "Name: visitorId, dtype: int64"
      ]
     },
     "metadata": {},
     "output_type": "display_data"
    },
    {
     "data": {
      "text/plain": [
       "74"
      ]
     },
     "metadata": {},
     "output_type": "display_data"
    }
   ],
   "source": [
    "usersWithManyOrders = pd.concat(\n",
    "    [\n",
    "        ordersByUsersA[ordersByUsersA['orders'] > int(np.percentile(ordersByUsers['orders'], [95]))]['visitorId'], \n",
    "        ordersByUsersB[ordersByUsersB['orders'] > int(np.percentile(ordersByUsers['orders'], [95]))]['visitorId'],\n",
    "    ],\n",
    "    axis=0,\n",
    ")\n",
    "usersWithExpensiveOrders = orders[orders['revenue'] > int(np.percentile(orders['revenue'], [95]))]['visitorId']\n",
    "abnormalUsers = (\n",
    "    pd.concat([usersWithManyOrders, usersWithExpensiveOrders], axis=0)\n",
    "    .drop_duplicates()\n",
    "    .sort_values()\n",
    ")\n",
    "display(abnormalUsers.head(5))\n",
    "display(abnormalUsers.shape[0]) "
   ]
  },
  {
   "cell_type": "markdown",
   "metadata": {},
   "source": [
    "In total, there are 74 anomalous users. Let's see how their actions affected the test results. We will calculate the statistical significance of differences in the average number of orders between the test groups based on the cleaned data.\n",
    "\n",
    "- H0 = The average number of orders per visitor is the same in both groups.\n",
    "- H1 = The average number of orders per visitor differs between groups.\n",
    "- Significance level 𝛼 = 0.05"
   ]
  },
  {
   "cell_type": "code",
   "execution_count": 70,
   "metadata": {},
   "outputs": [],
   "source": [
    "sampleAFiltered = pd.concat(\n",
    "    [\n",
    "        ordersByUsersA[\n",
    "            np.logical_not(ordersByUsersA['visitorId'].isin(abnormalUsers))\n",
    "        ]['orders'],\n",
    "        pd.Series(\n",
    "            0,\n",
    "            index=np.arange(\n",
    "                data['visitorsPerDateA'].sum() - len(ordersByUsersA['orders'])\n",
    "            ),\n",
    "            name='orders',\n",
    "        ),\n",
    "    ],\n",
    "    axis=0,\n",
    ")\n",
    "\n",
    "sampleBFiltered = pd.concat(\n",
    "    [\n",
    "        ordersByUsersB[\n",
    "            np.logical_not(ordersByUsersB['visitorId'].isin(abnormalUsers))\n",
    "        ]['orders'],\n",
    "        pd.Series(\n",
    "            0,\n",
    "            index=np.arange(\n",
    "                data['visitorsPerDateB'].sum() - len(ordersByUsersB['orders'])\n",
    "            ),\n",
    "            name='orders',\n",
    "        ),\n",
    "    ],\n",
    "    axis=0,\n",
    ") "
   ]
  },
  {
   "cell_type": "code",
   "execution_count": 71,
   "metadata": {},
   "outputs": [
    {
     "data": {
      "text/plain": [
       "'p-value for the Mann-Whitney test: 0.013'"
      ]
     },
     "metadata": {},
     "output_type": "display_data"
    },
    {
     "data": {
      "text/plain": [
       "'Relative increase in the average number of orders of group B compared to group A: 0.173'"
      ]
     },
     "metadata": {},
     "output_type": "display_data"
    }
   ],
   "source": [
    "display(\"p-value for the Mann-Whitney test: {0:.3f}\".format(stats.mannwhitneyu(sampleAFiltered, sampleBFiltered)[1]))\n",
    "display(\"Relative increase in the average number of orders of group B compared to group A: {0:.3f}\".format(sampleBFiltered.mean()/sampleAFiltered.mean()-1))"
   ]
  },
  {
   "cell_type": "markdown",
   "metadata": {},
   "source": [
    "The results for the average number of orders have hardly changed. Let's calculate the statistical significance of differences in the average order value between groups based on the \"cleaned\" data.\n",
    "\n",
    "- H0 = The average order value is the same in both groups.\n",
    "- H1 = The average order value differs between groups.\n",
    "- Significance level 𝛼 = 0.05"
   ]
  },
  {
   "cell_type": "code",
   "execution_count": 72,
   "metadata": {},
   "outputs": [
    {
     "data": {
      "text/plain": [
       "'p-value for the Mann-Whitney test: 0.738'"
      ]
     },
     "metadata": {},
     "output_type": "display_data"
    },
    {
     "data": {
      "text/plain": [
       "'Relative increase in the average order value of group B compared to group A: -0.020'"
      ]
     },
     "metadata": {},
     "output_type": "display_data"
    }
   ],
   "source": [
    "display(\n",
    "    \"p-value for the Mann-Whitney test: {0:.3f}\".format(\n",
    "        stats.mannwhitneyu(\n",
    "            orders[\n",
    "                np.logical_and(\n",
    "                    orders['group'] == 'A',\n",
    "                    np.logical_not(orders['visitorId'].isin(abnormalUsers)),\n",
    "                )\n",
    "            ]['revenue'],\n",
    "            orders[\n",
    "                np.logical_and(\n",
    "                    orders['group'] == 'B',\n",
    "                    np.logical_not(orders['visitorId'].isin(abnormalUsers)),\n",
    "                )\n",
    "            ]['revenue'],\n",
    "        )[1]\n",
    "    )\n",
    ")\n",
    "\n",
    "display(\n",
    "    \"Relative increase in the average order value of group B compared to group A: {0:.3f}\".format(\n",
    "        orders[\n",
    "            np.logical_and(\n",
    "                orders['group'] == 'B',\n",
    "                np.logical_not(orders['visitorId'].isin(abnormalUsers)),\n",
    "            )\n",
    "        ]['revenue'].mean()\n",
    "        / orders[\n",
    "            np.logical_and(\n",
    "                orders['group'] == 'A',\n",
    "                np.logical_not(orders['visitorId'].isin(abnormalUsers)),\n",
    "            )\n",
    "        ]['revenue'].mean()\n",
    "        - 1\n",
    "    )\n",
    ")"
   ]
  },
  {
   "cell_type": "markdown",
   "metadata": {},
   "source": [
    "The p-value has decreased, but it remains significantly above 0.05. This means there is still no basis for rejecting the null hypothesis and claiming that there are differences in the average order value. A significant change is observed in the relative increase in the average number of orders for group B: now group B shows not an increase, but a decrease relative to group A by 2%."
   ]
  },
  {
   "cell_type": "markdown",
   "metadata": {},
   "source": [
    "Based on the analysis of the A/B test results, the following can be stated:\n",
    "\n",
    "- There is a statistically significant difference between groups A and B in the average number of orders, both based on the raw data and after anomaly filtering. This indicates clear differences in the effectiveness of the groups.\n",
    "- No statistically significant differences in the average order value were found between groups A and B, both on the raw data and after anomaly filtering. This suggests that the average order size remains similar in both groups.\n",
    "- Revenue shows a steady increase throughout the test. During the first week, both groups show comparable results. However, after that, group B begins to outperform group A, and, after a small spike, continues a steady growth. Group A also continues to show revenue growth, but more steadily and without sharp changes.\n",
    "- The conversion difference chart shows that group B performs better compared to group A. Group B's results either show a tendency to grow or have stabilized at a level above the average.\n",
    "- The average order value difference chart fluctuated in the first half of the test but then stabilized at values close to zero, confirming the absence of differences in this metric.\n",
    "\n",
    "Continuing the test is not meaningful since group B statistically outperforms group A in key metrics. The conversion chart confirms the stability of the achieved result. It is recommended to conclude the test, consider it successful, and move on to testing the next hypothesis."
   ]
  },
  {
   "cell_type": "markdown",
   "metadata": {},
   "source": [
    "## Conclusion"
   ]
  },
  {
   "cell_type": "markdown",
   "metadata": {},
   "source": [
    "In the course of the conducted study, hypothesis prioritization was performed using the ICE and RICE frameworks. The analysis was based on data from the file hypothesis.csv. These frameworks allowed for an objective evaluation of each hypothesis’s potential in terms of its impact on key business metrics such as revenue, conversion, and customer base growth.\n",
    "\n",
    "As a result of the analysis, two hypotheses were identified as deserving the most attention and priority implementation, as both ranked in the top 3 of both frameworks:\n",
    "\n",
    "- Add a subscription form to all main pages to build a customer base for email marketing.\n",
    "- Add two new traffic acquisition channels, which will allow attracting 30% more users.\n",
    "\n",
    "To evaluate the effectiveness of the proposed hypotheses for increasing the revenue of the online store, A/B testing was conducted. The experiment was based on data from the files orders.csv and visitors.csv.\n",
    "\n",
    "- There is a statistically significant difference between groups A and B in the average number of orders.\n",
    "- No statistically significant differences in the average order value were found between groups A and B.\n",
    "- Revenue shows a steady increase throughout the test. Group B outperforms group A after the first week of testing.\n",
    "- The conversion difference chart shows that group B performs better compared to group A.\n",
    "- The average order value difference chart fluctuated in the first half of the test but then stabilized at values close to zero, indicating no difference in the average order value between the groups.\n",
    "\n",
    "Based on the obtained data, it can be concluded that continuing the A/B test is not advisable, as group B statistically outperforms group A in key metrics. The test results convincingly show that the changes proposed and tested on group B have a positive impact on the revenue of the online store.\n",
    "\n",
    "It is recommended to conclude the testing, consider it successful, and proceed with implementing the next hypothesis from the priority list."
   ]
  }
 ],
 "metadata": {
  "ExecuteTimeLog": [
   {
    "duration": 72,
    "start_time": "2024-08-08T19:40:11.349Z"
   },
   {
    "duration": 1358,
    "start_time": "2024-08-08T19:43:02.474Z"
   },
   {
    "duration": 162,
    "start_time": "2024-08-08T19:45:19.844Z"
   },
   {
    "duration": 39,
    "start_time": "2024-08-08T19:46:12.385Z"
   },
   {
    "duration": 33,
    "start_time": "2024-08-08T19:49:21.009Z"
   },
   {
    "duration": 11,
    "start_time": "2024-08-08T19:50:43.655Z"
   },
   {
    "duration": 108,
    "start_time": "2024-08-08T19:57:52.149Z"
   },
   {
    "duration": 4,
    "start_time": "2024-08-08T19:57:57.279Z"
   },
   {
    "duration": 14,
    "start_time": "2024-08-08T19:57:59.705Z"
   },
   {
    "duration": 16,
    "start_time": "2024-08-08T19:58:51.115Z"
   },
   {
    "duration": 20,
    "start_time": "2024-08-08T20:06:25.935Z"
   },
   {
    "duration": 12,
    "start_time": "2024-08-08T20:06:35.779Z"
   },
   {
    "duration": 4,
    "start_time": "2024-08-08T20:25:54.416Z"
   },
   {
    "duration": 93,
    "start_time": "2024-08-08T20:27:35.416Z"
   },
   {
    "duration": 33,
    "start_time": "2024-08-08T20:27:42.259Z"
   },
   {
    "duration": 33,
    "start_time": "2024-08-08T20:27:47.625Z"
   },
   {
    "duration": 113,
    "start_time": "2024-08-08T20:28:11.294Z"
   },
   {
    "duration": 3,
    "start_time": "2024-08-08T20:29:13.650Z"
   },
   {
    "duration": 7,
    "start_time": "2024-08-08T20:29:25.720Z"
   },
   {
    "duration": 55,
    "start_time": "2024-08-08T20:29:39.026Z"
   },
   {
    "duration": 46,
    "start_time": "2024-08-08T20:29:52.695Z"
   },
   {
    "duration": 52,
    "start_time": "2024-08-08T20:30:13.850Z"
   },
   {
    "duration": 205,
    "start_time": "2024-08-08T20:35:50.911Z"
   },
   {
    "duration": 45,
    "start_time": "2024-08-08T20:36:27.554Z"
   },
   {
    "duration": 168,
    "start_time": "2024-08-08T20:36:50.570Z"
   },
   {
    "duration": 149,
    "start_time": "2024-08-08T20:37:19.964Z"
   },
   {
    "duration": 13,
    "start_time": "2024-08-08T20:41:30.874Z"
   },
   {
    "duration": 11,
    "start_time": "2024-08-08T20:41:42.330Z"
   },
   {
    "duration": 83,
    "start_time": "2024-08-08T20:41:57.834Z"
   },
   {
    "duration": 14,
    "start_time": "2024-08-08T20:50:27.769Z"
   },
   {
    "duration": 166,
    "start_time": "2024-08-08T20:52:04.274Z"
   },
   {
    "duration": 152,
    "start_time": "2024-08-08T20:53:27.849Z"
   },
   {
    "duration": 173,
    "start_time": "2024-08-08T20:54:05.944Z"
   },
   {
    "duration": 15,
    "start_time": "2024-08-08T20:56:43.669Z"
   },
   {
    "duration": 15,
    "start_time": "2024-08-08T20:56:53.399Z"
   },
   {
    "duration": 78,
    "start_time": "2024-08-08T20:57:14.004Z"
   },
   {
    "duration": 341,
    "start_time": "2024-08-08T20:57:19.544Z"
   },
   {
    "duration": 249,
    "start_time": "2024-08-08T20:57:40.714Z"
   },
   {
    "duration": 22,
    "start_time": "2024-08-08T20:57:42.816Z"
   },
   {
    "duration": 152,
    "start_time": "2024-08-08T20:57:49.545Z"
   },
   {
    "duration": 23,
    "start_time": "2024-08-08T20:59:31.174Z"
   },
   {
    "duration": 4,
    "start_time": "2024-08-08T21:02:02.460Z"
   },
   {
    "duration": 13,
    "start_time": "2024-08-08T21:02:10.574Z"
   },
   {
    "duration": 18,
    "start_time": "2024-08-08T21:02:32.704Z"
   },
   {
    "duration": 15,
    "start_time": "2024-08-08T21:02:40.809Z"
   },
   {
    "duration": 51,
    "start_time": "2024-08-09T07:21:35.092Z"
   },
   {
    "duration": 1370,
    "start_time": "2024-08-09T07:21:43.307Z"
   },
   {
    "duration": 5,
    "start_time": "2024-08-09T07:21:44.679Z"
   },
   {
    "duration": 118,
    "start_time": "2024-08-09T07:21:44.686Z"
   },
   {
    "duration": 4,
    "start_time": "2024-08-09T07:21:44.806Z"
   },
   {
    "duration": 21,
    "start_time": "2024-08-09T07:21:44.811Z"
   },
   {
    "duration": 11,
    "start_time": "2024-08-09T07:21:44.833Z"
   },
   {
    "duration": 83,
    "start_time": "2024-08-09T07:21:44.845Z"
   },
   {
    "duration": 11,
    "start_time": "2024-08-09T07:21:44.929Z"
   },
   {
    "duration": 125,
    "start_time": "2024-08-09T07:21:44.941Z"
   },
   {
    "duration": 12,
    "start_time": "2024-08-09T07:21:45.068Z"
   },
   {
    "duration": 262,
    "start_time": "2024-08-09T07:21:45.082Z"
   },
   {
    "duration": 137,
    "start_time": "2024-08-09T07:21:45.345Z"
   },
   {
    "duration": 24,
    "start_time": "2024-08-09T07:21:45.483Z"
   },
   {
    "duration": 6,
    "start_time": "2024-08-09T07:25:05.777Z"
   },
   {
    "duration": 14,
    "start_time": "2024-08-09T07:30:31.697Z"
   },
   {
    "duration": 14,
    "start_time": "2024-08-09T07:31:40.397Z"
   },
   {
    "duration": 27,
    "start_time": "2024-08-09T07:31:54.298Z"
   },
   {
    "duration": 130,
    "start_time": "2024-08-09T07:32:41.277Z"
   },
   {
    "duration": 240,
    "start_time": "2024-08-09T07:33:55.657Z"
   },
   {
    "duration": 14,
    "start_time": "2024-08-09T07:39:06.578Z"
   },
   {
    "duration": 30,
    "start_time": "2024-08-09T07:39:09.072Z"
   },
   {
    "duration": 235,
    "start_time": "2024-08-09T07:39:14.057Z"
   },
   {
    "duration": 16,
    "start_time": "2024-08-09T07:39:26.437Z"
   },
   {
    "duration": 28,
    "start_time": "2024-08-09T07:39:29.757Z"
   },
   {
    "duration": 237,
    "start_time": "2024-08-09T07:39:32.482Z"
   },
   {
    "duration": 13,
    "start_time": "2024-08-09T07:45:56.608Z"
   },
   {
    "duration": 13,
    "start_time": "2024-08-09T07:47:31.568Z"
   },
   {
    "duration": 299,
    "start_time": "2024-08-09T07:47:43.562Z"
   },
   {
    "duration": 226,
    "start_time": "2024-08-09T07:47:48.578Z"
   },
   {
    "duration": 140,
    "start_time": "2024-08-09T07:48:00.104Z"
   },
   {
    "duration": 292,
    "start_time": "2024-08-09T07:56:12.388Z"
   },
   {
    "duration": 1138,
    "start_time": "2024-08-09T07:56:55.041Z"
   },
   {
    "duration": 5,
    "start_time": "2024-08-09T07:56:56.181Z"
   },
   {
    "duration": 69,
    "start_time": "2024-08-09T07:56:56.187Z"
   },
   {
    "duration": 3,
    "start_time": "2024-08-09T07:56:56.258Z"
   },
   {
    "duration": 44,
    "start_time": "2024-08-09T07:56:56.263Z"
   },
   {
    "duration": 11,
    "start_time": "2024-08-09T07:56:56.309Z"
   },
   {
    "duration": 59,
    "start_time": "2024-08-09T07:56:56.322Z"
   },
   {
    "duration": 290,
    "start_time": "2024-08-09T07:56:56.384Z"
   },
   {
    "duration": 0,
    "start_time": "2024-08-09T07:56:56.676Z"
   },
   {
    "duration": 0,
    "start_time": "2024-08-09T07:56:56.677Z"
   },
   {
    "duration": 0,
    "start_time": "2024-08-09T07:56:56.679Z"
   },
   {
    "duration": 0,
    "start_time": "2024-08-09T07:56:56.680Z"
   },
   {
    "duration": 0,
    "start_time": "2024-08-09T07:56:56.681Z"
   },
   {
    "duration": 0,
    "start_time": "2024-08-09T07:56:56.682Z"
   },
   {
    "duration": 0,
    "start_time": "2024-08-09T07:56:56.683Z"
   },
   {
    "duration": 0,
    "start_time": "2024-08-09T07:56:56.684Z"
   },
   {
    "duration": 201,
    "start_time": "2024-08-09T07:57:22.341Z"
   },
   {
    "duration": 174,
    "start_time": "2024-08-09T07:57:57.367Z"
   },
   {
    "duration": 1166,
    "start_time": "2024-08-09T07:58:53.025Z"
   },
   {
    "duration": 4,
    "start_time": "2024-08-09T07:58:54.193Z"
   },
   {
    "duration": 73,
    "start_time": "2024-08-09T07:58:54.198Z"
   },
   {
    "duration": 3,
    "start_time": "2024-08-09T07:58:54.273Z"
   },
   {
    "duration": 25,
    "start_time": "2024-08-09T07:58:54.278Z"
   },
   {
    "duration": 12,
    "start_time": "2024-08-09T07:58:54.304Z"
   },
   {
    "duration": 46,
    "start_time": "2024-08-09T07:58:54.318Z"
   },
   {
    "duration": 11,
    "start_time": "2024-08-09T07:58:54.366Z"
   },
   {
    "duration": 76,
    "start_time": "2024-08-09T07:58:54.378Z"
   },
   {
    "duration": 10,
    "start_time": "2024-08-09T07:58:54.456Z"
   },
   {
    "duration": 254,
    "start_time": "2024-08-09T07:58:54.467Z"
   },
   {
    "duration": 134,
    "start_time": "2024-08-09T07:58:54.723Z"
   },
   {
    "duration": 6,
    "start_time": "2024-08-09T07:58:54.859Z"
   },
   {
    "duration": 16,
    "start_time": "2024-08-09T07:58:54.868Z"
   },
   {
    "duration": 255,
    "start_time": "2024-08-09T07:58:54.885Z"
   },
   {
    "duration": 146,
    "start_time": "2024-08-09T07:58:55.141Z"
   },
   {
    "duration": 5,
    "start_time": "2024-08-09T08:02:00.472Z"
   },
   {
    "duration": 119,
    "start_time": "2024-08-09T08:02:59.112Z"
   },
   {
    "duration": 163,
    "start_time": "2024-08-09T08:03:41.982Z"
   },
   {
    "duration": 56,
    "start_time": "2024-08-09T08:04:42.176Z"
   },
   {
    "duration": 118,
    "start_time": "2024-08-09T08:05:03.817Z"
   },
   {
    "duration": 13,
    "start_time": "2024-08-09T08:06:07.097Z"
   },
   {
    "duration": 269,
    "start_time": "2024-08-09T08:06:56.606Z"
   },
   {
    "duration": 272,
    "start_time": "2024-08-09T08:07:08.852Z"
   },
   {
    "duration": 256,
    "start_time": "2024-08-09T08:07:15.920Z"
   },
   {
    "duration": 195,
    "start_time": "2024-08-09T08:08:20.332Z"
   },
   {
    "duration": 63,
    "start_time": "2024-08-09T08:08:29.487Z"
   },
   {
    "duration": 210,
    "start_time": "2024-08-09T08:08:40.312Z"
   },
   {
    "duration": 77,
    "start_time": "2024-08-09T08:15:18.476Z"
   },
   {
    "duration": 209,
    "start_time": "2024-08-09T08:16:22.266Z"
   },
   {
    "duration": 272,
    "start_time": "2024-08-09T08:24:48.351Z"
   },
   {
    "duration": 299,
    "start_time": "2024-08-09T08:24:54.576Z"
   },
   {
    "duration": 173,
    "start_time": "2024-08-09T08:31:34.977Z"
   },
   {
    "duration": 200,
    "start_time": "2024-08-09T08:32:00.993Z"
   },
   {
    "duration": 166,
    "start_time": "2024-08-09T08:32:44.682Z"
   },
   {
    "duration": 192,
    "start_time": "2024-08-09T08:32:50.701Z"
   },
   {
    "duration": 218,
    "start_time": "2024-08-09T08:33:17.221Z"
   },
   {
    "duration": 279,
    "start_time": "2024-08-09T08:33:35.744Z"
   },
   {
    "duration": 192,
    "start_time": "2024-08-09T08:33:44.791Z"
   },
   {
    "duration": 189,
    "start_time": "2024-08-09T08:33:55.510Z"
   },
   {
    "duration": 200,
    "start_time": "2024-08-09T08:34:10.495Z"
   },
   {
    "duration": 322,
    "start_time": "2024-08-09T08:41:36.001Z"
   },
   {
    "duration": 338,
    "start_time": "2024-08-09T08:42:08.704Z"
   },
   {
    "duration": 297,
    "start_time": "2024-08-09T08:43:27.656Z"
   },
   {
    "duration": 116,
    "start_time": "2024-08-09T09:01:30.596Z"
   },
   {
    "duration": 140,
    "start_time": "2024-08-09T09:01:40.731Z"
   },
   {
    "duration": 4,
    "start_time": "2024-08-09T09:09:55.980Z"
   },
   {
    "duration": 5,
    "start_time": "2024-08-09T09:09:58.281Z"
   },
   {
    "duration": 5,
    "start_time": "2024-08-09T09:24:38.295Z"
   },
   {
    "duration": 158,
    "start_time": "2024-08-09T09:40:27.100Z"
   },
   {
    "duration": 12,
    "start_time": "2024-08-09T09:42:35.826Z"
   },
   {
    "duration": 112,
    "start_time": "2024-08-09T09:52:30.027Z"
   },
   {
    "duration": 218,
    "start_time": "2024-08-09T09:53:32.543Z"
   },
   {
    "duration": 223,
    "start_time": "2024-08-09T09:57:26.018Z"
   },
   {
    "duration": 1186,
    "start_time": "2024-08-09T09:57:37.792Z"
   },
   {
    "duration": 5,
    "start_time": "2024-08-09T09:57:38.980Z"
   },
   {
    "duration": 59,
    "start_time": "2024-08-09T09:57:38.986Z"
   },
   {
    "duration": 3,
    "start_time": "2024-08-09T09:57:39.047Z"
   },
   {
    "duration": 15,
    "start_time": "2024-08-09T09:57:39.052Z"
   },
   {
    "duration": 16,
    "start_time": "2024-08-09T09:57:39.068Z"
   },
   {
    "duration": 38,
    "start_time": "2024-08-09T09:57:39.085Z"
   },
   {
    "duration": 11,
    "start_time": "2024-08-09T09:57:39.124Z"
   },
   {
    "duration": 99,
    "start_time": "2024-08-09T09:57:39.137Z"
   },
   {
    "duration": 13,
    "start_time": "2024-08-09T09:57:39.238Z"
   },
   {
    "duration": 255,
    "start_time": "2024-08-09T09:57:39.252Z"
   },
   {
    "duration": 131,
    "start_time": "2024-08-09T09:57:39.508Z"
   },
   {
    "duration": 5,
    "start_time": "2024-08-09T09:57:39.641Z"
   },
   {
    "duration": 13,
    "start_time": "2024-08-09T09:57:39.647Z"
   },
   {
    "duration": 250,
    "start_time": "2024-08-09T09:57:39.661Z"
   },
   {
    "duration": 143,
    "start_time": "2024-08-09T09:57:39.913Z"
   },
   {
    "duration": 5,
    "start_time": "2024-08-09T09:57:40.057Z"
   },
   {
    "duration": 197,
    "start_time": "2024-08-09T09:57:40.064Z"
   },
   {
    "duration": 121,
    "start_time": "2024-08-09T09:57:40.263Z"
   },
   {
    "duration": 23,
    "start_time": "2024-08-09T09:57:40.385Z"
   },
   {
    "duration": 291,
    "start_time": "2024-08-09T09:57:40.410Z"
   },
   {
    "duration": 220,
    "start_time": "2024-08-09T09:57:40.702Z"
   },
   {
    "duration": 371,
    "start_time": "2024-08-09T09:57:40.923Z"
   },
   {
    "duration": 207,
    "start_time": "2024-08-09T09:57:41.295Z"
   },
   {
    "duration": 353,
    "start_time": "2024-08-09T09:57:41.503Z"
   },
   {
    "duration": 140,
    "start_time": "2024-08-09T09:57:41.858Z"
   },
   {
    "duration": 9,
    "start_time": "2024-08-09T09:57:42.000Z"
   },
   {
    "duration": 25,
    "start_time": "2024-08-09T09:57:42.012Z"
   },
   {
    "duration": 230,
    "start_time": "2024-08-09T09:57:42.038Z"
   },
   {
    "duration": 132,
    "start_time": "2024-08-09T09:57:42.269Z"
   },
   {
    "duration": 7,
    "start_time": "2024-08-09T09:57:42.403Z"
   },
   {
    "duration": 28,
    "start_time": "2024-08-09T10:02:57.366Z"
   },
   {
    "duration": 10,
    "start_time": "2024-08-09T10:09:51.048Z"
   },
   {
    "duration": 11,
    "start_time": "2024-08-09T10:10:08.536Z"
   },
   {
    "duration": 9,
    "start_time": "2024-08-09T10:18:19.512Z"
   },
   {
    "duration": 8,
    "start_time": "2024-08-09T10:21:42.957Z"
   },
   {
    "duration": 11,
    "start_time": "2024-08-09T10:22:04.326Z"
   },
   {
    "duration": 27,
    "start_time": "2024-08-09T10:22:22.476Z"
   },
   {
    "duration": 15,
    "start_time": "2024-08-09T10:23:56.951Z"
   },
   {
    "duration": 1128,
    "start_time": "2024-08-10T04:46:05.885Z"
   },
   {
    "duration": 4,
    "start_time": "2024-08-10T04:46:07.015Z"
   },
   {
    "duration": 103,
    "start_time": "2024-08-10T04:46:07.020Z"
   },
   {
    "duration": 3,
    "start_time": "2024-08-10T04:46:07.125Z"
   },
   {
    "duration": 28,
    "start_time": "2024-08-10T04:46:07.130Z"
   },
   {
    "duration": 12,
    "start_time": "2024-08-10T04:46:07.160Z"
   },
   {
    "duration": 93,
    "start_time": "2024-08-10T04:46:07.174Z"
   },
   {
    "duration": 13,
    "start_time": "2024-08-10T04:46:07.269Z"
   },
   {
    "duration": 122,
    "start_time": "2024-08-10T04:46:07.284Z"
   },
   {
    "duration": 12,
    "start_time": "2024-08-10T04:46:07.407Z"
   },
   {
    "duration": 232,
    "start_time": "2024-08-10T04:46:07.421Z"
   },
   {
    "duration": 133,
    "start_time": "2024-08-10T04:46:07.655Z"
   },
   {
    "duration": 4,
    "start_time": "2024-08-10T04:46:07.790Z"
   },
   {
    "duration": 13,
    "start_time": "2024-08-10T04:46:07.797Z"
   },
   {
    "duration": 260,
    "start_time": "2024-08-10T04:46:07.811Z"
   },
   {
    "duration": 136,
    "start_time": "2024-08-10T04:46:08.073Z"
   },
   {
    "duration": 6,
    "start_time": "2024-08-10T04:46:08.211Z"
   },
   {
    "duration": 177,
    "start_time": "2024-08-10T04:46:08.218Z"
   },
   {
    "duration": 119,
    "start_time": "2024-08-10T04:46:08.397Z"
   },
   {
    "duration": 12,
    "start_time": "2024-08-10T04:46:08.518Z"
   },
   {
    "duration": 347,
    "start_time": "2024-08-10T04:46:08.531Z"
   },
   {
    "duration": 207,
    "start_time": "2024-08-10T04:46:08.880Z"
   },
   {
    "duration": 256,
    "start_time": "2024-08-10T04:46:09.089Z"
   },
   {
    "duration": 263,
    "start_time": "2024-08-10T04:46:09.352Z"
   },
   {
    "duration": 336,
    "start_time": "2024-08-10T04:46:09.617Z"
   },
   {
    "duration": 143,
    "start_time": "2024-08-10T04:46:09.955Z"
   },
   {
    "duration": 5,
    "start_time": "2024-08-10T04:46:10.100Z"
   },
   {
    "duration": 35,
    "start_time": "2024-08-10T04:46:10.106Z"
   },
   {
    "duration": 218,
    "start_time": "2024-08-10T04:46:10.143Z"
   },
   {
    "duration": 133,
    "start_time": "2024-08-10T04:46:10.362Z"
   },
   {
    "duration": 6,
    "start_time": "2024-08-10T04:46:10.497Z"
   },
   {
    "duration": 138,
    "start_time": "2024-08-10T04:46:10.504Z"
   },
   {
    "duration": 11,
    "start_time": "2024-08-10T04:46:10.643Z"
   },
   {
    "duration": 11,
    "start_time": "2024-08-10T04:46:10.655Z"
   },
   {
    "duration": 7,
    "start_time": "2024-08-10T04:46:10.668Z"
   },
   {
    "duration": 27,
    "start_time": "2024-08-10T04:46:10.677Z"
   },
   {
    "duration": 14,
    "start_time": "2024-08-10T04:46:10.706Z"
   },
   {
    "duration": 1115,
    "start_time": "2024-08-10T05:04:37.189Z"
   },
   {
    "duration": 5,
    "start_time": "2024-08-10T05:04:38.307Z"
   },
   {
    "duration": 66,
    "start_time": "2024-08-10T05:04:38.314Z"
   },
   {
    "duration": 3,
    "start_time": "2024-08-10T05:04:38.381Z"
   },
   {
    "duration": 14,
    "start_time": "2024-08-10T05:04:38.387Z"
   },
   {
    "duration": 11,
    "start_time": "2024-08-10T05:04:38.402Z"
   },
   {
    "duration": 51,
    "start_time": "2024-08-10T05:04:38.415Z"
   },
   {
    "duration": 11,
    "start_time": "2024-08-10T05:04:38.467Z"
   },
   {
    "duration": 65,
    "start_time": "2024-08-10T05:04:38.480Z"
   },
   {
    "duration": 11,
    "start_time": "2024-08-10T05:04:38.546Z"
   },
   {
    "duration": 232,
    "start_time": "2024-08-10T05:04:38.558Z"
   },
   {
    "duration": 127,
    "start_time": "2024-08-10T05:04:38.791Z"
   },
   {
    "duration": 4,
    "start_time": "2024-08-10T05:04:38.920Z"
   },
   {
    "duration": 27,
    "start_time": "2024-08-10T05:04:38.927Z"
   },
   {
    "duration": 239,
    "start_time": "2024-08-10T05:04:38.955Z"
   },
   {
    "duration": 139,
    "start_time": "2024-08-10T05:04:39.195Z"
   },
   {
    "duration": 6,
    "start_time": "2024-08-10T05:04:39.335Z"
   },
   {
    "duration": 162,
    "start_time": "2024-08-10T05:04:39.352Z"
   },
   {
    "duration": 117,
    "start_time": "2024-08-10T05:04:39.516Z"
   },
   {
    "duration": 20,
    "start_time": "2024-08-10T05:04:39.634Z"
   },
   {
    "duration": 281,
    "start_time": "2024-08-10T05:04:39.655Z"
   },
   {
    "duration": 204,
    "start_time": "2024-08-10T05:04:39.938Z"
   },
   {
    "duration": 299,
    "start_time": "2024-08-10T05:04:40.144Z"
   },
   {
    "duration": 272,
    "start_time": "2024-08-10T05:04:40.445Z"
   },
   {
    "duration": 340,
    "start_time": "2024-08-10T05:04:40.719Z"
   },
   {
    "duration": 135,
    "start_time": "2024-08-10T05:04:41.060Z"
   },
   {
    "duration": 5,
    "start_time": "2024-08-10T05:04:41.196Z"
   },
   {
    "duration": 16,
    "start_time": "2024-08-10T05:04:41.203Z"
   },
   {
    "duration": 232,
    "start_time": "2024-08-10T05:04:41.221Z"
   },
   {
    "duration": 134,
    "start_time": "2024-08-10T05:04:41.455Z"
   },
   {
    "duration": 6,
    "start_time": "2024-08-10T05:04:41.591Z"
   },
   {
    "duration": 28,
    "start_time": "2024-08-10T05:04:41.598Z"
   },
   {
    "duration": 31,
    "start_time": "2024-08-10T05:04:41.627Z"
   },
   {
    "duration": 12,
    "start_time": "2024-08-10T05:04:41.659Z"
   },
   {
    "duration": 21,
    "start_time": "2024-08-10T05:04:41.673Z"
   },
   {
    "duration": 27,
    "start_time": "2024-08-10T05:04:41.695Z"
   },
   {
    "duration": 36,
    "start_time": "2024-08-10T05:04:41.724Z"
   },
   {
    "duration": 44,
    "start_time": "2024-08-10T06:52:41.430Z"
   },
   {
    "duration": 1168,
    "start_time": "2024-08-10T06:52:52.755Z"
   },
   {
    "duration": 4,
    "start_time": "2024-08-10T06:52:53.925Z"
   },
   {
    "duration": 116,
    "start_time": "2024-08-10T06:52:53.930Z"
   },
   {
    "duration": 2,
    "start_time": "2024-08-10T06:52:54.048Z"
   },
   {
    "duration": 105,
    "start_time": "2024-08-10T06:52:54.051Z"
   },
   {
    "duration": 0,
    "start_time": "2024-08-10T06:52:54.158Z"
   },
   {
    "duration": 0,
    "start_time": "2024-08-10T06:52:54.159Z"
   },
   {
    "duration": 0,
    "start_time": "2024-08-10T06:52:54.160Z"
   },
   {
    "duration": 0,
    "start_time": "2024-08-10T06:52:54.161Z"
   },
   {
    "duration": 0,
    "start_time": "2024-08-10T06:52:54.162Z"
   },
   {
    "duration": 0,
    "start_time": "2024-08-10T06:52:54.162Z"
   },
   {
    "duration": 0,
    "start_time": "2024-08-10T06:52:54.163Z"
   },
   {
    "duration": 0,
    "start_time": "2024-08-10T06:52:54.164Z"
   },
   {
    "duration": 0,
    "start_time": "2024-08-10T06:52:54.165Z"
   },
   {
    "duration": 0,
    "start_time": "2024-08-10T06:52:54.165Z"
   },
   {
    "duration": 0,
    "start_time": "2024-08-10T06:52:54.166Z"
   },
   {
    "duration": 0,
    "start_time": "2024-08-10T06:52:54.167Z"
   },
   {
    "duration": 0,
    "start_time": "2024-08-10T06:52:54.168Z"
   },
   {
    "duration": 0,
    "start_time": "2024-08-10T06:52:54.169Z"
   },
   {
    "duration": 0,
    "start_time": "2024-08-10T06:52:54.170Z"
   },
   {
    "duration": 0,
    "start_time": "2024-08-10T06:52:54.170Z"
   },
   {
    "duration": 0,
    "start_time": "2024-08-10T06:52:54.171Z"
   },
   {
    "duration": 0,
    "start_time": "2024-08-10T06:52:54.172Z"
   },
   {
    "duration": 0,
    "start_time": "2024-08-10T06:52:54.173Z"
   },
   {
    "duration": 0,
    "start_time": "2024-08-10T06:52:54.174Z"
   },
   {
    "duration": 0,
    "start_time": "2024-08-10T06:52:54.174Z"
   },
   {
    "duration": 0,
    "start_time": "2024-08-10T06:52:54.175Z"
   },
   {
    "duration": 0,
    "start_time": "2024-08-10T06:52:54.176Z"
   },
   {
    "duration": 0,
    "start_time": "2024-08-10T06:52:54.202Z"
   },
   {
    "duration": 0,
    "start_time": "2024-08-10T06:52:54.202Z"
   },
   {
    "duration": 0,
    "start_time": "2024-08-10T06:52:54.203Z"
   },
   {
    "duration": 0,
    "start_time": "2024-08-10T06:52:54.204Z"
   },
   {
    "duration": 0,
    "start_time": "2024-08-10T06:52:54.205Z"
   },
   {
    "duration": 0,
    "start_time": "2024-08-10T06:52:54.205Z"
   },
   {
    "duration": 0,
    "start_time": "2024-08-10T06:52:54.206Z"
   },
   {
    "duration": 0,
    "start_time": "2024-08-10T06:52:54.207Z"
   },
   {
    "duration": 0,
    "start_time": "2024-08-10T06:52:54.208Z"
   },
   {
    "duration": 15,
    "start_time": "2024-08-10T06:54:25.105Z"
   },
   {
    "duration": 1053,
    "start_time": "2024-08-10T06:55:23.144Z"
   },
   {
    "duration": 1050,
    "start_time": "2024-08-10T06:55:42.404Z"
   },
   {
    "duration": 3,
    "start_time": "2024-08-10T06:55:43.456Z"
   },
   {
    "duration": 107,
    "start_time": "2024-08-10T06:55:43.460Z"
   },
   {
    "duration": 107,
    "start_time": "2024-08-10T06:55:43.569Z"
   },
   {
    "duration": 23,
    "start_time": "2024-08-10T06:55:43.677Z"
   },
   {
    "duration": 1086,
    "start_time": "2024-08-10T06:55:43.701Z"
   },
   {
    "duration": 0,
    "start_time": "2024-08-10T06:55:44.790Z"
   },
   {
    "duration": 0,
    "start_time": "2024-08-10T06:55:44.791Z"
   },
   {
    "duration": 0,
    "start_time": "2024-08-10T06:55:44.792Z"
   },
   {
    "duration": 0,
    "start_time": "2024-08-10T06:55:44.794Z"
   },
   {
    "duration": 0,
    "start_time": "2024-08-10T06:55:44.795Z"
   },
   {
    "duration": 0,
    "start_time": "2024-08-10T06:55:44.796Z"
   },
   {
    "duration": 0,
    "start_time": "2024-08-10T06:55:44.798Z"
   },
   {
    "duration": 0,
    "start_time": "2024-08-10T06:55:44.799Z"
   },
   {
    "duration": 0,
    "start_time": "2024-08-10T06:55:44.800Z"
   },
   {
    "duration": 0,
    "start_time": "2024-08-10T06:55:44.802Z"
   },
   {
    "duration": 0,
    "start_time": "2024-08-10T06:55:44.803Z"
   },
   {
    "duration": 0,
    "start_time": "2024-08-10T06:55:44.804Z"
   },
   {
    "duration": 1,
    "start_time": "2024-08-10T06:55:44.805Z"
   },
   {
    "duration": 0,
    "start_time": "2024-08-10T06:55:44.806Z"
   },
   {
    "duration": 0,
    "start_time": "2024-08-10T06:55:44.808Z"
   },
   {
    "duration": 0,
    "start_time": "2024-08-10T06:55:44.809Z"
   },
   {
    "duration": 0,
    "start_time": "2024-08-10T06:55:44.811Z"
   },
   {
    "duration": 0,
    "start_time": "2024-08-10T06:55:44.812Z"
   },
   {
    "duration": 0,
    "start_time": "2024-08-10T06:55:44.813Z"
   },
   {
    "duration": 0,
    "start_time": "2024-08-10T06:55:44.814Z"
   },
   {
    "duration": 0,
    "start_time": "2024-08-10T06:55:44.815Z"
   },
   {
    "duration": 0,
    "start_time": "2024-08-10T06:55:44.816Z"
   },
   {
    "duration": 0,
    "start_time": "2024-08-10T06:55:44.817Z"
   },
   {
    "duration": 0,
    "start_time": "2024-08-10T06:55:44.818Z"
   },
   {
    "duration": 0,
    "start_time": "2024-08-10T06:55:44.819Z"
   },
   {
    "duration": 0,
    "start_time": "2024-08-10T06:55:44.820Z"
   },
   {
    "duration": 0,
    "start_time": "2024-08-10T06:55:44.821Z"
   },
   {
    "duration": 0,
    "start_time": "2024-08-10T06:55:44.822Z"
   },
   {
    "duration": 0,
    "start_time": "2024-08-10T06:55:44.823Z"
   },
   {
    "duration": 0,
    "start_time": "2024-08-10T06:55:44.824Z"
   },
   {
    "duration": 0,
    "start_time": "2024-08-10T06:55:44.825Z"
   },
   {
    "duration": 9,
    "start_time": "2024-08-10T06:55:59.705Z"
   },
   {
    "duration": 10,
    "start_time": "2024-08-10T06:56:03.884Z"
   },
   {
    "duration": 9,
    "start_time": "2024-08-10T06:56:09.525Z"
   },
   {
    "duration": 99,
    "start_time": "2024-08-10T07:01:10.485Z"
   },
   {
    "duration": 11,
    "start_time": "2024-08-10T07:01:15.344Z"
   },
   {
    "duration": 122,
    "start_time": "2024-08-10T07:01:20.260Z"
   },
   {
    "duration": 9,
    "start_time": "2024-08-10T07:04:30.015Z"
   },
   {
    "duration": 7,
    "start_time": "2024-08-10T07:04:34.459Z"
   },
   {
    "duration": 6,
    "start_time": "2024-08-10T07:04:44.005Z"
   },
   {
    "duration": 6,
    "start_time": "2024-08-10T07:08:57.387Z"
   },
   {
    "duration": 5,
    "start_time": "2024-08-10T07:13:34.284Z"
   },
   {
    "duration": 142,
    "start_time": "2024-08-10T07:13:36.419Z"
   },
   {
    "duration": 101,
    "start_time": "2024-08-10T07:13:38.880Z"
   },
   {
    "duration": 13,
    "start_time": "2024-08-10T07:13:40.259Z"
   },
   {
    "duration": 225,
    "start_time": "2024-08-10T07:18:11.924Z"
   },
   {
    "duration": 172,
    "start_time": "2024-08-10T07:19:57.760Z"
   },
   {
    "duration": 175,
    "start_time": "2024-08-10T07:22:44.664Z"
   },
   {
    "duration": 290,
    "start_time": "2024-08-10T07:25:15.589Z"
   },
   {
    "duration": 296,
    "start_time": "2024-08-10T07:26:00.610Z"
   },
   {
    "duration": 188,
    "start_time": "2024-08-10T07:27:16.504Z"
   },
   {
    "duration": 352,
    "start_time": "2024-08-10T07:29:23.400Z"
   },
   {
    "duration": 102,
    "start_time": "2024-08-10T07:29:37.904Z"
   },
   {
    "duration": 175,
    "start_time": "2024-08-10T07:31:42.010Z"
   },
   {
    "duration": 116,
    "start_time": "2024-08-10T07:32:08.885Z"
   },
   {
    "duration": 128,
    "start_time": "2024-08-10T07:33:45.005Z"
   },
   {
    "duration": 4,
    "start_time": "2024-08-10T07:35:22.064Z"
   },
   {
    "duration": 173,
    "start_time": "2024-08-10T07:37:06.445Z"
   },
   {
    "duration": 140,
    "start_time": "2024-08-10T07:43:58.600Z"
   },
   {
    "duration": 5,
    "start_time": "2024-08-10T07:44:01.145Z"
   },
   {
    "duration": 20,
    "start_time": "2024-08-10T07:44:38.544Z"
   },
   {
    "duration": 20,
    "start_time": "2024-08-10T07:45:02.224Z"
   },
   {
    "duration": 19,
    "start_time": "2024-08-10T07:46:20.524Z"
   },
   {
    "duration": 21,
    "start_time": "2024-08-10T07:47:30.519Z"
   },
   {
    "duration": 19,
    "start_time": "2024-08-10T07:47:35.789Z"
   },
   {
    "duration": 9,
    "start_time": "2024-08-10T07:48:09.289Z"
   },
   {
    "duration": 10,
    "start_time": "2024-08-10T07:50:02.199Z"
   },
   {
    "duration": 9,
    "start_time": "2024-08-10T07:50:08.639Z"
   },
   {
    "duration": 9,
    "start_time": "2024-08-10T07:50:35.604Z"
   },
   {
    "duration": 8,
    "start_time": "2024-08-10T07:50:44.934Z"
   },
   {
    "duration": 8,
    "start_time": "2024-08-10T07:50:48.484Z"
   },
   {
    "duration": 10,
    "start_time": "2024-08-10T07:52:11.604Z"
   },
   {
    "duration": 6,
    "start_time": "2024-08-10T07:52:45.904Z"
   },
   {
    "duration": 7,
    "start_time": "2024-08-10T07:52:59.134Z"
   },
   {
    "duration": 19,
    "start_time": "2024-08-10T07:54:45.384Z"
   },
   {
    "duration": 14,
    "start_time": "2024-08-10T07:55:44.412Z"
   },
   {
    "duration": 1055,
    "start_time": "2024-08-10T08:00:13.582Z"
   },
   {
    "duration": 4,
    "start_time": "2024-08-10T08:00:14.639Z"
   },
   {
    "duration": 62,
    "start_time": "2024-08-10T08:00:14.644Z"
   },
   {
    "duration": 3,
    "start_time": "2024-08-10T08:00:14.708Z"
   },
   {
    "duration": 19,
    "start_time": "2024-08-10T08:00:14.712Z"
   },
   {
    "duration": 17,
    "start_time": "2024-08-10T08:00:14.732Z"
   },
   {
    "duration": 75,
    "start_time": "2024-08-10T08:00:14.750Z"
   },
   {
    "duration": 10,
    "start_time": "2024-08-10T08:00:14.826Z"
   },
   {
    "duration": 67,
    "start_time": "2024-08-10T08:00:14.837Z"
   },
   {
    "duration": 10,
    "start_time": "2024-08-10T08:00:14.905Z"
   },
   {
    "duration": 12,
    "start_time": "2024-08-10T08:00:14.917Z"
   },
   {
    "duration": 6,
    "start_time": "2024-08-10T08:00:14.930Z"
   },
   {
    "duration": 183,
    "start_time": "2024-08-10T08:00:14.937Z"
   },
   {
    "duration": 117,
    "start_time": "2024-08-10T08:00:15.123Z"
   },
   {
    "duration": 12,
    "start_time": "2024-08-10T08:00:15.242Z"
   },
   {
    "duration": 281,
    "start_time": "2024-08-10T08:00:15.256Z"
   },
   {
    "duration": 190,
    "start_time": "2024-08-10T08:00:15.539Z"
   },
   {
    "duration": 289,
    "start_time": "2024-08-10T08:00:15.730Z"
   },
   {
    "duration": 189,
    "start_time": "2024-08-10T08:00:16.021Z"
   },
   {
    "duration": 322,
    "start_time": "2024-08-10T08:00:16.211Z"
   },
   {
    "duration": 132,
    "start_time": "2024-08-10T08:00:16.534Z"
   },
   {
    "duration": 5,
    "start_time": "2024-08-10T08:00:16.668Z"
   },
   {
    "duration": 7,
    "start_time": "2024-08-10T08:00:16.675Z"
   },
   {
    "duration": 201,
    "start_time": "2024-08-10T08:00:16.683Z"
   },
   {
    "duration": 127,
    "start_time": "2024-08-10T08:00:16.885Z"
   },
   {
    "duration": 4,
    "start_time": "2024-08-10T08:00:17.013Z"
   },
   {
    "duration": 26,
    "start_time": "2024-08-10T08:00:17.018Z"
   },
   {
    "duration": 11,
    "start_time": "2024-08-10T08:00:17.045Z"
   },
   {
    "duration": 12,
    "start_time": "2024-08-10T08:00:17.058Z"
   },
   {
    "duration": 12,
    "start_time": "2024-08-10T08:00:17.071Z"
   },
   {
    "duration": 34,
    "start_time": "2024-08-10T08:00:17.084Z"
   },
   {
    "duration": 19,
    "start_time": "2024-08-10T08:00:17.119Z"
   },
   {
    "duration": 1343,
    "start_time": "2024-08-11T02:23:35.091Z"
   },
   {
    "duration": 4,
    "start_time": "2024-08-11T02:23:36.437Z"
   },
   {
    "duration": 111,
    "start_time": "2024-08-11T02:23:36.452Z"
   },
   {
    "duration": 3,
    "start_time": "2024-08-11T02:23:36.565Z"
   },
   {
    "duration": 28,
    "start_time": "2024-08-11T02:23:36.571Z"
   },
   {
    "duration": 19,
    "start_time": "2024-08-11T02:23:36.600Z"
   },
   {
    "duration": 138,
    "start_time": "2024-08-11T02:23:36.621Z"
   },
   {
    "duration": 13,
    "start_time": "2024-08-11T02:23:36.760Z"
   },
   {
    "duration": 132,
    "start_time": "2024-08-11T02:23:36.775Z"
   },
   {
    "duration": 12,
    "start_time": "2024-08-11T02:23:36.908Z"
   },
   {
    "duration": 21,
    "start_time": "2024-08-11T02:23:36.922Z"
   },
   {
    "duration": 7,
    "start_time": "2024-08-11T02:23:36.944Z"
   },
   {
    "duration": 167,
    "start_time": "2024-08-11T02:23:36.952Z"
   },
   {
    "duration": 151,
    "start_time": "2024-08-11T02:23:37.122Z"
   },
   {
    "duration": 13,
    "start_time": "2024-08-11T02:23:37.275Z"
   },
   {
    "duration": 352,
    "start_time": "2024-08-11T02:23:37.290Z"
   },
   {
    "duration": 226,
    "start_time": "2024-08-11T02:23:37.644Z"
   },
   {
    "duration": 396,
    "start_time": "2024-08-11T02:23:37.872Z"
   },
   {
    "duration": 238,
    "start_time": "2024-08-11T02:23:38.270Z"
   },
   {
    "duration": 372,
    "start_time": "2024-08-11T02:23:38.510Z"
   },
   {
    "duration": 151,
    "start_time": "2024-08-11T02:23:38.884Z"
   },
   {
    "duration": 5,
    "start_time": "2024-08-11T02:23:39.036Z"
   },
   {
    "duration": 13,
    "start_time": "2024-08-11T02:23:39.043Z"
   },
   {
    "duration": 247,
    "start_time": "2024-08-11T02:23:39.058Z"
   },
   {
    "duration": 138,
    "start_time": "2024-08-11T02:23:39.307Z"
   },
   {
    "duration": 9,
    "start_time": "2024-08-11T02:23:39.447Z"
   },
   {
    "duration": 46,
    "start_time": "2024-08-11T02:23:39.458Z"
   },
   {
    "duration": 13,
    "start_time": "2024-08-11T02:23:39.506Z"
   },
   {
    "duration": 13,
    "start_time": "2024-08-11T02:23:39.521Z"
   },
   {
    "duration": 9,
    "start_time": "2024-08-11T02:23:39.553Z"
   },
   {
    "duration": 78,
    "start_time": "2024-08-11T02:23:39.563Z"
   },
   {
    "duration": 16,
    "start_time": "2024-08-11T02:23:39.642Z"
   },
   {
    "duration": 1114,
    "start_time": "2024-08-11T02:30:22.591Z"
   },
   {
    "duration": 4,
    "start_time": "2024-08-11T02:30:23.707Z"
   },
   {
    "duration": 57,
    "start_time": "2024-08-11T02:30:23.713Z"
   },
   {
    "duration": 3,
    "start_time": "2024-08-11T02:30:23.772Z"
   },
   {
    "duration": 27,
    "start_time": "2024-08-11T02:30:23.777Z"
   },
   {
    "duration": 13,
    "start_time": "2024-08-11T02:30:23.806Z"
   },
   {
    "duration": 39,
    "start_time": "2024-08-11T02:30:23.821Z"
   },
   {
    "duration": 10,
    "start_time": "2024-08-11T02:30:23.862Z"
   },
   {
    "duration": 64,
    "start_time": "2024-08-11T02:30:23.874Z"
   },
   {
    "duration": 12,
    "start_time": "2024-08-11T02:30:23.939Z"
   },
   {
    "duration": 24,
    "start_time": "2024-08-11T02:30:23.952Z"
   },
   {
    "duration": 9,
    "start_time": "2024-08-11T02:30:23.978Z"
   },
   {
    "duration": 165,
    "start_time": "2024-08-11T02:30:23.988Z"
   },
   {
    "duration": 131,
    "start_time": "2024-08-11T02:30:24.156Z"
   },
   {
    "duration": 13,
    "start_time": "2024-08-11T02:30:24.289Z"
   },
   {
    "duration": 309,
    "start_time": "2024-08-11T02:30:24.303Z"
   },
   {
    "duration": 206,
    "start_time": "2024-08-11T02:30:24.614Z"
   },
   {
    "duration": 357,
    "start_time": "2024-08-11T02:30:24.822Z"
   },
   {
    "duration": 228,
    "start_time": "2024-08-11T02:30:25.180Z"
   },
   {
    "duration": 364,
    "start_time": "2024-08-11T02:30:25.410Z"
   },
   {
    "duration": 153,
    "start_time": "2024-08-11T02:30:25.775Z"
   },
   {
    "duration": 6,
    "start_time": "2024-08-11T02:30:25.930Z"
   },
   {
    "duration": 22,
    "start_time": "2024-08-11T02:30:25.937Z"
   },
   {
    "duration": 239,
    "start_time": "2024-08-11T02:30:25.960Z"
   },
   {
    "duration": 138,
    "start_time": "2024-08-11T02:30:26.201Z"
   },
   {
    "duration": 12,
    "start_time": "2024-08-11T02:30:26.341Z"
   },
   {
    "duration": 27,
    "start_time": "2024-08-11T02:30:26.355Z"
   },
   {
    "duration": 62,
    "start_time": "2024-08-11T02:30:26.384Z"
   },
   {
    "duration": 30,
    "start_time": "2024-08-11T02:30:26.447Z"
   },
   {
    "duration": 8,
    "start_time": "2024-08-11T02:30:26.478Z"
   },
   {
    "duration": 28,
    "start_time": "2024-08-11T02:30:26.487Z"
   },
   {
    "duration": 16,
    "start_time": "2024-08-11T02:30:26.516Z"
   }
  ],
  "kernelspec": {
   "display_name": "Python 3",
   "language": "python",
   "name": "python3"
  },
  "language_info": {
   "codemirror_mode": {
    "name": "ipython",
    "version": 3
   },
   "file_extension": ".py",
   "mimetype": "text/x-python",
   "name": "python",
   "nbconvert_exporter": "python",
   "pygments_lexer": "ipython3",
   "version": "3.13.1"
  },
  "toc": {
   "base_numbering": 1,
   "nav_menu": {},
   "number_sections": true,
   "sideBar": true,
   "skip_h1_title": true,
   "title_cell": "Table of Contents",
   "title_sidebar": "Contents",
   "toc_cell": false,
   "toc_position": {},
   "toc_section_display": true,
   "toc_window_display": false
  }
 },
 "nbformat": 4,
 "nbformat_minor": 2
}
