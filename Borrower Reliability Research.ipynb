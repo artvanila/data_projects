{
 "cells": [
  {
   "cell_type": "markdown",
   "id": "386f2ae7",
   "metadata": {
    "deletable": false,
    "editable": false,
    "id": "386f2ae7"
   },
   "source": [
    "# Borrower Reliability Research\n"
   ]
  },
  {
   "cell_type": "markdown",
   "id": "26613308",
   "metadata": {
    "deletable": false,
    "editable": false,
    "id": "26613308"
   },
   "source": [
    "## Let's open the table and examine the general information about the data"
   ]
  },
  {
   "cell_type": "code",
   "execution_count": 1,
   "id": "77a68a90",
   "metadata": {
    "deletable": false,
    "id": "77a68a90"
   },
   "outputs": [],
   "source": [
    "import pandas as pd"
   ]
  },
  {
   "cell_type": "code",
   "execution_count": null,
   "id": "c2e2afac",
   "metadata": {},
   "outputs": [],
   "source": [
    "try:\n",
    "    data = pd.read_csv('/datasets/data.csv')\n",
    "except:\n",
    "    data = pd.read_csv('https://code.s3.yandex.net/datasets/data.csv')"
   ]
  },
  {
   "cell_type": "code",
   "execution_count": 2,
   "id": "b0451a9a",
   "metadata": {
    "deletable": false,
    "id": "b0451a9a",
    "outputId": "1a8f3ef2-d323-4ec2-ddf7-89670b5944c4"
   },
   "outputs": [
    {
     "data": {
      "text/html": [
       "<div>\n",
       "<style scoped>\n",
       "    .dataframe tbody tr th:only-of-type {\n",
       "        vertical-align: middle;\n",
       "    }\n",
       "\n",
       "    .dataframe tbody tr th {\n",
       "        vertical-align: top;\n",
       "    }\n",
       "\n",
       "    .dataframe thead th {\n",
       "        text-align: right;\n",
       "    }\n",
       "</style>\n",
       "<table border=\"1\" class=\"dataframe\">\n",
       "  <thead>\n",
       "    <tr style=\"text-align: right;\">\n",
       "      <th></th>\n",
       "      <th>children</th>\n",
       "      <th>days_employed</th>\n",
       "      <th>dob_years</th>\n",
       "      <th>education</th>\n",
       "      <th>education_id</th>\n",
       "      <th>family_status</th>\n",
       "      <th>family_status_id</th>\n",
       "      <th>gender</th>\n",
       "      <th>income_type</th>\n",
       "      <th>debt</th>\n",
       "      <th>total_income</th>\n",
       "      <th>purpose</th>\n",
       "    </tr>\n",
       "  </thead>\n",
       "  <tbody>\n",
       "    <tr>\n",
       "      <th>0</th>\n",
       "      <td>1</td>\n",
       "      <td>-8437.673028</td>\n",
       "      <td>42</td>\n",
       "      <td>высшее</td>\n",
       "      <td>0</td>\n",
       "      <td>женат / замужем</td>\n",
       "      <td>0</td>\n",
       "      <td>F</td>\n",
       "      <td>сотрудник</td>\n",
       "      <td>0</td>\n",
       "      <td>253875.639453</td>\n",
       "      <td>покупка жилья</td>\n",
       "    </tr>\n",
       "    <tr>\n",
       "      <th>1</th>\n",
       "      <td>1</td>\n",
       "      <td>-4024.803754</td>\n",
       "      <td>36</td>\n",
       "      <td>среднее</td>\n",
       "      <td>1</td>\n",
       "      <td>женат / замужем</td>\n",
       "      <td>0</td>\n",
       "      <td>F</td>\n",
       "      <td>сотрудник</td>\n",
       "      <td>0</td>\n",
       "      <td>112080.014102</td>\n",
       "      <td>приобретение автомобиля</td>\n",
       "    </tr>\n",
       "    <tr>\n",
       "      <th>2</th>\n",
       "      <td>0</td>\n",
       "      <td>-5623.422610</td>\n",
       "      <td>33</td>\n",
       "      <td>Среднее</td>\n",
       "      <td>1</td>\n",
       "      <td>женат / замужем</td>\n",
       "      <td>0</td>\n",
       "      <td>M</td>\n",
       "      <td>сотрудник</td>\n",
       "      <td>0</td>\n",
       "      <td>145885.952297</td>\n",
       "      <td>покупка жилья</td>\n",
       "    </tr>\n",
       "    <tr>\n",
       "      <th>3</th>\n",
       "      <td>3</td>\n",
       "      <td>-4124.747207</td>\n",
       "      <td>32</td>\n",
       "      <td>среднее</td>\n",
       "      <td>1</td>\n",
       "      <td>женат / замужем</td>\n",
       "      <td>0</td>\n",
       "      <td>M</td>\n",
       "      <td>сотрудник</td>\n",
       "      <td>0</td>\n",
       "      <td>267628.550329</td>\n",
       "      <td>дополнительное образование</td>\n",
       "    </tr>\n",
       "    <tr>\n",
       "      <th>4</th>\n",
       "      <td>0</td>\n",
       "      <td>340266.072047</td>\n",
       "      <td>53</td>\n",
       "      <td>среднее</td>\n",
       "      <td>1</td>\n",
       "      <td>гражданский брак</td>\n",
       "      <td>1</td>\n",
       "      <td>F</td>\n",
       "      <td>пенсионер</td>\n",
       "      <td>0</td>\n",
       "      <td>158616.077870</td>\n",
       "      <td>сыграть свадьбу</td>\n",
       "    </tr>\n",
       "    <tr>\n",
       "      <th>5</th>\n",
       "      <td>0</td>\n",
       "      <td>-926.185831</td>\n",
       "      <td>27</td>\n",
       "      <td>высшее</td>\n",
       "      <td>0</td>\n",
       "      <td>гражданский брак</td>\n",
       "      <td>1</td>\n",
       "      <td>M</td>\n",
       "      <td>компаньон</td>\n",
       "      <td>0</td>\n",
       "      <td>255763.565419</td>\n",
       "      <td>покупка жилья</td>\n",
       "    </tr>\n",
       "    <tr>\n",
       "      <th>6</th>\n",
       "      <td>0</td>\n",
       "      <td>-2879.202052</td>\n",
       "      <td>43</td>\n",
       "      <td>высшее</td>\n",
       "      <td>0</td>\n",
       "      <td>женат / замужем</td>\n",
       "      <td>0</td>\n",
       "      <td>F</td>\n",
       "      <td>компаньон</td>\n",
       "      <td>0</td>\n",
       "      <td>240525.971920</td>\n",
       "      <td>операции с жильем</td>\n",
       "    </tr>\n",
       "    <tr>\n",
       "      <th>7</th>\n",
       "      <td>0</td>\n",
       "      <td>-152.779569</td>\n",
       "      <td>50</td>\n",
       "      <td>СРЕДНЕЕ</td>\n",
       "      <td>1</td>\n",
       "      <td>женат / замужем</td>\n",
       "      <td>0</td>\n",
       "      <td>M</td>\n",
       "      <td>сотрудник</td>\n",
       "      <td>0</td>\n",
       "      <td>135823.934197</td>\n",
       "      <td>образование</td>\n",
       "    </tr>\n",
       "    <tr>\n",
       "      <th>8</th>\n",
       "      <td>2</td>\n",
       "      <td>-6929.865299</td>\n",
       "      <td>35</td>\n",
       "      <td>ВЫСШЕЕ</td>\n",
       "      <td>0</td>\n",
       "      <td>гражданский брак</td>\n",
       "      <td>1</td>\n",
       "      <td>F</td>\n",
       "      <td>сотрудник</td>\n",
       "      <td>0</td>\n",
       "      <td>95856.832424</td>\n",
       "      <td>на проведение свадьбы</td>\n",
       "    </tr>\n",
       "    <tr>\n",
       "      <th>9</th>\n",
       "      <td>0</td>\n",
       "      <td>-2188.756445</td>\n",
       "      <td>41</td>\n",
       "      <td>среднее</td>\n",
       "      <td>1</td>\n",
       "      <td>женат / замужем</td>\n",
       "      <td>0</td>\n",
       "      <td>M</td>\n",
       "      <td>сотрудник</td>\n",
       "      <td>0</td>\n",
       "      <td>144425.938277</td>\n",
       "      <td>покупка жилья для семьи</td>\n",
       "    </tr>\n",
       "    <tr>\n",
       "      <th>10</th>\n",
       "      <td>2</td>\n",
       "      <td>-4171.483647</td>\n",
       "      <td>36</td>\n",
       "      <td>высшее</td>\n",
       "      <td>0</td>\n",
       "      <td>женат / замужем</td>\n",
       "      <td>0</td>\n",
       "      <td>M</td>\n",
       "      <td>компаньон</td>\n",
       "      <td>0</td>\n",
       "      <td>113943.491460</td>\n",
       "      <td>покупка недвижимости</td>\n",
       "    </tr>\n",
       "    <tr>\n",
       "      <th>11</th>\n",
       "      <td>0</td>\n",
       "      <td>-792.701887</td>\n",
       "      <td>40</td>\n",
       "      <td>среднее</td>\n",
       "      <td>1</td>\n",
       "      <td>женат / замужем</td>\n",
       "      <td>0</td>\n",
       "      <td>F</td>\n",
       "      <td>сотрудник</td>\n",
       "      <td>0</td>\n",
       "      <td>77069.234271</td>\n",
       "      <td>покупка коммерческой недвижимости</td>\n",
       "    </tr>\n",
       "    <tr>\n",
       "      <th>12</th>\n",
       "      <td>0</td>\n",
       "      <td>NaN</td>\n",
       "      <td>65</td>\n",
       "      <td>среднее</td>\n",
       "      <td>1</td>\n",
       "      <td>гражданский брак</td>\n",
       "      <td>1</td>\n",
       "      <td>M</td>\n",
       "      <td>пенсионер</td>\n",
       "      <td>0</td>\n",
       "      <td>NaN</td>\n",
       "      <td>сыграть свадьбу</td>\n",
       "    </tr>\n",
       "    <tr>\n",
       "      <th>13</th>\n",
       "      <td>0</td>\n",
       "      <td>-1846.641941</td>\n",
       "      <td>54</td>\n",
       "      <td>неоконченное высшее</td>\n",
       "      <td>2</td>\n",
       "      <td>женат / замужем</td>\n",
       "      <td>0</td>\n",
       "      <td>F</td>\n",
       "      <td>сотрудник</td>\n",
       "      <td>0</td>\n",
       "      <td>130458.228857</td>\n",
       "      <td>приобретение автомобиля</td>\n",
       "    </tr>\n",
       "    <tr>\n",
       "      <th>14</th>\n",
       "      <td>0</td>\n",
       "      <td>-1844.956182</td>\n",
       "      <td>56</td>\n",
       "      <td>высшее</td>\n",
       "      <td>0</td>\n",
       "      <td>гражданский брак</td>\n",
       "      <td>1</td>\n",
       "      <td>F</td>\n",
       "      <td>компаньон</td>\n",
       "      <td>1</td>\n",
       "      <td>165127.911772</td>\n",
       "      <td>покупка жилой недвижимости</td>\n",
       "    </tr>\n",
       "    <tr>\n",
       "      <th>15</th>\n",
       "      <td>1</td>\n",
       "      <td>-972.364419</td>\n",
       "      <td>26</td>\n",
       "      <td>среднее</td>\n",
       "      <td>1</td>\n",
       "      <td>женат / замужем</td>\n",
       "      <td>0</td>\n",
       "      <td>F</td>\n",
       "      <td>сотрудник</td>\n",
       "      <td>0</td>\n",
       "      <td>116820.904450</td>\n",
       "      <td>строительство собственной недвижимости</td>\n",
       "    </tr>\n",
       "    <tr>\n",
       "      <th>16</th>\n",
       "      <td>0</td>\n",
       "      <td>-1719.934226</td>\n",
       "      <td>35</td>\n",
       "      <td>среднее</td>\n",
       "      <td>1</td>\n",
       "      <td>женат / замужем</td>\n",
       "      <td>0</td>\n",
       "      <td>F</td>\n",
       "      <td>сотрудник</td>\n",
       "      <td>0</td>\n",
       "      <td>289202.704229</td>\n",
       "      <td>недвижимость</td>\n",
       "    </tr>\n",
       "    <tr>\n",
       "      <th>17</th>\n",
       "      <td>0</td>\n",
       "      <td>-2369.999720</td>\n",
       "      <td>33</td>\n",
       "      <td>высшее</td>\n",
       "      <td>0</td>\n",
       "      <td>гражданский брак</td>\n",
       "      <td>1</td>\n",
       "      <td>M</td>\n",
       "      <td>сотрудник</td>\n",
       "      <td>0</td>\n",
       "      <td>90410.586745</td>\n",
       "      <td>строительство недвижимости</td>\n",
       "    </tr>\n",
       "    <tr>\n",
       "      <th>18</th>\n",
       "      <td>0</td>\n",
       "      <td>400281.136913</td>\n",
       "      <td>53</td>\n",
       "      <td>среднее</td>\n",
       "      <td>1</td>\n",
       "      <td>вдовец / вдова</td>\n",
       "      <td>2</td>\n",
       "      <td>F</td>\n",
       "      <td>пенсионер</td>\n",
       "      <td>0</td>\n",
       "      <td>56823.777243</td>\n",
       "      <td>на покупку подержанного автомобиля</td>\n",
       "    </tr>\n",
       "    <tr>\n",
       "      <th>19</th>\n",
       "      <td>0</td>\n",
       "      <td>-10038.818549</td>\n",
       "      <td>48</td>\n",
       "      <td>СРЕДНЕЕ</td>\n",
       "      <td>1</td>\n",
       "      <td>в разводе</td>\n",
       "      <td>3</td>\n",
       "      <td>F</td>\n",
       "      <td>сотрудник</td>\n",
       "      <td>0</td>\n",
       "      <td>242831.107982</td>\n",
       "      <td>на покупку своего автомобиля</td>\n",
       "    </tr>\n",
       "  </tbody>\n",
       "</table>\n",
       "</div>"
      ],
      "text/plain": [
       "    children  days_employed  dob_years            education  education_id  \\\n",
       "0          1   -8437.673028         42               высшее             0   \n",
       "1          1   -4024.803754         36              среднее             1   \n",
       "2          0   -5623.422610         33              Среднее             1   \n",
       "3          3   -4124.747207         32              среднее             1   \n",
       "4          0  340266.072047         53              среднее             1   \n",
       "5          0    -926.185831         27               высшее             0   \n",
       "6          0   -2879.202052         43               высшее             0   \n",
       "7          0    -152.779569         50              СРЕДНЕЕ             1   \n",
       "8          2   -6929.865299         35               ВЫСШЕЕ             0   \n",
       "9          0   -2188.756445         41              среднее             1   \n",
       "10         2   -4171.483647         36               высшее             0   \n",
       "11         0    -792.701887         40              среднее             1   \n",
       "12         0            NaN         65              среднее             1   \n",
       "13         0   -1846.641941         54  неоконченное высшее             2   \n",
       "14         0   -1844.956182         56               высшее             0   \n",
       "15         1    -972.364419         26              среднее             1   \n",
       "16         0   -1719.934226         35              среднее             1   \n",
       "17         0   -2369.999720         33               высшее             0   \n",
       "18         0  400281.136913         53              среднее             1   \n",
       "19         0  -10038.818549         48              СРЕДНЕЕ             1   \n",
       "\n",
       "       family_status  family_status_id gender income_type  debt  \\\n",
       "0    женат / замужем                 0      F   сотрудник     0   \n",
       "1    женат / замужем                 0      F   сотрудник     0   \n",
       "2    женат / замужем                 0      M   сотрудник     0   \n",
       "3    женат / замужем                 0      M   сотрудник     0   \n",
       "4   гражданский брак                 1      F   пенсионер     0   \n",
       "5   гражданский брак                 1      M   компаньон     0   \n",
       "6    женат / замужем                 0      F   компаньон     0   \n",
       "7    женат / замужем                 0      M   сотрудник     0   \n",
       "8   гражданский брак                 1      F   сотрудник     0   \n",
       "9    женат / замужем                 0      M   сотрудник     0   \n",
       "10   женат / замужем                 0      M   компаньон     0   \n",
       "11   женат / замужем                 0      F   сотрудник     0   \n",
       "12  гражданский брак                 1      M   пенсионер     0   \n",
       "13   женат / замужем                 0      F   сотрудник     0   \n",
       "14  гражданский брак                 1      F   компаньон     1   \n",
       "15   женат / замужем                 0      F   сотрудник     0   \n",
       "16   женат / замужем                 0      F   сотрудник     0   \n",
       "17  гражданский брак                 1      M   сотрудник     0   \n",
       "18    вдовец / вдова                 2      F   пенсионер     0   \n",
       "19         в разводе                 3      F   сотрудник     0   \n",
       "\n",
       "     total_income                                 purpose  \n",
       "0   253875.639453                           покупка жилья  \n",
       "1   112080.014102                 приобретение автомобиля  \n",
       "2   145885.952297                           покупка жилья  \n",
       "3   267628.550329              дополнительное образование  \n",
       "4   158616.077870                         сыграть свадьбу  \n",
       "5   255763.565419                           покупка жилья  \n",
       "6   240525.971920                       операции с жильем  \n",
       "7   135823.934197                             образование  \n",
       "8    95856.832424                   на проведение свадьбы  \n",
       "9   144425.938277                 покупка жилья для семьи  \n",
       "10  113943.491460                    покупка недвижимости  \n",
       "11   77069.234271       покупка коммерческой недвижимости  \n",
       "12            NaN                         сыграть свадьбу  \n",
       "13  130458.228857                 приобретение автомобиля  \n",
       "14  165127.911772              покупка жилой недвижимости  \n",
       "15  116820.904450  строительство собственной недвижимости  \n",
       "16  289202.704229                            недвижимость  \n",
       "17   90410.586745              строительство недвижимости  \n",
       "18   56823.777243      на покупку подержанного автомобиля  \n",
       "19  242831.107982            на покупку своего автомобиля  "
      ]
     },
     "execution_count": 2,
     "metadata": {},
     "output_type": "execute_result"
    }
   ],
   "source": [
    "data.head(20)"
   ]
  },
  {
   "cell_type": "code",
   "execution_count": 3,
   "id": "ab3f863b",
   "metadata": {
    "deletable": false,
    "id": "ab3f863b",
    "outputId": "15376089-8dad-46c9-b520-c05248d43158"
   },
   "outputs": [
    {
     "name": "stdout",
     "output_type": "stream",
     "text": [
      "<class 'pandas.core.frame.DataFrame'>\n",
      "RangeIndex: 21525 entries, 0 to 21524\n",
      "Data columns (total 12 columns):\n",
      " #   Column            Non-Null Count  Dtype  \n",
      "---  ------            --------------  -----  \n",
      " 0   children          21525 non-null  int64  \n",
      " 1   days_employed     19351 non-null  float64\n",
      " 2   dob_years         21525 non-null  int64  \n",
      " 3   education         21525 non-null  object \n",
      " 4   education_id      21525 non-null  int64  \n",
      " 5   family_status     21525 non-null  object \n",
      " 6   family_status_id  21525 non-null  int64  \n",
      " 7   gender            21525 non-null  object \n",
      " 8   income_type       21525 non-null  object \n",
      " 9   debt              21525 non-null  int64  \n",
      " 10  total_income      19351 non-null  float64\n",
      " 11  purpose           21525 non-null  object \n",
      "dtypes: float64(2), int64(5), object(5)\n",
      "memory usage: 2.0+ MB\n"
     ]
    }
   ],
   "source": [
    "data.info()"
   ]
  },
  {
   "cell_type": "markdown",
   "id": "60e3e22d",
   "metadata": {
    "deletable": false,
    "editable": false,
    "id": "60e3e22d"
   },
   "source": [
    "## Data Preprocessing"
   ]
  },
  {
   "cell_type": "markdown",
   "id": "03dc170c",
   "metadata": {
    "deletable": false,
    "editable": false,
    "id": "03dc170c"
   },
   "source": [
    "### Removing missing values"
   ]
  },
  {
   "cell_type": "code",
   "execution_count": 4,
   "id": "2dc372b2",
   "metadata": {
    "deletable": false,
    "id": "2dc372b2",
    "outputId": "81f4d817-781c-465c-ed15-91ce4446810d"
   },
   "outputs": [
    {
     "data": {
      "text/plain": [
       "children               0\n",
       "days_employed       2174\n",
       "dob_years              0\n",
       "education              0\n",
       "education_id           0\n",
       "family_status          0\n",
       "family_status_id       0\n",
       "gender                 0\n",
       "income_type            0\n",
       "debt                   0\n",
       "total_income        2174\n",
       "purpose                0\n",
       "dtype: int64"
      ]
     },
     "execution_count": 4,
     "metadata": {},
     "output_type": "execute_result"
    }
   ],
   "source": [
    "data.isna().sum()"
   ]
  },
  {
   "cell_type": "markdown",
   "id": "14f011b1",
   "metadata": {
    "deletable": false,
    "editable": false,
    "id": "14f011b1"
   },
   "source": [
    "There are missing values in two columns. One of them is days_employed. You will handle the missing values in this column in the next step. The other column with missing values is total_income, which contains data about income. The income amount is most strongly influenced by the type of employment, so the missing values in this column should be filled with the median value for each employment type from the income_type column. For example, for a person with the employment type employee, the missing value in the total_income column should be filled with the median income among all records with the same employment type."
   ]
  },
  {
   "cell_type": "code",
   "execution_count": 5,
   "id": "bdabfb6e",
   "metadata": {
    "deletable": false,
    "id": "bdabfb6e"
   },
   "outputs": [],
   "source": [
    "for t in data['income_type'].unique():\n",
    "    data.loc[(data['income_type'] == t) & (data['total_income'].isna()), 'total_income'] = \\\n",
    "    data.loc[(data['income_type'] == t), 'total_income'].median()"
   ]
  },
  {
   "cell_type": "markdown",
   "id": "5be34059",
   "metadata": {
    "deletable": false,
    "editable": false,
    "id": "5be34059"
   },
   "source": [
    "### Handling outlier values"
   ]
  },
  {
   "cell_type": "markdown",
   "id": "a87606cb",
   "metadata": {
    "deletable": false,
    "editable": false,
    "id": "a87606cb"
   },
   "source": [
    "There may be artifacts (outliers) in the data—values that do not reflect reality and were caused by some error. One such artifact could be a negative number of days worked in the days_employed column. This is not normal for real data. Handle the values in this column by replacing all negative values with positive ones using the abs() method."
   ]
  },
  {
   "cell_type": "code",
   "execution_count": 6,
   "id": "020c46cc",
   "metadata": {
    "deletable": false,
    "id": "020c46cc"
   },
   "outputs": [],
   "source": [
    "data['days_employed'] = data['days_employed'].abs()"
   ]
  },
  {
   "cell_type": "markdown",
   "id": "45538a3a",
   "metadata": {
    "deletable": false,
    "editable": false,
    "id": "45538a3a"
   },
   "source": [
    "For each employment type, display the median value of the work experience days_employed in days."
   ]
  },
  {
   "cell_type": "code",
   "execution_count": 7,
   "id": "cd3e6328",
   "metadata": {
    "deletable": false,
    "id": "cd3e6328",
    "outputId": "801ef80e-522b-4668-f34e-565af7432bcf"
   },
   "outputs": [
    {
     "data": {
      "text/plain": [
       "income_type\n",
       "безработный        366413.652744\n",
       "в декрете            3296.759962\n",
       "госслужащий          2689.368353\n",
       "компаньон            1547.382223\n",
       "пенсионер          365213.306266\n",
       "предприниматель       520.848083\n",
       "сотрудник            1574.202821\n",
       "студент               578.751554\n",
       "Name: days_employed, dtype: float64"
      ]
     },
     "execution_count": 7,
     "metadata": {},
     "output_type": "execute_result"
    }
   ],
   "source": [
    "data.groupby('income_type')['days_employed'].agg('median')"
   ]
  },
  {
   "cell_type": "markdown",
   "id": "90c5f058",
   "metadata": {
    "deletable": false,
    "editable": false,
    "id": "90c5f058"
   },
   "source": [
    "For two types (unemployed and retirees), the values will be abnormally large. It is difficult to correct such values, so leave them as they are."
   ]
  },
  {
   "cell_type": "markdown",
   "id": "9652e50d",
   "metadata": {
    "deletable": false,
    "editable": false,
    "id": "9652e50d"
   },
   "source": [
    "Let's display the list of unique values in the children column."
   ]
  },
  {
   "cell_type": "code",
   "execution_count": 8,
   "id": "dbb37b8e",
   "metadata": {
    "deletable": false,
    "id": "dbb37b8e",
    "outputId": "6975b15c-7f95-4697-d16d-a0c79b657b03"
   },
   "outputs": [
    {
     "data": {
      "text/plain": [
       "array([ 1,  0,  3,  2, -1,  4, 20,  5])"
      ]
     },
     "execution_count": 8,
     "metadata": {},
     "output_type": "execute_result"
    }
   ],
   "source": [
    "data['children'].unique()"
   ]
  },
  {
   "cell_type": "markdown",
   "id": "2b8b0715",
   "metadata": {
    "deletable": false,
    "editable": false,
    "id": "2b8b0715"
   },
   "source": [
    "There are two anomalous values in the children column. Remove the rows containing these anomalous values from the data dataframe."
   ]
  },
  {
   "cell_type": "code",
   "execution_count": 9,
   "id": "20009df8",
   "metadata": {
    "deletable": false,
    "id": "20009df8"
   },
   "outputs": [],
   "source": [
    "data = data[(data['children'] != -1) & (data['children'] != 20)]"
   ]
  },
  {
   "cell_type": "markdown",
   "id": "8c6ac9f1",
   "metadata": {
    "deletable": false,
    "editable": false,
    "id": "8c6ac9f1"
   },
   "source": [
    "Print the list of unique values from the children column again to ensure that the anomalies have been removed."
   ]
  },
  {
   "cell_type": "code",
   "execution_count": 10,
   "id": "07337b81",
   "metadata": {
    "deletable": false,
    "id": "07337b81",
    "outputId": "b2097101-d49d-44d9-901b-32a65c9463d1"
   },
   "outputs": [
    {
     "data": {
      "text/plain": [
       "array([1, 0, 3, 2, 4, 5])"
      ]
     },
     "execution_count": 10,
     "metadata": {},
     "output_type": "execute_result"
    }
   ],
   "source": [
    "data['children'].unique()"
   ]
  },
  {
   "cell_type": "markdown",
   "id": "a700b0e4",
   "metadata": {
    "deletable": false,
    "editable": false,
    "id": "a700b0e4"
   },
   "source": [
    "Fill the missing values in the days_employed column with the median values for each income_type."
   ]
  },
  {
   "cell_type": "code",
   "execution_count": 11,
   "id": "61946b83",
   "metadata": {
    "deletable": false,
    "id": "61946b83"
   },
   "outputs": [],
   "source": [
    "for t in data['income_type'].unique():\n",
    "    data.loc[(data['income_type'] == t) & (data['days_employed'].isna()), 'days_employed'] = \\\n",
    "    data.loc[(data['income_type'] == t), 'days_employed'].median()"
   ]
  },
  {
   "cell_type": "markdown",
   "id": "550dcd9b",
   "metadata": {
    "deletable": false,
    "editable": false,
    "id": "550dcd9b"
   },
   "source": [
    "Make sure that all missing values are filled. Check yourself and display the number of missing values for each column again using two methods."
   ]
  },
  {
   "cell_type": "code",
   "execution_count": 12,
   "id": "937c7014",
   "metadata": {
    "deletable": false,
    "id": "937c7014",
    "outputId": "8da1e4e1-358e-4e87-98c9-f261bce0a7b2"
   },
   "outputs": [
    {
     "data": {
      "text/plain": [
       "children            0\n",
       "days_employed       0\n",
       "dob_years           0\n",
       "education           0\n",
       "education_id        0\n",
       "family_status       0\n",
       "family_status_id    0\n",
       "gender              0\n",
       "income_type         0\n",
       "debt                0\n",
       "total_income        0\n",
       "purpose             0\n",
       "dtype: int64"
      ]
     },
     "execution_count": 12,
     "metadata": {},
     "output_type": "execute_result"
    }
   ],
   "source": [
    "data.isna().sum()"
   ]
  },
  {
   "cell_type": "markdown",
   "id": "d522e295",
   "metadata": {
    "deletable": false,
    "editable": false,
    "id": "d522e295"
   },
   "source": [
    "### Data Type Conversion"
   ]
  },
  {
   "cell_type": "markdown",
   "id": "c229c581",
   "metadata": {
    "deletable": false,
    "editable": false,
    "id": "c229c581"
   },
   "source": [
    "Replace the float data type in the total_income column with an integer using the astype() method."
   ]
  },
  {
   "cell_type": "code",
   "execution_count": 13,
   "id": "31036462",
   "metadata": {
    "deletable": false,
    "id": "31036462"
   },
   "outputs": [],
   "source": [
    "data['total_income'] = data['total_income'].astype(int)"
   ]
  },
  {
   "cell_type": "markdown",
   "id": "b8e3d1d9",
   "metadata": {
    "deletable": false,
    "editable": false,
    "id": "b8e3d1d9"
   },
   "source": [
    "### Duplicate Handling"
   ]
  },
  {
   "cell_type": "markdown",
   "id": "9be53c49",
   "metadata": {
    "deletable": false,
    "editable": false,
    "id": "9be53c49"
   },
   "source": [
    "Handle implicit duplicates in the education column. There are the same values written in different ways: using uppercase and lowercase letters. Convert them to lowercase."
   ]
  },
  {
   "cell_type": "code",
   "execution_count": 14,
   "id": "d89e73e1",
   "metadata": {
    "deletable": false,
    "id": "d89e73e1"
   },
   "outputs": [],
   "source": [
    "data['education'] = data['education'].str.lower()"
   ]
  },
  {
   "cell_type": "markdown",
   "id": "01d4500e",
   "metadata": {
    "deletable": false,
    "editable": false,
    "id": "01d4500e"
   },
   "source": [
    "Display the number of duplicate rows in the data. If such rows are present, remove them."
   ]
  },
  {
   "cell_type": "code",
   "execution_count": 15,
   "id": "e10efb23",
   "metadata": {
    "deletable": false,
    "id": "e10efb23",
    "outputId": "9684deba-1934-42d1-99e1-cda61740f822"
   },
   "outputs": [
    {
     "data": {
      "text/plain": [
       "71"
      ]
     },
     "execution_count": 15,
     "metadata": {},
     "output_type": "execute_result"
    }
   ],
   "source": [
    "data.duplicated().sum()"
   ]
  },
  {
   "cell_type": "code",
   "execution_count": 16,
   "id": "df853f20",
   "metadata": {
    "deletable": false,
    "id": "df853f20"
   },
   "outputs": [],
   "source": [
    "data = data.drop_duplicates()"
   ]
  },
  {
   "cell_type": "markdown",
   "id": "627be38f",
   "metadata": {
    "deletable": false,
    "editable": false,
    "id": "627be38f"
   },
   "source": [
    "### Data Categorization"
   ]
  },
  {
   "cell_type": "markdown",
   "id": "4684c3e0",
   "metadata": {
    "deletable": false,
    "editable": false,
    "id": "4684c3e0"
   },
   "source": [
    "Based on the ranges below, create a total_income_category column in the data dataframe with categories:\n",
    "\n",
    "- 0–30000 — 'E';\n",
    "- 30001–50000 — 'D';\n",
    "- 50001–200000 — 'C';\n",
    "- 200001–1000000 — 'B';\n",
    "- 1000001 and above — 'A'.\n",
    "\n",
    "For example, a borrower with an income of 25000 should be assigned the category 'E', while a client earning 235000 should be assigned category 'B'. Use your own function named categorize_income() and the apply() method."
   ]
  },
  {
   "cell_type": "code",
   "execution_count": 17,
   "id": "78965238",
   "metadata": {
    "deletable": false,
    "id": "78965238"
   },
   "outputs": [],
   "source": [
    "def categorize_income(income):\n",
    "    try:\n",
    "        if 0 <= income <= 30000:\n",
    "            return 'E'\n",
    "        elif 30001 <= income <= 50000:\n",
    "            return 'D'\n",
    "        elif 50001 <= income <= 200000:\n",
    "            return 'C'\n",
    "        elif 200001 <= income <= 1000000:\n",
    "            return 'B'\n",
    "        elif income >= 1000001:\n",
    "            return 'A'\n",
    "    except:\n",
    "        pass"
   ]
  },
  {
   "cell_type": "code",
   "execution_count": 18,
   "id": "0980ada1",
   "metadata": {
    "deletable": false,
    "id": "0980ada1"
   },
   "outputs": [],
   "source": [
    "data['total_income_category'] = data['total_income'].apply(categorize_income)"
   ]
  },
  {
   "cell_type": "markdown",
   "id": "9917bba0",
   "metadata": {
    "deletable": false,
    "editable": false,
    "id": "9917bba0"
   },
   "source": [
    "Display the list of unique loan purposes from the purpose column."
   ]
  },
  {
   "cell_type": "code",
   "execution_count": 19,
   "id": "ee07b65e",
   "metadata": {
    "deletable": false,
    "id": "ee07b65e",
    "outputId": "673c12d9-7d7e-4ae0-9812-c622c89dd244"
   },
   "outputs": [
    {
     "data": {
      "text/plain": [
       "array(['покупка жилья', 'приобретение автомобиля',\n",
       "       'дополнительное образование', 'сыграть свадьбу',\n",
       "       'операции с жильем', 'образование', 'на проведение свадьбы',\n",
       "       'покупка жилья для семьи', 'покупка недвижимости',\n",
       "       'покупка коммерческой недвижимости', 'покупка жилой недвижимости',\n",
       "       'строительство собственной недвижимости', 'недвижимость',\n",
       "       'строительство недвижимости', 'на покупку подержанного автомобиля',\n",
       "       'на покупку своего автомобиля',\n",
       "       'операции с коммерческой недвижимостью',\n",
       "       'строительство жилой недвижимости', 'жилье',\n",
       "       'операции со своей недвижимостью', 'автомобили',\n",
       "       'заняться образованием', 'сделка с подержанным автомобилем',\n",
       "       'получение образования', 'автомобиль', 'свадьба',\n",
       "       'получение дополнительного образования', 'покупка своего жилья',\n",
       "       'операции с недвижимостью', 'получение высшего образования',\n",
       "       'свой автомобиль', 'сделка с автомобилем',\n",
       "       'профильное образование', 'высшее образование',\n",
       "       'покупка жилья для сдачи', 'на покупку автомобиля', 'ремонт жилью',\n",
       "       'заняться высшим образованием'], dtype=object)"
      ]
     },
     "execution_count": 19,
     "metadata": {},
     "output_type": "execute_result"
    }
   ],
   "source": [
    "data['purpose'].unique()"
   ]
  },
  {
   "cell_type": "markdown",
   "id": "52b79d56",
   "metadata": {
    "deletable": false,
    "editable": false,
    "id": "52b79d56"
   },
   "source": [
    "Create a function that, based on the data in the purpose column, will create a new column purpose_category with the following categories:\n",
    "\n",
    "- 'car operations',\n",
    "- 'real estate operations',\n",
    "- 'wedding planning',\n",
    "- 'education'.\n",
    "\n",
    "For example, if the purpose column contains the substring 'for buying a car', then the purpose_category column should contain 'car operations'.\n",
    "\n",
    "Use your own function named categorize_purpose() and the apply() method. Review the data in the purpose column and determine which substrings will help you correctly assign the category."
   ]
  },
  {
   "cell_type": "code",
   "execution_count": 20,
   "id": "be41da5d",
   "metadata": {
    "deletable": false,
    "id": "be41da5d"
   },
   "outputs": [],
   "source": [
    "def categorize_purpose(row):\n",
    "    try:\n",
    "        if 'car' in row:\n",
    "            return 'car operations'\n",
    "        elif 'residential' in row or 'real estate' in row:\n",
    "            return 'real estate operations'\n",
    "        elif 'wedding' in row:\n",
    "            return 'wedding planning'\n",
    "        elif 'education' in row:\n",
    "            return 'education'\n",
    "    except:\n",
    "        return 'no category'"
   ]
  },
  {
   "cell_type": "code",
   "execution_count": 21,
   "id": "94c4a19a",
   "metadata": {
    "deletable": false,
    "id": "94c4a19a"
   },
   "outputs": [],
   "source": [
    "data['purpose_category'] = data['purpose'].apply(categorize_purpose)"
   ]
  },
  {
   "cell_type": "markdown",
   "id": "3d596c34",
   "metadata": {
    "deletable": false,
    "editable": false,
    "id": "3d596c34"
   },
   "source": [
    "### Exploratory Data Analysis"
   ]
  },
  {
   "cell_type": "markdown",
   "id": "308ad0fa",
   "metadata": {
    "deletable": false,
    "id": "7fcff25e"
   },
   "source": [
    "Let's find the relationship between the number of children and loan repayment on time. To begin, let's create a new function that generates pivot tables using the pivot_table() method. We will later use this function for other factors in the subsequent chapters of the research."
   ]
  },
  {
   "cell_type": "code",
   "execution_count": 22,
   "id": "4b25491f",
   "metadata": {},
   "outputs": [],
   "source": [
    "def create_pivot(data, index_col, value_col): \n",
    "    # Declare a function that creates pivot tables. It takes as arguments a dataframe (data),\n",
    "    # a column by which we group the data (index_col), and the values for which we want to see the pivot table (value_col)\n",
    "    \n",
    "    pivot = data.pivot_table(index=index_col, values=value_col, aggfunc=['count', 'sum', 'mean']) \n",
    "    # Use the pivot_table() method, passing the arguments mentioned above, and adding the aggfunc function \n",
    "    # where we pass count for all loan applicants, sum for calculating defaulters, and mean for calculating the default rate\n",
    "\n",
    "    pivot.columns = ['Total loan applicants', 'Total defaulters', 'Default rate'] \n",
    "    # Rename the columns with the resulting data correctly\n",
    "\n",
    "    return pivot \n",
    "    # Return the result of the function"
   ]
  },
  {
   "cell_type": "code",
   "execution_count": 23,
   "id": "59a40692",
   "metadata": {},
   "outputs": [
    {
     "data": {
      "text/html": [
       "<div>\n",
       "<style scoped>\n",
       "    .dataframe tbody tr th:only-of-type {\n",
       "        vertical-align: middle;\n",
       "    }\n",
       "\n",
       "    .dataframe tbody tr th {\n",
       "        vertical-align: top;\n",
       "    }\n",
       "\n",
       "    .dataframe thead th {\n",
       "        text-align: right;\n",
       "    }\n",
       "</style>\n",
       "<table border=\"1\" class=\"dataframe\">\n",
       "  <thead>\n",
       "    <tr style=\"text-align: right;\">\n",
       "      <th></th>\n",
       "      <th>Всего кредитополучателей</th>\n",
       "      <th>Всего должников</th>\n",
       "      <th>Доля должников</th>\n",
       "    </tr>\n",
       "    <tr>\n",
       "      <th>children</th>\n",
       "      <th></th>\n",
       "      <th></th>\n",
       "      <th></th>\n",
       "    </tr>\n",
       "  </thead>\n",
       "  <tbody>\n",
       "    <tr>\n",
       "      <th>0</th>\n",
       "      <td>14091</td>\n",
       "      <td>1063</td>\n",
       "      <td>0.075438</td>\n",
       "    </tr>\n",
       "    <tr>\n",
       "      <th>1</th>\n",
       "      <td>4808</td>\n",
       "      <td>444</td>\n",
       "      <td>0.092346</td>\n",
       "    </tr>\n",
       "    <tr>\n",
       "      <th>2</th>\n",
       "      <td>2052</td>\n",
       "      <td>194</td>\n",
       "      <td>0.094542</td>\n",
       "    </tr>\n",
       "    <tr>\n",
       "      <th>3</th>\n",
       "      <td>330</td>\n",
       "      <td>27</td>\n",
       "      <td>0.081818</td>\n",
       "    </tr>\n",
       "    <tr>\n",
       "      <th>4</th>\n",
       "      <td>41</td>\n",
       "      <td>4</td>\n",
       "      <td>0.097561</td>\n",
       "    </tr>\n",
       "    <tr>\n",
       "      <th>5</th>\n",
       "      <td>9</td>\n",
       "      <td>0</td>\n",
       "      <td>0.000000</td>\n",
       "    </tr>\n",
       "  </tbody>\n",
       "</table>\n",
       "</div>"
      ],
      "text/plain": [
       "          Всего кредитополучателей  Всего должников  Доля должников\n",
       "children                                                           \n",
       "0                            14091             1063        0.075438\n",
       "1                             4808              444        0.092346\n",
       "2                             2052              194        0.094542\n",
       "3                              330               27        0.081818\n",
       "4                               41                4        0.097561\n",
       "5                                9                0        0.000000"
      ]
     },
     "execution_count": 23,
     "metadata": {},
     "output_type": "execute_result"
    }
   ],
   "source": [
    "pivot_children = create_pivot(data, 'children', 'debt') \n",
    "# Pass the arguments to the function and calculate the values in the pivot table\n",
    "pivot_children"
   ]
  },
  {
   "cell_type": "markdown",
   "id": "b4d627c8",
   "metadata": {},
   "source": [
    "Let's consider the largest categories — 0, 1, and 2 children. The default rate among these categories is distributed as follows:\n",
    "\n",
    "- Among borrowers with no children - 7.5%\n",
    "- Among borrowers with one child - 9.2%\n",
    "- Among borrowers with two children - 9.5%\n",
    "\n",
    "A certain pattern can be observed here, based on which we can form the following hypothesis: as the number of children increases, the default rate also increases. Based on this hypothesis, we can assert that a potential borrower with no children is more likely to repay the loan."
   ]
  },
  {
   "cell_type": "markdown",
   "id": "399615dd",
   "metadata": {
    "deletable": false,
    "id": "8098ab3b"
   },
   "source": [
    "We will apply the exact same algorithm as with the number of children in the family. This time, let's look at the relationship status of the client. We will categorize clients by their relationship status and, within these categories, find the number and percentage of clients who had debt related to loan repayment."
   ]
  },
  {
   "cell_type": "code",
   "execution_count": 24,
   "id": "a200c966",
   "metadata": {},
   "outputs": [
    {
     "data": {
      "text/html": [
       "<div>\n",
       "<style scoped>\n",
       "    .dataframe tbody tr th:only-of-type {\n",
       "        vertical-align: middle;\n",
       "    }\n",
       "\n",
       "    .dataframe tbody tr th {\n",
       "        vertical-align: top;\n",
       "    }\n",
       "\n",
       "    .dataframe thead th {\n",
       "        text-align: right;\n",
       "    }\n",
       "</style>\n",
       "<table border=\"1\" class=\"dataframe\">\n",
       "  <thead>\n",
       "    <tr style=\"text-align: right;\">\n",
       "      <th></th>\n",
       "      <th>Всего кредитополучателей</th>\n",
       "      <th>Всего должников</th>\n",
       "      <th>Доля должников</th>\n",
       "    </tr>\n",
       "    <tr>\n",
       "      <th>family_status</th>\n",
       "      <th></th>\n",
       "      <th></th>\n",
       "      <th></th>\n",
       "    </tr>\n",
       "  </thead>\n",
       "  <tbody>\n",
       "    <tr>\n",
       "      <th>Не женат / не замужем</th>\n",
       "      <td>2796</td>\n",
       "      <td>273</td>\n",
       "      <td>0.097639</td>\n",
       "    </tr>\n",
       "    <tr>\n",
       "      <th>в разводе</th>\n",
       "      <td>1189</td>\n",
       "      <td>84</td>\n",
       "      <td>0.070648</td>\n",
       "    </tr>\n",
       "    <tr>\n",
       "      <th>вдовец / вдова</th>\n",
       "      <td>951</td>\n",
       "      <td>63</td>\n",
       "      <td>0.066246</td>\n",
       "    </tr>\n",
       "    <tr>\n",
       "      <th>гражданский брак</th>\n",
       "      <td>4134</td>\n",
       "      <td>385</td>\n",
       "      <td>0.093130</td>\n",
       "    </tr>\n",
       "    <tr>\n",
       "      <th>женат / замужем</th>\n",
       "      <td>12261</td>\n",
       "      <td>927</td>\n",
       "      <td>0.075606</td>\n",
       "    </tr>\n",
       "  </tbody>\n",
       "</table>\n",
       "</div>"
      ],
      "text/plain": [
       "                       Всего кредитополучателей  Всего должников  \\\n",
       "family_status                                                      \n",
       "Не женат / не замужем                      2796              273   \n",
       "в разводе                                  1189               84   \n",
       "вдовец / вдова                              951               63   \n",
       "гражданский брак                           4134              385   \n",
       "женат / замужем                           12261              927   \n",
       "\n",
       "                       Доля должников  \n",
       "family_status                          \n",
       "Не женат / не замужем        0.097639  \n",
       "в разводе                    0.070648  \n",
       "вдовец / вдова               0.066246  \n",
       "гражданский брак             0.093130  \n",
       "женат / замужем              0.075606  "
      ]
     },
     "execution_count": 24,
     "metadata": {},
     "output_type": "execute_result"
    }
   ],
   "source": [
    "pivot_family = create_pivot(data, 'family_status', 'debt') # Pass the function arguments and calculate the values in the pivot table.\n",
    "pivot_family"
   ]
  },
  {
   "cell_type": "markdown",
   "id": "5b684a77",
   "metadata": {},
   "source": [
    "The observed difference in percentages is quite small, but based on the results, an interesting hypothesis can be made: clients who are or were not married tend to fulfill their credit obligations worse than those who were married.\n",
    "\n",
    "We can observe this in the categories \"Not married\" and \"Cohabitation,\" where the debt percentage is 9.8% and 9.3%, respectively. After these, the categories \"Divorced\" (7%) and \"Married\" (7.6%) follow. The least amount of debt is found in the \"Widowed\" category, at 6.6%. However, it’s important to note that the percentage difference is minimal, so perhaps this factor (relationship status) should not be considered a decisive one."
   ]
  },
  {
   "cell_type": "markdown",
   "id": "50a7d465",
   "metadata": {
    "deletable": false,
    "id": "8787f44a"
   },
   "source": [
    "For the third time, we will apply the same principle and try to find a pattern in loan repayment on time based on the income level of the bank's clients."
   ]
  },
  {
   "cell_type": "code",
   "execution_count": 25,
   "id": "12a9097d",
   "metadata": {},
   "outputs": [
    {
     "data": {
      "text/html": [
       "<div>\n",
       "<style scoped>\n",
       "    .dataframe tbody tr th:only-of-type {\n",
       "        vertical-align: middle;\n",
       "    }\n",
       "\n",
       "    .dataframe tbody tr th {\n",
       "        vertical-align: top;\n",
       "    }\n",
       "\n",
       "    .dataframe thead th {\n",
       "        text-align: right;\n",
       "    }\n",
       "</style>\n",
       "<table border=\"1\" class=\"dataframe\">\n",
       "  <thead>\n",
       "    <tr style=\"text-align: right;\">\n",
       "      <th></th>\n",
       "      <th>Всего кредитополучателей</th>\n",
       "      <th>Всего должников</th>\n",
       "      <th>Доля должников</th>\n",
       "    </tr>\n",
       "    <tr>\n",
       "      <th>total_income_category</th>\n",
       "      <th></th>\n",
       "      <th></th>\n",
       "      <th></th>\n",
       "    </tr>\n",
       "  </thead>\n",
       "  <tbody>\n",
       "    <tr>\n",
       "      <th>A</th>\n",
       "      <td>25</td>\n",
       "      <td>2</td>\n",
       "      <td>0.080000</td>\n",
       "    </tr>\n",
       "    <tr>\n",
       "      <th>B</th>\n",
       "      <td>5014</td>\n",
       "      <td>354</td>\n",
       "      <td>0.070602</td>\n",
       "    </tr>\n",
       "    <tr>\n",
       "      <th>C</th>\n",
       "      <td>15921</td>\n",
       "      <td>1353</td>\n",
       "      <td>0.084982</td>\n",
       "    </tr>\n",
       "    <tr>\n",
       "      <th>D</th>\n",
       "      <td>349</td>\n",
       "      <td>21</td>\n",
       "      <td>0.060172</td>\n",
       "    </tr>\n",
       "    <tr>\n",
       "      <th>E</th>\n",
       "      <td>22</td>\n",
       "      <td>2</td>\n",
       "      <td>0.090909</td>\n",
       "    </tr>\n",
       "  </tbody>\n",
       "</table>\n",
       "</div>"
      ],
      "text/plain": [
       "                       Всего кредитополучателей  Всего должников  \\\n",
       "total_income_category                                              \n",
       "A                                            25                2   \n",
       "B                                          5014              354   \n",
       "C                                         15921             1353   \n",
       "D                                           349               21   \n",
       "E                                            22                2   \n",
       "\n",
       "                       Доля должников  \n",
       "total_income_category                  \n",
       "A                            0.080000  \n",
       "B                            0.070602  \n",
       "C                            0.084982  \n",
       "D                            0.060172  \n",
       "E                            0.090909  "
      ]
     },
     "execution_count": 25,
     "metadata": {},
     "output_type": "execute_result"
    }
   ],
   "source": [
    "pivot_income = create_pivot(data, 'total_income_category', 'debt') # We will pass the function arguments and calculate the values in the pivot table.\n",
    "pivot_income"
   ]
  },
  {
   "cell_type": "markdown",
   "id": "a1e48f54",
   "metadata": {},
   "source": [
    "As with children, let's look at the largest categories presented - B and C. The distribution of debtors between these categories is as follows:\n",
    "\n",
    "- Among borrowers with an income ranging from 200,000 to 1 million (B) - 7.1%\n",
    "- Among borrowers with an income ranging from 50,000 to 200,000 (C) - 8.5%\n",
    "\n",
    "Based on the results, we can hypothesize that as a potential client's income increases, their reliability improves. In other words, clients with higher income are more willing to repay their loans."
   ]
  },
  {
   "cell_type": "markdown",
   "id": "7b75c336",
   "metadata": {
    "deletable": false,
    "id": "c602bc8b"
   },
   "source": [
    "Let's consider the factor of loan purpose."
   ]
  },
  {
   "cell_type": "code",
   "execution_count": 26,
   "id": "17402494",
   "metadata": {},
   "outputs": [
    {
     "data": {
      "text/html": [
       "<div>\n",
       "<style scoped>\n",
       "    .dataframe tbody tr th:only-of-type {\n",
       "        vertical-align: middle;\n",
       "    }\n",
       "\n",
       "    .dataframe tbody tr th {\n",
       "        vertical-align: top;\n",
       "    }\n",
       "\n",
       "    .dataframe thead th {\n",
       "        text-align: right;\n",
       "    }\n",
       "</style>\n",
       "<table border=\"1\" class=\"dataframe\">\n",
       "  <thead>\n",
       "    <tr style=\"text-align: right;\">\n",
       "      <th></th>\n",
       "      <th>Всего кредитополучателей</th>\n",
       "      <th>Всего должников</th>\n",
       "      <th>Доля должников</th>\n",
       "    </tr>\n",
       "    <tr>\n",
       "      <th>purpose_category</th>\n",
       "      <th></th>\n",
       "      <th></th>\n",
       "      <th></th>\n",
       "    </tr>\n",
       "  </thead>\n",
       "  <tbody>\n",
       "    <tr>\n",
       "      <th>операции с автомобилем</th>\n",
       "      <td>4279</td>\n",
       "      <td>400</td>\n",
       "      <td>0.093480</td>\n",
       "    </tr>\n",
       "    <tr>\n",
       "      <th>операции с недвижимостью</th>\n",
       "      <td>10751</td>\n",
       "      <td>780</td>\n",
       "      <td>0.072551</td>\n",
       "    </tr>\n",
       "    <tr>\n",
       "      <th>получение образования</th>\n",
       "      <td>3988</td>\n",
       "      <td>369</td>\n",
       "      <td>0.092528</td>\n",
       "    </tr>\n",
       "    <tr>\n",
       "      <th>проведение свадьбы</th>\n",
       "      <td>2313</td>\n",
       "      <td>183</td>\n",
       "      <td>0.079118</td>\n",
       "    </tr>\n",
       "  </tbody>\n",
       "</table>\n",
       "</div>"
      ],
      "text/plain": [
       "                          Всего кредитополучателей  Всего должников  \\\n",
       "purpose_category                                                      \n",
       "операции с автомобилем                        4279              400   \n",
       "операции с недвижимостью                     10751              780   \n",
       "получение образования                         3988              369   \n",
       "проведение свадьбы                            2313              183   \n",
       "\n",
       "                          Доля должников  \n",
       "purpose_category                          \n",
       "операции с автомобилем          0.093480  \n",
       "операции с недвижимостью        0.072551  \n",
       "получение образования           0.092528  \n",
       "проведение свадьбы              0.079118  "
      ]
     },
     "execution_count": 26,
     "metadata": {},
     "output_type": "execute_result"
    }
   ],
   "source": [
    "pivot_purpose = create_pivot(data, 'purpose_category', 'debt') # We will pass the arguments to the function and calculate the values in the pivot table.\n",
    "pivot_purpose"
   ]
  },
  {
   "cell_type": "markdown",
   "id": "eff36060",
   "metadata": {},
   "source": [
    "Once again, we observe a small difference in percentages between the categories. The leaders in terms of debt are clients who took loans for \"vehicle operations\" and \"education\" purposes, with 9.4% and 9.3%, respectively. Clients who took loans for \"real estate operations\" and \"wedding planning\" have lower debt percentages, with 7.3% and 8%, respectively."
   ]
  },
  {
   "cell_type": "markdown",
   "id": "3697d2a9",
   "metadata": {
    "deletable": false,
    "id": "3697d2a9"
   },
   "source": [
    "Based on the conclusions drawn from the results of the tasks above, missing values are found in the columns days_employed and total_income. Let's take a closer look at the possible reasons for their occurrence. These possible reasons can be divided into two main groups: issues during data collection and issues during data processing and provision.\n",
    "\n",
    "In the first case, for example, these fields for data entry could have been optional, and the client simply decided not to provide this type of information. Additionally, in some cases, bank employees may have made errors while filling out or entering data, which led to missing values in the corresponding columns. This reason can also be attributed to human error.\n",
    "\n",
    "In the second case, issues may have arisen during data processing or format conversion, leading to missing values in the columns. This reason can be referred to as a technical issue."
   ]
  },
  {
   "cell_type": "markdown",
   "id": "cf40012a",
   "metadata": {
    "deletable": false,
    "id": "cf40012a"
   },
   "source": [
    "In our case, we used the median value for the columns total_income and days_employed. In both cases, by doing this, we did not lose other important data that we would have lost if we had removed rows with missing values from the dataframe. We preserved the central tendency of the data distribution across client employment types and avoided distortion that would have occurred if we had used the mean value.\n",
    "\n",
    "The mean is the average value of a set of numbers. The median is the numerical value that separates the larger half of a data set from the smaller half, meaning it shows the central value in the sample. For example, we have test scores of students: 10, 15, 20, 25, and 100. The mean is 34, but this is an unreliable average since most of the scores are below 34. To assess students' performance, it may be more useful to use the median, which is 20, as it is closer to the majority of the scores. The mean is very sensitive to large outliers. An example of using the mean value would be measuring a patient's pulse: at different times, the pulse was 72, 74, 80, 76, and 78 beats per minute. The data doesn't vary much, so by calculating the arithmetic mean, we can accurately describe the patient's average pulse rate, which is 76 beats per minute."
   ]
  },
  {
   "cell_type": "markdown",
   "id": "57bc304e",
   "metadata": {
    "deletable": false,
    "editable": false,
    "id": "57bc304e"
   },
   "source": [
    "### Conclusion"
   ]
  },
  {
   "cell_type": "markdown",
   "id": "1ab75d1c",
   "metadata": {
    "deletable": false,
    "id": "1ab75d1c"
   },
   "source": [
    "The aim of the research was to identify dependencies of loan default based on various client factors/characteristics—how do the factors/characteristics proposed by the client affect the potential borrower's ability to repay the bank loan?\n",
    "\n",
    "As introductory information, we received a dataframe containing a range of data describing the clients. Before proceeding directly to data analysis and answering the client's questions, it was necessary to prepare the data for further work. During the data preprocessing, the following steps were carried out:\n",
    "\n",
    "- The pandas library was imported, and data was read from the provided dataframe.\n",
    "- The basic information about the dataframe was studied and checked: number of rows and columns, data types, and missing values.\n",
    "- Missing values in the columns 'total_income' and 'days_employed' were processed.\n",
    "- For filling missing values in the 'total_income' column, a for loop and logical indexing were used. The missing values were filled with the median income value for each income type.\n",
    "- Missing values in the 'days_employed' column were also handled. The same method was used as for 'total_income', after removing anomalously large values using logical indexing. Negative values were corrected using the abs() function.\n",
    "- Using the .sum() method, we confirmed that there were no more missing values in the dataframe.\n",
    "- The data type in the 'total_income' column was changed from float to int using the .astype() method for easier number handling.\n",
    "- We then proceeded to work with explicit duplicates, which were identified using the .duplicated().sum() method, and removed them with the .drop_duplicates() method.\n",
    "- To facilitate analysis, we categorized the data in the 'purpose' and 'total_income' columns for more convenient analysis.\n",
    "\n",
    "In the next stage of the project, we proceeded directly with the data analysis and answers to the following questions:\n",
    "\n",
    "- Is there a dependency between the number of children and timely loan repayment?\n",
    "- Is there a dependency between marital status and timely loan repayment?\n",
    "- Is there a dependency between income level and timely loan repayment?\n",
    "- How do different loan purposes affect timely repayment?\n",
    "\n",
    "Before starting the analysis, we created a new function that generates pivot tables using the pivot_table() method. After analyzing the results, we came to the following conclusions:\n",
    "\n",
    "- With an increase in the number of children, the debt for timely loan repayment increases. Based on this hypothesis, it can be stated that a potential borrower with no children is more likely to repay the loan.\n",
    "- Clients who are not and have never been married perform worse in terms of loan repayment than those who are married.\n",
    "- With an increase in the income of a potential client, their reliability increases. In other words, clients with higher income are more likely to repay loans.\n",
    "- The leaders in defaults are clients who took loans for \"car operations\" and \"education\"—9.4% and 9.3% respectively. Clients who took loans for \"real estate operations\" and \"wedding arrangements\" have less default, with 7.3% and 8% respectively.\n",
    "- A reliable client can be described as follows: the client is married, has no children, has an income above 200,000, and takes a loan for real estate operations or wedding arrangements.\n",
    "\n",
    "An unreliable client can be described as follows: the client is not married, has 1 or more children, has an income up to 200,000, and takes a loan for car operations or education.\n",
    "\n",
    "Based on the hypotheses presented, we recommend that the client more carefully collect and process client data and create a credit scoring system that, based on the collected data and the hypotheses proposed above, ranks clients by reliability."
   ]
  }
 ],
 "metadata": {
  "ExecuteTimeLog": [
   {
    "duration": 471,
    "start_time": "2024-04-14T21:44:11.521Z"
   },
   {
    "duration": 29,
    "start_time": "2024-04-14T21:44:17.785Z"
   },
   {
    "duration": 16,
    "start_time": "2024-04-14T21:44:25.785Z"
   },
   {
    "duration": 12,
    "start_time": "2024-04-14T21:44:31.143Z"
   },
   {
    "duration": 37,
    "start_time": "2024-04-14T21:44:36.301Z"
   },
   {
    "duration": 3,
    "start_time": "2024-04-14T21:44:42.672Z"
   },
   {
    "duration": 9,
    "start_time": "2024-04-14T21:44:49.870Z"
   },
   {
    "duration": 4,
    "start_time": "2024-04-14T21:45:01.762Z"
   },
   {
    "duration": 8,
    "start_time": "2024-04-14T21:45:05.943Z"
   },
   {
    "duration": 5,
    "start_time": "2024-04-14T21:45:14.613Z"
   },
   {
    "duration": 34,
    "start_time": "2024-04-14T21:45:18.868Z"
   },
   {
    "duration": 14,
    "start_time": "2024-04-14T21:45:22.337Z"
   },
   {
    "duration": 4,
    "start_time": "2024-04-14T21:45:27.259Z"
   },
   {
    "duration": 12,
    "start_time": "2024-04-14T21:45:30.616Z"
   },
   {
    "duration": 21,
    "start_time": "2024-04-14T21:45:34.666Z"
   },
   {
    "duration": 16,
    "start_time": "2024-04-14T21:45:37.033Z"
   },
   {
    "duration": 4,
    "start_time": "2024-04-14T21:45:40.073Z"
   },
   {
    "duration": 10,
    "start_time": "2024-04-14T21:45:42.841Z"
   },
   {
    "duration": 7,
    "start_time": "2024-04-14T21:45:46.885Z"
   },
   {
    "duration": 3,
    "start_time": "2024-04-14T21:45:50.934Z"
   },
   {
    "duration": 8,
    "start_time": "2024-04-14T21:45:56.118Z"
   },
   {
    "duration": 49,
    "start_time": "2024-04-16T17:35:24.357Z"
   },
   {
    "duration": 2,
    "start_time": "2024-04-16T17:35:51.620Z"
   },
   {
    "duration": 708,
    "start_time": "2024-04-16T17:36:01.727Z"
   },
   {
    "duration": 26,
    "start_time": "2024-04-16T17:36:02.437Z"
   },
   {
    "duration": 160,
    "start_time": "2024-04-16T17:36:02.464Z"
   },
   {
    "duration": 70,
    "start_time": "2024-04-16T17:36:02.626Z"
   },
   {
    "duration": 52,
    "start_time": "2024-04-16T17:36:02.699Z"
   },
   {
    "duration": 4,
    "start_time": "2024-04-16T17:36:02.753Z"
   },
   {
    "duration": 37,
    "start_time": "2024-04-16T17:36:02.759Z"
   },
   {
    "duration": 29,
    "start_time": "2024-04-16T17:36:02.798Z"
   },
   {
    "duration": 86,
    "start_time": "2024-04-16T17:36:02.829Z"
   },
   {
    "duration": 34,
    "start_time": "2024-04-16T17:36:02.919Z"
   },
   {
    "duration": 75,
    "start_time": "2024-04-16T17:36:02.955Z"
   },
   {
    "duration": 11,
    "start_time": "2024-04-16T17:36:03.032Z"
   },
   {
    "duration": 22,
    "start_time": "2024-04-16T17:36:03.044Z"
   },
   {
    "duration": 20,
    "start_time": "2024-04-16T17:36:03.067Z"
   },
   {
    "duration": 26,
    "start_time": "2024-04-16T17:36:03.088Z"
   },
   {
    "duration": 19,
    "start_time": "2024-04-16T17:36:03.116Z"
   },
   {
    "duration": 4,
    "start_time": "2024-04-16T17:36:03.137Z"
   },
   {
    "duration": 13,
    "start_time": "2024-04-16T17:36:03.143Z"
   },
   {
    "duration": 6,
    "start_time": "2024-04-16T17:36:03.157Z"
   },
   {
    "duration": 28,
    "start_time": "2024-04-16T17:36:03.165Z"
   },
   {
    "duration": 16,
    "start_time": "2024-04-16T17:36:03.195Z"
   },
   {
    "duration": 5,
    "start_time": "2024-04-16T17:36:03.212Z"
   },
   {
    "duration": 24,
    "start_time": "2024-04-16T17:36:03.218Z"
   },
   {
    "duration": 17,
    "start_time": "2024-04-16T17:36:03.245Z"
   },
   {
    "duration": 29,
    "start_time": "2024-04-16T17:36:03.264Z"
   },
   {
    "duration": 16,
    "start_time": "2024-04-16T17:36:03.294Z"
   },
   {
    "duration": 8,
    "start_time": "2024-04-16T17:38:03.856Z"
   },
   {
    "duration": 7,
    "start_time": "2024-04-16T17:38:47.340Z"
   },
   {
    "duration": 7,
    "start_time": "2024-04-16T17:38:53.923Z"
   },
   {
    "duration": 36,
    "start_time": "2024-04-16T17:39:19.222Z"
   },
   {
    "duration": 6,
    "start_time": "2024-04-16T17:39:40.055Z"
   },
   {
    "duration": 75,
    "start_time": "2024-04-16T17:50:20.182Z"
   },
   {
    "duration": 6,
    "start_time": "2024-04-16T17:50:26.646Z"
   },
   {
    "duration": 7,
    "start_time": "2024-04-16T17:50:36.283Z"
   },
   {
    "duration": 7,
    "start_time": "2024-04-16T17:51:17.359Z"
   },
   {
    "duration": 5,
    "start_time": "2024-04-16T17:55:31.904Z"
   },
   {
    "duration": 15,
    "start_time": "2024-04-16T17:55:46.390Z"
   },
   {
    "duration": 20,
    "start_time": "2024-04-16T17:55:57.037Z"
   },
   {
    "duration": 7,
    "start_time": "2024-04-16T17:56:16.409Z"
   },
   {
    "duration": 7,
    "start_time": "2024-04-16T17:56:34.687Z"
   },
   {
    "duration": 4,
    "start_time": "2024-04-16T18:00:20.094Z"
   },
   {
    "duration": 6,
    "start_time": "2024-04-16T18:00:25.332Z"
   },
   {
    "duration": 6,
    "start_time": "2024-04-16T18:16:47.770Z"
   },
   {
    "duration": 7,
    "start_time": "2024-04-16T18:17:52.251Z"
   },
   {
    "duration": 7,
    "start_time": "2024-04-16T18:19:04.026Z"
   },
   {
    "duration": 15,
    "start_time": "2024-04-16T18:20:45.998Z"
   },
   {
    "duration": 6,
    "start_time": "2024-04-16T18:22:50.936Z"
   },
   {
    "duration": 7,
    "start_time": "2024-04-16T18:23:08.153Z"
   },
   {
    "duration": 7,
    "start_time": "2024-04-16T18:23:47.443Z"
   },
   {
    "duration": 9,
    "start_time": "2024-04-16T18:24:26.399Z"
   },
   {
    "duration": 6,
    "start_time": "2024-04-16T18:25:12.465Z"
   },
   {
    "duration": 7,
    "start_time": "2024-04-16T18:42:17.772Z"
   },
   {
    "duration": 15,
    "start_time": "2024-04-16T18:44:01.575Z"
   },
   {
    "duration": 9,
    "start_time": "2024-04-16T18:44:52.753Z"
   },
   {
    "duration": 8,
    "start_time": "2024-04-16T18:45:25.610Z"
   },
   {
    "duration": 6,
    "start_time": "2024-04-16T18:45:58.830Z"
   },
   {
    "duration": 5,
    "start_time": "2024-04-16T18:46:09.703Z"
   },
   {
    "duration": 7,
    "start_time": "2024-04-16T18:56:34.562Z"
   },
   {
    "duration": 18,
    "start_time": "2024-04-16T19:02:06.262Z"
   },
   {
    "duration": 9,
    "start_time": "2024-04-16T19:03:07.825Z"
   },
   {
    "duration": 9,
    "start_time": "2024-04-16T19:03:11.567Z"
   },
   {
    "duration": 9,
    "start_time": "2024-04-16T19:03:47.016Z"
   },
   {
    "duration": 6,
    "start_time": "2024-04-16T19:04:23.540Z"
   },
   {
    "duration": 19,
    "start_time": "2024-04-16T20:33:29.157Z"
   },
   {
    "duration": 34,
    "start_time": "2024-04-16T20:33:39.143Z"
   },
   {
    "duration": 15,
    "start_time": "2024-04-16T20:34:02.028Z"
   },
   {
    "duration": 17,
    "start_time": "2024-04-16T20:35:06.644Z"
   },
   {
    "duration": 20,
    "start_time": "2024-04-16T20:35:12.382Z"
   },
   {
    "duration": 9,
    "start_time": "2024-04-16T20:37:28.093Z"
   },
   {
    "duration": 11,
    "start_time": "2024-04-16T20:37:42.029Z"
   },
   {
    "duration": 9,
    "start_time": "2024-04-16T20:37:50.253Z"
   },
   {
    "duration": 23,
    "start_time": "2024-04-16T20:38:43.242Z"
   },
   {
    "duration": 13,
    "start_time": "2024-04-16T20:39:11.023Z"
   },
   {
    "duration": 473,
    "start_time": "2024-04-16T21:32:42.234Z"
   },
   {
    "duration": 23,
    "start_time": "2024-04-16T21:32:42.709Z"
   },
   {
    "duration": 16,
    "start_time": "2024-04-16T21:32:42.734Z"
   },
   {
    "duration": 11,
    "start_time": "2024-04-16T21:32:42.751Z"
   },
   {
    "duration": 57,
    "start_time": "2024-04-16T21:32:42.764Z"
   },
   {
    "duration": 4,
    "start_time": "2024-04-16T21:32:42.822Z"
   },
   {
    "duration": 11,
    "start_time": "2024-04-16T21:32:42.828Z"
   },
   {
    "duration": 16,
    "start_time": "2024-04-16T21:32:42.840Z"
   },
   {
    "duration": 9,
    "start_time": "2024-04-16T21:32:42.858Z"
   },
   {
    "duration": 18,
    "start_time": "2024-04-16T21:32:42.868Z"
   },
   {
    "duration": 40,
    "start_time": "2024-04-16T21:32:42.887Z"
   },
   {
    "duration": 11,
    "start_time": "2024-04-16T21:32:42.928Z"
   },
   {
    "duration": 8,
    "start_time": "2024-04-16T21:32:42.940Z"
   },
   {
    "duration": 14,
    "start_time": "2024-04-16T21:32:42.951Z"
   },
   {
    "duration": 38,
    "start_time": "2024-04-16T21:32:42.967Z"
   },
   {
    "duration": 17,
    "start_time": "2024-04-16T21:32:43.007Z"
   },
   {
    "duration": 4,
    "start_time": "2024-04-16T21:32:43.026Z"
   },
   {
    "duration": 28,
    "start_time": "2024-04-16T21:32:43.031Z"
   },
   {
    "duration": 17,
    "start_time": "2024-04-16T21:32:43.060Z"
   },
   {
    "duration": 7,
    "start_time": "2024-04-16T21:32:43.078Z"
   },
   {
    "duration": 15,
    "start_time": "2024-04-16T21:32:43.087Z"
   },
   {
    "duration": 6,
    "start_time": "2024-04-16T21:32:43.103Z"
   },
   {
    "duration": 9,
    "start_time": "2024-04-16T21:32:43.110Z"
   },
   {
    "duration": 80,
    "start_time": "2024-04-16T21:32:43.120Z"
   },
   {
    "duration": 0,
    "start_time": "2024-04-16T21:32:43.202Z"
   },
   {
    "duration": 0,
    "start_time": "2024-04-16T21:32:43.204Z"
   },
   {
    "duration": 0,
    "start_time": "2024-04-16T21:32:43.205Z"
   },
   {
    "duration": 0,
    "start_time": "2024-04-16T21:32:43.206Z"
   },
   {
    "duration": 0,
    "start_time": "2024-04-16T21:32:43.208Z"
   },
   {
    "duration": 0,
    "start_time": "2024-04-16T21:32:43.209Z"
   },
   {
    "duration": 0,
    "start_time": "2024-04-16T21:32:43.210Z"
   },
   {
    "duration": 0,
    "start_time": "2024-04-16T21:32:43.211Z"
   },
   {
    "duration": 0,
    "start_time": "2024-04-16T21:32:43.212Z"
   },
   {
    "duration": 82,
    "start_time": "2024-04-16T21:32:49.929Z"
   },
   {
    "duration": 480,
    "start_time": "2024-04-16T21:32:59.332Z"
   },
   {
    "duration": 26,
    "start_time": "2024-04-16T21:32:59.814Z"
   },
   {
    "duration": 24,
    "start_time": "2024-04-16T21:32:59.842Z"
   },
   {
    "duration": 31,
    "start_time": "2024-04-16T21:32:59.869Z"
   },
   {
    "duration": 37,
    "start_time": "2024-04-16T21:32:59.901Z"
   },
   {
    "duration": 4,
    "start_time": "2024-04-16T21:32:59.940Z"
   },
   {
    "duration": 18,
    "start_time": "2024-04-16T21:32:59.945Z"
   },
   {
    "duration": 4,
    "start_time": "2024-04-16T21:32:59.965Z"
   },
   {
    "duration": 25,
    "start_time": "2024-04-16T21:32:59.970Z"
   },
   {
    "duration": 5,
    "start_time": "2024-04-16T21:32:59.997Z"
   },
   {
    "duration": 182,
    "start_time": "2024-04-16T21:33:00.004Z"
   },
   {
    "duration": 279,
    "start_time": "2024-04-16T21:33:00.188Z"
   },
   {
    "duration": 411,
    "start_time": "2024-04-16T21:33:00.469Z"
   },
   {
    "duration": 307,
    "start_time": "2024-04-16T21:33:00.882Z"
   },
   {
    "duration": 550,
    "start_time": "2024-04-16T21:33:01.191Z"
   },
   {
    "duration": 532,
    "start_time": "2024-04-16T21:33:01.743Z"
   },
   {
    "duration": 100,
    "start_time": "2024-04-16T21:33:02.276Z"
   },
   {
    "duration": 127,
    "start_time": "2024-04-16T21:33:02.377Z"
   },
   {
    "duration": 48,
    "start_time": "2024-04-16T21:33:02.506Z"
   },
   {
    "duration": 49,
    "start_time": "2024-04-16T21:33:02.555Z"
   },
   {
    "duration": 136,
    "start_time": "2024-04-16T21:33:02.606Z"
   },
   {
    "duration": 41,
    "start_time": "2024-04-16T21:33:02.744Z"
   },
   {
    "duration": 33,
    "start_time": "2024-04-16T21:33:02.788Z"
   },
   {
    "duration": 115,
    "start_time": "2024-04-16T21:33:02.823Z"
   },
   {
    "duration": 0,
    "start_time": "2024-04-16T21:33:02.940Z"
   },
   {
    "duration": 0,
    "start_time": "2024-04-16T21:33:02.941Z"
   },
   {
    "duration": 0,
    "start_time": "2024-04-16T21:33:02.943Z"
   },
   {
    "duration": 0,
    "start_time": "2024-04-16T21:33:02.945Z"
   },
   {
    "duration": 0,
    "start_time": "2024-04-16T21:33:02.946Z"
   },
   {
    "duration": 0,
    "start_time": "2024-04-16T21:33:02.948Z"
   },
   {
    "duration": 0,
    "start_time": "2024-04-16T21:33:02.951Z"
   },
   {
    "duration": 0,
    "start_time": "2024-04-16T21:33:02.953Z"
   },
   {
    "duration": 0,
    "start_time": "2024-04-16T21:33:02.954Z"
   },
   {
    "duration": 10,
    "start_time": "2024-04-16T21:33:09.452Z"
   },
   {
    "duration": 9,
    "start_time": "2024-04-16T21:33:14.717Z"
   },
   {
    "duration": 6,
    "start_time": "2024-04-16T21:33:19.942Z"
   },
   {
    "duration": 8,
    "start_time": "2024-04-16T21:33:30.347Z"
   },
   {
    "duration": 10,
    "start_time": "2024-04-16T21:33:32.021Z"
   },
   {
    "duration": 5,
    "start_time": "2024-04-16T21:33:33.992Z"
   },
   {
    "duration": 8,
    "start_time": "2024-04-16T21:33:45.784Z"
   },
   {
    "duration": 8,
    "start_time": "2024-04-16T21:33:48.804Z"
   },
   {
    "duration": 8,
    "start_time": "2024-04-16T21:33:50.360Z"
   },
   {
    "duration": 6,
    "start_time": "2024-04-16T21:33:52.060Z"
   },
   {
    "duration": 9,
    "start_time": "2024-04-16T21:34:09.700Z"
   },
   {
    "duration": 5,
    "start_time": "2024-04-16T21:34:12.121Z"
   },
   {
    "duration": 6,
    "start_time": "2024-04-16T21:34:13.624Z"
   },
   {
    "duration": 7,
    "start_time": "2024-04-16T21:34:15.668Z"
   },
   {
    "duration": 5,
    "start_time": "2024-04-16T21:34:48.626Z"
   },
   {
    "duration": 764,
    "start_time": "2024-04-16T21:53:32.163Z"
   },
   {
    "duration": 29,
    "start_time": "2024-04-16T21:53:32.929Z"
   },
   {
    "duration": 18,
    "start_time": "2024-04-16T21:53:32.960Z"
   },
   {
    "duration": 17,
    "start_time": "2024-04-16T21:53:32.981Z"
   },
   {
    "duration": 40,
    "start_time": "2024-04-16T21:53:33.000Z"
   },
   {
    "duration": 4,
    "start_time": "2024-04-16T21:53:33.041Z"
   },
   {
    "duration": 11,
    "start_time": "2024-04-16T21:53:33.047Z"
   },
   {
    "duration": 33,
    "start_time": "2024-04-16T21:53:33.060Z"
   },
   {
    "duration": 9,
    "start_time": "2024-04-16T21:53:33.095Z"
   },
   {
    "duration": 7,
    "start_time": "2024-04-16T21:53:33.109Z"
   },
   {
    "duration": 44,
    "start_time": "2024-04-16T21:53:33.118Z"
   },
   {
    "duration": 32,
    "start_time": "2024-04-16T21:53:33.164Z"
   },
   {
    "duration": 3,
    "start_time": "2024-04-16T21:53:33.198Z"
   },
   {
    "duration": 14,
    "start_time": "2024-04-16T21:53:33.203Z"
   },
   {
    "duration": 27,
    "start_time": "2024-04-16T21:53:33.219Z"
   },
   {
    "duration": 17,
    "start_time": "2024-04-16T21:53:33.248Z"
   },
   {
    "duration": 25,
    "start_time": "2024-04-16T21:53:33.267Z"
   },
   {
    "duration": 11,
    "start_time": "2024-04-16T21:53:33.294Z"
   },
   {
    "duration": 14,
    "start_time": "2024-04-16T21:53:33.307Z"
   },
   {
    "duration": 30,
    "start_time": "2024-04-16T21:53:33.323Z"
   },
   {
    "duration": 35,
    "start_time": "2024-04-16T21:53:33.355Z"
   },
   {
    "duration": 17,
    "start_time": "2024-04-16T21:53:33.391Z"
   },
   {
    "duration": 7,
    "start_time": "2024-04-16T21:53:33.409Z"
   },
   {
    "duration": 12,
    "start_time": "2024-04-16T21:53:33.418Z"
   },
   {
    "duration": 13,
    "start_time": "2024-04-16T21:53:33.432Z"
   },
   {
    "duration": 9,
    "start_time": "2024-04-16T21:53:33.447Z"
   },
   {
    "duration": 5,
    "start_time": "2024-04-16T21:53:33.458Z"
   },
   {
    "duration": 26,
    "start_time": "2024-04-16T21:53:33.466Z"
   },
   {
    "duration": 8,
    "start_time": "2024-04-16T21:53:33.493Z"
   },
   {
    "duration": 12,
    "start_time": "2024-04-16T21:53:33.502Z"
   },
   {
    "duration": 19,
    "start_time": "2024-04-16T21:53:33.516Z"
   },
   {
    "duration": 9,
    "start_time": "2024-04-16T21:53:33.536Z"
   },
   {
    "duration": 5,
    "start_time": "2024-04-16T21:53:33.547Z"
   },
   {
    "duration": 501,
    "start_time": "2024-04-16T21:55:15.157Z"
   },
   {
    "duration": 23,
    "start_time": "2024-04-16T21:55:15.660Z"
   },
   {
    "duration": 15,
    "start_time": "2024-04-16T21:55:15.685Z"
   },
   {
    "duration": 23,
    "start_time": "2024-04-16T21:55:15.702Z"
   },
   {
    "duration": 45,
    "start_time": "2024-04-16T21:55:15.726Z"
   },
   {
    "duration": 3,
    "start_time": "2024-04-16T21:55:15.773Z"
   },
   {
    "duration": 31,
    "start_time": "2024-04-16T21:55:15.777Z"
   },
   {
    "duration": 22,
    "start_time": "2024-04-16T21:55:15.810Z"
   },
   {
    "duration": 20,
    "start_time": "2024-04-16T21:55:15.833Z"
   },
   {
    "duration": 26,
    "start_time": "2024-04-16T21:55:15.856Z"
   },
   {
    "duration": 50,
    "start_time": "2024-04-16T21:55:15.883Z"
   },
   {
    "duration": 11,
    "start_time": "2024-04-16T21:55:15.935Z"
   },
   {
    "duration": 26,
    "start_time": "2024-04-16T21:55:15.947Z"
   },
   {
    "duration": 23,
    "start_time": "2024-04-16T21:55:15.975Z"
   },
   {
    "duration": 50,
    "start_time": "2024-04-16T21:55:16.000Z"
   },
   {
    "duration": 19,
    "start_time": "2024-04-16T21:55:16.051Z"
   },
   {
    "duration": 8,
    "start_time": "2024-04-16T21:55:16.072Z"
   },
   {
    "duration": 50,
    "start_time": "2024-04-16T21:55:16.082Z"
   },
   {
    "duration": 50,
    "start_time": "2024-04-16T21:55:16.134Z"
   },
   {
    "duration": 15,
    "start_time": "2024-04-16T21:55:16.186Z"
   },
   {
    "duration": 28,
    "start_time": "2024-04-16T21:55:16.203Z"
   },
   {
    "duration": 10,
    "start_time": "2024-04-16T21:55:16.233Z"
   },
   {
    "duration": 12,
    "start_time": "2024-04-16T21:55:16.244Z"
   },
   {
    "duration": 5,
    "start_time": "2024-04-16T21:55:16.258Z"
   },
   {
    "duration": 11,
    "start_time": "2024-04-16T21:55:16.264Z"
   },
   {
    "duration": 8,
    "start_time": "2024-04-16T21:55:16.276Z"
   },
   {
    "duration": 23,
    "start_time": "2024-04-16T21:55:16.285Z"
   },
   {
    "duration": 9,
    "start_time": "2024-04-16T21:55:16.311Z"
   },
   {
    "duration": 11,
    "start_time": "2024-04-16T21:55:16.322Z"
   },
   {
    "duration": 11,
    "start_time": "2024-04-16T21:55:16.335Z"
   },
   {
    "duration": 33,
    "start_time": "2024-04-16T21:55:16.348Z"
   },
   {
    "duration": 29,
    "start_time": "2024-04-16T21:55:16.383Z"
   },
   {
    "duration": 15,
    "start_time": "2024-04-16T21:55:16.414Z"
   },
   {
    "duration": 59,
    "start_time": "2024-04-17T11:39:09.280Z"
   },
   {
    "duration": 681,
    "start_time": "2024-04-17T11:39:23.212Z"
   },
   {
    "duration": 23,
    "start_time": "2024-04-17T11:39:23.895Z"
   },
   {
    "duration": 15,
    "start_time": "2024-04-17T11:39:23.919Z"
   },
   {
    "duration": 18,
    "start_time": "2024-04-17T11:39:23.936Z"
   },
   {
    "duration": 61,
    "start_time": "2024-04-17T11:39:23.955Z"
   },
   {
    "duration": 4,
    "start_time": "2024-04-17T11:39:24.018Z"
   },
   {
    "duration": 30,
    "start_time": "2024-04-17T11:39:24.024Z"
   },
   {
    "duration": 21,
    "start_time": "2024-04-17T11:39:24.056Z"
   },
   {
    "duration": 32,
    "start_time": "2024-04-17T11:39:24.079Z"
   },
   {
    "duration": 4,
    "start_time": "2024-04-17T11:39:24.114Z"
   },
   {
    "duration": 36,
    "start_time": "2024-04-17T11:39:24.120Z"
   },
   {
    "duration": 10,
    "start_time": "2024-04-17T11:39:24.158Z"
   },
   {
    "duration": 7,
    "start_time": "2024-04-17T11:39:24.170Z"
   },
   {
    "duration": 19,
    "start_time": "2024-04-17T11:39:24.178Z"
   },
   {
    "duration": 50,
    "start_time": "2024-04-17T11:39:24.198Z"
   },
   {
    "duration": 17,
    "start_time": "2024-04-17T11:39:24.249Z"
   },
   {
    "duration": 4,
    "start_time": "2024-04-17T11:39:24.267Z"
   },
   {
    "duration": 12,
    "start_time": "2024-04-17T11:39:24.272Z"
   },
   {
    "duration": 13,
    "start_time": "2024-04-17T11:39:24.285Z"
   },
   {
    "duration": 10,
    "start_time": "2024-04-17T11:39:24.299Z"
   },
   {
    "duration": 55,
    "start_time": "2024-04-17T11:39:24.310Z"
   },
   {
    "duration": 45,
    "start_time": "2024-04-17T11:39:24.367Z"
   },
   {
    "duration": 83,
    "start_time": "2024-04-17T11:39:24.413Z"
   },
   {
    "duration": 0,
    "start_time": "2024-04-17T11:39:24.498Z"
   },
   {
    "duration": 0,
    "start_time": "2024-04-17T11:39:24.500Z"
   },
   {
    "duration": 0,
    "start_time": "2024-04-17T11:39:24.502Z"
   },
   {
    "duration": 1,
    "start_time": "2024-04-17T11:39:24.503Z"
   },
   {
    "duration": 0,
    "start_time": "2024-04-17T11:39:24.505Z"
   },
   {
    "duration": 0,
    "start_time": "2024-04-17T11:39:24.506Z"
   },
   {
    "duration": 0,
    "start_time": "2024-04-17T11:39:24.508Z"
   },
   {
    "duration": 0,
    "start_time": "2024-04-17T11:39:24.509Z"
   },
   {
    "duration": 0,
    "start_time": "2024-04-17T11:39:24.510Z"
   },
   {
    "duration": 0,
    "start_time": "2024-04-17T11:39:24.512Z"
   },
   {
    "duration": 0,
    "start_time": "2024-04-17T11:39:24.513Z"
   },
   {
    "duration": 14,
    "start_time": "2024-04-17T11:40:23.855Z"
   },
   {
    "duration": 22,
    "start_time": "2024-04-17T11:40:29.333Z"
   },
   {
    "duration": 15,
    "start_time": "2024-04-17T12:13:41.509Z"
   },
   {
    "duration": 14,
    "start_time": "2024-04-17T12:16:30.214Z"
   },
   {
    "duration": 24,
    "start_time": "2024-04-17T12:16:54.193Z"
   },
   {
    "duration": 1830,
    "start_time": "2024-04-17T12:17:10.668Z"
   },
   {
    "duration": 15,
    "start_time": "2024-04-17T12:19:25.638Z"
   },
   {
    "duration": 20,
    "start_time": "2024-04-17T12:25:35.585Z"
   },
   {
    "duration": 27,
    "start_time": "2024-04-17T12:27:19.492Z"
   },
   {
    "duration": 4,
    "start_time": "2024-04-17T12:28:56.554Z"
   },
   {
    "duration": 26,
    "start_time": "2024-04-17T12:28:59.417Z"
   },
   {
    "duration": 5,
    "start_time": "2024-04-17T12:44:14.579Z"
   },
   {
    "duration": 38,
    "start_time": "2024-04-17T12:44:17.752Z"
   },
   {
    "duration": 3,
    "start_time": "2024-04-17T12:44:23.168Z"
   },
   {
    "duration": 34,
    "start_time": "2024-04-17T12:44:26.127Z"
   },
   {
    "duration": 29,
    "start_time": "2024-04-17T12:47:35.326Z"
   },
   {
    "duration": 27,
    "start_time": "2024-04-17T12:50:08.943Z"
   },
   {
    "duration": 43,
    "start_time": "2024-04-17T12:58:37.253Z"
   },
   {
    "duration": 30,
    "start_time": "2024-04-17T12:58:52.522Z"
   },
   {
    "duration": 551,
    "start_time": "2024-04-17T14:15:16.994Z"
   },
   {
    "duration": 26,
    "start_time": "2024-04-17T14:15:17.547Z"
   },
   {
    "duration": 15,
    "start_time": "2024-04-17T14:15:17.575Z"
   },
   {
    "duration": 31,
    "start_time": "2024-04-17T14:15:17.592Z"
   },
   {
    "duration": 43,
    "start_time": "2024-04-17T14:15:17.626Z"
   },
   {
    "duration": 3,
    "start_time": "2024-04-17T14:15:17.671Z"
   },
   {
    "duration": 8,
    "start_time": "2024-04-17T14:15:17.676Z"
   },
   {
    "duration": 30,
    "start_time": "2024-04-17T14:15:17.685Z"
   },
   {
    "duration": 8,
    "start_time": "2024-04-17T14:15:17.717Z"
   },
   {
    "duration": 7,
    "start_time": "2024-04-17T14:15:17.728Z"
   },
   {
    "duration": 42,
    "start_time": "2024-04-17T14:15:17.737Z"
   },
   {
    "duration": 39,
    "start_time": "2024-04-17T14:15:17.781Z"
   },
   {
    "duration": 5,
    "start_time": "2024-04-17T14:15:17.822Z"
   },
   {
    "duration": 16,
    "start_time": "2024-04-17T14:15:17.831Z"
   },
   {
    "duration": 23,
    "start_time": "2024-04-17T14:15:17.849Z"
   },
   {
    "duration": 47,
    "start_time": "2024-04-17T14:15:17.873Z"
   },
   {
    "duration": 5,
    "start_time": "2024-04-17T14:15:17.922Z"
   },
   {
    "duration": 40,
    "start_time": "2024-04-17T14:15:17.929Z"
   },
   {
    "duration": 5,
    "start_time": "2024-04-17T14:15:17.971Z"
   },
   {
    "duration": 3,
    "start_time": "2024-04-17T14:15:17.978Z"
   },
   {
    "duration": 9,
    "start_time": "2024-04-17T14:15:17.983Z"
   },
   {
    "duration": 15,
    "start_time": "2024-04-17T14:15:17.993Z"
   },
   {
    "duration": 40,
    "start_time": "2024-04-17T14:15:18.009Z"
   },
   {
    "duration": 32,
    "start_time": "2024-04-17T14:15:18.051Z"
   },
   {
    "duration": 55,
    "start_time": "2024-04-17T14:15:18.084Z"
   },
   {
    "duration": 43,
    "start_time": "2024-04-17T14:15:18.142Z"
   },
   {
    "duration": 492,
    "start_time": "2024-04-17T14:19:21.411Z"
   },
   {
    "duration": 23,
    "start_time": "2024-04-17T14:19:21.904Z"
   },
   {
    "duration": 21,
    "start_time": "2024-04-17T14:19:21.928Z"
   },
   {
    "duration": 16,
    "start_time": "2024-04-17T14:19:21.951Z"
   },
   {
    "duration": 55,
    "start_time": "2024-04-17T14:19:21.968Z"
   },
   {
    "duration": 3,
    "start_time": "2024-04-17T14:19:22.024Z"
   },
   {
    "duration": 11,
    "start_time": "2024-04-17T14:19:22.029Z"
   },
   {
    "duration": 5,
    "start_time": "2024-04-17T14:19:22.042Z"
   },
   {
    "duration": 16,
    "start_time": "2024-04-17T14:19:22.048Z"
   },
   {
    "duration": 5,
    "start_time": "2024-04-17T14:19:22.066Z"
   },
   {
    "duration": 53,
    "start_time": "2024-04-17T14:19:22.072Z"
   },
   {
    "duration": 12,
    "start_time": "2024-04-17T14:19:22.126Z"
   },
   {
    "duration": 5,
    "start_time": "2024-04-17T14:19:22.140Z"
   },
   {
    "duration": 13,
    "start_time": "2024-04-17T14:19:22.146Z"
   },
   {
    "duration": 23,
    "start_time": "2024-04-17T14:19:22.160Z"
   },
   {
    "duration": 43,
    "start_time": "2024-04-17T14:19:22.185Z"
   },
   {
    "duration": 4,
    "start_time": "2024-04-17T14:19:22.230Z"
   },
   {
    "duration": 23,
    "start_time": "2024-04-17T14:19:22.236Z"
   },
   {
    "duration": 7,
    "start_time": "2024-04-17T14:19:22.261Z"
   },
   {
    "duration": 3,
    "start_time": "2024-04-17T14:19:22.270Z"
   },
   {
    "duration": 11,
    "start_time": "2024-04-17T14:19:22.275Z"
   },
   {
    "duration": 3,
    "start_time": "2024-04-17T14:19:22.288Z"
   },
   {
    "duration": 46,
    "start_time": "2024-04-17T14:19:22.293Z"
   },
   {
    "duration": 28,
    "start_time": "2024-04-17T14:19:22.340Z"
   },
   {
    "duration": 25,
    "start_time": "2024-04-17T14:19:22.369Z"
   },
   {
    "duration": 46,
    "start_time": "2024-04-17T14:19:22.396Z"
   }
  ],
  "colab": {
   "provenance": []
  },
  "kernelspec": {
   "display_name": "Python 3 (ipykernel)",
   "language": "python",
   "name": "python3"
  },
  "language_info": {
   "codemirror_mode": {
    "name": "ipython",
    "version": 3
   },
   "file_extension": ".py",
   "mimetype": "text/x-python",
   "name": "python",
   "nbconvert_exporter": "python",
   "pygments_lexer": "ipython3",
   "version": "3.9.5"
  },
  "toc": {
   "base_numbering": 1,
   "nav_menu": {},
   "number_sections": true,
   "sideBar": true,
   "skip_h1_title": true,
   "title_cell": "Table of Contents",
   "title_sidebar": "Contents",
   "toc_cell": false,
   "toc_position": {},
   "toc_section_display": true,
   "toc_window_display": false
  }
 },
 "nbformat": 4,
 "nbformat_minor": 5
}
