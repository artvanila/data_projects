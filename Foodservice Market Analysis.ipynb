{
 "cells": [
  {
   "cell_type": "markdown",
   "metadata": {},
   "source": [
    "# Market analysis of the foodservice industry"
   ]
  },
  {
   "cell_type": "markdown",
   "metadata": {},
   "source": [
    "Investors from the \"Shut Up and Take My Money\" fund are considering entering the foodservice market in Moscow. Before making a final decision on the type of establishment—whether it’s a café, restaurant, pizzeria, pub, or bar—and deciding on its location, menu, and pricing strategy, a comprehensive market study needs to be conducted.\n",
    "\n",
    "The objective of this research is to provide investors with a complete picture of the current state of the foodservice market in Moscow. The analysis includes studying the characteristics of various types of establishments, their geographic distribution, the competitive environment, and other key factors. The results of the study will help investors choose the most promising direction for their business and make informed decisions at the next stages of the project.\n",
    "\n",
    "The analysis uses data on foodservice establishments in Moscow, gathered from Yandex Maps and Yandex Business services during the summer of 2022. The file moscow_places.csv contains the following fields:\n",
    "\n",
    "- name — the name of the establishment;\n",
    "- address — the address of the establishment;\n",
    "- category — the category of the establishment, such as \"café,\" \"pizzeria,\" or \"coffee shop\";\n",
    "- hours — information on the establishment's working hours;\n",
    "- lat — latitude of the geographic location of the establishment;\n",
    "- lng — longitude of the geographic location of the establishment;\n",
    "- rating — the establishment's rating based on user reviews on Yandex Maps (maximum rating is 5.0);\n",
    "- price — the price category of the establishment, such as \"average,\" \"below average,\" \"above average,\" etc.;\n",
    "- avg_bill — a string representing the average check in a range, for example:\n",
    "    - \"Average bill: 1000–1500 ₽\";\n",
    "    - \"Price of a cappuccino: 130–220 ₽\";\n",
    "    - \"Price of a glass of beer: 400–600 ₽\"; and so on;\n",
    "- middle_avg_bill — a number representing the median of the two values for rows starting with the string \"Average bill\":\n",
    "    - If a range of two values is specified, the median of these two values will be entered into this field.\n",
    "    - If a single value is provided (without a range), that value will be entered.\n",
    "    - If the value is missing or doesn't start with the string \"Average bill,\" the field will be left empty.\n",
    "- middle_coffee_cup — a number representing the price of one cappuccino for rows starting with the string \"Price of a cappuccino\":\n",
    "    - If a range of two values is specified, the median of these values will be entered.\n",
    "    - If a single value is provided, that value will be entered.\n",
    "    - If the value is missing or doesn't start with the string \"Price of a cappuccino,\" the field will be left empty.\n",
    "- chain — a binary value (0 or 1) indicating whether the establishment is part of a chain (for small chains, there may be errors);\n",
    "- district — the administrative district where the establishment is located, such as the Central Administrative District;\n",
    "- seats — the number of seats.\n",
    "\n",
    "The report will be divided into several sections:\n",
    "\n",
    "- The first part of the study will introduce the provided data.\n",
    "- The second part will focus on data preprocessing and preparation for further analysis.\n",
    "- In the third part, we will take a closer look at the establishments and describe their quantitative and qualitative characteristics. An exploratory data analysis will be conducted, and the results will be visualized.\n",
    "- The fourth part will concentrate on the analysis of coffee shops in Moscow to help investors assess the feasibility of opening a new coffee shop similar to \"Central Perk\" from the TV series \"Friends.\" We will study the number and location of coffee shops, their working hours, ratings, and pricing strategies. Based on this analysis, recommendations will be provided on district selection, pricing strategy, and other key aspects for a successful new establishment opening.\n",
    "- In the final stage of the research, all findings and conclusions will be compiled into a presentation, which will be delivered to the client.\n",
    "\n",
    "Ultimately, we will conduct a detailed analysis, the results of which will assist investors in making an informed choice that maximizes commercial efficiency and ensures a successful launch of the establishment."
   ]
  },
  {
   "cell_type": "markdown",
   "metadata": {},
   "source": [
    "Before starting the analysis, we will import the necessary libraries and create functions that will be used throughout the project."
   ]
  },
  {
   "cell_type": "code",
   "execution_count": 38,
   "metadata": {},
   "outputs": [],
   "source": [
    "import pandas as pd\n",
    "import scipy.stats as stats\n",
    "import datetime as dt\n",
    "import numpy as np\n",
    "import matplotlib.pyplot as plt\n",
    "import seaborn as sns\n",
    "import plotly.express as px\n",
    "from plotly import graph_objects as go\n",
    "import folium"
   ]
  },
  {
   "cell_type": "code",
   "execution_count": 39,
   "metadata": {},
   "outputs": [],
   "source": [
    "def primary_analysis(df):\n",
    "    \n",
    "    display(\"Dataset information:\")\n",
    "    display(df.info())\n",
    "    \n",
    "    display(\"\\nFirst 5 rows of the dataset:\")\n",
    "    display(df.head())\n",
    "    \n",
    "    display(\"\\nDescription of numeric columns:\")\n",
    "    display(df.describe())\n",
    "    \n",
    "    display(\"\\nNumber of duplicate rows in the dataset:\")\n",
    "    display(df.duplicated().sum())\n",
    "    \n",
    "    display(\"\\nNumber of missing values in the dataset:\")\n",
    "    display(df.isna().sum())\n",
    "    \n",
    "    display(\"\\nFrequency distributions for categorical columns:\")\n",
    "    for column in df.select_dtypes(include=['object', 'category']).columns:\n",
    "        display(f\"\\nColumn '{column}':\")\n",
    "        display(df[column].value_counts())\n"
   ]
  },
  {
   "cell_type": "code",
   "execution_count": 40,
   "metadata": {},
   "outputs": [],
   "source": [
    "def data_loss(df, df_raw):\n",
    "    \n",
    "    # Calculate absolute data loss\n",
    "    loss_absolute = df_raw['name'].count() - df['name'].count()\n",
    "    \n",
    "    # Calculate relative data loss\n",
    "    loss_relative = 100 - (df['name'].count() / df_raw['name'].count() * 100)\n",
    "    loss_relative = round(loss_relative, 2)\n",
    "\n",
    "    # Format as a percentage string\n",
    "    loss_relative = str(loss_relative) + '%'\n",
    "\n",
    "    display(f'Absolute data loss: {loss_absolute}')\n",
    "    display(f'Relative data loss: {loss_relative}')"
   ]
  },
  {
   "cell_type": "markdown",
   "metadata": {},
   "source": [
    "## Introduction to the Data"
   ]
  },
  {
   "cell_type": "markdown",
   "metadata": {},
   "source": [
    "Load the dataset and review the general information."
   ]
  },
  {
   "cell_type": "code",
   "execution_count": 41,
   "metadata": {},
   "outputs": [],
   "source": [
    "try:\n",
    "    df = pd.read_csv('/datasets/moscow_places.csv')\n",
    "except:\n",
    "    df = pd.read_csv('https://code.s3.yandex.net/datasets/moscow_places.csv')"
   ]
  },
  {
   "cell_type": "code",
   "execution_count": 42,
   "metadata": {},
   "outputs": [],
   "source": [
    "# Introduce a variable to calculate the data loss metric\n",
    "\n",
    "try:\n",
    "    df_raw = pd.read_csv('/datasets/moscow_places.csv')\n",
    "except:\n",
    "    df_raw = pd.read_csv('https://code.s3.yandex.net/datasets/moscow_places.csv')"
   ]
  },
  {
   "cell_type": "code",
   "execution_count": 43,
   "metadata": {},
   "outputs": [
    {
     "data": {
      "text/plain": [
       "'Dataset information:'"
      ]
     },
     "metadata": {},
     "output_type": "display_data"
    },
    {
     "name": "stdout",
     "output_type": "stream",
     "text": [
      "<class 'pandas.core.frame.DataFrame'>\n",
      "RangeIndex: 8406 entries, 0 to 8405\n",
      "Data columns (total 14 columns):\n",
      " #   Column             Non-Null Count  Dtype  \n",
      "---  ------             --------------  -----  \n",
      " 0   name               8406 non-null   object \n",
      " 1   category           8406 non-null   object \n",
      " 2   address            8406 non-null   object \n",
      " 3   district           8406 non-null   object \n",
      " 4   hours              7870 non-null   object \n",
      " 5   lat                8406 non-null   float64\n",
      " 6   lng                8406 non-null   float64\n",
      " 7   rating             8406 non-null   float64\n",
      " 8   price              3315 non-null   object \n",
      " 9   avg_bill           3816 non-null   object \n",
      " 10  middle_avg_bill    3149 non-null   float64\n",
      " 11  middle_coffee_cup  535 non-null    float64\n",
      " 12  chain              8406 non-null   int64  \n",
      " 13  seats              4795 non-null   float64\n",
      "dtypes: float64(6), int64(1), object(7)\n",
      "memory usage: 919.5+ KB\n"
     ]
    },
    {
     "data": {
      "text/plain": [
       "None"
      ]
     },
     "metadata": {},
     "output_type": "display_data"
    },
    {
     "data": {
      "text/plain": [
       "'\\nFirst 5 rows of the dataset:'"
      ]
     },
     "metadata": {},
     "output_type": "display_data"
    },
    {
     "data": {
      "text/html": [
       "<div>\n",
       "<style scoped>\n",
       "    .dataframe tbody tr th:only-of-type {\n",
       "        vertical-align: middle;\n",
       "    }\n",
       "\n",
       "    .dataframe tbody tr th {\n",
       "        vertical-align: top;\n",
       "    }\n",
       "\n",
       "    .dataframe thead th {\n",
       "        text-align: right;\n",
       "    }\n",
       "</style>\n",
       "<table border=\"1\" class=\"dataframe\">\n",
       "  <thead>\n",
       "    <tr style=\"text-align: right;\">\n",
       "      <th></th>\n",
       "      <th>name</th>\n",
       "      <th>category</th>\n",
       "      <th>address</th>\n",
       "      <th>district</th>\n",
       "      <th>hours</th>\n",
       "      <th>lat</th>\n",
       "      <th>lng</th>\n",
       "      <th>rating</th>\n",
       "      <th>price</th>\n",
       "      <th>avg_bill</th>\n",
       "      <th>middle_avg_bill</th>\n",
       "      <th>middle_coffee_cup</th>\n",
       "      <th>chain</th>\n",
       "      <th>seats</th>\n",
       "    </tr>\n",
       "  </thead>\n",
       "  <tbody>\n",
       "    <tr>\n",
       "      <th>0</th>\n",
       "      <td>WoWфли</td>\n",
       "      <td>кафе</td>\n",
       "      <td>Москва, улица Дыбенко, 7/1</td>\n",
       "      <td>Северный административный округ</td>\n",
       "      <td>ежедневно, 10:00–22:00</td>\n",
       "      <td>55.878494</td>\n",
       "      <td>37.478860</td>\n",
       "      <td>5.0</td>\n",
       "      <td>NaN</td>\n",
       "      <td>NaN</td>\n",
       "      <td>NaN</td>\n",
       "      <td>NaN</td>\n",
       "      <td>0</td>\n",
       "      <td>NaN</td>\n",
       "    </tr>\n",
       "    <tr>\n",
       "      <th>1</th>\n",
       "      <td>Четыре комнаты</td>\n",
       "      <td>ресторан</td>\n",
       "      <td>Москва, улица Дыбенко, 36, корп. 1</td>\n",
       "      <td>Северный административный округ</td>\n",
       "      <td>ежедневно, 10:00–22:00</td>\n",
       "      <td>55.875801</td>\n",
       "      <td>37.484479</td>\n",
       "      <td>4.5</td>\n",
       "      <td>выше среднего</td>\n",
       "      <td>Средний счёт:1500–1600 ₽</td>\n",
       "      <td>1550.0</td>\n",
       "      <td>NaN</td>\n",
       "      <td>0</td>\n",
       "      <td>4.0</td>\n",
       "    </tr>\n",
       "    <tr>\n",
       "      <th>2</th>\n",
       "      <td>Хазри</td>\n",
       "      <td>кафе</td>\n",
       "      <td>Москва, Клязьминская улица, 15</td>\n",
       "      <td>Северный административный округ</td>\n",
       "      <td>пн-чт 11:00–02:00; пт,сб 11:00–05:00; вс 11:00...</td>\n",
       "      <td>55.889146</td>\n",
       "      <td>37.525901</td>\n",
       "      <td>4.6</td>\n",
       "      <td>средние</td>\n",
       "      <td>Средний счёт:от 1000 ₽</td>\n",
       "      <td>1000.0</td>\n",
       "      <td>NaN</td>\n",
       "      <td>0</td>\n",
       "      <td>45.0</td>\n",
       "    </tr>\n",
       "    <tr>\n",
       "      <th>3</th>\n",
       "      <td>Dormouse Coffee Shop</td>\n",
       "      <td>кофейня</td>\n",
       "      <td>Москва, улица Маршала Федоренко, 12</td>\n",
       "      <td>Северный административный округ</td>\n",
       "      <td>ежедневно, 09:00–22:00</td>\n",
       "      <td>55.881608</td>\n",
       "      <td>37.488860</td>\n",
       "      <td>5.0</td>\n",
       "      <td>NaN</td>\n",
       "      <td>Цена чашки капучино:155–185 ₽</td>\n",
       "      <td>NaN</td>\n",
       "      <td>170.0</td>\n",
       "      <td>0</td>\n",
       "      <td>NaN</td>\n",
       "    </tr>\n",
       "    <tr>\n",
       "      <th>4</th>\n",
       "      <td>Иль Марко</td>\n",
       "      <td>пиццерия</td>\n",
       "      <td>Москва, Правобережная улица, 1Б</td>\n",
       "      <td>Северный административный округ</td>\n",
       "      <td>ежедневно, 10:00–22:00</td>\n",
       "      <td>55.881166</td>\n",
       "      <td>37.449357</td>\n",
       "      <td>5.0</td>\n",
       "      <td>средние</td>\n",
       "      <td>Средний счёт:400–600 ₽</td>\n",
       "      <td>500.0</td>\n",
       "      <td>NaN</td>\n",
       "      <td>1</td>\n",
       "      <td>148.0</td>\n",
       "    </tr>\n",
       "  </tbody>\n",
       "</table>\n",
       "</div>"
      ],
      "text/plain": [
       "                   name  category                              address  \\\n",
       "0                WoWфли      кафе           Москва, улица Дыбенко, 7/1   \n",
       "1        Четыре комнаты  ресторан   Москва, улица Дыбенко, 36, корп. 1   \n",
       "2                 Хазри      кафе       Москва, Клязьминская улица, 15   \n",
       "3  Dormouse Coffee Shop   кофейня  Москва, улица Маршала Федоренко, 12   \n",
       "4             Иль Марко  пиццерия      Москва, Правобережная улица, 1Б   \n",
       "\n",
       "                          district  \\\n",
       "0  Северный административный округ   \n",
       "1  Северный административный округ   \n",
       "2  Северный административный округ   \n",
       "3  Северный административный округ   \n",
       "4  Северный административный округ   \n",
       "\n",
       "                                               hours        lat        lng  \\\n",
       "0                             ежедневно, 10:00–22:00  55.878494  37.478860   \n",
       "1                             ежедневно, 10:00–22:00  55.875801  37.484479   \n",
       "2  пн-чт 11:00–02:00; пт,сб 11:00–05:00; вс 11:00...  55.889146  37.525901   \n",
       "3                             ежедневно, 09:00–22:00  55.881608  37.488860   \n",
       "4                             ежедневно, 10:00–22:00  55.881166  37.449357   \n",
       "\n",
       "   rating          price                       avg_bill  middle_avg_bill  \\\n",
       "0     5.0            NaN                            NaN              NaN   \n",
       "1     4.5  выше среднего       Средний счёт:1500–1600 ₽           1550.0   \n",
       "2     4.6        средние         Средний счёт:от 1000 ₽           1000.0   \n",
       "3     5.0            NaN  Цена чашки капучино:155–185 ₽              NaN   \n",
       "4     5.0        средние         Средний счёт:400–600 ₽            500.0   \n",
       "\n",
       "   middle_coffee_cup  chain  seats  \n",
       "0                NaN      0    NaN  \n",
       "1                NaN      0    4.0  \n",
       "2                NaN      0   45.0  \n",
       "3              170.0      0    NaN  \n",
       "4                NaN      1  148.0  "
      ]
     },
     "metadata": {},
     "output_type": "display_data"
    },
    {
     "data": {
      "text/plain": [
       "'\\nDescription of numeric columns:'"
      ]
     },
     "metadata": {},
     "output_type": "display_data"
    },
    {
     "data": {
      "text/html": [
       "<div>\n",
       "<style scoped>\n",
       "    .dataframe tbody tr th:only-of-type {\n",
       "        vertical-align: middle;\n",
       "    }\n",
       "\n",
       "    .dataframe tbody tr th {\n",
       "        vertical-align: top;\n",
       "    }\n",
       "\n",
       "    .dataframe thead th {\n",
       "        text-align: right;\n",
       "    }\n",
       "</style>\n",
       "<table border=\"1\" class=\"dataframe\">\n",
       "  <thead>\n",
       "    <tr style=\"text-align: right;\">\n",
       "      <th></th>\n",
       "      <th>lat</th>\n",
       "      <th>lng</th>\n",
       "      <th>rating</th>\n",
       "      <th>middle_avg_bill</th>\n",
       "      <th>middle_coffee_cup</th>\n",
       "      <th>chain</th>\n",
       "      <th>seats</th>\n",
       "    </tr>\n",
       "  </thead>\n",
       "  <tbody>\n",
       "    <tr>\n",
       "      <th>count</th>\n",
       "      <td>8406.000000</td>\n",
       "      <td>8406.000000</td>\n",
       "      <td>8406.000000</td>\n",
       "      <td>3149.000000</td>\n",
       "      <td>535.000000</td>\n",
       "      <td>8406.000000</td>\n",
       "      <td>4795.000000</td>\n",
       "    </tr>\n",
       "    <tr>\n",
       "      <th>mean</th>\n",
       "      <td>55.750109</td>\n",
       "      <td>37.608570</td>\n",
       "      <td>4.229895</td>\n",
       "      <td>958.053668</td>\n",
       "      <td>174.721495</td>\n",
       "      <td>0.381275</td>\n",
       "      <td>108.421689</td>\n",
       "    </tr>\n",
       "    <tr>\n",
       "      <th>std</th>\n",
       "      <td>0.069658</td>\n",
       "      <td>0.098597</td>\n",
       "      <td>0.470348</td>\n",
       "      <td>1009.732845</td>\n",
       "      <td>88.951103</td>\n",
       "      <td>0.485729</td>\n",
       "      <td>122.833396</td>\n",
       "    </tr>\n",
       "    <tr>\n",
       "      <th>min</th>\n",
       "      <td>55.573942</td>\n",
       "      <td>37.355651</td>\n",
       "      <td>1.000000</td>\n",
       "      <td>0.000000</td>\n",
       "      <td>60.000000</td>\n",
       "      <td>0.000000</td>\n",
       "      <td>0.000000</td>\n",
       "    </tr>\n",
       "    <tr>\n",
       "      <th>25%</th>\n",
       "      <td>55.705155</td>\n",
       "      <td>37.538583</td>\n",
       "      <td>4.100000</td>\n",
       "      <td>375.000000</td>\n",
       "      <td>124.500000</td>\n",
       "      <td>0.000000</td>\n",
       "      <td>40.000000</td>\n",
       "    </tr>\n",
       "    <tr>\n",
       "      <th>50%</th>\n",
       "      <td>55.753425</td>\n",
       "      <td>37.605246</td>\n",
       "      <td>4.300000</td>\n",
       "      <td>750.000000</td>\n",
       "      <td>169.000000</td>\n",
       "      <td>0.000000</td>\n",
       "      <td>75.000000</td>\n",
       "    </tr>\n",
       "    <tr>\n",
       "      <th>75%</th>\n",
       "      <td>55.795041</td>\n",
       "      <td>37.664792</td>\n",
       "      <td>4.400000</td>\n",
       "      <td>1250.000000</td>\n",
       "      <td>225.000000</td>\n",
       "      <td>1.000000</td>\n",
       "      <td>140.000000</td>\n",
       "    </tr>\n",
       "    <tr>\n",
       "      <th>max</th>\n",
       "      <td>55.928943</td>\n",
       "      <td>37.874466</td>\n",
       "      <td>5.000000</td>\n",
       "      <td>35000.000000</td>\n",
       "      <td>1568.000000</td>\n",
       "      <td>1.000000</td>\n",
       "      <td>1288.000000</td>\n",
       "    </tr>\n",
       "  </tbody>\n",
       "</table>\n",
       "</div>"
      ],
      "text/plain": [
       "               lat          lng       rating  middle_avg_bill  \\\n",
       "count  8406.000000  8406.000000  8406.000000      3149.000000   \n",
       "mean     55.750109    37.608570     4.229895       958.053668   \n",
       "std       0.069658     0.098597     0.470348      1009.732845   \n",
       "min      55.573942    37.355651     1.000000         0.000000   \n",
       "25%      55.705155    37.538583     4.100000       375.000000   \n",
       "50%      55.753425    37.605246     4.300000       750.000000   \n",
       "75%      55.795041    37.664792     4.400000      1250.000000   \n",
       "max      55.928943    37.874466     5.000000     35000.000000   \n",
       "\n",
       "       middle_coffee_cup        chain        seats  \n",
       "count         535.000000  8406.000000  4795.000000  \n",
       "mean          174.721495     0.381275   108.421689  \n",
       "std            88.951103     0.485729   122.833396  \n",
       "min            60.000000     0.000000     0.000000  \n",
       "25%           124.500000     0.000000    40.000000  \n",
       "50%           169.000000     0.000000    75.000000  \n",
       "75%           225.000000     1.000000   140.000000  \n",
       "max          1568.000000     1.000000  1288.000000  "
      ]
     },
     "metadata": {},
     "output_type": "display_data"
    },
    {
     "data": {
      "text/plain": [
       "'\\nNumber of duplicate rows in the dataset:'"
      ]
     },
     "metadata": {},
     "output_type": "display_data"
    },
    {
     "data": {
      "text/plain": [
       "np.int64(0)"
      ]
     },
     "metadata": {},
     "output_type": "display_data"
    },
    {
     "data": {
      "text/plain": [
       "'\\nNumber of missing values in the dataset:'"
      ]
     },
     "metadata": {},
     "output_type": "display_data"
    },
    {
     "data": {
      "text/plain": [
       "name                    0\n",
       "category                0\n",
       "address                 0\n",
       "district                0\n",
       "hours                 536\n",
       "lat                     0\n",
       "lng                     0\n",
       "rating                  0\n",
       "price                5091\n",
       "avg_bill             4590\n",
       "middle_avg_bill      5257\n",
       "middle_coffee_cup    7871\n",
       "chain                   0\n",
       "seats                3611\n",
       "dtype: int64"
      ]
     },
     "metadata": {},
     "output_type": "display_data"
    },
    {
     "data": {
      "text/plain": [
       "'\\nFrequency distributions for categorical columns:'"
      ]
     },
     "metadata": {},
     "output_type": "display_data"
    },
    {
     "data": {
      "text/plain": [
       "\"\\nColumn 'name':\""
      ]
     },
     "metadata": {},
     "output_type": "display_data"
    },
    {
     "data": {
      "text/plain": [
       "name\n",
       "Кафе                189\n",
       "Шоколадница         120\n",
       "Домино'с Пицца       76\n",
       "Додо Пицца           74\n",
       "One Price Coffee     71\n",
       "                   ... \n",
       "Практика Кофе         1\n",
       "Суши Мания            1\n",
       "Миславнес             1\n",
       "Самовар               1\n",
       "Woka Noodles          1\n",
       "Name: count, Length: 5614, dtype: int64"
      ]
     },
     "metadata": {},
     "output_type": "display_data"
    },
    {
     "data": {
      "text/plain": [
       "\"\\nColumn 'category':\""
      ]
     },
     "metadata": {},
     "output_type": "display_data"
    },
    {
     "data": {
      "text/plain": [
       "category\n",
       "кафе               2378\n",
       "ресторан           2043\n",
       "кофейня            1413\n",
       "бар,паб             765\n",
       "пиццерия            633\n",
       "быстрое питание     603\n",
       "столовая            315\n",
       "булочная            256\n",
       "Name: count, dtype: int64"
      ]
     },
     "metadata": {},
     "output_type": "display_data"
    },
    {
     "data": {
      "text/plain": [
       "\"\\nColumn 'address':\""
      ]
     },
     "metadata": {},
     "output_type": "display_data"
    },
    {
     "data": {
      "text/plain": [
       "address\n",
       "Москва, проспект Вернадского, 86В       28\n",
       "Москва, Усачёва улица, 26               26\n",
       "Москва, площадь Киевского Вокзала, 2    20\n",
       "Москва, Ярцевская улица, 19             20\n",
       "Москва, проспект Мира, 211к2            16\n",
       "                                        ..\n",
       "Москва, Прибрежный проезд, 7             1\n",
       "Москва, Большая Косинская улица, 24А     1\n",
       "Москва, 1-я Новокузьминская улица, 3     1\n",
       "Москва, Большая Косинская улица, 27      1\n",
       "Москва, Ферганская улица, вл17-21        1\n",
       "Name: count, Length: 5753, dtype: int64"
      ]
     },
     "metadata": {},
     "output_type": "display_data"
    },
    {
     "data": {
      "text/plain": [
       "\"\\nColumn 'district':\""
      ]
     },
     "metadata": {},
     "output_type": "display_data"
    },
    {
     "data": {
      "text/plain": [
       "district\n",
       "Центральный административный округ         2242\n",
       "Северный административный округ             900\n",
       "Южный административный округ                892\n",
       "Северо-Восточный административный округ     891\n",
       "Западный административный округ             851\n",
       "Восточный административный округ            798\n",
       "Юго-Восточный административный округ        714\n",
       "Юго-Западный административный округ         709\n",
       "Северо-Западный административный округ      409\n",
       "Name: count, dtype: int64"
      ]
     },
     "metadata": {},
     "output_type": "display_data"
    },
    {
     "data": {
      "text/plain": [
       "\"\\nColumn 'hours':\""
      ]
     },
     "metadata": {},
     "output_type": "display_data"
    },
    {
     "data": {
      "text/plain": [
       "hours\n",
       "ежедневно, 10:00–22:00                                  759\n",
       "ежедневно, круглосуточно                                730\n",
       "ежедневно, 11:00–23:00                                  396\n",
       "ежедневно, 10:00–23:00                                  310\n",
       "ежедневно, 12:00–00:00                                  254\n",
       "                                                       ... \n",
       "ежедневно, 06:00–21:00                                    1\n",
       "пн-чт 11:00–23:00; пт,сб 11:00–23:30; вс 11:00–23:00      1\n",
       "ежедневно, 06:00–02:55                                    1\n",
       "ежедневно, 07:00–01:00                                    1\n",
       "пн-чт 10:00–02:00; пт-вс 10:00–03:00                      1\n",
       "Name: count, Length: 1307, dtype: int64"
      ]
     },
     "metadata": {},
     "output_type": "display_data"
    },
    {
     "data": {
      "text/plain": [
       "\"\\nColumn 'price':\""
      ]
     },
     "metadata": {},
     "output_type": "display_data"
    },
    {
     "data": {
      "text/plain": [
       "price\n",
       "средние          2117\n",
       "выше среднего     564\n",
       "высокие           478\n",
       "низкие            156\n",
       "Name: count, dtype: int64"
      ]
     },
     "metadata": {},
     "output_type": "display_data"
    },
    {
     "data": {
      "text/plain": [
       "\"\\nColumn 'avg_bill':\""
      ]
     },
     "metadata": {},
     "output_type": "display_data"
    },
    {
     "data": {
      "text/plain": [
       "avg_bill\n",
       "Средний счёт:1000–1500 ₽       241\n",
       "Средний счёт:1500–2000 ₽       120\n",
       "Средний счёт:300–500 ₽          90\n",
       "Средний счёт:500–1000 ₽         78\n",
       "Средний счёт:1500–2500 ₽        68\n",
       "                              ... \n",
       "Цена бокала пива:170–240 ₽       1\n",
       "Цена чашки капучино:60–90 ₽      1\n",
       "Средний счёт:750 ₽               1\n",
       "Средний счёт:1000–5000 ₽         1\n",
       "Средний счёт:500–5000 ₽          1\n",
       "Name: count, Length: 897, dtype: int64"
      ]
     },
     "metadata": {},
     "output_type": "display_data"
    }
   ],
   "source": [
    "primary_analysis(df)"
   ]
  },
  {
   "cell_type": "markdown",
   "metadata": {},
   "source": [
    "The study includes 8,406 establishments. The dataframe contains several rows with missing values. The missing values are noted in the following columns:\n",
    "\n",
    "- hours: 536 missing values (information on business days and hours).\n",
    "- price: 5,091 missing values (price category).\n",
    "- avg_bill: 4,590 missing values (average bill amount).\n",
    "- middle_avg_bill: 5,257 missing values (median bill estimate, only available for avg_bill values starting with \"Средний счёт\").\n",
    "- middle_coffee_cup: 7,871 missing values (median price for a cup of cappuccino, only available for avg_bill values starting with \"Цена одной чашки капучино\").\n",
    "- seats: 3,611 missing values (number of seats).\n",
    "\n",
    "These issues will be addressed in the next section of the study.\n",
    "\n",
    "The chain column has 8,406 non-empty values of type int64. However, due to the nature of the data, it is recommended to convert this column to a boolean type. This transformation will also be handled in the next section.\n",
    "\n",
    "Outliers are observed in the middle_avg_bill, middle_coffee_cup, and seats columns. The outlier boundaries will be calculated using the interquartile range (IQR) method:  1.5 × IQR. Specifically:\n",
    "\n",
    "- Values above 2,500 in middle_avg_bill can be considered outliers. Zero values should also be reviewed.\n",
    "- Values above 375 in middle_coffee_cup can be considered outliers.\n",
    "- In the seats column, rows with values greater than 290 or equal to 0 can be considered outliers.\n",
    "\n",
    "We will examine these outliers more closely in the next section.\n",
    "\n",
    "No duplicates were found in the dataset.\n",
    "\n",
    "The data covers all categories and districts, with cafes and restaurants leading in popularity. Among districts, the Central Administrative District ranks first. Regarding operating hours, despite missing values, two patterns dominate: 10:00 AM to 10:00 PM and 24/7 operations. The price column suggests the analysis focuses on establishments with average price categories.\n",
    "\n",
    "In general, the data appears suitable for analysis. Using these observations, we will proceed to data preprocessing, during which we will:\n",
    "\n",
    "1. Examine missing values in more detail.\n",
    "2. Adjust data types as necessary.\n",
    "3. Analyze outliers.\n",
    "4. Create a new column, street, to extract street names from the address column.\n",
    "5. Create a new column, is_24_7, to indicate whether an establishment operates daily and around the clock:\n",
    "    - Logical value True: if the establishment operates 24/7.\n",
    "    - Logical value False: otherwise."
   ]
  },
  {
   "cell_type": "markdown",
   "metadata": {},
   "source": [
    "## Data Preprocessing"
   ]
  },
  {
   "cell_type": "markdown",
   "metadata": {},
   "source": [
    "First, let's take a look at the missing values."
   ]
  },
  {
   "cell_type": "code",
   "execution_count": 44,
   "metadata": {},
   "outputs": [
    {
     "name": "stdout",
     "output_type": "stream",
     "text": [
      "<class 'pandas.core.frame.DataFrame'>\n",
      "Index: 528 entries, 38 to 8395\n",
      "Data columns (total 14 columns):\n",
      " #   Column             Non-Null Count  Dtype  \n",
      "---  ------             --------------  -----  \n",
      " 0   name               528 non-null    object \n",
      " 1   category           528 non-null    object \n",
      " 2   address            528 non-null    object \n",
      " 3   district           528 non-null    object \n",
      " 4   hours              0 non-null      object \n",
      " 5   lat                528 non-null    float64\n",
      " 6   lng                528 non-null    float64\n",
      " 7   rating             528 non-null    float64\n",
      " 8   price              0 non-null      object \n",
      " 9   avg_bill           0 non-null      object \n",
      " 10  middle_avg_bill    0 non-null      float64\n",
      " 11  middle_coffee_cup  0 non-null      float64\n",
      " 12  chain              528 non-null    int64  \n",
      " 13  seats              293 non-null    float64\n",
      "dtypes: float64(6), int64(1), object(7)\n",
      "memory usage: 61.9+ KB\n"
     ]
    }
   ],
   "source": [
    "missing_data = df[(df['hours'].isna()) & (df['price'].isna()) & (df['avg_bill'].isna())]\n",
    "missing_data.info()"
   ]
  },
  {
   "cell_type": "markdown",
   "metadata": {},
   "source": [
    "- hours: 536 missing values (information on days and hours of operation).\n",
    "\n",
    "It is unlikely that there are columns directly correlating with operating hours. Theoretically, we could attempt to find a relationship with columns like district and category, but this wouldn't always be accurate, as operating hours depend on numerous factors and are often unique to each establishment. Therefore, recovering these values is not feasible.\n",
    "\n",
    "From the output above, we observe that establishments missing information in the hours column also lack data"
   ]
  },
  {
   "cell_type": "markdown",
   "metadata": {},
   "source": []
  },
  {
   "cell_type": "code",
   "execution_count": 45,
   "metadata": {},
   "outputs": [
    {
     "data": {
      "text/plain": [
       "name                    0\n",
       "category                0\n",
       "address                 0\n",
       "district                0\n",
       "hours                   0\n",
       "lat                     0\n",
       "lng                     0\n",
       "rating                  0\n",
       "price                4560\n",
       "avg_bill             4062\n",
       "middle_avg_bill      4727\n",
       "middle_coffee_cup    7336\n",
       "chain                   0\n",
       "seats                3375\n",
       "dtype: int64"
      ]
     },
     "execution_count": 45,
     "metadata": {},
     "output_type": "execute_result"
    }
   ],
   "source": [
    "condition = (df['hours'].isna())\n",
    "df = df[~condition]\n",
    "df.isna().sum()"
   ]
  },
  {
   "cell_type": "markdown",
   "metadata": {},
   "source": [
    "- price: 4,560 missing values (price category).\n",
    "\n",
    "Since more than half of the rows have missing values, filling them in accurately would be challenging. We could use average values for specific categories of establishments or regions, but this might distort the data. It's better to leave the values as they are. We'll replace the missing values with \"Unknown\"."
   ]
  },
  {
   "cell_type": "code",
   "execution_count": 46,
   "metadata": {},
   "outputs": [
    {
     "data": {
      "text/plain": [
       "name                    0\n",
       "category                0\n",
       "address                 0\n",
       "district                0\n",
       "hours                   0\n",
       "lat                     0\n",
       "lng                     0\n",
       "rating                  0\n",
       "price                   0\n",
       "avg_bill             4062\n",
       "middle_avg_bill      4727\n",
       "middle_coffee_cup    7336\n",
       "chain                   0\n",
       "seats                3375\n",
       "dtype: int64"
      ]
     },
     "execution_count": 46,
     "metadata": {},
     "output_type": "execute_result"
    }
   ],
   "source": [
    "df['price'] = df['price'].fillna(value='Unknow') \n",
    "df.isna().sum()"
   ]
  },
  {
   "cell_type": "markdown",
   "metadata": {},
   "source": [
    "- avg_bill: 4,062 missing values (average bill).\n",
    "\n",
    "Similar to the \"price\" column, this column also has a large number of missing values. We will perform the same actions as with the \"price\" column, replacing the missing values with \"Unknown\"."
   ]
  },
  {
   "cell_type": "code",
   "execution_count": 47,
   "metadata": {},
   "outputs": [
    {
     "data": {
      "text/plain": [
       "name                    0\n",
       "category                0\n",
       "address                 0\n",
       "district                0\n",
       "hours                   0\n",
       "lat                     0\n",
       "lng                     0\n",
       "rating                  0\n",
       "price                   0\n",
       "avg_bill                0\n",
       "middle_avg_bill      4727\n",
       "middle_coffee_cup    7336\n",
       "chain                   0\n",
       "seats                3375\n",
       "dtype: int64"
      ]
     },
     "execution_count": 47,
     "metadata": {},
     "output_type": "execute_result"
    }
   ],
   "source": [
    "df['avg_bill'] = df['avg_bill'].fillna(value='Unknow') \n",
    "df.isna().sum()"
   ]
  },
  {
   "cell_type": "markdown",
   "metadata": {},
   "source": [
    "The columns middle_avg_bill and middle_coffee_cup are directly linked to the avg_bill column, where the missing data could not be recovered. Therefore, we will leave these columns as they are. The same approach applies to the seats column."
   ]
  },
  {
   "cell_type": "markdown",
   "metadata": {},
   "source": [
    "Let us calculate how much data was lost after the performed manipulations."
   ]
  },
  {
   "cell_type": "code",
   "execution_count": 48,
   "metadata": {},
   "outputs": [
    {
     "data": {
      "text/plain": [
       "'Absolute data loss: 536'"
      ]
     },
     "metadata": {},
     "output_type": "display_data"
    },
    {
     "data": {
      "text/plain": [
       "'Relative data loss: 6.38%'"
      ]
     },
     "metadata": {},
     "output_type": "display_data"
    }
   ],
   "source": [
    "data_loss(df,df_raw)"
   ]
  },
  {
   "cell_type": "markdown",
   "metadata": {},
   "source": [
    "We lost about 5% of the data, which is a relatively small loss. Let’s move on."
   ]
  },
  {
   "cell_type": "markdown",
   "metadata": {},
   "source": [
    "Let’s change the data type of the chain column to the appropriate one."
   ]
  },
  {
   "cell_type": "markdown",
   "metadata": {},
   "source": []
  },
  {
   "cell_type": "code",
   "execution_count": 49,
   "metadata": {},
   "outputs": [
    {
     "name": "stdout",
     "output_type": "stream",
     "text": [
      "<class 'pandas.core.frame.DataFrame'>\n",
      "Index: 7870 entries, 0 to 8405\n",
      "Data columns (total 14 columns):\n",
      " #   Column             Non-Null Count  Dtype  \n",
      "---  ------             --------------  -----  \n",
      " 0   name               7870 non-null   object \n",
      " 1   category           7870 non-null   object \n",
      " 2   address            7870 non-null   object \n",
      " 3   district           7870 non-null   object \n",
      " 4   hours              7870 non-null   object \n",
      " 5   lat                7870 non-null   float64\n",
      " 6   lng                7870 non-null   float64\n",
      " 7   rating             7870 non-null   float64\n",
      " 8   price              7870 non-null   object \n",
      " 9   avg_bill           7870 non-null   object \n",
      " 10  middle_avg_bill    3143 non-null   float64\n",
      " 11  middle_coffee_cup  534 non-null    float64\n",
      " 12  chain              7870 non-null   bool   \n",
      " 13  seats              4495 non-null   float64\n",
      "dtypes: bool(1), float64(6), object(7)\n",
      "memory usage: 868.5+ KB\n"
     ]
    }
   ],
   "source": [
    "df['chain'] = df['chain'].astype(bool)\n",
    "df.info()"
   ]
  },
  {
   "cell_type": "markdown",
   "metadata": {},
   "source": [
    "Let’s analyze the number of rows (outliers) where the middle_avg_bill column (a numerical estimate of the average bill) exceeds 2500:"
   ]
  },
  {
   "cell_type": "code",
   "execution_count": 50,
   "metadata": {},
   "outputs": [
    {
     "name": "stdout",
     "output_type": "stream",
     "text": [
      "<class 'pandas.core.frame.DataFrame'>\n",
      "Index: 104 entries, 293 to 8297\n",
      "Data columns (total 14 columns):\n",
      " #   Column             Non-Null Count  Dtype  \n",
      "---  ------             --------------  -----  \n",
      " 0   name               104 non-null    object \n",
      " 1   category           104 non-null    object \n",
      " 2   address            104 non-null    object \n",
      " 3   district           104 non-null    object \n",
      " 4   hours              104 non-null    object \n",
      " 5   lat                104 non-null    float64\n",
      " 6   lng                104 non-null    float64\n",
      " 7   rating             104 non-null    float64\n",
      " 8   price              104 non-null    object \n",
      " 9   avg_bill           104 non-null    object \n",
      " 10  middle_avg_bill    104 non-null    float64\n",
      " 11  middle_coffee_cup  0 non-null      float64\n",
      " 12  chain              104 non-null    bool   \n",
      " 13  seats              70 non-null     float64\n",
      "dtypes: bool(1), float64(6), object(7)\n",
      "memory usage: 11.5+ KB\n"
     ]
    }
   ],
   "source": [
    "middle_avg_bill_high = df[(df['middle_avg_bill'])>2500]\n",
    "middle_avg_bill_high.info()"
   ]
  },
  {
   "cell_type": "markdown",
   "metadata": {},
   "source": [
    "Let’s also take a look at the rows where the value in the middle_avg_bill column is 0."
   ]
  },
  {
   "cell_type": "code",
   "execution_count": 51,
   "metadata": {},
   "outputs": [
    {
     "data": {
      "text/html": [
       "<div>\n",
       "<style scoped>\n",
       "    .dataframe tbody tr th:only-of-type {\n",
       "        vertical-align: middle;\n",
       "    }\n",
       "\n",
       "    .dataframe tbody tr th {\n",
       "        vertical-align: top;\n",
       "    }\n",
       "\n",
       "    .dataframe thead th {\n",
       "        text-align: right;\n",
       "    }\n",
       "</style>\n",
       "<table border=\"1\" class=\"dataframe\">\n",
       "  <thead>\n",
       "    <tr style=\"text-align: right;\">\n",
       "      <th></th>\n",
       "      <th>name</th>\n",
       "      <th>category</th>\n",
       "      <th>address</th>\n",
       "      <th>district</th>\n",
       "      <th>hours</th>\n",
       "      <th>lat</th>\n",
       "      <th>lng</th>\n",
       "      <th>rating</th>\n",
       "      <th>price</th>\n",
       "      <th>avg_bill</th>\n",
       "      <th>middle_avg_bill</th>\n",
       "      <th>middle_coffee_cup</th>\n",
       "      <th>chain</th>\n",
       "      <th>seats</th>\n",
       "    </tr>\n",
       "  </thead>\n",
       "  <tbody>\n",
       "    <tr>\n",
       "      <th>3688</th>\n",
       "      <td>Кофемания</td>\n",
       "      <td>кофейня</td>\n",
       "      <td>Москва, улица Новый Арбат, 19</td>\n",
       "      <td>Центральный административный округ</td>\n",
       "      <td>ежедневно, круглосуточно</td>\n",
       "      <td>55.752136</td>\n",
       "      <td>37.587784</td>\n",
       "      <td>4.5</td>\n",
       "      <td>высокие</td>\n",
       "      <td>Средний счёт:от 0 ₽</td>\n",
       "      <td>0.0</td>\n",
       "      <td>NaN</td>\n",
       "      <td>True</td>\n",
       "      <td>200.0</td>\n",
       "    </tr>\n",
       "  </tbody>\n",
       "</table>\n",
       "</div>"
      ],
      "text/plain": [
       "           name category                        address  \\\n",
       "3688  Кофемания  кофейня  Москва, улица Новый Арбат, 19   \n",
       "\n",
       "                                district                     hours        lat  \\\n",
       "3688  Центральный административный округ  ежедневно, круглосуточно  55.752136   \n",
       "\n",
       "            lng  rating    price             avg_bill  middle_avg_bill  \\\n",
       "3688  37.587784     4.5  высокие  Средний счёт:от 0 ₽              0.0   \n",
       "\n",
       "      middle_coffee_cup  chain  seats  \n",
       "3688                NaN   True  200.0  "
      ]
     },
     "execution_count": 51,
     "metadata": {},
     "output_type": "execute_result"
    }
   ],
   "source": [
    "middle_avg_bill_low = df[(df['middle_avg_bill'])==0]\n",
    "middle_avg_bill_low"
   ]
  },
  {
   "cell_type": "markdown",
   "metadata": {},
   "source": [
    "We will remove these rows to avoid distorting the overall picture."
   ]
  },
  {
   "cell_type": "code",
   "execution_count": 52,
   "metadata": {},
   "outputs": [],
   "source": [
    "condition = ((df['middle_avg_bill'] > 2500) | (df['middle_avg_bill'] == 0))\n",
    "df = df[~condition]"
   ]
  },
  {
   "cell_type": "markdown",
   "metadata": {},
   "source": [
    "Let’s move on to the column middle_coffee_cup, where the outlier value was determined to be 375."
   ]
  },
  {
   "cell_type": "code",
   "execution_count": 53,
   "metadata": {},
   "outputs": [
    {
     "data": {
      "text/html": [
       "<div>\n",
       "<style scoped>\n",
       "    .dataframe tbody tr th:only-of-type {\n",
       "        vertical-align: middle;\n",
       "    }\n",
       "\n",
       "    .dataframe tbody tr th {\n",
       "        vertical-align: top;\n",
       "    }\n",
       "\n",
       "    .dataframe thead th {\n",
       "        text-align: right;\n",
       "    }\n",
       "</style>\n",
       "<table border=\"1\" class=\"dataframe\">\n",
       "  <thead>\n",
       "    <tr style=\"text-align: right;\">\n",
       "      <th></th>\n",
       "      <th>name</th>\n",
       "      <th>category</th>\n",
       "      <th>address</th>\n",
       "      <th>district</th>\n",
       "      <th>hours</th>\n",
       "      <th>lat</th>\n",
       "      <th>lng</th>\n",
       "      <th>rating</th>\n",
       "      <th>price</th>\n",
       "      <th>avg_bill</th>\n",
       "      <th>middle_avg_bill</th>\n",
       "      <th>middle_coffee_cup</th>\n",
       "      <th>chain</th>\n",
       "      <th>seats</th>\n",
       "    </tr>\n",
       "  </thead>\n",
       "  <tbody>\n",
       "    <tr>\n",
       "      <th>2859</th>\n",
       "      <td>Шоколадница</td>\n",
       "      <td>кофейня</td>\n",
       "      <td>Москва, Большая Семёновская улица, 27, корп. 1</td>\n",
       "      <td>Восточный административный округ</td>\n",
       "      <td>ежедневно, 08:00–23:00</td>\n",
       "      <td>55.782268</td>\n",
       "      <td>37.709022</td>\n",
       "      <td>4.2</td>\n",
       "      <td>средние</td>\n",
       "      <td>Цена чашки капучино:230–2907 ₽</td>\n",
       "      <td>NaN</td>\n",
       "      <td>1568.0</td>\n",
       "      <td>True</td>\n",
       "      <td>48.0</td>\n",
       "    </tr>\n",
       "  </tbody>\n",
       "</table>\n",
       "</div>"
      ],
      "text/plain": [
       "             name category                                         address  \\\n",
       "2859  Шоколадница  кофейня  Москва, Большая Семёновская улица, 27, корп. 1   \n",
       "\n",
       "                              district                   hours        lat  \\\n",
       "2859  Восточный административный округ  ежедневно, 08:00–23:00  55.782268   \n",
       "\n",
       "            lng  rating    price                        avg_bill  \\\n",
       "2859  37.709022     4.2  средние  Цена чашки капучино:230–2907 ₽   \n",
       "\n",
       "      middle_avg_bill  middle_coffee_cup  chain  seats  \n",
       "2859              NaN             1568.0   True   48.0  "
      ]
     },
     "execution_count": 53,
     "metadata": {},
     "output_type": "execute_result"
    }
   ],
   "source": [
    "middle_coffee_cup_high = df[(df['middle_coffee_cup'])>375]\n",
    "middle_coffee_cup_high"
   ]
  },
  {
   "cell_type": "markdown",
   "metadata": {},
   "source": [
    "Let’s remove these data points to avoid distorting the overall picture."
   ]
  },
  {
   "cell_type": "code",
   "execution_count": 54,
   "metadata": {},
   "outputs": [],
   "source": [
    "condition = ((df['middle_coffee_cup'])>375)\n",
    "df = df[~condition]"
   ]
  },
  {
   "cell_type": "markdown",
   "metadata": {},
   "source": [
    "Now let’s move on to the number of seats. Here, we’ll set 1,000 seats as the threshold."
   ]
  },
  {
   "cell_type": "code",
   "execution_count": 55,
   "metadata": {},
   "outputs": [
    {
     "data": {
      "text/html": [
       "<div>\n",
       "<style scoped>\n",
       "    .dataframe tbody tr th:only-of-type {\n",
       "        vertical-align: middle;\n",
       "    }\n",
       "\n",
       "    .dataframe tbody tr th {\n",
       "        vertical-align: top;\n",
       "    }\n",
       "\n",
       "    .dataframe thead th {\n",
       "        text-align: right;\n",
       "    }\n",
       "</style>\n",
       "<table border=\"1\" class=\"dataframe\">\n",
       "  <thead>\n",
       "    <tr style=\"text-align: right;\">\n",
       "      <th></th>\n",
       "      <th>name</th>\n",
       "      <th>category</th>\n",
       "      <th>address</th>\n",
       "      <th>district</th>\n",
       "      <th>hours</th>\n",
       "      <th>lat</th>\n",
       "      <th>lng</th>\n",
       "      <th>rating</th>\n",
       "      <th>price</th>\n",
       "      <th>avg_bill</th>\n",
       "      <th>middle_avg_bill</th>\n",
       "      <th>middle_coffee_cup</th>\n",
       "      <th>chain</th>\n",
       "      <th>seats</th>\n",
       "    </tr>\n",
       "  </thead>\n",
       "  <tbody>\n",
       "    <tr>\n",
       "      <th>2713</th>\n",
       "      <td>Ваня и Гоги</td>\n",
       "      <td>бар,паб</td>\n",
       "      <td>Москва, Измайловское шоссе, 71, корп. А</td>\n",
       "      <td>Восточный административный округ</td>\n",
       "      <td>ежедневно, 11:00–06:00</td>\n",
       "      <td>55.789842</td>\n",
       "      <td>37.750282</td>\n",
       "      <td>4.2</td>\n",
       "      <td>высокие</td>\n",
       "      <td>Средний счёт:1000–2500 ₽</td>\n",
       "      <td>1750.0</td>\n",
       "      <td>NaN</td>\n",
       "      <td>False</td>\n",
       "      <td>1040.0</td>\n",
       "    </tr>\n",
       "    <tr>\n",
       "      <th>2722</th>\n",
       "      <td>Маргарита</td>\n",
       "      <td>быстрое питание</td>\n",
       "      <td>Москва, Измайловское шоссе, 71, корп. А</td>\n",
       "      <td>Восточный административный округ</td>\n",
       "      <td>ежедневно, 10:00–22:00</td>\n",
       "      <td>55.789527</td>\n",
       "      <td>37.752004</td>\n",
       "      <td>4.3</td>\n",
       "      <td>Unknow</td>\n",
       "      <td>Unknow</td>\n",
       "      <td>NaN</td>\n",
       "      <td>NaN</td>\n",
       "      <td>True</td>\n",
       "      <td>1040.0</td>\n",
       "    </tr>\n",
       "    <tr>\n",
       "      <th>2770</th>\n",
       "      <td>Шоколадница</td>\n",
       "      <td>кофейня</td>\n",
       "      <td>Москва, Измайловское шоссе, 71, корп. А</td>\n",
       "      <td>Восточный административный округ</td>\n",
       "      <td>пн-ср 11:00–23:00; чт 11:00–00:00; пт,сб 11:00...</td>\n",
       "      <td>55.789903</td>\n",
       "      <td>37.749822</td>\n",
       "      <td>4.1</td>\n",
       "      <td>Unknow</td>\n",
       "      <td>Unknow</td>\n",
       "      <td>NaN</td>\n",
       "      <td>NaN</td>\n",
       "      <td>True</td>\n",
       "      <td>1040.0</td>\n",
       "    </tr>\n",
       "    <tr>\n",
       "      <th>6518</th>\n",
       "      <td>DelonixCafe</td>\n",
       "      <td>ресторан</td>\n",
       "      <td>Москва, проспект Вернадского, 94, корп. 1</td>\n",
       "      <td>Западный административный округ</td>\n",
       "      <td>ежедневно, круглосуточно</td>\n",
       "      <td>55.652577</td>\n",
       "      <td>37.475730</td>\n",
       "      <td>4.1</td>\n",
       "      <td>высокие</td>\n",
       "      <td>Средний счёт:1500–2000 ₽</td>\n",
       "      <td>1750.0</td>\n",
       "      <td>NaN</td>\n",
       "      <td>False</td>\n",
       "      <td>1288.0</td>\n",
       "    </tr>\n",
       "    <tr>\n",
       "      <th>6524</th>\n",
       "      <td>Ян Примус</td>\n",
       "      <td>ресторан</td>\n",
       "      <td>Москва, проспект Вернадского, 121, корп. 1</td>\n",
       "      <td>Западный административный округ</td>\n",
       "      <td>пн-чт 12:00–00:00; пт,сб 12:00–02:00; вс 12:00...</td>\n",
       "      <td>55.657166</td>\n",
       "      <td>37.481519</td>\n",
       "      <td>4.5</td>\n",
       "      <td>выше среднего</td>\n",
       "      <td>Средний счёт:1500 ₽</td>\n",
       "      <td>1500.0</td>\n",
       "      <td>NaN</td>\n",
       "      <td>True</td>\n",
       "      <td>1288.0</td>\n",
       "    </tr>\n",
       "    <tr>\n",
       "      <th>6574</th>\n",
       "      <td>Мюнгер</td>\n",
       "      <td>пиццерия</td>\n",
       "      <td>Москва, проспект Вернадского, 97, корп. 1</td>\n",
       "      <td>Западный административный округ</td>\n",
       "      <td>пн-пт 08:00–21:00; сб,вс 10:00–21:00</td>\n",
       "      <td>55.667505</td>\n",
       "      <td>37.491001</td>\n",
       "      <td>4.8</td>\n",
       "      <td>Unknow</td>\n",
       "      <td>Unknow</td>\n",
       "      <td>NaN</td>\n",
       "      <td>NaN</td>\n",
       "      <td>True</td>\n",
       "      <td>1288.0</td>\n",
       "    </tr>\n",
       "    <tr>\n",
       "      <th>6641</th>\n",
       "      <td>One Price Coffee</td>\n",
       "      <td>кофейня</td>\n",
       "      <td>Москва, проспект Вернадского, 84, стр. 1</td>\n",
       "      <td>Западный административный округ</td>\n",
       "      <td>ежедневно, 08:30–20:00</td>\n",
       "      <td>55.665129</td>\n",
       "      <td>37.478635</td>\n",
       "      <td>4.3</td>\n",
       "      <td>Unknow</td>\n",
       "      <td>Unknow</td>\n",
       "      <td>NaN</td>\n",
       "      <td>NaN</td>\n",
       "      <td>True</td>\n",
       "      <td>1288.0</td>\n",
       "    </tr>\n",
       "    <tr>\n",
       "      <th>6658</th>\n",
       "      <td>ГудБар</td>\n",
       "      <td>бар,паб</td>\n",
       "      <td>Москва, проспект Вернадского, 97, корп. 1</td>\n",
       "      <td>Западный административный округ</td>\n",
       "      <td>пн-пт 11:00–23:00; сб,вс 13:00–23:00</td>\n",
       "      <td>55.667327</td>\n",
       "      <td>37.490601</td>\n",
       "      <td>4.1</td>\n",
       "      <td>средние</td>\n",
       "      <td>Средний счёт:700 ₽</td>\n",
       "      <td>700.0</td>\n",
       "      <td>NaN</td>\n",
       "      <td>False</td>\n",
       "      <td>1288.0</td>\n",
       "    </tr>\n",
       "    <tr>\n",
       "      <th>6807</th>\n",
       "      <td>Loft-cafe академия</td>\n",
       "      <td>кафе</td>\n",
       "      <td>Москва, проспект Вернадского, 84, стр. 1</td>\n",
       "      <td>Западный административный округ</td>\n",
       "      <td>пн-пт 09:00–20:00; сб 09:00–16:00</td>\n",
       "      <td>55.665142</td>\n",
       "      <td>37.478603</td>\n",
       "      <td>3.6</td>\n",
       "      <td>Unknow</td>\n",
       "      <td>Unknow</td>\n",
       "      <td>NaN</td>\n",
       "      <td>NaN</td>\n",
       "      <td>False</td>\n",
       "      <td>1288.0</td>\n",
       "    </tr>\n",
       "    <tr>\n",
       "      <th>6808</th>\n",
       "      <td>Яндекс Лавка</td>\n",
       "      <td>ресторан</td>\n",
       "      <td>Москва, проспект Вернадского, 51, стр. 1</td>\n",
       "      <td>Западный административный округ</td>\n",
       "      <td>ежедневно, круглосуточно</td>\n",
       "      <td>55.672580</td>\n",
       "      <td>37.507753</td>\n",
       "      <td>4.0</td>\n",
       "      <td>Unknow</td>\n",
       "      <td>Unknow</td>\n",
       "      <td>NaN</td>\n",
       "      <td>NaN</td>\n",
       "      <td>True</td>\n",
       "      <td>1288.0</td>\n",
       "    </tr>\n",
       "    <tr>\n",
       "      <th>6838</th>\n",
       "      <td>Alternative coffee</td>\n",
       "      <td>кофейня</td>\n",
       "      <td>Москва, проспект Вернадского, 41, стр. 1</td>\n",
       "      <td>Западный административный округ</td>\n",
       "      <td>пн-пт 09:00–21:00; сб,вс 09:00–22:00</td>\n",
       "      <td>55.673128</td>\n",
       "      <td>37.502992</td>\n",
       "      <td>4.3</td>\n",
       "      <td>Unknow</td>\n",
       "      <td>Unknow</td>\n",
       "      <td>NaN</td>\n",
       "      <td>NaN</td>\n",
       "      <td>False</td>\n",
       "      <td>1288.0</td>\n",
       "    </tr>\n",
       "  </tbody>\n",
       "</table>\n",
       "</div>"
      ],
      "text/plain": [
       "                    name         category  \\\n",
       "2713         Ваня и Гоги          бар,паб   \n",
       "2722           Маргарита  быстрое питание   \n",
       "2770         Шоколадница          кофейня   \n",
       "6518         DelonixCafe         ресторан   \n",
       "6524           Ян Примус         ресторан   \n",
       "6574              Мюнгер         пиццерия   \n",
       "6641    One Price Coffee          кофейня   \n",
       "6658              ГудБар          бар,паб   \n",
       "6807  Loft-cafe академия             кафе   \n",
       "6808        Яндекс Лавка         ресторан   \n",
       "6838  Alternative coffee          кофейня   \n",
       "\n",
       "                                         address  \\\n",
       "2713     Москва, Измайловское шоссе, 71, корп. А   \n",
       "2722     Москва, Измайловское шоссе, 71, корп. А   \n",
       "2770     Москва, Измайловское шоссе, 71, корп. А   \n",
       "6518   Москва, проспект Вернадского, 94, корп. 1   \n",
       "6524  Москва, проспект Вернадского, 121, корп. 1   \n",
       "6574   Москва, проспект Вернадского, 97, корп. 1   \n",
       "6641    Москва, проспект Вернадского, 84, стр. 1   \n",
       "6658   Москва, проспект Вернадского, 97, корп. 1   \n",
       "6807    Москва, проспект Вернадского, 84, стр. 1   \n",
       "6808    Москва, проспект Вернадского, 51, стр. 1   \n",
       "6838    Москва, проспект Вернадского, 41, стр. 1   \n",
       "\n",
       "                              district  \\\n",
       "2713  Восточный административный округ   \n",
       "2722  Восточный административный округ   \n",
       "2770  Восточный административный округ   \n",
       "6518   Западный административный округ   \n",
       "6524   Западный административный округ   \n",
       "6574   Западный административный округ   \n",
       "6641   Западный административный округ   \n",
       "6658   Западный административный округ   \n",
       "6807   Западный административный округ   \n",
       "6808   Западный административный округ   \n",
       "6838   Западный административный округ   \n",
       "\n",
       "                                                  hours        lat        lng  \\\n",
       "2713                             ежедневно, 11:00–06:00  55.789842  37.750282   \n",
       "2722                             ежедневно, 10:00–22:00  55.789527  37.752004   \n",
       "2770  пн-ср 11:00–23:00; чт 11:00–00:00; пт,сб 11:00...  55.789903  37.749822   \n",
       "6518                           ежедневно, круглосуточно  55.652577  37.475730   \n",
       "6524  пн-чт 12:00–00:00; пт,сб 12:00–02:00; вс 12:00...  55.657166  37.481519   \n",
       "6574               пн-пт 08:00–21:00; сб,вс 10:00–21:00  55.667505  37.491001   \n",
       "6641                             ежедневно, 08:30–20:00  55.665129  37.478635   \n",
       "6658               пн-пт 11:00–23:00; сб,вс 13:00–23:00  55.667327  37.490601   \n",
       "6807                  пн-пт 09:00–20:00; сб 09:00–16:00  55.665142  37.478603   \n",
       "6808                           ежедневно, круглосуточно  55.672580  37.507753   \n",
       "6838               пн-пт 09:00–21:00; сб,вс 09:00–22:00  55.673128  37.502992   \n",
       "\n",
       "      rating          price                  avg_bill  middle_avg_bill  \\\n",
       "2713     4.2        высокие  Средний счёт:1000–2500 ₽           1750.0   \n",
       "2722     4.3         Unknow                    Unknow              NaN   \n",
       "2770     4.1         Unknow                    Unknow              NaN   \n",
       "6518     4.1        высокие  Средний счёт:1500–2000 ₽           1750.0   \n",
       "6524     4.5  выше среднего       Средний счёт:1500 ₽           1500.0   \n",
       "6574     4.8         Unknow                    Unknow              NaN   \n",
       "6641     4.3         Unknow                    Unknow              NaN   \n",
       "6658     4.1        средние        Средний счёт:700 ₽            700.0   \n",
       "6807     3.6         Unknow                    Unknow              NaN   \n",
       "6808     4.0         Unknow                    Unknow              NaN   \n",
       "6838     4.3         Unknow                    Unknow              NaN   \n",
       "\n",
       "      middle_coffee_cup  chain   seats  \n",
       "2713                NaN  False  1040.0  \n",
       "2722                NaN   True  1040.0  \n",
       "2770                NaN   True  1040.0  \n",
       "6518                NaN  False  1288.0  \n",
       "6524                NaN   True  1288.0  \n",
       "6574                NaN   True  1288.0  \n",
       "6641                NaN   True  1288.0  \n",
       "6658                NaN  False  1288.0  \n",
       "6807                NaN  False  1288.0  \n",
       "6808                NaN   True  1288.0  \n",
       "6838                NaN  False  1288.0  "
      ]
     },
     "execution_count": 55,
     "metadata": {},
     "output_type": "execute_result"
    }
   ],
   "source": [
    "seats_high = df[(df['seats'])>1000]\n",
    "seats_high"
   ]
  },
  {
   "cell_type": "markdown",
   "metadata": {},
   "source": [
    "Let's also take a look at rows where the value is 0:"
   ]
  },
  {
   "cell_type": "code",
   "execution_count": 56,
   "metadata": {},
   "outputs": [
    {
     "name": "stdout",
     "output_type": "stream",
     "text": [
      "<class 'pandas.core.frame.DataFrame'>\n",
      "Index: 126 entries, 84 to 8362\n",
      "Data columns (total 14 columns):\n",
      " #   Column             Non-Null Count  Dtype  \n",
      "---  ------             --------------  -----  \n",
      " 0   name               126 non-null    object \n",
      " 1   category           126 non-null    object \n",
      " 2   address            126 non-null    object \n",
      " 3   district           126 non-null    object \n",
      " 4   hours              126 non-null    object \n",
      " 5   lat                126 non-null    float64\n",
      " 6   lng                126 non-null    float64\n",
      " 7   rating             126 non-null    float64\n",
      " 8   price              126 non-null    object \n",
      " 9   avg_bill           126 non-null    object \n",
      " 10  middle_avg_bill    32 non-null     float64\n",
      " 11  middle_coffee_cup  13 non-null     float64\n",
      " 12  chain              126 non-null    bool   \n",
      " 13  seats              126 non-null    float64\n",
      "dtypes: bool(1), float64(6), object(7)\n",
      "memory usage: 13.9+ KB\n"
     ]
    }
   ],
   "source": [
    "seats_low = df[(df['seats'])==0]\n",
    "seats_low.info()"
   ]
  },
  {
   "cell_type": "markdown",
   "metadata": {},
   "source": [
    "Let's remove these values from the dataframe as well:"
   ]
  },
  {
   "cell_type": "code",
   "execution_count": 57,
   "metadata": {},
   "outputs": [],
   "source": [
    "condition = (((df['seats'])>1000) | ((df['seats'])==0))\n",
    "df = df[~condition]"
   ]
  },
  {
   "cell_type": "markdown",
   "metadata": {},
   "source": [
    "Let's look at the final data loss:"
   ]
  },
  {
   "cell_type": "code",
   "execution_count": 58,
   "metadata": {},
   "outputs": [
    {
     "data": {
      "text/plain": [
       "'Absolute data loss: 779'"
      ]
     },
     "metadata": {},
     "output_type": "display_data"
    },
    {
     "data": {
      "text/plain": [
       "'Relative data loss: 9.27%'"
      ]
     },
     "metadata": {},
     "output_type": "display_data"
    }
   ],
   "source": [
    "data_loss(df,df_raw)"
   ]
  },
  {
   "cell_type": "markdown",
   "metadata": {},
   "source": [
    "After data preprocessing, the data loss rate is approximately 10 percent, which is an acceptable value. We can proceed further."
   ]
  },
  {
   "cell_type": "markdown",
   "metadata": {},
   "source": [
    "We will also create a street column containing the street names extracted from the address column."
   ]
  },
  {
   "cell_type": "code",
   "execution_count": 59,
   "metadata": {},
   "outputs": [
    {
     "data": {
      "text/html": [
       "<div>\n",
       "<style scoped>\n",
       "    .dataframe tbody tr th:only-of-type {\n",
       "        vertical-align: middle;\n",
       "    }\n",
       "\n",
       "    .dataframe tbody tr th {\n",
       "        vertical-align: top;\n",
       "    }\n",
       "\n",
       "    .dataframe thead th {\n",
       "        text-align: right;\n",
       "    }\n",
       "</style>\n",
       "<table border=\"1\" class=\"dataframe\">\n",
       "  <thead>\n",
       "    <tr style=\"text-align: right;\">\n",
       "      <th></th>\n",
       "      <th>name</th>\n",
       "      <th>category</th>\n",
       "      <th>address</th>\n",
       "      <th>district</th>\n",
       "      <th>hours</th>\n",
       "      <th>lat</th>\n",
       "      <th>lng</th>\n",
       "      <th>rating</th>\n",
       "      <th>price</th>\n",
       "      <th>avg_bill</th>\n",
       "      <th>middle_avg_bill</th>\n",
       "      <th>middle_coffee_cup</th>\n",
       "      <th>chain</th>\n",
       "      <th>seats</th>\n",
       "      <th>street</th>\n",
       "    </tr>\n",
       "  </thead>\n",
       "  <tbody>\n",
       "    <tr>\n",
       "      <th>0</th>\n",
       "      <td>WoWфли</td>\n",
       "      <td>кафе</td>\n",
       "      <td>Москва, улица Дыбенко, 7/1</td>\n",
       "      <td>Северный административный округ</td>\n",
       "      <td>ежедневно, 10:00–22:00</td>\n",
       "      <td>55.878494</td>\n",
       "      <td>37.478860</td>\n",
       "      <td>5.0</td>\n",
       "      <td>Unknow</td>\n",
       "      <td>Unknow</td>\n",
       "      <td>NaN</td>\n",
       "      <td>NaN</td>\n",
       "      <td>False</td>\n",
       "      <td>NaN</td>\n",
       "      <td>улица Дыбенко, 7/1</td>\n",
       "    </tr>\n",
       "    <tr>\n",
       "      <th>1</th>\n",
       "      <td>Четыре комнаты</td>\n",
       "      <td>ресторан</td>\n",
       "      <td>Москва, улица Дыбенко, 36, корп. 1</td>\n",
       "      <td>Северный административный округ</td>\n",
       "      <td>ежедневно, 10:00–22:00</td>\n",
       "      <td>55.875801</td>\n",
       "      <td>37.484479</td>\n",
       "      <td>4.5</td>\n",
       "      <td>выше среднего</td>\n",
       "      <td>Средний счёт:1500–1600 ₽</td>\n",
       "      <td>1550.0</td>\n",
       "      <td>NaN</td>\n",
       "      <td>False</td>\n",
       "      <td>4.0</td>\n",
       "      <td>улица Дыбенко, 36, корп. 1</td>\n",
       "    </tr>\n",
       "    <tr>\n",
       "      <th>2</th>\n",
       "      <td>Хазри</td>\n",
       "      <td>кафе</td>\n",
       "      <td>Москва, Клязьминская улица, 15</td>\n",
       "      <td>Северный административный округ</td>\n",
       "      <td>пн-чт 11:00–02:00; пт,сб 11:00–05:00; вс 11:00...</td>\n",
       "      <td>55.889146</td>\n",
       "      <td>37.525901</td>\n",
       "      <td>4.6</td>\n",
       "      <td>средние</td>\n",
       "      <td>Средний счёт:от 1000 ₽</td>\n",
       "      <td>1000.0</td>\n",
       "      <td>NaN</td>\n",
       "      <td>False</td>\n",
       "      <td>45.0</td>\n",
       "      <td>Клязьминская улица, 15</td>\n",
       "    </tr>\n",
       "    <tr>\n",
       "      <th>3</th>\n",
       "      <td>Dormouse Coffee Shop</td>\n",
       "      <td>кофейня</td>\n",
       "      <td>Москва, улица Маршала Федоренко, 12</td>\n",
       "      <td>Северный административный округ</td>\n",
       "      <td>ежедневно, 09:00–22:00</td>\n",
       "      <td>55.881608</td>\n",
       "      <td>37.488860</td>\n",
       "      <td>5.0</td>\n",
       "      <td>Unknow</td>\n",
       "      <td>Цена чашки капучино:155–185 ₽</td>\n",
       "      <td>NaN</td>\n",
       "      <td>170.0</td>\n",
       "      <td>False</td>\n",
       "      <td>NaN</td>\n",
       "      <td>улица Маршала Федоренко, 12</td>\n",
       "    </tr>\n",
       "    <tr>\n",
       "      <th>4</th>\n",
       "      <td>Иль Марко</td>\n",
       "      <td>пиццерия</td>\n",
       "      <td>Москва, Правобережная улица, 1Б</td>\n",
       "      <td>Северный административный округ</td>\n",
       "      <td>ежедневно, 10:00–22:00</td>\n",
       "      <td>55.881166</td>\n",
       "      <td>37.449357</td>\n",
       "      <td>5.0</td>\n",
       "      <td>средние</td>\n",
       "      <td>Средний счёт:400–600 ₽</td>\n",
       "      <td>500.0</td>\n",
       "      <td>NaN</td>\n",
       "      <td>True</td>\n",
       "      <td>148.0</td>\n",
       "      <td>Правобережная улица, 1Б</td>\n",
       "    </tr>\n",
       "    <tr>\n",
       "      <th>...</th>\n",
       "      <td>...</td>\n",
       "      <td>...</td>\n",
       "      <td>...</td>\n",
       "      <td>...</td>\n",
       "      <td>...</td>\n",
       "      <td>...</td>\n",
       "      <td>...</td>\n",
       "      <td>...</td>\n",
       "      <td>...</td>\n",
       "      <td>...</td>\n",
       "      <td>...</td>\n",
       "      <td>...</td>\n",
       "      <td>...</td>\n",
       "      <td>...</td>\n",
       "      <td>...</td>\n",
       "    </tr>\n",
       "    <tr>\n",
       "      <th>8401</th>\n",
       "      <td>Суши Мания</td>\n",
       "      <td>кафе</td>\n",
       "      <td>Москва, Профсоюзная улица, 56</td>\n",
       "      <td>Юго-Западный административный округ</td>\n",
       "      <td>ежедневно, 09:00–02:00</td>\n",
       "      <td>55.670021</td>\n",
       "      <td>37.552480</td>\n",
       "      <td>4.4</td>\n",
       "      <td>Unknow</td>\n",
       "      <td>Unknow</td>\n",
       "      <td>NaN</td>\n",
       "      <td>NaN</td>\n",
       "      <td>False</td>\n",
       "      <td>86.0</td>\n",
       "      <td>Профсоюзная улица, 56</td>\n",
       "    </tr>\n",
       "    <tr>\n",
       "      <th>8402</th>\n",
       "      <td>Миславнес</td>\n",
       "      <td>кафе</td>\n",
       "      <td>Москва, Пролетарский проспект, 19, корп. 1</td>\n",
       "      <td>Южный административный округ</td>\n",
       "      <td>ежедневно, 08:00–22:00</td>\n",
       "      <td>55.640875</td>\n",
       "      <td>37.656553</td>\n",
       "      <td>4.8</td>\n",
       "      <td>Unknow</td>\n",
       "      <td>Unknow</td>\n",
       "      <td>NaN</td>\n",
       "      <td>NaN</td>\n",
       "      <td>False</td>\n",
       "      <td>150.0</td>\n",
       "      <td>Пролетарский проспект, 19, корп. 1</td>\n",
       "    </tr>\n",
       "    <tr>\n",
       "      <th>8403</th>\n",
       "      <td>Самовар</td>\n",
       "      <td>кафе</td>\n",
       "      <td>Москва, Люблинская улица, 112А, стр. 1</td>\n",
       "      <td>Юго-Восточный административный округ</td>\n",
       "      <td>ежедневно, круглосуточно</td>\n",
       "      <td>55.648859</td>\n",
       "      <td>37.743219</td>\n",
       "      <td>3.9</td>\n",
       "      <td>Unknow</td>\n",
       "      <td>Средний счёт:от 150 ₽</td>\n",
       "      <td>150.0</td>\n",
       "      <td>NaN</td>\n",
       "      <td>False</td>\n",
       "      <td>150.0</td>\n",
       "      <td>Люблинская улица, 112А, стр. 1</td>\n",
       "    </tr>\n",
       "    <tr>\n",
       "      <th>8404</th>\n",
       "      <td>Чайхана Sabr</td>\n",
       "      <td>кафе</td>\n",
       "      <td>Москва, Люблинская улица, 112А, стр. 1</td>\n",
       "      <td>Юго-Восточный административный округ</td>\n",
       "      <td>ежедневно, круглосуточно</td>\n",
       "      <td>55.648849</td>\n",
       "      <td>37.743222</td>\n",
       "      <td>4.2</td>\n",
       "      <td>Unknow</td>\n",
       "      <td>Unknow</td>\n",
       "      <td>NaN</td>\n",
       "      <td>NaN</td>\n",
       "      <td>True</td>\n",
       "      <td>150.0</td>\n",
       "      <td>Люблинская улица, 112А, стр. 1</td>\n",
       "    </tr>\n",
       "    <tr>\n",
       "      <th>8405</th>\n",
       "      <td>Kebab Time</td>\n",
       "      <td>кафе</td>\n",
       "      <td>Москва, Россошанский проезд, 6</td>\n",
       "      <td>Южный административный округ</td>\n",
       "      <td>ежедневно, круглосуточно</td>\n",
       "      <td>55.598229</td>\n",
       "      <td>37.604702</td>\n",
       "      <td>3.9</td>\n",
       "      <td>Unknow</td>\n",
       "      <td>Unknow</td>\n",
       "      <td>NaN</td>\n",
       "      <td>NaN</td>\n",
       "      <td>False</td>\n",
       "      <td>12.0</td>\n",
       "      <td>Россошанский проезд, 6</td>\n",
       "    </tr>\n",
       "  </tbody>\n",
       "</table>\n",
       "<p>7627 rows × 15 columns</p>\n",
       "</div>"
      ],
      "text/plain": [
       "                      name  category  \\\n",
       "0                   WoWфли      кафе   \n",
       "1           Четыре комнаты  ресторан   \n",
       "2                    Хазри      кафе   \n",
       "3     Dormouse Coffee Shop   кофейня   \n",
       "4                Иль Марко  пиццерия   \n",
       "...                    ...       ...   \n",
       "8401            Суши Мания      кафе   \n",
       "8402             Миславнес      кафе   \n",
       "8403               Самовар      кафе   \n",
       "8404          Чайхана Sabr      кафе   \n",
       "8405            Kebab Time      кафе   \n",
       "\n",
       "                                         address  \\\n",
       "0                     Москва, улица Дыбенко, 7/1   \n",
       "1             Москва, улица Дыбенко, 36, корп. 1   \n",
       "2                 Москва, Клязьминская улица, 15   \n",
       "3            Москва, улица Маршала Федоренко, 12   \n",
       "4                Москва, Правобережная улица, 1Б   \n",
       "...                                          ...   \n",
       "8401               Москва, Профсоюзная улица, 56   \n",
       "8402  Москва, Пролетарский проспект, 19, корп. 1   \n",
       "8403      Москва, Люблинская улица, 112А, стр. 1   \n",
       "8404      Москва, Люблинская улица, 112А, стр. 1   \n",
       "8405              Москва, Россошанский проезд, 6   \n",
       "\n",
       "                                  district  \\\n",
       "0          Северный административный округ   \n",
       "1          Северный административный округ   \n",
       "2          Северный административный округ   \n",
       "3          Северный административный округ   \n",
       "4          Северный административный округ   \n",
       "...                                    ...   \n",
       "8401   Юго-Западный административный округ   \n",
       "8402          Южный административный округ   \n",
       "8403  Юго-Восточный административный округ   \n",
       "8404  Юго-Восточный административный округ   \n",
       "8405          Южный административный округ   \n",
       "\n",
       "                                                  hours        lat        lng  \\\n",
       "0                                ежедневно, 10:00–22:00  55.878494  37.478860   \n",
       "1                                ежедневно, 10:00–22:00  55.875801  37.484479   \n",
       "2     пн-чт 11:00–02:00; пт,сб 11:00–05:00; вс 11:00...  55.889146  37.525901   \n",
       "3                                ежедневно, 09:00–22:00  55.881608  37.488860   \n",
       "4                                ежедневно, 10:00–22:00  55.881166  37.449357   \n",
       "...                                                 ...        ...        ...   \n",
       "8401                             ежедневно, 09:00–02:00  55.670021  37.552480   \n",
       "8402                             ежедневно, 08:00–22:00  55.640875  37.656553   \n",
       "8403                           ежедневно, круглосуточно  55.648859  37.743219   \n",
       "8404                           ежедневно, круглосуточно  55.648849  37.743222   \n",
       "8405                           ежедневно, круглосуточно  55.598229  37.604702   \n",
       "\n",
       "      rating          price                       avg_bill  middle_avg_bill  \\\n",
       "0        5.0         Unknow                         Unknow              NaN   \n",
       "1        4.5  выше среднего       Средний счёт:1500–1600 ₽           1550.0   \n",
       "2        4.6        средние         Средний счёт:от 1000 ₽           1000.0   \n",
       "3        5.0         Unknow  Цена чашки капучино:155–185 ₽              NaN   \n",
       "4        5.0        средние         Средний счёт:400–600 ₽            500.0   \n",
       "...      ...            ...                            ...              ...   \n",
       "8401     4.4         Unknow                         Unknow              NaN   \n",
       "8402     4.8         Unknow                         Unknow              NaN   \n",
       "8403     3.9         Unknow          Средний счёт:от 150 ₽            150.0   \n",
       "8404     4.2         Unknow                         Unknow              NaN   \n",
       "8405     3.9         Unknow                         Unknow              NaN   \n",
       "\n",
       "      middle_coffee_cup  chain  seats                              street  \n",
       "0                   NaN  False    NaN                  улица Дыбенко, 7/1  \n",
       "1                   NaN  False    4.0          улица Дыбенко, 36, корп. 1  \n",
       "2                   NaN  False   45.0              Клязьминская улица, 15  \n",
       "3                 170.0  False    NaN         улица Маршала Федоренко, 12  \n",
       "4                   NaN   True  148.0             Правобережная улица, 1Б  \n",
       "...                 ...    ...    ...                                 ...  \n",
       "8401                NaN  False   86.0               Профсоюзная улица, 56  \n",
       "8402                NaN  False  150.0  Пролетарский проспект, 19, корп. 1  \n",
       "8403                NaN  False  150.0      Люблинская улица, 112А, стр. 1  \n",
       "8404                NaN   True  150.0      Люблинская улица, 112А, стр. 1  \n",
       "8405                NaN  False   12.0              Россошанский проезд, 6  \n",
       "\n",
       "[7627 rows x 15 columns]"
      ]
     },
     "execution_count": 59,
     "metadata": {},
     "output_type": "execute_result"
    }
   ],
   "source": [
    "df['street'] = df['address'].str.replace('Москва, ', '', regex=False)\n",
    "df"
   ]
  },
  {
   "cell_type": "markdown",
   "metadata": {},
   "source": [
    "We will create a is_24_7 column indicating whether the establishment operates 24/7:\n",
    "\n",
    "- Boolean value True — if the establishment operates daily and around the clock;\n",
    "- Boolean value False — otherwise."
   ]
  },
  {
   "cell_type": "code",
   "execution_count": 60,
   "metadata": {},
   "outputs": [
    {
     "data": {
      "text/html": [
       "<div>\n",
       "<style scoped>\n",
       "    .dataframe tbody tr th:only-of-type {\n",
       "        vertical-align: middle;\n",
       "    }\n",
       "\n",
       "    .dataframe tbody tr th {\n",
       "        vertical-align: top;\n",
       "    }\n",
       "\n",
       "    .dataframe thead th {\n",
       "        text-align: right;\n",
       "    }\n",
       "</style>\n",
       "<table border=\"1\" class=\"dataframe\">\n",
       "  <thead>\n",
       "    <tr style=\"text-align: right;\">\n",
       "      <th></th>\n",
       "      <th>name</th>\n",
       "      <th>category</th>\n",
       "      <th>address</th>\n",
       "      <th>district</th>\n",
       "      <th>hours</th>\n",
       "      <th>lat</th>\n",
       "      <th>lng</th>\n",
       "      <th>rating</th>\n",
       "      <th>price</th>\n",
       "      <th>avg_bill</th>\n",
       "      <th>middle_avg_bill</th>\n",
       "      <th>middle_coffee_cup</th>\n",
       "      <th>chain</th>\n",
       "      <th>seats</th>\n",
       "      <th>street</th>\n",
       "      <th>is_24_7</th>\n",
       "    </tr>\n",
       "  </thead>\n",
       "  <tbody>\n",
       "    <tr>\n",
       "      <th>0</th>\n",
       "      <td>WoWфли</td>\n",
       "      <td>кафе</td>\n",
       "      <td>Москва, улица Дыбенко, 7/1</td>\n",
       "      <td>Северный административный округ</td>\n",
       "      <td>ежедневно, 10:00–22:00</td>\n",
       "      <td>55.878494</td>\n",
       "      <td>37.478860</td>\n",
       "      <td>5.0</td>\n",
       "      <td>Unknow</td>\n",
       "      <td>Unknow</td>\n",
       "      <td>NaN</td>\n",
       "      <td>NaN</td>\n",
       "      <td>False</td>\n",
       "      <td>NaN</td>\n",
       "      <td>улица Дыбенко, 7/1</td>\n",
       "      <td>False</td>\n",
       "    </tr>\n",
       "    <tr>\n",
       "      <th>1</th>\n",
       "      <td>Четыре комнаты</td>\n",
       "      <td>ресторан</td>\n",
       "      <td>Москва, улица Дыбенко, 36, корп. 1</td>\n",
       "      <td>Северный административный округ</td>\n",
       "      <td>ежедневно, 10:00–22:00</td>\n",
       "      <td>55.875801</td>\n",
       "      <td>37.484479</td>\n",
       "      <td>4.5</td>\n",
       "      <td>выше среднего</td>\n",
       "      <td>Средний счёт:1500–1600 ₽</td>\n",
       "      <td>1550.0</td>\n",
       "      <td>NaN</td>\n",
       "      <td>False</td>\n",
       "      <td>4.0</td>\n",
       "      <td>улица Дыбенко, 36, корп. 1</td>\n",
       "      <td>False</td>\n",
       "    </tr>\n",
       "    <tr>\n",
       "      <th>2</th>\n",
       "      <td>Хазри</td>\n",
       "      <td>кафе</td>\n",
       "      <td>Москва, Клязьминская улица, 15</td>\n",
       "      <td>Северный административный округ</td>\n",
       "      <td>пн-чт 11:00–02:00; пт,сб 11:00–05:00; вс 11:00...</td>\n",
       "      <td>55.889146</td>\n",
       "      <td>37.525901</td>\n",
       "      <td>4.6</td>\n",
       "      <td>средние</td>\n",
       "      <td>Средний счёт:от 1000 ₽</td>\n",
       "      <td>1000.0</td>\n",
       "      <td>NaN</td>\n",
       "      <td>False</td>\n",
       "      <td>45.0</td>\n",
       "      <td>Клязьминская улица, 15</td>\n",
       "      <td>False</td>\n",
       "    </tr>\n",
       "    <tr>\n",
       "      <th>3</th>\n",
       "      <td>Dormouse Coffee Shop</td>\n",
       "      <td>кофейня</td>\n",
       "      <td>Москва, улица Маршала Федоренко, 12</td>\n",
       "      <td>Северный административный округ</td>\n",
       "      <td>ежедневно, 09:00–22:00</td>\n",
       "      <td>55.881608</td>\n",
       "      <td>37.488860</td>\n",
       "      <td>5.0</td>\n",
       "      <td>Unknow</td>\n",
       "      <td>Цена чашки капучино:155–185 ₽</td>\n",
       "      <td>NaN</td>\n",
       "      <td>170.0</td>\n",
       "      <td>False</td>\n",
       "      <td>NaN</td>\n",
       "      <td>улица Маршала Федоренко, 12</td>\n",
       "      <td>False</td>\n",
       "    </tr>\n",
       "    <tr>\n",
       "      <th>4</th>\n",
       "      <td>Иль Марко</td>\n",
       "      <td>пиццерия</td>\n",
       "      <td>Москва, Правобережная улица, 1Б</td>\n",
       "      <td>Северный административный округ</td>\n",
       "      <td>ежедневно, 10:00–22:00</td>\n",
       "      <td>55.881166</td>\n",
       "      <td>37.449357</td>\n",
       "      <td>5.0</td>\n",
       "      <td>средние</td>\n",
       "      <td>Средний счёт:400–600 ₽</td>\n",
       "      <td>500.0</td>\n",
       "      <td>NaN</td>\n",
       "      <td>True</td>\n",
       "      <td>148.0</td>\n",
       "      <td>Правобережная улица, 1Б</td>\n",
       "      <td>False</td>\n",
       "    </tr>\n",
       "    <tr>\n",
       "      <th>...</th>\n",
       "      <td>...</td>\n",
       "      <td>...</td>\n",
       "      <td>...</td>\n",
       "      <td>...</td>\n",
       "      <td>...</td>\n",
       "      <td>...</td>\n",
       "      <td>...</td>\n",
       "      <td>...</td>\n",
       "      <td>...</td>\n",
       "      <td>...</td>\n",
       "      <td>...</td>\n",
       "      <td>...</td>\n",
       "      <td>...</td>\n",
       "      <td>...</td>\n",
       "      <td>...</td>\n",
       "      <td>...</td>\n",
       "    </tr>\n",
       "    <tr>\n",
       "      <th>8401</th>\n",
       "      <td>Суши Мания</td>\n",
       "      <td>кафе</td>\n",
       "      <td>Москва, Профсоюзная улица, 56</td>\n",
       "      <td>Юго-Западный административный округ</td>\n",
       "      <td>ежедневно, 09:00–02:00</td>\n",
       "      <td>55.670021</td>\n",
       "      <td>37.552480</td>\n",
       "      <td>4.4</td>\n",
       "      <td>Unknow</td>\n",
       "      <td>Unknow</td>\n",
       "      <td>NaN</td>\n",
       "      <td>NaN</td>\n",
       "      <td>False</td>\n",
       "      <td>86.0</td>\n",
       "      <td>Профсоюзная улица, 56</td>\n",
       "      <td>False</td>\n",
       "    </tr>\n",
       "    <tr>\n",
       "      <th>8402</th>\n",
       "      <td>Миславнес</td>\n",
       "      <td>кафе</td>\n",
       "      <td>Москва, Пролетарский проспект, 19, корп. 1</td>\n",
       "      <td>Южный административный округ</td>\n",
       "      <td>ежедневно, 08:00–22:00</td>\n",
       "      <td>55.640875</td>\n",
       "      <td>37.656553</td>\n",
       "      <td>4.8</td>\n",
       "      <td>Unknow</td>\n",
       "      <td>Unknow</td>\n",
       "      <td>NaN</td>\n",
       "      <td>NaN</td>\n",
       "      <td>False</td>\n",
       "      <td>150.0</td>\n",
       "      <td>Пролетарский проспект, 19, корп. 1</td>\n",
       "      <td>False</td>\n",
       "    </tr>\n",
       "    <tr>\n",
       "      <th>8403</th>\n",
       "      <td>Самовар</td>\n",
       "      <td>кафе</td>\n",
       "      <td>Москва, Люблинская улица, 112А, стр. 1</td>\n",
       "      <td>Юго-Восточный административный округ</td>\n",
       "      <td>ежедневно, круглосуточно</td>\n",
       "      <td>55.648859</td>\n",
       "      <td>37.743219</td>\n",
       "      <td>3.9</td>\n",
       "      <td>Unknow</td>\n",
       "      <td>Средний счёт:от 150 ₽</td>\n",
       "      <td>150.0</td>\n",
       "      <td>NaN</td>\n",
       "      <td>False</td>\n",
       "      <td>150.0</td>\n",
       "      <td>Люблинская улица, 112А, стр. 1</td>\n",
       "      <td>False</td>\n",
       "    </tr>\n",
       "    <tr>\n",
       "      <th>8404</th>\n",
       "      <td>Чайхана Sabr</td>\n",
       "      <td>кафе</td>\n",
       "      <td>Москва, Люблинская улица, 112А, стр. 1</td>\n",
       "      <td>Юго-Восточный административный округ</td>\n",
       "      <td>ежедневно, круглосуточно</td>\n",
       "      <td>55.648849</td>\n",
       "      <td>37.743222</td>\n",
       "      <td>4.2</td>\n",
       "      <td>Unknow</td>\n",
       "      <td>Unknow</td>\n",
       "      <td>NaN</td>\n",
       "      <td>NaN</td>\n",
       "      <td>True</td>\n",
       "      <td>150.0</td>\n",
       "      <td>Люблинская улица, 112А, стр. 1</td>\n",
       "      <td>False</td>\n",
       "    </tr>\n",
       "    <tr>\n",
       "      <th>8405</th>\n",
       "      <td>Kebab Time</td>\n",
       "      <td>кафе</td>\n",
       "      <td>Москва, Россошанский проезд, 6</td>\n",
       "      <td>Южный административный округ</td>\n",
       "      <td>ежедневно, круглосуточно</td>\n",
       "      <td>55.598229</td>\n",
       "      <td>37.604702</td>\n",
       "      <td>3.9</td>\n",
       "      <td>Unknow</td>\n",
       "      <td>Unknow</td>\n",
       "      <td>NaN</td>\n",
       "      <td>NaN</td>\n",
       "      <td>False</td>\n",
       "      <td>12.0</td>\n",
       "      <td>Россошанский проезд, 6</td>\n",
       "      <td>False</td>\n",
       "    </tr>\n",
       "  </tbody>\n",
       "</table>\n",
       "<p>7627 rows × 16 columns</p>\n",
       "</div>"
      ],
      "text/plain": [
       "                      name  category  \\\n",
       "0                   WoWфли      кафе   \n",
       "1           Четыре комнаты  ресторан   \n",
       "2                    Хазри      кафе   \n",
       "3     Dormouse Coffee Shop   кофейня   \n",
       "4                Иль Марко  пиццерия   \n",
       "...                    ...       ...   \n",
       "8401            Суши Мания      кафе   \n",
       "8402             Миславнес      кафе   \n",
       "8403               Самовар      кафе   \n",
       "8404          Чайхана Sabr      кафе   \n",
       "8405            Kebab Time      кафе   \n",
       "\n",
       "                                         address  \\\n",
       "0                     Москва, улица Дыбенко, 7/1   \n",
       "1             Москва, улица Дыбенко, 36, корп. 1   \n",
       "2                 Москва, Клязьминская улица, 15   \n",
       "3            Москва, улица Маршала Федоренко, 12   \n",
       "4                Москва, Правобережная улица, 1Б   \n",
       "...                                          ...   \n",
       "8401               Москва, Профсоюзная улица, 56   \n",
       "8402  Москва, Пролетарский проспект, 19, корп. 1   \n",
       "8403      Москва, Люблинская улица, 112А, стр. 1   \n",
       "8404      Москва, Люблинская улица, 112А, стр. 1   \n",
       "8405              Москва, Россошанский проезд, 6   \n",
       "\n",
       "                                  district  \\\n",
       "0          Северный административный округ   \n",
       "1          Северный административный округ   \n",
       "2          Северный административный округ   \n",
       "3          Северный административный округ   \n",
       "4          Северный административный округ   \n",
       "...                                    ...   \n",
       "8401   Юго-Западный административный округ   \n",
       "8402          Южный административный округ   \n",
       "8403  Юго-Восточный административный округ   \n",
       "8404  Юго-Восточный административный округ   \n",
       "8405          Южный административный округ   \n",
       "\n",
       "                                                  hours        lat        lng  \\\n",
       "0                                ежедневно, 10:00–22:00  55.878494  37.478860   \n",
       "1                                ежедневно, 10:00–22:00  55.875801  37.484479   \n",
       "2     пн-чт 11:00–02:00; пт,сб 11:00–05:00; вс 11:00...  55.889146  37.525901   \n",
       "3                                ежедневно, 09:00–22:00  55.881608  37.488860   \n",
       "4                                ежедневно, 10:00–22:00  55.881166  37.449357   \n",
       "...                                                 ...        ...        ...   \n",
       "8401                             ежедневно, 09:00–02:00  55.670021  37.552480   \n",
       "8402                             ежедневно, 08:00–22:00  55.640875  37.656553   \n",
       "8403                           ежедневно, круглосуточно  55.648859  37.743219   \n",
       "8404                           ежедневно, круглосуточно  55.648849  37.743222   \n",
       "8405                           ежедневно, круглосуточно  55.598229  37.604702   \n",
       "\n",
       "      rating          price                       avg_bill  middle_avg_bill  \\\n",
       "0        5.0         Unknow                         Unknow              NaN   \n",
       "1        4.5  выше среднего       Средний счёт:1500–1600 ₽           1550.0   \n",
       "2        4.6        средние         Средний счёт:от 1000 ₽           1000.0   \n",
       "3        5.0         Unknow  Цена чашки капучино:155–185 ₽              NaN   \n",
       "4        5.0        средние         Средний счёт:400–600 ₽            500.0   \n",
       "...      ...            ...                            ...              ...   \n",
       "8401     4.4         Unknow                         Unknow              NaN   \n",
       "8402     4.8         Unknow                         Unknow              NaN   \n",
       "8403     3.9         Unknow          Средний счёт:от 150 ₽            150.0   \n",
       "8404     4.2         Unknow                         Unknow              NaN   \n",
       "8405     3.9         Unknow                         Unknow              NaN   \n",
       "\n",
       "      middle_coffee_cup  chain  seats                              street  \\\n",
       "0                   NaN  False    NaN                  улица Дыбенко, 7/1   \n",
       "1                   NaN  False    4.0          улица Дыбенко, 36, корп. 1   \n",
       "2                   NaN  False   45.0              Клязьминская улица, 15   \n",
       "3                 170.0  False    NaN         улица Маршала Федоренко, 12   \n",
       "4                   NaN   True  148.0             Правобережная улица, 1Б   \n",
       "...                 ...    ...    ...                                 ...   \n",
       "8401                NaN  False   86.0               Профсоюзная улица, 56   \n",
       "8402                NaN  False  150.0  Пролетарский проспект, 19, корп. 1   \n",
       "8403                NaN  False  150.0      Люблинская улица, 112А, стр. 1   \n",
       "8404                NaN   True  150.0      Люблинская улица, 112А, стр. 1   \n",
       "8405                NaN  False   12.0              Россошанский проезд, 6   \n",
       "\n",
       "      is_24_7  \n",
       "0       False  \n",
       "1       False  \n",
       "2       False  \n",
       "3       False  \n",
       "4       False  \n",
       "...       ...  \n",
       "8401    False  \n",
       "8402    False  \n",
       "8403    False  \n",
       "8404    False  \n",
       "8405    False  \n",
       "\n",
       "[7627 rows x 16 columns]"
      ]
     },
     "execution_count": 60,
     "metadata": {},
     "output_type": "execute_result"
    }
   ],
   "source": [
    "def is_24_7(hours):\n",
    "    if 'daily' in hours and '24/7' in hours:\n",
    "        return True\n",
    "    return False\n",
    "\n",
    "df['is_24_7'] = df['hours'].apply(is_24_7)\n",
    "df"
   ]
  },
  {
   "cell_type": "markdown",
   "metadata": {},
   "source": [
    "All data preprocessing tasks have been completed. We can move on to the next steps."
   ]
  },
  {
   "cell_type": "markdown",
   "metadata": {},
   "source": [
    "## Exploratory Data Analysis"
   ]
  },
  {
   "cell_type": "markdown",
   "metadata": {},
   "source": [
    "In the exploratory data analysis, we will answer a couple of questions."
   ]
  },
  {
   "cell_type": "markdown",
   "metadata": {},
   "source": [
    "Let's take another look at the types of establishments represented in the data."
   ]
  },
  {
   "cell_type": "code",
   "execution_count": 61,
   "metadata": {},
   "outputs": [
    {
     "data": {
      "text/html": [
       "<div>\n",
       "<style scoped>\n",
       "    .dataframe tbody tr th:only-of-type {\n",
       "        vertical-align: middle;\n",
       "    }\n",
       "\n",
       "    .dataframe tbody tr th {\n",
       "        vertical-align: top;\n",
       "    }\n",
       "\n",
       "    .dataframe thead th {\n",
       "        text-align: right;\n",
       "    }\n",
       "</style>\n",
       "<table border=\"1\" class=\"dataframe\">\n",
       "  <thead>\n",
       "    <tr style=\"text-align: right;\">\n",
       "      <th></th>\n",
       "      <th>category</th>\n",
       "      <th>count</th>\n",
       "    </tr>\n",
       "  </thead>\n",
       "  <tbody>\n",
       "    <tr>\n",
       "      <th>0</th>\n",
       "      <td>кафе</td>\n",
       "      <td>1960</td>\n",
       "    </tr>\n",
       "    <tr>\n",
       "      <th>1</th>\n",
       "      <td>ресторан</td>\n",
       "      <td>1869</td>\n",
       "    </tr>\n",
       "    <tr>\n",
       "      <th>2</th>\n",
       "      <td>кофейня</td>\n",
       "      <td>1369</td>\n",
       "    </tr>\n",
       "    <tr>\n",
       "      <th>3</th>\n",
       "      <td>бар,паб</td>\n",
       "      <td>729</td>\n",
       "    </tr>\n",
       "    <tr>\n",
       "      <th>4</th>\n",
       "      <td>пиццерия</td>\n",
       "      <td>613</td>\n",
       "    </tr>\n",
       "    <tr>\n",
       "      <th>5</th>\n",
       "      <td>быстрое питание</td>\n",
       "      <td>549</td>\n",
       "    </tr>\n",
       "    <tr>\n",
       "      <th>6</th>\n",
       "      <td>столовая</td>\n",
       "      <td>300</td>\n",
       "    </tr>\n",
       "    <tr>\n",
       "      <th>7</th>\n",
       "      <td>булочная</td>\n",
       "      <td>238</td>\n",
       "    </tr>\n",
       "  </tbody>\n",
       "</table>\n",
       "</div>"
      ],
      "text/plain": [
       "          category  count\n",
       "0             кафе   1960\n",
       "1         ресторан   1869\n",
       "2          кофейня   1369\n",
       "3          бар,паб    729\n",
       "4         пиццерия    613\n",
       "5  быстрое питание    549\n",
       "6         столовая    300\n",
       "7         булочная    238"
      ]
     },
     "execution_count": 61,
     "metadata": {},
     "output_type": "execute_result"
    }
   ],
   "source": [
    "category_counts = df['category'].value_counts().reset_index()\n",
    "category_counts.columns = ['category', 'count']\n",
    "category_counts"
   ]
  },
  {
   "cell_type": "markdown",
   "metadata": {},
   "source": [
    "Examine the number of food establishments by categories: restaurants, cafes, pizzerias, bars, and so on. Create visualizations. Answer the question about the distribution of establishments by categories."
   ]
  },
  {
   "cell_type": "code",
   "execution_count": 62,
   "metadata": {},
   "outputs": [
    {
     "data": {
      "image/png": "[encoded data removed]",
      "text/plain": [
       "<Figure size 1800x600 with 1 Axes>"
      ]
     },
     "metadata": {},
     "output_type": "display_data"
    }
   ],
   "source": [
    "plt.figure(figsize=(18, 6))\n",
    "sns.set_palette('pastel') \n",
    "sns.set_style('white')\n",
    "ax = sns.barplot(x='category', y='count', data=category_counts) \n",
    "ax.set_title('Распределение заведений по категорий')\n",
    "ax.set_xlabel('Категории заведений')\n",
    "ax.set_ylabel('Количество заведений в категории')\n",
    "plt.show()"
   ]
  },
  {
   "cell_type": "code",
   "execution_count": 66,
   "metadata": {},
   "outputs": [
    {
     "ename": "ValueError",
     "evalue": "Mime type rendering requires nbformat>=4.2.0 but it is not installed",
     "output_type": "error",
     "traceback": [
      "\u001b[1;31m---------------------------------------------------------------------------\u001b[0m",
      "\u001b[1;31mValueError\u001b[0m                                Traceback (most recent call last)",
      "Cell \u001b[1;32mIn[66], line 2\u001b[0m\n\u001b[0;32m      1\u001b[0m fig \u001b[38;5;241m=\u001b[39m go\u001b[38;5;241m.\u001b[39mFigure(data\u001b[38;5;241m=\u001b[39m[go\u001b[38;5;241m.\u001b[39mPie(labels\u001b[38;5;241m=\u001b[39mcategory_counts[\u001b[38;5;124m'\u001b[39m\u001b[38;5;124mcategory\u001b[39m\u001b[38;5;124m'\u001b[39m], values\u001b[38;5;241m=\u001b[39mcategory_counts[\u001b[38;5;124m'\u001b[39m\u001b[38;5;124mcount\u001b[39m\u001b[38;5;124m'\u001b[39m])])\n\u001b[1;32m----> 2\u001b[0m \u001b[43mfig\u001b[49m\u001b[38;5;241;43m.\u001b[39;49m\u001b[43mshow\u001b[49m\u001b[43m(\u001b[49m\u001b[43m)\u001b[49m\n",
      "File \u001b[1;32mc:\\Users\\Артемий Иванилов\\AppData\\Local\\Programs\\Python\\Python313\\Lib\\site-packages\\plotly\\basedatatypes.py:3410\u001b[0m, in \u001b[0;36mBaseFigure.show\u001b[1;34m(self, *args, **kwargs)\u001b[0m\n\u001b[0;32m   3377\u001b[0m \u001b[38;5;250m\u001b[39m\u001b[38;5;124;03m\"\"\"\u001b[39;00m\n\u001b[0;32m   3378\u001b[0m \u001b[38;5;124;03mShow a figure using either the default renderer(s) or the renderer(s)\u001b[39;00m\n\u001b[0;32m   3379\u001b[0m \u001b[38;5;124;03mspecified by the renderer argument\u001b[39;00m\n\u001b[1;32m   (...)\u001b[0m\n\u001b[0;32m   3406\u001b[0m \u001b[38;5;124;03mNone\u001b[39;00m\n\u001b[0;32m   3407\u001b[0m \u001b[38;5;124;03m\"\"\"\u001b[39;00m\n\u001b[0;32m   3408\u001b[0m \u001b[38;5;28;01mimport\u001b[39;00m\u001b[38;5;250m \u001b[39m\u001b[38;5;21;01mplotly\u001b[39;00m\u001b[38;5;21;01m.\u001b[39;00m\u001b[38;5;21;01mio\u001b[39;00m\u001b[38;5;250m \u001b[39m\u001b[38;5;28;01mas\u001b[39;00m\u001b[38;5;250m \u001b[39m\u001b[38;5;21;01mpio\u001b[39;00m\n\u001b[1;32m-> 3410\u001b[0m \u001b[38;5;28;01mreturn\u001b[39;00m \u001b[43mpio\u001b[49m\u001b[38;5;241;43m.\u001b[39;49m\u001b[43mshow\u001b[49m\u001b[43m(\u001b[49m\u001b[38;5;28;43mself\u001b[39;49m\u001b[43m,\u001b[49m\u001b[43m \u001b[49m\u001b[38;5;241;43m*\u001b[39;49m\u001b[43margs\u001b[49m\u001b[43m,\u001b[49m\u001b[43m \u001b[49m\u001b[38;5;241;43m*\u001b[39;49m\u001b[38;5;241;43m*\u001b[39;49m\u001b[43mkwargs\u001b[49m\u001b[43m)\u001b[49m\n",
      "File \u001b[1;32mc:\\Users\\Артемий Иванилов\\AppData\\Local\\Programs\\Python\\Python313\\Lib\\site-packages\\plotly\\io\\_renderers.py:394\u001b[0m, in \u001b[0;36mshow\u001b[1;34m(fig, renderer, validate, **kwargs)\u001b[0m\n\u001b[0;32m    389\u001b[0m         \u001b[38;5;28;01mraise\u001b[39;00m \u001b[38;5;167;01mValueError\u001b[39;00m(\n\u001b[0;32m    390\u001b[0m             \u001b[38;5;124m\"\u001b[39m\u001b[38;5;124mMime type rendering requires ipython but it is not installed\u001b[39m\u001b[38;5;124m\"\u001b[39m\n\u001b[0;32m    391\u001b[0m         )\n\u001b[0;32m    393\u001b[0m     \u001b[38;5;28;01mif\u001b[39;00m \u001b[38;5;129;01mnot\u001b[39;00m nbformat \u001b[38;5;129;01mor\u001b[39;00m Version(nbformat\u001b[38;5;241m.\u001b[39m__version__) \u001b[38;5;241m<\u001b[39m Version(\u001b[38;5;124m\"\u001b[39m\u001b[38;5;124m4.2.0\u001b[39m\u001b[38;5;124m\"\u001b[39m):\n\u001b[1;32m--> 394\u001b[0m         \u001b[38;5;28;01mraise\u001b[39;00m \u001b[38;5;167;01mValueError\u001b[39;00m(\n\u001b[0;32m    395\u001b[0m             \u001b[38;5;124m\"\u001b[39m\u001b[38;5;124mMime type rendering requires nbformat>=4.2.0 but it is not installed\u001b[39m\u001b[38;5;124m\"\u001b[39m\n\u001b[0;32m    396\u001b[0m         )\n\u001b[0;32m    398\u001b[0m     ipython_display\u001b[38;5;241m.\u001b[39mdisplay(bundle, raw\u001b[38;5;241m=\u001b[39m\u001b[38;5;28;01mTrue\u001b[39;00m)\n\u001b[0;32m    400\u001b[0m \u001b[38;5;66;03m# external renderers\u001b[39;00m\n",
      "\u001b[1;31mValueError\u001b[0m: Mime type rendering requires nbformat>=4.2.0 but it is not installed"
     ]
    }
   ],
   "source": [
    "fig = go.Figure(data=[go.Pie(labels=category_counts['category'], values=category_counts['count'])])\n",
    "fig.show()"
   ]
  },
  {
   "cell_type": "code",
   "execution_count": null,
   "metadata": {},
   "outputs": [],
   "source": []
  },
  {
   "cell_type": "markdown",
   "metadata": {},
   "source": [
    "It can be concluded that cafes and restaurants dominate this distribution, while canteens and bakeries occupy smaller shares."
   ]
  },
  {
   "cell_type": "markdown",
   "metadata": {},
   "source": [
    "Let's explore the number of seats in establishments by categories: restaurants, cafes, pizzerias, bars, and so on. We will create visualizations and analyze the results."
   ]
  },
  {
   "cell_type": "code",
   "execution_count": 27,
   "metadata": {},
   "outputs": [
    {
     "data": {
      "text/html": [
       "<div>\n",
       "<style scoped>\n",
       "    .dataframe tbody tr th:only-of-type {\n",
       "        vertical-align: middle;\n",
       "    }\n",
       "\n",
       "    .dataframe tbody tr th {\n",
       "        vertical-align: top;\n",
       "    }\n",
       "\n",
       "    .dataframe thead th {\n",
       "        text-align: right;\n",
       "    }\n",
       "</style>\n",
       "<table border=\"1\" class=\"dataframe\">\n",
       "  <thead>\n",
       "    <tr style=\"text-align: right;\">\n",
       "      <th></th>\n",
       "      <th>category</th>\n",
       "      <th>count_seats</th>\n",
       "    </tr>\n",
       "  </thead>\n",
       "  <tbody>\n",
       "    <tr>\n",
       "      <th>0</th>\n",
       "      <td>ресторан</td>\n",
       "      <td>136613.0</td>\n",
       "    </tr>\n",
       "    <tr>\n",
       "      <th>1</th>\n",
       "      <td>кафе</td>\n",
       "      <td>95337.0</td>\n",
       "    </tr>\n",
       "    <tr>\n",
       "      <th>2</th>\n",
       "      <td>кофейня</td>\n",
       "      <td>79327.0</td>\n",
       "    </tr>\n",
       "    <tr>\n",
       "      <th>3</th>\n",
       "      <td>бар,паб</td>\n",
       "      <td>52333.0</td>\n",
       "    </tr>\n",
       "    <tr>\n",
       "      <th>4</th>\n",
       "      <td>пиццерия</td>\n",
       "      <td>38492.0</td>\n",
       "    </tr>\n",
       "    <tr>\n",
       "      <th>5</th>\n",
       "      <td>быстрое питание</td>\n",
       "      <td>31267.0</td>\n",
       "    </tr>\n",
       "    <tr>\n",
       "      <th>6</th>\n",
       "      <td>столовая</td>\n",
       "      <td>14559.0</td>\n",
       "    </tr>\n",
       "    <tr>\n",
       "      <th>7</th>\n",
       "      <td>булочная</td>\n",
       "      <td>13148.0</td>\n",
       "    </tr>\n",
       "  </tbody>\n",
       "</table>\n",
       "</div>"
      ],
      "text/plain": [
       "          category  count_seats\n",
       "0         ресторан     136613.0\n",
       "1             кафе      95337.0\n",
       "2          кофейня      79327.0\n",
       "3          бар,паб      52333.0\n",
       "4         пиццерия      38492.0\n",
       "5  быстрое питание      31267.0\n",
       "6         столовая      14559.0\n",
       "7         булочная      13148.0"
      ]
     },
     "execution_count": 27,
     "metadata": {},
     "output_type": "execute_result"
    }
   ],
   "source": [
    "category_seats_counts = df.groupby('category')['seats'].sum().sort_values(ascending=False).reset_index()\n",
    "category_seats_counts.columns = ['category', 'count_seats']\n",
    "category_seats_counts"
   ]
  },
  {
   "cell_type": "code",
   "execution_count": 28,
   "metadata": {},
   "outputs": [
    {
     "data": {
      "image/png": "[encoded data removed]",
      "text/plain": [
       "<Figure size 1296x432 with 1 Axes>"
      ]
     },
     "metadata": {},
     "output_type": "display_data"
    }
   ],
   "source": [
    "plt.figure(figsize=(18, 6))\n",
    "sns.set_palette('pastel') \n",
    "sns.set_style('white')\n",
    "ax = sns.barplot(x='category', y='count_seats', data=category_seats_counts) \n",
    "ax.set_title('Распределение количества посадочных мест по категориям')\n",
    "ax.set_xlabel('Категории заведений')\n",
    "ax.set_ylabel('Количество посадочных мест по категория')\n",
    "plt.show()"
   ]
  },
  {
   "cell_type": "code",
   "execution_count": 29,
   "metadata": {
    "scrolled": true
   },
   "outputs": [
    {
     "data": {
      "application/vnd.plotly.v1+json": {
       "config": {
        "plotlyServerURL": "https://plot.ly"
       },
       "data": [
        {
         "labels": [
          "ресторан",
          "кафе",
          "кофейня",
          "бар,паб",
          "пиццерия",
          "быстрое питание",
          "столовая",
          "булочная"
         ],
         "type": "pie",
         "values": [
          136613,
          95337,
          79327,
          52333,
          38492,
          31267,
          14559,
          13148
         ]
        }
       ],
       "layout": {
        "template": {
         "data": {
          "bar": [
           {
            "error_x": {
             "color": "#2a3f5f"
            },
            "error_y": {
             "color": "#2a3f5f"
            },
            "marker": {
             "line": {
              "color": "#E5ECF6",
              "width": 0.5
             },
             "pattern": {
              "fillmode": "overlay",
              "size": 10,
              "solidity": 0.2
             }
            },
            "type": "bar"
           }
          ],
          "barpolar": [
           {
            "marker": {
             "line": {
              "color": "#E5ECF6",
              "width": 0.5
             },
             "pattern": {
              "fillmode": "overlay",
              "size": 10,
              "solidity": 0.2
             }
            },
            "type": "barpolar"
           }
          ],
          "carpet": [
           {
            "aaxis": {
             "endlinecolor": "#2a3f5f",
             "gridcolor": "white",
             "linecolor": "white",
             "minorgridcolor": "white",
             "startlinecolor": "#2a3f5f"
            },
            "baxis": {
             "endlinecolor": "#2a3f5f",
             "gridcolor": "white",
             "linecolor": "white",
             "minorgridcolor": "white",
             "startlinecolor": "#2a3f5f"
            },
            "type": "carpet"
           }
          ],
          "choropleth": [
           {
            "colorbar": {
             "outlinewidth": 0,
             "ticks": ""
            },
            "type": "choropleth"
           }
          ],
          "contour": [
           {
            "colorbar": {
             "outlinewidth": 0,
             "ticks": ""
            },
            "colorscale": [
             [
              0,
              "#0d0887"
             ],
             [
              0.1111111111111111,
              "#46039f"
             ],
             [
              0.2222222222222222,
              "#7201a8"
             ],
             [
              0.3333333333333333,
              "#9c179e"
             ],
             [
              0.4444444444444444,
              "#bd3786"
             ],
             [
              0.5555555555555556,
              "#d8576b"
             ],
             [
              0.6666666666666666,
              "#ed7953"
             ],
             [
              0.7777777777777778,
              "#fb9f3a"
             ],
             [
              0.8888888888888888,
              "#fdca26"
             ],
             [
              1,
              "#f0f921"
             ]
            ],
            "type": "contour"
           }
          ],
          "contourcarpet": [
           {
            "colorbar": {
             "outlinewidth": 0,
             "ticks": ""
            },
            "type": "contourcarpet"
           }
          ],
          "heatmap": [
           {
            "colorbar": {
             "outlinewidth": 0,
             "ticks": ""
            },
            "colorscale": [
             [
              0,
              "#0d0887"
             ],
             [
              0.1111111111111111,
              "#46039f"
             ],
             [
              0.2222222222222222,
              "#7201a8"
             ],
             [
              0.3333333333333333,
              "#9c179e"
             ],
             [
              0.4444444444444444,
              "#bd3786"
             ],
             [
              0.5555555555555556,
              "#d8576b"
             ],
             [
              0.6666666666666666,
              "#ed7953"
             ],
             [
              0.7777777777777778,
              "#fb9f3a"
             ],
             [
              0.8888888888888888,
              "#fdca26"
             ],
             [
              1,
              "#f0f921"
             ]
            ],
            "type": "heatmap"
           }
          ],
          "heatmapgl": [
           {
            "colorbar": {
             "outlinewidth": 0,
             "ticks": ""
            },
            "colorscale": [
             [
              0,
              "#0d0887"
             ],
             [
              0.1111111111111111,
              "#46039f"
             ],
             [
              0.2222222222222222,
              "#7201a8"
             ],
             [
              0.3333333333333333,
              "#9c179e"
             ],
             [
              0.4444444444444444,
              "#bd3786"
             ],
             [
              0.5555555555555556,
              "#d8576b"
             ],
             [
              0.6666666666666666,
              "#ed7953"
             ],
             [
              0.7777777777777778,
              "#fb9f3a"
             ],
             [
              0.8888888888888888,
              "#fdca26"
             ],
             [
              1,
              "#f0f921"
             ]
            ],
            "type": "heatmapgl"
           }
          ],
          "histogram": [
           {
            "marker": {
             "pattern": {
              "fillmode": "overlay",
              "size": 10,
              "solidity": 0.2
             }
            },
            "type": "histogram"
           }
          ],
          "histogram2d": [
           {
            "colorbar": {
             "outlinewidth": 0,
             "ticks": ""
            },
            "colorscale": [
             [
              0,
              "#0d0887"
             ],
             [
              0.1111111111111111,
              "#46039f"
             ],
             [
              0.2222222222222222,
              "#7201a8"
             ],
             [
              0.3333333333333333,
              "#9c179e"
             ],
             [
              0.4444444444444444,
              "#bd3786"
             ],
             [
              0.5555555555555556,
              "#d8576b"
             ],
             [
              0.6666666666666666,
              "#ed7953"
             ],
             [
              0.7777777777777778,
              "#fb9f3a"
             ],
             [
              0.8888888888888888,
              "#fdca26"
             ],
             [
              1,
              "#f0f921"
             ]
            ],
            "type": "histogram2d"
           }
          ],
          "histogram2dcontour": [
           {
            "colorbar": {
             "outlinewidth": 0,
             "ticks": ""
            },
            "colorscale": [
             [
              0,
              "#0d0887"
             ],
             [
              0.1111111111111111,
              "#46039f"
             ],
             [
              0.2222222222222222,
              "#7201a8"
             ],
             [
              0.3333333333333333,
              "#9c179e"
             ],
             [
              0.4444444444444444,
              "#bd3786"
             ],
             [
              0.5555555555555556,
              "#d8576b"
             ],
             [
              0.6666666666666666,
              "#ed7953"
             ],
             [
              0.7777777777777778,
              "#fb9f3a"
             ],
             [
              0.8888888888888888,
              "#fdca26"
             ],
             [
              1,
              "#f0f921"
             ]
            ],
            "type": "histogram2dcontour"
           }
          ],
          "mesh3d": [
           {
            "colorbar": {
             "outlinewidth": 0,
             "ticks": ""
            },
            "type": "mesh3d"
           }
          ],
          "parcoords": [
           {
            "line": {
             "colorbar": {
              "outlinewidth": 0,
              "ticks": ""
             }
            },
            "type": "parcoords"
           }
          ],
          "pie": [
           {
            "automargin": true,
            "type": "pie"
           }
          ],
          "scatter": [
           {
            "marker": {
             "colorbar": {
              "outlinewidth": 0,
              "ticks": ""
             }
            },
            "type": "scatter"
           }
          ],
          "scatter3d": [
           {
            "line": {
             "colorbar": {
              "outlinewidth": 0,
              "ticks": ""
             }
            },
            "marker": {
             "colorbar": {
              "outlinewidth": 0,
              "ticks": ""
             }
            },
            "type": "scatter3d"
           }
          ],
          "scattercarpet": [
           {
            "marker": {
             "colorbar": {
              "outlinewidth": 0,
              "ticks": ""
             }
            },
            "type": "scattercarpet"
           }
          ],
          "scattergeo": [
           {
            "marker": {
             "colorbar": {
              "outlinewidth": 0,
              "ticks": ""
             }
            },
            "type": "scattergeo"
           }
          ],
          "scattergl": [
           {
            "marker": {
             "colorbar": {
              "outlinewidth": 0,
              "ticks": ""
             }
            },
            "type": "scattergl"
           }
          ],
          "scattermapbox": [
           {
            "marker": {
             "colorbar": {
              "outlinewidth": 0,
              "ticks": ""
             }
            },
            "type": "scattermapbox"
           }
          ],
          "scatterpolar": [
           {
            "marker": {
             "colorbar": {
              "outlinewidth": 0,
              "ticks": ""
             }
            },
            "type": "scatterpolar"
           }
          ],
          "scatterpolargl": [
           {
            "marker": {
             "colorbar": {
              "outlinewidth": 0,
              "ticks": ""
             }
            },
            "type": "scatterpolargl"
           }
          ],
          "scatterternary": [
           {
            "marker": {
             "colorbar": {
              "outlinewidth": 0,
              "ticks": ""
             }
            },
            "type": "scatterternary"
           }
          ],
          "surface": [
           {
            "colorbar": {
             "outlinewidth": 0,
             "ticks": ""
            },
            "colorscale": [
             [
              0,
              "#0d0887"
             ],
             [
              0.1111111111111111,
              "#46039f"
             ],
             [
              0.2222222222222222,
              "#7201a8"
             ],
             [
              0.3333333333333333,
              "#9c179e"
             ],
             [
              0.4444444444444444,
              "#bd3786"
             ],
             [
              0.5555555555555556,
              "#d8576b"
             ],
             [
              0.6666666666666666,
              "#ed7953"
             ],
             [
              0.7777777777777778,
              "#fb9f3a"
             ],
             [
              0.8888888888888888,
              "#fdca26"
             ],
             [
              1,
              "#f0f921"
             ]
            ],
            "type": "surface"
           }
          ],
          "table": [
           {
            "cells": {
             "fill": {
              "color": "#EBF0F8"
             },
             "line": {
              "color": "white"
             }
            },
            "header": {
             "fill": {
              "color": "#C8D4E3"
             },
             "line": {
              "color": "white"
             }
            },
            "type": "table"
           }
          ]
         },
         "layout": {
          "annotationdefaults": {
           "arrowcolor": "#2a3f5f",
           "arrowhead": 0,
           "arrowwidth": 1
          },
          "autotypenumbers": "strict",
          "coloraxis": {
           "colorbar": {
            "outlinewidth": 0,
            "ticks": ""
           }
          },
          "colorscale": {
           "diverging": [
            [
             0,
             "#8e0152"
            ],
            [
             0.1,
             "#c51b7d"
            ],
            [
             0.2,
             "#de77ae"
            ],
            [
             0.3,
             "#f1b6da"
            ],
            [
             0.4,
             "#fde0ef"
            ],
            [
             0.5,
             "#f7f7f7"
            ],
            [
             0.6,
             "#e6f5d0"
            ],
            [
             0.7,
             "#b8e186"
            ],
            [
             0.8,
             "#7fbc41"
            ],
            [
             0.9,
             "#4d9221"
            ],
            [
             1,
             "#276419"
            ]
           ],
           "sequential": [
            [
             0,
             "#0d0887"
            ],
            [
             0.1111111111111111,
             "#46039f"
            ],
            [
             0.2222222222222222,
             "#7201a8"
            ],
            [
             0.3333333333333333,
             "#9c179e"
            ],
            [
             0.4444444444444444,
             "#bd3786"
            ],
            [
             0.5555555555555556,
             "#d8576b"
            ],
            [
             0.6666666666666666,
             "#ed7953"
            ],
            [
             0.7777777777777778,
             "#fb9f3a"
            ],
            [
             0.8888888888888888,
             "#fdca26"
            ],
            [
             1,
             "#f0f921"
            ]
           ],
           "sequentialminus": [
            [
             0,
             "#0d0887"
            ],
            [
             0.1111111111111111,
             "#46039f"
            ],
            [
             0.2222222222222222,
             "#7201a8"
            ],
            [
             0.3333333333333333,
             "#9c179e"
            ],
            [
             0.4444444444444444,
             "#bd3786"
            ],
            [
             0.5555555555555556,
             "#d8576b"
            ],
            [
             0.6666666666666666,
             "#ed7953"
            ],
            [
             0.7777777777777778,
             "#fb9f3a"
            ],
            [
             0.8888888888888888,
             "#fdca26"
            ],
            [
             1,
             "#f0f921"
            ]
           ]
          },
          "colorway": [
           "#636efa",
           "#EF553B",
           "#00cc96",
           "#ab63fa",
           "#FFA15A",
           "#19d3f3",
           "#FF6692",
           "#B6E880",
           "#FF97FF",
           "#FECB52"
          ],
          "font": {
           "color": "#2a3f5f"
          },
          "geo": {
           "bgcolor": "white",
           "lakecolor": "white",
           "landcolor": "#E5ECF6",
           "showlakes": true,
           "showland": true,
           "subunitcolor": "white"
          },
          "hoverlabel": {
           "align": "left"
          },
          "hovermode": "closest",
          "mapbox": {
           "style": "light"
          },
          "paper_bgcolor": "white",
          "plot_bgcolor": "#E5ECF6",
          "polar": {
           "angularaxis": {
            "gridcolor": "white",
            "linecolor": "white",
            "ticks": ""
           },
           "bgcolor": "#E5ECF6",
           "radialaxis": {
            "gridcolor": "white",
            "linecolor": "white",
            "ticks": ""
           }
          },
          "scene": {
           "xaxis": {
            "backgroundcolor": "#E5ECF6",
            "gridcolor": "white",
            "gridwidth": 2,
            "linecolor": "white",
            "showbackground": true,
            "ticks": "",
            "zerolinecolor": "white"
           },
           "yaxis": {
            "backgroundcolor": "#E5ECF6",
            "gridcolor": "white",
            "gridwidth": 2,
            "linecolor": "white",
            "showbackground": true,
            "ticks": "",
            "zerolinecolor": "white"
           },
           "zaxis": {
            "backgroundcolor": "#E5ECF6",
            "gridcolor": "white",
            "gridwidth": 2,
            "linecolor": "white",
            "showbackground": true,
            "ticks": "",
            "zerolinecolor": "white"
           }
          },
          "shapedefaults": {
           "line": {
            "color": "#2a3f5f"
           }
          },
          "ternary": {
           "aaxis": {
            "gridcolor": "white",
            "linecolor": "white",
            "ticks": ""
           },
           "baxis": {
            "gridcolor": "white",
            "linecolor": "white",
            "ticks": ""
           },
           "bgcolor": "#E5ECF6",
           "caxis": {
            "gridcolor": "white",
            "linecolor": "white",
            "ticks": ""
           }
          },
          "title": {
           "x": 0.05
          },
          "xaxis": {
           "automargin": true,
           "gridcolor": "white",
           "linecolor": "white",
           "ticks": "",
           "title": {
            "standoff": 15
           },
           "zerolinecolor": "white",
           "zerolinewidth": 2
          },
          "yaxis": {
           "automargin": true,
           "gridcolor": "white",
           "linecolor": "white",
           "ticks": "",
           "title": {
            "standoff": 15
           },
           "zerolinecolor": "white",
           "zerolinewidth": 2
          }
         }
        }
       }
      },
      "text/html": [
       "<div>                            <div id=\"b95079bb-e488-4ab0-beea-7fca02ca63ca\" class=\"plotly-graph-div\" style=\"height:525px; width:100%;\"></div>            <script type=\"text/javascript\">                require([\"plotly\"], function(Plotly) {                    window.PLOTLYENV=window.PLOTLYENV || {};                                    if (document.getElementById(\"b95079bb-e488-4ab0-beea-7fca02ca63ca\")) {                    Plotly.newPlot(                        \"b95079bb-e488-4ab0-beea-7fca02ca63ca\",                        [{\"labels\":[\"\\u0440\\u0435\\u0441\\u0442\\u043e\\u0440\\u0430\\u043d\",\"\\u043a\\u0430\\u0444\\u0435\",\"\\u043a\\u043e\\u0444\\u0435\\u0439\\u043d\\u044f\",\"\\u0431\\u0430\\u0440,\\u043f\\u0430\\u0431\",\"\\u043f\\u0438\\u0446\\u0446\\u0435\\u0440\\u0438\\u044f\",\"\\u0431\\u044b\\u0441\\u0442\\u0440\\u043e\\u0435 \\u043f\\u0438\\u0442\\u0430\\u043d\\u0438\\u0435\",\"\\u0441\\u0442\\u043e\\u043b\\u043e\\u0432\\u0430\\u044f\",\"\\u0431\\u0443\\u043b\\u043e\\u0447\\u043d\\u0430\\u044f\"],\"values\":[136613.0,95337.0,79327.0,52333.0,38492.0,31267.0,14559.0,13148.0],\"type\":\"pie\"}],                        {\"template\":{\"data\":{\"bar\":[{\"error_x\":{\"color\":\"#2a3f5f\"},\"error_y\":{\"color\":\"#2a3f5f\"},\"marker\":{\"line\":{\"color\":\"#E5ECF6\",\"width\":0.5},\"pattern\":{\"fillmode\":\"overlay\",\"size\":10,\"solidity\":0.2}},\"type\":\"bar\"}],\"barpolar\":[{\"marker\":{\"line\":{\"color\":\"#E5ECF6\",\"width\":0.5},\"pattern\":{\"fillmode\":\"overlay\",\"size\":10,\"solidity\":0.2}},\"type\":\"barpolar\"}],\"carpet\":[{\"aaxis\":{\"endlinecolor\":\"#2a3f5f\",\"gridcolor\":\"white\",\"linecolor\":\"white\",\"minorgridcolor\":\"white\",\"startlinecolor\":\"#2a3f5f\"},\"baxis\":{\"endlinecolor\":\"#2a3f5f\",\"gridcolor\":\"white\",\"linecolor\":\"white\",\"minorgridcolor\":\"white\",\"startlinecolor\":\"#2a3f5f\"},\"type\":\"carpet\"}],\"choropleth\":[{\"colorbar\":{\"outlinewidth\":0,\"ticks\":\"\"},\"type\":\"choropleth\"}],\"contour\":[{\"colorbar\":{\"outlinewidth\":0,\"ticks\":\"\"},\"colorscale\":[[0.0,\"#0d0887\"],[0.1111111111111111,\"#46039f\"],[0.2222222222222222,\"#7201a8\"],[0.3333333333333333,\"#9c179e\"],[0.4444444444444444,\"#bd3786\"],[0.5555555555555556,\"#d8576b\"],[0.6666666666666666,\"#ed7953\"],[0.7777777777777778,\"#fb9f3a\"],[0.8888888888888888,\"#fdca26\"],[1.0,\"#f0f921\"]],\"type\":\"contour\"}],\"contourcarpet\":[{\"colorbar\":{\"outlinewidth\":0,\"ticks\":\"\"},\"type\":\"contourcarpet\"}],\"heatmap\":[{\"colorbar\":{\"outlinewidth\":0,\"ticks\":\"\"},\"colorscale\":[[0.0,\"#0d0887\"],[0.1111111111111111,\"#46039f\"],[0.2222222222222222,\"#7201a8\"],[0.3333333333333333,\"#9c179e\"],[0.4444444444444444,\"#bd3786\"],[0.5555555555555556,\"#d8576b\"],[0.6666666666666666,\"#ed7953\"],[0.7777777777777778,\"#fb9f3a\"],[0.8888888888888888,\"#fdca26\"],[1.0,\"#f0f921\"]],\"type\":\"heatmap\"}],\"heatmapgl\":[{\"colorbar\":{\"outlinewidth\":0,\"ticks\":\"\"},\"colorscale\":[[0.0,\"#0d0887\"],[0.1111111111111111,\"#46039f\"],[0.2222222222222222,\"#7201a8\"],[0.3333333333333333,\"#9c179e\"],[0.4444444444444444,\"#bd3786\"],[0.5555555555555556,\"#d8576b\"],[0.6666666666666666,\"#ed7953\"],[0.7777777777777778,\"#fb9f3a\"],[0.8888888888888888,\"#fdca26\"],[1.0,\"#f0f921\"]],\"type\":\"heatmapgl\"}],\"histogram\":[{\"marker\":{\"pattern\":{\"fillmode\":\"overlay\",\"size\":10,\"solidity\":0.2}},\"type\":\"histogram\"}],\"histogram2d\":[{\"colorbar\":{\"outlinewidth\":0,\"ticks\":\"\"},\"colorscale\":[[0.0,\"#0d0887\"],[0.1111111111111111,\"#46039f\"],[0.2222222222222222,\"#7201a8\"],[0.3333333333333333,\"#9c179e\"],[0.4444444444444444,\"#bd3786\"],[0.5555555555555556,\"#d8576b\"],[0.6666666666666666,\"#ed7953\"],[0.7777777777777778,\"#fb9f3a\"],[0.8888888888888888,\"#fdca26\"],[1.0,\"#f0f921\"]],\"type\":\"histogram2d\"}],\"histogram2dcontour\":[{\"colorbar\":{\"outlinewidth\":0,\"ticks\":\"\"},\"colorscale\":[[0.0,\"#0d0887\"],[0.1111111111111111,\"#46039f\"],[0.2222222222222222,\"#7201a8\"],[0.3333333333333333,\"#9c179e\"],[0.4444444444444444,\"#bd3786\"],[0.5555555555555556,\"#d8576b\"],[0.6666666666666666,\"#ed7953\"],[0.7777777777777778,\"#fb9f3a\"],[0.8888888888888888,\"#fdca26\"],[1.0,\"#f0f921\"]],\"type\":\"histogram2dcontour\"}],\"mesh3d\":[{\"colorbar\":{\"outlinewidth\":0,\"ticks\":\"\"},\"type\":\"mesh3d\"}],\"parcoords\":[{\"line\":{\"colorbar\":{\"outlinewidth\":0,\"ticks\":\"\"}},\"type\":\"parcoords\"}],\"pie\":[{\"automargin\":true,\"type\":\"pie\"}],\"scatter\":[{\"marker\":{\"colorbar\":{\"outlinewidth\":0,\"ticks\":\"\"}},\"type\":\"scatter\"}],\"scatter3d\":[{\"line\":{\"colorbar\":{\"outlinewidth\":0,\"ticks\":\"\"}},\"marker\":{\"colorbar\":{\"outlinewidth\":0,\"ticks\":\"\"}},\"type\":\"scatter3d\"}],\"scattercarpet\":[{\"marker\":{\"colorbar\":{\"outlinewidth\":0,\"ticks\":\"\"}},\"type\":\"scattercarpet\"}],\"scattergeo\":[{\"marker\":{\"colorbar\":{\"outlinewidth\":0,\"ticks\":\"\"}},\"type\":\"scattergeo\"}],\"scattergl\":[{\"marker\":{\"colorbar\":{\"outlinewidth\":0,\"ticks\":\"\"}},\"type\":\"scattergl\"}],\"scattermapbox\":[{\"marker\":{\"colorbar\":{\"outlinewidth\":0,\"ticks\":\"\"}},\"type\":\"scattermapbox\"}],\"scatterpolar\":[{\"marker\":{\"colorbar\":{\"outlinewidth\":0,\"ticks\":\"\"}},\"type\":\"scatterpolar\"}],\"scatterpolargl\":[{\"marker\":{\"colorbar\":{\"outlinewidth\":0,\"ticks\":\"\"}},\"type\":\"scatterpolargl\"}],\"scatterternary\":[{\"marker\":{\"colorbar\":{\"outlinewidth\":0,\"ticks\":\"\"}},\"type\":\"scatterternary\"}],\"surface\":[{\"colorbar\":{\"outlinewidth\":0,\"ticks\":\"\"},\"colorscale\":[[0.0,\"#0d0887\"],[0.1111111111111111,\"#46039f\"],[0.2222222222222222,\"#7201a8\"],[0.3333333333333333,\"#9c179e\"],[0.4444444444444444,\"#bd3786\"],[0.5555555555555556,\"#d8576b\"],[0.6666666666666666,\"#ed7953\"],[0.7777777777777778,\"#fb9f3a\"],[0.8888888888888888,\"#fdca26\"],[1.0,\"#f0f921\"]],\"type\":\"surface\"}],\"table\":[{\"cells\":{\"fill\":{\"color\":\"#EBF0F8\"},\"line\":{\"color\":\"white\"}},\"header\":{\"fill\":{\"color\":\"#C8D4E3\"},\"line\":{\"color\":\"white\"}},\"type\":\"table\"}]},\"layout\":{\"annotationdefaults\":{\"arrowcolor\":\"#2a3f5f\",\"arrowhead\":0,\"arrowwidth\":1},\"autotypenumbers\":\"strict\",\"coloraxis\":{\"colorbar\":{\"outlinewidth\":0,\"ticks\":\"\"}},\"colorscale\":{\"diverging\":[[0,\"#8e0152\"],[0.1,\"#c51b7d\"],[0.2,\"#de77ae\"],[0.3,\"#f1b6da\"],[0.4,\"#fde0ef\"],[0.5,\"#f7f7f7\"],[0.6,\"#e6f5d0\"],[0.7,\"#b8e186\"],[0.8,\"#7fbc41\"],[0.9,\"#4d9221\"],[1,\"#276419\"]],\"sequential\":[[0.0,\"#0d0887\"],[0.1111111111111111,\"#46039f\"],[0.2222222222222222,\"#7201a8\"],[0.3333333333333333,\"#9c179e\"],[0.4444444444444444,\"#bd3786\"],[0.5555555555555556,\"#d8576b\"],[0.6666666666666666,\"#ed7953\"],[0.7777777777777778,\"#fb9f3a\"],[0.8888888888888888,\"#fdca26\"],[1.0,\"#f0f921\"]],\"sequentialminus\":[[0.0,\"#0d0887\"],[0.1111111111111111,\"#46039f\"],[0.2222222222222222,\"#7201a8\"],[0.3333333333333333,\"#9c179e\"],[0.4444444444444444,\"#bd3786\"],[0.5555555555555556,\"#d8576b\"],[0.6666666666666666,\"#ed7953\"],[0.7777777777777778,\"#fb9f3a\"],[0.8888888888888888,\"#fdca26\"],[1.0,\"#f0f921\"]]},\"colorway\":[\"#636efa\",\"#EF553B\",\"#00cc96\",\"#ab63fa\",\"#FFA15A\",\"#19d3f3\",\"#FF6692\",\"#B6E880\",\"#FF97FF\",\"#FECB52\"],\"font\":{\"color\":\"#2a3f5f\"},\"geo\":{\"bgcolor\":\"white\",\"lakecolor\":\"white\",\"landcolor\":\"#E5ECF6\",\"showlakes\":true,\"showland\":true,\"subunitcolor\":\"white\"},\"hoverlabel\":{\"align\":\"left\"},\"hovermode\":\"closest\",\"mapbox\":{\"style\":\"light\"},\"paper_bgcolor\":\"white\",\"plot_bgcolor\":\"#E5ECF6\",\"polar\":{\"angularaxis\":{\"gridcolor\":\"white\",\"linecolor\":\"white\",\"ticks\":\"\"},\"bgcolor\":\"#E5ECF6\",\"radialaxis\":{\"gridcolor\":\"white\",\"linecolor\":\"white\",\"ticks\":\"\"}},\"scene\":{\"xaxis\":{\"backgroundcolor\":\"#E5ECF6\",\"gridcolor\":\"white\",\"gridwidth\":2,\"linecolor\":\"white\",\"showbackground\":true,\"ticks\":\"\",\"zerolinecolor\":\"white\"},\"yaxis\":{\"backgroundcolor\":\"#E5ECF6\",\"gridcolor\":\"white\",\"gridwidth\":2,\"linecolor\":\"white\",\"showbackground\":true,\"ticks\":\"\",\"zerolinecolor\":\"white\"},\"zaxis\":{\"backgroundcolor\":\"#E5ECF6\",\"gridcolor\":\"white\",\"gridwidth\":2,\"linecolor\":\"white\",\"showbackground\":true,\"ticks\":\"\",\"zerolinecolor\":\"white\"}},\"shapedefaults\":{\"line\":{\"color\":\"#2a3f5f\"}},\"ternary\":{\"aaxis\":{\"gridcolor\":\"white\",\"linecolor\":\"white\",\"ticks\":\"\"},\"baxis\":{\"gridcolor\":\"white\",\"linecolor\":\"white\",\"ticks\":\"\"},\"bgcolor\":\"#E5ECF6\",\"caxis\":{\"gridcolor\":\"white\",\"linecolor\":\"white\",\"ticks\":\"\"}},\"title\":{\"x\":0.05},\"xaxis\":{\"automargin\":true,\"gridcolor\":\"white\",\"linecolor\":\"white\",\"ticks\":\"\",\"title\":{\"standoff\":15},\"zerolinecolor\":\"white\",\"zerolinewidth\":2},\"yaxis\":{\"automargin\":true,\"gridcolor\":\"white\",\"linecolor\":\"white\",\"ticks\":\"\",\"title\":{\"standoff\":15},\"zerolinecolor\":\"white\",\"zerolinewidth\":2}}}},                        {\"responsive\": true}                    ).then(function(){\n",
       "                            \n",
       "var gd = document.getElementById('b95079bb-e488-4ab0-beea-7fca02ca63ca');\n",
       "var x = new MutationObserver(function (mutations, observer) {{\n",
       "        var display = window.getComputedStyle(gd).display;\n",
       "        if (!display || display === 'none') {{\n",
       "            console.log([gd, 'removed!']);\n",
       "            Plotly.purge(gd);\n",
       "            observer.disconnect();\n",
       "        }}\n",
       "}});\n",
       "\n",
       "// Listen for the removal of the full notebook cells\n",
       "var notebookContainer = gd.closest('#notebook-container');\n",
       "if (notebookContainer) {{\n",
       "    x.observe(notebookContainer, {childList: true});\n",
       "}}\n",
       "\n",
       "// Listen for the clearing of the current output cell\n",
       "var outputEl = gd.closest('.output');\n",
       "if (outputEl) {{\n",
       "    x.observe(outputEl, {childList: true});\n",
       "}}\n",
       "\n",
       "                        })                };                });            </script>        </div>"
      ]
     },
     "metadata": {},
     "output_type": "display_data"
    }
   ],
   "source": [
    "fig = go.Figure(data=[go.Pie(labels=category_seats_counts['category'], values=category_seats_counts['count_seats'])])\n",
    "fig.show()"
   ]
  },
  {
   "cell_type": "markdown",
   "metadata": {},
   "source": [
    "The following conclusions can be made:\n",
    "\n",
    "- Restaurants and cafes lead in the number of seats, indicating their high popularity and demand.\n",
    "- Cafes and bars/pubs also hold a significant share but lag behind restaurants and cafes.\n",
    "- Bakeries and cafeterias occupy a small portion, which could indicate their lesser contribution to the overall foodservice industry.\n",
    "\n",
    "The distribution mirrors the trend seen in the previous chart of establishments by category. Additionally, as we recall from the data preprocessing module, many values in the \"seats\" column were missing."
   ]
  },
  {
   "cell_type": "markdown",
   "metadata": {},
   "source": [
    "Consider and visualize the ratio of chain and non-chain establishments in the dataset."
   ]
  },
  {
   "cell_type": "code",
   "execution_count": 30,
   "metadata": {},
   "outputs": [
    {
     "data": {
      "text/html": [
       "<div>\n",
       "<style scoped>\n",
       "    .dataframe tbody tr th:only-of-type {\n",
       "        vertical-align: middle;\n",
       "    }\n",
       "\n",
       "    .dataframe tbody tr th {\n",
       "        vertical-align: top;\n",
       "    }\n",
       "\n",
       "    .dataframe thead th {\n",
       "        text-align: right;\n",
       "    }\n",
       "</style>\n",
       "<table border=\"1\" class=\"dataframe\">\n",
       "  <thead>\n",
       "    <tr style=\"text-align: right;\">\n",
       "      <th></th>\n",
       "      <th>chain</th>\n",
       "      <th>count</th>\n",
       "    </tr>\n",
       "  </thead>\n",
       "  <tbody>\n",
       "    <tr>\n",
       "      <th>0</th>\n",
       "      <td>Не сетевой</td>\n",
       "      <td>4603</td>\n",
       "    </tr>\n",
       "    <tr>\n",
       "      <th>1</th>\n",
       "      <td>Сетевой</td>\n",
       "      <td>3024</td>\n",
       "    </tr>\n",
       "  </tbody>\n",
       "</table>\n",
       "</div>"
      ],
      "text/plain": [
       "        chain  count\n",
       "0  Не сетевой   4603\n",
       "1     Сетевой   3024"
      ]
     },
     "execution_count": 30,
     "metadata": {},
     "output_type": "execute_result"
    }
   ],
   "source": [
    "chain_counts = df['chain'].value_counts().reset_index()\n",
    "chain_counts.columns = ['chain', 'count']\n",
    "chain_counts['chain'] = chain_counts['chain'].replace({False: 'Не сетевой'})\n",
    "chain_counts['chain'] = chain_counts['chain'].replace({True: 'Сетевой'})\n",
    "chain_counts"
   ]
  },
  {
   "cell_type": "code",
   "execution_count": 31,
   "metadata": {},
   "outputs": [
    {
     "data": {
      "application/vnd.plotly.v1+json": {
       "config": {
        "plotlyServerURL": "https://plot.ly"
       },
       "data": [
        {
         "labels": [
          "Не сетевой",
          "Сетевой"
         ],
         "type": "pie",
         "values": [
          4603,
          3024
         ]
        }
       ],
       "layout": {
        "template": {
         "data": {
          "bar": [
           {
            "error_x": {
             "color": "#2a3f5f"
            },
            "error_y": {
             "color": "#2a3f5f"
            },
            "marker": {
             "line": {
              "color": "#E5ECF6",
              "width": 0.5
             },
             "pattern": {
              "fillmode": "overlay",
              "size": 10,
              "solidity": 0.2
             }
            },
            "type": "bar"
           }
          ],
          "barpolar": [
           {
            "marker": {
             "line": {
              "color": "#E5ECF6",
              "width": 0.5
             },
             "pattern": {
              "fillmode": "overlay",
              "size": 10,
              "solidity": 0.2
             }
            },
            "type": "barpolar"
           }
          ],
          "carpet": [
           {
            "aaxis": {
             "endlinecolor": "#2a3f5f",
             "gridcolor": "white",
             "linecolor": "white",
             "minorgridcolor": "white",
             "startlinecolor": "#2a3f5f"
            },
            "baxis": {
             "endlinecolor": "#2a3f5f",
             "gridcolor": "white",
             "linecolor": "white",
             "minorgridcolor": "white",
             "startlinecolor": "#2a3f5f"
            },
            "type": "carpet"
           }
          ],
          "choropleth": [
           {
            "colorbar": {
             "outlinewidth": 0,
             "ticks": ""
            },
            "type": "choropleth"
           }
          ],
          "contour": [
           {
            "colorbar": {
             "outlinewidth": 0,
             "ticks": ""
            },
            "colorscale": [
             [
              0,
              "#0d0887"
             ],
             [
              0.1111111111111111,
              "#46039f"
             ],
             [
              0.2222222222222222,
              "#7201a8"
             ],
             [
              0.3333333333333333,
              "#9c179e"
             ],
             [
              0.4444444444444444,
              "#bd3786"
             ],
             [
              0.5555555555555556,
              "#d8576b"
             ],
             [
              0.6666666666666666,
              "#ed7953"
             ],
             [
              0.7777777777777778,
              "#fb9f3a"
             ],
             [
              0.8888888888888888,
              "#fdca26"
             ],
             [
              1,
              "#f0f921"
             ]
            ],
            "type": "contour"
           }
          ],
          "contourcarpet": [
           {
            "colorbar": {
             "outlinewidth": 0,
             "ticks": ""
            },
            "type": "contourcarpet"
           }
          ],
          "heatmap": [
           {
            "colorbar": {
             "outlinewidth": 0,
             "ticks": ""
            },
            "colorscale": [
             [
              0,
              "#0d0887"
             ],
             [
              0.1111111111111111,
              "#46039f"
             ],
             [
              0.2222222222222222,
              "#7201a8"
             ],
             [
              0.3333333333333333,
              "#9c179e"
             ],
             [
              0.4444444444444444,
              "#bd3786"
             ],
             [
              0.5555555555555556,
              "#d8576b"
             ],
             [
              0.6666666666666666,
              "#ed7953"
             ],
             [
              0.7777777777777778,
              "#fb9f3a"
             ],
             [
              0.8888888888888888,
              "#fdca26"
             ],
             [
              1,
              "#f0f921"
             ]
            ],
            "type": "heatmap"
           }
          ],
          "heatmapgl": [
           {
            "colorbar": {
             "outlinewidth": 0,
             "ticks": ""
            },
            "colorscale": [
             [
              0,
              "#0d0887"
             ],
             [
              0.1111111111111111,
              "#46039f"
             ],
             [
              0.2222222222222222,
              "#7201a8"
             ],
             [
              0.3333333333333333,
              "#9c179e"
             ],
             [
              0.4444444444444444,
              "#bd3786"
             ],
             [
              0.5555555555555556,
              "#d8576b"
             ],
             [
              0.6666666666666666,
              "#ed7953"
             ],
             [
              0.7777777777777778,
              "#fb9f3a"
             ],
             [
              0.8888888888888888,
              "#fdca26"
             ],
             [
              1,
              "#f0f921"
             ]
            ],
            "type": "heatmapgl"
           }
          ],
          "histogram": [
           {
            "marker": {
             "pattern": {
              "fillmode": "overlay",
              "size": 10,
              "solidity": 0.2
             }
            },
            "type": "histogram"
           }
          ],
          "histogram2d": [
           {
            "colorbar": {
             "outlinewidth": 0,
             "ticks": ""
            },
            "colorscale": [
             [
              0,
              "#0d0887"
             ],
             [
              0.1111111111111111,
              "#46039f"
             ],
             [
              0.2222222222222222,
              "#7201a8"
             ],
             [
              0.3333333333333333,
              "#9c179e"
             ],
             [
              0.4444444444444444,
              "#bd3786"
             ],
             [
              0.5555555555555556,
              "#d8576b"
             ],
             [
              0.6666666666666666,
              "#ed7953"
             ],
             [
              0.7777777777777778,
              "#fb9f3a"
             ],
             [
              0.8888888888888888,
              "#fdca26"
             ],
             [
              1,
              "#f0f921"
             ]
            ],
            "type": "histogram2d"
           }
          ],
          "histogram2dcontour": [
           {
            "colorbar": {
             "outlinewidth": 0,
             "ticks": ""
            },
            "colorscale": [
             [
              0,
              "#0d0887"
             ],
             [
              0.1111111111111111,
              "#46039f"
             ],
             [
              0.2222222222222222,
              "#7201a8"
             ],
             [
              0.3333333333333333,
              "#9c179e"
             ],
             [
              0.4444444444444444,
              "#bd3786"
             ],
             [
              0.5555555555555556,
              "#d8576b"
             ],
             [
              0.6666666666666666,
              "#ed7953"
             ],
             [
              0.7777777777777778,
              "#fb9f3a"
             ],
             [
              0.8888888888888888,
              "#fdca26"
             ],
             [
              1,
              "#f0f921"
             ]
            ],
            "type": "histogram2dcontour"
           }
          ],
          "mesh3d": [
           {
            "colorbar": {
             "outlinewidth": 0,
             "ticks": ""
            },
            "type": "mesh3d"
           }
          ],
          "parcoords": [
           {
            "line": {
             "colorbar": {
              "outlinewidth": 0,
              "ticks": ""
             }
            },
            "type": "parcoords"
           }
          ],
          "pie": [
           {
            "automargin": true,
            "type": "pie"
           }
          ],
          "scatter": [
           {
            "marker": {
             "colorbar": {
              "outlinewidth": 0,
              "ticks": ""
             }
            },
            "type": "scatter"
           }
          ],
          "scatter3d": [
           {
            "line": {
             "colorbar": {
              "outlinewidth": 0,
              "ticks": ""
             }
            },
            "marker": {
             "colorbar": {
              "outlinewidth": 0,
              "ticks": ""
             }
            },
            "type": "scatter3d"
           }
          ],
          "scattercarpet": [
           {
            "marker": {
             "colorbar": {
              "outlinewidth": 0,
              "ticks": ""
             }
            },
            "type": "scattercarpet"
           }
          ],
          "scattergeo": [
           {
            "marker": {
             "colorbar": {
              "outlinewidth": 0,
              "ticks": ""
             }
            },
            "type": "scattergeo"
           }
          ],
          "scattergl": [
           {
            "marker": {
             "colorbar": {
              "outlinewidth": 0,
              "ticks": ""
             }
            },
            "type": "scattergl"
           }
          ],
          "scattermapbox": [
           {
            "marker": {
             "colorbar": {
              "outlinewidth": 0,
              "ticks": ""
             }
            },
            "type": "scattermapbox"
           }
          ],
          "scatterpolar": [
           {
            "marker": {
             "colorbar": {
              "outlinewidth": 0,
              "ticks": ""
             }
            },
            "type": "scatterpolar"
           }
          ],
          "scatterpolargl": [
           {
            "marker": {
             "colorbar": {
              "outlinewidth": 0,
              "ticks": ""
             }
            },
            "type": "scatterpolargl"
           }
          ],
          "scatterternary": [
           {
            "marker": {
             "colorbar": {
              "outlinewidth": 0,
              "ticks": ""
             }
            },
            "type": "scatterternary"
           }
          ],
          "surface": [
           {
            "colorbar": {
             "outlinewidth": 0,
             "ticks": ""
            },
            "colorscale": [
             [
              0,
              "#0d0887"
             ],
             [
              0.1111111111111111,
              "#46039f"
             ],
             [
              0.2222222222222222,
              "#7201a8"
             ],
             [
              0.3333333333333333,
              "#9c179e"
             ],
             [
              0.4444444444444444,
              "#bd3786"
             ],
             [
              0.5555555555555556,
              "#d8576b"
             ],
             [
              0.6666666666666666,
              "#ed7953"
             ],
             [
              0.7777777777777778,
              "#fb9f3a"
             ],
             [
              0.8888888888888888,
              "#fdca26"
             ],
             [
              1,
              "#f0f921"
             ]
            ],
            "type": "surface"
           }
          ],
          "table": [
           {
            "cells": {
             "fill": {
              "color": "#EBF0F8"
             },
             "line": {
              "color": "white"
             }
            },
            "header": {
             "fill": {
              "color": "#C8D4E3"
             },
             "line": {
              "color": "white"
             }
            },
            "type": "table"
           }
          ]
         },
         "layout": {
          "annotationdefaults": {
           "arrowcolor": "#2a3f5f",
           "arrowhead": 0,
           "arrowwidth": 1
          },
          "autotypenumbers": "strict",
          "coloraxis": {
           "colorbar": {
            "outlinewidth": 0,
            "ticks": ""
           }
          },
          "colorscale": {
           "diverging": [
            [
             0,
             "#8e0152"
            ],
            [
             0.1,
             "#c51b7d"
            ],
            [
             0.2,
             "#de77ae"
            ],
            [
             0.3,
             "#f1b6da"
            ],
            [
             0.4,
             "#fde0ef"
            ],
            [
             0.5,
             "#f7f7f7"
            ],
            [
             0.6,
             "#e6f5d0"
            ],
            [
             0.7,
             "#b8e186"
            ],
            [
             0.8,
             "#7fbc41"
            ],
            [
             0.9,
             "#4d9221"
            ],
            [
             1,
             "#276419"
            ]
           ],
           "sequential": [
            [
             0,
             "#0d0887"
            ],
            [
             0.1111111111111111,
             "#46039f"
            ],
            [
             0.2222222222222222,
             "#7201a8"
            ],
            [
             0.3333333333333333,
             "#9c179e"
            ],
            [
             0.4444444444444444,
             "#bd3786"
            ],
            [
             0.5555555555555556,
             "#d8576b"
            ],
            [
             0.6666666666666666,
             "#ed7953"
            ],
            [
             0.7777777777777778,
             "#fb9f3a"
            ],
            [
             0.8888888888888888,
             "#fdca26"
            ],
            [
             1,
             "#f0f921"
            ]
           ],
           "sequentialminus": [
            [
             0,
             "#0d0887"
            ],
            [
             0.1111111111111111,
             "#46039f"
            ],
            [
             0.2222222222222222,
             "#7201a8"
            ],
            [
             0.3333333333333333,
             "#9c179e"
            ],
            [
             0.4444444444444444,
             "#bd3786"
            ],
            [
             0.5555555555555556,
             "#d8576b"
            ],
            [
             0.6666666666666666,
             "#ed7953"
            ],
            [
             0.7777777777777778,
             "#fb9f3a"
            ],
            [
             0.8888888888888888,
             "#fdca26"
            ],
            [
             1,
             "#f0f921"
            ]
           ]
          },
          "colorway": [
           "#636efa",
           "#EF553B",
           "#00cc96",
           "#ab63fa",
           "#FFA15A",
           "#19d3f3",
           "#FF6692",
           "#B6E880",
           "#FF97FF",
           "#FECB52"
          ],
          "font": {
           "color": "#2a3f5f"
          },
          "geo": {
           "bgcolor": "white",
           "lakecolor": "white",
           "landcolor": "#E5ECF6",
           "showlakes": true,
           "showland": true,
           "subunitcolor": "white"
          },
          "hoverlabel": {
           "align": "left"
          },
          "hovermode": "closest",
          "mapbox": {
           "style": "light"
          },
          "paper_bgcolor": "white",
          "plot_bgcolor": "#E5ECF6",
          "polar": {
           "angularaxis": {
            "gridcolor": "white",
            "linecolor": "white",
            "ticks": ""
           },
           "bgcolor": "#E5ECF6",
           "radialaxis": {
            "gridcolor": "white",
            "linecolor": "white",
            "ticks": ""
           }
          },
          "scene": {
           "xaxis": {
            "backgroundcolor": "#E5ECF6",
            "gridcolor": "white",
            "gridwidth": 2,
            "linecolor": "white",
            "showbackground": true,
            "ticks": "",
            "zerolinecolor": "white"
           },
           "yaxis": {
            "backgroundcolor": "#E5ECF6",
            "gridcolor": "white",
            "gridwidth": 2,
            "linecolor": "white",
            "showbackground": true,
            "ticks": "",
            "zerolinecolor": "white"
           },
           "zaxis": {
            "backgroundcolor": "#E5ECF6",
            "gridcolor": "white",
            "gridwidth": 2,
            "linecolor": "white",
            "showbackground": true,
            "ticks": "",
            "zerolinecolor": "white"
           }
          },
          "shapedefaults": {
           "line": {
            "color": "#2a3f5f"
           }
          },
          "ternary": {
           "aaxis": {
            "gridcolor": "white",
            "linecolor": "white",
            "ticks": ""
           },
           "baxis": {
            "gridcolor": "white",
            "linecolor": "white",
            "ticks": ""
           },
           "bgcolor": "#E5ECF6",
           "caxis": {
            "gridcolor": "white",
            "linecolor": "white",
            "ticks": ""
           }
          },
          "title": {
           "x": 0.05
          },
          "xaxis": {
           "automargin": true,
           "gridcolor": "white",
           "linecolor": "white",
           "ticks": "",
           "title": {
            "standoff": 15
           },
           "zerolinecolor": "white",
           "zerolinewidth": 2
          },
          "yaxis": {
           "automargin": true,
           "gridcolor": "white",
           "linecolor": "white",
           "ticks": "",
           "title": {
            "standoff": 15
           },
           "zerolinecolor": "white",
           "zerolinewidth": 2
          }
         }
        }
       }
      },
      "text/html": [
       "<div>                            <div id=\"57d0bc40-33f0-4b91-95db-a84b055131b3\" class=\"plotly-graph-div\" style=\"height:525px; width:100%;\"></div>            <script type=\"text/javascript\">                require([\"plotly\"], function(Plotly) {                    window.PLOTLYENV=window.PLOTLYENV || {};                                    if (document.getElementById(\"57d0bc40-33f0-4b91-95db-a84b055131b3\")) {                    Plotly.newPlot(                        \"57d0bc40-33f0-4b91-95db-a84b055131b3\",                        [{\"labels\":[\"\\u041d\\u0435 \\u0441\\u0435\\u0442\\u0435\\u0432\\u043e\\u0439\",\"\\u0421\\u0435\\u0442\\u0435\\u0432\\u043e\\u0439\"],\"values\":[4603,3024],\"type\":\"pie\"}],                        {\"template\":{\"data\":{\"bar\":[{\"error_x\":{\"color\":\"#2a3f5f\"},\"error_y\":{\"color\":\"#2a3f5f\"},\"marker\":{\"line\":{\"color\":\"#E5ECF6\",\"width\":0.5},\"pattern\":{\"fillmode\":\"overlay\",\"size\":10,\"solidity\":0.2}},\"type\":\"bar\"}],\"barpolar\":[{\"marker\":{\"line\":{\"color\":\"#E5ECF6\",\"width\":0.5},\"pattern\":{\"fillmode\":\"overlay\",\"size\":10,\"solidity\":0.2}},\"type\":\"barpolar\"}],\"carpet\":[{\"aaxis\":{\"endlinecolor\":\"#2a3f5f\",\"gridcolor\":\"white\",\"linecolor\":\"white\",\"minorgridcolor\":\"white\",\"startlinecolor\":\"#2a3f5f\"},\"baxis\":{\"endlinecolor\":\"#2a3f5f\",\"gridcolor\":\"white\",\"linecolor\":\"white\",\"minorgridcolor\":\"white\",\"startlinecolor\":\"#2a3f5f\"},\"type\":\"carpet\"}],\"choropleth\":[{\"colorbar\":{\"outlinewidth\":0,\"ticks\":\"\"},\"type\":\"choropleth\"}],\"contour\":[{\"colorbar\":{\"outlinewidth\":0,\"ticks\":\"\"},\"colorscale\":[[0.0,\"#0d0887\"],[0.1111111111111111,\"#46039f\"],[0.2222222222222222,\"#7201a8\"],[0.3333333333333333,\"#9c179e\"],[0.4444444444444444,\"#bd3786\"],[0.5555555555555556,\"#d8576b\"],[0.6666666666666666,\"#ed7953\"],[0.7777777777777778,\"#fb9f3a\"],[0.8888888888888888,\"#fdca26\"],[1.0,\"#f0f921\"]],\"type\":\"contour\"}],\"contourcarpet\":[{\"colorbar\":{\"outlinewidth\":0,\"ticks\":\"\"},\"type\":\"contourcarpet\"}],\"heatmap\":[{\"colorbar\":{\"outlinewidth\":0,\"ticks\":\"\"},\"colorscale\":[[0.0,\"#0d0887\"],[0.1111111111111111,\"#46039f\"],[0.2222222222222222,\"#7201a8\"],[0.3333333333333333,\"#9c179e\"],[0.4444444444444444,\"#bd3786\"],[0.5555555555555556,\"#d8576b\"],[0.6666666666666666,\"#ed7953\"],[0.7777777777777778,\"#fb9f3a\"],[0.8888888888888888,\"#fdca26\"],[1.0,\"#f0f921\"]],\"type\":\"heatmap\"}],\"heatmapgl\":[{\"colorbar\":{\"outlinewidth\":0,\"ticks\":\"\"},\"colorscale\":[[0.0,\"#0d0887\"],[0.1111111111111111,\"#46039f\"],[0.2222222222222222,\"#7201a8\"],[0.3333333333333333,\"#9c179e\"],[0.4444444444444444,\"#bd3786\"],[0.5555555555555556,\"#d8576b\"],[0.6666666666666666,\"#ed7953\"],[0.7777777777777778,\"#fb9f3a\"],[0.8888888888888888,\"#fdca26\"],[1.0,\"#f0f921\"]],\"type\":\"heatmapgl\"}],\"histogram\":[{\"marker\":{\"pattern\":{\"fillmode\":\"overlay\",\"size\":10,\"solidity\":0.2}},\"type\":\"histogram\"}],\"histogram2d\":[{\"colorbar\":{\"outlinewidth\":0,\"ticks\":\"\"},\"colorscale\":[[0.0,\"#0d0887\"],[0.1111111111111111,\"#46039f\"],[0.2222222222222222,\"#7201a8\"],[0.3333333333333333,\"#9c179e\"],[0.4444444444444444,\"#bd3786\"],[0.5555555555555556,\"#d8576b\"],[0.6666666666666666,\"#ed7953\"],[0.7777777777777778,\"#fb9f3a\"],[0.8888888888888888,\"#fdca26\"],[1.0,\"#f0f921\"]],\"type\":\"histogram2d\"}],\"histogram2dcontour\":[{\"colorbar\":{\"outlinewidth\":0,\"ticks\":\"\"},\"colorscale\":[[0.0,\"#0d0887\"],[0.1111111111111111,\"#46039f\"],[0.2222222222222222,\"#7201a8\"],[0.3333333333333333,\"#9c179e\"],[0.4444444444444444,\"#bd3786\"],[0.5555555555555556,\"#d8576b\"],[0.6666666666666666,\"#ed7953\"],[0.7777777777777778,\"#fb9f3a\"],[0.8888888888888888,\"#fdca26\"],[1.0,\"#f0f921\"]],\"type\":\"histogram2dcontour\"}],\"mesh3d\":[{\"colorbar\":{\"outlinewidth\":0,\"ticks\":\"\"},\"type\":\"mesh3d\"}],\"parcoords\":[{\"line\":{\"colorbar\":{\"outlinewidth\":0,\"ticks\":\"\"}},\"type\":\"parcoords\"}],\"pie\":[{\"automargin\":true,\"type\":\"pie\"}],\"scatter\":[{\"marker\":{\"colorbar\":{\"outlinewidth\":0,\"ticks\":\"\"}},\"type\":\"scatter\"}],\"scatter3d\":[{\"line\":{\"colorbar\":{\"outlinewidth\":0,\"ticks\":\"\"}},\"marker\":{\"colorbar\":{\"outlinewidth\":0,\"ticks\":\"\"}},\"type\":\"scatter3d\"}],\"scattercarpet\":[{\"marker\":{\"colorbar\":{\"outlinewidth\":0,\"ticks\":\"\"}},\"type\":\"scattercarpet\"}],\"scattergeo\":[{\"marker\":{\"colorbar\":{\"outlinewidth\":0,\"ticks\":\"\"}},\"type\":\"scattergeo\"}],\"scattergl\":[{\"marker\":{\"colorbar\":{\"outlinewidth\":0,\"ticks\":\"\"}},\"type\":\"scattergl\"}],\"scattermapbox\":[{\"marker\":{\"colorbar\":{\"outlinewidth\":0,\"ticks\":\"\"}},\"type\":\"scattermapbox\"}],\"scatterpolar\":[{\"marker\":{\"colorbar\":{\"outlinewidth\":0,\"ticks\":\"\"}},\"type\":\"scatterpolar\"}],\"scatterpolargl\":[{\"marker\":{\"colorbar\":{\"outlinewidth\":0,\"ticks\":\"\"}},\"type\":\"scatterpolargl\"}],\"scatterternary\":[{\"marker\":{\"colorbar\":{\"outlinewidth\":0,\"ticks\":\"\"}},\"type\":\"scatterternary\"}],\"surface\":[{\"colorbar\":{\"outlinewidth\":0,\"ticks\":\"\"},\"colorscale\":[[0.0,\"#0d0887\"],[0.1111111111111111,\"#46039f\"],[0.2222222222222222,\"#7201a8\"],[0.3333333333333333,\"#9c179e\"],[0.4444444444444444,\"#bd3786\"],[0.5555555555555556,\"#d8576b\"],[0.6666666666666666,\"#ed7953\"],[0.7777777777777778,\"#fb9f3a\"],[0.8888888888888888,\"#fdca26\"],[1.0,\"#f0f921\"]],\"type\":\"surface\"}],\"table\":[{\"cells\":{\"fill\":{\"color\":\"#EBF0F8\"},\"line\":{\"color\":\"white\"}},\"header\":{\"fill\":{\"color\":\"#C8D4E3\"},\"line\":{\"color\":\"white\"}},\"type\":\"table\"}]},\"layout\":{\"annotationdefaults\":{\"arrowcolor\":\"#2a3f5f\",\"arrowhead\":0,\"arrowwidth\":1},\"autotypenumbers\":\"strict\",\"coloraxis\":{\"colorbar\":{\"outlinewidth\":0,\"ticks\":\"\"}},\"colorscale\":{\"diverging\":[[0,\"#8e0152\"],[0.1,\"#c51b7d\"],[0.2,\"#de77ae\"],[0.3,\"#f1b6da\"],[0.4,\"#fde0ef\"],[0.5,\"#f7f7f7\"],[0.6,\"#e6f5d0\"],[0.7,\"#b8e186\"],[0.8,\"#7fbc41\"],[0.9,\"#4d9221\"],[1,\"#276419\"]],\"sequential\":[[0.0,\"#0d0887\"],[0.1111111111111111,\"#46039f\"],[0.2222222222222222,\"#7201a8\"],[0.3333333333333333,\"#9c179e\"],[0.4444444444444444,\"#bd3786\"],[0.5555555555555556,\"#d8576b\"],[0.6666666666666666,\"#ed7953\"],[0.7777777777777778,\"#fb9f3a\"],[0.8888888888888888,\"#fdca26\"],[1.0,\"#f0f921\"]],\"sequentialminus\":[[0.0,\"#0d0887\"],[0.1111111111111111,\"#46039f\"],[0.2222222222222222,\"#7201a8\"],[0.3333333333333333,\"#9c179e\"],[0.4444444444444444,\"#bd3786\"],[0.5555555555555556,\"#d8576b\"],[0.6666666666666666,\"#ed7953\"],[0.7777777777777778,\"#fb9f3a\"],[0.8888888888888888,\"#fdca26\"],[1.0,\"#f0f921\"]]},\"colorway\":[\"#636efa\",\"#EF553B\",\"#00cc96\",\"#ab63fa\",\"#FFA15A\",\"#19d3f3\",\"#FF6692\",\"#B6E880\",\"#FF97FF\",\"#FECB52\"],\"font\":{\"color\":\"#2a3f5f\"},\"geo\":{\"bgcolor\":\"white\",\"lakecolor\":\"white\",\"landcolor\":\"#E5ECF6\",\"showlakes\":true,\"showland\":true,\"subunitcolor\":\"white\"},\"hoverlabel\":{\"align\":\"left\"},\"hovermode\":\"closest\",\"mapbox\":{\"style\":\"light\"},\"paper_bgcolor\":\"white\",\"plot_bgcolor\":\"#E5ECF6\",\"polar\":{\"angularaxis\":{\"gridcolor\":\"white\",\"linecolor\":\"white\",\"ticks\":\"\"},\"bgcolor\":\"#E5ECF6\",\"radialaxis\":{\"gridcolor\":\"white\",\"linecolor\":\"white\",\"ticks\":\"\"}},\"scene\":{\"xaxis\":{\"backgroundcolor\":\"#E5ECF6\",\"gridcolor\":\"white\",\"gridwidth\":2,\"linecolor\":\"white\",\"showbackground\":true,\"ticks\":\"\",\"zerolinecolor\":\"white\"},\"yaxis\":{\"backgroundcolor\":\"#E5ECF6\",\"gridcolor\":\"white\",\"gridwidth\":2,\"linecolor\":\"white\",\"showbackground\":true,\"ticks\":\"\",\"zerolinecolor\":\"white\"},\"zaxis\":{\"backgroundcolor\":\"#E5ECF6\",\"gridcolor\":\"white\",\"gridwidth\":2,\"linecolor\":\"white\",\"showbackground\":true,\"ticks\":\"\",\"zerolinecolor\":\"white\"}},\"shapedefaults\":{\"line\":{\"color\":\"#2a3f5f\"}},\"ternary\":{\"aaxis\":{\"gridcolor\":\"white\",\"linecolor\":\"white\",\"ticks\":\"\"},\"baxis\":{\"gridcolor\":\"white\",\"linecolor\":\"white\",\"ticks\":\"\"},\"bgcolor\":\"#E5ECF6\",\"caxis\":{\"gridcolor\":\"white\",\"linecolor\":\"white\",\"ticks\":\"\"}},\"title\":{\"x\":0.05},\"xaxis\":{\"automargin\":true,\"gridcolor\":\"white\",\"linecolor\":\"white\",\"ticks\":\"\",\"title\":{\"standoff\":15},\"zerolinecolor\":\"white\",\"zerolinewidth\":2},\"yaxis\":{\"automargin\":true,\"gridcolor\":\"white\",\"linecolor\":\"white\",\"ticks\":\"\",\"title\":{\"standoff\":15},\"zerolinecolor\":\"white\",\"zerolinewidth\":2}}}},                        {\"responsive\": true}                    ).then(function(){\n",
       "                            \n",
       "var gd = document.getElementById('57d0bc40-33f0-4b91-95db-a84b055131b3');\n",
       "var x = new MutationObserver(function (mutations, observer) {{\n",
       "        var display = window.getComputedStyle(gd).display;\n",
       "        if (!display || display === 'none') {{\n",
       "            console.log([gd, 'removed!']);\n",
       "            Plotly.purge(gd);\n",
       "            observer.disconnect();\n",
       "        }}\n",
       "}});\n",
       "\n",
       "// Listen for the removal of the full notebook cells\n",
       "var notebookContainer = gd.closest('#notebook-container');\n",
       "if (notebookContainer) {{\n",
       "    x.observe(notebookContainer, {childList: true});\n",
       "}}\n",
       "\n",
       "// Listen for the clearing of the current output cell\n",
       "var outputEl = gd.closest('.output');\n",
       "if (outputEl) {{\n",
       "    x.observe(outputEl, {childList: true});\n",
       "}}\n",
       "\n",
       "                        })                };                });            </script>        </div>"
      ]
     },
     "metadata": {},
     "output_type": "display_data"
    }
   ],
   "source": [
    "fig = go.Figure(data=[go.Pie(labels=chain_counts['chain'], values=chain_counts['count'])])\n",
    "fig.show()"
   ]
  },
  {
   "cell_type": "markdown",
   "metadata": {},
   "source": [
    "Chain establishments are only 10% less than non-chain establishments. The difference is not significant, but it is still present."
   ]
  },
  {
   "cell_type": "markdown",
   "metadata": {},
   "source": [
    "Let's try to determine which categories of establishments are more likely to be part of a chain. We will explore the data and answer the question with a chart."
   ]
  },
  {
   "cell_type": "code",
   "execution_count": 32,
   "metadata": {},
   "outputs": [
    {
     "data": {
      "text/html": [
       "<div>\n",
       "<style scoped>\n",
       "    .dataframe tbody tr th:only-of-type {\n",
       "        vertical-align: middle;\n",
       "    }\n",
       "\n",
       "    .dataframe tbody tr th {\n",
       "        vertical-align: top;\n",
       "    }\n",
       "\n",
       "    .dataframe thead th {\n",
       "        text-align: right;\n",
       "    }\n",
       "</style>\n",
       "<table border=\"1\" class=\"dataframe\">\n",
       "  <thead>\n",
       "    <tr style=\"text-align: right;\">\n",
       "      <th></th>\n",
       "      <th>category</th>\n",
       "      <th>chain_count</th>\n",
       "    </tr>\n",
       "  </thead>\n",
       "  <tbody>\n",
       "    <tr>\n",
       "      <th>0</th>\n",
       "      <td>кофейня</td>\n",
       "      <td>700</td>\n",
       "    </tr>\n",
       "    <tr>\n",
       "      <th>1</th>\n",
       "      <td>кафе</td>\n",
       "      <td>699</td>\n",
       "    </tr>\n",
       "    <tr>\n",
       "      <th>2</th>\n",
       "      <td>ресторан</td>\n",
       "      <td>696</td>\n",
       "    </tr>\n",
       "    <tr>\n",
       "      <th>3</th>\n",
       "      <td>пиццерия</td>\n",
       "      <td>323</td>\n",
       "    </tr>\n",
       "    <tr>\n",
       "      <th>4</th>\n",
       "      <td>быстрое питание</td>\n",
       "      <td>215</td>\n",
       "    </tr>\n",
       "    <tr>\n",
       "      <th>5</th>\n",
       "      <td>бар,паб</td>\n",
       "      <td>156</td>\n",
       "    </tr>\n",
       "    <tr>\n",
       "      <th>6</th>\n",
       "      <td>булочная</td>\n",
       "      <td>150</td>\n",
       "    </tr>\n",
       "    <tr>\n",
       "      <th>7</th>\n",
       "      <td>столовая</td>\n",
       "      <td>85</td>\n",
       "    </tr>\n",
       "  </tbody>\n",
       "</table>\n",
       "</div>"
      ],
      "text/plain": [
       "          category  chain_count\n",
       "0          кофейня          700\n",
       "1             кафе          699\n",
       "2         ресторан          696\n",
       "3         пиццерия          323\n",
       "4  быстрое питание          215\n",
       "5          бар,паб          156\n",
       "6         булочная          150\n",
       "7         столовая           85"
      ]
     },
     "execution_count": 32,
     "metadata": {},
     "output_type": "execute_result"
    }
   ],
   "source": [
    "category_chain_counts = df.groupby('category')['chain'].sum().sort_values(ascending=False).reset_index(name='chain_count')\n",
    "category_chain_counts"
   ]
  },
  {
   "cell_type": "code",
   "execution_count": 33,
   "metadata": {},
   "outputs": [
    {
     "data": {
      "image/png": "[encoded data removed]",
      "text/plain": [
       "<Figure size 1296x432 with 1 Axes>"
      ]
     },
     "metadata": {},
     "output_type": "display_data"
    }
   ],
   "source": [
    "plt.figure(figsize=(18, 6))\n",
    "sns.set_palette('pastel') \n",
    "sns.set_style('white')\n",
    "ax = sns.barplot(x='category', y='chain_count', data=category_chain_counts) \n",
    "ax.set_title('Распределение количества сетевых заведений по категориям')\n",
    "ax.set_xlabel('Категории заведений')\n",
    "ax.set_ylabel('Количество сетевых заведений по категория')\n",
    "plt.show()"
   ]
  },
  {
   "cell_type": "code",
   "execution_count": 34,
   "metadata": {},
   "outputs": [
    {
     "data": {
      "application/vnd.plotly.v1+json": {
       "config": {
        "plotlyServerURL": "https://plot.ly"
       },
       "data": [
        {
         "labels": [
          "кофейня",
          "кафе",
          "ресторан",
          "пиццерия",
          "быстрое питание",
          "бар,паб",
          "булочная",
          "столовая"
         ],
         "type": "pie",
         "values": [
          700,
          699,
          696,
          323,
          215,
          156,
          150,
          85
         ]
        }
       ],
       "layout": {
        "template": {
         "data": {
          "bar": [
           {
            "error_x": {
             "color": "#2a3f5f"
            },
            "error_y": {
             "color": "#2a3f5f"
            },
            "marker": {
             "line": {
              "color": "#E5ECF6",
              "width": 0.5
             },
             "pattern": {
              "fillmode": "overlay",
              "size": 10,
              "solidity": 0.2
             }
            },
            "type": "bar"
           }
          ],
          "barpolar": [
           {
            "marker": {
             "line": {
              "color": "#E5ECF6",
              "width": 0.5
             },
             "pattern": {
              "fillmode": "overlay",
              "size": 10,
              "solidity": 0.2
             }
            },
            "type": "barpolar"
           }
          ],
          "carpet": [
           {
            "aaxis": {
             "endlinecolor": "#2a3f5f",
             "gridcolor": "white",
             "linecolor": "white",
             "minorgridcolor": "white",
             "startlinecolor": "#2a3f5f"
            },
            "baxis": {
             "endlinecolor": "#2a3f5f",
             "gridcolor": "white",
             "linecolor": "white",
             "minorgridcolor": "white",
             "startlinecolor": "#2a3f5f"
            },
            "type": "carpet"
           }
          ],
          "choropleth": [
           {
            "colorbar": {
             "outlinewidth": 0,
             "ticks": ""
            },
            "type": "choropleth"
           }
          ],
          "contour": [
           {
            "colorbar": {
             "outlinewidth": 0,
             "ticks": ""
            },
            "colorscale": [
             [
              0,
              "#0d0887"
             ],
             [
              0.1111111111111111,
              "#46039f"
             ],
             [
              0.2222222222222222,
              "#7201a8"
             ],
             [
              0.3333333333333333,
              "#9c179e"
             ],
             [
              0.4444444444444444,
              "#bd3786"
             ],
             [
              0.5555555555555556,
              "#d8576b"
             ],
             [
              0.6666666666666666,
              "#ed7953"
             ],
             [
              0.7777777777777778,
              "#fb9f3a"
             ],
             [
              0.8888888888888888,
              "#fdca26"
             ],
             [
              1,
              "#f0f921"
             ]
            ],
            "type": "contour"
           }
          ],
          "contourcarpet": [
           {
            "colorbar": {
             "outlinewidth": 0,
             "ticks": ""
            },
            "type": "contourcarpet"
           }
          ],
          "heatmap": [
           {
            "colorbar": {
             "outlinewidth": 0,
             "ticks": ""
            },
            "colorscale": [
             [
              0,
              "#0d0887"
             ],
             [
              0.1111111111111111,
              "#46039f"
             ],
             [
              0.2222222222222222,
              "#7201a8"
             ],
             [
              0.3333333333333333,
              "#9c179e"
             ],
             [
              0.4444444444444444,
              "#bd3786"
             ],
             [
              0.5555555555555556,
              "#d8576b"
             ],
             [
              0.6666666666666666,
              "#ed7953"
             ],
             [
              0.7777777777777778,
              "#fb9f3a"
             ],
             [
              0.8888888888888888,
              "#fdca26"
             ],
             [
              1,
              "#f0f921"
             ]
            ],
            "type": "heatmap"
           }
          ],
          "heatmapgl": [
           {
            "colorbar": {
             "outlinewidth": 0,
             "ticks": ""
            },
            "colorscale": [
             [
              0,
              "#0d0887"
             ],
             [
              0.1111111111111111,
              "#46039f"
             ],
             [
              0.2222222222222222,
              "#7201a8"
             ],
             [
              0.3333333333333333,
              "#9c179e"
             ],
             [
              0.4444444444444444,
              "#bd3786"
             ],
             [
              0.5555555555555556,
              "#d8576b"
             ],
             [
              0.6666666666666666,
              "#ed7953"
             ],
             [
              0.7777777777777778,
              "#fb9f3a"
             ],
             [
              0.8888888888888888,
              "#fdca26"
             ],
             [
              1,
              "#f0f921"
             ]
            ],
            "type": "heatmapgl"
           }
          ],
          "histogram": [
           {
            "marker": {
             "pattern": {
              "fillmode": "overlay",
              "size": 10,
              "solidity": 0.2
             }
            },
            "type": "histogram"
           }
          ],
          "histogram2d": [
           {
            "colorbar": {
             "outlinewidth": 0,
             "ticks": ""
            },
            "colorscale": [
             [
              0,
              "#0d0887"
             ],
             [
              0.1111111111111111,
              "#46039f"
             ],
             [
              0.2222222222222222,
              "#7201a8"
             ],
             [
              0.3333333333333333,
              "#9c179e"
             ],
             [
              0.4444444444444444,
              "#bd3786"
             ],
             [
              0.5555555555555556,
              "#d8576b"
             ],
             [
              0.6666666666666666,
              "#ed7953"
             ],
             [
              0.7777777777777778,
              "#fb9f3a"
             ],
             [
              0.8888888888888888,
              "#fdca26"
             ],
             [
              1,
              "#f0f921"
             ]
            ],
            "type": "histogram2d"
           }
          ],
          "histogram2dcontour": [
           {
            "colorbar": {
             "outlinewidth": 0,
             "ticks": ""
            },
            "colorscale": [
             [
              0,
              "#0d0887"
             ],
             [
              0.1111111111111111,
              "#46039f"
             ],
             [
              0.2222222222222222,
              "#7201a8"
             ],
             [
              0.3333333333333333,
              "#9c179e"
             ],
             [
              0.4444444444444444,
              "#bd3786"
             ],
             [
              0.5555555555555556,
              "#d8576b"
             ],
             [
              0.6666666666666666,
              "#ed7953"
             ],
             [
              0.7777777777777778,
              "#fb9f3a"
             ],
             [
              0.8888888888888888,
              "#fdca26"
             ],
             [
              1,
              "#f0f921"
             ]
            ],
            "type": "histogram2dcontour"
           }
          ],
          "mesh3d": [
           {
            "colorbar": {
             "outlinewidth": 0,
             "ticks": ""
            },
            "type": "mesh3d"
           }
          ],
          "parcoords": [
           {
            "line": {
             "colorbar": {
              "outlinewidth": 0,
              "ticks": ""
             }
            },
            "type": "parcoords"
           }
          ],
          "pie": [
           {
            "automargin": true,
            "type": "pie"
           }
          ],
          "scatter": [
           {
            "marker": {
             "colorbar": {
              "outlinewidth": 0,
              "ticks": ""
             }
            },
            "type": "scatter"
           }
          ],
          "scatter3d": [
           {
            "line": {
             "colorbar": {
              "outlinewidth": 0,
              "ticks": ""
             }
            },
            "marker": {
             "colorbar": {
              "outlinewidth": 0,
              "ticks": ""
             }
            },
            "type": "scatter3d"
           }
          ],
          "scattercarpet": [
           {
            "marker": {
             "colorbar": {
              "outlinewidth": 0,
              "ticks": ""
             }
            },
            "type": "scattercarpet"
           }
          ],
          "scattergeo": [
           {
            "marker": {
             "colorbar": {
              "outlinewidth": 0,
              "ticks": ""
             }
            },
            "type": "scattergeo"
           }
          ],
          "scattergl": [
           {
            "marker": {
             "colorbar": {
              "outlinewidth": 0,
              "ticks": ""
             }
            },
            "type": "scattergl"
           }
          ],
          "scattermapbox": [
           {
            "marker": {
             "colorbar": {
              "outlinewidth": 0,
              "ticks": ""
             }
            },
            "type": "scattermapbox"
           }
          ],
          "scatterpolar": [
           {
            "marker": {
             "colorbar": {
              "outlinewidth": 0,
              "ticks": ""
             }
            },
            "type": "scatterpolar"
           }
          ],
          "scatterpolargl": [
           {
            "marker": {
             "colorbar": {
              "outlinewidth": 0,
              "ticks": ""
             }
            },
            "type": "scatterpolargl"
           }
          ],
          "scatterternary": [
           {
            "marker": {
             "colorbar": {
              "outlinewidth": 0,
              "ticks": ""
             }
            },
            "type": "scatterternary"
           }
          ],
          "surface": [
           {
            "colorbar": {
             "outlinewidth": 0,
             "ticks": ""
            },
            "colorscale": [
             [
              0,
              "#0d0887"
             ],
             [
              0.1111111111111111,
              "#46039f"
             ],
             [
              0.2222222222222222,
              "#7201a8"
             ],
             [
              0.3333333333333333,
              "#9c179e"
             ],
             [
              0.4444444444444444,
              "#bd3786"
             ],
             [
              0.5555555555555556,
              "#d8576b"
             ],
             [
              0.6666666666666666,
              "#ed7953"
             ],
             [
              0.7777777777777778,
              "#fb9f3a"
             ],
             [
              0.8888888888888888,
              "#fdca26"
             ],
             [
              1,
              "#f0f921"
             ]
            ],
            "type": "surface"
           }
          ],
          "table": [
           {
            "cells": {
             "fill": {
              "color": "#EBF0F8"
             },
             "line": {
              "color": "white"
             }
            },
            "header": {
             "fill": {
              "color": "#C8D4E3"
             },
             "line": {
              "color": "white"
             }
            },
            "type": "table"
           }
          ]
         },
         "layout": {
          "annotationdefaults": {
           "arrowcolor": "#2a3f5f",
           "arrowhead": 0,
           "arrowwidth": 1
          },
          "autotypenumbers": "strict",
          "coloraxis": {
           "colorbar": {
            "outlinewidth": 0,
            "ticks": ""
           }
          },
          "colorscale": {
           "diverging": [
            [
             0,
             "#8e0152"
            ],
            [
             0.1,
             "#c51b7d"
            ],
            [
             0.2,
             "#de77ae"
            ],
            [
             0.3,
             "#f1b6da"
            ],
            [
             0.4,
             "#fde0ef"
            ],
            [
             0.5,
             "#f7f7f7"
            ],
            [
             0.6,
             "#e6f5d0"
            ],
            [
             0.7,
             "#b8e186"
            ],
            [
             0.8,
             "#7fbc41"
            ],
            [
             0.9,
             "#4d9221"
            ],
            [
             1,
             "#276419"
            ]
           ],
           "sequential": [
            [
             0,
             "#0d0887"
            ],
            [
             0.1111111111111111,
             "#46039f"
            ],
            [
             0.2222222222222222,
             "#7201a8"
            ],
            [
             0.3333333333333333,
             "#9c179e"
            ],
            [
             0.4444444444444444,
             "#bd3786"
            ],
            [
             0.5555555555555556,
             "#d8576b"
            ],
            [
             0.6666666666666666,
             "#ed7953"
            ],
            [
             0.7777777777777778,
             "#fb9f3a"
            ],
            [
             0.8888888888888888,
             "#fdca26"
            ],
            [
             1,
             "#f0f921"
            ]
           ],
           "sequentialminus": [
            [
             0,
             "#0d0887"
            ],
            [
             0.1111111111111111,
             "#46039f"
            ],
            [
             0.2222222222222222,
             "#7201a8"
            ],
            [
             0.3333333333333333,
             "#9c179e"
            ],
            [
             0.4444444444444444,
             "#bd3786"
            ],
            [
             0.5555555555555556,
             "#d8576b"
            ],
            [
             0.6666666666666666,
             "#ed7953"
            ],
            [
             0.7777777777777778,
             "#fb9f3a"
            ],
            [
             0.8888888888888888,
             "#fdca26"
            ],
            [
             1,
             "#f0f921"
            ]
           ]
          },
          "colorway": [
           "#636efa",
           "#EF553B",
           "#00cc96",
           "#ab63fa",
           "#FFA15A",
           "#19d3f3",
           "#FF6692",
           "#B6E880",
           "#FF97FF",
           "#FECB52"
          ],
          "font": {
           "color": "#2a3f5f"
          },
          "geo": {
           "bgcolor": "white",
           "lakecolor": "white",
           "landcolor": "#E5ECF6",
           "showlakes": true,
           "showland": true,
           "subunitcolor": "white"
          },
          "hoverlabel": {
           "align": "left"
          },
          "hovermode": "closest",
          "mapbox": {
           "style": "light"
          },
          "paper_bgcolor": "white",
          "plot_bgcolor": "#E5ECF6",
          "polar": {
           "angularaxis": {
            "gridcolor": "white",
            "linecolor": "white",
            "ticks": ""
           },
           "bgcolor": "#E5ECF6",
           "radialaxis": {
            "gridcolor": "white",
            "linecolor": "white",
            "ticks": ""
           }
          },
          "scene": {
           "xaxis": {
            "backgroundcolor": "#E5ECF6",
            "gridcolor": "white",
            "gridwidth": 2,
            "linecolor": "white",
            "showbackground": true,
            "ticks": "",
            "zerolinecolor": "white"
           },
           "yaxis": {
            "backgroundcolor": "#E5ECF6",
            "gridcolor": "white",
            "gridwidth": 2,
            "linecolor": "white",
            "showbackground": true,
            "ticks": "",
            "zerolinecolor": "white"
           },
           "zaxis": {
            "backgroundcolor": "#E5ECF6",
            "gridcolor": "white",
            "gridwidth": 2,
            "linecolor": "white",
            "showbackground": true,
            "ticks": "",
            "zerolinecolor": "white"
           }
          },
          "shapedefaults": {
           "line": {
            "color": "#2a3f5f"
           }
          },
          "ternary": {
           "aaxis": {
            "gridcolor": "white",
            "linecolor": "white",
            "ticks": ""
           },
           "baxis": {
            "gridcolor": "white",
            "linecolor": "white",
            "ticks": ""
           },
           "bgcolor": "#E5ECF6",
           "caxis": {
            "gridcolor": "white",
            "linecolor": "white",
            "ticks": ""
           }
          },
          "title": {
           "x": 0.05
          },
          "xaxis": {
           "automargin": true,
           "gridcolor": "white",
           "linecolor": "white",
           "ticks": "",
           "title": {
            "standoff": 15
           },
           "zerolinecolor": "white",
           "zerolinewidth": 2
          },
          "yaxis": {
           "automargin": true,
           "gridcolor": "white",
           "linecolor": "white",
           "ticks": "",
           "title": {
            "standoff": 15
           },
           "zerolinecolor": "white",
           "zerolinewidth": 2
          }
         }
        }
       }
      },
      "text/html": [
       "<div>                            <div id=\"05a375bc-3eaf-44b0-a70c-109c59f238c5\" class=\"plotly-graph-div\" style=\"height:525px; width:100%;\"></div>            <script type=\"text/javascript\">                require([\"plotly\"], function(Plotly) {                    window.PLOTLYENV=window.PLOTLYENV || {};                                    if (document.getElementById(\"05a375bc-3eaf-44b0-a70c-109c59f238c5\")) {                    Plotly.newPlot(                        \"05a375bc-3eaf-44b0-a70c-109c59f238c5\",                        [{\"labels\":[\"\\u043a\\u043e\\u0444\\u0435\\u0439\\u043d\\u044f\",\"\\u043a\\u0430\\u0444\\u0435\",\"\\u0440\\u0435\\u0441\\u0442\\u043e\\u0440\\u0430\\u043d\",\"\\u043f\\u0438\\u0446\\u0446\\u0435\\u0440\\u0438\\u044f\",\"\\u0431\\u044b\\u0441\\u0442\\u0440\\u043e\\u0435 \\u043f\\u0438\\u0442\\u0430\\u043d\\u0438\\u0435\",\"\\u0431\\u0430\\u0440,\\u043f\\u0430\\u0431\",\"\\u0431\\u0443\\u043b\\u043e\\u0447\\u043d\\u0430\\u044f\",\"\\u0441\\u0442\\u043e\\u043b\\u043e\\u0432\\u0430\\u044f\"],\"values\":[700,699,696,323,215,156,150,85],\"type\":\"pie\"}],                        {\"template\":{\"data\":{\"bar\":[{\"error_x\":{\"color\":\"#2a3f5f\"},\"error_y\":{\"color\":\"#2a3f5f\"},\"marker\":{\"line\":{\"color\":\"#E5ECF6\",\"width\":0.5},\"pattern\":{\"fillmode\":\"overlay\",\"size\":10,\"solidity\":0.2}},\"type\":\"bar\"}],\"barpolar\":[{\"marker\":{\"line\":{\"color\":\"#E5ECF6\",\"width\":0.5},\"pattern\":{\"fillmode\":\"overlay\",\"size\":10,\"solidity\":0.2}},\"type\":\"barpolar\"}],\"carpet\":[{\"aaxis\":{\"endlinecolor\":\"#2a3f5f\",\"gridcolor\":\"white\",\"linecolor\":\"white\",\"minorgridcolor\":\"white\",\"startlinecolor\":\"#2a3f5f\"},\"baxis\":{\"endlinecolor\":\"#2a3f5f\",\"gridcolor\":\"white\",\"linecolor\":\"white\",\"minorgridcolor\":\"white\",\"startlinecolor\":\"#2a3f5f\"},\"type\":\"carpet\"}],\"choropleth\":[{\"colorbar\":{\"outlinewidth\":0,\"ticks\":\"\"},\"type\":\"choropleth\"}],\"contour\":[{\"colorbar\":{\"outlinewidth\":0,\"ticks\":\"\"},\"colorscale\":[[0.0,\"#0d0887\"],[0.1111111111111111,\"#46039f\"],[0.2222222222222222,\"#7201a8\"],[0.3333333333333333,\"#9c179e\"],[0.4444444444444444,\"#bd3786\"],[0.5555555555555556,\"#d8576b\"],[0.6666666666666666,\"#ed7953\"],[0.7777777777777778,\"#fb9f3a\"],[0.8888888888888888,\"#fdca26\"],[1.0,\"#f0f921\"]],\"type\":\"contour\"}],\"contourcarpet\":[{\"colorbar\":{\"outlinewidth\":0,\"ticks\":\"\"},\"type\":\"contourcarpet\"}],\"heatmap\":[{\"colorbar\":{\"outlinewidth\":0,\"ticks\":\"\"},\"colorscale\":[[0.0,\"#0d0887\"],[0.1111111111111111,\"#46039f\"],[0.2222222222222222,\"#7201a8\"],[0.3333333333333333,\"#9c179e\"],[0.4444444444444444,\"#bd3786\"],[0.5555555555555556,\"#d8576b\"],[0.6666666666666666,\"#ed7953\"],[0.7777777777777778,\"#fb9f3a\"],[0.8888888888888888,\"#fdca26\"],[1.0,\"#f0f921\"]],\"type\":\"heatmap\"}],\"heatmapgl\":[{\"colorbar\":{\"outlinewidth\":0,\"ticks\":\"\"},\"colorscale\":[[0.0,\"#0d0887\"],[0.1111111111111111,\"#46039f\"],[0.2222222222222222,\"#7201a8\"],[0.3333333333333333,\"#9c179e\"],[0.4444444444444444,\"#bd3786\"],[0.5555555555555556,\"#d8576b\"],[0.6666666666666666,\"#ed7953\"],[0.7777777777777778,\"#fb9f3a\"],[0.8888888888888888,\"#fdca26\"],[1.0,\"#f0f921\"]],\"type\":\"heatmapgl\"}],\"histogram\":[{\"marker\":{\"pattern\":{\"fillmode\":\"overlay\",\"size\":10,\"solidity\":0.2}},\"type\":\"histogram\"}],\"histogram2d\":[{\"colorbar\":{\"outlinewidth\":0,\"ticks\":\"\"},\"colorscale\":[[0.0,\"#0d0887\"],[0.1111111111111111,\"#46039f\"],[0.2222222222222222,\"#7201a8\"],[0.3333333333333333,\"#9c179e\"],[0.4444444444444444,\"#bd3786\"],[0.5555555555555556,\"#d8576b\"],[0.6666666666666666,\"#ed7953\"],[0.7777777777777778,\"#fb9f3a\"],[0.8888888888888888,\"#fdca26\"],[1.0,\"#f0f921\"]],\"type\":\"histogram2d\"}],\"histogram2dcontour\":[{\"colorbar\":{\"outlinewidth\":0,\"ticks\":\"\"},\"colorscale\":[[0.0,\"#0d0887\"],[0.1111111111111111,\"#46039f\"],[0.2222222222222222,\"#7201a8\"],[0.3333333333333333,\"#9c179e\"],[0.4444444444444444,\"#bd3786\"],[0.5555555555555556,\"#d8576b\"],[0.6666666666666666,\"#ed7953\"],[0.7777777777777778,\"#fb9f3a\"],[0.8888888888888888,\"#fdca26\"],[1.0,\"#f0f921\"]],\"type\":\"histogram2dcontour\"}],\"mesh3d\":[{\"colorbar\":{\"outlinewidth\":0,\"ticks\":\"\"},\"type\":\"mesh3d\"}],\"parcoords\":[{\"line\":{\"colorbar\":{\"outlinewidth\":0,\"ticks\":\"\"}},\"type\":\"parcoords\"}],\"pie\":[{\"automargin\":true,\"type\":\"pie\"}],\"scatter\":[{\"marker\":{\"colorbar\":{\"outlinewidth\":0,\"ticks\":\"\"}},\"type\":\"scatter\"}],\"scatter3d\":[{\"line\":{\"colorbar\":{\"outlinewidth\":0,\"ticks\":\"\"}},\"marker\":{\"colorbar\":{\"outlinewidth\":0,\"ticks\":\"\"}},\"type\":\"scatter3d\"}],\"scattercarpet\":[{\"marker\":{\"colorbar\":{\"outlinewidth\":0,\"ticks\":\"\"}},\"type\":\"scattercarpet\"}],\"scattergeo\":[{\"marker\":{\"colorbar\":{\"outlinewidth\":0,\"ticks\":\"\"}},\"type\":\"scattergeo\"}],\"scattergl\":[{\"marker\":{\"colorbar\":{\"outlinewidth\":0,\"ticks\":\"\"}},\"type\":\"scattergl\"}],\"scattermapbox\":[{\"marker\":{\"colorbar\":{\"outlinewidth\":0,\"ticks\":\"\"}},\"type\":\"scattermapbox\"}],\"scatterpolar\":[{\"marker\":{\"colorbar\":{\"outlinewidth\":0,\"ticks\":\"\"}},\"type\":\"scatterpolar\"}],\"scatterpolargl\":[{\"marker\":{\"colorbar\":{\"outlinewidth\":0,\"ticks\":\"\"}},\"type\":\"scatterpolargl\"}],\"scatterternary\":[{\"marker\":{\"colorbar\":{\"outlinewidth\":0,\"ticks\":\"\"}},\"type\":\"scatterternary\"}],\"surface\":[{\"colorbar\":{\"outlinewidth\":0,\"ticks\":\"\"},\"colorscale\":[[0.0,\"#0d0887\"],[0.1111111111111111,\"#46039f\"],[0.2222222222222222,\"#7201a8\"],[0.3333333333333333,\"#9c179e\"],[0.4444444444444444,\"#bd3786\"],[0.5555555555555556,\"#d8576b\"],[0.6666666666666666,\"#ed7953\"],[0.7777777777777778,\"#fb9f3a\"],[0.8888888888888888,\"#fdca26\"],[1.0,\"#f0f921\"]],\"type\":\"surface\"}],\"table\":[{\"cells\":{\"fill\":{\"color\":\"#EBF0F8\"},\"line\":{\"color\":\"white\"}},\"header\":{\"fill\":{\"color\":\"#C8D4E3\"},\"line\":{\"color\":\"white\"}},\"type\":\"table\"}]},\"layout\":{\"annotationdefaults\":{\"arrowcolor\":\"#2a3f5f\",\"arrowhead\":0,\"arrowwidth\":1},\"autotypenumbers\":\"strict\",\"coloraxis\":{\"colorbar\":{\"outlinewidth\":0,\"ticks\":\"\"}},\"colorscale\":{\"diverging\":[[0,\"#8e0152\"],[0.1,\"#c51b7d\"],[0.2,\"#de77ae\"],[0.3,\"#f1b6da\"],[0.4,\"#fde0ef\"],[0.5,\"#f7f7f7\"],[0.6,\"#e6f5d0\"],[0.7,\"#b8e186\"],[0.8,\"#7fbc41\"],[0.9,\"#4d9221\"],[1,\"#276419\"]],\"sequential\":[[0.0,\"#0d0887\"],[0.1111111111111111,\"#46039f\"],[0.2222222222222222,\"#7201a8\"],[0.3333333333333333,\"#9c179e\"],[0.4444444444444444,\"#bd3786\"],[0.5555555555555556,\"#d8576b\"],[0.6666666666666666,\"#ed7953\"],[0.7777777777777778,\"#fb9f3a\"],[0.8888888888888888,\"#fdca26\"],[1.0,\"#f0f921\"]],\"sequentialminus\":[[0.0,\"#0d0887\"],[0.1111111111111111,\"#46039f\"],[0.2222222222222222,\"#7201a8\"],[0.3333333333333333,\"#9c179e\"],[0.4444444444444444,\"#bd3786\"],[0.5555555555555556,\"#d8576b\"],[0.6666666666666666,\"#ed7953\"],[0.7777777777777778,\"#fb9f3a\"],[0.8888888888888888,\"#fdca26\"],[1.0,\"#f0f921\"]]},\"colorway\":[\"#636efa\",\"#EF553B\",\"#00cc96\",\"#ab63fa\",\"#FFA15A\",\"#19d3f3\",\"#FF6692\",\"#B6E880\",\"#FF97FF\",\"#FECB52\"],\"font\":{\"color\":\"#2a3f5f\"},\"geo\":{\"bgcolor\":\"white\",\"lakecolor\":\"white\",\"landcolor\":\"#E5ECF6\",\"showlakes\":true,\"showland\":true,\"subunitcolor\":\"white\"},\"hoverlabel\":{\"align\":\"left\"},\"hovermode\":\"closest\",\"mapbox\":{\"style\":\"light\"},\"paper_bgcolor\":\"white\",\"plot_bgcolor\":\"#E5ECF6\",\"polar\":{\"angularaxis\":{\"gridcolor\":\"white\",\"linecolor\":\"white\",\"ticks\":\"\"},\"bgcolor\":\"#E5ECF6\",\"radialaxis\":{\"gridcolor\":\"white\",\"linecolor\":\"white\",\"ticks\":\"\"}},\"scene\":{\"xaxis\":{\"backgroundcolor\":\"#E5ECF6\",\"gridcolor\":\"white\",\"gridwidth\":2,\"linecolor\":\"white\",\"showbackground\":true,\"ticks\":\"\",\"zerolinecolor\":\"white\"},\"yaxis\":{\"backgroundcolor\":\"#E5ECF6\",\"gridcolor\":\"white\",\"gridwidth\":2,\"linecolor\":\"white\",\"showbackground\":true,\"ticks\":\"\",\"zerolinecolor\":\"white\"},\"zaxis\":{\"backgroundcolor\":\"#E5ECF6\",\"gridcolor\":\"white\",\"gridwidth\":2,\"linecolor\":\"white\",\"showbackground\":true,\"ticks\":\"\",\"zerolinecolor\":\"white\"}},\"shapedefaults\":{\"line\":{\"color\":\"#2a3f5f\"}},\"ternary\":{\"aaxis\":{\"gridcolor\":\"white\",\"linecolor\":\"white\",\"ticks\":\"\"},\"baxis\":{\"gridcolor\":\"white\",\"linecolor\":\"white\",\"ticks\":\"\"},\"bgcolor\":\"#E5ECF6\",\"caxis\":{\"gridcolor\":\"white\",\"linecolor\":\"white\",\"ticks\":\"\"}},\"title\":{\"x\":0.05},\"xaxis\":{\"automargin\":true,\"gridcolor\":\"white\",\"linecolor\":\"white\",\"ticks\":\"\",\"title\":{\"standoff\":15},\"zerolinecolor\":\"white\",\"zerolinewidth\":2},\"yaxis\":{\"automargin\":true,\"gridcolor\":\"white\",\"linecolor\":\"white\",\"ticks\":\"\",\"title\":{\"standoff\":15},\"zerolinecolor\":\"white\",\"zerolinewidth\":2}}}},                        {\"responsive\": true}                    ).then(function(){\n",
       "                            \n",
       "var gd = document.getElementById('05a375bc-3eaf-44b0-a70c-109c59f238c5');\n",
       "var x = new MutationObserver(function (mutations, observer) {{\n",
       "        var display = window.getComputedStyle(gd).display;\n",
       "        if (!display || display === 'none') {{\n",
       "            console.log([gd, 'removed!']);\n",
       "            Plotly.purge(gd);\n",
       "            observer.disconnect();\n",
       "        }}\n",
       "}});\n",
       "\n",
       "// Listen for the removal of the full notebook cells\n",
       "var notebookContainer = gd.closest('#notebook-container');\n",
       "if (notebookContainer) {{\n",
       "    x.observe(notebookContainer, {childList: true});\n",
       "}}\n",
       "\n",
       "// Listen for the clearing of the current output cell\n",
       "var outputEl = gd.closest('.output');\n",
       "if (outputEl) {{\n",
       "    x.observe(outputEl, {childList: true});\n",
       "}}\n",
       "\n",
       "                        })                };                });            </script>        </div>"
      ]
     },
     "metadata": {},
     "output_type": "display_data"
    }
   ],
   "source": [
    "fig = go.Figure(data=[go.Pie(labels=category_chain_counts['category'], values=category_chain_counts['chain_count'])])\n",
    "fig.show()"
   ]
  },
  {
   "cell_type": "markdown",
   "metadata": {},
   "source": [
    "We can observe that three equal shares are distributed among three categories: coffee shop, café, and restaurant. Next is the pizzeria. At the bottom of the distribution are the already familiar bakery and cafeteria."
   ]
  },
  {
   "cell_type": "markdown",
   "metadata": {},
   "source": [
    "Let's group the data by the names of establishments and find the top 15 most popular chains in Moscow. We will create a suitable visualization for this information and answer a few questions:\n",
    "\n",
    "- Are we familiar with these chains?\n",
    "- Is there any characteristic that unites them?\n",
    "- To which category of establishments do they belong?\n",
    "\n",
    "We will also display the total number of establishments and the number of establishments in each category by district."
   ]
  },
  {
   "cell_type": "code",
   "execution_count": null,
   "metadata": {},
   "outputs": [
    {
     "data": {
      "text/html": [
       "<div>\n",
       "<style scoped>\n",
       "    .dataframe tbody tr th:only-of-type {\n",
       "        vertical-align: middle;\n",
       "    }\n",
       "\n",
       "    .dataframe tbody tr th {\n",
       "        vertical-align: top;\n",
       "    }\n",
       "\n",
       "    .dataframe thead th {\n",
       "        text-align: right;\n",
       "    }\n",
       "</style>\n",
       "<table border=\"1\" class=\"dataframe\">\n",
       "  <thead>\n",
       "    <tr style=\"text-align: right;\">\n",
       "      <th></th>\n",
       "      <th>name</th>\n",
       "      <th>chain_count</th>\n",
       "    </tr>\n",
       "  </thead>\n",
       "  <tbody>\n",
       "    <tr>\n",
       "      <th>0</th>\n",
       "      <td>Шоколадница</td>\n",
       "      <td>118</td>\n",
       "    </tr>\n",
       "    <tr>\n",
       "      <th>1</th>\n",
       "      <td>Кафе</td>\n",
       "      <td>98</td>\n",
       "    </tr>\n",
       "    <tr>\n",
       "      <th>2</th>\n",
       "      <td>Домино'с Пицца</td>\n",
       "      <td>75</td>\n",
       "    </tr>\n",
       "    <tr>\n",
       "      <th>3</th>\n",
       "      <td>Додо Пицца</td>\n",
       "      <td>73</td>\n",
       "    </tr>\n",
       "    <tr>\n",
       "      <th>4</th>\n",
       "      <td>One Price Coffee</td>\n",
       "      <td>68</td>\n",
       "    </tr>\n",
       "    <tr>\n",
       "      <th>5</th>\n",
       "      <td>Cofix</td>\n",
       "      <td>64</td>\n",
       "    </tr>\n",
       "    <tr>\n",
       "      <th>6</th>\n",
       "      <td>Яндекс Лавка</td>\n",
       "      <td>63</td>\n",
       "    </tr>\n",
       "    <tr>\n",
       "      <th>7</th>\n",
       "      <td>Prime</td>\n",
       "      <td>50</td>\n",
       "    </tr>\n",
       "    <tr>\n",
       "      <th>8</th>\n",
       "      <td>КОФЕПОРТ</td>\n",
       "      <td>42</td>\n",
       "    </tr>\n",
       "    <tr>\n",
       "      <th>9</th>\n",
       "      <td>Кулинарная лавка братьев Караваевых</td>\n",
       "      <td>39</td>\n",
       "    </tr>\n",
       "    <tr>\n",
       "      <th>10</th>\n",
       "      <td>Хинкальная</td>\n",
       "      <td>39</td>\n",
       "    </tr>\n",
       "    <tr>\n",
       "      <th>11</th>\n",
       "      <td>Теремок</td>\n",
       "      <td>36</td>\n",
       "    </tr>\n",
       "    <tr>\n",
       "      <th>12</th>\n",
       "      <td>CofeFest</td>\n",
       "      <td>32</td>\n",
       "    </tr>\n",
       "    <tr>\n",
       "      <th>13</th>\n",
       "      <td>Буханка</td>\n",
       "      <td>31</td>\n",
       "    </tr>\n",
       "    <tr>\n",
       "      <th>14</th>\n",
       "      <td>Чайхана</td>\n",
       "      <td>28</td>\n",
       "    </tr>\n",
       "  </tbody>\n",
       "</table>\n",
       "</div>"
      ],
      "text/plain": [
       "                                   name  chain_count\n",
       "0                           Шоколадница          118\n",
       "1                                  Кафе           98\n",
       "2                        Домино'с Пицца           75\n",
       "3                            Додо Пицца           73\n",
       "4                      One Price Coffee           68\n",
       "5                                 Cofix           64\n",
       "6                          Яндекс Лавка           63\n",
       "7                                 Prime           50\n",
       "8                              КОФЕПОРТ           42\n",
       "9   Кулинарная лавка братьев Караваевых           39\n",
       "10                           Хинкальная           39\n",
       "11                              Теремок           36\n",
       "12                             CofeFest           32\n",
       "13                              Буханка           31\n",
       "14                              Чайхана           28"
      ]
     },
     "execution_count": 43,
     "metadata": {},
     "output_type": "execute_result"
    }
   ],
   "source": [
    "# Grouping data by establishment names and counting occurrences\n",
    "top_chains = (\n",
    "    df.groupby('name')\n",
    "    .size()\n",
    "    .reset_index(name='count')\n",
    "    .sort_values(by='count', ascending=False)\n",
    "    .head(15)\n",
    ")"
   ]
  },
  {
   "cell_type": "markdown",
   "metadata": {},
   "source": [
    "What administrative districts of Moscow are present in the dataset? Display the total number of establishments and the number of establishments per category by district. Try to illustrate this information with a single chart."
   ]
  },
  {
   "cell_type": "code",
   "execution_count": null,
   "metadata": {},
   "outputs": [],
   "source": [
    "# Grouping data by districts and categories\n",
    "\n",
    "district_grouped = (\n",
    "    df.groupby(['district', 'category'])\n",
    "    .size()\n",
    "    .unstack(fill_value=0)  # Transforming the data so that categories become columns\n",
    ")\n",
    "\n",
    "# Adding a column with the total number of establishments in the district\n",
    "\n",
    "district_grouped['total'] = district_grouped.sum(axis=1)\n",
    "\n",
    "# Sorting data by the total number of establishments\n",
    "district_grouped = district_grouped.sort_values(by='total', ascending=False)\n",
    "\n",
    "# Print the administrative districts and the number of establishments in them\n",
    "print(district_grouped)\n",
    "\n",
    "# Plotting the chart\n",
    "district_grouped.plot(kind='bar', stacked=True, figsize=(14, 8))\n",
    "\n",
    "plt.title('Total number of establishments and number of establishments per category by district')\n",
    "plt.xlabel('Administrative district')\n",
    "plt.ylabel('Number of establishments')\n",
    "plt.legend(title='Category')\n",
    "plt.xticks(rotation=45, ha='right')\n",
    "plt.grid(True)\n",
    "plt.show()"
   ]
  },
  {
   "cell_type": "markdown",
   "metadata": {},
   "source": [
    "Visualize the distribution of average ratings across establishment categories. Do the average ratings differ significantly between different types of eateries?"
   ]
  },
  {
   "cell_type": "code",
   "execution_count": null,
   "metadata": {},
   "outputs": [],
   "source": [
    "# Assume that your dataframe df contains columns 'category' and 'rating'.\n",
    "\n",
    "# Grouping data by categories and calculating the average rating\n",
    "category_ratings = df.groupby('category')['rating'].mean().sort_values()\n",
    "\n",
    "# Plotting the graph\n",
    "plt.figure(figsize=(12, 6))\n",
    "sns.barplot(x=category_ratings.index, y=category_ratings.values, palette='viridis')\n",
    "\n",
    "# Add labels and title\n",
    "plt.title('Average Rating by Establishment Category') \n",
    "plt.xlabel('Establishment Category') \n",
    "plt.ylabel('Average Rating') \n",
    "plt.xticks(rotation=45, ha='right') \n",
    "plt.grid(True)\n",
    "\n",
    "# Show the plot\n",
    "plt.show()"
   ]
  },
  {
   "cell_type": "markdown",
   "metadata": {},
   "source": [
    "Build a choropleth map showing the average rating of establishments in each district. The boundaries of the districts in Moscow that appear in the dataset are stored in the admin_level_geomap.geojson file."
   ]
  },
  {
   "cell_type": "code",
   "execution_count": null,
   "metadata": {},
   "outputs": [],
   "source": [
    "# Step 1: Load the district boundaries data for Moscow\n",
    "geo_data = gpd.read_file('admin_level_geomap.geojson')\n",
    "\n",
    "# Assume that your main dataframe is named df and contains 'region' and 'rating' columns\n",
    "\n",
    "# Step 2: Prepare the data on average ratings by district\n",
    "region_ratings = df.groupby('region')['rating'].mean().reset_index()\n",
    "\n",
    "# Rename the column for merging\n",
    "region_ratings.columns = ['name', 'avg_rating']\n",
    "\n",
    "# Step 3: Merge the district boundaries data and average ratings\n",
    "geo_data = geo_data.merge(region_ratings, on='name')\n",
    "\n",
    "# Step 4: Build the choropleth map\n",
    "plt.figure(figsize=(12, 8))\n",
    "geo_data.plot(column='avg_rating', cmap='coolwarm', legend=True,\n",
    "              legend_kwds={'label': \"Average Rating of Establishments by District\",\n",
    "                           'orientation': \"horizontal\"},\n",
    "              edgecolor='black', linewidth=0.5)\n",
    "\n",
    "# Customize the plot\n",
    "plt.title('Choropleth Map of Average Establishment Ratings by Moscow District', fontsize=15)\n",
    "plt.axis('off')  # Turn off axes\n",
    "plt.show()"
   ]
  },
  {
   "cell_type": "markdown",
   "metadata": {},
   "source": [
    "Display all the establishments from the dataset on a map using clusters with the folium library."
   ]
  },
  {
   "cell_type": "code",
   "execution_count": null,
   "metadata": {},
   "outputs": [],
   "source": [
    "# Assume df is your dataframe containing establishments with 'name', 'lat' (latitude), and 'lng' (longitude) columns\n",
    "# Example data (replace with your actual data)\n",
    "data = {\n",
    "    'name': ['Cafe 1', 'Restaurant 2', 'Bar 3', 'Cafe 4', 'Pizzeria 5'],\n",
    "    'lat': [55.751244, 55.751345, 55.752344, 55.750345, 55.749234],\n",
    "    'lng': [37.618423, 37.618564, 37.616678, 37.614567, 37.620123]\n",
    "}\n",
    "\n",
    "df = pd.DataFrame(data)\n",
    "\n",
    "# Step 3: Create map\n",
    "map_moscow = folium.Map(location=[55.751244, 37.618423], zoom_start=11)\n",
    "\n",
    "# Step 4: Add clusters to the map\n",
    "marker_cluster = MarkerCluster().add_to(map_moscow)\n",
    "\n",
    "for idx, row in df.iterrows():\n",
    "    folium.Marker(\n",
    "        location=[row['lat'], row['lng']],\n",
    "        popup=row['name'],\n",
    "    ).add_to(marker_cluster)\n",
    "\n",
    "# Step 5: Display the map\n",
    "map_moscow.save(\"moscow_venues_map.html\")\n",
    "map_moscow"
   ]
  },
  {
   "cell_type": "markdown",
   "metadata": {},
   "source": [
    "Find the top 15 streets by the number of establishments. Create a chart to visualize the distribution of the number of establishments and their categories across these streets. Try to illustrate this information in a single chart."
   ]
  },
  {
   "cell_type": "code",
   "execution_count": null,
   "metadata": {},
   "outputs": [],
   "source": [
    "top_streets = (df['street']\n",
    "               .value_counts()\n",
    "               .nlargest(15)\n",
    "               .index)\n",
    "\n",
    "# Filter the dataframe for only these streets\n",
    "df_top_streets = df[df['street'].isin(top_streets)]\n",
    "\n",
    "# Step 2: Prepare data for visualization\n",
    "# Group the data by street and category, and count the occurrences\n",
    "street_category_counts = (df_top_streets.groupby(['street', 'category'])\n",
    "                          .size()\n",
    "                          .reset_index(name='count'))\n",
    "\n",
    "# Step 3: Plotting the graph\n",
    "plt.figure(figsize=(14, 8))\n",
    "sns.barplot(x='count', y='street', hue='category', data=street_category_counts, palette='muted')\n",
    "\n",
    "# Set up the chart\n",
    "plt.title('Distribution of establishments and their categories across top-15 streets in Moscow', fontsize=16)\n",
    "plt.xlabel('Number of establishments', fontsize=12)\n",
    "plt.ylabel('Street', fontsize=12)\n",
    "plt.legend(title='Category', loc='upper right')\n",
    "\n",
    "# Show the plot\n",
    "plt.show()"
   ]
  },
  {
   "cell_type": "markdown",
   "metadata": {},
   "source": [
    "Find the streets that have only one establishment. What can be said about these establishments?"
   ]
  },
  {
   "cell_type": "code",
   "execution_count": null,
   "metadata": {},
   "outputs": [],
   "source": [
    "# Assume your dataframe is called df and contains a 'street' column with street names\n",
    "# and 'category' (or other columns with establishment information)\n",
    "\n",
    "# Step 1: Count the number of establishments on each street\n",
    "street_counts = df['street'].value_counts()\n",
    "\n",
    "# Step 2: Find streets with only one establishment\n",
    "single_street = street_counts[street_counts == 1].index\n",
    "\n",
    "# Filter the original dataframe to keep only those streets\n",
    "single_street_df = df[df['street'].isin(single_street)]\n",
    "\n",
    "# Step 3: Print information about these streets and establishments\n",
    "print(single_street_df)\n",
    "\n",
    "# Check the distribution of categories on these streets\n",
    "single_street_categories = single_street_df['category'].value_counts()\n",
    "print(single_street_categories)"
   ]
  },
  {
   "cell_type": "markdown",
   "metadata": {},
   "source": [
    "The values of the average bills of establishments are stored in the column middle_avg_bill. These numbers represent the approximate cost of an order in rubles, which is often expressed as a range. Calculate the median of this column for each district. Use this value as a price indicator for the district. Build a choropleth map with the obtained values for each district. Analyze the prices in the central administrative district and others. How does the distance from the center affect the prices in establishments?"
   ]
  },
  {
   "cell_type": "code",
   "execution_count": null,
   "metadata": {},
   "outputs": [],
   "source": [
    "import pandas as pd\n",
    "\n",
    "# Assume that your dataframe is called df and contains the columns 'district' and 'middle_avg_bill' (average bill)\n",
    "\n",
    "# Calculate the median of the average bill for each district\n",
    "median_avg_bill_by_district = df.groupby('district')['middle_avg_bill'].median().reset_index()\n",
    "\n",
    "# Rename the columns for convenience\n",
    "median_avg_bill_by_district.columns = ['district', 'median_avg_bill']\n",
    "\n",
    "# View the result\n",
    "print(median_avg_bill_by_district)"
   ]
  },
  {
   "cell_type": "code",
   "execution_count": null,
   "metadata": {},
   "outputs": [],
   "source": [
    "# Loading geodata for Moscow\n",
    "moscow_geo = gpd.read_file('admin_level_geomap.geojson')\n",
    "\n",
    "# Merging median data with geodata\n",
    "district_geo = moscow_geo.merge(median_avg_bill_by_district, left_on='district_name', right_on='district')\n",
    "\n",
    "# Creating a map of Moscow\n",
    "m = folium.Map(location=[55.751244, 37.618423], zoom_start=10)\n",
    "\n",
    "# Adding choropleth to the map\n",
    "folium.Choropleth(\n",
    "    geo_data=district_geo,\n",
    "    data=district_geo,\n",
    "    columns=['district', 'median_avg_bill'],\n",
    "    key_on='feature.properties.district',\n",
    "    fill_color='YlOrRd',  # color palette\n",
    "    fill_opacity=0.7,\n",
    "    line_opacity=0.2,\n",
    "    legend_name='Median Average Bill in Rubles'\n",
    ").add_to(m)\n",
    "\n",
    "# Display the map\n",
    "m"
   ]
  },
  {
   "cell_type": "markdown",
   "metadata": {},
   "source": [
    "Optional task: Illustrate other relationships you have found in the data. For example, optionally explore the working hours of establishments and their dependency on location and category. You can also investigate the characteristics of establishments with poor ratings, average checks in such places, and the distribution across establishment categories."
   ]
  },
  {
   "cell_type": "code",
   "execution_count": null,
   "metadata": {},
   "outputs": [],
   "source": [
    "# Split the opening hours into components (opening and closing)\n",
    "df['opening_time'] = pd.to_datetime(df['opening_hours'].str.split('-').str[0], format='%H:%M')\n",
    "df['closing_time'] = pd.to_datetime(df['opening_hours'].str.split('-').str[1], format='%H:%M')\n",
    "\n",
    "# Calculate the working duration of the establishment\n",
    "df['work_duration'] = (df['closing_time'] - df['opening_time']).dt.seconds / 3600\n",
    "\n",
    "# Grouping by districts and categories\n",
    "avg_work_duration_by_district_and_category = df.groupby(['district', 'category'])['work_duration'].mean().reset_index()\n",
    "\n",
    "# Visualization\n",
    "plt.figure(figsize=(12, 8))\n",
    "for district in avg_work_duration_by_district_and_category['district'].unique():\n",
    "    district_data = avg_work_duration_by_district_and_category[avg_work_duration_by_district_and_category['district'] == district]\n",
    "    plt.bar(district_data['category'], district_data['work_duration'], label=district)\n",
    "\n",
    "plt.xlabel('Category')\n",
    "plt.ylabel('Average Work Duration (hours)')\n",
    "plt.title('Average Work Duration by Category and District')\n",
    "plt.xticks(rotation=90)\n",
    "plt.legend()\n",
    "plt.show()"
   ]
  },
  {
   "cell_type": "code",
   "execution_count": null,
   "metadata": {},
   "outputs": [],
   "source": [
    "# Filtering establishments with low ratings\n",
    "low_rating_df = df[df['rating'] < 3]\n",
    "\n",
    "# Category analysis\n",
    "low_rating_by_category = low_rating_df['category'].value_counts().reset_index()\n",
    "low_rating_by_category.columns = ['category', 'count']\n",
    "\n",
    "# Visualization\n",
    "plt.figure(figsize=(12, 6))\n",
    "plt.bar(low_rating_by_category['category'], low_rating_by_category['count'])\n",
    "plt.xlabel('Category')\n",
    "plt.ylabel('Number of Low-Rated Establishments')\n",
    "plt.title('Distribution of Low-Rated Establishments by Category')\n",
    "plt.xticks(rotation=90)\n",
    "plt.show()"
   ]
  },
  {
   "cell_type": "code",
   "execution_count": null,
   "metadata": {},
   "outputs": [],
   "source": [
    "# Comparison of average bills based on ratings\n",
    "high_rating_df = df[df['rating'] >= 4]\n",
    "low_rating_df = df[df['rating'] < 3]\n",
    "\n",
    "# Calculating average values\n",
    "high_avg_bill = high_rating_df['middle_avg_bill'].mean()\n",
    "low_avg_bill = low_rating_df['middle_avg_bill'].mean()\n",
    "\n",
    "# Visualization\n",
    "plt.bar(['High Rating', 'Low Rating'], [high_avg_bill, low_avg_bill], color=['green', 'red'])\n",
    "plt.xlabel('Rating Category')\n",
    "plt.ylabel('Average Bill (RUB)')\n",
    "plt.title('Comparison of Average Bills for High and Low-Rated Establishments')\n",
    "plt.show()"
   ]
  }
 ],
 "metadata": {
  "ExecuteTimeLog": [
   {
    "duration": 1732,
    "start_time": "2024-08-25T15:30:47.151Z"
   },
   {
    "duration": 6,
    "start_time": "2024-08-25T15:34:34.991Z"
   },
   {
    "duration": 227,
    "start_time": "2024-08-25T15:36:37.181Z"
   },
   {
    "duration": 82,
    "start_time": "2024-08-25T15:36:50.056Z"
   },
   {
    "duration": 10,
    "start_time": "2024-08-25T17:38:56.905Z"
   },
   {
    "duration": 28,
    "start_time": "2024-08-25T17:39:00.624Z"
   },
   {
    "duration": 21,
    "start_time": "2024-08-25T17:44:51.054Z"
   },
   {
    "duration": 6,
    "start_time": "2024-08-25T17:45:46.011Z"
   },
   {
    "duration": 16,
    "start_time": "2024-08-25T17:45:53.185Z"
   },
   {
    "duration": 22,
    "start_time": "2024-08-25T17:45:56.985Z"
   },
   {
    "duration": 14,
    "start_time": "2024-08-25T17:47:35.980Z"
   },
   {
    "duration": 16,
    "start_time": "2024-08-25T17:49:37.200Z"
   },
   {
    "duration": 12,
    "start_time": "2024-08-25T17:49:52.249Z"
   },
   {
    "duration": 4,
    "start_time": "2024-08-25T17:49:58.896Z"
   },
   {
    "duration": 22,
    "start_time": "2024-08-25T17:50:02.660Z"
   },
   {
    "duration": 12,
    "start_time": "2024-08-25T17:50:10.439Z"
   },
   {
    "duration": 12,
    "start_time": "2024-08-25T17:50:20.683Z"
   },
   {
    "duration": 13,
    "start_time": "2024-08-25T17:50:26.327Z"
   },
   {
    "duration": 1642,
    "start_time": "2024-08-25T17:50:33.050Z"
   },
   {
    "duration": 5,
    "start_time": "2024-08-25T17:50:34.694Z"
   },
   {
    "duration": 85,
    "start_time": "2024-08-25T17:50:34.705Z"
   },
   {
    "duration": 101,
    "start_time": "2024-08-25T17:50:34.792Z"
   },
   {
    "duration": 41,
    "start_time": "2024-08-25T17:50:34.895Z"
   },
   {
    "duration": 27,
    "start_time": "2024-08-25T17:50:42.645Z"
   },
   {
    "duration": 43,
    "start_time": "2024-08-25T17:51:12.490Z"
   },
   {
    "duration": 17,
    "start_time": "2024-08-25T17:51:17.617Z"
   },
   {
    "duration": 14,
    "start_time": "2024-08-25T17:52:40.451Z"
   },
   {
    "duration": 21,
    "start_time": "2024-08-25T17:53:52.105Z"
   },
   {
    "duration": 28,
    "start_time": "2024-08-25T18:00:18.800Z"
   },
   {
    "duration": 4,
    "start_time": "2024-08-25T18:02:30.826Z"
   },
   {
    "duration": 11,
    "start_time": "2024-08-25T18:02:33.491Z"
   },
   {
    "duration": 5,
    "start_time": "2024-08-25T18:04:18.997Z"
   },
   {
    "duration": 16,
    "start_time": "2024-08-25T18:04:28.850Z"
   },
   {
    "duration": 16,
    "start_time": "2024-08-25T18:06:29.632Z"
   },
   {
    "duration": 134,
    "start_time": "2024-08-25T18:10:35.229Z"
   },
   {
    "duration": 84,
    "start_time": "2024-08-25T18:10:38.651Z"
   },
   {
    "duration": 1111,
    "start_time": "2024-08-25T18:10:39.796Z"
   },
   {
    "duration": 16,
    "start_time": "2024-08-25T18:11:40.041Z"
   },
   {
    "duration": 1760,
    "start_time": "2024-08-25T18:12:00.700Z"
   },
   {
    "duration": 6,
    "start_time": "2024-08-25T18:12:02.462Z"
   },
   {
    "duration": 193,
    "start_time": "2024-08-25T18:12:02.470Z"
   },
   {
    "duration": 98,
    "start_time": "2024-08-25T18:12:02.666Z"
   },
   {
    "duration": 14,
    "start_time": "2024-08-25T18:12:02.767Z"
   },
   {
    "duration": 35,
    "start_time": "2024-08-25T18:12:02.782Z"
   },
   {
    "duration": 27,
    "start_time": "2024-08-25T18:12:02.819Z"
   },
   {
    "duration": 23,
    "start_time": "2024-08-25T18:12:02.847Z"
   },
   {
    "duration": 85,
    "start_time": "2024-08-25T18:12:02.872Z"
   },
   {
    "duration": 16,
    "start_time": "2024-08-25T18:12:02.959Z"
   },
   {
    "duration": 65,
    "start_time": "2024-08-25T18:18:12.288Z"
   },
   {
    "duration": 126,
    "start_time": "2024-08-25T18:18:28.132Z"
   },
   {
    "duration": 4,
    "start_time": "2024-08-25T18:18:55.443Z"
   },
   {
    "duration": 20,
    "start_time": "2024-08-25T18:19:02.548Z"
   },
   {
    "duration": 31,
    "start_time": "2024-08-25T18:21:24.297Z"
   },
   {
    "duration": 13,
    "start_time": "2024-08-25T18:21:34.481Z"
   },
   {
    "duration": 18,
    "start_time": "2024-08-25T18:21:49.563Z"
   },
   {
    "duration": 4,
    "start_time": "2024-08-25T18:22:00.327Z"
   },
   {
    "duration": 15,
    "start_time": "2024-08-25T18:22:12.236Z"
   },
   {
    "duration": 27,
    "start_time": "2024-08-25T19:46:49.282Z"
   },
   {
    "duration": 20,
    "start_time": "2024-08-25T19:47:07.870Z"
   },
   {
    "duration": 17,
    "start_time": "2024-08-25T19:47:21.205Z"
   },
   {
    "duration": 25,
    "start_time": "2024-08-25T19:47:45.096Z"
   },
   {
    "duration": 13,
    "start_time": "2024-08-25T19:47:52.138Z"
   },
   {
    "duration": 7,
    "start_time": "2024-08-25T19:49:25.018Z"
   },
   {
    "duration": 4,
    "start_time": "2024-08-25T19:50:02.412Z"
   },
   {
    "duration": 4,
    "start_time": "2024-08-25T19:50:14.150Z"
   },
   {
    "duration": 15,
    "start_time": "2024-08-25T19:50:18.419Z"
   },
   {
    "duration": 6,
    "start_time": "2024-08-25T19:51:01.100Z"
   },
   {
    "duration": 13,
    "start_time": "2024-08-25T19:51:55.547Z"
   },
   {
    "duration": 5,
    "start_time": "2024-08-25T19:52:04.011Z"
   },
   {
    "duration": 24,
    "start_time": "2024-08-25T19:52:05.879Z"
   },
   {
    "duration": 22,
    "start_time": "2024-08-25T19:52:18.246Z"
   },
   {
    "duration": 13,
    "start_time": "2024-08-25T19:52:23.169Z"
   },
   {
    "duration": 12,
    "start_time": "2024-08-25T19:52:27.546Z"
   },
   {
    "duration": 70,
    "start_time": "2024-08-25T19:52:30.755Z"
   },
   {
    "duration": 13,
    "start_time": "2024-08-25T19:52:35.156Z"
   },
   {
    "duration": 11,
    "start_time": "2024-08-25T19:52:38.530Z"
   },
   {
    "duration": 19,
    "start_time": "2024-08-25T19:52:44.770Z"
   },
   {
    "duration": 21,
    "start_time": "2024-08-25T19:52:57.689Z"
   },
   {
    "duration": 19,
    "start_time": "2024-08-25T19:53:07.820Z"
   },
   {
    "duration": 25,
    "start_time": "2024-08-25T19:53:40.149Z"
   },
   {
    "duration": 12,
    "start_time": "2024-08-25T19:53:48.248Z"
   },
   {
    "duration": 6,
    "start_time": "2024-08-25T19:54:11.669Z"
   },
   {
    "duration": 15,
    "start_time": "2024-08-25T19:54:22.847Z"
   },
   {
    "duration": 1520,
    "start_time": "2024-08-25T19:54:47.170Z"
   },
   {
    "duration": 5,
    "start_time": "2024-08-25T19:54:48.692Z"
   },
   {
    "duration": 75,
    "start_time": "2024-08-25T19:54:48.698Z"
   },
   {
    "duration": 88,
    "start_time": "2024-08-25T19:54:48.775Z"
   },
   {
    "duration": 19,
    "start_time": "2024-08-25T19:54:48.866Z"
   },
   {
    "duration": 31,
    "start_time": "2024-08-25T19:54:48.887Z"
   },
   {
    "duration": 16,
    "start_time": "2024-08-25T19:54:48.921Z"
   },
   {
    "duration": 88,
    "start_time": "2024-08-25T19:54:48.939Z"
   },
   {
    "duration": 51,
    "start_time": "2024-08-25T19:54:49.029Z"
   },
   {
    "duration": 15,
    "start_time": "2024-08-25T19:54:49.082Z"
   },
   {
    "duration": 15,
    "start_time": "2024-08-25T19:54:49.104Z"
   },
   {
    "duration": 12,
    "start_time": "2024-08-25T19:54:49.120Z"
   },
   {
    "duration": 31,
    "start_time": "2024-08-25T19:54:49.133Z"
   },
   {
    "duration": 7,
    "start_time": "2024-08-25T19:54:49.166Z"
   },
   {
    "duration": 16,
    "start_time": "2024-08-25T19:54:49.174Z"
   },
   {
    "duration": 5,
    "start_time": "2024-08-25T19:54:49.206Z"
   },
   {
    "duration": 44,
    "start_time": "2024-08-25T19:54:49.213Z"
   },
   {
    "duration": 17,
    "start_time": "2024-08-25T19:54:49.258Z"
   },
   {
    "duration": 5,
    "start_time": "2024-08-25T19:54:49.277Z"
   },
   {
    "duration": 28,
    "start_time": "2024-08-25T19:54:49.284Z"
   },
   {
    "duration": 20,
    "start_time": "2024-08-25T19:56:41.242Z"
   },
   {
    "duration": 13,
    "start_time": "2024-08-25T19:56:55.820Z"
   },
   {
    "duration": 70,
    "start_time": "2024-08-25T19:57:06.212Z"
   },
   {
    "duration": 65,
    "start_time": "2024-08-25T19:57:11.590Z"
   },
   {
    "duration": 10,
    "start_time": "2024-08-25T19:57:13.969Z"
   },
   {
    "duration": 5,
    "start_time": "2024-08-25T19:57:25.339Z"
   },
   {
    "duration": 5,
    "start_time": "2024-08-25T19:57:32.220Z"
   },
   {
    "duration": 8,
    "start_time": "2024-08-25T19:57:48.009Z"
   },
   {
    "duration": 9,
    "start_time": "2024-08-25T19:58:08.659Z"
   },
   {
    "duration": 1519,
    "start_time": "2024-08-25T19:58:14.781Z"
   },
   {
    "duration": 5,
    "start_time": "2024-08-25T19:58:16.302Z"
   },
   {
    "duration": 86,
    "start_time": "2024-08-25T19:58:16.309Z"
   },
   {
    "duration": 83,
    "start_time": "2024-08-25T19:58:16.397Z"
   },
   {
    "duration": 28,
    "start_time": "2024-08-25T19:58:16.483Z"
   },
   {
    "duration": 21,
    "start_time": "2024-08-25T19:58:16.513Z"
   },
   {
    "duration": 10,
    "start_time": "2024-08-25T19:58:16.535Z"
   },
   {
    "duration": 10,
    "start_time": "2024-08-25T19:58:16.546Z"
   },
   {
    "duration": 74,
    "start_time": "2024-08-25T19:58:16.558Z"
   },
   {
    "duration": 9,
    "start_time": "2024-08-25T19:58:16.634Z"
   },
   {
    "duration": 15,
    "start_time": "2024-08-25T19:58:16.644Z"
   },
   {
    "duration": 13,
    "start_time": "2024-08-25T19:58:16.660Z"
   },
   {
    "duration": 51,
    "start_time": "2024-08-25T19:58:16.675Z"
   },
   {
    "duration": 7,
    "start_time": "2024-08-25T19:58:16.729Z"
   },
   {
    "duration": 19,
    "start_time": "2024-08-25T19:58:16.738Z"
   },
   {
    "duration": 5,
    "start_time": "2024-08-25T19:58:16.760Z"
   },
   {
    "duration": 38,
    "start_time": "2024-08-25T19:58:16.767Z"
   },
   {
    "duration": 15,
    "start_time": "2024-08-25T19:58:16.807Z"
   },
   {
    "duration": 7,
    "start_time": "2024-08-25T19:58:16.824Z"
   },
   {
    "duration": 11,
    "start_time": "2024-08-25T19:58:16.833Z"
   },
   {
    "duration": 6,
    "start_time": "2024-08-25T19:58:35.259Z"
   },
   {
    "duration": 14,
    "start_time": "2024-08-25T19:58:38.739Z"
   },
   {
    "duration": 5,
    "start_time": "2024-08-25T19:59:36.240Z"
   },
   {
    "duration": 1488,
    "start_time": "2024-08-25T20:00:21.240Z"
   },
   {
    "duration": 5,
    "start_time": "2024-08-25T20:00:22.730Z"
   },
   {
    "duration": 77,
    "start_time": "2024-08-25T20:00:22.736Z"
   },
   {
    "duration": 106,
    "start_time": "2024-08-25T20:00:22.815Z"
   },
   {
    "duration": 15,
    "start_time": "2024-08-25T20:00:22.924Z"
   },
   {
    "duration": 14,
    "start_time": "2024-08-25T20:00:22.941Z"
   },
   {
    "duration": 16,
    "start_time": "2024-08-25T20:00:22.958Z"
   },
   {
    "duration": 59,
    "start_time": "2024-08-25T20:00:22.976Z"
   },
   {
    "duration": 48,
    "start_time": "2024-08-25T20:00:23.038Z"
   },
   {
    "duration": 10,
    "start_time": "2024-08-25T20:00:23.089Z"
   },
   {
    "duration": 26,
    "start_time": "2024-08-25T20:00:23.100Z"
   },
   {
    "duration": 13,
    "start_time": "2024-08-25T20:00:23.127Z"
   },
   {
    "duration": 21,
    "start_time": "2024-08-25T20:00:23.142Z"
   },
   {
    "duration": 8,
    "start_time": "2024-08-25T20:00:23.165Z"
   },
   {
    "duration": 43,
    "start_time": "2024-08-25T20:00:23.176Z"
   },
   {
    "duration": 5,
    "start_time": "2024-08-25T20:00:23.221Z"
   },
   {
    "duration": 25,
    "start_time": "2024-08-25T20:00:23.227Z"
   },
   {
    "duration": 11,
    "start_time": "2024-08-25T20:00:23.254Z"
   },
   {
    "duration": 9,
    "start_time": "2024-08-25T20:00:23.267Z"
   },
   {
    "duration": 35,
    "start_time": "2024-08-25T20:00:23.277Z"
   },
   {
    "duration": 72,
    "start_time": "2024-08-25T20:02:18.143Z"
   },
   {
    "duration": 78,
    "start_time": "2024-08-25T20:03:24.240Z"
   },
   {
    "duration": 64,
    "start_time": "2024-08-25T20:03:29.888Z"
   },
   {
    "duration": 4,
    "start_time": "2024-08-25T20:03:43.540Z"
   },
   {
    "duration": 11,
    "start_time": "2024-08-25T20:04:04.730Z"
   },
   {
    "duration": 1572,
    "start_time": "2024-08-25T20:04:16.131Z"
   },
   {
    "duration": 7,
    "start_time": "2024-08-25T20:04:17.706Z"
   },
   {
    "duration": 78,
    "start_time": "2024-08-25T20:04:17.715Z"
   },
   {
    "duration": 116,
    "start_time": "2024-08-25T20:04:17.794Z"
   },
   {
    "duration": 52,
    "start_time": "2024-08-25T20:04:17.913Z"
   },
   {
    "duration": 95,
    "start_time": "2024-08-25T20:04:17.966Z"
   },
   {
    "duration": 16,
    "start_time": "2024-08-25T20:04:18.063Z"
   },
   {
    "duration": 34,
    "start_time": "2024-08-25T20:04:18.081Z"
   },
   {
    "duration": 70,
    "start_time": "2024-08-25T20:04:18.117Z"
   },
   {
    "duration": 16,
    "start_time": "2024-08-25T20:04:18.189Z"
   },
   {
    "duration": 8,
    "start_time": "2024-08-25T20:04:18.207Z"
   },
   {
    "duration": 14,
    "start_time": "2024-08-25T20:04:18.216Z"
   },
   {
    "duration": 11,
    "start_time": "2024-08-25T20:04:18.232Z"
   },
   {
    "duration": 16,
    "start_time": "2024-08-25T20:04:18.246Z"
   },
   {
    "duration": 41,
    "start_time": "2024-08-25T20:04:18.264Z"
   },
   {
    "duration": 54,
    "start_time": "2024-08-25T20:04:18.307Z"
   },
   {
    "duration": 77,
    "start_time": "2024-08-25T20:04:18.362Z"
   },
   {
    "duration": 20,
    "start_time": "2024-08-25T20:04:18.441Z"
   },
   {
    "duration": 19,
    "start_time": "2024-08-25T20:04:18.463Z"
   },
   {
    "duration": 17,
    "start_time": "2024-08-25T20:04:18.483Z"
   },
   {
    "duration": 13,
    "start_time": "2024-08-25T20:04:18.502Z"
   },
   {
    "duration": 31,
    "start_time": "2024-08-25T20:08:50.280Z"
   },
   {
    "duration": 41,
    "start_time": "2024-08-25T20:11:35.961Z"
   },
   {
    "duration": 47,
    "start_time": "2024-08-25T20:12:07.261Z"
   },
   {
    "duration": 32,
    "start_time": "2024-08-25T20:12:42.477Z"
   },
   {
    "duration": 55,
    "start_time": "2024-08-26T17:23:09.432Z"
   },
   {
    "duration": 1738,
    "start_time": "2024-08-26T17:23:15.557Z"
   },
   {
    "duration": 6,
    "start_time": "2024-08-26T17:23:17.297Z"
   },
   {
    "duration": 13,
    "start_time": "2024-08-26T17:23:17.304Z"
   },
   {
    "duration": 224,
    "start_time": "2024-08-26T17:23:17.320Z"
   },
   {
    "duration": 64,
    "start_time": "2024-08-26T17:23:17.545Z"
   },
   {
    "duration": 107,
    "start_time": "2024-08-26T17:23:17.612Z"
   },
   {
    "duration": 15,
    "start_time": "2024-08-26T17:23:17.721Z"
   },
   {
    "duration": 29,
    "start_time": "2024-08-26T17:23:17.738Z"
   },
   {
    "duration": 20,
    "start_time": "2024-08-26T17:23:17.769Z"
   },
   {
    "duration": 10,
    "start_time": "2024-08-26T17:23:17.792Z"
   },
   {
    "duration": 19,
    "start_time": "2024-08-26T17:23:17.803Z"
   },
   {
    "duration": 31,
    "start_time": "2024-08-26T17:23:17.824Z"
   },
   {
    "duration": 13,
    "start_time": "2024-08-26T17:23:17.858Z"
   },
   {
    "duration": 17,
    "start_time": "2024-08-26T17:23:17.873Z"
   },
   {
    "duration": 16,
    "start_time": "2024-08-26T17:23:17.892Z"
   },
   {
    "duration": 15,
    "start_time": "2024-08-26T17:23:17.910Z"
   },
   {
    "duration": 16,
    "start_time": "2024-08-26T17:23:17.927Z"
   },
   {
    "duration": 20,
    "start_time": "2024-08-26T17:23:17.955Z"
   },
   {
    "duration": 13,
    "start_time": "2024-08-26T17:23:17.977Z"
   },
   {
    "duration": 17,
    "start_time": "2024-08-26T17:23:17.992Z"
   },
   {
    "duration": 17,
    "start_time": "2024-08-26T17:23:18.011Z"
   },
   {
    "duration": 43,
    "start_time": "2024-08-26T17:23:18.030Z"
   },
   {
    "duration": 32,
    "start_time": "2024-08-26T17:23:18.074Z"
   },
   {
    "duration": 57,
    "start_time": "2024-08-26T17:23:18.107Z"
   },
   {
    "duration": 5,
    "start_time": "2024-08-26T17:23:24.031Z"
   },
   {
    "duration": 7,
    "start_time": "2024-08-26T17:23:56.956Z"
   },
   {
    "duration": 148,
    "start_time": "2024-08-26T17:31:26.251Z"
   },
   {
    "duration": 15,
    "start_time": "2024-08-26T17:31:38.426Z"
   },
   {
    "duration": 8,
    "start_time": "2024-08-26T17:32:40.161Z"
   },
   {
    "duration": 152,
    "start_time": "2024-08-26T17:33:03.316Z"
   },
   {
    "duration": 20,
    "start_time": "2024-08-26T17:33:21.731Z"
   },
   {
    "duration": 11,
    "start_time": "2024-08-26T17:33:50.861Z"
   },
   {
    "duration": 15,
    "start_time": "2024-08-26T17:38:23.291Z"
   },
   {
    "duration": 11,
    "start_time": "2024-08-26T17:38:38.875Z"
   },
   {
    "duration": 10,
    "start_time": "2024-08-26T17:39:10.762Z"
   },
   {
    "duration": 1496,
    "start_time": "2024-08-26T17:40:22.125Z"
   },
   {
    "duration": 5,
    "start_time": "2024-08-26T17:40:23.623Z"
   },
   {
    "duration": 28,
    "start_time": "2024-08-26T17:40:23.629Z"
   },
   {
    "duration": 73,
    "start_time": "2024-08-26T17:40:23.659Z"
   },
   {
    "duration": 49,
    "start_time": "2024-08-26T17:40:23.733Z"
   },
   {
    "duration": 104,
    "start_time": "2024-08-26T17:40:23.784Z"
   },
   {
    "duration": 15,
    "start_time": "2024-08-26T17:40:23.890Z"
   },
   {
    "duration": 22,
    "start_time": "2024-08-26T17:40:23.907Z"
   },
   {
    "duration": 31,
    "start_time": "2024-08-26T17:40:23.930Z"
   },
   {
    "duration": 11,
    "start_time": "2024-08-26T17:40:23.963Z"
   },
   {
    "duration": 25,
    "start_time": "2024-08-26T17:40:23.975Z"
   },
   {
    "duration": 22,
    "start_time": "2024-08-26T17:40:24.001Z"
   },
   {
    "duration": 22,
    "start_time": "2024-08-26T17:40:24.024Z"
   },
   {
    "duration": 15,
    "start_time": "2024-08-26T17:40:24.047Z"
   },
   {
    "duration": 17,
    "start_time": "2024-08-26T17:40:24.063Z"
   },
   {
    "duration": 21,
    "start_time": "2024-08-26T17:40:24.082Z"
   },
   {
    "duration": 15,
    "start_time": "2024-08-26T17:40:24.104Z"
   },
   {
    "duration": 34,
    "start_time": "2024-08-26T17:40:24.120Z"
   },
   {
    "duration": 22,
    "start_time": "2024-08-26T17:40:24.156Z"
   },
   {
    "duration": 18,
    "start_time": "2024-08-26T17:40:24.180Z"
   },
   {
    "duration": 16,
    "start_time": "2024-08-26T17:40:24.200Z"
   },
   {
    "duration": 42,
    "start_time": "2024-08-26T17:40:24.218Z"
   },
   {
    "duration": 30,
    "start_time": "2024-08-26T17:40:24.262Z"
   },
   {
    "duration": 9,
    "start_time": "2024-08-26T17:40:24.293Z"
   },
   {
    "duration": 187,
    "start_time": "2024-08-26T17:40:24.304Z"
   },
   {
    "duration": 192,
    "start_time": "2024-08-26T17:40:24.492Z"
   },
   {
    "duration": 12,
    "start_time": "2024-08-26T17:40:55.921Z"
   },
   {
    "duration": 10,
    "start_time": "2024-08-26T17:41:02.845Z"
   },
   {
    "duration": 10,
    "start_time": "2024-08-26T17:41:21.001Z"
   },
   {
    "duration": 10,
    "start_time": "2024-08-26T17:41:32.191Z"
   },
   {
    "duration": 9,
    "start_time": "2024-08-26T17:42:13.946Z"
   },
   {
    "duration": 7,
    "start_time": "2024-08-26T17:42:23.580Z"
   },
   {
    "duration": 13,
    "start_time": "2024-08-26T17:42:27.821Z"
   },
   {
    "duration": 1604,
    "start_time": "2024-08-26T17:42:34.926Z"
   },
   {
    "duration": 4,
    "start_time": "2024-08-26T17:42:36.533Z"
   },
   {
    "duration": 41,
    "start_time": "2024-08-26T17:42:36.539Z"
   },
   {
    "duration": 92,
    "start_time": "2024-08-26T17:42:36.582Z"
   },
   {
    "duration": 50,
    "start_time": "2024-08-26T17:42:36.676Z"
   },
   {
    "duration": 134,
    "start_time": "2024-08-26T17:42:36.728Z"
   },
   {
    "duration": 16,
    "start_time": "2024-08-26T17:42:36.864Z"
   },
   {
    "duration": 29,
    "start_time": "2024-08-26T17:42:36.882Z"
   },
   {
    "duration": 13,
    "start_time": "2024-08-26T17:42:36.913Z"
   },
   {
    "duration": 10,
    "start_time": "2024-08-26T17:42:36.929Z"
   },
   {
    "duration": 21,
    "start_time": "2024-08-26T17:42:36.941Z"
   },
   {
    "duration": 14,
    "start_time": "2024-08-26T17:42:36.964Z"
   },
   {
    "duration": 14,
    "start_time": "2024-08-26T17:42:36.980Z"
   },
   {
    "duration": 18,
    "start_time": "2024-08-26T17:42:36.996Z"
   },
   {
    "duration": 8,
    "start_time": "2024-08-26T17:42:37.015Z"
   },
   {
    "duration": 15,
    "start_time": "2024-08-26T17:42:37.055Z"
   },
   {
    "duration": 12,
    "start_time": "2024-08-26T17:42:37.072Z"
   },
   {
    "duration": 25,
    "start_time": "2024-08-26T17:42:37.086Z"
   },
   {
    "duration": 16,
    "start_time": "2024-08-26T17:42:37.114Z"
   },
   {
    "duration": 9,
    "start_time": "2024-08-26T17:42:37.156Z"
   },
   {
    "duration": 14,
    "start_time": "2024-08-26T17:42:37.167Z"
   },
   {
    "duration": 52,
    "start_time": "2024-08-26T17:42:37.183Z"
   },
   {
    "duration": 49,
    "start_time": "2024-08-26T17:42:37.237Z"
   },
   {
    "duration": 7,
    "start_time": "2024-08-26T17:42:37.288Z"
   },
   {
    "duration": 153,
    "start_time": "2024-08-26T17:42:37.296Z"
   },
   {
    "duration": 1,
    "start_time": "2024-08-26T17:42:37.451Z"
   },
   {
    "duration": 11,
    "start_time": "2024-08-26T17:44:01.060Z"
   },
   {
    "duration": 182,
    "start_time": "2024-08-26T17:44:37.441Z"
   },
   {
    "duration": 26,
    "start_time": "2024-08-26T17:44:57.046Z"
   },
   {
    "duration": 17,
    "start_time": "2024-08-26T17:45:45.601Z"
   },
   {
    "duration": 1503,
    "start_time": "2024-08-26T17:45:51.852Z"
   },
   {
    "duration": 6,
    "start_time": "2024-08-26T17:45:53.357Z"
   },
   {
    "duration": 14,
    "start_time": "2024-08-26T17:45:53.364Z"
   },
   {
    "duration": 81,
    "start_time": "2024-08-26T17:45:53.380Z"
   },
   {
    "duration": 49,
    "start_time": "2024-08-26T17:45:53.462Z"
   },
   {
    "duration": 95,
    "start_time": "2024-08-26T17:45:53.513Z"
   },
   {
    "duration": 13,
    "start_time": "2024-08-26T17:45:53.610Z"
   },
   {
    "duration": 30,
    "start_time": "2024-08-26T17:45:53.625Z"
   },
   {
    "duration": 10,
    "start_time": "2024-08-26T17:45:53.657Z"
   },
   {
    "duration": 10,
    "start_time": "2024-08-26T17:45:53.670Z"
   },
   {
    "duration": 8,
    "start_time": "2024-08-26T17:45:53.682Z"
   },
   {
    "duration": 14,
    "start_time": "2024-08-26T17:45:53.691Z"
   },
   {
    "duration": 12,
    "start_time": "2024-08-26T17:45:53.706Z"
   },
   {
    "duration": 16,
    "start_time": "2024-08-26T17:45:53.755Z"
   },
   {
    "duration": 5,
    "start_time": "2024-08-26T17:45:53.773Z"
   },
   {
    "duration": 16,
    "start_time": "2024-08-26T17:45:53.780Z"
   },
   {
    "duration": 6,
    "start_time": "2024-08-26T17:45:53.797Z"
   },
   {
    "duration": 21,
    "start_time": "2024-08-26T17:45:53.804Z"
   },
   {
    "duration": 14,
    "start_time": "2024-08-26T17:45:53.856Z"
   },
   {
    "duration": 8,
    "start_time": "2024-08-26T17:45:53.872Z"
   },
   {
    "duration": 9,
    "start_time": "2024-08-26T17:45:53.881Z"
   },
   {
    "duration": 36,
    "start_time": "2024-08-26T17:45:53.892Z"
   },
   {
    "duration": 53,
    "start_time": "2024-08-26T17:45:53.929Z"
   },
   {
    "duration": 11,
    "start_time": "2024-08-26T17:45:53.984Z"
   },
   {
    "duration": 144,
    "start_time": "2024-08-26T17:45:53.997Z"
   },
   {
    "duration": 0,
    "start_time": "2024-08-26T17:45:54.143Z"
   },
   {
    "duration": 10,
    "start_time": "2024-08-26T17:46:39.921Z"
   },
   {
    "duration": 12,
    "start_time": "2024-08-26T17:46:50.312Z"
   },
   {
    "duration": 10,
    "start_time": "2024-08-26T17:46:54.456Z"
   },
   {
    "duration": 11,
    "start_time": "2024-08-26T17:46:58.201Z"
   },
   {
    "duration": 1001,
    "start_time": "2024-08-26T17:47:39.422Z"
   },
   {
    "duration": 992,
    "start_time": "2024-08-26T17:48:12.417Z"
   },
   {
    "duration": 162,
    "start_time": "2024-08-26T17:48:23.787Z"
   },
   {
    "duration": 9,
    "start_time": "2024-08-26T17:48:41.726Z"
   },
   {
    "duration": 11,
    "start_time": "2024-08-26T17:49:14.181Z"
   },
   {
    "duration": 195,
    "start_time": "2024-08-26T17:52:01.171Z"
   },
   {
    "duration": 177,
    "start_time": "2024-08-26T17:52:18.881Z"
   },
   {
    "duration": 168,
    "start_time": "2024-08-26T17:52:32.202Z"
   },
   {
    "duration": 260,
    "start_time": "2024-08-26T17:52:44.161Z"
   },
   {
    "duration": 194,
    "start_time": "2024-08-26T17:53:10.842Z"
   },
   {
    "duration": 181,
    "start_time": "2024-08-26T17:54:50.151Z"
   },
   {
    "duration": 225,
    "start_time": "2024-08-26T17:54:56.892Z"
   },
   {
    "duration": 220,
    "start_time": "2024-08-26T17:55:02.181Z"
   },
   {
    "duration": 193,
    "start_time": "2024-08-26T17:55:05.581Z"
   },
   {
    "duration": 219,
    "start_time": "2024-08-26T17:58:54.271Z"
   },
   {
    "duration": 213,
    "start_time": "2024-08-26T17:59:32.421Z"
   },
   {
    "duration": 224,
    "start_time": "2024-08-26T17:59:46.527Z"
   },
   {
    "duration": 229,
    "start_time": "2024-08-26T17:59:52.161Z"
   },
   {
    "duration": 223,
    "start_time": "2024-08-26T17:59:56.517Z"
   },
   {
    "duration": 353,
    "start_time": "2024-08-26T17:59:59.627Z"
   },
   {
    "duration": 231,
    "start_time": "2024-08-26T18:00:09.853Z"
   },
   {
    "duration": 9,
    "start_time": "2024-08-26T18:02:56.746Z"
   },
   {
    "duration": 11,
    "start_time": "2024-08-26T18:09:06.121Z"
   },
   {
    "duration": 271,
    "start_time": "2024-08-26T18:12:41.171Z"
   },
   {
    "duration": 12,
    "start_time": "2024-08-26T18:13:01.361Z"
   },
   {
    "duration": 12,
    "start_time": "2024-08-26T18:13:55.931Z"
   },
   {
    "duration": 11,
    "start_time": "2024-08-26T18:14:26.895Z"
   },
   {
    "duration": 235,
    "start_time": "2024-08-26T18:15:20.686Z"
   },
   {
    "duration": 11,
    "start_time": "2024-08-26T18:16:04.165Z"
   },
   {
    "duration": 1717,
    "start_time": "2024-08-26T20:11:09.336Z"
   },
   {
    "duration": 5,
    "start_time": "2024-08-26T20:11:11.055Z"
   },
   {
    "duration": 14,
    "start_time": "2024-08-26T20:11:11.062Z"
   },
   {
    "duration": 229,
    "start_time": "2024-08-26T20:11:11.078Z"
   },
   {
    "duration": 51,
    "start_time": "2024-08-26T20:11:11.309Z"
   },
   {
    "duration": 100,
    "start_time": "2024-08-26T20:11:11.362Z"
   },
   {
    "duration": 16,
    "start_time": "2024-08-26T20:11:11.464Z"
   },
   {
    "duration": 54,
    "start_time": "2024-08-26T20:11:11.482Z"
   },
   {
    "duration": 19,
    "start_time": "2024-08-26T20:11:11.538Z"
   },
   {
    "duration": 16,
    "start_time": "2024-08-26T20:11:11.560Z"
   },
   {
    "duration": 13,
    "start_time": "2024-08-26T20:11:11.578Z"
   },
   {
    "duration": 24,
    "start_time": "2024-08-26T20:11:11.593Z"
   },
   {
    "duration": 13,
    "start_time": "2024-08-26T20:11:11.618Z"
   },
   {
    "duration": 16,
    "start_time": "2024-08-26T20:11:11.634Z"
   },
   {
    "duration": 7,
    "start_time": "2024-08-26T20:11:11.652Z"
   },
   {
    "duration": 58,
    "start_time": "2024-08-26T20:11:11.661Z"
   },
   {
    "duration": 36,
    "start_time": "2024-08-26T20:11:11.721Z"
   },
   {
    "duration": 29,
    "start_time": "2024-08-26T20:11:11.759Z"
   },
   {
    "duration": 23,
    "start_time": "2024-08-26T20:11:11.790Z"
   },
   {
    "duration": 12,
    "start_time": "2024-08-26T20:11:11.815Z"
   },
   {
    "duration": 13,
    "start_time": "2024-08-26T20:11:11.829Z"
   },
   {
    "duration": 43,
    "start_time": "2024-08-26T20:11:11.844Z"
   },
   {
    "duration": 49,
    "start_time": "2024-08-26T20:11:11.889Z"
   },
   {
    "duration": 17,
    "start_time": "2024-08-26T20:11:11.939Z"
   },
   {
    "duration": 260,
    "start_time": "2024-08-26T20:11:11.958Z"
   },
   {
    "duration": 170,
    "start_time": "2024-08-26T20:11:12.220Z"
   },
   {
    "duration": 13,
    "start_time": "2024-08-26T20:11:12.392Z"
   },
   {
    "duration": 318,
    "start_time": "2024-08-26T20:11:12.406Z"
   },
   {
    "duration": 92,
    "start_time": "2024-08-26T20:11:12.725Z"
   },
   {
    "duration": 1116,
    "start_time": "2024-08-26T20:16:01.996Z"
   },
   {
    "duration": 1029,
    "start_time": "2024-08-26T20:16:06.966Z"
   },
   {
    "duration": 10,
    "start_time": "2024-08-26T20:16:19.380Z"
   },
   {
    "duration": 16,
    "start_time": "2024-08-26T20:16:52.596Z"
   },
   {
    "duration": 12,
    "start_time": "2024-08-26T20:18:37.491Z"
   },
   {
    "duration": 9,
    "start_time": "2024-08-26T20:18:39.822Z"
   },
   {
    "duration": 1532,
    "start_time": "2024-08-26T20:18:55.352Z"
   },
   {
    "duration": 5,
    "start_time": "2024-08-26T20:18:56.886Z"
   },
   {
    "duration": 14,
    "start_time": "2024-08-26T20:18:56.893Z"
   },
   {
    "duration": 92,
    "start_time": "2024-08-26T20:18:56.908Z"
   },
   {
    "duration": 64,
    "start_time": "2024-08-26T20:18:57.003Z"
   },
   {
    "duration": 120,
    "start_time": "2024-08-26T20:18:57.069Z"
   },
   {
    "duration": 28,
    "start_time": "2024-08-26T20:18:57.191Z"
   },
   {
    "duration": 14,
    "start_time": "2024-08-26T20:18:57.221Z"
   },
   {
    "duration": 12,
    "start_time": "2024-08-26T20:18:57.237Z"
   },
   {
    "duration": 10,
    "start_time": "2024-08-26T20:18:57.251Z"
   },
   {
    "duration": 7,
    "start_time": "2024-08-26T20:18:57.263Z"
   },
   {
    "duration": 16,
    "start_time": "2024-08-26T20:18:57.306Z"
   },
   {
    "duration": 12,
    "start_time": "2024-08-26T20:18:57.324Z"
   },
   {
    "duration": 19,
    "start_time": "2024-08-26T20:18:57.340Z"
   },
   {
    "duration": 6,
    "start_time": "2024-08-26T20:18:57.361Z"
   },
   {
    "duration": 48,
    "start_time": "2024-08-26T20:18:57.368Z"
   },
   {
    "duration": 181,
    "start_time": "2024-08-26T20:18:57.417Z"
   },
   {
    "duration": 24,
    "start_time": "2024-08-26T20:18:57.600Z"
   },
   {
    "duration": 19,
    "start_time": "2024-08-26T20:18:57.626Z"
   },
   {
    "duration": 22,
    "start_time": "2024-08-26T20:18:57.646Z"
   },
   {
    "duration": 13,
    "start_time": "2024-08-26T20:18:57.670Z"
   },
   {
    "duration": 31,
    "start_time": "2024-08-26T20:18:57.685Z"
   },
   {
    "duration": 76,
    "start_time": "2024-08-26T20:18:57.718Z"
   },
   {
    "duration": 10,
    "start_time": "2024-08-26T20:18:57.795Z"
   },
   {
    "duration": 227,
    "start_time": "2024-08-26T20:18:57.807Z"
   },
   {
    "duration": 157,
    "start_time": "2024-08-26T20:18:58.036Z"
   },
   {
    "duration": 13,
    "start_time": "2024-08-26T20:18:58.194Z"
   },
   {
    "duration": 309,
    "start_time": "2024-08-26T20:18:58.208Z"
   },
   {
    "duration": 90,
    "start_time": "2024-08-26T20:18:58.518Z"
   },
   {
    "duration": 43,
    "start_time": "2024-08-26T20:18:58.610Z"
   },
   {
    "duration": 13,
    "start_time": "2024-08-26T20:18:58.655Z"
   },
   {
    "duration": 1604,
    "start_time": "2024-08-26T20:19:26.532Z"
   },
   {
    "duration": 4,
    "start_time": "2024-08-26T20:19:28.138Z"
   },
   {
    "duration": 8,
    "start_time": "2024-08-26T20:19:28.144Z"
   },
   {
    "duration": 93,
    "start_time": "2024-08-26T20:19:28.154Z"
   },
   {
    "duration": 58,
    "start_time": "2024-08-26T20:19:28.250Z"
   },
   {
    "duration": 102,
    "start_time": "2024-08-26T20:19:28.309Z"
   },
   {
    "duration": 14,
    "start_time": "2024-08-26T20:19:28.413Z"
   },
   {
    "duration": 49,
    "start_time": "2024-08-26T20:19:28.429Z"
   },
   {
    "duration": 18,
    "start_time": "2024-08-26T20:19:28.480Z"
   },
   {
    "duration": 40,
    "start_time": "2024-08-26T20:19:28.500Z"
   },
   {
    "duration": 95,
    "start_time": "2024-08-26T20:19:28.542Z"
   },
   {
    "duration": 34,
    "start_time": "2024-08-26T20:19:28.638Z"
   },
   {
    "duration": 85,
    "start_time": "2024-08-26T20:19:28.674Z"
   },
   {
    "duration": 45,
    "start_time": "2024-08-26T20:19:28.763Z"
   },
   {
    "duration": 36,
    "start_time": "2024-08-26T20:19:28.810Z"
   },
   {
    "duration": 57,
    "start_time": "2024-08-26T20:19:28.850Z"
   },
   {
    "duration": 8,
    "start_time": "2024-08-26T20:19:28.909Z"
   },
   {
    "duration": 28,
    "start_time": "2024-08-26T20:19:28.920Z"
   },
   {
    "duration": 18,
    "start_time": "2024-08-26T20:19:28.950Z"
   },
   {
    "duration": 9,
    "start_time": "2024-08-26T20:19:28.970Z"
   },
   {
    "duration": 20,
    "start_time": "2024-08-26T20:19:28.981Z"
   },
   {
    "duration": 43,
    "start_time": "2024-08-26T20:19:29.007Z"
   },
   {
    "duration": 58,
    "start_time": "2024-08-26T20:19:29.052Z"
   },
   {
    "duration": 24,
    "start_time": "2024-08-26T20:19:29.113Z"
   },
   {
    "duration": 287,
    "start_time": "2024-08-26T20:19:29.139Z"
   },
   {
    "duration": 165,
    "start_time": "2024-08-26T20:19:29.428Z"
   },
   {
    "duration": 14,
    "start_time": "2024-08-26T20:19:29.595Z"
   },
   {
    "duration": 327,
    "start_time": "2024-08-26T20:19:29.611Z"
   },
   {
    "duration": 96,
    "start_time": "2024-08-26T20:19:29.939Z"
   },
   {
    "duration": 34,
    "start_time": "2024-08-26T20:19:30.036Z"
   },
   {
    "duration": 30,
    "start_time": "2024-08-26T20:19:30.072Z"
   },
   {
    "duration": 15,
    "start_time": "2024-08-26T20:20:02.471Z"
   },
   {
    "duration": 1531,
    "start_time": "2024-08-26T20:20:15.351Z"
   },
   {
    "duration": 5,
    "start_time": "2024-08-26T20:20:16.884Z"
   },
   {
    "duration": 18,
    "start_time": "2024-08-26T20:20:16.891Z"
   },
   {
    "duration": 83,
    "start_time": "2024-08-26T20:20:16.912Z"
   },
   {
    "duration": 50,
    "start_time": "2024-08-26T20:20:16.997Z"
   },
   {
    "duration": 125,
    "start_time": "2024-08-26T20:20:17.048Z"
   },
   {
    "duration": 15,
    "start_time": "2024-08-26T20:20:17.175Z"
   },
   {
    "duration": 21,
    "start_time": "2024-08-26T20:20:17.205Z"
   },
   {
    "duration": 16,
    "start_time": "2024-08-26T20:20:17.228Z"
   },
   {
    "duration": 42,
    "start_time": "2024-08-26T20:20:17.246Z"
   },
   {
    "duration": 39,
    "start_time": "2024-08-26T20:20:17.290Z"
   },
   {
    "duration": 32,
    "start_time": "2024-08-26T20:20:17.331Z"
   },
   {
    "duration": 39,
    "start_time": "2024-08-26T20:20:17.365Z"
   },
   {
    "duration": 34,
    "start_time": "2024-08-26T20:20:17.405Z"
   },
   {
    "duration": 13,
    "start_time": "2024-08-26T20:20:17.441Z"
   },
   {
    "duration": 45,
    "start_time": "2024-08-26T20:20:17.456Z"
   },
   {
    "duration": 23,
    "start_time": "2024-08-26T20:20:17.503Z"
   },
   {
    "duration": 55,
    "start_time": "2024-08-26T20:20:17.528Z"
   },
   {
    "duration": 39,
    "start_time": "2024-08-26T20:20:17.585Z"
   },
   {
    "duration": 19,
    "start_time": "2024-08-26T20:20:17.625Z"
   },
   {
    "duration": 16,
    "start_time": "2024-08-26T20:20:17.646Z"
   },
   {
    "duration": 41,
    "start_time": "2024-08-26T20:20:17.664Z"
   },
   {
    "duration": 51,
    "start_time": "2024-08-26T20:20:17.707Z"
   },
   {
    "duration": 14,
    "start_time": "2024-08-26T20:20:17.760Z"
   },
   {
    "duration": 261,
    "start_time": "2024-08-26T20:20:17.776Z"
   },
   {
    "duration": 155,
    "start_time": "2024-08-26T20:20:18.039Z"
   },
   {
    "duration": 13,
    "start_time": "2024-08-26T20:20:18.195Z"
   },
   {
    "duration": 331,
    "start_time": "2024-08-26T20:20:18.212Z"
   },
   {
    "duration": 93,
    "start_time": "2024-08-26T20:20:18.545Z"
   },
   {
    "duration": 15,
    "start_time": "2024-08-26T20:20:18.640Z"
   },
   {
    "duration": 10,
    "start_time": "2024-08-26T20:20:18.657Z"
   },
   {
    "duration": 137,
    "start_time": "2024-08-26T20:25:12.031Z"
   },
   {
    "duration": 19,
    "start_time": "2024-08-26T20:29:48.291Z"
   },
   {
    "duration": 22,
    "start_time": "2024-08-26T20:31:06.795Z"
   },
   {
    "duration": 20,
    "start_time": "2024-08-26T20:31:24.890Z"
   },
   {
    "duration": 10,
    "start_time": "2024-08-26T20:32:40.221Z"
   },
   {
    "duration": 17,
    "start_time": "2024-08-26T20:32:45.825Z"
   },
   {
    "duration": 11,
    "start_time": "2024-08-26T20:32:54.335Z"
   },
   {
    "duration": 15,
    "start_time": "2024-08-26T20:33:00.340Z"
   },
   {
    "duration": 12,
    "start_time": "2024-08-26T20:34:13.895Z"
   },
   {
    "duration": 222,
    "start_time": "2024-08-26T20:35:38.716Z"
   },
   {
    "duration": 10,
    "start_time": "2024-08-26T20:36:19.210Z"
   },
   {
    "duration": 68,
    "start_time": "2024-08-28T20:46:05.231Z"
   },
   {
    "duration": 1881,
    "start_time": "2024-08-28T20:46:10.476Z"
   },
   {
    "duration": 6,
    "start_time": "2024-08-28T20:46:12.359Z"
   },
   {
    "duration": 9,
    "start_time": "2024-08-28T20:46:12.369Z"
   },
   {
    "duration": 240,
    "start_time": "2024-08-28T20:46:12.390Z"
   },
   {
    "duration": 62,
    "start_time": "2024-08-28T20:46:12.632Z"
   },
   {
    "duration": 118,
    "start_time": "2024-08-28T20:46:12.702Z"
   },
   {
    "duration": 17,
    "start_time": "2024-08-28T20:46:12.822Z"
   },
   {
    "duration": 27,
    "start_time": "2024-08-28T20:46:12.840Z"
   },
   {
    "duration": 23,
    "start_time": "2024-08-28T20:46:12.874Z"
   },
   {
    "duration": 16,
    "start_time": "2024-08-28T20:46:12.900Z"
   },
   {
    "duration": 21,
    "start_time": "2024-08-28T20:46:12.918Z"
   },
   {
    "duration": 38,
    "start_time": "2024-08-28T20:46:12.940Z"
   },
   {
    "duration": 20,
    "start_time": "2024-08-28T20:46:12.989Z"
   },
   {
    "duration": 21,
    "start_time": "2024-08-28T20:46:13.011Z"
   },
   {
    "duration": 6,
    "start_time": "2024-08-28T20:46:13.034Z"
   },
   {
    "duration": 25,
    "start_time": "2024-08-28T20:46:13.042Z"
   },
   {
    "duration": 16,
    "start_time": "2024-08-28T20:46:13.078Z"
   },
   {
    "duration": 60,
    "start_time": "2024-08-28T20:46:13.096Z"
   },
   {
    "duration": 19,
    "start_time": "2024-08-28T20:46:13.160Z"
   },
   {
    "duration": 12,
    "start_time": "2024-08-28T20:46:13.181Z"
   },
   {
    "duration": 25,
    "start_time": "2024-08-28T20:46:13.195Z"
   },
   {
    "duration": 32,
    "start_time": "2024-08-28T20:46:13.222Z"
   },
   {
    "duration": 47,
    "start_time": "2024-08-28T20:46:13.256Z"
   },
   {
    "duration": 9,
    "start_time": "2024-08-28T20:46:13.305Z"
   },
   {
    "duration": 283,
    "start_time": "2024-08-28T20:46:13.316Z"
   },
   {
    "duration": 165,
    "start_time": "2024-08-28T20:46:13.601Z"
   },
   {
    "duration": 20,
    "start_time": "2024-08-28T20:46:13.776Z"
   },
   {
    "duration": 357,
    "start_time": "2024-08-28T20:46:13.803Z"
   },
   {
    "duration": 95,
    "start_time": "2024-08-28T20:46:14.161Z"
   },
   {
    "duration": 31,
    "start_time": "2024-08-28T20:46:14.258Z"
   },
   {
    "duration": 17,
    "start_time": "2024-08-28T20:46:14.290Z"
   },
   {
    "duration": 35,
    "start_time": "2024-08-28T20:46:14.309Z"
   },
   {
    "duration": 281,
    "start_time": "2024-08-28T20:46:14.346Z"
   },
   {
    "duration": 8,
    "start_time": "2024-08-28T20:46:14.629Z"
   },
   {
    "duration": 181,
    "start_time": "2024-08-28T20:46:14.639Z"
   },
   {
    "duration": 13,
    "start_time": "2024-08-28T20:46:39.915Z"
   },
   {
    "duration": 53,
    "start_time": "2024-08-28T20:47:03.761Z"
   },
   {
    "duration": 11,
    "start_time": "2024-08-28T20:47:13.645Z"
   },
   {
    "duration": 16,
    "start_time": "2024-08-28T20:47:21.040Z"
   },
   {
    "duration": 33,
    "start_time": "2024-08-28T20:47:36.550Z"
   },
   {
    "duration": 15,
    "start_time": "2024-08-28T20:47:41.216Z"
   },
   {
    "duration": 15,
    "start_time": "2024-08-28T20:48:21.305Z"
   },
   {
    "duration": 18,
    "start_time": "2024-08-28T20:48:43.551Z"
   }
  ],
  "kernelspec": {
   "display_name": "Python 3",
   "language": "python",
   "name": "python3"
  },
  "language_info": {
   "codemirror_mode": {
    "name": "ipython",
    "version": 3
   },
   "file_extension": ".py",
   "mimetype": "text/x-python",
   "name": "python",
   "nbconvert_exporter": "python",
   "pygments_lexer": "ipython3",
   "version": "3.13.1"
  },
  "toc": {
   "base_numbering": 1,
   "nav_menu": {},
   "number_sections": true,
   "sideBar": true,
   "skip_h1_title": true,
   "title_cell": "Table of Contents",
   "title_sidebar": "Contents",
   "toc_cell": false,
   "toc_position": {},
   "toc_section_display": true,
   "toc_window_display": false
  }
 },
 "nbformat": 4,
 "nbformat_minor": 2
}
