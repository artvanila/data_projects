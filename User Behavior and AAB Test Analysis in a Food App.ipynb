{
 "cells": [
  {
   "cell_type": "markdown",
   "metadata": {},
   "source": [
    "# Analysis of user behavior and results of an A/A/B-testing in a food sales app"
   ]
  },
  {
   "cell_type": "markdown",
   "metadata": {},
   "source": [
    "The aim of this study is to analyze the behavior of users of a mobile application specializing in the sale of food products, with a focus on analyzing the sales funnel and the results of an A/A/B-testing. Understanding how users interact with the app and progress to a purchase is critical for optimizing conversion rates and improving overall business process efficiency.\n",
    "\n",
    "The first part of the study introduces the provided data, where each log entry represents a user action or event. The data from the dataset `logs_exp.csv` has the following structure:\n",
    "\n",
    "- `EventName` — the name of the event;\n",
    "- `DeviceIDHash` — unique user identifier;\n",
    "- `EventTimestamp` — time of the event;\n",
    "- `ExpId` — experiment number: 246 and 247 are control groups, and 248 is the experimental group.\n",
    "\n",
    "The second part focuses on data preprocessing and preparation for further analysis.\n",
    "\n",
    "In the third part, we will take a closer look at the events recorded in the logs and describe their quantitative and qualitative characteristics. An exploratory data analysis will be conducted.\n",
    "\n",
    "In the fourth part of the study, we will examine the sales funnel, which will allow us to identify at which stages users \"get stuck\" and how many successfully complete a purchase. This analysis will help determine key points of failure and areas for improving the user experience.\n",
    "\n",
    "The fifth part of the study is dedicated to evaluating the results of an A/A/B-testing conducted to analyze the impact of changes in the app’s interface on user behavior. Specifically, font changes were tested, which raised concerns among managers about potential negative perceptions by users. The experiment involved three user groups: two control groups using the old fonts, and one experimental group with the new fonts. Comparing data between these groups allows us to assess how interface changes affect key metrics and choose the best font option for improving user experience.\n",
    "\n",
    "Thus, this study provides a comprehensive analysis of user behavior and evaluates the impact of design changes on their interaction with the app, helping to make informed decisions for the further development of the product."
   ]
  },
  {
   "cell_type": "markdown",
   "metadata": {},
   "source": [
    "Before starting the research, let's import the libraries and create the functions that we will use in the project."
   ]
  },
  {
   "cell_type": "code",
   "execution_count": 33,
   "metadata": {},
   "outputs": [],
   "source": [
    "import pandas as pd\n",
    "import scipy.stats as stats\n",
    "import datetime as dt\n",
    "import numpy as np\n",
    "import matplotlib.pyplot as plt\n",
    "import seaborn as sns\n",
    "import math as mth\n",
    "import plotly.express as px"
   ]
  },
  {
   "cell_type": "code",
   "execution_count": 34,
   "metadata": {},
   "outputs": [],
   "source": [
    "def primary_analysis(df):\n",
    "\n",
    "    print(\"DataFrame information:\")\n",
    "    print(df.info())\n",
    "    \n",
    "    print(\"\\nFirst 5 rows of the DataFrame:\")\n",
    "    print(df.head())\n",
    "    \n",
    "    print(\"\\nSummary statistics for numerical columns:\")\n",
    "    print(df.describe())\n",
    "    \n",
    "    print(\"\\nNumber of explicit duplicates in the dataset:\")\n",
    "    print(df.duplicated().sum())\n",
    "    \n",
    "    print(\"\\nFrequency distributions for categorical columns:\")\n",
    "    for column in df.select_dtypes(include=['object', 'category']).columns:\n",
    "        print(f\"\\nColumn '{column}':\")\n",
    "        print(df[column].value_counts())"
   ]
  },
  {
   "cell_type": "code",
   "execution_count": 35,
   "metadata": {},
   "outputs": [],
   "source": [
    "def z_test_proportions(successes, trials, alpha=0.05):\n",
    "    # Conversion rates for each group\n",
    "    p1 = successes[0] / trials[0]\n",
    "    p2 = successes[1] / trials[1]\n",
    "    \n",
    "    # Combined conversion rate\n",
    "    p_combined = (successes[0] + successes[1]) / (trials[0] + trials[1])\n",
    "    \n",
    "    # Difference of proportions\n",
    "    difference = p1 - p2\n",
    "    \n",
    "    # Standard deviation for the difference of proportions\n",
    "    z_value = difference / mth.sqrt(p_combined * (1 - p_combined) * (1/trials[0] + 1/trials[1]))\n",
    "    \n",
    "    # Standard normal distribution\n",
    "    distr = stats.norm(0, 1)\n",
    "    \n",
    "    # Calculation of p-value\n",
    "    p_value = (1 - distr.cdf(abs(z_value))) * 2  # two-tailed p-value\n",
    "    \n",
    "    display('p-value:', p_value)\n",
    "    \n",
    "    # Hypothesis test\n",
    "    if p_value < alpha:\n",
    "        display('Rejecting the null hypothesis: there is a significant difference between the proportions')\n",
    "    else:\n",
    "        display('Failed to reject the null hypothesis, no grounds to consider the proportions different')"
   ]
  },
  {
   "cell_type": "markdown",
   "metadata": {},
   "source": [
    "## Introduction to the data"
   ]
  },
  {
   "cell_type": "markdown",
   "metadata": {},
   "source": [
    "Let's load the dataset and explore the general information."
   ]
  },
  {
   "cell_type": "code",
   "execution_count": 36,
   "metadata": {},
   "outputs": [],
   "source": [
    "try:\n",
    "    df = pd.read_csv('/datasets/logs_exp.csv', sep='\\t')\n",
    "except:\n",
    "    df = pd.read_csv('https://code.s3.yandex.net/datasets/logs_exp.csv', sep='\\t')"
   ]
  },
  {
   "cell_type": "code",
   "execution_count": 37,
   "metadata": {},
   "outputs": [
    {
     "name": "stdout",
     "output_type": "stream",
     "text": [
      "DataFrame information:\n",
      "<class 'pandas.core.frame.DataFrame'>\n",
      "RangeIndex: 244126 entries, 0 to 244125\n",
      "Data columns (total 4 columns):\n",
      " #   Column          Non-Null Count   Dtype \n",
      "---  ------          --------------   ----- \n",
      " 0   EventName       244126 non-null  object\n",
      " 1   DeviceIDHash    244126 non-null  int64 \n",
      " 2   EventTimestamp  244126 non-null  int64 \n",
      " 3   ExpId           244126 non-null  int64 \n",
      "dtypes: int64(3), object(1)\n",
      "memory usage: 7.5+ MB\n",
      "None\n",
      "\n",
      "First 5 rows of the DataFrame:\n",
      "                 EventName         DeviceIDHash  EventTimestamp  ExpId\n",
      "0         MainScreenAppear  4575588528974610257      1564029816    246\n",
      "1         MainScreenAppear  7416695313311560658      1564053102    246\n",
      "2  PaymentScreenSuccessful  3518123091307005509      1564054127    248\n",
      "3         CartScreenAppear  3518123091307005509      1564054127    248\n",
      "4  PaymentScreenSuccessful  6217807653094995999      1564055322    248\n",
      "\n",
      "Summary statistics for numerical columns:\n",
      "       DeviceIDHash  EventTimestamp          ExpId\n",
      "count  2.441260e+05    2.441260e+05  244126.000000\n",
      "mean   4.627568e+18    1.564914e+09     247.022296\n",
      "std    2.642425e+18    1.771343e+05       0.824434\n",
      "min    6.888747e+15    1.564030e+09     246.000000\n",
      "25%    2.372212e+18    1.564757e+09     246.000000\n",
      "50%    4.623192e+18    1.564919e+09     247.000000\n",
      "75%    6.932517e+18    1.565075e+09     248.000000\n",
      "max    9.222603e+18    1.565213e+09     248.000000\n",
      "\n",
      "Number of explicit duplicates in the dataset:\n",
      "413\n",
      "\n",
      "Frequency distributions for categorical columns:\n",
      "\n",
      "Column 'EventName':\n",
      "EventName\n",
      "MainScreenAppear           119205\n",
      "OffersScreenAppear          46825\n",
      "CartScreenAppear            42731\n",
      "PaymentScreenSuccessful     34313\n",
      "Tutorial                     1052\n",
      "Name: count, dtype: int64\n"
     ]
    }
   ],
   "source": [
    "primary_analysis(df)"
   ]
  },
  {
   "cell_type": "markdown",
   "metadata": {},
   "source": [
    "The provided dataframe contains 244,126 records, each representing an event registered in the mobile application. The data includes four columns, and we will slightly adjust the column names in the next section:\n",
    "\n",
    "- `EventName` (data type: object): The name of the event that occurred in the app. For example, events may be related to the appearance of the main screen, offer screen, cart screen, or successful payment. The most frequent event is MainScreenAppear (appearance of the main screen).\n",
    "\n",
    "- `DeviceIDHash` (data type: int64): A unique identifier for the user's device. It is used to track the activity of each user.\n",
    "\n",
    "- `EventTimestamp` (data type: int64): The timestamp of the event, representing the time it was recorded. The provided data type is int64, but we will correct it to datetime64 in the next section.\n",
    "\n",
    "- `ExpId` (data type: int64): The experiment number to which the event belongs. There are three experiments in the data: 246, 247 (control groups), and 248 (experimental group).\n",
    "\n",
    "There are no missing values in the data, but 413 explicit duplicates were found, which we will examine later.\n",
    "\n",
    "The most frequent event is MainScreenAppear, which occurs 119,205 times. The next most frequent is OffersScreenAppear with 46,825 occurrences, followed by CartScreenAppear with 42,731 occurrences, and PaymentScreenSuccessful with 34,313 occurrences. The least frequent event is Tutorial, which occurs only 1,052 times.\n",
    "\n",
    "Let's proceed with data preprocessing — handling duplicates, renaming columns, adjusting data types, and adding a new column for the date for easier analysis."
   ]
  },
  {
   "cell_type": "markdown",
   "metadata": {},
   "source": [
    "## Data preprocessing"
   ]
  },
  {
   "cell_type": "markdown",
   "metadata": {},
   "source": [
    "Let's start with the column names and change the letters from uppercase to lowercase:"
   ]
  },
  {
   "cell_type": "code",
   "execution_count": 38,
   "metadata": {},
   "outputs": [
    {
     "data": {
      "text/plain": [
       "Index(['eventname', 'deviceidhash', 'eventtimestamp', 'expid'], dtype='object')"
      ]
     },
     "metadata": {},
     "output_type": "display_data"
    }
   ],
   "source": [
    "df.columns = [x.lower() for x in df.columns]\n",
    "display(df.columns)"
   ]
  },
  {
   "cell_type": "markdown",
   "metadata": {},
   "source": [
    "Let's convert the EventTimestamp data type to a more suitable datetime64."
   ]
  },
  {
   "cell_type": "code",
   "execution_count": 39,
   "metadata": {},
   "outputs": [
    {
     "name": "stdout",
     "output_type": "stream",
     "text": [
      "<class 'pandas.core.frame.DataFrame'>\n",
      "RangeIndex: 244126 entries, 0 to 244125\n",
      "Data columns (total 4 columns):\n",
      " #   Column          Non-Null Count   Dtype         \n",
      "---  ------          --------------   -----         \n",
      " 0   eventname       244126 non-null  object        \n",
      " 1   deviceidhash    244126 non-null  int64         \n",
      " 2   eventtimestamp  244126 non-null  datetime64[ns]\n",
      " 3   expid           244126 non-null  int64         \n",
      "dtypes: datetime64[ns](1), int64(2), object(1)\n",
      "memory usage: 7.5+ MB\n"
     ]
    }
   ],
   "source": [
    "df['eventtimestamp'] = pd.to_datetime(df['eventtimestamp'], unit='s')\n",
    "df.info()"
   ]
  },
  {
   "cell_type": "markdown",
   "metadata": {},
   "source": [
    "Let's work with duplicates and take a look at what these duplicates represent."
   ]
  },
  {
   "cell_type": "code",
   "execution_count": 40,
   "metadata": {},
   "outputs": [
    {
     "data": {
      "text/html": [
       "<div>\n",
       "<style scoped>\n",
       "    .dataframe tbody tr th:only-of-type {\n",
       "        vertical-align: middle;\n",
       "    }\n",
       "\n",
       "    .dataframe tbody tr th {\n",
       "        vertical-align: top;\n",
       "    }\n",
       "\n",
       "    .dataframe thead th {\n",
       "        text-align: right;\n",
       "    }\n",
       "</style>\n",
       "<table border=\"1\" class=\"dataframe\">\n",
       "  <thead>\n",
       "    <tr style=\"text-align: right;\">\n",
       "      <th></th>\n",
       "      <th>eventname</th>\n",
       "      <th>deviceidhash</th>\n",
       "      <th>eventtimestamp</th>\n",
       "      <th>expid</th>\n",
       "    </tr>\n",
       "  </thead>\n",
       "  <tbody>\n",
       "    <tr>\n",
       "      <th>452</th>\n",
       "      <td>MainScreenAppear</td>\n",
       "      <td>5613408041324010552</td>\n",
       "      <td>2019-07-30 08:19:44</td>\n",
       "      <td>248</td>\n",
       "    </tr>\n",
       "    <tr>\n",
       "      <th>453</th>\n",
       "      <td>MainScreenAppear</td>\n",
       "      <td>5613408041324010552</td>\n",
       "      <td>2019-07-30 08:19:44</td>\n",
       "      <td>248</td>\n",
       "    </tr>\n",
       "    <tr>\n",
       "      <th>2348</th>\n",
       "      <td>CartScreenAppear</td>\n",
       "      <td>1694940645335807244</td>\n",
       "      <td>2019-07-31 21:51:39</td>\n",
       "      <td>248</td>\n",
       "    </tr>\n",
       "    <tr>\n",
       "      <th>2350</th>\n",
       "      <td>CartScreenAppear</td>\n",
       "      <td>1694940645335807244</td>\n",
       "      <td>2019-07-31 21:51:39</td>\n",
       "      <td>248</td>\n",
       "    </tr>\n",
       "    <tr>\n",
       "      <th>3572</th>\n",
       "      <td>MainScreenAppear</td>\n",
       "      <td>434103746454591587</td>\n",
       "      <td>2019-08-01 02:59:37</td>\n",
       "      <td>248</td>\n",
       "    </tr>\n",
       "    <tr>\n",
       "      <th>3573</th>\n",
       "      <td>MainScreenAppear</td>\n",
       "      <td>434103746454591587</td>\n",
       "      <td>2019-08-01 02:59:37</td>\n",
       "      <td>248</td>\n",
       "    </tr>\n",
       "    <tr>\n",
       "      <th>4075</th>\n",
       "      <td>MainScreenAppear</td>\n",
       "      <td>3761373764179762633</td>\n",
       "      <td>2019-08-01 03:47:46</td>\n",
       "      <td>247</td>\n",
       "    </tr>\n",
       "    <tr>\n",
       "      <th>4076</th>\n",
       "      <td>MainScreenAppear</td>\n",
       "      <td>3761373764179762633</td>\n",
       "      <td>2019-08-01 03:47:46</td>\n",
       "      <td>247</td>\n",
       "    </tr>\n",
       "    <tr>\n",
       "      <th>4801</th>\n",
       "      <td>MainScreenAppear</td>\n",
       "      <td>2835328739789306622</td>\n",
       "      <td>2019-08-01 04:44:01</td>\n",
       "      <td>248</td>\n",
       "    </tr>\n",
       "    <tr>\n",
       "      <th>4803</th>\n",
       "      <td>MainScreenAppear</td>\n",
       "      <td>2835328739789306622</td>\n",
       "      <td>2019-08-01 04:44:01</td>\n",
       "      <td>248</td>\n",
       "    </tr>\n",
       "    <tr>\n",
       "      <th>5639</th>\n",
       "      <td>CartScreenAppear</td>\n",
       "      <td>4248762472840564256</td>\n",
       "      <td>2019-08-01 05:36:04</td>\n",
       "      <td>248</td>\n",
       "    </tr>\n",
       "    <tr>\n",
       "      <th>5641</th>\n",
       "      <td>CartScreenAppear</td>\n",
       "      <td>4248762472840564256</td>\n",
       "      <td>2019-08-01 05:36:04</td>\n",
       "      <td>248</td>\n",
       "    </tr>\n",
       "    <tr>\n",
       "      <th>5874</th>\n",
       "      <td>PaymentScreenSuccessful</td>\n",
       "      <td>6427012997733591237</td>\n",
       "      <td>2019-08-01 05:47:32</td>\n",
       "      <td>248</td>\n",
       "    </tr>\n",
       "    <tr>\n",
       "      <th>5875</th>\n",
       "      <td>PaymentScreenSuccessful</td>\n",
       "      <td>6427012997733591237</td>\n",
       "      <td>2019-08-01 05:47:32</td>\n",
       "      <td>248</td>\n",
       "    </tr>\n",
       "    <tr>\n",
       "      <th>7248</th>\n",
       "      <td>OffersScreenAppear</td>\n",
       "      <td>7224691986599895551</td>\n",
       "      <td>2019-08-01 06:44:06</td>\n",
       "      <td>246</td>\n",
       "    </tr>\n",
       "    <tr>\n",
       "      <th>7249</th>\n",
       "      <td>OffersScreenAppear</td>\n",
       "      <td>7224691986599895551</td>\n",
       "      <td>2019-08-01 06:44:06</td>\n",
       "      <td>246</td>\n",
       "    </tr>\n",
       "    <tr>\n",
       "      <th>8064</th>\n",
       "      <td>CartScreenAppear</td>\n",
       "      <td>8189122927585332969</td>\n",
       "      <td>2019-08-01 07:18:49</td>\n",
       "      <td>248</td>\n",
       "    </tr>\n",
       "    <tr>\n",
       "      <th>8065</th>\n",
       "      <td>CartScreenAppear</td>\n",
       "      <td>8189122927585332969</td>\n",
       "      <td>2019-08-01 07:18:49</td>\n",
       "      <td>248</td>\n",
       "    </tr>\n",
       "    <tr>\n",
       "      <th>9178</th>\n",
       "      <td>MainScreenAppear</td>\n",
       "      <td>2230705996155527339</td>\n",
       "      <td>2019-08-01 07:54:47</td>\n",
       "      <td>246</td>\n",
       "    </tr>\n",
       "    <tr>\n",
       "      <th>9179</th>\n",
       "      <td>MainScreenAppear</td>\n",
       "      <td>2230705996155527339</td>\n",
       "      <td>2019-08-01 07:54:47</td>\n",
       "      <td>246</td>\n",
       "    </tr>\n",
       "    <tr>\n",
       "      <th>9310</th>\n",
       "      <td>MainScreenAppear</td>\n",
       "      <td>5496043151846125970</td>\n",
       "      <td>2019-08-01 07:58:03</td>\n",
       "      <td>248</td>\n",
       "    </tr>\n",
       "    <tr>\n",
       "      <th>9311</th>\n",
       "      <td>MainScreenAppear</td>\n",
       "      <td>5496043151846125970</td>\n",
       "      <td>2019-08-01 07:58:03</td>\n",
       "      <td>248</td>\n",
       "    </tr>\n",
       "    <tr>\n",
       "      <th>9988</th>\n",
       "      <td>PaymentScreenSuccessful</td>\n",
       "      <td>7035352794299231933</td>\n",
       "      <td>2019-08-01 08:20:27</td>\n",
       "      <td>248</td>\n",
       "    </tr>\n",
       "    <tr>\n",
       "      <th>9990</th>\n",
       "      <td>PaymentScreenSuccessful</td>\n",
       "      <td>7035352794299231933</td>\n",
       "      <td>2019-08-01 08:20:27</td>\n",
       "      <td>248</td>\n",
       "    </tr>\n",
       "    <tr>\n",
       "      <th>12452</th>\n",
       "      <td>PaymentScreenSuccessful</td>\n",
       "      <td>5152160705477623487</td>\n",
       "      <td>2019-08-01 09:35:39</td>\n",
       "      <td>247</td>\n",
       "    </tr>\n",
       "    <tr>\n",
       "      <th>12454</th>\n",
       "      <td>PaymentScreenSuccessful</td>\n",
       "      <td>5152160705477623487</td>\n",
       "      <td>2019-08-01 09:35:39</td>\n",
       "      <td>247</td>\n",
       "    </tr>\n",
       "    <tr>\n",
       "      <th>13054</th>\n",
       "      <td>PaymentScreenSuccessful</td>\n",
       "      <td>6258460144399027762</td>\n",
       "      <td>2019-08-01 09:53:44</td>\n",
       "      <td>247</td>\n",
       "    </tr>\n",
       "    <tr>\n",
       "      <th>13055</th>\n",
       "      <td>PaymentScreenSuccessful</td>\n",
       "      <td>6258460144399027762</td>\n",
       "      <td>2019-08-01 09:53:44</td>\n",
       "      <td>247</td>\n",
       "    </tr>\n",
       "    <tr>\n",
       "      <th>14332</th>\n",
       "      <td>CartScreenAppear</td>\n",
       "      <td>1807104407388801321</td>\n",
       "      <td>2019-08-01 10:30:27</td>\n",
       "      <td>248</td>\n",
       "    </tr>\n",
       "    <tr>\n",
       "      <th>14333</th>\n",
       "      <td>CartScreenAppear</td>\n",
       "      <td>1807104407388801321</td>\n",
       "      <td>2019-08-01 10:30:27</td>\n",
       "      <td>248</td>\n",
       "    </tr>\n",
       "    <tr>\n",
       "      <th>15302</th>\n",
       "      <td>PaymentScreenSuccessful</td>\n",
       "      <td>8125832085431322921</td>\n",
       "      <td>2019-08-01 11:01:10</td>\n",
       "      <td>246</td>\n",
       "    </tr>\n",
       "    <tr>\n",
       "      <th>15304</th>\n",
       "      <td>PaymentScreenSuccessful</td>\n",
       "      <td>8125832085431322921</td>\n",
       "      <td>2019-08-01 11:01:10</td>\n",
       "      <td>246</td>\n",
       "    </tr>\n",
       "    <tr>\n",
       "      <th>15745</th>\n",
       "      <td>PaymentScreenSuccessful</td>\n",
       "      <td>2877433916175408776</td>\n",
       "      <td>2019-08-01 11:13:21</td>\n",
       "      <td>247</td>\n",
       "    </tr>\n",
       "    <tr>\n",
       "      <th>15746</th>\n",
       "      <td>PaymentScreenSuccessful</td>\n",
       "      <td>2877433916175408776</td>\n",
       "      <td>2019-08-01 11:13:21</td>\n",
       "      <td>247</td>\n",
       "    </tr>\n",
       "    <tr>\n",
       "      <th>15750</th>\n",
       "      <td>PaymentScreenSuccessful</td>\n",
       "      <td>3528217211962170139</td>\n",
       "      <td>2019-08-01 11:13:23</td>\n",
       "      <td>247</td>\n",
       "    </tr>\n",
       "    <tr>\n",
       "      <th>15751</th>\n",
       "      <td>PaymentScreenSuccessful</td>\n",
       "      <td>3528217211962170139</td>\n",
       "      <td>2019-08-01 11:13:23</td>\n",
       "      <td>247</td>\n",
       "    </tr>\n",
       "    <tr>\n",
       "      <th>15752</th>\n",
       "      <td>PaymentScreenSuccessful</td>\n",
       "      <td>3528217211962170139</td>\n",
       "      <td>2019-08-01 11:13:23</td>\n",
       "      <td>247</td>\n",
       "    </tr>\n",
       "    <tr>\n",
       "      <th>15753</th>\n",
       "      <td>PaymentScreenSuccessful</td>\n",
       "      <td>3528217211962170139</td>\n",
       "      <td>2019-08-01 11:13:23</td>\n",
       "      <td>247</td>\n",
       "    </tr>\n",
       "    <tr>\n",
       "      <th>17036</th>\n",
       "      <td>CartScreenAppear</td>\n",
       "      <td>197027893265565660</td>\n",
       "      <td>2019-08-01 11:40:14</td>\n",
       "      <td>246</td>\n",
       "    </tr>\n",
       "    <tr>\n",
       "      <th>17037</th>\n",
       "      <td>CartScreenAppear</td>\n",
       "      <td>197027893265565660</td>\n",
       "      <td>2019-08-01 11:40:14</td>\n",
       "      <td>246</td>\n",
       "    </tr>\n",
       "    <tr>\n",
       "      <th>17762</th>\n",
       "      <td>MainScreenAppear</td>\n",
       "      <td>677967665205174414</td>\n",
       "      <td>2019-08-01 11:59:10</td>\n",
       "      <td>246</td>\n",
       "    </tr>\n",
       "    <tr>\n",
       "      <th>17763</th>\n",
       "      <td>MainScreenAppear</td>\n",
       "      <td>677967665205174414</td>\n",
       "      <td>2019-08-01 11:59:10</td>\n",
       "      <td>246</td>\n",
       "    </tr>\n",
       "    <tr>\n",
       "      <th>17893</th>\n",
       "      <td>PaymentScreenSuccessful</td>\n",
       "      <td>7738058666231999878</td>\n",
       "      <td>2019-08-01 12:03:03</td>\n",
       "      <td>246</td>\n",
       "    </tr>\n",
       "    <tr>\n",
       "      <th>17895</th>\n",
       "      <td>PaymentScreenSuccessful</td>\n",
       "      <td>7738058666231999878</td>\n",
       "      <td>2019-08-01 12:03:03</td>\n",
       "      <td>246</td>\n",
       "    </tr>\n",
       "    <tr>\n",
       "      <th>17896</th>\n",
       "      <td>PaymentScreenSuccessful</td>\n",
       "      <td>7738058666231999878</td>\n",
       "      <td>2019-08-01 12:03:03</td>\n",
       "      <td>246</td>\n",
       "    </tr>\n",
       "    <tr>\n",
       "      <th>19631</th>\n",
       "      <td>PaymentScreenSuccessful</td>\n",
       "      <td>1568403033187645799</td>\n",
       "      <td>2019-08-01 12:42:03</td>\n",
       "      <td>248</td>\n",
       "    </tr>\n",
       "    <tr>\n",
       "      <th>19633</th>\n",
       "      <td>PaymentScreenSuccessful</td>\n",
       "      <td>1568403033187645799</td>\n",
       "      <td>2019-08-01 12:42:03</td>\n",
       "      <td>248</td>\n",
       "    </tr>\n",
       "    <tr>\n",
       "      <th>20999</th>\n",
       "      <td>PaymentScreenSuccessful</td>\n",
       "      <td>4980045449118619005</td>\n",
       "      <td>2019-08-01 13:20:38</td>\n",
       "      <td>247</td>\n",
       "    </tr>\n",
       "    <tr>\n",
       "      <th>21001</th>\n",
       "      <td>PaymentScreenSuccessful</td>\n",
       "      <td>4980045449118619005</td>\n",
       "      <td>2019-08-01 13:20:38</td>\n",
       "      <td>247</td>\n",
       "    </tr>\n",
       "    <tr>\n",
       "      <th>21002</th>\n",
       "      <td>PaymentScreenSuccessful</td>\n",
       "      <td>4980045449118619005</td>\n",
       "      <td>2019-08-01 13:20:39</td>\n",
       "      <td>247</td>\n",
       "    </tr>\n",
       "  </tbody>\n",
       "</table>\n",
       "</div>"
      ],
      "text/plain": [
       "                     eventname         deviceidhash      eventtimestamp  expid\n",
       "452           MainScreenAppear  5613408041324010552 2019-07-30 08:19:44    248\n",
       "453           MainScreenAppear  5613408041324010552 2019-07-30 08:19:44    248\n",
       "2348          CartScreenAppear  1694940645335807244 2019-07-31 21:51:39    248\n",
       "2350          CartScreenAppear  1694940645335807244 2019-07-31 21:51:39    248\n",
       "3572          MainScreenAppear   434103746454591587 2019-08-01 02:59:37    248\n",
       "3573          MainScreenAppear   434103746454591587 2019-08-01 02:59:37    248\n",
       "4075          MainScreenAppear  3761373764179762633 2019-08-01 03:47:46    247\n",
       "4076          MainScreenAppear  3761373764179762633 2019-08-01 03:47:46    247\n",
       "4801          MainScreenAppear  2835328739789306622 2019-08-01 04:44:01    248\n",
       "4803          MainScreenAppear  2835328739789306622 2019-08-01 04:44:01    248\n",
       "5639          CartScreenAppear  4248762472840564256 2019-08-01 05:36:04    248\n",
       "5641          CartScreenAppear  4248762472840564256 2019-08-01 05:36:04    248\n",
       "5874   PaymentScreenSuccessful  6427012997733591237 2019-08-01 05:47:32    248\n",
       "5875   PaymentScreenSuccessful  6427012997733591237 2019-08-01 05:47:32    248\n",
       "7248        OffersScreenAppear  7224691986599895551 2019-08-01 06:44:06    246\n",
       "7249        OffersScreenAppear  7224691986599895551 2019-08-01 06:44:06    246\n",
       "8064          CartScreenAppear  8189122927585332969 2019-08-01 07:18:49    248\n",
       "8065          CartScreenAppear  8189122927585332969 2019-08-01 07:18:49    248\n",
       "9178          MainScreenAppear  2230705996155527339 2019-08-01 07:54:47    246\n",
       "9179          MainScreenAppear  2230705996155527339 2019-08-01 07:54:47    246\n",
       "9310          MainScreenAppear  5496043151846125970 2019-08-01 07:58:03    248\n",
       "9311          MainScreenAppear  5496043151846125970 2019-08-01 07:58:03    248\n",
       "9988   PaymentScreenSuccessful  7035352794299231933 2019-08-01 08:20:27    248\n",
       "9990   PaymentScreenSuccessful  7035352794299231933 2019-08-01 08:20:27    248\n",
       "12452  PaymentScreenSuccessful  5152160705477623487 2019-08-01 09:35:39    247\n",
       "12454  PaymentScreenSuccessful  5152160705477623487 2019-08-01 09:35:39    247\n",
       "13054  PaymentScreenSuccessful  6258460144399027762 2019-08-01 09:53:44    247\n",
       "13055  PaymentScreenSuccessful  6258460144399027762 2019-08-01 09:53:44    247\n",
       "14332         CartScreenAppear  1807104407388801321 2019-08-01 10:30:27    248\n",
       "14333         CartScreenAppear  1807104407388801321 2019-08-01 10:30:27    248\n",
       "15302  PaymentScreenSuccessful  8125832085431322921 2019-08-01 11:01:10    246\n",
       "15304  PaymentScreenSuccessful  8125832085431322921 2019-08-01 11:01:10    246\n",
       "15745  PaymentScreenSuccessful  2877433916175408776 2019-08-01 11:13:21    247\n",
       "15746  PaymentScreenSuccessful  2877433916175408776 2019-08-01 11:13:21    247\n",
       "15750  PaymentScreenSuccessful  3528217211962170139 2019-08-01 11:13:23    247\n",
       "15751  PaymentScreenSuccessful  3528217211962170139 2019-08-01 11:13:23    247\n",
       "15752  PaymentScreenSuccessful  3528217211962170139 2019-08-01 11:13:23    247\n",
       "15753  PaymentScreenSuccessful  3528217211962170139 2019-08-01 11:13:23    247\n",
       "17036         CartScreenAppear   197027893265565660 2019-08-01 11:40:14    246\n",
       "17037         CartScreenAppear   197027893265565660 2019-08-01 11:40:14    246\n",
       "17762         MainScreenAppear   677967665205174414 2019-08-01 11:59:10    246\n",
       "17763         MainScreenAppear   677967665205174414 2019-08-01 11:59:10    246\n",
       "17893  PaymentScreenSuccessful  7738058666231999878 2019-08-01 12:03:03    246\n",
       "17895  PaymentScreenSuccessful  7738058666231999878 2019-08-01 12:03:03    246\n",
       "17896  PaymentScreenSuccessful  7738058666231999878 2019-08-01 12:03:03    246\n",
       "19631  PaymentScreenSuccessful  1568403033187645799 2019-08-01 12:42:03    248\n",
       "19633  PaymentScreenSuccessful  1568403033187645799 2019-08-01 12:42:03    248\n",
       "20999  PaymentScreenSuccessful  4980045449118619005 2019-08-01 13:20:38    247\n",
       "21001  PaymentScreenSuccessful  4980045449118619005 2019-08-01 13:20:38    247\n",
       "21002  PaymentScreenSuccessful  4980045449118619005 2019-08-01 13:20:39    247"
      ]
     },
     "execution_count": 40,
     "metadata": {},
     "output_type": "execute_result"
    }
   ],
   "source": [
    "all_duplicates = df[df.duplicated(keep=False)]\n",
    "all_duplicates.head(50)"
   ]
  },
  {
   "cell_type": "markdown",
   "metadata": {},
   "source": [
    "Based on the analysis of the first 50 rows, we can conclude that some sessions contain duplicates. This can significantly impact funnel analysis and A/A/B testing. Therefore, we will remove the duplicates, keeping only the last occurrences of the repeated rows, and also reset the indexing of the modified dataframe."
   ]
  },
  {
   "cell_type": "code",
   "execution_count": 41,
   "metadata": {},
   "outputs": [],
   "source": [
    "df = df.drop_duplicates(keep='last').reset_index()"
   ]
  },
  {
   "cell_type": "code",
   "execution_count": 42,
   "metadata": {},
   "outputs": [
    {
     "data": {
      "text/plain": [
       "np.int64(0)"
      ]
     },
     "execution_count": 42,
     "metadata": {},
     "output_type": "execute_result"
    }
   ],
   "source": [
    "df.duplicated().sum()"
   ]
  },
  {
   "cell_type": "markdown",
   "metadata": {},
   "source": [
    "As part of the data preprocessing, we will perform the final step - adding a separate column for the date."
   ]
  },
  {
   "cell_type": "code",
   "execution_count": 43,
   "metadata": {},
   "outputs": [
    {
     "data": {
      "text/html": [
       "<div>\n",
       "<style scoped>\n",
       "    .dataframe tbody tr th:only-of-type {\n",
       "        vertical-align: middle;\n",
       "    }\n",
       "\n",
       "    .dataframe tbody tr th {\n",
       "        vertical-align: top;\n",
       "    }\n",
       "\n",
       "    .dataframe thead th {\n",
       "        text-align: right;\n",
       "    }\n",
       "</style>\n",
       "<table border=\"1\" class=\"dataframe\">\n",
       "  <thead>\n",
       "    <tr style=\"text-align: right;\">\n",
       "      <th></th>\n",
       "      <th>index</th>\n",
       "      <th>eventname</th>\n",
       "      <th>deviceidhash</th>\n",
       "      <th>eventtimestamp</th>\n",
       "      <th>expid</th>\n",
       "      <th>eventdate</th>\n",
       "    </tr>\n",
       "  </thead>\n",
       "  <tbody>\n",
       "    <tr>\n",
       "      <th>0</th>\n",
       "      <td>0</td>\n",
       "      <td>MainScreenAppear</td>\n",
       "      <td>4575588528974610257</td>\n",
       "      <td>2019-07-25 04:43:36</td>\n",
       "      <td>246</td>\n",
       "      <td>2019-07-25</td>\n",
       "    </tr>\n",
       "    <tr>\n",
       "      <th>1</th>\n",
       "      <td>1</td>\n",
       "      <td>MainScreenAppear</td>\n",
       "      <td>7416695313311560658</td>\n",
       "      <td>2019-07-25 11:11:42</td>\n",
       "      <td>246</td>\n",
       "      <td>2019-07-25</td>\n",
       "    </tr>\n",
       "    <tr>\n",
       "      <th>2</th>\n",
       "      <td>2</td>\n",
       "      <td>PaymentScreenSuccessful</td>\n",
       "      <td>3518123091307005509</td>\n",
       "      <td>2019-07-25 11:28:47</td>\n",
       "      <td>248</td>\n",
       "      <td>2019-07-25</td>\n",
       "    </tr>\n",
       "    <tr>\n",
       "      <th>3</th>\n",
       "      <td>3</td>\n",
       "      <td>CartScreenAppear</td>\n",
       "      <td>3518123091307005509</td>\n",
       "      <td>2019-07-25 11:28:47</td>\n",
       "      <td>248</td>\n",
       "      <td>2019-07-25</td>\n",
       "    </tr>\n",
       "    <tr>\n",
       "      <th>4</th>\n",
       "      <td>4</td>\n",
       "      <td>PaymentScreenSuccessful</td>\n",
       "      <td>6217807653094995999</td>\n",
       "      <td>2019-07-25 11:48:42</td>\n",
       "      <td>248</td>\n",
       "      <td>2019-07-25</td>\n",
       "    </tr>\n",
       "  </tbody>\n",
       "</table>\n",
       "</div>"
      ],
      "text/plain": [
       "   index                eventname         deviceidhash      eventtimestamp  \\\n",
       "0      0         MainScreenAppear  4575588528974610257 2019-07-25 04:43:36   \n",
       "1      1         MainScreenAppear  7416695313311560658 2019-07-25 11:11:42   \n",
       "2      2  PaymentScreenSuccessful  3518123091307005509 2019-07-25 11:28:47   \n",
       "3      3         CartScreenAppear  3518123091307005509 2019-07-25 11:28:47   \n",
       "4      4  PaymentScreenSuccessful  6217807653094995999 2019-07-25 11:48:42   \n",
       "\n",
       "   expid   eventdate  \n",
       "0    246  2019-07-25  \n",
       "1    246  2019-07-25  \n",
       "2    248  2019-07-25  \n",
       "3    248  2019-07-25  \n",
       "4    248  2019-07-25  "
      ]
     },
     "execution_count": 43,
     "metadata": {},
     "output_type": "execute_result"
    }
   ],
   "source": [
    "df['eventdate'] = df['eventtimestamp'].dt.date\n",
    "df.head()"
   ]
  },
  {
   "cell_type": "markdown",
   "metadata": {},
   "source": [
    "## Exploratory Data Analysis"
   ]
  },
  {
   "cell_type": "markdown",
   "metadata": {},
   "source": [
    "As part of the exploratory data analysis, we will answer several questions:\n",
    "\n",
    "- How many events are there in the log in total?\n",
    "- How many unique users are there in the log?\n",
    "- What is the average number of events per user?\n",
    "- What time period do the data cover?"
   ]
  },
  {
   "cell_type": "code",
   "execution_count": 44,
   "metadata": {},
   "outputs": [
    {
     "data": {
      "text/plain": [
       "'Total number of events in the log: 243713'"
      ]
     },
     "metadata": {},
     "output_type": "display_data"
    },
    {
     "data": {
      "text/plain": [
       "'Total number of users in the log: 7551'"
      ]
     },
     "metadata": {},
     "output_type": "display_data"
    },
    {
     "data": {
      "text/plain": [
       "'On average, there are 32.28 events per user.'"
      ]
     },
     "metadata": {},
     "output_type": "display_data"
    },
    {
     "data": {
      "text/plain": [
       "'The data was collected from 2019-07-25 to 2019-08-07'"
      ]
     },
     "metadata": {},
     "output_type": "display_data"
    }
   ],
   "source": [
    "total_events = df.shape[0]\n",
    "display(f'Total number of events in the log: {total_events}')\n",
    "deviceidhash_count = df['deviceidhash'].nunique()\n",
    "display(f'Total number of users in the log: {deviceidhash_count}')\n",
    "average_events_per_user = total_events/deviceidhash_count\n",
    "display(f'On average, there are {average_events_per_user:.2f} events per user.')\n",
    "min_date = df['eventdate'].min()\n",
    "max_date = df['eventdate'].max()\n",
    "display(f'The data was collected from {min_date} to {max_date}')"
   ]
  },
  {
   "cell_type": "markdown",
   "metadata": {},
   "source": [
    "Now, let's examine how the data changes over time: we will create a bar chart that shows the number of events over time, segmented by groups. Let's check if the data is consistently complete throughout the entire period of the study."
   ]
  },
  {
   "cell_type": "code",
   "execution_count": 45,
   "metadata": {},
   "outputs": [
    {
     "data": {
      "image/png": "[encoded data removed]",
      "text/plain": [
       "<Figure size 1000x600 with 1 Axes>"
      ]
     },
     "metadata": {},
     "output_type": "display_data"
    }
   ],
   "source": [
    "events_per_date = df.pivot_table(index='eventdate', columns='expid', values='index', aggfunc='count', fill_value=0)\n",
    "events_per_date.plot(kind='bar', figsize=(10, 6))\n",
    "plt.xlabel('Group')\n",
    "plt.ylabel('Number of Events')\n",
    "plt.title('Event Distribution by Group')\n",
    "plt.show()"
   ]
  },
  {
   "cell_type": "markdown",
   "metadata": {},
   "source": [
    "Based on the analysis of the number of events, it can be concluded that the data we have covers the period from August 1 to August 7, 2019, inclusive. Therefore, it is necessary to remove the information for July and retain only the data for the first week of August for further analysis in the subsequent chapters of the study. After removing the data, a check should be performed to assess the volume of deleted information and ensure that users are present in all three experimental groups. Finally, it is recommended to create a bar chart to visualize the obtained data."
   ]
  },
  {
   "cell_type": "code",
   "execution_count": 46,
   "metadata": {},
   "outputs": [
    {
     "name": "stdout",
     "output_type": "stream",
     "text": [
      "<class 'pandas.core.frame.DataFrame'>\n",
      "Index: 240887 entries, 2826 to 243712\n",
      "Data columns (total 6 columns):\n",
      " #   Column          Non-Null Count   Dtype         \n",
      "---  ------          --------------   -----         \n",
      " 0   index           240887 non-null  int64         \n",
      " 1   eventname       240887 non-null  object        \n",
      " 2   deviceidhash    240887 non-null  int64         \n",
      " 3   eventtimestamp  240887 non-null  datetime64[ns]\n",
      " 4   expid           240887 non-null  int64         \n",
      " 5   eventdate       240887 non-null  datetime64[ns]\n",
      "dtypes: datetime64[ns](2), int64(3), object(1)\n",
      "memory usage: 12.9+ MB\n"
     ]
    }
   ],
   "source": [
    "df['eventdate'] = pd.to_datetime(df['eventdate'])  # Ensure the column is in the correct datetime format\n",
    "df = df[(df['eventdate'] >= pd.Timestamp('2019-08-01')) & (df['eventdate'] <= pd.Timestamp('2019-08-07'))]\n",
    "df.info()  # Get summary info of the filtered dataframe"
   ]
  },
  {
   "cell_type": "markdown",
   "metadata": {},
   "source": [
    "Let's calculate how much data we lost after the performed manipulations."
   ]
  },
  {
   "cell_type": "code",
   "execution_count": 47,
   "metadata": {},
   "outputs": [],
   "source": [
    "try:\n",
    "    df_raw = pd.read_csv('/datasets/logs_exp.csv', sep='\\t')\n",
    "except:\n",
    "    df_raw = pd.read_csv('https://code.s3.yandex.net/datasets/logs_exp.csv', sep='\\t')"
   ]
  },
  {
   "cell_type": "code",
   "execution_count": 48,
   "metadata": {},
   "outputs": [
    {
     "data": {
      "text/plain": [
       "'The absolute user loss is: 17'"
      ]
     },
     "metadata": {},
     "output_type": "display_data"
    },
    {
     "data": {
      "text/plain": [
       "'The relative user loss is: 0.23%'"
      ]
     },
     "metadata": {},
     "output_type": "display_data"
    }
   ],
   "source": [
    "loss_deviceidhash_absolute = df_raw['DeviceIDHash'].nunique() - df['deviceidhash'].nunique()\n",
    "\n",
    "# Calculating the relative indicator\n",
    "loss_deviceidhash_relative = 100 - (df['deviceidhash'].nunique() / df_raw['DeviceIDHash'].nunique() * 100)\n",
    "loss_deviceidhash_relative = round(loss_deviceidhash_relative, 2)\n",
    "\n",
    "# Converting to string and adding '%' symbol\n",
    "loss_deviceidhash_relative = str(loss_deviceidhash_relative) + '%'\n",
    "\n",
    "display(f'The absolute user loss is: {loss_deviceidhash_absolute}')\n",
    "display(f'The relative user loss is: {loss_deviceidhash_relative}')"
   ]
  },
  {
   "cell_type": "code",
   "execution_count": 49,
   "metadata": {},
   "outputs": [
    {
     "data": {
      "text/plain": [
       "'The absolute event loss is: 3239'"
      ]
     },
     "metadata": {},
     "output_type": "display_data"
    },
    {
     "data": {
      "text/plain": [
       "'The relative event loss is: 1.33%'"
      ]
     },
     "metadata": {},
     "output_type": "display_data"
    }
   ],
   "source": [
    "loss_eventname_absolute = df_raw['EventName'].count() - df['eventname'].count()\n",
    "loss_eventname_relative = (100 - (df['eventname'].count() / df_raw['EventName'].count()) * 100).round(2).astype(str) + '%'\n",
    "\n",
    "display(f'The absolute event loss is: {loss_eventname_absolute}')\n",
    "display(f'The relative event loss is: {loss_eventname_relative}')"
   ]
  },
  {
   "cell_type": "markdown",
   "metadata": {},
   "source": [
    "By performing this manipulation, we have lost only about one percent of the data. Let's take another look at the bar charts and make sure we have all the necessary data."
   ]
  },
  {
   "cell_type": "code",
   "execution_count": 50,
   "metadata": {},
   "outputs": [
    {
     "data": {
      "image/png": "[encoded data removed]",
      "text/plain": [
       "<Figure size 1000x600 with 1 Axes>"
      ]
     },
     "metadata": {},
     "output_type": "display_data"
    }
   ],
   "source": [
    "events_per_date = df.pivot_table(index='eventdate', columns='expid', values='index', aggfunc='count', fill_value=0)\n",
    "events_per_date.plot(kind='bar', figsize=(10, 6))\n",
    "plt.xlabel('Group')\n",
    "plt.ylabel('Number of Events')\n",
    "plt.title('Event Distribution by Group')\n",
    "plt.show()"
   ]
  },
  {
   "cell_type": "markdown",
   "metadata": {},
   "source": [
    "## Sales funnel analysis"
   ]
  },
  {
   "cell_type": "markdown",
   "metadata": {},
   "source": [
    "The data has been processed and is ready for analysis, so let's move on to the sales funnel analysis. First, let's take a look at the events in the logs and how often they occur. We will sort the events by frequency."
   ]
  },
  {
   "cell_type": "code",
   "execution_count": 51,
   "metadata": {},
   "outputs": [
    {
     "data": {
      "text/plain": [
       "eventname\n",
       "MainScreenAppear           117328\n",
       "OffersScreenAppear          46333\n",
       "CartScreenAppear            42303\n",
       "PaymentScreenSuccessful     33918\n",
       "Tutorial                     1005\n",
       "Name: count, dtype: int64"
      ]
     },
     "execution_count": 51,
     "metadata": {},
     "output_type": "execute_result"
    }
   ],
   "source": [
    "df['eventname'].value_counts()"
   ]
  },
  {
   "cell_type": "markdown",
   "metadata": {},
   "source": [
    "In the data, we can observe the following events:\n",
    "\n",
    "1. MainScreenAppear. This event indicates that the user has seen the main screen of the application. The number of such events is 117,328.\n",
    "2. OffersScreenAppear. This event logs when the user sees the screen with offers (such as discounts or special promotions). The number of such events is 46,333.\n",
    "3. CartScreenAppear. This event occurs when the user opens the cart screen, where the items added to the cart are displayed. The number of such events is 42,303.\n",
    "4. PaymentScreenSuccessful. This event logs the successful display of the payment screen when the user has completed the purchase process and proceeds to the \n",
    "confirmation screen. The number of such events is 33,918.\n",
    "5. Tutorial. This event indicates that the user has viewed the tutorial materials or completed an interactive tutorial. The number of such events is 1,005."
   ]
  },
  {
   "cell_type": "markdown",
   "metadata": {},
   "source": [
    "Let's calculate how many users performed each of these events. We will sort the events by the number of users. Then, we will calculate the share of users who have performed each event at least once."
   ]
  },
  {
   "cell_type": "code",
   "execution_count": 52,
   "metadata": {},
   "outputs": [
    {
     "data": {
      "text/plain": [
       "'Number of users per event, sorted in descending order:'"
      ]
     },
     "metadata": {},
     "output_type": "display_data"
    },
    {
     "data": {
      "text/html": [
       "<div>\n",
       "<style scoped>\n",
       "    .dataframe tbody tr th:only-of-type {\n",
       "        vertical-align: middle;\n",
       "    }\n",
       "\n",
       "    .dataframe tbody tr th {\n",
       "        vertical-align: top;\n",
       "    }\n",
       "\n",
       "    .dataframe thead th {\n",
       "        text-align: right;\n",
       "    }\n",
       "</style>\n",
       "<table border=\"1\" class=\"dataframe\">\n",
       "  <thead>\n",
       "    <tr style=\"text-align: right;\">\n",
       "      <th></th>\n",
       "      <th>eventname</th>\n",
       "      <th>unique_deviceidhash_count</th>\n",
       "    </tr>\n",
       "  </thead>\n",
       "  <tbody>\n",
       "    <tr>\n",
       "      <th>0</th>\n",
       "      <td>MainScreenAppear</td>\n",
       "      <td>7419</td>\n",
       "    </tr>\n",
       "    <tr>\n",
       "      <th>1</th>\n",
       "      <td>OffersScreenAppear</td>\n",
       "      <td>4593</td>\n",
       "    </tr>\n",
       "    <tr>\n",
       "      <th>2</th>\n",
       "      <td>CartScreenAppear</td>\n",
       "      <td>3734</td>\n",
       "    </tr>\n",
       "    <tr>\n",
       "      <th>3</th>\n",
       "      <td>PaymentScreenSuccessful</td>\n",
       "      <td>3539</td>\n",
       "    </tr>\n",
       "    <tr>\n",
       "      <th>4</th>\n",
       "      <td>Tutorial</td>\n",
       "      <td>840</td>\n",
       "    </tr>\n",
       "  </tbody>\n",
       "</table>\n",
       "</div>"
      ],
      "text/plain": [
       "                 eventname  unique_deviceidhash_count\n",
       "0         MainScreenAppear                       7419\n",
       "1       OffersScreenAppear                       4593\n",
       "2         CartScreenAppear                       3734\n",
       "3  PaymentScreenSuccessful                       3539\n",
       "4                 Tutorial                        840"
      ]
     },
     "execution_count": 52,
     "metadata": {},
     "output_type": "execute_result"
    }
   ],
   "source": [
    "user_counts = df.groupby('eventname')['deviceidhash'].nunique().sort_values(ascending=False).reset_index()\n",
    "user_counts.columns = ['eventname', 'unique_deviceidhash_count']\n",
    "display(\"Number of users per event, sorted in descending order:\")\n",
    "user_counts"
   ]
  },
  {
   "cell_type": "code",
   "execution_count": 53,
   "metadata": {},
   "outputs": [
    {
     "data": {
      "text/plain": [
       "'The proportion of users who performed each event, in percentage:'"
      ]
     },
     "metadata": {},
     "output_type": "display_data"
    },
    {
     "data": {
      "text/html": [
       "<div>\n",
       "<style scoped>\n",
       "    .dataframe tbody tr th:only-of-type {\n",
       "        vertical-align: middle;\n",
       "    }\n",
       "\n",
       "    .dataframe tbody tr th {\n",
       "        vertical-align: top;\n",
       "    }\n",
       "\n",
       "    .dataframe thead th {\n",
       "        text-align: right;\n",
       "    }\n",
       "</style>\n",
       "<table border=\"1\" class=\"dataframe\">\n",
       "  <thead>\n",
       "    <tr style=\"text-align: right;\">\n",
       "      <th></th>\n",
       "      <th>eventname</th>\n",
       "      <th>unique_deviceidhash_count</th>\n",
       "      <th>user_proportions</th>\n",
       "    </tr>\n",
       "  </thead>\n",
       "  <tbody>\n",
       "    <tr>\n",
       "      <th>0</th>\n",
       "      <td>MainScreenAppear</td>\n",
       "      <td>7419</td>\n",
       "      <td>98.473586</td>\n",
       "    </tr>\n",
       "    <tr>\n",
       "      <th>1</th>\n",
       "      <td>OffersScreenAppear</td>\n",
       "      <td>4593</td>\n",
       "      <td>60.963632</td>\n",
       "    </tr>\n",
       "    <tr>\n",
       "      <th>2</th>\n",
       "      <td>CartScreenAppear</td>\n",
       "      <td>3734</td>\n",
       "      <td>49.561986</td>\n",
       "    </tr>\n",
       "    <tr>\n",
       "      <th>3</th>\n",
       "      <td>PaymentScreenSuccessful</td>\n",
       "      <td>3539</td>\n",
       "      <td>46.973719</td>\n",
       "    </tr>\n",
       "    <tr>\n",
       "      <th>4</th>\n",
       "      <td>Tutorial</td>\n",
       "      <td>840</td>\n",
       "      <td>11.149456</td>\n",
       "    </tr>\n",
       "  </tbody>\n",
       "</table>\n",
       "</div>"
      ],
      "text/plain": [
       "                 eventname  unique_deviceidhash_count  user_proportions\n",
       "0         MainScreenAppear                       7419         98.473586\n",
       "1       OffersScreenAppear                       4593         60.963632\n",
       "2         CartScreenAppear                       3734         49.561986\n",
       "3  PaymentScreenSuccessful                       3539         46.973719\n",
       "4                 Tutorial                        840         11.149456"
      ]
     },
     "execution_count": 53,
     "metadata": {},
     "output_type": "execute_result"
    }
   ],
   "source": [
    "total_users = df['deviceidhash'].nunique()\n",
    "user_counts['user_proportions'] = (user_counts['unique_deviceidhash_count'] / total_users) * 100\n",
    "display(\"The proportion of users who performed each event, in percentage:\")\n",
    "user_counts"
   ]
  },
  {
   "cell_type": "markdown",
   "metadata": {},
   "source": [
    "Let's assume that the first event in the user journey is MainScreenAppear, as it is the first thing the user sees after opening the app. The last event before the user makes a purchase is PaymentScreenSuccessful. It is logical to assume that before making a purchase, the user should have been in the cart, so the event CartScreenAppear will precede PaymentScreenSuccessful.\n",
    "\n",
    "The remaining events, OffersScreenAppear and Tutorial, can be placed at intermediate stages of the user journey, as the user may interact with different sections of the app. However, for the purposes of sales funnel analysis, the Tutorial event can be disregarded, as it is not a key stage in the purchasing process.\n",
    "\n",
    "Based on the above, the sales funnel is structured as follows (from top to bottom):\n",
    "\n",
    "1. MainScreenAppear\n",
    "2. OffersScreenAppear\n",
    "3. CartScreenAppear\n",
    "4. PaymentScreenSuccessful"
   ]
  },
  {
   "cell_type": "markdown",
   "metadata": {},
   "source": [
    "Let's calculate the proportion of users who move to the next step in the funnel or the conversion rate for each step, as well as the overall conversion rate, and then describe the results."
   ]
  },
  {
   "cell_type": "code",
   "execution_count": 54,
   "metadata": {},
   "outputs": [
    {
     "data": {
      "text/html": [
       "<div>\n",
       "<style scoped>\n",
       "    .dataframe tbody tr th:only-of-type {\n",
       "        vertical-align: middle;\n",
       "    }\n",
       "\n",
       "    .dataframe tbody tr th {\n",
       "        vertical-align: top;\n",
       "    }\n",
       "\n",
       "    .dataframe thead th {\n",
       "        text-align: right;\n",
       "    }\n",
       "</style>\n",
       "<table border=\"1\" class=\"dataframe\">\n",
       "  <thead>\n",
       "    <tr style=\"text-align: right;\">\n",
       "      <th></th>\n",
       "      <th>eventname</th>\n",
       "      <th>unique_deviceidhash_count</th>\n",
       "      <th>user_proportions</th>\n",
       "      <th>conversion</th>\n",
       "    </tr>\n",
       "  </thead>\n",
       "  <tbody>\n",
       "    <tr>\n",
       "      <th>0</th>\n",
       "      <td>MainScreenAppear</td>\n",
       "      <td>7419</td>\n",
       "      <td>98.473586</td>\n",
       "      <td>100.0%</td>\n",
       "    </tr>\n",
       "    <tr>\n",
       "      <th>1</th>\n",
       "      <td>OffersScreenAppear</td>\n",
       "      <td>4593</td>\n",
       "      <td>60.963632</td>\n",
       "      <td>61.91%</td>\n",
       "    </tr>\n",
       "    <tr>\n",
       "      <th>2</th>\n",
       "      <td>CartScreenAppear</td>\n",
       "      <td>3734</td>\n",
       "      <td>49.561986</td>\n",
       "      <td>50.33%</td>\n",
       "    </tr>\n",
       "    <tr>\n",
       "      <th>3</th>\n",
       "      <td>PaymentScreenSuccessful</td>\n",
       "      <td>3539</td>\n",
       "      <td>46.973719</td>\n",
       "      <td>47.7%</td>\n",
       "    </tr>\n",
       "    <tr>\n",
       "      <th>4</th>\n",
       "      <td>Tutorial</td>\n",
       "      <td>840</td>\n",
       "      <td>11.149456</td>\n",
       "      <td>11.32%</td>\n",
       "    </tr>\n",
       "  </tbody>\n",
       "</table>\n",
       "</div>"
      ],
      "text/plain": [
       "                 eventname  unique_deviceidhash_count  user_proportions  \\\n",
       "0         MainScreenAppear                       7419         98.473586   \n",
       "1       OffersScreenAppear                       4593         60.963632   \n",
       "2         CartScreenAppear                       3734         49.561986   \n",
       "3  PaymentScreenSuccessful                       3539         46.973719   \n",
       "4                 Tutorial                        840         11.149456   \n",
       "\n",
       "  conversion  \n",
       "0     100.0%  \n",
       "1     61.91%  \n",
       "2     50.33%  \n",
       "3      47.7%  \n",
       "4     11.32%  "
      ]
     },
     "execution_count": 54,
     "metadata": {},
     "output_type": "execute_result"
    }
   ],
   "source": [
    "user_counts['conversion'] = (user_counts['unique_deviceidhash_count'] / user_counts['unique_deviceidhash_count'][0]) * 100\n",
    "user_counts['conversion'] = user_counts['conversion'].round(2).astype(str) + '%'\n",
    "user_counts"
   ]
  },
  {
   "cell_type": "code",
   "execution_count": 55,
   "metadata": {},
   "outputs": [
    {
     "data": {
      "text/html": [
       "<div>\n",
       "<style scoped>\n",
       "    .dataframe tbody tr th:only-of-type {\n",
       "        vertical-align: middle;\n",
       "    }\n",
       "\n",
       "    .dataframe tbody tr th {\n",
       "        vertical-align: top;\n",
       "    }\n",
       "\n",
       "    .dataframe thead th {\n",
       "        text-align: right;\n",
       "    }\n",
       "</style>\n",
       "<table border=\"1\" class=\"dataframe\">\n",
       "  <thead>\n",
       "    <tr style=\"text-align: right;\">\n",
       "      <th></th>\n",
       "      <th>eventname</th>\n",
       "      <th>unique_deviceidhash_count</th>\n",
       "      <th>user_proportions</th>\n",
       "      <th>conversion</th>\n",
       "      <th>conversion_per_step</th>\n",
       "    </tr>\n",
       "  </thead>\n",
       "  <tbody>\n",
       "    <tr>\n",
       "      <th>0</th>\n",
       "      <td>MainScreenAppear</td>\n",
       "      <td>7419</td>\n",
       "      <td>98.473586</td>\n",
       "      <td>100.0%</td>\n",
       "      <td>100.0%</td>\n",
       "    </tr>\n",
       "    <tr>\n",
       "      <th>1</th>\n",
       "      <td>OffersScreenAppear</td>\n",
       "      <td>4593</td>\n",
       "      <td>60.963632</td>\n",
       "      <td>61.91%</td>\n",
       "      <td>61.91%</td>\n",
       "    </tr>\n",
       "    <tr>\n",
       "      <th>2</th>\n",
       "      <td>CartScreenAppear</td>\n",
       "      <td>3734</td>\n",
       "      <td>49.561986</td>\n",
       "      <td>50.33%</td>\n",
       "      <td>81.3%</td>\n",
       "    </tr>\n",
       "    <tr>\n",
       "      <th>3</th>\n",
       "      <td>PaymentScreenSuccessful</td>\n",
       "      <td>3539</td>\n",
       "      <td>46.973719</td>\n",
       "      <td>47.7%</td>\n",
       "      <td>94.78%</td>\n",
       "    </tr>\n",
       "    <tr>\n",
       "      <th>4</th>\n",
       "      <td>Tutorial</td>\n",
       "      <td>840</td>\n",
       "      <td>11.149456</td>\n",
       "      <td>11.32%</td>\n",
       "      <td>23.74%</td>\n",
       "    </tr>\n",
       "  </tbody>\n",
       "</table>\n",
       "</div>"
      ],
      "text/plain": [
       "                 eventname  unique_deviceidhash_count  user_proportions  \\\n",
       "0         MainScreenAppear                       7419         98.473586   \n",
       "1       OffersScreenAppear                       4593         60.963632   \n",
       "2         CartScreenAppear                       3734         49.561986   \n",
       "3  PaymentScreenSuccessful                       3539         46.973719   \n",
       "4                 Tutorial                        840         11.149456   \n",
       "\n",
       "  conversion conversion_per_step  \n",
       "0     100.0%              100.0%  \n",
       "1     61.91%              61.91%  \n",
       "2     50.33%               81.3%  \n",
       "3      47.7%              94.78%  \n",
       "4     11.32%              23.74%  "
      ]
     },
     "execution_count": 55,
     "metadata": {},
     "output_type": "execute_result"
    }
   ],
   "source": [
    "conversion_step = [100]\n",
    "for i in range(1, len(user_counts)):\n",
    "    conversion = (user_counts['unique_deviceidhash_count'][i] / user_counts['unique_deviceidhash_count'][i - 1]) * 100\n",
    "    conversion_step.append(conversion)\n",
    "user_counts['conversion_per_step'] = conversion_step\n",
    "user_counts['conversion_per_step'] = user_counts['conversion_per_step'].round(2).astype(str) + '%'\n",
    "user_counts"
   ]
  },
  {
   "cell_type": "code",
   "execution_count": 56,
   "metadata": {},
   "outputs": [
    {
     "data": {
      "application/vnd.plotly.v1+json": {
       "config": {
        "plotlyServerURL": "https://plot.ly"
       },
       "data": [
        {
         "hovertemplate": "number=%{x}<br>stage=%{y}<extra></extra>",
         "legendgroup": "",
         "marker": {
          "color": "#636efa"
         },
         "name": "",
         "orientation": "h",
         "showlegend": false,
         "type": "funnel",
         "x": [
          7419,
          4593,
          3734,
          3539
         ],
         "xaxis": "x",
         "y": [
          "MainScreenAppear",
          "OffersScreenAppear",
          "CartScreenAppear",
          "PaymentScreenSuccessful"
         ],
         "yaxis": "y"
        }
       ],
       "layout": {
        "legend": {
         "tracegroupgap": 0
        },
        "margin": {
         "t": 60
        },
        "template": {
         "data": {
          "bar": [
           {
            "error_x": {
             "color": "#2a3f5f"
            },
            "error_y": {
             "color": "#2a3f5f"
            },
            "marker": {
             "line": {
              "color": "#E5ECF6",
              "width": 0.5
             },
             "pattern": {
              "fillmode": "overlay",
              "size": 10,
              "solidity": 0.2
             }
            },
            "type": "bar"
           }
          ],
          "barpolar": [
           {
            "marker": {
             "line": {
              "color": "#E5ECF6",
              "width": 0.5
             },
             "pattern": {
              "fillmode": "overlay",
              "size": 10,
              "solidity": 0.2
             }
            },
            "type": "barpolar"
           }
          ],
          "carpet": [
           {
            "aaxis": {
             "endlinecolor": "#2a3f5f",
             "gridcolor": "white",
             "linecolor": "white",
             "minorgridcolor": "white",
             "startlinecolor": "#2a3f5f"
            },
            "baxis": {
             "endlinecolor": "#2a3f5f",
             "gridcolor": "white",
             "linecolor": "white",
             "minorgridcolor": "white",
             "startlinecolor": "#2a3f5f"
            },
            "type": "carpet"
           }
          ],
          "choropleth": [
           {
            "colorbar": {
             "outlinewidth": 0,
             "ticks": ""
            },
            "type": "choropleth"
           }
          ],
          "contour": [
           {
            "colorbar": {
             "outlinewidth": 0,
             "ticks": ""
            },
            "colorscale": [
             [
              0,
              "#0d0887"
             ],
             [
              0.1111111111111111,
              "#46039f"
             ],
             [
              0.2222222222222222,
              "#7201a8"
             ],
             [
              0.3333333333333333,
              "#9c179e"
             ],
             [
              0.4444444444444444,
              "#bd3786"
             ],
             [
              0.5555555555555556,
              "#d8576b"
             ],
             [
              0.6666666666666666,
              "#ed7953"
             ],
             [
              0.7777777777777778,
              "#fb9f3a"
             ],
             [
              0.8888888888888888,
              "#fdca26"
             ],
             [
              1,
              "#f0f921"
             ]
            ],
            "type": "contour"
           }
          ],
          "contourcarpet": [
           {
            "colorbar": {
             "outlinewidth": 0,
             "ticks": ""
            },
            "type": "contourcarpet"
           }
          ],
          "heatmap": [
           {
            "colorbar": {
             "outlinewidth": 0,
             "ticks": ""
            },
            "colorscale": [
             [
              0,
              "#0d0887"
             ],
             [
              0.1111111111111111,
              "#46039f"
             ],
             [
              0.2222222222222222,
              "#7201a8"
             ],
             [
              0.3333333333333333,
              "#9c179e"
             ],
             [
              0.4444444444444444,
              "#bd3786"
             ],
             [
              0.5555555555555556,
              "#d8576b"
             ],
             [
              0.6666666666666666,
              "#ed7953"
             ],
             [
              0.7777777777777778,
              "#fb9f3a"
             ],
             [
              0.8888888888888888,
              "#fdca26"
             ],
             [
              1,
              "#f0f921"
             ]
            ],
            "type": "heatmap"
           }
          ],
          "heatmapgl": [
           {
            "colorbar": {
             "outlinewidth": 0,
             "ticks": ""
            },
            "colorscale": [
             [
              0,
              "#0d0887"
             ],
             [
              0.1111111111111111,
              "#46039f"
             ],
             [
              0.2222222222222222,
              "#7201a8"
             ],
             [
              0.3333333333333333,
              "#9c179e"
             ],
             [
              0.4444444444444444,
              "#bd3786"
             ],
             [
              0.5555555555555556,
              "#d8576b"
             ],
             [
              0.6666666666666666,
              "#ed7953"
             ],
             [
              0.7777777777777778,
              "#fb9f3a"
             ],
             [
              0.8888888888888888,
              "#fdca26"
             ],
             [
              1,
              "#f0f921"
             ]
            ],
            "type": "heatmapgl"
           }
          ],
          "histogram": [
           {
            "marker": {
             "pattern": {
              "fillmode": "overlay",
              "size": 10,
              "solidity": 0.2
             }
            },
            "type": "histogram"
           }
          ],
          "histogram2d": [
           {
            "colorbar": {
             "outlinewidth": 0,
             "ticks": ""
            },
            "colorscale": [
             [
              0,
              "#0d0887"
             ],
             [
              0.1111111111111111,
              "#46039f"
             ],
             [
              0.2222222222222222,
              "#7201a8"
             ],
             [
              0.3333333333333333,
              "#9c179e"
             ],
             [
              0.4444444444444444,
              "#bd3786"
             ],
             [
              0.5555555555555556,
              "#d8576b"
             ],
             [
              0.6666666666666666,
              "#ed7953"
             ],
             [
              0.7777777777777778,
              "#fb9f3a"
             ],
             [
              0.8888888888888888,
              "#fdca26"
             ],
             [
              1,
              "#f0f921"
             ]
            ],
            "type": "histogram2d"
           }
          ],
          "histogram2dcontour": [
           {
            "colorbar": {
             "outlinewidth": 0,
             "ticks": ""
            },
            "colorscale": [
             [
              0,
              "#0d0887"
             ],
             [
              0.1111111111111111,
              "#46039f"
             ],
             [
              0.2222222222222222,
              "#7201a8"
             ],
             [
              0.3333333333333333,
              "#9c179e"
             ],
             [
              0.4444444444444444,
              "#bd3786"
             ],
             [
              0.5555555555555556,
              "#d8576b"
             ],
             [
              0.6666666666666666,
              "#ed7953"
             ],
             [
              0.7777777777777778,
              "#fb9f3a"
             ],
             [
              0.8888888888888888,
              "#fdca26"
             ],
             [
              1,
              "#f0f921"
             ]
            ],
            "type": "histogram2dcontour"
           }
          ],
          "mesh3d": [
           {
            "colorbar": {
             "outlinewidth": 0,
             "ticks": ""
            },
            "type": "mesh3d"
           }
          ],
          "parcoords": [
           {
            "line": {
             "colorbar": {
              "outlinewidth": 0,
              "ticks": ""
             }
            },
            "type": "parcoords"
           }
          ],
          "pie": [
           {
            "automargin": true,
            "type": "pie"
           }
          ],
          "scatter": [
           {
            "fillpattern": {
             "fillmode": "overlay",
             "size": 10,
             "solidity": 0.2
            },
            "type": "scatter"
           }
          ],
          "scatter3d": [
           {
            "line": {
             "colorbar": {
              "outlinewidth": 0,
              "ticks": ""
             }
            },
            "marker": {
             "colorbar": {
              "outlinewidth": 0,
              "ticks": ""
             }
            },
            "type": "scatter3d"
           }
          ],
          "scattercarpet": [
           {
            "marker": {
             "colorbar": {
              "outlinewidth": 0,
              "ticks": ""
             }
            },
            "type": "scattercarpet"
           }
          ],
          "scattergeo": [
           {
            "marker": {
             "colorbar": {
              "outlinewidth": 0,
              "ticks": ""
             }
            },
            "type": "scattergeo"
           }
          ],
          "scattergl": [
           {
            "marker": {
             "colorbar": {
              "outlinewidth": 0,
              "ticks": ""
             }
            },
            "type": "scattergl"
           }
          ],
          "scattermapbox": [
           {
            "marker": {
             "colorbar": {
              "outlinewidth": 0,
              "ticks": ""
             }
            },
            "type": "scattermapbox"
           }
          ],
          "scatterpolar": [
           {
            "marker": {
             "colorbar": {
              "outlinewidth": 0,
              "ticks": ""
             }
            },
            "type": "scatterpolar"
           }
          ],
          "scatterpolargl": [
           {
            "marker": {
             "colorbar": {
              "outlinewidth": 0,
              "ticks": ""
             }
            },
            "type": "scatterpolargl"
           }
          ],
          "scatterternary": [
           {
            "marker": {
             "colorbar": {
              "outlinewidth": 0,
              "ticks": ""
             }
            },
            "type": "scatterternary"
           }
          ],
          "surface": [
           {
            "colorbar": {
             "outlinewidth": 0,
             "ticks": ""
            },
            "colorscale": [
             [
              0,
              "#0d0887"
             ],
             [
              0.1111111111111111,
              "#46039f"
             ],
             [
              0.2222222222222222,
              "#7201a8"
             ],
             [
              0.3333333333333333,
              "#9c179e"
             ],
             [
              0.4444444444444444,
              "#bd3786"
             ],
             [
              0.5555555555555556,
              "#d8576b"
             ],
             [
              0.6666666666666666,
              "#ed7953"
             ],
             [
              0.7777777777777778,
              "#fb9f3a"
             ],
             [
              0.8888888888888888,
              "#fdca26"
             ],
             [
              1,
              "#f0f921"
             ]
            ],
            "type": "surface"
           }
          ],
          "table": [
           {
            "cells": {
             "fill": {
              "color": "#EBF0F8"
             },
             "line": {
              "color": "white"
             }
            },
            "header": {
             "fill": {
              "color": "#C8D4E3"
             },
             "line": {
              "color": "white"
             }
            },
            "type": "table"
           }
          ]
         },
         "layout": {
          "annotationdefaults": {
           "arrowcolor": "#2a3f5f",
           "arrowhead": 0,
           "arrowwidth": 1
          },
          "autotypenumbers": "strict",
          "coloraxis": {
           "colorbar": {
            "outlinewidth": 0,
            "ticks": ""
           }
          },
          "colorscale": {
           "diverging": [
            [
             0,
             "#8e0152"
            ],
            [
             0.1,
             "#c51b7d"
            ],
            [
             0.2,
             "#de77ae"
            ],
            [
             0.3,
             "#f1b6da"
            ],
            [
             0.4,
             "#fde0ef"
            ],
            [
             0.5,
             "#f7f7f7"
            ],
            [
             0.6,
             "#e6f5d0"
            ],
            [
             0.7,
             "#b8e186"
            ],
            [
             0.8,
             "#7fbc41"
            ],
            [
             0.9,
             "#4d9221"
            ],
            [
             1,
             "#276419"
            ]
           ],
           "sequential": [
            [
             0,
             "#0d0887"
            ],
            [
             0.1111111111111111,
             "#46039f"
            ],
            [
             0.2222222222222222,
             "#7201a8"
            ],
            [
             0.3333333333333333,
             "#9c179e"
            ],
            [
             0.4444444444444444,
             "#bd3786"
            ],
            [
             0.5555555555555556,
             "#d8576b"
            ],
            [
             0.6666666666666666,
             "#ed7953"
            ],
            [
             0.7777777777777778,
             "#fb9f3a"
            ],
            [
             0.8888888888888888,
             "#fdca26"
            ],
            [
             1,
             "#f0f921"
            ]
           ],
           "sequentialminus": [
            [
             0,
             "#0d0887"
            ],
            [
             0.1111111111111111,
             "#46039f"
            ],
            [
             0.2222222222222222,
             "#7201a8"
            ],
            [
             0.3333333333333333,
             "#9c179e"
            ],
            [
             0.4444444444444444,
             "#bd3786"
            ],
            [
             0.5555555555555556,
             "#d8576b"
            ],
            [
             0.6666666666666666,
             "#ed7953"
            ],
            [
             0.7777777777777778,
             "#fb9f3a"
            ],
            [
             0.8888888888888888,
             "#fdca26"
            ],
            [
             1,
             "#f0f921"
            ]
           ]
          },
          "colorway": [
           "#636efa",
           "#EF553B",
           "#00cc96",
           "#ab63fa",
           "#FFA15A",
           "#19d3f3",
           "#FF6692",
           "#B6E880",
           "#FF97FF",
           "#FECB52"
          ],
          "font": {
           "color": "#2a3f5f"
          },
          "geo": {
           "bgcolor": "white",
           "lakecolor": "white",
           "landcolor": "#E5ECF6",
           "showlakes": true,
           "showland": true,
           "subunitcolor": "white"
          },
          "hoverlabel": {
           "align": "left"
          },
          "hovermode": "closest",
          "mapbox": {
           "style": "light"
          },
          "paper_bgcolor": "white",
          "plot_bgcolor": "#E5ECF6",
          "polar": {
           "angularaxis": {
            "gridcolor": "white",
            "linecolor": "white",
            "ticks": ""
           },
           "bgcolor": "#E5ECF6",
           "radialaxis": {
            "gridcolor": "white",
            "linecolor": "white",
            "ticks": ""
           }
          },
          "scene": {
           "xaxis": {
            "backgroundcolor": "#E5ECF6",
            "gridcolor": "white",
            "gridwidth": 2,
            "linecolor": "white",
            "showbackground": true,
            "ticks": "",
            "zerolinecolor": "white"
           },
           "yaxis": {
            "backgroundcolor": "#E5ECF6",
            "gridcolor": "white",
            "gridwidth": 2,
            "linecolor": "white",
            "showbackground": true,
            "ticks": "",
            "zerolinecolor": "white"
           },
           "zaxis": {
            "backgroundcolor": "#E5ECF6",
            "gridcolor": "white",
            "gridwidth": 2,
            "linecolor": "white",
            "showbackground": true,
            "ticks": "",
            "zerolinecolor": "white"
           }
          },
          "shapedefaults": {
           "line": {
            "color": "#2a3f5f"
           }
          },
          "ternary": {
           "aaxis": {
            "gridcolor": "white",
            "linecolor": "white",
            "ticks": ""
           },
           "baxis": {
            "gridcolor": "white",
            "linecolor": "white",
            "ticks": ""
           },
           "bgcolor": "#E5ECF6",
           "caxis": {
            "gridcolor": "white",
            "linecolor": "white",
            "ticks": ""
           }
          },
          "title": {
           "x": 0.05
          },
          "xaxis": {
           "automargin": true,
           "gridcolor": "white",
           "linecolor": "white",
           "ticks": "",
           "title": {
            "standoff": 15
           },
           "zerolinecolor": "white",
           "zerolinewidth": 2
          },
          "yaxis": {
           "automargin": true,
           "gridcolor": "white",
           "linecolor": "white",
           "ticks": "",
           "title": {
            "standoff": 15
           },
           "zerolinecolor": "white",
           "zerolinewidth": 2
          }
         }
        },
        "title": {
         "text": "Funnel"
        },
        "xaxis": {
         "anchor": "y",
         "domain": [
          0,
          1
         ],
         "title": {
          "text": "number"
         }
        },
        "yaxis": {
         "anchor": "x",
         "domain": [
          0,
          1
         ],
         "title": {
          "text": "stage"
         }
        }
       }
      }
     },
     "metadata": {},
     "output_type": "display_data"
    }
   ],
   "source": [
    "data = dict(\n",
    "    number=[user_counts.loc[0, 'unique_deviceidhash_count'], user_counts.loc[1, 'unique_deviceidhash_count'], user_counts.loc[2, 'unique_deviceidhash_count'], user_counts.loc[3, 'unique_deviceidhash_count']],\n",
    "    stage=[user_counts.loc[0, 'eventname'], user_counts.loc[1, 'eventname'], user_counts.loc[2, 'eventname'], user_counts.loc[3, 'eventname']])\n",
    "fig = px.funnel(data, x='number', y='stage')\n",
    "fig.update_layout(title='Funnel', title_x = 0.5)\n",
    "fig.update_layout(title='Funnel', title_x = 0.5)\n",
    "fig.show()"
   ]
  },
  {
   "cell_type": "markdown",
   "metadata": {},
   "source": [
    "Analyzing the table and the graphs above, the following conclusions can be made:\n",
    "\n",
    "- The largest number of users drops off between the events 'MainScreenAppear' and 'OffersScreenAppear'. The loss is 2,826 users or 38.09%, which indicates potential issues at this stage — perhaps users find the offers unappealing or encounter technical problems.\n",
    "- The proportion of users who reach from the first to the last event, i.e., complete the entire funnel, is 47.7%, or 3,539 out of 7,419 users complete the payment, which can be characterized as a good conversion rate.\n",
    "- The conversion at the last step — between 'CartScreenAppear' and 'PaymentScreenSuccessful' — is quite high, meaning that those who reached the payment stage are highly likely to complete the purchase.\n",
    "\n",
    "The main recommendation is to pay attention to and investigate the drop-off between 'MainScreenAppear' and 'OffersScreenAppear'. To improve conversion, focus on optimizing the transition from the main screen to the offers screen, possibly through more precise targeting of offers or addressing potential technical issues."
   ]
  },
  {
   "cell_type": "markdown",
   "metadata": {},
   "source": [
    "## A/A/B-testing analysis"
   ]
  },
  {
   "cell_type": "markdown",
   "metadata": {},
   "source": [
    "Let's move on to the second stage of the analysis and take a look at the results of the A/A/B test. First, let's take a look at the number of users in each experimental group."
   ]
  },
  {
   "cell_type": "code",
   "execution_count": 57,
   "metadata": {},
   "outputs": [
    {
     "data": {
      "text/html": [
       "<div>\n",
       "<style scoped>\n",
       "    .dataframe tbody tr th:only-of-type {\n",
       "        vertical-align: middle;\n",
       "    }\n",
       "\n",
       "    .dataframe tbody tr th {\n",
       "        vertical-align: top;\n",
       "    }\n",
       "\n",
       "    .dataframe thead th {\n",
       "        text-align: right;\n",
       "    }\n",
       "</style>\n",
       "<table border=\"1\" class=\"dataframe\">\n",
       "  <thead>\n",
       "    <tr style=\"text-align: right;\">\n",
       "      <th></th>\n",
       "      <th>expid</th>\n",
       "      <th>total_deviceidhash</th>\n",
       "    </tr>\n",
       "  </thead>\n",
       "  <tbody>\n",
       "    <tr>\n",
       "      <th>0</th>\n",
       "      <td>248</td>\n",
       "      <td>2537</td>\n",
       "    </tr>\n",
       "    <tr>\n",
       "      <th>1</th>\n",
       "      <td>247</td>\n",
       "      <td>2513</td>\n",
       "    </tr>\n",
       "    <tr>\n",
       "      <th>2</th>\n",
       "      <td>246</td>\n",
       "      <td>2484</td>\n",
       "    </tr>\n",
       "  </tbody>\n",
       "</table>\n",
       "</div>"
      ],
      "text/plain": [
       "   expid  total_deviceidhash\n",
       "0    248                2537\n",
       "1    247                2513\n",
       "2    246                2484"
      ]
     },
     "execution_count": 57,
     "metadata": {},
     "output_type": "execute_result"
    }
   ],
   "source": [
    "expgroup_counts = df.groupby('expid')['deviceidhash'].nunique().sort_values(ascending=False).reset_index()\n",
    "expgroup_counts.rename(columns={'deviceidhash': 'total_deviceidhash'}, inplace=True)\n",
    "expgroup_counts"
   ]
  },
  {
   "cell_type": "markdown",
   "metadata": {},
   "source": [
    "- 246 — control group with 2,484 users\n",
    "- 247 — also a control group with 2,513 users\n",
    "- 248 — experimental group with 2,537 users\n",
    "\n",
    "We can observe that users are not evenly distributed among the segments, which creates a risk of obtaining completely incorrect results in the A/B test analysis. Let's check if there are any overlapping users who ended up in multiple groups at once. The reason for this is that during A/B testing, errors can occur in logging and distributing users across groups."
   ]
  },
  {
   "cell_type": "code",
   "execution_count": 58,
   "metadata": {},
   "outputs": [
    {
     "data": {
      "text/plain": [
       "np.int64(0)"
      ]
     },
     "execution_count": 58,
     "metadata": {},
     "output_type": "execute_result"
    }
   ],
   "source": [
    "df.groupby('deviceidhash').agg({'expid':'nunique'}).query('expid > 1')['expid'].count()"
   ]
  },
  {
   "cell_type": "markdown",
   "metadata": {},
   "source": [
    "There are no overlapping users. The largest difference in the number of users between the groups is 2%. The risk that this may affect the results of the A/B testing exists, but it is relatively small. We can continue with the work."
   ]
  },
  {
   "cell_type": "markdown",
   "metadata": {},
   "source": [
    "Before starting the analysis of the A/B experiment, we will check the correctness of all mechanisms and calculations using an A/A experiment. We will verify if the statistical tests detect any differences between the samples 246 and 247. If the traffic and the tool used for the A/A test are reliable, there should be no differences in the metrics. The number of users in the groups differs by about 1%, and visitors assigned to one of the groups remained in that group until the end of the test, which should contribute to the successful execution of the test."
   ]
  },
  {
   "cell_type": "markdown",
   "metadata": {},
   "source": [
    "For this purpose, the best choice is the z-test, as it is used to test hypotheses about the equality of proportions. Since we are dealing with user conversion, the most suitable test for checking the equality of conversions between the two control groups is the Z-test for proportions."
   ]
  },
  {
   "cell_type": "markdown",
   "metadata": {},
   "source": [
    "The total number of users in groups 246 and 247 is already known to us."
   ]
  },
  {
   "cell_type": "code",
   "execution_count": 59,
   "metadata": {},
   "outputs": [],
   "source": [
    "trials_all_246_247 = np.array([expgroup_counts.loc[2, 'total_deviceidhash'],expgroup_counts.loc[1, 'total_deviceidhash']])"
   ]
  },
  {
   "cell_type": "markdown",
   "metadata": {},
   "source": [
    "For each of the control groups (246 and 247), we will count the number of users who completed the funnel (i.e., successfully converted)."
   ]
  },
  {
   "cell_type": "code",
   "execution_count": 60,
   "metadata": {},
   "outputs": [
    {
     "data": {
      "text/html": [
       "<div>\n",
       "<style scoped>\n",
       "    .dataframe tbody tr th:only-of-type {\n",
       "        vertical-align: middle;\n",
       "    }\n",
       "\n",
       "    .dataframe tbody tr th {\n",
       "        vertical-align: top;\n",
       "    }\n",
       "\n",
       "    .dataframe thead th {\n",
       "        text-align: right;\n",
       "    }\n",
       "</style>\n",
       "<table border=\"1\" class=\"dataframe\">\n",
       "  <thead>\n",
       "    <tr style=\"text-align: right;\">\n",
       "      <th></th>\n",
       "      <th>expid</th>\n",
       "      <th>payment_screen_deviceidhash</th>\n",
       "    </tr>\n",
       "  </thead>\n",
       "  <tbody>\n",
       "    <tr>\n",
       "      <th>0</th>\n",
       "      <td>246</td>\n",
       "      <td>1200</td>\n",
       "    </tr>\n",
       "    <tr>\n",
       "      <th>1</th>\n",
       "      <td>248</td>\n",
       "      <td>1181</td>\n",
       "    </tr>\n",
       "    <tr>\n",
       "      <th>2</th>\n",
       "      <td>247</td>\n",
       "      <td>1158</td>\n",
       "    </tr>\n",
       "  </tbody>\n",
       "</table>\n",
       "</div>"
      ],
      "text/plain": [
       "   expid  payment_screen_deviceidhash\n",
       "0    246                         1200\n",
       "1    248                         1181\n",
       "2    247                         1158"
      ]
     },
     "execution_count": 60,
     "metadata": {},
     "output_type": "execute_result"
    }
   ],
   "source": [
    "expgroup_counts_pscreen = df.query('eventname == \"PaymentScreenSuccessful\"').groupby('expid')['deviceidhash'].nunique().sort_values(ascending=False).reset_index()\n",
    "expgroup_counts_pscreen.rename(columns={'deviceidhash': 'payment_screen_deviceidhash'}, inplace=True)\n",
    "expgroup_counts_pscreen"
   ]
  },
  {
   "cell_type": "code",
   "execution_count": 61,
   "metadata": {},
   "outputs": [],
   "source": [
    "successes_buy_246_247 = np.array([expgroup_counts_pscreen.loc[0, 'payment_screen_deviceidhash'],expgroup_counts_pscreen.loc[2, 'payment_screen_deviceidhash']])"
   ]
  },
  {
   "cell_type": "markdown",
   "metadata": {},
   "source": [
    "- H0 = The proportions of users from control groups 246 and 247 who reached the PaymentScreenSuccessful event are equal.\n",
    "- H1 = The proportions of users from control groups 246 and 247 who reached the PaymentScreenSuccessful event are different.\n",
    "- Significance level 𝛼 = 0.05"
   ]
  },
  {
   "cell_type": "code",
   "execution_count": 62,
   "metadata": {},
   "outputs": [],
   "source": [
    "alpha = 0.05"
   ]
  },
  {
   "cell_type": "markdown",
   "metadata": {},
   "source": [
    "We substitute the values into the function to test the hypothesis of equality of proportions."
   ]
  },
  {
   "cell_type": "code",
   "execution_count": 63,
   "metadata": {},
   "outputs": [
    {
     "data": {
      "text/plain": [
       "'p-value:'"
      ]
     },
     "metadata": {},
     "output_type": "display_data"
    },
    {
     "data": {
      "text/plain": [
       "np.float64(0.11456679313141849)"
      ]
     },
     "metadata": {},
     "output_type": "display_data"
    },
    {
     "data": {
      "text/plain": [
       "'Failed to reject the null hypothesis, no grounds to consider the proportions different'"
      ]
     },
     "metadata": {},
     "output_type": "display_data"
    }
   ],
   "source": [
    "z_test_proportions(successes_buy_246_247, trials_all_246_247, alpha)"
   ]
  },
  {
   "cell_type": "markdown",
   "metadata": {},
   "source": [
    "The results of the test indicate that the statistical criteria do not find a difference between samples 246 and 247, meaning the A/A test was conducted successfully. However, before analyzing the results of the A/B test, let's check other events as well."
   ]
  },
  {
   "cell_type": "markdown",
   "metadata": {},
   "source": [
    "Let's choose the most popular event, MainScreenAppear. We will count the number of users who triggered this event in each of the control groups and check if the difference between the groups is statistically significant."
   ]
  },
  {
   "cell_type": "code",
   "execution_count": 64,
   "metadata": {},
   "outputs": [
    {
     "data": {
      "text/html": [
       "<div>\n",
       "<style scoped>\n",
       "    .dataframe tbody tr th:only-of-type {\n",
       "        vertical-align: middle;\n",
       "    }\n",
       "\n",
       "    .dataframe tbody tr th {\n",
       "        vertical-align: top;\n",
       "    }\n",
       "\n",
       "    .dataframe thead th {\n",
       "        text-align: right;\n",
       "    }\n",
       "</style>\n",
       "<table border=\"1\" class=\"dataframe\">\n",
       "  <thead>\n",
       "    <tr style=\"text-align: right;\">\n",
       "      <th></th>\n",
       "      <th>expid</th>\n",
       "      <th>main_screen_deviceidhash</th>\n",
       "    </tr>\n",
       "  </thead>\n",
       "  <tbody>\n",
       "    <tr>\n",
       "      <th>0</th>\n",
       "      <td>248</td>\n",
       "      <td>2493</td>\n",
       "    </tr>\n",
       "    <tr>\n",
       "      <th>1</th>\n",
       "      <td>247</td>\n",
       "      <td>2476</td>\n",
       "    </tr>\n",
       "    <tr>\n",
       "      <th>2</th>\n",
       "      <td>246</td>\n",
       "      <td>2450</td>\n",
       "    </tr>\n",
       "  </tbody>\n",
       "</table>\n",
       "</div>"
      ],
      "text/plain": [
       "   expid  main_screen_deviceidhash\n",
       "0    248                      2493\n",
       "1    247                      2476\n",
       "2    246                      2450"
      ]
     },
     "execution_count": 64,
     "metadata": {},
     "output_type": "execute_result"
    }
   ],
   "source": [
    "expgroup_counts_mscreen = df.query('eventname == \"MainScreenAppear\"').groupby('expid')['deviceidhash'].nunique().sort_values(ascending=False).reset_index()\n",
    "expgroup_counts_mscreen.rename(columns={'deviceidhash': 'main_screen_deviceidhash'}, inplace=True)\n",
    "expgroup_counts_mscreen"
   ]
  },
  {
   "cell_type": "code",
   "execution_count": 65,
   "metadata": {},
   "outputs": [],
   "source": [
    "successes_mscreen_246_247 = np.array([expgroup_counts_mscreen.loc[2, 'main_screen_deviceidhash'],expgroup_counts_mscreen.loc[1, 'main_screen_deviceidhash']])"
   ]
  },
  {
   "cell_type": "markdown",
   "metadata": {},
   "source": [
    "- H0 = The proportions of users in control groups 246 and 247 who reached the MainScreenAppear event are the same.\n",
    "- H1 = The proportions of users in control groups 246 and 247 who reached the MainScreenAppear event are different.\n",
    "- Significance level 𝛼 = 0.05"
   ]
  },
  {
   "cell_type": "code",
   "execution_count": 66,
   "metadata": {},
   "outputs": [
    {
     "data": {
      "text/plain": [
       "'p-value:'"
      ]
     },
     "metadata": {},
     "output_type": "display_data"
    },
    {
     "data": {
      "text/plain": [
       "np.float64(0.7570597232046099)"
      ]
     },
     "metadata": {},
     "output_type": "display_data"
    },
    {
     "data": {
      "text/plain": [
       "'Failed to reject the null hypothesis, no grounds to consider the proportions different'"
      ]
     },
     "metadata": {},
     "output_type": "display_data"
    }
   ],
   "source": [
    "z_test_proportions(successes_mscreen_246_247, trials_all_246_247, alpha)"
   ]
  },
  {
   "cell_type": "markdown",
   "metadata": {},
   "source": [
    "No, the difference between the groups cannot be considered statistically significant – the result is the same as for the payment screen."
   ]
  },
  {
   "cell_type": "markdown",
   "metadata": {},
   "source": [
    "Let's do the same for all other events. Can we confidently say that the group division is working correctly?"
   ]
  },
  {
   "cell_type": "markdown",
   "metadata": {},
   "source": [
    "Let's take the event \"OffersScreenAppear\"."
   ]
  },
  {
   "cell_type": "code",
   "execution_count": 67,
   "metadata": {},
   "outputs": [
    {
     "data": {
      "text/html": [
       "<div>\n",
       "<style scoped>\n",
       "    .dataframe tbody tr th:only-of-type {\n",
       "        vertical-align: middle;\n",
       "    }\n",
       "\n",
       "    .dataframe tbody tr th {\n",
       "        vertical-align: top;\n",
       "    }\n",
       "\n",
       "    .dataframe thead th {\n",
       "        text-align: right;\n",
       "    }\n",
       "</style>\n",
       "<table border=\"1\" class=\"dataframe\">\n",
       "  <thead>\n",
       "    <tr style=\"text-align: right;\">\n",
       "      <th></th>\n",
       "      <th>expid</th>\n",
       "      <th>offers_screen_deviceidhash</th>\n",
       "    </tr>\n",
       "  </thead>\n",
       "  <tbody>\n",
       "    <tr>\n",
       "      <th>0</th>\n",
       "      <td>246</td>\n",
       "      <td>1542</td>\n",
       "    </tr>\n",
       "    <tr>\n",
       "      <th>1</th>\n",
       "      <td>248</td>\n",
       "      <td>1531</td>\n",
       "    </tr>\n",
       "    <tr>\n",
       "      <th>2</th>\n",
       "      <td>247</td>\n",
       "      <td>1520</td>\n",
       "    </tr>\n",
       "  </tbody>\n",
       "</table>\n",
       "</div>"
      ],
      "text/plain": [
       "   expid  offers_screen_deviceidhash\n",
       "0    246                        1542\n",
       "1    248                        1531\n",
       "2    247                        1520"
      ]
     },
     "execution_count": 67,
     "metadata": {},
     "output_type": "execute_result"
    }
   ],
   "source": [
    "expgroup_counts_oscreen = df.query('eventname == \"OffersScreenAppear\"').groupby('expid')['deviceidhash'].nunique().sort_values(ascending=False).reset_index()\n",
    "expgroup_counts_oscreen.rename(columns={'deviceidhash': 'offers_screen_deviceidhash'}, inplace=True)\n",
    "expgroup_counts_oscreen"
   ]
  },
  {
   "cell_type": "code",
   "execution_count": 68,
   "metadata": {},
   "outputs": [],
   "source": [
    "successes_oscreen_246_247 = np.array([expgroup_counts_oscreen.loc[0, 'offers_screen_deviceidhash'],expgroup_counts_oscreen.loc[2, 'offers_screen_deviceidhash']])"
   ]
  },
  {
   "cell_type": "markdown",
   "metadata": {},
   "source": [
    "- H0 = The proportions of users from the control groups 246 and 247 who reached the event \"OffersScreenAppear\" are the same.\n",
    "- H1 = The proportions of users from the control groups 246 and 247 who reached the event \"OffersScreenAppear\" are different.\n",
    "- Significance level 𝛼 = 0.05"
   ]
  },
  {
   "cell_type": "code",
   "execution_count": 69,
   "metadata": {},
   "outputs": [
    {
     "data": {
      "text/plain": [
       "'p-value:'"
      ]
     },
     "metadata": {},
     "output_type": "display_data"
    },
    {
     "data": {
      "text/plain": [
       "np.float64(0.2480954578522181)"
      ]
     },
     "metadata": {},
     "output_type": "display_data"
    },
    {
     "data": {
      "text/plain": [
       "'Failed to reject the null hypothesis, no grounds to consider the proportions different'"
      ]
     },
     "metadata": {},
     "output_type": "display_data"
    }
   ],
   "source": [
    "z_test_proportions(successes_oscreen_246_247, trials_all_246_247, alpha)"
   ]
  },
  {
   "cell_type": "markdown",
   "metadata": {},
   "source": [
    "No, the difference between the groups cannot be considered statistically significant."
   ]
  },
  {
   "cell_type": "markdown",
   "metadata": {},
   "source": []
  },
  {
   "cell_type": "markdown",
   "metadata": {},
   "source": [
    "Let's take the event \"CartScreenAppear\""
   ]
  },
  {
   "cell_type": "markdown",
   "metadata": {},
   "source": []
  },
  {
   "cell_type": "code",
   "execution_count": 70,
   "metadata": {},
   "outputs": [
    {
     "data": {
      "text/html": [
       "<div>\n",
       "<style scoped>\n",
       "    .dataframe tbody tr th:only-of-type {\n",
       "        vertical-align: middle;\n",
       "    }\n",
       "\n",
       "    .dataframe tbody tr th {\n",
       "        vertical-align: top;\n",
       "    }\n",
       "\n",
       "    .dataframe thead th {\n",
       "        text-align: right;\n",
       "    }\n",
       "</style>\n",
       "<table border=\"1\" class=\"dataframe\">\n",
       "  <thead>\n",
       "    <tr style=\"text-align: right;\">\n",
       "      <th></th>\n",
       "      <th>expid</th>\n",
       "      <th>cart_screen_deviceidhash</th>\n",
       "    </tr>\n",
       "  </thead>\n",
       "  <tbody>\n",
       "    <tr>\n",
       "      <th>0</th>\n",
       "      <td>246</td>\n",
       "      <td>1266</td>\n",
       "    </tr>\n",
       "    <tr>\n",
       "      <th>1</th>\n",
       "      <td>247</td>\n",
       "      <td>1238</td>\n",
       "    </tr>\n",
       "    <tr>\n",
       "      <th>2</th>\n",
       "      <td>248</td>\n",
       "      <td>1230</td>\n",
       "    </tr>\n",
       "  </tbody>\n",
       "</table>\n",
       "</div>"
      ],
      "text/plain": [
       "   expid  cart_screen_deviceidhash\n",
       "0    246                      1266\n",
       "1    247                      1238\n",
       "2    248                      1230"
      ]
     },
     "execution_count": 70,
     "metadata": {},
     "output_type": "execute_result"
    }
   ],
   "source": [
    "expgroup_counts_cscreen = df.query('eventname == \"CartScreenAppear\"').groupby('expid')['deviceidhash'].nunique().sort_values(ascending=False).reset_index()\n",
    "expgroup_counts_cscreen.rename(columns={'deviceidhash': 'cart_screen_deviceidhash'}, inplace=True)\n",
    "expgroup_counts_cscreen"
   ]
  },
  {
   "cell_type": "code",
   "execution_count": 71,
   "metadata": {},
   "outputs": [],
   "source": [
    "successes_cscreen_246_247 = np.array([expgroup_counts_cscreen.loc[0, 'cart_screen_deviceidhash'],expgroup_counts_cscreen.loc[1, 'cart_screen_deviceidhash']])"
   ]
  },
  {
   "cell_type": "markdown",
   "metadata": {},
   "source": [
    "- H0 = The proportions of users from control groups 246 and 247 who reached the event \"CartScreenAppear\" are the same.\n",
    "- H1 = The proportions of users from control groups 246 and 247 who reached the event \"CartScreenAppear\" are different.\n",
    "- Significance level 𝛼 = 0.05"
   ]
  },
  {
   "cell_type": "code",
   "execution_count": 72,
   "metadata": {},
   "outputs": [
    {
     "data": {
      "text/plain": [
       "'p-value:'"
      ]
     },
     "metadata": {},
     "output_type": "display_data"
    },
    {
     "data": {
      "text/plain": [
       "np.float64(0.22883372237997213)"
      ]
     },
     "metadata": {},
     "output_type": "display_data"
    },
    {
     "data": {
      "text/plain": [
       "'Failed to reject the null hypothesis, no grounds to consider the proportions different'"
      ]
     },
     "metadata": {},
     "output_type": "display_data"
    }
   ],
   "source": [
    "z_test_proportions(successes_cscreen_246_247, trials_all_246_247, alpha)"
   ]
  },
  {
   "cell_type": "markdown",
   "metadata": {},
   "source": [
    "The result for all comparisons is the same — there are no statistically significant differences between groups 246 and 247, meaning we can confidently say that the group division is working correctly and move on to A/B testing.\n",
    "\n",
    "\n",
    "\n",
    "\n",
    "\n",
    "\n",
    "\n"
   ]
  },
  {
   "cell_type": "markdown",
   "metadata": {},
   "source": []
  },
  {
   "cell_type": "markdown",
   "metadata": {},
   "source": [
    "Let's proceed similarly with the group that has the changed font — group 248. We'll compare the results with each of the control groups individually for each event, as well as compare the results with the combined control group. Then, we'll analyze the conclusions from the experiment."
   ]
  },
  {
   "cell_type": "markdown",
   "metadata": {},
   "source": [
    "Let's combine the number of users who performed each event in each group into one dataset."
   ]
  },
  {
   "cell_type": "code",
   "execution_count": 73,
   "metadata": {},
   "outputs": [
    {
     "data": {
      "text/html": [
       "<div>\n",
       "<style scoped>\n",
       "    .dataframe tbody tr th:only-of-type {\n",
       "        vertical-align: middle;\n",
       "    }\n",
       "\n",
       "    .dataframe tbody tr th {\n",
       "        vertical-align: top;\n",
       "    }\n",
       "\n",
       "    .dataframe thead th {\n",
       "        text-align: right;\n",
       "    }\n",
       "</style>\n",
       "<table border=\"1\" class=\"dataframe\">\n",
       "  <thead>\n",
       "    <tr style=\"text-align: right;\">\n",
       "      <th>expid</th>\n",
       "      <th>246</th>\n",
       "      <th>247</th>\n",
       "      <th>248</th>\n",
       "    </tr>\n",
       "  </thead>\n",
       "  <tbody>\n",
       "    <tr>\n",
       "      <th>total_deviceidhash</th>\n",
       "      <td>2484</td>\n",
       "      <td>2513</td>\n",
       "      <td>2537</td>\n",
       "    </tr>\n",
       "    <tr>\n",
       "      <th>main_screen_deviceidhash</th>\n",
       "      <td>2450</td>\n",
       "      <td>2476</td>\n",
       "      <td>2493</td>\n",
       "    </tr>\n",
       "    <tr>\n",
       "      <th>offers_screen_deviceidhash</th>\n",
       "      <td>1542</td>\n",
       "      <td>1520</td>\n",
       "      <td>1531</td>\n",
       "    </tr>\n",
       "    <tr>\n",
       "      <th>cart_screen_deviceidhash</th>\n",
       "      <td>1266</td>\n",
       "      <td>1238</td>\n",
       "      <td>1230</td>\n",
       "    </tr>\n",
       "    <tr>\n",
       "      <th>payment_screen_deviceidhash</th>\n",
       "      <td>1200</td>\n",
       "      <td>1158</td>\n",
       "      <td>1181</td>\n",
       "    </tr>\n",
       "  </tbody>\n",
       "</table>\n",
       "</div>"
      ],
      "text/plain": [
       "expid                         246   247   248\n",
       "total_deviceidhash           2484  2513  2537\n",
       "main_screen_deviceidhash     2450  2476  2493\n",
       "offers_screen_deviceidhash   1542  1520  1531\n",
       "cart_screen_deviceidhash     1266  1238  1230\n",
       "payment_screen_deviceidhash  1200  1158  1181"
      ]
     },
     "execution_count": 73,
     "metadata": {},
     "output_type": "execute_result"
    }
   ],
   "source": [
    "df_ab = expgroup_counts.merge(expgroup_counts_mscreen, on='expid', how='left')\\\n",
    "                        .merge(expgroup_counts_oscreen, on='expid', how='left')\\\n",
    "                        .merge(expgroup_counts_cscreen, on='expid', how='left')\\\n",
    "                        .merge(expgroup_counts_pscreen, on='expid', how='left')\n",
    "df_ab = df_ab.pivot_table(\n",
    "    index=None,          \n",
    "    columns='expid',     \n",
    "    aggfunc='first'      \n",
    ")\n",
    "\n",
    "df_ab = df_ab.reindex(['total_deviceidhash', 'main_screen_deviceidhash', 'offers_screen_deviceidhash', \n",
    "                       'cart_screen_deviceidhash', 'payment_screen_deviceidhash'])\n",
    "df_ab"
   ]
  },
  {
   "cell_type": "code",
   "execution_count": 74,
   "metadata": {},
   "outputs": [],
   "source": [
    "trials_all_246_248 = np.array([df_ab.iloc[0, 0], df_ab.iloc[0, 2]])\n",
    "trials_all_247_248 = np.array([df_ab.iloc[0, 1], df_ab.iloc[0, 2]])"
   ]
  },
  {
   "cell_type": "code",
   "execution_count": 75,
   "metadata": {},
   "outputs": [],
   "source": [
    "successes_mscreen_246_248 = np.array([df_ab.iloc[1, 0], df_ab.iloc[1, 2]])\n",
    "successes_mscreen_247_248 = np.array([df_ab.iloc[1, 1], df_ab.iloc[1, 2]])"
   ]
  },
  {
   "cell_type": "code",
   "execution_count": 76,
   "metadata": {},
   "outputs": [],
   "source": [
    "successes_oscreen_246_248 = np.array([df_ab.iloc[2, 0], df_ab.iloc[2, 2]])\n",
    "successes_oscreen_247_248 = np.array([df_ab.iloc[2, 1], df_ab.iloc[2, 2]])"
   ]
  },
  {
   "cell_type": "code",
   "execution_count": 77,
   "metadata": {},
   "outputs": [],
   "source": [
    "successes_cscreen_246_248 = np.array([df_ab.iloc[3, 0], df_ab.iloc[3, 2]])\n",
    "successes_cscreen_247_248 = np.array([df_ab.iloc[3, 1], df_ab.iloc[3, 2]])"
   ]
  },
  {
   "cell_type": "code",
   "execution_count": 78,
   "metadata": {},
   "outputs": [],
   "source": [
    "successes_pscreen_246_248 = np.array([df_ab.iloc[4, 0], df_ab.iloc[4, 2]])\n",
    "successes_pscreen_247_248 = np.array([df_ab.iloc[4, 1], df_ab.iloc[4, 2]])"
   ]
  },
  {
   "cell_type": "markdown",
   "metadata": {},
   "source": [
    "- H0 = The proportions of users from control groups 246 and 248 who reached the event \"MainScreenAppear\" are the same.\n",
    "- H1 = The proportions of users from control groups 246 and 248 who reached the event \"MainScreenAppear\" are different.\n",
    "- Significance level 𝛼 = 0.05"
   ]
  },
  {
   "cell_type": "code",
   "execution_count": 79,
   "metadata": {},
   "outputs": [
    {
     "data": {
      "text/plain": [
       "'p-value:'"
      ]
     },
     "metadata": {},
     "output_type": "display_data"
    },
    {
     "data": {
      "text/plain": [
       "np.float64(0.2949721933554552)"
      ]
     },
     "metadata": {},
     "output_type": "display_data"
    },
    {
     "data": {
      "text/plain": [
       "'Failed to reject the null hypothesis, no grounds to consider the proportions different'"
      ]
     },
     "metadata": {},
     "output_type": "display_data"
    }
   ],
   "source": [
    "z_test_proportions(successes_mscreen_246_248, trials_all_246_248, alpha)"
   ]
  },
  {
   "cell_type": "markdown",
   "metadata": {},
   "source": [
    "- H0 = The proportions of users from control groups 246 and 248 who reached the event \"OffersScreenAppear\" are the same.\n",
    "- H1 = The proportions of users from control groups 246 and 248 who reached the event \"OffersScreenAppear\" are different.\n",
    "- Significance level 𝛼 = 0.05"
   ]
  },
  {
   "cell_type": "code",
   "execution_count": 80,
   "metadata": {},
   "outputs": [
    {
     "data": {
      "text/plain": [
       "'p-value:'"
      ]
     },
     "metadata": {},
     "output_type": "display_data"
    },
    {
     "data": {
      "text/plain": [
       "np.float64(0.20836205402738917)"
      ]
     },
     "metadata": {},
     "output_type": "display_data"
    },
    {
     "data": {
      "text/plain": [
       "'Failed to reject the null hypothesis, no grounds to consider the proportions different'"
      ]
     },
     "metadata": {},
     "output_type": "display_data"
    }
   ],
   "source": [
    "z_test_proportions(successes_oscreen_246_248, trials_all_246_248, alpha)"
   ]
  },
  {
   "cell_type": "markdown",
   "metadata": {},
   "source": [
    "- H0 = The proportions of users from control groups 246 and 248 who reached the event \"CartScreenAppear\" are the same.\n",
    "- H1 = The proportions of users from control groups 246 and 248 who reached the event \"CartScreenAppear\" are different.\n",
    "- Significance level 𝛼 = 0.05"
   ]
  },
  {
   "cell_type": "code",
   "execution_count": 81,
   "metadata": {},
   "outputs": [
    {
     "data": {
      "text/plain": [
       "'p-value:'"
      ]
     },
     "metadata": {},
     "output_type": "display_data"
    },
    {
     "data": {
      "text/plain": [
       "np.float64(0.07842923237520116)"
      ]
     },
     "metadata": {},
     "output_type": "display_data"
    },
    {
     "data": {
      "text/plain": [
       "'Failed to reject the null hypothesis, no grounds to consider the proportions different'"
      ]
     },
     "metadata": {},
     "output_type": "display_data"
    }
   ],
   "source": [
    "z_test_proportions(successes_cscreen_246_248, trials_all_246_248, alpha)"
   ]
  },
  {
   "cell_type": "markdown",
   "metadata": {},
   "source": [
    "- H0 = The proportions of users from control groups 246 and 248 who reached the event \"PaymentScreenSuccessful\" are the same.\n",
    "- H1 = The proportions of users from control groups 246 and 248 who reached the event \"PaymentScreenSuccessful\" are different.\n",
    "- Significance level 𝛼 = 0.05"
   ]
  },
  {
   "cell_type": "markdown",
   "metadata": {},
   "source": []
  },
  {
   "cell_type": "code",
   "execution_count": 82,
   "metadata": {},
   "outputs": [
    {
     "data": {
      "text/plain": [
       "'p-value:'"
      ]
     },
     "metadata": {},
     "output_type": "display_data"
    },
    {
     "data": {
      "text/plain": [
       "np.float64(0.2122553275697796)"
      ]
     },
     "metadata": {},
     "output_type": "display_data"
    },
    {
     "data": {
      "text/plain": [
       "'Failed to reject the null hypothesis, no grounds to consider the proportions different'"
      ]
     },
     "metadata": {},
     "output_type": "display_data"
    }
   ],
   "source": [
    "z_test_proportions(successes_pscreen_246_248, trials_all_246_248, alpha)"
   ]
  },
  {
   "cell_type": "markdown",
   "metadata": {},
   "source": [
    "- H0 = The proportions of users from control groups 247 and 248 who reached the event \"MainScreenAppear\" are the same.\n",
    "- H1 = The proportions of users from control groups 247 and 248 who reached the event \"MainScreenAppear\" are different.\n",
    "- Significance level 𝛼 = 0.05"
   ]
  },
  {
   "cell_type": "code",
   "execution_count": 83,
   "metadata": {},
   "outputs": [
    {
     "data": {
      "text/plain": [
       "'p-value:'"
      ]
     },
     "metadata": {},
     "output_type": "display_data"
    },
    {
     "data": {
      "text/plain": [
       "np.float64(0.4587053616621515)"
      ]
     },
     "metadata": {},
     "output_type": "display_data"
    },
    {
     "data": {
      "text/plain": [
       "'Failed to reject the null hypothesis, no grounds to consider the proportions different'"
      ]
     },
     "metadata": {},
     "output_type": "display_data"
    }
   ],
   "source": [
    "z_test_proportions(successes_mscreen_247_248, trials_all_247_248, alpha)"
   ]
  },
  {
   "cell_type": "markdown",
   "metadata": {},
   "source": [
    "- H0 = The proportions of users from control groups 247 and 248 who reached the event \"OffersScreenAppear\" are the same.\n",
    "- H1 = The proportions of users from control groups 247 and 248 who reached the event \"OffersScreenAppear\" are different.\n",
    "- Significance level 𝛼 = 0.05"
   ]
  },
  {
   "cell_type": "code",
   "execution_count": 84,
   "metadata": {},
   "outputs": [
    {
     "data": {
      "text/plain": [
       "'p-value:'"
      ]
     },
     "metadata": {},
     "output_type": "display_data"
    },
    {
     "data": {
      "text/plain": [
       "np.float64(0.9197817830592261)"
      ]
     },
     "metadata": {},
     "output_type": "display_data"
    },
    {
     "data": {
      "text/plain": [
       "'Failed to reject the null hypothesis, no grounds to consider the proportions different'"
      ]
     },
     "metadata": {},
     "output_type": "display_data"
    }
   ],
   "source": [
    "z_test_proportions(successes_oscreen_247_248 , trials_all_247_248, alpha)"
   ]
  },
  {
   "cell_type": "markdown",
   "metadata": {},
   "source": [
    "- H0 = The proportions of users from control groups 247 and 248 who reached the event \"CartScreenAppear\" are the same.\n",
    "- H1 = The proportions of users from control groups 247 and 248 who reached the event \"CartScreenAppear\" are different.\n",
    "- Significance level 𝛼 = 0.05"
   ]
  },
  {
   "cell_type": "markdown",
   "metadata": {},
   "source": []
  },
  {
   "cell_type": "markdown",
   "metadata": {},
   "source": []
  },
  {
   "cell_type": "code",
   "execution_count": 85,
   "metadata": {},
   "outputs": [
    {
     "data": {
      "text/plain": [
       "'p-value:'"
      ]
     },
     "metadata": {},
     "output_type": "display_data"
    },
    {
     "data": {
      "text/plain": [
       "np.float64(0.5786197879539783)"
      ]
     },
     "metadata": {},
     "output_type": "display_data"
    },
    {
     "data": {
      "text/plain": [
       "'Failed to reject the null hypothesis, no grounds to consider the proportions different'"
      ]
     },
     "metadata": {},
     "output_type": "display_data"
    }
   ],
   "source": [
    "z_test_proportions(successes_cscreen_247_248 , trials_all_247_248, alpha)"
   ]
  },
  {
   "cell_type": "markdown",
   "metadata": {},
   "source": [
    "- H0 = The proportions of users from control groups 247 and 248 who reached the event \"PaymentScreenSuccessful\" are the same.\n",
    "- H1 = The proportions of users from control groups 247 and 248 who reached the event \"PaymentScreenSuccessful\" are different.\n",
    "- Significance level 𝛼 = 0.05"
   ]
  },
  {
   "cell_type": "code",
   "execution_count": 86,
   "metadata": {},
   "outputs": [
    {
     "data": {
      "text/plain": [
       "'p-value:'"
      ]
     },
     "metadata": {},
     "output_type": "display_data"
    },
    {
     "data": {
      "text/plain": [
       "np.float64(0.7373415053803964)"
      ]
     },
     "metadata": {},
     "output_type": "display_data"
    },
    {
     "data": {
      "text/plain": [
       "'Failed to reject the null hypothesis, no grounds to consider the proportions different'"
      ]
     },
     "metadata": {},
     "output_type": "display_data"
    }
   ],
   "source": [
    "z_test_proportions(successes_pscreen_247_248, trials_all_247_248, alpha)"
   ]
  },
  {
   "cell_type": "markdown",
   "metadata": {},
   "source": [
    "\n",
    "Comparing the results with each of the control groups for each event, we can conclude that there is no reason to consider the proportions different. This indicates that the font change did not have a statistically significant impact."
   ]
  },
  {
   "cell_type": "markdown",
   "metadata": {},
   "source": [
    "Now, let's compare the results with the combined control group."
   ]
  },
  {
   "cell_type": "code",
   "execution_count": 87,
   "metadata": {},
   "outputs": [],
   "source": [
    "trials_all_246_247_248 = np.array([df_ab.iloc[0, 0]+df_ab.iloc[0, 1],df_ab.iloc[0, 2]]) "
   ]
  },
  {
   "cell_type": "code",
   "execution_count": 88,
   "metadata": {},
   "outputs": [],
   "source": [
    "successes_mscreen_246_247_248 = np.array([df_ab.iloc[1, 0]+df_ab.iloc[1, 1],df_ab.iloc[1, 2]]) "
   ]
  },
  {
   "cell_type": "code",
   "execution_count": 89,
   "metadata": {},
   "outputs": [],
   "source": [
    "successes_oscreen_246_247_248 = np.array([df_ab.iloc[2, 0]+df_ab.iloc[2, 1],df_ab.iloc[2, 2]]) "
   ]
  },
  {
   "cell_type": "code",
   "execution_count": 90,
   "metadata": {},
   "outputs": [],
   "source": [
    "successes_cscreen_246_247_248 = np.array([df_ab.iloc[3, 0]+df_ab.iloc[3, 1],df_ab.iloc[3, 2]]) "
   ]
  },
  {
   "cell_type": "code",
   "execution_count": 91,
   "metadata": {},
   "outputs": [],
   "source": [
    "successes_pscreen_246_247_248 = np.array([df_ab.iloc[4, 0]+df_ab.iloc[4, 1],df_ab.iloc[4, 2]]) "
   ]
  },
  {
   "cell_type": "markdown",
   "metadata": {},
   "source": [
    "- H0 = The proportions of users from the combined control groups 246+247 and group 248 who reached the event MainScreenAppear are equal.\n",
    "- H1 = The proportions of users from the combined control groups 246+247 and group 248 who reached the event MainScreenAppear are different.\n",
    "- Significance level 𝛼 = 0.05"
   ]
  },
  {
   "cell_type": "code",
   "execution_count": 92,
   "metadata": {},
   "outputs": [
    {
     "data": {
      "text/plain": [
       "'p-value:'"
      ]
     },
     "metadata": {},
     "output_type": "display_data"
    },
    {
     "data": {
      "text/plain": [
       "np.float64(0.29424526837179577)"
      ]
     },
     "metadata": {},
     "output_type": "display_data"
    },
    {
     "data": {
      "text/plain": [
       "'Failed to reject the null hypothesis, no grounds to consider the proportions different'"
      ]
     },
     "metadata": {},
     "output_type": "display_data"
    }
   ],
   "source": [
    "z_test_proportions(successes_mscreen_246_247_248, trials_all_246_247_248, alpha)"
   ]
  },
  {
   "cell_type": "markdown",
   "metadata": {},
   "source": [
    "- H0 = The proportions of users from the combined control groups 246+247 and group 248 who reached the event OffersScreenAppear are equal.\n",
    "- H1 = The proportions of users from the combined control groups 246+247 and group 248 who reached the event OffersScreenAppear are different.\n",
    "- Significance level 𝛼 = 0.05"
   ]
  },
  {
   "cell_type": "code",
   "execution_count": 93,
   "metadata": {},
   "outputs": [
    {
     "data": {
      "text/plain": [
       "'p-value:'"
      ]
     },
     "metadata": {},
     "output_type": "display_data"
    },
    {
     "data": {
      "text/plain": [
       "np.float64(0.43425549655188256)"
      ]
     },
     "metadata": {},
     "output_type": "display_data"
    },
    {
     "data": {
      "text/plain": [
       "'Failed to reject the null hypothesis, no grounds to consider the proportions different'"
      ]
     },
     "metadata": {},
     "output_type": "display_data"
    }
   ],
   "source": [
    "z_test_proportions(successes_oscreen_246_247_248 , trials_all_246_247_248, alpha)"
   ]
  },
  {
   "cell_type": "markdown",
   "metadata": {},
   "source": [
    "- H0 = The proportions of users from the combined control groups 246+247 and group 248 who reached the event CartScreenAppear are equal.\n",
    "- H1 = The proportions of users from the combined control groups 246+247 and group 248 who reached the event CartScreenAppear are different.\n",
    "- Significance level 𝛼 = 0.05"
   ]
  },
  {
   "cell_type": "code",
   "execution_count": 94,
   "metadata": {},
   "outputs": [
    {
     "data": {
      "text/plain": [
       "'p-value:'"
      ]
     },
     "metadata": {},
     "output_type": "display_data"
    },
    {
     "data": {
      "text/plain": [
       "np.float64(0.18175875284404386)"
      ]
     },
     "metadata": {},
     "output_type": "display_data"
    },
    {
     "data": {
      "text/plain": [
       "'Failed to reject the null hypothesis, no grounds to consider the proportions different'"
      ]
     },
     "metadata": {},
     "output_type": "display_data"
    }
   ],
   "source": [
    "z_test_proportions(successes_cscreen_246_247_248 , trials_all_246_247_248, alpha)"
   ]
  },
  {
   "cell_type": "markdown",
   "metadata": {},
   "source": [
    "- H0 = The proportions of users from the combined control groups 246+247 and group 248 who reached the event PaymentScreenSuccessful are equal.\n",
    "- H1 = The proportions of users from the combined control groups 246+247 and group 248 who reached the event PaymentScreenSuccessful are different.\n",
    "- Significance level 𝛼 = 0.05"
   ]
  },
  {
   "cell_type": "code",
   "execution_count": 95,
   "metadata": {},
   "outputs": [
    {
     "data": {
      "text/plain": [
       "'p-value:'"
      ]
     },
     "metadata": {},
     "output_type": "display_data"
    },
    {
     "data": {
      "text/plain": [
       "np.float64(0.6004294282308704)"
      ]
     },
     "metadata": {},
     "output_type": "display_data"
    },
    {
     "data": {
      "text/plain": [
       "'Failed to reject the null hypothesis, no grounds to consider the proportions different'"
      ]
     },
     "metadata": {},
     "output_type": "display_data"
    }
   ],
   "source": [
    "z_test_proportions(successes_pscreen_246_247_248, trials_all_246_247_248, alpha)"
   ]
  },
  {
   "cell_type": "markdown",
   "metadata": {},
   "source": [
    "Comparing the experimental group with the combined control group, it can be stated that there are no significant differences, indicating that the font change did not have a statistically significant impact."
   ]
  },
  {
   "cell_type": "markdown",
   "metadata": {},
   "source": [
    "In statistical tests, a significance level of 0.05 is commonly used, which means there is a 5% probability of erroneously rejecting the null hypothesis when it is true. This is known as a Type I error or false positive, where the test shows a p-value less than the significance level, leading to the incorrect rejection of the null hypothesis (H0) when there is no actual difference between the groups. In our case, we should also consider the possibility of cumulative errors due to multiple testing, known as the Family-Wise Error Rate (FWER).\n",
    "\n",
    "We conducted 16 tests comparing groups 246 and 247, 246 and 248, 247 and 248, as well as the combined control group and 248. To control the probability of a Type I error, methods for adjusting the significance level, such as the Bonferroni correction or the Holm method, can be applied.\n",
    "\n",
    "We set the significance level at 0.05 and obtained results where the null hypothesis was not rejected in any of the tests. However, if the significance level had been set at 0.1, the null hypothesis of equal proportions of users from control groups 246 and 248 reaching the CartScreenAppear event would have been rejected, as the p-value for this test was 0.0784.\n",
    "\n",
    "In the case of choosing a significance level of 0.1 and applying the Bonferroni correction, the new significance level would be 0.1/16 = 0.00625. This indicates that under these conditions, the test would not have led to the rejection of the null hypothesis."
   ]
  },
  {
   "cell_type": "markdown",
   "metadata": {},
   "source": [
    "## Сonclusion"
   ]
  },
  {
   "cell_type": "markdown",
   "metadata": {},
   "source": [
    "In this study, we conducted a comprehensive analysis of user behavior within a mobile food sales application and evaluated the impact of design changes on user interaction with the app. The study included funnel analysis and results from an A/A/B experiment.\n",
    "\n",
    "The sales funnel in our app is structured as follows:\n",
    "\n",
    "- MainScreenAppear\n",
    "- OffersScreenAppear\n",
    "- CartScreenAppear\n",
    "- PaymentScreenSuccessful\n",
    "\n",
    "The funnel analysis showed that:\n",
    "\n",
    "- The largest user drop-off occurs between the 'MainScreenAppear' and 'OffersScreenAppear' events, where 38.09% of users (2826 out of 7419) are lost. This indicates potential issues at this stage, such as insufficient appeal of offers or technical problems.\n",
    "- The percentage of users successfully passing through the entire funnel from 'MainScreenAppear' to 'PaymentScreenSuccessful' is 47.7% (3539 out of 7419), which can be considered a good conversion rate.\n",
    "- The conversion rate at the last stage of the funnel, between 'CartScreenAppear' and 'PaymentScreenSuccessful,' is relatively high, indicating that users who reach the payment stage are likely to complete their purchase.\n",
    "- It is recommended to focus on optimizing the transition from the main screen to the offers screen to improve conversion, possibly through better targeting of offers or addressing technical issues.\n",
    "\n",
    "A/A Test Analysis:\n",
    "\n",
    "- The check of user distribution between control groups 246 and 247 showed that the difference in user numbers is around 1%, which is minimal and does not significantly affect the A/B test results. No overlapping users were found between the groups. The test results also indicated that statistical criteria did not find a difference between samples 246 and 247, meaning the A/A test was conducted successfully. Thus, the group split can be considered correct, allowing us to move on to A/B testing.\n",
    "\n",
    "A/B Test Analysis:\n",
    "\n",
    "- Comparison of results between the experimental group using new fonts and the control groups showed that the font change did not have a statistically significant impact on key metrics. No significant differences were found between the groups across all events, suggesting that changes in font design did not have a meaningful effect on user behavior.\n",
    "\n",
    "In conclusion, the study confirmed that the current design changes did not lead to improvements in key metrics, and the sales funnel requires optimization at the stage between the main screen and the offers screen. These findings will help focus efforts on the most critical aspects of improving the user experience and making informed decisions regarding the further development of the app."
   ]
  }
 ],
 "metadata": {
  "ExecuteTimeLog": [
   {
    "duration": 4,
    "start_time": "2024-08-11T13:55:44.595Z"
   },
   {
    "duration": 1352,
    "start_time": "2024-08-11T14:06:38.203Z"
   },
   {
    "duration": 4,
    "start_time": "2024-08-11T14:07:20.173Z"
   },
   {
    "duration": 1736,
    "start_time": "2024-08-11T14:08:55.963Z"
   },
   {
    "duration": 53,
    "start_time": "2024-08-11T14:09:59.752Z"
   },
   {
    "duration": 943,
    "start_time": "2024-08-11T14:10:18.903Z"
   },
   {
    "duration": 318,
    "start_time": "2024-08-11T14:10:41.607Z"
   },
   {
    "duration": 57,
    "start_time": "2024-08-11T14:10:50.392Z"
   },
   {
    "duration": 190,
    "start_time": "2024-08-11T14:11:15.018Z"
   },
   {
    "duration": 312,
    "start_time": "2024-08-11T14:11:40.873Z"
   },
   {
    "duration": 5,
    "start_time": "2024-08-11T14:25:47.309Z"
   },
   {
    "duration": 4,
    "start_time": "2024-08-11T14:25:58.238Z"
   },
   {
    "duration": 57,
    "start_time": "2024-08-11T14:27:16.433Z"
   },
   {
    "duration": 794,
    "start_time": "2024-08-11T14:27:38.548Z"
   },
   {
    "duration": 61,
    "start_time": "2024-08-11T14:27:48.898Z"
   },
   {
    "duration": 80,
    "start_time": "2024-08-11T15:36:57.759Z"
   },
   {
    "duration": 12,
    "start_time": "2024-08-11T15:37:36.564Z"
   },
   {
    "duration": 33,
    "start_time": "2024-08-11T15:41:03.229Z"
   },
   {
    "duration": 67,
    "start_time": "2024-08-11T15:41:10.479Z"
   },
   {
    "duration": 14,
    "start_time": "2024-08-11T15:41:29.409Z"
   },
   {
    "duration": 10,
    "start_time": "2024-08-11T15:42:02.273Z"
   },
   {
    "duration": 9,
    "start_time": "2024-08-11T15:42:10.789Z"
   },
   {
    "duration": 8,
    "start_time": "2024-08-11T15:42:29.664Z"
   },
   {
    "duration": 1188,
    "start_time": "2024-08-11T15:43:43.494Z"
   },
   {
    "duration": 4,
    "start_time": "2024-08-11T15:43:44.684Z"
   },
   {
    "duration": 340,
    "start_time": "2024-08-11T15:43:44.690Z"
   },
   {
    "duration": 6,
    "start_time": "2024-08-11T15:43:45.032Z"
   },
   {
    "duration": 69,
    "start_time": "2024-08-11T15:43:45.040Z"
   },
   {
    "duration": 71,
    "start_time": "2024-08-11T15:43:45.110Z"
   },
   {
    "duration": 8,
    "start_time": "2024-08-11T15:43:45.182Z"
   },
   {
    "duration": 107,
    "start_time": "2024-08-11T15:46:43.224Z"
   },
   {
    "duration": 11,
    "start_time": "2024-08-11T15:46:55.699Z"
   },
   {
    "duration": 10,
    "start_time": "2024-08-11T15:47:01.648Z"
   },
   {
    "duration": 8,
    "start_time": "2024-08-11T15:47:12.674Z"
   },
   {
    "duration": 61,
    "start_time": "2024-08-11T15:47:49.359Z"
   },
   {
    "duration": 70,
    "start_time": "2024-08-11T15:48:47.518Z"
   },
   {
    "duration": 68,
    "start_time": "2024-08-11T15:49:12.324Z"
   },
   {
    "duration": 69,
    "start_time": "2024-08-11T15:49:15.408Z"
   },
   {
    "duration": 75,
    "start_time": "2024-08-11T15:50:01.289Z"
   },
   {
    "duration": 69,
    "start_time": "2024-08-11T15:50:05.233Z"
   },
   {
    "duration": 72,
    "start_time": "2024-08-11T15:50:08.164Z"
   },
   {
    "duration": 80,
    "start_time": "2024-08-11T15:56:17.239Z"
   },
   {
    "duration": 101,
    "start_time": "2024-08-11T15:56:41.328Z"
   },
   {
    "duration": 110,
    "start_time": "2024-08-11T15:57:05.589Z"
   },
   {
    "duration": 105,
    "start_time": "2024-08-11T15:57:09.433Z"
   },
   {
    "duration": 77,
    "start_time": "2024-08-11T16:14:14.393Z"
   },
   {
    "duration": 1159,
    "start_time": "2024-08-11T16:15:54.145Z"
   },
   {
    "duration": 4,
    "start_time": "2024-08-11T16:15:55.306Z"
   },
   {
    "duration": 344,
    "start_time": "2024-08-11T16:15:55.312Z"
   },
   {
    "duration": 6,
    "start_time": "2024-08-11T16:15:55.658Z"
   },
   {
    "duration": 27,
    "start_time": "2024-08-11T16:15:55.666Z"
   },
   {
    "duration": 76,
    "start_time": "2024-08-11T16:15:55.708Z"
   },
   {
    "duration": 83,
    "start_time": "2024-08-11T16:15:55.786Z"
   },
   {
    "duration": 78,
    "start_time": "2024-08-11T16:15:55.871Z"
   },
   {
    "duration": 83,
    "start_time": "2024-08-11T16:15:55.950Z"
   },
   {
    "duration": 1154,
    "start_time": "2024-08-11T16:17:29.655Z"
   },
   {
    "duration": 4,
    "start_time": "2024-08-11T16:17:30.812Z"
   },
   {
    "duration": 408,
    "start_time": "2024-08-11T16:17:30.817Z"
   },
   {
    "duration": 6,
    "start_time": "2024-08-11T16:17:31.227Z"
   },
   {
    "duration": 80,
    "start_time": "2024-08-11T16:17:31.235Z"
   },
   {
    "duration": 81,
    "start_time": "2024-08-11T16:17:31.316Z"
   },
   {
    "duration": 76,
    "start_time": "2024-08-11T16:17:31.399Z"
   },
   {
    "duration": 81,
    "start_time": "2024-08-11T16:17:31.477Z"
   },
   {
    "duration": 96,
    "start_time": "2024-08-11T16:17:31.560Z"
   },
   {
    "duration": 35,
    "start_time": "2024-08-11T16:19:55.384Z"
   },
   {
    "duration": 4,
    "start_time": "2024-08-11T16:24:38.229Z"
   },
   {
    "duration": 55,
    "start_time": "2024-08-11T16:25:06.174Z"
   },
   {
    "duration": 9,
    "start_time": "2024-08-11T16:25:44.154Z"
   },
   {
    "duration": 8,
    "start_time": "2024-08-11T16:25:54.689Z"
   },
   {
    "duration": 9,
    "start_time": "2024-08-11T16:25:59.623Z"
   },
   {
    "duration": 10,
    "start_time": "2024-08-11T16:30:35.080Z"
   },
   {
    "duration": 11,
    "start_time": "2024-08-11T16:30:40.538Z"
   },
   {
    "duration": 32,
    "start_time": "2024-08-11T16:32:21.244Z"
   },
   {
    "duration": 44,
    "start_time": "2024-08-11T16:32:30.528Z"
   },
   {
    "duration": 14,
    "start_time": "2024-08-11T16:32:51.513Z"
   },
   {
    "duration": 46,
    "start_time": "2024-08-11T16:33:01.770Z"
   },
   {
    "duration": 30,
    "start_time": "2024-08-11T16:45:07.864Z"
   },
   {
    "duration": 69,
    "start_time": "2024-08-11T16:52:02.019Z"
   },
   {
    "duration": 328,
    "start_time": "2024-08-11T16:52:45.719Z"
   },
   {
    "duration": 288,
    "start_time": "2024-08-11T17:02:17.188Z"
   },
   {
    "duration": 77,
    "start_time": "2024-08-11T17:03:07.715Z"
   },
   {
    "duration": 13,
    "start_time": "2024-08-11T17:03:19.053Z"
   },
   {
    "duration": 55,
    "start_time": "2024-08-11T17:05:05.024Z"
   },
   {
    "duration": 266,
    "start_time": "2024-08-11T17:06:08.529Z"
   },
   {
    "duration": 264,
    "start_time": "2024-08-11T17:06:55.438Z"
   },
   {
    "duration": 1168,
    "start_time": "2024-08-11T17:07:06.544Z"
   },
   {
    "duration": 4,
    "start_time": "2024-08-11T17:07:07.714Z"
   },
   {
    "duration": 335,
    "start_time": "2024-08-11T17:07:07.720Z"
   },
   {
    "duration": 6,
    "start_time": "2024-08-11T17:07:08.056Z"
   },
   {
    "duration": 26,
    "start_time": "2024-08-11T17:07:08.065Z"
   },
   {
    "duration": 76,
    "start_time": "2024-08-11T17:07:08.108Z"
   },
   {
    "duration": 89,
    "start_time": "2024-08-11T17:07:08.185Z"
   },
   {
    "duration": 79,
    "start_time": "2024-08-11T17:07:08.275Z"
   },
   {
    "duration": 88,
    "start_time": "2024-08-11T17:07:08.356Z"
   },
   {
    "duration": 61,
    "start_time": "2024-08-11T17:07:08.446Z"
   },
   {
    "duration": 357,
    "start_time": "2024-08-11T17:07:08.509Z"
   },
   {
    "duration": 62,
    "start_time": "2024-08-11T17:07:08.868Z"
   },
   {
    "duration": 276,
    "start_time": "2024-08-11T17:07:08.931Z"
   },
   {
    "duration": 105,
    "start_time": "2024-08-11T17:12:42.543Z"
   },
   {
    "duration": 28,
    "start_time": "2024-08-11T17:13:26.448Z"
   },
   {
    "duration": 11,
    "start_time": "2024-08-11T17:19:22.179Z"
   },
   {
    "duration": 53,
    "start_time": "2024-08-11T17:19:39.134Z"
   },
   {
    "duration": 55,
    "start_time": "2024-08-11T17:20:34.272Z"
   },
   {
    "duration": 54,
    "start_time": "2024-08-11T17:20:51.148Z"
   },
   {
    "duration": 693,
    "start_time": "2024-08-11T17:21:36.863Z"
   },
   {
    "duration": 9,
    "start_time": "2024-08-11T17:21:43.648Z"
   },
   {
    "duration": 55,
    "start_time": "2024-08-11T17:22:09.408Z"
   },
   {
    "duration": 57,
    "start_time": "2024-08-11T17:22:27.228Z"
   },
   {
    "duration": 11,
    "start_time": "2024-08-11T17:22:50.398Z"
   },
   {
    "duration": 10,
    "start_time": "2024-08-11T17:22:55.688Z"
   },
   {
    "duration": 11,
    "start_time": "2024-08-11T17:23:08.953Z"
   },
   {
    "duration": 67,
    "start_time": "2024-08-12T14:54:26.448Z"
   },
   {
    "duration": 43,
    "start_time": "2024-08-12T14:54:41.196Z"
   },
   {
    "duration": 1334,
    "start_time": "2024-08-12T14:54:46.634Z"
   },
   {
    "duration": 4,
    "start_time": "2024-08-12T14:54:47.970Z"
   },
   {
    "duration": 902,
    "start_time": "2024-08-12T14:54:47.976Z"
   },
   {
    "duration": 5,
    "start_time": "2024-08-12T14:54:48.880Z"
   },
   {
    "duration": 32,
    "start_time": "2024-08-12T14:54:48.887Z"
   },
   {
    "duration": 86,
    "start_time": "2024-08-12T14:54:48.920Z"
   },
   {
    "duration": 70,
    "start_time": "2024-08-12T14:54:49.008Z"
   },
   {
    "duration": 97,
    "start_time": "2024-08-12T14:54:49.080Z"
   },
   {
    "duration": 80,
    "start_time": "2024-08-12T14:54:49.179Z"
   },
   {
    "duration": 70,
    "start_time": "2024-08-12T14:54:49.261Z"
   },
   {
    "duration": 354,
    "start_time": "2024-08-12T14:54:49.333Z"
   },
   {
    "duration": 55,
    "start_time": "2024-08-12T14:54:49.689Z"
   },
   {
    "duration": 265,
    "start_time": "2024-08-12T14:54:49.745Z"
   },
   {
    "duration": 29,
    "start_time": "2024-08-12T14:54:50.013Z"
   },
   {
    "duration": 83,
    "start_time": "2024-08-12T14:54:50.044Z"
   },
   {
    "duration": 10,
    "start_time": "2024-08-12T14:54:50.128Z"
   },
   {
    "duration": 113,
    "start_time": "2024-08-12T14:54:50.139Z"
   },
   {
    "duration": 12,
    "start_time": "2024-08-12T14:54:56.834Z"
   },
   {
    "duration": 4,
    "start_time": "2024-08-12T14:55:34.542Z"
   },
   {
    "duration": 9,
    "start_time": "2024-08-12T14:55:40.135Z"
   },
   {
    "duration": 1105,
    "start_time": "2024-08-12T14:57:50.642Z"
   },
   {
    "duration": 14,
    "start_time": "2024-08-12T14:58:29.283Z"
   },
   {
    "duration": 11,
    "start_time": "2024-08-12T14:58:42.448Z"
   },
   {
    "duration": 1212,
    "start_time": "2024-08-12T14:58:52.571Z"
   },
   {
    "duration": 5,
    "start_time": "2024-08-12T14:58:53.785Z"
   },
   {
    "duration": 362,
    "start_time": "2024-08-12T14:58:53.792Z"
   },
   {
    "duration": 8,
    "start_time": "2024-08-12T14:58:54.156Z"
   },
   {
    "duration": 72,
    "start_time": "2024-08-12T14:58:54.167Z"
   },
   {
    "duration": 92,
    "start_time": "2024-08-12T14:58:54.241Z"
   },
   {
    "duration": 82,
    "start_time": "2024-08-12T14:58:54.335Z"
   },
   {
    "duration": 68,
    "start_time": "2024-08-12T14:58:54.419Z"
   },
   {
    "duration": 93,
    "start_time": "2024-08-12T14:58:54.489Z"
   },
   {
    "duration": 56,
    "start_time": "2024-08-12T14:58:54.584Z"
   },
   {
    "duration": 386,
    "start_time": "2024-08-12T14:58:54.642Z"
   },
   {
    "duration": 57,
    "start_time": "2024-08-12T14:58:55.029Z"
   },
   {
    "duration": 277,
    "start_time": "2024-08-12T14:58:55.087Z"
   },
   {
    "duration": 29,
    "start_time": "2024-08-12T14:58:55.367Z"
   },
   {
    "duration": 65,
    "start_time": "2024-08-12T14:58:55.406Z"
   },
   {
    "duration": 14,
    "start_time": "2024-08-12T14:58:55.473Z"
   },
   {
    "duration": 24,
    "start_time": "2024-08-12T14:58:55.489Z"
   },
   {
    "duration": 10,
    "start_time": "2024-08-12T14:58:55.515Z"
   },
   {
    "duration": 12,
    "start_time": "2024-08-12T15:00:04.251Z"
   },
   {
    "duration": 105,
    "start_time": "2024-08-12T15:00:11.906Z"
   },
   {
    "duration": 13,
    "start_time": "2024-08-12T15:00:38.830Z"
   },
   {
    "duration": 10,
    "start_time": "2024-08-12T15:00:50.934Z"
   },
   {
    "duration": 11,
    "start_time": "2024-08-12T15:01:56.444Z"
   },
   {
    "duration": 1095,
    "start_time": "2024-08-12T15:04:02.966Z"
   },
   {
    "duration": 1155,
    "start_time": "2024-08-12T15:05:40.395Z"
   },
   {
    "duration": 17,
    "start_time": "2024-08-12T15:05:52.614Z"
   },
   {
    "duration": 1250,
    "start_time": "2024-08-12T15:05:58.575Z"
   },
   {
    "duration": 5,
    "start_time": "2024-08-12T15:05:59.827Z"
   },
   {
    "duration": 340,
    "start_time": "2024-08-12T15:05:59.833Z"
   },
   {
    "duration": 6,
    "start_time": "2024-08-12T15:06:00.174Z"
   },
   {
    "duration": 77,
    "start_time": "2024-08-12T15:06:00.182Z"
   },
   {
    "duration": 116,
    "start_time": "2024-08-12T15:06:00.260Z"
   },
   {
    "duration": 101,
    "start_time": "2024-08-12T15:06:00.378Z"
   },
   {
    "duration": 90,
    "start_time": "2024-08-12T15:06:00.481Z"
   },
   {
    "duration": 85,
    "start_time": "2024-08-12T15:06:00.573Z"
   },
   {
    "duration": 136,
    "start_time": "2024-08-12T15:06:00.660Z"
   },
   {
    "duration": 428,
    "start_time": "2024-08-12T15:06:00.798Z"
   },
   {
    "duration": 60,
    "start_time": "2024-08-12T15:06:01.228Z"
   },
   {
    "duration": 413,
    "start_time": "2024-08-12T15:06:01.290Z"
   },
   {
    "duration": 28,
    "start_time": "2024-08-12T15:06:01.706Z"
   },
   {
    "duration": 142,
    "start_time": "2024-08-12T15:06:01.735Z"
   },
   {
    "duration": 10,
    "start_time": "2024-08-12T15:06:01.879Z"
   },
   {
    "duration": 38,
    "start_time": "2024-08-12T15:06:01.891Z"
   },
   {
    "duration": 48,
    "start_time": "2024-08-12T15:06:01.930Z"
   },
   {
    "duration": 30,
    "start_time": "2024-08-12T15:07:17.598Z"
   },
   {
    "duration": 1243,
    "start_time": "2024-08-12T15:08:47.435Z"
   },
   {
    "duration": 4,
    "start_time": "2024-08-12T15:08:48.681Z"
   },
   {
    "duration": 374,
    "start_time": "2024-08-12T15:08:48.687Z"
   },
   {
    "duration": 7,
    "start_time": "2024-08-12T15:08:49.063Z"
   },
   {
    "duration": 39,
    "start_time": "2024-08-12T15:08:49.072Z"
   },
   {
    "duration": 77,
    "start_time": "2024-08-12T15:08:49.113Z"
   },
   {
    "duration": 85,
    "start_time": "2024-08-12T15:08:49.192Z"
   },
   {
    "duration": 88,
    "start_time": "2024-08-12T15:08:49.278Z"
   },
   {
    "duration": 96,
    "start_time": "2024-08-12T15:08:49.367Z"
   },
   {
    "duration": 63,
    "start_time": "2024-08-12T15:08:49.465Z"
   },
   {
    "duration": 392,
    "start_time": "2024-08-12T15:08:49.530Z"
   },
   {
    "duration": 62,
    "start_time": "2024-08-12T15:08:49.924Z"
   },
   {
    "duration": 306,
    "start_time": "2024-08-12T15:08:49.987Z"
   },
   {
    "duration": 29,
    "start_time": "2024-08-12T15:08:50.295Z"
   },
   {
    "duration": 94,
    "start_time": "2024-08-12T15:08:50.326Z"
   },
   {
    "duration": 10,
    "start_time": "2024-08-12T15:08:50.422Z"
   },
   {
    "duration": 17,
    "start_time": "2024-08-12T15:08:50.433Z"
   },
   {
    "duration": 19,
    "start_time": "2024-08-12T15:08:50.452Z"
   },
   {
    "duration": 29,
    "start_time": "2024-08-12T15:08:50.473Z"
   },
   {
    "duration": 8,
    "start_time": "2024-08-12T15:34:09.346Z"
   },
   {
    "duration": 7,
    "start_time": "2024-08-12T15:34:16.110Z"
   },
   {
    "duration": 33,
    "start_time": "2024-08-12T15:36:22.398Z"
   },
   {
    "duration": 32,
    "start_time": "2024-08-12T15:36:26.478Z"
   },
   {
    "duration": 22,
    "start_time": "2024-08-12T15:36:50.498Z"
   },
   {
    "duration": 117,
    "start_time": "2024-08-12T15:36:57.152Z"
   },
   {
    "duration": 5,
    "start_time": "2024-08-12T15:37:08.317Z"
   },
   {
    "duration": 35,
    "start_time": "2024-08-12T15:38:12.896Z"
   },
   {
    "duration": 41,
    "start_time": "2024-08-12T15:47:15.726Z"
   },
   {
    "duration": 49,
    "start_time": "2024-08-12T15:47:42.003Z"
   },
   {
    "duration": 44,
    "start_time": "2024-08-12T15:49:04.004Z"
   },
   {
    "duration": 39,
    "start_time": "2024-08-12T15:56:44.173Z"
   },
   {
    "duration": 39,
    "start_time": "2024-08-12T15:56:50.103Z"
   },
   {
    "duration": 131,
    "start_time": "2024-08-12T15:57:19.243Z"
   },
   {
    "duration": 1377,
    "start_time": "2024-08-12T18:55:11.302Z"
   },
   {
    "duration": 5,
    "start_time": "2024-08-12T18:55:12.684Z"
   },
   {
    "duration": 1170,
    "start_time": "2024-08-12T18:55:12.690Z"
   },
   {
    "duration": 6,
    "start_time": "2024-08-12T18:55:13.861Z"
   },
   {
    "duration": 58,
    "start_time": "2024-08-12T18:55:13.869Z"
   },
   {
    "duration": 75,
    "start_time": "2024-08-12T18:55:13.929Z"
   },
   {
    "duration": 84,
    "start_time": "2024-08-12T18:55:14.005Z"
   },
   {
    "duration": 74,
    "start_time": "2024-08-12T18:55:14.091Z"
   },
   {
    "duration": 103,
    "start_time": "2024-08-12T18:55:14.167Z"
   },
   {
    "duration": 68,
    "start_time": "2024-08-12T18:55:14.271Z"
   },
   {
    "duration": 386,
    "start_time": "2024-08-12T18:55:14.342Z"
   },
   {
    "duration": 65,
    "start_time": "2024-08-12T18:55:14.729Z"
   },
   {
    "duration": 269,
    "start_time": "2024-08-12T18:55:14.795Z"
   },
   {
    "duration": 33,
    "start_time": "2024-08-12T18:55:15.066Z"
   },
   {
    "duration": 69,
    "start_time": "2024-08-12T18:55:15.100Z"
   },
   {
    "duration": 17,
    "start_time": "2024-08-12T18:55:15.170Z"
   },
   {
    "duration": 9,
    "start_time": "2024-08-12T18:55:15.189Z"
   },
   {
    "duration": 20,
    "start_time": "2024-08-12T18:55:15.200Z"
   },
   {
    "duration": 76,
    "start_time": "2024-08-12T18:55:15.221Z"
   },
   {
    "duration": 51,
    "start_time": "2024-08-12T18:55:15.299Z"
   },
   {
    "duration": 44,
    "start_time": "2024-08-12T18:55:15.351Z"
   },
   {
    "duration": 3,
    "start_time": "2024-08-12T18:58:26.408Z"
   },
   {
    "duration": 148,
    "start_time": "2024-08-12T19:01:09.317Z"
   },
   {
    "duration": 14,
    "start_time": "2024-08-12T19:03:31.331Z"
   },
   {
    "duration": 17,
    "start_time": "2024-08-12T19:03:48.536Z"
   },
   {
    "duration": 28,
    "start_time": "2024-08-12T19:04:14.056Z"
   },
   {
    "duration": 26,
    "start_time": "2024-08-12T19:04:28.501Z"
   },
   {
    "duration": 21,
    "start_time": "2024-08-12T19:04:34.066Z"
   },
   {
    "duration": 18,
    "start_time": "2024-08-12T19:04:49.782Z"
   },
   {
    "duration": 19,
    "start_time": "2024-08-12T19:04:56.021Z"
   },
   {
    "duration": 4,
    "start_time": "2024-08-12T19:05:38.825Z"
   },
   {
    "duration": 5,
    "start_time": "2024-08-12T19:08:18.386Z"
   },
   {
    "duration": 19,
    "start_time": "2024-08-12T19:16:49.781Z"
   },
   {
    "duration": 3,
    "start_time": "2024-08-12T19:17:02.757Z"
   },
   {
    "duration": 11,
    "start_time": "2024-08-12T19:17:04.556Z"
   },
   {
    "duration": 10,
    "start_time": "2024-08-12T19:17:57.852Z"
   },
   {
    "duration": 9,
    "start_time": "2024-08-12T19:18:23.074Z"
   },
   {
    "duration": 3,
    "start_time": "2024-08-12T19:28:46.287Z"
   },
   {
    "duration": 6,
    "start_time": "2024-08-12T19:32:53.637Z"
   },
   {
    "duration": 1320,
    "start_time": "2024-08-12T19:32:59.857Z"
   },
   {
    "duration": 5,
    "start_time": "2024-08-12T19:33:01.179Z"
   },
   {
    "duration": 78,
    "start_time": "2024-08-12T19:33:01.186Z"
   },
   {
    "duration": 409,
    "start_time": "2024-08-12T19:33:01.266Z"
   },
   {
    "duration": 11,
    "start_time": "2024-08-12T19:33:01.678Z"
   },
   {
    "duration": 79,
    "start_time": "2024-08-12T19:33:01.691Z"
   },
   {
    "duration": 82,
    "start_time": "2024-08-12T19:33:01.772Z"
   },
   {
    "duration": 90,
    "start_time": "2024-08-12T19:33:01.855Z"
   },
   {
    "duration": 78,
    "start_time": "2024-08-12T19:33:01.947Z"
   },
   {
    "duration": 91,
    "start_time": "2024-08-12T19:33:02.028Z"
   },
   {
    "duration": 64,
    "start_time": "2024-08-12T19:33:02.120Z"
   },
   {
    "duration": 371,
    "start_time": "2024-08-12T19:33:02.186Z"
   },
   {
    "duration": 69,
    "start_time": "2024-08-12T19:33:02.558Z"
   },
   {
    "duration": 278,
    "start_time": "2024-08-12T19:33:02.629Z"
   },
   {
    "duration": 28,
    "start_time": "2024-08-12T19:33:02.908Z"
   },
   {
    "duration": 79,
    "start_time": "2024-08-12T19:33:02.938Z"
   },
   {
    "duration": 11,
    "start_time": "2024-08-12T19:33:03.018Z"
   },
   {
    "duration": 10,
    "start_time": "2024-08-12T19:33:03.031Z"
   },
   {
    "duration": 15,
    "start_time": "2024-08-12T19:33:03.043Z"
   },
   {
    "duration": 50,
    "start_time": "2024-08-12T19:33:03.060Z"
   },
   {
    "duration": 55,
    "start_time": "2024-08-12T19:33:03.112Z"
   },
   {
    "duration": 42,
    "start_time": "2024-08-12T19:33:03.168Z"
   },
   {
    "duration": 3,
    "start_time": "2024-08-12T19:33:03.211Z"
   },
   {
    "duration": 46,
    "start_time": "2024-08-12T19:33:03.216Z"
   },
   {
    "duration": 2,
    "start_time": "2024-08-12T19:33:03.264Z"
   },
   {
    "duration": 129,
    "start_time": "2024-08-12T19:33:03.268Z"
   },
   {
    "duration": 9,
    "start_time": "2024-08-12T19:35:25.717Z"
   },
   {
    "duration": 1157,
    "start_time": "2024-08-12T19:35:31.142Z"
   },
   {
    "duration": 5,
    "start_time": "2024-08-12T19:35:32.300Z"
   },
   {
    "duration": 28,
    "start_time": "2024-08-12T19:35:32.307Z"
   },
   {
    "duration": 384,
    "start_time": "2024-08-12T19:35:32.337Z"
   },
   {
    "duration": 6,
    "start_time": "2024-08-12T19:35:32.723Z"
   },
   {
    "duration": 32,
    "start_time": "2024-08-12T19:35:32.731Z"
   },
   {
    "duration": 93,
    "start_time": "2024-08-12T19:35:32.765Z"
   },
   {
    "duration": 85,
    "start_time": "2024-08-12T19:35:32.860Z"
   },
   {
    "duration": 78,
    "start_time": "2024-08-12T19:35:32.946Z"
   },
   {
    "duration": 85,
    "start_time": "2024-08-12T19:35:33.027Z"
   },
   {
    "duration": 44,
    "start_time": "2024-08-12T19:35:33.113Z"
   },
   {
    "duration": 375,
    "start_time": "2024-08-12T19:35:33.158Z"
   },
   {
    "duration": 65,
    "start_time": "2024-08-12T19:35:33.535Z"
   },
   {
    "duration": 273,
    "start_time": "2024-08-12T19:35:33.601Z"
   },
   {
    "duration": 28,
    "start_time": "2024-08-12T19:35:33.883Z"
   },
   {
    "duration": 63,
    "start_time": "2024-08-12T19:35:33.912Z"
   },
   {
    "duration": 11,
    "start_time": "2024-08-12T19:35:33.985Z"
   },
   {
    "duration": 12,
    "start_time": "2024-08-12T19:35:33.998Z"
   },
   {
    "duration": 38,
    "start_time": "2024-08-12T19:35:34.012Z"
   },
   {
    "duration": 32,
    "start_time": "2024-08-12T19:35:34.052Z"
   },
   {
    "duration": 50,
    "start_time": "2024-08-12T19:35:34.086Z"
   },
   {
    "duration": 39,
    "start_time": "2024-08-12T19:35:34.138Z"
   },
   {
    "duration": 3,
    "start_time": "2024-08-12T19:35:34.184Z"
   },
   {
    "duration": 47,
    "start_time": "2024-08-12T19:35:34.189Z"
   },
   {
    "duration": 3,
    "start_time": "2024-08-12T19:35:34.238Z"
   },
   {
    "duration": 104,
    "start_time": "2024-08-12T19:35:34.243Z"
   },
   {
    "duration": 3,
    "start_time": "2024-08-12T19:36:30.328Z"
   },
   {
    "duration": 11,
    "start_time": "2024-08-12T19:36:37.367Z"
   },
   {
    "duration": 5,
    "start_time": "2024-08-12T19:37:06.273Z"
   },
   {
    "duration": 7,
    "start_time": "2024-08-12T19:37:11.907Z"
   },
   {
    "duration": 35,
    "start_time": "2024-08-12T19:39:04.437Z"
   },
   {
    "duration": 3,
    "start_time": "2024-08-12T19:39:52.578Z"
   },
   {
    "duration": 8,
    "start_time": "2024-08-12T19:40:06.277Z"
   },
   {
    "duration": 25,
    "start_time": "2024-08-12T19:44:55.852Z"
   },
   {
    "duration": 3,
    "start_time": "2024-08-12T19:45:13.162Z"
   },
   {
    "duration": 8,
    "start_time": "2024-08-12T19:45:21.022Z"
   },
   {
    "duration": 23,
    "start_time": "2024-08-12T19:46:45.892Z"
   },
   {
    "duration": 4,
    "start_time": "2024-08-12T19:46:58.807Z"
   },
   {
    "duration": 13,
    "start_time": "2024-08-12T19:47:09.656Z"
   },
   {
    "duration": 3,
    "start_time": "2024-08-12T19:47:15.267Z"
   },
   {
    "duration": 10,
    "start_time": "2024-08-12T19:47:18.898Z"
   },
   {
    "duration": 11,
    "start_time": "2024-08-12T20:05:25.332Z"
   },
   {
    "duration": 9,
    "start_time": "2024-08-12T20:06:01.492Z"
   },
   {
    "duration": 812,
    "start_time": "2024-08-12T20:12:01.001Z"
   },
   {
    "duration": 4,
    "start_time": "2024-08-12T20:13:12.306Z"
   },
   {
    "duration": 11,
    "start_time": "2024-08-12T20:14:45.675Z"
   },
   {
    "duration": 3,
    "start_time": "2024-08-12T20:15:00.126Z"
   },
   {
    "duration": 3,
    "start_time": "2024-08-12T20:15:52.701Z"
   },
   {
    "duration": 4,
    "start_time": "2024-08-12T20:15:55.481Z"
   },
   {
    "duration": 3,
    "start_time": "2024-08-12T20:15:58.236Z"
   },
   {
    "duration": 3,
    "start_time": "2024-08-12T20:16:21.085Z"
   },
   {
    "duration": 14,
    "start_time": "2024-08-12T20:18:00.146Z"
   },
   {
    "duration": 7,
    "start_time": "2024-08-12T20:18:08.466Z"
   },
   {
    "duration": 6,
    "start_time": "2024-08-12T20:18:22.581Z"
   },
   {
    "duration": 6,
    "start_time": "2024-08-12T20:18:33.410Z"
   },
   {
    "duration": 7,
    "start_time": "2024-08-12T20:18:47.355Z"
   },
   {
    "duration": 7,
    "start_time": "2024-08-12T20:19:13.890Z"
   },
   {
    "duration": 7,
    "start_time": "2024-08-12T20:19:33.316Z"
   },
   {
    "duration": 6,
    "start_time": "2024-08-12T20:19:54.941Z"
   },
   {
    "duration": 7,
    "start_time": "2024-08-12T20:20:11.245Z"
   },
   {
    "duration": 60,
    "start_time": "2024-08-12T20:39:01.044Z"
   },
   {
    "duration": 4,
    "start_time": "2024-08-12T20:39:48.329Z"
   },
   {
    "duration": 5,
    "start_time": "2024-08-12T20:39:53.249Z"
   },
   {
    "duration": 3,
    "start_time": "2024-08-12T20:39:59.769Z"
   },
   {
    "duration": 3,
    "start_time": "2024-08-12T20:40:05.329Z"
   },
   {
    "duration": 4,
    "start_time": "2024-08-12T20:40:10.584Z"
   },
   {
    "duration": 4,
    "start_time": "2024-08-12T20:40:15.489Z"
   },
   {
    "duration": 3,
    "start_time": "2024-08-12T20:40:19.809Z"
   },
   {
    "duration": 8,
    "start_time": "2024-08-12T20:43:32.279Z"
   },
   {
    "duration": 7,
    "start_time": "2024-08-12T20:43:37.959Z"
   },
   {
    "duration": 7,
    "start_time": "2024-08-12T20:43:41.410Z"
   },
   {
    "duration": 8,
    "start_time": "2024-08-12T20:43:45.144Z"
   },
   {
    "duration": 1158,
    "start_time": "2024-08-12T21:17:43.108Z"
   },
   {
    "duration": 5,
    "start_time": "2024-08-12T21:17:44.267Z"
   },
   {
    "duration": 12,
    "start_time": "2024-08-12T21:17:44.273Z"
   },
   {
    "duration": 335,
    "start_time": "2024-08-12T21:17:44.287Z"
   },
   {
    "duration": 6,
    "start_time": "2024-08-12T21:17:44.624Z"
   },
   {
    "duration": 29,
    "start_time": "2024-08-12T21:17:44.631Z"
   },
   {
    "duration": 87,
    "start_time": "2024-08-12T21:17:44.661Z"
   },
   {
    "duration": 89,
    "start_time": "2024-08-12T21:17:44.750Z"
   },
   {
    "duration": 75,
    "start_time": "2024-08-12T21:17:44.840Z"
   },
   {
    "duration": 87,
    "start_time": "2024-08-12T21:17:44.917Z"
   },
   {
    "duration": 121,
    "start_time": "2024-08-12T21:17:45.006Z"
   },
   {
    "duration": 358,
    "start_time": "2024-08-12T21:17:45.129Z"
   },
   {
    "duration": 57,
    "start_time": "2024-08-12T21:17:45.488Z"
   },
   {
    "duration": 267,
    "start_time": "2024-08-12T21:17:45.547Z"
   },
   {
    "duration": 28,
    "start_time": "2024-08-12T21:17:45.816Z"
   },
   {
    "duration": 73,
    "start_time": "2024-08-12T21:17:45.846Z"
   },
   {
    "duration": 11,
    "start_time": "2024-08-12T21:17:45.921Z"
   },
   {
    "duration": 18,
    "start_time": "2024-08-12T21:17:45.934Z"
   },
   {
    "duration": 26,
    "start_time": "2024-08-12T21:17:45.954Z"
   },
   {
    "duration": 14,
    "start_time": "2024-08-12T21:17:45.981Z"
   },
   {
    "duration": 70,
    "start_time": "2024-08-12T21:17:45.997Z"
   },
   {
    "duration": 41,
    "start_time": "2024-08-12T21:17:46.068Z"
   },
   {
    "duration": 2,
    "start_time": "2024-08-12T21:17:46.110Z"
   },
   {
    "duration": 21,
    "start_time": "2024-08-12T21:17:46.114Z"
   },
   {
    "duration": 3,
    "start_time": "2024-08-12T21:17:46.136Z"
   },
   {
    "duration": 5,
    "start_time": "2024-08-12T21:17:46.140Z"
   },
   {
    "duration": 14,
    "start_time": "2024-08-12T21:17:46.146Z"
   },
   {
    "duration": 35,
    "start_time": "2024-08-12T21:17:46.185Z"
   },
   {
    "duration": 39,
    "start_time": "2024-08-12T21:17:46.222Z"
   },
   {
    "duration": 70,
    "start_time": "2024-08-12T21:17:46.263Z"
   },
   {
    "duration": 24,
    "start_time": "2024-08-12T21:17:46.335Z"
   },
   {
    "duration": 3,
    "start_time": "2024-08-12T21:17:46.361Z"
   },
   {
    "duration": 10,
    "start_time": "2024-08-12T21:17:46.366Z"
   },
   {
    "duration": 23,
    "start_time": "2024-08-12T21:17:46.378Z"
   },
   {
    "duration": 3,
    "start_time": "2024-08-12T21:17:46.403Z"
   },
   {
    "duration": 12,
    "start_time": "2024-08-12T21:17:46.408Z"
   },
   {
    "duration": 11,
    "start_time": "2024-08-12T21:17:46.422Z"
   },
   {
    "duration": 5,
    "start_time": "2024-08-12T21:17:46.434Z"
   },
   {
    "duration": 7,
    "start_time": "2024-08-12T21:17:46.441Z"
   },
   {
    "duration": 5,
    "start_time": "2024-08-12T21:17:46.449Z"
   },
   {
    "duration": 31,
    "start_time": "2024-08-12T21:17:46.455Z"
   },
   {
    "duration": 7,
    "start_time": "2024-08-12T21:17:46.488Z"
   },
   {
    "duration": 19,
    "start_time": "2024-08-12T21:17:46.497Z"
   },
   {
    "duration": 9,
    "start_time": "2024-08-12T21:17:46.518Z"
   },
   {
    "duration": 21,
    "start_time": "2024-08-12T21:17:46.529Z"
   },
   {
    "duration": 26,
    "start_time": "2024-08-12T21:17:46.552Z"
   },
   {
    "duration": 11,
    "start_time": "2024-08-12T21:17:46.585Z"
   },
   {
    "duration": 7,
    "start_time": "2024-08-12T21:17:46.598Z"
   },
   {
    "duration": 10,
    "start_time": "2024-08-12T21:17:46.606Z"
   },
   {
    "duration": 26,
    "start_time": "2024-08-12T21:17:46.618Z"
   },
   {
    "duration": 37,
    "start_time": "2024-08-12T21:17:46.645Z"
   },
   {
    "duration": 20,
    "start_time": "2024-08-12T21:17:46.683Z"
   },
   {
    "duration": 12,
    "start_time": "2024-08-12T21:17:46.704Z"
   },
   {
    "duration": 18,
    "start_time": "2024-08-12T21:17:46.717Z"
   },
   {
    "duration": 21,
    "start_time": "2024-08-12T21:17:46.737Z"
   },
   {
    "duration": 15,
    "start_time": "2024-08-12T21:17:46.759Z"
   },
   {
    "duration": 7,
    "start_time": "2024-08-12T21:17:46.775Z"
   },
   {
    "duration": 8,
    "start_time": "2024-08-12T21:17:46.784Z"
   },
   {
    "duration": 8,
    "start_time": "2024-08-12T21:17:46.793Z"
   },
   {
    "duration": 1446,
    "start_time": "2024-08-12T22:04:17.564Z"
   },
   {
    "duration": 5,
    "start_time": "2024-08-12T22:04:19.012Z"
   },
   {
    "duration": 12,
    "start_time": "2024-08-12T22:04:19.019Z"
   },
   {
    "duration": 914,
    "start_time": "2024-08-12T22:04:19.034Z"
   },
   {
    "duration": 14,
    "start_time": "2024-08-12T22:04:19.953Z"
   },
   {
    "duration": 31,
    "start_time": "2024-08-12T22:04:19.969Z"
   },
   {
    "duration": 90,
    "start_time": "2024-08-12T22:04:20.001Z"
   },
   {
    "duration": 82,
    "start_time": "2024-08-12T22:04:20.092Z"
   },
   {
    "duration": 83,
    "start_time": "2024-08-12T22:04:20.176Z"
   },
   {
    "duration": 99,
    "start_time": "2024-08-12T22:04:20.261Z"
   },
   {
    "duration": 66,
    "start_time": "2024-08-12T22:04:20.362Z"
   },
   {
    "duration": 495,
    "start_time": "2024-08-12T22:04:20.430Z"
   },
   {
    "duration": 71,
    "start_time": "2024-08-12T22:04:20.927Z"
   },
   {
    "duration": 305,
    "start_time": "2024-08-12T22:04:21.001Z"
   },
   {
    "duration": 28,
    "start_time": "2024-08-12T22:04:21.309Z"
   },
   {
    "duration": 79,
    "start_time": "2024-08-12T22:04:21.338Z"
   },
   {
    "duration": 11,
    "start_time": "2024-08-12T22:04:21.418Z"
   },
   {
    "duration": 39,
    "start_time": "2024-08-12T22:04:21.430Z"
   },
   {
    "duration": 12,
    "start_time": "2024-08-12T22:04:21.471Z"
   },
   {
    "duration": 25,
    "start_time": "2024-08-12T22:04:21.485Z"
   },
   {
    "duration": 59,
    "start_time": "2024-08-12T22:04:21.511Z"
   },
   {
    "duration": 46,
    "start_time": "2024-08-12T22:04:21.572Z"
   },
   {
    "duration": 3,
    "start_time": "2024-08-12T22:04:21.620Z"
   },
   {
    "duration": 36,
    "start_time": "2024-08-12T22:04:21.625Z"
   },
   {
    "duration": 6,
    "start_time": "2024-08-12T22:04:21.663Z"
   },
   {
    "duration": 24,
    "start_time": "2024-08-12T22:04:21.671Z"
   },
   {
    "duration": 18,
    "start_time": "2024-08-12T22:04:21.697Z"
   },
   {
    "duration": 81,
    "start_time": "2024-08-12T22:04:21.717Z"
   },
   {
    "duration": 3,
    "start_time": "2024-08-12T22:04:21.800Z"
   },
   {
    "duration": 25,
    "start_time": "2024-08-12T22:04:21.804Z"
   },
   {
    "duration": 49,
    "start_time": "2024-08-12T22:04:21.830Z"
   },
   {
    "duration": 4,
    "start_time": "2024-08-12T22:04:21.881Z"
   },
   {
    "duration": 19,
    "start_time": "2024-08-12T22:04:21.887Z"
   },
   {
    "duration": 23,
    "start_time": "2024-08-12T22:04:21.908Z"
   },
   {
    "duration": 17,
    "start_time": "2024-08-12T22:04:21.933Z"
   },
   {
    "duration": 14,
    "start_time": "2024-08-12T22:04:21.951Z"
   },
   {
    "duration": 24,
    "start_time": "2024-08-12T22:04:21.966Z"
   },
   {
    "duration": 15,
    "start_time": "2024-08-12T22:04:21.992Z"
   },
   {
    "duration": 11,
    "start_time": "2024-08-12T22:04:22.009Z"
   },
   {
    "duration": 5,
    "start_time": "2024-08-12T22:04:22.021Z"
   },
   {
    "duration": 44,
    "start_time": "2024-08-12T22:04:22.031Z"
   },
   {
    "duration": 8,
    "start_time": "2024-08-12T22:04:22.076Z"
   },
   {
    "duration": 48,
    "start_time": "2024-08-12T22:04:22.086Z"
   },
   {
    "duration": 8,
    "start_time": "2024-08-12T22:04:22.136Z"
   },
   {
    "duration": 31,
    "start_time": "2024-08-12T22:04:22.147Z"
   },
   {
    "duration": 44,
    "start_time": "2024-08-12T22:04:22.180Z"
   },
   {
    "duration": 44,
    "start_time": "2024-08-12T22:04:22.225Z"
   },
   {
    "duration": 9,
    "start_time": "2024-08-12T22:04:22.270Z"
   },
   {
    "duration": 50,
    "start_time": "2024-08-12T22:04:22.281Z"
   },
   {
    "duration": 36,
    "start_time": "2024-08-12T22:04:22.333Z"
   },
   {
    "duration": 20,
    "start_time": "2024-08-12T22:04:22.370Z"
   },
   {
    "duration": 10,
    "start_time": "2024-08-12T22:04:22.392Z"
   },
   {
    "duration": 10,
    "start_time": "2024-08-12T22:04:22.404Z"
   },
   {
    "duration": 10,
    "start_time": "2024-08-12T22:04:22.415Z"
   },
   {
    "duration": 23,
    "start_time": "2024-08-12T22:04:22.426Z"
   },
   {
    "duration": 11,
    "start_time": "2024-08-12T22:04:22.450Z"
   },
   {
    "duration": 30,
    "start_time": "2024-08-12T22:04:22.462Z"
   },
   {
    "duration": 11,
    "start_time": "2024-08-12T22:04:22.496Z"
   },
   {
    "duration": 8,
    "start_time": "2024-08-12T22:04:22.509Z"
   },
   {
    "duration": 45,
    "start_time": "2024-08-13T07:49:58.975Z"
   },
   {
    "duration": 1347,
    "start_time": "2024-08-13T07:50:06.460Z"
   },
   {
    "duration": 5,
    "start_time": "2024-08-13T07:50:07.809Z"
   },
   {
    "duration": 70,
    "start_time": "2024-08-13T07:50:07.815Z"
   },
   {
    "duration": 949,
    "start_time": "2024-08-13T07:50:07.887Z"
   },
   {
    "duration": 6,
    "start_time": "2024-08-13T07:50:08.839Z"
   },
   {
    "duration": 83,
    "start_time": "2024-08-13T07:50:08.861Z"
   },
   {
    "duration": 74,
    "start_time": "2024-08-13T07:50:08.946Z"
   },
   {
    "duration": 104,
    "start_time": "2024-08-13T07:50:09.022Z"
   },
   {
    "duration": 71,
    "start_time": "2024-08-13T07:50:09.127Z"
   },
   {
    "duration": 83,
    "start_time": "2024-08-13T07:50:09.199Z"
   },
   {
    "duration": 58,
    "start_time": "2024-08-13T07:50:09.284Z"
   },
   {
    "duration": 384,
    "start_time": "2024-08-13T07:50:09.344Z"
   },
   {
    "duration": 67,
    "start_time": "2024-08-13T07:50:09.730Z"
   },
   {
    "duration": 185,
    "start_time": "2024-08-13T07:50:09.800Z"
   },
   {
    "duration": 246,
    "start_time": "2024-08-13T07:50:09.987Z"
   },
   {
    "duration": 29,
    "start_time": "2024-08-13T07:50:10.235Z"
   },
   {
    "duration": 67,
    "start_time": "2024-08-13T07:50:10.266Z"
   },
   {
    "duration": 10,
    "start_time": "2024-08-13T07:50:10.334Z"
   },
   {
    "duration": 35,
    "start_time": "2024-08-13T07:50:10.345Z"
   },
   {
    "duration": 63,
    "start_time": "2024-08-13T07:50:10.381Z"
   },
   {
    "duration": 59,
    "start_time": "2024-08-13T07:50:10.446Z"
   },
   {
    "duration": 69,
    "start_time": "2024-08-13T07:50:10.507Z"
   },
   {
    "duration": 39,
    "start_time": "2024-08-13T07:50:10.578Z"
   },
   {
    "duration": 2,
    "start_time": "2024-08-13T07:50:10.619Z"
   },
   {
    "duration": 46,
    "start_time": "2024-08-13T07:50:10.623Z"
   },
   {
    "duration": 24,
    "start_time": "2024-08-13T07:50:10.671Z"
   },
   {
    "duration": 45,
    "start_time": "2024-08-13T07:50:10.697Z"
   },
   {
    "duration": 31,
    "start_time": "2024-08-13T07:50:10.744Z"
   },
   {
    "duration": 70,
    "start_time": "2024-08-13T07:50:10.777Z"
   },
   {
    "duration": 2,
    "start_time": "2024-08-13T07:50:10.849Z"
   },
   {
    "duration": 39,
    "start_time": "2024-08-13T07:50:10.852Z"
   },
   {
    "duration": 73,
    "start_time": "2024-08-13T07:50:10.892Z"
   },
   {
    "duration": 57,
    "start_time": "2024-08-13T07:50:10.967Z"
   },
   {
    "duration": 30,
    "start_time": "2024-08-13T07:50:11.026Z"
   },
   {
    "duration": 55,
    "start_time": "2024-08-13T07:50:11.058Z"
   },
   {
    "duration": 42,
    "start_time": "2024-08-13T07:50:11.114Z"
   },
   {
    "duration": 50,
    "start_time": "2024-08-13T07:50:11.158Z"
   },
   {
    "duration": 71,
    "start_time": "2024-08-13T07:50:11.210Z"
   },
   {
    "duration": 24,
    "start_time": "2024-08-13T07:50:11.283Z"
   },
   {
    "duration": 60,
    "start_time": "2024-08-13T07:50:11.308Z"
   },
   {
    "duration": 42,
    "start_time": "2024-08-13T07:50:11.371Z"
   },
   {
    "duration": 29,
    "start_time": "2024-08-13T07:50:11.414Z"
   },
   {
    "duration": 40,
    "start_time": "2024-08-13T07:50:11.444Z"
   },
   {
    "duration": 47,
    "start_time": "2024-08-13T07:50:11.486Z"
   },
   {
    "duration": 19,
    "start_time": "2024-08-13T07:50:11.535Z"
   },
   {
    "duration": 45,
    "start_time": "2024-08-13T07:50:11.556Z"
   },
   {
    "duration": 77,
    "start_time": "2024-08-13T07:50:11.603Z"
   },
   {
    "duration": 64,
    "start_time": "2024-08-13T07:50:11.681Z"
   },
   {
    "duration": 82,
    "start_time": "2024-08-13T07:50:11.747Z"
   },
   {
    "duration": 51,
    "start_time": "2024-08-13T07:50:11.831Z"
   },
   {
    "duration": 45,
    "start_time": "2024-08-13T07:50:11.884Z"
   },
   {
    "duration": 29,
    "start_time": "2024-08-13T07:50:11.931Z"
   },
   {
    "duration": 108,
    "start_time": "2024-08-13T07:50:11.962Z"
   },
   {
    "duration": 32,
    "start_time": "2024-08-13T07:50:12.071Z"
   },
   {
    "duration": 28,
    "start_time": "2024-08-13T07:50:12.105Z"
   },
   {
    "duration": 38,
    "start_time": "2024-08-13T07:50:12.134Z"
   },
   {
    "duration": 19,
    "start_time": "2024-08-13T07:50:12.173Z"
   },
   {
    "duration": 35,
    "start_time": "2024-08-13T07:50:12.193Z"
   },
   {
    "duration": 36,
    "start_time": "2024-08-13T07:50:12.230Z"
   },
   {
    "duration": 20,
    "start_time": "2024-08-13T07:50:12.268Z"
   },
   {
    "duration": 177,
    "start_time": "2024-08-13T07:51:52.195Z"
   },
   {
    "duration": 39,
    "start_time": "2024-08-13T07:57:18.124Z"
   },
   {
    "duration": 18,
    "start_time": "2024-08-13T07:57:24.503Z"
   },
   {
    "duration": 8,
    "start_time": "2024-08-13T07:57:45.908Z"
   },
   {
    "duration": 5,
    "start_time": "2024-08-13T07:57:58.336Z"
   },
   {
    "duration": 5,
    "start_time": "2024-08-13T07:58:08.189Z"
   },
   {
    "duration": 6,
    "start_time": "2024-08-13T07:58:15.493Z"
   },
   {
    "duration": 6,
    "start_time": "2024-08-13T07:58:25.053Z"
   },
   {
    "duration": 7,
    "start_time": "2024-08-13T07:58:36.448Z"
   },
   {
    "duration": 6,
    "start_time": "2024-08-13T07:58:39.581Z"
   },
   {
    "duration": 7,
    "start_time": "2024-08-13T07:58:59.892Z"
   },
   {
    "duration": 1706,
    "start_time": "2024-08-13T08:00:07.055Z"
   },
   {
    "duration": 1351,
    "start_time": "2024-08-13T08:00:29.887Z"
   },
   {
    "duration": 7,
    "start_time": "2024-08-13T08:01:54.126Z"
   },
   {
    "duration": 22,
    "start_time": "2024-08-13T08:02:00.214Z"
   },
   {
    "duration": 44,
    "start_time": "2024-08-13T08:02:13.541Z"
   },
   {
    "duration": 5,
    "start_time": "2024-08-13T08:05:22.037Z"
   },
   {
    "duration": 5,
    "start_time": "2024-08-13T08:05:26.155Z"
   },
   {
    "duration": 111,
    "start_time": "2024-08-13T08:07:12.627Z"
   },
   {
    "duration": 6,
    "start_time": "2024-08-13T08:07:52.797Z"
   },
   {
    "duration": 48,
    "start_time": "2024-08-13T08:08:33.873Z"
   },
   {
    "duration": 47,
    "start_time": "2024-08-13T08:09:31.683Z"
   },
   {
    "duration": 52,
    "start_time": "2024-08-13T08:11:52.791Z"
   },
   {
    "duration": 57,
    "start_time": "2024-08-13T08:12:29.928Z"
   },
   {
    "duration": 24,
    "start_time": "2024-08-13T08:12:50.839Z"
   },
   {
    "duration": 11,
    "start_time": "2024-08-13T08:14:11.768Z"
   },
   {
    "duration": 18,
    "start_time": "2024-08-13T08:15:01.591Z"
   },
   {
    "duration": 10,
    "start_time": "2024-08-13T08:17:04.305Z"
   },
   {
    "duration": 11,
    "start_time": "2024-08-13T08:18:26.902Z"
   },
   {
    "duration": 88,
    "start_time": "2024-08-13T08:20:42.515Z"
   },
   {
    "duration": 517,
    "start_time": "2024-08-13T08:22:38.511Z"
   },
   {
    "duration": 64,
    "start_time": "2024-08-13T08:22:53.837Z"
   },
   {
    "duration": 47,
    "start_time": "2024-08-13T08:25:36.200Z"
   },
   {
    "duration": 66,
    "start_time": "2024-08-13T08:26:25.079Z"
   },
   {
    "duration": 39,
    "start_time": "2024-08-13T08:28:51.920Z"
   },
   {
    "duration": 3,
    "start_time": "2024-08-13T08:30:26.016Z"
   },
   {
    "duration": 31,
    "start_time": "2024-08-13T08:30:46.857Z"
   },
   {
    "duration": 19,
    "start_time": "2024-08-13T08:33:57.789Z"
   },
   {
    "duration": 23,
    "start_time": "2024-08-13T08:34:08.187Z"
   },
   {
    "duration": 3,
    "start_time": "2024-08-13T08:35:05.586Z"
   },
   {
    "duration": 2,
    "start_time": "2024-08-13T08:35:11.161Z"
   },
   {
    "duration": 7,
    "start_time": "2024-08-13T08:35:13.989Z"
   },
   {
    "duration": 35,
    "start_time": "2024-08-13T08:35:40.306Z"
   },
   {
    "duration": 36,
    "start_time": "2024-08-13T08:35:46.807Z"
   },
   {
    "duration": 4,
    "start_time": "2024-08-13T08:36:17.920Z"
   },
   {
    "duration": 7,
    "start_time": "2024-08-13T08:36:21.252Z"
   },
   {
    "duration": 28,
    "start_time": "2024-08-13T08:36:48.186Z"
   },
   {
    "duration": 26,
    "start_time": "2024-08-13T08:37:22.671Z"
   },
   {
    "duration": 4,
    "start_time": "2024-08-13T08:37:25.065Z"
   },
   {
    "duration": 7,
    "start_time": "2024-08-13T08:37:28.286Z"
   },
   {
    "duration": 22,
    "start_time": "2024-08-13T08:38:14.250Z"
   },
   {
    "duration": 3,
    "start_time": "2024-08-13T08:39:15.971Z"
   },
   {
    "duration": 8,
    "start_time": "2024-08-13T08:39:20.534Z"
   },
   {
    "duration": 34,
    "start_time": "2024-08-13T08:48:00.504Z"
   },
   {
    "duration": 23,
    "start_time": "2024-08-13T08:49:27.489Z"
   },
   {
    "duration": 18,
    "start_time": "2024-08-13T08:49:45.343Z"
   },
   {
    "duration": 20,
    "start_time": "2024-08-13T08:50:34.953Z"
   },
   {
    "duration": 81,
    "start_time": "2024-08-13T08:50:49.831Z"
   },
   {
    "duration": 18,
    "start_time": "2024-08-13T08:51:09.200Z"
   },
   {
    "duration": 1210,
    "start_time": "2024-08-13T08:51:17.907Z"
   },
   {
    "duration": 5,
    "start_time": "2024-08-13T08:51:19.119Z"
   },
   {
    "duration": 28,
    "start_time": "2024-08-13T08:51:19.126Z"
   },
   {
    "duration": 335,
    "start_time": "2024-08-13T08:51:19.156Z"
   },
   {
    "duration": 6,
    "start_time": "2024-08-13T08:51:19.493Z"
   },
   {
    "duration": 40,
    "start_time": "2024-08-13T08:51:19.502Z"
   },
   {
    "duration": 75,
    "start_time": "2024-08-13T08:51:19.544Z"
   },
   {
    "duration": 74,
    "start_time": "2024-08-13T08:51:19.620Z"
   },
   {
    "duration": 78,
    "start_time": "2024-08-13T08:51:19.695Z"
   },
   {
    "duration": 98,
    "start_time": "2024-08-13T08:51:19.776Z"
   },
   {
    "duration": 44,
    "start_time": "2024-08-13T08:51:19.875Z"
   },
   {
    "duration": 364,
    "start_time": "2024-08-13T08:51:19.921Z"
   },
   {
    "duration": 57,
    "start_time": "2024-08-13T08:51:20.287Z"
   },
   {
    "duration": 170,
    "start_time": "2024-08-13T08:51:20.345Z"
   },
   {
    "duration": 8,
    "start_time": "2024-08-13T08:51:20.517Z"
   },
   {
    "duration": 60,
    "start_time": "2024-08-13T08:51:20.527Z"
   },
   {
    "duration": 269,
    "start_time": "2024-08-13T08:51:20.588Z"
   },
   {
    "duration": 26,
    "start_time": "2024-08-13T08:51:20.859Z"
   },
   {
    "duration": 76,
    "start_time": "2024-08-13T08:51:20.887Z"
   },
   {
    "duration": 13,
    "start_time": "2024-08-13T08:51:20.965Z"
   },
   {
    "duration": 10,
    "start_time": "2024-08-13T08:51:20.979Z"
   },
   {
    "duration": 13,
    "start_time": "2024-08-13T08:51:20.991Z"
   },
   {
    "duration": 434,
    "start_time": "2024-08-13T08:51:21.005Z"
   },
   {
    "duration": 36,
    "start_time": "2024-08-13T08:51:21.440Z"
   },
   {
    "duration": 91,
    "start_time": "2024-08-13T08:51:21.478Z"
   },
   {
    "duration": 4,
    "start_time": "2024-08-13T08:51:21.570Z"
   },
   {
    "duration": 21,
    "start_time": "2024-08-13T08:51:21.575Z"
   },
   {
    "duration": 3,
    "start_time": "2024-08-13T08:51:21.600Z"
   },
   {
    "duration": 4,
    "start_time": "2024-08-13T08:51:21.604Z"
   },
   {
    "duration": 8,
    "start_time": "2024-08-13T08:51:21.609Z"
   },
   {
    "duration": 74,
    "start_time": "2024-08-13T08:51:21.618Z"
   },
   {
    "duration": 2,
    "start_time": "2024-08-13T08:51:21.694Z"
   },
   {
    "duration": 8,
    "start_time": "2024-08-13T08:51:21.698Z"
   },
   {
    "duration": 32,
    "start_time": "2024-08-13T08:51:21.707Z"
   },
   {
    "duration": 3,
    "start_time": "2024-08-13T08:51:21.740Z"
   },
   {
    "duration": 9,
    "start_time": "2024-08-13T08:51:21.760Z"
   },
   {
    "duration": 23,
    "start_time": "2024-08-13T08:51:21.771Z"
   },
   {
    "duration": 3,
    "start_time": "2024-08-13T08:51:21.795Z"
   },
   {
    "duration": 20,
    "start_time": "2024-08-13T08:51:21.799Z"
   },
   {
    "duration": 49,
    "start_time": "2024-08-13T08:51:21.821Z"
   },
   {
    "duration": 12,
    "start_time": "2024-08-13T08:51:21.871Z"
   },
   {
    "duration": 10,
    "start_time": "2024-08-13T08:51:21.885Z"
   },
   {
    "duration": 5,
    "start_time": "2024-08-13T08:51:21.897Z"
   },
   {
    "duration": 7,
    "start_time": "2024-08-13T08:51:21.904Z"
   },
   {
    "duration": 4,
    "start_time": "2024-08-13T08:51:21.913Z"
   },
   {
    "duration": 5,
    "start_time": "2024-08-13T08:51:21.918Z"
   },
   {
    "duration": 40,
    "start_time": "2024-08-13T08:51:21.925Z"
   },
   {
    "duration": 9,
    "start_time": "2024-08-13T08:51:21.967Z"
   },
   {
    "duration": 9,
    "start_time": "2024-08-13T08:51:21.978Z"
   },
   {
    "duration": 10,
    "start_time": "2024-08-13T08:51:21.989Z"
   },
   {
    "duration": 8,
    "start_time": "2024-08-13T08:51:22.001Z"
   },
   {
    "duration": 52,
    "start_time": "2024-08-13T08:51:22.011Z"
   },
   {
    "duration": 13,
    "start_time": "2024-08-13T08:51:22.065Z"
   },
   {
    "duration": 15,
    "start_time": "2024-08-13T08:51:22.080Z"
   },
   {
    "duration": 3,
    "start_time": "2024-08-13T08:51:22.097Z"
   },
   {
    "duration": 12,
    "start_time": "2024-08-13T08:51:22.101Z"
   },
   {
    "duration": 5,
    "start_time": "2024-08-13T08:51:22.115Z"
   },
   {
    "duration": 13,
    "start_time": "2024-08-13T08:51:22.121Z"
   },
   {
    "duration": 4,
    "start_time": "2024-08-13T08:51:22.135Z"
   },
   {
    "duration": 8,
    "start_time": "2024-08-13T08:51:22.161Z"
   },
   {
    "duration": 9,
    "start_time": "2024-08-13T08:51:22.170Z"
   },
   {
    "duration": 44,
    "start_time": "2024-08-13T08:51:22.181Z"
   },
   {
    "duration": 29,
    "start_time": "2024-08-13T08:51:22.226Z"
   },
   {
    "duration": 34,
    "start_time": "2024-08-13T08:52:53.685Z"
   },
   {
    "duration": 23,
    "start_time": "2024-08-13T08:53:18.031Z"
   },
   {
    "duration": 37,
    "start_time": "2024-08-13T08:53:32.572Z"
   },
   {
    "duration": 26,
    "start_time": "2024-08-13T08:53:51.433Z"
   },
   {
    "duration": 22,
    "start_time": "2024-08-13T08:54:02.816Z"
   },
   {
    "duration": 1296,
    "start_time": "2024-08-13T08:54:53.933Z"
   },
   {
    "duration": 4,
    "start_time": "2024-08-13T08:54:55.231Z"
   },
   {
    "duration": 47,
    "start_time": "2024-08-13T08:54:55.237Z"
   },
   {
    "duration": 342,
    "start_time": "2024-08-13T08:54:55.286Z"
   },
   {
    "duration": 6,
    "start_time": "2024-08-13T08:54:55.629Z"
   },
   {
    "duration": 43,
    "start_time": "2024-08-13T08:54:55.637Z"
   },
   {
    "duration": 81,
    "start_time": "2024-08-13T08:54:55.681Z"
   },
   {
    "duration": 68,
    "start_time": "2024-08-13T08:54:55.763Z"
   },
   {
    "duration": 79,
    "start_time": "2024-08-13T08:54:55.832Z"
   },
   {
    "duration": 83,
    "start_time": "2024-08-13T08:54:55.913Z"
   },
   {
    "duration": 40,
    "start_time": "2024-08-13T08:54:55.998Z"
   },
   {
    "duration": 371,
    "start_time": "2024-08-13T08:54:56.039Z"
   },
   {
    "duration": 67,
    "start_time": "2024-08-13T08:54:56.411Z"
   },
   {
    "duration": 168,
    "start_time": "2024-08-13T08:54:56.480Z"
   },
   {
    "duration": 13,
    "start_time": "2024-08-13T08:54:56.650Z"
   },
   {
    "duration": 59,
    "start_time": "2024-08-13T08:54:56.665Z"
   },
   {
    "duration": 276,
    "start_time": "2024-08-13T08:54:56.725Z"
   },
   {
    "duration": 25,
    "start_time": "2024-08-13T08:54:57.003Z"
   },
   {
    "duration": 88,
    "start_time": "2024-08-13T08:54:57.029Z"
   },
   {
    "duration": 12,
    "start_time": "2024-08-13T08:54:57.118Z"
   },
   {
    "duration": 13,
    "start_time": "2024-08-13T08:54:57.132Z"
   },
   {
    "duration": 25,
    "start_time": "2024-08-13T08:54:57.147Z"
   },
   {
    "duration": 396,
    "start_time": "2024-08-13T08:54:57.174Z"
   },
   {
    "duration": 36,
    "start_time": "2024-08-13T08:54:57.571Z"
   },
   {
    "duration": 88,
    "start_time": "2024-08-13T08:54:57.608Z"
   },
   {
    "duration": 3,
    "start_time": "2024-08-13T08:54:57.698Z"
   },
   {
    "duration": 68,
    "start_time": "2024-08-13T08:54:57.703Z"
   },
   {
    "duration": 3,
    "start_time": "2024-08-13T08:54:57.774Z"
   },
   {
    "duration": 21,
    "start_time": "2024-08-13T08:54:57.779Z"
   },
   {
    "duration": 29,
    "start_time": "2024-08-13T08:54:57.802Z"
   },
   {
    "duration": 47,
    "start_time": "2024-08-13T08:54:57.833Z"
   },
   {
    "duration": 3,
    "start_time": "2024-08-13T08:54:57.882Z"
   },
   {
    "duration": 21,
    "start_time": "2024-08-13T08:54:57.886Z"
   },
   {
    "duration": 31,
    "start_time": "2024-08-13T08:54:57.909Z"
   },
   {
    "duration": 11,
    "start_time": "2024-08-13T08:54:57.942Z"
   },
   {
    "duration": 13,
    "start_time": "2024-08-13T08:54:57.954Z"
   },
   {
    "duration": 27,
    "start_time": "2024-08-13T08:54:57.969Z"
   },
   {
    "duration": 3,
    "start_time": "2024-08-13T08:54:57.997Z"
   },
   {
    "duration": 9,
    "start_time": "2024-08-13T08:54:58.002Z"
   },
   {
    "duration": 89,
    "start_time": "2024-08-13T08:54:58.013Z"
   },
   {
    "duration": 0,
    "start_time": "2024-08-13T08:54:58.104Z"
   },
   {
    "duration": 0,
    "start_time": "2024-08-13T08:54:58.106Z"
   },
   {
    "duration": 0,
    "start_time": "2024-08-13T08:54:58.107Z"
   },
   {
    "duration": 0,
    "start_time": "2024-08-13T08:54:58.109Z"
   },
   {
    "duration": 0,
    "start_time": "2024-08-13T08:54:58.110Z"
   },
   {
    "duration": 0,
    "start_time": "2024-08-13T08:54:58.112Z"
   },
   {
    "duration": 0,
    "start_time": "2024-08-13T08:54:58.113Z"
   },
   {
    "duration": 0,
    "start_time": "2024-08-13T08:54:58.115Z"
   },
   {
    "duration": 0,
    "start_time": "2024-08-13T08:54:58.116Z"
   },
   {
    "duration": 0,
    "start_time": "2024-08-13T08:54:58.118Z"
   },
   {
    "duration": 0,
    "start_time": "2024-08-13T08:54:58.119Z"
   },
   {
    "duration": 0,
    "start_time": "2024-08-13T08:54:58.121Z"
   },
   {
    "duration": 0,
    "start_time": "2024-08-13T08:54:58.122Z"
   },
   {
    "duration": 0,
    "start_time": "2024-08-13T08:54:58.123Z"
   },
   {
    "duration": 0,
    "start_time": "2024-08-13T08:54:58.124Z"
   },
   {
    "duration": 0,
    "start_time": "2024-08-13T08:54:58.125Z"
   },
   {
    "duration": 0,
    "start_time": "2024-08-13T08:54:58.127Z"
   },
   {
    "duration": 0,
    "start_time": "2024-08-13T08:54:58.128Z"
   },
   {
    "duration": 0,
    "start_time": "2024-08-13T08:54:58.128Z"
   },
   {
    "duration": 0,
    "start_time": "2024-08-13T08:54:58.130Z"
   },
   {
    "duration": 0,
    "start_time": "2024-08-13T08:54:58.131Z"
   },
   {
    "duration": 0,
    "start_time": "2024-08-13T08:54:58.132Z"
   },
   {
    "duration": 0,
    "start_time": "2024-08-13T08:54:58.133Z"
   },
   {
    "duration": 27,
    "start_time": "2024-08-13T08:55:33.996Z"
   },
   {
    "duration": 19,
    "start_time": "2024-08-13T08:56:14.201Z"
   },
   {
    "duration": 157,
    "start_time": "2024-08-13T08:58:16.732Z"
   },
   {
    "duration": 26,
    "start_time": "2024-08-13T08:58:28.119Z"
   },
   {
    "duration": 32,
    "start_time": "2024-08-13T08:59:59.554Z"
   },
   {
    "duration": 25,
    "start_time": "2024-08-13T09:02:48.508Z"
   },
   {
    "duration": 29,
    "start_time": "2024-08-13T09:04:35.545Z"
   },
   {
    "duration": 18,
    "start_time": "2024-08-13T09:05:05.996Z"
   },
   {
    "duration": 24,
    "start_time": "2024-08-13T09:05:54.387Z"
   },
   {
    "duration": 49,
    "start_time": "2024-08-13T09:06:41.250Z"
   },
   {
    "duration": 34,
    "start_time": "2024-08-13T09:07:01.900Z"
   },
   {
    "duration": 21,
    "start_time": "2024-08-13T09:07:44.289Z"
   },
   {
    "duration": 25,
    "start_time": "2024-08-13T09:07:49.494Z"
   },
   {
    "duration": 19,
    "start_time": "2024-08-13T09:07:58.425Z"
   },
   {
    "duration": 24,
    "start_time": "2024-08-13T09:08:05.334Z"
   },
   {
    "duration": 30,
    "start_time": "2024-08-13T09:08:32.973Z"
   },
   {
    "duration": 31,
    "start_time": "2024-08-13T09:08:37.895Z"
   },
   {
    "duration": 25,
    "start_time": "2024-08-13T09:08:45.031Z"
   },
   {
    "duration": 24,
    "start_time": "2024-08-13T09:08:49.666Z"
   },
   {
    "duration": 32,
    "start_time": "2024-08-13T09:08:53.769Z"
   },
   {
    "duration": 23,
    "start_time": "2024-08-13T09:09:09.458Z"
   },
   {
    "duration": 30,
    "start_time": "2024-08-13T09:09:23.909Z"
   },
   {
    "duration": 29,
    "start_time": "2024-08-13T09:10:02.802Z"
   },
   {
    "duration": 13,
    "start_time": "2024-08-13T09:10:15.549Z"
   },
   {
    "duration": 1288,
    "start_time": "2024-08-13T09:10:51.806Z"
   },
   {
    "duration": 4,
    "start_time": "2024-08-13T09:10:53.096Z"
   },
   {
    "duration": 14,
    "start_time": "2024-08-13T09:10:53.102Z"
   },
   {
    "duration": 323,
    "start_time": "2024-08-13T09:10:53.118Z"
   },
   {
    "duration": 7,
    "start_time": "2024-08-13T09:10:53.443Z"
   },
   {
    "duration": 36,
    "start_time": "2024-08-13T09:10:53.461Z"
   },
   {
    "duration": 83,
    "start_time": "2024-08-13T09:10:53.498Z"
   },
   {
    "duration": 83,
    "start_time": "2024-08-13T09:10:53.584Z"
   },
   {
    "duration": 83,
    "start_time": "2024-08-13T09:10:53.668Z"
   },
   {
    "duration": 106,
    "start_time": "2024-08-13T09:10:53.763Z"
   },
   {
    "duration": 47,
    "start_time": "2024-08-13T09:10:53.871Z"
   },
   {
    "duration": 378,
    "start_time": "2024-08-13T09:10:53.920Z"
   },
   {
    "duration": 62,
    "start_time": "2024-08-13T09:10:54.300Z"
   },
   {
    "duration": 178,
    "start_time": "2024-08-13T09:10:54.364Z"
   },
   {
    "duration": 7,
    "start_time": "2024-08-13T09:10:54.544Z"
   },
   {
    "duration": 49,
    "start_time": "2024-08-13T09:10:54.561Z"
   },
   {
    "duration": 251,
    "start_time": "2024-08-13T09:10:54.612Z"
   },
   {
    "duration": 25,
    "start_time": "2024-08-13T09:10:54.864Z"
   },
   {
    "duration": 73,
    "start_time": "2024-08-13T09:10:54.891Z"
   },
   {
    "duration": 13,
    "start_time": "2024-08-13T09:10:54.966Z"
   },
   {
    "duration": 11,
    "start_time": "2024-08-13T09:10:54.980Z"
   },
   {
    "duration": 13,
    "start_time": "2024-08-13T09:10:54.993Z"
   },
   {
    "duration": 446,
    "start_time": "2024-08-13T09:10:55.008Z"
   },
   {
    "duration": 35,
    "start_time": "2024-08-13T09:10:55.455Z"
   },
   {
    "duration": 88,
    "start_time": "2024-08-13T09:10:55.492Z"
   },
   {
    "duration": 4,
    "start_time": "2024-08-13T09:10:55.582Z"
   },
   {
    "duration": 90,
    "start_time": "2024-08-13T09:10:55.588Z"
   },
   {
    "duration": 4,
    "start_time": "2024-08-13T09:10:55.683Z"
   },
   {
    "duration": 12,
    "start_time": "2024-08-13T09:10:55.689Z"
   },
   {
    "duration": 13,
    "start_time": "2024-08-13T09:10:55.702Z"
   },
   {
    "duration": 49,
    "start_time": "2024-08-13T09:10:55.717Z"
   },
   {
    "duration": 3,
    "start_time": "2024-08-13T09:10:55.768Z"
   },
   {
    "duration": 17,
    "start_time": "2024-08-13T09:10:55.772Z"
   },
   {
    "duration": 32,
    "start_time": "2024-08-13T09:10:55.791Z"
   },
   {
    "duration": 4,
    "start_time": "2024-08-13T09:10:55.825Z"
   },
   {
    "duration": 34,
    "start_time": "2024-08-13T09:10:55.831Z"
   },
   {
    "duration": 33,
    "start_time": "2024-08-13T09:10:55.867Z"
   },
   {
    "duration": 4,
    "start_time": "2024-08-13T09:10:55.902Z"
   },
   {
    "duration": 11,
    "start_time": "2024-08-13T09:10:55.907Z"
   },
   {
    "duration": 59,
    "start_time": "2024-08-13T09:10:55.919Z"
   },
   {
    "duration": 1292,
    "start_time": "2024-08-13T09:10:55.980Z"
   },
   {
    "duration": 0,
    "start_time": "2024-08-13T09:10:57.274Z"
   },
   {
    "duration": 0,
    "start_time": "2024-08-13T09:10:57.275Z"
   },
   {
    "duration": 0,
    "start_time": "2024-08-13T09:10:57.276Z"
   },
   {
    "duration": 0,
    "start_time": "2024-08-13T09:10:57.277Z"
   },
   {
    "duration": 0,
    "start_time": "2024-08-13T09:10:57.278Z"
   },
   {
    "duration": 0,
    "start_time": "2024-08-13T09:10:57.279Z"
   },
   {
    "duration": 0,
    "start_time": "2024-08-13T09:10:57.280Z"
   },
   {
    "duration": 0,
    "start_time": "2024-08-13T09:10:57.281Z"
   },
   {
    "duration": 0,
    "start_time": "2024-08-13T09:10:57.283Z"
   },
   {
    "duration": 0,
    "start_time": "2024-08-13T09:10:57.284Z"
   },
   {
    "duration": 0,
    "start_time": "2024-08-13T09:10:57.285Z"
   },
   {
    "duration": 0,
    "start_time": "2024-08-13T09:10:57.286Z"
   },
   {
    "duration": 0,
    "start_time": "2024-08-13T09:10:57.287Z"
   },
   {
    "duration": 0,
    "start_time": "2024-08-13T09:10:57.288Z"
   },
   {
    "duration": 0,
    "start_time": "2024-08-13T09:10:57.289Z"
   },
   {
    "duration": 0,
    "start_time": "2024-08-13T09:10:57.291Z"
   },
   {
    "duration": 0,
    "start_time": "2024-08-13T09:10:57.292Z"
   },
   {
    "duration": 0,
    "start_time": "2024-08-13T09:10:57.294Z"
   },
   {
    "duration": 0,
    "start_time": "2024-08-13T09:10:57.296Z"
   },
   {
    "duration": 0,
    "start_time": "2024-08-13T09:10:57.297Z"
   },
   {
    "duration": 0,
    "start_time": "2024-08-13T09:10:57.299Z"
   },
   {
    "duration": 942,
    "start_time": "2024-08-13T09:12:20.650Z"
   },
   {
    "duration": 1163,
    "start_time": "2024-08-13T09:14:20.018Z"
   },
   {
    "duration": 1244,
    "start_time": "2024-08-13T09:15:27.603Z"
   },
   {
    "duration": 1421,
    "start_time": "2024-08-13T09:16:03.590Z"
   },
   {
    "duration": 3,
    "start_time": "2024-08-13T09:16:30.429Z"
   },
   {
    "duration": 6,
    "start_time": "2024-08-13T09:16:40.349Z"
   },
   {
    "duration": 5,
    "start_time": "2024-08-13T09:16:51.635Z"
   },
   {
    "duration": 6,
    "start_time": "2024-08-13T09:17:00.056Z"
   },
   {
    "duration": 7,
    "start_time": "2024-08-13T09:17:33.861Z"
   },
   {
    "duration": 3,
    "start_time": "2024-08-13T09:17:41.366Z"
   },
   {
    "duration": 4,
    "start_time": "2024-08-13T09:19:20.716Z"
   },
   {
    "duration": 6,
    "start_time": "2024-08-13T09:19:27.842Z"
   },
   {
    "duration": 6,
    "start_time": "2024-08-13T09:19:34.595Z"
   },
   {
    "duration": 5,
    "start_time": "2024-08-13T09:19:46.603Z"
   },
   {
    "duration": 5,
    "start_time": "2024-08-13T09:19:51.906Z"
   },
   {
    "duration": 5,
    "start_time": "2024-08-13T09:19:59.007Z"
   },
   {
    "duration": 5,
    "start_time": "2024-08-13T09:20:04.114Z"
   },
   {
    "duration": 5,
    "start_time": "2024-08-13T09:20:08.491Z"
   },
   {
    "duration": 5,
    "start_time": "2024-08-13T09:20:12.762Z"
   },
   {
    "duration": 1265,
    "start_time": "2024-08-13T09:20:24.875Z"
   },
   {
    "duration": 5,
    "start_time": "2024-08-13T09:20:26.144Z"
   },
   {
    "duration": 22,
    "start_time": "2024-08-13T09:20:26.151Z"
   },
   {
    "duration": 374,
    "start_time": "2024-08-13T09:20:26.175Z"
   },
   {
    "duration": 11,
    "start_time": "2024-08-13T09:20:26.551Z"
   },
   {
    "duration": 31,
    "start_time": "2024-08-13T09:20:26.564Z"
   },
   {
    "duration": 119,
    "start_time": "2024-08-13T09:20:26.596Z"
   },
   {
    "duration": 82,
    "start_time": "2024-08-13T09:20:26.717Z"
   },
   {
    "duration": 69,
    "start_time": "2024-08-13T09:20:26.801Z"
   },
   {
    "duration": 91,
    "start_time": "2024-08-13T09:20:26.871Z"
   },
   {
    "duration": 53,
    "start_time": "2024-08-13T09:20:26.965Z"
   },
   {
    "duration": 356,
    "start_time": "2024-08-13T09:20:27.020Z"
   },
   {
    "duration": 57,
    "start_time": "2024-08-13T09:20:27.378Z"
   },
   {
    "duration": 168,
    "start_time": "2024-08-13T09:20:27.438Z"
   },
   {
    "duration": 8,
    "start_time": "2024-08-13T09:20:27.607Z"
   },
   {
    "duration": 62,
    "start_time": "2024-08-13T09:20:27.617Z"
   },
   {
    "duration": 277,
    "start_time": "2024-08-13T09:20:27.681Z"
   },
   {
    "duration": 27,
    "start_time": "2024-08-13T09:20:27.960Z"
   },
   {
    "duration": 75,
    "start_time": "2024-08-13T09:20:27.989Z"
   },
   {
    "duration": 14,
    "start_time": "2024-08-13T09:20:28.066Z"
   },
   {
    "duration": 12,
    "start_time": "2024-08-13T09:20:28.081Z"
   },
   {
    "duration": 24,
    "start_time": "2024-08-13T09:20:28.095Z"
   },
   {
    "duration": 506,
    "start_time": "2024-08-13T09:20:28.121Z"
   },
   {
    "duration": 37,
    "start_time": "2024-08-13T09:20:28.628Z"
   },
   {
    "duration": 38,
    "start_time": "2024-08-13T09:20:28.667Z"
   },
   {
    "duration": 56,
    "start_time": "2024-08-13T09:20:28.706Z"
   },
   {
    "duration": 23,
    "start_time": "2024-08-13T09:20:28.764Z"
   },
   {
    "duration": 3,
    "start_time": "2024-08-13T09:20:28.789Z"
   },
   {
    "duration": 4,
    "start_time": "2024-08-13T09:20:28.794Z"
   },
   {
    "duration": 9,
    "start_time": "2024-08-13T09:20:28.799Z"
   },
   {
    "duration": 75,
    "start_time": "2024-08-13T09:20:28.811Z"
   },
   {
    "duration": 3,
    "start_time": "2024-08-13T09:20:28.888Z"
   },
   {
    "duration": 8,
    "start_time": "2024-08-13T09:20:28.892Z"
   },
   {
    "duration": 26,
    "start_time": "2024-08-13T09:20:28.902Z"
   },
   {
    "duration": 3,
    "start_time": "2024-08-13T09:20:28.929Z"
   },
   {
    "duration": 8,
    "start_time": "2024-08-13T09:20:28.960Z"
   },
   {
    "duration": 26,
    "start_time": "2024-08-13T09:20:28.969Z"
   },
   {
    "duration": 3,
    "start_time": "2024-08-13T09:20:28.997Z"
   },
   {
    "duration": 19,
    "start_time": "2024-08-13T09:20:29.002Z"
   },
   {
    "duration": 49,
    "start_time": "2024-08-13T09:20:29.023Z"
   },
   {
    "duration": 3,
    "start_time": "2024-08-13T09:20:29.076Z"
   },
   {
    "duration": 10,
    "start_time": "2024-08-13T09:20:29.081Z"
   },
   {
    "duration": 5,
    "start_time": "2024-08-13T09:20:29.092Z"
   },
   {
    "duration": 12,
    "start_time": "2024-08-13T09:20:29.099Z"
   },
   {
    "duration": 10,
    "start_time": "2024-08-13T09:20:29.113Z"
   },
   {
    "duration": 8,
    "start_time": "2024-08-13T09:20:29.124Z"
   },
   {
    "duration": 29,
    "start_time": "2024-08-13T09:20:29.133Z"
   },
   {
    "duration": 15,
    "start_time": "2024-08-13T09:20:29.163Z"
   },
   {
    "duration": 12,
    "start_time": "2024-08-13T09:20:29.179Z"
   },
   {
    "duration": 8,
    "start_time": "2024-08-13T09:20:29.192Z"
   },
   {
    "duration": 7,
    "start_time": "2024-08-13T09:20:29.202Z"
   },
   {
    "duration": 8,
    "start_time": "2024-08-13T09:20:29.210Z"
   },
   {
    "duration": 47,
    "start_time": "2024-08-13T09:20:29.219Z"
   },
   {
    "duration": 1450,
    "start_time": "2024-08-13T09:20:29.268Z"
   },
   {
    "duration": 0,
    "start_time": "2024-08-13T09:20:30.719Z"
   },
   {
    "duration": 0,
    "start_time": "2024-08-13T09:20:30.721Z"
   },
   {
    "duration": 0,
    "start_time": "2024-08-13T09:20:30.722Z"
   },
   {
    "duration": 0,
    "start_time": "2024-08-13T09:20:30.723Z"
   },
   {
    "duration": 0,
    "start_time": "2024-08-13T09:20:30.724Z"
   },
   {
    "duration": 0,
    "start_time": "2024-08-13T09:20:30.725Z"
   },
   {
    "duration": 0,
    "start_time": "2024-08-13T09:20:30.726Z"
   },
   {
    "duration": 0,
    "start_time": "2024-08-13T09:20:30.727Z"
   },
   {
    "duration": 4,
    "start_time": "2024-08-13T09:27:33.381Z"
   },
   {
    "duration": 4,
    "start_time": "2024-08-13T09:29:23.659Z"
   },
   {
    "duration": 4,
    "start_time": "2024-08-13T09:29:24.772Z"
   },
   {
    "duration": 5,
    "start_time": "2024-08-13T09:29:26.376Z"
   },
   {
    "duration": 4,
    "start_time": "2024-08-13T09:29:27.166Z"
   },
   {
    "duration": 13,
    "start_time": "2024-08-13T09:29:32.696Z"
   },
   {
    "duration": 7,
    "start_time": "2024-08-13T09:29:41.799Z"
   },
   {
    "duration": 7,
    "start_time": "2024-08-13T09:29:47.053Z"
   },
   {
    "duration": 14,
    "start_time": "2024-08-13T09:29:49.818Z"
   },
   {
    "duration": 7,
    "start_time": "2024-08-13T09:29:52.715Z"
   },
   {
    "duration": 1276,
    "start_time": "2024-08-13T09:29:57.698Z"
   },
   {
    "duration": 4,
    "start_time": "2024-08-13T09:29:58.976Z"
   },
   {
    "duration": 8,
    "start_time": "2024-08-13T09:29:58.981Z"
   },
   {
    "duration": 303,
    "start_time": "2024-08-13T09:29:58.991Z"
   },
   {
    "duration": 8,
    "start_time": "2024-08-13T09:29:59.296Z"
   },
   {
    "duration": 45,
    "start_time": "2024-08-13T09:29:59.306Z"
   },
   {
    "duration": 72,
    "start_time": "2024-08-13T09:29:59.361Z"
   },
   {
    "duration": 93,
    "start_time": "2024-08-13T09:29:59.435Z"
   },
   {
    "duration": 77,
    "start_time": "2024-08-13T09:29:59.530Z"
   },
   {
    "duration": 85,
    "start_time": "2024-08-13T09:29:59.609Z"
   },
   {
    "duration": 72,
    "start_time": "2024-08-13T09:29:59.695Z"
   },
   {
    "duration": 400,
    "start_time": "2024-08-13T09:29:59.769Z"
   },
   {
    "duration": 54,
    "start_time": "2024-08-13T09:30:00.171Z"
   },
   {
    "duration": 261,
    "start_time": "2024-08-13T09:30:00.227Z"
   },
   {
    "duration": 7,
    "start_time": "2024-08-13T09:30:00.490Z"
   },
   {
    "duration": 82,
    "start_time": "2024-08-13T09:30:00.499Z"
   },
   {
    "duration": 253,
    "start_time": "2024-08-13T09:30:00.583Z"
   },
   {
    "duration": 30,
    "start_time": "2024-08-13T09:30:00.838Z"
   },
   {
    "duration": 101,
    "start_time": "2024-08-13T09:30:00.869Z"
   },
   {
    "duration": 77,
    "start_time": "2024-08-13T09:30:00.971Z"
   },
   {
    "duration": 137,
    "start_time": "2024-08-13T09:30:01.050Z"
   },
   {
    "duration": 153,
    "start_time": "2024-08-13T09:30:01.189Z"
   },
   {
    "duration": 536,
    "start_time": "2024-08-13T09:30:01.344Z"
   },
   {
    "duration": 84,
    "start_time": "2024-08-13T09:30:01.882Z"
   },
   {
    "duration": 112,
    "start_time": "2024-08-13T09:30:01.968Z"
   },
   {
    "duration": 160,
    "start_time": "2024-08-13T09:30:02.082Z"
   },
   {
    "duration": 61,
    "start_time": "2024-08-13T09:30:02.243Z"
   },
   {
    "duration": 3,
    "start_time": "2024-08-13T09:30:02.307Z"
   },
   {
    "duration": 82,
    "start_time": "2024-08-13T09:30:02.312Z"
   },
   {
    "duration": 74,
    "start_time": "2024-08-13T09:30:02.396Z"
   },
   {
    "duration": 57,
    "start_time": "2024-08-13T09:30:02.472Z"
   },
   {
    "duration": 3,
    "start_time": "2024-08-13T09:30:02.531Z"
   },
   {
    "duration": 20,
    "start_time": "2024-08-13T09:30:02.535Z"
   },
   {
    "duration": 25,
    "start_time": "2024-08-13T09:30:02.557Z"
   },
   {
    "duration": 3,
    "start_time": "2024-08-13T09:30:02.584Z"
   },
   {
    "duration": 22,
    "start_time": "2024-08-13T09:30:02.588Z"
   },
   {
    "duration": 65,
    "start_time": "2024-08-13T09:30:02.612Z"
   },
   {
    "duration": 3,
    "start_time": "2024-08-13T09:30:02.680Z"
   },
   {
    "duration": 27,
    "start_time": "2024-08-13T09:30:02.686Z"
   },
   {
    "duration": 51,
    "start_time": "2024-08-13T09:30:02.715Z"
   },
   {
    "duration": 50,
    "start_time": "2024-08-13T09:30:02.768Z"
   },
   {
    "duration": 20,
    "start_time": "2024-08-13T09:30:02.820Z"
   },
   {
    "duration": 41,
    "start_time": "2024-08-13T09:30:02.842Z"
   },
   {
    "duration": 50,
    "start_time": "2024-08-13T09:30:02.885Z"
   },
   {
    "duration": 32,
    "start_time": "2024-08-13T09:30:02.937Z"
   },
   {
    "duration": 21,
    "start_time": "2024-08-13T09:30:02.971Z"
   },
   {
    "duration": 15,
    "start_time": "2024-08-13T09:30:02.993Z"
   },
   {
    "duration": 7,
    "start_time": "2024-08-13T09:30:03.010Z"
   },
   {
    "duration": 19,
    "start_time": "2024-08-13T09:30:03.019Z"
   },
   {
    "duration": 36,
    "start_time": "2024-08-13T09:30:03.039Z"
   },
   {
    "duration": 10,
    "start_time": "2024-08-13T09:30:03.077Z"
   },
   {
    "duration": 9,
    "start_time": "2024-08-13T09:30:03.089Z"
   },
   {
    "duration": 15,
    "start_time": "2024-08-13T09:30:03.100Z"
   },
   {
    "duration": 4,
    "start_time": "2024-08-13T09:30:03.117Z"
   },
   {
    "duration": 51,
    "start_time": "2024-08-13T09:30:03.123Z"
   },
   {
    "duration": 15,
    "start_time": "2024-08-13T09:30:03.176Z"
   },
   {
    "duration": 25,
    "start_time": "2024-08-13T09:30:03.193Z"
   },
   {
    "duration": 7,
    "start_time": "2024-08-13T09:30:03.220Z"
   },
   {
    "duration": 13,
    "start_time": "2024-08-13T09:30:03.228Z"
   },
   {
    "duration": 13,
    "start_time": "2024-08-13T09:30:03.242Z"
   },
   {
    "duration": 40,
    "start_time": "2024-08-13T09:30:03.256Z"
   },
   {
    "duration": 8,
    "start_time": "2024-08-13T09:30:03.298Z"
   },
   {
    "duration": 1437,
    "start_time": "2024-08-13T09:34:30.062Z"
   },
   {
    "duration": 6,
    "start_time": "2024-08-13T09:34:31.502Z"
   },
   {
    "duration": 15,
    "start_time": "2024-08-13T09:34:31.510Z"
   },
   {
    "duration": 371,
    "start_time": "2024-08-13T09:34:31.562Z"
   },
   {
    "duration": 8,
    "start_time": "2024-08-13T09:34:31.935Z"
   },
   {
    "duration": 44,
    "start_time": "2024-08-13T09:34:31.944Z"
   },
   {
    "duration": 85,
    "start_time": "2024-08-13T09:34:31.990Z"
   },
   {
    "duration": 69,
    "start_time": "2024-08-13T09:34:32.077Z"
   },
   {
    "duration": 75,
    "start_time": "2024-08-13T09:34:32.161Z"
   },
   {
    "duration": 91,
    "start_time": "2024-08-13T09:34:32.238Z"
   },
   {
    "duration": 113,
    "start_time": "2024-08-13T09:34:32.331Z"
   },
   {
    "duration": 328,
    "start_time": "2024-08-13T09:34:32.446Z"
   },
   {
    "duration": 55,
    "start_time": "2024-08-13T09:34:32.775Z"
   },
   {
    "duration": 167,
    "start_time": "2024-08-13T09:34:32.832Z"
   },
   {
    "duration": 8,
    "start_time": "2024-08-13T09:34:33.000Z"
   },
   {
    "duration": 60,
    "start_time": "2024-08-13T09:34:33.010Z"
   },
   {
    "duration": 253,
    "start_time": "2024-08-13T09:34:33.072Z"
   },
   {
    "duration": 34,
    "start_time": "2024-08-13T09:34:33.327Z"
   },
   {
    "duration": 56,
    "start_time": "2024-08-13T09:34:33.362Z"
   },
   {
    "duration": 13,
    "start_time": "2024-08-13T09:34:33.419Z"
   },
   {
    "duration": 30,
    "start_time": "2024-08-13T09:34:33.433Z"
   },
   {
    "duration": 14,
    "start_time": "2024-08-13T09:34:33.464Z"
   },
   {
    "duration": 428,
    "start_time": "2024-08-13T09:34:33.479Z"
   },
   {
    "duration": 77,
    "start_time": "2024-08-13T09:34:33.910Z"
   },
   {
    "duration": 96,
    "start_time": "2024-08-13T09:34:33.989Z"
   },
   {
    "duration": 3,
    "start_time": "2024-08-13T09:34:34.087Z"
   },
   {
    "duration": 77,
    "start_time": "2024-08-13T09:34:34.092Z"
   },
   {
    "duration": 3,
    "start_time": "2024-08-13T09:34:34.174Z"
   },
   {
    "duration": 34,
    "start_time": "2024-08-13T09:34:34.179Z"
   },
   {
    "duration": 18,
    "start_time": "2024-08-13T09:34:34.214Z"
   },
   {
    "duration": 39,
    "start_time": "2024-08-13T09:34:34.233Z"
   },
   {
    "duration": 4,
    "start_time": "2024-08-13T09:34:34.274Z"
   },
   {
    "duration": 45,
    "start_time": "2024-08-13T09:34:34.280Z"
   },
   {
    "duration": 112,
    "start_time": "2024-08-13T09:34:34.326Z"
   },
   {
    "duration": 27,
    "start_time": "2024-08-13T09:34:34.440Z"
   },
   {
    "duration": 25,
    "start_time": "2024-08-13T09:34:34.469Z"
   },
   {
    "duration": 51,
    "start_time": "2024-08-13T09:34:34.496Z"
   },
   {
    "duration": 4,
    "start_time": "2024-08-13T09:34:34.548Z"
   },
   {
    "duration": 13,
    "start_time": "2024-08-13T09:34:34.553Z"
   },
   {
    "duration": 97,
    "start_time": "2024-08-13T09:34:34.568Z"
   },
   {
    "duration": 46,
    "start_time": "2024-08-13T09:34:34.667Z"
   },
   {
    "duration": 20,
    "start_time": "2024-08-13T09:34:34.715Z"
   },
   {
    "duration": 30,
    "start_time": "2024-08-13T09:34:34.737Z"
   },
   {
    "duration": 51,
    "start_time": "2024-08-13T09:34:34.769Z"
   },
   {
    "duration": 61,
    "start_time": "2024-08-13T09:34:34.822Z"
   },
   {
    "duration": 31,
    "start_time": "2024-08-13T09:34:34.885Z"
   },
   {
    "duration": 17,
    "start_time": "2024-08-13T09:34:34.918Z"
   },
   {
    "duration": 15,
    "start_time": "2024-08-13T09:34:34.937Z"
   },
   {
    "duration": 22,
    "start_time": "2024-08-13T09:34:34.954Z"
   },
   {
    "duration": 35,
    "start_time": "2024-08-13T09:34:34.978Z"
   },
   {
    "duration": 15,
    "start_time": "2024-08-13T09:34:35.015Z"
   },
   {
    "duration": 10,
    "start_time": "2024-08-13T09:34:35.032Z"
   },
   {
    "duration": 9,
    "start_time": "2024-08-13T09:34:35.044Z"
   },
   {
    "duration": 7,
    "start_time": "2024-08-13T09:34:35.055Z"
   },
   {
    "duration": 4,
    "start_time": "2024-08-13T09:34:35.064Z"
   },
   {
    "duration": 5,
    "start_time": "2024-08-13T09:34:35.070Z"
   },
   {
    "duration": 6,
    "start_time": "2024-08-13T09:34:35.077Z"
   },
   {
    "duration": 9,
    "start_time": "2024-08-13T09:34:35.085Z"
   },
   {
    "duration": 37,
    "start_time": "2024-08-13T09:34:35.096Z"
   },
   {
    "duration": 60,
    "start_time": "2024-08-13T09:34:35.135Z"
   },
   {
    "duration": 25,
    "start_time": "2024-08-13T09:34:35.197Z"
   },
   {
    "duration": 51,
    "start_time": "2024-08-13T09:34:35.224Z"
   },
   {
    "duration": 1124,
    "start_time": "2024-08-13T17:58:03.220Z"
   },
   {
    "duration": 4,
    "start_time": "2024-08-13T17:58:04.346Z"
   },
   {
    "duration": 24,
    "start_time": "2024-08-13T17:58:04.351Z"
   },
   {
    "duration": 808,
    "start_time": "2024-08-13T17:58:04.376Z"
   },
   {
    "duration": 6,
    "start_time": "2024-08-13T17:58:05.187Z"
   },
   {
    "duration": 44,
    "start_time": "2024-08-13T17:58:05.195Z"
   },
   {
    "duration": 81,
    "start_time": "2024-08-13T17:58:05.240Z"
   },
   {
    "duration": 68,
    "start_time": "2024-08-13T17:58:05.322Z"
   },
   {
    "duration": 67,
    "start_time": "2024-08-13T17:58:05.391Z"
   },
   {
    "duration": 150,
    "start_time": "2024-08-13T17:58:05.459Z"
   },
   {
    "duration": 41,
    "start_time": "2024-08-13T17:58:05.611Z"
   },
   {
    "duration": 290,
    "start_time": "2024-08-13T17:58:05.653Z"
   },
   {
    "duration": 42,
    "start_time": "2024-08-13T17:58:05.944Z"
   },
   {
    "duration": 140,
    "start_time": "2024-08-13T17:58:05.989Z"
   },
   {
    "duration": 6,
    "start_time": "2024-08-13T17:58:06.130Z"
   },
   {
    "duration": 47,
    "start_time": "2024-08-13T17:58:06.138Z"
   },
   {
    "duration": 202,
    "start_time": "2024-08-13T17:58:06.186Z"
   },
   {
    "duration": 27,
    "start_time": "2024-08-13T17:58:06.390Z"
   },
   {
    "duration": 53,
    "start_time": "2024-08-13T17:58:06.418Z"
   },
   {
    "duration": 30,
    "start_time": "2024-08-13T17:58:06.472Z"
   },
   {
    "duration": 9,
    "start_time": "2024-08-13T17:58:06.504Z"
   },
   {
    "duration": 16,
    "start_time": "2024-08-13T17:58:06.517Z"
   },
   {
    "duration": 570,
    "start_time": "2024-08-13T17:58:06.534Z"
   },
   {
    "duration": 29,
    "start_time": "2024-08-13T17:58:07.106Z"
   },
   {
    "duration": 86,
    "start_time": "2024-08-13T17:58:07.137Z"
   },
   {
    "duration": 3,
    "start_time": "2024-08-13T17:58:07.224Z"
   },
   {
    "duration": 40,
    "start_time": "2024-08-13T17:58:07.229Z"
   },
   {
    "duration": 2,
    "start_time": "2024-08-13T17:58:07.270Z"
   },
   {
    "duration": 4,
    "start_time": "2024-08-13T17:58:07.273Z"
   },
   {
    "duration": 6,
    "start_time": "2024-08-13T17:58:07.301Z"
   },
   {
    "duration": 31,
    "start_time": "2024-08-13T17:58:07.308Z"
   },
   {
    "duration": 3,
    "start_time": "2024-08-13T17:58:07.341Z"
   },
   {
    "duration": 16,
    "start_time": "2024-08-13T17:58:07.345Z"
   },
   {
    "duration": 40,
    "start_time": "2024-08-13T17:58:07.362Z"
   },
   {
    "duration": 2,
    "start_time": "2024-08-13T17:58:07.404Z"
   },
   {
    "duration": 141,
    "start_time": "2024-08-13T17:58:07.408Z"
   },
   {
    "duration": 21,
    "start_time": "2024-08-13T17:58:07.550Z"
   },
   {
    "duration": 2,
    "start_time": "2024-08-13T17:58:07.573Z"
   },
   {
    "duration": 20,
    "start_time": "2024-08-13T17:58:07.576Z"
   },
   {
    "duration": 34,
    "start_time": "2024-08-13T17:58:07.597Z"
   },
   {
    "duration": 11,
    "start_time": "2024-08-13T17:58:07.635Z"
   },
   {
    "duration": 8,
    "start_time": "2024-08-13T17:58:07.647Z"
   },
   {
    "duration": 5,
    "start_time": "2024-08-13T17:58:07.656Z"
   },
   {
    "duration": 7,
    "start_time": "2024-08-13T17:58:07.662Z"
   },
   {
    "duration": 7,
    "start_time": "2024-08-13T17:58:07.670Z"
   },
   {
    "duration": 7,
    "start_time": "2024-08-13T17:58:07.678Z"
   },
   {
    "duration": 19,
    "start_time": "2024-08-13T17:58:07.686Z"
   },
   {
    "duration": 31,
    "start_time": "2024-08-13T17:58:07.706Z"
   },
   {
    "duration": 12,
    "start_time": "2024-08-13T17:58:07.738Z"
   },
   {
    "duration": 16,
    "start_time": "2024-08-13T17:58:07.751Z"
   },
   {
    "duration": 43,
    "start_time": "2024-08-13T17:58:07.769Z"
   },
   {
    "duration": 23,
    "start_time": "2024-08-13T17:58:07.814Z"
   },
   {
    "duration": 13,
    "start_time": "2024-08-13T17:58:07.839Z"
   },
   {
    "duration": 2,
    "start_time": "2024-08-13T17:58:07.853Z"
   },
   {
    "duration": 6,
    "start_time": "2024-08-13T17:58:07.856Z"
   },
   {
    "duration": 6,
    "start_time": "2024-08-13T17:58:07.863Z"
   },
   {
    "duration": 14,
    "start_time": "2024-08-13T17:58:07.870Z"
   },
   {
    "duration": 13,
    "start_time": "2024-08-13T17:58:07.885Z"
   },
   {
    "duration": 21,
    "start_time": "2024-08-13T17:58:07.899Z"
   },
   {
    "duration": 18,
    "start_time": "2024-08-13T17:58:07.921Z"
   },
   {
    "duration": 19,
    "start_time": "2024-08-13T17:58:07.940Z"
   },
   {
    "duration": 9,
    "start_time": "2024-08-13T17:58:07.960Z"
   },
   {
    "duration": 44,
    "start_time": "2024-08-13T18:00:30.503Z"
   },
   {
    "duration": 51,
    "start_time": "2024-08-13T18:12:29.284Z"
   },
   {
    "duration": 1449,
    "start_time": "2024-08-13T18:12:34.795Z"
   },
   {
    "duration": 4,
    "start_time": "2024-08-13T18:12:36.247Z"
   },
   {
    "duration": 12,
    "start_time": "2024-08-13T18:12:36.253Z"
   },
   {
    "duration": 843,
    "start_time": "2024-08-13T18:12:36.266Z"
   },
   {
    "duration": 7,
    "start_time": "2024-08-13T18:12:37.111Z"
   },
   {
    "duration": 45,
    "start_time": "2024-08-13T18:12:37.120Z"
   },
   {
    "duration": 75,
    "start_time": "2024-08-13T18:12:37.167Z"
   },
   {
    "duration": 85,
    "start_time": "2024-08-13T18:12:37.244Z"
   },
   {
    "duration": 112,
    "start_time": "2024-08-13T18:12:37.331Z"
   },
   {
    "duration": 82,
    "start_time": "2024-08-13T18:12:37.445Z"
   },
   {
    "duration": 64,
    "start_time": "2024-08-13T18:12:37.528Z"
   },
   {
    "duration": 363,
    "start_time": "2024-08-13T18:12:37.594Z"
   },
   {
    "duration": 57,
    "start_time": "2024-08-13T18:12:37.959Z"
   },
   {
    "duration": 165,
    "start_time": "2024-08-13T18:12:38.019Z"
   },
   {
    "duration": 6,
    "start_time": "2024-08-13T18:12:38.186Z"
   },
   {
    "duration": 43,
    "start_time": "2024-08-13T18:12:38.194Z"
   },
   {
    "duration": 262,
    "start_time": "2024-08-13T18:12:38.238Z"
   },
   {
    "duration": 26,
    "start_time": "2024-08-13T18:12:38.502Z"
   },
   {
    "duration": 70,
    "start_time": "2024-08-13T18:12:38.529Z"
   },
   {
    "duration": 12,
    "start_time": "2024-08-13T18:12:38.600Z"
   },
   {
    "duration": 11,
    "start_time": "2024-08-13T18:12:38.614Z"
   },
   {
    "duration": 10,
    "start_time": "2024-08-13T18:12:38.627Z"
   },
   {
    "duration": 448,
    "start_time": "2024-08-13T18:12:38.638Z"
   },
   {
    "duration": 81,
    "start_time": "2024-08-13T18:12:39.088Z"
   },
   {
    "duration": 51,
    "start_time": "2024-08-13T18:12:39.171Z"
   },
   {
    "duration": 81,
    "start_time": "2024-08-13T18:12:39.223Z"
   },
   {
    "duration": 26,
    "start_time": "2024-08-13T18:12:39.306Z"
   },
   {
    "duration": 40,
    "start_time": "2024-08-13T18:12:39.334Z"
   },
   {
    "duration": 3,
    "start_time": "2024-08-13T18:12:39.376Z"
   },
   {
    "duration": 17,
    "start_time": "2024-08-13T18:12:39.381Z"
   },
   {
    "duration": 10,
    "start_time": "2024-08-13T18:12:39.400Z"
   },
   {
    "duration": 38,
    "start_time": "2024-08-13T18:12:39.412Z"
   },
   {
    "duration": 14,
    "start_time": "2024-08-13T18:12:39.451Z"
   },
   {
    "duration": 21,
    "start_time": "2024-08-13T18:12:39.467Z"
   },
   {
    "duration": 24,
    "start_time": "2024-08-13T18:12:39.490Z"
   },
   {
    "duration": 3,
    "start_time": "2024-08-13T18:12:39.516Z"
   },
   {
    "duration": 8,
    "start_time": "2024-08-13T18:12:39.520Z"
   },
   {
    "duration": 37,
    "start_time": "2024-08-13T18:12:39.529Z"
   },
   {
    "duration": 3,
    "start_time": "2024-08-13T18:12:39.567Z"
   },
   {
    "duration": 19,
    "start_time": "2024-08-13T18:12:39.571Z"
   },
   {
    "duration": 24,
    "start_time": "2024-08-13T18:12:39.595Z"
   },
   {
    "duration": 3,
    "start_time": "2024-08-13T18:12:39.621Z"
   },
   {
    "duration": 8,
    "start_time": "2024-08-13T18:12:39.625Z"
   },
   {
    "duration": 4,
    "start_time": "2024-08-13T18:12:39.634Z"
   },
   {
    "duration": 17,
    "start_time": "2024-08-13T18:12:39.639Z"
   },
   {
    "duration": 8,
    "start_time": "2024-08-13T18:12:39.665Z"
   },
   {
    "duration": 14,
    "start_time": "2024-08-13T18:12:39.675Z"
   },
   {
    "duration": 15,
    "start_time": "2024-08-13T18:12:39.691Z"
   },
   {
    "duration": 7,
    "start_time": "2024-08-13T18:12:39.708Z"
   },
   {
    "duration": 6,
    "start_time": "2024-08-13T18:12:39.716Z"
   },
   {
    "duration": 6,
    "start_time": "2024-08-13T18:12:39.723Z"
   },
   {
    "duration": 79,
    "start_time": "2024-08-13T18:12:39.730Z"
   },
   {
    "duration": 7,
    "start_time": "2024-08-13T18:12:39.811Z"
   },
   {
    "duration": 7,
    "start_time": "2024-08-13T18:12:39.820Z"
   },
   {
    "duration": 6,
    "start_time": "2024-08-13T18:12:39.829Z"
   },
   {
    "duration": 4,
    "start_time": "2024-08-13T18:12:39.837Z"
   },
   {
    "duration": 4,
    "start_time": "2024-08-13T18:12:39.843Z"
   },
   {
    "duration": 7,
    "start_time": "2024-08-13T18:12:39.848Z"
   },
   {
    "duration": 11,
    "start_time": "2024-08-13T18:12:39.857Z"
   },
   {
    "duration": 16,
    "start_time": "2024-08-13T18:12:39.869Z"
   },
   {
    "duration": 7,
    "start_time": "2024-08-13T18:12:39.887Z"
   },
   {
    "duration": 13,
    "start_time": "2024-08-13T18:12:39.895Z"
   },
   {
    "duration": 16,
    "start_time": "2024-08-13T18:12:39.909Z"
   },
   {
    "duration": 52,
    "start_time": "2024-08-13T18:13:53.419Z"
   },
   {
    "duration": 177,
    "start_time": "2024-08-13T18:16:52.460Z"
   },
   {
    "duration": 5,
    "start_time": "2024-08-13T18:16:57.864Z"
   },
   {
    "duration": 5,
    "start_time": "2024-08-13T18:17:04.695Z"
   },
   {
    "duration": 65,
    "start_time": "2024-08-13T18:17:29.465Z"
   },
   {
    "duration": 161,
    "start_time": "2024-08-13T18:18:13.650Z"
   },
   {
    "duration": 18,
    "start_time": "2024-08-13T18:18:56.329Z"
   },
   {
    "duration": 7,
    "start_time": "2024-08-13T18:19:07.479Z"
   },
   {
    "duration": 46,
    "start_time": "2024-08-13T18:19:30.471Z"
   },
   {
    "duration": 14,
    "start_time": "2024-08-13T18:19:32.424Z"
   }
  ],
  "kernelspec": {
   "display_name": "Python 3",
   "language": "python",
   "name": "python3"
  },
  "language_info": {
   "codemirror_mode": {
    "name": "ipython",
    "version": 3
   },
   "file_extension": ".py",
   "mimetype": "text/x-python",
   "name": "python",
   "nbconvert_exporter": "python",
   "pygments_lexer": "ipython3",
   "version": "3.13.1"
  },
  "toc": {
   "base_numbering": 1,
   "nav_menu": {},
   "number_sections": true,
   "sideBar": true,
   "skip_h1_title": true,
   "title_cell": "Table of Contents",
   "title_sidebar": "Contents",
   "toc_cell": false,
   "toc_position": {},
   "toc_section_display": true,
   "toc_window_display": false
  }
 },
 "nbformat": 4,
 "nbformat_minor": 2
}
