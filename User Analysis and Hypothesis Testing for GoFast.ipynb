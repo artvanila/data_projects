{
 "cells": [
  {
   "cell_type": "markdown",
   "id": "8837dbfc",
   "metadata": {},
   "source": [
    "# Analysis of GoFast Users' Data and Hypothesis Testing"
   ]
  },
  {
   "cell_type": "markdown",
   "id": "4080f21c",
   "metadata": {},
   "source": [
    "We were provided with data about some users of GoFast from several cities, as well as their trips. In this study, we will analyze the data and test some hypotheses that could help the business grow and answer the question: are subscription users more profitable for the company?\n",
    "\n",
    "To make trips around the city, GoFast users use a mobile application. The service can be used:\n",
    "\n",
    "- Without a subscription:\n",
    "    - No subscription fee;\n",
    "    - The cost of one minute of a trip is 8 rubles;\n",
    "    - The cost of starting a trip is 50 rubles;\n",
    "- With the Ultra subscription:\n",
    "    - Subscription fee is 199 rubles per month;\n",
    "    - The cost of one minute of a trip is 6 rubles;\n",
    "    - The cost of starting a trip is free.\n",
    "\n",
    "The provided data includes:\n",
    "- Information about users (users_go.csv), which contains a unique user identifier (user_id), username (name), age (age), city (city), subscription type (free, ultra) (subscription_type);\n",
    "- Information about their trips (rides_go.csv), which includes the unique user identifier (user_id), the distance traveled during the session (distance), the session duration (duration), and the date of the trip (date);\n",
    "- Subscription details (subscriptions_go.csv), which includes the subscription type (subscription_type), the cost per minute of the trip for that subscription (minute_price), the start ride cost (start_ride_price), and the monthly payment (subscription_fee).\n",
    "\n",
    "The structure of the research will be as follows:\n",
    "\n",
    "1. In the first step of the research, we will load the data and perform a shallow data check.\n",
    "2. In the second step, we will perform a deeper data quality check, focusing on data types, missing values, and duplicates.\n",
    "3. In the third step, we will conduct an exploratory data analysis, looking for unusual patterns, artifacts, and errors in the data, and create visualizations.\n",
    "4. In the fourth step, we will combine the three dataframes into one for easier further analysis.\n",
    "5. In the fifth step, we will calculate the revenue for subscription and non-subscription users.\n",
    "6. In the sixth step, we will review and test several business hypotheses.\n",
    "7. In the final step, we will examine the distributions and make a general conclusion from the study."
   ]
  },
  {
   "cell_type": "code",
   "execution_count": 12,
   "id": "72576667",
   "metadata": {},
   "outputs": [],
   "source": [
    "import pandas as pd"
   ]
  },
  {
   "cell_type": "code",
   "execution_count": 13,
   "id": "4f311fa3",
   "metadata": {},
   "outputs": [],
   "source": [
    "import numpy as np"
   ]
  },
  {
   "cell_type": "code",
   "execution_count": 14,
   "id": "c6e40f8a",
   "metadata": {},
   "outputs": [],
   "source": [
    "import matplotlib.pyplot as plt"
   ]
  },
  {
   "cell_type": "markdown",
   "id": "c42cbe00",
   "metadata": {},
   "source": [
    "#### Data Upload\n"
   ]
  },
  {
   "cell_type": "markdown",
   "id": "4b63435c",
   "metadata": {},
   "source": [
    "Let's load the data from the CSV files into a dataframe using the pandas library. We will then examine the first few rows of each dataset."
   ]
  },
  {
   "cell_type": "code",
   "execution_count": 15,
   "id": "5e8c1777",
   "metadata": {},
   "outputs": [],
   "source": [
    "try:\n",
    "    data_users = pd.read_csv('/datasets/users_go.csv')\n",
    "    data_rides = pd.read_csv('/datasets/rides_go.csv')\n",
    "    data_subs = pd.read_csv('/datasets/subscriptions_go.csv')\n",
    "except:\n",
    "    data_users = pd.read_csv('https://code.s3.yandex.net/datasets/users_go.csv')\n",
    "    data_rides = pd.read_csv('https://code.s3.yandex.net/datasets/rides_go.csv')\n",
    "    data_subs = pd.read_csv('https://code.s3.yandex.net/datasets/subscriptions_go.csv')"
   ]
  },
  {
   "cell_type": "code",
   "execution_count": 16,
   "id": "0733f7fe",
   "metadata": {},
   "outputs": [
    {
     "data": {
      "text/html": [
       "<div>\n",
       "<style scoped>\n",
       "    .dataframe tbody tr th:only-of-type {\n",
       "        vertical-align: middle;\n",
       "    }\n",
       "\n",
       "    .dataframe tbody tr th {\n",
       "        vertical-align: top;\n",
       "    }\n",
       "\n",
       "    .dataframe thead th {\n",
       "        text-align: right;\n",
       "    }\n",
       "</style>\n",
       "<table border=\"1\" class=\"dataframe\">\n",
       "  <thead>\n",
       "    <tr style=\"text-align: right;\">\n",
       "      <th></th>\n",
       "      <th>user_id</th>\n",
       "      <th>name</th>\n",
       "      <th>age</th>\n",
       "      <th>city</th>\n",
       "      <th>subscription_type</th>\n",
       "    </tr>\n",
       "  </thead>\n",
       "  <tbody>\n",
       "    <tr>\n",
       "      <th>0</th>\n",
       "      <td>1</td>\n",
       "      <td>Кира</td>\n",
       "      <td>22</td>\n",
       "      <td>Тюмень</td>\n",
       "      <td>ultra</td>\n",
       "    </tr>\n",
       "    <tr>\n",
       "      <th>1</th>\n",
       "      <td>2</td>\n",
       "      <td>Станислав</td>\n",
       "      <td>31</td>\n",
       "      <td>Омск</td>\n",
       "      <td>ultra</td>\n",
       "    </tr>\n",
       "    <tr>\n",
       "      <th>2</th>\n",
       "      <td>3</td>\n",
       "      <td>Алексей</td>\n",
       "      <td>20</td>\n",
       "      <td>Москва</td>\n",
       "      <td>ultra</td>\n",
       "    </tr>\n",
       "    <tr>\n",
       "      <th>3</th>\n",
       "      <td>4</td>\n",
       "      <td>Константин</td>\n",
       "      <td>26</td>\n",
       "      <td>Ростов-на-Дону</td>\n",
       "      <td>ultra</td>\n",
       "    </tr>\n",
       "    <tr>\n",
       "      <th>4</th>\n",
       "      <td>5</td>\n",
       "      <td>Адель</td>\n",
       "      <td>28</td>\n",
       "      <td>Омск</td>\n",
       "      <td>ultra</td>\n",
       "    </tr>\n",
       "  </tbody>\n",
       "</table>\n",
       "</div>"
      ],
      "text/plain": [
       "   user_id        name  age            city subscription_type\n",
       "0        1        Кира   22          Тюмень             ultra\n",
       "1        2   Станислав   31            Омск             ultra\n",
       "2        3     Алексей   20          Москва             ultra\n",
       "3        4  Константин   26  Ростов-на-Дону             ultra\n",
       "4        5       Адель   28            Омск             ultra"
      ]
     },
     "metadata": {},
     "output_type": "display_data"
    },
    {
     "name": "stdout",
     "output_type": "stream",
     "text": [
      "<class 'pandas.core.frame.DataFrame'>\n",
      "RangeIndex: 1565 entries, 0 to 1564\n",
      "Data columns (total 5 columns):\n",
      " #   Column             Non-Null Count  Dtype \n",
      "---  ------             --------------  ----- \n",
      " 0   user_id            1565 non-null   int64 \n",
      " 1   name               1565 non-null   object\n",
      " 2   age                1565 non-null   int64 \n",
      " 3   city               1565 non-null   object\n",
      " 4   subscription_type  1565 non-null   object\n",
      "dtypes: int64(2), object(3)\n",
      "memory usage: 61.3+ KB\n"
     ]
    },
    {
     "data": {
      "text/plain": [
       "None"
      ]
     },
     "metadata": {},
     "output_type": "display_data"
    }
   ],
   "source": [
    "display(data_users.head())\n",
    "display(data_users.info())"
   ]
  },
  {
   "cell_type": "markdown",
   "id": "39b65cb4",
   "metadata": {},
   "source": [
    "The data looks good – the data types match the column names and their content, there are no missing values, and we will check for duplicates later."
   ]
  },
  {
   "cell_type": "code",
   "execution_count": 17,
   "id": "c36bd7dc",
   "metadata": {},
   "outputs": [
    {
     "data": {
      "text/html": [
       "<div>\n",
       "<style scoped>\n",
       "    .dataframe tbody tr th:only-of-type {\n",
       "        vertical-align: middle;\n",
       "    }\n",
       "\n",
       "    .dataframe tbody tr th {\n",
       "        vertical-align: top;\n",
       "    }\n",
       "\n",
       "    .dataframe thead th {\n",
       "        text-align: right;\n",
       "    }\n",
       "</style>\n",
       "<table border=\"1\" class=\"dataframe\">\n",
       "  <thead>\n",
       "    <tr style=\"text-align: right;\">\n",
       "      <th></th>\n",
       "      <th>user_id</th>\n",
       "      <th>distance</th>\n",
       "      <th>duration</th>\n",
       "      <th>date</th>\n",
       "    </tr>\n",
       "  </thead>\n",
       "  <tbody>\n",
       "    <tr>\n",
       "      <th>0</th>\n",
       "      <td>1</td>\n",
       "      <td>4409.919140</td>\n",
       "      <td>25.599769</td>\n",
       "      <td>2021-01-01</td>\n",
       "    </tr>\n",
       "    <tr>\n",
       "      <th>1</th>\n",
       "      <td>1</td>\n",
       "      <td>2617.592153</td>\n",
       "      <td>15.816871</td>\n",
       "      <td>2021-01-18</td>\n",
       "    </tr>\n",
       "    <tr>\n",
       "      <th>2</th>\n",
       "      <td>1</td>\n",
       "      <td>754.159807</td>\n",
       "      <td>6.232113</td>\n",
       "      <td>2021-04-20</td>\n",
       "    </tr>\n",
       "    <tr>\n",
       "      <th>3</th>\n",
       "      <td>1</td>\n",
       "      <td>2694.783254</td>\n",
       "      <td>18.511000</td>\n",
       "      <td>2021-08-11</td>\n",
       "    </tr>\n",
       "    <tr>\n",
       "      <th>4</th>\n",
       "      <td>1</td>\n",
       "      <td>4028.687306</td>\n",
       "      <td>26.265803</td>\n",
       "      <td>2021-08-28</td>\n",
       "    </tr>\n",
       "  </tbody>\n",
       "</table>\n",
       "</div>"
      ],
      "text/plain": [
       "   user_id     distance   duration        date\n",
       "0        1  4409.919140  25.599769  2021-01-01\n",
       "1        1  2617.592153  15.816871  2021-01-18\n",
       "2        1   754.159807   6.232113  2021-04-20\n",
       "3        1  2694.783254  18.511000  2021-08-11\n",
       "4        1  4028.687306  26.265803  2021-08-28"
      ]
     },
     "metadata": {},
     "output_type": "display_data"
    },
    {
     "name": "stdout",
     "output_type": "stream",
     "text": [
      "<class 'pandas.core.frame.DataFrame'>\n",
      "RangeIndex: 18068 entries, 0 to 18067\n",
      "Data columns (total 4 columns):\n",
      " #   Column    Non-Null Count  Dtype  \n",
      "---  ------    --------------  -----  \n",
      " 0   user_id   18068 non-null  int64  \n",
      " 1   distance  18068 non-null  float64\n",
      " 2   duration  18068 non-null  float64\n",
      " 3   date      18068 non-null  object \n",
      "dtypes: float64(2), int64(1), object(1)\n",
      "memory usage: 564.8+ KB\n"
     ]
    },
    {
     "data": {
      "text/plain": [
       "None"
      ]
     },
     "metadata": {},
     "output_type": "display_data"
    }
   ],
   "source": [
    "display(data_rides.head())\n",
    "display(data_rides.info())"
   ]
  },
  {
   "cell_type": "markdown",
   "id": "d7e6f9d1",
   "metadata": {},
   "source": [
    "The data looks good except for the date, which has the data type 'object'."
   ]
  },
  {
   "cell_type": "code",
   "execution_count": 18,
   "id": "8737f06a",
   "metadata": {},
   "outputs": [
    {
     "data": {
      "text/html": [
       "<div>\n",
       "<style scoped>\n",
       "    .dataframe tbody tr th:only-of-type {\n",
       "        vertical-align: middle;\n",
       "    }\n",
       "\n",
       "    .dataframe tbody tr th {\n",
       "        vertical-align: top;\n",
       "    }\n",
       "\n",
       "    .dataframe thead th {\n",
       "        text-align: right;\n",
       "    }\n",
       "</style>\n",
       "<table border=\"1\" class=\"dataframe\">\n",
       "  <thead>\n",
       "    <tr style=\"text-align: right;\">\n",
       "      <th></th>\n",
       "      <th>subscription_type</th>\n",
       "      <th>minute_price</th>\n",
       "      <th>start_ride_price</th>\n",
       "      <th>subscription_fee</th>\n",
       "    </tr>\n",
       "  </thead>\n",
       "  <tbody>\n",
       "    <tr>\n",
       "      <th>0</th>\n",
       "      <td>free</td>\n",
       "      <td>8</td>\n",
       "      <td>50</td>\n",
       "      <td>0</td>\n",
       "    </tr>\n",
       "    <tr>\n",
       "      <th>1</th>\n",
       "      <td>ultra</td>\n",
       "      <td>6</td>\n",
       "      <td>0</td>\n",
       "      <td>199</td>\n",
       "    </tr>\n",
       "  </tbody>\n",
       "</table>\n",
       "</div>"
      ],
      "text/plain": [
       "  subscription_type  minute_price  start_ride_price  subscription_fee\n",
       "0              free             8                50                 0\n",
       "1             ultra             6                 0               199"
      ]
     },
     "metadata": {},
     "output_type": "display_data"
    },
    {
     "name": "stdout",
     "output_type": "stream",
     "text": [
      "<class 'pandas.core.frame.DataFrame'>\n",
      "RangeIndex: 2 entries, 0 to 1\n",
      "Data columns (total 4 columns):\n",
      " #   Column             Non-Null Count  Dtype \n",
      "---  ------             --------------  ----- \n",
      " 0   subscription_type  2 non-null      object\n",
      " 1   minute_price       2 non-null      int64 \n",
      " 2   start_ride_price   2 non-null      int64 \n",
      " 3   subscription_fee   2 non-null      int64 \n",
      "dtypes: int64(3), object(1)\n",
      "memory usage: 196.0+ bytes\n"
     ]
    },
    {
     "data": {
      "text/plain": [
       "None"
      ]
     },
     "metadata": {},
     "output_type": "display_data"
    }
   ],
   "source": [
    "display(data_subs.head())\n",
    "display(data_subs.info())"
   ]
  },
  {
   "cell_type": "markdown",
   "id": "4487ae0d",
   "metadata": {},
   "source": [
    "Data looks good."
   ]
  },
  {
   "cell_type": "markdown",
   "id": "e95ebca7",
   "metadata": {},
   "source": [
    "#### Data Preprocessing"
   ]
  },
  {
   "cell_type": "markdown",
   "id": "8b805df1",
   "metadata": {},
   "source": [
    "When we first review the data and their types, we can observe one discrepancy that needs to be addressed: in the rides dataframe (data_rides), the date data type is 'object'. We will convert it to the datetime64 format using the to_datetime() method and then verify it with the info() method."
   ]
  },
  {
   "cell_type": "code",
   "execution_count": 19,
   "id": "7601958e",
   "metadata": {},
   "outputs": [],
   "source": [
    "data_rides['date'] = pd.to_datetime(\n",
    "    data_rides['date'].astype(str), format='ISO8601')"
   ]
  },
  {
   "cell_type": "code",
   "execution_count": 20,
   "id": "9ce5720b",
   "metadata": {},
   "outputs": [
    {
     "name": "stdout",
     "output_type": "stream",
     "text": [
      "<class 'pandas.core.frame.DataFrame'>\n",
      "RangeIndex: 18068 entries, 0 to 18067\n",
      "Data columns (total 4 columns):\n",
      " #   Column    Non-Null Count  Dtype         \n",
      "---  ------    --------------  -----         \n",
      " 0   user_id   18068 non-null  int64         \n",
      " 1   distance  18068 non-null  float64       \n",
      " 2   duration  18068 non-null  float64       \n",
      " 3   date      18068 non-null  datetime64[ns]\n",
      "dtypes: datetime64[ns](1), float64(2), int64(1)\n",
      "memory usage: 564.8 KB\n"
     ]
    },
    {
     "data": {
      "text/plain": [
       "None"
      ]
     },
     "metadata": {},
     "output_type": "display_data"
    }
   ],
   "source": [
    "display(data_rides.info()) "
   ]
  },
  {
   "cell_type": "markdown",
   "id": "cab5c82a",
   "metadata": {},
   "source": [
    "We will add a column named \"month\" to the rides dataframe (data_rides). To do this, we will extract the month name from the date column by converting the time to the DatetimeIndex class and applying the month attribute."
   ]
  },
  {
   "cell_type": "code",
   "execution_count": 21,
   "id": "addeb1a6",
   "metadata": {},
   "outputs": [],
   "source": [
    "data_rides['month'] = pd.DatetimeIndex(data_rides['date']).month"
   ]
  },
  {
   "cell_type": "code",
   "execution_count": 22,
   "id": "b1cd1de5",
   "metadata": {},
   "outputs": [
    {
     "data": {
      "text/html": [
       "<div>\n",
       "<style scoped>\n",
       "    .dataframe tbody tr th:only-of-type {\n",
       "        vertical-align: middle;\n",
       "    }\n",
       "\n",
       "    .dataframe tbody tr th {\n",
       "        vertical-align: top;\n",
       "    }\n",
       "\n",
       "    .dataframe thead th {\n",
       "        text-align: right;\n",
       "    }\n",
       "</style>\n",
       "<table border=\"1\" class=\"dataframe\">\n",
       "  <thead>\n",
       "    <tr style=\"text-align: right;\">\n",
       "      <th></th>\n",
       "      <th>user_id</th>\n",
       "      <th>distance</th>\n",
       "      <th>duration</th>\n",
       "      <th>date</th>\n",
       "      <th>month</th>\n",
       "    </tr>\n",
       "  </thead>\n",
       "  <tbody>\n",
       "    <tr>\n",
       "      <th>0</th>\n",
       "      <td>1</td>\n",
       "      <td>4409.919140</td>\n",
       "      <td>25.599769</td>\n",
       "      <td>2021-01-01</td>\n",
       "      <td>1</td>\n",
       "    </tr>\n",
       "    <tr>\n",
       "      <th>1</th>\n",
       "      <td>1</td>\n",
       "      <td>2617.592153</td>\n",
       "      <td>15.816871</td>\n",
       "      <td>2021-01-18</td>\n",
       "      <td>1</td>\n",
       "    </tr>\n",
       "    <tr>\n",
       "      <th>2</th>\n",
       "      <td>1</td>\n",
       "      <td>754.159807</td>\n",
       "      <td>6.232113</td>\n",
       "      <td>2021-04-20</td>\n",
       "      <td>4</td>\n",
       "    </tr>\n",
       "    <tr>\n",
       "      <th>3</th>\n",
       "      <td>1</td>\n",
       "      <td>2694.783254</td>\n",
       "      <td>18.511000</td>\n",
       "      <td>2021-08-11</td>\n",
       "      <td>8</td>\n",
       "    </tr>\n",
       "    <tr>\n",
       "      <th>4</th>\n",
       "      <td>1</td>\n",
       "      <td>4028.687306</td>\n",
       "      <td>26.265803</td>\n",
       "      <td>2021-08-28</td>\n",
       "      <td>8</td>\n",
       "    </tr>\n",
       "  </tbody>\n",
       "</table>\n",
       "</div>"
      ],
      "text/plain": [
       "   user_id     distance   duration       date  month\n",
       "0        1  4409.919140  25.599769 2021-01-01      1\n",
       "1        1  2617.592153  15.816871 2021-01-18      1\n",
       "2        1   754.159807   6.232113 2021-04-20      4\n",
       "3        1  2694.783254  18.511000 2021-08-11      8\n",
       "4        1  4028.687306  26.265803 2021-08-28      8"
      ]
     },
     "metadata": {},
     "output_type": "display_data"
    }
   ],
   "source": [
    "display(data_rides.head())"
   ]
  },
  {
   "cell_type": "markdown",
   "id": "bdb3e2a1",
   "metadata": {},
   "source": [
    "We will find and examine the missing values in the columns. To do this, we will use the combination of the methods .isna().sum() for each dataframe."
   ]
  },
  {
   "cell_type": "code",
   "execution_count": 23,
   "id": "e15af829",
   "metadata": {},
   "outputs": [
    {
     "data": {
      "text/plain": [
       "user_id              0\n",
       "name                 0\n",
       "age                  0\n",
       "city                 0\n",
       "subscription_type    0\n",
       "dtype: int64"
      ]
     },
     "execution_count": 23,
     "metadata": {},
     "output_type": "execute_result"
    }
   ],
   "source": [
    "data_users.isna().sum()"
   ]
  },
  {
   "cell_type": "markdown",
   "id": "832e629b",
   "metadata": {},
   "source": [
    "There are no missing values in the data_users dataframe."
   ]
  },
  {
   "cell_type": "code",
   "execution_count": 24,
   "id": "52730f36",
   "metadata": {},
   "outputs": [
    {
     "data": {
      "text/plain": [
       "user_id     0\n",
       "distance    0\n",
       "duration    0\n",
       "date        0\n",
       "month       0\n",
       "dtype: int64"
      ]
     },
     "execution_count": 24,
     "metadata": {},
     "output_type": "execute_result"
    }
   ],
   "source": [
    "data_rides.isna().sum()"
   ]
  },
  {
   "cell_type": "markdown",
   "id": "ac87050b",
   "metadata": {},
   "source": [
    "There are no missing values in the data_rides dataframe."
   ]
  },
  {
   "cell_type": "code",
   "execution_count": 25,
   "id": "bbfdecff",
   "metadata": {},
   "outputs": [
    {
     "data": {
      "text/plain": [
       "subscription_type    0\n",
       "minute_price         0\n",
       "start_ride_price     0\n",
       "subscription_fee     0\n",
       "dtype: int64"
      ]
     },
     "execution_count": 25,
     "metadata": {},
     "output_type": "execute_result"
    }
   ],
   "source": [
    "data_subs.isna().sum()"
   ]
  },
  {
   "cell_type": "markdown",
   "id": "ae3f2bf4",
   "metadata": {},
   "source": [
    "There are no missing values in the data_subs dataframe."
   ]
  },
  {
   "cell_type": "markdown",
   "id": "15e08c7c",
   "metadata": {},
   "source": [
    "Let's look for explicit and implicit duplicates. For explicit duplicates, we'll use the combination of .duplicated().sum(), and for implicit duplicates, we'll examine individual columns using the .unique() method."
   ]
  },
  {
   "cell_type": "code",
   "execution_count": 26,
   "id": "e40a57b6",
   "metadata": {},
   "outputs": [
    {
     "data": {
      "text/plain": [
       "np.int64(31)"
      ]
     },
     "execution_count": 26,
     "metadata": {},
     "output_type": "execute_result"
    }
   ],
   "source": [
    "data_users.duplicated().sum()"
   ]
  },
  {
   "cell_type": "markdown",
   "id": "6a18ed09",
   "metadata": {},
   "source": [
    "Let's take a closer look at the duplicates. We will extract the rows from the dataframe where duplicates occur using logical indexing with the .duplicated() method. We observe identical rows in the dataframe, which are explicit duplicates. We will remove the duplicate rows using the drop_duplicates() method and save the changes in the original dataframe."
   ]
  },
  {
   "cell_type": "code",
   "execution_count": 27,
   "id": "16f97ef8",
   "metadata": {},
   "outputs": [
    {
     "data": {
      "text/html": [
       "<div>\n",
       "<style scoped>\n",
       "    .dataframe tbody tr th:only-of-type {\n",
       "        vertical-align: middle;\n",
       "    }\n",
       "\n",
       "    .dataframe tbody tr th {\n",
       "        vertical-align: top;\n",
       "    }\n",
       "\n",
       "    .dataframe thead th {\n",
       "        text-align: right;\n",
       "    }\n",
       "</style>\n",
       "<table border=\"1\" class=\"dataframe\">\n",
       "  <thead>\n",
       "    <tr style=\"text-align: right;\">\n",
       "      <th></th>\n",
       "      <th>user_id</th>\n",
       "      <th>name</th>\n",
       "      <th>age</th>\n",
       "      <th>city</th>\n",
       "      <th>subscription_type</th>\n",
       "    </tr>\n",
       "  </thead>\n",
       "  <tbody>\n",
       "    <tr>\n",
       "      <th>1534</th>\n",
       "      <td>293</td>\n",
       "      <td>Агата</td>\n",
       "      <td>26</td>\n",
       "      <td>Краснодар</td>\n",
       "      <td>ultra</td>\n",
       "    </tr>\n",
       "    <tr>\n",
       "      <th>292</th>\n",
       "      <td>293</td>\n",
       "      <td>Агата</td>\n",
       "      <td>26</td>\n",
       "      <td>Краснодар</td>\n",
       "      <td>ultra</td>\n",
       "    </tr>\n",
       "    <tr>\n",
       "      <th>1545</th>\n",
       "      <td>807</td>\n",
       "      <td>Александр</td>\n",
       "      <td>28</td>\n",
       "      <td>Екатеринбург</td>\n",
       "      <td>free</td>\n",
       "    </tr>\n",
       "    <tr>\n",
       "      <th>806</th>\n",
       "      <td>807</td>\n",
       "      <td>Александр</td>\n",
       "      <td>28</td>\n",
       "      <td>Екатеринбург</td>\n",
       "      <td>free</td>\n",
       "    </tr>\n",
       "    <tr>\n",
       "      <th>1553</th>\n",
       "      <td>121</td>\n",
       "      <td>Алина</td>\n",
       "      <td>25</td>\n",
       "      <td>Пятигорск</td>\n",
       "      <td>ultra</td>\n",
       "    </tr>\n",
       "    <tr>\n",
       "      <th>...</th>\n",
       "      <td>...</td>\n",
       "      <td>...</td>\n",
       "      <td>...</td>\n",
       "      <td>...</td>\n",
       "      <td>...</td>\n",
       "    </tr>\n",
       "    <tr>\n",
       "      <th>1563</th>\n",
       "      <td>47</td>\n",
       "      <td>Юрий</td>\n",
       "      <td>28</td>\n",
       "      <td>Тюмень</td>\n",
       "      <td>ultra</td>\n",
       "    </tr>\n",
       "    <tr>\n",
       "      <th>808</th>\n",
       "      <td>809</td>\n",
       "      <td>Юрий</td>\n",
       "      <td>26</td>\n",
       "      <td>Сочи</td>\n",
       "      <td>free</td>\n",
       "    </tr>\n",
       "    <tr>\n",
       "      <th>1561</th>\n",
       "      <td>809</td>\n",
       "      <td>Юрий</td>\n",
       "      <td>26</td>\n",
       "      <td>Сочи</td>\n",
       "      <td>free</td>\n",
       "    </tr>\n",
       "    <tr>\n",
       "      <th>306</th>\n",
       "      <td>307</td>\n",
       "      <td>Ясмина</td>\n",
       "      <td>19</td>\n",
       "      <td>Краснодар</td>\n",
       "      <td>ultra</td>\n",
       "    </tr>\n",
       "    <tr>\n",
       "      <th>1562</th>\n",
       "      <td>307</td>\n",
       "      <td>Ясмина</td>\n",
       "      <td>19</td>\n",
       "      <td>Краснодар</td>\n",
       "      <td>ultra</td>\n",
       "    </tr>\n",
       "  </tbody>\n",
       "</table>\n",
       "<p>62 rows × 5 columns</p>\n",
       "</div>"
      ],
      "text/plain": [
       "      user_id       name  age          city subscription_type\n",
       "1534      293      Агата   26     Краснодар             ultra\n",
       "292       293      Агата   26     Краснодар             ultra\n",
       "1545      807  Александр   28  Екатеринбург              free\n",
       "806       807  Александр   28  Екатеринбург              free\n",
       "1553      121      Алина   25     Пятигорск             ultra\n",
       "...       ...        ...  ...           ...               ...\n",
       "1563       47       Юрий   28        Тюмень             ultra\n",
       "808       809       Юрий   26          Сочи              free\n",
       "1561      809       Юрий   26          Сочи              free\n",
       "306       307     Ясмина   19     Краснодар             ultra\n",
       "1562      307     Ясмина   19     Краснодар             ultra\n",
       "\n",
       "[62 rows x 5 columns]"
      ]
     },
     "execution_count": 27,
     "metadata": {},
     "output_type": "execute_result"
    }
   ],
   "source": [
    "duplicates = data_users[data_users.duplicated(keep=False)]\n",
    "duplicates.sort_values(by='name')"
   ]
  },
  {
   "cell_type": "code",
   "execution_count": 28,
   "id": "ef8f2484",
   "metadata": {},
   "outputs": [],
   "source": [
    "data_users.drop_duplicates(subset=['user_id', 'name'],inplace=True)"
   ]
  },
  {
   "cell_type": "code",
   "execution_count": 29,
   "id": "6d877c64",
   "metadata": {},
   "outputs": [
    {
     "data": {
      "text/plain": [
       "np.int64(0)"
      ]
     },
     "execution_count": 29,
     "metadata": {},
     "output_type": "execute_result"
    }
   ],
   "source": [
    "data_users.duplicated().sum()"
   ]
  },
  {
   "cell_type": "code",
   "execution_count": 30,
   "id": "dd666608",
   "metadata": {},
   "outputs": [
    {
     "data": {
      "text/plain": [
       "np.int64(0)"
      ]
     },
     "execution_count": 30,
     "metadata": {},
     "output_type": "execute_result"
    }
   ],
   "source": [
    "data_rides.duplicated().sum()"
   ]
  },
  {
   "cell_type": "code",
   "execution_count": 31,
   "id": "4f88a38b",
   "metadata": {},
   "outputs": [
    {
     "data": {
      "text/plain": [
       "np.int64(0)"
      ]
     },
     "execution_count": 31,
     "metadata": {},
     "output_type": "execute_result"
    }
   ],
   "source": [
    "data_subs.duplicated().sum()"
   ]
  },
  {
   "cell_type": "markdown",
   "id": "7adf8ede",
   "metadata": {},
   "source": [
    "Implicit duplicates may occur in the city column of the data_users dataframe. Let's look at all the unique values in this column."
   ]
  },
  {
   "cell_type": "code",
   "execution_count": 32,
   "id": "09e6b624",
   "metadata": {},
   "outputs": [
    {
     "data": {
      "text/plain": [
       "array(['Тюмень', 'Омск', 'Москва', 'Ростов-на-Дону', 'Краснодар',\n",
       "       'Пятигорск', 'Екатеринбург', 'Сочи'], dtype=object)"
      ]
     },
     "execution_count": 32,
     "metadata": {},
     "output_type": "execute_result"
    }
   ],
   "source": [
    "data_users['city'].unique()"
   ]
  },
  {
   "cell_type": "markdown",
   "id": "b9fa97f2",
   "metadata": {},
   "source": [
    "It can be confidently said that there are no duplicates or missing values in the provided dataframes."
   ]
  },
  {
   "cell_type": "markdown",
   "id": "44fb7259",
   "metadata": {},
   "source": [
    "For further work, we will round the numbers in the \"duration\" column to the next whole number."
   ]
  },
  {
   "cell_type": "code",
   "execution_count": 33,
   "id": "1d5bc60e",
   "metadata": {},
   "outputs": [],
   "source": [
    "data_rides['duration'] = np.ceil(data_rides['duration'])"
   ]
  },
  {
   "cell_type": "markdown",
   "id": "212593c7",
   "metadata": {},
   "source": [
    "#### Exploratory Data Analysis"
   ]
  },
  {
   "cell_type": "markdown",
   "id": "96d3abfe",
   "metadata": {},
   "source": [
    "As part of familiarizing ourselves with the dataframe, let's try to visualize the general information about users and rides. We will create separate histograms using the `.hist()` method for each of the following parameters:\n",
    "\n",
    "- Frequency of cities;\n",
    "- Proportion of users with and without a subscription;\n",
    "- Age of users;\n",
    "- Distance traveled by users in a single ride;\n",
    "- Duration of rides."
   ]
  },
  {
   "cell_type": "code",
   "execution_count": 34,
   "id": "68b1b20a",
   "metadata": {},
   "outputs": [
    {
     "data": {
      "text/plain": [
       "city\n",
       "Пятигорск         219\n",
       "Екатеринбург      204\n",
       "Ростов-на-Дону    198\n",
       "Краснодар         193\n",
       "Сочи              189\n",
       "Омск              183\n",
       "Тюмень            180\n",
       "Москва            168\n",
       "Name: count, dtype: int64"
      ]
     },
     "execution_count": 34,
     "metadata": {},
     "output_type": "execute_result"
    }
   ],
   "source": [
    "city_counts = data_users['city'].value_counts()\n",
    "city_counts"
   ]
  },
  {
   "cell_type": "code",
   "execution_count": 35,
   "id": "e4a3ea73",
   "metadata": {},
   "outputs": [
    {
     "data": {
      "image/png": "[encoded data removed]",
      "text/plain": [
       "<Figure size 640x480 with 1 Axes>"
      ]
     },
     "metadata": {},
     "output_type": "display_data"
    }
   ],
   "source": [
    "city_counts.plot.bar()\n",
    "plt.title('City Frequency')\n",
    "plt.xlabel('City')\n",
    "plt.ylabel('Frequency')\n",
    "plt.show()"
   ]
  },
  {
   "cell_type": "code",
   "execution_count": 36,
   "id": "10901a87",
   "metadata": {},
   "outputs": [
    {
     "data": {
      "text/plain": [
       "'City with the highest frequency: Пятигорск 219 times'"
      ]
     },
     "metadata": {},
     "output_type": "display_data"
    }
   ],
   "source": [
    "max_city = city_counts.idxmax()\n",
    "display(f'City with the highest frequency: {max_city} {city_counts[max_city]} times')"
   ]
  },
  {
   "cell_type": "code",
   "execution_count": 37,
   "id": "adf08698",
   "metadata": {},
   "outputs": [
    {
     "data": {
      "text/plain": [
       "'City with the lowest frequency: Москва 168 times'"
      ]
     },
     "metadata": {},
     "output_type": "display_data"
    }
   ],
   "source": [
    "min_city = city_counts.idxmin()\n",
    "display(f'City with the lowest frequency: {min_city} {city_counts[min_city]} times')"
   ]
  },
  {
   "cell_type": "code",
   "execution_count": 38,
   "id": "6d56a8a5",
   "metadata": {},
   "outputs": [
    {
     "data": {
      "text/plain": [
       "subscription_type\n",
       "free     835\n",
       "ultra    699\n",
       "Name: count, dtype: int64"
      ]
     },
     "execution_count": 38,
     "metadata": {},
     "output_type": "execute_result"
    }
   ],
   "source": [
    "subs_counts = data_users['subscription_type'].value_counts()\n",
    "subs_counts"
   ]
  },
  {
   "cell_type": "code",
   "execution_count": 39,
   "id": "51f64531",
   "metadata": {},
   "outputs": [
    {
     "data": {
      "image/png": "[encoded data removed]",
      "text/plain": [
       "<Figure size 640x480 with 1 Axes>"
      ]
     },
     "metadata": {},
     "output_type": "display_data"
    }
   ],
   "source": [
    "subs_counts.plot.bar()\n",
    "plt.title('Subscription Type Frequency')\n",
    "plt.xlabel('Subscription Type')\n",
    "plt.ylabel('Frequency')\n",
    "plt.show()"
   ]
  },
  {
   "cell_type": "code",
   "execution_count": 40,
   "id": "9e08c3fb",
   "metadata": {},
   "outputs": [
    {
     "data": {
      "text/plain": [
       "'For each user with a subscription, there are 1.19 users without a subscription.'"
      ]
     },
     "metadata": {},
     "output_type": "display_data"
    }
   ],
   "source": [
    "part = len(data_users.query(\"subscription_type == 'free'\")) / len(data_users.query(\"subscription_type == 'ultra'\"))\n",
    "display(f'For each user with a subscription, there are {round(part, 2)} users without a subscription.')"
   ]
  },
  {
   "cell_type": "code",
   "execution_count": 41,
   "id": "631801c0",
   "metadata": {},
   "outputs": [
    {
     "data": {
      "text/plain": [
       "'Users without subscription: 54.43%, users with Ultra subscription: 45.57%'"
      ]
     },
     "metadata": {},
     "output_type": "display_data"
    }
   ],
   "source": [
    "procent_free = (len(data_users.query(\"subscription_type == 'free'\")) / len(data_users)) * 100\n",
    "procent_ultra = 100 - procent_free\n",
    "display(f'Users without subscription: {round(procent_free, 2)}%, users with Ultra subscription: {round(procent_ultra, 2)}%')"
   ]
  },
  {
   "cell_type": "markdown",
   "id": "aa74a7ae",
   "metadata": {},
   "source": [
    "The number of users with a subscription is around 700, while the number of users without a subscription is around 800."
   ]
  },
  {
   "cell_type": "code",
   "execution_count": 42,
   "id": "0fc5d10c",
   "metadata": {},
   "outputs": [
    {
     "data": {
      "image/png": "[encoded data removed]",
      "text/plain": [
       "<Figure size 640x480 with 1 Axes>"
      ]
     },
     "metadata": {},
     "output_type": "display_data"
    }
   ],
   "source": [
    "data_users['age'].hist(bins=60,range=(0,60));"
   ]
  },
  {
   "cell_type": "code",
   "execution_count": 43,
   "id": "a8245f4f",
   "metadata": {},
   "outputs": [
    {
     "data": {
      "text/plain": [
       "count    1534.000000\n",
       "mean       24.903520\n",
       "std         4.572367\n",
       "min        12.000000\n",
       "25%        22.000000\n",
       "50%        25.000000\n",
       "75%        28.000000\n",
       "max        43.000000\n",
       "Name: age, dtype: float64"
      ]
     },
     "execution_count": 43,
     "metadata": {},
     "output_type": "execute_result"
    }
   ],
   "source": [
    "data_users['age'].describe()"
   ]
  },
  {
   "cell_type": "markdown",
   "id": "cb350f5c",
   "metadata": {},
   "source": [
    "The majority of users are between the ages of 22 and 28, and the age range of all users spans from 12 to 43 years. These data seem normal."
   ]
  },
  {
   "cell_type": "code",
   "execution_count": 44,
   "id": "f96a639a",
   "metadata": {},
   "outputs": [
    {
     "data": {
      "image/png": "[encoded data removed]",
      "text/plain": [
       "<Figure size 640x480 with 1 Axes>"
      ]
     },
     "metadata": {},
     "output_type": "display_data"
    }
   ],
   "source": [
    "data_rides['distance'].hist(bins=80);"
   ]
  },
  {
   "cell_type": "code",
   "execution_count": 45,
   "id": "6820c03d",
   "metadata": {},
   "outputs": [
    {
     "data": {
      "text/plain": [
       "count    18068.000000\n",
       "mean      3070.659976\n",
       "std       1116.831209\n",
       "min          0.855683\n",
       "25%       2543.226360\n",
       "50%       3133.609994\n",
       "75%       3776.222735\n",
       "max       7211.007745\n",
       "Name: distance, dtype: float64"
      ]
     },
     "execution_count": 45,
     "metadata": {},
     "output_type": "execute_result"
    }
   ],
   "source": [
    "data_rides['distance'].describe()"
   ]
  },
  {
   "cell_type": "markdown",
   "id": "80a71c7a",
   "metadata": {},
   "source": [
    "Most scooter rides have a distance ranging from approximately 2543 to 3776 meters, while the distances vary from less than one meter to over 7 kilometers. These data seem normal."
   ]
  },
  {
   "cell_type": "code",
   "execution_count": 46,
   "id": "5fc731fd",
   "metadata": {},
   "outputs": [
    {
     "data": {
      "image/png": "[encoded data removed]",
      "text/plain": [
       "<Figure size 640x480 with 1 Axes>"
      ]
     },
     "metadata": {},
     "output_type": "display_data"
    }
   ],
   "source": [
    "data_rides['duration'].hist();"
   ]
  },
  {
   "cell_type": "code",
   "execution_count": 47,
   "id": "a5ff605e",
   "metadata": {},
   "outputs": [
    {
     "data": {
      "text/plain": [
       "count    18068.000000\n",
       "mean        18.303520\n",
       "std          6.094928\n",
       "min          1.000000\n",
       "25%         14.000000\n",
       "50%         18.000000\n",
       "75%         22.000000\n",
       "max         41.000000\n",
       "Name: duration, dtype: float64"
      ]
     },
     "execution_count": 47,
     "metadata": {},
     "output_type": "execute_result"
    }
   ],
   "source": [
    "data_rides['duration'].describe()"
   ]
  },
  {
   "cell_type": "markdown",
   "id": "864acee2",
   "metadata": {},
   "source": [
    "Most scooter rides last between approximately 13.60 to 21.72 minutes, while the duration of rides varies from 0.50 to 40.82 minutes. These data seem normal."
   ]
  },
  {
   "cell_type": "markdown",
   "id": "4ef51331",
   "metadata": {},
   "source": [
    "#### Data Union"
   ]
  },
  {
   "cell_type": "markdown",
   "id": "5d5a005f",
   "metadata": {},
   "source": [
    "To avoid working with multiple data sources, we will combine all the dataframes into one using the merge() method. First, we will merge data_users and data_rides on the column 'id'. Later, we will add data_subs to the already merged table using the column 'subscription_type'."
   ]
  },
  {
   "cell_type": "code",
   "execution_count": 48,
   "id": "dbbfdb00",
   "metadata": {},
   "outputs": [],
   "source": [
    "data_uers_riders = data_users.merge(data_rides,on='user_id',how='outer')"
   ]
  },
  {
   "cell_type": "code",
   "execution_count": 49,
   "id": "55c88523",
   "metadata": {},
   "outputs": [
    {
     "data": {
      "text/html": [
       "<div>\n",
       "<style scoped>\n",
       "    .dataframe tbody tr th:only-of-type {\n",
       "        vertical-align: middle;\n",
       "    }\n",
       "\n",
       "    .dataframe tbody tr th {\n",
       "        vertical-align: top;\n",
       "    }\n",
       "\n",
       "    .dataframe thead th {\n",
       "        text-align: right;\n",
       "    }\n",
       "</style>\n",
       "<table border=\"1\" class=\"dataframe\">\n",
       "  <thead>\n",
       "    <tr style=\"text-align: right;\">\n",
       "      <th></th>\n",
       "      <th>user_id</th>\n",
       "      <th>name</th>\n",
       "      <th>age</th>\n",
       "      <th>city</th>\n",
       "      <th>subscription_type</th>\n",
       "      <th>distance</th>\n",
       "      <th>duration</th>\n",
       "      <th>date</th>\n",
       "      <th>month</th>\n",
       "    </tr>\n",
       "  </thead>\n",
       "  <tbody>\n",
       "    <tr>\n",
       "      <th>0</th>\n",
       "      <td>1</td>\n",
       "      <td>Кира</td>\n",
       "      <td>22</td>\n",
       "      <td>Тюмень</td>\n",
       "      <td>ultra</td>\n",
       "      <td>4409.919140</td>\n",
       "      <td>26.0</td>\n",
       "      <td>2021-01-01</td>\n",
       "      <td>1</td>\n",
       "    </tr>\n",
       "    <tr>\n",
       "      <th>1</th>\n",
       "      <td>1</td>\n",
       "      <td>Кира</td>\n",
       "      <td>22</td>\n",
       "      <td>Тюмень</td>\n",
       "      <td>ultra</td>\n",
       "      <td>2617.592153</td>\n",
       "      <td>16.0</td>\n",
       "      <td>2021-01-18</td>\n",
       "      <td>1</td>\n",
       "    </tr>\n",
       "    <tr>\n",
       "      <th>2</th>\n",
       "      <td>1</td>\n",
       "      <td>Кира</td>\n",
       "      <td>22</td>\n",
       "      <td>Тюмень</td>\n",
       "      <td>ultra</td>\n",
       "      <td>754.159807</td>\n",
       "      <td>7.0</td>\n",
       "      <td>2021-04-20</td>\n",
       "      <td>4</td>\n",
       "    </tr>\n",
       "    <tr>\n",
       "      <th>3</th>\n",
       "      <td>1</td>\n",
       "      <td>Кира</td>\n",
       "      <td>22</td>\n",
       "      <td>Тюмень</td>\n",
       "      <td>ultra</td>\n",
       "      <td>2694.783254</td>\n",
       "      <td>19.0</td>\n",
       "      <td>2021-08-11</td>\n",
       "      <td>8</td>\n",
       "    </tr>\n",
       "    <tr>\n",
       "      <th>4</th>\n",
       "      <td>1</td>\n",
       "      <td>Кира</td>\n",
       "      <td>22</td>\n",
       "      <td>Тюмень</td>\n",
       "      <td>ultra</td>\n",
       "      <td>4028.687306</td>\n",
       "      <td>27.0</td>\n",
       "      <td>2021-08-28</td>\n",
       "      <td>8</td>\n",
       "    </tr>\n",
       "  </tbody>\n",
       "</table>\n",
       "</div>"
      ],
      "text/plain": [
       "   user_id  name  age    city subscription_type     distance  duration  \\\n",
       "0        1  Кира   22  Тюмень             ultra  4409.919140      26.0   \n",
       "1        1  Кира   22  Тюмень             ultra  2617.592153      16.0   \n",
       "2        1  Кира   22  Тюмень             ultra   754.159807       7.0   \n",
       "3        1  Кира   22  Тюмень             ultra  2694.783254      19.0   \n",
       "4        1  Кира   22  Тюмень             ultra  4028.687306      27.0   \n",
       "\n",
       "        date  month  \n",
       "0 2021-01-01      1  \n",
       "1 2021-01-18      1  \n",
       "2 2021-04-20      4  \n",
       "3 2021-08-11      8  \n",
       "4 2021-08-28      8  "
      ]
     },
     "metadata": {},
     "output_type": "display_data"
    }
   ],
   "source": [
    "display(data_uers_riders.head())"
   ]
  },
  {
   "cell_type": "code",
   "execution_count": 50,
   "id": "7bb05e80",
   "metadata": {},
   "outputs": [
    {
     "data": {
      "text/plain": [
       "user_id              0\n",
       "name                 0\n",
       "age                  0\n",
       "city                 0\n",
       "subscription_type    0\n",
       "distance             0\n",
       "duration             0\n",
       "date                 0\n",
       "month                0\n",
       "dtype: int64"
      ]
     },
     "execution_count": 50,
     "metadata": {},
     "output_type": "execute_result"
    }
   ],
   "source": [
    "data_uers_riders.isna().sum()"
   ]
  },
  {
   "cell_type": "code",
   "execution_count": 51,
   "id": "5e921ff3",
   "metadata": {},
   "outputs": [],
   "source": [
    "data = data_uers_riders.merge(data_subs,on='subscription_type',how='outer')"
   ]
  },
  {
   "cell_type": "code",
   "execution_count": 52,
   "id": "f591930e",
   "metadata": {},
   "outputs": [
    {
     "data": {
      "text/html": [
       "<div>\n",
       "<style scoped>\n",
       "    .dataframe tbody tr th:only-of-type {\n",
       "        vertical-align: middle;\n",
       "    }\n",
       "\n",
       "    .dataframe tbody tr th {\n",
       "        vertical-align: top;\n",
       "    }\n",
       "\n",
       "    .dataframe thead th {\n",
       "        text-align: right;\n",
       "    }\n",
       "</style>\n",
       "<table border=\"1\" class=\"dataframe\">\n",
       "  <thead>\n",
       "    <tr style=\"text-align: right;\">\n",
       "      <th></th>\n",
       "      <th>user_id</th>\n",
       "      <th>name</th>\n",
       "      <th>age</th>\n",
       "      <th>city</th>\n",
       "      <th>subscription_type</th>\n",
       "      <th>distance</th>\n",
       "      <th>duration</th>\n",
       "      <th>date</th>\n",
       "      <th>month</th>\n",
       "      <th>minute_price</th>\n",
       "      <th>start_ride_price</th>\n",
       "      <th>subscription_fee</th>\n",
       "    </tr>\n",
       "  </thead>\n",
       "  <tbody>\n",
       "    <tr>\n",
       "      <th>0</th>\n",
       "      <td>700</td>\n",
       "      <td>Айдар</td>\n",
       "      <td>22</td>\n",
       "      <td>Омск</td>\n",
       "      <td>free</td>\n",
       "      <td>2515.690719</td>\n",
       "      <td>15.0</td>\n",
       "      <td>2021-01-02</td>\n",
       "      <td>1</td>\n",
       "      <td>8</td>\n",
       "      <td>50</td>\n",
       "      <td>0</td>\n",
       "    </tr>\n",
       "    <tr>\n",
       "      <th>1</th>\n",
       "      <td>700</td>\n",
       "      <td>Айдар</td>\n",
       "      <td>22</td>\n",
       "      <td>Омск</td>\n",
       "      <td>free</td>\n",
       "      <td>846.932642</td>\n",
       "      <td>17.0</td>\n",
       "      <td>2021-02-01</td>\n",
       "      <td>2</td>\n",
       "      <td>8</td>\n",
       "      <td>50</td>\n",
       "      <td>0</td>\n",
       "    </tr>\n",
       "    <tr>\n",
       "      <th>2</th>\n",
       "      <td>700</td>\n",
       "      <td>Айдар</td>\n",
       "      <td>22</td>\n",
       "      <td>Омск</td>\n",
       "      <td>free</td>\n",
       "      <td>4004.434142</td>\n",
       "      <td>21.0</td>\n",
       "      <td>2021-02-04</td>\n",
       "      <td>2</td>\n",
       "      <td>8</td>\n",
       "      <td>50</td>\n",
       "      <td>0</td>\n",
       "    </tr>\n",
       "    <tr>\n",
       "      <th>3</th>\n",
       "      <td>700</td>\n",
       "      <td>Айдар</td>\n",
       "      <td>22</td>\n",
       "      <td>Омск</td>\n",
       "      <td>free</td>\n",
       "      <td>1205.911290</td>\n",
       "      <td>10.0</td>\n",
       "      <td>2021-02-10</td>\n",
       "      <td>2</td>\n",
       "      <td>8</td>\n",
       "      <td>50</td>\n",
       "      <td>0</td>\n",
       "    </tr>\n",
       "    <tr>\n",
       "      <th>4</th>\n",
       "      <td>700</td>\n",
       "      <td>Айдар</td>\n",
       "      <td>22</td>\n",
       "      <td>Омск</td>\n",
       "      <td>free</td>\n",
       "      <td>3047.379435</td>\n",
       "      <td>18.0</td>\n",
       "      <td>2021-02-14</td>\n",
       "      <td>2</td>\n",
       "      <td>8</td>\n",
       "      <td>50</td>\n",
       "      <td>0</td>\n",
       "    </tr>\n",
       "  </tbody>\n",
       "</table>\n",
       "</div>"
      ],
      "text/plain": [
       "   user_id   name  age  city subscription_type     distance  duration  \\\n",
       "0      700  Айдар   22  Омск              free  2515.690719      15.0   \n",
       "1      700  Айдар   22  Омск              free   846.932642      17.0   \n",
       "2      700  Айдар   22  Омск              free  4004.434142      21.0   \n",
       "3      700  Айдар   22  Омск              free  1205.911290      10.0   \n",
       "4      700  Айдар   22  Омск              free  3047.379435      18.0   \n",
       "\n",
       "        date  month  minute_price  start_ride_price  subscription_fee  \n",
       "0 2021-01-02      1             8                50                 0  \n",
       "1 2021-02-01      2             8                50                 0  \n",
       "2 2021-02-04      2             8                50                 0  \n",
       "3 2021-02-10      2             8                50                 0  \n",
       "4 2021-02-14      2             8                50                 0  "
      ]
     },
     "metadata": {},
     "output_type": "display_data"
    }
   ],
   "source": [
    "display(data.head())"
   ]
  },
  {
   "cell_type": "code",
   "execution_count": 53,
   "id": "d1560015",
   "metadata": {},
   "outputs": [
    {
     "data": {
      "text/plain": [
       "user_id              0\n",
       "name                 0\n",
       "age                  0\n",
       "city                 0\n",
       "subscription_type    0\n",
       "distance             0\n",
       "duration             0\n",
       "date                 0\n",
       "month                0\n",
       "dtype: int64"
      ]
     },
     "execution_count": 53,
     "metadata": {},
     "output_type": "execute_result"
    }
   ],
   "source": [
    "data_uers_riders.isna().sum()"
   ]
  },
  {
   "cell_type": "code",
   "execution_count": 54,
   "id": "64118560",
   "metadata": {},
   "outputs": [
    {
     "name": "stdout",
     "output_type": "stream",
     "text": [
      "<class 'pandas.core.frame.DataFrame'>\n",
      "RangeIndex: 18068 entries, 0 to 18067\n",
      "Data columns (total 9 columns):\n",
      " #   Column             Non-Null Count  Dtype         \n",
      "---  ------             --------------  -----         \n",
      " 0   user_id            18068 non-null  int64         \n",
      " 1   name               18068 non-null  object        \n",
      " 2   age                18068 non-null  int64         \n",
      " 3   city               18068 non-null  object        \n",
      " 4   subscription_type  18068 non-null  object        \n",
      " 5   distance           18068 non-null  float64       \n",
      " 6   duration           18068 non-null  float64       \n",
      " 7   date               18068 non-null  datetime64[ns]\n",
      " 8   month              18068 non-null  int32         \n",
      "dtypes: datetime64[ns](1), float64(2), int32(1), int64(2), object(3)\n",
      "memory usage: 1.2+ MB\n"
     ]
    }
   ],
   "source": [
    "data_uers_riders.info()"
   ]
  },
  {
   "cell_type": "markdown",
   "id": "b7f439fe",
   "metadata": {},
   "source": [
    "For easier handling, we will split this dataframe into two: users with a subscription and users without a subscription."
   ]
  },
  {
   "cell_type": "code",
   "execution_count": 55,
   "id": "e6c60211",
   "metadata": {},
   "outputs": [],
   "source": [
    "data_free = data[data['subscription_type'] != 'ultra']"
   ]
  },
  {
   "cell_type": "code",
   "execution_count": 56,
   "id": "7ab138c8",
   "metadata": {},
   "outputs": [
    {
     "data": {
      "text/html": [
       "<div>\n",
       "<style scoped>\n",
       "    .dataframe tbody tr th:only-of-type {\n",
       "        vertical-align: middle;\n",
       "    }\n",
       "\n",
       "    .dataframe tbody tr th {\n",
       "        vertical-align: top;\n",
       "    }\n",
       "\n",
       "    .dataframe thead th {\n",
       "        text-align: right;\n",
       "    }\n",
       "</style>\n",
       "<table border=\"1\" class=\"dataframe\">\n",
       "  <thead>\n",
       "    <tr style=\"text-align: right;\">\n",
       "      <th></th>\n",
       "      <th>user_id</th>\n",
       "      <th>name</th>\n",
       "      <th>age</th>\n",
       "      <th>city</th>\n",
       "      <th>subscription_type</th>\n",
       "      <th>distance</th>\n",
       "      <th>duration</th>\n",
       "      <th>date</th>\n",
       "      <th>month</th>\n",
       "      <th>minute_price</th>\n",
       "      <th>start_ride_price</th>\n",
       "      <th>subscription_fee</th>\n",
       "    </tr>\n",
       "  </thead>\n",
       "  <tbody>\n",
       "    <tr>\n",
       "      <th>0</th>\n",
       "      <td>700</td>\n",
       "      <td>Айдар</td>\n",
       "      <td>22</td>\n",
       "      <td>Омск</td>\n",
       "      <td>free</td>\n",
       "      <td>2515.690719</td>\n",
       "      <td>15.0</td>\n",
       "      <td>2021-01-02</td>\n",
       "      <td>1</td>\n",
       "      <td>8</td>\n",
       "      <td>50</td>\n",
       "      <td>0</td>\n",
       "    </tr>\n",
       "    <tr>\n",
       "      <th>1</th>\n",
       "      <td>700</td>\n",
       "      <td>Айдар</td>\n",
       "      <td>22</td>\n",
       "      <td>Омск</td>\n",
       "      <td>free</td>\n",
       "      <td>846.932642</td>\n",
       "      <td>17.0</td>\n",
       "      <td>2021-02-01</td>\n",
       "      <td>2</td>\n",
       "      <td>8</td>\n",
       "      <td>50</td>\n",
       "      <td>0</td>\n",
       "    </tr>\n",
       "    <tr>\n",
       "      <th>2</th>\n",
       "      <td>700</td>\n",
       "      <td>Айдар</td>\n",
       "      <td>22</td>\n",
       "      <td>Омск</td>\n",
       "      <td>free</td>\n",
       "      <td>4004.434142</td>\n",
       "      <td>21.0</td>\n",
       "      <td>2021-02-04</td>\n",
       "      <td>2</td>\n",
       "      <td>8</td>\n",
       "      <td>50</td>\n",
       "      <td>0</td>\n",
       "    </tr>\n",
       "    <tr>\n",
       "      <th>3</th>\n",
       "      <td>700</td>\n",
       "      <td>Айдар</td>\n",
       "      <td>22</td>\n",
       "      <td>Омск</td>\n",
       "      <td>free</td>\n",
       "      <td>1205.911290</td>\n",
       "      <td>10.0</td>\n",
       "      <td>2021-02-10</td>\n",
       "      <td>2</td>\n",
       "      <td>8</td>\n",
       "      <td>50</td>\n",
       "      <td>0</td>\n",
       "    </tr>\n",
       "    <tr>\n",
       "      <th>4</th>\n",
       "      <td>700</td>\n",
       "      <td>Айдар</td>\n",
       "      <td>22</td>\n",
       "      <td>Омск</td>\n",
       "      <td>free</td>\n",
       "      <td>3047.379435</td>\n",
       "      <td>18.0</td>\n",
       "      <td>2021-02-14</td>\n",
       "      <td>2</td>\n",
       "      <td>8</td>\n",
       "      <td>50</td>\n",
       "      <td>0</td>\n",
       "    </tr>\n",
       "  </tbody>\n",
       "</table>\n",
       "</div>"
      ],
      "text/plain": [
       "   user_id   name  age  city subscription_type     distance  duration  \\\n",
       "0      700  Айдар   22  Омск              free  2515.690719      15.0   \n",
       "1      700  Айдар   22  Омск              free   846.932642      17.0   \n",
       "2      700  Айдар   22  Омск              free  4004.434142      21.0   \n",
       "3      700  Айдар   22  Омск              free  1205.911290      10.0   \n",
       "4      700  Айдар   22  Омск              free  3047.379435      18.0   \n",
       "\n",
       "        date  month  minute_price  start_ride_price  subscription_fee  \n",
       "0 2021-01-02      1             8                50                 0  \n",
       "1 2021-02-01      2             8                50                 0  \n",
       "2 2021-02-04      2             8                50                 0  \n",
       "3 2021-02-10      2             8                50                 0  \n",
       "4 2021-02-14      2             8                50                 0  "
      ]
     },
     "metadata": {},
     "output_type": "display_data"
    }
   ],
   "source": [
    "display(data_free.head())"
   ]
  },
  {
   "cell_type": "code",
   "execution_count": 57,
   "id": "767de5cf",
   "metadata": {},
   "outputs": [
    {
     "data": {
      "image/png": "[encoded data removed]",
      "text/plain": [
       "<Figure size 640x480 with 1 Axes>"
      ]
     },
     "metadata": {},
     "output_type": "display_data"
    }
   ],
   "source": [
    "data_free['distance'].hist(bins=80);"
   ]
  },
  {
   "cell_type": "code",
   "execution_count": 58,
   "id": "6da68859",
   "metadata": {},
   "outputs": [
    {
     "data": {
      "text/plain": [
       "count    11568.000000\n",
       "mean      3045.495282\n",
       "std       1246.173806\n",
       "min          0.855683\n",
       "25%       2366.562689\n",
       "50%       3114.648465\n",
       "75%       3905.697894\n",
       "max       7211.007745\n",
       "Name: distance, dtype: float64"
      ]
     },
     "execution_count": 58,
     "metadata": {},
     "output_type": "execute_result"
    }
   ],
   "source": [
    "data_free['distance'].describe()"
   ]
  },
  {
   "cell_type": "markdown",
   "id": "0006eba9",
   "metadata": {},
   "source": [
    "In this case, the mean (3045.495282) and the median (3114.648465) are quite close to each other, indicating that the data distribution is symmetric, which is exactly what we observe."
   ]
  },
  {
   "cell_type": "code",
   "execution_count": 59,
   "id": "c0e65cf9",
   "metadata": {},
   "outputs": [
    {
     "data": {
      "image/png": "[encoded data removed]",
      "text/plain": [
       "<Figure size 640x480 with 1 Axes>"
      ]
     },
     "metadata": {},
     "output_type": "display_data"
    }
   ],
   "source": [
    "data_free['duration'].hist(bins=35);"
   ]
  },
  {
   "cell_type": "code",
   "execution_count": 60,
   "id": "f8fbe44c",
   "metadata": {},
   "outputs": [
    {
     "data": {
      "text/plain": [
       "count    11568.000000\n",
       "mean        17.890992\n",
       "std          6.330250\n",
       "min          1.000000\n",
       "25%         13.000000\n",
       "50%         18.000000\n",
       "75%         22.000000\n",
       "max         35.000000\n",
       "Name: duration, dtype: float64"
      ]
     },
     "execution_count": 60,
     "metadata": {},
     "output_type": "execute_result"
    }
   ],
   "source": [
    "data_free['duration'].describe()"
   ]
  },
  {
   "cell_type": "markdown",
   "id": "0c0c16c7",
   "metadata": {},
   "source": [
    "Here we observe an almost perfect match between the median and the mean—the graph takes the shape of a normal distribution, with the most frequent value around 18 minutes and a standard deviation of 6 minutes."
   ]
  },
  {
   "cell_type": "code",
   "execution_count": 61,
   "id": "3e76b6b8",
   "metadata": {},
   "outputs": [],
   "source": [
    "data_ultra = data[data['subscription_type'] != 'free']"
   ]
  },
  {
   "cell_type": "code",
   "execution_count": 62,
   "id": "3c93cda4",
   "metadata": {},
   "outputs": [
    {
     "data": {
      "text/html": [
       "<div>\n",
       "<style scoped>\n",
       "    .dataframe tbody tr th:only-of-type {\n",
       "        vertical-align: middle;\n",
       "    }\n",
       "\n",
       "    .dataframe tbody tr th {\n",
       "        vertical-align: top;\n",
       "    }\n",
       "\n",
       "    .dataframe thead th {\n",
       "        text-align: right;\n",
       "    }\n",
       "</style>\n",
       "<table border=\"1\" class=\"dataframe\">\n",
       "  <thead>\n",
       "    <tr style=\"text-align: right;\">\n",
       "      <th></th>\n",
       "      <th>user_id</th>\n",
       "      <th>name</th>\n",
       "      <th>age</th>\n",
       "      <th>city</th>\n",
       "      <th>subscription_type</th>\n",
       "      <th>distance</th>\n",
       "      <th>duration</th>\n",
       "      <th>date</th>\n",
       "      <th>month</th>\n",
       "      <th>minute_price</th>\n",
       "      <th>start_ride_price</th>\n",
       "      <th>subscription_fee</th>\n",
       "    </tr>\n",
       "  </thead>\n",
       "  <tbody>\n",
       "    <tr>\n",
       "      <th>11568</th>\n",
       "      <td>1</td>\n",
       "      <td>Кира</td>\n",
       "      <td>22</td>\n",
       "      <td>Тюмень</td>\n",
       "      <td>ultra</td>\n",
       "      <td>4409.919140</td>\n",
       "      <td>26.0</td>\n",
       "      <td>2021-01-01</td>\n",
       "      <td>1</td>\n",
       "      <td>6</td>\n",
       "      <td>0</td>\n",
       "      <td>199</td>\n",
       "    </tr>\n",
       "    <tr>\n",
       "      <th>11569</th>\n",
       "      <td>1</td>\n",
       "      <td>Кира</td>\n",
       "      <td>22</td>\n",
       "      <td>Тюмень</td>\n",
       "      <td>ultra</td>\n",
       "      <td>2617.592153</td>\n",
       "      <td>16.0</td>\n",
       "      <td>2021-01-18</td>\n",
       "      <td>1</td>\n",
       "      <td>6</td>\n",
       "      <td>0</td>\n",
       "      <td>199</td>\n",
       "    </tr>\n",
       "    <tr>\n",
       "      <th>11570</th>\n",
       "      <td>1</td>\n",
       "      <td>Кира</td>\n",
       "      <td>22</td>\n",
       "      <td>Тюмень</td>\n",
       "      <td>ultra</td>\n",
       "      <td>754.159807</td>\n",
       "      <td>7.0</td>\n",
       "      <td>2021-04-20</td>\n",
       "      <td>4</td>\n",
       "      <td>6</td>\n",
       "      <td>0</td>\n",
       "      <td>199</td>\n",
       "    </tr>\n",
       "    <tr>\n",
       "      <th>11571</th>\n",
       "      <td>1</td>\n",
       "      <td>Кира</td>\n",
       "      <td>22</td>\n",
       "      <td>Тюмень</td>\n",
       "      <td>ultra</td>\n",
       "      <td>2694.783254</td>\n",
       "      <td>19.0</td>\n",
       "      <td>2021-08-11</td>\n",
       "      <td>8</td>\n",
       "      <td>6</td>\n",
       "      <td>0</td>\n",
       "      <td>199</td>\n",
       "    </tr>\n",
       "    <tr>\n",
       "      <th>11572</th>\n",
       "      <td>1</td>\n",
       "      <td>Кира</td>\n",
       "      <td>22</td>\n",
       "      <td>Тюмень</td>\n",
       "      <td>ultra</td>\n",
       "      <td>4028.687306</td>\n",
       "      <td>27.0</td>\n",
       "      <td>2021-08-28</td>\n",
       "      <td>8</td>\n",
       "      <td>6</td>\n",
       "      <td>0</td>\n",
       "      <td>199</td>\n",
       "    </tr>\n",
       "  </tbody>\n",
       "</table>\n",
       "</div>"
      ],
      "text/plain": [
       "       user_id  name  age    city subscription_type     distance  duration  \\\n",
       "11568        1  Кира   22  Тюмень             ultra  4409.919140      26.0   \n",
       "11569        1  Кира   22  Тюмень             ultra  2617.592153      16.0   \n",
       "11570        1  Кира   22  Тюмень             ultra   754.159807       7.0   \n",
       "11571        1  Кира   22  Тюмень             ultra  2694.783254      19.0   \n",
       "11572        1  Кира   22  Тюмень             ultra  4028.687306      27.0   \n",
       "\n",
       "            date  month  minute_price  start_ride_price  subscription_fee  \n",
       "11568 2021-01-01      1             6                 0               199  \n",
       "11569 2021-01-18      1             6                 0               199  \n",
       "11570 2021-04-20      4             6                 0               199  \n",
       "11571 2021-08-11      8             6                 0               199  \n",
       "11572 2021-08-28      8             6                 0               199  "
      ]
     },
     "metadata": {},
     "output_type": "display_data"
    }
   ],
   "source": [
    "display(data_ultra.head())"
   ]
  },
  {
   "cell_type": "code",
   "execution_count": 63,
   "id": "ea354cd9",
   "metadata": {},
   "outputs": [
    {
     "data": {
      "image/png": "[encoded data removed]",
      "text/plain": [
       "<Figure size 640x480 with 1 Axes>"
      ]
     },
     "metadata": {},
     "output_type": "display_data"
    }
   ],
   "source": [
    "data_ultra['distance'].hist(bins=120);"
   ]
  },
  {
   "cell_type": "code",
   "execution_count": 64,
   "id": "746b387e",
   "metadata": {},
   "outputs": [
    {
     "data": {
      "text/plain": [
       "count    6500.000000\n",
       "mean     3115.445388\n",
       "std       836.895330\n",
       "min       244.210438\n",
       "25%      2785.444017\n",
       "50%      3148.637229\n",
       "75%      3560.574425\n",
       "max      5699.769662\n",
       "Name: distance, dtype: float64"
      ]
     },
     "execution_count": 64,
     "metadata": {},
     "output_type": "execute_result"
    }
   ],
   "source": [
    "data_ultra['distance'].describe()"
   ]
  },
  {
   "cell_type": "markdown",
   "id": "6651e0ad",
   "metadata": {},
   "source": [
    "The distribution resembles the shape of the values for users without a subscription. The mean and median are also close to each other—3115 and 3560 minutes, respectively. The standard deviation is lower."
   ]
  },
  {
   "cell_type": "code",
   "execution_count": 65,
   "id": "e80eb891",
   "metadata": {},
   "outputs": [
    {
     "data": {
      "image/png": "[encoded data removed]",
      "text/plain": [
       "<Figure size 640x480 with 1 Axes>"
      ]
     },
     "metadata": {},
     "output_type": "display_data"
    }
   ],
   "source": [
    "data_ultra['duration'].hist(bins=38);"
   ]
  },
  {
   "cell_type": "code",
   "execution_count": 66,
   "id": "e6632310",
   "metadata": {},
   "outputs": [
    {
     "data": {
      "text/plain": [
       "count    6500.000000\n",
       "mean       19.037692\n",
       "std         5.577439\n",
       "min         4.000000\n",
       "25%        15.000000\n",
       "50%        19.000000\n",
       "75%        22.000000\n",
       "max        41.000000\n",
       "Name: duration, dtype: float64"
      ]
     },
     "execution_count": 66,
     "metadata": {},
     "output_type": "execute_result"
    }
   ],
   "source": [
    "data_ultra['duration'].describe()"
   ]
  },
  {
   "cell_type": "markdown",
   "id": "99362f41",
   "metadata": {},
   "source": [
    "The mean and median are almost identical, both around 19 minutes, which is one minute more than for users without a subscription."
   ]
  },
  {
   "cell_type": "markdown",
   "id": "402d620f",
   "metadata": {},
   "source": [
    "#### Revenue Сalculation"
   ]
  },
  {
   "cell_type": "markdown",
   "id": "1676cdbc",
   "metadata": {},
   "source": [
    "We will create a dataframe with aggregated trip data based on the merged dataframe from step 4. Using a combination of the `.groupby()` and `.agg()` methods, we will calculate the total distance, the number of trips, and the total time for each user for each month."
   ]
  },
  {
   "cell_type": "code",
   "execution_count": 67,
   "id": "18382ce0",
   "metadata": {},
   "outputs": [],
   "source": [
    "data_agg = data.groupby(['user_id', 'month','subscription_type']).agg({\n",
    "    'distance': 'sum',           \n",
    "    'duration': ['count', 'sum']\n",
    "}).reset_index()"
   ]
  },
  {
   "cell_type": "code",
   "execution_count": 68,
   "id": "fc87c853",
   "metadata": {},
   "outputs": [],
   "source": [
    "data_agg.columns = ['user_id', 'month','subscription_type','total_distance', 'total_trips', 'total_duration']"
   ]
  },
  {
   "cell_type": "code",
   "execution_count": 69,
   "id": "5e69950e",
   "metadata": {},
   "outputs": [
    {
     "data": {
      "text/html": [
       "<div>\n",
       "<style scoped>\n",
       "    .dataframe tbody tr th:only-of-type {\n",
       "        vertical-align: middle;\n",
       "    }\n",
       "\n",
       "    .dataframe tbody tr th {\n",
       "        vertical-align: top;\n",
       "    }\n",
       "\n",
       "    .dataframe thead th {\n",
       "        text-align: right;\n",
       "    }\n",
       "</style>\n",
       "<table border=\"1\" class=\"dataframe\">\n",
       "  <thead>\n",
       "    <tr style=\"text-align: right;\">\n",
       "      <th></th>\n",
       "      <th>user_id</th>\n",
       "      <th>month</th>\n",
       "      <th>subscription_type</th>\n",
       "      <th>total_distance</th>\n",
       "      <th>total_trips</th>\n",
       "      <th>total_duration</th>\n",
       "    </tr>\n",
       "  </thead>\n",
       "  <tbody>\n",
       "    <tr>\n",
       "      <th>0</th>\n",
       "      <td>1</td>\n",
       "      <td>1</td>\n",
       "      <td>ultra</td>\n",
       "      <td>7027.511294</td>\n",
       "      <td>2</td>\n",
       "      <td>42.0</td>\n",
       "    </tr>\n",
       "    <tr>\n",
       "      <th>1</th>\n",
       "      <td>1</td>\n",
       "      <td>4</td>\n",
       "      <td>ultra</td>\n",
       "      <td>754.159807</td>\n",
       "      <td>1</td>\n",
       "      <td>7.0</td>\n",
       "    </tr>\n",
       "    <tr>\n",
       "      <th>2</th>\n",
       "      <td>1</td>\n",
       "      <td>8</td>\n",
       "      <td>ultra</td>\n",
       "      <td>6723.470560</td>\n",
       "      <td>2</td>\n",
       "      <td>46.0</td>\n",
       "    </tr>\n",
       "    <tr>\n",
       "      <th>3</th>\n",
       "      <td>1</td>\n",
       "      <td>10</td>\n",
       "      <td>ultra</td>\n",
       "      <td>5809.911100</td>\n",
       "      <td>2</td>\n",
       "      <td>32.0</td>\n",
       "    </tr>\n",
       "    <tr>\n",
       "      <th>4</th>\n",
       "      <td>1</td>\n",
       "      <td>11</td>\n",
       "      <td>ultra</td>\n",
       "      <td>7003.499363</td>\n",
       "      <td>3</td>\n",
       "      <td>56.0</td>\n",
       "    </tr>\n",
       "    <tr>\n",
       "      <th>5</th>\n",
       "      <td>1</td>\n",
       "      <td>12</td>\n",
       "      <td>ultra</td>\n",
       "      <td>6751.629942</td>\n",
       "      <td>2</td>\n",
       "      <td>28.0</td>\n",
       "    </tr>\n",
       "    <tr>\n",
       "      <th>6</th>\n",
       "      <td>2</td>\n",
       "      <td>3</td>\n",
       "      <td>ultra</td>\n",
       "      <td>10187.723006</td>\n",
       "      <td>3</td>\n",
       "      <td>63.0</td>\n",
       "    </tr>\n",
       "    <tr>\n",
       "      <th>7</th>\n",
       "      <td>2</td>\n",
       "      <td>4</td>\n",
       "      <td>ultra</td>\n",
       "      <td>6164.381824</td>\n",
       "      <td>2</td>\n",
       "      <td>40.0</td>\n",
       "    </tr>\n",
       "    <tr>\n",
       "      <th>8</th>\n",
       "      <td>2</td>\n",
       "      <td>6</td>\n",
       "      <td>ultra</td>\n",
       "      <td>3255.338202</td>\n",
       "      <td>1</td>\n",
       "      <td>14.0</td>\n",
       "    </tr>\n",
       "    <tr>\n",
       "      <th>9</th>\n",
       "      <td>2</td>\n",
       "      <td>7</td>\n",
       "      <td>ultra</td>\n",
       "      <td>6780.722964</td>\n",
       "      <td>2</td>\n",
       "      <td>48.0</td>\n",
       "    </tr>\n",
       "  </tbody>\n",
       "</table>\n",
       "</div>"
      ],
      "text/plain": [
       "   user_id  month subscription_type  total_distance  total_trips  \\\n",
       "0        1      1             ultra     7027.511294            2   \n",
       "1        1      4             ultra      754.159807            1   \n",
       "2        1      8             ultra     6723.470560            2   \n",
       "3        1     10             ultra     5809.911100            2   \n",
       "4        1     11             ultra     7003.499363            3   \n",
       "5        1     12             ultra     6751.629942            2   \n",
       "6        2      3             ultra    10187.723006            3   \n",
       "7        2      4             ultra     6164.381824            2   \n",
       "8        2      6             ultra     3255.338202            1   \n",
       "9        2      7             ultra     6780.722964            2   \n",
       "\n",
       "   total_duration  \n",
       "0            42.0  \n",
       "1             7.0  \n",
       "2            46.0  \n",
       "3            32.0  \n",
       "4            56.0  \n",
       "5            28.0  \n",
       "6            63.0  \n",
       "7            40.0  \n",
       "8            14.0  \n",
       "9            48.0  "
      ]
     },
     "metadata": {},
     "output_type": "display_data"
    }
   ],
   "source": [
    "display(data_agg.head(10))"
   ]
  },
  {
   "cell_type": "markdown",
   "id": "176bded9",
   "metadata": {},
   "source": [
    "We will also add a column to this dataframe with the monthly revenue generated by each user."
   ]
  },
  {
   "cell_type": "code",
   "execution_count": 70,
   "id": "ec27e28e",
   "metadata": {},
   "outputs": [],
   "source": [
    "def month_revenue(row):\n",
    "    sub = row['subscription_type']\n",
    "    trip = row['total_trips']\n",
    "    duar = row['total_duration']\n",
    "    \n",
    "    if sub == 'free':\n",
    "        return 50*trip + 8*duar\n",
    "    if sub == 'ultra':\n",
    "        return 0*trip + 6*duar + 199\n",
    "    return 'smth wrong, please, check code'"
   ]
  },
  {
   "cell_type": "code",
   "execution_count": 71,
   "id": "78c1ac83",
   "metadata": {},
   "outputs": [],
   "source": [
    "data_agg['month_revenue'] = data_agg.apply(month_revenue, axis=1)"
   ]
  },
  {
   "cell_type": "code",
   "execution_count": 72,
   "id": "51e07dd9",
   "metadata": {},
   "outputs": [
    {
     "data": {
      "text/html": [
       "<div>\n",
       "<style scoped>\n",
       "    .dataframe tbody tr th:only-of-type {\n",
       "        vertical-align: middle;\n",
       "    }\n",
       "\n",
       "    .dataframe tbody tr th {\n",
       "        vertical-align: top;\n",
       "    }\n",
       "\n",
       "    .dataframe thead th {\n",
       "        text-align: right;\n",
       "    }\n",
       "</style>\n",
       "<table border=\"1\" class=\"dataframe\">\n",
       "  <thead>\n",
       "    <tr style=\"text-align: right;\">\n",
       "      <th></th>\n",
       "      <th>user_id</th>\n",
       "      <th>month</th>\n",
       "      <th>subscription_type</th>\n",
       "      <th>total_distance</th>\n",
       "      <th>total_trips</th>\n",
       "      <th>total_duration</th>\n",
       "      <th>month_revenue</th>\n",
       "    </tr>\n",
       "  </thead>\n",
       "  <tbody>\n",
       "    <tr>\n",
       "      <th>0</th>\n",
       "      <td>1</td>\n",
       "      <td>1</td>\n",
       "      <td>ultra</td>\n",
       "      <td>7027.511294</td>\n",
       "      <td>2</td>\n",
       "      <td>42.0</td>\n",
       "      <td>451.0</td>\n",
       "    </tr>\n",
       "    <tr>\n",
       "      <th>1</th>\n",
       "      <td>1</td>\n",
       "      <td>4</td>\n",
       "      <td>ultra</td>\n",
       "      <td>754.159807</td>\n",
       "      <td>1</td>\n",
       "      <td>7.0</td>\n",
       "      <td>241.0</td>\n",
       "    </tr>\n",
       "    <tr>\n",
       "      <th>2</th>\n",
       "      <td>1</td>\n",
       "      <td>8</td>\n",
       "      <td>ultra</td>\n",
       "      <td>6723.470560</td>\n",
       "      <td>2</td>\n",
       "      <td>46.0</td>\n",
       "      <td>475.0</td>\n",
       "    </tr>\n",
       "    <tr>\n",
       "      <th>3</th>\n",
       "      <td>1</td>\n",
       "      <td>10</td>\n",
       "      <td>ultra</td>\n",
       "      <td>5809.911100</td>\n",
       "      <td>2</td>\n",
       "      <td>32.0</td>\n",
       "      <td>391.0</td>\n",
       "    </tr>\n",
       "    <tr>\n",
       "      <th>4</th>\n",
       "      <td>1</td>\n",
       "      <td>11</td>\n",
       "      <td>ultra</td>\n",
       "      <td>7003.499363</td>\n",
       "      <td>3</td>\n",
       "      <td>56.0</td>\n",
       "      <td>535.0</td>\n",
       "    </tr>\n",
       "  </tbody>\n",
       "</table>\n",
       "</div>"
      ],
      "text/plain": [
       "   user_id  month subscription_type  total_distance  total_trips  \\\n",
       "0        1      1             ultra     7027.511294            2   \n",
       "1        1      4             ultra      754.159807            1   \n",
       "2        1      8             ultra     6723.470560            2   \n",
       "3        1     10             ultra     5809.911100            2   \n",
       "4        1     11             ultra     7003.499363            3   \n",
       "\n",
       "   total_duration  month_revenue  \n",
       "0            42.0          451.0  \n",
       "1             7.0          241.0  \n",
       "2            46.0          475.0  \n",
       "3            32.0          391.0  \n",
       "4            56.0          535.0  "
      ]
     },
     "metadata": {},
     "output_type": "display_data"
    }
   ],
   "source": [
    "display(data_agg.head())"
   ]
  },
  {
   "cell_type": "markdown",
   "id": "41545ac0",
   "metadata": {},
   "source": [
    "#### Hypothesis Testing"
   ]
  },
  {
   "cell_type": "markdown",
   "id": "658a1019",
   "metadata": {},
   "source": [
    "We will test a couple of hypotheses on the resulting dataframes."
   ]
  },
  {
   "cell_type": "markdown",
   "id": "d990ad2a",
   "metadata": {},
   "source": [
    "Do users with a subscription spend more time on trips?"
   ]
  },
  {
   "cell_type": "markdown",
   "id": "1f799d8a",
   "metadata": {},
   "source": [
    "- Null hypothesis (H0) – the average trip duration for users with the \"Ultra\" subscription is equal to the average trip duration for users with free access.\n",
    "- Alternative hypothesis (H1) – the average trip duration for users with the \"Ultra\" subscription is greater than the average trip duration for users with free access."
   ]
  },
  {
   "cell_type": "code",
   "execution_count": 73,
   "id": "2f865a89",
   "metadata": {},
   "outputs": [],
   "source": [
    "from scipy import stats as st"
   ]
  },
  {
   "cell_type": "code",
   "execution_count": 74,
   "id": "ac4910ca",
   "metadata": {},
   "outputs": [
    {
     "name": "stdout",
     "output_type": "stream",
     "text": [
      "p-value: 2.495945372073663e-34\n",
      "Reject the null hypothesis\n"
     ]
    }
   ],
   "source": [
    "alpha = 0.05  # setting the significance level\n",
    "\n",
    "results = st.ttest_ind(data_ultra['duration'], data_free['duration'], alternative='greater')  # performing t-test for two samples, using the one-tailed hypothesis \"greater\"\n",
    "\n",
    "print(f'p-value: {results.pvalue}')\n",
    "\n",
    "# checking p-value\n",
    "if results.pvalue < alpha:\n",
    "    print('Reject the null hypothesis')\n",
    "else:\n",
    "    print('No grounds to reject the null hypothesis')"
   ]
  },
  {
   "cell_type": "markdown",
   "id": "f375ab29",
   "metadata": {},
   "source": [
    "Since the p-value is significantly smaller than the significance level (0.05), we reject the null hypothesis. This means that the average trip duration for users with the \"Ultra\" subscription is greater than the average trip duration for users with free access."
   ]
  },
  {
   "cell_type": "markdown",
   "id": "a4bddba7",
   "metadata": {},
   "source": [
    "Can we say that the distance traveled by users with a subscription in a single trip does not exceed 3130 meters?"
   ]
  },
  {
   "cell_type": "markdown",
   "id": "89e51429",
   "metadata": {},
   "source": [
    "- Null hypothesis (H0) – the average distance traveled by users with a subscription in a single trip is equal to the optimal distance of 3130 meters.\n",
    "- Alternative hypothesis (H1) – the average distance traveled by users with a subscription in a single trip is greater than the optimal 3130 meters."
   ]
  },
  {
   "cell_type": "code",
   "execution_count": 75,
   "id": "dadc1d85",
   "metadata": {},
   "outputs": [
    {
     "name": "stdout",
     "output_type": "stream",
     "text": [
      "p-value: 0.9195368847849785\n",
      "No grounds to reject the null hypothesis\n"
     ]
    }
   ],
   "source": [
    "compare_value = 3130  # Can we say that the distance traveled by users with a subscription in a single trip does not exceed 3130 meters?\n",
    "\n",
    "alpha = 0.05  # setting the significance level\n",
    "\n",
    "results = st.ttest_1samp(data_ultra['distance'], compare_value, alternative='greater') \n",
    "\n",
    "print(f'p-value: {results.pvalue}')\n",
    "\n",
    "# checking p-value\n",
    "if results.pvalue < alpha:\n",
    "    print('Reject the null hypothesis')\n",
    "else:\n",
    "    print('No grounds to reject the null hypothesis')"
   ]
  },
  {
   "cell_type": "markdown",
   "id": "3b4bf33c",
   "metadata": {},
   "source": [
    "The p-value is greater than the significance level (0.05), so we cannot reject the null hypothesis. Thus, based on the available data, there is insufficient evidence to claim that the average distance exceeds the optimal 3130 meters."
   ]
  },
  {
   "cell_type": "markdown",
   "id": "f10cffa4",
   "metadata": {},
   "source": [
    "The p-value is greater than the significance level (0.05), so we cannot reject the null hypothesis. Thus, based on the available data, there is insufficient evidence to claim that the average distance exceeds the optimal 3130 meters."
   ]
  },
  {
   "cell_type": "markdown",
   "id": "35fac5b1",
   "metadata": {},
   "source": [
    "- Null hypothesis (H0) – the average monthly revenue from subscription users is equal to the average monthly revenue from non-subscription users.\n",
    "- Alternative hypothesis (H1) – the average monthly revenue from subscription users exceeds the average monthly revenue from non-subscription users."
   ]
  },
  {
   "cell_type": "code",
   "execution_count": 76,
   "id": "28260852",
   "metadata": {},
   "outputs": [
    {
     "name": "stdout",
     "output_type": "stream",
     "text": [
      "p-value: 1.8850394384715216e-31\n",
      "Reject the null hypothesis\n"
     ]
    }
   ],
   "source": [
    "alpha = 0.05  # setting the significance level\n",
    "\n",
    "results = st.ttest_ind(data_agg[data_agg['subscription_type'] == 'ultra']['month_revenue'], data_agg[data_agg['subscription_type'] == 'free']['month_revenue'], alternative='greater')  # performing t-test for two samples, using the one-tailed hypothesis \"greater\"\n",
    "\n",
    "print(f'p-value: {results.pvalue}')\n",
    "\n",
    "# checking p-value\n",
    "if results.pvalue < alpha:\n",
    "    print('Reject the null hypothesis')\n",
    "else:\n",
    "    print('No grounds to reject the null hypothesis')\n"
   ]
  },
  {
   "cell_type": "markdown",
   "id": "ae9333f6",
   "metadata": {},
   "source": [
    "The p-value is below the significance level (0.05), so we can reject the null hypothesis. Therefore, the average monthly revenue from subscription users exceeds the average monthly revenue from non-subscription users."
   ]
  },
  {
   "cell_type": "markdown",
   "id": "a32a8717",
   "metadata": {},
   "source": [
    "The technical team of the service has updated the servers that the mobile app interacts with. They hope that as a result, the number of support requests has significantly decreased. A certain file contains data for each user on the number of support requests before and after the update. Which test would you need to check this hypothesis?\n",
    "\n",
    "For this hypothesis, a paired t-test (also called a dependent t-test) would be appropriate, as you are comparing the same group of users' behavior (number of requests) before and after the update. This test will help you determine if there is a significant difference in the number of support requests before and after the update for the same users."
   ]
  },
  {
   "cell_type": "markdown",
   "id": "61213c5e",
   "metadata": {},
   "source": [
    "#### Distributions"
   ]
  },
  {
   "cell_type": "markdown",
   "id": "78be0090",
   "metadata": {},
   "source": [
    "A promotion is being conducted where promo codes for a free one-month subscription will be distributed, and at least 100 existing customers must extend their subscription. After the subscription period ends, users can either cancel or extend the subscription by making the corresponding payment. This promotion was previously conducted, and it was found that 10% of users extend their subscription after the free trial period. Determine the minimum number of promo codes that need to be sent out so that the probability of not meeting the goal is approximately 5%. Identify the parameters of the distribution that describe this situation, plot the distribution, and provide an answer to the question about the number of promo codes."
   ]
  },
  {
   "cell_type": "markdown",
   "id": "da2c6eda",
   "metadata": {},
   "source": [
    "The marketing department is sending push notifications to customers in the mobile app. Customers may either open or ignore them. It is known that approximately 40% of the recipients open the notifications. The department plans to send out 11 million notifications. Using approximation, plot an approximate distribution graph and estimate the probability that no more than 399,500 users will open the notification."
   ]
  },
  {
   "cell_type": "markdown",
   "id": "0bc9b9fa",
   "metadata": {},
   "source": [
    "As part of the research, we:\n",
    "\n",
    "- Extracted data on users, rides, and subscriptions\n",
    "- Conducted thorough data validation – changed data types and removed duplicates\n",
    "- By plotting graphs, we gained insights into some quantitative and qualitative characteristics of the data, such as:\n",
    "  - The city with the highest frequency – Pyatigorsk\n",
    "  - The city with the lowest frequency – Moscow\n",
    "  - 54.43% of users do not have a subscription, while 45.57% have subscriptions\n",
    "  - The majority of users are between the ages of 22 and 28\n",
    "  - Most scooter rides are between approximately 2543 and 3776 meters long (the distribution for users with and without subscriptions is very similar)\n",
    "  - Most scooter rides last between approximately 13.60 and 21.72 minutes (the average duration for users with a subscription is one minute longer)\n",
    "- By combining 3 different dataframes, we created a unified base for hypothesis testing\n",
    "- Added a new column – revenue – for both subscribed and non-subscribed users\n",
    "- In the sixth step, we examined and tested several hypotheses for the business and came to the following conclusions:\n",
    "  - The average ride duration for subscribed users is greater than for non-subscribed users.\n",
    "  - There is insufficient evidence to claim that the average distance exceeds the optimal wear-and-tear distance of 3130 meters.\n",
    "  - The average monthly revenue from subscribed users is higher than from non-subscribed users.\n",
    "\n",
    "Based on the analysis, the following conclusions can be drawn:\n",
    "\n",
    "- Subscribed users show greater engagement, reflected in the longer duration of their rides.\n",
    "- There is no significant evidence that subscribed users exceed the optimal wear-and-tear distance.\n",
    "- Financial analysis showed that subscribed users generate significantly more revenue for the company compared to non-subscribed users.\n",
    "\n",
    "Thus, it can be concluded that subscribed users are more profitable for GoFast, as they spend more time on rides and bring in more revenue. This confirms the feasibility and effectiveness of implementing and promoting subscription models to increase company revenue and enhance customer loyalty."
   ]
  }
 ],
 "metadata": {
  "ExecuteTimeLog": [
   {
    "duration": 361,
    "start_time": "2024-05-17T13:08:57.109Z"
   },
   {
    "duration": 73,
    "start_time": "2024-05-17T13:12:08.094Z"
   },
   {
    "duration": 88,
    "start_time": "2024-05-17T13:12:27.661Z"
   },
   {
    "duration": 70,
    "start_time": "2024-05-17T13:13:00.658Z"
   },
   {
    "duration": 13,
    "start_time": "2024-05-17T13:13:28.447Z"
   },
   {
    "duration": 10,
    "start_time": "2024-05-17T13:13:36.824Z"
   },
   {
    "duration": 6,
    "start_time": "2024-05-17T13:13:47.008Z"
   },
   {
    "duration": 15,
    "start_time": "2024-05-17T13:15:40.696Z"
   },
   {
    "duration": 13,
    "start_time": "2024-05-17T13:16:06.980Z"
   },
   {
    "duration": 6,
    "start_time": "2024-05-17T13:16:19.527Z"
   },
   {
    "duration": 12,
    "start_time": "2024-05-17T13:16:28.678Z"
   },
   {
    "duration": 6,
    "start_time": "2024-05-17T13:26:54.185Z"
   },
   {
    "duration": 9,
    "start_time": "2024-05-17T13:26:56.370Z"
   },
   {
    "duration": 5,
    "start_time": "2024-05-17T13:47:39.729Z"
   },
   {
    "duration": 7,
    "start_time": "2024-05-17T13:47:49.337Z"
   },
   {
    "duration": 358,
    "start_time": "2024-05-17T13:48:13.432Z"
   },
   {
    "duration": 2,
    "start_time": "2024-05-17T13:48:13.791Z"
   },
   {
    "duration": 44,
    "start_time": "2024-05-17T13:48:13.794Z"
   },
   {
    "duration": 26,
    "start_time": "2024-05-17T13:48:13.839Z"
   },
   {
    "duration": 15,
    "start_time": "2024-05-17T13:48:13.867Z"
   },
   {
    "duration": 20,
    "start_time": "2024-05-17T13:48:13.883Z"
   },
   {
    "duration": 19,
    "start_time": "2024-05-17T13:48:13.904Z"
   },
   {
    "duration": 12,
    "start_time": "2024-05-17T13:48:13.924Z"
   },
   {
    "duration": 16,
    "start_time": "2024-05-17T13:48:13.937Z"
   },
   {
    "duration": 10,
    "start_time": "2024-05-17T13:48:13.954Z"
   },
   {
    "duration": 6,
    "start_time": "2024-05-17T13:48:13.965Z"
   },
   {
    "duration": 15,
    "start_time": "2024-05-17T13:48:13.972Z"
   },
   {
    "duration": 66,
    "start_time": "2024-05-17T13:48:29.329Z"
   },
   {
    "duration": 8,
    "start_time": "2024-05-17T13:48:34.015Z"
   },
   {
    "duration": 7,
    "start_time": "2024-05-17T13:48:38.452Z"
   },
   {
    "duration": 49,
    "start_time": "2024-05-17T13:48:42.312Z"
   },
   {
    "duration": 5,
    "start_time": "2024-05-17T13:48:46.416Z"
   },
   {
    "duration": 7,
    "start_time": "2024-05-17T13:48:56.398Z"
   },
   {
    "duration": 5,
    "start_time": "2024-05-17T13:50:48.963Z"
   },
   {
    "duration": 5,
    "start_time": "2024-05-17T13:51:22.294Z"
   },
   {
    "duration": 5,
    "start_time": "2024-05-17T13:51:56.274Z"
   },
   {
    "duration": 53,
    "start_time": "2024-05-17T13:52:06.335Z"
   },
   {
    "duration": 53,
    "start_time": "2024-05-17T13:56:07.256Z"
   },
   {
    "duration": 5,
    "start_time": "2024-05-17T13:56:50.138Z"
   },
   {
    "duration": 9,
    "start_time": "2024-05-17T13:58:36.239Z"
   },
   {
    "duration": 5,
    "start_time": "2024-05-17T13:58:48.325Z"
   },
   {
    "duration": 12,
    "start_time": "2024-05-17T14:00:50.276Z"
   },
   {
    "duration": 890,
    "start_time": "2024-05-17T14:14:51.033Z"
   },
   {
    "duration": 3,
    "start_time": "2024-05-17T14:15:00.707Z"
   },
   {
    "duration": 4,
    "start_time": "2024-05-17T14:15:39.898Z"
   },
   {
    "duration": 6,
    "start_time": "2024-05-17T14:16:07.787Z"
   },
   {
    "duration": 4,
    "start_time": "2024-05-17T14:18:02.189Z"
   },
   {
    "duration": 3,
    "start_time": "2024-05-17T14:18:52.099Z"
   },
   {
    "duration": 448,
    "start_time": "2024-05-17T14:24:35.182Z"
   },
   {
    "duration": 81,
    "start_time": "2024-05-17T14:24:58.547Z"
   },
   {
    "duration": 192,
    "start_time": "2024-05-17T14:25:32.017Z"
   },
   {
    "duration": 175,
    "start_time": "2024-05-17T14:25:36.522Z"
   },
   {
    "duration": 134,
    "start_time": "2024-05-17T14:25:39.906Z"
   },
   {
    "duration": 144,
    "start_time": "2024-05-17T14:25:43.373Z"
   },
   {
    "duration": 142,
    "start_time": "2024-05-17T14:26:05.815Z"
   },
   {
    "duration": 99,
    "start_time": "2024-05-17T14:26:42.068Z"
   },
   {
    "duration": 124,
    "start_time": "2024-05-17T14:26:52.193Z"
   },
   {
    "duration": 111,
    "start_time": "2024-05-17T14:27:09.455Z"
   },
   {
    "duration": 49,
    "start_time": "2024-05-17T20:05:03.453Z"
   },
   {
    "duration": 404,
    "start_time": "2024-05-17T20:05:11.888Z"
   },
   {
    "duration": 2,
    "start_time": "2024-05-17T20:05:12.294Z"
   },
   {
    "duration": 85,
    "start_time": "2024-05-17T20:05:12.297Z"
   },
   {
    "duration": 77,
    "start_time": "2024-05-17T20:05:12.383Z"
   },
   {
    "duration": 59,
    "start_time": "2024-05-17T20:05:12.462Z"
   },
   {
    "duration": 22,
    "start_time": "2024-05-17T20:05:12.522Z"
   },
   {
    "duration": 17,
    "start_time": "2024-05-17T20:05:12.545Z"
   },
   {
    "duration": 13,
    "start_time": "2024-05-17T20:05:12.563Z"
   },
   {
    "duration": 13,
    "start_time": "2024-05-17T20:05:12.577Z"
   },
   {
    "duration": 27,
    "start_time": "2024-05-17T20:05:12.592Z"
   },
   {
    "duration": 5,
    "start_time": "2024-05-17T20:05:12.620Z"
   },
   {
    "duration": 8,
    "start_time": "2024-05-17T20:05:12.626Z"
   },
   {
    "duration": 16,
    "start_time": "2024-05-17T20:05:12.635Z"
   },
   {
    "duration": 12,
    "start_time": "2024-05-17T20:05:12.653Z"
   },
   {
    "duration": 4,
    "start_time": "2024-05-17T20:05:12.667Z"
   },
   {
    "duration": 7,
    "start_time": "2024-05-17T20:05:12.672Z"
   },
   {
    "duration": 38,
    "start_time": "2024-05-17T20:05:12.681Z"
   },
   {
    "duration": 7,
    "start_time": "2024-05-17T20:05:12.721Z"
   },
   {
    "duration": 6,
    "start_time": "2024-05-17T20:05:12.729Z"
   },
   {
    "duration": 14,
    "start_time": "2024-05-17T20:05:12.736Z"
   },
   {
    "duration": 544,
    "start_time": "2024-05-17T20:05:12.751Z"
   },
   {
    "duration": 97,
    "start_time": "2024-05-17T20:05:13.297Z"
   },
   {
    "duration": 200,
    "start_time": "2024-05-17T20:05:13.395Z"
   },
   {
    "duration": 170,
    "start_time": "2024-05-17T20:05:13.597Z"
   },
   {
    "duration": 128,
    "start_time": "2024-05-17T20:05:13.769Z"
   },
   {
    "duration": 132,
    "start_time": "2024-05-17T20:05:45.840Z"
   },
   {
    "duration": 134,
    "start_time": "2024-05-17T20:05:49.951Z"
   },
   {
    "duration": 234,
    "start_time": "2024-05-17T20:05:53.635Z"
   },
   {
    "duration": 137,
    "start_time": "2024-05-17T20:05:56.479Z"
   },
   {
    "duration": 134,
    "start_time": "2024-05-17T20:06:05.838Z"
   },
   {
    "duration": 8,
    "start_time": "2024-05-17T20:06:56.787Z"
   },
   {
    "duration": 94,
    "start_time": "2024-05-17T20:09:37.100Z"
   },
   {
    "duration": 143,
    "start_time": "2024-05-17T20:09:51.188Z"
   },
   {
    "duration": 105,
    "start_time": "2024-05-17T20:09:56.090Z"
   },
   {
    "duration": 200,
    "start_time": "2024-05-17T20:09:59.014Z"
   },
   {
    "duration": 167,
    "start_time": "2024-05-17T20:10:01.516Z"
   },
   {
    "duration": 133,
    "start_time": "2024-05-17T20:10:19.145Z"
   },
   {
    "duration": 133,
    "start_time": "2024-05-17T20:10:25.227Z"
   },
   {
    "duration": 45,
    "start_time": "2024-05-17T20:11:25.320Z"
   },
   {
    "duration": 8,
    "start_time": "2024-05-17T20:11:59.529Z"
   },
   {
    "duration": 114,
    "start_time": "2024-05-17T20:16:14.008Z"
   },
   {
    "duration": 7,
    "start_time": "2024-05-17T20:16:24.234Z"
   },
   {
    "duration": 8,
    "start_time": "2024-05-17T20:18:14.075Z"
   },
   {
    "duration": 115,
    "start_time": "2024-05-17T20:19:13.178Z"
   },
   {
    "duration": 9,
    "start_time": "2024-05-17T20:19:30.026Z"
   },
   {
    "duration": 80,
    "start_time": "2024-05-17T20:30:24.025Z"
   },
   {
    "duration": 21,
    "start_time": "2024-05-17T20:31:03.176Z"
   },
   {
    "duration": 10,
    "start_time": "2024-05-17T20:32:26.409Z"
   },
   {
    "duration": 10,
    "start_time": "2024-05-17T20:32:44.094Z"
   },
   {
    "duration": 8,
    "start_time": "2024-05-17T20:32:58.543Z"
   },
   {
    "duration": 10,
    "start_time": "2024-05-17T20:34:27.350Z"
   },
   {
    "duration": 11,
    "start_time": "2024-05-17T20:34:34.861Z"
   },
   {
    "duration": 14,
    "start_time": "2024-05-17T20:34:47.984Z"
   },
   {
    "duration": 20,
    "start_time": "2024-05-17T20:34:52.627Z"
   },
   {
    "duration": 16,
    "start_time": "2024-05-17T20:34:59.330Z"
   },
   {
    "duration": 18,
    "start_time": "2024-05-17T20:35:05.831Z"
   },
   {
    "duration": 17,
    "start_time": "2024-05-17T20:35:11.333Z"
   },
   {
    "duration": 17,
    "start_time": "2024-05-17T20:35:17.062Z"
   },
   {
    "duration": 17,
    "start_time": "2024-05-17T20:35:20.651Z"
   },
   {
    "duration": 17,
    "start_time": "2024-05-17T20:35:23.074Z"
   },
   {
    "duration": 16,
    "start_time": "2024-05-17T20:35:27.394Z"
   },
   {
    "duration": 17,
    "start_time": "2024-05-17T20:35:30.296Z"
   },
   {
    "duration": 16,
    "start_time": "2024-05-17T20:35:33.293Z"
   },
   {
    "duration": 17,
    "start_time": "2024-05-17T20:35:39.143Z"
   },
   {
    "duration": 16,
    "start_time": "2024-05-17T20:35:41.816Z"
   },
   {
    "duration": 11,
    "start_time": "2024-05-17T20:36:02.930Z"
   },
   {
    "duration": 6,
    "start_time": "2024-05-17T20:36:40.184Z"
   },
   {
    "duration": 104,
    "start_time": "2024-05-17T20:36:47.512Z"
   },
   {
    "duration": 12,
    "start_time": "2024-05-17T20:37:08.455Z"
   },
   {
    "duration": 7,
    "start_time": "2024-05-17T20:43:52.355Z"
   },
   {
    "duration": 11,
    "start_time": "2024-05-17T20:44:04.946Z"
   },
   {
    "duration": 5,
    "start_time": "2024-05-17T20:44:23.874Z"
   },
   {
    "duration": 11,
    "start_time": "2024-05-17T20:44:28.157Z"
   },
   {
    "duration": 4,
    "start_time": "2024-05-17T20:45:05.706Z"
   },
   {
    "duration": 14,
    "start_time": "2024-05-17T20:49:10.525Z"
   },
   {
    "duration": 14,
    "start_time": "2024-05-17T20:49:21.576Z"
   },
   {
    "duration": 13,
    "start_time": "2024-05-17T20:50:06.090Z"
   },
   {
    "duration": 3,
    "start_time": "2024-05-17T20:50:08.204Z"
   },
   {
    "duration": 11,
    "start_time": "2024-05-17T20:50:09.895Z"
   },
   {
    "duration": 64,
    "start_time": "2024-05-17T20:54:01.243Z"
   },
   {
    "duration": 10,
    "start_time": "2024-05-17T20:57:24.388Z"
   },
   {
    "duration": 811,
    "start_time": "2024-05-17T20:57:37.449Z"
   },
   {
    "duration": 10,
    "start_time": "2024-05-17T20:57:53.972Z"
   },
   {
    "duration": 28,
    "start_time": "2024-05-17T20:59:18.396Z"
   },
   {
    "duration": 29,
    "start_time": "2024-05-17T20:59:33.270Z"
   },
   {
    "duration": 357,
    "start_time": "2024-05-17T21:02:46.857Z"
   },
   {
    "duration": 2,
    "start_time": "2024-05-17T21:02:47.216Z"
   },
   {
    "duration": 33,
    "start_time": "2024-05-17T21:02:47.219Z"
   },
   {
    "duration": 27,
    "start_time": "2024-05-17T21:02:47.254Z"
   },
   {
    "duration": 15,
    "start_time": "2024-05-17T21:02:47.282Z"
   },
   {
    "duration": 22,
    "start_time": "2024-05-17T21:02:47.299Z"
   },
   {
    "duration": 17,
    "start_time": "2024-05-17T21:02:47.322Z"
   },
   {
    "duration": 18,
    "start_time": "2024-05-17T21:02:47.340Z"
   },
   {
    "duration": 7,
    "start_time": "2024-05-17T21:02:47.360Z"
   },
   {
    "duration": 13,
    "start_time": "2024-05-17T21:02:47.370Z"
   },
   {
    "duration": 4,
    "start_time": "2024-05-17T21:02:47.412Z"
   },
   {
    "duration": 8,
    "start_time": "2024-05-17T21:02:47.418Z"
   },
   {
    "duration": 5,
    "start_time": "2024-05-17T21:02:47.428Z"
   },
   {
    "duration": 7,
    "start_time": "2024-05-17T21:02:47.434Z"
   },
   {
    "duration": 8,
    "start_time": "2024-05-17T21:02:47.442Z"
   },
   {
    "duration": 11,
    "start_time": "2024-05-17T21:02:47.451Z"
   },
   {
    "duration": 14,
    "start_time": "2024-05-17T21:02:47.463Z"
   },
   {
    "duration": 34,
    "start_time": "2024-05-17T21:02:47.478Z"
   },
   {
    "duration": 5,
    "start_time": "2024-05-17T21:02:47.513Z"
   },
   {
    "duration": 15,
    "start_time": "2024-05-17T21:02:47.519Z"
   },
   {
    "duration": 378,
    "start_time": "2024-05-17T21:02:47.535Z"
   },
   {
    "duration": 116,
    "start_time": "2024-05-17T21:02:47.915Z"
   },
   {
    "duration": 174,
    "start_time": "2024-05-17T21:02:48.032Z"
   },
   {
    "duration": 9,
    "start_time": "2024-05-17T21:02:48.208Z"
   },
   {
    "duration": 125,
    "start_time": "2024-05-17T21:02:48.219Z"
   },
   {
    "duration": 7,
    "start_time": "2024-05-17T21:02:48.346Z"
   },
   {
    "duration": 165,
    "start_time": "2024-05-17T21:02:48.354Z"
   },
   {
    "duration": 7,
    "start_time": "2024-05-17T21:02:48.522Z"
   },
   {
    "duration": 9,
    "start_time": "2024-05-17T21:02:48.530Z"
   },
   {
    "duration": 15,
    "start_time": "2024-05-17T21:02:48.541Z"
   },
   {
    "duration": 9,
    "start_time": "2024-05-17T21:02:48.557Z"
   },
   {
    "duration": 10,
    "start_time": "2024-05-17T21:02:48.568Z"
   },
   {
    "duration": 33,
    "start_time": "2024-05-17T21:02:48.579Z"
   },
   {
    "duration": 8,
    "start_time": "2024-05-17T21:02:48.613Z"
   },
   {
    "duration": 15,
    "start_time": "2024-05-17T21:02:48.622Z"
   },
   {
    "duration": 15,
    "start_time": "2024-05-17T21:02:48.638Z"
   },
   {
    "duration": 6,
    "start_time": "2024-05-17T21:02:48.654Z"
   },
   {
    "duration": 11,
    "start_time": "2024-05-17T21:02:48.662Z"
   },
   {
    "duration": 17,
    "start_time": "2024-05-17T21:02:48.674Z"
   },
   {
    "duration": 3,
    "start_time": "2024-05-17T21:02:48.692Z"
   },
   {
    "duration": 24,
    "start_time": "2024-05-17T21:02:48.696Z"
   },
   {
    "duration": 32,
    "start_time": "2024-05-17T21:02:48.721Z"
   },
   {
    "duration": 398,
    "start_time": "2024-05-17T21:05:05.610Z"
   },
   {
    "duration": 2,
    "start_time": "2024-05-17T21:05:06.012Z"
   },
   {
    "duration": 31,
    "start_time": "2024-05-17T21:05:06.016Z"
   },
   {
    "duration": 27,
    "start_time": "2024-05-17T21:05:06.049Z"
   },
   {
    "duration": 15,
    "start_time": "2024-05-17T21:05:06.078Z"
   },
   {
    "duration": 22,
    "start_time": "2024-05-17T21:05:06.095Z"
   },
   {
    "duration": 14,
    "start_time": "2024-05-17T21:05:06.119Z"
   },
   {
    "duration": 13,
    "start_time": "2024-05-17T21:05:06.135Z"
   },
   {
    "duration": 6,
    "start_time": "2024-05-17T21:05:06.149Z"
   },
   {
    "duration": 21,
    "start_time": "2024-05-17T21:05:06.157Z"
   },
   {
    "duration": 4,
    "start_time": "2024-05-17T21:05:06.179Z"
   },
   {
    "duration": 33,
    "start_time": "2024-05-17T21:05:06.184Z"
   },
   {
    "duration": 5,
    "start_time": "2024-05-17T21:05:06.219Z"
   },
   {
    "duration": 27,
    "start_time": "2024-05-17T21:05:06.225Z"
   },
   {
    "duration": 14,
    "start_time": "2024-05-17T21:05:06.253Z"
   },
   {
    "duration": 20,
    "start_time": "2024-05-17T21:05:06.268Z"
   },
   {
    "duration": 23,
    "start_time": "2024-05-17T21:05:06.290Z"
   },
   {
    "duration": 7,
    "start_time": "2024-05-17T21:05:06.315Z"
   },
   {
    "duration": 20,
    "start_time": "2024-05-17T21:05:06.324Z"
   },
   {
    "duration": 5,
    "start_time": "2024-05-17T21:05:06.345Z"
   },
   {
    "duration": 71,
    "start_time": "2024-05-17T21:05:06.351Z"
   },
   {
    "duration": 0,
    "start_time": "2024-05-17T21:05:06.424Z"
   },
   {
    "duration": 0,
    "start_time": "2024-05-17T21:05:06.425Z"
   },
   {
    "duration": 0,
    "start_time": "2024-05-17T21:05:06.426Z"
   },
   {
    "duration": 0,
    "start_time": "2024-05-17T21:05:06.427Z"
   },
   {
    "duration": 0,
    "start_time": "2024-05-17T21:05:06.428Z"
   },
   {
    "duration": 0,
    "start_time": "2024-05-17T21:05:06.428Z"
   },
   {
    "duration": 0,
    "start_time": "2024-05-17T21:05:06.429Z"
   },
   {
    "duration": 0,
    "start_time": "2024-05-17T21:05:06.430Z"
   },
   {
    "duration": 0,
    "start_time": "2024-05-17T21:05:06.431Z"
   },
   {
    "duration": 0,
    "start_time": "2024-05-17T21:05:06.432Z"
   },
   {
    "duration": 0,
    "start_time": "2024-05-17T21:05:06.432Z"
   },
   {
    "duration": 0,
    "start_time": "2024-05-17T21:05:06.433Z"
   },
   {
    "duration": 0,
    "start_time": "2024-05-17T21:05:06.434Z"
   },
   {
    "duration": 0,
    "start_time": "2024-05-17T21:05:06.435Z"
   },
   {
    "duration": 0,
    "start_time": "2024-05-17T21:05:06.436Z"
   },
   {
    "duration": 0,
    "start_time": "2024-05-17T21:05:06.437Z"
   },
   {
    "duration": 0,
    "start_time": "2024-05-17T21:05:06.437Z"
   },
   {
    "duration": 0,
    "start_time": "2024-05-17T21:05:06.438Z"
   },
   {
    "duration": 0,
    "start_time": "2024-05-17T21:05:06.439Z"
   },
   {
    "duration": 0,
    "start_time": "2024-05-17T21:05:06.440Z"
   },
   {
    "duration": 0,
    "start_time": "2024-05-17T21:05:06.441Z"
   },
   {
    "duration": 0,
    "start_time": "2024-05-17T21:05:06.442Z"
   },
   {
    "duration": 383,
    "start_time": "2024-05-17T21:05:43.519Z"
   },
   {
    "duration": 3,
    "start_time": "2024-05-17T21:05:43.903Z"
   },
   {
    "duration": 29,
    "start_time": "2024-05-17T21:05:43.911Z"
   },
   {
    "duration": 27,
    "start_time": "2024-05-17T21:05:43.941Z"
   },
   {
    "duration": 15,
    "start_time": "2024-05-17T21:05:43.970Z"
   },
   {
    "duration": 21,
    "start_time": "2024-05-17T21:05:43.986Z"
   },
   {
    "duration": 15,
    "start_time": "2024-05-17T21:05:44.008Z"
   },
   {
    "duration": 13,
    "start_time": "2024-05-17T21:05:44.025Z"
   },
   {
    "duration": 6,
    "start_time": "2024-05-17T21:05:44.040Z"
   },
   {
    "duration": 12,
    "start_time": "2024-05-17T21:05:44.048Z"
   },
   {
    "duration": 6,
    "start_time": "2024-05-17T21:05:44.061Z"
   },
   {
    "duration": 17,
    "start_time": "2024-05-17T21:05:44.069Z"
   },
   {
    "duration": 28,
    "start_time": "2024-05-17T21:05:44.087Z"
   },
   {
    "duration": 5,
    "start_time": "2024-05-17T21:05:44.117Z"
   },
   {
    "duration": 6,
    "start_time": "2024-05-17T21:05:44.123Z"
   },
   {
    "duration": 10,
    "start_time": "2024-05-17T21:05:44.130Z"
   },
   {
    "duration": 16,
    "start_time": "2024-05-17T21:05:44.142Z"
   },
   {
    "duration": 7,
    "start_time": "2024-05-17T21:05:44.159Z"
   },
   {
    "duration": 5,
    "start_time": "2024-05-17T21:05:44.167Z"
   },
   {
    "duration": 4,
    "start_time": "2024-05-17T21:05:44.173Z"
   },
   {
    "duration": 3,
    "start_time": "2024-05-17T21:05:44.178Z"
   },
   {
    "duration": 397,
    "start_time": "2024-05-17T21:05:44.211Z"
   },
   {
    "duration": 115,
    "start_time": "2024-05-17T21:05:44.609Z"
   },
   {
    "duration": 175,
    "start_time": "2024-05-17T21:05:44.725Z"
   },
   {
    "duration": 11,
    "start_time": "2024-05-17T21:05:44.902Z"
   },
   {
    "duration": 129,
    "start_time": "2024-05-17T21:05:44.914Z"
   },
   {
    "duration": 8,
    "start_time": "2024-05-17T21:05:45.044Z"
   },
   {
    "duration": 172,
    "start_time": "2024-05-17T21:05:45.053Z"
   },
   {
    "duration": 8,
    "start_time": "2024-05-17T21:05:45.226Z"
   },
   {
    "duration": 93,
    "start_time": "2024-05-17T21:05:45.235Z"
   },
   {
    "duration": 21,
    "start_time": "2024-05-17T21:05:45.329Z"
   },
   {
    "duration": 9,
    "start_time": "2024-05-17T21:05:45.352Z"
   },
   {
    "duration": 13,
    "start_time": "2024-05-17T21:05:45.362Z"
   },
   {
    "duration": 16,
    "start_time": "2024-05-17T21:05:45.376Z"
   },
   {
    "duration": 10,
    "start_time": "2024-05-17T21:05:45.394Z"
   },
   {
    "duration": 12,
    "start_time": "2024-05-17T21:05:45.406Z"
   },
   {
    "duration": 10,
    "start_time": "2024-05-17T21:05:45.420Z"
   },
   {
    "duration": 6,
    "start_time": "2024-05-17T21:05:45.431Z"
   },
   {
    "duration": 14,
    "start_time": "2024-05-17T21:05:45.438Z"
   },
   {
    "duration": 20,
    "start_time": "2024-05-17T21:05:45.453Z"
   },
   {
    "duration": 4,
    "start_time": "2024-05-17T21:05:45.476Z"
   },
   {
    "duration": 14,
    "start_time": "2024-05-17T21:05:45.481Z"
   },
   {
    "duration": 34,
    "start_time": "2024-05-17T21:05:45.511Z"
   },
   {
    "duration": 31,
    "start_time": "2024-05-17T21:07:08.369Z"
   },
   {
    "duration": 29,
    "start_time": "2024-05-17T21:07:13.644Z"
   },
   {
    "duration": 20,
    "start_time": "2024-05-17T21:07:46.121Z"
   },
   {
    "duration": 14,
    "start_time": "2024-05-17T21:07:50.131Z"
   },
   {
    "duration": 113,
    "start_time": "2024-05-17T21:08:18.453Z"
   },
   {
    "duration": 48,
    "start_time": "2024-05-17T21:08:26.160Z"
   },
   {
    "duration": 42,
    "start_time": "2024-05-17T21:09:41.163Z"
   },
   {
    "duration": 168,
    "start_time": "2024-05-17T21:09:47.648Z"
   },
   {
    "duration": 16,
    "start_time": "2024-05-17T21:10:04.857Z"
   },
   {
    "duration": 4822,
    "start_time": "2024-05-17T21:10:25.801Z"
   },
   {
    "duration": 17,
    "start_time": "2024-05-17T21:10:32.485Z"
   },
   {
    "duration": 419,
    "start_time": "2024-05-17T21:10:58.876Z"
   },
   {
    "duration": 2,
    "start_time": "2024-05-17T21:10:59.297Z"
   },
   {
    "duration": 87,
    "start_time": "2024-05-17T21:10:59.300Z"
   },
   {
    "duration": 78,
    "start_time": "2024-05-17T21:10:59.388Z"
   },
   {
    "duration": 59,
    "start_time": "2024-05-17T21:10:59.468Z"
   },
   {
    "duration": 21,
    "start_time": "2024-05-17T21:10:59.529Z"
   },
   {
    "duration": 15,
    "start_time": "2024-05-17T21:10:59.551Z"
   },
   {
    "duration": 13,
    "start_time": "2024-05-17T21:10:59.568Z"
   },
   {
    "duration": 17,
    "start_time": "2024-05-17T21:10:59.582Z"
   },
   {
    "duration": 15,
    "start_time": "2024-05-17T21:10:59.600Z"
   },
   {
    "duration": 8,
    "start_time": "2024-05-17T21:10:59.617Z"
   },
   {
    "duration": 8,
    "start_time": "2024-05-17T21:10:59.626Z"
   },
   {
    "duration": 17,
    "start_time": "2024-05-17T21:10:59.636Z"
   },
   {
    "duration": 7,
    "start_time": "2024-05-17T21:10:59.655Z"
   },
   {
    "duration": 6,
    "start_time": "2024-05-17T21:10:59.663Z"
   },
   {
    "duration": 17,
    "start_time": "2024-05-17T21:10:59.670Z"
   },
   {
    "duration": 17,
    "start_time": "2024-05-17T21:10:59.689Z"
   },
   {
    "duration": 7,
    "start_time": "2024-05-17T21:10:59.708Z"
   },
   {
    "duration": 26,
    "start_time": "2024-05-17T21:10:59.717Z"
   },
   {
    "duration": 5,
    "start_time": "2024-05-17T21:10:59.744Z"
   },
   {
    "duration": 7,
    "start_time": "2024-05-17T21:10:59.750Z"
   },
   {
    "duration": 395,
    "start_time": "2024-05-17T21:10:59.758Z"
   },
   {
    "duration": 120,
    "start_time": "2024-05-17T21:11:00.155Z"
   },
   {
    "duration": 177,
    "start_time": "2024-05-17T21:11:00.277Z"
   },
   {
    "duration": 8,
    "start_time": "2024-05-17T21:11:00.455Z"
   },
   {
    "duration": 146,
    "start_time": "2024-05-17T21:11:00.464Z"
   },
   {
    "duration": 6,
    "start_time": "2024-05-17T21:11:00.612Z"
   },
   {
    "duration": 173,
    "start_time": "2024-05-17T21:11:00.620Z"
   },
   {
    "duration": 7,
    "start_time": "2024-05-17T21:11:00.795Z"
   },
   {
    "duration": 46,
    "start_time": "2024-05-17T21:11:00.803Z"
   },
   {
    "duration": 45,
    "start_time": "2024-05-17T21:11:00.851Z"
   },
   {
    "duration": 43,
    "start_time": "2024-05-17T21:11:00.897Z"
   },
   {
    "duration": 34,
    "start_time": "2024-05-17T21:11:00.942Z"
   },
   {
    "duration": 66,
    "start_time": "2024-05-17T21:11:00.977Z"
   },
   {
    "duration": 35,
    "start_time": "2024-05-17T21:11:01.044Z"
   },
   {
    "duration": 41,
    "start_time": "2024-05-17T21:11:01.081Z"
   },
   {
    "duration": 46,
    "start_time": "2024-05-17T21:11:01.123Z"
   },
   {
    "duration": 31,
    "start_time": "2024-05-17T21:11:01.170Z"
   },
   {
    "duration": 63,
    "start_time": "2024-05-17T21:11:01.203Z"
   },
   {
    "duration": 46,
    "start_time": "2024-05-17T21:11:01.268Z"
   },
   {
    "duration": 31,
    "start_time": "2024-05-17T21:11:01.318Z"
   },
   {
    "duration": 30,
    "start_time": "2024-05-17T21:11:01.351Z"
   },
   {
    "duration": 76,
    "start_time": "2024-05-17T21:11:01.382Z"
   },
   {
    "duration": 43,
    "start_time": "2024-05-17T21:11:01.460Z"
   },
   {
    "duration": 21,
    "start_time": "2024-05-17T21:11:36.601Z"
   },
   {
    "duration": 287,
    "start_time": "2024-05-17T21:11:38.707Z"
   },
   {
    "duration": 3,
    "start_time": "2024-05-17T21:11:47.799Z"
   },
   {
    "duration": 14,
    "start_time": "2024-05-17T21:11:50.177Z"
   },
   {
    "duration": 4,
    "start_time": "2024-05-17T21:26:56.505Z"
   },
   {
    "duration": 133,
    "start_time": "2024-05-17T21:27:34.182Z"
   },
   {
    "duration": 18,
    "start_time": "2024-05-17T21:27:43.050Z"
   },
   {
    "duration": 10,
    "start_time": "2024-05-17T21:28:49.570Z"
   },
   {
    "duration": 411,
    "start_time": "2024-05-17T21:29:05.084Z"
   },
   {
    "duration": 2,
    "start_time": "2024-05-17T21:29:05.497Z"
   },
   {
    "duration": 51,
    "start_time": "2024-05-17T21:29:05.501Z"
   },
   {
    "duration": 29,
    "start_time": "2024-05-17T21:29:05.554Z"
   },
   {
    "duration": 16,
    "start_time": "2024-05-17T21:29:05.584Z"
   },
   {
    "duration": 25,
    "start_time": "2024-05-17T21:29:05.601Z"
   },
   {
    "duration": 15,
    "start_time": "2024-05-17T21:29:05.627Z"
   },
   {
    "duration": 14,
    "start_time": "2024-05-17T21:29:05.643Z"
   },
   {
    "duration": 7,
    "start_time": "2024-05-17T21:29:05.659Z"
   },
   {
    "duration": 43,
    "start_time": "2024-05-17T21:29:05.669Z"
   },
   {
    "duration": 3,
    "start_time": "2024-05-17T21:29:05.714Z"
   },
   {
    "duration": 24,
    "start_time": "2024-05-17T21:29:05.718Z"
   },
   {
    "duration": 9,
    "start_time": "2024-05-17T21:29:05.746Z"
   },
   {
    "duration": 6,
    "start_time": "2024-05-17T21:29:05.757Z"
   },
   {
    "duration": 5,
    "start_time": "2024-05-17T21:29:05.765Z"
   },
   {
    "duration": 7,
    "start_time": "2024-05-17T21:29:05.771Z"
   },
   {
    "duration": 24,
    "start_time": "2024-05-17T21:29:05.780Z"
   },
   {
    "duration": 7,
    "start_time": "2024-05-17T21:29:05.806Z"
   },
   {
    "duration": 6,
    "start_time": "2024-05-17T21:29:05.814Z"
   },
   {
    "duration": 16,
    "start_time": "2024-05-17T21:29:05.821Z"
   },
   {
    "duration": 7,
    "start_time": "2024-05-17T21:29:05.839Z"
   },
   {
    "duration": 387,
    "start_time": "2024-05-17T21:29:05.848Z"
   },
   {
    "duration": 119,
    "start_time": "2024-05-17T21:29:06.236Z"
   },
   {
    "duration": 165,
    "start_time": "2024-05-17T21:29:06.357Z"
   },
   {
    "duration": 7,
    "start_time": "2024-05-17T21:29:06.523Z"
   },
   {
    "duration": 127,
    "start_time": "2024-05-17T21:29:06.531Z"
   },
   {
    "duration": 6,
    "start_time": "2024-05-17T21:29:06.660Z"
   },
   {
    "duration": 164,
    "start_time": "2024-05-17T21:29:06.669Z"
   },
   {
    "duration": 7,
    "start_time": "2024-05-17T21:29:06.835Z"
   },
   {
    "duration": 10,
    "start_time": "2024-05-17T21:29:06.843Z"
   },
   {
    "duration": 10,
    "start_time": "2024-05-17T21:29:06.855Z"
   },
   {
    "duration": 8,
    "start_time": "2024-05-17T21:29:06.866Z"
   },
   {
    "duration": 8,
    "start_time": "2024-05-17T21:29:06.875Z"
   },
   {
    "duration": 36,
    "start_time": "2024-05-17T21:29:06.884Z"
   },
   {
    "duration": 9,
    "start_time": "2024-05-17T21:29:06.922Z"
   },
   {
    "duration": 11,
    "start_time": "2024-05-17T21:29:06.932Z"
   },
   {
    "duration": 17,
    "start_time": "2024-05-17T21:29:06.944Z"
   },
   {
    "duration": 30,
    "start_time": "2024-05-17T21:29:06.963Z"
   },
   {
    "duration": 20,
    "start_time": "2024-05-17T21:29:06.994Z"
   },
   {
    "duration": 24,
    "start_time": "2024-05-17T21:29:07.015Z"
   },
   {
    "duration": 2,
    "start_time": "2024-05-17T21:29:07.041Z"
   },
   {
    "duration": 29,
    "start_time": "2024-05-17T21:29:07.045Z"
   },
   {
    "duration": 14,
    "start_time": "2024-05-17T21:29:07.076Z"
   },
   {
    "duration": 171,
    "start_time": "2024-05-17T21:29:07.091Z"
   },
   {
    "duration": 8,
    "start_time": "2024-05-17T21:29:07.264Z"
   },
   {
    "duration": 660,
    "start_time": "2024-05-19T15:46:51.486Z"
   },
   {
    "duration": 490,
    "start_time": "2024-05-19T15:46:58.049Z"
   },
   {
    "duration": 3,
    "start_time": "2024-05-19T15:46:58.541Z"
   },
   {
    "duration": 82,
    "start_time": "2024-05-19T15:46:58.546Z"
   },
   {
    "duration": 85,
    "start_time": "2024-05-19T15:46:58.631Z"
   },
   {
    "duration": 58,
    "start_time": "2024-05-19T15:46:58.717Z"
   },
   {
    "duration": 27,
    "start_time": "2024-05-19T15:46:58.777Z"
   },
   {
    "duration": 20,
    "start_time": "2024-05-19T15:46:58.806Z"
   },
   {
    "duration": 33,
    "start_time": "2024-05-19T15:46:58.827Z"
   },
   {
    "duration": 9,
    "start_time": "2024-05-19T15:46:58.861Z"
   },
   {
    "duration": 21,
    "start_time": "2024-05-19T15:46:58.874Z"
   },
   {
    "duration": 7,
    "start_time": "2024-05-19T15:46:58.897Z"
   },
   {
    "duration": 13,
    "start_time": "2024-05-19T15:46:58.906Z"
   },
   {
    "duration": 36,
    "start_time": "2024-05-19T15:46:58.921Z"
   },
   {
    "duration": 8,
    "start_time": "2024-05-19T15:46:58.959Z"
   },
   {
    "duration": 11,
    "start_time": "2024-05-19T15:46:58.969Z"
   },
   {
    "duration": 10,
    "start_time": "2024-05-19T15:46:58.981Z"
   },
   {
    "duration": 18,
    "start_time": "2024-05-19T15:46:58.992Z"
   },
   {
    "duration": 10,
    "start_time": "2024-05-19T15:46:59.012Z"
   },
   {
    "duration": 6,
    "start_time": "2024-05-19T15:46:59.055Z"
   },
   {
    "duration": 14,
    "start_time": "2024-05-19T15:46:59.063Z"
   },
   {
    "duration": 4,
    "start_time": "2024-05-19T15:46:59.079Z"
   },
   {
    "duration": 583,
    "start_time": "2024-05-19T15:46:59.084Z"
   },
   {
    "duration": 152,
    "start_time": "2024-05-19T15:46:59.669Z"
   },
   {
    "duration": 216,
    "start_time": "2024-05-19T15:46:59.823Z"
   },
   {
    "duration": 20,
    "start_time": "2024-05-19T15:47:00.041Z"
   },
   {
    "duration": 284,
    "start_time": "2024-05-19T15:47:00.063Z"
   },
   {
    "duration": 14,
    "start_time": "2024-05-19T15:47:00.349Z"
   },
   {
    "duration": 145,
    "start_time": "2024-05-19T15:47:00.366Z"
   },
   {
    "duration": 10,
    "start_time": "2024-05-19T15:47:00.512Z"
   },
   {
    "duration": 47,
    "start_time": "2024-05-19T15:47:00.524Z"
   },
   {
    "duration": 22,
    "start_time": "2024-05-19T15:47:00.572Z"
   },
   {
    "duration": 34,
    "start_time": "2024-05-19T15:47:00.596Z"
   },
   {
    "duration": 29,
    "start_time": "2024-05-19T15:47:00.632Z"
   },
   {
    "duration": 25,
    "start_time": "2024-05-19T15:47:00.663Z"
   },
   {
    "duration": 38,
    "start_time": "2024-05-19T15:47:00.689Z"
   },
   {
    "duration": 19,
    "start_time": "2024-05-19T15:47:00.729Z"
   },
   {
    "duration": 36,
    "start_time": "2024-05-19T15:47:00.750Z"
   },
   {
    "duration": 21,
    "start_time": "2024-05-19T15:47:00.788Z"
   },
   {
    "duration": 39,
    "start_time": "2024-05-19T15:47:00.811Z"
   },
   {
    "duration": 42,
    "start_time": "2024-05-19T15:47:00.852Z"
   },
   {
    "duration": 8,
    "start_time": "2024-05-19T15:47:00.896Z"
   },
   {
    "duration": 35,
    "start_time": "2024-05-19T15:47:00.905Z"
   },
   {
    "duration": 17,
    "start_time": "2024-05-19T15:47:00.943Z"
   },
   {
    "duration": 177,
    "start_time": "2024-05-19T15:47:00.962Z"
   },
   {
    "duration": 12,
    "start_time": "2024-05-19T15:47:01.141Z"
   },
   {
    "duration": 565,
    "start_time": "2024-05-19T15:47:01.156Z"
   },
   {
    "duration": 4,
    "start_time": "2024-05-19T15:54:50.936Z"
   },
   {
    "duration": 4,
    "start_time": "2024-05-19T15:57:00.917Z"
   },
   {
    "duration": 64,
    "start_time": "2024-05-19T16:00:24.180Z"
   },
   {
    "duration": 7,
    "start_time": "2024-05-19T16:00:30.875Z"
   },
   {
    "duration": 6,
    "start_time": "2024-05-19T16:06:54.432Z"
   },
   {
    "duration": 3,
    "start_time": "2024-05-19T16:06:59.013Z"
   },
   {
    "duration": 5,
    "start_time": "2024-05-19T16:07:59.102Z"
   },
   {
    "duration": 4,
    "start_time": "2024-05-19T16:08:10.386Z"
   },
   {
    "duration": 4,
    "start_time": "2024-05-19T16:08:13.436Z"
   },
   {
    "duration": 6,
    "start_time": "2024-05-19T16:08:17.160Z"
   },
   {
    "duration": 3,
    "start_time": "2024-05-19T16:08:58.597Z"
   },
   {
    "duration": 3,
    "start_time": "2024-05-19T16:09:00.778Z"
   },
   {
    "duration": 6,
    "start_time": "2024-05-19T16:09:02.132Z"
   },
   {
    "duration": 6,
    "start_time": "2024-05-19T16:09:26.911Z"
   },
   {
    "duration": 5,
    "start_time": "2024-05-19T16:11:10.238Z"
   },
   {
    "duration": 6,
    "start_time": "2024-05-19T16:11:30.638Z"
   },
   {
    "duration": 5,
    "start_time": "2024-05-19T16:11:36.604Z"
   },
   {
    "duration": 6,
    "start_time": "2024-05-19T16:11:40.561Z"
   },
   {
    "duration": 6,
    "start_time": "2024-05-19T16:11:56.025Z"
   },
   {
    "duration": 7,
    "start_time": "2024-05-19T16:14:09.748Z"
   },
   {
    "duration": 4,
    "start_time": "2024-05-19T16:20:26.140Z"
   },
   {
    "duration": 5,
    "start_time": "2024-05-19T16:25:28.453Z"
   },
   {
    "duration": 7,
    "start_time": "2024-05-19T16:29:21.873Z"
   },
   {
    "duration": 7,
    "start_time": "2024-05-19T16:34:05.774Z"
   },
   {
    "duration": 1106,
    "start_time": "2024-05-19T16:39:20.845Z"
   },
   {
    "duration": 6,
    "start_time": "2024-05-19T16:39:58.422Z"
   },
   {
    "duration": 5,
    "start_time": "2024-05-19T16:40:31.813Z"
   },
   {
    "duration": 5,
    "start_time": "2024-05-19T16:43:10.376Z"
   },
   {
    "duration": 9,
    "start_time": "2024-05-19T16:55:09.460Z"
   },
   {
    "duration": 9,
    "start_time": "2024-05-19T16:55:29.929Z"
   },
   {
    "duration": 385,
    "start_time": "2024-05-19T19:12:22.649Z"
   },
   {
    "duration": 3,
    "start_time": "2024-05-19T19:12:23.036Z"
   },
   {
    "duration": 117,
    "start_time": "2024-05-19T19:12:23.041Z"
   },
   {
    "duration": 135,
    "start_time": "2024-05-19T19:12:23.160Z"
   },
   {
    "duration": 66,
    "start_time": "2024-05-19T19:12:23.297Z"
   },
   {
    "duration": 23,
    "start_time": "2024-05-19T19:12:23.365Z"
   },
   {
    "duration": 32,
    "start_time": "2024-05-19T19:12:23.389Z"
   },
   {
    "duration": 24,
    "start_time": "2024-05-19T19:12:23.423Z"
   },
   {
    "duration": 7,
    "start_time": "2024-05-19T19:12:23.449Z"
   },
   {
    "duration": 32,
    "start_time": "2024-05-19T19:12:23.458Z"
   },
   {
    "duration": 18,
    "start_time": "2024-05-19T19:12:23.492Z"
   },
   {
    "duration": 30,
    "start_time": "2024-05-19T19:12:23.513Z"
   },
   {
    "duration": 34,
    "start_time": "2024-05-19T19:12:23.545Z"
   },
   {
    "duration": 36,
    "start_time": "2024-05-19T19:12:23.580Z"
   },
   {
    "duration": 26,
    "start_time": "2024-05-19T19:12:23.618Z"
   },
   {
    "duration": 53,
    "start_time": "2024-05-19T19:12:23.646Z"
   },
   {
    "duration": 27,
    "start_time": "2024-05-19T19:12:23.701Z"
   },
   {
    "duration": 27,
    "start_time": "2024-05-19T19:12:23.729Z"
   },
   {
    "duration": 18,
    "start_time": "2024-05-19T19:12:23.757Z"
   },
   {
    "duration": 27,
    "start_time": "2024-05-19T19:12:23.777Z"
   },
   {
    "duration": 91,
    "start_time": "2024-05-19T19:12:23.805Z"
   },
   {
    "duration": 519,
    "start_time": "2024-05-19T19:12:23.897Z"
   },
   {
    "duration": 122,
    "start_time": "2024-05-19T19:12:24.418Z"
   },
   {
    "duration": 203,
    "start_time": "2024-05-19T19:12:24.541Z"
   },
   {
    "duration": 8,
    "start_time": "2024-05-19T19:12:24.746Z"
   },
   {
    "duration": 260,
    "start_time": "2024-05-19T19:12:24.756Z"
   },
   {
    "duration": 9,
    "start_time": "2024-05-19T19:12:25.018Z"
   },
   {
    "duration": 193,
    "start_time": "2024-05-19T19:12:25.031Z"
   },
   {
    "duration": 7,
    "start_time": "2024-05-19T19:12:25.226Z"
   },
   {
    "duration": 21,
    "start_time": "2024-05-19T19:12:25.235Z"
   },
   {
    "duration": 11,
    "start_time": "2024-05-19T19:12:25.258Z"
   },
   {
    "duration": 39,
    "start_time": "2024-05-19T19:12:25.270Z"
   },
   {
    "duration": 51,
    "start_time": "2024-05-19T19:12:25.310Z"
   },
   {
    "duration": 24,
    "start_time": "2024-05-19T19:12:25.362Z"
   },
   {
    "duration": 34,
    "start_time": "2024-05-19T19:12:25.387Z"
   },
   {
    "duration": 20,
    "start_time": "2024-05-19T19:12:25.422Z"
   },
   {
    "duration": 15,
    "start_time": "2024-05-19T19:12:25.444Z"
   },
   {
    "duration": 24,
    "start_time": "2024-05-19T19:12:25.461Z"
   },
   {
    "duration": 35,
    "start_time": "2024-05-19T19:12:25.486Z"
   },
   {
    "duration": 49,
    "start_time": "2024-05-19T19:12:25.523Z"
   },
   {
    "duration": 33,
    "start_time": "2024-05-19T19:12:25.573Z"
   },
   {
    "duration": 51,
    "start_time": "2024-05-19T19:12:25.608Z"
   },
   {
    "duration": 23,
    "start_time": "2024-05-19T19:12:25.661Z"
   },
   {
    "duration": 145,
    "start_time": "2024-05-19T19:12:25.686Z"
   },
   {
    "duration": 11,
    "start_time": "2024-05-19T19:12:25.832Z"
   },
   {
    "duration": 565,
    "start_time": "2024-05-19T19:12:25.845Z"
   },
   {
    "duration": 7,
    "start_time": "2024-05-19T19:12:26.411Z"
   },
   {
    "duration": 26,
    "start_time": "2024-05-19T19:12:26.419Z"
   },
   {
    "duration": 142,
    "start_time": "2024-05-19T19:12:26.447Z"
   },
   {
    "duration": 422,
    "start_time": "2024-05-20T08:54:40.633Z"
   },
   {
    "duration": 7,
    "start_time": "2024-05-20T08:54:41.057Z"
   },
   {
    "duration": 100,
    "start_time": "2024-05-20T08:54:41.066Z"
   },
   {
    "duration": 78,
    "start_time": "2024-05-20T08:54:41.168Z"
   },
   {
    "duration": 58,
    "start_time": "2024-05-20T08:54:41.247Z"
   },
   {
    "duration": 23,
    "start_time": "2024-05-20T08:54:41.306Z"
   },
   {
    "duration": 15,
    "start_time": "2024-05-20T08:54:41.331Z"
   },
   {
    "duration": 23,
    "start_time": "2024-05-20T08:54:41.348Z"
   },
   {
    "duration": 19,
    "start_time": "2024-05-20T08:54:41.372Z"
   },
   {
    "duration": 11,
    "start_time": "2024-05-20T08:54:41.393Z"
   },
   {
    "duration": 20,
    "start_time": "2024-05-20T08:54:41.405Z"
   },
   {
    "duration": 8,
    "start_time": "2024-05-20T08:54:41.426Z"
   },
   {
    "duration": 5,
    "start_time": "2024-05-20T08:54:41.436Z"
   },
   {
    "duration": 5,
    "start_time": "2024-05-20T08:54:41.443Z"
   },
   {
    "duration": 7,
    "start_time": "2024-05-20T08:54:41.449Z"
   },
   {
    "duration": 5,
    "start_time": "2024-05-20T08:54:41.464Z"
   },
   {
    "duration": 30,
    "start_time": "2024-05-20T08:54:41.470Z"
   },
   {
    "duration": 9,
    "start_time": "2024-05-20T08:54:41.501Z"
   },
   {
    "duration": 4,
    "start_time": "2024-05-20T08:54:41.512Z"
   },
   {
    "duration": 7,
    "start_time": "2024-05-20T08:54:41.517Z"
   },
   {
    "duration": 7,
    "start_time": "2024-05-20T08:54:41.526Z"
   },
   {
    "duration": 607,
    "start_time": "2024-05-20T08:54:41.534Z"
   },
   {
    "duration": 124,
    "start_time": "2024-05-20T08:54:42.142Z"
   },
   {
    "duration": 190,
    "start_time": "2024-05-20T08:54:42.268Z"
   },
   {
    "duration": 13,
    "start_time": "2024-05-20T08:54:42.459Z"
   },
   {
    "duration": 200,
    "start_time": "2024-05-20T08:54:42.473Z"
   },
   {
    "duration": 7,
    "start_time": "2024-05-20T08:54:42.675Z"
   },
   {
    "duration": 139,
    "start_time": "2024-05-20T08:54:42.686Z"
   },
   {
    "duration": 9,
    "start_time": "2024-05-20T08:54:42.826Z"
   },
   {
    "duration": 11,
    "start_time": "2024-05-20T08:54:42.836Z"
   },
   {
    "duration": 26,
    "start_time": "2024-05-20T08:54:42.848Z"
   },
   {
    "duration": 18,
    "start_time": "2024-05-20T08:54:42.875Z"
   },
   {
    "duration": 10,
    "start_time": "2024-05-20T08:54:42.896Z"
   },
   {
    "duration": 12,
    "start_time": "2024-05-20T08:54:42.907Z"
   },
   {
    "duration": 12,
    "start_time": "2024-05-20T08:54:42.920Z"
   },
   {
    "duration": 16,
    "start_time": "2024-05-20T08:54:42.934Z"
   },
   {
    "duration": 37,
    "start_time": "2024-05-20T08:54:42.951Z"
   },
   {
    "duration": 5,
    "start_time": "2024-05-20T08:54:42.990Z"
   },
   {
    "duration": 14,
    "start_time": "2024-05-20T08:54:42.996Z"
   },
   {
    "duration": 31,
    "start_time": "2024-05-20T08:54:43.012Z"
   },
   {
    "duration": 3,
    "start_time": "2024-05-20T08:54:43.044Z"
   },
   {
    "duration": 26,
    "start_time": "2024-05-20T08:54:43.048Z"
   },
   {
    "duration": 4,
    "start_time": "2024-05-20T08:54:43.075Z"
   },
   {
    "duration": 150,
    "start_time": "2024-05-20T08:54:43.080Z"
   },
   {
    "duration": 9,
    "start_time": "2024-05-20T08:54:43.232Z"
   },
   {
    "duration": 455,
    "start_time": "2024-05-20T08:54:43.243Z"
   },
   {
    "duration": 6,
    "start_time": "2024-05-20T08:54:43.699Z"
   },
   {
    "duration": 11,
    "start_time": "2024-05-20T08:54:43.706Z"
   },
   {
    "duration": 13,
    "start_time": "2024-05-20T08:54:43.719Z"
   },
   {
    "duration": 93,
    "start_time": "2024-05-20T08:58:10.231Z"
   },
   {
    "duration": 9,
    "start_time": "2024-05-20T08:58:52.424Z"
   },
   {
    "duration": 13,
    "start_time": "2024-05-20T08:59:14.604Z"
   },
   {
    "duration": 6,
    "start_time": "2024-05-20T09:12:12.918Z"
   },
   {
    "duration": 7,
    "start_time": "2024-05-20T09:13:29.899Z"
   },
   {
    "duration": 91,
    "start_time": "2024-05-20T20:21:55.117Z"
   },
   {
    "duration": 3,
    "start_time": "2024-05-20T20:46:33.848Z"
   },
   {
    "duration": 47,
    "start_time": "2024-05-20T20:46:51.586Z"
   },
   {
    "duration": 8,
    "start_time": "2024-05-20T20:46:59.704Z"
   },
   {
    "duration": 371,
    "start_time": "2024-05-20T20:47:04.009Z"
   },
   {
    "duration": 2,
    "start_time": "2024-05-20T20:47:05.166Z"
   },
   {
    "duration": 98,
    "start_time": "2024-05-20T20:47:07.764Z"
   },
   {
    "duration": 154,
    "start_time": "2024-05-20T20:47:08.619Z"
   },
   {
    "duration": 75,
    "start_time": "2024-05-20T20:47:09.521Z"
   },
   {
    "duration": 3,
    "start_time": "2024-05-20T20:47:10.106Z"
   },
   {
    "duration": 11,
    "start_time": "2024-05-20T20:47:11.255Z"
   },
   {
    "duration": 28,
    "start_time": "2024-05-20T20:47:31.340Z"
   },
   {
    "duration": 56,
    "start_time": "2024-05-20T20:50:54.039Z"
   },
   {
    "duration": 7,
    "start_time": "2024-05-20T20:51:19.345Z"
   },
   {
    "duration": 391,
    "start_time": "2024-05-20T20:51:25.693Z"
   },
   {
    "duration": 3,
    "start_time": "2024-05-20T20:51:26.086Z"
   },
   {
    "duration": 35,
    "start_time": "2024-05-20T20:51:26.090Z"
   },
   {
    "duration": 30,
    "start_time": "2024-05-20T20:51:26.127Z"
   },
   {
    "duration": 15,
    "start_time": "2024-05-20T20:51:26.158Z"
   },
   {
    "duration": 43,
    "start_time": "2024-05-20T20:51:26.175Z"
   },
   {
    "duration": 47,
    "start_time": "2024-05-20T20:51:26.220Z"
   },
   {
    "duration": 36,
    "start_time": "2024-05-20T20:51:26.269Z"
   },
   {
    "duration": 11,
    "start_time": "2024-05-20T20:51:26.307Z"
   },
   {
    "duration": 14,
    "start_time": "2024-05-20T20:51:26.322Z"
   },
   {
    "duration": 6,
    "start_time": "2024-05-20T20:51:26.338Z"
   },
   {
    "duration": 19,
    "start_time": "2024-05-20T20:51:26.346Z"
   },
   {
    "duration": 6,
    "start_time": "2024-05-20T20:51:26.367Z"
   },
   {
    "duration": 11,
    "start_time": "2024-05-20T20:51:26.375Z"
   },
   {
    "duration": 7,
    "start_time": "2024-05-20T20:51:26.387Z"
   },
   {
    "duration": 15,
    "start_time": "2024-05-20T20:51:26.395Z"
   },
   {
    "duration": 14,
    "start_time": "2024-05-20T20:51:26.412Z"
   },
   {
    "duration": 33,
    "start_time": "2024-05-20T20:51:26.428Z"
   },
   {
    "duration": 5,
    "start_time": "2024-05-20T20:51:26.463Z"
   },
   {
    "duration": 7,
    "start_time": "2024-05-20T20:51:26.469Z"
   },
   {
    "duration": 11,
    "start_time": "2024-05-20T20:51:26.477Z"
   },
   {
    "duration": 624,
    "start_time": "2024-05-20T20:51:26.490Z"
   },
   {
    "duration": 149,
    "start_time": "2024-05-20T20:51:27.116Z"
   },
   {
    "duration": 213,
    "start_time": "2024-05-20T20:51:27.267Z"
   },
   {
    "duration": 17,
    "start_time": "2024-05-20T20:51:27.482Z"
   },
   {
    "duration": 203,
    "start_time": "2024-05-20T20:51:27.501Z"
   },
   {
    "duration": 9,
    "start_time": "2024-05-20T20:51:27.705Z"
   },
   {
    "duration": 146,
    "start_time": "2024-05-20T20:51:27.717Z"
   },
   {
    "duration": 8,
    "start_time": "2024-05-20T20:51:27.865Z"
   },
   {
    "duration": 16,
    "start_time": "2024-05-20T20:51:27.875Z"
   },
   {
    "duration": 11,
    "start_time": "2024-05-20T20:51:27.893Z"
   },
   {
    "duration": 11,
    "start_time": "2024-05-20T20:51:27.906Z"
   },
   {
    "duration": 19,
    "start_time": "2024-05-20T20:51:27.919Z"
   },
   {
    "duration": 31,
    "start_time": "2024-05-20T20:51:27.939Z"
   },
   {
    "duration": 8,
    "start_time": "2024-05-20T20:51:27.972Z"
   },
   {
    "duration": 7,
    "start_time": "2024-05-20T20:51:27.982Z"
   },
   {
    "duration": 12,
    "start_time": "2024-05-20T20:51:27.990Z"
   },
   {
    "duration": 23,
    "start_time": "2024-05-20T20:51:28.003Z"
   },
   {
    "duration": 12,
    "start_time": "2024-05-20T20:51:28.027Z"
   },
   {
    "duration": 22,
    "start_time": "2024-05-20T20:51:28.058Z"
   },
   {
    "duration": 3,
    "start_time": "2024-05-20T20:51:28.081Z"
   },
   {
    "duration": 12,
    "start_time": "2024-05-20T20:51:28.086Z"
   },
   {
    "duration": 4,
    "start_time": "2024-05-20T20:51:28.099Z"
   },
   {
    "duration": 161,
    "start_time": "2024-05-20T20:51:28.104Z"
   },
   {
    "duration": 10,
    "start_time": "2024-05-20T20:51:28.266Z"
   },
   {
    "duration": 445,
    "start_time": "2024-05-20T20:51:28.278Z"
   },
   {
    "duration": 6,
    "start_time": "2024-05-20T20:51:28.725Z"
   },
   {
    "duration": 20,
    "start_time": "2024-05-20T20:51:28.733Z"
   },
   {
    "duration": 27,
    "start_time": "2024-05-20T20:51:28.755Z"
   },
   {
    "duration": 11,
    "start_time": "2024-05-20T20:53:23.754Z"
   },
   {
    "duration": 22,
    "start_time": "2024-05-20T21:07:08.651Z"
   },
   {
    "duration": 9,
    "start_time": "2024-05-20T21:08:51.437Z"
   },
   {
    "duration": 6,
    "start_time": "2024-05-20T21:09:24.037Z"
   },
   {
    "duration": 20,
    "start_time": "2024-05-20T21:10:21.539Z"
   },
   {
    "duration": 13,
    "start_time": "2024-05-20T21:12:53.798Z"
   },
   {
    "duration": 22,
    "start_time": "2024-05-20T21:13:01.332Z"
   },
   {
    "duration": 428,
    "start_time": "2024-05-20T21:13:13.190Z"
   },
   {
    "duration": 2,
    "start_time": "2024-05-20T21:13:13.621Z"
   },
   {
    "duration": 47,
    "start_time": "2024-05-20T21:13:13.625Z"
   },
   {
    "duration": 29,
    "start_time": "2024-05-20T21:13:13.674Z"
   },
   {
    "duration": 75,
    "start_time": "2024-05-20T21:13:13.705Z"
   },
   {
    "duration": 48,
    "start_time": "2024-05-20T21:13:13.782Z"
   },
   {
    "duration": 25,
    "start_time": "2024-05-20T21:13:13.832Z"
   },
   {
    "duration": 17,
    "start_time": "2024-05-20T21:13:13.859Z"
   },
   {
    "duration": 7,
    "start_time": "2024-05-20T21:13:13.877Z"
   },
   {
    "duration": 16,
    "start_time": "2024-05-20T21:13:13.886Z"
   },
   {
    "duration": 4,
    "start_time": "2024-05-20T21:13:13.904Z"
   },
   {
    "duration": 10,
    "start_time": "2024-05-20T21:13:13.910Z"
   },
   {
    "duration": 38,
    "start_time": "2024-05-20T21:13:13.922Z"
   },
   {
    "duration": 6,
    "start_time": "2024-05-20T21:13:13.962Z"
   },
   {
    "duration": 5,
    "start_time": "2024-05-20T21:13:13.969Z"
   },
   {
    "duration": 8,
    "start_time": "2024-05-20T21:13:13.976Z"
   },
   {
    "duration": 14,
    "start_time": "2024-05-20T21:13:13.985Z"
   },
   {
    "duration": 89,
    "start_time": "2024-05-20T21:13:14.000Z"
   },
   {
    "duration": 0,
    "start_time": "2024-05-20T21:13:14.091Z"
   },
   {
    "duration": 0,
    "start_time": "2024-05-20T21:13:14.092Z"
   },
   {
    "duration": 0,
    "start_time": "2024-05-20T21:13:14.093Z"
   },
   {
    "duration": 0,
    "start_time": "2024-05-20T21:13:14.094Z"
   },
   {
    "duration": 0,
    "start_time": "2024-05-20T21:13:14.095Z"
   },
   {
    "duration": 0,
    "start_time": "2024-05-20T21:13:14.096Z"
   },
   {
    "duration": 0,
    "start_time": "2024-05-20T21:13:14.097Z"
   },
   {
    "duration": 0,
    "start_time": "2024-05-20T21:13:14.098Z"
   },
   {
    "duration": 0,
    "start_time": "2024-05-20T21:13:14.099Z"
   },
   {
    "duration": 0,
    "start_time": "2024-05-20T21:13:14.100Z"
   },
   {
    "duration": 0,
    "start_time": "2024-05-20T21:13:14.101Z"
   },
   {
    "duration": 0,
    "start_time": "2024-05-20T21:13:14.102Z"
   },
   {
    "duration": 0,
    "start_time": "2024-05-20T21:13:14.102Z"
   },
   {
    "duration": 0,
    "start_time": "2024-05-20T21:13:14.103Z"
   },
   {
    "duration": 0,
    "start_time": "2024-05-20T21:13:14.104Z"
   },
   {
    "duration": 0,
    "start_time": "2024-05-20T21:13:14.105Z"
   },
   {
    "duration": 0,
    "start_time": "2024-05-20T21:13:14.107Z"
   },
   {
    "duration": 0,
    "start_time": "2024-05-20T21:13:14.107Z"
   },
   {
    "duration": 0,
    "start_time": "2024-05-20T21:13:14.108Z"
   },
   {
    "duration": 0,
    "start_time": "2024-05-20T21:13:14.109Z"
   },
   {
    "duration": 0,
    "start_time": "2024-05-20T21:13:14.110Z"
   },
   {
    "duration": 0,
    "start_time": "2024-05-20T21:13:14.111Z"
   },
   {
    "duration": 0,
    "start_time": "2024-05-20T21:13:14.112Z"
   },
   {
    "duration": 0,
    "start_time": "2024-05-20T21:13:14.113Z"
   },
   {
    "duration": 0,
    "start_time": "2024-05-20T21:13:14.114Z"
   },
   {
    "duration": 0,
    "start_time": "2024-05-20T21:13:14.114Z"
   },
   {
    "duration": 0,
    "start_time": "2024-05-20T21:13:14.116Z"
   },
   {
    "duration": 0,
    "start_time": "2024-05-20T21:13:14.159Z"
   },
   {
    "duration": 0,
    "start_time": "2024-05-20T21:13:14.160Z"
   },
   {
    "duration": 0,
    "start_time": "2024-05-20T21:13:14.161Z"
   },
   {
    "duration": 0,
    "start_time": "2024-05-20T21:13:14.162Z"
   },
   {
    "duration": 0,
    "start_time": "2024-05-20T21:13:14.163Z"
   },
   {
    "duration": 14,
    "start_time": "2024-05-20T21:13:52.271Z"
   },
   {
    "duration": 10,
    "start_time": "2024-05-20T21:14:02.091Z"
   },
   {
    "duration": 13,
    "start_time": "2024-05-20T21:14:10.682Z"
   },
   {
    "duration": 15,
    "start_time": "2024-05-20T21:14:21.873Z"
   },
   {
    "duration": 6,
    "start_time": "2024-05-20T21:15:28.063Z"
   },
   {
    "duration": 6,
    "start_time": "2024-05-20T21:15:38.978Z"
   },
   {
    "duration": 9,
    "start_time": "2024-05-20T21:17:16.119Z"
   },
   {
    "duration": 5,
    "start_time": "2024-05-20T21:17:18.492Z"
   },
   {
    "duration": 4,
    "start_time": "2024-05-20T21:18:08.478Z"
   },
   {
    "duration": 4,
    "start_time": "2024-05-20T21:18:12.230Z"
   },
   {
    "duration": 429,
    "start_time": "2024-05-20T21:18:22.986Z"
   },
   {
    "duration": 179,
    "start_time": "2024-05-20T21:18:39.060Z"
   },
   {
    "duration": 171,
    "start_time": "2024-05-20T21:18:45.835Z"
   },
   {
    "duration": 179,
    "start_time": "2024-05-20T21:18:48.749Z"
   },
   {
    "duration": 450,
    "start_time": "2024-05-20T21:19:59.420Z"
   },
   {
    "duration": 2,
    "start_time": "2024-05-20T21:19:59.873Z"
   },
   {
    "duration": 279,
    "start_time": "2024-05-20T21:19:59.878Z"
   },
   {
    "duration": 29,
    "start_time": "2024-05-20T21:20:00.159Z"
   },
   {
    "duration": 50,
    "start_time": "2024-05-20T21:20:00.191Z"
   },
   {
    "duration": 33,
    "start_time": "2024-05-20T21:20:00.243Z"
   },
   {
    "duration": 76,
    "start_time": "2024-05-20T21:20:00.278Z"
   },
   {
    "duration": 389,
    "start_time": "2024-05-20T21:20:00.355Z"
   },
   {
    "duration": 107,
    "start_time": "2024-05-20T21:20:00.746Z"
   },
   {
    "duration": 50,
    "start_time": "2024-05-20T21:20:00.856Z"
   },
   {
    "duration": 50,
    "start_time": "2024-05-20T21:20:00.908Z"
   },
   {
    "duration": 29,
    "start_time": "2024-05-20T21:20:00.959Z"
   },
   {
    "duration": 82,
    "start_time": "2024-05-20T21:20:00.989Z"
   },
   {
    "duration": 29,
    "start_time": "2024-05-20T21:20:01.073Z"
   },
   {
    "duration": 34,
    "start_time": "2024-05-20T21:20:01.104Z"
   },
   {
    "duration": 64,
    "start_time": "2024-05-20T21:20:01.140Z"
   },
   {
    "duration": 68,
    "start_time": "2024-05-20T21:20:01.207Z"
   },
   {
    "duration": 70,
    "start_time": "2024-05-20T21:20:01.277Z"
   },
   {
    "duration": 74,
    "start_time": "2024-05-20T21:20:01.349Z"
   },
   {
    "duration": 28,
    "start_time": "2024-05-20T21:20:01.424Z"
   },
   {
    "duration": 46,
    "start_time": "2024-05-20T21:20:01.453Z"
   },
   {
    "duration": 94,
    "start_time": "2024-05-20T21:20:01.501Z"
   },
   {
    "duration": 55,
    "start_time": "2024-05-20T21:20:01.597Z"
   },
   {
    "duration": 25,
    "start_time": "2024-05-20T21:20:01.654Z"
   },
   {
    "duration": 336,
    "start_time": "2024-05-20T21:20:01.681Z"
   },
   {
    "duration": 207,
    "start_time": "2024-05-20T21:20:02.019Z"
   },
   {
    "duration": 255,
    "start_time": "2024-05-20T21:20:02.228Z"
   },
   {
    "duration": 8,
    "start_time": "2024-05-20T21:20:02.487Z"
   },
   {
    "duration": 280,
    "start_time": "2024-05-20T21:20:02.496Z"
   },
   {
    "duration": 9,
    "start_time": "2024-05-20T21:20:02.778Z"
   },
   {
    "duration": 158,
    "start_time": "2024-05-20T21:20:02.788Z"
   },
   {
    "duration": 15,
    "start_time": "2024-05-20T21:20:02.947Z"
   },
   {
    "duration": 17,
    "start_time": "2024-05-20T21:20:02.964Z"
   },
   {
    "duration": 120,
    "start_time": "2024-05-20T21:20:02.983Z"
   },
   {
    "duration": 44,
    "start_time": "2024-05-20T21:20:03.105Z"
   },
   {
    "duration": 42,
    "start_time": "2024-05-20T21:20:03.150Z"
   },
   {
    "duration": 47,
    "start_time": "2024-05-20T21:20:03.194Z"
   },
   {
    "duration": 33,
    "start_time": "2024-05-20T21:20:03.242Z"
   },
   {
    "duration": 20,
    "start_time": "2024-05-20T21:20:03.277Z"
   },
   {
    "duration": 100,
    "start_time": "2024-05-20T21:20:03.298Z"
   },
   {
    "duration": 30,
    "start_time": "2024-05-20T21:20:03.400Z"
   },
   {
    "duration": 50,
    "start_time": "2024-05-20T21:20:03.432Z"
   },
   {
    "duration": 121,
    "start_time": "2024-05-20T21:20:03.484Z"
   },
   {
    "duration": 12,
    "start_time": "2024-05-20T21:20:03.607Z"
   },
   {
    "duration": 66,
    "start_time": "2024-05-20T21:20:03.621Z"
   },
   {
    "duration": 114,
    "start_time": "2024-05-20T21:20:03.688Z"
   },
   {
    "duration": 198,
    "start_time": "2024-05-20T21:20:03.803Z"
   },
   {
    "duration": 10,
    "start_time": "2024-05-20T21:20:04.003Z"
   },
   {
    "duration": 469,
    "start_time": "2024-05-20T21:20:04.014Z"
   },
   {
    "duration": 7,
    "start_time": "2024-05-20T21:20:04.485Z"
   },
   {
    "duration": 6,
    "start_time": "2024-05-20T21:20:04.493Z"
   },
   {
    "duration": 15,
    "start_time": "2024-05-20T21:20:04.501Z"
   },
   {
    "duration": 4,
    "start_time": "2024-05-20T21:21:33.632Z"
   },
   {
    "duration": 14,
    "start_time": "2024-05-20T21:21:40.212Z"
   },
   {
    "duration": 7,
    "start_time": "2024-05-20T21:22:24.896Z"
   },
   {
    "duration": 7,
    "start_time": "2024-05-20T21:22:28.164Z"
   },
   {
    "duration": 4,
    "start_time": "2024-05-20T21:22:36.819Z"
   },
   {
    "duration": 4,
    "start_time": "2024-05-20T21:22:52.886Z"
   },
   {
    "duration": 4,
    "start_time": "2024-05-20T21:22:55.420Z"
   },
   {
    "duration": 144,
    "start_time": "2024-05-20T21:23:48.697Z"
   },
   {
    "duration": 322,
    "start_time": "2024-05-20T21:23:59.152Z"
   },
   {
    "duration": 179,
    "start_time": "2024-05-20T21:24:05.219Z"
   },
   {
    "duration": 214,
    "start_time": "2024-05-20T21:24:14.708Z"
   },
   {
    "duration": 269,
    "start_time": "2024-05-20T21:24:54.813Z"
   },
   {
    "duration": 171,
    "start_time": "2024-05-20T21:25:06.756Z"
   },
   {
    "duration": 196,
    "start_time": "2024-05-20T21:26:53.916Z"
   },
   {
    "duration": 148,
    "start_time": "2024-05-20T21:27:03.846Z"
   },
   {
    "duration": 6,
    "start_time": "2024-05-20T21:27:55.356Z"
   },
   {
    "duration": 6,
    "start_time": "2024-05-20T21:28:11.125Z"
   },
   {
    "duration": 8,
    "start_time": "2024-05-20T21:28:22.099Z"
   },
   {
    "duration": 6,
    "start_time": "2024-05-20T21:28:50.887Z"
   },
   {
    "duration": 5,
    "start_time": "2024-05-20T21:29:02.651Z"
   },
   {
    "duration": 7,
    "start_time": "2024-05-20T21:29:11.293Z"
   },
   {
    "duration": 471,
    "start_time": "2024-05-20T21:38:35.039Z"
   },
   {
    "duration": 3,
    "start_time": "2024-05-20T21:38:35.512Z"
   },
   {
    "duration": 291,
    "start_time": "2024-05-20T21:38:35.516Z"
   },
   {
    "duration": 28,
    "start_time": "2024-05-20T21:38:35.810Z"
   },
   {
    "duration": 38,
    "start_time": "2024-05-20T21:38:35.839Z"
   },
   {
    "duration": 17,
    "start_time": "2024-05-20T21:38:35.883Z"
   },
   {
    "duration": 23,
    "start_time": "2024-05-20T21:38:35.902Z"
   },
   {
    "duration": 40,
    "start_time": "2024-05-20T21:38:35.927Z"
   },
   {
    "duration": 21,
    "start_time": "2024-05-20T21:38:35.969Z"
   },
   {
    "duration": 11,
    "start_time": "2024-05-20T21:38:35.995Z"
   },
   {
    "duration": 27,
    "start_time": "2024-05-20T21:38:36.007Z"
   },
   {
    "duration": 28,
    "start_time": "2024-05-20T21:38:36.036Z"
   },
   {
    "duration": 36,
    "start_time": "2024-05-20T21:38:36.067Z"
   },
   {
    "duration": 24,
    "start_time": "2024-05-20T21:38:36.105Z"
   },
   {
    "duration": 16,
    "start_time": "2024-05-20T21:38:36.131Z"
   },
   {
    "duration": 28,
    "start_time": "2024-05-20T21:38:36.150Z"
   },
   {
    "duration": 20,
    "start_time": "2024-05-20T21:38:36.181Z"
   },
   {
    "duration": 15,
    "start_time": "2024-05-20T21:38:36.203Z"
   },
   {
    "duration": 6,
    "start_time": "2024-05-20T21:38:36.220Z"
   },
   {
    "duration": 8,
    "start_time": "2024-05-20T21:38:36.227Z"
   },
   {
    "duration": 28,
    "start_time": "2024-05-20T21:38:36.236Z"
   },
   {
    "duration": 18,
    "start_time": "2024-05-20T21:38:36.265Z"
   },
   {
    "duration": 9,
    "start_time": "2024-05-20T21:38:36.284Z"
   },
   {
    "duration": 4,
    "start_time": "2024-05-20T21:38:36.295Z"
   },
   {
    "duration": 17,
    "start_time": "2024-05-20T21:38:36.300Z"
   },
   {
    "duration": 181,
    "start_time": "2024-05-20T21:38:36.320Z"
   },
   {
    "duration": 5,
    "start_time": "2024-05-20T21:38:36.503Z"
   },
   {
    "duration": 5,
    "start_time": "2024-05-20T21:38:36.513Z"
   },
   {
    "duration": 164,
    "start_time": "2024-05-20T21:38:36.520Z"
   },
   {
    "duration": 258,
    "start_time": "2024-05-20T21:38:36.687Z"
   },
   {
    "duration": 29,
    "start_time": "2024-05-20T21:38:36.947Z"
   },
   {
    "duration": 201,
    "start_time": "2024-05-20T21:38:36.979Z"
   },
   {
    "duration": 10,
    "start_time": "2024-05-20T21:38:37.182Z"
   },
   {
    "duration": 161,
    "start_time": "2024-05-20T21:38:37.193Z"
   },
   {
    "duration": 16,
    "start_time": "2024-05-20T21:38:37.355Z"
   },
   {
    "duration": 54,
    "start_time": "2024-05-20T21:38:37.373Z"
   },
   {
    "duration": 11,
    "start_time": "2024-05-20T21:38:37.429Z"
   },
   {
    "duration": 42,
    "start_time": "2024-05-20T21:38:37.442Z"
   },
   {
    "duration": 13,
    "start_time": "2024-05-20T21:38:37.485Z"
   },
   {
    "duration": 13,
    "start_time": "2024-05-20T21:38:37.500Z"
   },
   {
    "duration": 20,
    "start_time": "2024-05-20T21:38:37.515Z"
   },
   {
    "duration": 20,
    "start_time": "2024-05-20T21:38:37.537Z"
   },
   {
    "duration": 21,
    "start_time": "2024-05-20T21:38:37.559Z"
   },
   {
    "duration": 9,
    "start_time": "2024-05-20T21:38:37.582Z"
   },
   {
    "duration": 68,
    "start_time": "2024-05-20T21:38:37.593Z"
   },
   {
    "duration": 39,
    "start_time": "2024-05-20T21:38:37.663Z"
   },
   {
    "duration": 3,
    "start_time": "2024-05-20T21:38:37.704Z"
   },
   {
    "duration": 14,
    "start_time": "2024-05-20T21:38:37.709Z"
   },
   {
    "duration": 5,
    "start_time": "2024-05-20T21:38:37.725Z"
   },
   {
    "duration": 179,
    "start_time": "2024-05-20T21:38:37.731Z"
   },
   {
    "duration": 13,
    "start_time": "2024-05-20T21:38:37.912Z"
   },
   {
    "duration": 467,
    "start_time": "2024-05-20T21:38:37.926Z"
   },
   {
    "duration": 7,
    "start_time": "2024-05-20T21:38:38.394Z"
   },
   {
    "duration": 6,
    "start_time": "2024-05-20T21:38:38.403Z"
   },
   {
    "duration": 9,
    "start_time": "2024-05-20T21:38:38.412Z"
   },
   {
    "duration": 131,
    "start_time": "2024-05-20T21:39:32.912Z"
   },
   {
    "duration": 6,
    "start_time": "2024-05-20T21:40:07.306Z"
   },
   {
    "duration": 188,
    "start_time": "2024-05-20T21:40:49.254Z"
   },
   {
    "duration": 106,
    "start_time": "2024-05-20T21:41:47.677Z"
   },
   {
    "duration": 159,
    "start_time": "2024-05-20T21:41:50.169Z"
   },
   {
    "duration": 51,
    "start_time": "2024-05-20T21:43:46.878Z"
   },
   {
    "duration": 8,
    "start_time": "2024-05-20T21:45:03.989Z"
   },
   {
    "duration": 11,
    "start_time": "2024-05-20T21:45:07.836Z"
   },
   {
    "duration": 13,
    "start_time": "2024-05-20T21:46:10.522Z"
   },
   {
    "duration": 90,
    "start_time": "2024-05-20T21:46:27.539Z"
   },
   {
    "duration": 405,
    "start_time": "2024-05-20T21:46:37.878Z"
   },
   {
    "duration": 2,
    "start_time": "2024-05-20T21:46:38.285Z"
   },
   {
    "duration": 295,
    "start_time": "2024-05-20T21:46:38.290Z"
   },
   {
    "duration": 28,
    "start_time": "2024-05-20T21:46:38.587Z"
   },
   {
    "duration": 29,
    "start_time": "2024-05-20T21:46:38.617Z"
   },
   {
    "duration": 27,
    "start_time": "2024-05-20T21:46:38.648Z"
   },
   {
    "duration": 30,
    "start_time": "2024-05-20T21:46:38.677Z"
   },
   {
    "duration": 22,
    "start_time": "2024-05-20T21:46:38.709Z"
   },
   {
    "duration": 123,
    "start_time": "2024-05-20T21:46:38.734Z"
   },
   {
    "duration": 18,
    "start_time": "2024-05-20T21:46:38.859Z"
   },
   {
    "duration": 12,
    "start_time": "2024-05-20T21:46:38.883Z"
   },
   {
    "duration": 6,
    "start_time": "2024-05-20T21:46:38.896Z"
   },
   {
    "duration": 12,
    "start_time": "2024-05-20T21:46:38.903Z"
   },
   {
    "duration": 20,
    "start_time": "2024-05-20T21:46:38.920Z"
   },
   {
    "duration": 24,
    "start_time": "2024-05-20T21:46:38.942Z"
   },
   {
    "duration": 20,
    "start_time": "2024-05-20T21:46:38.968Z"
   },
   {
    "duration": 9,
    "start_time": "2024-05-20T21:46:38.990Z"
   },
   {
    "duration": 25,
    "start_time": "2024-05-20T21:46:39.002Z"
   },
   {
    "duration": 6,
    "start_time": "2024-05-20T21:46:39.029Z"
   },
   {
    "duration": 39,
    "start_time": "2024-05-20T21:46:39.037Z"
   },
   {
    "duration": 10,
    "start_time": "2024-05-20T21:46:39.078Z"
   },
   {
    "duration": 7,
    "start_time": "2024-05-20T21:46:39.089Z"
   },
   {
    "duration": 7,
    "start_time": "2024-05-20T21:46:39.097Z"
   },
   {
    "duration": 4,
    "start_time": "2024-05-20T21:46:39.106Z"
   },
   {
    "duration": 20,
    "start_time": "2024-05-20T21:46:39.112Z"
   },
   {
    "duration": 260,
    "start_time": "2024-05-20T21:46:39.135Z"
   },
   {
    "duration": 5,
    "start_time": "2024-05-20T21:46:39.396Z"
   },
   {
    "duration": 37,
    "start_time": "2024-05-20T21:46:39.403Z"
   },
   {
    "duration": 26,
    "start_time": "2024-05-20T21:46:39.442Z"
   },
   {
    "duration": 139,
    "start_time": "2024-05-20T21:46:39.470Z"
   },
   {
    "duration": 10,
    "start_time": "2024-05-20T21:46:39.611Z"
   },
   {
    "duration": 262,
    "start_time": "2024-05-20T21:46:39.623Z"
   },
   {
    "duration": 11,
    "start_time": "2024-05-20T21:46:39.887Z"
   },
   {
    "duration": 338,
    "start_time": "2024-05-20T21:46:39.901Z"
   },
   {
    "duration": 34,
    "start_time": "2024-05-20T21:46:40.242Z"
   },
   {
    "duration": 150,
    "start_time": "2024-05-20T21:46:40.281Z"
   },
   {
    "duration": 11,
    "start_time": "2024-05-20T21:46:40.433Z"
   },
   {
    "duration": 79,
    "start_time": "2024-05-20T21:46:40.450Z"
   },
   {
    "duration": 12,
    "start_time": "2024-05-20T21:46:40.530Z"
   },
   {
    "duration": 12,
    "start_time": "2024-05-20T21:46:40.543Z"
   },
   {
    "duration": 17,
    "start_time": "2024-05-20T21:46:40.560Z"
   },
   {
    "duration": 13,
    "start_time": "2024-05-20T21:46:40.579Z"
   },
   {
    "duration": 10,
    "start_time": "2024-05-20T21:46:40.594Z"
   },
   {
    "duration": 8,
    "start_time": "2024-05-20T21:46:40.606Z"
   },
   {
    "duration": 13,
    "start_time": "2024-05-20T21:46:40.616Z"
   },
   {
    "duration": 31,
    "start_time": "2024-05-20T21:46:40.631Z"
   },
   {
    "duration": 39,
    "start_time": "2024-05-20T21:46:40.664Z"
   },
   {
    "duration": 35,
    "start_time": "2024-05-20T21:46:40.705Z"
   },
   {
    "duration": 3,
    "start_time": "2024-05-20T21:46:40.742Z"
   },
   {
    "duration": 21,
    "start_time": "2024-05-20T21:46:40.747Z"
   },
   {
    "duration": 7,
    "start_time": "2024-05-20T21:46:40.771Z"
   },
   {
    "duration": 148,
    "start_time": "2024-05-20T21:46:40.780Z"
   },
   {
    "duration": 11,
    "start_time": "2024-05-20T21:46:40.929Z"
   },
   {
    "duration": 462,
    "start_time": "2024-05-20T21:46:40.941Z"
   },
   {
    "duration": 5,
    "start_time": "2024-05-20T21:46:41.405Z"
   },
   {
    "duration": 35,
    "start_time": "2024-05-20T21:46:41.412Z"
   },
   {
    "duration": 13,
    "start_time": "2024-05-20T21:46:41.449Z"
   },
   {
    "duration": 19,
    "start_time": "2024-05-20T21:48:10.154Z"
   },
   {
    "duration": 9,
    "start_time": "2024-05-20T21:48:37.282Z"
   },
   {
    "duration": 10,
    "start_time": "2024-05-20T21:48:41.675Z"
   },
   {
    "duration": 7,
    "start_time": "2024-05-20T21:48:56.577Z"
   },
   {
    "duration": 116,
    "start_time": "2024-05-20T21:49:17.330Z"
   },
   {
    "duration": 11,
    "start_time": "2024-05-20T21:49:24.757Z"
   },
   {
    "duration": 13,
    "start_time": "2024-05-20T21:49:36.911Z"
   },
   {
    "duration": 10,
    "start_time": "2024-05-20T21:50:19.026Z"
   },
   {
    "duration": 10,
    "start_time": "2024-05-20T21:51:29.646Z"
   },
   {
    "duration": 9,
    "start_time": "2024-05-20T21:51:36.867Z"
   },
   {
    "duration": 17,
    "start_time": "2024-05-20T21:51:55.386Z"
   },
   {
    "duration": 9,
    "start_time": "2024-05-20T21:51:59.199Z"
   },
   {
    "duration": 9,
    "start_time": "2024-05-20T21:52:05.181Z"
   },
   {
    "duration": 7,
    "start_time": "2024-05-20T21:52:23.432Z"
   },
   {
    "duration": 9,
    "start_time": "2024-05-20T21:53:56.542Z"
   },
   {
    "duration": 7,
    "start_time": "2024-05-20T21:54:24.500Z"
   },
   {
    "duration": 185,
    "start_time": "2024-05-20T21:55:09.792Z"
   },
   {
    "duration": 168,
    "start_time": "2024-05-20T21:55:14.148Z"
   },
   {
    "duration": 200,
    "start_time": "2024-05-20T21:55:18.075Z"
   },
   {
    "duration": 397,
    "start_time": "2024-05-20T21:55:27.578Z"
   },
   {
    "duration": 290,
    "start_time": "2024-05-20T21:55:33.630Z"
   },
   {
    "duration": 29,
    "start_time": "2024-05-20T21:56:43.563Z"
   },
   {
    "duration": 464,
    "start_time": "2024-05-20T21:56:59.876Z"
   },
   {
    "duration": 3,
    "start_time": "2024-05-20T21:57:00.342Z"
   },
   {
    "duration": 383,
    "start_time": "2024-05-20T21:57:00.347Z"
   },
   {
    "duration": 42,
    "start_time": "2024-05-20T21:57:00.731Z"
   },
   {
    "duration": 231,
    "start_time": "2024-05-20T21:57:00.776Z"
   },
   {
    "duration": 16,
    "start_time": "2024-05-20T21:57:01.008Z"
   },
   {
    "duration": 52,
    "start_time": "2024-05-20T21:57:01.026Z"
   },
   {
    "duration": 45,
    "start_time": "2024-05-20T21:57:01.080Z"
   },
   {
    "duration": 49,
    "start_time": "2024-05-20T21:57:01.127Z"
   },
   {
    "duration": 107,
    "start_time": "2024-05-20T21:57:01.180Z"
   },
   {
    "duration": 21,
    "start_time": "2024-05-20T21:57:01.289Z"
   },
   {
    "duration": 29,
    "start_time": "2024-05-20T21:57:01.312Z"
   },
   {
    "duration": 42,
    "start_time": "2024-05-20T21:57:01.343Z"
   },
   {
    "duration": 98,
    "start_time": "2024-05-20T21:57:01.388Z"
   },
   {
    "duration": 29,
    "start_time": "2024-05-20T21:57:01.488Z"
   },
   {
    "duration": 14,
    "start_time": "2024-05-20T21:57:01.520Z"
   },
   {
    "duration": 14,
    "start_time": "2024-05-20T21:57:01.535Z"
   },
   {
    "duration": 38,
    "start_time": "2024-05-20T21:57:01.551Z"
   },
   {
    "duration": 11,
    "start_time": "2024-05-20T21:57:01.591Z"
   },
   {
    "duration": 31,
    "start_time": "2024-05-20T21:57:01.603Z"
   },
   {
    "duration": 69,
    "start_time": "2024-05-20T21:57:01.636Z"
   },
   {
    "duration": 36,
    "start_time": "2024-05-20T21:57:01.710Z"
   },
   {
    "duration": 23,
    "start_time": "2024-05-20T21:57:01.747Z"
   },
   {
    "duration": 62,
    "start_time": "2024-05-20T21:57:01.772Z"
   },
   {
    "duration": 58,
    "start_time": "2024-05-20T21:57:01.837Z"
   },
   {
    "duration": 240,
    "start_time": "2024-05-20T21:57:01.896Z"
   },
   {
    "duration": 7,
    "start_time": "2024-05-20T21:57:02.138Z"
   },
   {
    "duration": 50,
    "start_time": "2024-05-20T21:57:02.147Z"
   },
   {
    "duration": 8,
    "start_time": "2024-05-20T21:57:02.199Z"
   },
   {
    "duration": 142,
    "start_time": "2024-05-20T21:57:02.209Z"
   },
   {
    "duration": 23,
    "start_time": "2024-05-20T21:57:02.353Z"
   },
   {
    "duration": 9,
    "start_time": "2024-05-20T21:57:02.382Z"
   },
   {
    "duration": 222,
    "start_time": "2024-05-20T21:57:02.393Z"
   },
   {
    "duration": 8,
    "start_time": "2024-05-20T21:57:02.616Z"
   },
   {
    "duration": 331,
    "start_time": "2024-05-20T21:57:02.626Z"
   },
   {
    "duration": 21,
    "start_time": "2024-05-20T21:57:02.959Z"
   },
   {
    "duration": 163,
    "start_time": "2024-05-20T21:57:02.982Z"
   },
   {
    "duration": 28,
    "start_time": "2024-05-20T21:57:03.147Z"
   },
   {
    "duration": 49,
    "start_time": "2024-05-20T21:57:03.183Z"
   },
   {
    "duration": 42,
    "start_time": "2024-05-20T21:57:03.234Z"
   },
   {
    "duration": 14,
    "start_time": "2024-05-20T21:57:03.281Z"
   },
   {
    "duration": 14,
    "start_time": "2024-05-20T21:57:03.297Z"
   },
   {
    "duration": 13,
    "start_time": "2024-05-20T21:57:03.314Z"
   },
   {
    "duration": 44,
    "start_time": "2024-05-20T21:57:03.329Z"
   },
   {
    "duration": 19,
    "start_time": "2024-05-20T21:57:03.375Z"
   },
   {
    "duration": 93,
    "start_time": "2024-05-20T21:57:03.396Z"
   },
   {
    "duration": 19,
    "start_time": "2024-05-20T21:57:03.497Z"
   },
   {
    "duration": 7,
    "start_time": "2024-05-20T21:57:03.518Z"
   },
   {
    "duration": 19,
    "start_time": "2024-05-20T21:57:03.527Z"
   },
   {
    "duration": 38,
    "start_time": "2024-05-20T21:57:03.548Z"
   },
   {
    "duration": 9,
    "start_time": "2024-05-20T21:57:03.591Z"
   },
   {
    "duration": 12,
    "start_time": "2024-05-20T21:57:03.602Z"
   },
   {
    "duration": 5,
    "start_time": "2024-05-20T21:57:03.615Z"
   },
   {
    "duration": 175,
    "start_time": "2024-05-20T21:57:03.622Z"
   },
   {
    "duration": 11,
    "start_time": "2024-05-20T21:57:03.802Z"
   },
   {
    "duration": 497,
    "start_time": "2024-05-20T21:57:03.815Z"
   },
   {
    "duration": 6,
    "start_time": "2024-05-20T21:57:04.313Z"
   },
   {
    "duration": 7,
    "start_time": "2024-05-20T21:57:04.321Z"
   },
   {
    "duration": 32,
    "start_time": "2024-05-20T21:57:04.330Z"
   },
   {
    "duration": 262,
    "start_time": "2024-05-20T22:01:04.249Z"
   },
   {
    "duration": 366,
    "start_time": "2024-05-20T22:01:09.242Z"
   },
   {
    "duration": 250,
    "start_time": "2024-05-20T22:01:20.001Z"
   },
   {
    "duration": 212,
    "start_time": "2024-05-20T22:01:28.864Z"
   },
   {
    "duration": 180,
    "start_time": "2024-05-20T22:01:31.467Z"
   },
   {
    "duration": 169,
    "start_time": "2024-05-20T22:01:36.671Z"
   },
   {
    "duration": 207,
    "start_time": "2024-05-20T22:01:41.983Z"
   },
   {
    "duration": 189,
    "start_time": "2024-05-20T22:01:48.547Z"
   },
   {
    "duration": 179,
    "start_time": "2024-05-20T22:01:52.284Z"
   },
   {
    "duration": 272,
    "start_time": "2024-05-20T22:01:54.910Z"
   },
   {
    "duration": 194,
    "start_time": "2024-05-20T22:02:00.239Z"
   },
   {
    "duration": 240,
    "start_time": "2024-05-20T22:02:17.778Z"
   },
   {
    "duration": 10,
    "start_time": "2024-05-20T22:02:40.343Z"
   },
   {
    "duration": 9,
    "start_time": "2024-05-20T22:02:55.413Z"
   },
   {
    "duration": 234,
    "start_time": "2024-05-20T22:03:15.120Z"
   },
   {
    "duration": 238,
    "start_time": "2024-05-20T22:03:53.107Z"
   },
   {
    "duration": 176,
    "start_time": "2024-05-20T22:03:58.565Z"
   },
   {
    "duration": 65,
    "start_time": "2024-05-20T22:04:04.486Z"
   },
   {
    "duration": 242,
    "start_time": "2024-05-20T22:04:08.665Z"
   },
   {
    "duration": 11,
    "start_time": "2024-05-20T22:04:35.663Z"
   },
   {
    "duration": 373,
    "start_time": "2024-05-20T22:04:38.799Z"
   },
   {
    "duration": 271,
    "start_time": "2024-05-20T22:04:43.839Z"
   },
   {
    "duration": 285,
    "start_time": "2024-05-20T22:04:56.902Z"
   },
   {
    "duration": 155,
    "start_time": "2024-05-20T22:04:59.533Z"
   },
   {
    "duration": 165,
    "start_time": "2024-05-20T22:05:01.784Z"
   },
   {
    "duration": 202,
    "start_time": "2024-05-20T22:05:04.010Z"
   },
   {
    "duration": 188,
    "start_time": "2024-05-20T22:05:06.993Z"
   },
   {
    "duration": 177,
    "start_time": "2024-05-20T22:05:09.119Z"
   },
   {
    "duration": 314,
    "start_time": "2024-05-20T22:05:12.520Z"
   },
   {
    "duration": 183,
    "start_time": "2024-05-20T22:05:14.694Z"
   },
   {
    "duration": 9,
    "start_time": "2024-05-20T22:05:26.894Z"
   },
   {
    "duration": 185,
    "start_time": "2024-05-20T22:13:40.191Z"
   },
   {
    "duration": 168,
    "start_time": "2024-05-20T22:13:44.020Z"
   },
   {
    "duration": 182,
    "start_time": "2024-05-20T22:13:46.204Z"
   },
   {
    "duration": 88,
    "start_time": "2024-05-20T22:15:12.633Z"
   },
   {
    "duration": 6,
    "start_time": "2024-05-20T22:22:22.837Z"
   },
   {
    "duration": 8,
    "start_time": "2024-05-20T22:22:36.755Z"
   },
   {
    "duration": 6,
    "start_time": "2024-05-20T22:22:42.446Z"
   },
   {
    "duration": 9,
    "start_time": "2024-05-20T22:27:32.575Z"
   },
   {
    "duration": 418,
    "start_time": "2024-05-20T22:48:24.087Z"
   },
   {
    "duration": 2,
    "start_time": "2024-05-20T22:48:24.507Z"
   },
   {
    "duration": 299,
    "start_time": "2024-05-20T22:48:24.510Z"
   },
   {
    "duration": 28,
    "start_time": "2024-05-20T22:48:24.811Z"
   },
   {
    "duration": 40,
    "start_time": "2024-05-20T22:48:24.841Z"
   },
   {
    "duration": 15,
    "start_time": "2024-05-20T22:48:24.886Z"
   },
   {
    "duration": 36,
    "start_time": "2024-05-20T22:48:24.903Z"
   },
   {
    "duration": 25,
    "start_time": "2024-05-20T22:48:24.941Z"
   },
   {
    "duration": 24,
    "start_time": "2024-05-20T22:48:24.975Z"
   },
   {
    "duration": 13,
    "start_time": "2024-05-20T22:48:25.001Z"
   },
   {
    "duration": 26,
    "start_time": "2024-05-20T22:48:25.015Z"
   },
   {
    "duration": 5,
    "start_time": "2024-05-20T22:48:25.042Z"
   },
   {
    "duration": 18,
    "start_time": "2024-05-20T22:48:25.048Z"
   },
   {
    "duration": 35,
    "start_time": "2024-05-20T22:48:25.070Z"
   },
   {
    "duration": 26,
    "start_time": "2024-05-20T22:48:25.107Z"
   },
   {
    "duration": 6,
    "start_time": "2024-05-20T22:48:25.135Z"
   },
   {
    "duration": 8,
    "start_time": "2024-05-20T22:48:25.142Z"
   },
   {
    "duration": 34,
    "start_time": "2024-05-20T22:48:25.152Z"
   },
   {
    "duration": 8,
    "start_time": "2024-05-20T22:48:25.188Z"
   },
   {
    "duration": 6,
    "start_time": "2024-05-20T22:48:25.198Z"
   },
   {
    "duration": 8,
    "start_time": "2024-05-20T22:48:25.205Z"
   },
   {
    "duration": 4,
    "start_time": "2024-05-20T22:48:25.215Z"
   },
   {
    "duration": 12,
    "start_time": "2024-05-20T22:48:25.221Z"
   },
   {
    "duration": 8,
    "start_time": "2024-05-20T22:48:25.234Z"
   },
   {
    "duration": 27,
    "start_time": "2024-05-20T22:48:25.243Z"
   },
   {
    "duration": 172,
    "start_time": "2024-05-20T22:48:25.279Z"
   },
   {
    "duration": 9,
    "start_time": "2024-05-20T22:48:25.453Z"
   },
   {
    "duration": 16,
    "start_time": "2024-05-20T22:48:25.467Z"
   },
   {
    "duration": 15,
    "start_time": "2024-05-20T22:48:25.495Z"
   },
   {
    "duration": 132,
    "start_time": "2024-05-20T22:48:25.516Z"
   },
   {
    "duration": 18,
    "start_time": "2024-05-20T22:48:25.650Z"
   },
   {
    "duration": 19,
    "start_time": "2024-05-20T22:48:25.671Z"
   },
   {
    "duration": 214,
    "start_time": "2024-05-20T22:48:25.691Z"
   },
   {
    "duration": 8,
    "start_time": "2024-05-20T22:48:25.907Z"
   },
   {
    "duration": 320,
    "start_time": "2024-05-20T22:48:25.916Z"
   },
   {
    "duration": 9,
    "start_time": "2024-05-20T22:48:26.237Z"
   },
   {
    "duration": 156,
    "start_time": "2024-05-20T22:48:26.247Z"
   },
   {
    "duration": 8,
    "start_time": "2024-05-20T22:48:26.405Z"
   },
   {
    "duration": 23,
    "start_time": "2024-05-20T22:48:26.414Z"
   },
   {
    "duration": 25,
    "start_time": "2024-05-20T22:48:26.439Z"
   },
   {
    "duration": 19,
    "start_time": "2024-05-20T22:48:26.473Z"
   },
   {
    "duration": 11,
    "start_time": "2024-05-20T22:48:26.495Z"
   },
   {
    "duration": 19,
    "start_time": "2024-05-20T22:48:26.508Z"
   },
   {
    "duration": 9,
    "start_time": "2024-05-20T22:48:26.529Z"
   },
   {
    "duration": 39,
    "start_time": "2024-05-20T22:48:26.539Z"
   },
   {
    "duration": 14,
    "start_time": "2024-05-20T22:48:26.579Z"
   },
   {
    "duration": 13,
    "start_time": "2024-05-20T22:48:26.597Z"
   },
   {
    "duration": 287,
    "start_time": "2024-05-20T22:48:26.612Z"
   },
   {
    "duration": 9,
    "start_time": "2024-05-20T22:48:26.901Z"
   },
   {
    "duration": 196,
    "start_time": "2024-05-20T22:48:26.912Z"
   },
   {
    "duration": 8,
    "start_time": "2024-05-20T22:48:27.109Z"
   },
   {
    "duration": 4,
    "start_time": "2024-05-20T22:48:27.119Z"
   },
   {
    "duration": 12,
    "start_time": "2024-05-20T22:48:27.125Z"
   },
   {
    "duration": 302,
    "start_time": "2024-05-20T22:48:27.164Z"
   },
   {
    "duration": 11,
    "start_time": "2024-05-20T22:48:27.468Z"
   },
   {
    "duration": 221,
    "start_time": "2024-05-20T22:48:27.480Z"
   },
   {
    "duration": 8,
    "start_time": "2024-05-20T22:48:27.702Z"
   },
   {
    "duration": 29,
    "start_time": "2024-05-20T22:48:27.712Z"
   },
   {
    "duration": 2,
    "start_time": "2024-05-20T22:48:27.743Z"
   },
   {
    "duration": 42,
    "start_time": "2024-05-20T22:48:27.747Z"
   },
   {
    "duration": 16,
    "start_time": "2024-05-20T22:48:27.791Z"
   },
   {
    "duration": 242,
    "start_time": "2024-05-20T22:48:27.809Z"
   },
   {
    "duration": 12,
    "start_time": "2024-05-20T22:48:28.053Z"
   },
   {
    "duration": 535,
    "start_time": "2024-05-20T22:48:28.067Z"
   },
   {
    "duration": 6,
    "start_time": "2024-05-20T22:48:28.604Z"
   },
   {
    "duration": 5,
    "start_time": "2024-05-20T22:48:28.611Z"
   },
   {
    "duration": 10,
    "start_time": "2024-05-20T22:48:28.617Z"
   },
   {
    "duration": 404,
    "start_time": "2024-05-21T11:18:24.514Z"
   },
   {
    "duration": 3,
    "start_time": "2024-05-21T11:18:24.920Z"
   },
   {
    "duration": 267,
    "start_time": "2024-05-21T11:18:24.924Z"
   },
   {
    "duration": 27,
    "start_time": "2024-05-21T11:18:25.193Z"
   },
   {
    "duration": 28,
    "start_time": "2024-05-21T11:18:25.222Z"
   },
   {
    "duration": 14,
    "start_time": "2024-05-21T11:18:25.252Z"
   },
   {
    "duration": 21,
    "start_time": "2024-05-21T11:18:25.268Z"
   },
   {
    "duration": 18,
    "start_time": "2024-05-21T11:18:25.291Z"
   },
   {
    "duration": 35,
    "start_time": "2024-05-21T11:18:25.311Z"
   },
   {
    "duration": 81,
    "start_time": "2024-05-21T11:18:25.582Z"
   },
   {
    "duration": 6,
    "start_time": "2024-05-21T11:18:25.680Z"
   },
   {
    "duration": 16,
    "start_time": "2024-05-21T11:18:25.687Z"
   },
   {
    "duration": 31,
    "start_time": "2024-05-21T11:18:25.704Z"
   },
   {
    "duration": 10,
    "start_time": "2024-05-21T11:18:25.737Z"
   },
   {
    "duration": 165,
    "start_time": "2024-05-21T11:18:25.748Z"
   },
   {
    "duration": 4,
    "start_time": "2024-05-21T11:18:25.915Z"
   },
   {
    "duration": 14,
    "start_time": "2024-05-21T11:18:25.923Z"
   },
   {
    "duration": 15,
    "start_time": "2024-05-21T11:18:25.938Z"
   },
   {
    "duration": 133,
    "start_time": "2024-05-21T11:18:25.954Z"
   },
   {
    "duration": 9,
    "start_time": "2024-05-21T11:18:26.088Z"
   },
   {
    "duration": 18,
    "start_time": "2024-05-21T11:18:26.098Z"
   },
   {
    "duration": 216,
    "start_time": "2024-05-21T11:18:26.117Z"
   },
   {
    "duration": 8,
    "start_time": "2024-05-21T11:18:26.334Z"
   },
   {
    "duration": 286,
    "start_time": "2024-05-21T11:18:26.343Z"
   },
   {
    "duration": 9,
    "start_time": "2024-05-21T11:18:26.630Z"
   },
   {
    "duration": 242,
    "start_time": "2024-05-21T11:18:26.640Z"
   },
   {
    "duration": 9,
    "start_time": "2024-05-21T11:18:26.883Z"
   },
   {
    "duration": 10,
    "start_time": "2024-05-21T11:18:26.894Z"
   },
   {
    "duration": 26,
    "start_time": "2024-05-21T11:18:26.906Z"
   },
   {
    "duration": 12,
    "start_time": "2024-05-21T11:18:26.934Z"
   },
   {
    "duration": 22,
    "start_time": "2024-05-21T11:18:26.948Z"
   },
   {
    "duration": 13,
    "start_time": "2024-05-21T11:18:26.971Z"
   },
   {
    "duration": 12,
    "start_time": "2024-05-21T11:18:26.985Z"
   },
   {
    "duration": 17,
    "start_time": "2024-05-21T11:18:26.998Z"
   },
   {
    "duration": 9,
    "start_time": "2024-05-21T11:18:27.017Z"
   },
   {
    "duration": 43,
    "start_time": "2024-05-21T11:18:27.028Z"
   },
   {
    "duration": 256,
    "start_time": "2024-05-21T11:18:27.072Z"
   },
   {
    "duration": 8,
    "start_time": "2024-05-21T11:18:27.330Z"
   },
   {
    "duration": 196,
    "start_time": "2024-05-21T11:18:27.340Z"
   },
   {
    "duration": 9,
    "start_time": "2024-05-21T11:18:27.538Z"
   },
   {
    "duration": 21,
    "start_time": "2024-05-21T11:18:27.549Z"
   },
   {
    "duration": 12,
    "start_time": "2024-05-21T11:18:27.572Z"
   },
   {
    "duration": 321,
    "start_time": "2024-05-21T11:18:27.585Z"
   },
   {
    "duration": 8,
    "start_time": "2024-05-21T11:18:27.908Z"
   },
   {
    "duration": 181,
    "start_time": "2024-05-21T11:18:27.917Z"
   },
   {
    "duration": 8,
    "start_time": "2024-05-21T11:18:28.100Z"
   },
   {
    "duration": 46,
    "start_time": "2024-05-21T11:18:28.110Z"
   },
   {
    "duration": 4,
    "start_time": "2024-05-21T11:18:28.158Z"
   },
   {
    "duration": 26,
    "start_time": "2024-05-21T11:18:28.163Z"
   },
   {
    "duration": 22,
    "start_time": "2024-05-21T11:18:28.191Z"
   },
   {
    "duration": 147,
    "start_time": "2024-05-21T11:18:28.215Z"
   },
   {
    "duration": 14,
    "start_time": "2024-05-21T11:18:28.364Z"
   },
   {
    "duration": 480,
    "start_time": "2024-05-21T11:18:28.380Z"
   },
   {
    "duration": 6,
    "start_time": "2024-05-21T11:18:28.861Z"
   },
   {
    "duration": 5,
    "start_time": "2024-05-21T11:18:28.870Z"
   },
   {
    "duration": 11,
    "start_time": "2024-05-21T11:18:28.876Z"
   },
   {
    "duration": 448,
    "start_time": "2024-05-21T11:19:26.562Z"
   },
   {
    "duration": 2,
    "start_time": "2024-05-21T11:19:27.012Z"
   },
   {
    "duration": 251,
    "start_time": "2024-05-21T11:19:27.016Z"
   },
   {
    "duration": 28,
    "start_time": "2024-05-21T11:19:27.269Z"
   },
   {
    "duration": 29,
    "start_time": "2024-05-21T11:19:27.299Z"
   },
   {
    "duration": 15,
    "start_time": "2024-05-21T11:19:27.330Z"
   },
   {
    "duration": 25,
    "start_time": "2024-05-21T11:19:27.347Z"
   },
   {
    "duration": 20,
    "start_time": "2024-05-21T11:19:27.374Z"
   },
   {
    "duration": 16,
    "start_time": "2024-05-21T11:19:27.396Z"
   },
   {
    "duration": 10,
    "start_time": "2024-05-21T11:19:27.415Z"
   },
   {
    "duration": 44,
    "start_time": "2024-05-21T11:19:27.427Z"
   },
   {
    "duration": 5,
    "start_time": "2024-05-21T11:19:27.472Z"
   },
   {
    "duration": 58,
    "start_time": "2024-05-21T11:19:27.479Z"
   },
   {
    "duration": 9,
    "start_time": "2024-05-21T11:19:27.539Z"
   },
   {
    "duration": 13,
    "start_time": "2024-05-21T11:19:27.549Z"
   },
   {
    "duration": 7,
    "start_time": "2024-05-21T11:19:27.564Z"
   },
   {
    "duration": 6,
    "start_time": "2024-05-21T11:19:27.573Z"
   },
   {
    "duration": 15,
    "start_time": "2024-05-21T11:19:27.581Z"
   },
   {
    "duration": 71,
    "start_time": "2024-05-21T11:19:27.598Z"
   },
   {
    "duration": 9,
    "start_time": "2024-05-21T11:19:27.671Z"
   },
   {
    "duration": 9,
    "start_time": "2024-05-21T11:19:27.682Z"
   },
   {
    "duration": 6,
    "start_time": "2024-05-21T11:19:27.693Z"
   },
   {
    "duration": 6,
    "start_time": "2024-05-21T11:19:27.700Z"
   },
   {
    "duration": 5,
    "start_time": "2024-05-21T11:19:27.708Z"
   },
   {
    "duration": 8,
    "start_time": "2024-05-21T11:19:27.714Z"
   },
   {
    "duration": 198,
    "start_time": "2024-05-21T11:19:27.724Z"
   },
   {
    "duration": 5,
    "start_time": "2024-05-21T11:19:27.924Z"
   },
   {
    "duration": 5,
    "start_time": "2024-05-21T11:19:27.934Z"
   },
   {
    "duration": 29,
    "start_time": "2024-05-21T11:19:27.941Z"
   },
   {
    "duration": 152,
    "start_time": "2024-05-21T11:19:27.972Z"
   },
   {
    "duration": 10,
    "start_time": "2024-05-21T11:19:28.127Z"
   },
   {
    "duration": 8,
    "start_time": "2024-05-21T11:19:28.139Z"
   },
   {
    "duration": 226,
    "start_time": "2024-05-21T11:19:28.148Z"
   },
   {
    "duration": 8,
    "start_time": "2024-05-21T11:19:28.376Z"
   },
   {
    "duration": 295,
    "start_time": "2024-05-21T11:19:28.385Z"
   },
   {
    "duration": 10,
    "start_time": "2024-05-21T11:19:28.681Z"
   },
   {
    "duration": 210,
    "start_time": "2024-05-21T11:19:28.693Z"
   },
   {
    "duration": 10,
    "start_time": "2024-05-21T11:19:28.905Z"
   },
   {
    "duration": 14,
    "start_time": "2024-05-21T11:19:28.916Z"
   },
   {
    "duration": 13,
    "start_time": "2024-05-21T11:19:28.931Z"
   },
   {
    "duration": 31,
    "start_time": "2024-05-21T11:19:28.946Z"
   },
   {
    "duration": 10,
    "start_time": "2024-05-21T11:19:28.980Z"
   },
   {
    "duration": 12,
    "start_time": "2024-05-21T11:19:28.992Z"
   },
   {
    "duration": 9,
    "start_time": "2024-05-21T11:19:29.006Z"
   },
   {
    "duration": 13,
    "start_time": "2024-05-21T11:19:29.017Z"
   },
   {
    "duration": 43,
    "start_time": "2024-05-21T11:19:29.031Z"
   },
   {
    "duration": 12,
    "start_time": "2024-05-21T11:19:29.076Z"
   },
   {
    "duration": 252,
    "start_time": "2024-05-21T11:19:29.090Z"
   },
   {
    "duration": 10,
    "start_time": "2024-05-21T11:19:29.344Z"
   },
   {
    "duration": 195,
    "start_time": "2024-05-21T11:19:29.356Z"
   },
   {
    "duration": 8,
    "start_time": "2024-05-21T11:19:29.553Z"
   },
   {
    "duration": 28,
    "start_time": "2024-05-21T11:19:29.563Z"
   },
   {
    "duration": 73,
    "start_time": "2024-05-21T11:19:29.593Z"
   },
   {
    "duration": 284,
    "start_time": "2024-05-21T11:19:29.668Z"
   },
   {
    "duration": 19,
    "start_time": "2024-05-21T11:19:29.953Z"
   },
   {
    "duration": 180,
    "start_time": "2024-05-21T11:19:29.974Z"
   },
   {
    "duration": 19,
    "start_time": "2024-05-21T11:19:30.155Z"
   },
   {
    "duration": 49,
    "start_time": "2024-05-21T11:19:30.176Z"
   },
   {
    "duration": 21,
    "start_time": "2024-05-21T11:19:30.227Z"
   },
   {
    "duration": 93,
    "start_time": "2024-05-21T11:19:30.250Z"
   },
   {
    "duration": 65,
    "start_time": "2024-05-21T11:19:30.344Z"
   },
   {
    "duration": 230,
    "start_time": "2024-05-21T11:19:30.411Z"
   },
   {
    "duration": 111,
    "start_time": "2024-05-21T11:19:30.642Z"
   },
   {
    "duration": 914,
    "start_time": "2024-05-21T11:19:30.755Z"
   },
   {
    "duration": 6,
    "start_time": "2024-05-21T11:19:31.671Z"
   },
   {
    "duration": 492,
    "start_time": "2024-05-21T11:19:31.678Z"
   },
   {
    "duration": 36,
    "start_time": "2024-05-21T11:19:32.172Z"
   },
   {
    "duration": 52,
    "start_time": "2024-05-21T18:14:35.208Z"
   },
   {
    "duration": 458,
    "start_time": "2024-05-21T18:14:45.559Z"
   },
   {
    "duration": 2,
    "start_time": "2024-05-21T18:14:46.019Z"
   },
   {
    "duration": 423,
    "start_time": "2024-05-21T18:14:46.023Z"
   },
   {
    "duration": 100,
    "start_time": "2024-05-21T18:14:46.449Z"
   },
   {
    "duration": 158,
    "start_time": "2024-05-21T18:14:46.551Z"
   },
   {
    "duration": 65,
    "start_time": "2024-05-21T18:14:46.710Z"
   },
   {
    "duration": 24,
    "start_time": "2024-05-21T18:14:46.777Z"
   },
   {
    "duration": 30,
    "start_time": "2024-05-21T18:14:46.803Z"
   },
   {
    "duration": 24,
    "start_time": "2024-05-21T18:14:46.835Z"
   },
   {
    "duration": 68,
    "start_time": "2024-05-21T18:14:46.862Z"
   },
   {
    "duration": 31,
    "start_time": "2024-05-21T18:14:46.931Z"
   },
   {
    "duration": 68,
    "start_time": "2024-05-21T18:14:46.964Z"
   },
   {
    "duration": 24,
    "start_time": "2024-05-21T18:14:47.034Z"
   },
   {
    "duration": 18,
    "start_time": "2024-05-21T18:14:47.060Z"
   },
   {
    "duration": 43,
    "start_time": "2024-05-21T18:14:47.080Z"
   },
   {
    "duration": 81,
    "start_time": "2024-05-21T18:14:47.125Z"
   },
   {
    "duration": 30,
    "start_time": "2024-05-21T18:14:47.208Z"
   },
   {
    "duration": 39,
    "start_time": "2024-05-21T18:14:47.240Z"
   },
   {
    "duration": 24,
    "start_time": "2024-05-21T18:14:47.281Z"
   },
   {
    "duration": 46,
    "start_time": "2024-05-21T18:14:47.307Z"
   },
   {
    "duration": 43,
    "start_time": "2024-05-21T18:14:47.355Z"
   },
   {
    "duration": 30,
    "start_time": "2024-05-21T18:14:47.400Z"
   },
   {
    "duration": 13,
    "start_time": "2024-05-21T18:14:47.432Z"
   },
   {
    "duration": 24,
    "start_time": "2024-05-21T18:14:47.447Z"
   },
   {
    "duration": 30,
    "start_time": "2024-05-21T18:14:47.473Z"
   },
   {
    "duration": 187,
    "start_time": "2024-05-21T18:14:47.504Z"
   },
   {
    "duration": 5,
    "start_time": "2024-05-21T18:14:47.695Z"
   },
   {
    "duration": 32,
    "start_time": "2024-05-21T18:14:47.707Z"
   },
   {
    "duration": 16,
    "start_time": "2024-05-21T18:14:47.740Z"
   },
   {
    "duration": 212,
    "start_time": "2024-05-21T18:14:47.758Z"
   },
   {
    "duration": 10,
    "start_time": "2024-05-21T18:14:47.972Z"
   },
   {
    "duration": 12,
    "start_time": "2024-05-21T18:14:47.984Z"
   },
   {
    "duration": 237,
    "start_time": "2024-05-21T18:14:47.998Z"
   },
   {
    "duration": 8,
    "start_time": "2024-05-21T18:14:48.237Z"
   },
   {
    "duration": 318,
    "start_time": "2024-05-21T18:14:48.247Z"
   },
   {
    "duration": 10,
    "start_time": "2024-05-21T18:14:48.567Z"
   },
   {
    "duration": 149,
    "start_time": "2024-05-21T18:14:48.579Z"
   },
   {
    "duration": 10,
    "start_time": "2024-05-21T18:14:48.729Z"
   },
   {
    "duration": 16,
    "start_time": "2024-05-21T18:14:48.741Z"
   },
   {
    "duration": 16,
    "start_time": "2024-05-21T18:14:48.759Z"
   },
   {
    "duration": 22,
    "start_time": "2024-05-21T18:14:48.776Z"
   },
   {
    "duration": 13,
    "start_time": "2024-05-21T18:14:48.800Z"
   },
   {
    "duration": 14,
    "start_time": "2024-05-21T18:14:48.815Z"
   },
   {
    "duration": 20,
    "start_time": "2024-05-21T18:14:48.830Z"
   },
   {
    "duration": 75,
    "start_time": "2024-05-21T18:14:48.852Z"
   },
   {
    "duration": 26,
    "start_time": "2024-05-21T18:14:48.929Z"
   },
   {
    "duration": 76,
    "start_time": "2024-05-21T18:14:48.957Z"
   },
   {
    "duration": 316,
    "start_time": "2024-05-21T18:14:49.035Z"
   },
   {
    "duration": 8,
    "start_time": "2024-05-21T18:14:49.352Z"
   },
   {
    "duration": 221,
    "start_time": "2024-05-21T18:14:49.363Z"
   },
   {
    "duration": 8,
    "start_time": "2024-05-21T18:14:49.586Z"
   },
   {
    "duration": 237,
    "start_time": "2024-05-21T18:14:49.596Z"
   },
   {
    "duration": 23,
    "start_time": "2024-05-21T18:14:49.834Z"
   },
   {
    "duration": 291,
    "start_time": "2024-05-21T18:14:49.859Z"
   },
   {
    "duration": 11,
    "start_time": "2024-05-21T18:14:50.152Z"
   },
   {
    "duration": 207,
    "start_time": "2024-05-21T18:14:50.165Z"
   },
   {
    "duration": 9,
    "start_time": "2024-05-21T18:14:50.373Z"
   },
   {
    "duration": 147,
    "start_time": "2024-05-21T18:14:50.391Z"
   },
   {
    "duration": 80,
    "start_time": "2024-05-21T18:14:50.539Z"
   },
   {
    "duration": 28,
    "start_time": "2024-05-21T18:14:50.621Z"
   },
   {
    "duration": 10,
    "start_time": "2024-05-21T18:14:50.650Z"
   },
   {
    "duration": 149,
    "start_time": "2024-05-21T18:14:50.661Z"
   },
   {
    "duration": 10,
    "start_time": "2024-05-21T18:14:50.812Z"
   },
   {
    "duration": 488,
    "start_time": "2024-05-21T18:14:50.824Z"
   },
   {
    "duration": 6,
    "start_time": "2024-05-21T18:14:51.313Z"
   },
   {
    "duration": 26,
    "start_time": "2024-05-21T18:14:51.320Z"
   },
   {
    "duration": 43,
    "start_time": "2024-05-21T18:14:51.347Z"
   },
   {
    "duration": 6,
    "start_time": "2024-05-21T18:17:53.505Z"
   },
   {
    "duration": 54,
    "start_time": "2024-05-21T18:18:32.746Z"
   },
   {
    "duration": 445,
    "start_time": "2024-05-21T19:34:35.561Z"
   },
   {
    "duration": 2,
    "start_time": "2024-05-21T19:34:36.008Z"
   },
   {
    "duration": 406,
    "start_time": "2024-05-21T19:34:36.012Z"
   },
   {
    "duration": 104,
    "start_time": "2024-05-21T19:34:36.420Z"
   },
   {
    "duration": 139,
    "start_time": "2024-05-21T19:34:36.525Z"
   },
   {
    "duration": 70,
    "start_time": "2024-05-21T19:34:36.665Z"
   },
   {
    "duration": 23,
    "start_time": "2024-05-21T19:34:36.736Z"
   },
   {
    "duration": 17,
    "start_time": "2024-05-21T19:34:36.761Z"
   },
   {
    "duration": 17,
    "start_time": "2024-05-21T19:34:36.780Z"
   },
   {
    "duration": 7,
    "start_time": "2024-05-21T19:34:36.799Z"
   },
   {
    "duration": 21,
    "start_time": "2024-05-21T19:34:36.808Z"
   },
   {
    "duration": 4,
    "start_time": "2024-05-21T19:34:36.831Z"
   },
   {
    "duration": 10,
    "start_time": "2024-05-21T19:34:36.837Z"
   },
   {
    "duration": 8,
    "start_time": "2024-05-21T19:34:36.869Z"
   },
   {
    "duration": 16,
    "start_time": "2024-05-21T19:34:36.879Z"
   },
   {
    "duration": 23,
    "start_time": "2024-05-21T19:34:36.897Z"
   },
   {
    "duration": 14,
    "start_time": "2024-05-21T19:34:36.922Z"
   },
   {
    "duration": 26,
    "start_time": "2024-05-21T19:34:36.938Z"
   },
   {
    "duration": 5,
    "start_time": "2024-05-21T19:34:36.966Z"
   },
   {
    "duration": 11,
    "start_time": "2024-05-21T19:34:36.973Z"
   },
   {
    "duration": 15,
    "start_time": "2024-05-21T19:34:36.986Z"
   },
   {
    "duration": 5,
    "start_time": "2024-05-21T19:34:37.002Z"
   },
   {
    "duration": 5,
    "start_time": "2024-05-21T19:34:37.009Z"
   },
   {
    "duration": 6,
    "start_time": "2024-05-21T19:34:37.016Z"
   },
   {
    "duration": 8,
    "start_time": "2024-05-21T19:34:37.023Z"
   },
   {
    "duration": 172,
    "start_time": "2024-05-21T19:34:37.033Z"
   },
   {
    "duration": 4,
    "start_time": "2024-05-21T19:34:37.206Z"
   },
   {
    "duration": 5,
    "start_time": "2024-05-21T19:34:37.213Z"
   },
   {
    "duration": 5,
    "start_time": "2024-05-21T19:34:37.220Z"
   },
   {
    "duration": 134,
    "start_time": "2024-05-21T19:34:37.227Z"
   },
   {
    "duration": 14,
    "start_time": "2024-05-21T19:34:37.363Z"
   },
   {
    "duration": 38,
    "start_time": "2024-05-21T19:34:37.379Z"
   },
   {
    "duration": 192,
    "start_time": "2024-05-21T19:34:37.418Z"
   },
   {
    "duration": 8,
    "start_time": "2024-05-21T19:34:37.611Z"
   },
   {
    "duration": 303,
    "start_time": "2024-05-21T19:34:37.620Z"
   },
   {
    "duration": 8,
    "start_time": "2024-05-21T19:34:37.925Z"
   },
   {
    "duration": 182,
    "start_time": "2024-05-21T19:34:37.935Z"
   },
   {
    "duration": 8,
    "start_time": "2024-05-21T19:34:38.118Z"
   },
   {
    "duration": 11,
    "start_time": "2024-05-21T19:34:38.128Z"
   },
   {
    "duration": 11,
    "start_time": "2024-05-21T19:34:38.141Z"
   },
   {
    "duration": 24,
    "start_time": "2024-05-21T19:34:38.153Z"
   },
   {
    "duration": 18,
    "start_time": "2024-05-21T19:34:38.179Z"
   },
   {
    "duration": 13,
    "start_time": "2024-05-21T19:34:38.198Z"
   },
   {
    "duration": 9,
    "start_time": "2024-05-21T19:34:38.212Z"
   },
   {
    "duration": 13,
    "start_time": "2024-05-21T19:34:38.222Z"
   },
   {
    "duration": 34,
    "start_time": "2024-05-21T19:34:38.237Z"
   },
   {
    "duration": 13,
    "start_time": "2024-05-21T19:34:38.272Z"
   },
   {
    "duration": 262,
    "start_time": "2024-05-21T19:34:38.287Z"
   },
   {
    "duration": 9,
    "start_time": "2024-05-21T19:34:38.550Z"
   },
   {
    "duration": 184,
    "start_time": "2024-05-21T19:34:38.560Z"
   },
   {
    "duration": 8,
    "start_time": "2024-05-21T19:34:38.746Z"
   },
   {
    "duration": 15,
    "start_time": "2024-05-21T19:34:38.756Z"
   },
   {
    "duration": 16,
    "start_time": "2024-05-21T19:34:38.773Z"
   },
   {
    "duration": 278,
    "start_time": "2024-05-21T19:34:38.791Z"
   },
   {
    "duration": 9,
    "start_time": "2024-05-21T19:34:39.071Z"
   },
   {
    "duration": 194,
    "start_time": "2024-05-21T19:34:39.082Z"
   },
   {
    "duration": 9,
    "start_time": "2024-05-21T19:34:39.278Z"
   },
   {
    "duration": 23,
    "start_time": "2024-05-21T19:34:39.289Z"
   },
   {
    "duration": 3,
    "start_time": "2024-05-21T19:34:39.314Z"
   },
   {
    "duration": 20,
    "start_time": "2024-05-21T19:34:39.318Z"
   },
   {
    "duration": 8,
    "start_time": "2024-05-21T19:34:39.340Z"
   },
   {
    "duration": 170,
    "start_time": "2024-05-21T19:34:39.350Z"
   },
   {
    "duration": 10,
    "start_time": "2024-05-21T19:34:39.522Z"
   },
   {
    "duration": 650,
    "start_time": "2024-05-21T19:34:39.533Z"
   },
   {
    "duration": 5,
    "start_time": "2024-05-21T19:34:40.185Z"
   },
   {
    "duration": 8,
    "start_time": "2024-05-21T19:34:40.191Z"
   },
   {
    "duration": 14,
    "start_time": "2024-05-21T19:34:40.201Z"
   },
   {
    "duration": 50,
    "start_time": "2024-10-22T15:26:59.805Z"
   }
  ],
  "kernelspec": {
   "display_name": "Python 3",
   "language": "python",
   "name": "python3"
  },
  "language_info": {
   "codemirror_mode": {
    "name": "ipython",
    "version": 3
   },
   "file_extension": ".py",
   "mimetype": "text/x-python",
   "name": "python",
   "nbconvert_exporter": "python",
   "pygments_lexer": "ipython3",
   "version": "3.13.1"
  },
  "toc": {
   "base_numbering": 1,
   "nav_menu": {},
   "number_sections": true,
   "sideBar": true,
   "skip_h1_title": true,
   "title_cell": "Table of Contents",
   "title_sidebar": "Contents",
   "toc_cell": false,
   "toc_position": {},
   "toc_section_display": true,
   "toc_window_display": false
  }
 },
 "nbformat": 4,
 "nbformat_minor": 5
}
